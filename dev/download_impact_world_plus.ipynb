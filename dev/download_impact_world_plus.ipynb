{
 "cells": [
  {
   "metadata": {},
   "cell_type": "markdown",
   "source": [
    "# Download IMPACT World+ methods in your project\n",
    "Download the .bw2package files of IMPACT World+ from [mescal repository](https://github.com/matthieu-str/mescal/tree/master/dev/lcia) or directly from [Zenodo](https://zenodo.org/records/14041258). Store them in a folder called `lcia` and run the following cells:"
   ],
   "id": "cb0ef9446d90c7e6"
  },
  {
   "metadata": {
    "ExecuteTime": {
     "end_time": "2025-02-28T21:03:27.658396Z",
     "start_time": "2025-02-28T21:03:23.903908Z"
    }
   },
   "cell_type": "code",
   "source": [
    "import bw2data as bd\n",
    "import bw2io as bi"
   ],
   "id": "2513ed7e392e151f",
   "outputs": [],
   "execution_count": 1
  },
  {
   "metadata": {
    "ExecuteTime": {
     "end_time": "2025-02-28T21:03:27.666904Z",
     "start_time": "2025-02-28T21:03:27.660404Z"
    }
   },
   "cell_type": "code",
   "source": [
    "ei_version = '3.9.1'\n",
    "IW_version = '2.1'"
   ],
   "id": "9dea58407486131b",
   "outputs": [],
   "execution_count": 2
  },
  {
   "metadata": {
    "ExecuteTime": {
     "end_time": "2025-02-28T21:03:27.832763Z",
     "start_time": "2025-02-28T21:03:27.668655Z"
    }
   },
   "cell_type": "code",
   "source": [
    "# Set up your Brightway project\n",
    "bd.projects.set_current(f'ecoinvent{ei_version}') # put the name of your brightway project here"
   ],
   "id": "bb4302ea07ca6d0c",
   "outputs": [],
   "execution_count": 3
  },
  {
   "metadata": {},
   "cell_type": "markdown",
   "source": "## Expert version (midpoints + endpoints)",
   "id": "fdccce2d3a085630"
  },
  {
   "metadata": {
    "ExecuteTime": {
     "end_time": "2025-02-28T21:03:35.559819Z",
     "start_time": "2025-02-28T21:03:27.832763Z"
    }
   },
   "cell_type": "code",
   "source": [
    "if IW_version == '2.1':\n",
    "    if '3.10' in ei_version:\n",
    "        bi.BW2Package.import_file(\"lcia/impact_world_plus_21_brightway2_expert_version_ei310.5535d12bedce3770ffef004e84229fd1.bw2package\")\n",
    "    elif '3.9' in ei_version:\n",
    "        bi.BW2Package.import_file(\"lcia/impact_world_plus_21_brightway2_expert_version_ei39.6cd1745d7173fc689a3cc8c44fd3e41d.bw2package\")\n",
    "elif IW_version == '2.0.1':\n",
    "    bi.BW2Package.import_file(\"lcia/impact_world_plus_201_brightway2_expert_version.e2a8415edfe998674fba2e09bddfd831.bw2package\")"
   ],
   "id": "bc81376de981c418",
   "outputs": [],
   "execution_count": 4
  },
  {
   "metadata": {},
   "cell_type": "markdown",
   "source": "## Footprint version",
   "id": "65e4ad068a141fc6"
  },
  {
   "metadata": {
    "ExecuteTime": {
     "end_time": "2025-02-28T21:03:36.394909Z",
     "start_time": "2025-02-28T21:03:35.559819Z"
    }
   },
   "cell_type": "code",
   "source": [
    "if IW_version == '2.1':\n",
    "    if '3.10' in ei_version:\n",
    "        bi.BW2Package.import_file(\"lcia/impact_world_plus_21_brightway2_footprint_version_ei310.a7763e0d1b0d9263f49a7021cab8ef03.bw2package\")\n",
    "    elif '3.9' in ei_version:\n",
    "        bi.BW2Package.import_file(\"lcia/impact_world_plus_21_brightway2_footprint_version_ei39.fcfdfe7f6cab324019dc181525db2f39.bw2package\")\n",
    "elif IW_version == '2.0.1':\n",
    "    bi.BW2Package.import_file(\"lcia/impact_world_plus_201_brightway2_footprint_version.65d924f7a164e454e0e98120f3b6841d.bw2package\")"
   ],
   "id": "9639b49369dffab0",
   "outputs": [],
   "execution_count": 5
  }
 ],
 "metadata": {
  "kernelspec": {
   "display_name": "Python 3",
   "language": "python",
   "name": "python3"
  },
  "language_info": {
   "codemirror_mode": {
    "name": "ipython",
    "version": 2
   },
   "file_extension": ".py",
   "mimetype": "text/x-python",
   "name": "python",
   "nbconvert_exporter": "python",
   "pygments_lexer": "ipython2",
   "version": "2.7.6"
  }
 },
 "nbformat": 4,
 "nbformat_minor": 5
}
