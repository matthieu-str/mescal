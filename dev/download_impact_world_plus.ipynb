{
 "cells": [
  {
   "metadata": {},
   "cell_type": "markdown",
   "source": [
    "# Download IMPACT World+ methods in your project\n",
    "Download the .bw2package files of IMPACT World+ from [mescal repository](https://github.com/matthieu-str/mescal/tree/master/dev/lcia) or directly from [Zenodo](https://zenodo.org/records/14041258). Store them in a folder called `lcia` and run the following cells:"
   ],
   "id": "cb0ef9446d90c7e6"
  },
  {
   "metadata": {
    "ExecuteTime": {
     "end_time": "2024-12-12T16:20:44.293840Z",
     "start_time": "2024-12-12T16:20:39.044403Z"
    }
   },
   "cell_type": "code",
   "source": [
    "import bw2data as bd\n",
    "import bw2io as bi"
   ],
   "id": "2513ed7e392e151f",
   "outputs": [],
   "execution_count": 1
  },
  {
   "metadata": {
    "ExecuteTime": {
     "end_time": "2024-12-12T16:20:44.509177Z",
     "start_time": "2024-12-12T16:20:44.293840Z"
    }
   },
   "cell_type": "code",
   "source": [
    "# Set up your Brightway project\n",
    "bd.projects.set_current('ecoinvent3.10.1') # put the name of your brightway project here"
   ],
   "id": "bb4302ea07ca6d0c",
   "outputs": [],
   "execution_count": 2
  },
  {
   "metadata": {},
   "cell_type": "markdown",
   "source": "## Expert version (midpoints + endpoints)",
   "id": "fdccce2d3a085630"
  },
  {
   "metadata": {
    "ExecuteTime": {
     "end_time": "2024-12-12T16:20:54.291334Z",
     "start_time": "2024-12-12T16:20:44.509177Z"
    }
   },
   "cell_type": "code",
   "source": "bi.BW2Package.import_file(\"lcia/impact_world_plus_21_brightway2_expert_version_ei310.5535d12bedce3770ffef004e84229fd1.bw2package\") # select your file depending on the version of IW+ you wish to have and your version of ecoinvent ",
   "id": "bc81376de981c418",
   "outputs": [
    {
     "data": {
      "text/plain": [
       "[Brightway2 Method: IMPACT World+ Damage 2.1 for ecoinvent v3.10: Ecosystem quality: Climate change, ecosystem quality, long term,\n",
       " Brightway2 Method: IMPACT World+ Damage 2.1 for ecoinvent v3.10: Ecosystem quality: Climate change, ecosystem quality, short term,\n",
       " Brightway2 Method: IMPACT World+ Damage 2.1 for ecoinvent v3.10: Human health: Climate change, human health, long term,\n",
       " Brightway2 Method: IMPACT World+ Damage 2.1 for ecoinvent v3.10: Human health: Climate change, human health, short term,\n",
       " Brightway2 Method: IMPACT World+ Midpoint 2.1 for ecoinvent v3.10: Midpoint: Climate change, long term,\n",
       " Brightway2 Method: IMPACT World+ Midpoint 2.1 for ecoinvent v3.10: Midpoint: Climate change, short term,\n",
       " Brightway2 Method: IMPACT World+ Damage 2.1 for ecoinvent v3.10: Ecosystem quality: Fisheries impact,\n",
       " Brightway2 Method: IMPACT World+ Midpoint 2.1 for ecoinvent v3.10: Midpoint: Fossil and nuclear energy use,\n",
       " Brightway2 Method: IMPACT World+ Midpoint 2.1 for ecoinvent v3.10: Midpoint: Freshwater acidification,\n",
       " Brightway2 Method: IMPACT World+ Damage 2.1 for ecoinvent v3.10: Ecosystem quality: Freshwater acidification,\n",
       " Brightway2 Method: IMPACT World+ Midpoint 2.1 for ecoinvent v3.10: Midpoint: Freshwater ecotoxicity,\n",
       " Brightway2 Method: IMPACT World+ Damage 2.1 for ecoinvent v3.10: Ecosystem quality: Freshwater ecotoxicity, long term,\n",
       " Brightway2 Method: IMPACT World+ Damage 2.1 for ecoinvent v3.10: Ecosystem quality: Freshwater ecotoxicity, short term,\n",
       " Brightway2 Method: IMPACT World+ Midpoint 2.1 for ecoinvent v3.10: Midpoint: Freshwater eutrophication,\n",
       " Brightway2 Method: IMPACT World+ Damage 2.1 for ecoinvent v3.10: Ecosystem quality: Freshwater eutrophication,\n",
       " Brightway2 Method: IMPACT World+ Midpoint 2.1 for ecoinvent v3.10: Midpoint: Human toxicity cancer,\n",
       " Brightway2 Method: IMPACT World+ Damage 2.1 for ecoinvent v3.10: Human health: Human toxicity cancer, long term,\n",
       " Brightway2 Method: IMPACT World+ Damage 2.1 for ecoinvent v3.10: Human health: Human toxicity cancer, short term,\n",
       " Brightway2 Method: IMPACT World+ Midpoint 2.1 for ecoinvent v3.10: Midpoint: Human toxicity non-cancer,\n",
       " Brightway2 Method: IMPACT World+ Damage 2.1 for ecoinvent v3.10: Human health: Human toxicity non-cancer, long term,\n",
       " Brightway2 Method: IMPACT World+ Damage 2.1 for ecoinvent v3.10: Human health: Human toxicity non-cancer, short term,\n",
       " Brightway2 Method: IMPACT World+ Midpoint 2.1 for ecoinvent v3.10: Midpoint: Ionizing radiations,\n",
       " Brightway2 Method: IMPACT World+ Damage 2.1 for ecoinvent v3.10: Ecosystem quality: Ionizing radiations, ecosystem quality,\n",
       " Brightway2 Method: IMPACT World+ Damage 2.1 for ecoinvent v3.10: Human health: Ionizing radiations, human health,\n",
       " Brightway2 Method: IMPACT World+ Midpoint 2.1 for ecoinvent v3.10: Midpoint: Land occupation, biodiversity,\n",
       " Brightway2 Method: IMPACT World+ Damage 2.1 for ecoinvent v3.10: Ecosystem quality: Land occupation, biodiversity,\n",
       " Brightway2 Method: IMPACT World+ Midpoint 2.1 for ecoinvent v3.10: Midpoint: Land transformation, biodiversity,\n",
       " Brightway2 Method: IMPACT World+ Damage 2.1 for ecoinvent v3.10: Ecosystem quality: Land transformation, biodiversity,\n",
       " Brightway2 Method: IMPACT World+ Damage 2.1 for ecoinvent v3.10: Ecosystem quality: Marine acidification, long term,\n",
       " Brightway2 Method: IMPACT World+ Damage 2.1 for ecoinvent v3.10: Ecosystem quality: Marine acidification, short term,\n",
       " Brightway2 Method: IMPACT World+ Damage 2.1 for ecoinvent v3.10: Ecosystem quality: Marine ecotoxicity, long term,\n",
       " Brightway2 Method: IMPACT World+ Damage 2.1 for ecoinvent v3.10: Ecosystem quality: Marine ecotoxicity, short term,\n",
       " Brightway2 Method: IMPACT World+ Midpoint 2.1 for ecoinvent v3.10: Midpoint: Marine eutrophication,\n",
       " Brightway2 Method: IMPACT World+ Damage 2.1 for ecoinvent v3.10: Ecosystem quality: Marine eutrophication,\n",
       " Brightway2 Method: IMPACT World+ Midpoint 2.1 for ecoinvent v3.10: Midpoint: Mineral resources use,\n",
       " Brightway2 Method: IMPACT World+ Midpoint 2.1 for ecoinvent v3.10: Midpoint: Ozone layer depletion,\n",
       " Brightway2 Method: IMPACT World+ Damage 2.1 for ecoinvent v3.10: Human health: Ozone layer depletion,\n",
       " Brightway2 Method: IMPACT World+ Midpoint 2.1 for ecoinvent v3.10: Midpoint: Particulate matter formation,\n",
       " Brightway2 Method: IMPACT World+ Damage 2.1 for ecoinvent v3.10: Human health: Particulate matter formation,\n",
       " Brightway2 Method: IMPACT World+ Midpoint 2.1 for ecoinvent v3.10: Midpoint: Photochemical ozone formation,\n",
       " Brightway2 Method: IMPACT World+ Damage 2.1 for ecoinvent v3.10: Ecosystem quality: Photochemical ozone formation, ecosystem quality,\n",
       " Brightway2 Method: IMPACT World+ Damage 2.1 for ecoinvent v3.10: Human health: Photochemical ozone formation, human health,\n",
       " Brightway2 Method: IMPACT World+ Midpoint 2.1 for ecoinvent v3.10: Midpoint: Terrestrial acidification,\n",
       " Brightway2 Method: IMPACT World+ Damage 2.1 for ecoinvent v3.10: Ecosystem quality: Terrestrial acidification,\n",
       " Brightway2 Method: IMPACT World+ Damage 2.1 for ecoinvent v3.10: Ecosystem quality: Terrestrial ecotoxicity, long term,\n",
       " Brightway2 Method: IMPACT World+ Damage 2.1 for ecoinvent v3.10: Ecosystem quality: Terrestrial ecotoxicity, short term,\n",
       " Brightway2 Method: IMPACT World+ Damage 2.1 for ecoinvent v3.10: Ecosystem quality: Thermally polluted water,\n",
       " Brightway2 Method: IMPACT World+ Damage 2.1 for ecoinvent v3.10: Ecosystem quality: Water availability, freshwater ecosystem,\n",
       " Brightway2 Method: IMPACT World+ Damage 2.1 for ecoinvent v3.10: Human health: Water availability, human health,\n",
       " Brightway2 Method: IMPACT World+ Damage 2.1 for ecoinvent v3.10: Ecosystem quality: Water availability, terrestrial ecosystem,\n",
       " Brightway2 Method: IMPACT World+ Midpoint 2.1 for ecoinvent v3.10: Midpoint: Water scarcity,\n",
       " Brightway2 Method: IMPACT World+ Damage 2.1 for ecoinvent v3.10: Human health: Total human health,\n",
       " Brightway2 Method: IMPACT World+ Damage 2.1 for ecoinvent v3.10: Ecosystem quality: Total ecosystem quality]"
      ]
     },
     "execution_count": 3,
     "metadata": {},
     "output_type": "execute_result"
    }
   ],
   "execution_count": 3
  },
  {
   "metadata": {},
   "cell_type": "markdown",
   "source": "## Footprint version",
   "id": "65e4ad068a141fc6"
  },
  {
   "metadata": {
    "ExecuteTime": {
     "end_time": "2024-12-12T16:20:55.223802Z",
     "start_time": "2024-12-12T16:20:54.291334Z"
    }
   },
   "cell_type": "code",
   "source": "bi.BW2Package.import_file(\"lcia/impact_world_plus_21_brightway2_footprint_version_ei310.a7763e0d1b0d9263f49a7021cab8ef03.bw2package\") # select your file depending on the version of IW+ you wish to have and your version of ecoinvent ",
   "id": "9639b49369dffab0",
   "outputs": [
    {
     "data": {
      "text/plain": [
       "[Brightway2 Method: IMPACT World+ Footprint 2.1 for ecoinvent v3.10: Carbon footprint,\n",
       " Brightway2 Method: IMPACT World+ Footprint 2.1 for ecoinvent v3.10: Energetic resource depletion,\n",
       " Brightway2 Method: IMPACT World+ Footprint 2.1 for ecoinvent v3.10: Water footprint - Scarcity,\n",
       " Brightway2 Method: IMPACT World+ Footprint 2.1 for ecoinvent v3.10: Human health (residual),\n",
       " Brightway2 Method: IMPACT World+ Footprint 2.1 for ecoinvent v3.10: Ecosystem quality (residual)]"
      ]
     },
     "execution_count": 4,
     "metadata": {},
     "output_type": "execute_result"
    }
   ],
   "execution_count": 4
  }
 ],
 "metadata": {
  "kernelspec": {
   "display_name": "Python 3",
   "language": "python",
   "name": "python3"
  },
  "language_info": {
   "codemirror_mode": {
    "name": "ipython",
    "version": 2
   },
   "file_extension": ".py",
   "mimetype": "text/x-python",
   "name": "python",
   "nbconvert_exporter": "python",
   "pygments_lexer": "ipython2",
   "version": "2.7.6"
  }
 },
 "nbformat": 4,
 "nbformat_minor": 5
}
