{
 "cells": [
  {
   "metadata": {},
   "cell_type": "markdown",
   "source": [
    "# Download IMPACT World+ methods in your project\n",
    "Download the .bw2package files of IMPACT World+ from [mescal repository](https://github.com/matthieu-str/mescal/tree/master/dev/lcia) or directly from [Zenodo](https://zenodo.org/records/8200703). Store them in a folder called `lcia` and run the following cells:"
   ],
   "id": "cb0ef9446d90c7e6"
  },
  {
   "metadata": {
    "ExecuteTime": {
     "end_time": "2024-07-08T14:23:36.903326Z",
     "start_time": "2024-07-08T14:23:32.962115Z"
    }
   },
   "cell_type": "code",
   "source": [
    "import bw2data as bd\n",
    "import bw2io as bi"
   ],
   "id": "2513ed7e392e151f",
   "outputs": [],
   "execution_count": 1
  },
  {
   "metadata": {
    "ExecuteTime": {
     "end_time": "2024-07-08T14:23:37.189540Z",
     "start_time": "2024-07-08T14:23:36.903326Z"
    }
   },
   "cell_type": "code",
   "source": [
    "# Set up your Brightway project\n",
    "bd.projects.set_current('ecoinvent3.9.1') # put the name of your brightway project here"
   ],
   "id": "bb4302ea07ca6d0c",
   "outputs": [],
   "execution_count": 2
  },
  {
   "metadata": {},
   "cell_type": "markdown",
   "source": "## Expert version (midpoints + endpoints)",
   "id": "fdccce2d3a085630"
  },
  {
   "metadata": {},
   "cell_type": "code",
   "outputs": [],
   "execution_count": null,
   "source": "bi.BW2Package.import_file(\"lcia/impact_world_plus_201_brightway2_expert_version.e2a8415edfe998674fba2e09bddfd831.bw2package\")",
   "id": "bc81376de981c418"
  },
  {
   "metadata": {},
   "cell_type": "markdown",
   "source": "## Footprint version",
   "id": "65e4ad068a141fc6"
  },
  {
   "metadata": {},
   "cell_type": "code",
   "outputs": [],
   "execution_count": null,
   "source": "bi.BW2Package.import_file(\"lcia/impact_world_plus_201_brightway2_footprint_version.65d924f7a164e454e0e98120f3b6841d.bw2package\")",
   "id": "9639b49369dffab0"
  }
 ],
 "metadata": {
  "kernelspec": {
   "display_name": "Python 3",
   "language": "python",
   "name": "python3"
  },
  "language_info": {
   "codemirror_mode": {
    "name": "ipython",
    "version": 2
   },
   "file_extension": ".py",
   "mimetype": "text/x-python",
   "name": "python",
   "nbconvert_exporter": "python",
   "pygments_lexer": "ipython2",
   "version": "2.7.6"
  }
 },
 "nbformat": 4,
 "nbformat_minor": 5
}
