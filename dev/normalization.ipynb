{
 "cells": [
  {
   "metadata": {},
   "cell_type": "markdown",
   "source": "# Normalization of LCA metrics",
   "id": "694dcaf312b83744"
  },
  {
   "metadata": {
    "ExecuteTime": {
     "end_time": "2024-06-18T19:54:20.356323Z",
     "start_time": "2024-06-18T19:54:14.745209Z"
    }
   },
   "cell_type": "code",
   "source": [
    "import pandas as pd\n",
    "from mescal import *"
   ],
   "id": "a8e6aee7a1886505",
   "outputs": [],
   "execution_count": 1
  },
  {
   "metadata": {
    "ExecuteTime": {
     "end_time": "2024-06-18T19:54:20.475718Z",
     "start_time": "2024-06-18T19:54:20.356323Z"
    }
   },
   "cell_type": "code",
   "source": [
    "lca_metrics = pd.read_csv('energyscope_data/results/impact_scores.csv')\n",
    "impact_abbrev = pd.read_csv('IW+/impact_abbrev.csv')"
   ],
   "id": "f366dc2853306894",
   "outputs": [],
   "execution_count": 2
  },
  {
   "metadata": {
    "ExecuteTime": {
     "end_time": "2024-06-18T19:54:20.484460Z",
     "start_time": "2024-06-18T19:54:20.475718Z"
    }
   },
   "cell_type": "code",
   "source": [
    "results_path = 'energyscope_data/results/'\n",
    "refactor = 1e-2\n",
    "lcia_method = 'IMPACT World+ Damage 2.0.1 - Total only'"
   ],
   "id": "19315eff63bdb5c4",
   "outputs": [],
   "execution_count": 3
  },
  {
   "metadata": {},
   "cell_type": "markdown",
   "source": "## Create the .dat file",
   "id": "6451e79bba0a33bd"
  },
  {
   "metadata": {
    "ExecuteTime": {
     "end_time": "2024-06-18T19:54:21.092273Z",
     "start_time": "2024-06-18T19:54:20.484460Z"
    }
   },
   "cell_type": "code",
   "source": [
    "normalize_lca_metrics(\n",
    "    path=results_path,\n",
    "    R=lca_metrics,\n",
    "    f_norm=1e6,\n",
    "    mip_gap=1e-6,\n",
    "    refactor=refactor,\n",
    "    lcia_method=lcia_method,\n",
    "    impact_abbrev=impact_abbrev\n",
    ")"
   ],
   "id": "a503a4dcea21f532",
   "outputs": [],
   "execution_count": 4
  },
  {
   "metadata": {},
   "cell_type": "markdown",
   "source": "## Create the .mod file",
   "id": "593720cac9627623"
  },
  {
   "metadata": {
    "ExecuteTime": {
     "end_time": "2024-06-18T19:54:21.119163Z",
     "start_time": "2024-06-18T19:54:21.094316Z"
    }
   },
   "cell_type": "code",
   "source": [
    "gen_lcia_obj(\n",
    "    path=results_path,\n",
    "    lcia_method=lcia_method,\n",
    "    refactor=refactor,\n",
    "    impact_abbrev=impact_abbrev\n",
    ")"
   ],
   "id": "8c3d41a557409597",
   "outputs": [],
   "execution_count": 5
  },
  {
   "metadata": {},
   "cell_type": "code",
   "outputs": [],
   "execution_count": null,
   "source": "",
   "id": "f23f253f16dbd92a"
  }
 ],
 "metadata": {
  "kernelspec": {
   "display_name": "Python 3",
   "language": "python",
   "name": "python3"
  },
  "language_info": {
   "codemirror_mode": {
    "name": "ipython",
    "version": 2
   },
   "file_extension": ".py",
   "mimetype": "text/x-python",
   "name": "python",
   "nbconvert_exporter": "python",
   "pygments_lexer": "ipython2",
   "version": "2.7.6"
  }
 },
 "nbformat": 4,
 "nbformat_minor": 5
}
