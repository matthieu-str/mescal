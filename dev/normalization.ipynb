{
 "cells": [
  {
   "metadata": {},
   "cell_type": "markdown",
   "source": "# Normalization of LCA metrics",
   "id": "694dcaf312b83744"
  },
  {
   "metadata": {
    "ExecuteTime": {
     "end_time": "2024-06-18T19:21:52.079325Z",
     "start_time": "2024-06-18T19:21:46.991814Z"
    }
   },
   "cell_type": "code",
   "source": [
    "import pandas as pd\n",
    "from mescal import *"
   ],
   "id": "a8e6aee7a1886505",
   "outputs": [],
   "execution_count": 1
  },
  {
   "metadata": {
    "ExecuteTime": {
     "end_time": "2024-06-18T19:21:52.186533Z",
     "start_time": "2024-06-18T19:21:52.079325Z"
    }
   },
   "cell_type": "code",
   "source": [
    "lca_metrics = pd.read_csv('energyscope_data/results/impact_scores.csv')\n",
    "impact_abbrev = pd.read_csv('IW+/impact_abbrev.csv')"
   ],
   "id": "f366dc2853306894",
   "outputs": [],
   "execution_count": 2
  },
  {
   "metadata": {
    "ExecuteTime": {
     "end_time": "2024-06-18T19:21:54.000139Z",
     "start_time": "2024-06-18T19:21:52.186533Z"
    }
   },
   "cell_type": "code",
   "source": [
    "normalize_lca_metrics(\n",
    "    path=\"energyscope_data/results/\",\n",
    "    R=lca_metrics,\n",
    "    f_norm=1e6,\n",
    "    mip_gap=1e-6,\n",
    "    refactor=1e-2,\n",
    "    lcia_method='IMPACT World+ Damage 2.0.1',\n",
    "    impact_abbrev=impact_abbrev\n",
    ")"
   ],
   "id": "a503a4dcea21f532",
   "outputs": [],
   "execution_count": 3
  },
  {
   "metadata": {},
   "cell_type": "code",
   "outputs": [],
   "execution_count": null,
   "source": "",
   "id": "9fe32f66712e74d9"
  }
 ],
 "metadata": {
  "kernelspec": {
   "display_name": "Python 3",
   "language": "python",
   "name": "python3"
  },
  "language_info": {
   "codemirror_mode": {
    "name": "ipython",
    "version": 2
   },
   "file_extension": ".py",
   "mimetype": "text/x-python",
   "name": "python",
   "nbconvert_exporter": "python",
   "pygments_lexer": "ipython2",
   "version": "2.7.6"
  }
 },
 "nbformat": 4,
 "nbformat_minor": 5
}
