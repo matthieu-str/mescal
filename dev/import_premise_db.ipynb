{
 "cells": [
  {
   "metadata": {},
   "cell_type": "markdown",
   "source": "# Import a premise database",
   "id": "2389d916f8ff96c5"
  },
  {
   "metadata": {
    "ExecuteTime": {
     "end_time": "2024-11-08T15:44:16.153489Z",
     "start_time": "2024-11-08T15:43:49.812105Z"
    }
   },
   "cell_type": "code",
   "source": [
    "import bw2data as bd\n",
    "from premise import *"
   ],
   "id": "2e0b16b355f57b62",
   "outputs": [],
   "execution_count": 1
  },
  {
   "metadata": {
    "ExecuteTime": {
     "end_time": "2024-11-08T15:44:16.165472Z",
     "start_time": "2024-11-08T15:44:16.154001Z"
    }
   },
   "cell_type": "code",
   "source": "ei_version = '3.9.1'",
   "id": "75bf0622913320b0",
   "outputs": [],
   "execution_count": 2
  },
  {
   "metadata": {
    "ExecuteTime": {
     "end_time": "2024-11-08T15:44:16.175461Z",
     "start_time": "2024-11-08T15:44:16.168933Z"
    }
   },
   "cell_type": "code",
   "source": "ei_db_name = f\"ecoinvent-{ei_version}-cutoff\"",
   "id": "8df89ab3f5b63239",
   "outputs": [],
   "execution_count": 3
  },
  {
   "metadata": {
    "ExecuteTime": {
     "end_time": "2024-11-08T15:44:16.791865Z",
     "start_time": "2024-11-08T15:44:16.178831Z"
    }
   },
   "cell_type": "code",
   "source": "bd.projects.set_current(f'ecoinvent{ei_version}A')",
   "id": "e77d8e11287f1b00",
   "outputs": [],
   "execution_count": 4
  },
  {
   "metadata": {
    "ExecuteTime": {
     "end_time": "2024-11-08T15:44:16.804904Z",
     "start_time": "2024-11-08T15:44:16.794718Z"
    }
   },
   "cell_type": "code",
   "source": [
    "model = 'remind'\n",
    "pathway = 'SSP2-Base'"
   ],
   "id": "a96f00d3cc03b8bb",
   "outputs": [],
   "execution_count": 5
  },
  {
   "metadata": {
    "ExecuteTime": {
     "end_time": "2024-11-08T15:44:16.829971Z",
     "start_time": "2024-11-08T15:44:16.806785Z"
    }
   },
   "cell_type": "code",
   "source": [
    "# Clear cache is encouraged if updating premise or if encountering issues with inventories\n",
    "clear_cache()"
   ],
   "id": "d607291237c37faf",
   "outputs": [
    {
     "name": "stdout",
     "output_type": "stream",
     "text": [
      "Cache folder cleared!\n"
     ]
    }
   ],
   "execution_count": 6
  },
  {
   "metadata": {
    "ExecuteTime": {
     "end_time": "2024-11-08T15:47:41.649961Z",
     "start_time": "2024-11-08T15:44:16.833366Z"
    }
   },
   "cell_type": "code",
   "source": [
    "ndb = NewDatabase(\n",
    "    scenarios=[\n",
    "        {\"model\":model, \"pathway\":pathway, \"year\":2020},\n",
    "        {\"model\":model, \"pathway\":pathway, \"year\":2050},\n",
    "    ],\n",
    "    source_db=ei_db_name,\n",
    "    source_version=ei_version,\n",
    "    key='xxx',\n",
    "    biosphere_name='biosphere3',\n",
    ")"
   ],
   "id": "d1ede9586993b0d4",
   "outputs": [
    {
     "name": "stdout",
     "output_type": "stream",
     "text": [
      "premise v.(2, 1, 5)\n",
      "+------------------------------------------------------------------+\n",
      "| Warning                                                          |\n",
      "+------------------------------------------------------------------+\n",
      "| Because some of the scenarios can yield LCI databases            |\n",
      "| containing net negative emission technologies (NET),             |\n",
      "| it is advised to account for biogenic CO2 flows when calculating |\n",
      "| Global Warming potential indicators.                             |\n",
      "| `premise_gwp` provides characterization factors for such flows.  |\n",
      "| It also provides factors for hydrogen emissions to air.          |\n",
      "|                                                                  |\n",
      "| Within your bw2 project:                                         |\n",
      "| from premise_gwp import add_premise_gwp                          |\n",
      "| add_premise_gwp()                                                |\n",
      "+------------------------------------------------------------------+\n",
      "+--------------------------------+----------------------------------+\n",
      "| Utils functions                | Description                      |\n",
      "+--------------------------------+----------------------------------+\n",
      "| clear_cache()                  | Clears the cache folder. Useful  |\n",
      "|                                | when updating `premise`or        |\n",
      "|                                | encountering issues with         |\n",
      "|                                | inventories.                     |\n",
      "+--------------------------------+----------------------------------+\n",
      "| get_regions_definition(model)  | Retrieves the list of countries  |\n",
      "|                                | for each region of the model.    |\n",
      "+--------------------------------+----------------------------------+\n",
      "| ndb.NewDatabase(...)           | Generates a summary of the most  |\n",
      "| ndb.generate_scenario_report() | important scenarios' variables.  |\n",
      "+--------------------------------+----------------------------------+\n",
      "Keep uncertainty data?\n",
      "NewDatabase(..., keep_source_db_uncertainty=True), keep_imports_uncertainty=True)\n",
      "\n",
      "Hide these messages?\n",
      "NewDatabase(..., quiet=True)\n",
      "- Extracting source database\n",
      "Cannot find cached database. Will create one now for next time...\n",
      "Getting activity data\n"
     ]
    },
    {
     "name": "stderr",
     "output_type": "stream",
     "text": [
      "100%|██████████| 21238/21238 [00:00<00:00, 92378.19it/s]\n"
     ]
    },
    {
     "name": "stdout",
     "output_type": "stream",
     "text": [
      "Adding exchange data to activities\n"
     ]
    },
    {
     "name": "stderr",
     "output_type": "stream",
     "text": [
      "100%|██████████| 674593/674593 [01:34<00:00, 7141.96it/s] \n"
     ]
    },
    {
     "name": "stdout",
     "output_type": "stream",
     "text": [
      "Filling out exchange data\n"
     ]
    },
    {
     "name": "stderr",
     "output_type": "stream",
     "text": [
      "100%|██████████| 21238/21238 [00:04<00:00, 4427.34it/s]\n"
     ]
    },
    {
     "name": "stdout",
     "output_type": "stream",
     "text": [
      "Set missing location of datasets to global scope.\n",
      "Set missing location of production exchanges to scope of dataset.\n",
      "Correct missing location of technosphere exchanges.\n",
      "Correct missing flow categories for biosphere exchanges\n",
      "Remove empty exchanges.\n",
      "Remove uncertainty data.\n",
      "- Extracting inventories\n",
      "Cannot find cached inventories. Will create them now for next time...\n",
      "Importing default inventories...\n",
      "\n",
      "Extracted 1 worksheets in 0.74 seconds\n",
      "Migrating to 3.8 first\n",
      "Applying strategy: migrate_datasets\n",
      "Applying strategy: migrate_exchanges\n",
      "Applying strategy: migrate_datasets\n",
      "Applying strategy: migrate_exchanges\n",
      "Applying strategy: migrate_datasets\n",
      "Applying strategy: migrate_exchanges\n",
      "Remove uncertainty data.\n",
      "Extracted 1 worksheets in 0.07 seconds\n",
      "Migrating to 3.8 first\n",
      "Applying strategy: migrate_datasets\n",
      "Applying strategy: migrate_exchanges\n",
      "Applying strategy: migrate_datasets\n",
      "Applying strategy: migrate_exchanges\n",
      "Applying strategy: migrate_datasets\n",
      "Applying strategy: migrate_exchanges\n",
      "Remove uncertainty data.\n",
      "Extracted 1 worksheets in 0.03 seconds\n",
      "Migrating to 3.8 first\n",
      "Applying strategy: migrate_datasets\n",
      "Applying strategy: migrate_exchanges\n",
      "Applying strategy: migrate_datasets\n",
      "Applying strategy: migrate_exchanges\n",
      "Applying strategy: migrate_datasets\n",
      "Applying strategy: migrate_exchanges\n",
      "Remove uncertainty data.\n",
      "Extracted 1 worksheets in 0.08 seconds\n",
      "Remove uncertainty data.\n",
      "Extracted 1 worksheets in 0.04 seconds\n",
      "Migrating to 3.8 first\n",
      "Applying strategy: migrate_datasets\n",
      "Applying strategy: migrate_exchanges\n",
      "Applying strategy: migrate_datasets\n",
      "Applying strategy: migrate_exchanges\n",
      "Applying strategy: migrate_datasets\n",
      "Applying strategy: migrate_exchanges\n",
      "Remove uncertainty data.\n",
      "Extracted 4 worksheets in 0.67 seconds\n",
      "Applying strategy: migrate_datasets\n",
      "Applying strategy: migrate_exchanges\n",
      "Remove uncertainty data.\n",
      "Extracted 1 worksheets in 0.05 seconds\n",
      "Remove uncertainty data.\n",
      "Extracted 7 worksheets in 0.12 seconds\n",
      "Applying strategy: migrate_datasets\n",
      "Applying strategy: migrate_exchanges\n",
      "Remove uncertainty data.\n",
      "Extracted 1 worksheets in 0.09 seconds\n",
      "Applying strategy: migrate_datasets\n",
      "Applying strategy: migrate_exchanges\n",
      "Remove uncertainty data.\n",
      "Extracted 1 worksheets in 0.04 seconds\n",
      "Applying strategy: migrate_datasets\n",
      "Applying strategy: migrate_exchanges\n",
      "Remove uncertainty data.\n",
      "Extracted 1 worksheets in 0.11 seconds\n",
      "Applying strategy: migrate_datasets\n",
      "Applying strategy: migrate_exchanges\n",
      "Remove uncertainty data.\n",
      "Extracted 1 worksheets in 0.11 seconds\n",
      "Remove uncertainty data.\n",
      "Extracted 1 worksheets in 0.06 seconds\n",
      "Remove uncertainty data.\n",
      "Extracted 1 worksheets in 0.14 seconds\n",
      "Remove uncertainty data.\n",
      "Extracted 1 worksheets in 0.08 seconds\n",
      "Remove uncertainty data.\n",
      "Extracted 1 worksheets in 0.08 seconds\n",
      "Remove uncertainty data.\n",
      "Extracted 2 worksheets in 0.09 seconds\n",
      "Applying strategy: migrate_datasets\n",
      "Applying strategy: migrate_exchanges\n",
      "Remove uncertainty data.\n",
      "Extracted 1 worksheets in 0.04 seconds\n",
      "Remove uncertainty data.\n",
      "Extracted 1 worksheets in 1.23 seconds\n",
      "Migrating to 3.8 first\n",
      "Applying strategy: migrate_datasets\n",
      "Applying strategy: migrate_exchanges\n",
      "Applying strategy: migrate_datasets\n",
      "Applying strategy: migrate_exchanges\n",
      "Applying strategy: migrate_datasets\n",
      "Applying strategy: migrate_exchanges\n",
      "Remove uncertainty data.\n",
      "The following datasets to import already exist in the source database. They will not be imported\n",
      "+--------------------------------+--------------------------------+----------+-------------+\n",
      "|              Name              |       Reference product        | Location |     File    |\n",
      "+--------------------------------+--------------------------------+----------+-------------+\n",
      "| fluorspar production, 97% puri |     fluorspar, 97% purity      |   GLO    | lci-PV.xlsx |\n",
      "| metallization paste production | metallization paste, back side |   RER    | lci-PV.xlsx |\n",
      "| metallization paste production | metallization paste, back side |   RER    | lci-PV.xlsx |\n",
      "| metallization paste production | metallization paste, front sid |   RER    | lci-PV.xlsx |\n",
      "| photovoltaic module production | photovoltaic module, building- |   RER    | lci-PV.xlsx |\n",
      "| photovoltaic module production | photovoltaic module, building- |   RER    | lci-PV.xlsx |\n",
      "| photovoltaic mounting system p | photovoltaic mounting system,  |   RER    | lci-PV.xlsx |\n",
      "| photovoltaic mounting system p | photovoltaic mounting system,  |   RER    | lci-PV.xlsx |\n",
      "| photovoltaic mounting system p | photovoltaic mounting system,  |   RER    | lci-PV.xlsx |\n",
      "| photovoltaic panel factory con |   photovoltaic panel factory   |   GLO    | lci-PV.xlsx |\n",
      "|  polyvinylfluoride production  |       polyvinylfluoride        |    US    | lci-PV.xlsx |\n",
      "| polyvinylfluoride production,  | polyvinylfluoride, dispersion  |    US    | lci-PV.xlsx |\n",
      "| polyvinylfluoride, film produc |    polyvinylfluoride, film     |    US    | lci-PV.xlsx |\n",
      "| silicon production, metallurgi |  silicon, metallurgical grade  |    NO    | lci-PV.xlsx |\n",
      "|   vinyl fluoride production    |         vinyl fluoride         |    US    | lci-PV.xlsx |\n",
      "|   wafer factory construction   |         wafer factory          |    DE    | lci-PV.xlsx |\n",
      "+--------------------------------+--------------------------------+----------+-------------+\n",
      "Extracted 1 worksheets in 0.07 seconds\n",
      "Applying strategy: migrate_datasets\n",
      "Applying strategy: migrate_exchanges\n",
      "Remove uncertainty data.\n",
      "Extracted 1 worksheets in 0.18 seconds\n",
      "Remove uncertainty data.\n",
      "Extracted 1 worksheets in 0.05 seconds\n",
      "Remove uncertainty data.\n",
      "Extracted 1 worksheets in 0.07 seconds\n",
      "Remove uncertainty data.\n",
      "Extracted 1 worksheets in 0.08 seconds\n",
      "Migrating to 3.8 first\n",
      "Applying strategy: migrate_datasets\n",
      "Applying strategy: migrate_exchanges\n",
      "Applying strategy: migrate_datasets\n",
      "Applying strategy: migrate_exchanges\n",
      "Applying strategy: migrate_datasets\n",
      "Applying strategy: migrate_exchanges\n",
      "Remove uncertainty data.\n",
      "Extracted 1 worksheets in 0.06 seconds\n",
      "Migrating to 3.8 first\n",
      "Applying strategy: migrate_datasets\n",
      "Applying strategy: migrate_exchanges\n",
      "Applying strategy: migrate_datasets\n",
      "Applying strategy: migrate_exchanges\n",
      "Applying strategy: migrate_datasets\n",
      "Applying strategy: migrate_exchanges\n",
      "Remove uncertainty data.\n",
      "The following datasets to import already exist in the source database. They will not be imported\n",
      "+--------------------------------+--------------------------------+----------+--------------------------------+\n",
      "|              Name              |       Reference product        | Location |              File              |\n",
      "+--------------------------------+--------------------------------+----------+--------------------------------+\n",
      "| carbon dioxide, captured at ce | carbon dioxide, captured and r |   RER    | lci-synfuels-from-methanol-fro |\n",
      "+--------------------------------+--------------------------------+----------+--------------------------------+\n",
      "Extracted 1 worksheets in 0.02 seconds\n",
      "Migrating to 3.8 first\n",
      "Applying strategy: migrate_datasets\n",
      "Applying strategy: migrate_exchanges\n",
      "Applying strategy: migrate_datasets\n",
      "Applying strategy: migrate_exchanges\n",
      "Applying strategy: migrate_datasets\n",
      "Applying strategy: migrate_exchanges\n",
      "Remove uncertainty data.\n",
      "Extracted 1 worksheets in 0.02 seconds\n",
      "Migrating to 3.8 first\n",
      "Applying strategy: migrate_datasets\n",
      "Applying strategy: migrate_exchanges\n",
      "Applying strategy: migrate_datasets\n",
      "Applying strategy: migrate_exchanges\n",
      "Applying strategy: migrate_datasets\n",
      "Applying strategy: migrate_exchanges\n",
      "Remove uncertainty data.\n",
      "Extracted 1 worksheets in 0.06 seconds\n",
      "Migrating to 3.8 first\n",
      "Applying strategy: migrate_datasets\n",
      "Applying strategy: migrate_exchanges\n",
      "Applying strategy: migrate_datasets\n",
      "Applying strategy: migrate_exchanges\n",
      "Applying strategy: migrate_datasets\n",
      "Applying strategy: migrate_exchanges\n",
      "Remove uncertainty data.\n",
      "Extracted 1 worksheets in 0.06 seconds\n",
      "Migrating to 3.8 first\n",
      "Applying strategy: migrate_datasets\n",
      "Applying strategy: migrate_exchanges\n",
      "Applying strategy: migrate_datasets\n",
      "Applying strategy: migrate_exchanges\n",
      "Applying strategy: migrate_datasets\n",
      "Applying strategy: migrate_exchanges\n",
      "Remove uncertainty data.\n",
      "Extracted 1 worksheets in 0.07 seconds\n",
      "Migrating to 3.8 first\n",
      "Applying strategy: migrate_datasets\n",
      "Applying strategy: migrate_exchanges\n",
      "Applying strategy: migrate_datasets\n",
      "Applying strategy: migrate_exchanges\n",
      "Applying strategy: migrate_datasets\n",
      "Applying strategy: migrate_exchanges\n",
      "Remove uncertainty data.\n",
      "Extracted 1 worksheets in 0.04 seconds\n",
      "Migrating to 3.8 first\n",
      "Applying strategy: migrate_datasets\n",
      "Applying strategy: migrate_exchanges\n",
      "Applying strategy: migrate_datasets\n",
      "Applying strategy: migrate_exchanges\n",
      "Applying strategy: migrate_datasets\n",
      "Applying strategy: migrate_exchanges\n",
      "Remove uncertainty data.\n",
      "Extracted 1 worksheets in 0.04 seconds\n",
      "Migrating to 3.8 first\n",
      "Applying strategy: migrate_datasets\n",
      "Applying strategy: migrate_exchanges\n",
      "Applying strategy: migrate_datasets\n",
      "Applying strategy: migrate_exchanges\n",
      "Applying strategy: migrate_datasets\n",
      "Applying strategy: migrate_exchanges\n",
      "Remove uncertainty data.\n",
      "Extracted 1 worksheets in 0.02 seconds\n",
      "Migrating to 3.8 first\n",
      "Applying strategy: migrate_datasets\n",
      "Applying strategy: migrate_exchanges\n",
      "Applying strategy: migrate_datasets\n",
      "Applying strategy: migrate_exchanges\n",
      "Applying strategy: migrate_datasets\n",
      "Applying strategy: migrate_exchanges\n",
      "Remove uncertainty data.\n",
      "Extracted 1 worksheets in 0.01 seconds\n",
      "Remove uncertainty data.\n",
      "Extracted 1 worksheets in 0.05 seconds\n",
      "Remove uncertainty data.\n",
      "Extracted 1 worksheets in 0.05 seconds\n",
      "Migrating to 3.8 first\n",
      "Applying strategy: migrate_datasets\n",
      "Applying strategy: migrate_exchanges\n",
      "Applying strategy: migrate_datasets\n",
      "Applying strategy: migrate_exchanges\n",
      "Applying strategy: migrate_datasets\n",
      "Applying strategy: migrate_exchanges\n",
      "Remove uncertainty data.\n",
      "The following datasets to import already exist in the source database. They will not be imported\n",
      "+--------------------------------+--------------------------------+----------+--------------------------------+\n",
      "|              Name              |       Reference product        | Location |              File              |\n",
      "+--------------------------------+--------------------------------+----------+--------------------------------+\n",
      "| methanol production facility,  | methanol production facility,  |   RER    | lci-synfuels-from-methanol-fro |\n",
      "+--------------------------------+--------------------------------+----------+--------------------------------+\n",
      "Extracted 1 worksheets in 0.07 seconds\n",
      "Remove uncertainty data.\n",
      "Extracted 1 worksheets in 0.02 seconds\n",
      "Migrating to 3.8 first\n",
      "Applying strategy: migrate_datasets\n",
      "Applying strategy: migrate_exchanges\n",
      "Applying strategy: migrate_datasets\n",
      "Applying strategy: migrate_exchanges\n",
      "Applying strategy: migrate_datasets\n",
      "Applying strategy: migrate_exchanges\n",
      "Remove uncertainty data.\n",
      "Extracted 5 worksheets in 0.55 seconds\n",
      "Migrating to 3.8 first\n",
      "Applying strategy: migrate_datasets\n",
      "Applying strategy: migrate_exchanges\n",
      "Applying strategy: migrate_datasets\n",
      "Applying strategy: migrate_exchanges\n",
      "Applying strategy: migrate_datasets\n",
      "Applying strategy: migrate_exchanges\n",
      "Remove uncertainty data.\n",
      "Extracted 1 worksheets in 0.05 seconds\n",
      "Migrating to 3.8 first\n",
      "Applying strategy: migrate_datasets\n",
      "Applying strategy: migrate_exchanges\n",
      "Applying strategy: migrate_datasets\n",
      "Applying strategy: migrate_exchanges\n",
      "Applying strategy: migrate_datasets\n",
      "Applying strategy: migrate_exchanges\n",
      "Remove uncertainty data.\n",
      "Extracted 1 worksheets in 0.05 seconds\n",
      "Migrating to 3.8 first\n",
      "Applying strategy: migrate_datasets\n",
      "Applying strategy: migrate_exchanges\n",
      "Applying strategy: migrate_datasets\n",
      "Applying strategy: migrate_exchanges\n",
      "Applying strategy: migrate_datasets\n",
      "Applying strategy: migrate_exchanges\n",
      "Remove uncertainty data.\n",
      "Extracted 1 worksheets in 0.05 seconds\n",
      "Migrating to 3.8 first\n",
      "Applying strategy: migrate_datasets\n",
      "Applying strategy: migrate_exchanges\n",
      "Applying strategy: migrate_datasets\n",
      "Applying strategy: migrate_exchanges\n",
      "Applying strategy: migrate_datasets\n",
      "Applying strategy: migrate_exchanges\n",
      "Remove uncertainty data.\n",
      "Extracted 1 worksheets in 0.08 seconds\n",
      "Migrating to 3.8 first\n",
      "Applying strategy: migrate_datasets\n",
      "Applying strategy: migrate_exchanges\n",
      "Applying strategy: migrate_datasets\n",
      "Applying strategy: migrate_exchanges\n",
      "Applying strategy: migrate_datasets\n",
      "Applying strategy: migrate_exchanges\n",
      "Remove uncertainty data.\n",
      "Extracted 1 worksheets in 0.05 seconds\n",
      "Migrating to 3.8 first\n",
      "Applying strategy: migrate_datasets\n",
      "Applying strategy: migrate_exchanges\n",
      "Applying strategy: migrate_datasets\n",
      "Applying strategy: migrate_exchanges\n",
      "Applying strategy: migrate_datasets\n",
      "Applying strategy: migrate_exchanges\n",
      "Remove uncertainty data.\n",
      "Extracted 1 worksheets in 0.05 seconds\n",
      "Migrating to 3.8 first\n",
      "Applying strategy: migrate_datasets\n",
      "Applying strategy: migrate_exchanges\n",
      "Applying strategy: migrate_datasets\n",
      "Applying strategy: migrate_exchanges\n",
      "Applying strategy: migrate_datasets\n",
      "Applying strategy: migrate_exchanges\n",
      "Remove uncertainty data.\n",
      "Extracted 1 worksheets in 0.11 seconds\n",
      "Migrating to 3.8 first\n",
      "Applying strategy: migrate_datasets\n",
      "Applying strategy: migrate_exchanges\n",
      "Applying strategy: migrate_datasets\n",
      "Applying strategy: migrate_exchanges\n",
      "Applying strategy: migrate_datasets\n",
      "Applying strategy: migrate_exchanges\n",
      "Remove uncertainty data.\n",
      "Extracted 1 worksheets in 0.02 seconds\n",
      "Applying strategy: migrate_datasets\n",
      "Applying strategy: migrate_exchanges\n",
      "Remove uncertainty data.\n",
      "Extracted 1 worksheets in 0.27 seconds\n",
      "Applying strategy: migrate_datasets\n",
      "Applying strategy: migrate_exchanges\n",
      "Remove uncertainty data.\n",
      "Extracted 1 worksheets in 0.02 seconds\n",
      "Applying strategy: migrate_datasets\n",
      "Applying strategy: migrate_exchanges\n",
      "Remove uncertainty data.\n",
      "Extracted 1 worksheets in 0.03 seconds\n",
      "Applying strategy: migrate_datasets\n",
      "Applying strategy: migrate_exchanges\n",
      "Remove uncertainty data.\n",
      "Extracted 1 worksheets in 0.06 seconds\n",
      "Applying strategy: migrate_datasets\n",
      "Applying strategy: migrate_exchanges\n",
      "Remove uncertainty data.\n",
      "Extracted 1 worksheets in 0.02 seconds\n",
      "Remove uncertainty data.\n",
      "Extracted 1 worksheets in 0.05 seconds\n",
      "Remove uncertainty data.\n",
      "Extracted 1 worksheets in 0.05 seconds\n",
      "Remove uncertainty data.\n",
      "Extracted 1 worksheets in 0.18 seconds\n",
      "Remove uncertainty data.\n",
      "Extracted 1 worksheets in 0.06 seconds\n",
      "Remove uncertainty data.\n",
      "Extracted 19 worksheets in 2.31 seconds\n",
      "Migrating to 3.8 first\n",
      "Applying strategy: migrate_datasets\n",
      "Applying strategy: migrate_exchanges\n",
      "Applying strategy: migrate_datasets\n",
      "Applying strategy: migrate_exchanges\n",
      "Applying strategy: migrate_datasets\n",
      "Applying strategy: migrate_exchanges\n",
      "Remove uncertainty data.\n",
      "Extracted 1 worksheets in 0.81 seconds\n",
      "Migrating to 3.8 first\n",
      "Applying strategy: migrate_datasets\n",
      "Applying strategy: migrate_exchanges\n",
      "Applying strategy: migrate_datasets\n",
      "Applying strategy: migrate_exchanges\n",
      "Applying strategy: migrate_datasets\n",
      "Applying strategy: migrate_exchanges\n",
      "Remove uncertainty data.\n",
      "Extracted 1 worksheets in 0.64 seconds\n",
      "Migrating to 3.8 first\n",
      "Applying strategy: migrate_datasets\n",
      "Applying strategy: migrate_exchanges\n",
      "Applying strategy: migrate_datasets\n",
      "Applying strategy: migrate_exchanges\n",
      "Applying strategy: migrate_datasets\n",
      "Applying strategy: migrate_exchanges\n",
      "Remove uncertainty data.\n",
      "Extracted 1 worksheets in 3.11 seconds\n",
      "Migrating to 3.8 first\n",
      "Applying strategy: migrate_datasets\n",
      "Applying strategy: migrate_exchanges\n",
      "Applying strategy: migrate_datasets\n",
      "Applying strategy: migrate_exchanges\n",
      "Applying strategy: migrate_datasets\n",
      "Applying strategy: migrate_exchanges\n",
      "Remove uncertainty data.\n",
      "Extracted 1 worksheets in 0.10 seconds\n",
      "Remove uncertainty data.\n",
      "Extracted 1 worksheets in 0.08 seconds\n",
      "Applying strategy: migrate_datasets\n",
      "Applying strategy: migrate_exchanges\n",
      "Remove uncertainty data.\n",
      "Extracted 1 worksheets in 0.09 seconds\n",
      "Applying strategy: migrate_datasets\n",
      "Applying strategy: migrate_exchanges\n",
      "Remove uncertainty data.\n",
      "Data cached. It is advised to restart your workflow at this point.\n",
      "This allows premise to use the cached data instead, which results in\n",
      "a faster workflow.\n",
      "- Fetching IAM data\n",
      "Done!\n"
     ]
    }
   ],
   "execution_count": 7
  },
  {
   "metadata": {
    "ExecuteTime": {
     "end_time": "2024-11-08T15:55:53.049021Z",
     "start_time": "2024-11-08T15:47:41.658093Z"
    }
   },
   "cell_type": "code",
   "source": "ndb.update()",
   "id": "faf37bfc5801ed26",
   "outputs": [
    {
     "name": "stderr",
     "output_type": "stream",
     "text": [
      "Processing scenarios for all sectors: 100%|█| 2/2 [08:11<00:00, 245.67"
     ]
    },
    {
     "name": "stdout",
     "output_type": "stream",
     "text": [
      "Done!\n",
      "\n"
     ]
    },
    {
     "name": "stderr",
     "output_type": "stream",
     "text": [
      "\n"
     ]
    }
   ],
   "execution_count": 8
  },
  {
   "metadata": {
    "ExecuteTime": {
     "end_time": "2024-11-08T16:12:48.762433Z",
     "start_time": "2024-11-08T15:55:53.068784Z"
    }
   },
   "cell_type": "code",
   "source": [
    "ndb.write_db_to_brightway(name=[\n",
    "    f'ecoinvent_cutoff_{ei_version}_{model}_{pathway}_2020',\n",
    "    f'ecoinvent_cutoff_{ei_version}_{model}_{pathway}_2050',\n",
    "])"
   ],
   "id": "79ecc6d541f680f5",
   "outputs": [
    {
     "name": "stdout",
     "output_type": "stream",
     "text": [
      "Write new database(s) to Brightway.\n",
      "Running all checks...\n",
      "Minor anomalies found: check the change report.\n"
     ]
    },
    {
     "name": "stderr",
     "output_type": "stream",
     "text": [
      "Writing activities to SQLite3 database:\n",
      "0% [##############################] 100% | ETA: 00:00:00\n",
      "Total time elapsed: 00:01:00\n"
     ]
    },
    {
     "name": "stdout",
     "output_type": "stream",
     "text": [
      "Title: Writing activities to SQLite3 database:\n",
      "  Started: 11/08/2024 10:57:47\n",
      "  Finished: 11/08/2024 10:58:48\n",
      "  Total time elapsed: 00:01:00\n",
      "  CPU %: 49.10\n",
      "  Memory %: 35.08\n",
      "Created database: ecoinvent_cutoff_3.9.1_remind_SSP2-Base_2020\n",
      "Running all checks...\n",
      "Minor anomalies found: check the change report.\n"
     ]
    },
    {
     "name": "stderr",
     "output_type": "stream",
     "text": [
      "Writing activities to SQLite3 database:\n",
      "0% [##############################] 100% | ETA: 00:00:00\n",
      "Total time elapsed: 00:01:16\n"
     ]
    },
    {
     "name": "stdout",
     "output_type": "stream",
     "text": [
      "Title: Writing activities to SQLite3 database:\n",
      "  Started: 11/08/2024 11:05:53\n",
      "  Finished: 11/08/2024 11:07:09\n",
      "  Total time elapsed: 00:01:16\n",
      "  CPU %: 49.90\n",
      "  Memory %: 29.75\n",
      "Created database: ecoinvent_cutoff_3.9.1_remind_SSP2-Base_2050\n",
      "Generate scenario report.\n",
      "Report saved under C:\\Users\\matth\\PycharmProjects\\mescal\\dev\\export\\scenario_report.\n",
      "Generate change report.\n",
      "Report saved under C:\\Users\\matth\\PycharmProjects\\mescal\\dev.\n"
     ]
    }
   ],
   "execution_count": 9
  },
  {
   "metadata": {},
   "cell_type": "markdown",
   "source": "# Minor changes on the database ",
   "id": "4174f02e7a061c1b"
  },
  {
   "metadata": {
    "ExecuteTime": {
     "end_time": "2024-11-08T16:12:49.044984Z",
     "start_time": "2024-11-08T16:12:48.762433Z"
    }
   },
   "cell_type": "code",
   "source": "from mescal import *",
   "id": "113c33f65bcb2276",
   "outputs": [],
   "execution_count": 10
  },
  {
   "metadata": {
    "ExecuteTime": {
     "end_time": "2024-11-08T16:12:49.984065Z",
     "start_time": "2024-11-08T16:12:49.045824Z"
    }
   },
   "cell_type": "code",
   "source": [
    "remove_quebec_flow_in_global_heat_market(\n",
    "    db_name=f'ecoinvent_cutoff_{ei_version}_{model}_{pathway}_2020',\n",
    "    activity_name='market group for heat, district or industrial, other than natural gas'\n",
    ")"
   ],
   "id": "40d9b71bbd3accf9",
   "outputs": [],
   "execution_count": 11
  },
  {
   "metadata": {
    "ExecuteTime": {
     "end_time": "2024-11-08T16:12:50.671616Z",
     "start_time": "2024-11-08T16:12:49.984065Z"
    }
   },
   "cell_type": "code",
   "source": [
    "remove_quebec_flow_in_global_heat_market(\n",
    "    db_name=f'ecoinvent_cutoff_{ei_version}_{model}_{pathway}_2050',\n",
    "    activity_name='market group for heat, district or industrial, other than natural gas'\n",
    ")"
   ],
   "id": "19cc0b6daea03591",
   "outputs": [],
   "execution_count": 12
  },
  {
   "metadata": {},
   "cell_type": "code",
   "outputs": [],
   "execution_count": null,
   "source": [
    "adapt_rest_of_the_world_activity_based_on_other_activity(\n",
    "    db_name=f'ecoinvent_cutoff_{ei_version}_{model}_{pathway}_2020',\n",
    "    activity_name='treatment of wastewater, average, wastewater treatment',\n",
    "    product_name='wastewater, average',\n",
    "    reference_activity_location='CH'\n",
    ")"
   ],
   "id": "3deb9d0b798261cf"
  },
  {
   "metadata": {},
   "cell_type": "code",
   "outputs": [],
   "execution_count": null,
   "source": [
    "adapt_rest_of_the_world_activity_based_on_other_activity(\n",
    "    db_name=f'ecoinvent_cutoff_{ei_version}_{model}_{pathway}_2020',\n",
    "    activity_name='treatment of wastewater, unpolluted, wastewater treatment',\n",
    "    product_name='wastewater, unpolluted',\n",
    "    reference_activity_location='CH'\n",
    ")"
   ],
   "id": "2664cee4a7023399"
  },
  {
   "metadata": {},
   "cell_type": "code",
   "outputs": [],
   "execution_count": null,
   "source": [
    "adapt_rest_of_the_world_activity_based_on_other_activity(\n",
    "    db_name=f'ecoinvent_cutoff_{ei_version}_{model}_{pathway}_2050',\n",
    "    activity_name='treatment of wastewater, average, wastewater treatment',\n",
    "    product_name='wastewater, average',\n",
    "    reference_activity_location='CH'\n",
    ")"
   ],
   "id": "f8d62444414f7960"
  },
  {
   "metadata": {},
   "cell_type": "code",
   "outputs": [],
   "execution_count": null,
   "source": [
    "adapt_rest_of_the_world_activity_based_on_other_activity(\n",
    "    db_name=f'ecoinvent_cutoff_{ei_version}_{model}_{pathway}_2050',\n",
    "    activity_name='treatment of wastewater, unpolluted, wastewater treatment',\n",
    "    product_name='wastewater, unpolluted',\n",
    "    reference_activity_location='CH'\n",
    ")"
   ],
   "id": "374f4e4bf41c9c87"
  }
 ],
 "metadata": {
  "kernelspec": {
   "display_name": "Python 3",
   "language": "python",
   "name": "python3"
  },
  "language_info": {
   "codemirror_mode": {
    "name": "ipython",
    "version": 2
   },
   "file_extension": ".py",
   "mimetype": "text/x-python",
   "name": "python",
   "nbconvert_exporter": "python",
   "pygments_lexer": "ipython2",
   "version": "2.7.6"
  }
 },
 "nbformat": 4,
 "nbformat_minor": 5
}
