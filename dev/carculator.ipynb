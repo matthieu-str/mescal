{
 "cells": [
  {
   "metadata": {},
   "cell_type": "markdown",
   "source": "# Import additional truck LCI datasets",
   "id": "1675908a9e82893e"
  },
  {
   "metadata": {
    "ExecuteTime": {
     "end_time": "2024-06-28T21:41:24.805479Z",
     "start_time": "2024-06-28T21:41:17.766191Z"
    }
   },
   "cell_type": "code",
   "source": [
    "from carculator_truck import *\n",
    "import brightway2 as bw"
   ],
   "id": "eeddf5a51a85547b",
   "outputs": [],
   "execution_count": 1
  },
  {
   "metadata": {
    "ExecuteTime": {
     "end_time": "2024-06-28T21:41:24.814954Z",
     "start_time": "2024-06-28T21:41:24.808007Z"
    }
   },
   "cell_type": "code",
   "source": "ei_version = '3.9'",
   "id": "1978c1207c2c9e51",
   "outputs": [],
   "execution_count": 2
  },
  {
   "metadata": {
    "ExecuteTime": {
     "end_time": "2024-06-28T21:41:24.825224Z",
     "start_time": "2024-06-28T21:41:24.814954Z"
    }
   },
   "cell_type": "code",
   "source": [
    "if ei_version == '3.9':\n",
    "    ei_db_name = \"ecoinvent3.9.1 cut-off\""
   ],
   "id": "c43cdfedd4528597",
   "outputs": [],
   "execution_count": 3
  },
  {
   "metadata": {
    "ExecuteTime": {
     "end_time": "2024-06-28T21:41:24.873965Z",
     "start_time": "2024-06-28T21:41:24.825224Z"
    }
   },
   "cell_type": "code",
   "source": "bw.projects.set_current(f'ecoinvent{ei_version}')",
   "id": "f2be7ceed02f45f8",
   "outputs": [],
   "execution_count": 4
  },
  {
   "metadata": {},
   "cell_type": "markdown",
   "source": "## Create the new databases",
   "id": "faed49fe488f0dd8"
  },
  {
   "metadata": {
    "ExecuteTime": {
     "end_time": "2024-06-28T21:47:55.827965Z",
     "start_time": "2024-06-28T21:47:55.809241Z"
    }
   },
   "cell_type": "code",
   "source": [
    "def create_truck_database(cycle):\n",
    "    tip = TruckInputParameters()\n",
    "    tip.static()\n",
    "    dcts, array = fill_xarray_from_input_parameters(tip)\n",
    "    array = array.interp(year=[2020, 2025, 2030, 2035, 2040, 2045, 2050],  kwargs={'fill_value': 'extrapolate'})\n",
    "    tm = TruckModel(array, cycle=cycle)\n",
    "    tm.set_all()\n",
    "    ic = InventoryTruck(tm)\n",
    "    \n",
    "    i = ic.export_lci(\n",
    "        software=\"brightway2\",\n",
    "        ecoinvent_version=ei_version,\n",
    "        format=\"bw2io\",\n",
    "        filename=cycle.lower(),\n",
    "    )\n",
    "    \n",
    "    i.apply_strategies()\n",
    "\n",
    "    i.match_database(fields=[\"name\", \"unit\", \"location\"])\n",
    "    if 'additional_biosphere' not in bw.databases:\n",
    "        i.create_new_biosphere('additional_biosphere')\n",
    "    i.match_database(ei_db_name,  fields=[\"reference product\", \"name\", \"unit\", \"location\"])\n",
    "    i.match_database('biosphere3',  fields=[\"name\", \"unit\", \"categories\"])\n",
    "    i.match_database('additional_biosphere',  fields=[\"name\", \"unit\", \"categories\"])\n",
    "    \n",
    "    i.statistics()\n",
    "    \n",
    "    if cycle.lower() + '_truck' in bw.databases:\n",
    "        del bw.databases[cycle.lower() + '_truck']\n",
    "    \n",
    "    i.write_database()"
   ],
   "id": "83266761476d3cdf",
   "outputs": [],
   "execution_count": 11
  },
  {
   "metadata": {
    "ExecuteTime": {
     "end_time": "2024-06-28T21:44:21.415691Z",
     "start_time": "2024-06-28T21:43:29.180256Z"
    }
   },
   "cell_type": "code",
   "source": "create_truck_database(cycle='Long haul') # 800 km",
   "id": "b379bbf6469caba",
   "outputs": [
    {
     "name": "stdout",
     "output_type": "stream",
     "text": [
      "Finding solutions for trucks...\n",
      "Long haul driving cycle is selected. \n",
      "Vehicles will be designed to achieve a minimal range of 800 km.\n",
      "\n",
      "\n",
      "'-' vehicle with driving mass superior to the permissible gross weight.\n",
      "'/' vehicle not available for the specified year.\n",
      "+-------------------+-------+--------+--------+--------+--------+------+--------+\n",
      "| Payload (in tons) |  18t  |  26t   |  3.5t  |  32t   |  40t   | 60t  |  7.5t  |\n",
      "+-------------------+-------+--------+--------+--------+--------+------+--------+\n",
      "|     BEV, 2020     | -0.0- | -4.0-  | --1.0- | -8.0-  | -14.0- | 19.3 | --1.0- |\n",
      "|     BEV, 2025     | -4.0- | -8.0-  | --0.0- | -13.0- |  13.8  | 19.3 | -1.0-  |\n",
      "|     BEV, 2030     | -6.0- | -10.0- | -0.0-  |  13.8  |  13.8  | 19.3 | -2.0-  |\n",
      "|     BEV, 2035     |  7.4  | -12.0- | -1.0-  |  13.8  |  13.8  | 19.3 | -2.0-  |\n",
      "|     BEV, 2040     |  7.4  | -13.0- | -1.0-  |  13.8  |  13.8  | 19.3 |  2.6   |\n",
      "|     BEV, 2045     |  7.4  |  13.4  |  1.1   |  13.8  |  13.8  | 19.3 |  2.6   |\n",
      "|     BEV, 2050     |  7.4  |  13.4  |  1.1   |  13.8  |  13.8  | 19.3 |  2.6   |\n",
      "|     FCEV, 2020    |  7.4  | -13.0- | -1.0-  |  13.8  |  13.8  | 19.3 |  2.6   |\n",
      "|     FCEV, 2025    |  7.4  |  13.4  |  1.1   |  13.8  |  13.8  | 19.3 |  2.6   |\n",
      "|     FCEV, 2030    |  7.4  |  13.4  |  1.1   |  13.8  |  13.8  | 19.3 |  2.6   |\n",
      "|     FCEV, 2035    |  7.4  |  13.4  |  1.1   |  13.8  |  13.8  | 19.3 |  2.6   |\n",
      "|     FCEV, 2040    |  7.4  |  13.4  |  1.1   |  13.8  |  13.8  | 19.3 |  2.6   |\n",
      "|     FCEV, 2045    |  7.4  |  13.4  |  1.1   |  13.8  |  13.8  | 19.3 |  2.6   |\n",
      "|     FCEV, 2050    |  7.4  |  13.4  |  1.1   |  13.8  |  13.8  | 19.3 |  2.6   |\n",
      "|    HEV-d, 2020    |  7.4  |  13.4  |  1.1   |  13.8  |  13.8  | 19.3 |  2.6   |\n",
      "|    HEV-d, 2025    |  7.4  |  13.4  |  1.1   |  13.8  |  13.8  | 19.3 |  2.6   |\n",
      "|    HEV-d, 2030    |  7.4  |  13.4  |  1.1   |  13.8  |  13.8  | 19.3 |  2.6   |\n",
      "|    HEV-d, 2035    |  7.4  |  13.4  |  1.1   |  13.8  |  13.8  | 19.3 |  2.6   |\n",
      "|    HEV-d, 2040    |  7.4  |  13.4  |  1.1   |  13.8  |  13.8  | 19.3 |  2.6   |\n",
      "|    HEV-d, 2045    |  7.4  |  13.4  |  1.1   |  13.8  |  13.8  | 19.3 |  2.6   |\n",
      "|    HEV-d, 2050    |  7.4  |  13.4  |  1.1   |  13.8  |  13.8  | 19.3 |  2.6   |\n",
      "|    ICEV-d, 2020   |  7.4  |  13.4  |  1.1   |  13.8  |  13.8  | 19.3 |  2.6   |\n",
      "|    ICEV-d, 2025   |  7.4  |  13.4  |  1.1   |  13.8  |  13.8  | 19.3 |  2.6   |\n",
      "|    ICEV-d, 2030   |  7.4  |  13.4  |  1.1   |  13.8  |  13.8  | 19.3 |  2.6   |\n",
      "|    ICEV-d, 2035   |  7.4  |  13.4  |  1.1   |  13.8  |  13.8  | 19.3 |  2.6   |\n",
      "|    ICEV-d, 2040   |  7.4  |  13.4  |  1.1   |  13.8  |  13.8  | 19.3 |  2.6   |\n",
      "|    ICEV-d, 2045   |  7.4  |  13.4  |  1.1   |  13.8  |  13.8  | 19.3 |  2.6   |\n",
      "|    ICEV-d, 2050   |  7.4  |  13.4  |  1.1   |  13.8  |  13.8  | 19.3 |  2.6   |\n",
      "|    ICEV-g, 2020   |  7.4  | -13.0- |  1.1   |  13.8  |  13.8  | 19.3 |  2.6   |\n",
      "|    ICEV-g, 2025   |  7.4  |  13.4  |  1.1   |  13.8  |  13.8  | 19.3 |  2.6   |\n",
      "|    ICEV-g, 2030   |  7.4  |  13.4  |  1.1   |  13.8  |  13.8  | 19.3 |  2.6   |\n",
      "|    ICEV-g, 2035   |  7.4  |  13.4  |  1.1   |  13.8  |  13.8  | 19.3 |  2.6   |\n",
      "|    ICEV-g, 2040   |  7.4  |  13.4  |  1.1   |  13.8  |  13.8  | 19.3 |  2.6   |\n",
      "|    ICEV-g, 2045   |  7.4  |  13.4  |  1.1   |  13.8  |  13.8  | 19.3 |  2.6   |\n",
      "|    ICEV-g, 2050   |  7.4  |  13.4  |  1.1   |  13.8  |  13.8  | 19.3 |  2.6   |\n",
      "|    PHEV-d, 2020   |  7.4  |  13.4  |  1.1   |  13.8  |  13.8  | 19.3 |  2.6   |\n",
      "|    PHEV-d, 2025   |  7.4  |  13.4  |  1.1   |  13.8  |  13.8  | 19.3 |  2.6   |\n",
      "|    PHEV-d, 2030   |  7.4  |  13.4  |  1.1   |  13.8  |  13.8  | 19.3 |  2.6   |\n",
      "|    PHEV-d, 2035   |  7.4  |  13.4  |  1.1   |  13.8  |  13.8  | 19.3 |  2.6   |\n",
      "|    PHEV-d, 2040   |  7.4  |  13.4  |  1.1   |  13.8  |  13.8  | 19.3 |  2.6   |\n",
      "|    PHEV-d, 2045   |  7.4  |  13.4  |  1.1   |  13.8  |  13.8  | 19.3 |  2.6   |\n",
      "|    PHEV-d, 2050   |  7.4  |  13.4  |  1.1   |  13.8  |  13.8  | 19.3 |  2.6   |\n",
      "+-------------------+-------+--------+--------+--------+--------+------+--------+\n",
      "****************** IMPORTANT BACKGROUND PARAMETERS ******************\n",
      " * The country of use is CH.\n",
      " * Power and energy batteries produced in CN using ['NMC-622'] chemistry/ies\n",
      " * between 2020 and 2027, % of renewable: 73.0.\n",
      " \t * between 2025 and 2032, % of renewable: 77.0.\n",
      " \t * between 2030 and 2037, % of renewable: 83.0.\n",
      " \t * between 2035 and 2042, % of renewable: 86.0.\n",
      " \t * between 2040 and 2047, % of renewable: 87.0.\n",
      " \t * between 2045 and 2052, % of renewable: 88.0.\n",
      " \t * between 2050 and 2057, % of renewable: 88.0.\n",
      " * electrolysis is completed by smr - natural gas.\n",
      " \t * in 2020 _________________________________________ 0%\n",
      " \t * in 2025 _________________________________________ 0%\n",
      " \t * in 2030 _________________________________________ 0%\n",
      " \t * in 2035 _________________________________________ 0%\n",
      " \t * in 2040 _________________________________________ 0%\n",
      " \t * in 2045 _________________________________________ 0%\n",
      " \t * in 2050 _________________________________________ 0%\n",
      " * cng is completed by biogas - sewage sludge.\n",
      " \t * in 2020 _________________________________________ 22.0%\n",
      " \t * in 2025 _________________________________________ 22.0%\n",
      " \t * in 2030 _________________________________________ 22.0%\n",
      " \t * in 2035 _________________________________________ 22.0%\n",
      " \t * in 2040 _________________________________________ 22.0%\n",
      " \t * in 2045 _________________________________________ 22.0%\n",
      " \t * in 2050 _________________________________________ 22.0%\n",
      " * diesel is completed by biodiesel - cooking oil.\n",
      " \t * in 2020 _________________________________________ 5.0%\n",
      " \t * in 2025 _________________________________________ 5.0%\n",
      " \t * in 2030 _________________________________________ 5.0%\n",
      " \t * in 2035 _________________________________________ 5.0%\n",
      " \t * in 2040 _________________________________________ 5.0%\n",
      " \t * in 2045 _________________________________________ 5.0%\n",
      " \t * in 2050 _________________________________________ 5.0%\n",
      " * *********************************************************************\n"
     ]
    },
    {
     "name": "stderr",
     "output_type": "stream",
     "text": [
      "0% [##############################] 100% | ETA: 00:00:00 | Item ID: 1928\n",
      "Total time elapsed: 00:00:06\n"
     ]
    },
    {
     "name": "stdout",
     "output_type": "stream",
     "text": [
      "Applying strategy: normalize_units\n",
      "Applying strategy: drop_unspecified_subcategories\n",
      "Applying strategy: assign_only_product_as_production\n",
      "Applying strategy: strip_biosphere_exc_locations\n",
      "Applied 4 strategies in 0.03 seconds\n",
      "Applying strategy: link_iterable_by_fields\n",
      "Applying strategy: link_iterable_by_fields\n",
      "Applying strategy: link_iterable_by_fields\n",
      "Applying strategy: link_iterable_by_fields\n",
      "893 datasets\n",
      "29558 exchanges\n",
      "0 unlinked exchanges\n",
      "  \n"
     ]
    },
    {
     "name": "stderr",
     "output_type": "stream",
     "text": [
      "Writing activities to SQLite3 database:\n",
      "0% [##############################] 100% | ETA: 00:00:00\n",
      "Total time elapsed: 00:00:02\n"
     ]
    },
    {
     "name": "stdout",
     "output_type": "stream",
     "text": [
      "Title: Writing activities to SQLite3 database:\n",
      "  Started: 06/28/2024 17:44:08\n",
      "  Finished: 06/28/2024 17:44:11\n",
      "  Total time elapsed: 00:00:02\n",
      "  CPU %: 37.90\n",
      "  Memory %: 7.11\n",
      "Created database: long haul_truck\n"
     ]
    }
   ],
   "execution_count": 7
  },
  {
   "metadata": {
    "ExecuteTime": {
     "end_time": "2024-06-28T21:48:46.126021Z",
     "start_time": "2024-06-28T21:48:00.268240Z"
    }
   },
   "cell_type": "code",
   "source": "create_truck_database(cycle='Urban delivery') # 150 km ",
   "id": "45d6207b2c1bca1f",
   "outputs": [
    {
     "name": "stdout",
     "output_type": "stream",
     "text": [
      "Finding solutions for trucks...\n",
      "Urban delivery driving cycle is selected. \n",
      "Vehicles will be designed to achieve a minimal range of 150 km.\n",
      "\n",
      "\n",
      "'-' vehicle with driving mass superior to the permissible gross weight.\n",
      "'/' vehicle not available for the specified year.\n",
      "+-------------------+-----+-----+------+-----+-----+------+------+\n",
      "| Payload (in tons) | 18t | 26t | 3.5t | 32t | 40t | 60t  | 7.5t |\n",
      "+-------------------+-----+-----+------+-----+-----+------+------+\n",
      "|     BEV, 2020     | 2.7 | 6.3 | 0.8  | 8.8 | 8.8 | 16.4 | 1.8  |\n",
      "|     BEV, 2025     | 2.7 | 6.3 | 0.8  | 8.8 | 8.8 | 16.4 | 1.8  |\n",
      "|     BEV, 2030     | 2.7 | 6.3 | 0.8  | 8.8 | 8.8 | 16.4 | 1.8  |\n",
      "|     BEV, 2035     | 2.7 | 6.3 | 0.8  | 8.8 | 8.8 | 16.4 | 1.8  |\n",
      "|     BEV, 2040     | 2.7 | 6.3 | 0.8  | 8.8 | 8.8 | 16.4 | 1.8  |\n",
      "|     BEV, 2045     | 2.7 | 6.3 | 0.8  | 8.8 | 8.8 | 16.4 | 1.8  |\n",
      "|     BEV, 2050     | 2.7 | 6.3 | 0.8  | 8.8 | 8.8 | 16.4 | 1.8  |\n",
      "|     FCEV, 2020    | 2.7 | 6.3 | 0.8  | 8.8 | 8.8 | 16.4 | 1.8  |\n",
      "|     FCEV, 2025    | 2.7 | 6.3 | 0.8  | 8.8 | 8.8 | 16.4 | 1.8  |\n",
      "|     FCEV, 2030    | 2.7 | 6.3 | 0.8  | 8.8 | 8.8 | 16.4 | 1.8  |\n",
      "|     FCEV, 2035    | 2.7 | 6.3 | 0.8  | 8.8 | 8.8 | 16.4 | 1.8  |\n",
      "|     FCEV, 2040    | 2.7 | 6.3 | 0.8  | 8.8 | 8.8 | 16.4 | 1.8  |\n",
      "|     FCEV, 2045    | 2.7 | 6.3 | 0.8  | 8.8 | 8.8 | 16.4 | 1.8  |\n",
      "|     FCEV, 2050    | 2.7 | 6.3 | 0.8  | 8.8 | 8.8 | 16.4 | 1.8  |\n",
      "|    HEV-d, 2020    | 2.7 | 6.3 | 0.8  | 8.8 | 8.8 | 16.4 | 1.8  |\n",
      "|    HEV-d, 2025    | 2.7 | 6.3 | 0.8  | 8.8 | 8.8 | 16.4 | 1.8  |\n",
      "|    HEV-d, 2030    | 2.7 | 6.3 | 0.8  | 8.8 | 8.8 | 16.4 | 1.8  |\n",
      "|    HEV-d, 2035    | 2.7 | 6.3 | 0.8  | 8.8 | 8.8 | 16.4 | 1.8  |\n",
      "|    HEV-d, 2040    | 2.7 | 6.3 | 0.8  | 8.8 | 8.8 | 16.4 | 1.8  |\n",
      "|    HEV-d, 2045    | 2.7 | 6.3 | 0.8  | 8.8 | 8.8 | 16.4 | 1.8  |\n",
      "|    HEV-d, 2050    | 2.7 | 6.3 | 0.8  | 8.8 | 8.8 | 16.4 | 1.8  |\n",
      "|    ICEV-d, 2020   | 2.7 | 6.3 | 0.8  | 8.8 | 8.8 | 16.4 | 1.8  |\n",
      "|    ICEV-d, 2025   | 2.7 | 6.3 | 0.8  | 8.8 | 8.8 | 16.4 | 1.8  |\n",
      "|    ICEV-d, 2030   | 2.7 | 6.3 | 0.8  | 8.8 | 8.8 | 16.4 | 1.8  |\n",
      "|    ICEV-d, 2035   | 2.7 | 6.3 | 0.8  | 8.8 | 8.8 | 16.4 | 1.8  |\n",
      "|    ICEV-d, 2040   | 2.7 | 6.3 | 0.8  | 8.8 | 8.8 | 16.4 | 1.8  |\n",
      "|    ICEV-d, 2045   | 2.7 | 6.3 | 0.8  | 8.8 | 8.8 | 16.4 | 1.8  |\n",
      "|    ICEV-d, 2050   | 2.7 | 6.3 | 0.8  | 8.8 | 8.8 | 16.4 | 1.8  |\n",
      "|    ICEV-g, 2020   | 2.7 | 6.3 | 0.8  | 8.8 | 8.8 | 16.4 | 1.8  |\n",
      "|    ICEV-g, 2025   | 2.7 | 6.3 | 0.8  | 8.8 | 8.8 | 16.4 | 1.8  |\n",
      "|    ICEV-g, 2030   | 2.7 | 6.3 | 0.8  | 8.8 | 8.8 | 16.4 | 1.8  |\n",
      "|    ICEV-g, 2035   | 2.7 | 6.3 | 0.8  | 8.8 | 8.8 | 16.4 | 1.8  |\n",
      "|    ICEV-g, 2040   | 2.7 | 6.3 | 0.8  | 8.8 | 8.8 | 16.4 | 1.8  |\n",
      "|    ICEV-g, 2045   | 2.7 | 6.3 | 0.8  | 8.8 | 8.8 | 16.4 | 1.8  |\n",
      "|    ICEV-g, 2050   | 2.7 | 6.3 | 0.8  | 8.8 | 8.8 | 16.4 | 1.8  |\n",
      "|    PHEV-d, 2020   | 2.7 | 6.3 | 0.8  | 8.8 | 8.8 | 16.4 | 1.8  |\n",
      "|    PHEV-d, 2025   | 2.7 | 6.3 | 0.8  | 8.8 | 8.8 | 16.4 | 1.8  |\n",
      "|    PHEV-d, 2030   | 2.7 | 6.3 | 0.8  | 8.8 | 8.8 | 16.4 | 1.8  |\n",
      "|    PHEV-d, 2035   | 2.7 | 6.3 | 0.8  | 8.8 | 8.8 | 16.4 | 1.8  |\n",
      "|    PHEV-d, 2040   | 2.7 | 6.3 | 0.8  | 8.8 | 8.8 | 16.4 | 1.8  |\n",
      "|    PHEV-d, 2045   | 2.7 | 6.3 | 0.8  | 8.8 | 8.8 | 16.4 | 1.8  |\n",
      "|    PHEV-d, 2050   | 2.7 | 6.3 | 0.8  | 8.8 | 8.8 | 16.4 | 1.8  |\n",
      "+-------------------+-----+-----+------+-----+-----+------+------+\n",
      "****************** IMPORTANT BACKGROUND PARAMETERS ******************\n",
      " * The country of use is CH.\n",
      " * Power and energy batteries produced in CN using ['NMC-622'] chemistry/ies\n",
      " * between 2020 and 2030, % of renewable: 75.0.\n",
      " \t * between 2025 and 2035, % of renewable: 79.0.\n",
      " \t * between 2030 and 2040, % of renewable: 84.0.\n",
      " \t * between 2035 and 2045, % of renewable: 86.0.\n",
      " \t * between 2040 and 2050, % of renewable: 88.0.\n",
      " \t * between 2045 and 2055, % of renewable: 88.0.\n",
      " \t * between 2050 and 2060, % of renewable: 88.0.\n",
      " * electrolysis is completed by smr - natural gas.\n",
      " \t * in 2020 _________________________________________ 0%\n",
      " \t * in 2025 _________________________________________ 0%\n",
      " \t * in 2030 _________________________________________ 0%\n",
      " \t * in 2035 _________________________________________ 0%\n",
      " \t * in 2040 _________________________________________ 0%\n",
      " \t * in 2045 _________________________________________ 0%\n",
      " \t * in 2050 _________________________________________ 0%\n",
      " * cng is completed by biogas - sewage sludge.\n",
      " \t * in 2020 _________________________________________ 22.0%\n",
      " \t * in 2025 _________________________________________ 22.0%\n",
      " \t * in 2030 _________________________________________ 22.0%\n",
      " \t * in 2035 _________________________________________ 22.0%\n",
      " \t * in 2040 _________________________________________ 22.0%\n",
      " \t * in 2045 _________________________________________ 22.0%\n",
      " \t * in 2050 _________________________________________ 22.0%\n",
      " * diesel is completed by biodiesel - cooking oil.\n",
      " \t * in 2020 _________________________________________ 5.0%\n",
      " \t * in 2025 _________________________________________ 5.0%\n",
      " \t * in 2030 _________________________________________ 5.0%\n",
      " \t * in 2035 _________________________________________ 5.0%\n",
      " \t * in 2040 _________________________________________ 5.0%\n",
      " \t * in 2045 _________________________________________ 5.0%\n",
      " \t * in 2050 _________________________________________ 5.0%\n",
      " * *********************************************************************\n"
     ]
    },
    {
     "name": "stderr",
     "output_type": "stream",
     "text": [
      "0% [##############################] 100% | ETA: 00:00:00 | Item ID: 1928\n",
      "Total time elapsed: 00:00:06\n"
     ]
    },
    {
     "name": "stdout",
     "output_type": "stream",
     "text": [
      "Applying strategy: normalize_units\n",
      "Applying strategy: drop_unspecified_subcategories\n",
      "Applying strategy: assign_only_product_as_production\n",
      "Applying strategy: strip_biosphere_exc_locations\n",
      "Applied 4 strategies in 0.02 seconds\n",
      "Applying strategy: link_iterable_by_fields\n",
      "Applying strategy: link_iterable_by_fields\n",
      "Applying strategy: link_iterable_by_fields\n",
      "Applying strategy: link_iterable_by_fields\n",
      "939 datasets\n",
      "30812 exchanges\n",
      "0 unlinked exchanges\n",
      "  \n"
     ]
    },
    {
     "name": "stderr",
     "output_type": "stream",
     "text": [
      "Writing activities to SQLite3 database:\n",
      "0% [##############################] 100% | ETA: 00:00:00\n",
      "Total time elapsed: 00:00:01\n"
     ]
    },
    {
     "name": "stdout",
     "output_type": "stream",
     "text": [
      "Title: Writing activities to SQLite3 database:\n",
      "  Started: 06/28/2024 17:48:35\n",
      "  Finished: 06/28/2024 17:48:37\n",
      "  Total time elapsed: 00:00:01\n",
      "  CPU %: 39.60\n",
      "  Memory %: 7.14\n",
      "Created database: urban delivery_truck\n"
     ]
    }
   ],
   "execution_count": 12
  },
  {
   "metadata": {
    "ExecuteTime": {
     "end_time": "2024-06-28T21:50:05.691828Z",
     "start_time": "2024-06-28T21:48:46.126021Z"
    }
   },
   "cell_type": "code",
   "source": "create_truck_database(cycle='Regional delivery') # 400 km ",
   "id": "d255c8f85f3955f5",
   "outputs": [
    {
     "name": "stdout",
     "output_type": "stream",
     "text": [
      "Finding solutions for trucks...\n",
      "Regional delivery driving cycle is selected. \n",
      "Vehicles will be designed to achieve a minimal range of 400 km.\n",
      "\n",
      "\n",
      "'-' vehicle with driving mass superior to the permissible gross weight.\n",
      "'/' vehicle not available for the specified year.\n",
      "+-------------------+-----+-----+-------+------+------+------+-------+\n",
      "| Payload (in tons) | 18t | 26t |  3.5t | 32t  | 40t  | 60t  |  7.5t |\n",
      "+-------------------+-----+-----+-------+------+------+------+-------+\n",
      "|     BEV, 2020     | 3.2 | 6.3 | -0.0- | 10.3 | 10.3 | 19.3 | -2.0- |\n",
      "|     BEV, 2025     | 3.2 | 6.3 |  0.8  | 10.3 | 10.3 | 19.3 |  1.8  |\n",
      "|     BEV, 2030     | 3.2 | 6.3 |  0.8  | 10.3 | 10.3 | 19.3 |  1.8  |\n",
      "|     BEV, 2035     | 3.2 | 6.3 |  0.8  | 10.3 | 10.3 | 19.3 |  1.8  |\n",
      "|     BEV, 2040     | 3.2 | 6.3 |  0.8  | 10.3 | 10.3 | 19.3 |  1.8  |\n",
      "|     BEV, 2045     | 3.2 | 6.3 |  0.8  | 10.3 | 10.3 | 19.3 |  1.8  |\n",
      "|     BEV, 2050     | 3.2 | 6.3 |  0.8  | 10.3 | 10.3 | 19.3 |  1.8  |\n",
      "|     FCEV, 2020    | 3.2 | 6.3 |  0.8  | 10.3 | 10.3 | 19.3 |  1.8  |\n",
      "|     FCEV, 2025    | 3.2 | 6.3 |  0.8  | 10.3 | 10.3 | 19.3 |  1.8  |\n",
      "|     FCEV, 2030    | 3.2 | 6.3 |  0.8  | 10.3 | 10.3 | 19.3 |  1.8  |\n",
      "|     FCEV, 2035    | 3.2 | 6.3 |  0.8  | 10.3 | 10.3 | 19.3 |  1.8  |\n",
      "|     FCEV, 2040    | 3.2 | 6.3 |  0.8  | 10.3 | 10.3 | 19.3 |  1.8  |\n",
      "|     FCEV, 2045    | 3.2 | 6.3 |  0.8  | 10.3 | 10.3 | 19.3 |  1.8  |\n",
      "|     FCEV, 2050    | 3.2 | 6.3 |  0.8  | 10.3 | 10.3 | 19.3 |  1.8  |\n",
      "|    HEV-d, 2020    | 3.2 | 6.3 |  0.8  | 10.3 | 10.3 | 19.3 |  1.8  |\n",
      "|    HEV-d, 2025    | 3.2 | 6.3 |  0.8  | 10.3 | 10.3 | 19.3 |  1.8  |\n",
      "|    HEV-d, 2030    | 3.2 | 6.3 |  0.8  | 10.3 | 10.3 | 19.3 |  1.8  |\n",
      "|    HEV-d, 2035    | 3.2 | 6.3 |  0.8  | 10.3 | 10.3 | 19.3 |  1.8  |\n",
      "|    HEV-d, 2040    | 3.2 | 6.3 |  0.8  | 10.3 | 10.3 | 19.3 |  1.8  |\n",
      "|    HEV-d, 2045    | 3.2 | 6.3 |  0.8  | 10.3 | 10.3 | 19.3 |  1.8  |\n",
      "|    HEV-d, 2050    | 3.2 | 6.3 |  0.8  | 10.3 | 10.3 | 19.3 |  1.8  |\n",
      "|    ICEV-d, 2020   | 3.2 | 6.3 |  0.8  | 10.3 | 10.3 | 19.3 |  1.8  |\n",
      "|    ICEV-d, 2025   | 3.2 | 6.3 |  0.8  | 10.3 | 10.3 | 19.3 |  1.8  |\n",
      "|    ICEV-d, 2030   | 3.2 | 6.3 |  0.8  | 10.3 | 10.3 | 19.3 |  1.8  |\n",
      "|    ICEV-d, 2035   | 3.2 | 6.3 |  0.8  | 10.3 | 10.3 | 19.3 |  1.8  |\n",
      "|    ICEV-d, 2040   | 3.2 | 6.3 |  0.8  | 10.3 | 10.3 | 19.3 |  1.8  |\n",
      "|    ICEV-d, 2045   | 3.2 | 6.3 |  0.8  | 10.3 | 10.3 | 19.3 |  1.8  |\n",
      "|    ICEV-d, 2050   | 3.2 | 6.3 |  0.8  | 10.3 | 10.3 | 19.3 |  1.8  |\n",
      "|    ICEV-g, 2020   | 3.2 | 6.3 |  0.8  | 10.3 | 10.3 | 19.3 |  1.8  |\n",
      "|    ICEV-g, 2025   | 3.2 | 6.3 |  0.8  | 10.3 | 10.3 | 19.3 |  1.8  |\n",
      "|    ICEV-g, 2030   | 3.2 | 6.3 |  0.8  | 10.3 | 10.3 | 19.3 |  1.8  |\n",
      "|    ICEV-g, 2035   | 3.2 | 6.3 |  0.8  | 10.3 | 10.3 | 19.3 |  1.8  |\n",
      "|    ICEV-g, 2040   | 3.2 | 6.3 |  0.8  | 10.3 | 10.3 | 19.3 |  1.8  |\n",
      "|    ICEV-g, 2045   | 3.2 | 6.3 |  0.8  | 10.3 | 10.3 | 19.3 |  1.8  |\n",
      "|    ICEV-g, 2050   | 3.2 | 6.3 |  0.8  | 10.3 | 10.3 | 19.3 |  1.8  |\n",
      "|    PHEV-d, 2020   | 3.2 | 6.3 |  0.8  | 10.3 | 10.3 | 19.3 |  1.8  |\n",
      "|    PHEV-d, 2025   | 3.2 | 6.3 |  0.8  | 10.3 | 10.3 | 19.3 |  1.8  |\n",
      "|    PHEV-d, 2030   | 3.2 | 6.3 |  0.8  | 10.3 | 10.3 | 19.3 |  1.8  |\n",
      "|    PHEV-d, 2035   | 3.2 | 6.3 |  0.8  | 10.3 | 10.3 | 19.3 |  1.8  |\n",
      "|    PHEV-d, 2040   | 3.2 | 6.3 |  0.8  | 10.3 | 10.3 | 19.3 |  1.8  |\n",
      "|    PHEV-d, 2045   | 3.2 | 6.3 |  0.8  | 10.3 | 10.3 | 19.3 |  1.8  |\n",
      "|    PHEV-d, 2050   | 3.2 | 6.3 |  0.8  | 10.3 | 10.3 | 19.3 |  1.8  |\n",
      "+-------------------+-----+-----+-------+------+------+------+-------+\n",
      "****************** IMPORTANT BACKGROUND PARAMETERS ******************\n",
      " * The country of use is CH.\n",
      " * Power and energy batteries produced in CN using ['NMC-622'] chemistry/ies\n",
      " * between 2020 and 2029, % of renewable: 74.0.\n",
      " \t * between 2025 and 2034, % of renewable: 78.0.\n",
      " \t * between 2030 and 2039, % of renewable: 84.0.\n",
      " \t * between 2035 and 2044, % of renewable: 86.0.\n",
      " \t * between 2040 and 2049, % of renewable: 88.0.\n",
      " \t * between 2045 and 2054, % of renewable: 88.0.\n",
      " \t * between 2050 and 2059, % of renewable: 88.0.\n",
      " * electrolysis is completed by smr - natural gas.\n",
      " \t * in 2020 _________________________________________ 0%\n",
      " \t * in 2025 _________________________________________ 0%\n",
      " \t * in 2030 _________________________________________ 0%\n",
      " \t * in 2035 _________________________________________ 0%\n",
      " \t * in 2040 _________________________________________ 0%\n",
      " \t * in 2045 _________________________________________ 0%\n",
      " \t * in 2050 _________________________________________ 0%\n",
      " * cng is completed by biogas - sewage sludge.\n",
      " \t * in 2020 _________________________________________ 22.0%\n",
      " \t * in 2025 _________________________________________ 22.0%\n",
      " \t * in 2030 _________________________________________ 22.0%\n",
      " \t * in 2035 _________________________________________ 22.0%\n",
      " \t * in 2040 _________________________________________ 22.0%\n",
      " \t * in 2045 _________________________________________ 22.0%\n",
      " \t * in 2050 _________________________________________ 22.0%\n",
      " * diesel is completed by biodiesel - cooking oil.\n",
      " \t * in 2020 _________________________________________ 5.0%\n",
      " \t * in 2025 _________________________________________ 5.0%\n",
      " \t * in 2030 _________________________________________ 5.0%\n",
      " \t * in 2035 _________________________________________ 5.0%\n",
      " \t * in 2040 _________________________________________ 5.0%\n",
      " \t * in 2045 _________________________________________ 5.0%\n",
      " \t * in 2050 _________________________________________ 5.0%\n",
      " * *********************************************************************\n"
     ]
    },
    {
     "name": "stderr",
     "output_type": "stream",
     "text": [
      "0% [##############################] 100% | ETA: 00:00:00 | Item ID: 1928\n",
      "Total time elapsed: 00:00:06\n"
     ]
    },
    {
     "name": "stdout",
     "output_type": "stream",
     "text": [
      "Applying strategy: normalize_units\n",
      "Applying strategy: drop_unspecified_subcategories\n",
      "Applying strategy: assign_only_product_as_production\n",
      "Applying strategy: strip_biosphere_exc_locations\n",
      "Applied 4 strategies in 0.03 seconds\n",
      "Applying strategy: link_iterable_by_fields\n",
      "Applying strategy: link_iterable_by_fields\n",
      "Applying strategy: link_iterable_by_fields\n",
      "Applying strategy: link_iterable_by_fields\n",
      "935 datasets\n",
      "30702 exchanges\n",
      "0 unlinked exchanges\n",
      "  \n",
      "Vacuuming database \n"
     ]
    },
    {
     "name": "stderr",
     "output_type": "stream",
     "text": [
      "Writing activities to SQLite3 database:\n",
      "0% [##############################] 100% | ETA: 00:00:00\n",
      "Total time elapsed: 00:00:01\n"
     ]
    },
    {
     "name": "stdout",
     "output_type": "stream",
     "text": [
      "Title: Writing activities to SQLite3 database:\n",
      "  Started: 06/28/2024 17:49:53\n",
      "  Finished: 06/28/2024 17:49:55\n",
      "  Total time elapsed: 00:00:01\n",
      "  CPU %: 45.00\n",
      "  Memory %: 7.16\n",
      "Created database: regional delivery_truck\n"
     ]
    }
   ],
   "execution_count": 13
  },
  {
   "metadata": {},
   "cell_type": "markdown",
   "source": "## Perform systematic changes on the newly created databases",
   "id": "19ecf789efc2ed16"
  },
  {
   "metadata": {
    "ExecuteTime": {
     "end_time": "2024-06-28T21:50:13.396820Z",
     "start_time": "2024-06-28T21:50:13.381689Z"
    }
   },
   "cell_type": "code",
   "source": [
    "def rename_truck_activities(cycle):\n",
    "    db = bw.Database(cycle.lower() + '_truck')\n",
    "    db_list = [a for a in db]\n",
    "    for act in db_list:\n",
    "        if act.as_dict()['name'].startswith('transport, truck'):\n",
    "            act.as_dict()['name'] += f', {cycle.lower()}'\n",
    "        elif act.as_dict()['name'].startswith('Truck,'):\n",
    "            act.as_dict()['name'] = act.as_dict()['name'].lower() + f', {cycle.lower()}'\n",
    "        else:\n",
    "            pass\n",
    "        act.save()"
   ],
   "id": "2ed631c72b0dd0dc",
   "outputs": [],
   "execution_count": 14
  },
  {
   "metadata": {
    "ExecuteTime": {
     "end_time": "2024-06-28T21:51:19.654294Z",
     "start_time": "2024-06-28T21:50:14.093295Z"
    }
   },
   "cell_type": "code",
   "source": "rename_truck_activities(cycle='Long haul')",
   "id": "742c2e90e9aa6e47",
   "outputs": [],
   "execution_count": 15
  },
  {
   "metadata": {
    "ExecuteTime": {
     "end_time": "2024-06-28T21:52:29.648249Z",
     "start_time": "2024-06-28T21:51:19.654294Z"
    }
   },
   "cell_type": "code",
   "source": "rename_truck_activities(cycle='Regional delivery')",
   "id": "d1c9475cb6a65764",
   "outputs": [],
   "execution_count": 16
  },
  {
   "metadata": {
    "ExecuteTime": {
     "end_time": "2024-06-28T21:53:46.062952Z",
     "start_time": "2024-06-28T21:52:29.648249Z"
    }
   },
   "cell_type": "code",
   "source": "rename_truck_activities(cycle='Urban delivery')",
   "id": "de67d0ac88b03eb5",
   "outputs": [],
   "execution_count": 17
  },
  {
   "metadata": {},
   "cell_type": "code",
   "outputs": [],
   "execution_count": null,
   "source": "",
   "id": "82de91c17072254f"
  }
 ],
 "metadata": {
  "kernelspec": {
   "display_name": "Python 3",
   "language": "python",
   "name": "python3"
  },
  "language_info": {
   "codemirror_mode": {
    "name": "ipython",
    "version": 2
   },
   "file_extension": ".py",
   "mimetype": "text/x-python",
   "name": "python",
   "nbconvert_exporter": "python",
   "pygments_lexer": "ipython2",
   "version": "2.7.6"
  }
 },
 "nbformat": 4,
 "nbformat_minor": 5
}
