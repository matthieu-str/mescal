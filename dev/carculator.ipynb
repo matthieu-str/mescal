{
 "cells": [
  {
   "metadata": {},
   "cell_type": "markdown",
   "source": "# Import additional truck LCI datasets",
   "id": "1675908a9e82893e"
  },
  {
   "metadata": {
    "ExecuteTime": {
     "end_time": "2025-01-20T22:48:33.188850Z",
     "start_time": "2025-01-20T22:48:23.040599Z"
    }
   },
   "cell_type": "code",
   "source": [
    "from carculator_truck import *\n",
    "import bw2data as bd\n",
    "from datetime import datetime"
   ],
   "id": "eeddf5a51a85547b",
   "outputs": [],
   "execution_count": 1
  },
  {
   "metadata": {
    "ExecuteTime": {
     "end_time": "2025-01-20T22:48:33.202116Z",
     "start_time": "2025-01-20T22:48:33.194564Z"
    }
   },
   "cell_type": "code",
   "source": "ei_version = '3.10.1' # carculator_truck v0.5.0 is compatible with ecoinvent 3.10 only",
   "id": "1978c1207c2c9e51",
   "outputs": [],
   "execution_count": 2
  },
  {
   "metadata": {
    "ExecuteTime": {
     "end_time": "2025-01-20T22:48:33.213844Z",
     "start_time": "2025-01-20T22:48:33.204126Z"
    }
   },
   "cell_type": "code",
   "source": "year = 2050",
   "id": "c357a0b0ec7c7be5",
   "outputs": [],
   "execution_count": 3
  },
  {
   "metadata": {
    "ExecuteTime": {
     "end_time": "2025-01-20T22:48:33.222881Z",
     "start_time": "2025-01-20T22:48:33.215857Z"
    }
   },
   "cell_type": "code",
   "source": "ei_db_name = f\"ecoinvent-{ei_version}-cutoff\"",
   "id": "c43cdfedd4528597",
   "outputs": [],
   "execution_count": 4
  },
  {
   "metadata": {
    "ExecuteTime": {
     "end_time": "2025-01-20T22:48:33.627327Z",
     "start_time": "2025-01-20T22:48:33.224892Z"
    }
   },
   "cell_type": "code",
   "source": "bd.projects.set_current(f'ecoinvent{ei_version}')",
   "id": "f2be7ceed02f45f8",
   "outputs": [],
   "execution_count": 5
  },
  {
   "metadata": {},
   "cell_type": "markdown",
   "source": "## Create the new databases",
   "id": "faed49fe488f0dd8"
  },
  {
   "metadata": {
    "ExecuteTime": {
     "end_time": "2025-01-20T22:48:33.642016Z",
     "start_time": "2025-01-20T22:48:33.627327Z"
    }
   },
   "cell_type": "code",
   "source": [
    "def create_truck_database(cycle, ei_version):\n",
    "    tip = TruckInputParameters()\n",
    "    tip.static()\n",
    "    dcts, array = fill_xarray_from_input_parameters(tip, scope={\"year\":[year]})\n",
    "    # array = array.interp(year=[2020, 2025, 2030, 2035, 2040, 2045, 2050],  kwargs={'fill_value': 'extrapolate'})\n",
    "    tm = TruckModel(array, cycle=cycle)\n",
    "    tm.set_all()\n",
    "    ic = InventoryTruck(tm)\n",
    "    \n",
    "    if ei_version == '3.9.1':\n",
    "        ei_version_carculator = '3.9'\n",
    "    elif ei_version == '3.10.1':\n",
    "        ei_version_carculator = '3.10'\n",
    "    else:\n",
    "        ei_version_carculator = ei_version\n",
    "    \n",
    "    i = ic.export_lci(\n",
    "        software=\"brightway2\",\n",
    "        ecoinvent_version=ei_version_carculator,\n",
    "        format=\"bw2io\",\n",
    "        filename=cycle.lower(),\n",
    "    )\n",
    "    \n",
    "    i.apply_strategies()\n",
    "\n",
    "    i.match_database(fields=[\"name\", \"unit\", \"location\"])\n",
    "    if 'additional_biosphere' not in bd.databases:\n",
    "        i.create_new_biosphere('additional_biosphere')\n",
    "    i.match_database(ei_db_name,  fields=[\"reference product\", \"name\", \"unit\", \"location\"])\n",
    "    i.match_database('biosphere3',  fields=[\"name\", \"unit\", \"categories\"])\n",
    "    i.match_database('additional_biosphere',  fields=[\"name\", \"unit\", \"categories\"])\n",
    "\n",
    "    i.statistics()\n",
    "\n",
    "    if cycle.lower() + '_truck' in bd.databases:\n",
    "        del bd.databases[cycle.lower() + '_truck']\n",
    "\n",
    "    # return i\n",
    "    i.write_database()"
   ],
   "id": "83266761476d3cdf",
   "outputs": [],
   "execution_count": 6
  },
  {
   "metadata": {},
   "cell_type": "code",
   "outputs": [],
   "execution_count": null,
   "source": "# create_truck_database(cycle='Long haul', ei_version=ei_version) # 800 km",
   "id": "37d9d1f8a50de951"
  },
  {
   "metadata": {
    "ExecuteTime": {
     "end_time": "2024-12-12T10:57:06.343926Z",
     "start_time": "2024-12-12T10:56:04.947995Z"
    }
   },
   "cell_type": "code",
   "source": "create_truck_database(cycle='Urban delivery', ei_version=ei_version) # 150 km ",
   "id": "45d6207b2c1bca1f",
   "outputs": [
    {
     "name": "stdout",
     "output_type": "stream",
     "text": [
      "Finding solutions for trucks...\n",
      "Urban delivery driving cycle is selected. \n",
      "Vehicles will be designed to achieve a minimal range of 150 km.\n",
      "\n",
      "\n",
      "'-' vehicle with driving mass superior to the permissible gross weight.\n",
      "'/' vehicle not available for the specified year.\n",
      "+-------------------+-----+-----+------+-----+-----+------+------+\n",
      "| Payload (in tons) | 18t | 26t | 3.5t | 32t | 40t | 60t  | 7.5t |\n",
      "+-------------------+-----+-----+------+-----+-----+------+------+\n",
      "|     BEV, 2050     | 2.7 | 6.3 | 0.8  | 8.8 | 8.8 | 16.4 | 1.8  |\n",
      "|     FCEV, 2050    | 2.7 | 6.3 | 0.8  | 8.8 | 8.8 | 16.4 | 1.8  |\n",
      "|    HEV-d, 2050    | 2.7 | 6.3 | 0.8  | 8.8 | 8.8 | 16.4 | 1.8  |\n",
      "|    ICEV-d, 2050   | 2.7 | 6.3 | 0.8  | 8.8 | 8.8 | 16.4 | 1.8  |\n",
      "|    ICEV-g, 2050   | 2.7 | 6.3 | 0.8  | 8.8 | 8.8 | 16.4 | 1.8  |\n",
      "|    PHEV-d, 2050   | 2.7 | 6.3 | 0.8  | 8.8 | 8.8 | 16.4 | 1.8  |\n",
      "+-------------------+-----+-----+------+-----+-----+------+------+\n",
      "****************** IMPORTANT BACKGROUND PARAMETERS ******************\n",
      " * The functional unit is: vkm.\n",
      " * The background prospective scenario is: SSP2-NPi.\n",
      " * The country of use is: CH.\n",
      " * Power and energy batteries produced in CN using ['NMC-955'] chemistry/ies\n",
      "\t * between 2050 and 2060, % of non-hydro renew.: 33, hydro: 54, nuclear: 1.\n",
      "hydrogen - smr - natural gas is completed by hydrogen - electrolysis - PEM.\n",
      " \t * in 2050 _________________________________________ 1.0%\n",
      " * methane is completed by methane - biomethane - sewage sludge.\n",
      " \t * in 2050 _________________________________________ 22.0%\n",
      " * diesel is completed by diesel - biodiesel - cooking oil.\n",
      " \t * in 2050 _________________________________________ 5.0%\n",
      " * *********************************************************************\n"
     ]
    },
    {
     "name": "stderr",
     "output_type": "stream",
     "text": [
      "0% [##############################] 100% | ETA: 00:00:00 | Item ID: 1801\n",
      "Total time elapsed: 00:00:00\n"
     ]
    },
    {
     "name": "stdout",
     "output_type": "stream",
     "text": [
      "Applying strategy: normalize_units\n",
      "Applying strategy: drop_unspecified_subcategories\n",
      "Applying strategy: assign_only_product_as_production\n",
      "Applying strategy: strip_biosphere_exc_locations\n",
      "Applied 4 strategies in 0.02 seconds\n",
      "Applying strategy: link_iterable_by_fields\n",
      "Applying strategy: link_iterable_by_fields\n",
      "Applying strategy: link_iterable_by_fields\n",
      "Applying strategy: link_iterable_by_fields\n",
      "537 datasets\n",
      "8590 exchanges\n",
      "0 unlinked exchanges\n",
      "  \n"
     ]
    },
    {
     "name": "stderr",
     "output_type": "stream",
     "text": [
      "Writing activities to SQLite3 database:\n",
      "0% [##############################] 100% | ETA: 00:00:00\n",
      "Total time elapsed: 00:00:00\n"
     ]
    },
    {
     "name": "stdout",
     "output_type": "stream",
     "text": [
      "Title: Writing activities to SQLite3 database:\n",
      "  Started: 12/12/2024 11:56:32\n",
      "  Finished: 12/12/2024 11:56:33\n",
      "  Total time elapsed: 00:00:00\n",
      "  CPU %: 58.10\n",
      "  Memory %: 3.24\n",
      "Created database: urban delivery_truck_20241212_2050\n"
     ]
    }
   ],
   "execution_count": 8
  },
  {
   "metadata": {
    "ExecuteTime": {
     "end_time": "2024-12-12T10:58:05.063198Z",
     "start_time": "2024-12-12T10:57:06.343926Z"
    }
   },
   "cell_type": "code",
   "source": "create_truck_database(cycle='Regional delivery', ei_version=ei_version) # 400 km ",
   "id": "d255c8f85f3955f5",
   "outputs": [
    {
     "name": "stdout",
     "output_type": "stream",
     "text": [
      "Finding solutions for trucks...\n",
      "Regional delivery driving cycle is selected. \n",
      "Vehicles will be designed to achieve a minimal range of 400 km.\n",
      "\n",
      "\n",
      "'-' vehicle with driving mass superior to the permissible gross weight.\n",
      "'/' vehicle not available for the specified year.\n",
      "+-------------------+-----+-----+------+------+------+------+------+\n",
      "| Payload (in tons) | 18t | 26t | 3.5t | 32t  | 40t  | 60t  | 7.5t |\n",
      "+-------------------+-----+-----+------+------+------+------+------+\n",
      "|     BEV, 2050     | 3.2 | 6.3 | 0.8  | 10.3 | 10.3 | 19.3 | 1.8  |\n",
      "|     FCEV, 2050    | 3.2 | 6.3 | 0.8  | 10.3 | 10.3 | 19.3 | 1.8  |\n",
      "|    HEV-d, 2050    | 3.2 | 6.3 | 0.8  | 10.3 | 10.3 | 19.3 | 1.8  |\n",
      "|    ICEV-d, 2050   | 3.2 | 6.3 | 0.8  | 10.3 | 10.3 | 19.3 | 1.8  |\n",
      "|    ICEV-g, 2050   | 3.2 | 6.3 | 0.8  | 10.3 | 10.3 | 19.3 | 1.8  |\n",
      "|    PHEV-d, 2050   | 3.2 | 6.3 | 0.8  | 10.3 | 10.3 | 19.3 | 1.7  |\n",
      "+-------------------+-----+-----+------+------+------+------+------+\n",
      "****************** IMPORTANT BACKGROUND PARAMETERS ******************\n",
      " * The functional unit is: vkm.\n",
      " * The background prospective scenario is: SSP2-NPi.\n",
      " * The country of use is: CH.\n",
      " * Power and energy batteries produced in CN using ['NMC-955'] chemistry/ies\n",
      "\t * between 2050 and 2059, % of non-hydro renew.: 33, hydro: 54, nuclear: 1.\n",
      "hydrogen - smr - natural gas is completed by hydrogen - electrolysis - PEM.\n",
      " \t * in 2050 _________________________________________ 1.0%\n",
      " * methane is completed by methane - biomethane - sewage sludge.\n",
      " \t * in 2050 _________________________________________ 22.0%\n",
      " * diesel is completed by diesel - biodiesel - cooking oil.\n",
      " \t * in 2050 _________________________________________ 5.0%\n",
      " * *********************************************************************\n"
     ]
    },
    {
     "name": "stderr",
     "output_type": "stream",
     "text": [
      "0% [##############################] 100% | ETA: 00:00:00 | Item ID: 1801\n",
      "Total time elapsed: 00:00:00\n"
     ]
    },
    {
     "name": "stdout",
     "output_type": "stream",
     "text": [
      "Applying strategy: normalize_units\n",
      "Applying strategy: drop_unspecified_subcategories\n",
      "Applying strategy: assign_only_product_as_production\n",
      "Applying strategy: strip_biosphere_exc_locations\n",
      "Applied 4 strategies in 0.00 seconds\n",
      "Applying strategy: link_iterable_by_fields\n",
      "Applying strategy: link_iterable_by_fields\n",
      "Applying strategy: link_iterable_by_fields\n",
      "Applying strategy: link_iterable_by_fields\n",
      "537 datasets\n",
      "8590 exchanges\n",
      "0 unlinked exchanges\n",
      "  \n"
     ]
    },
    {
     "name": "stderr",
     "output_type": "stream",
     "text": [
      "Writing activities to SQLite3 database:\n",
      "0% [##############################] 100% | ETA: 00:00:00\n",
      "Total time elapsed: 00:00:00\n"
     ]
    },
    {
     "name": "stdout",
     "output_type": "stream",
     "text": [
      "Title: Writing activities to SQLite3 database:\n",
      "  Started: 12/12/2024 11:57:34\n",
      "  Finished: 12/12/2024 11:57:34\n",
      "  Total time elapsed: 00:00:00\n",
      "  CPU %: 48.80\n",
      "  Memory %: 3.25\n",
      "Created database: regional delivery_truck_20241212_2050\n"
     ]
    }
   ],
   "execution_count": 9
  },
  {
   "metadata": {},
   "cell_type": "markdown",
   "source": "## Perform systematic changes on the newly created databases",
   "id": "19ecf789efc2ed16"
  },
  {
   "metadata": {
    "ExecuteTime": {
     "end_time": "2025-01-20T22:36:12.839952Z",
     "start_time": "2025-01-20T22:36:12.831998Z"
    }
   },
   "cell_type": "code",
   "source": [
    "def rename_truck_activities(cycle):\n",
    "    db = bd.Database(f\"{cycle.lower()}_truck_{datetime.now().strftime('%Y%m%d')}_{year}\")\n",
    "    db_list = [a for a in db]\n",
    "    for act in db_list:\n",
    "        if act.as_dict()['name'].startswith('transport, truck') or act.as_dict()['name'].startswith('truck,'):\n",
    "            act.as_dict()['name'] += f', {cycle.lower()}'\n",
    "        act.save()"
   ],
   "id": "2ed631c72b0dd0dc",
   "outputs": [],
   "execution_count": 8
  },
  {
   "metadata": {},
   "cell_type": "code",
   "outputs": [],
   "execution_count": null,
   "source": "# rename_truck_activities(cycle='Long haul')",
   "id": "2431452a2bf383c2"
  },
  {
   "metadata": {
    "ExecuteTime": {
     "end_time": "2024-12-12T10:59:18.608819Z",
     "start_time": "2024-12-12T10:58:42.475028Z"
    }
   },
   "cell_type": "code",
   "source": "rename_truck_activities(cycle='Regional delivery')",
   "id": "d1c9475cb6a65764",
   "outputs": [],
   "execution_count": 12
  },
  {
   "metadata": {
    "ExecuteTime": {
     "end_time": "2024-12-12T10:59:53.881240Z",
     "start_time": "2024-12-12T10:59:18.608819Z"
    }
   },
   "cell_type": "code",
   "source": "rename_truck_activities(cycle='Urban delivery')",
   "id": "de67d0ac88b03eb5",
   "outputs": [],
   "execution_count": 13
  }
 ],
 "metadata": {
  "kernelspec": {
   "display_name": "Python 3",
   "language": "python",
   "name": "python3"
  },
  "language_info": {
   "codemirror_mode": {
    "name": "ipython",
    "version": 2
   },
   "file_extension": ".py",
   "mimetype": "text/x-python",
   "name": "python",
   "nbconvert_exporter": "python",
   "pygments_lexer": "ipython2",
   "version": "2.7.6"
  }
 },
 "nbformat": 4,
 "nbformat_minor": 5
}
