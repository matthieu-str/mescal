{
 "cells": [
  {
   "metadata": {},
   "cell_type": "markdown",
   "source": [
    "# Feed the results of the ESM back in the LCI database \n",
    "The construction and operation of technologies at year t as well as the utilization of resources at year t are allocated to year t. Thus, those shall not be included again in order to avoid double-counting. However, new constructions at year t+1 are using the mix build over the past iterations. This mix is defined by the shares resulting from the ESM at the previous iteration. As mentioned before, the construction phase should be set to zero as it was allocated to the construction year.  "
   ],
   "id": "e9c417a2ee6f5204"
  },
  {
   "metadata": {
    "ExecuteTime": {
     "end_time": "2024-06-27T19:58:45.931158Z",
     "start_time": "2024-06-27T19:58:42.105226Z"
    }
   },
   "cell_type": "code",
   "source": [
    "import pandas as pd\n",
    "import bw2data as bd\n",
    "from mescal import *"
   ],
   "id": "a08485716a6796b0",
   "execution_count": 1,
   "outputs": []
  },
  {
   "metadata": {
    "ExecuteTime": {
     "end_time": "2024-06-27T19:58:46.029607Z",
     "start_time": "2024-06-27T19:58:45.931158Z"
    }
   },
   "cell_type": "code",
   "source": "bd.projects.set_current(\"ei3.8-mescal\")",
   "id": "6a93cdb0babc7265",
   "execution_count": 2,
   "outputs": []
  },
  {
   "metadata": {
    "ExecuteTime": {
     "end_time": "2024-06-27T19:58:46.055489Z",
     "start_time": "2024-06-27T19:58:46.029607Z"
    }
   },
   "cell_type": "code",
   "source": [
    "annual_prod = pd.read_csv('energyscope_data/QC/results_ES.csv')\n",
    "model = pd.read_csv('energyscope_data/QC/model.csv')\n",
    "mapping = pd.read_csv('energyscope_data/QC/mapping_linked.csv')\n",
    "unit_conversion = pd.read_csv('energyscope_data/QC/unit_conversion.csv')\n",
    "mapping_esm_flows_to_CPC = pd.read_csv('energyscope_data/QC/mapping_esm_flows_to_CPC.csv')\n",
    "technology_compositions = pd.read_csv('energyscope_data/QC/technology_compositions.csv')\n",
    "technology_specifics = pd.read_csv('energyscope_data/QC/technology_specifics.csv')\n",
    "new_end_use_types = pd.read_csv('energyscope_data/QC/new_end_use_types.csv')\n",
    "tech_to_remove_from_layers = pd.read_csv('energyscope_data/QC/technologies_to_remove_from_layers.csv')"
   ],
   "id": "450f0966782b346b",
   "execution_count": 3,
   "outputs": []
  },
  {
   "metadata": {
    "ExecuteTime": {
     "end_time": "2024-06-27T19:58:46.060111Z",
     "start_time": "2024-06-27T19:58:46.055489Z"
    }
   },
   "cell_type": "code",
   "source": "name_premise_with_CPC_db = 'ecoinvent_cutoff_3.8_remind_SSP2-Base_2020_with_CPC'",
   "id": "c17c1449cf7173ab",
   "execution_count": 4,
   "outputs": []
  },
  {
   "metadata": {
    "ExecuteTime": {
     "end_time": "2024-06-27T19:58:50.338817Z",
     "start_time": "2024-06-27T19:58:46.060111Z"
    }
   },
   "cell_type": "code",
   "source": "premise_db_with_CPC = load_extract_db(name_premise_with_CPC_db)",
   "id": "aece53db3398d962",
   "execution_count": 5,
   "outputs": []
  },
  {
   "metadata": {
    "ExecuteTime": {
     "end_time": "2024-06-27T19:58:55.145173Z",
     "start_time": "2024-06-27T19:58:50.338817Z"
    }
   },
   "cell_type": "code",
   "source": "db = concatenate_databases(list(mapping.Database.unique()))",
   "id": "8cd98e082cca6412",
   "execution_count": 6,
   "outputs": []
  },
  {
   "metadata": {
    "ExecuteTime": {
     "end_time": "2024-06-27T19:58:55.151773Z",
     "start_time": "2024-06-27T19:58:55.145173Z"
    }
   },
   "cell_type": "code",
   "source": [
    "# Define the user-defined ranking\n",
    "my_ranking = [\n",
    "    'CA-QC',  # Quebec\n",
    "    'CA',  # Canada\n",
    "    'CA-ON',  # Other canadian provinces \n",
    "    'CA-AB',\n",
    "    'CA-BC',\n",
    "    'CA-MB',\n",
    "    'CA-NB',\n",
    "    'CA-NF',\n",
    "    'CA-NS',\n",
    "    'CA-NT',\n",
    "    'CA-NU',\n",
    "    'CA-PE',\n",
    "    'CAZ',  # Canada - Australia - New Zealand\n",
    "    'RNA',  # North America\n",
    "    'US',  # United States\n",
    "    'USA',  # United States\n",
    "    'GLO',  # Global average \n",
    "    'RoW',  # Rest of the world\n",
    "]"
   ],
   "id": "80a129936457d93a",
   "execution_count": 7,
   "outputs": []
  },
  {
   "metadata": {
    "ExecuteTime": {
     "end_time": "2024-06-27T20:05:39.642280Z",
     "start_time": "2024-06-27T19:58:55.151773Z"
    }
   },
   "cell_type": "code",
   "source": [
    "create_new_database_with_esm_results(\n",
    "    mapping=mapping,\n",
    "    model=model,\n",
    "    esm_location='CA-QC',\n",
    "    esm_results=annual_prod,\n",
    "    unit_conversion=unit_conversion,\n",
    "    db=db,\n",
    "    locations_ranking=my_ranking,\n",
    "    accepted_locations=['CA-QC', 'CA'],\n",
    "    new_db_name='ecoinvent_cutoff_3.8_remind_SSP2-Base_2020_ESM',\n",
    "    technology_compositions=technology_compositions,\n",
    "    tech_specifics=technology_specifics,\n",
    "    mapping_esm_flows_to_CPC_cat=mapping_esm_flows_to_CPC,\n",
    "    tech_to_remove_layers=tech_to_remove_from_layers,\n",
    "    new_end_use_types=new_end_use_types,\n",
    ")"
   ],
   "id": "b0b4eb65dbd067dd",
   "execution_count": 8,
   "outputs": []
  }
 ],
 "metadata": {
  "kernelspec": {
   "display_name": "Python 3",
   "language": "python",
   "name": "python3"
  },
  "language_info": {
   "codemirror_mode": {
    "name": "ipython",
    "version": 2
   },
   "file_extension": ".py",
   "mimetype": "text/x-python",
   "name": "python",
   "nbconvert_exporter": "python",
   "pygments_lexer": "ipython2",
   "version": "2.7.6"
  }
 },
 "nbformat": 4,
 "nbformat_minor": 5
}
