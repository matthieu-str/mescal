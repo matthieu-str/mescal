{
 "cells": [
  {
   "metadata": {},
   "cell_type": "markdown",
   "source": [
    "# Feed the results of the ESM back in the LCI database \n",
    "The construction and operation of technologies at year t as well as the utilization of resources at year t are allocated to year t. Thus, those shall not be included again in order to avoid double-counting. However, new constructions at year t+1 are using the mix build over the past iterations. This mix is defined by the shares resulting from the ESM at the previous iteration. As mentioned before, the construction phase should be set to zero as it was allocated to the construction year.  "
   ],
   "id": "e9c417a2ee6f5204"
  },
  {
   "metadata": {
    "ExecuteTime": {
     "end_time": "2024-06-27T14:47:33.234471Z",
     "start_time": "2024-06-27T14:47:27.163568Z"
    }
   },
   "cell_type": "code",
   "source": [
    "import pandas as pd\n",
    "import bw2data as bd\n",
    "from mescal import *"
   ],
   "id": "a08485716a6796b0",
   "outputs": [],
   "execution_count": 1
  },
  {
   "metadata": {
    "ExecuteTime": {
     "end_time": "2024-06-27T14:47:33.466879Z",
     "start_time": "2024-06-27T14:47:33.234471Z"
    }
   },
   "cell_type": "code",
   "source": "bd.projects.set_current(\"ei3.8-mescal\")",
   "id": "6a93cdb0babc7265",
   "outputs": [],
   "execution_count": 2
  },
  {
   "metadata": {
    "ExecuteTime": {
     "end_time": "2024-06-27T14:47:33.505275Z",
     "start_time": "2024-06-27T14:47:33.467890Z"
    }
   },
   "cell_type": "code",
   "source": [
    "annual_prod = pd.read_csv('energyscope_data/results_ES.csv')\n",
    "model = pd.read_csv('energyscope_data/model.csv')\n",
    "mapping = pd.read_csv('energyscope_data/mapping_linked.csv')\n",
    "unit_conversion = pd.read_csv('energyscope_data/unit_conversion.csv')\n",
    "mapping_esm_flows_to_CPC = pd.read_csv('../dev/energyscope_data/mapping_esm_flows_to_CPC.csv')\n",
    "technology_compositions = pd.read_csv('../dev/energyscope_data/technology_compositions.csv')\n",
    "technology_specifics = pd.read_csv('../dev/energyscope_data/technology_specifics.csv')\n",
    "new_end_use_types = pd.read_csv('../dev/energyscope_data/new_end_use_types.csv')\n",
    "tech_to_remove_from_layers = pd.read_csv('../dev/energyscope_data/technologies_to_remove_from_layers.csv')"
   ],
   "id": "450f0966782b346b",
   "outputs": [],
   "execution_count": 3
  },
  {
   "metadata": {
    "ExecuteTime": {
     "end_time": "2024-06-27T14:47:33.513309Z",
     "start_time": "2024-06-27T14:47:33.505275Z"
    }
   },
   "cell_type": "code",
   "source": "name_premise_with_CPC_db = 'ecoinvent_cutoff_3.8_remind_SSP2-Base_2020_with_CPC'",
   "id": "c17c1449cf7173ab",
   "outputs": [],
   "execution_count": 4
  },
  {
   "metadata": {
    "ExecuteTime": {
     "end_time": "2024-06-27T14:47:39.536690Z",
     "start_time": "2024-06-27T14:47:33.515833Z"
    }
   },
   "cell_type": "code",
   "source": "premise_db_with_CPC = load_extract_db(name_premise_with_CPC_db)",
   "id": "aece53db3398d962",
   "outputs": [],
   "execution_count": 5
  },
  {
   "metadata": {
    "ExecuteTime": {
     "end_time": "2024-06-27T14:47:46.756729Z",
     "start_time": "2024-06-27T14:47:39.537200Z"
    }
   },
   "cell_type": "code",
   "source": "db = concatenate_databases(list(mapping.Database.unique()))",
   "id": "8cd98e082cca6412",
   "outputs": [],
   "execution_count": 6
  },
  {
   "metadata": {
    "ExecuteTime": {
     "end_time": "2024-06-27T14:47:46.766518Z",
     "start_time": "2024-06-27T14:47:46.756729Z"
    }
   },
   "cell_type": "code",
   "source": [
    "# Define the user-defined ranking\n",
    "my_ranking = [\n",
    "    'CA-QC',  # Quebec\n",
    "    'CA',  # Canada\n",
    "    'CA-ON',  # Other canadian provinces \n",
    "    'CA-AB',\n",
    "    'CA-BC',\n",
    "    'CA-MB',\n",
    "    'CA-NB',\n",
    "    'CA-NF',\n",
    "    'CA-NS',\n",
    "    'CA-NT',\n",
    "    'CA-NU',\n",
    "    'CA-PE',\n",
    "    'CAZ',  # Canada - Australia - New Zealand\n",
    "    'RNA',  # North America\n",
    "    'US',  # United States\n",
    "    'USA',  # United States\n",
    "    'GLO',  # Global average \n",
    "    'RoW',  # Rest of the world\n",
    "]"
   ],
   "id": "80a129936457d93a",
   "outputs": [],
   "execution_count": 7
  },
  {
   "metadata": {
    "ExecuteTime": {
     "end_time": "2024-06-27T14:56:47.294340Z",
     "start_time": "2024-06-27T14:47:46.768828Z"
    }
   },
   "cell_type": "code",
   "source": [
    "create_new_database_with_esm_results(\n",
    "    mapping=mapping,\n",
    "    model=model,\n",
    "    esm_location='CA-QC',\n",
    "    esm_results=annual_prod,\n",
    "    unit_conversion=unit_conversion,\n",
    "    db=db,\n",
    "    locations_ranking=my_ranking,\n",
    "    accepted_locations=['CA-QC', 'CA'],\n",
    "    new_db_name='ecoinvent_cutoff_3.8_remind_SSP2-Base_2020_ESM',\n",
    "    technology_compositions=technology_compositions,\n",
    "    tech_specifics=technology_specifics,\n",
    "    mapping_esm_flows_to_CPC_cat=mapping_esm_flows_to_CPC,\n",
    "    tech_to_remove_layers=tech_to_remove_from_layers,\n",
    "    new_end_use_types=new_end_use_types,\n",
    ")"
   ],
   "id": "b0b4eb65dbd067dd",
   "outputs": [
    {
     "name": "stdout",
     "output_type": "stream",
     "text": [
      "The technology DHN_RENOVATION is not in the mapping file. It cannot be considered in the result LCI dataset.\n",
      "HYDRO_DAM\n",
      "HYDRO_RIVER\n",
      "TRAFO_MH\n",
      "NUCLEAR\n",
      "TRAFO_ML\n",
      "TIDAL\n",
      "TRAFO_HM\n",
      "WIND_ONSHORE\n",
      "SMR\n",
      "IND_BOILER_GAS\n",
      "IND_BOILER_WASTE\n",
      "IND_DIRECT_ELEC\n",
      "IND_HP_ELEC\n",
      "DEC_HP_ELEC\n",
      "HT_LT_DEC\n",
      "TRAIN_FREIGHT_H2_HYBRID_LD\n",
      "TRAIN_FREIGHT_H2_HYBRID_ELD\n",
      "CAR_PROPANE_SD\n",
      "CAR_PROPANE_MD\n",
      "CAR_PROPANE_LD\n",
      "BUS_PROPANE_SD\n",
      "SCHOOLBUS_PROPANE_SD\n",
      "COACH_PROPANE_MD\n",
      "COACH_PROPANE_LD\n",
      "NG_COMP_MH\n",
      "NG_EXP_HM\n",
      "SNG_NG\n",
      "HYDRO_GAS\n",
      "Vacuuming database \n"
     ]
    },
    {
     "name": "stderr",
     "output_type": "stream",
     "text": [
      "Writing activities to SQLite3 database:\n",
      "0% [##############################] 100% | ETA: 00:00:00\n",
      "Total time elapsed: 00:00:57\n"
     ]
    },
    {
     "name": "stdout",
     "output_type": "stream",
     "text": [
      "Title: Writing activities to SQLite3 database:\n",
      "  Started: 06/27/2024 10:52:00\n",
      "  Finished: 06/27/2024 10:52:58\n",
      "  Total time elapsed: 00:00:57\n",
      "  CPU %: 47.20\n",
      "  Memory %: 17.37\n"
     ]
    }
   ],
   "execution_count": 8
  }
 ],
 "metadata": {
  "kernelspec": {
   "display_name": "Python 3",
   "language": "python",
   "name": "python3"
  },
  "language_info": {
   "codemirror_mode": {
    "name": "ipython",
    "version": 2
   },
   "file_extension": ".py",
   "mimetype": "text/x-python",
   "name": "python",
   "nbconvert_exporter": "python",
   "pygments_lexer": "ipython2",
   "version": "2.7.6"
  }
 },
 "nbformat": 4,
 "nbformat_minor": 5
}
