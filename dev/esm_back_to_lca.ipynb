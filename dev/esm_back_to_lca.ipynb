{
 "cells": [
  {
   "metadata": {},
   "cell_type": "markdown",
   "source": [
    "# Feed the results of the ESM back in the LCI database \n",
    "The construction and operation of technologies at year t as well as the utilization of resources at year t are allocated to year t. Thus, those shall not be included again in order to avoid double-counting. However, new constructions at year t+1 are using the mix build over the past iterations. This mix is defined by the shares resulting from the ESM at the previous iteration. As mentioned before, the construction phase should be set to zero as it was allocated to the construction year.  "
   ],
   "id": "e9c417a2ee6f5204"
  },
  {
   "metadata": {
    "ExecuteTime": {
     "end_time": "2024-06-25T22:07:46.953991Z",
     "start_time": "2024-06-25T22:07:41.023602Z"
    }
   },
   "cell_type": "code",
   "source": [
    "import pandas as pd\n",
    "import bw2data as bd\n",
    "from mescal import *"
   ],
   "id": "a08485716a6796b0",
   "outputs": [],
   "execution_count": 1
  },
  {
   "metadata": {
    "ExecuteTime": {
     "end_time": "2024-06-25T22:07:47.091195Z",
     "start_time": "2024-06-25T22:07:46.953991Z"
    }
   },
   "cell_type": "code",
   "source": "bd.projects.set_current(\"ei3.8-mescal\")",
   "id": "6a93cdb0babc7265",
   "outputs": [],
   "execution_count": 2
  },
  {
   "metadata": {
    "ExecuteTime": {
     "end_time": "2024-06-25T22:07:47.117074Z",
     "start_time": "2024-06-25T22:07:47.091195Z"
    }
   },
   "cell_type": "code",
   "source": [
    "annual_prod = pd.read_csv('energyscope_data/results_ES.csv')\n",
    "model = pd.read_csv('energyscope_data/model.csv')\n",
    "mapping = pd.read_csv('energyscope_data/mapping_linked.csv')\n",
    "unit_conversion = pd.read_csv('energyscope_data/unit_conversion.csv')"
   ],
   "id": "450f0966782b346b",
   "outputs": [],
   "execution_count": 3
  },
  {
   "metadata": {
    "ExecuteTime": {
     "end_time": "2024-06-25T22:07:47.124427Z",
     "start_time": "2024-06-25T22:07:47.119096Z"
    }
   },
   "cell_type": "code",
   "source": "name_premise_with_CPC_db = 'ecoinvent_cutoff_3.8_remind_SSP2-Base_2020_with_CPC'",
   "id": "c17c1449cf7173ab",
   "outputs": [],
   "execution_count": 4
  },
  {
   "metadata": {
    "ExecuteTime": {
     "end_time": "2024-06-25T22:07:52.300459Z",
     "start_time": "2024-06-25T22:07:47.124427Z"
    }
   },
   "cell_type": "code",
   "source": "premise_db_with_CPC = load_extract_db(name_premise_with_CPC_db)",
   "id": "aece53db3398d962",
   "outputs": [],
   "execution_count": 5
  },
  {
   "metadata": {
    "ExecuteTime": {
     "end_time": "2024-06-25T22:07:58.307214Z",
     "start_time": "2024-06-25T22:07:52.300459Z"
    }
   },
   "cell_type": "code",
   "source": "db = concatenate_databases(list(mapping.Database.unique()))",
   "id": "8cd98e082cca6412",
   "outputs": [],
   "execution_count": 6
  },
  {
   "metadata": {
    "ExecuteTime": {
     "end_time": "2024-06-25T22:07:58.322501Z",
     "start_time": "2024-06-25T22:07:58.307214Z"
    }
   },
   "cell_type": "code",
   "source": [
    "# Define the user-defined ranking\n",
    "my_ranking = [\n",
    "    'CA-QC',  # Quebec\n",
    "    'CA',  # Canada\n",
    "    'CA-ON',  # Other canadian provinces \n",
    "    'CA-AB',\n",
    "    'CA-BC',\n",
    "    'CA-MB',\n",
    "    'CA-NB',\n",
    "    'CA-NF',\n",
    "    'CA-NS',\n",
    "    'CA-NT',\n",
    "    'CA-NU',\n",
    "    'CA-PE',\n",
    "    'CAZ',  # Canada - Australia - New Zealand\n",
    "    'RNA',  # North America\n",
    "    'US',  # United States\n",
    "    'USA',  # United States\n",
    "    'GLO',  # Global average \n",
    "    'RoW',  # Rest of the world\n",
    "]\n"
   ],
   "id": "80a129936457d93a",
   "outputs": [],
   "execution_count": 7
  },
  {
   "metadata": {
    "ExecuteTime": {
     "end_time": "2024-06-25T22:12:59.317314Z",
     "start_time": "2024-06-25T22:07:58.324723Z"
    }
   },
   "cell_type": "code",
   "source": [
    "create_new_database_with_esm_results(\n",
    "    mapping=mapping,\n",
    "    model=model,\n",
    "    esm_location='CA-QC',\n",
    "    esm_results=annual_prod,\n",
    "    unit_conversion=unit_conversion,\n",
    "    db=db,\n",
    "    locations_ranking=my_ranking,\n",
    "    accepted_locations=['CA-QC', 'CA'],\n",
    "    new_db_name='ecoinvent_cutoff_3.8_remind_SSP2-Base_2020_ESM'\n",
    ")"
   ],
   "id": "b0b4eb65dbd067dd",
   "outputs": [
    {
     "name": "stdout",
     "output_type": "stream",
     "text": [
      "The technology IND_DIRECT_ELEC is not in the mapping file. It cannot be considered in the result LCI dataset.\n",
      "The technology DHN_RENOVATION is not in the mapping file. It cannot be considered in the result LCI dataset.\n",
      "The technology HT_LT_DEC is not in the mapping file. It cannot be considered in the result LCI dataset.\n",
      "The technology IND_DIRECT_ELEC is not in the mapping file. It cannot be considered in the result LCI dataset.\n",
      "The technology DHN_RENOVATION is not in the mapping file. It cannot be considered in the result LCI dataset.\n",
      "The technology WASTE_BIO is not in the mapping file. It cannot be considered in the result LCI dataset.\n",
      "The technology WASTE_FOS is not in the mapping file. It cannot be considered in the result LCI dataset.\n"
     ]
    },
    {
     "name": "stderr",
     "output_type": "stream",
     "text": [
      "Writing activities to SQLite3 database:\n",
      "0% [##############################] 100% | ETA: 00:00:00\n",
      "Total time elapsed: 00:00:56\n"
     ]
    },
    {
     "name": "stdout",
     "output_type": "stream",
     "text": [
      "Title: Writing activities to SQLite3 database:\n",
      "  Started: 06/25/2024 18:08:35\n",
      "  Finished: 06/25/2024 18:09:31\n",
      "  Total time elapsed: 00:00:56\n",
      "  CPU %: 45.10\n",
      "  Memory %: 17.35\n"
     ]
    }
   ],
   "execution_count": 8
  },
  {
   "metadata": {
    "ExecuteTime": {
     "end_time": "2024-06-25T22:12:59.322959Z",
     "start_time": "2024-06-25T22:12:59.319474Z"
    }
   },
   "cell_type": "code",
   "source": "",
   "id": "5a4a0b6740904831",
   "outputs": [],
   "execution_count": 8
  },
  {
   "metadata": {
    "ExecuteTime": {
     "end_time": "2024-06-25T22:12:59.328927Z",
     "start_time": "2024-06-25T22:12:59.324919Z"
    }
   },
   "cell_type": "code",
   "source": "",
   "id": "d801d45cd73f46d8",
   "outputs": [],
   "execution_count": 8
  }
 ],
 "metadata": {
  "kernelspec": {
   "display_name": "Python 3",
   "language": "python",
   "name": "python3"
  },
  "language_info": {
   "codemirror_mode": {
    "name": "ipython",
    "version": 2
   },
   "file_extension": ".py",
   "mimetype": "text/x-python",
   "name": "python",
   "nbconvert_exporter": "python",
   "pygments_lexer": "ipython2",
   "version": "2.7.6"
  }
 },
 "nbformat": 4,
 "nbformat_minor": 5
}
