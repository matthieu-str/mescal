{
 "cells": [
  {
   "metadata": {},
   "cell_type": "markdown",
   "source": [
    "# Feed the results of the ESM back in the LCI database \n",
    "The construction and operation of technologies at year t as well as the utilization of resources at year t are allocated to year t. Thus, those shall not be included again in order to avoid double-counting. However, new constructions at year t+1 are using the mix build over the past iterations. This mix is defined by the shares resulting from the ESM at the previous iteration. As mentioned before, the construction phase should be set to zero as it was allocated to the construction year.  "
   ],
   "id": "e9c417a2ee6f5204"
  },
  {
   "metadata": {
    "ExecuteTime": {
     "end_time": "2024-07-25T15:55:49.553996Z",
     "start_time": "2024-07-25T15:55:44.138961Z"
    }
   },
   "cell_type": "code",
   "source": [
    "import pandas as pd\n",
    "import bw2data as bd\n",
    "from mescal import *"
   ],
   "id": "a08485716a6796b0",
   "outputs": [],
   "execution_count": 1
  },
  {
   "metadata": {
    "ExecuteTime": {
     "end_time": "2024-07-25T15:55:50.256384Z",
     "start_time": "2024-07-25T15:55:49.553996Z"
    }
   },
   "cell_type": "code",
   "source": "bd.projects.set_current(\"ecoinvent3.9.1\")",
   "id": "6a93cdb0babc7265",
   "outputs": [],
   "execution_count": 2
  },
  {
   "metadata": {
    "ExecuteTime": {
     "end_time": "2024-07-25T15:55:50.270181Z",
     "start_time": "2024-07-25T15:55:50.256384Z"
    }
   },
   "cell_type": "code",
   "source": "esm_region = 'CA-QC'",
   "id": "466c4af791788da0",
   "outputs": [],
   "execution_count": 3
  },
  {
   "metadata": {
    "ExecuteTime": {
     "end_time": "2024-07-25T15:55:50.326272Z",
     "start_time": "2024-07-25T15:55:50.272370Z"
    }
   },
   "cell_type": "code",
   "source": [
    "annual_prod = pd.read_csv(f'energyscope_data/{esm_region}/results_ES.csv')\n",
    "model = pd.read_csv(f'energyscope_data/{esm_region}/model.csv')\n",
    "mapping = pd.read_csv(f'energyscope_data/{esm_region}/mapping_3.9.1_linked.csv')\n",
    "unit_conversion = pd.read_csv(f'energyscope_data/{esm_region}/unit_conversion_3.9.1.csv')\n",
    "mapping_esm_flows_to_CPC = pd.read_csv(f'energyscope_data/{esm_region}/mapping_esm_flows_to_CPC.csv')\n",
    "technology_compositions = pd.read_csv(f'energyscope_data/{esm_region}/technology_compositions.csv')\n",
    "technology_specifics = pd.read_csv(f'energyscope_data/{esm_region}/technology_specifics.csv')\n",
    "new_end_use_types = pd.read_csv(f'energyscope_data/{esm_region}/new_end_use_types.csv')\n",
    "tech_to_remove_from_layers = pd.read_csv(f'energyscope_data/{esm_region}/technologies_to_remove_from_layers.csv')"
   ],
   "id": "450f0966782b346b",
   "outputs": [],
   "execution_count": 4
  },
  {
   "metadata": {
    "ExecuteTime": {
     "end_time": "2024-07-25T15:55:50.338227Z",
     "start_time": "2024-07-25T15:55:50.326272Z"
    }
   },
   "cell_type": "code",
   "source": "name_premise_with_CPC_db = 'ecoinvent_cutoff_3.9.1_image_SSP2-Base_2050+truck_carculator regionalized_with_CPC'",
   "id": "c17c1449cf7173ab",
   "outputs": [],
   "execution_count": 5
  },
  {
   "metadata": {
    "ExecuteTime": {
     "end_time": "2024-07-25T15:55:59.944585Z",
     "start_time": "2024-07-25T15:55:50.338227Z"
    }
   },
   "cell_type": "code",
   "source": "premise_db_with_CPC = load_extract_db(name_premise_with_CPC_db)",
   "id": "aece53db3398d962",
   "outputs": [],
   "execution_count": 6
  },
  {
   "metadata": {
    "ExecuteTime": {
     "end_time": "2024-07-25T15:56:12.005166Z",
     "start_time": "2024-07-25T15:55:59.945599Z"
    }
   },
   "cell_type": "code",
   "source": "db = load_multiple_databases(list(mapping.Database.unique()))",
   "id": "8cd98e082cca6412",
   "outputs": [],
   "execution_count": 7
  },
  {
   "metadata": {
    "ExecuteTime": {
     "end_time": "2024-07-25T15:56:12.014554Z",
     "start_time": "2024-07-25T15:56:12.005166Z"
    }
   },
   "cell_type": "code",
   "source": [
    "# Define the user-defined ranking\n",
    "my_ranking = [\n",
    "    'CA-QC',  # Quebec\n",
    "    'CA',  # Canada\n",
    "    'CAN',\n",
    "    'CAZ',  # Canada - Australia - New Zealand\n",
    "    'RNA',  # North America\n",
    "    'US',  # United States\n",
    "    'USA',  # United States\n",
    "    'GLO',  # Global average \n",
    "    'RoW',  # Rest of the world\n",
    "]"
   ],
   "id": "80a129936457d93a",
   "outputs": [],
   "execution_count": 8
  },
  {
   "metadata": {},
   "cell_type": "code",
   "outputs": [],
   "execution_count": null,
   "source": [
    "db_with_results = create_new_database_with_esm_results(\n",
    "    mapping=mapping,\n",
    "    model=model,\n",
    "    esm_location='CA-QC',\n",
    "    esm_results=annual_prod,\n",
    "    unit_conversion=unit_conversion,\n",
    "    db=db,\n",
    "    locations_ranking=my_ranking,\n",
    "    accepted_locations=['CA-QC', 'CA'],\n",
    "    new_db_name=f'ecoinvent_cutoff_3.9.1_image_SSP2-Base_2050+truck_carculator regionalized_with_CPC_with_ESM_for_{esm_region}',\n",
    "    technology_compositions=technology_compositions,\n",
    "    tech_specifics=technology_specifics,\n",
    "    mapping_esm_flows_to_CPC_cat=mapping_esm_flows_to_CPC,\n",
    "    tech_to_remove_layers=tech_to_remove_from_layers,\n",
    "    new_end_use_types=new_end_use_types,\n",
    "    write_database=True,\n",
    "    return_obj='database',\n",
    ")"
   ],
   "id": "a7443b7a1d24eafe"
  },
  {
   "metadata": {
    "ExecuteTime": {
     "end_time": "2024-07-25T16:05:43.068759Z",
     "start_time": "2024-07-25T16:05:43.068759Z"
    }
   },
   "cell_type": "code",
   "source": "",
   "id": "b702d44085d75c9a",
   "outputs": [],
   "execution_count": null
  }
 ],
 "metadata": {
  "kernelspec": {
   "display_name": "Python 3",
   "language": "python",
   "name": "python3"
  },
  "language_info": {
   "codemirror_mode": {
    "name": "ipython",
    "version": 2
   },
   "file_extension": ".py",
   "mimetype": "text/x-python",
   "name": "python",
   "nbconvert_exporter": "python",
   "pygments_lexer": "ipython2",
   "version": "2.7.6"
  }
 },
 "nbformat": 4,
 "nbformat_minor": 5
}
