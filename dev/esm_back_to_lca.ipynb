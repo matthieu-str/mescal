{
 "cells": [
  {
   "metadata": {},
   "cell_type": "markdown",
   "source": [
    "# Feed the results of the ESM back in the LCI database \n",
    "The construction and operation of technologies at year t as well as the utilization of resources at year t are allocated to year t. Thus, those shall not be included again in order to avoid double-counting. However, new constructions at year t+1 are using the mix build over the past iterations. This mix is defined by the shares resulting from the ESM at the previous iteration. As mentioned before, the construction phase should be set to zero as it was allocated to the construction year.  "
   ],
   "id": "e9c417a2ee6f5204"
  },
  {
   "metadata": {
    "ExecuteTime": {
     "end_time": "2024-06-21T21:29:12.065043Z",
     "start_time": "2024-06-21T21:29:04.884470Z"
    }
   },
   "cell_type": "code",
   "source": [
    "import pandas as pd\n",
    "import bw2data as bd\n",
    "from mescal import *"
   ],
   "id": "a08485716a6796b0",
   "outputs": [],
   "execution_count": 1
  },
  {
   "metadata": {
    "ExecuteTime": {
     "end_time": "2024-06-21T21:29:12.223485Z",
     "start_time": "2024-06-21T21:29:12.066100Z"
    }
   },
   "cell_type": "code",
   "source": "bd.projects.set_current(\"ei3.8-mescal\")",
   "id": "6a93cdb0babc7265",
   "outputs": [],
   "execution_count": 2
  },
  {
   "metadata": {
    "ExecuteTime": {
     "end_time": "2024-06-21T21:29:12.253503Z",
     "start_time": "2024-06-21T21:29:12.223485Z"
    }
   },
   "cell_type": "code",
   "source": [
    "annual_prod = pd.read_csv('energyscope_data/results_ES.csv')\n",
    "model = pd.read_csv('energyscope_data/model.csv')\n",
    "mapping = pd.read_csv('energyscope_data/mapping_linked.csv')\n",
    "flows = pd.read_csv('energyscope_data/hidden/flows_ecoinvent.csv')"
   ],
   "id": "450f0966782b346b",
   "outputs": [],
   "execution_count": 3
  },
  {
   "metadata": {
    "ExecuteTime": {
     "end_time": "2024-06-21T21:29:12.262027Z",
     "start_time": "2024-06-21T21:29:12.253503Z"
    }
   },
   "cell_type": "code",
   "source": "name_premise_with_CPC_db = 'ecoinvent_cutoff_3.8_remind_SSP2-Base_2020_with_CPC'",
   "id": "c17c1449cf7173ab",
   "outputs": [],
   "execution_count": 4
  },
  {
   "metadata": {
    "ExecuteTime": {
     "end_time": "2024-06-21T21:29:18.130259Z",
     "start_time": "2024-06-21T21:29:12.262027Z"
    }
   },
   "cell_type": "code",
   "source": "premise_db_with_CPC = load_extract_db(name_premise_with_CPC_db)",
   "id": "aece53db3398d962",
   "outputs": [],
   "execution_count": 5
  },
  {
   "metadata": {
    "ExecuteTime": {
     "end_time": "2024-06-21T21:29:29.648335Z",
     "start_time": "2024-06-21T21:29:18.131261Z"
    }
   },
   "cell_type": "code",
   "source": [
    "db_mapping = concatenate_databases(list(mapping.Database.unique()))\n",
    "db_flows = concatenate_databases(list(flows.Database.unique()))"
   ],
   "id": "8cd98e082cca6412",
   "outputs": [],
   "execution_count": 6
  },
  {
   "metadata": {
    "ExecuteTime": {
     "end_time": "2024-06-21T21:29:29.662235Z",
     "start_time": "2024-06-21T21:29:29.650893Z"
    }
   },
   "cell_type": "code",
   "source": "flows['Type'] = len(flows) * ['Flow']",
   "id": "e7247bc2a6bc8c5",
   "outputs": [],
   "execution_count": 7
  },
  {
   "metadata": {
    "ExecuteTime": {
     "end_time": "2024-06-21T21:29:29.687170Z",
     "start_time": "2024-06-21T21:29:29.663864Z"
    }
   },
   "cell_type": "code",
   "source": [
    "# Define the user-defined ranking\n",
    "my_ranking = [\n",
    "    'CA-QC', # Quebec\n",
    "    'CA', # Canada\n",
    "    'CA-ON', # Other canadian provinces \n",
    "    'CA-AB',\n",
    "    'CA-BC',\n",
    "    'CA-MB',\n",
    "    'CA-NB',\n",
    "    'CA-NF',\n",
    "    'CA-NS',\n",
    "    'CA-NT',\n",
    "    'CA-NU',\n",
    "    'CA-PE',\n",
    "    'CAZ', # Canada - Australia - New Zealand\n",
    "    'RNA', # North America\n",
    "    'US', # United States\n",
    "    'USA', # United States\n",
    "    'GLO', # Global average \n",
    "    'RoW', # Rest of the world\n",
    "]"
   ],
   "id": "fa2d8262edd3566e",
   "outputs": [],
   "execution_count": 8
  },
  {
   "metadata": {
    "ExecuteTime": {
     "end_time": "2024-06-21T21:29:30.653117Z",
     "start_time": "2024-06-21T21:29:29.687170Z"
    }
   },
   "cell_type": "code",
   "source": [
    "flows = change_location_mapping_file(\n",
    "    flows,\n",
    "    my_ranking,\n",
    "    db_flows,\n",
    "    'QC',\n",
    ")"
   ],
   "id": "f905901204430b6",
   "outputs": [],
   "execution_count": 9
  },
  {
   "metadata": {
    "ExecuteTime": {
     "end_time": "2024-06-21T21:29:36.845429Z",
     "start_time": "2024-06-21T21:29:30.659724Z"
    }
   },
   "cell_type": "code",
   "source": "flows = create_complementary_database(flows, premise_db_with_CPC, '')",
   "id": "a87f9f2593d05dd7",
   "outputs": [
    {
     "name": "stdout",
     "output_type": "stream",
     "text": [
      "The complementary database did not needed to be created\n"
     ]
    }
   ],
   "execution_count": 10
  },
  {
   "metadata": {
    "ExecuteTime": {
     "end_time": "2024-06-21T21:29:36.868981Z",
     "start_time": "2024-06-21T21:29:36.845429Z"
    }
   },
   "cell_type": "code",
   "source": "flows.head()",
   "id": "cef38cd00bbee1d2",
   "outputs": [
    {
     "data": {
      "text/plain": [
       "          Name  Type                                            Product  \\\n",
       "0  ACETIC_ACID  Flow  acetic acid, without water, in 98% solution state   \n",
       "1      ACETONE  Flow                                    acetone, liquid   \n",
       "2     ALUMINUM  Flow                          aluminium, primary, ingot   \n",
       "3      BENZENE  Flow                                            benzene   \n",
       "4   BIO_DIESEL  Flow                           biodiesel, vehicle grade   \n",
       "\n",
       "                                            Activity Location  \\\n",
       "0  market for acetic acid, without water, in 98% ...      GLO   \n",
       "1                         market for acetone, liquid      RoW   \n",
       "2               market for aluminium, primary, ingot      RoW   \n",
       "3                                 market for benzene      GLO   \n",
       "4  biodiesel, from used cooking oil, at fuelling ...      RER   \n",
       "\n",
       "                                            Database  \n",
       "0  ecoinvent_cutoff_3.8_remind_SSP2-Base_2020_wit...  \n",
       "1  ecoinvent_cutoff_3.8_remind_SSP2-Base_2020_wit...  \n",
       "2  ecoinvent_cutoff_3.8_remind_SSP2-Base_2020_wit...  \n",
       "3  ecoinvent_cutoff_3.8_remind_SSP2-Base_2020_wit...  \n",
       "4  ecoinvent_cutoff_3.8_remind_SSP2-Base_2020_wit...  "
      ],
      "text/html": [
       "<div>\n",
       "<style scoped>\n",
       "    .dataframe tbody tr th:only-of-type {\n",
       "        vertical-align: middle;\n",
       "    }\n",
       "\n",
       "    .dataframe tbody tr th {\n",
       "        vertical-align: top;\n",
       "    }\n",
       "\n",
       "    .dataframe thead th {\n",
       "        text-align: right;\n",
       "    }\n",
       "</style>\n",
       "<table border=\"1\" class=\"dataframe\">\n",
       "  <thead>\n",
       "    <tr style=\"text-align: right;\">\n",
       "      <th></th>\n",
       "      <th>Name</th>\n",
       "      <th>Type</th>\n",
       "      <th>Product</th>\n",
       "      <th>Activity</th>\n",
       "      <th>Location</th>\n",
       "      <th>Database</th>\n",
       "    </tr>\n",
       "  </thead>\n",
       "  <tbody>\n",
       "    <tr>\n",
       "      <th>0</th>\n",
       "      <td>ACETIC_ACID</td>\n",
       "      <td>Flow</td>\n",
       "      <td>acetic acid, without water, in 98% solution state</td>\n",
       "      <td>market for acetic acid, without water, in 98% ...</td>\n",
       "      <td>GLO</td>\n",
       "      <td>ecoinvent_cutoff_3.8_remind_SSP2-Base_2020_wit...</td>\n",
       "    </tr>\n",
       "    <tr>\n",
       "      <th>1</th>\n",
       "      <td>ACETONE</td>\n",
       "      <td>Flow</td>\n",
       "      <td>acetone, liquid</td>\n",
       "      <td>market for acetone, liquid</td>\n",
       "      <td>RoW</td>\n",
       "      <td>ecoinvent_cutoff_3.8_remind_SSP2-Base_2020_wit...</td>\n",
       "    </tr>\n",
       "    <tr>\n",
       "      <th>2</th>\n",
       "      <td>ALUMINUM</td>\n",
       "      <td>Flow</td>\n",
       "      <td>aluminium, primary, ingot</td>\n",
       "      <td>market for aluminium, primary, ingot</td>\n",
       "      <td>RoW</td>\n",
       "      <td>ecoinvent_cutoff_3.8_remind_SSP2-Base_2020_wit...</td>\n",
       "    </tr>\n",
       "    <tr>\n",
       "      <th>3</th>\n",
       "      <td>BENZENE</td>\n",
       "      <td>Flow</td>\n",
       "      <td>benzene</td>\n",
       "      <td>market for benzene</td>\n",
       "      <td>GLO</td>\n",
       "      <td>ecoinvent_cutoff_3.8_remind_SSP2-Base_2020_wit...</td>\n",
       "    </tr>\n",
       "    <tr>\n",
       "      <th>4</th>\n",
       "      <td>BIO_DIESEL</td>\n",
       "      <td>Flow</td>\n",
       "      <td>biodiesel, vehicle grade</td>\n",
       "      <td>biodiesel, from used cooking oil, at fuelling ...</td>\n",
       "      <td>RER</td>\n",
       "      <td>ecoinvent_cutoff_3.8_remind_SSP2-Base_2020_wit...</td>\n",
       "    </tr>\n",
       "  </tbody>\n",
       "</table>\n",
       "</div>"
      ]
     },
     "execution_count": 11,
     "metadata": {},
     "output_type": "execute_result"
    }
   ],
   "execution_count": 11
  },
  {
   "metadata": {
    "ExecuteTime": {
     "end_time": "2024-06-21T21:29:40.327045Z",
     "start_time": "2024-06-21T21:29:36.868981Z"
    }
   },
   "cell_type": "code",
   "source": [
    "for i in range(len(flows)):\n",
    "    db = create_or_modify_activity_from_esm_results(\n",
    "        db=db_mapping,\n",
    "        original_activity_prod=flows.Product.iloc[i],\n",
    "        original_activity_name=flows.Activity.iloc[i],\n",
    "        original_activity_database=flows.Database.iloc[i],\n",
    "        model=model,\n",
    "        flows=flows,\n",
    "        esm_results=annual_prod,\n",
    "        mapping=mapping,\n",
    "    )"
   ],
   "id": "b0b4eb65dbd067dd",
   "outputs": [
    {
     "name": "stdout",
     "output_type": "stream",
     "text": [
      "ACETIC_ACID\n",
      "ETHANE_OXIDATION\n",
      "METHANOL_CARBONYLATION\n",
      "ACETONE\n",
      "CUMENE_PROCESS\n",
      "AL_MAKING\n",
      "AL_MAKING_HR\n",
      "BENZENE\n",
      "METHANOL_TO_AROMATICS\n",
      "BIO_DIESEL\n",
      "CEMENT_PROD\n",
      "CEMENT_PROD_HP\n",
      "DAC_HT\n",
      "DAC_LT\n",
      "STO_CO2\n",
      "COAL\n",
      "DIESEL\n",
      "CO2_TO_DIESEL\n",
      "FT\n",
      "STO_DIE\n",
      "ELECTRICITY_EHV\n",
      "CCGT\n",
      "CCGT_CC\n",
      "COAL_IGCC\n",
      "COAL_IGCC_CC\n",
      "COAL_US\n",
      "COAL_US_CC\n",
      "H2_CCGT\n",
      "H2_NG_CCGT\n",
      "H2_NG_CCGT_CCS\n",
      "HYDRO_DAM\n",
      "HYDRO_RIVER\n",
      "NEW_HYDRO_DAM\n",
      "OCGT_LARGE\n",
      "OCGT_SMALL\n",
      "TRAFO_MH\n",
      "NUCLEAR\n",
      "ELECTRICITY_EHV\n",
      "CCGT\n",
      "CCGT_CC\n",
      "COAL_IGCC\n",
      "COAL_IGCC_CC\n",
      "COAL_US\n",
      "COAL_US_CC\n",
      "H2_CCGT\n",
      "H2_NG_CCGT\n",
      "H2_NG_CCGT_CCS\n",
      "HYDRO_DAM\n",
      "HYDRO_RIVER\n",
      "NEW_HYDRO_DAM\n",
      "OCGT_LARGE\n",
      "OCGT_SMALL\n",
      "TRAFO_MH\n",
      "NUCLEAR\n",
      "PV\n",
      "TRAFO_ML\n",
      "STO_ELEC\n",
      "AN_DIG_SI\n",
      "GEOTHERMAL\n",
      "HYDRO_GAS_CHP\n",
      "NEW_HYDRO_RIVER\n",
      "TIDAL\n",
      "TRAFO_HM\n",
      "TRAFO_LM\n",
      "WIND_OFFSHORE\n",
      "WIND_ONSHORE\n",
      "ETHANE\n",
      "ETHANOL\n",
      "CROPS_TO_ETHANOL\n",
      "ETHYLBENZENE\n",
      "ETHYLENE\n",
      "ETHANE_CRACKING\n",
      "ETHANE_TO_ETHYLENE\n",
      "METATHESIS_PROPYLENE\n",
      "METHANOL_TO_OLEFINS\n",
      "FOOD_PROD\n",
      "FOOD_PROD_HP\n",
      "FOOD_PROD_HR\n",
      "GASOLINE\n",
      "STO_GASO\n",
      "H2_EHP\n",
      "H2_HP\n",
      "H2_MP\n",
      "H2_LP\n",
      "ALKALINE_ELECTROLYSIS\n",
      "ATR\n",
      "ATR_CCS\n",
      "BIOGAS_ATR\n",
      "BIOGAS_ATR_CCS\n",
      "BIOGAS_SMR\n",
      "BIOGAS_SMR_CCS\n",
      "BIOMASS_GAS_EF_H2\n",
      "BIOMASS_GAS_EF_H2_CCS\n",
      "BIOMASS_GAS_FB_H2\n",
      "BIOMASS_GAS_FB_H2_CCS\n",
      "COAL_GAS_H2\n",
      "COAL_GAS_H2_ADV\n",
      "COAL_GAS_H2_ADV_CCS\n",
      "COAL_GAS_H2_CCS\n",
      "GASIFICATION_H2\n",
      "H2_COMP_HE\n",
      "H2_COMP_LM\n",
      "H2_COMP_MH\n",
      "H2_EXP_EH\n"
     ]
    },
    {
     "ename": "IndexError",
     "evalue": "single positional indexer is out-of-bounds",
     "output_type": "error",
     "traceback": [
      "\u001B[1;31m---------------------------------------------------------------------------\u001B[0m",
      "\u001B[1;31mIndexError\u001B[0m                                Traceback (most recent call last)",
      "Cell \u001B[1;32mIn[12], line 2\u001B[0m\n\u001B[0;32m      1\u001B[0m \u001B[38;5;28;01mfor\u001B[39;00m i \u001B[38;5;129;01min\u001B[39;00m \u001B[38;5;28mrange\u001B[39m(\u001B[38;5;28mlen\u001B[39m(flows)):\n\u001B[1;32m----> 2\u001B[0m     db \u001B[38;5;241m=\u001B[39m \u001B[43mcreate_or_modify_activity_from_esm_results\u001B[49m\u001B[43m(\u001B[49m\n\u001B[0;32m      3\u001B[0m \u001B[43m        \u001B[49m\u001B[43mdb\u001B[49m\u001B[38;5;241;43m=\u001B[39;49m\u001B[43mdb_mapping\u001B[49m\u001B[43m,\u001B[49m\n\u001B[0;32m      4\u001B[0m \u001B[43m        \u001B[49m\u001B[43moriginal_activity_prod\u001B[49m\u001B[38;5;241;43m=\u001B[39;49m\u001B[43mflows\u001B[49m\u001B[38;5;241;43m.\u001B[39;49m\u001B[43mProduct\u001B[49m\u001B[38;5;241;43m.\u001B[39;49m\u001B[43miloc\u001B[49m\u001B[43m[\u001B[49m\u001B[43mi\u001B[49m\u001B[43m]\u001B[49m\u001B[43m,\u001B[49m\n\u001B[0;32m      5\u001B[0m \u001B[43m        \u001B[49m\u001B[43moriginal_activity_name\u001B[49m\u001B[38;5;241;43m=\u001B[39;49m\u001B[43mflows\u001B[49m\u001B[38;5;241;43m.\u001B[39;49m\u001B[43mActivity\u001B[49m\u001B[38;5;241;43m.\u001B[39;49m\u001B[43miloc\u001B[49m\u001B[43m[\u001B[49m\u001B[43mi\u001B[49m\u001B[43m]\u001B[49m\u001B[43m,\u001B[49m\n\u001B[0;32m      6\u001B[0m \u001B[43m        \u001B[49m\u001B[43moriginal_activity_database\u001B[49m\u001B[38;5;241;43m=\u001B[39;49m\u001B[43mflows\u001B[49m\u001B[38;5;241;43m.\u001B[39;49m\u001B[43mDatabase\u001B[49m\u001B[38;5;241;43m.\u001B[39;49m\u001B[43miloc\u001B[49m\u001B[43m[\u001B[49m\u001B[43mi\u001B[49m\u001B[43m]\u001B[49m\u001B[43m,\u001B[49m\n\u001B[0;32m      7\u001B[0m \u001B[43m        \u001B[49m\u001B[43mmodel\u001B[49m\u001B[38;5;241;43m=\u001B[39;49m\u001B[43mmodel\u001B[49m\u001B[43m,\u001B[49m\n\u001B[0;32m      8\u001B[0m \u001B[43m        \u001B[49m\u001B[43mflows\u001B[49m\u001B[38;5;241;43m=\u001B[39;49m\u001B[43mflows\u001B[49m\u001B[43m,\u001B[49m\n\u001B[0;32m      9\u001B[0m \u001B[43m        \u001B[49m\u001B[43mesm_results\u001B[49m\u001B[38;5;241;43m=\u001B[39;49m\u001B[43mannual_prod\u001B[49m\u001B[43m,\u001B[49m\n\u001B[0;32m     10\u001B[0m \u001B[43m        \u001B[49m\u001B[43mmapping\u001B[49m\u001B[38;5;241;43m=\u001B[39;49m\u001B[43mmapping\u001B[49m\u001B[43m,\u001B[49m\n\u001B[0;32m     11\u001B[0m \u001B[43m    \u001B[49m\u001B[43m)\u001B[49m\n",
      "File \u001B[1;32m~\\PycharmProjects\\mescal\\mescal\\esm_back_to_lca.py:43\u001B[0m, in \u001B[0;36mcreate_or_modify_activity_from_esm_results\u001B[1;34m(db, original_activity_prod, original_activity_name, original_activity_database, flows, model, esm_results, mapping)\u001B[0m\n\u001B[0;32m     41\u001B[0m     \u001B[38;5;28;01mpass\u001B[39;00m\n\u001B[0;32m     42\u001B[0m \u001B[38;5;28;01melse\u001B[39;00m:\n\u001B[1;32m---> 43\u001B[0m     activity_name \u001B[38;5;241m=\u001B[39m \u001B[43mmapping\u001B[49m\u001B[43m[\u001B[49m\u001B[43mmapping\u001B[49m\u001B[38;5;241;43m.\u001B[39;49m\u001B[43mName\u001B[49m\u001B[43m \u001B[49m\u001B[38;5;241;43m==\u001B[39;49m\u001B[43m \u001B[49m\u001B[43mtech\u001B[49m\u001B[43m]\u001B[49m\u001B[38;5;241;43m.\u001B[39;49m\u001B[43mActivity\u001B[49m\u001B[38;5;241;43m.\u001B[39;49m\u001B[43miloc\u001B[49m\u001B[43m[\u001B[49m\u001B[38;5;241;43m0\u001B[39;49m\u001B[43m]\u001B[49m\n\u001B[0;32m     44\u001B[0m     activity_prod \u001B[38;5;241m=\u001B[39m mapping[mapping\u001B[38;5;241m.\u001B[39mName \u001B[38;5;241m==\u001B[39m tech]\u001B[38;5;241m.\u001B[39mProduct\u001B[38;5;241m.\u001B[39miloc[\u001B[38;5;241m0\u001B[39m]\n\u001B[0;32m     45\u001B[0m     activity_database \u001B[38;5;241m=\u001B[39m mapping[mapping\u001B[38;5;241m.\u001B[39mName \u001B[38;5;241m==\u001B[39m tech]\u001B[38;5;241m.\u001B[39mDatabase\u001B[38;5;241m.\u001B[39miloc[\u001B[38;5;241m0\u001B[39m]\n",
      "File \u001B[1;32m~\\PycharmProjects\\mescal\\venv\\Lib\\site-packages\\pandas\\core\\indexing.py:1191\u001B[0m, in \u001B[0;36m_LocationIndexer.__getitem__\u001B[1;34m(self, key)\u001B[0m\n\u001B[0;32m   1189\u001B[0m maybe_callable \u001B[38;5;241m=\u001B[39m com\u001B[38;5;241m.\u001B[39mapply_if_callable(key, \u001B[38;5;28mself\u001B[39m\u001B[38;5;241m.\u001B[39mobj)\n\u001B[0;32m   1190\u001B[0m maybe_callable \u001B[38;5;241m=\u001B[39m \u001B[38;5;28mself\u001B[39m\u001B[38;5;241m.\u001B[39m_check_deprecated_callable_usage(key, maybe_callable)\n\u001B[1;32m-> 1191\u001B[0m \u001B[38;5;28;01mreturn\u001B[39;00m \u001B[38;5;28;43mself\u001B[39;49m\u001B[38;5;241;43m.\u001B[39;49m\u001B[43m_getitem_axis\u001B[49m\u001B[43m(\u001B[49m\u001B[43mmaybe_callable\u001B[49m\u001B[43m,\u001B[49m\u001B[43m \u001B[49m\u001B[43maxis\u001B[49m\u001B[38;5;241;43m=\u001B[39;49m\u001B[43maxis\u001B[49m\u001B[43m)\u001B[49m\n",
      "File \u001B[1;32m~\\PycharmProjects\\mescal\\venv\\Lib\\site-packages\\pandas\\core\\indexing.py:1752\u001B[0m, in \u001B[0;36m_iLocIndexer._getitem_axis\u001B[1;34m(self, key, axis)\u001B[0m\n\u001B[0;32m   1749\u001B[0m     \u001B[38;5;28;01mraise\u001B[39;00m \u001B[38;5;167;01mTypeError\u001B[39;00m(\u001B[38;5;124m\"\u001B[39m\u001B[38;5;124mCannot index by location index with a non-integer key\u001B[39m\u001B[38;5;124m\"\u001B[39m)\n\u001B[0;32m   1751\u001B[0m \u001B[38;5;66;03m# validate the location\u001B[39;00m\n\u001B[1;32m-> 1752\u001B[0m \u001B[38;5;28;43mself\u001B[39;49m\u001B[38;5;241;43m.\u001B[39;49m\u001B[43m_validate_integer\u001B[49m\u001B[43m(\u001B[49m\u001B[43mkey\u001B[49m\u001B[43m,\u001B[49m\u001B[43m \u001B[49m\u001B[43maxis\u001B[49m\u001B[43m)\u001B[49m\n\u001B[0;32m   1754\u001B[0m \u001B[38;5;28;01mreturn\u001B[39;00m \u001B[38;5;28mself\u001B[39m\u001B[38;5;241m.\u001B[39mobj\u001B[38;5;241m.\u001B[39m_ixs(key, axis\u001B[38;5;241m=\u001B[39maxis)\n",
      "File \u001B[1;32m~\\PycharmProjects\\mescal\\venv\\Lib\\site-packages\\pandas\\core\\indexing.py:1685\u001B[0m, in \u001B[0;36m_iLocIndexer._validate_integer\u001B[1;34m(self, key, axis)\u001B[0m\n\u001B[0;32m   1683\u001B[0m len_axis \u001B[38;5;241m=\u001B[39m \u001B[38;5;28mlen\u001B[39m(\u001B[38;5;28mself\u001B[39m\u001B[38;5;241m.\u001B[39mobj\u001B[38;5;241m.\u001B[39m_get_axis(axis))\n\u001B[0;32m   1684\u001B[0m \u001B[38;5;28;01mif\u001B[39;00m key \u001B[38;5;241m>\u001B[39m\u001B[38;5;241m=\u001B[39m len_axis \u001B[38;5;129;01mor\u001B[39;00m key \u001B[38;5;241m<\u001B[39m \u001B[38;5;241m-\u001B[39mlen_axis:\n\u001B[1;32m-> 1685\u001B[0m     \u001B[38;5;28;01mraise\u001B[39;00m \u001B[38;5;167;01mIndexError\u001B[39;00m(\u001B[38;5;124m\"\u001B[39m\u001B[38;5;124msingle positional indexer is out-of-bounds\u001B[39m\u001B[38;5;124m\"\u001B[39m)\n",
      "\u001B[1;31mIndexError\u001B[0m: single positional indexer is out-of-bounds"
     ]
    }
   ],
   "execution_count": 12
  },
  {
   "metadata": {},
   "cell_type": "code",
   "outputs": [],
   "execution_count": null,
   "source": "",
   "id": "9b43b531ecf04e9c"
  }
 ],
 "metadata": {
  "kernelspec": {
   "display_name": "Python 3",
   "language": "python",
   "name": "python3"
  },
  "language_info": {
   "codemirror_mode": {
    "name": "ipython",
    "version": 2
   },
   "file_extension": ".py",
   "mimetype": "text/x-python",
   "name": "python",
   "nbconvert_exporter": "python",
   "pygments_lexer": "ipython2",
   "version": "2.7.6"
  }
 },
 "nbformat": 4,
 "nbformat_minor": 5
}
