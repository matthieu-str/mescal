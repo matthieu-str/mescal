{
 "cells": [
  {
   "metadata": {},
   "cell_type": "markdown",
   "source": "# Plot LCA indicators",
   "id": "6219c7bf593e3f60"
  },
  {
   "metadata": {},
   "cell_type": "code",
   "source": [
    "%load_ext autoreload\n",
    "%autoreload 2"
   ],
   "id": "ba58989102a7d9f9",
   "outputs": [],
   "execution_count": null
  },
  {
   "metadata": {},
   "cell_type": "code",
   "source": [
    "import pandas as pd\n",
    "import bw2data as bd\n",
    "from mescal import *"
   ],
   "id": "1178ec76bf08d9b8",
   "outputs": [],
   "execution_count": null
  },
  {
   "metadata": {},
   "cell_type": "code",
   "source": [
    "impact_indicators = pd.read_csv('../examples/results/energyscope_CA-QC/2020/impact_scores.csv')\n",
    "lifetime = pd.read_csv('../dev/energyscope_data/CA-QC/lifetime.csv')\n",
    "esm_results_tech = pd.read_csv('../dev/energyscope_data/CA-QC/results_ES.csv')\n",
    "esm_results_res = pd.read_csv('../dev/energyscope_data/CA-QC/results_ES_res.csv')"
   ],
   "id": "d57efab5ed2ffb90",
   "outputs": [],
   "execution_count": null
  },
  {
   "metadata": {},
   "cell_type": "code",
   "source": "esm_results_tech.head()",
   "id": "b88af806085b0208",
   "outputs": [],
   "execution_count": null
  },
  {
   "metadata": {},
   "cell_type": "code",
   "source": "esm_results_res.head()",
   "id": "235d6ce0dc98c0aa",
   "outputs": [],
   "execution_count": null
  },
  {
   "metadata": {},
   "cell_type": "code",
   "source": "impact_indicators.Value *= 1e6 # from FU / kW(h)-pkm-tkm to FU / GW(h)-Mpkm-Mtkm",
   "id": "e608ec7d51d05040",
   "outputs": [],
   "execution_count": null
  },
  {
   "metadata": {},
   "cell_type": "code",
   "source": "# bd.projects.set_current('ecoinvent3.9.1')",
   "id": "dd29412a1ee34308",
   "outputs": [],
   "execution_count": null
  },
  {
   "metadata": {},
   "cell_type": "markdown",
   "source": "## Bar chart for operation of construction indicators of technologies ",
   "id": "738a99a759dcf05b"
  },
  {
   "metadata": {},
   "cell_type": "code",
   "source": [
    "plot = Plot(\n",
    "    df_impact_scores=impact_indicators,\n",
    "    esm_results_tech=esm_results_tech,\n",
    "    esm_results_res=esm_results_res,\n",
    "    lifetime=lifetime,\n",
    ")"
   ],
   "id": "b735e11d8e3a8274",
   "outputs": [],
   "execution_count": null
  },
  {
   "metadata": {},
   "cell_type": "code",
   "source": [
    "impact_category = ('IMPACT World+ Damage 2.0.1_regionalized', 'Human health', 'Total human health')\n",
    "saving_format = 'html'"
   ],
   "id": "9ee2eaac69455a77",
   "outputs": [],
   "execution_count": null
  },
  {
   "metadata": {},
   "cell_type": "code",
   "source": [
    "plot.plot_indicators_of_technologies_for_one_impact_category(\n",
    "    technologies_list=['PV', 'WIND_ONSHORE', 'HYDRO_DAM', 'CCGT', 'CCGT_CC'],\n",
    "    impact_category=impact_category,\n",
    "    metadata={\n",
    "        'operation_unit': 'kWh',\n",
    "        'construction_unit': 'kW',\n",
    "        'technologies_type': 'electricity production',\n",
    "        'impact_category_unit': 'DALY',\n",
    "    },\n",
    "    contributions_total_score=False,\n",
    ")"
   ],
   "id": "ccd90a069f9d8db",
   "outputs": [],
   "execution_count": null
  },
  {
   "metadata": {},
   "cell_type": "code",
   "source": [
    "plot.plot_indicators_of_technologies_for_one_impact_category(\n",
    "    technologies_list=['PV', 'WIND_ONSHORE', 'HYDRO_DAM', 'CCGT', 'CCGT_CC'],\n",
    "    impact_category=impact_category,\n",
    "    metadata={\n",
    "        'operation_unit': 'kWh',\n",
    "        'construction_unit': 'kW',\n",
    "        'technologies_type': 'electricity production', \n",
    "    },\n",
    "    saving_format=saving_format,\n",
    "    saving_path='figures/Technologies/',\n",
    "    contributions_total_score=True,\n",
    ")"
   ],
   "id": "72389fd9ccb6dbfd",
   "outputs": [],
   "execution_count": null
  },
  {
   "metadata": {},
   "cell_type": "code",
   "source": [
    "plot.plot_indicators_of_resources_for_one_impact_category(\n",
    "    resources_list=['COAL', 'LFO', 'NG_EHP', 'WOOD'],\n",
    "    impact_category=impact_category,\n",
    "    metadata={\n",
    "        'unit': 'kWh',\n",
    "        'impact_category_unit': 'DALY',\n",
    "    },\n",
    "    saving_format=saving_format,\n",
    "    saving_path='figures/Resources/',\n",
    "    contributions_total_score=True,\n",
    ")"
   ],
   "id": "955bcf5a09b04478",
   "outputs": [],
   "execution_count": null
  },
  {
   "metadata": {},
   "cell_type": "code",
   "source": [
    "plot.plot_indicators_of_technologies_for_several_impact_categories(\n",
    "    technologies_list=['PV', 'WIND_ONSHORE', 'HYDRO_DAM', 'CCGT', 'CCGT_CC'],\n",
    "    impact_categories_list=[\n",
    "        ('IMPACT World+ Midpoint 2.0.1_regionalized', 'Midpoint', 'Climate change, short term'),\n",
    "        ('IMPACT World+ Midpoint 2.0.1_regionalized', 'Midpoint', 'Climate change, long term'),\n",
    "        ('IMPACT World+ Midpoint 2.0.1_regionalized', 'Midpoint', 'Water scarcity'),\n",
    "    ],\n",
    "    saving_path='figures/Technologies/',\n",
    "    saving_format='html',\n",
    "    filename='technologies_impact_categories_example',\n",
    ")"
   ],
   "id": "1f6e588fa03473ac",
   "outputs": [],
   "execution_count": null
  },
  {
   "metadata": {},
   "cell_type": "code",
   "source": [
    "plot.plot_indicators_of_resources_for_several_impact_categories(\n",
    "    resources_list=['COAL', 'LFO', 'NG_EHP', 'WOOD'],\n",
    "    impact_categories_units={\n",
    "        ('IMPACT World+ Midpoint 2.0.1_regionalized', 'Midpoint', 'Climate change, short term'): 'kg CO2 eq (short)',\n",
    "        ('IMPACT World+ Midpoint 2.0.1_regionalized', 'Midpoint', 'Climate change, long term'): 'kg CO2 eq (long)',\n",
    "        ('IMPACT World+ Midpoint 2.0.1_regionalized', 'Midpoint', 'Water scarcity'): 'm3 world eq',\n",
    "    },\n",
    "    saving_path='figures/Resources/',\n",
    "    saving_format='html',\n",
    "    filename='resources_impact_categories_example',\n",
    ")"
   ],
   "id": "f3b53b70f09ee8d8",
   "outputs": [],
   "execution_count": null
  },
  {
   "metadata": {},
   "cell_type": "code",
   "source": [
    "df_all = plot.plot_results(\n",
    "    impact_categories_units={\n",
    "        ('IMPACT World+ Midpoint 2.0.1_regionalized', 'Midpoint', 'Climate change, short term'): 'kg CO2 eq (short)',\n",
    "        ('IMPACT World+ Midpoint 2.0.1_regionalized', 'Midpoint', 'Climate change, long term'): 'kg CO2 eq (long)',\n",
    "    },\n",
    "    normalized=False,\n",
    ")"
   ],
   "id": "cdd92891ca54b4c",
   "outputs": [],
   "execution_count": null
  },
  {
   "metadata": {},
   "cell_type": "code",
   "source": [
    "plot.plot_results(\n",
    "    impact_categories_list=[\n",
    "        ('IMPACT World+ Midpoint 2.0.1_regionalized', 'Midpoint', 'Climate change, short term'),\n",
    "        ('IMPACT World+ Midpoint 2.0.1_regionalized', 'Midpoint', 'Climate change, long term'),\n",
    "        ('IMPACT World+ Midpoint 2.0.1_regionalized', 'Midpoint', 'Water scarcity'),\n",
    "    ],\n",
    "    normalized=True,\n",
    ")"
   ],
   "id": "1f30c34f60b56d77",
   "outputs": [],
   "execution_count": null
  },
  {
   "metadata": {},
   "cell_type": "code",
   "source": [
    "plot.plot_results(\n",
    "    impact_categories_list=[\n",
    "        ('IMPACT World+ Midpoint 2.0.1_regionalized', 'Midpoint', 'Climate change, short term'),\n",
    "        ('IMPACT World+ Midpoint 2.0.1_regionalized', 'Midpoint', 'Climate change, long term'),\n",
    "        ('IMPACT World+ Midpoint 2.0.1_regionalized', 'Midpoint', 'Water scarcity'),\n",
    "    ],\n",
    "    normalized=True,\n",
    "    split_by='Name',\n",
    "    N_highest_contributors=5,\n",
    ")"
   ],
   "id": "6d1c66b536641421",
   "outputs": [],
   "execution_count": null
  }
 ],
 "metadata": {
  "kernelspec": {
   "display_name": "Python 3",
   "language": "python",
   "name": "python3"
  },
  "language_info": {
   "codemirror_mode": {
    "name": "ipython",
    "version": 2
   },
   "file_extension": ".py",
   "mimetype": "text/x-python",
   "name": "python",
   "nbconvert_exporter": "python",
   "pygments_lexer": "ipython2",
   "version": "2.7.6"
  }
 },
 "nbformat": 4,
 "nbformat_minor": 5
}
