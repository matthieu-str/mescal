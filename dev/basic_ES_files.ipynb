{
 "cells": [
  {
   "cell_type": "markdown",
   "source": [
    "# Consolidating several mappings"
   ],
   "metadata": {
    "collapsed": false
   }
  },
  {
   "cell_type": "code",
   "source": [
    "import pandas as pd\n",
    "import numpy as np\n",
    "import bw2data as bd\n",
    "from mescal import *"
   ],
   "metadata": {
    "collapsed": false,
    "ExecuteTime": {
     "end_time": "2024-10-14T17:57:39.345714Z",
     "start_time": "2024-10-14T17:57:33.856738Z"
    }
   },
   "outputs": [],
   "execution_count": 1
  },
  {
   "metadata": {
    "ExecuteTime": {
     "end_time": "2024-10-14T17:57:39.530948Z",
     "start_time": "2024-10-14T17:57:39.348731Z"
    }
   },
   "cell_type": "code",
   "source": "bd.projects.set_current('ei3.8-mescal')",
   "outputs": [],
   "execution_count": 2
  },
  {
   "metadata": {
    "ExecuteTime": {
     "end_time": "2024-10-14T17:57:39.535762Z",
     "start_time": "2024-10-14T17:57:39.532002Z"
    }
   },
   "cell_type": "code",
   "source": "ES_region = 'CH' # 'CH' or 'CA-QC'",
   "outputs": [],
   "execution_count": 3
  },
  {
   "metadata": {
    "ExecuteTime": {
     "end_time": "2024-10-14T17:57:39.605395Z",
     "start_time": "2024-10-14T17:57:39.538910Z"
    }
   },
   "cell_type": "code",
   "source": [
    "tech_CH = pd.read_csv('energyscope_data/CA-QC/hidden/tech_CH.csv') # mapping from ecoinvent 3.8 for CH\n",
    "tech_QC = pd.read_csv('energyscope_data/CA-QC/hidden/tech_QC.csv') # mapping from ecoinvent 3.8 and premise specific for QC\n",
    "comp_CH = pd.read_excel('energyscope_data/CA-QC/hidden/techno_compositions_CH.xlsx') # list of compositions of technologies with premise mapping for CH\n",
    "comp_QC = pd.read_excel('energyscope_data/CA-QC/hidden/techno_compositions_QC.xlsx') # list of compositions of technologies with premise mapping for QC\n",
    "# dict_ES = pd.read_csv('energyscope_data/CA-QC/hidden/Technology_Dictionary_v2.csv')\n",
    "# region_tech_ES = pd.read_excel('energyscope_data/CA-QC/hidden/Technologies_ES_version.xlsx')\n",
    "layers_in_out_CH = pd.read_csv(f\"energyscope_data/CA-QC/hidden/layers_in_out_CH.csv\")\n",
    "layers_in_out_QC = pd.read_csv(f\"energyscope_data/CA-QC/hidden/layers_in_out_QC.csv\")"
   ],
   "outputs": [],
   "execution_count": 4
  },
  {
   "metadata": {
    "ExecuteTime": {
     "end_time": "2024-10-14T17:57:39.957766Z",
     "start_time": "2024-10-14T17:57:39.607669Z"
    }
   },
   "cell_type": "code",
   "source": [
    "assumptions_diff_CH = pd.read_excel('energyscope_data/CA-QC/hidden/assumptions_diff_CH.xlsx')\n",
    "assumptions_diff_QC = pd.read_excel('energyscope_data/CA-QC/hidden/assumptions_diff_QC.xlsx')\n",
    "efficiency = pd.read_csv(f\"energyscope_data/CA-QC/hidden/efficiency_{ES_region[-2:]}.csv\")\n",
    "mob_model_private_CH = pd.read_csv(\n",
    "    \"energyscope_data/CA-QC/hidden/MODELS_OF_TECHNOLOGIES_OF_PRIVATEMOB_ALL_DISTANCES_CH.csv\", sep=',')\n",
    "mob_model_private_QC = pd.read_csv(\n",
    "    \"energyscope_data/CA-QC/hidden/MODELS_OF_TECHNOLOGIES_OF_PRIVATEMOB_ALL_DISTANCES_QC.csv\", sep=',')\n",
    "mob_model_public_QC = pd.read_csv(\n",
    "    \"energyscope_data/CA-QC/hidden/MODELS_OF_TECHNOLOGIES_OF_PUBLICMOB_ALL_DISTANCES_QC.csv\", sep=',')\n",
    "mob_model_freight_QC = pd.read_csv(\n",
    "    \"energyscope_data/CA-QC/hidden/MODELS_OF_TECHNOLOGIES_OF_FREIGHTMOB_ALL_DISTANCES_QC.csv\", sep=',')"
   ],
   "outputs": [],
   "execution_count": 5
  },
  {
   "metadata": {
    "ExecuteTime": {
     "end_time": "2024-10-14T17:57:39.979076Z",
     "start_time": "2024-10-14T17:57:39.959780Z"
    }
   },
   "cell_type": "code",
   "source": [
    "# # Allows to keep formulas in Excel files\n",
    "# from openpyxl import load_workbook\n",
    "# wb_CH = load_workbook(filename = 'energyscope_data/hidden/tech_unit_conversion_CH.xlsx')\n",
    "# unit_conv_CH = pd.DataFrame(wb_CH[wb_CH.sheetnames[0]].values)\n",
    "# wb_QC = load_workbook(filename = 'energyscope_data/hidden/tech_unit_conversion_QC.xlsx')\n",
    "# unit_conv_QC = pd.DataFrame(wb_QC[wb_QC.sheetnames[0]].values)"
   ],
   "outputs": [],
   "execution_count": 6
  },
  {
   "metadata": {
    "ExecuteTime": {
     "end_time": "2024-10-14T17:57:39.995086Z",
     "start_time": "2024-10-14T17:57:39.982747Z"
    }
   },
   "cell_type": "code",
   "source": [
    "# # setting first row as header\n",
    "# new_header_CH = unit_conv_CH.iloc[0]\n",
    "# unit_conv_CH = unit_conv_CH[1:]\n",
    "# unit_conv_CH.columns = new_header_CH\n",
    "# new_header_QC = unit_conv_QC.iloc[0]\n",
    "# unit_conv_QC = unit_conv_QC[1:]\n",
    "# unit_conv_QC.columns = new_header_QC"
   ],
   "outputs": [],
   "execution_count": 7
  },
  {
   "metadata": {
    "ExecuteTime": {
     "end_time": "2024-10-14T17:57:40.549966Z",
     "start_time": "2024-10-14T17:57:39.999515Z"
    }
   },
   "cell_type": "code",
   "source": [
    "unit_conv_CH = pd.read_excel('energyscope_data/CA-QC/hidden/tech_unit_conversion_CH.xlsx')\n",
    "unit_conv_QC = pd.read_excel('energyscope_data/CA-QC/hidden/tech_unit_conversion_QC.xlsx')"
   ],
   "outputs": [],
   "execution_count": 8
  },
  {
   "metadata": {
    "ExecuteTime": {
     "end_time": "2024-10-14T17:57:40.560400Z",
     "start_time": "2024-10-14T17:57:40.551977Z"
    }
   },
   "cell_type": "code",
   "source": [
    "if 'Validation' in tech_CH.columns:\n",
    "    tech_CH.drop(columns='Validation', inplace=True)\n",
    "if 'Validation' in tech_QC.columns:\n",
    "    tech_QC.drop(columns='Validation', inplace=True)\n",
    "if 'Validation' in assumptions_diff_CH.columns:\n",
    "    assumptions_diff_CH.drop(columns='Validation', inplace=True)\n",
    "if 'Validation' in assumptions_diff_QC.columns:\n",
    "    assumptions_diff_QC.drop(columns='Validation', inplace=True)"
   ],
   "outputs": [],
   "execution_count": 9
  },
  {
   "metadata": {},
   "cell_type": "markdown",
   "source": "# Model file"
  },
  {
   "metadata": {
    "ExecuteTime": {
     "end_time": "2024-10-14T17:57:40.613883Z",
     "start_time": "2024-10-14T17:57:40.563413Z"
    }
   },
   "cell_type": "code",
   "source": [
    "layers_in_out_QC = layers_in_out_QC.melt(id_vars=['ES_name'], value_vars=layers_in_out_QC.columns[1:])\n",
    "layers_in_out_QC = layers_in_out_QC[layers_in_out_QC['value'] != 0]\n",
    "layers_in_out_QC.rename(columns={'ES_name': 'Flow', 'variable': 'Name', 'value': 'Amount'}, inplace=True)\n",
    "\n",
    "if ES_region == 'CA-QC':\n",
    "    model = layers_in_out_QC\n",
    "elif ES_region == 'CH':\n",
    "    model = layers_in_out_CH\n",
    "else:\n",
    "    raise ValueError('ES_region should be either CH or CA-QC')\n",
    "model[['Name', 'Flow', 'Amount']].to_csv(f'energyscope_data/{ES_region}/model.csv', index=False)"
   ],
   "outputs": [],
   "execution_count": 10
  },
  {
   "metadata": {},
   "cell_type": "markdown",
   "source": "## Mapping file"
  },
  {
   "metadata": {
    "ExecuteTime": {
     "end_time": "2024-10-14T17:57:40.628284Z",
     "start_time": "2024-10-14T17:57:40.615170Z"
    }
   },
   "cell_type": "code",
   "source": "len(tech_CH.ES_name.unique())",
   "outputs": [
    {
     "data": {
      "text/plain": [
       "275"
      ]
     },
     "execution_count": 11,
     "metadata": {},
     "output_type": "execute_result"
    }
   ],
   "execution_count": 11
  },
  {
   "metadata": {},
   "cell_type": "markdown",
   "source": "### QC"
  },
  {
   "metadata": {},
   "cell_type": "markdown",
   "source": "We start from the consolidated file of CH and add/replace what is in the tech_QC additional mapping, and filter what was only for CH using the list of technologies from ES-QC."
  },
  {
   "metadata": {
    "ExecuteTime": {
     "end_time": "2024-10-14T17:57:40.634714Z",
     "start_time": "2024-10-14T17:57:40.630296Z"
    }
   },
   "cell_type": "code",
   "source": "# region_tech_ES.dropna(subset=['ES_version'], inplace=True) # OTHER_BIOMASS to remove",
   "outputs": [],
   "execution_count": 12
  },
  {
   "metadata": {
    "ExecuteTime": {
     "end_time": "2024-10-14T17:57:40.646098Z",
     "start_time": "2024-10-14T17:57:40.637346Z"
    }
   },
   "cell_type": "code",
   "source": [
    "# list_tech_QC = list(region_tech_ES[region_tech_ES.ES_version.str.contains('CA')].tech_name)\n",
    "list_tech_QC = list(layers_in_out_QC.Name.unique())"
   ],
   "outputs": [],
   "execution_count": 13
  },
  {
   "metadata": {
    "ExecuteTime": {
     "end_time": "2024-10-14T17:57:40.655543Z",
     "start_time": "2024-10-14T17:57:40.646098Z"
    }
   },
   "cell_type": "code",
   "source": [
    "sub_comp_CH = list(set([x for xs in comp_CH.iloc[:, 1:].values.tolist() for x in xs])) # list of all subcomponents for CH\n",
    "sub_comp_QC = list(set([x for xs in comp_QC.iloc[:, 1:].values.tolist() for x in xs])) # list of all subcomponents for QC"
   ],
   "outputs": [],
   "execution_count": 14
  },
  {
   "metadata": {
    "ExecuteTime": {
     "end_time": "2024-10-14T17:57:40.663770Z",
     "start_time": "2024-10-14T17:57:40.657578Z"
    }
   },
   "cell_type": "code",
   "source": [
    "def replace_mob_submodel_by_model_CH(row):\n",
    "    if row.ES_name in list(mob_model_private_CH.Model_1):\n",
    "        return mob_model_private_CH[mob_model_private_CH.Model_1 == row.ES_name].Main_tech.iloc[0]\n",
    "    elif row.ES_name in list(mob_model_private_CH.Model_2):\n",
    "        return mob_model_private_CH[mob_model_private_CH.Model_2 == row.ES_name].Main_tech.iloc[0]\n",
    "    return row.ES_name"
   ],
   "outputs": [],
   "execution_count": 15
  },
  {
   "metadata": {
    "ExecuteTime": {
     "end_time": "2024-10-14T17:57:40.670610Z",
     "start_time": "2024-10-14T17:57:40.665782Z"
    }
   },
   "cell_type": "code",
   "source": [
    "def replace_mob_model_names(row):\n",
    "    if row.ES_name == 'CAR_HY_GASOLINE':\n",
    "        return 'CAR_HEV'\n",
    "    if row.ES_name == 'CAR_PHEV_GASOLINE':\n",
    "        return 'CAR_PHEV'\n",
    "    if row.ES_name == 'TRAIN_FREIGHT':\n",
    "        return 'TRAIN_FREIGHT_ELEC'\n",
    "    if row.ES_name == 'TRAIN_FREIGHT_LOC':\n",
    "        return 'TRAIN_FREIGHT_ELEC_LOC'\n",
    "    if row.ES_name == 'TRAIN_FREIGHT_WAG':\n",
    "        return 'TRAIN_FREIGHT_ELEC_WAG'\n",
    "    return row.ES_name"
   ],
   "outputs": [],
   "execution_count": 16
  },
  {
   "metadata": {
    "ExecuteTime": {
     "end_time": "2024-10-14T17:57:40.677512Z",
     "start_time": "2024-10-14T17:57:40.672138Z"
    }
   },
   "cell_type": "code",
   "source": [
    "def flatten(xss):\n",
    "    return [x for xs in xss for x in xs]"
   ],
   "outputs": [],
   "execution_count": 17
  },
  {
   "metadata": {
    "ExecuteTime": {
     "end_time": "2024-10-14T17:57:40.687670Z",
     "start_time": "2024-10-14T17:57:40.679659Z"
    }
   },
   "cell_type": "code",
   "source": "assumptions_diff_CH.drop(assumptions_diff_CH[assumptions_diff_CH.ES_name.isin(list(mob_model_private_CH.Main_tech.unique()))].index, inplace=True)",
   "outputs": [],
   "execution_count": 18
  },
  {
   "metadata": {
    "ExecuteTime": {
     "end_time": "2024-10-14T17:57:40.742303Z",
     "start_time": "2024-10-14T17:57:40.689683Z"
    }
   },
   "cell_type": "code",
   "source": [
    "tech_CH['ES_name'] = tech_CH.apply(replace_mob_submodel_by_model_CH, axis=1)\n",
    "unit_conv_CH['ES_name'] = unit_conv_CH.apply(replace_mob_submodel_by_model_CH, axis=1)\n",
    "assumptions_diff_CH['ES_name'] = assumptions_diff_CH.apply(replace_mob_submodel_by_model_CH, axis=1)"
   ],
   "outputs": [],
   "execution_count": 19
  },
  {
   "metadata": {
    "ExecuteTime": {
     "end_time": "2024-10-14T17:57:40.775083Z",
     "start_time": "2024-10-14T17:57:40.744349Z"
    }
   },
   "cell_type": "code",
   "source": [
    "tech_QC['ES_name'] = tech_QC.apply(replace_mob_model_names, axis=1)\n",
    "unit_conv_QC['ES_name'] = unit_conv_QC.apply(replace_mob_model_names, axis=1)\n",
    "assumptions_diff_QC['ES_name'] = assumptions_diff_QC.apply(replace_mob_model_names, axis=1)"
   ],
   "outputs": [],
   "execution_count": 20
  },
  {
   "metadata": {
    "ExecuteTime": {
     "end_time": "2024-10-14T17:57:40.803726Z",
     "start_time": "2024-10-14T17:57:40.776102Z"
    }
   },
   "cell_type": "code",
   "source": [
    "tech_CH['ES_name'] = tech_CH.apply(replace_mob_model_names, axis=1)\n",
    "unit_conv_CH['ES_name'] = unit_conv_CH.apply(replace_mob_model_names, axis=1)\n",
    "assumptions_diff_CH['ES_name'] = assumptions_diff_CH.apply(replace_mob_model_names, axis=1)"
   ],
   "outputs": [],
   "execution_count": 21
  },
  {
   "metadata": {
    "ExecuteTime": {
     "end_time": "2024-10-14T17:57:40.821165Z",
     "start_time": "2024-10-14T17:57:40.805404Z"
    }
   },
   "cell_type": "code",
   "source": [
    "tech_CH.drop_duplicates(inplace=True)\n",
    "unit_conv_CH.drop_duplicates(inplace=True)\n",
    "assumptions_diff_CH.drop_duplicates(inplace=True)"
   ],
   "outputs": [],
   "execution_count": 22
  },
  {
   "metadata": {
    "ExecuteTime": {
     "end_time": "2024-10-14T17:57:41.520265Z",
     "start_time": "2024-10-14T17:57:40.823605Z"
    }
   },
   "cell_type": "code",
   "source": [
    "list_tech_QC_updated = list_tech_QC.copy()\n",
    "for i in list_tech_QC:\n",
    "    if i in flatten(list(mob_model_private_QC[['Model_1', 'Model_2', 'Model_3', 'Model_4']].values)):\n",
    "        list_tech_QC_updated.remove(i)\n",
    "        list_tech_QC_updated.append(mob_model_private_QC[mob_model_private_QC[['Model_1', 'Model_2', 'Model_3', 'Model_4']].isin([i]).any(axis=1)].Main_tech.iloc[0])\n",
    "    if i in flatten(list(mob_model_public_QC[['Model_1', 'Model_2', 'Model_3']].values)):\n",
    "        list_tech_QC_updated.remove(i)\n",
    "        list_tech_QC_updated.append(mob_model_public_QC[mob_model_public_QC[['Model_1', 'Model_2', 'Model_3']].isin([i]).any(axis=1)].Main_tech.iloc[0])\n",
    "    if i in flatten(list(mob_model_freight_QC[['Model_1', 'Model_2']].values)):\n",
    "        list_tech_QC_updated.remove(i)\n",
    "        list_tech_QC_updated.append(mob_model_freight_QC[mob_model_freight_QC[['Model_1', 'Model_2']].isin([i]).any(axis=1)].Main_tech.iloc[0])"
   ],
   "outputs": [],
   "execution_count": 23
  },
  {
   "metadata": {
    "ExecuteTime": {
     "end_time": "2024-10-14T17:57:41.528573Z",
     "start_time": "2024-10-14T17:57:41.522636Z"
    }
   },
   "cell_type": "code",
   "source": "list_tech_QC_updated = sorted(list(set(list_tech_QC_updated)))",
   "outputs": [],
   "execution_count": 24
  },
  {
   "metadata": {
    "ExecuteTime": {
     "end_time": "2024-10-14T17:57:41.534357Z",
     "start_time": "2024-10-14T17:57:41.528573Z"
    }
   },
   "cell_type": "code",
   "source": "list_tech_QC = list_tech_QC_updated",
   "outputs": [],
   "execution_count": 25
  },
  {
   "metadata": {
    "ExecuteTime": {
     "end_time": "2024-10-14T17:57:41.544943Z",
     "start_time": "2024-10-14T17:57:41.534357Z"
    }
   },
   "cell_type": "code",
   "source": [
    "# Remove technologies that are not in ES-QC\n",
    "tech_not_QC = []\n",
    "\n",
    "# Operation\n",
    "for tech in list(tech_CH[tech_CH.type == 'Operation'].ES_name):\n",
    "    \n",
    "    if tech not in list_tech_QC:\n",
    "        tech_not_QC.append(tech)\n",
    "    else:\n",
    "        pass\n",
    "\n",
    "# Construction\n",
    "for tech in list(tech_CH[tech_CH.type == 'Construction'].ES_name):\n",
    "    \n",
    "    if tech in sub_comp_CH:\n",
    "        if tech not in sub_comp_QC:\n",
    "            tech_not_QC.append(tech)\n",
    "        else:\n",
    "            pass"
   ],
   "outputs": [],
   "execution_count": 26
  },
  {
   "metadata": {
    "ExecuteTime": {
     "end_time": "2024-10-14T17:57:41.552558Z",
     "start_time": "2024-10-14T17:57:41.547117Z"
    }
   },
   "cell_type": "code",
   "source": "tech_CH_filtered = tech_CH.drop(index=tech_CH[tech_CH.ES_name.isin(tech_not_QC)].index)",
   "outputs": [],
   "execution_count": 27
  },
  {
   "metadata": {
    "ExecuteTime": {
     "end_time": "2024-10-14T17:57:41.741434Z",
     "start_time": "2024-10-14T17:57:41.555115Z"
    }
   },
   "cell_type": "code",
   "source": [
    "# Remove the LCI datasets that need to be updated from the CH list\n",
    "update_constr = []\n",
    "for tech in list(tech_CH[tech_CH.type == 'Construction'].ES_name):\n",
    "    if (tech in list(tech_CH[tech_CH.type == 'Construction'].ES_name)) & (tech in list(tech_QC[tech_QC.type == 'Construction'].ES_name)):\n",
    "        update_constr.append(tech)\n",
    "\n",
    "update_op = []\n",
    "for tech in list(tech_CH[tech_CH.type == 'Operation'].ES_name):\n",
    "    if (tech in list(tech_CH[tech_CH.type == 'Operation'].ES_name)) & (tech in list(tech_QC[tech_QC.type == 'Operation'].ES_name)):\n",
    "        update_op.append(tech)"
   ],
   "outputs": [],
   "execution_count": 28
  },
  {
   "metadata": {
    "ExecuteTime": {
     "end_time": "2024-10-14T17:57:41.750983Z",
     "start_time": "2024-10-14T17:57:41.741434Z"
    }
   },
   "cell_type": "code",
   "source": [
    "tech_CH_filtered.drop(index=tech_CH_filtered[(tech_CH_filtered.ES_name.isin(update_constr)) & (tech_CH_filtered.type == 'Construction')].index, inplace=True)\n",
    "tech_CH_filtered.drop(index=tech_CH_filtered[(tech_CH_filtered.ES_name.isin(update_op)) & (tech_CH_filtered.type == 'Operation')].index, inplace=True)"
   ],
   "outputs": [],
   "execution_count": 29
  },
  {
   "metadata": {
    "ExecuteTime": {
     "end_time": "2024-10-14T17:57:41.758693Z",
     "start_time": "2024-10-14T17:57:41.750983Z"
    }
   },
   "cell_type": "code",
   "source": "tech_consolidated_QC = pd.concat([tech_CH_filtered, tech_QC])",
   "outputs": [],
   "execution_count": 30
  },
  {
   "metadata": {
    "ExecuteTime": {
     "end_time": "2024-10-14T17:57:41.769051Z",
     "start_time": "2024-10-14T17:57:41.758693Z"
    }
   },
   "cell_type": "code",
   "source": "tech_consolidated_QC.duplicated(subset=['ES_name', 'type']).sum()",
   "outputs": [
    {
     "data": {
      "text/plain": [
       "0"
      ]
     },
     "execution_count": 31,
     "metadata": {},
     "output_type": "execute_result"
    }
   ],
   "execution_count": 31
  },
  {
   "metadata": {},
   "cell_type": "markdown",
   "source": "## Unit conversion file"
  },
  {
   "metadata": {},
   "cell_type": "markdown",
   "source": "### CH"
  },
  {
   "metadata": {
    "ExecuteTime": {
     "end_time": "2024-10-14T17:57:41.777916Z",
     "start_time": "2024-10-14T17:57:41.771247Z"
    }
   },
   "cell_type": "code",
   "source": "unit_conv_CH = unit_conv_CH[['ES_name', 'ei_constr_unit', 'ES_constr_unit', 'ei_use_unit', 'ES_use_unit', 'capacity', 'conversion', 'ei_constr_unit_size', 'ES_constr_unit_size', 'Assumptions & Sources']]",
   "outputs": [],
   "execution_count": 32
  },
  {
   "metadata": {
    "ExecuteTime": {
     "end_time": "2024-10-14T17:57:41.784958Z",
     "start_time": "2024-10-14T17:57:41.777916Z"
    }
   },
   "cell_type": "code",
   "source": [
    "# Drop the rows where both the capacity and conversion factors are None\n",
    "unit_conv_CH.drop(unit_conv_CH[(unit_conv_CH.conversion.values == None) & (unit_conv_CH.capacity.values == None)].index, inplace=True)"
   ],
   "outputs": [],
   "execution_count": 33
  },
  {
   "metadata": {},
   "cell_type": "markdown",
   "source": "### QC"
  },
  {
   "metadata": {
    "ExecuteTime": {
     "end_time": "2024-10-14T17:57:41.794539Z",
     "start_time": "2024-10-14T17:57:41.786968Z"
    }
   },
   "cell_type": "code",
   "source": "unit_conv_QC = unit_conv_QC[unit_conv_CH.columns]",
   "outputs": [],
   "execution_count": 34
  },
  {
   "metadata": {
    "ExecuteTime": {
     "end_time": "2024-10-14T17:57:41.802743Z",
     "start_time": "2024-10-14T17:57:41.796316Z"
    }
   },
   "cell_type": "code",
   "source": "unit_conv_QC.dropna(how='all', axis=0, inplace=True)",
   "outputs": [],
   "execution_count": 35
  },
  {
   "metadata": {
    "ExecuteTime": {
     "end_time": "2024-10-14T17:57:41.834882Z",
     "start_time": "2024-10-14T17:57:41.804863Z"
    }
   },
   "cell_type": "code",
   "source": [
    "# In order to overwrite some conversion factors (same technologies but different factors between CH and QC), we remove from the CH file the factors that are present in both files\n",
    "unit_conv_CH_overwrite = unit_conv_CH.copy()\n",
    "for tech in list(unit_conv_QC.ES_name.unique()):\n",
    "    if tech in list(unit_conv_CH.ES_name.unique()):\n",
    "        unit_conv_CH_overwrite.drop(unit_conv_CH[unit_conv_CH.ES_name == tech].index, inplace=True)"
   ],
   "outputs": [],
   "execution_count": 36
  },
  {
   "metadata": {
    "ExecuteTime": {
     "end_time": "2024-10-14T17:57:41.841509Z",
     "start_time": "2024-10-14T17:57:41.834882Z"
    }
   },
   "cell_type": "code",
   "source": "unit_conv_QC_consolidated = pd.concat([unit_conv_CH_overwrite.drop(unit_conv_CH_overwrite[unit_conv_CH_overwrite.ES_name.isin(tech_not_QC)].index), unit_conv_QC])",
   "outputs": [],
   "execution_count": 37
  },
  {
   "metadata": {},
   "cell_type": "markdown",
   "source": "# Duplicate mapping for mobility models"
  },
  {
   "metadata": {
    "ExecuteTime": {
     "end_time": "2024-10-14T17:57:41.850207Z",
     "start_time": "2024-10-14T17:57:41.841509Z"
    }
   },
   "cell_type": "code",
   "source": [
    "if ES_region == 'CA-QC':\n",
    "    tech_ecoinvent = tech_consolidated_QC.copy(deep=True)\n",
    "    tech_unit_conversion = unit_conv_QC_consolidated.copy(deep=True)\n",
    "    comp = comp_QC.copy(deep=True)\n",
    "    assumptions_diff = assumptions_diff_QC.copy(deep=True)\n",
    "elif ES_region == 'CH':\n",
    "    tech_ecoinvent = tech_CH.copy(deep=True)\n",
    "    tech_unit_conversion = unit_conv_CH.copy(deep=True)\n",
    "    comp = comp_CH.copy(deep=True)\n",
    "    assumptions_diff = assumptions_diff_CH.copy(deep=True)\n",
    "else:\n",
    "    raise ValueError('ES_region should be either CH or CA-QC')"
   ],
   "outputs": [],
   "execution_count": 38
  },
  {
   "metadata": {
    "ExecuteTime": {
     "end_time": "2024-10-14T17:57:41.854749Z",
     "start_time": "2024-10-14T17:57:41.850207Z"
    }
   },
   "cell_type": "code",
   "source": [
    "tech_ecoinvent.reset_index(drop=True, inplace=True)\n",
    "tech_unit_conversion.reset_index(drop=True, inplace=True)\n",
    "comp.reset_index(drop=True, inplace=True)"
   ],
   "outputs": [],
   "execution_count": 39
  },
  {
   "metadata": {
    "ExecuteTime": {
     "end_time": "2024-10-14T17:57:41.862798Z",
     "start_time": "2024-10-14T17:57:41.856799Z"
    }
   },
   "cell_type": "code",
   "source": [
    "# Gather all non-nan components into a list\n",
    "comp['Components'] = [[e for e in row if e == e] for row in comp.iloc[:, 1:].values.tolist()]\n",
    "comp_dict = dict(zip(comp.ES_name, comp.Components))\n",
    "N_sub_comp_max = 4  # maximum number of subcomponents in the compositions file"
   ],
   "outputs": [],
   "execution_count": 40
  },
  {
   "metadata": {
    "ExecuteTime": {
     "end_time": "2024-10-14T17:57:41.875411Z",
     "start_time": "2024-10-14T17:57:41.863810Z"
    }
   },
   "cell_type": "code",
   "source": [
    "def gen_df_mob_models(df):\n",
    "    df_mobility_models = pd.DataFrame(columns=tech_ecoinvent.columns)\n",
    "\n",
    "    for i in range(len(df)):\n",
    "        tech = df.Main_tech.iloc[i]\n",
    "\n",
    "        if tech in list(tech_ecoinvent.ES_name):\n",
    "\n",
    "            j = 1\n",
    "            model = str(df[df.Main_tech == tech][f'Model_{j}'].iloc[0])\n",
    "            while (model != 'nan') & (j < df.shape[1]):\n",
    "                if str(df_mobility_models.index.max()) == 'nan':\n",
    "                    idx = 1\n",
    "                else:\n",
    "                    idx = df_mobility_models.index.max() + 1\n",
    "                df_mobility_models.loc[idx] = [model] + list(tech_ecoinvent[tech_ecoinvent.ES_name == tech].iloc[0, 1:])  # operation\n",
    "                tech_unit_conversion.loc[tech_unit_conversion.index.max() + 1] = [model] + list(tech_unit_conversion[tech_unit_conversion.ES_name == tech].iloc[0,1:])  # update unit conversion Excel files with additional rows for mobility models\n",
    "                # dict_ES.loc[dict_ES.index.max() + 1] = [model] + list(dict_ES[dict_ES['Programming name'] == tech].iloc[0,1:])  # update technology dictionary Excel file with additional rows for mobility models\n",
    "                assumptions_diff.loc[assumptions_diff.index.max() + 1] = [model] + list(assumptions_diff[assumptions_diff.ES_name == tech].iloc[0,1:])  # update unit conversion Excel files with additional rows for mobility models\n",
    "                if tech in list(efficiency.ES_name.unique()):\n",
    "                    efficiency.loc[efficiency.index.max() + 1] = [model] + list(efficiency[efficiency.ES_name == tech].iloc[0,1:])  # update efficiency Excel files with additional rows for mobility models\n",
    "\n",
    "                if tech in comp_dict.keys():\n",
    "\n",
    "                    N_sub_comp = len(comp_dict[tech])\n",
    "                    subscript_comp_list = []\n",
    "\n",
    "                    for i, sub_comp in enumerate(comp_dict[tech]):\n",
    "                        subscript_comp = sub_comp.replace(tech, '')\n",
    "                        subscript_comp_list.append(subscript_comp)\n",
    "                        df_mobility_models.loc[df_mobility_models.index.max() + 1] = [model + subscript_comp] + list(tech_ecoinvent[tech_ecoinvent.ES_name == sub_comp].iloc[0,1:])  # construction component idx\n",
    "                        tech_unit_conversion.loc[tech_unit_conversion.index.max() + 1] = [model + subscript_comp] + list(tech_unit_conversion[tech_unit_conversion.ES_name == sub_comp].iloc[0,1:])  # update unit conversion Excel files\n",
    "                        assumptions_diff.loc[assumptions_diff.index.max() + 1] = [model + subscript_comp] + list(assumptions_diff[assumptions_diff.ES_name == sub_comp].iloc[0,1:])  # update unit conversion Excel files\n",
    "                        if sub_comp in list(efficiency.ES_name.unique()):\n",
    "                            efficiency.loc[efficiency.index.max() + 1] = [model + subscript_comp] + list(efficiency[efficiency.ES_name == sub_comp].iloc[0,1:])  # update efficiency Excel files\n",
    "\n",
    "                    comp.loc[comp.index.max() + 1] = [model] + [model + a for a in subscript_comp_list] + [np.nan] * (N_sub_comp_max - N_sub_comp) + [[model + a for a in subscript_comp_list]]  # update the compositions Excel files\n",
    "                    comp_dict[model] = [model + a for a in subscript_comp_list]\n",
    "\n",
    "                else:\n",
    "                    df_mobility_models.loc[idx + 1] = [model] + list(\n",
    "                        tech_ecoinvent[tech_ecoinvent.ES_name == tech].iloc[1, 1:])  # construction\n",
    "                j += 1\n",
    "                if j < df.shape[1]:\n",
    "                    model = str(df[df.Main_tech == tech][f'Model_{j}'].iloc[0])\n",
    "\n",
    "    return df_mobility_models"
   ],
   "outputs": [],
   "execution_count": 41
  },
  {
   "metadata": {
    "ExecuteTime": {
     "end_time": "2024-10-14T17:57:41.881724Z",
     "start_time": "2024-10-14T17:57:41.875411Z"
    }
   },
   "cell_type": "code",
   "source": [
    "if ES_region == 'CH':\n",
    "    mob_model_private = mob_model_private_CH\n",
    "elif ES_region == 'CA-QC':\n",
    "    mob_model_private = mob_model_private_QC\n",
    "    mob_model_public = mob_model_public_QC\n",
    "    mob_model_freight = mob_model_freight_QC\n",
    "else:\n",
    "    raise ValueError('ES_region should be either CH or CA-QC')"
   ],
   "outputs": [],
   "execution_count": 42
  },
  {
   "metadata": {
    "ExecuteTime": {
     "end_time": "2024-10-14T17:57:41.888705Z",
     "start_time": "2024-10-14T17:57:41.881724Z"
    }
   },
   "cell_type": "code",
   "source": [
    "if ES_region == 'CA-QC':\n",
    "    basic_tech_to_remove = list(mob_model_private.Main_tech) + list(mob_model_public.Main_tech) + list(mob_model_freight.Main_tech)\n",
    "else:\n",
    "    basic_tech_to_remove = list(mob_model_private.Main_tech)\n",
    "\n",
    "for tech in basic_tech_to_remove:\n",
    "    if tech in comp_dict.keys():  # add the subcomponents to the list of technologies to remove\n",
    "        for sub_comp in comp_dict[tech]:\n",
    "            basic_tech_to_remove.append(sub_comp)"
   ],
   "outputs": [],
   "execution_count": 43
  },
  {
   "metadata": {
    "ExecuteTime": {
     "end_time": "2024-10-14T17:57:42.034621Z",
     "start_time": "2024-10-14T17:57:41.888705Z"
    }
   },
   "cell_type": "code",
   "source": [
    "# Create df of mapping with mobility models\n",
    "df_mobility_models_private = gen_df_mob_models(mob_model_private)\n",
    "if ES_region == 'CA-QC':\n",
    "    df_mobility_models_public = gen_df_mob_models(mob_model_public)\n",
    "    df_mobility_models_freight = gen_df_mob_models(mob_model_freight)\n",
    "\n",
    "# Remove the mobility basic technologies\n",
    "tech_ecoinvent.drop(tech_ecoinvent[tech_ecoinvent.ES_name.isin(basic_tech_to_remove)].index, inplace=True)\n",
    "tech_unit_conversion.drop(tech_unit_conversion[tech_unit_conversion.ES_name.isin(basic_tech_to_remove)].index, inplace=True)\n",
    "comp.drop(comp[comp.ES_name.isin(basic_tech_to_remove)].index, inplace=True)\n",
    "assumptions_diff.drop(assumptions_diff[assumptions_diff.ES_name.isin(basic_tech_to_remove)].index, inplace=True)\n",
    "efficiency.drop(efficiency[efficiency.ES_name.isin(basic_tech_to_remove)].index, inplace=True)"
   ],
   "outputs": [],
   "execution_count": 44
  },
  {
   "metadata": {
    "ExecuteTime": {
     "end_time": "2024-10-14T17:57:42.042239Z",
     "start_time": "2024-10-14T17:57:42.035681Z"
    }
   },
   "cell_type": "code",
   "source": [
    "mob_model_comp = []  # list of components for mobility technologies composition (to remove)\n",
    "\n",
    "if ES_region == 'CH':\n",
    "    mob_tech_list = list(mob_model_private.Main_tech)\n",
    "else:\n",
    "    mob_tech_list = list(mob_model_private.Main_tech) + list(mob_model_public.Main_tech) + list(\n",
    "        mob_model_freight.Main_tech)\n",
    "\n",
    "for mob_tech in mob_tech_list:\n",
    "    if mob_tech in comp_dict.keys():\n",
    "        for sub_comp in comp_dict[mob_tech]:\n",
    "            mob_model_comp.append(sub_comp)\n",
    "    else:\n",
    "        pass\n",
    "\n",
    "tech_ecoinvent.drop(tech_ecoinvent[tech_ecoinvent.ES_name.isin(mob_model_comp)].index, inplace=True)"
   ],
   "outputs": [],
   "execution_count": 45
  },
  {
   "metadata": {
    "ExecuteTime": {
     "end_time": "2024-10-14T17:57:42.048551Z",
     "start_time": "2024-10-14T17:57:42.043285Z"
    }
   },
   "cell_type": "code",
   "source": [
    "# Concatenate the overall df's\n",
    "if ES_region == 'CH':\n",
    "    tech_ecoinvent = pd.concat([tech_ecoinvent,\n",
    "                                df_mobility_models_private])\n",
    "else:\n",
    "    tech_ecoinvent = pd.concat([tech_ecoinvent,\n",
    "                                df_mobility_models_private,\n",
    "                                df_mobility_models_public,\n",
    "                                df_mobility_models_freight])\n",
    "tech_ecoinvent = tech_ecoinvent.sort_values('ES_name').reset_index(drop=True)"
   ],
   "outputs": [],
   "execution_count": 46
  },
  {
   "metadata": {},
   "cell_type": "markdown",
   "source": "# Mapping file with both technologies and resources"
  },
  {
   "metadata": {
    "ExecuteTime": {
     "end_time": "2024-10-14T17:57:42.057631Z",
     "start_time": "2024-10-14T17:57:42.049603Z"
    }
   },
   "cell_type": "code",
   "source": [
    "res = pd.read_csv(f\"energyscope_data/CA-QC/hidden/res_ecoinvent_{ES_region[-2:]}.csv\")\n",
    "flows = pd.read_csv('energyscope_data/CA-QC/hidden/flows_ecoinvent.csv') "
   ],
   "outputs": [],
   "execution_count": 47
  },
  {
   "metadata": {
    "ExecuteTime": {
     "end_time": "2024-10-14T17:57:45.604075Z",
     "start_time": "2024-10-14T17:57:42.058696Z"
    }
   },
   "cell_type": "code",
   "source": "db_flows = Database(db_names=list(flows.Database.unique()))",
   "outputs": [
    {
     "name": "stdout",
     "output_type": "stream",
     "text": [
      "Loaded ecoinvent3.8 cut-off from pickle!\n",
      "Loaded biofuels from pickle!\n",
      "Loaded Carma CCS from pickle!\n"
     ]
    }
   ],
   "execution_count": 48
  },
  {
   "metadata": {
    "ExecuteTime": {
     "end_time": "2024-10-14T17:57:45.613602Z",
     "start_time": "2024-10-14T17:57:45.607353Z"
    }
   },
   "cell_type": "code",
   "source": "flows['Type'] = len(flows) * ['Flow']",
   "outputs": [],
   "execution_count": 49
  },
  {
   "metadata": {
    "ExecuteTime": {
     "end_time": "2024-10-14T17:57:45.620120Z",
     "start_time": "2024-10-14T17:57:45.613602Z"
    }
   },
   "cell_type": "code",
   "source": [
    "# Define the user-defined ranking (only ecoinvent regions, no IAMs)\n",
    "if ES_region == 'CA-QC':\n",
    "    my_ranking = [\n",
    "        'CA-QC',  # Quebec\n",
    "        'CA',  # Canada\n",
    "        'CA-ON',  # Other canadian provinces \n",
    "        'CA-AB',\n",
    "        'CA-BC',\n",
    "        'CA-MB',\n",
    "        'CA-NB',\n",
    "        'CA-NF',\n",
    "        'CA-NS',\n",
    "        'CA-NT',\n",
    "        'CA-NU',\n",
    "        'CA-PE',\n",
    "        'RNA',  # North America\n",
    "        'US',  # United States\n",
    "        'GLO',  # Global average \n",
    "        'RoW',  # Rest of the world\n",
    "    ]\n",
    "elif ES_region == 'CH':\n",
    "    my_ranking = [\n",
    "        'CH', \n",
    "        'RER', \n",
    "        'IAI Area, EU27 & EFTA',\n",
    "        'GLO',\n",
    "        'RoW'\n",
    "    ]\n",
    "else:\n",
    "    raise ValueError('ES_region should be either CH or CA-QC')"
   ],
   "outputs": [],
   "execution_count": 50
  },
  {
   "metadata": {
    "ExecuteTime": {
     "end_time": "2024-10-14T17:57:45.629536Z",
     "start_time": "2024-10-14T17:57:45.622772Z"
    }
   },
   "cell_type": "code",
   "source": [
    "esm = ESM(\n",
    "    mapping=flows,\n",
    "    locations_ranking=my_ranking,\n",
    "    esm_location=ES_region,\n",
    "    main_database=db_flows,\n",
    "    model=model,\n",
    "    unit_conversion=pd.DataFrame(),\n",
    "    mapping_esm_flows_to_CPC_cat=pd.DataFrame(),\n",
    "    esm_db_name='',\n",
    ")"
   ],
   "outputs": [],
   "execution_count": 51
  },
  {
   "metadata": {
    "ExecuteTime": {
     "end_time": "2024-10-14T17:57:46.568882Z",
     "start_time": "2024-10-14T17:57:45.629536Z"
    }
   },
   "cell_type": "code",
   "source": [
    "# flows = change_location_mapping_file(\n",
    "#     flows,\n",
    "#     my_ranking,\n",
    "#     db_flows,\n",
    "#     ES_region,\n",
    "# )\n",
    "esm.change_location_mapping_file()"
   ],
   "outputs": [],
   "execution_count": 52
  },
  {
   "metadata": {
    "ExecuteTime": {
     "end_time": "2024-10-14T17:57:46.580751Z",
     "start_time": "2024-10-14T17:57:46.569891Z"
    }
   },
   "cell_type": "code",
   "source": [
    "res.drop(columns=['Description'], inplace=True)\n",
    "res.dropna(subset=['product_name'], inplace=True)\n",
    "res['type'] = len(res) * ['Resource']\n",
    "mapping = pd.concat([tech_ecoinvent, res], ignore_index=True).rename(\n",
    "    columns={'ES_name': 'Name', 'type': 'Type', 'product_name': 'Product', 'activity_name': 'Activity', 'region': 'Location', 'unit': 'Unit', 'database': 'Database'})\n",
    "mapping = pd.concat([mapping, esm.mapping])"
   ],
   "outputs": [],
   "execution_count": 53
  },
  {
   "metadata": {},
   "cell_type": "markdown",
   "source": "## New premise names for mobility"
  },
  {
   "metadata": {
    "ExecuteTime": {
     "end_time": "2024-10-14T17:57:46.588527Z",
     "start_time": "2024-10-14T17:57:46.582274Z"
    }
   },
   "cell_type": "code",
   "source": [
    "def change_mobility_name(row):\n",
    "    # Remove year\n",
    "    if row.Name.startswith('LCV_') | row.Name.startswith('SEMI_SH_') | row.Name.startswith('TRUCK_SH_'):\n",
    "        pass # do not change carculator names\n",
    "    else:\n",
    "        row.Activity = row.Activity.replace(', 2020', '')\n",
    "\n",
    "    # Cars and SUVs inventories\n",
    "    row.Product = row.Product.replace('-TEMP', '')\n",
    "    row.Activity = row.Activity.replace('-TEMP', '')\n",
    "    row.Product = row.Product.replace('EURO-6d', 'EURO-6ab')\n",
    "    row.Activity = row.Activity.replace('EURO-6d', 'EURO-6ab')\n",
    "    \n",
    "    # Battery electric vehicles\n",
    "    if ('urban delivery' in row.Activity) | ('regional delivery' in row.Activity):\n",
    "        pass  # should not be applied to carculator datasets \n",
    "    else:\n",
    "        row.Activity = row.Activity.replace('NMC-622 battery, ', '')\n",
    "    \n",
    "    return row"
   ],
   "outputs": [],
   "execution_count": 54
  },
  {
   "metadata": {
    "ExecuteTime": {
     "end_time": "2024-10-14T17:57:46.677034Z",
     "start_time": "2024-10-14T17:57:46.590540Z"
    }
   },
   "cell_type": "code",
   "source": "mapping = mapping.apply(change_mobility_name, axis=1)",
   "outputs": [],
   "execution_count": 55
  },
  {
   "metadata": {},
   "cell_type": "markdown",
   "source": "## Adapting trucks to carculator names"
  },
  {
   "metadata": {
    "ExecuteTime": {
     "end_time": "2024-10-14T17:57:46.686258Z",
     "start_time": "2024-10-14T17:57:46.677034Z"
    }
   },
   "cell_type": "code",
   "source": [
    "def change_truck_name(row):\n",
    "    if row.Name.startswith('LCV_') | row.Name.startswith('SEMI_SH_') | row.Name.startswith('TRUCK_SH_'):\n",
    "        if row.Type == 'Operation':\n",
    "            row.Product = row.Product.replace('freight, lorry', 'truck')\n",
    "            row.Activity = row.Activity.replace('freight, lorry', 'truck')\n",
    "        \n",
    "        elif row.Type == 'Construction':\n",
    "            row.Product = row.Product.replace('Light duty ', '')\n",
    "            row.Activity = row.Activity.replace('Light duty ', '')\n",
    "            \n",
    "            row.Product = row.Product.replace('Medium duty ', '')\n",
    "            row.Activity = row.Activity.replace('Medium duty ', '')\n",
    "        \n",
    "        row.Product = row.Product.replace(' gross weight', '')\n",
    "        row.Activity = row.Activity.replace(' gross weight', '')\n",
    "        \n",
    "        row.Product = row.Product.replace('EURO-VI', 'Euro-6')\n",
    "        row.Activity = row.Activity.replace('EURO-VI', 'Euro-6')\n",
    "        \n",
    "        row.Location = row.Location.replace('RER', 'CH')\n",
    "        \n",
    "        if 'urban delivery' in row.Activity:\n",
    "            row.Database = row.Database.replace('lci-long_haul_trucks', 'urban delivery_truck')\n",
    "        elif 'regional delivery' in row.Activity:\n",
    "            row.Database = row.Database.replace('lci-long_haul_trucks', 'regional delivery_truck')\n",
    "        else:\n",
    "            raise ValueError('Truck type not recognized')\n",
    "        \n",
    "    return row"
   ],
   "outputs": [],
   "execution_count": 56
  },
  {
   "metadata": {
    "ExecuteTime": {
     "end_time": "2024-10-14T17:57:46.712760Z",
     "start_time": "2024-10-14T17:57:46.689695Z"
    }
   },
   "cell_type": "code",
   "source": "mapping = mapping.apply(change_truck_name, axis=1)",
   "outputs": [],
   "execution_count": 57
  },
  {
   "metadata": {},
   "cell_type": "markdown",
   "source": "## Filtering the mapping file"
  },
  {
   "metadata": {
    "ExecuteTime": {
     "end_time": "2024-10-14T17:57:46.724534Z",
     "start_time": "2024-10-14T17:57:46.715239Z"
    }
   },
   "cell_type": "code",
   "source": [
    "to_remove = [\n",
    "    # Removing NG and H2 transport LCI datasets (operation) to be fair with electricity transport technologies that have no operation LCI datasets either \n",
    "    ('HP_NG_GRID', 'Operation'), \n",
    "    ('EHP_NG_GRID', 'Operation'),\n",
    "    ('LP_NG_GRID', 'Operation'),\n",
    "    ('MP_NG_GRID', 'Operation'),\n",
    "    ('HP_H2_GRID', 'Operation'),\n",
    "    ('EHP_H2_GRID', 'Operation'),\n",
    "    ('LP_H2_GRID', 'Operation'),\n",
    "    ('MP_H2_GRID', 'Operation'),\n",
    "    \n",
    "    # Removed because not used in practice\n",
    "    ('H2_COMP_100', 'Construction'),\n",
    "    ('H2_COMP_100_350', 'Construction'),\n",
    "    ('H2_COMP_200', 'Construction'),\n",
    "    ('H2_COMP_200_350', 'Construction'),\n",
    "    ('H2_COMP_100', 'Operation'),\n",
    "    ('H2_COMP_100_350', 'Operation'),\n",
    "    ('H2_COMP_200', 'Operation'),\n",
    "    ('H2_COMP_200_350', 'Operation'),\n",
    "    ('AFC_OG', 'Construction'),\n",
    "    ('PAFC_OG', 'Construction'),\n",
    "    ('PEMFC_OG', 'Construction'),\n",
    "    ('SOFC_OG', 'Construction'),\n",
    "    ('AEC_OG', 'Construction'),\n",
    "    ('PEMEC_OG', 'Construction'),\n",
    "    ('SOEC_OG', 'Construction'),\n",
    "    ('AEC_OG', 'Construction'),\n",
    "    ('AFC_OG', 'Operation'),\n",
    "    ('PAFC_OG', 'Operation'),\n",
    "    ('PEMFC_OG', 'Operation'),\n",
    "    ('SOFC_OG', 'Operation'),\n",
    "    ('AEC_OG', 'Operation'),\n",
    "    ('PEMEC_OG', 'Operation'),\n",
    "    ('SOEC_OG', 'Operation'),\n",
    "    ('AEC_OG', 'Operation'),\n",
    "    ('NG_GEN', 'Construction'),\n",
    "    ('NG_GEN', 'Operation'),\n",
    "    ('DIESEL_GEN', 'Construction'),\n",
    "    ('DIESEL_GEN', 'Operation'),\n",
    "    ('H2_Haber_Bosch', 'Construction'),\n",
    "    ('H2_Haber_Bosch', 'Operation'),\n",
    "    ('DEC_DEEP_GEO', 'Construction'),\n",
    "    ('DEC_DEEP_GEO', 'Operation'),\n",
    "    ('BIOMASS_ETHANOL', 'Construction'),\n",
    "    ('BIOMASS_ETHANOL', 'Operation'),\n",
    "]\n",
    "\n",
    "if ES_region == 'CH':\n",
    "    to_remove += [\n",
    "        ('PROPANE', 'Resource'),\n",
    "        ('BIO_DIESEL', 'Resource'),\n",
    "        ('BIO_DIESEL', 'Flow'),\n",
    "    ]\n",
    "elif ES_region == 'CA-QC':\n",
    "    to_remove += [\n",
    "        ('PV_EHV', 'Construction'),\n",
    "        ('PV_EHV', 'Operation'),\n",
    "    ]"
   ],
   "outputs": [],
   "execution_count": 58
  },
  {
   "metadata": {
    "ExecuteTime": {
     "end_time": "2024-10-14T17:57:46.731444Z",
     "start_time": "2024-10-14T17:57:46.725577Z"
    }
   },
   "cell_type": "code",
   "source": [
    "for i in range(len(to_remove)):\n",
    "    if to_remove[i][1] == 'Construction':\n",
    "        if to_remove[i][0] in list(comp.ES_name):\n",
    "            comp_list = comp[comp.ES_name == to_remove[i][0]].Components.iloc[0]\n",
    "            comp.drop(comp[comp.ES_name == to_remove[i][0]].index, inplace=True) # remove from composition file\n",
    "            for sub_comp in comp_list:\n",
    "                to_remove.append((sub_comp, 'Construction'))"
   ],
   "outputs": [],
   "execution_count": 59
  },
  {
   "metadata": {
    "ExecuteTime": {
     "end_time": "2024-10-14T17:57:46.746563Z",
     "start_time": "2024-10-14T17:57:46.732506Z"
    }
   },
   "cell_type": "code",
   "source": [
    "mapping.set_index(['Name', 'Type'], inplace=True)\n",
    "mapping = mapping[~mapping.index.isin(to_remove)]\n",
    "mapping.reset_index(inplace=True)"
   ],
   "outputs": [],
   "execution_count": 60
  },
  {
   "metadata": {
    "ExecuteTime": {
     "end_time": "2024-10-14T17:57:46.754702Z",
     "start_time": "2024-10-14T17:57:46.746563Z"
    }
   },
   "cell_type": "code",
   "source": "mapping.to_csv(f\"energyscope_data/{ES_region}/mapping_3.8.csv\", index=False)",
   "outputs": [],
   "execution_count": 61
  },
  {
   "metadata": {},
   "cell_type": "markdown",
   "source": "# Composition file"
  },
  {
   "metadata": {
    "ExecuteTime": {
     "end_time": "2024-10-14T17:57:46.765586Z",
     "start_time": "2024-10-14T17:57:46.756714Z"
    }
   },
   "cell_type": "code",
   "source": [
    "comp.rename(columns={'ES_name': 'Name'}, inplace=True)\n",
    "comp[['Name', 'Components']].to_csv(f\"energyscope_data/{ES_region}/technology_compositions.csv\", index=False)"
   ],
   "outputs": [],
   "execution_count": 62
  },
  {
   "metadata": {},
   "cell_type": "markdown",
   "source": "# Unit conversion and assumptions files"
  },
  {
   "metadata": {
    "ExecuteTime": {
     "end_time": "2024-10-14T17:57:46.839168Z",
     "start_time": "2024-10-14T17:57:46.765586Z"
    }
   },
   "cell_type": "code",
   "source": [
    "res_unit_conversion = pd.read_excel(\"energyscope_data/CA-QC/hidden/res_unit_conversion.xlsx\")\n",
    "other_unit_conversion = pd.read_csv(\"energyscope_data/CA-QC/hidden/other_unit_conversion.csv\")\n",
    "lifetime = assumptions_diff.copy(deep=True)"
   ],
   "outputs": [],
   "execution_count": 63
  },
  {
   "metadata": {
    "ExecuteTime": {
     "end_time": "2024-10-14T17:57:46.848583Z",
     "start_time": "2024-10-14T17:57:46.840179Z"
    }
   },
   "cell_type": "code",
   "source": [
    "tech_unit_conversion_melted = tech_unit_conversion[['ES_name', 'capacity', 'conversion', 'ei_constr_unit', 'ES_constr_unit', 'ei_use_unit', 'ES_use_unit']].rename(\n",
    "    columns={'ES_name': 'Name', 'capacity': 'Construction', 'conversion': 'Operation'}\n",
    ").melt(\n",
    "    id_vars='Name',\n",
    "    value_vars=['Construction', 'Operation'],\n",
    "    var_name='Type',\n",
    "    value_name='Value'\n",
    ").sort_values('Name').dropna(subset='Value')"
   ],
   "outputs": [],
   "execution_count": 64
  },
  {
   "metadata": {
    "ExecuteTime": {
     "end_time": "2024-10-14T17:57:46.862368Z",
     "start_time": "2024-10-14T17:57:46.849624Z"
    }
   },
   "cell_type": "code",
   "source": [
    "tech_unit_conversion_melted_constr = tech_unit_conversion_melted[tech_unit_conversion_melted.Type == 'Construction']\n",
    "tech_unit_conversion_melted_op = tech_unit_conversion_melted[tech_unit_conversion_melted.Type == 'Operation']\n",
    "tech_unit_conversion_melted_constr = tech_unit_conversion_melted_constr.merge(tech_unit_conversion[['ES_name', 'ei_constr_unit', 'ES_constr_unit']], left_on='Name', right_on='ES_name').rename(columns={'ei_constr_unit': 'LCA', 'ES_constr_unit': 'ESM'}).drop(columns='ES_name')\n",
    "tech_unit_conversion_melted_op = tech_unit_conversion_melted_op.merge(tech_unit_conversion[['ES_name', 'ei_use_unit', 'ES_use_unit']], left_on='Name', right_on='ES_name').rename(columns={'ei_use_unit': 'LCA', 'ES_use_unit': 'ESM'}).drop(columns='ES_name')\n",
    "tech_unit_conversion_melted = pd.concat([tech_unit_conversion_melted_constr, tech_unit_conversion_melted_op], ignore_index=True).sort_values('Name')"
   ],
   "outputs": [],
   "execution_count": 65
  },
  {
   "metadata": {
    "ExecuteTime": {
     "end_time": "2024-10-14T17:57:46.871650Z",
     "start_time": "2024-10-14T17:57:46.862368Z"
    }
   },
   "cell_type": "code",
   "source": [
    "res_unit_conversion_melted = res_unit_conversion[['ES_name', 'conversion', 'ei_unit', 'ES_unit']].rename(\n",
    "    columns={'ES_name': 'Name', 'conversion': 'Resource'}\n",
    ").melt(\n",
    "    id_vars='Name', \n",
    "    value_vars=['Resource'],\n",
    "    var_name='Type', \n",
    "    value_name='Value'\n",
    ").sort_values('Name').dropna(subset='Value')"
   ],
   "outputs": [],
   "execution_count": 66
  },
  {
   "metadata": {
    "ExecuteTime": {
     "end_time": "2024-10-14T17:57:46.879489Z",
     "start_time": "2024-10-14T17:57:46.871650Z"
    }
   },
   "cell_type": "code",
   "source": "res_unit_conversion_melted = res_unit_conversion_melted.merge(res_unit_conversion[['ES_name', 'ei_unit', 'ES_unit']], left_on='Name', right_on='ES_name').rename(columns={'ei_unit': 'LCA', 'ES_unit': 'ESM'}).drop(columns='ES_name')",
   "outputs": [],
   "execution_count": 67
  },
  {
   "metadata": {
    "ExecuteTime": {
     "end_time": "2024-10-14T17:57:46.886153Z",
     "start_time": "2024-10-14T17:57:46.879489Z"
    }
   },
   "cell_type": "code",
   "source": [
    "unit_conversion = pd.concat([tech_unit_conversion_melted, \n",
    "                             res_unit_conversion_melted, \n",
    "                             other_unit_conversion[['Name', 'Value', 'Type', 'ESM', 'LCA']],\n",
    "                             ], ignore_index=True).sort_values('Name')"
   ],
   "outputs": [],
   "execution_count": 68
  },
  {
   "metadata": {
    "ExecuteTime": {
     "end_time": "2024-10-14T17:57:46.893259Z",
     "start_time": "2024-10-14T17:57:46.887473Z"
    }
   },
   "cell_type": "code",
   "source": [
    "def change_unit_convention(row):\n",
    "    if row.ESM == 'GWh':\n",
    "        row.ESM = 'kWh'\n",
    "        row.Value /= 1e6\n",
    "    elif row.ESM == 'kt':\n",
    "        row.ESM = 'kg'\n",
    "        row.Value /= 1e6\n",
    "    elif row.ESM == 'Mpkm':\n",
    "        row.ESM = 'pkm'\n",
    "        row.Value /= 1e6\n",
    "    elif row.ESM == 'Mtkm':\n",
    "        row.ESM = 'tkm'\n",
    "        row.Value /= 1e6\n",
    "    elif row.ESM == 'GW':\n",
    "        row.ESM = 'kW'\n",
    "        row.Value /= 1e6\n",
    "    elif row.ESM == 'kt/h':\n",
    "        row.ESM = 'kg/h'\n",
    "        row.Value /= 1e6\n",
    "    elif row.ESM == 'Mtkm/h':\n",
    "        row.ESM = 'tkm/h'\n",
    "        row.Value /= 1e6\n",
    "    elif row.ESM == 'Mpkm/h':\n",
    "        row.ESM = 'pkm/h'\n",
    "        row.Value /= 1e6\n",
    "    elif row.ESM in ['unit', 'm3', 'kg', 'MJ', 'kWh']:\n",
    "        pass\n",
    "    else:\n",
    "        raise ValueError(f'Unit {row.ESM} not recognized')\n",
    "    return row"
   ],
   "outputs": [],
   "execution_count": 69
  },
  {
   "metadata": {
    "ExecuteTime": {
     "end_time": "2024-10-14T17:57:46.928779Z",
     "start_time": "2024-10-14T17:57:46.893259Z"
    }
   },
   "cell_type": "code",
   "source": "unit_conversion = unit_conversion.apply(change_unit_convention, axis=1)",
   "outputs": [],
   "execution_count": 70
  },
  {
   "metadata": {
    "ExecuteTime": {
     "end_time": "2024-10-14T17:57:46.936456Z",
     "start_time": "2024-10-14T17:57:46.928779Z"
    }
   },
   "cell_type": "code",
   "source": [
    "unit_conversion['ESM'] = unit_conversion['ESM'].apply(ecoinvent_unit_convention)\n",
    "unit_conversion['LCA'] = unit_conversion['LCA'].apply(ecoinvent_unit_convention)"
   ],
   "outputs": [],
   "execution_count": 71
  },
  {
   "metadata": {},
   "cell_type": "markdown",
   "source": "## Filtering"
  },
  {
   "metadata": {
    "ExecuteTime": {
     "end_time": "2024-10-14T17:57:46.945462Z",
     "start_time": "2024-10-14T17:57:46.937872Z"
    }
   },
   "cell_type": "code",
   "source": [
    "unit_conversion.set_index(['Name', 'Type'], inplace=True)\n",
    "unit_conversion = unit_conversion[~unit_conversion.index.isin(to_remove)]\n",
    "unit_conversion.reset_index(inplace=True)"
   ],
   "outputs": [],
   "execution_count": 72
  },
  {
   "metadata": {
    "ExecuteTime": {
     "end_time": "2024-10-14T17:57:46.952051Z",
     "start_time": "2024-10-14T17:57:46.946514Z"
    }
   },
   "cell_type": "code",
   "source": [
    "lifetime.set_index(['ES_name'], inplace=True)\n",
    "lifetime = lifetime[~lifetime.index.isin([to_remove[i][0] if to_remove[i][1] == 'Construction' else None for i in range(len(to_remove))])]\n",
    "lifetime.reset_index(inplace=True)\n",
    "lifetime.sort_values('ES_name', inplace=True)"
   ],
   "outputs": [],
   "execution_count": 73
  },
  {
   "metadata": {
    "ExecuteTime": {
     "end_time": "2024-10-14T17:57:46.963515Z",
     "start_time": "2024-10-14T17:57:46.953061Z"
    }
   },
   "cell_type": "code",
   "source": [
    "efficiency.set_index(['ES_name'], inplace=True)\n",
    "efficiency = efficiency[~efficiency.index.isin([to_remove[i][0] if to_remove[i][1] == 'Operation' else None for i in range(len(to_remove))])]\n",
    "efficiency.reset_index(inplace=True)\n",
    "efficiency.sort_values('ES_name', inplace=True)"
   ],
   "outputs": [],
   "execution_count": 74
  },
  {
   "metadata": {
    "ExecuteTime": {
     "end_time": "2024-10-14T17:57:46.972187Z",
     "start_time": "2024-10-14T17:57:46.963515Z"
    }
   },
   "cell_type": "code",
   "source": "unit_conversion.to_csv(f\"energyscope_data/{ES_region}/unit_conversion_3.8.csv\", index=False)",
   "outputs": [],
   "execution_count": 75
  },
  {
   "metadata": {
    "ExecuteTime": {
     "end_time": "2024-10-14T17:57:46.982909Z",
     "start_time": "2024-10-14T17:57:46.974755Z"
    }
   },
   "cell_type": "code",
   "source": "lifetime[['ES_name', 'lifetime_ES', 'lifetime_ei']].rename(columns={'ES_name': 'Name', 'lifetime_ES': 'ESM', 'lifetime_ei': 'LCA'}).to_csv(f\"energyscope_data/{ES_region}/lifetime.csv\", index=False)",
   "outputs": [],
   "execution_count": 76
  },
  {
   "metadata": {
    "ExecuteTime": {
     "end_time": "2024-10-14T17:57:46.991767Z",
     "start_time": "2024-10-14T17:57:46.984922Z"
    }
   },
   "cell_type": "code",
   "source": "efficiency.rename(columns={'ES_name': 'Name'}).to_csv(f\"energyscope_data/{ES_region}/efficiency.csv\", index=False)",
   "outputs": [],
   "execution_count": 77
  },
  {
   "metadata": {},
   "cell_type": "markdown",
   "source": "# Relink mapping file"
  },
  {
   "metadata": {
    "ExecuteTime": {
     "end_time": "2024-10-14T17:57:46.999368Z",
     "start_time": "2024-10-14T17:57:46.991767Z"
    }
   },
   "cell_type": "code",
   "source": "premise_changes = pd.read_csv(\"data/premise_change_report.csv\")",
   "outputs": [],
   "execution_count": 78
  },
  {
   "metadata": {
    "ExecuteTime": {
     "end_time": "2024-10-14T17:57:47.003471Z",
     "start_time": "2024-10-14T17:57:46.999368Z"
    }
   },
   "cell_type": "code",
   "source": [
    "name_premise_db = 'ecoinvent_cutoff_3.8_remind_SSP2-Base_2020'\n",
    "name_premise_comp_db = name_premise_db + f'_comp_{ES_region}'"
   ],
   "outputs": [],
   "execution_count": 79
  },
  {
   "metadata": {
    "ExecuteTime": {
     "end_time": "2024-10-14T17:57:51.444147Z",
     "start_time": "2024-10-14T17:57:47.005116Z"
    }
   },
   "cell_type": "code",
   "source": "premise_db = Database(name_premise_db, create_pickle=True)",
   "outputs": [
    {
     "name": "stdout",
     "output_type": "stream",
     "text": [
      "Loaded ecoinvent_cutoff_3.8_remind_SSP2-Base_2020 from pickle!\n"
     ]
    }
   ],
   "execution_count": 80
  },
  {
   "metadata": {
    "ExecuteTime": {
     "end_time": "2024-10-14T17:58:07.592768Z",
     "start_time": "2024-10-14T17:57:51.444147Z"
    }
   },
   "cell_type": "code",
   "source": [
    "mapping_linked_to_premise = premise_db.create_complementary_database(\n",
    "    df_mapping=mapping, \n",
    "    main_db_name=name_premise_db, \n",
    "    complement_db_name=name_premise_comp_db, \n",
    "    premise_changes=premise_changes\n",
    ")"
   ],
   "outputs": [
    {
     "name": "stdout",
     "output_type": "stream",
     "text": [
      "Loaded h2_electrolysis from pickle!\n",
      "Loaded ecoinvent3.8 cut-off from pickle!\n",
      "Loaded ecoinvent_cutoff_3.8_remind_SSP2-Base_2020 from pickle!\n",
      "Loaded lci-buses from pickle!\n",
      "Loaded batteries from pickle!\n",
      "Loaded fuel_cell from pickle!\n",
      "Loaded carbon fiber from pickle!\n",
      "Loaded lci-pass_cars from pickle!\n",
      "Loaded lithium from pickle!\n",
      "Loaded graphite from pickle!\n",
      "Loaded cobalt from pickle!\n",
      "Loaded Carma CCS from pickle!\n",
      "Loaded synfuel from electrolysis from pickle!\n",
      "Loaded cement CCS-CCU from pickle!\n",
      "Loaded Methanol-based fuels from electrolysis from pickle!\n",
      "Loaded biofuels from pickle!\n",
      "Loaded synfuel from wood gasification from pickle!\n",
      "Loaded direct air capture from pickle!\n",
      "Loaded geothermal from pickle!\n",
      "Loaded hydrogen-distribution from pickle!\n",
      "Loaded Methanol-based fuels from coal from pickle!\n",
      "Loaded Hydrogen from coal Gasification from pickle!\n",
      "Loaded Hydrogen from woody biomass gasification from pickle!\n",
      "Loaded syngas from pickle!\n",
      "Loaded hydrogen-smr-natgas from pickle!\n",
      "Loaded PV from pickle!\n",
      "Loaded lci-long_haul_trucks from pickle!\n",
      "Loaded Methanol-based fuels from wood from pickle!\n",
      "The complementary database did not have to be created\n"
     ]
    }
   ],
   "execution_count": 81
  },
  {
   "metadata": {
    "ExecuteTime": {
     "end_time": "2024-10-14T17:58:10.680949Z",
     "start_time": "2024-10-14T17:58:07.596879Z"
    }
   },
   "cell_type": "code",
   "source": [
    "# create a concatenated database of all databases in the mapping dataframe (including background requirements, except biosphere databases)\n",
    "base_db = Database(db_names=list(mapping_linked_to_premise.Database.unique()))"
   ],
   "outputs": [
    {
     "name": "stdout",
     "output_type": "stream",
     "text": [
      "Loaded ecoinvent_cutoff_3.8_remind_SSP2-Base_2020 from pickle!\n"
     ]
    }
   ],
   "execution_count": 82
  },
  {
   "metadata": {
    "ExecuteTime": {
     "end_time": "2024-10-14T17:58:10.688694Z",
     "start_time": "2024-10-14T17:58:10.680949Z"
    }
   },
   "cell_type": "code",
   "source": [
    "esm = ESM(\n",
    "    mapping=mapping_linked_to_premise,\n",
    "    locations_ranking=my_ranking,\n",
    "    main_database=base_db,\n",
    "    esm_location=ES_region,\n",
    "    unit_conversion=pd.DataFrame(),\n",
    "    model=pd.DataFrame(),\n",
    "    mapping_esm_flows_to_CPC_cat=pd.DataFrame(),\n",
    "    esm_db_name='',\n",
    ")"
   ],
   "outputs": [],
   "execution_count": 83
  },
  {
   "metadata": {
    "ExecuteTime": {
     "end_time": "2024-10-14T17:58:13.455272Z",
     "start_time": "2024-10-14T17:58:10.688694Z"
    }
   },
   "cell_type": "code",
   "source": [
    "# Update mapping dataframe with better locations\n",
    "esm.change_location_mapping_file()\n",
    "mapping_linked_to_premise = esm.mapping"
   ],
   "outputs": [
    {
     "name": "stdout",
     "output_type": "stream",
     "text": [
      "No location found in your ranking for ethanol, from corn - ethanol production, via fermentation, from corn, energy allocation\n",
      "--> Have to keep the initial location: US\n"
     ]
    }
   ],
   "execution_count": 84
  },
  {
   "metadata": {
    "ExecuteTime": {
     "end_time": "2024-10-14T17:58:13.510461Z",
     "start_time": "2024-10-14T17:58:13.455272Z"
    }
   },
   "cell_type": "code",
   "source": "unlinked = base_db.test_mapping_file(mapping_linked_to_premise)",
   "outputs": [
    {
     "name": "stdout",
     "output_type": "stream",
     "text": [
      "Mapping successfully linked to the database\n"
     ]
    }
   ],
   "execution_count": 85
  },
  {
   "metadata": {
    "ExecuteTime": {
     "end_time": "2024-10-14T17:58:13.522258Z",
     "start_time": "2024-10-14T17:58:13.510461Z"
    }
   },
   "cell_type": "code",
   "source": [
    "if len(unlinked) == 0:\n",
    "    mapping_linked_to_premise.to_csv(f\"energyscope_data/{ES_region}/mapping_3.8_linked.csv\", index=False)\n",
    "else:\n",
    "    print(f\"Unlinked flows: {unlinked}\")"
   ],
   "outputs": [],
   "execution_count": 86
  }
 ],
 "metadata": {
  "kernelspec": {
   "display_name": "Python 3",
   "language": "python",
   "name": "python3"
  },
  "language_info": {
   "codemirror_mode": {
    "name": "ipython",
    "version": 2
   },
   "file_extension": ".py",
   "mimetype": "text/x-python",
   "name": "python",
   "nbconvert_exporter": "python",
   "pygments_lexer": "ipython2",
   "version": "2.7.6"
  }
 },
 "nbformat": 4,
 "nbformat_minor": 0
}
