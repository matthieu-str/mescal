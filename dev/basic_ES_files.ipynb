{
 "cells": [
  {
   "cell_type": "markdown",
   "source": [
    "# Consolidating several mappings"
   ],
   "metadata": {
    "collapsed": false
   }
  },
  {
   "cell_type": "code",
   "source": [
    "import pandas as pd\n",
    "import numpy as np\n",
    "import bw2data as bd\n",
    "from mescal import *"
   ],
   "metadata": {
    "collapsed": false,
    "ExecuteTime": {
     "end_time": "2024-09-24T21:27:05.498765Z",
     "start_time": "2024-09-24T21:26:56.894525Z"
    }
   },
   "outputs": [],
   "execution_count": 1
  },
  {
   "metadata": {
    "ExecuteTime": {
     "end_time": "2024-09-24T21:27:05.744310Z",
     "start_time": "2024-09-24T21:27:05.502727Z"
    }
   },
   "cell_type": "code",
   "source": "bd.projects.set_current('ei3.8-mescal')",
   "outputs": [],
   "execution_count": 2
  },
  {
   "metadata": {
    "ExecuteTime": {
     "end_time": "2024-09-24T21:27:05.750584Z",
     "start_time": "2024-09-24T21:27:05.744310Z"
    }
   },
   "cell_type": "code",
   "source": "ES_region = 'CA-QC' # 'CH' or 'CA-QC'",
   "outputs": [],
   "execution_count": 3
  },
  {
   "metadata": {
    "ExecuteTime": {
     "end_time": "2024-09-24T21:27:05.892160Z",
     "start_time": "2024-09-24T21:27:05.754079Z"
    }
   },
   "cell_type": "code",
   "source": [
    "tech_CH = pd.read_csv('energyscope_data/CA-QC/hidden/tech_CH.csv') # mapping from ecoinvent 3.8 for CH\n",
    "tech_QC = pd.read_csv('energyscope_data/CA-QC/hidden/tech_QC.csv') # mapping from ecoinvent 3.8 and premise specific for QC\n",
    "comp_CH = pd.read_excel('energyscope_data/CA-QC/hidden/techno_compositions_CH.xlsx') # list of compositions of technologies with premise mapping for CH\n",
    "comp_QC = pd.read_excel('energyscope_data/CA-QC/hidden/techno_compositions_QC.xlsx') # list of compositions of technologies with premise mapping for QC\n",
    "dict_ES = pd.read_csv('energyscope_data/CA-QC/hidden/Technology_Dictionary_v2.csv')\n",
    "region_tech_ES = pd.read_excel('energyscope_data/CA-QC/hidden/Technologies_ES_version.xlsx')"
   ],
   "outputs": [],
   "execution_count": 4
  },
  {
   "metadata": {
    "ExecuteTime": {
     "end_time": "2024-09-24T21:27:05.907341Z",
     "start_time": "2024-09-24T21:27:05.894698Z"
    }
   },
   "cell_type": "code",
   "source": [
    "if 'Validation' in tech_CH.columns:\n",
    "    tech_CH.drop(columns='Validation', inplace=True)\n",
    "if 'Validation' in tech_QC.columns:\n",
    "    tech_QC.drop(columns='Validation', inplace=True)"
   ],
   "outputs": [],
   "execution_count": 5
  },
  {
   "metadata": {},
   "cell_type": "markdown",
   "source": "## Mapping file"
  },
  {
   "metadata": {
    "ExecuteTime": {
     "end_time": "2024-09-24T21:27:05.923029Z",
     "start_time": "2024-09-24T21:27:05.909380Z"
    }
   },
   "cell_type": "code",
   "source": "len(tech_CH.ES_name.unique())",
   "outputs": [
    {
     "data": {
      "text/plain": [
       "267"
      ]
     },
     "execution_count": 6,
     "metadata": {},
     "output_type": "execute_result"
    }
   ],
   "execution_count": 6
  },
  {
   "metadata": {},
   "cell_type": "markdown",
   "source": "### QC"
  },
  {
   "metadata": {},
   "cell_type": "markdown",
   "source": "We start from the consolidated file of CH and add/replace what is in the tech_QC additional mapping, and filter what was only for CH using the list of technologies from ES-QC."
  },
  {
   "metadata": {
    "ExecuteTime": {
     "end_time": "2024-09-24T21:27:05.935023Z",
     "start_time": "2024-09-24T21:27:05.923029Z"
    }
   },
   "cell_type": "code",
   "source": "region_tech_ES.dropna(subset=['ES_version'], inplace=True) # OTHER_BIOMASS to remove",
   "outputs": [],
   "execution_count": 7
  },
  {
   "metadata": {
    "ExecuteTime": {
     "end_time": "2024-09-24T21:27:05.946202Z",
     "start_time": "2024-09-24T21:27:05.936589Z"
    }
   },
   "cell_type": "code",
   "source": "list_tech_QC = list(region_tech_ES[region_tech_ES.ES_version.str.contains('CA')].tech_name)",
   "outputs": [],
   "execution_count": 8
  },
  {
   "metadata": {
    "ExecuteTime": {
     "end_time": "2024-09-24T21:27:05.956081Z",
     "start_time": "2024-09-24T21:27:05.947511Z"
    }
   },
   "cell_type": "code",
   "source": [
    "sub_comp_CH = list(set([x for xs in comp_CH.iloc[:, 1:].values.tolist() for x in xs])) # list of all subcomponents for CH\n",
    "sub_comp_QC = list(set([x for xs in comp_QC.iloc[:, 1:].values.tolist() for x in xs])) # list of all subcomponents for QC"
   ],
   "outputs": [],
   "execution_count": 9
  },
  {
   "metadata": {
    "ExecuteTime": {
     "end_time": "2024-09-24T21:27:05.973910Z",
     "start_time": "2024-09-24T21:27:05.961551Z"
    }
   },
   "cell_type": "code",
   "source": [
    "# Remove technologies that are not in ES-QC\n",
    "tech_not_QC = []\n",
    "\n",
    "# Operation\n",
    "for tech in list(tech_CH[tech_CH.type == 'Operation'].ES_name):\n",
    "    if tech not in list_tech_QC:\n",
    "        tech_not_QC.append(tech)\n",
    "    else:\n",
    "        pass\n",
    "\n",
    "# Construction\n",
    "for tech in list(tech_CH[tech_CH.type == 'Construction'].ES_name):\n",
    "    if tech in sub_comp_CH:\n",
    "        if tech not in sub_comp_QC:\n",
    "            tech_not_QC.append(tech)\n",
    "        else:\n",
    "            pass"
   ],
   "outputs": [],
   "execution_count": 10
  },
  {
   "metadata": {
    "ExecuteTime": {
     "end_time": "2024-09-24T21:27:05.983577Z",
     "start_time": "2024-09-24T21:27:05.973910Z"
    }
   },
   "cell_type": "code",
   "source": "list(set(tech_not_QC))",
   "outputs": [
    {
     "data": {
      "text/plain": [
       "['CAR_FC_CH4_LONGD',\n",
       " 'CAR_BEV_MEDRANGE_LONGD',\n",
       " 'CAR_FC_H2_LOCAL',\n",
       " 'CAR_DME_D10_LOCAL',\n",
       " 'CAR_NG_LONGD',\n",
       " 'CAR_HEV_LONGD',\n",
       " 'CAR_GASOLINE_LONGD',\n",
       " 'CAR_MEOH_LOCAL',\n",
       " 'TRUCK_FC',\n",
       " 'BUS_FC_HYBRID_H2',\n",
       " 'COACH_FC_HYBRID_H2',\n",
       " 'CAR_BEV_LOWRANGE',\n",
       " 'CAR_ETOH_E85_LONGD',\n",
       " 'CAR_HEV_LOCAL',\n",
       " 'TRAIN_FREIGHT_NG_LOC',\n",
       " 'CAR_ETOH_E10_LONGD',\n",
       " 'TRAIN_FREIGHT_LOC',\n",
       " 'COMMUTER_RAIL_DIESEL',\n",
       " 'CAR_NG_LOCAL',\n",
       " 'CAR_DIESEL_LONGD',\n",
       " 'TRAIN_FREIGHT_NG',\n",
       " 'BUS_CNG_STOICH',\n",
       " 'WIND',\n",
       " 'CAR_BEV_MEDRANGE_LOCAL',\n",
       " 'TRAIN_FREIGHT_NG_WAG',\n",
       " 'BUS_FC_HYBRID_CH4',\n",
       " 'CAR_MEOH_LONGD',\n",
       " 'CAR_ETOH_E10_LOCAL',\n",
       " 'CAR_PHEV_LOCAL',\n",
       " 'COMMUTER_RAIL_ELEC',\n",
       " 'COACH_HY_DIESEL',\n",
       " 'CAR_DIESEL_LOCAL',\n",
       " 'CAR_PHEV_LONGD',\n",
       " 'COACH_CNG_STOICH',\n",
       " 'CAR_ETOH_E85_LOCAL',\n",
       " 'CAR_FC_CH4_LOCAL',\n",
       " 'TRUCK',\n",
       " 'COACH_FC_HYBRID_CH4',\n",
       " 'TRAIN_FREIGHT_WAG',\n",
       " 'TRAIN_FREIGHT',\n",
       " 'TRAIN_ELEC',\n",
       " 'TRUCK_EV',\n",
       " 'CAR_GASOLINE_LOCAL',\n",
       " 'TRAIN_NG',\n",
       " 'CAR_FC_H2_LONGD',\n",
       " 'TRUCK_SNG',\n",
       " 'CAR_DME_D10_LONGD']"
      ]
     },
     "execution_count": 11,
     "metadata": {},
     "output_type": "execute_result"
    }
   ],
   "execution_count": 11
  },
  {
   "metadata": {
    "ExecuteTime": {
     "end_time": "2024-09-24T21:27:05.994763Z",
     "start_time": "2024-09-24T21:27:05.984103Z"
    }
   },
   "cell_type": "code",
   "source": "tech_CH_filtered = tech_CH.drop(index=tech_CH[tech_CH.ES_name.isin(tech_not_QC)].index)",
   "outputs": [],
   "execution_count": 12
  },
  {
   "metadata": {
    "ExecuteTime": {
     "end_time": "2024-09-24T21:27:06.300416Z",
     "start_time": "2024-09-24T21:27:05.994763Z"
    }
   },
   "cell_type": "code",
   "source": [
    "# Remove the LCI datasets that need to be updated from the CH list\n",
    "update_constr = []\n",
    "for tech in list(tech_CH[tech_CH.type == 'Construction'].ES_name):\n",
    "    if (tech in list(tech_CH[tech_CH.type == 'Construction'].ES_name)) & (tech in list(tech_QC[tech_QC.type == 'Construction'].ES_name)):\n",
    "        update_constr.append(tech)\n",
    "\n",
    "update_op = []\n",
    "for tech in list(tech_CH[tech_CH.type == 'Operation'].ES_name):\n",
    "    if (tech in list(tech_CH[tech_CH.type == 'Operation'].ES_name)) & (tech in list(tech_QC[tech_QC.type == 'Operation'].ES_name)):\n",
    "        update_op.append(tech)"
   ],
   "outputs": [],
   "execution_count": 13
  },
  {
   "metadata": {
    "ExecuteTime": {
     "end_time": "2024-09-24T21:27:06.312342Z",
     "start_time": "2024-09-24T21:27:06.300416Z"
    }
   },
   "cell_type": "code",
   "source": [
    "tech_CH_filtered.drop(index=tech_CH_filtered[(tech_CH_filtered.ES_name.isin(update_constr)) & (tech_CH_filtered.type == 'Construction')].index, inplace=True)\n",
    "tech_CH_filtered.drop(index=tech_CH_filtered[(tech_CH_filtered.ES_name.isin(update_op)) & (tech_CH_filtered.type == 'Operation')].index, inplace=True)"
   ],
   "outputs": [],
   "execution_count": 14
  },
  {
   "metadata": {
    "ExecuteTime": {
     "end_time": "2024-09-24T21:27:06.323003Z",
     "start_time": "2024-09-24T21:27:06.312342Z"
    }
   },
   "cell_type": "code",
   "source": "tech_consolidated_QC = pd.concat([tech_CH_filtered, tech_QC])",
   "outputs": [],
   "execution_count": 15
  },
  {
   "metadata": {
    "ExecuteTime": {
     "end_time": "2024-09-24T21:27:06.336089Z",
     "start_time": "2024-09-24T21:27:06.325518Z"
    }
   },
   "cell_type": "code",
   "source": "tech_consolidated_QC.duplicated(subset=['ES_name', 'type']).sum()",
   "outputs": [
    {
     "data": {
      "text/plain": [
       "0"
      ]
     },
     "execution_count": 16,
     "metadata": {},
     "output_type": "execute_result"
    }
   ],
   "execution_count": 16
  },
  {
   "metadata": {},
   "cell_type": "markdown",
   "source": "## Unit conversion file"
  },
  {
   "metadata": {
    "ExecuteTime": {
     "end_time": "2024-09-24T21:27:06.346922Z",
     "start_time": "2024-09-24T21:27:06.336089Z"
    }
   },
   "cell_type": "code",
   "source": [
    "# # Allows to keep formulas in Excel files\n",
    "# from openpyxl import load_workbook\n",
    "# wb_CH = load_workbook(filename = 'energyscope_data/hidden/tech_unit_conversion_CH.xlsx')\n",
    "# unit_conv_CH = pd.DataFrame(wb_CH[wb_CH.sheetnames[0]].values)\n",
    "# wb_QC = load_workbook(filename = 'energyscope_data/hidden/tech_unit_conversion_QC.xlsx')\n",
    "# unit_conv_QC = pd.DataFrame(wb_QC[wb_QC.sheetnames[0]].values)"
   ],
   "outputs": [],
   "execution_count": 17
  },
  {
   "metadata": {
    "ExecuteTime": {
     "end_time": "2024-09-24T21:27:06.357950Z",
     "start_time": "2024-09-24T21:27:06.346922Z"
    }
   },
   "cell_type": "code",
   "source": [
    "# # setting first row as header\n",
    "# new_header_CH = unit_conv_CH.iloc[0]\n",
    "# unit_conv_CH = unit_conv_CH[1:]\n",
    "# unit_conv_CH.columns = new_header_CH\n",
    "# new_header_QC = unit_conv_QC.iloc[0]\n",
    "# unit_conv_QC = unit_conv_QC[1:]\n",
    "# unit_conv_QC.columns = new_header_QC"
   ],
   "outputs": [],
   "execution_count": 18
  },
  {
   "metadata": {
    "ExecuteTime": {
     "end_time": "2024-09-24T21:27:07.003422Z",
     "start_time": "2024-09-24T21:27:06.361196Z"
    }
   },
   "cell_type": "code",
   "source": [
    "unit_conv_CH = pd.read_excel('energyscope_data/CA-QC/hidden/tech_unit_conversion_CH.xlsx')\n",
    "unit_conv_QC = pd.read_excel('energyscope_data/CA-QC/hidden/tech_unit_conversion_QC.xlsx')"
   ],
   "outputs": [],
   "execution_count": 19
  },
  {
   "metadata": {},
   "cell_type": "markdown",
   "source": "### CH"
  },
  {
   "metadata": {
    "ExecuteTime": {
     "end_time": "2024-09-24T21:27:07.039785Z",
     "start_time": "2024-09-24T21:27:07.003422Z"
    }
   },
   "cell_type": "code",
   "source": "unit_conv_CH = unit_conv_CH[['ES_name', 'ei_constr_unit', 'ES_constr_unit', 'ei_use_unit', 'ES_use_unit', 'capacity', 'conversion', 'ei_constr_unit_size', 'ES_constr_unit_size', 'Assumptions & Sources']]",
   "outputs": [],
   "execution_count": 20
  },
  {
   "metadata": {
    "ExecuteTime": {
     "end_time": "2024-09-24T21:27:07.063640Z",
     "start_time": "2024-09-24T21:27:07.039785Z"
    }
   },
   "cell_type": "code",
   "source": [
    "# Drop the rows where both the capacity and conversion factors are None\n",
    "unit_conv_CH.drop(unit_conv_CH[(unit_conv_CH.conversion.values == None) & (unit_conv_CH.capacity.values == None)].index, inplace=True)"
   ],
   "outputs": [],
   "execution_count": 21
  },
  {
   "metadata": {},
   "cell_type": "markdown",
   "source": "### QC"
  },
  {
   "metadata": {
    "ExecuteTime": {
     "end_time": "2024-09-24T21:27:07.086227Z",
     "start_time": "2024-09-24T21:27:07.068653Z"
    }
   },
   "cell_type": "code",
   "source": "unit_conv_QC = unit_conv_QC[unit_conv_CH.columns]",
   "outputs": [],
   "execution_count": 22
  },
  {
   "metadata": {
    "ExecuteTime": {
     "end_time": "2024-09-24T21:27:07.097405Z",
     "start_time": "2024-09-24T21:27:07.086227Z"
    }
   },
   "cell_type": "code",
   "source": "unit_conv_QC.dropna(how='all', axis=0, inplace=True)",
   "outputs": [],
   "execution_count": 23
  },
  {
   "metadata": {
    "ExecuteTime": {
     "end_time": "2024-09-24T21:27:07.157194Z",
     "start_time": "2024-09-24T21:27:07.100419Z"
    }
   },
   "cell_type": "code",
   "source": [
    "# In order to overwrite some conversion factors (same technologies but different factors between CH and QC), we remove from the CH file the factors that are present in both files\n",
    "unit_conv_CH_overwrite = unit_conv_CH.copy()\n",
    "for tech in list(unit_conv_QC.ES_name.unique()):\n",
    "    if tech in list(unit_conv_CH.ES_name.unique()):\n",
    "        unit_conv_CH_overwrite.drop(unit_conv_CH[unit_conv_CH.ES_name == tech].index, inplace=True)"
   ],
   "outputs": [],
   "execution_count": 24
  },
  {
   "metadata": {
    "ExecuteTime": {
     "end_time": "2024-09-24T21:27:07.169083Z",
     "start_time": "2024-09-24T21:27:07.157194Z"
    }
   },
   "cell_type": "code",
   "source": "unit_conv_QC_consolidated = pd.concat([unit_conv_CH_overwrite.drop(unit_conv_CH_overwrite[unit_conv_CH_overwrite.ES_name.isin(tech_not_QC)].index), unit_conv_QC])",
   "outputs": [],
   "execution_count": 25
  },
  {
   "metadata": {},
   "cell_type": "markdown",
   "source": "# Model file"
  },
  {
   "metadata": {
    "ExecuteTime": {
     "end_time": "2024-09-24T21:27:07.217825Z",
     "start_time": "2024-09-24T21:27:07.169083Z"
    }
   },
   "cell_type": "code",
   "source": "layers_in_out = pd.read_csv(f\"energyscope_data/CA-QC/hidden/layers_in_out_{ES_region[-2:]}.csv\")",
   "outputs": [],
   "execution_count": 26
  },
  {
   "metadata": {
    "ExecuteTime": {
     "end_time": "2024-09-24T21:27:07.289290Z",
     "start_time": "2024-09-24T21:27:07.217825Z"
    }
   },
   "cell_type": "code",
   "source": [
    "if ES_region == 'CA-QC':\n",
    "    model = layers_in_out.melt(id_vars=['ES_name'], value_vars=layers_in_out.columns[1:])\n",
    "    model = model[model['value'] != 0]\n",
    "    model.rename(columns={'ES_name': 'Flow', 'variable': 'Name', 'value': 'Amount'}, inplace=True)\n",
    "elif ES_region == 'CH':\n",
    "    model = layers_in_out\n",
    "else:\n",
    "    raise ValueError('ES_region should be either CH or CA-QC')\n",
    "model[['Name', 'Flow', 'Amount']].to_csv(f'energyscope_data/{ES_region}/model.csv', index=False)"
   ],
   "outputs": [],
   "execution_count": 27
  },
  {
   "metadata": {},
   "cell_type": "markdown",
   "source": "# Duplicate mapping for mobility models"
  },
  {
   "metadata": {
    "ExecuteTime": {
     "end_time": "2024-09-24T21:27:07.304520Z",
     "start_time": "2024-09-24T21:27:07.291145Z"
    }
   },
   "cell_type": "code",
   "source": [
    "if ES_region == 'CA-QC':\n",
    "    tech_ecoinvent = tech_consolidated_QC.copy(deep=True)\n",
    "    tech_unit_conversion = unit_conv_QC_consolidated.copy(deep=True)\n",
    "    comp = comp_QC.copy(deep=True)\n",
    "elif ES_region == 'CH':\n",
    "    tech_ecoinvent = tech_CH.copy(deep=True)\n",
    "    tech_unit_conversion = unit_conv_CH.copy(deep=True)\n",
    "    comp = comp_CH.copy(deep=True)\n",
    "else:\n",
    "    raise ValueError('ES_region should be either CH or CA-QC')"
   ],
   "outputs": [],
   "execution_count": 28
  },
  {
   "metadata": {
    "ExecuteTime": {
     "end_time": "2024-09-24T21:27:07.313762Z",
     "start_time": "2024-09-24T21:27:07.306029Z"
    }
   },
   "cell_type": "code",
   "source": [
    "tech_ecoinvent.reset_index(drop=True, inplace=True)\n",
    "tech_unit_conversion.reset_index(drop=True, inplace=True)\n",
    "comp.reset_index(drop=True, inplace=True)"
   ],
   "outputs": [],
   "execution_count": 29
  },
  {
   "metadata": {
    "ExecuteTime": {
     "end_time": "2024-09-24T21:27:07.516918Z",
     "start_time": "2024-09-24T21:27:07.313762Z"
    }
   },
   "cell_type": "code",
   "source": [
    "assumptions_diff = pd.read_excel(f'energyscope_data/CA-QC/hidden/assumptions_diff_{ES_region[-2:]}.xlsx')\n",
    "efficiency = pd.read_csv(f\"energyscope_data/CA-QC/hidden/efficiency_{ES_region[-2:]}.csv\")\n",
    "mob_model_private = pd.read_csv(\n",
    "    f\"energyscope_data/CA-QC/hidden/MODELS_OF_TECHNOLOGIES_OF_PRIVATEMOB_ALL_DISTANCES_{ES_region[-2:]}.csv\", sep=',')\n",
    "if ES_region == 'CA-QC':\n",
    "    mob_model_public = pd.read_csv(\n",
    "        f\"energyscope_data/CA-QC/hidden/MODELS_OF_TECHNOLOGIES_OF_PUBLICMOB_ALL_DISTANCES_{ES_region[-2:]}.csv\", sep=',')\n",
    "    mob_model_freight = pd.read_csv(\n",
    "        f\"energyscope_data/CA-QC/hidden/MODELS_OF_TECHNOLOGIES_OF_FREIGHTMOB_ALL_DISTANCES_{ES_region[-2:]}.csv\", sep=',')"
   ],
   "outputs": [],
   "execution_count": 30
  },
  {
   "metadata": {
    "ExecuteTime": {
     "end_time": "2024-09-24T21:27:07.529398Z",
     "start_time": "2024-09-24T21:27:07.516918Z"
    }
   },
   "cell_type": "code",
   "source": [
    "# Gather all non-nan components into a list\n",
    "comp['Components'] = [[e for e in row if e == e] for row in comp.iloc[:, 1:].values.tolist()]\n",
    "comp_dict = dict(zip(comp.ES_name, comp.Components))\n",
    "N_sub_comp_max = 4  # maximum number of subcomponents in the compositions file"
   ],
   "outputs": [],
   "execution_count": 31
  },
  {
   "metadata": {
    "ExecuteTime": {
     "end_time": "2024-09-24T21:27:07.550559Z",
     "start_time": "2024-09-24T21:27:07.529398Z"
    }
   },
   "cell_type": "code",
   "source": [
    "def gen_df_mob_models(df):\n",
    "    df_mobility_models = pd.DataFrame(columns=tech_ecoinvent.columns)\n",
    "\n",
    "    for i in range(len(df)):\n",
    "        tech = df.Main_tech.iloc[i]\n",
    "\n",
    "        if tech in list(tech_ecoinvent.ES_name):\n",
    "\n",
    "            j = 1\n",
    "            model = str(df[df.Main_tech == tech][f'Model_{j}'].iloc[0])\n",
    "            while (model != 'nan') & (j < df.shape[1]):\n",
    "                if str(df_mobility_models.index.max()) == 'nan':\n",
    "                    idx = 1\n",
    "                else:\n",
    "                    idx = df_mobility_models.index.max() + 1\n",
    "                df_mobility_models.loc[idx] = [model] + list(tech_ecoinvent[tech_ecoinvent.ES_name == tech].iloc[0, 1:])  # operation\n",
    "                tech_unit_conversion.loc[tech_unit_conversion.index.max() + 1] = [model] + list(tech_unit_conversion[tech_unit_conversion.ES_name == tech].iloc[0,1:])  # update unit conversion Excel files with additional rows for mobility models\n",
    "                dict_ES.loc[dict_ES.index.max() + 1] = [model] + list(dict_ES[dict_ES['Programming name'] == tech].iloc[0,1:])  # update technology dictionary Excel file with additional rows for mobility models\n",
    "                assumptions_diff.loc[assumptions_diff.index.max() + 1] = [model] + list(assumptions_diff[assumptions_diff.ES_name == tech].iloc[0,1:])  # update unit conversion Excel files with additional rows for mobility models\n",
    "                if tech in list(efficiency.ES_name.unique()):\n",
    "                    efficiency.loc[efficiency.index.max() + 1] = [model] + list(efficiency[efficiency.ES_name == tech].iloc[0,1:])  # update efficiency Excel files with additional rows for mobility models\n",
    "\n",
    "                if tech in comp_dict.keys():\n",
    "\n",
    "                    N_sub_comp = len(comp_dict[tech])\n",
    "                    subscript_comp_list = []\n",
    "\n",
    "                    for i, sub_comp in enumerate(comp_dict[tech]):\n",
    "                        subscript_comp = sub_comp.replace(tech, '')\n",
    "                        subscript_comp_list.append(subscript_comp)\n",
    "                        df_mobility_models.loc[df_mobility_models.index.max() + 1] = [model + subscript_comp] + list(tech_ecoinvent[tech_ecoinvent.ES_name == sub_comp].iloc[0,1:])  # construction component idx\n",
    "                        tech_unit_conversion.loc[tech_unit_conversion.index.max() + 1] = [model + subscript_comp] + list(tech_unit_conversion[tech_unit_conversion.ES_name == sub_comp].iloc[0,1:])  # update unit conversion Excel files\n",
    "                        assumptions_diff.loc[assumptions_diff.index.max() + 1] = [model + subscript_comp] + list(assumptions_diff[assumptions_diff.ES_name == sub_comp].iloc[0,1:])  # update unit conversion Excel files\n",
    "                        if sub_comp in list(efficiency.ES_name.unique()):\n",
    "                            efficiency.loc[efficiency.index.max() + 1] = [model + subscript_comp] + list(efficiency[efficiency.ES_name == sub_comp].iloc[0,1:])  # update efficiency Excel files\n",
    "\n",
    "                    comp.loc[comp.index.max() + 1] = [model] + [model + a for a in subscript_comp_list] + [np.nan] * (N_sub_comp_max - N_sub_comp) + [[model + a for a in subscript_comp_list]]  # update the compositions Excel files\n",
    "                    comp_dict[model] = [model + a for a in subscript_comp_list]\n",
    "\n",
    "                else:\n",
    "                    df_mobility_models.loc[idx + 1] = [model] + list(\n",
    "                        tech_ecoinvent[tech_ecoinvent.ES_name == tech].iloc[1, 1:])  # construction\n",
    "                j += 1\n",
    "                if j < df.shape[1]:\n",
    "                    model = str(df[df.Main_tech == tech][f'Model_{j}'].iloc[0])\n",
    "\n",
    "    return df_mobility_models"
   ],
   "outputs": [],
   "execution_count": 32
  },
  {
   "metadata": {
    "ExecuteTime": {
     "end_time": "2024-09-24T21:27:07.564876Z",
     "start_time": "2024-09-24T21:27:07.550559Z"
    }
   },
   "cell_type": "code",
   "source": [
    "if ES_region == 'CA-QC':\n",
    "    basic_tech_to_remove = list(mob_model_private.Main_tech) + list(mob_model_public.Main_tech) + list(\n",
    "        mob_model_freight.Main_tech)\n",
    "else:\n",
    "    basic_tech_to_remove = list(mob_model_private.Main_tech)\n",
    "\n",
    "for tech in basic_tech_to_remove:\n",
    "    if tech in comp_dict.keys():  # add the subcomponents to the list of technologies to remove\n",
    "        for sub_comp in comp_dict[tech]:\n",
    "            basic_tech_to_remove.append(sub_comp)"
   ],
   "outputs": [],
   "execution_count": 33
  },
  {
   "metadata": {
    "ExecuteTime": {
     "end_time": "2024-09-24T21:27:10.288622Z",
     "start_time": "2024-09-24T21:27:07.564876Z"
    }
   },
   "cell_type": "code",
   "source": [
    "# Create df of mapping with mobility models\n",
    "df_mobility_models_private = gen_df_mob_models(mob_model_private)\n",
    "if ES_region == 'CA-QC':\n",
    "    df_mobility_models_public = gen_df_mob_models(mob_model_public)\n",
    "    df_mobility_models_freight = gen_df_mob_models(mob_model_freight)\n",
    "\n",
    "# Remove the mobility basic technologies\n",
    "tech_ecoinvent.drop(tech_ecoinvent[tech_ecoinvent.ES_name.isin(basic_tech_to_remove)].index, inplace=True)\n",
    "tech_unit_conversion.drop(tech_unit_conversion[tech_unit_conversion.ES_name.isin(basic_tech_to_remove)].index,\n",
    "                          inplace=True)\n",
    "comp.drop(comp[comp.ES_name.isin(basic_tech_to_remove)].index, inplace=True)\n",
    "assumptions_diff.drop(assumptions_diff[assumptions_diff.ES_name.isin(basic_tech_to_remove)].index, inplace=True)\n",
    "efficiency.drop(efficiency[efficiency.ES_name.isin(basic_tech_to_remove)].index, inplace=True)"
   ],
   "outputs": [],
   "execution_count": 34
  },
  {
   "metadata": {
    "ExecuteTime": {
     "end_time": "2024-09-24T21:27:10.301172Z",
     "start_time": "2024-09-24T21:27:10.292214Z"
    }
   },
   "cell_type": "code",
   "source": [
    "mob_model_comp = []  # list of components for mobility technologies composition (to remove)\n",
    "\n",
    "if ES_region == 'CH':\n",
    "    mob_tech_list = list(mob_model_private.Main_tech)\n",
    "else:\n",
    "    mob_tech_list = list(mob_model_private.Main_tech) + list(mob_model_public.Main_tech) + list(\n",
    "        mob_model_freight.Main_tech)\n",
    "\n",
    "for mob_tech in mob_tech_list:\n",
    "    if mob_tech in comp_dict.keys():\n",
    "        for sub_comp in comp_dict[mob_tech]:\n",
    "            mob_model_comp.append(sub_comp)\n",
    "    else:\n",
    "        pass\n",
    "\n",
    "tech_ecoinvent.drop(tech_ecoinvent[tech_ecoinvent.ES_name.isin(mob_model_comp)].index, inplace=True)"
   ],
   "outputs": [],
   "execution_count": 35
  },
  {
   "metadata": {
    "ExecuteTime": {
     "end_time": "2024-09-24T21:27:10.316500Z",
     "start_time": "2024-09-24T21:27:10.303221Z"
    }
   },
   "cell_type": "code",
   "source": [
    "# Concatenate the overall df's\n",
    "if ES_region == 'CH':\n",
    "    tech_ecoinvent = pd.concat([tech_ecoinvent,\n",
    "                                df_mobility_models_private])\n",
    "else:\n",
    "    tech_ecoinvent = pd.concat([tech_ecoinvent,\n",
    "                                df_mobility_models_private,\n",
    "                                df_mobility_models_public,\n",
    "                                df_mobility_models_freight])\n",
    "tech_ecoinvent = tech_ecoinvent.sort_values('ES_name').reset_index(drop=True)"
   ],
   "outputs": [],
   "execution_count": 36
  },
  {
   "metadata": {},
   "cell_type": "markdown",
   "source": "# Mapping file with both technologies and resources"
  },
  {
   "metadata": {
    "ExecuteTime": {
     "end_time": "2024-09-24T21:27:10.334348Z",
     "start_time": "2024-09-24T21:27:10.318846Z"
    }
   },
   "cell_type": "code",
   "source": [
    "res = pd.read_csv(f\"energyscope_data/CA-QC/hidden/res_ecoinvent.csv\")\n",
    "flows = pd.read_csv('energyscope_data/CA-QC/hidden/flows_ecoinvent.csv') "
   ],
   "outputs": [],
   "execution_count": 37
  },
  {
   "metadata": {
    "ExecuteTime": {
     "end_time": "2024-09-24T21:27:15.595671Z",
     "start_time": "2024-09-24T21:27:10.334348Z"
    }
   },
   "cell_type": "code",
   "source": "db_flows = load_multiple_databases(list(flows.Database.unique()))",
   "outputs": [],
   "execution_count": 38
  },
  {
   "metadata": {
    "ExecuteTime": {
     "end_time": "2024-09-24T21:27:15.608088Z",
     "start_time": "2024-09-24T21:27:15.597212Z"
    }
   },
   "cell_type": "code",
   "source": "flows['Type'] = len(flows) * ['Flow']",
   "outputs": [],
   "execution_count": 39
  },
  {
   "metadata": {
    "ExecuteTime": {
     "end_time": "2024-09-24T21:27:15.651997Z",
     "start_time": "2024-09-24T21:27:15.608088Z"
    }
   },
   "cell_type": "code",
   "source": [
    "# Define the user-defined ranking (only ecoinvent regions, no IAMs)\n",
    "if ES_region == 'CA-QC':\n",
    "    my_ranking = [\n",
    "        'CA-QC',  # Quebec\n",
    "        'CA',  # Canada\n",
    "        'CA-ON',  # Other canadian provinces \n",
    "        'CA-AB',\n",
    "        'CA-BC',\n",
    "        'CA-MB',\n",
    "        'CA-NB',\n",
    "        'CA-NF',\n",
    "        'CA-NS',\n",
    "        'CA-NT',\n",
    "        'CA-NU',\n",
    "        'CA-PE',\n",
    "        'RNA',  # North America\n",
    "        'US',  # United States\n",
    "        'GLO',  # Global average \n",
    "        'RoW',  # Rest of the world\n",
    "    ]\n",
    "elif ES_region == 'CH':\n",
    "    my_ranking = [\n",
    "        'CH', \n",
    "        'RER', \n",
    "        'IAI Area, EU27 & EFTA',\n",
    "        'GLO',\n",
    "        'RoW'\n",
    "    ]\n",
    "else:\n",
    "    raise ValueError('ES_region should be either CH or CA-QC')"
   ],
   "outputs": [],
   "execution_count": 40
  },
  {
   "metadata": {
    "ExecuteTime": {
     "end_time": "2024-09-24T21:27:16.653839Z",
     "start_time": "2024-09-24T21:27:15.651997Z"
    }
   },
   "cell_type": "code",
   "source": [
    "flows = change_location_mapping_file(\n",
    "    flows,\n",
    "    my_ranking,\n",
    "    db_flows,\n",
    "    ES_region,\n",
    ")"
   ],
   "outputs": [],
   "execution_count": 41
  },
  {
   "metadata": {
    "ExecuteTime": {
     "end_time": "2024-09-24T21:27:16.683992Z",
     "start_time": "2024-09-24T21:27:16.655784Z"
    }
   },
   "cell_type": "code",
   "source": [
    "res.drop(columns=['Description'], inplace=True)\n",
    "res.dropna(subset=['product_name'], inplace=True)\n",
    "res['type'] = len(res) * ['Resource']\n",
    "mapping = pd.concat([tech_ecoinvent, res], ignore_index=True).rename(\n",
    "    columns={'ES_name': 'Name', 'type': 'Type', 'product_name': 'Product', 'activity_name': 'Activity', 'region': 'Location', 'unit': 'Unit', 'database': 'Database'})\n",
    "mapping = pd.concat([mapping, flows])"
   ],
   "outputs": [],
   "execution_count": 42
  },
  {
   "metadata": {},
   "cell_type": "markdown",
   "source": "## New premise names for mobility"
  },
  {
   "metadata": {
    "ExecuteTime": {
     "end_time": "2024-09-24T21:27:16.700627Z",
     "start_time": "2024-09-24T21:27:16.683992Z"
    }
   },
   "cell_type": "code",
   "source": [
    "def change_mobility_name(row):\n",
    "    # Remove year\n",
    "    if row.Name.startswith('LCV_') | row.Name.startswith('SEMI_SH_') | row.Name.startswith('TRUCK_SH_'):\n",
    "        pass # do not change carculator names\n",
    "    else:\n",
    "        row.Activity = row.Activity.replace(', 2020', '')\n",
    "\n",
    "    # Cars and SUVs inventories\n",
    "    row.Product = row.Product.replace('-TEMP', '')\n",
    "    row.Activity = row.Activity.replace('-TEMP', '')\n",
    "    row.Product = row.Product.replace('EURO-6d', 'EURO-6ab')\n",
    "    row.Activity = row.Activity.replace('EURO-6d', 'EURO-6ab')\n",
    "    \n",
    "    # Battery electric vehicles\n",
    "    if ('urban delivery' in row.Activity) | ('regional delivery' in row.Activity):\n",
    "        pass  # should not be applied to carculator datasets \n",
    "    else:\n",
    "        row.Activity = row.Activity.replace('NMC-622 battery, ', '')\n",
    "    \n",
    "    return row"
   ],
   "outputs": [],
   "execution_count": 43
  },
  {
   "metadata": {
    "ExecuteTime": {
     "end_time": "2024-09-24T21:27:16.927553Z",
     "start_time": "2024-09-24T21:27:16.703402Z"
    }
   },
   "cell_type": "code",
   "source": "mapping = mapping.apply(change_mobility_name, axis=1)",
   "outputs": [],
   "execution_count": 44
  },
  {
   "metadata": {},
   "cell_type": "markdown",
   "source": "## Adapting trucks to carculator names"
  },
  {
   "metadata": {
    "ExecuteTime": {
     "end_time": "2024-09-24T21:27:16.946661Z",
     "start_time": "2024-09-24T21:27:16.929592Z"
    }
   },
   "cell_type": "code",
   "source": [
    "def change_truck_name(row):\n",
    "    if row.Name.startswith('LCV_') | row.Name.startswith('SEMI_SH_') | row.Name.startswith('TRUCK_SH_'):\n",
    "        if row.Type == 'Operation':\n",
    "            row.Product = row.Product.replace('freight, lorry', 'truck')\n",
    "            row.Activity = row.Activity.replace('freight, lorry', 'truck')\n",
    "        \n",
    "        elif row.Type == 'Construction':\n",
    "            row.Product = row.Product.replace('Light duty ', '')\n",
    "            row.Activity = row.Activity.replace('Light duty ', '')\n",
    "            \n",
    "            row.Product = row.Product.replace('Medium duty ', '')\n",
    "            row.Activity = row.Activity.replace('Medium duty ', '')\n",
    "        \n",
    "        row.Product = row.Product.replace(' gross weight', '')\n",
    "        row.Activity = row.Activity.replace(' gross weight', '')\n",
    "        \n",
    "        row.Product = row.Product.replace('EURO-VI', 'Euro-6')\n",
    "        row.Activity = row.Activity.replace('EURO-VI', 'Euro-6')\n",
    "        \n",
    "        row.Location = row.Location.replace('RER', 'CH')\n",
    "        \n",
    "        if 'urban delivery' in row.Activity:\n",
    "            row.Database = row.Database.replace('lci-long_haul_trucks', 'urban delivery_truck')\n",
    "        elif 'regional delivery' in row.Activity:\n",
    "            row.Database = row.Database.replace('lci-long_haul_trucks', 'regional delivery_truck')\n",
    "        else:\n",
    "            raise ValueError('Truck type not recognized')\n",
    "        \n",
    "    return row"
   ],
   "outputs": [],
   "execution_count": 45
  },
  {
   "metadata": {
    "ExecuteTime": {
     "end_time": "2024-09-24T21:27:17.063245Z",
     "start_time": "2024-09-24T21:27:16.946661Z"
    }
   },
   "cell_type": "code",
   "source": "mapping = mapping.apply(change_truck_name, axis=1)",
   "outputs": [],
   "execution_count": 46
  },
  {
   "metadata": {},
   "cell_type": "markdown",
   "source": "## Filtering the mapping file"
  },
  {
   "metadata": {
    "ExecuteTime": {
     "end_time": "2024-09-24T21:27:17.074728Z",
     "start_time": "2024-09-24T21:27:17.063245Z"
    }
   },
   "cell_type": "code",
   "source": [
    "to_remove = [\n",
    "    # Removing NG and H2 transport LCI datasets (operation) to be fair with electricity transport technologies that have no operation LCI datasets either \n",
    "    ('HP_NG_GRID', 'Operation'), \n",
    "    ('EHP_NG_GRID', 'Operation'),\n",
    "    ('LP_NG_GRID', 'Operation'),\n",
    "    ('MP_NG_GRID', 'Operation'),\n",
    "    ('HP_H2_GRID', 'Operation'),\n",
    "    ('EHP_H2_GRID', 'Operation'),\n",
    "    ('LP_H2_GRID', 'Operation'),\n",
    "    ('MP_H2_GRID', 'Operation'),\n",
    "    \n",
    "    # Removed because not used in practice\n",
    "    ('H2_COMP_100', 'Construction'),\n",
    "    ('H2_COMP_100_350', 'Construction'),\n",
    "    ('H2_COMP_200', 'Construction'),\n",
    "    ('H2_COMP_200_350', 'Construction'),\n",
    "    ('H2_COMP_100', 'Operation'),\n",
    "    ('H2_COMP_100_350', 'Operation'),\n",
    "    ('H2_COMP_200', 'Operation'),\n",
    "    ('H2_COMP_200_350', 'Operation'),\n",
    "    ('AFC_OG', 'Construction'),\n",
    "    ('PAFC_OG', 'Construction'),\n",
    "    ('PEMFC_OG', 'Construction'),\n",
    "    ('SOFC_OG', 'Construction'),\n",
    "    ('AEC_OG', 'Construction'),\n",
    "    ('PEMEC_OG', 'Construction'),\n",
    "    ('SOEC_OG', 'Construction'),\n",
    "    ('AEC_OG', 'Construction'),\n",
    "    ('AFC_OG', 'Operation'),\n",
    "    ('PAFC_OG', 'Operation'),\n",
    "    ('PEMFC_OG', 'Operation'),\n",
    "    ('SOFC_OG', 'Operation'),\n",
    "    ('AEC_OG', 'Operation'),\n",
    "    ('PEMEC_OG', 'Operation'),\n",
    "    ('SOEC_OG', 'Operation'),\n",
    "    ('AEC_OG', 'Operation'),\n",
    "    ('NG_GEN', 'Construction'),\n",
    "    ('NG_GEN', 'Operation'),\n",
    "    ('DIESEL_GEN', 'Construction'),\n",
    "    ('DIESEL_GEN', 'Operation'),\n",
    "    ('PV_EHV', 'Construction'),\n",
    "    ('PV_EHV', 'Operation'),\n",
    "    ('H2_Haber_Bosch', 'Construction'),\n",
    "    ('H2_Haber_Bosch', 'Operation'),\n",
    "    ('DEC_DEEP_GEO', 'Construction'),\n",
    "    ('DEC_DEEP_GEO', 'Operation'),\n",
    "    ('BIOMASS_ETHANOL', 'Construction'),\n",
    "    ('BIOMASS_ETHANOL', 'Operation'),\n",
    "]\n",
    "\n",
    "if ES_region == 'CH':\n",
    "    to_remove += [\n",
    "        ('PROPANE', 'Resource'),\n",
    "        ('BIO_DIESEL', 'Resource'),\n",
    "        ('BIO_DIESEL', 'Flow'),\n",
    "    ]"
   ],
   "outputs": [],
   "execution_count": 47
  },
  {
   "metadata": {
    "ExecuteTime": {
     "end_time": "2024-09-24T21:27:17.093811Z",
     "start_time": "2024-09-24T21:27:17.074728Z"
    }
   },
   "cell_type": "code",
   "source": [
    "for i in range(len(to_remove)):\n",
    "    if to_remove[i][1] == 'Construction':\n",
    "        if to_remove[i][0] in list(comp.ES_name):\n",
    "            comp_list = comp[comp.ES_name == to_remove[i][0]].Components.iloc[0]\n",
    "            comp.drop(comp[comp.ES_name == to_remove[i][0]].index, inplace=True) # remove from composition file\n",
    "            for sub_comp in comp_list:\n",
    "                to_remove.append((sub_comp, 'Construction'))"
   ],
   "outputs": [],
   "execution_count": 48
  },
  {
   "metadata": {
    "ExecuteTime": {
     "end_time": "2024-09-24T21:27:17.114358Z",
     "start_time": "2024-09-24T21:27:17.093811Z"
    }
   },
   "cell_type": "code",
   "source": [
    "mapping.set_index(['Name', 'Type'], inplace=True)\n",
    "mapping = mapping[~mapping.index.isin(to_remove)]\n",
    "mapping.reset_index(inplace=True)"
   ],
   "outputs": [],
   "execution_count": 49
  },
  {
   "metadata": {
    "ExecuteTime": {
     "end_time": "2024-09-24T21:27:17.128924Z",
     "start_time": "2024-09-24T21:27:17.114358Z"
    }
   },
   "cell_type": "code",
   "source": "mapping.to_csv(f\"energyscope_data/{ES_region}/mapping_3.8.csv\", index=False)",
   "outputs": [],
   "execution_count": 50
  },
  {
   "metadata": {},
   "cell_type": "markdown",
   "source": "# Composition file"
  },
  {
   "metadata": {
    "ExecuteTime": {
     "end_time": "2024-09-24T21:27:17.140475Z",
     "start_time": "2024-09-24T21:27:17.128924Z"
    }
   },
   "cell_type": "code",
   "source": [
    "comp.rename(columns={'ES_name': 'Name'}, inplace=True)\n",
    "comp[['Name', 'Components']].to_csv(f\"energyscope_data/{ES_region}/technology_compositions.csv\", index=False)"
   ],
   "outputs": [],
   "execution_count": 51
  },
  {
   "metadata": {},
   "cell_type": "markdown",
   "source": "# Unit conversion and assumptions files"
  },
  {
   "metadata": {
    "ExecuteTime": {
     "end_time": "2024-09-24T21:27:17.245066Z",
     "start_time": "2024-09-24T21:27:17.140475Z"
    }
   },
   "cell_type": "code",
   "source": [
    "res_unit_conversion = pd.read_excel(\"energyscope_data/CA-QC/hidden/res_unit_conversion.xlsx\")\n",
    "other_unit_conversion = pd.read_csv(\"energyscope_data/CA-QC/hidden/other_unit_conversion.csv\")\n",
    "lifetime = assumptions_diff.copy(deep=True)"
   ],
   "outputs": [],
   "execution_count": 52
  },
  {
   "metadata": {
    "ExecuteTime": {
     "end_time": "2024-09-24T21:27:17.260302Z",
     "start_time": "2024-09-24T21:27:17.245938Z"
    }
   },
   "cell_type": "code",
   "source": [
    "tech_unit_conversion_melted = tech_unit_conversion[['ES_name', 'capacity', 'conversion', 'ei_constr_unit', 'ES_constr_unit', 'ei_use_unit', 'ES_use_unit']].rename(\n",
    "    columns={'ES_name': 'Name', 'capacity': 'Construction', 'conversion': 'Operation'}\n",
    ").melt(\n",
    "    id_vars='Name',\n",
    "    value_vars=['Construction', 'Operation'],\n",
    "    var_name='Type',\n",
    "    value_name='Value'\n",
    ").sort_values('Name').dropna(subset='Value')"
   ],
   "outputs": [],
   "execution_count": 53
  },
  {
   "metadata": {
    "ExecuteTime": {
     "end_time": "2024-09-24T21:27:17.286443Z",
     "start_time": "2024-09-24T21:27:17.260302Z"
    }
   },
   "cell_type": "code",
   "source": [
    "tech_unit_conversion_melted_constr = tech_unit_conversion_melted[tech_unit_conversion_melted.Type == 'Construction']\n",
    "tech_unit_conversion_melted_op = tech_unit_conversion_melted[tech_unit_conversion_melted.Type == 'Operation']\n",
    "tech_unit_conversion_melted_constr = tech_unit_conversion_melted_constr.merge(tech_unit_conversion[['ES_name', 'ei_constr_unit', 'ES_constr_unit']], left_on='Name', right_on='ES_name').rename(columns={'ei_constr_unit': 'LCA', 'ES_constr_unit': 'ESM'}).drop(columns='ES_name')\n",
    "tech_unit_conversion_melted_op = tech_unit_conversion_melted_op.merge(tech_unit_conversion[['ES_name', 'ei_use_unit', 'ES_use_unit']], left_on='Name', right_on='ES_name').rename(columns={'ei_use_unit': 'LCA', 'ES_use_unit': 'ESM'}).drop(columns='ES_name')\n",
    "tech_unit_conversion_melted = pd.concat([tech_unit_conversion_melted_constr, tech_unit_conversion_melted_op], ignore_index=True).sort_values('Name')"
   ],
   "outputs": [],
   "execution_count": 54
  },
  {
   "metadata": {
    "ExecuteTime": {
     "end_time": "2024-09-24T21:27:17.299422Z",
     "start_time": "2024-09-24T21:27:17.286443Z"
    }
   },
   "cell_type": "code",
   "source": [
    "res_unit_conversion_melted = res_unit_conversion[['ES_name', 'conversion', 'ei_unit', 'ES_unit']].rename(\n",
    "    columns={'ES_name': 'Name', 'conversion': 'Resource'}\n",
    ").melt(\n",
    "    id_vars='Name', \n",
    "    value_vars=['Resource'],\n",
    "    var_name='Type', \n",
    "    value_name='Value'\n",
    ").sort_values('Name').dropna(subset='Value')"
   ],
   "outputs": [],
   "execution_count": 55
  },
  {
   "metadata": {
    "ExecuteTime": {
     "end_time": "2024-09-24T21:27:17.315930Z",
     "start_time": "2024-09-24T21:27:17.299422Z"
    }
   },
   "cell_type": "code",
   "source": "res_unit_conversion_melted = res_unit_conversion_melted.merge(res_unit_conversion[['ES_name', 'ei_unit', 'ES_unit']], left_on='Name', right_on='ES_name').rename(columns={'ei_unit': 'LCA', 'ES_unit': 'ESM'}).drop(columns='ES_name')",
   "outputs": [],
   "execution_count": 56
  },
  {
   "metadata": {
    "ExecuteTime": {
     "end_time": "2024-09-24T21:27:17.328192Z",
     "start_time": "2024-09-24T21:27:17.315930Z"
    }
   },
   "cell_type": "code",
   "source": [
    "unit_conversion = pd.concat([tech_unit_conversion_melted, \n",
    "                             res_unit_conversion_melted, \n",
    "                             other_unit_conversion[['Name', 'Value', 'Type', 'ESM', 'LCA']],\n",
    "                             ], ignore_index=True).sort_values('Name')"
   ],
   "outputs": [],
   "execution_count": 57
  },
  {
   "metadata": {
    "ExecuteTime": {
     "end_time": "2024-09-24T21:27:17.338199Z",
     "start_time": "2024-09-24T21:27:17.328192Z"
    }
   },
   "cell_type": "code",
   "source": [
    "def change_unit_convention(row):\n",
    "    if row.ESM == 'GWh':\n",
    "        row.ESM = 'kWh'\n",
    "        row.Value /= 1e6\n",
    "    elif row.ESM == 'kt':\n",
    "        row.ESM = 'kg'\n",
    "        row.Value /= 1e6\n",
    "    elif row.ESM == 'Mpkm':\n",
    "        row.ESM = 'pkm'\n",
    "        row.Value /= 1e6\n",
    "    elif row.ESM == 'Mtkm':\n",
    "        row.ESM = 'tkm'\n",
    "        row.Value /= 1e6\n",
    "    elif row.ESM == 'GW':\n",
    "        row.ESM = 'kW'\n",
    "        row.Value /= 1e6\n",
    "    elif row.ESM == 'kt/h':\n",
    "        row.ESM = 'kg/h'\n",
    "        row.Value /= 1e6\n",
    "    elif row.ESM == 'Mtkm/h':\n",
    "        row.ESM = 'tkm/h'\n",
    "        row.Value /= 1e6\n",
    "    elif row.ESM == 'Mpkm/h':\n",
    "        row.ESM = 'pkm/h'\n",
    "        row.Value /= 1e6\n",
    "    elif row.ESM in ['unit', 'm3', 'kg', 'MJ', 'kWh']:\n",
    "        pass\n",
    "    else:\n",
    "        raise ValueError(f'Unit {row.ESM} not recognized')\n",
    "    return row"
   ],
   "outputs": [],
   "execution_count": 58
  },
  {
   "metadata": {
    "ExecuteTime": {
     "end_time": "2024-09-24T21:27:17.447398Z",
     "start_time": "2024-09-24T21:27:17.339708Z"
    }
   },
   "cell_type": "code",
   "source": "unit_conversion = unit_conversion.apply(change_unit_convention, axis=1)",
   "outputs": [],
   "execution_count": 59
  },
  {
   "metadata": {
    "ExecuteTime": {
     "end_time": "2024-09-24T21:27:17.461917Z",
     "start_time": "2024-09-24T21:27:17.449912Z"
    }
   },
   "cell_type": "code",
   "source": [
    "unit_conversion['ESM'] = unit_conversion['ESM'].apply(ecoinvent_unit_convention)\n",
    "unit_conversion['LCA'] = unit_conversion['LCA'].apply(ecoinvent_unit_convention)"
   ],
   "outputs": [],
   "execution_count": 60
  },
  {
   "metadata": {},
   "cell_type": "markdown",
   "source": "## Filtering"
  },
  {
   "metadata": {
    "ExecuteTime": {
     "end_time": "2024-09-24T21:27:17.496791Z",
     "start_time": "2024-09-24T21:27:17.461917Z"
    }
   },
   "cell_type": "code",
   "source": [
    "unit_conversion.set_index(['Name', 'Type'], inplace=True)\n",
    "unit_conversion = unit_conversion[~unit_conversion.index.isin(to_remove)]\n",
    "unit_conversion.reset_index(inplace=True)"
   ],
   "outputs": [],
   "execution_count": 61
  },
  {
   "metadata": {
    "ExecuteTime": {
     "end_time": "2024-09-24T21:27:17.507704Z",
     "start_time": "2024-09-24T21:27:17.498486Z"
    }
   },
   "cell_type": "code",
   "source": [
    "lifetime.set_index(['ES_name'], inplace=True)\n",
    "lifetime = lifetime[~lifetime.index.isin([to_remove[i][0] if to_remove[i][1] == 'Construction' else None for i in range(len(to_remove))])]\n",
    "lifetime.reset_index(inplace=True)"
   ],
   "outputs": [],
   "execution_count": 62
  },
  {
   "metadata": {
    "ExecuteTime": {
     "end_time": "2024-09-24T21:27:17.521978Z",
     "start_time": "2024-09-24T21:27:17.507704Z"
    }
   },
   "cell_type": "code",
   "source": [
    "efficiency.set_index(['ES_name'], inplace=True)\n",
    "efficiency = efficiency[~efficiency.index.isin([to_remove[i][0] if to_remove[i][1] == 'Operation' else None for i in range(len(to_remove))])]\n",
    "efficiency.reset_index(inplace=True)\n",
    "efficiency.sort_values('ES_name', inplace=True)"
   ],
   "outputs": [],
   "execution_count": 63
  },
  {
   "metadata": {
    "ExecuteTime": {
     "end_time": "2024-09-24T21:27:17.538168Z",
     "start_time": "2024-09-24T21:27:17.521978Z"
    }
   },
   "cell_type": "code",
   "source": "unit_conversion.to_csv(f\"energyscope_data/{ES_region}/unit_conversion_3.8.csv\", index=False)",
   "outputs": [],
   "execution_count": 64
  },
  {
   "metadata": {
    "ExecuteTime": {
     "end_time": "2024-09-24T21:27:17.555843Z",
     "start_time": "2024-09-24T21:27:17.538168Z"
    }
   },
   "cell_type": "code",
   "source": "lifetime[['ES_name', 'lifetime_ES', 'lifetime_ei']].rename(columns={'ES_name': 'Name', 'lifetime_ES': 'ESM', 'lifetime_ei': 'LCA'}).to_csv(f\"energyscope_data/{ES_region}/lifetime.csv\", index=False)",
   "outputs": [],
   "execution_count": 65
  },
  {
   "metadata": {
    "ExecuteTime": {
     "end_time": "2024-09-24T21:27:17.568955Z",
     "start_time": "2024-09-24T21:27:17.559857Z"
    }
   },
   "cell_type": "code",
   "source": "efficiency.rename(columns={'ES_name': 'Name'}).to_csv(f\"energyscope_data/{ES_region}/efficiency.csv\", index=False)",
   "outputs": [],
   "execution_count": 66
  },
  {
   "metadata": {},
   "cell_type": "markdown",
   "source": "# Relink mapping file"
  },
  {
   "metadata": {
    "ExecuteTime": {
     "end_time": "2024-09-24T21:27:17.581556Z",
     "start_time": "2024-09-24T21:27:17.568955Z"
    }
   },
   "cell_type": "code",
   "source": "premise_changes = pd.read_csv(\"data/premise_change_report.csv\")",
   "outputs": [],
   "execution_count": 67
  },
  {
   "metadata": {
    "ExecuteTime": {
     "end_time": "2024-09-24T21:27:17.590144Z",
     "start_time": "2024-09-24T21:27:17.581556Z"
    }
   },
   "cell_type": "code",
   "source": [
    "name_premise_db = 'ecoinvent_cutoff_3.8_remind_SSP2-Base_2020'\n",
    "name_premise_comp_db = name_premise_db + f'_comp_{ES_region}'"
   ],
   "outputs": [],
   "execution_count": 68
  },
  {
   "metadata": {
    "ExecuteTime": {
     "end_time": "2024-09-24T21:27:22.685579Z",
     "start_time": "2024-09-24T21:27:17.591674Z"
    }
   },
   "cell_type": "code",
   "source": "premise_db = load_extract_db(name_premise_db, create_pickle=True)",
   "outputs": [],
   "execution_count": 69
  },
  {
   "metadata": {
    "ExecuteTime": {
     "end_time": "2024-09-24T21:27:59.823123Z",
     "start_time": "2024-09-24T21:27:22.690825Z"
    }
   },
   "cell_type": "code",
   "source": "mapping_linked_to_premise = create_complementary_database(mapping, premise_db, name_premise_comp_db, premise_changes)",
   "outputs": [
    {
     "name": "stdout",
     "output_type": "stream",
     "text": [
      "Getting activity data\n"
     ]
    },
    {
     "name": "stderr",
     "output_type": "stream",
     "text": [
      "100%|██████████| 939/939 [00:00<?, ?it/s]\n"
     ]
    },
    {
     "name": "stdout",
     "output_type": "stream",
     "text": [
      "Adding exchange data to activities\n"
     ]
    },
    {
     "name": "stderr",
     "output_type": "stream",
     "text": [
      "100%|██████████| 30812/30812 [00:00<00:00, 32577.73it/s]\n"
     ]
    },
    {
     "name": "stdout",
     "output_type": "stream",
     "text": [
      "Filling out exchange data\n"
     ]
    },
    {
     "name": "stderr",
     "output_type": "stream",
     "text": [
      "100%|██████████| 939/939 [00:00<00:00, 1121.41it/s]\n"
     ]
    },
    {
     "name": "stdout",
     "output_type": "stream",
     "text": [
      "Getting activity data\n"
     ]
    },
    {
     "name": "stderr",
     "output_type": "stream",
     "text": [
      "100%|██████████| 935/935 [00:00<00:00, 74729.87it/s]\n"
     ]
    },
    {
     "name": "stdout",
     "output_type": "stream",
     "text": [
      "Adding exchange data to activities\n"
     ]
    },
    {
     "name": "stderr",
     "output_type": "stream",
     "text": [
      "100%|██████████| 30702/30702 [00:00<00:00, 31552.83it/s]\n"
     ]
    },
    {
     "name": "stdout",
     "output_type": "stream",
     "text": [
      "Filling out exchange data\n"
     ]
    },
    {
     "name": "stderr",
     "output_type": "stream",
     "text": [
      "100%|██████████| 935/935 [00:00<00:00, 1133.79it/s]\n"
     ]
    },
    {
     "name": "stdout",
     "output_type": "stream",
     "text": [
      "No inventory in the premise database for ('LCV_BIODIESEL_B100_MD', 'Operation')\n",
      "No inventory in the premise database for ('LCV_BIODIESEL_B100_MD', 'Construction')\n",
      "No inventory in the premise database for ('LCV_BIODIESEL_B100_SD', 'Operation')\n",
      "No inventory in the premise database for ('LCV_BIODIESEL_B100_SD', 'Construction')\n",
      "No inventory in the premise database for ('LCV_BIODIESEL_B20_MD', 'Construction')\n",
      "No inventory in the premise database for ('LCV_BIODIESEL_B20_MD', 'Operation')\n",
      "No inventory in the premise database for ('LCV_BIODIESEL_B20_SD', 'Construction')\n",
      "No inventory in the premise database for ('LCV_BIODIESEL_B20_SD', 'Operation')\n",
      "No inventory in the premise database for ('LCV_CNG_MD', 'Construction')\n",
      "No inventory in the premise database for ('LCV_CNG_MD', 'Operation')\n",
      "No inventory in the premise database for ('LCV_CNG_SD', 'Operation')\n",
      "No inventory in the premise database for ('LCV_CNG_SD', 'Construction')\n",
      "No inventory in the premise database for ('LCV_DIESEL_MD', 'Operation')\n",
      "No inventory in the premise database for ('LCV_DIESEL_MD', 'Construction')\n",
      "No inventory in the premise database for ('LCV_DIESEL_SD', 'Construction')\n",
      "No inventory in the premise database for ('LCV_DIESEL_SD', 'Operation')\n",
      "No inventory in the premise database for ('LCV_ETOH_E10_MD', 'Construction')\n",
      "No inventory in the premise database for ('LCV_ETOH_E10_MD', 'Operation')\n",
      "No inventory in the premise database for ('LCV_ETOH_E10_SD', 'Operation')\n",
      "No inventory in the premise database for ('LCV_ETOH_E10_SD', 'Construction')\n",
      "No inventory in the premise database for ('LCV_ETOH_E85_MD', 'Operation')\n",
      "No inventory in the premise database for ('LCV_ETOH_E85_MD', 'Construction')\n",
      "No inventory in the premise database for ('LCV_ETOH_E85_SD', 'Operation')\n",
      "No inventory in the premise database for ('LCV_ETOH_E85_SD', 'Construction')\n",
      "No inventory in the premise database for ('LCV_EV_MD', 'Construction')\n",
      "No inventory in the premise database for ('LCV_EV_MD', 'Operation')\n",
      "No inventory in the premise database for ('LCV_EV_SD', 'Operation')\n",
      "No inventory in the premise database for ('LCV_EV_SD', 'Construction')\n",
      "No inventory in the premise database for ('LCV_FC_CH4_MD', 'Operation')\n",
      "No inventory in the premise database for ('LCV_FC_CH4_MD', 'Construction')\n",
      "No inventory in the premise database for ('LCV_FC_CH4_SD', 'Operation')\n",
      "No inventory in the premise database for ('LCV_FC_CH4_SD', 'Construction')\n",
      "No inventory in the premise database for ('LCV_FC_H2_MD', 'Operation')\n",
      "No inventory in the premise database for ('LCV_FC_H2_MD', 'Construction')\n",
      "No inventory in the premise database for ('LCV_FC_H2_SD', 'Operation')\n",
      "No inventory in the premise database for ('LCV_FC_H2_SD', 'Construction')\n",
      "No inventory in the premise database for ('LCV_GASOLINE_MD', 'Operation')\n",
      "No inventory in the premise database for ('LCV_GASOLINE_MD', 'Construction')\n",
      "No inventory in the premise database for ('LCV_GASOLINE_SD', 'Operation')\n",
      "No inventory in the premise database for ('LCV_GASOLINE_SD', 'Construction')\n",
      "No inventory in the premise database for ('LCV_PHEV_GASOLINE_MD', 'Operation')\n",
      "No inventory in the premise database for ('LCV_PHEV_GASOLINE_MD', 'Construction')\n",
      "No inventory in the premise database for ('LCV_PHEV_GASOLINE_SD', 'Operation')\n",
      "No inventory in the premise database for ('LCV_PHEV_GASOLINE_SD', 'Construction')\n",
      "No inventory in the premise database for ('LCV_PROPANE_MD', 'Operation')\n",
      "No inventory in the premise database for ('LCV_PROPANE_MD', 'Construction')\n",
      "No inventory in the premise database for ('LCV_PROPANE_SD', 'Operation')\n",
      "No inventory in the premise database for ('LCV_PROPANE_SD', 'Construction')\n",
      "No inventory in the premise database for ('SEMI_SH_BIODIESEL_B100_MD', 'Operation')\n",
      "No inventory in the premise database for ('SEMI_SH_BIODIESEL_B100_MD', 'Construction')\n",
      "No inventory in the premise database for ('SEMI_SH_BIODIESEL_B20_MD', 'Construction')\n",
      "No inventory in the premise database for ('SEMI_SH_BIODIESEL_B20_MD', 'Operation')\n",
      "No inventory in the premise database for ('SEMI_SH_CNG_MD', 'Construction')\n",
      "No inventory in the premise database for ('SEMI_SH_CNG_MD', 'Operation')\n",
      "No inventory in the premise database for ('SEMI_SH_DIESEL_MD', 'Operation')\n",
      "No inventory in the premise database for ('SEMI_SH_DIESEL_MD', 'Construction')\n",
      "No inventory in the premise database for ('SEMI_SH_EV_MD', 'Construction')\n",
      "No inventory in the premise database for ('SEMI_SH_EV_MD', 'Operation')\n",
      "No inventory in the premise database for ('SEMI_SH_FC_CH4_MD', 'Operation')\n",
      "No inventory in the premise database for ('SEMI_SH_FC_CH4_MD', 'Construction')\n",
      "No inventory in the premise database for ('SEMI_SH_FC_H2_MD', 'Operation')\n",
      "No inventory in the premise database for ('SEMI_SH_FC_H2_MD', 'Construction')\n",
      "No inventory in the premise database for ('SEMI_SH_HY_DIESEL_MD', 'Operation')\n",
      "No inventory in the premise database for ('SEMI_SH_HY_DIESEL_MD', 'Construction')\n",
      "No inventory in the premise database for ('SEMI_SH_PROPANE_MD', 'Operation')\n",
      "No inventory in the premise database for ('SEMI_SH_PROPANE_MD', 'Construction')\n",
      "No inventory in the premise database for ('TRUCK_SH_BIODIESEL_B100_MD', 'Operation')\n",
      "No inventory in the premise database for ('TRUCK_SH_BIODIESEL_B100_MD', 'Construction')\n",
      "No inventory in the premise database for ('TRUCK_SH_BIODIESEL_B100_SD', 'Construction')\n",
      "No inventory in the premise database for ('TRUCK_SH_BIODIESEL_B100_SD', 'Operation')\n",
      "No inventory in the premise database for ('TRUCK_SH_BIODIESEL_B20_MD', 'Construction')\n",
      "No inventory in the premise database for ('TRUCK_SH_BIODIESEL_B20_MD', 'Operation')\n",
      "No inventory in the premise database for ('TRUCK_SH_BIODIESEL_B20_SD', 'Operation')\n",
      "No inventory in the premise database for ('TRUCK_SH_BIODIESEL_B20_SD', 'Construction')\n",
      "No inventory in the premise database for ('TRUCK_SH_CNG_MD', 'Construction')\n",
      "No inventory in the premise database for ('TRUCK_SH_CNG_MD', 'Operation')\n",
      "No inventory in the premise database for ('TRUCK_SH_CNG_SD', 'Construction')\n",
      "No inventory in the premise database for ('TRUCK_SH_CNG_SD', 'Operation')\n",
      "No inventory in the premise database for ('TRUCK_SH_DIESEL_MD', 'Construction')\n",
      "No inventory in the premise database for ('TRUCK_SH_DIESEL_MD', 'Operation')\n",
      "No inventory in the premise database for ('TRUCK_SH_DIESEL_SD', 'Construction')\n",
      "No inventory in the premise database for ('TRUCK_SH_DIESEL_SD', 'Operation')\n",
      "No inventory in the premise database for ('TRUCK_SH_EV_MD', 'Construction')\n",
      "No inventory in the premise database for ('TRUCK_SH_EV_MD', 'Operation')\n",
      "No inventory in the premise database for ('TRUCK_SH_EV_SD', 'Construction')\n",
      "No inventory in the premise database for ('TRUCK_SH_EV_SD', 'Operation')\n",
      "No inventory in the premise database for ('TRUCK_SH_FC_CH4_MD', 'Construction')\n",
      "No inventory in the premise database for ('TRUCK_SH_FC_CH4_MD', 'Operation')\n",
      "No inventory in the premise database for ('TRUCK_SH_FC_CH4_SD', 'Operation')\n",
      "No inventory in the premise database for ('TRUCK_SH_FC_CH4_SD', 'Construction')\n",
      "No inventory in the premise database for ('TRUCK_SH_HY_DIESEL_MD', 'Construction')\n",
      "No inventory in the premise database for ('TRUCK_SH_HY_DIESEL_MD', 'Operation')\n",
      "No inventory in the premise database for ('TRUCK_SH_HY_DIESEL_SD', 'Construction')\n",
      "No inventory in the premise database for ('TRUCK_SH_HY_DIESEL_SD', 'Operation')\n",
      "No inventory in the premise database for ('TRUCK_SH_PROPANE_MD', 'Construction')\n",
      "No inventory in the premise database for ('TRUCK_SH_PROPANE_MD', 'Operation')\n",
      "No inventory in the premise database for ('TRUCK_SH_PROPANE_SD', 'Construction')\n",
      "No inventory in the premise database for ('TRUCK_SH_PROPANE_SD', 'Operation')\n"
     ]
    },
    {
     "name": "stderr",
     "output_type": "stream",
     "text": [
      "Writing activities to SQLite3 database:\n",
      "0% [##############################] 100% | ETA: 00:00:00\n",
      "Total time elapsed: 00:00:00\n"
     ]
    },
    {
     "name": "stdout",
     "output_type": "stream",
     "text": [
      "Title: Writing activities to SQLite3 database:\n",
      "  Started: 09/24/2024 17:27:57\n",
      "  Finished: 09/24/2024 17:27:57\n",
      "  Total time elapsed: 00:00:00\n",
      "  CPU %: 17.70\n",
      "  Memory %: 23.74\n"
     ]
    }
   ],
   "execution_count": 70
  },
  {
   "metadata": {
    "ExecuteTime": {
     "end_time": "2024-09-24T21:28:05.989839Z",
     "start_time": "2024-09-24T21:27:59.847688Z"
    }
   },
   "cell_type": "code",
   "source": [
    "# create a concatenated database of all databases in the mapping dataframe (including background requirements, except biosphere databases)\n",
    "base_db = load_multiple_databases(list(mapping_linked_to_premise.Database.unique()))"
   ],
   "outputs": [
    {
     "name": "stdout",
     "output_type": "stream",
     "text": [
      "Getting activity data\n"
     ]
    },
    {
     "name": "stderr",
     "output_type": "stream",
     "text": [
      "100%|██████████| 85/85 [00:00<00:00, 5661.50it/s]\n"
     ]
    },
    {
     "name": "stdout",
     "output_type": "stream",
     "text": [
      "Adding exchange data to activities\n"
     ]
    },
    {
     "name": "stderr",
     "output_type": "stream",
     "text": [
      "100%|██████████| 1686/1686 [00:00<00:00, 21843.17it/s]\n"
     ]
    },
    {
     "name": "stdout",
     "output_type": "stream",
     "text": [
      "Filling out exchange data\n"
     ]
    },
    {
     "name": "stderr",
     "output_type": "stream",
     "text": [
      "100%|██████████| 85/85 [00:00<00:00, 291.58it/s]\n"
     ]
    }
   ],
   "execution_count": 71
  },
  {
   "metadata": {
    "ExecuteTime": {
     "end_time": "2024-09-24T21:28:19.392370Z",
     "start_time": "2024-09-24T21:28:05.992162Z"
    }
   },
   "cell_type": "code",
   "source": [
    "# Update mapping dataframe with better locations\n",
    "mapping_linked_to_premise = change_location_mapping_file(mapping_linked_to_premise, my_ranking, base_db, ES_region)"
   ],
   "outputs": [
    {
     "name": "stdout",
     "output_type": "stream",
     "text": [
      "No location found in your ranking for hydrogen, gaseous, 20 bar - hydrogen production, gaseous, 20 bar, from AEC electrolysis, from grid electricity - ecoinvent_cutoff_3.8_remind_SSP2-Base_2020\n",
      "Have to keep the initial location: CH\n",
      "No location found in your ranking for biomethane, high pressure - biomethane, gaseous, 5 bar, from sewage sludge fermentation, at fuelling station - ecoinvent_cutoff_3.8_remind_SSP2-Base_2020\n",
      "Have to keep the initial location: RER\n",
      "No location found in your ranking for hydrogen, gaseous, low pressure - hydrogen production, steam methane reforming, from biomethane - ecoinvent_cutoff_3.8_remind_SSP2-Base_2020\n",
      "Have to keep the initial location: RER\n",
      "No location found in your ranking for hydrogen, gaseous, low pressure - hydrogen production, steam methane reforming, from biomethane, with CCS - ecoinvent_cutoff_3.8_remind_SSP2-Base_2020\n",
      "Have to keep the initial location: RER\n",
      "No location found in your ranking for hydrogen, gaseous, 25 bar - hydrogen production, gaseous, 25 bar, from gasification of woody biomass in entrained flow gasifier, at gasification plant - ecoinvent_cutoff_3.8_remind_SSP2-Base_2020\n",
      "Have to keep the initial location: RER\n",
      "No location found in your ranking for hydrogen, gaseous, 25 bar - hydrogen production, gaseous, 25 bar, from gasification of woody biomass in entrained flow gasifier, with CCS, at gasification plant - ecoinvent_cutoff_3.8_remind_SSP2-Base_2020\n",
      "Have to keep the initial location: RER\n",
      "No location found in your ranking for hydrogen, gaseous, 25 bar - hydrogen production, gaseous, 25 bar, from gasification of woody biomass in entrained flow gasifier, at gasification plant - ecoinvent_cutoff_3.8_remind_SSP2-Base_2020\n",
      "Have to keep the initial location: RER\n",
      "No location found in your ranking for hydrogen, gaseous, 25 bar - hydrogen production, gaseous, 25 bar, from gasification of woody biomass in entrained flow gasifier, with CCS, at gasification plant - ecoinvent_cutoff_3.8_remind_SSP2-Base_2020\n",
      "Have to keep the initial location: RER\n",
      "No location found in your ranking for transport, passenger car - transport, passenger car, battery electric, Medium - ecoinvent_cutoff_3.8_remind_SSP2-Base_2020\n",
      "Have to keep the initial location: RER\n",
      "No location found in your ranking for transport, passenger car - transport, passenger car, battery electric, Medium - ecoinvent_cutoff_3.8_remind_SSP2-Base_2020\n",
      "Have to keep the initial location: RER\n",
      "No location found in your ranking for transport, passenger car - transport, passenger car, battery electric, Medium - ecoinvent_cutoff_3.8_remind_SSP2-Base_2020\n",
      "Have to keep the initial location: RER\n",
      "No location found in your ranking for transport, passenger car - transport, passenger car, battery electric, Medium - ecoinvent_cutoff_3.8_remind_SSP2-Base_2020\n",
      "Have to keep the initial location: RER\n",
      "No location found in your ranking for transport, passenger car - transport, passenger car, fuel cell electric, Medium - ecoinvent_cutoff_3.8_remind_SSP2-Base_2020\n",
      "Have to keep the initial location: RER\n",
      "No location found in your ranking for transport, passenger car - transport, passenger car, fuel cell electric, Medium - ecoinvent_cutoff_3.8_remind_SSP2-Base_2020\n",
      "Have to keep the initial location: RER\n",
      "No location found in your ranking for transport, passenger car - transport, passenger car, fuel cell electric, Medium - ecoinvent_cutoff_3.8_remind_SSP2-Base_2020\n",
      "Have to keep the initial location: RER\n",
      "No location found in your ranking for transport, passenger car - transport, passenger car, fuel cell electric, Medium - ecoinvent_cutoff_3.8_remind_SSP2-Base_2020\n",
      "Have to keep the initial location: RER\n",
      "No location found in your ranking for transport, passenger car - transport, passenger car, fuel cell electric, Medium - ecoinvent_cutoff_3.8_remind_SSP2-Base_2020\n",
      "Have to keep the initial location: RER\n",
      "No location found in your ranking for transport, passenger car - transport, passenger car, fuel cell electric, Medium - ecoinvent_cutoff_3.8_remind_SSP2-Base_2020\n",
      "Have to keep the initial location: RER\n",
      "No location found in your ranking for transport, passenger car - transport, passenger car, fuel cell electric, Medium - ecoinvent_cutoff_3.8_remind_SSP2-Base_2020\n",
      "Have to keep the initial location: RER\n",
      "No location found in your ranking for transport, passenger car - transport, passenger car, fuel cell electric, Medium - ecoinvent_cutoff_3.8_remind_SSP2-Base_2020\n",
      "Have to keep the initial location: RER\n",
      "No location found in your ranking for electricity, high voltage - electricity production, at natural gas-fired combined cycle power plant, post, pipeline 200km, storage 1000m - ecoinvent_cutoff_3.8_remind_SSP2-Base_2020\n",
      "Have to keep the initial location: RER\n",
      "No location found in your ranking for diesel, synthetic - diesel production, synthetic, Fischer Tropsch process, hydrogen from electrolysis, energy allocation - ecoinvent_cutoff_3.8_remind_SSP2-Base_2020\n",
      "Have to keep the initial location: RER\n",
      "No location found in your ranking for transport, passenger bus - transport, passenger bus, battery electric - overnight charging, 13m single deck urban bus - ecoinvent_cutoff_3.8_remind_SSP2-Base_2020\n",
      "Have to keep the initial location: RER\n",
      "No location found in your ranking for transport, passenger bus - transport, passenger bus, battery electric - overnight charging, 13m single deck urban bus - ecoinvent_cutoff_3.8_remind_SSP2-Base_2020\n",
      "Have to keep the initial location: RER\n",
      "No location found in your ranking for transport, passenger bus - transport, passenger bus, battery electric - overnight charging, 13m single deck urban bus - ecoinvent_cutoff_3.8_remind_SSP2-Base_2020\n",
      "Have to keep the initial location: RER\n",
      "No location found in your ranking for electricity, high voltage - electricity production, at hard coal-fired IGCC power plant - ecoinvent_cutoff_3.8_remind_SSP2-Base_2020\n",
      "Have to keep the initial location: RER\n",
      "No location found in your ranking for electricity, high voltage - electricity production, at lignite-fired power plant, post, pipeline 200km, storage 1000m - ecoinvent_cutoff_3.8_remind_SSP2-Base_2020\n",
      "Have to keep the initial location: RER\n",
      "No location found in your ranking for kerosene, synthetic - kerosene production, synthetic, Fischer Tropsch process, hydrogen from wood gasification, energy allocation - ecoinvent_cutoff_3.8_remind_SSP2-Base_2020\n",
      "Have to keep the initial location: RER\n",
      "No location found in your ranking for heat, future - heat production, natural gas, at diffusion absorption heat pump 4kW, future - ecoinvent_cutoff_3.8_remind_SSP2-Base_2020\n",
      "Have to keep the initial location: CH\n",
      "No location found in your ranking for carbon dioxide, stored - carbon dioxide compression, transport and storage - ecoinvent_cutoff_3.8_remind_SSP2-Base_2020\n",
      "Have to keep the initial location: RER\n",
      "No location found in your ranking for carbon dioxide, stored - carbon dioxide compression, transport and storage - ecoinvent_cutoff_3.8_remind_SSP2-Base_2020\n",
      "Have to keep the initial location: RER\n",
      "No location found in your ranking for carbon dioxide, stored - carbon dioxide compression, transport and storage - ecoinvent_cutoff_3.8_remind_SSP2-Base_2020\n",
      "Have to keep the initial location: RER\n",
      "No location found in your ranking for carbon dioxide, stored - carbon dioxide compression, transport and storage - ecoinvent_cutoff_3.8_remind_SSP2-Base_2020\n",
      "Have to keep the initial location: RER\n",
      "No location found in your ranking for diesel, synthetic, vehicle grade - diesel production, synthetic, from Fischer Tropsch process, hydrogen from wood gasification, energy allocation, at fuelling station - ecoinvent_cutoff_3.8_remind_SSP2-Base_2020\n",
      "Have to keep the initial location: RER\n",
      "No location found in your ranking for syngas, RWGS, Production - syngas, RWGS, Production, for Fischer Tropsch process, hydrogen from wood gasification - ecoinvent_cutoff_3.8_remind_SSP2-Base_2020\n",
      "Have to keep the initial location: RER\n",
      "No location found in your ranking for electricity, high voltage - electricity production, from hydrogen-fired one gigawatt gas turbine - ecoinvent_cutoff_3.8_remind_SSP2-Base_2020\n",
      "Have to keep the initial location: RER\n",
      "No location found in your ranking for syngas, RWGS, Production - syngas, RWGS, Production, for Fischer Tropsch process, hydrogen from wood gasification - ecoinvent_cutoff_3.8_remind_SSP2-Base_2020\n",
      "Have to keep the initial location: RER\n",
      "No location found in your ranking for syngas, RWGS, Production - syngas, RWGS, Production, for Fischer Tropsch process, hydrogen from wood gasification - ecoinvent_cutoff_3.8_remind_SSP2-Base_2020\n",
      "Have to keep the initial location: RER\n",
      "No location found in your ranking for carbon dioxide, stored - carbon dioxide compression, transport and storage - ecoinvent_cutoff_3.8_remind_SSP2-Base_2020\n",
      "Have to keep the initial location: RER\n",
      "No location found in your ranking for hydrogen, gaseous, 100 bar - hydrogen production, gaseous, 100 bar, from methane pyrolysis - ecoinvent_cutoff_3.8_remind_SSP2-Base_2020\n",
      "Have to keep the initial location: RER\n",
      "No location found in your ranking for hydrogen, gaseous, 100 bar - hydrogen production, gaseous, 100 bar, from methane pyrolysis - ecoinvent_cutoff_3.8_remind_SSP2-Base_2020\n",
      "Have to keep the initial location: RER\n",
      "No location found in your ranking for hydrogen, gaseous, low pressure - hydrogen production, steam methane reforming - ecoinvent_cutoff_3.8_remind_SSP2-Base_2020\n",
      "Have to keep the initial location: RER\n",
      "No location found in your ranking for hydrogen, gaseous, 30 bar - hydrogen production, gaseous, 30 bar, from PEM electrolysis, from grid electricity - ecoinvent_cutoff_3.8_remind_SSP2-Base_2020\n",
      "Have to keep the initial location: RER\n",
      "No location found in your ranking for transport, passenger bus, EURO-VI - transport, passenger bus, diesel, 13m single deck urban bus, EURO-VI - ecoinvent_cutoff_3.8_remind_SSP2-Base_2020\n",
      "Have to keep the initial location: RER\n",
      "No location found in your ranking for transport, passenger bus, EURO-VI - transport, passenger bus, diesel, 13m single deck urban bus, EURO-VI - ecoinvent_cutoff_3.8_remind_SSP2-Base_2020\n",
      "Have to keep the initial location: RER\n",
      "No location found in your ranking for transport, passenger bus, EURO-VI - transport, passenger bus, compressed gas, 13m single deck urban bus, EURO-VI - ecoinvent_cutoff_3.8_remind_SSP2-Base_2020\n",
      "Have to keep the initial location: RER\n",
      "No location found in your ranking for transport, passenger bus, EURO-VI - transport, passenger bus, diesel, 13m single deck urban bus, EURO-VI - ecoinvent_cutoff_3.8_remind_SSP2-Base_2020\n",
      "Have to keep the initial location: RER\n",
      "No location found in your ranking for transport, passenger bus, EURO-VI - transport, passenger bus, diesel, 13m single deck urban bus, EURO-VI - ecoinvent_cutoff_3.8_remind_SSP2-Base_2020\n",
      "Have to keep the initial location: RER\n",
      "No location found in your ranking for transport, passenger bus - transport, passenger bus, battery electric - overnight charging, 13m single deck urban bus - ecoinvent_cutoff_3.8_remind_SSP2-Base_2020\n",
      "Have to keep the initial location: RER\n",
      "No location found in your ranking for transport, passenger bus - transport, passenger bus, fuel cell electric, 13m single deck urban bus - ecoinvent_cutoff_3.8_remind_SSP2-Base_2020\n",
      "Have to keep the initial location: RER\n",
      "No location found in your ranking for transport, passenger bus, EURO-VI - transport, passenger bus, diesel, 13m single deck urban bus, EURO-VI - ecoinvent_cutoff_3.8_remind_SSP2-Base_2020\n",
      "Have to keep the initial location: RER\n",
      "No location found in your ranking for transport, passenger bus, EURO-VI - transport, passenger bus, compressed gas, 13m single deck urban bus, EURO-VI - ecoinvent_cutoff_3.8_remind_SSP2-Base_2020\n",
      "Have to keep the initial location: RER\n",
      "No location found in your ranking for transport, freight, lorry, EURO-VI - transport, freight, lorry, diesel, 26t gross weight, EURO-VI, long haul - ecoinvent_cutoff_3.8_remind_SSP2-Base_2020\n",
      "Have to keep the initial location: RER\n",
      "No location found in your ranking for transport, freight, lorry, EURO-VI - transport, freight, lorry, diesel, 26t gross weight, EURO-VI, long haul - ecoinvent_cutoff_3.8_remind_SSP2-Base_2020\n",
      "Have to keep the initial location: RER\n",
      "No location found in your ranking for transport, freight, lorry, EURO-VI - transport, freight, lorry, diesel, 26t gross weight, EURO-VI, long haul - ecoinvent_cutoff_3.8_remind_SSP2-Base_2020\n",
      "Have to keep the initial location: RER\n",
      "No location found in your ranking for transport, freight, lorry, EURO-VI - transport, freight, lorry, diesel, 26t gross weight, EURO-VI, long haul - ecoinvent_cutoff_3.8_remind_SSP2-Base_2020\n",
      "Have to keep the initial location: RER\n",
      "No location found in your ranking for transport, freight, lorry, EURO-VI - transport, freight, lorry, compressed gas, 26t gross weight, EURO-VI, long haul - ecoinvent_cutoff_3.8_remind_SSP2-Base_2020\n",
      "Have to keep the initial location: RER\n",
      "No location found in your ranking for transport, freight, lorry, EURO-VI - transport, freight, lorry, compressed gas, 26t gross weight, EURO-VI, long haul - ecoinvent_cutoff_3.8_remind_SSP2-Base_2020\n",
      "Have to keep the initial location: RER\n",
      "No location found in your ranking for transport, freight, lorry, EURO-VI - transport, freight, lorry, diesel, 26t gross weight, EURO-VI, long haul - ecoinvent_cutoff_3.8_remind_SSP2-Base_2020\n",
      "Have to keep the initial location: RER\n",
      "No location found in your ranking for transport, freight, lorry, EURO-VI - transport, freight, lorry, diesel, 26t gross weight, EURO-VI, long haul - ecoinvent_cutoff_3.8_remind_SSP2-Base_2020\n",
      "Have to keep the initial location: RER\n",
      "No location found in your ranking for transport, freight, lorry - transport, freight, lorry, battery electric, 26t gross weight, long haul - ecoinvent_cutoff_3.8_remind_SSP2-Base_2020\n",
      "Have to keep the initial location: RER\n",
      "No location found in your ranking for transport, freight, lorry - transport, freight, lorry, battery electric, 26t gross weight, long haul - ecoinvent_cutoff_3.8_remind_SSP2-Base_2020\n",
      "Have to keep the initial location: RER\n",
      "No location found in your ranking for transport, freight, lorry - transport, freight, lorry, fuel cell electric, 26t gross weight, long haul - ecoinvent_cutoff_3.8_remind_SSP2-Base_2020\n",
      "Have to keep the initial location: RER\n",
      "No location found in your ranking for transport, freight, lorry - transport, freight, lorry, fuel cell electric, 26t gross weight, long haul - ecoinvent_cutoff_3.8_remind_SSP2-Base_2020\n",
      "Have to keep the initial location: RER\n",
      "No location found in your ranking for transport, freight, lorry - transport, freight, lorry, fuel cell electric, 26t gross weight, long haul - ecoinvent_cutoff_3.8_remind_SSP2-Base_2020\n",
      "Have to keep the initial location: RER\n",
      "No location found in your ranking for transport, freight, lorry - transport, freight, lorry, fuel cell electric, 26t gross weight, long haul - ecoinvent_cutoff_3.8_remind_SSP2-Base_2020\n",
      "Have to keep the initial location: RER\n",
      "No location found in your ranking for transport, freight, lorry, EURO-VI - transport, freight, lorry, compressed gas, 26t gross weight, EURO-VI, long haul - ecoinvent_cutoff_3.8_remind_SSP2-Base_2020\n",
      "Have to keep the initial location: RER\n",
      "No location found in your ranking for transport, freight, lorry, EURO-VI - transport, freight, lorry, compressed gas, 26t gross weight, EURO-VI, long haul - ecoinvent_cutoff_3.8_remind_SSP2-Base_2020\n",
      "Have to keep the initial location: RER\n",
      "No location found in your ranking for hydrogen, gaseous, low pressure - hydrogen production, steam methane reforming - ecoinvent_cutoff_3.8_remind_SSP2-Base_2020\n",
      "Have to keep the initial location: RER\n",
      "No location found in your ranking for hydrogen, gaseous, low pressure - hydrogen production, steam methane reforming, with CCS - ecoinvent_cutoff_3.8_remind_SSP2-Base_2020\n",
      "Have to keep the initial location: RER\n",
      "No location found in your ranking for hydrogen, gaseous, 1 bar - hydrogen production, gaseous, 1 bar, from SOEC electrolysis, from grid electricity - ecoinvent_cutoff_3.8_remind_SSP2-Base_2020\n",
      "Have to keep the initial location: CH\n",
      "No location found in your ranking for transport, freight, lorry, EURO-VI - transport, freight, lorry, diesel, 18t gross weight, EURO-VI, long haul - ecoinvent_cutoff_3.8_remind_SSP2-Base_2020\n",
      "Have to keep the initial location: RER\n",
      "No location found in your ranking for transport, freight, lorry, EURO-VI - transport, freight, lorry, diesel, 18t gross weight, EURO-VI, long haul - ecoinvent_cutoff_3.8_remind_SSP2-Base_2020\n",
      "Have to keep the initial location: RER\n",
      "No location found in your ranking for transport, freight, lorry, EURO-VI - transport, freight, lorry, compressed gas, 18t gross weight, EURO-VI, long haul - ecoinvent_cutoff_3.8_remind_SSP2-Base_2020\n",
      "Have to keep the initial location: RER\n",
      "No location found in your ranking for transport, freight, lorry, EURO-VI - transport, freight, lorry, diesel, 18t gross weight, EURO-VI, long haul - ecoinvent_cutoff_3.8_remind_SSP2-Base_2020\n",
      "Have to keep the initial location: RER\n",
      "No location found in your ranking for transport, freight, lorry - transport, freight, lorry, battery electric, 18t gross weight, long haul - ecoinvent_cutoff_3.8_remind_SSP2-Base_2020\n",
      "Have to keep the initial location: RER\n",
      "No location found in your ranking for transport, freight, lorry - transport, freight, lorry, fuel cell electric, 18t gross weight, long haul - ecoinvent_cutoff_3.8_remind_SSP2-Base_2020\n",
      "Have to keep the initial location: RER\n",
      "No location found in your ranking for transport, freight, lorry, EURO-VI - transport, freight, lorry, compressed gas, 18t gross weight, EURO-VI, long haul - ecoinvent_cutoff_3.8_remind_SSP2-Base_2020\n",
      "Have to keep the initial location: RER\n",
      "No location found in your ranking for carbon dioxide, stored - carbon dioxide compression, transport and storage - ecoinvent_cutoff_3.8_remind_SSP2-Base_2020\n",
      "Have to keep the initial location: RER\n"
     ]
    }
   ],
   "execution_count": 72
  },
  {
   "metadata": {
    "ExecuteTime": {
     "end_time": "2024-09-24T21:28:19.492816Z",
     "start_time": "2024-09-24T21:28:19.392370Z"
    }
   },
   "cell_type": "code",
   "source": "unlinked = test_mapping_file(mapping_linked_to_premise, base_db)",
   "outputs": [
    {
     "name": "stdout",
     "output_type": "stream",
     "text": [
      "Mapping successfully linked to the database\n"
     ]
    }
   ],
   "execution_count": 73
  },
  {
   "metadata": {
    "ExecuteTime": {
     "end_time": "2024-09-24T21:28:19.518799Z",
     "start_time": "2024-09-24T21:28:19.493998Z"
    }
   },
   "cell_type": "code",
   "source": [
    "if len(unlinked) == 0:\n",
    "    mapping_linked_to_premise.to_csv(f\"energyscope_data/{ES_region}/mapping_3.8_linked.csv\", index=False)\n",
    "else:\n",
    "    print(f\"Unlinked flows: {unlinked}\")"
   ],
   "outputs": [],
   "execution_count": 74
  }
 ],
 "metadata": {
  "kernelspec": {
   "display_name": "Python 3",
   "language": "python",
   "name": "python3"
  },
  "language_info": {
   "codemirror_mode": {
    "name": "ipython",
    "version": 2
   },
   "file_extension": ".py",
   "mimetype": "text/x-python",
   "name": "python",
   "nbconvert_exporter": "python",
   "pygments_lexer": "ipython2",
   "version": "2.7.6"
  }
 },
 "nbformat": 4,
 "nbformat_minor": 0
}
