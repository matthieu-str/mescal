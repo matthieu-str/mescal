{
 "cells": [
  {
   "cell_type": "markdown",
   "source": [
    "# Consolidating several mappings"
   ],
   "metadata": {
    "collapsed": false
   }
  },
  {
   "cell_type": "code",
   "source": [
    "import pandas as pd\n",
    "import numpy as np\n",
    "import bw2data as bd\n",
    "from mescal import *"
   ],
   "metadata": {
    "collapsed": false,
    "ExecuteTime": {
     "end_time": "2025-04-14T17:48:31.350710Z",
     "start_time": "2025-04-14T17:48:19.807501Z"
    }
   },
   "outputs": [],
   "execution_count": 1
  },
  {
   "metadata": {
    "ExecuteTime": {
     "end_time": "2025-04-14T17:48:31.682126Z",
     "start_time": "2025-04-14T17:48:31.354892Z"
    }
   },
   "cell_type": "code",
   "source": "bd.projects.set_current('ei3.8-mescal')",
   "outputs": [],
   "execution_count": 2
  },
  {
   "metadata": {
    "ExecuteTime": {
     "end_time": "2025-04-14T17:48:31.692974Z",
     "start_time": "2025-04-14T17:48:31.682126Z"
    }
   },
   "cell_type": "code",
   "source": "ES_region = 'CA-QC' # 'CH' or 'CA-QC'",
   "outputs": [],
   "execution_count": 3
  },
  {
   "metadata": {
    "ExecuteTime": {
     "end_time": "2025-04-14T17:48:31.861755Z",
     "start_time": "2025-04-14T17:48:31.704437Z"
    }
   },
   "cell_type": "code",
   "source": [
    "tech_CH = pd.read_csv('energyscope_data/CA-QC/hidden/tech_CH.csv') # mapping from ecoinvent 3.8 for CH\n",
    "tech_QC = pd.read_csv('energyscope_data/CA-QC/hidden/tech_QC.csv') # mapping from ecoinvent 3.8 and premise specific for QC\n",
    "comp_CH = pd.read_excel('energyscope_data/CA-QC/hidden/techno_compositions_CH.xlsx') # list of compositions of technologies with premise mapping for CH\n",
    "comp_QC = pd.read_excel('energyscope_data/CA-QC/hidden/techno_compositions_QC.xlsx') # list of compositions of technologies with premise mapping for QC\n",
    "# dict_ES = pd.read_csv('energyscope_data/CA-QC/hidden/Technology_Dictionary_v2.csv')\n",
    "# region_tech_ES = pd.read_excel('energyscope_data/CA-QC/hidden/Technologies_ES_version.xlsx')\n",
    "layers_in_out_CH = pd.read_csv(f\"energyscope_data/CA-QC/hidden/layers_in_out_CH.csv\")\n",
    "layers_in_out_QC = pd.read_csv(f\"energyscope_data/CA-QC/hidden/layers_in_out_QC.csv\")"
   ],
   "outputs": [],
   "execution_count": 4
  },
  {
   "metadata": {
    "ExecuteTime": {
     "end_time": "2025-04-14T17:48:32.670124Z",
     "start_time": "2025-04-14T17:48:31.864716Z"
    }
   },
   "cell_type": "code",
   "source": [
    "assumptions_diff_CH = pd.read_excel('energyscope_data/CA-QC/hidden/assumptions_diff_CH.xlsx')\n",
    "assumptions_diff_QC = pd.read_excel('energyscope_data/CA-QC/hidden/assumptions_diff_QC.xlsx')\n",
    "efficiency = pd.read_csv(f\"energyscope_data/CA-QC/hidden/efficiency_{ES_region[-2:]}.csv\")\n",
    "mob_model_private_CH = pd.read_csv(\n",
    "    \"energyscope_data/CA-QC/hidden/MODELS_OF_TECHNOLOGIES_OF_PRIVATEMOB_ALL_DISTANCES_CH.csv\", sep=',')\n",
    "mob_model_private_QC = pd.read_csv(\n",
    "    \"energyscope_data/CA-QC/hidden/MODELS_OF_TECHNOLOGIES_OF_PRIVATEMOB_ALL_DISTANCES_QC.csv\", sep=',')\n",
    "mob_model_public_QC = pd.read_csv(\n",
    "    \"energyscope_data/CA-QC/hidden/MODELS_OF_TECHNOLOGIES_OF_PUBLICMOB_ALL_DISTANCES_QC.csv\", sep=',')\n",
    "mob_model_freight_QC = pd.read_csv(\n",
    "    \"energyscope_data/CA-QC/hidden/MODELS_OF_TECHNOLOGIES_OF_FREIGHTMOB_ALL_DISTANCES_QC.csv\", sep=',')"
   ],
   "outputs": [],
   "execution_count": 5
  },
  {
   "metadata": {
    "ExecuteTime": {
     "end_time": "2025-04-14T17:48:34.034496Z",
     "start_time": "2025-04-14T17:48:32.672387Z"
    }
   },
   "cell_type": "code",
   "source": [
    "# Allows to keep formulas in Excel files\n",
    "from openpyxl import load_workbook\n",
    "wb_CH = load_workbook(filename = 'energyscope_data/CA-QC/hidden/tech_unit_conversion_CH.xlsx')\n",
    "unit_conv_CH = pd.DataFrame(wb_CH[wb_CH.sheetnames[0]].values)\n",
    "wb_QC = load_workbook(filename = 'energyscope_data/CA-QC/hidden/tech_unit_conversion_QC.xlsx')\n",
    "unit_conv_QC = pd.DataFrame(wb_QC[wb_QC.sheetnames[0]].values)"
   ],
   "outputs": [],
   "execution_count": 6
  },
  {
   "metadata": {
    "ExecuteTime": {
     "end_time": "2025-04-14T17:48:34.047149Z",
     "start_time": "2025-04-14T17:48:34.036485Z"
    }
   },
   "cell_type": "code",
   "source": [
    "# setting first row as header\n",
    "new_header_CH = unit_conv_CH.iloc[0]\n",
    "unit_conv_CH = unit_conv_CH[1:]\n",
    "unit_conv_CH.columns = new_header_CH\n",
    "new_header_QC = unit_conv_QC.iloc[0]\n",
    "unit_conv_QC = unit_conv_QC[1:]\n",
    "unit_conv_QC.columns = new_header_QC"
   ],
   "outputs": [],
   "execution_count": 7
  },
  {
   "metadata": {
    "ExecuteTime": {
     "end_time": "2025-04-14T17:48:34.055647Z",
     "start_time": "2025-04-14T17:48:34.049621Z"
    }
   },
   "cell_type": "code",
   "source": [
    "# unit_conv_CH = pd.read_excel('energyscope_data/CA-QC/hidden/tech_unit_conversion_CH.xlsx')\n",
    "# unit_conv_QC = pd.read_excel('energyscope_data/CA-QC/hidden/tech_unit_conversion_QC.xlsx')"
   ],
   "outputs": [],
   "execution_count": 8
  },
  {
   "metadata": {
    "ExecuteTime": {
     "end_time": "2025-04-14T17:48:34.101744Z",
     "start_time": "2025-04-14T17:48:34.060287Z"
    }
   },
   "cell_type": "code",
   "source": [
    "if 'Validation' in tech_CH.columns:\n",
    "    tech_CH.drop(columns='Validation', inplace=True)\n",
    "if 'Validation' in tech_QC.columns:\n",
    "    tech_QC.drop(columns='Validation', inplace=True)\n",
    "if 'Validation' in assumptions_diff_CH.columns:\n",
    "    assumptions_diff_CH.drop(columns='Validation', inplace=True)\n",
    "if 'Validation' in assumptions_diff_QC.columns:\n",
    "    assumptions_diff_QC.drop(columns='Validation', inplace=True)"
   ],
   "outputs": [],
   "execution_count": 9
  },
  {
   "metadata": {},
   "cell_type": "markdown",
   "source": "# Model file"
  },
  {
   "metadata": {
    "ExecuteTime": {
     "end_time": "2025-04-14T17:48:34.130595Z",
     "start_time": "2025-04-14T17:48:34.107794Z"
    }
   },
   "cell_type": "code",
   "source": [
    "if ES_region == 'CA-QC':\n",
    "    model = layers_in_out_QC\n",
    "elif ES_region == 'CH':\n",
    "    model = layers_in_out_CH\n",
    "else:\n",
    "    raise ValueError('ES_region should be either CH or CA-QC')\n",
    "model[['Name', 'Flow', 'Amount']].to_csv(f'energyscope_data/{ES_region}/model.csv', index=False)"
   ],
   "outputs": [],
   "execution_count": 10
  },
  {
   "metadata": {},
   "cell_type": "markdown",
   "source": "## Mapping file"
  },
  {
   "metadata": {
    "ExecuteTime": {
     "end_time": "2025-04-14T17:48:34.151794Z",
     "start_time": "2025-04-14T17:48:34.132628Z"
    }
   },
   "cell_type": "code",
   "source": "len(tech_CH.ES_name.unique())",
   "outputs": [
    {
     "data": {
      "text/plain": [
       "283"
      ]
     },
     "execution_count": 11,
     "metadata": {},
     "output_type": "execute_result"
    }
   ],
   "execution_count": 11
  },
  {
   "metadata": {},
   "cell_type": "markdown",
   "source": "### QC"
  },
  {
   "metadata": {},
   "cell_type": "markdown",
   "source": "We start from the consolidated file of CH and add/replace what is in the tech_QC additional mapping, and filter what was only for CH using the list of technologies from ES-QC."
  },
  {
   "metadata": {
    "ExecuteTime": {
     "end_time": "2025-04-14T17:48:34.161850Z",
     "start_time": "2025-04-14T17:48:34.153807Z"
    }
   },
   "cell_type": "code",
   "source": "# region_tech_ES.dropna(subset=['ES_version'], inplace=True) # OTHER_BIOMASS to remove",
   "outputs": [],
   "execution_count": 12
  },
  {
   "metadata": {
    "ExecuteTime": {
     "end_time": "2025-04-14T17:48:34.176432Z",
     "start_time": "2025-04-14T17:48:34.163863Z"
    }
   },
   "cell_type": "code",
   "source": [
    "# list_tech_QC = list(region_tech_ES[region_tech_ES.ES_version.str.contains('CA')].tech_name)\n",
    "list_tech_QC = list(layers_in_out_QC.Name.unique())"
   ],
   "outputs": [],
   "execution_count": 13
  },
  {
   "metadata": {
    "ExecuteTime": {
     "end_time": "2025-04-14T17:48:34.188982Z",
     "start_time": "2025-04-14T17:48:34.177719Z"
    }
   },
   "cell_type": "code",
   "source": [
    "sub_comp_CH = list(set([x for xs in comp_CH.iloc[:, 1:].values.tolist() for x in xs])) # list of all subcomponents for CH\n",
    "sub_comp_QC = list(set([x for xs in comp_QC.iloc[:, 1:].values.tolist() for x in xs])) # list of all subcomponents for QC"
   ],
   "outputs": [],
   "execution_count": 14
  },
  {
   "metadata": {
    "ExecuteTime": {
     "end_time": "2025-04-14T17:48:34.200451Z",
     "start_time": "2025-04-14T17:48:34.191013Z"
    }
   },
   "cell_type": "code",
   "source": [
    "def replace_mob_submodel_by_model_CH(row):\n",
    "    if row.ES_name in list(mob_model_private_CH.Model_1):\n",
    "        return mob_model_private_CH[mob_model_private_CH.Model_1 == row.ES_name].Main_tech.iloc[0]\n",
    "    elif row.ES_name in list(mob_model_private_CH.Model_2):\n",
    "        return mob_model_private_CH[mob_model_private_CH.Model_2 == row.ES_name].Main_tech.iloc[0]\n",
    "    return row.ES_name"
   ],
   "outputs": [],
   "execution_count": 15
  },
  {
   "metadata": {
    "ExecuteTime": {
     "end_time": "2025-04-14T17:48:34.214015Z",
     "start_time": "2025-04-14T17:48:34.203314Z"
    }
   },
   "cell_type": "code",
   "source": [
    "def replace_mob_model_names(row):\n",
    "    if row.ES_name == 'CAR_HY_GASOLINE':\n",
    "        return 'CAR_HEV'\n",
    "    if row.ES_name == 'CAR_PHEV_GASOLINE':\n",
    "        return 'CAR_PHEV'\n",
    "    if row.ES_name == 'TRAIN_FREIGHT':\n",
    "        return 'TRAIN_FREIGHT_ELEC'\n",
    "    if row.ES_name == 'TRAIN_FREIGHT_LOC':\n",
    "        return 'TRAIN_FREIGHT_ELEC_LOC'\n",
    "    if row.ES_name == 'TRAIN_FREIGHT_WAG':\n",
    "        return 'TRAIN_FREIGHT_ELEC_WAG'\n",
    "    return row.ES_name"
   ],
   "outputs": [],
   "execution_count": 16
  },
  {
   "metadata": {
    "ExecuteTime": {
     "end_time": "2025-04-14T17:48:34.225136Z",
     "start_time": "2025-04-14T17:48:34.215525Z"
    }
   },
   "cell_type": "code",
   "source": [
    "def flatten(xss):\n",
    "    return [x for xs in xss for x in xs]"
   ],
   "outputs": [],
   "execution_count": 17
  },
  {
   "metadata": {
    "ExecuteTime": {
     "end_time": "2025-04-14T17:48:34.240434Z",
     "start_time": "2025-04-14T17:48:34.225136Z"
    }
   },
   "cell_type": "code",
   "source": "assumptions_diff_CH.drop(assumptions_diff_CH[assumptions_diff_CH.ES_name.isin(list(mob_model_private_CH.Main_tech.unique()))].index, inplace=True)",
   "outputs": [],
   "execution_count": 18
  },
  {
   "metadata": {
    "ExecuteTime": {
     "end_time": "2025-04-14T17:48:34.599809Z",
     "start_time": "2025-04-14T17:48:34.243070Z"
    }
   },
   "cell_type": "code",
   "source": [
    "tech_CH['ES_name'] = tech_CH.apply(replace_mob_submodel_by_model_CH, axis=1)\n",
    "unit_conv_CH['ES_name'] = unit_conv_CH.apply(replace_mob_submodel_by_model_CH, axis=1)\n",
    "assumptions_diff_CH['ES_name'] = assumptions_diff_CH.apply(replace_mob_submodel_by_model_CH, axis=1)"
   ],
   "outputs": [],
   "execution_count": 19
  },
  {
   "metadata": {
    "ExecuteTime": {
     "end_time": "2025-04-14T17:48:34.849852Z",
     "start_time": "2025-04-14T17:48:34.601963Z"
    }
   },
   "cell_type": "code",
   "source": [
    "tech_QC['ES_name'] = tech_QC.apply(replace_mob_model_names, axis=1)\n",
    "unit_conv_QC['ES_name'] = unit_conv_QC.apply(replace_mob_model_names, axis=1)\n",
    "assumptions_diff_QC['ES_name'] = assumptions_diff_QC.apply(replace_mob_model_names, axis=1)"
   ],
   "outputs": [],
   "execution_count": 20
  },
  {
   "metadata": {
    "ExecuteTime": {
     "end_time": "2025-04-14T17:48:35.161001Z",
     "start_time": "2025-04-14T17:48:34.851863Z"
    }
   },
   "cell_type": "code",
   "source": [
    "tech_CH['ES_name'] = tech_CH.apply(replace_mob_model_names, axis=1)\n",
    "unit_conv_CH['ES_name'] = unit_conv_CH.apply(replace_mob_model_names, axis=1)\n",
    "assumptions_diff_CH['ES_name'] = assumptions_diff_CH.apply(replace_mob_model_names, axis=1)"
   ],
   "outputs": [],
   "execution_count": 21
  },
  {
   "metadata": {
    "ExecuteTime": {
     "end_time": "2025-04-14T17:48:35.198183Z",
     "start_time": "2025-04-14T17:48:35.164175Z"
    }
   },
   "cell_type": "code",
   "source": [
    "tech_CH.drop_duplicates(inplace=True)\n",
    "unit_conv_CH.drop_duplicates(inplace=True)\n",
    "assumptions_diff_CH.drop_duplicates(inplace=True)"
   ],
   "outputs": [],
   "execution_count": 22
  },
  {
   "metadata": {
    "ExecuteTime": {
     "end_time": "2025-04-14T17:48:37.103058Z",
     "start_time": "2025-04-14T17:48:35.200196Z"
    }
   },
   "cell_type": "code",
   "source": [
    "list_tech_QC_updated = list_tech_QC.copy()\n",
    "for i in list_tech_QC:\n",
    "    if i in flatten(list(mob_model_private_QC[['Model_1', 'Model_2', 'Model_3', 'Model_4']].values)):\n",
    "        list_tech_QC_updated.remove(i)\n",
    "        list_tech_QC_updated.append(mob_model_private_QC[mob_model_private_QC[['Model_1', 'Model_2', 'Model_3', 'Model_4']].isin([i]).any(axis=1)].Main_tech.iloc[0])\n",
    "    if i in flatten(list(mob_model_public_QC[['Model_1', 'Model_2', 'Model_3']].values)):\n",
    "        list_tech_QC_updated.remove(i)\n",
    "        list_tech_QC_updated.append(mob_model_public_QC[mob_model_public_QC[['Model_1', 'Model_2', 'Model_3']].isin([i]).any(axis=1)].Main_tech.iloc[0])\n",
    "    if i in flatten(list(mob_model_freight_QC[['Model_1', 'Model_2']].values)):\n",
    "        list_tech_QC_updated.remove(i)\n",
    "        list_tech_QC_updated.append(mob_model_freight_QC[mob_model_freight_QC[['Model_1', 'Model_2']].isin([i]).any(axis=1)].Main_tech.iloc[0])"
   ],
   "outputs": [],
   "execution_count": 23
  },
  {
   "metadata": {},
   "cell_type": "code",
   "source": "list_tech_QC_updated = sorted(list(set(list_tech_QC_updated)))",
   "outputs": [],
   "execution_count": 24
  },
  {
   "metadata": {
    "ExecuteTime": {
     "end_time": "2025-04-14T17:48:37.121900Z",
     "start_time": "2025-04-14T17:48:37.116050Z"
    }
   },
   "cell_type": "code",
   "source": "list_tech_QC = list_tech_QC_updated",
   "outputs": [],
   "execution_count": 25
  },
  {
   "metadata": {
    "ExecuteTime": {
     "end_time": "2025-04-14T17:48:37.133992Z",
     "start_time": "2025-04-14T17:48:37.123912Z"
    }
   },
   "cell_type": "code",
   "source": [
    "# Remove technologies that are not in ES-QC\n",
    "tech_not_QC = []\n",
    "\n",
    "# Operation\n",
    "for tech in list(tech_CH[tech_CH.type == 'Operation'].ES_name):\n",
    "    if '_GRID' in tech:  # exception for GRID technologies which have no layers\n",
    "        continue\n",
    "    elif tech not in list_tech_QC:\n",
    "        tech_not_QC.append(tech)\n",
    "    else:\n",
    "        pass\n",
    "\n",
    "# Construction\n",
    "for tech in list(tech_CH[tech_CH.type == 'Construction'].ES_name):\n",
    "    if tech in sub_comp_CH:\n",
    "        if tech not in sub_comp_QC:\n",
    "            tech_not_QC.append(tech)\n",
    "        else:\n",
    "            pass"
   ],
   "outputs": [],
   "execution_count": 26
  },
  {
   "metadata": {
    "ExecuteTime": {
     "end_time": "2025-04-14T17:48:37.161655Z",
     "start_time": "2025-04-14T17:48:37.136870Z"
    }
   },
   "cell_type": "code",
   "source": "tech_CH_filtered = tech_CH.drop(index=tech_CH[tech_CH.ES_name.isin(tech_not_QC)].index)",
   "outputs": [],
   "execution_count": 27
  },
  {
   "metadata": {
    "ExecuteTime": {
     "end_time": "2025-04-14T17:48:37.812449Z",
     "start_time": "2025-04-14T17:48:37.177111Z"
    }
   },
   "cell_type": "code",
   "source": [
    "# Remove the LCI datasets that need to be updated from the CH list\n",
    "update_constr = []\n",
    "for tech in list(tech_CH[tech_CH.type == 'Construction'].ES_name):\n",
    "    if (tech in list(tech_CH[tech_CH.type == 'Construction'].ES_name)) & (tech in list(tech_QC[tech_QC.type == 'Construction'].ES_name)):\n",
    "        update_constr.append(tech)\n",
    "\n",
    "update_op = []\n",
    "for tech in list(tech_CH[tech_CH.type == 'Operation'].ES_name):\n",
    "    if (tech in list(tech_CH[tech_CH.type == 'Operation'].ES_name)) & (tech in list(tech_QC[tech_QC.type == 'Operation'].ES_name)):\n",
    "        update_op.append(tech)"
   ],
   "outputs": [],
   "execution_count": 28
  },
  {
   "metadata": {
    "ExecuteTime": {
     "end_time": "2025-04-14T17:48:37.828494Z",
     "start_time": "2025-04-14T17:48:37.814785Z"
    }
   },
   "cell_type": "code",
   "source": [
    "tech_CH_filtered.drop(index=tech_CH_filtered[(tech_CH_filtered.ES_name.isin(update_constr)) & (tech_CH_filtered.type == 'Construction')].index, inplace=True)\n",
    "tech_CH_filtered.drop(index=tech_CH_filtered[(tech_CH_filtered.ES_name.isin(update_op)) & (tech_CH_filtered.type == 'Operation')].index, inplace=True)"
   ],
   "outputs": [],
   "execution_count": 29
  },
  {
   "metadata": {
    "ExecuteTime": {
     "end_time": "2025-04-14T17:48:37.864745Z",
     "start_time": "2025-04-14T17:48:37.828494Z"
    }
   },
   "cell_type": "code",
   "source": "tech_consolidated_QC = pd.concat([tech_CH_filtered, tech_QC])",
   "outputs": [],
   "execution_count": 30
  },
  {
   "metadata": {
    "ExecuteTime": {
     "end_time": "2025-04-14T17:48:37.880310Z",
     "start_time": "2025-04-14T17:48:37.867278Z"
    }
   },
   "cell_type": "code",
   "source": "tech_consolidated_QC.duplicated(subset=['ES_name', 'type']).sum()",
   "outputs": [
    {
     "data": {
      "text/plain": [
       "0"
      ]
     },
     "execution_count": 31,
     "metadata": {},
     "output_type": "execute_result"
    }
   ],
   "execution_count": 31
  },
  {
   "metadata": {},
   "cell_type": "markdown",
   "source": "## Unit conversion file"
  },
  {
   "metadata": {},
   "cell_type": "markdown",
   "source": "### CH"
  },
  {
   "metadata": {
    "ExecuteTime": {
     "end_time": "2025-04-14T17:48:37.891229Z",
     "start_time": "2025-04-14T17:48:37.882065Z"
    }
   },
   "cell_type": "code",
   "source": "unit_conv_CH = unit_conv_CH[['ES_name', 'ei_constr_unit', 'ES_constr_unit', 'ei_use_unit', 'ES_use_unit', 'capacity', 'conversion', 'ei_constr_unit_size', 'ES_constr_unit_size', 'Assumptions & Sources']]",
   "outputs": [],
   "execution_count": 32
  },
  {
   "metadata": {
    "ExecuteTime": {
     "end_time": "2025-04-14T17:48:37.902767Z",
     "start_time": "2025-04-14T17:48:37.891229Z"
    }
   },
   "cell_type": "code",
   "source": [
    "# Drop the rows where both the capacity and conversion factors are None\n",
    "unit_conv_CH.drop(unit_conv_CH[(unit_conv_CH.conversion.values == None) & (unit_conv_CH.capacity.values == None)].index, inplace=True)"
   ],
   "outputs": [],
   "execution_count": 33
  },
  {
   "metadata": {},
   "cell_type": "markdown",
   "source": "### QC"
  },
  {
   "metadata": {
    "ExecuteTime": {
     "end_time": "2025-04-14T17:48:37.914027Z",
     "start_time": "2025-04-14T17:48:37.906806Z"
    }
   },
   "cell_type": "code",
   "source": "unit_conv_QC = unit_conv_QC[unit_conv_CH.columns]",
   "outputs": [],
   "execution_count": 34
  },
  {
   "metadata": {
    "ExecuteTime": {
     "end_time": "2025-04-14T17:48:37.925381Z",
     "start_time": "2025-04-14T17:48:37.916781Z"
    }
   },
   "cell_type": "code",
   "source": "unit_conv_QC.dropna(how='all', axis=0, inplace=True)",
   "outputs": [],
   "execution_count": 35
  },
  {
   "metadata": {
    "ExecuteTime": {
     "end_time": "2025-04-14T17:48:37.989623Z",
     "start_time": "2025-04-14T17:48:37.927910Z"
    }
   },
   "cell_type": "code",
   "source": [
    "# In order to overwrite some conversion factors (same technologies but different factors between CH and QC), we remove from the CH file the factors that are present in both files\n",
    "unit_conv_CH_overwrite = unit_conv_CH.copy()\n",
    "for tech in list(unit_conv_QC.ES_name.unique()):\n",
    "    if tech in list(unit_conv_CH.ES_name.unique()):\n",
    "        unit_conv_CH_overwrite.drop(unit_conv_CH[unit_conv_CH.ES_name == tech].index, inplace=True)"
   ],
   "outputs": [],
   "execution_count": 36
  },
  {
   "metadata": {
    "ExecuteTime": {
     "end_time": "2025-04-14T17:48:38.001292Z",
     "start_time": "2025-04-14T17:48:37.991639Z"
    }
   },
   "cell_type": "code",
   "source": "unit_conv_QC_consolidated = pd.concat([unit_conv_CH_overwrite.drop(unit_conv_CH_overwrite[unit_conv_CH_overwrite.ES_name.isin(tech_not_QC)].index), unit_conv_QC])",
   "outputs": [],
   "execution_count": 37
  },
  {
   "metadata": {},
   "cell_type": "markdown",
   "source": "# Duplicate mapping for mobility models"
  },
  {
   "metadata": {
    "ExecuteTime": {
     "end_time": "2025-04-14T17:48:38.015764Z",
     "start_time": "2025-04-14T17:48:38.003308Z"
    }
   },
   "cell_type": "code",
   "source": [
    "if ES_region == 'CA-QC':\n",
    "    tech_ecoinvent = tech_consolidated_QC.copy(deep=True)\n",
    "    tech_unit_conversion = unit_conv_QC_consolidated.copy(deep=True)\n",
    "    comp = comp_QC.copy(deep=True)\n",
    "    assumptions_diff = assumptions_diff_QC.copy(deep=True)\n",
    "elif ES_region == 'CH':\n",
    "    tech_ecoinvent = tech_CH.copy(deep=True)\n",
    "    tech_unit_conversion = unit_conv_CH.copy(deep=True)\n",
    "    comp = comp_CH.copy(deep=True)\n",
    "    assumptions_diff = assumptions_diff_CH.copy(deep=True)\n",
    "else:\n",
    "    raise ValueError('ES_region should be either CH or CA-QC')"
   ],
   "outputs": [],
   "execution_count": 38
  },
  {
   "metadata": {
    "ExecuteTime": {
     "end_time": "2025-04-14T17:48:38.027088Z",
     "start_time": "2025-04-14T17:48:38.016777Z"
    }
   },
   "cell_type": "code",
   "source": [
    "tech_ecoinvent.reset_index(drop=True, inplace=True)\n",
    "tech_unit_conversion.reset_index(drop=True, inplace=True)\n",
    "comp.reset_index(drop=True, inplace=True)"
   ],
   "outputs": [],
   "execution_count": 39
  },
  {
   "metadata": {
    "ExecuteTime": {
     "end_time": "2025-04-14T17:48:38.039068Z",
     "start_time": "2025-04-14T17:48:38.029407Z"
    }
   },
   "cell_type": "code",
   "source": [
    "# Gather all non-nan components into a list\n",
    "comp['Components'] = [[e for e in row if e == e] for row in comp.iloc[:, 1:].values.tolist()]\n",
    "comp_dict = dict(zip(comp.ES_name, comp.Components))\n",
    "N_sub_comp_max = 4  # maximum number of subcomponents in the compositions file"
   ],
   "outputs": [],
   "execution_count": 40
  },
  {
   "metadata": {
    "ExecuteTime": {
     "end_time": "2025-04-14T17:48:38.070437Z",
     "start_time": "2025-04-14T17:48:38.041571Z"
    }
   },
   "cell_type": "code",
   "source": [
    "def gen_df_mob_models(df):\n",
    "    df_mobility_models = pd.DataFrame(columns=tech_ecoinvent.columns)\n",
    "\n",
    "    for i in range(len(df)):\n",
    "        tech = df.Main_tech.iloc[i]\n",
    "\n",
    "        if tech in list(tech_ecoinvent.ES_name):\n",
    "\n",
    "            j = 1\n",
    "            model = str(df[df.Main_tech == tech][f'Model_{j}'].iloc[0])\n",
    "            while (model != 'nan') & (j < df.shape[1]):\n",
    "                if str(df_mobility_models.index.max()) == 'nan':\n",
    "                    idx = 1\n",
    "                else:\n",
    "                    idx = df_mobility_models.index.max() + 1\n",
    "                df_mobility_models.loc[idx] = [model] + list(tech_ecoinvent[(tech_ecoinvent.ES_name == tech) & (tech_ecoinvent.type == 'Operation')].iloc[0, 1:])  # operation\n",
    "                tech_unit_conversion.loc[tech_unit_conversion.index.max() + 1] = [model] + list(tech_unit_conversion[tech_unit_conversion.ES_name == tech].iloc[0,1:])  # update unit conversion Excel files with additional rows for mobility models\n",
    "                # dict_ES.loc[dict_ES.index.max() + 1] = [model] + list(dict_ES[dict_ES['Programming name'] == tech].iloc[0,1:])  # update technology dictionary Excel file with additional rows for mobility models\n",
    "                assumptions_diff.loc[assumptions_diff.index.max() + 1] = [model] + list(assumptions_diff[assumptions_diff.ES_name == tech].iloc[0,1:])  # update lifetime Excel files with additional rows for mobility models\n",
    "                if tech in list(efficiency.ES_name.unique()):\n",
    "                    efficiency.loc[efficiency.index.max() + 1] = [model] + list(efficiency[efficiency.ES_name == tech].iloc[0,1:])  # update efficiency Excel files with additional rows for mobility models\n",
    "\n",
    "                if tech in comp_dict.keys():\n",
    "\n",
    "                    N_sub_comp = len(comp_dict[tech])\n",
    "                    subscript_comp_list = []\n",
    "\n",
    "                    for i, sub_comp in enumerate(comp_dict[tech]):\n",
    "                        subscript_comp = sub_comp.replace(tech, '')\n",
    "                        subscript_comp_list.append(subscript_comp)\n",
    "                        df_mobility_models.loc[df_mobility_models.index.max() + 1] = [model + subscript_comp] + list(tech_ecoinvent[tech_ecoinvent.ES_name == sub_comp].iloc[0,1:])  # construction component idx\n",
    "                        tech_unit_conversion.loc[tech_unit_conversion.index.max() + 1] = [model + subscript_comp] + list(tech_unit_conversion[tech_unit_conversion.ES_name == sub_comp].iloc[0,1:])  # update unit conversion Excel files\n",
    "                        assumptions_diff.loc[assumptions_diff.index.max() + 1] = [model + subscript_comp] + list(assumptions_diff[assumptions_diff.ES_name == sub_comp].iloc[0,1:])  # update unit conversion Excel files\n",
    "                        if sub_comp in list(efficiency.ES_name.unique()):\n",
    "                            efficiency.loc[efficiency.index.max() + 1] = [model + subscript_comp] + list(efficiency[efficiency.ES_name == sub_comp].iloc[0,1:])  # update efficiency Excel files\n",
    "\n",
    "                    comp.loc[comp.index.max() + 1] = [model] + [model + a for a in subscript_comp_list] + [np.nan] * (N_sub_comp_max - N_sub_comp) + [[model + a for a in subscript_comp_list]]  # update the compositions Excel files\n",
    "                    comp_dict[model] = [model + a for a in subscript_comp_list]\n",
    "\n",
    "                else:\n",
    "                    df_mobility_models.loc[idx + 1] = [model] + list(\n",
    "                        tech_ecoinvent[(tech_ecoinvent.ES_name == tech) & (tech_ecoinvent.type == 'Construction')].iloc[0, 1:])  # construction\n",
    "                j += 1\n",
    "                if j < df.shape[1]:\n",
    "                    model = str(df[df.Main_tech == tech][f'Model_{j}'].iloc[0])\n",
    "\n",
    "    return df_mobility_models"
   ],
   "outputs": [],
   "execution_count": 41
  },
  {
   "metadata": {
    "ExecuteTime": {
     "end_time": "2025-04-14T17:48:38.082269Z",
     "start_time": "2025-04-14T17:48:38.072451Z"
    }
   },
   "cell_type": "code",
   "source": [
    "if ES_region == 'CH':\n",
    "    mob_model_private = mob_model_private_CH\n",
    "elif ES_region == 'CA-QC':\n",
    "    mob_model_private = mob_model_private_QC\n",
    "    mob_model_public = mob_model_public_QC\n",
    "    mob_model_freight = mob_model_freight_QC\n",
    "else:\n",
    "    raise ValueError('ES_region should be either CH or CA-QC')"
   ],
   "outputs": [],
   "execution_count": 42
  },
  {
   "metadata": {
    "ExecuteTime": {
     "end_time": "2025-04-14T17:48:38.095147Z",
     "start_time": "2025-04-14T17:48:38.082269Z"
    }
   },
   "cell_type": "code",
   "source": [
    "if ES_region == 'CA-QC':\n",
    "    basic_tech_to_remove = list(mob_model_private.Main_tech) + list(mob_model_public.Main_tech) + list(mob_model_freight.Main_tech)\n",
    "else:\n",
    "    basic_tech_to_remove = list(mob_model_private.Main_tech)\n",
    "\n",
    "for tech in basic_tech_to_remove:\n",
    "    if tech in comp_dict.keys():  # add the subcomponents to the list of technologies to remove\n",
    "        for sub_comp in comp_dict[tech]:\n",
    "            basic_tech_to_remove.append(sub_comp)"
   ],
   "outputs": [],
   "execution_count": 43
  },
  {
   "metadata": {
    "ExecuteTime": {
     "end_time": "2025-04-14T17:48:43.316407Z",
     "start_time": "2025-04-14T17:48:38.097490Z"
    }
   },
   "cell_type": "code",
   "source": [
    "# Create df of mapping with mobility models\n",
    "df_mobility_models_private = gen_df_mob_models(mob_model_private)\n",
    "# mob_models_to_remove = list(df_mobility_models_private.ES_name.unique())\n",
    "if ES_region == 'CA-QC':\n",
    "    df_mobility_models_public = gen_df_mob_models(mob_model_public)\n",
    "    df_mobility_models_freight = gen_df_mob_models(mob_model_freight)\n",
    "    # mob_models_to_remove.extend(list(df_mobility_models_public.ES_name.unique()) + list(df_mobility_models_freight.ES_name.unique()))\n",
    "\n",
    "# Remove the mobility basic technologies\n",
    "tech_ecoinvent.drop(tech_ecoinvent[tech_ecoinvent.ES_name.isin(basic_tech_to_remove)].index, inplace=True)\n",
    "tech_unit_conversion.drop(tech_unit_conversion[tech_unit_conversion.ES_name.isin(basic_tech_to_remove)].index, inplace=True)\n",
    "comp.drop(comp[comp.ES_name.isin(basic_tech_to_remove)].index, inplace=True)\n",
    "assumptions_diff.drop(assumptions_diff[assumptions_diff.ES_name.isin(basic_tech_to_remove)].index, inplace=True)\n",
    "efficiency.drop(efficiency[efficiency.ES_name.isin(basic_tech_to_remove)].index, inplace=True)"
   ],
   "outputs": [],
   "execution_count": 44
  },
  {
   "metadata": {
    "ExecuteTime": {
     "end_time": "2025-04-14T17:48:43.337478Z",
     "start_time": "2025-04-14T17:48:43.320634Z"
    }
   },
   "cell_type": "code",
   "source": [
    "mob_model_comp = []  # list of components for mobility technologies composition (to remove)\n",
    "\n",
    "if ES_region == 'CH':\n",
    "    mob_tech_list = list(mob_model_private.Main_tech)\n",
    "else:\n",
    "    mob_tech_list = list(mob_model_private.Main_tech) + list(mob_model_public.Main_tech) + list(\n",
    "        mob_model_freight.Main_tech)\n",
    "\n",
    "for mob_tech in mob_tech_list:\n",
    "    if mob_tech in comp_dict.keys():\n",
    "        for sub_comp in comp_dict[mob_tech]:\n",
    "            mob_model_comp.append(sub_comp)\n",
    "    else:\n",
    "        pass\n",
    "\n",
    "tech_ecoinvent.drop(tech_ecoinvent[tech_ecoinvent.ES_name.isin(mob_model_comp)].index, inplace=True)"
   ],
   "outputs": [],
   "execution_count": 45
  },
  {
   "metadata": {
    "ExecuteTime": {
     "end_time": "2025-04-14T17:48:43.350618Z",
     "start_time": "2025-04-14T17:48:43.337478Z"
    }
   },
   "cell_type": "code",
   "source": [
    "# Concatenate the overall df's\n",
    "if ES_region == 'CH':\n",
    "    tech_ecoinvent = pd.concat([tech_ecoinvent,\n",
    "                                df_mobility_models_private])\n",
    "else:\n",
    "    tech_ecoinvent = pd.concat([tech_ecoinvent,\n",
    "                                df_mobility_models_private,\n",
    "                                df_mobility_models_public,\n",
    "                                df_mobility_models_freight])\n",
    "tech_ecoinvent = tech_ecoinvent.sort_values('ES_name').reset_index(drop=True)"
   ],
   "outputs": [],
   "execution_count": 46
  },
  {
   "metadata": {},
   "cell_type": "markdown",
   "source": "# Mapping file with both technologies and resources"
  },
  {
   "metadata": {
    "ExecuteTime": {
     "end_time": "2025-04-14T17:48:43.369238Z",
     "start_time": "2025-04-14T17:48:43.352146Z"
    }
   },
   "cell_type": "code",
   "source": [
    "res = pd.read_csv(f\"energyscope_data/CA-QC/hidden/res_ecoinvent_{ES_region[-2:]}.csv\")\n",
    "flows = pd.read_csv('energyscope_data/CA-QC/hidden/flows_ecoinvent.csv') "
   ],
   "outputs": [],
   "execution_count": 47
  },
  {
   "metadata": {
    "ExecuteTime": {
     "end_time": "2025-04-14T17:49:57.840463Z",
     "start_time": "2025-04-14T17:48:43.370120Z"
    }
   },
   "cell_type": "code",
   "source": "db_flows = Database(db_names=list(flows.Database.unique()))",
   "outputs": [
    {
     "name": "stdout",
     "output_type": "stream",
     "text": [
      "Getting activity data\n"
     ]
    },
    {
     "name": "stderr",
     "output_type": "stream",
     "text": [
      "100%|██████████| 19565/19565 [00:00<00:00, 39354.55it/s]\n"
     ]
    },
    {
     "name": "stdout",
     "output_type": "stream",
     "text": [
      "Adding exchange data to activities\n"
     ]
    },
    {
     "name": "stderr",
     "output_type": "stream",
     "text": [
      "100%|██████████| 629959/629959 [00:56<00:00, 11087.29it/s]\n"
     ]
    },
    {
     "name": "stdout",
     "output_type": "stream",
     "text": [
      "Filling out exchange data\n"
     ]
    },
    {
     "name": "stderr",
     "output_type": "stream",
     "text": [
      "100%|██████████| 19565/19565 [00:04<00:00, 4004.41it/s]\n",
      "2025-04-14 13:49:56,209 - Database - INFO - Loaded ecoinvent3.8 cut-off from brightway!\n"
     ]
    },
    {
     "name": "stdout",
     "output_type": "stream",
     "text": [
      "Getting activity data\n"
     ]
    },
    {
     "name": "stderr",
     "output_type": "stream",
     "text": [
      "100%|██████████| 154/154 [00:00<00:00, 13479.47it/s]\n"
     ]
    },
    {
     "name": "stdout",
     "output_type": "stream",
     "text": [
      "Adding exchange data to activities\n"
     ]
    },
    {
     "name": "stderr",
     "output_type": "stream",
     "text": [
      "100%|██████████| 2553/2553 [00:00<00:00, 24423.31it/s]\n"
     ]
    },
    {
     "name": "stdout",
     "output_type": "stream",
     "text": [
      "Filling out exchange data\n"
     ]
    },
    {
     "name": "stderr",
     "output_type": "stream",
     "text": [
      "100%|██████████| 154/154 [00:00<00:00, 405.53it/s]\n",
      "2025-04-14 13:49:57,085 - Database - INFO - Loaded biofuels from brightway!\n"
     ]
    },
    {
     "name": "stdout",
     "output_type": "stream",
     "text": [
      "Getting activity data\n"
     ]
    },
    {
     "name": "stderr",
     "output_type": "stream",
     "text": [
      "100%|██████████| 82/82 [00:00<00:00, 44917.45it/s]\n"
     ]
    },
    {
     "name": "stdout",
     "output_type": "stream",
     "text": [
      "Adding exchange data to activities\n"
     ]
    },
    {
     "name": "stderr",
     "output_type": "stream",
     "text": [
      "100%|██████████| 1792/1792 [00:00<00:00, 22383.61it/s]\n"
     ]
    },
    {
     "name": "stdout",
     "output_type": "stream",
     "text": [
      "Filling out exchange data\n"
     ]
    },
    {
     "name": "stderr",
     "output_type": "stream",
     "text": [
      "100%|██████████| 82/82 [00:00<00:00, 235.54it/s]\n",
      "2025-04-14 13:49:57,829 - Database - INFO - Loaded Carma CCS from brightway!\n"
     ]
    }
   ],
   "execution_count": 48
  },
  {
   "metadata": {
    "ExecuteTime": {
     "end_time": "2025-04-14T17:49:57.853905Z",
     "start_time": "2025-04-14T17:49:57.840463Z"
    }
   },
   "cell_type": "code",
   "source": "flows['Type'] = len(flows) * ['Flow']",
   "outputs": [],
   "execution_count": 49
  },
  {
   "metadata": {
    "ExecuteTime": {
     "end_time": "2025-04-14T17:49:57.869815Z",
     "start_time": "2025-04-14T17:49:57.856064Z"
    }
   },
   "cell_type": "code",
   "source": [
    "# Define the user-defined ranking (only ecoinvent regions, no IAMs)\n",
    "if ES_region == 'CA-QC':\n",
    "    my_ranking = [\n",
    "        'CA-QC',  # Quebec\n",
    "        'CA',  # Canada\n",
    "        'CA-ON',  # Other canadian provinces \n",
    "        'CA-AB',\n",
    "        'CA-BC',\n",
    "        'CA-MB',\n",
    "        'CA-NB',\n",
    "        'CA-NF',\n",
    "        'CA-NS',\n",
    "        'CA-NT',\n",
    "        'CA-NU',\n",
    "        'CA-PE',\n",
    "        'RNA',  # North America\n",
    "        'US',  # United States\n",
    "        'GLO',  # Global average \n",
    "        'RoW',  # Rest of the world\n",
    "    ]\n",
    "elif ES_region == 'CH':\n",
    "    my_ranking = [\n",
    "        'CH', \n",
    "        'RER', \n",
    "        'IAI Area, EU27 & EFTA',\n",
    "        'GLO',\n",
    "        'RoW'\n",
    "    ]\n",
    "else:\n",
    "    raise ValueError('ES_region should be either CH or CA-QC')"
   ],
   "outputs": [],
   "execution_count": 50
  },
  {
   "metadata": {
    "ExecuteTime": {
     "end_time": "2025-04-14T17:49:57.896662Z",
     "start_time": "2025-04-14T17:49:57.873037Z"
    }
   },
   "cell_type": "code",
   "source": [
    "esm = ESM(\n",
    "    mapping=flows,\n",
    "    locations_ranking=my_ranking,\n",
    "    esm_location=ES_region,\n",
    "    main_database=db_flows,\n",
    "    model=model,\n",
    "    unit_conversion=pd.DataFrame(),\n",
    "    mapping_esm_flows_to_CPC_cat=pd.DataFrame(),\n",
    "    esm_db_name='',\n",
    ")"
   ],
   "outputs": [],
   "execution_count": 51
  },
  {
   "metadata": {
    "ExecuteTime": {
     "end_time": "2025-04-14T17:49:58.684067Z",
     "start_time": "2025-04-14T17:49:57.908258Z"
    }
   },
   "cell_type": "code",
   "source": [
    "# flows = change_location_mapping_file(\n",
    "#     flows,\n",
    "#     my_ranking,\n",
    "#     db_flows,\n",
    "#     ES_region,\n",
    "# )\n",
    "esm.change_location_mapping_file()"
   ],
   "outputs": [],
   "execution_count": 52
  },
  {
   "metadata": {
    "ExecuteTime": {
     "end_time": "2025-04-14T17:49:58.707365Z",
     "start_time": "2025-04-14T17:49:58.684067Z"
    }
   },
   "cell_type": "code",
   "source": [
    "res.drop(columns=['Description'], inplace=True)\n",
    "res.dropna(subset=['product_name'], inplace=True)\n",
    "res['type'] = len(res) * ['Resource']\n",
    "mapping = pd.concat([tech_ecoinvent, res], ignore_index=True).rename(\n",
    "    columns={'ES_name': 'Name', 'type': 'Type', 'product_name': 'Product', 'activity_name': 'Activity', 'region': 'Location', 'unit': 'Unit', 'database': 'Database'})\n",
    "mapping = pd.concat([mapping, esm.mapping])"
   ],
   "outputs": [],
   "execution_count": 53
  },
  {
   "metadata": {},
   "cell_type": "markdown",
   "source": "## New premise names for mobility"
  },
  {
   "metadata": {
    "ExecuteTime": {
     "end_time": "2025-04-14T17:49:58.718870Z",
     "start_time": "2025-04-14T17:49:58.707365Z"
    }
   },
   "cell_type": "code",
   "source": [
    "def change_mobility_name(row):\n",
    "    # Remove year\n",
    "    if row.Name.startswith('LCV_') | row.Name.startswith('SEMI_SH_') | row.Name.startswith('TRUCK_SH_'):\n",
    "        pass # do not change carculator names\n",
    "    else:\n",
    "        row.Activity = row.Activity.replace(', 2020', '')\n",
    "\n",
    "    # Cars and SUVs inventories\n",
    "    row.Product = row.Product.replace('-TEMP', '')\n",
    "    row.Activity = row.Activity.replace('-TEMP', '')\n",
    "    row.Product = row.Product.replace('EURO-6d', 'EURO-6ab')\n",
    "    row.Activity = row.Activity.replace('EURO-6d', 'EURO-6ab')\n",
    "    \n",
    "    # Battery electric vehicles\n",
    "    if ('urban delivery' in row.Activity) | ('regional delivery' in row.Activity):\n",
    "        pass  # should not be applied to carculator datasets \n",
    "    else:\n",
    "        row.Activity = row.Activity.replace('NMC-622 battery, ', '')\n",
    "    \n",
    "    return row"
   ],
   "outputs": [],
   "execution_count": 54
  },
  {
   "metadata": {
    "ExecuteTime": {
     "end_time": "2025-04-14T17:49:59.087512Z",
     "start_time": "2025-04-14T17:49:58.723585Z"
    }
   },
   "cell_type": "code",
   "source": "mapping = mapping.apply(change_mobility_name, axis=1)",
   "outputs": [],
   "execution_count": 55
  },
  {
   "metadata": {},
   "cell_type": "markdown",
   "source": "## Adapting trucks to carculator names"
  },
  {
   "metadata": {
    "ExecuteTime": {
     "end_time": "2025-04-14T17:49:59.109224Z",
     "start_time": "2025-04-14T17:49:59.087512Z"
    }
   },
   "cell_type": "code",
   "source": [
    "def change_truck_name(row):\n",
    "    if row.Name.startswith('LCV_') | row.Name.startswith('SEMI_SH_') | row.Name.startswith('TRUCK_SH_'):\n",
    "        if row.Type == 'Operation':\n",
    "            row.Product = row.Product.replace('freight, lorry', 'truck')\n",
    "            row.Activity = row.Activity.replace('freight, lorry', 'truck')\n",
    "        \n",
    "        elif row.Type == 'Construction':\n",
    "            row.Product = row.Product.replace('Light duty ', '')\n",
    "            row.Activity = row.Activity.replace('Light duty ', '')\n",
    "            \n",
    "            row.Product = row.Product.replace('Medium duty ', '')\n",
    "            row.Activity = row.Activity.replace('Medium duty ', '')\n",
    "        \n",
    "        row.Product = row.Product.replace(' gross weight', '')\n",
    "        row.Activity = row.Activity.replace(' gross weight', '')\n",
    "        \n",
    "        row.Product = row.Product.replace('EURO-VI', 'Euro-6')\n",
    "        row.Activity = row.Activity.replace('EURO-VI', 'Euro-6')\n",
    "        \n",
    "        row.Location = row.Location.replace('RER', 'CH')\n",
    "        \n",
    "        if 'urban delivery' in row.Activity:\n",
    "            row.Database = row.Database.replace('lci-long_haul_trucks', 'urban delivery_truck')\n",
    "        elif 'regional delivery' in row.Activity:\n",
    "            row.Database = row.Database.replace('lci-long_haul_trucks', 'regional delivery_truck')\n",
    "        else:\n",
    "            raise ValueError('Truck type not recognized')\n",
    "        \n",
    "    return row"
   ],
   "outputs": [],
   "execution_count": 56
  },
  {
   "metadata": {
    "ExecuteTime": {
     "end_time": "2025-04-14T17:49:59.236093Z",
     "start_time": "2025-04-14T17:49:59.115081Z"
    }
   },
   "cell_type": "code",
   "source": "mapping = mapping.apply(change_truck_name, axis=1)",
   "outputs": [],
   "execution_count": 57
  },
  {
   "metadata": {},
   "cell_type": "markdown",
   "source": "## Filtering the mapping file"
  },
  {
   "metadata": {
    "ExecuteTime": {
     "end_time": "2025-04-14T17:49:59.259724Z",
     "start_time": "2025-04-14T17:49:59.236093Z"
    }
   },
   "cell_type": "code",
   "source": [
    "to_remove = [\n",
    "    # Removing NG and H2 transport LCI datasets (operation) to be fair with electricity transport technologies that have no operation LCI datasets either \n",
    "    ('HP_NG_GRID', 'Operation'), \n",
    "    ('EHP_NG_GRID', 'Operation'),\n",
    "    ('LP_NG_GRID', 'Operation'),\n",
    "    ('MP_NG_GRID', 'Operation'),\n",
    "    ('HP_H2_GRID', 'Operation'),\n",
    "    ('EHP_H2_GRID', 'Operation'),\n",
    "    ('LP_H2_GRID', 'Operation'),\n",
    "    ('MP_H2_GRID', 'Operation'),\n",
    "    \n",
    "    # Removed because not used in practice\n",
    "    ('H2_COMP_100', 'Construction'),\n",
    "    ('H2_COMP_100_350', 'Construction'),\n",
    "    ('H2_COMP_200', 'Construction'),\n",
    "    ('H2_COMP_200_350', 'Construction'),\n",
    "    ('H2_COMP_100', 'Operation'),\n",
    "    ('H2_COMP_100_350', 'Operation'),\n",
    "    ('H2_COMP_200', 'Operation'),\n",
    "    ('H2_COMP_200_350', 'Operation'),\n",
    "    ('AFC_OG', 'Construction'),\n",
    "    ('PAFC_OG', 'Construction'),\n",
    "    ('PEMFC_OG', 'Construction'),\n",
    "    ('SOFC_OG', 'Construction'),\n",
    "    ('AEC_OG', 'Construction'),\n",
    "    ('PEMEC_OG', 'Construction'),\n",
    "    ('SOEC_OG', 'Construction'),\n",
    "    ('AEC_OG', 'Construction'),\n",
    "    ('AFC_OG', 'Operation'),\n",
    "    ('PAFC_OG', 'Operation'),\n",
    "    ('PEMFC_OG', 'Operation'),\n",
    "    ('SOFC_OG', 'Operation'),\n",
    "    ('AEC_OG', 'Operation'),\n",
    "    ('PEMEC_OG', 'Operation'),\n",
    "    ('SOEC_OG', 'Operation'),\n",
    "    ('AEC_OG', 'Operation'),\n",
    "    ('NG_GEN', 'Construction'),\n",
    "    ('NG_GEN', 'Operation'),\n",
    "    ('DIESEL_GEN', 'Construction'),\n",
    "    ('DIESEL_GEN', 'Operation'),\n",
    "    ('H2_Haber_Bosch', 'Construction'),\n",
    "    ('H2_Haber_Bosch', 'Operation'),\n",
    "    ('DEC_DEEP_GEO', 'Construction'),\n",
    "    ('DEC_DEEP_GEO', 'Operation'),\n",
    "    ('BIOMASS_ETHANOL', 'Construction'),\n",
    "    ('BIOMASS_ETHANOL', 'Operation'),\n",
    "    \n",
    "    # Virtual technology\n",
    "    ('HYDRO_STORAGE', 'Construction'),\n",
    "    ('HYDRO_STORAGE', 'Operation'),\n",
    "    \n",
    "    # Missing data in the model\n",
    "    ('BUS_FC_CH4_SD', 'Construction'),\n",
    "    ('BUS_FC_CH4_SD', 'Operation'),\n",
    "    ('CAR_FC_CH4_ELD', 'Construction'),\n",
    "    ('CAR_FC_CH4_ELD', 'Operation'),\n",
    "    ('CAR_FC_CH4_LD', 'Operation'),\n",
    "    ('CAR_FC_CH4_LD', 'Construction'),\n",
    "    ('CAR_FC_CH4_MD', 'Construction'),\n",
    "    ('CAR_FC_CH4_MD', 'Operation'),\n",
    "    ('CAR_FC_CH4_SD', 'Operation'),\n",
    "    ('CAR_FC_CH4_SD', 'Construction'),\n",
    "    ('COACH_FC_CH4_ELD', 'Operation'),\n",
    "    ('COACH_FC_CH4_ELD', 'Construction'),\n",
    "    ('COACH_FC_CH4_LD', 'Operation'),\n",
    "    ('COACH_FC_CH4_LD', 'Construction'),\n",
    "    ('COACH_FC_CH4_MD', 'Operation'),\n",
    "    ('COACH_FC_CH4_MD', 'Construction'),\n",
    "    ('LCV_FC_CH4_MD', 'Operation'),\n",
    "    ('LCV_FC_CH4_MD', 'Construction'),\n",
    "    ('LCV_FC_CH4_SD', 'Operation'),\n",
    "    ('LCV_FC_CH4_SD', 'Construction'),\n",
    "    ('SCHOOLBUS_FC_CH4_SD', 'Operation'),\n",
    "    ('SCHOOLBUS_FC_CH4_SD', 'Construction'),\n",
    "    ('SEMI_LH_FC_CH4_ELD', 'Construction'),\n",
    "    ('SEMI_LH_FC_CH4_ELD', 'Operation'),\n",
    "    ('SEMI_LH_FC_CH4_LD', 'Operation'),\n",
    "    ('SEMI_LH_FC_CH4_LD', 'Construction'),\n",
    "    ('SEMI_SH_FC_CH4_MD', 'Construction'),\n",
    "    ('SEMI_SH_FC_CH4_MD', 'Operation'),\n",
    "    ('SUV_FC_CH4_ELD', 'Construction'),\n",
    "    ('SUV_FC_CH4_ELD', 'Operation'),\n",
    "    ('SUV_FC_CH4_LD', 'Operation'),\n",
    "    ('SUV_FC_CH4_LD', 'Construction'),\n",
    "    ('SUV_FC_CH4_MD', 'Operation'),\n",
    "    ('SUV_FC_CH4_MD', 'Construction'),\n",
    "    ('SUV_FC_CH4_SD', 'Operation'),\n",
    "    ('SUV_FC_CH4_SD', 'Construction'),\n",
    "    ('TRUCK_LH_FC_CH4_LD', 'Construction'),\n",
    "    ('TRUCK_LH_FC_CH4_LD', 'Operation'),\n",
    "    ('TRUCK_SH_FC_CH4_MD', 'Construction'),\n",
    "    ('TRUCK_SH_FC_CH4_MD', 'Operation'),\n",
    "    ('TRUCK_SH_FC_CH4_SD', 'Construction'),\n",
    "    ('TRUCK_SH_FC_CH4_SD', 'Operation'),\n",
    "    ('LCV_ETOH_E10_MD', 'Construction'),\n",
    "    ('LCV_ETOH_E10_MD', 'Operation'),\n",
    "    ('LCV_ETOH_E10_SD', 'Construction'),\n",
    "    ('LCV_ETOH_E10_SD', 'Operation'),\n",
    "    ('LCV_ETOH_E85_MD', 'Construction'),\n",
    "    ('LCV_ETOH_E85_MD', 'Operation'),\n",
    "    ('LCV_ETOH_E85_SD', 'Construction'),\n",
    "    ('LCV_ETOH_E85_SD', 'Operation'),\n",
    "]\n",
    "\n",
    "if ES_region == 'CH':\n",
    "    to_remove += [\n",
    "        ('PROPANE', 'Resource'),\n",
    "        ('BIO_DIESEL', 'Resource'),\n",
    "        ('BIO_DIESEL', 'Flow'),\n",
    "    ]\n",
    "elif ES_region == 'CA-QC':\n",
    "    to_remove += [\n",
    "        ('PV_EHV', 'Construction'),\n",
    "        ('PV_EHV', 'Operation'),\n",
    "    ]"
   ],
   "outputs": [],
   "execution_count": 58
  },
  {
   "metadata": {
    "ExecuteTime": {
     "end_time": "2025-04-14T17:49:59.310232Z",
     "start_time": "2025-04-14T17:49:59.291686Z"
    }
   },
   "cell_type": "code",
   "source": [
    "for i in range(len(to_remove)):\n",
    "    if to_remove[i][1] == 'Construction':\n",
    "        if to_remove[i][0] in list(comp.ES_name):\n",
    "            comp_list = comp[comp.ES_name == to_remove[i][0]].Components.iloc[0]\n",
    "            comp.drop(comp[comp.ES_name == to_remove[i][0]].index, inplace=True) # remove from composition file\n",
    "            for sub_comp in comp_list:\n",
    "                to_remove.append((sub_comp, 'Construction'))"
   ],
   "outputs": [],
   "execution_count": 60
  },
  {
   "metadata": {
    "ExecuteTime": {
     "end_time": "2025-04-14T17:49:59.332543Z",
     "start_time": "2025-04-14T17:49:59.310232Z"
    }
   },
   "cell_type": "code",
   "source": [
    "mapping.set_index(['Name', 'Type'], inplace=True)\n",
    "mapping = mapping[~mapping.index.isin(to_remove)]\n",
    "mapping.reset_index(inplace=True)"
   ],
   "outputs": [],
   "execution_count": 61
  },
  {
   "metadata": {
    "ExecuteTime": {
     "end_time": "2025-04-14T17:49:59.353813Z",
     "start_time": "2025-04-14T17:49:59.335785Z"
    }
   },
   "cell_type": "code",
   "source": "mapping.to_csv(f\"energyscope_data/{ES_region}/mapping_3.8.csv\", index=False)",
   "outputs": [],
   "execution_count": 62
  },
  {
   "metadata": {},
   "cell_type": "markdown",
   "source": "# Composition file"
  },
  {
   "metadata": {
    "ExecuteTime": {
     "end_time": "2025-04-14T17:49:59.370397Z",
     "start_time": "2025-04-14T17:49:59.356031Z"
    }
   },
   "cell_type": "code",
   "source": [
    "comp.rename(columns={'ES_name': 'Name'}, inplace=True)\n",
    "comp[['Name', 'Components']].to_csv(f\"energyscope_data/{ES_region}/technology_compositions.csv\", index=False)"
   ],
   "outputs": [],
   "execution_count": 63
  },
  {
   "metadata": {},
   "cell_type": "markdown",
   "source": "# Unit conversion and assumptions files"
  },
  {
   "metadata": {
    "ExecuteTime": {
     "end_time": "2025-04-14T17:49:59.754102Z",
     "start_time": "2025-04-14T17:49:59.371414Z"
    }
   },
   "cell_type": "code",
   "source": [
    "wb_res = load_workbook(filename='energyscope_data/CA-QC/hidden/res_unit_conversion.xlsx')\n",
    "res_unit_conversion = pd.DataFrame(wb_res[wb_res.sheetnames[0]].values)\n",
    "wb_other = load_workbook(filename='energyscope_data/CA-QC/hidden/other_unit_conversion.xlsx')\n",
    "other_unit_conversion = pd.DataFrame(wb_other[wb_other.sheetnames[0]].values)"
   ],
   "outputs": [],
   "execution_count": 64
  },
  {
   "metadata": {
    "ExecuteTime": {
     "end_time": "2025-04-14T17:49:59.763648Z",
     "start_time": "2025-04-14T17:49:59.754102Z"
    }
   },
   "cell_type": "code",
   "source": [
    "# setting first row as header\n",
    "new_header_res = res_unit_conversion.iloc[0]\n",
    "res_unit_conversion = res_unit_conversion[1:]\n",
    "res_unit_conversion.columns = new_header_res\n",
    "new_header_other = other_unit_conversion.iloc[0]\n",
    "other_unit_conversion = other_unit_conversion[1:]\n",
    "other_unit_conversion.columns = new_header_other"
   ],
   "outputs": [],
   "execution_count": 65
  },
  {
   "metadata": {
    "ExecuteTime": {
     "end_time": "2025-04-14T17:49:59.776134Z",
     "start_time": "2025-04-14T17:49:59.764901Z"
    }
   },
   "cell_type": "code",
   "source": [
    "res_unit_conversion = res_unit_conversion[['ES_name', 'conversion', 'ei_unit', 'ES_unit', 'Assumptions & Sources']]\n",
    "other_unit_conversion = other_unit_conversion[['Name', 'Value', 'Type', 'ESM', 'LCA', 'Assumptions & Sources']]"
   ],
   "outputs": [],
   "execution_count": 66
  },
  {
   "metadata": {
    "ExecuteTime": {
     "end_time": "2025-04-14T17:49:59.790518Z",
     "start_time": "2025-04-14T17:49:59.777142Z"
    }
   },
   "cell_type": "code",
   "source": [
    "# drop rows with no value\n",
    "res_unit_conversion.dropna(subset=['conversion'], inplace=True)\n",
    "other_unit_conversion.dropna(subset=['Value'], inplace=True)"
   ],
   "outputs": [],
   "execution_count": 67
  },
  {
   "metadata": {
    "ExecuteTime": {
     "end_time": "2025-04-14T17:49:59.803522Z",
     "start_time": "2025-04-14T17:49:59.790518Z"
    }
   },
   "cell_type": "code",
   "source": [
    "# res_unit_conversion = pd.read_excel(\"energyscope_data/CA-QC/hidden/res_unit_conversion.xlsx\")\n",
    "# other_unit_conversion = pd.read_excel(\"energyscope_data/CA-QC/hidden/other_unit_conversion.xlsx\")\n",
    "lifetime = assumptions_diff.copy(deep=True)"
   ],
   "outputs": [],
   "execution_count": 68
  },
  {
   "metadata": {
    "ExecuteTime": {
     "end_time": "2025-04-14T17:49:59.831298Z",
     "start_time": "2025-04-14T17:49:59.806181Z"
    }
   },
   "cell_type": "code",
   "source": [
    "tech_unit_conversion_melted = tech_unit_conversion[['ES_name', 'capacity', 'conversion', 'ei_constr_unit', 'ES_constr_unit', 'ei_use_unit', 'ES_use_unit', 'Assumptions & Sources']].rename(columns={'ES_name': 'Name', 'capacity': 'Construction', 'conversion': 'Operation'}\n",
    ").melt(\n",
    "    id_vars='Name',\n",
    "    value_vars=['Construction', 'Operation'],\n",
    "    var_name='Type',\n",
    "    value_name='Value'\n",
    ").sort_values('Name').dropna(subset='Value')"
   ],
   "outputs": [],
   "execution_count": 69
  },
  {
   "metadata": {
    "ExecuteTime": {
     "end_time": "2025-04-14T17:49:59.862453Z",
     "start_time": "2025-04-14T17:49:59.833333Z"
    }
   },
   "cell_type": "code",
   "source": [
    "tech_unit_conversion_melted_constr = tech_unit_conversion_melted[tech_unit_conversion_melted.Type == 'Construction']\n",
    "tech_unit_conversion_melted_op = tech_unit_conversion_melted[tech_unit_conversion_melted.Type == 'Operation']\n",
    "tech_unit_conversion_melted_constr = tech_unit_conversion_melted_constr.merge(tech_unit_conversion[['ES_name', 'ei_constr_unit', 'ES_constr_unit', 'Assumptions & Sources']], left_on='Name', right_on='ES_name').rename(columns={'ei_constr_unit': 'LCA', 'ES_constr_unit': 'ESM'}).drop(columns='ES_name')\n",
    "tech_unit_conversion_melted_op = tech_unit_conversion_melted_op.merge(tech_unit_conversion[['ES_name', 'ei_use_unit', 'ES_use_unit', 'Assumptions & Sources']], left_on='Name', right_on='ES_name').rename(columns={'ei_use_unit': 'LCA', 'ES_use_unit': 'ESM'}).drop(columns='ES_name')\n",
    "tech_unit_conversion_melted = pd.concat([tech_unit_conversion_melted_constr, tech_unit_conversion_melted_op], ignore_index=True).sort_values('Name')"
   ],
   "outputs": [],
   "execution_count": 70
  },
  {
   "metadata": {
    "ExecuteTime": {
     "end_time": "2025-04-14T17:49:59.881710Z",
     "start_time": "2025-04-14T17:49:59.862453Z"
    }
   },
   "cell_type": "code",
   "source": [
    "res_unit_conversion_melted = res_unit_conversion[['ES_name', 'conversion', 'ei_unit', 'ES_unit', 'Assumptions & Sources']].rename(columns={'ES_name': 'Name', 'conversion': 'Resource'}\n",
    ").melt(\n",
    "    id_vars='Name', \n",
    "    value_vars=['Resource'],\n",
    "    var_name='Type', \n",
    "    value_name='Value'\n",
    ").sort_values('Name').dropna(subset='Value')"
   ],
   "outputs": [],
   "execution_count": 71
  },
  {
   "metadata": {
    "ExecuteTime": {
     "end_time": "2025-04-14T17:49:59.897079Z",
     "start_time": "2025-04-14T17:49:59.881710Z"
    }
   },
   "cell_type": "code",
   "source": "res_unit_conversion_melted = res_unit_conversion_melted.merge(res_unit_conversion[['ES_name', 'ei_unit', 'ES_unit', 'Assumptions & Sources']], left_on='Name', right_on='ES_name').rename(columns={'ei_unit': 'LCA', 'ES_unit': 'ESM'}).drop(columns='ES_name')",
   "outputs": [],
   "execution_count": 72
  },
  {
   "metadata": {
    "ExecuteTime": {
     "end_time": "2025-04-14T17:49:59.916609Z",
     "start_time": "2025-04-14T17:49:59.902512Z"
    }
   },
   "cell_type": "code",
   "source": [
    "unit_conversion = pd.concat([tech_unit_conversion_melted, \n",
    "                             res_unit_conversion_melted, \n",
    "                             other_unit_conversion[['Name', 'Value', 'Type', 'ESM', 'LCA', 'Assumptions & Sources']],\n",
    "                             ], ignore_index=True).sort_values('Name')"
   ],
   "outputs": [],
   "execution_count": 73
  },
  {
   "metadata": {
    "ExecuteTime": {
     "end_time": "2025-04-14T17:49:59.932071Z",
     "start_time": "2025-04-14T17:49:59.916609Z"
    }
   },
   "cell_type": "code",
   "source": [
    "def change_unit_convention(row):\n",
    "    \n",
    "    if row.ESM in ['GWh', 'kt', 'Mpkm', 'Mtkm', 'GW', 'kt/h', 'Mtkm/h', 'Mpkm/h']:\n",
    "        if type(row.Value) is float:\n",
    "            row.Value /= 1e6\n",
    "        elif type(row.Value) is str:\n",
    "            if row.Value.startswith('= 1000000') or row.Value.startswith('=1000000'):\n",
    "                row.Value = row.Value.replace('1000000', '1', 1)  # first occurrence only\n",
    "            elif row.Value.startswith('= 1000') or row.Value.startswith('=1000'):\n",
    "                row.Value = row.Value.replace('1000', '1', 1)\n",
    "                row.Value += ' / 1000'\n",
    "            else:\n",
    "                row.Value += ' / 1000000'\n",
    "        else:\n",
    "            raise ValueError('Value should be either float or string')\n",
    "    \n",
    "    if row.ESM == 'GWh':\n",
    "        row.ESM = 'kWh'\n",
    "    elif row.ESM == 'kt':\n",
    "        row.ESM = 'kg'\n",
    "    elif row.ESM == 'Mpkm':\n",
    "        row.ESM = 'pkm'\n",
    "    elif row.ESM == 'Mtkm':\n",
    "        row.ESM = 'tkm'\n",
    "    elif row.ESM == 'GW':\n",
    "        row.ESM = 'kW'\n",
    "    elif row.ESM == 'kt/h':\n",
    "        row.ESM = 'kg/h'\n",
    "    elif row.ESM == 'Mtkm/h':\n",
    "        row.ESM = 'tkm/h'\n",
    "    elif row.ESM == 'Mpkm/h':\n",
    "        row.ESM = 'pkm/h'\n",
    "    elif row.ESM in ['unit', 'm3', 'kg', 'MJ', 'kWh']:\n",
    "        pass\n",
    "    else:\n",
    "        raise ValueError(f'Unit {row.ESM} not recognized')\n",
    "    \n",
    "    return row"
   ],
   "outputs": [],
   "execution_count": 74
  },
  {
   "metadata": {
    "ExecuteTime": {
     "end_time": "2025-04-14T17:50:00.202945Z",
     "start_time": "2025-04-14T17:49:59.934162Z"
    }
   },
   "cell_type": "code",
   "source": "unit_conversion = unit_conversion.apply(change_unit_convention, axis=1)",
   "outputs": [],
   "execution_count": 75
  },
  {
   "metadata": {
    "ExecuteTime": {
     "end_time": "2025-04-14T17:50:00.221452Z",
     "start_time": "2025-04-14T17:50:00.204775Z"
    }
   },
   "cell_type": "code",
   "source": [
    "unit_conversion['ESM'] = unit_conversion['ESM'].apply(ecoinvent_unit_convention)\n",
    "unit_conversion['LCA'] = unit_conversion['LCA'].apply(ecoinvent_unit_convention)"
   ],
   "outputs": [],
   "execution_count": 76
  },
  {
   "metadata": {},
   "cell_type": "markdown",
   "source": "## Filtering"
  },
  {
   "metadata": {
    "ExecuteTime": {
     "end_time": "2025-04-14T17:50:00.249993Z",
     "start_time": "2025-04-14T17:50:00.223195Z"
    }
   },
   "cell_type": "code",
   "source": [
    "unit_conversion.set_index(['Name', 'Type'], inplace=True)\n",
    "unit_conversion = unit_conversion[~unit_conversion.index.isin(to_remove)]\n",
    "# main_tech_mob_to_remove = [(basic_tech, 'Operation') for basic_tech in basic_tech_to_remove]\n",
    "# model_tech_mob_to_remove = [(mob_model, 'Construction') for mob_model in mob_models_to_remove]\n",
    "# unit_conversion = unit_conversion[~unit_conversion.index.isin(main_tech_mob_to_remove)]\n",
    "# unit_conversion = unit_conversion[~unit_conversion.index.isin(model_tech_mob_to_remove)]\n",
    "unit_conversion.reset_index(inplace=True)"
   ],
   "outputs": [],
   "execution_count": 77
  },
  {
   "metadata": {
    "ExecuteTime": {
     "end_time": "2025-04-14T17:50:00.264853Z",
     "start_time": "2025-04-14T17:50:00.253017Z"
    }
   },
   "cell_type": "code",
   "source": [
    "lifetime.set_index(['ES_name'], inplace=True)\n",
    "lifetime = lifetime[~lifetime.index.isin([to_remove[i][0] if to_remove[i][1] == 'Construction' else None for i in range(len(to_remove))])]\n",
    "lifetime.reset_index(inplace=True)\n",
    "lifetime.sort_values('ES_name', inplace=True)"
   ],
   "outputs": [],
   "execution_count": 78
  },
  {
   "metadata": {
    "ExecuteTime": {
     "end_time": "2025-04-14T17:50:00.284689Z",
     "start_time": "2025-04-14T17:50:00.266863Z"
    }
   },
   "cell_type": "code",
   "source": [
    "efficiency.set_index(['ES_name'], inplace=True)\n",
    "efficiency = efficiency[~efficiency.index.isin([to_remove[i][0] if to_remove[i][1] == 'Operation' else None for i in range(len(to_remove))])]\n",
    "efficiency.reset_index(inplace=True)\n",
    "efficiency.sort_values('ES_name', inplace=True)"
   ],
   "outputs": [],
   "execution_count": 79
  },
  {
   "metadata": {
    "ExecuteTime": {
     "end_time": "2025-04-14T17:50:01.803019Z",
     "start_time": "2025-04-14T17:50:00.286939Z"
    }
   },
   "cell_type": "code",
   "source": "unit_conversion.to_excel(f\"energyscope_data/{ES_region}/unit_conversion_3.8.xlsx\", index=False)",
   "outputs": [],
   "execution_count": 80
  },
  {
   "metadata": {
    "ExecuteTime": {
     "end_time": "2025-04-14T17:50:01.836713Z",
     "start_time": "2025-04-14T17:50:01.803019Z"
    }
   },
   "cell_type": "code",
   "source": "lifetime[['ES_name', 'lifetime_ES', 'lifetime_ei']].rename(columns={'ES_name': 'Name', 'lifetime_ES': 'ESM', 'lifetime_ei': 'LCA'}).to_csv(f\"energyscope_data/{ES_region}/lifetime.csv\", index=False)",
   "outputs": [],
   "execution_count": 81
  },
  {
   "metadata": {
    "ExecuteTime": {
     "end_time": "2025-04-14T17:50:01.873439Z",
     "start_time": "2025-04-14T17:50:01.850812Z"
    }
   },
   "cell_type": "code",
   "source": "efficiency.rename(columns={'ES_name': 'Name'}).to_csv(f\"energyscope_data/{ES_region}/efficiency.csv\", index=False)",
   "outputs": [],
   "execution_count": 82
  },
  {
   "metadata": {},
   "cell_type": "markdown",
   "source": "# Relink mapping file"
  },
  {
   "metadata": {
    "ExecuteTime": {
     "end_time": "2025-04-14T17:50:01.886959Z",
     "start_time": "2025-04-14T17:50:01.875422Z"
    }
   },
   "cell_type": "code",
   "source": "premise_changes = pd.read_csv(\"data/premise_change_report.csv\")",
   "outputs": [],
   "execution_count": 83
  },
  {
   "metadata": {
    "ExecuteTime": {
     "end_time": "2025-04-14T17:50:01.895600Z",
     "start_time": "2025-04-14T17:50:01.889619Z"
    }
   },
   "cell_type": "code",
   "source": [
    "name_premise_db = 'ecoinvent_cutoff_3.8_remind_SSP2-Base_2020'\n",
    "name_premise_comp_db = name_premise_db + f'_comp_{ES_region}'"
   ],
   "outputs": [],
   "execution_count": 84
  },
  {
   "metadata": {
    "ExecuteTime": {
     "end_time": "2025-04-14T17:51:17.714409Z",
     "start_time": "2025-04-14T17:50:01.897864Z"
    }
   },
   "cell_type": "code",
   "source": "premise_db = Database(name_premise_db, create_pickle=True)",
   "outputs": [
    {
     "name": "stdout",
     "output_type": "stream",
     "text": [
      "Getting activity data\n"
     ]
    },
    {
     "name": "stderr",
     "output_type": "stream",
     "text": [
      "100%|██████████| 27534/27534 [00:01<00:00, 19942.82it/s]\n"
     ]
    },
    {
     "name": "stdout",
     "output_type": "stream",
     "text": [
      "Adding exchange data to activities\n"
     ]
    },
    {
     "name": "stderr",
     "output_type": "stream",
     "text": [
      "100%|██████████| 773134/773134 [00:53<00:00, 14400.34it/s]\n"
     ]
    },
    {
     "name": "stdout",
     "output_type": "stream",
     "text": [
      "Filling out exchange data\n"
     ]
    },
    {
     "name": "stderr",
     "output_type": "stream",
     "text": [
      "100%|██████████| 27534/27534 [00:04<00:00, 5989.46it/s] \n",
      "2025-04-14 13:51:08,404 - Database - INFO - Loaded ecoinvent_cutoff_3.8_remind_SSP2-Base_2020 from brightway!\n"
     ]
    },
    {
     "name": "stdout",
     "output_type": "stream",
     "text": [
      "ecoinvent_cutoff_3.8_remind_SSP2-Base_2020.pickle created!\n"
     ]
    }
   ],
   "execution_count": 85
  },
  {
   "metadata": {
    "ExecuteTime": {
     "end_time": "2025-04-14T17:54:41.219005Z",
     "start_time": "2025-04-14T17:51:17.730904Z"
    }
   },
   "cell_type": "code",
   "source": [
    "mapping_linked_to_premise = premise_db.create_complementary_database(\n",
    "    df_mapping=mapping, \n",
    "    main_db_name=name_premise_db, \n",
    "    complement_db_name=name_premise_comp_db, \n",
    "    premise_changes=premise_changes\n",
    ")"
   ],
   "outputs": [
    {
     "name": "stdout",
     "output_type": "stream",
     "text": [
      "Getting activity data\n"
     ]
    },
    {
     "name": "stderr",
     "output_type": "stream",
     "text": [
      "100%|██████████| 4/4 [00:00<00:00, 1911.72it/s]\n"
     ]
    },
    {
     "name": "stdout",
     "output_type": "stream",
     "text": [
      "Adding exchange data to activities\n"
     ]
    },
    {
     "name": "stderr",
     "output_type": "stream",
     "text": [
      "100%|██████████| 44/44 [00:00<00:00, 5459.56it/s]\n"
     ]
    },
    {
     "name": "stdout",
     "output_type": "stream",
     "text": [
      "Filling out exchange data\n"
     ]
    },
    {
     "name": "stderr",
     "output_type": "stream",
     "text": [
      "100%|██████████| 4/4 [00:00<00:00, 35.44it/s]\n",
      "2025-04-14 13:51:17,986 - Database - INFO - Loaded fuel_cell from brightway!\n",
      "2025-04-14 13:51:27,248 - Database - INFO - Loaded ecoinvent_cutoff_3.8_remind_SSP2-Base_2020 from pickle!\n"
     ]
    },
    {
     "name": "stdout",
     "output_type": "stream",
     "text": [
      "Getting activity data\n"
     ]
    },
    {
     "name": "stderr",
     "output_type": "stream",
     "text": [
      "100%|██████████| 17/17 [00:00<?, ?it/s]\n"
     ]
    },
    {
     "name": "stdout",
     "output_type": "stream",
     "text": [
      "Adding exchange data to activities\n"
     ]
    },
    {
     "name": "stderr",
     "output_type": "stream",
     "text": [
      "100%|██████████| 343/343 [00:00<00:00, 15667.77it/s]\n"
     ]
    },
    {
     "name": "stdout",
     "output_type": "stream",
     "text": [
      "Filling out exchange data\n"
     ]
    },
    {
     "name": "stderr",
     "output_type": "stream",
     "text": [
      "100%|██████████| 17/17 [00:00<00:00, 82.59it/s]\n",
      "2025-04-14 13:51:28,023 - Database - INFO - Loaded h2_electrolysis from brightway!\n"
     ]
    },
    {
     "name": "stdout",
     "output_type": "stream",
     "text": [
      "Getting activity data\n"
     ]
    },
    {
     "name": "stderr",
     "output_type": "stream",
     "text": [
      "100%|██████████| 19565/19565 [00:00<00:00, 64943.60it/s]\n"
     ]
    },
    {
     "name": "stdout",
     "output_type": "stream",
     "text": [
      "Adding exchange data to activities\n"
     ]
    },
    {
     "name": "stderr",
     "output_type": "stream",
     "text": [
      "100%|██████████| 629959/629959 [01:34<00:00, 6632.23it/s] \n"
     ]
    },
    {
     "name": "stdout",
     "output_type": "stream",
     "text": [
      "Filling out exchange data\n"
     ]
    },
    {
     "name": "stderr",
     "output_type": "stream",
     "text": [
      "100%|██████████| 19565/19565 [00:05<00:00, 3745.07it/s]\n",
      "2025-04-14 13:53:21,458 - Database - INFO - Loaded ecoinvent3.8 cut-off from brightway!\n"
     ]
    },
    {
     "name": "stdout",
     "output_type": "stream",
     "text": [
      "Getting activity data\n"
     ]
    },
    {
     "name": "stderr",
     "output_type": "stream",
     "text": [
      "100%|██████████| 4/4 [00:00<?, ?it/s]\n"
     ]
    },
    {
     "name": "stdout",
     "output_type": "stream",
     "text": [
      "Adding exchange data to activities\n"
     ]
    },
    {
     "name": "stderr",
     "output_type": "stream",
     "text": [
      "100%|██████████| 126/126 [00:00<00:00, 1936.22it/s]\n"
     ]
    },
    {
     "name": "stdout",
     "output_type": "stream",
     "text": [
      "Filling out exchange data\n"
     ]
    },
    {
     "name": "stderr",
     "output_type": "stream",
     "text": [
      "100%|██████████| 4/4 [00:00<00:00, 42.83it/s]\n",
      "2025-04-14 13:53:25,894 - Database - INFO - Loaded hydrogen-smr-natgas from brightway!\n"
     ]
    },
    {
     "name": "stdout",
     "output_type": "stream",
     "text": [
      "Getting activity data\n"
     ]
    },
    {
     "name": "stderr",
     "output_type": "stream",
     "text": [
      "100%|██████████| 5/5 [00:00<?, ?it/s]\n"
     ]
    },
    {
     "name": "stdout",
     "output_type": "stream",
     "text": [
      "Adding exchange data to activities\n"
     ]
    },
    {
     "name": "stderr",
     "output_type": "stream",
     "text": [
      "100%|██████████| 159/159 [00:00<00:00, 6665.74it/s]\n"
     ]
    },
    {
     "name": "stdout",
     "output_type": "stream",
     "text": [
      "Filling out exchange data\n"
     ]
    },
    {
     "name": "stderr",
     "output_type": "stream",
     "text": [
      "100%|██████████| 5/5 [00:00<00:00, 58.80it/s]\n",
      "2025-04-14 13:53:27,368 - Database - INFO - Loaded Hydrogen from biogas SMR and ATR from brightway!\n"
     ]
    },
    {
     "name": "stdout",
     "output_type": "stream",
     "text": [
      "Getting activity data\n"
     ]
    },
    {
     "name": "stderr",
     "output_type": "stream",
     "text": [
      "100%|██████████| 4/4 [00:00<?, ?it/s]\n"
     ]
    },
    {
     "name": "stdout",
     "output_type": "stream",
     "text": [
      "Adding exchange data to activities\n"
     ]
    },
    {
     "name": "stderr",
     "output_type": "stream",
     "text": [
      "100%|██████████| 63/63 [00:00<?, ?it/s]\n"
     ]
    },
    {
     "name": "stdout",
     "output_type": "stream",
     "text": [
      "Filling out exchange data\n"
     ]
    },
    {
     "name": "stderr",
     "output_type": "stream",
     "text": [
      "100%|██████████| 4/4 [00:00<00:00, 47.72it/s]\n",
      "2025-04-14 13:53:28,649 - Database - INFO - Loaded biogas from brightway!\n"
     ]
    },
    {
     "name": "stdout",
     "output_type": "stream",
     "text": [
      "Getting activity data\n"
     ]
    },
    {
     "name": "stderr",
     "output_type": "stream",
     "text": [
      "100%|██████████| 4/4 [00:00<?, ?it/s]\n"
     ]
    },
    {
     "name": "stdout",
     "output_type": "stream",
     "text": [
      "Adding exchange data to activities\n"
     ]
    },
    {
     "name": "stderr",
     "output_type": "stream",
     "text": [
      "100%|██████████| 36/36 [00:00<00:00, 6934.96it/s]\n"
     ]
    },
    {
     "name": "stdout",
     "output_type": "stream",
     "text": [
      "Filling out exchange data\n"
     ]
    },
    {
     "name": "stderr",
     "output_type": "stream",
     "text": [
      "100%|██████████| 4/4 [00:00<00:00, 294.21it/s]\n",
      "2025-04-14 13:53:28,731 - Database - INFO - Loaded Hydrogen from woody biomass gasification from brightway!\n"
     ]
    },
    {
     "name": "stdout",
     "output_type": "stream",
     "text": [
      "Getting activity data\n"
     ]
    },
    {
     "name": "stderr",
     "output_type": "stream",
     "text": [
      "100%|██████████| 623/623 [00:00<00:00, 46345.49it/s]\n"
     ]
    },
    {
     "name": "stdout",
     "output_type": "stream",
     "text": [
      "Adding exchange data to activities\n"
     ]
    },
    {
     "name": "stderr",
     "output_type": "stream",
     "text": [
      "100%|██████████| 16680/16680 [00:00<00:00, 17305.33it/s]\n"
     ]
    },
    {
     "name": "stdout",
     "output_type": "stream",
     "text": [
      "Filling out exchange data\n"
     ]
    },
    {
     "name": "stderr",
     "output_type": "stream",
     "text": [
      "100%|██████████| 623/623 [00:00<00:00, 1389.60it/s]\n",
      "2025-04-14 13:53:31,686 - Database - INFO - Loaded lci-buses from brightway!\n"
     ]
    },
    {
     "name": "stdout",
     "output_type": "stream",
     "text": [
      "Getting activity data\n"
     ]
    },
    {
     "name": "stderr",
     "output_type": "stream",
     "text": [
      "100%|██████████| 10/10 [00:00<?, ?it/s]\n"
     ]
    },
    {
     "name": "stdout",
     "output_type": "stream",
     "text": [
      "Adding exchange data to activities\n"
     ]
    },
    {
     "name": "stderr",
     "output_type": "stream",
     "text": [
      "100%|██████████| 109/109 [00:00<00:00, 12334.86it/s]\n"
     ]
    },
    {
     "name": "stdout",
     "output_type": "stream",
     "text": [
      "Filling out exchange data\n"
     ]
    },
    {
     "name": "stderr",
     "output_type": "stream",
     "text": [
      "100%|██████████| 10/10 [00:00<00:00, 222.27it/s]\n",
      "2025-04-14 13:53:32,633 - Database - INFO - Loaded carbon fiber from brightway!\n"
     ]
    },
    {
     "name": "stdout",
     "output_type": "stream",
     "text": [
      "Getting activity data\n"
     ]
    },
    {
     "name": "stderr",
     "output_type": "stream",
     "text": [
      "100%|██████████| 47/47 [00:00<?, ?it/s]\n"
     ]
    },
    {
     "name": "stdout",
     "output_type": "stream",
     "text": [
      "Adding exchange data to activities\n"
     ]
    },
    {
     "name": "stderr",
     "output_type": "stream",
     "text": [
      "100%|██████████| 490/490 [00:00<00:00, 16929.65it/s]\n"
     ]
    },
    {
     "name": "stdout",
     "output_type": "stream",
     "text": [
      "Filling out exchange data\n"
     ]
    },
    {
     "name": "stderr",
     "output_type": "stream",
     "text": [
      "100%|██████████| 47/47 [00:00<00:00, 233.88it/s]\n",
      "2025-04-14 13:53:32,932 - Database - INFO - Loaded batteries from brightway!\n"
     ]
    },
    {
     "name": "stdout",
     "output_type": "stream",
     "text": [
      "Getting activity data\n"
     ]
    },
    {
     "name": "stderr",
     "output_type": "stream",
     "text": [
      "100%|██████████| 1315/1315 [00:00<00:00, 82589.77it/s]\n"
     ]
    },
    {
     "name": "stdout",
     "output_type": "stream",
     "text": [
      "Adding exchange data to activities\n"
     ]
    },
    {
     "name": "stderr",
     "output_type": "stream",
     "text": [
      "100%|██████████| 69946/69946 [00:14<00:00, 4728.00it/s] \n"
     ]
    },
    {
     "name": "stdout",
     "output_type": "stream",
     "text": [
      "Filling out exchange data\n"
     ]
    },
    {
     "name": "stderr",
     "output_type": "stream",
     "text": [
      "100%|██████████| 1315/1315 [00:00<00:00, 2404.70it/s]\n",
      "2025-04-14 13:53:48,758 - Database - INFO - Loaded lci-pass_cars from brightway!\n"
     ]
    },
    {
     "name": "stdout",
     "output_type": "stream",
     "text": [
      "Getting activity data\n"
     ]
    },
    {
     "name": "stderr",
     "output_type": "stream",
     "text": [
      "100%|██████████| 40/40 [00:00<00:00, 39879.29it/s]\n"
     ]
    },
    {
     "name": "stdout",
     "output_type": "stream",
     "text": [
      "Adding exchange data to activities\n"
     ]
    },
    {
     "name": "stderr",
     "output_type": "stream",
     "text": [
      "100%|██████████| 263/263 [00:00<00:00, 8619.87it/s]\n"
     ]
    },
    {
     "name": "stdout",
     "output_type": "stream",
     "text": [
      "Filling out exchange data\n"
     ]
    },
    {
     "name": "stderr",
     "output_type": "stream",
     "text": [
      "100%|██████████| 40/40 [00:00<00:00, 1084.58it/s]\n",
      "2025-04-14 13:53:50,023 - Database - INFO - Loaded lithium from brightway!\n"
     ]
    },
    {
     "name": "stdout",
     "output_type": "stream",
     "text": [
      "Getting activity data\n"
     ]
    },
    {
     "name": "stderr",
     "output_type": "stream",
     "text": [
      "100%|██████████| 10/10 [00:00<00:00, 9981.68it/s]\n"
     ]
    },
    {
     "name": "stdout",
     "output_type": "stream",
     "text": [
      "Adding exchange data to activities\n"
     ]
    },
    {
     "name": "stderr",
     "output_type": "stream",
     "text": [
      "100%|██████████| 131/131 [00:00<00:00, 7138.17it/s]\n"
     ]
    },
    {
     "name": "stdout",
     "output_type": "stream",
     "text": [
      "Filling out exchange data\n"
     ]
    },
    {
     "name": "stderr",
     "output_type": "stream",
     "text": [
      "100%|██████████| 10/10 [00:00<00:00, 105.58it/s]\n",
      "2025-04-14 13:53:50,200 - Database - INFO - Loaded cobalt from brightway!\n"
     ]
    },
    {
     "name": "stdout",
     "output_type": "stream",
     "text": [
      "Getting activity data\n"
     ]
    },
    {
     "name": "stderr",
     "output_type": "stream",
     "text": [
      "100%|██████████| 11/11 [00:00<?, ?it/s]\n"
     ]
    },
    {
     "name": "stdout",
     "output_type": "stream",
     "text": [
      "Adding exchange data to activities\n"
     ]
    },
    {
     "name": "stderr",
     "output_type": "stream",
     "text": [
      "100%|██████████| 84/84 [00:00<00:00, 8680.86it/s]\n"
     ]
    },
    {
     "name": "stdout",
     "output_type": "stream",
     "text": [
      "Filling out exchange data\n"
     ]
    },
    {
     "name": "stderr",
     "output_type": "stream",
     "text": [
      "100%|██████████| 11/11 [00:00<00:00, 215.84it/s]\n",
      "2025-04-14 13:53:50,333 - Database - INFO - Loaded graphite from brightway!\n"
     ]
    },
    {
     "name": "stdout",
     "output_type": "stream",
     "text": [
      "Getting activity data\n"
     ]
    },
    {
     "name": "stderr",
     "output_type": "stream",
     "text": [
      "100%|██████████| 82/82 [00:00<00:00, 13661.69it/s]\n"
     ]
    },
    {
     "name": "stdout",
     "output_type": "stream",
     "text": [
      "Adding exchange data to activities\n"
     ]
    },
    {
     "name": "stderr",
     "output_type": "stream",
     "text": [
      "100%|██████████| 1792/1792 [00:00<00:00, 15926.33it/s]\n"
     ]
    },
    {
     "name": "stdout",
     "output_type": "stream",
     "text": [
      "Filling out exchange data\n"
     ]
    },
    {
     "name": "stderr",
     "output_type": "stream",
     "text": [
      "100%|██████████| 82/82 [00:00<00:00, 194.22it/s]\n",
      "2025-04-14 13:53:50,964 - Database - INFO - Loaded Carma CCS from brightway!\n"
     ]
    },
    {
     "name": "stdout",
     "output_type": "stream",
     "text": [
      "Getting activity data\n"
     ]
    },
    {
     "name": "stderr",
     "output_type": "stream",
     "text": [
      "100%|██████████| 18/18 [00:00<00:00, 6810.16it/s]\n"
     ]
    },
    {
     "name": "stdout",
     "output_type": "stream",
     "text": [
      "Adding exchange data to activities\n"
     ]
    },
    {
     "name": "stderr",
     "output_type": "stream",
     "text": [
      "100%|██████████| 135/135 [00:00<00:00, 5222.96it/s]\n"
     ]
    },
    {
     "name": "stdout",
     "output_type": "stream",
     "text": [
      "Filling out exchange data\n"
     ]
    },
    {
     "name": "stderr",
     "output_type": "stream",
     "text": [
      "100%|██████████| 18/18 [00:00<00:00, 422.40it/s]\n",
      "2025-04-14 13:53:52,321 - Database - INFO - Loaded synfuel from electrolysis from brightway!\n"
     ]
    },
    {
     "name": "stdout",
     "output_type": "stream",
     "text": [
      "Getting activity data\n"
     ]
    },
    {
     "name": "stderr",
     "output_type": "stream",
     "text": [
      "100%|██████████| 20/20 [00:00<00:00, 1917.26it/s]\n"
     ]
    },
    {
     "name": "stdout",
     "output_type": "stream",
     "text": [
      "Adding exchange data to activities\n"
     ]
    },
    {
     "name": "stderr",
     "output_type": "stream",
     "text": [
      "100%|██████████| 170/170 [00:00<00:00, 3493.87it/s]\n"
     ]
    },
    {
     "name": "stdout",
     "output_type": "stream",
     "text": [
      "Filling out exchange data\n"
     ]
    },
    {
     "name": "stderr",
     "output_type": "stream",
     "text": [
      "100%|██████████| 20/20 [00:00<00:00, 413.77it/s]\n",
      "2025-04-14 13:53:53,755 - Database - INFO - Loaded cement CCS-CCU from brightway!\n"
     ]
    },
    {
     "name": "stdout",
     "output_type": "stream",
     "text": [
      "Getting activity data\n"
     ]
    },
    {
     "name": "stderr",
     "output_type": "stream",
     "text": [
      "100%|██████████| 19/19 [00:00<?, ?it/s]\n"
     ]
    },
    {
     "name": "stdout",
     "output_type": "stream",
     "text": [
      "Adding exchange data to activities\n"
     ]
    },
    {
     "name": "stderr",
     "output_type": "stream",
     "text": [
      "100%|██████████| 167/167 [00:00<00:00, 9761.54it/s]\n"
     ]
    },
    {
     "name": "stdout",
     "output_type": "stream",
     "text": [
      "Filling out exchange data\n"
     ]
    },
    {
     "name": "stderr",
     "output_type": "stream",
     "text": [
      "100%|██████████| 19/19 [00:00<00:00, 632.72it/s]\n",
      "2025-04-14 13:53:54,934 - Database - INFO - Loaded Methanol-based fuels from electrolysis from brightway!\n"
     ]
    },
    {
     "name": "stdout",
     "output_type": "stream",
     "text": [
      "Getting activity data\n"
     ]
    },
    {
     "name": "stderr",
     "output_type": "stream",
     "text": [
      "100%|██████████| 4/4 [00:00<00:00, 6127.54it/s]\n"
     ]
    },
    {
     "name": "stdout",
     "output_type": "stream",
     "text": [
      "Adding exchange data to activities\n"
     ]
    },
    {
     "name": "stderr",
     "output_type": "stream",
     "text": [
      "100%|██████████| 55/55 [00:00<00:00, 15568.01it/s]\n"
     ]
    },
    {
     "name": "stdout",
     "output_type": "stream",
     "text": [
      "Filling out exchange data\n"
     ]
    },
    {
     "name": "stderr",
     "output_type": "stream",
     "text": [
      "100%|██████████| 4/4 [00:00<00:00, 90.87it/s]\n",
      "2025-04-14 13:53:55,038 - Database - INFO - Loaded Hydrogen from coal Gasification from brightway!\n"
     ]
    },
    {
     "name": "stdout",
     "output_type": "stream",
     "text": [
      "Getting activity data\n"
     ]
    },
    {
     "name": "stderr",
     "output_type": "stream",
     "text": [
      "100%|██████████| 154/154 [00:00<00:00, 127778.99it/s]\n"
     ]
    },
    {
     "name": "stdout",
     "output_type": "stream",
     "text": [
      "Adding exchange data to activities\n"
     ]
    },
    {
     "name": "stderr",
     "output_type": "stream",
     "text": [
      "100%|██████████| 2553/2553 [00:00<00:00, 17417.06it/s]\n"
     ]
    },
    {
     "name": "stdout",
     "output_type": "stream",
     "text": [
      "Filling out exchange data\n"
     ]
    },
    {
     "name": "stderr",
     "output_type": "stream",
     "text": [
      "100%|██████████| 154/154 [00:00<00:00, 397.13it/s]\n",
      "2025-04-14 13:53:56,520 - Database - INFO - Loaded biofuels from brightway!\n"
     ]
    },
    {
     "name": "stdout",
     "output_type": "stream",
     "text": [
      "Getting activity data\n"
     ]
    },
    {
     "name": "stderr",
     "output_type": "stream",
     "text": [
      "100%|██████████| 14/14 [00:00<?, ?it/s]\n"
     ]
    },
    {
     "name": "stdout",
     "output_type": "stream",
     "text": [
      "Adding exchange data to activities\n"
     ]
    },
    {
     "name": "stderr",
     "output_type": "stream",
     "text": [
      "100%|██████████| 118/118 [00:00<00:00, 9658.83it/s]\n"
     ]
    },
    {
     "name": "stdout",
     "output_type": "stream",
     "text": [
      "Filling out exchange data\n"
     ]
    },
    {
     "name": "stderr",
     "output_type": "stream",
     "text": [
      "100%|██████████| 14/14 [00:00<00:00, 525.89it/s]\n",
      "2025-04-14 13:53:57,464 - Database - INFO - Loaded synfuel from wood gasification from brightway!\n"
     ]
    },
    {
     "name": "stdout",
     "output_type": "stream",
     "text": [
      "Getting activity data\n"
     ]
    },
    {
     "name": "stderr",
     "output_type": "stream",
     "text": [
      "100%|██████████| 12/12 [00:00<?, ?it/s]\n"
     ]
    },
    {
     "name": "stdout",
     "output_type": "stream",
     "text": [
      "Adding exchange data to activities\n"
     ]
    },
    {
     "name": "stderr",
     "output_type": "stream",
     "text": [
      "100%|██████████| 165/165 [00:00<00:00, 16396.03it/s]\n"
     ]
    },
    {
     "name": "stdout",
     "output_type": "stream",
     "text": [
      "Filling out exchange data\n"
     ]
    },
    {
     "name": "stderr",
     "output_type": "stream",
     "text": [
      "100%|██████████| 12/12 [00:00<00:00, 138.16it/s]\n",
      "2025-04-14 13:53:58,503 - Database - INFO - Loaded direct air capture from brightway!\n"
     ]
    },
    {
     "name": "stdout",
     "output_type": "stream",
     "text": [
      "Getting activity data\n"
     ]
    },
    {
     "name": "stderr",
     "output_type": "stream",
     "text": [
      "100%|██████████| 48/48 [00:00<?, ?it/s]\n"
     ]
    },
    {
     "name": "stdout",
     "output_type": "stream",
     "text": [
      "Adding exchange data to activities\n"
     ]
    },
    {
     "name": "stderr",
     "output_type": "stream",
     "text": [
      "100%|██████████| 432/432 [00:00<00:00, 17175.43it/s]\n"
     ]
    },
    {
     "name": "stdout",
     "output_type": "stream",
     "text": [
      "Filling out exchange data\n"
     ]
    },
    {
     "name": "stderr",
     "output_type": "stream",
     "text": [
      "100%|██████████| 48/48 [00:00<00:00, 879.20it/s]\n",
      "2025-04-14 13:53:59,484 - Database - INFO - Loaded geothermal from brightway!\n"
     ]
    },
    {
     "name": "stdout",
     "output_type": "stream",
     "text": [
      "Getting activity data\n"
     ]
    },
    {
     "name": "stderr",
     "output_type": "stream",
     "text": [
      "100%|██████████| 22/22 [00:00<?, ?it/s]\n"
     ]
    },
    {
     "name": "stdout",
     "output_type": "stream",
     "text": [
      "Adding exchange data to activities\n"
     ]
    },
    {
     "name": "stderr",
     "output_type": "stream",
     "text": [
      "100%|██████████| 205/205 [00:00<00:00, 186272.17it/s]\n"
     ]
    },
    {
     "name": "stdout",
     "output_type": "stream",
     "text": [
      "Filling out exchange data\n"
     ]
    },
    {
     "name": "stderr",
     "output_type": "stream",
     "text": [
      "100%|██████████| 22/22 [00:00<00:00, 174.25it/s]\n",
      "2025-04-14 13:54:00,527 - Database - INFO - Loaded hydrogen-distribution from brightway!\n"
     ]
    },
    {
     "name": "stdout",
     "output_type": "stream",
     "text": [
      "Getting activity data\n"
     ]
    },
    {
     "name": "stderr",
     "output_type": "stream",
     "text": [
      "100%|██████████| 18/18 [00:00<?, ?it/s]\n"
     ]
    },
    {
     "name": "stdout",
     "output_type": "stream",
     "text": [
      "Adding exchange data to activities\n"
     ]
    },
    {
     "name": "stderr",
     "output_type": "stream",
     "text": [
      "100%|██████████| 143/143 [00:00<00:00, 11845.51it/s]\n"
     ]
    },
    {
     "name": "stdout",
     "output_type": "stream",
     "text": [
      "Filling out exchange data\n"
     ]
    },
    {
     "name": "stderr",
     "output_type": "stream",
     "text": [
      "100%|██████████| 18/18 [00:00<00:00, 917.53it/s]\n",
      "2025-04-14 13:54:01,468 - Database - INFO - Loaded Methanol-based fuels from coal from brightway!\n"
     ]
    },
    {
     "name": "stdout",
     "output_type": "stream",
     "text": [
      "Getting activity data\n"
     ]
    },
    {
     "name": "stderr",
     "output_type": "stream",
     "text": [
      "100%|██████████| 939/939 [00:00<00:00, 60384.40it/s]\n"
     ]
    },
    {
     "name": "stdout",
     "output_type": "stream",
     "text": [
      "Adding exchange data to activities\n"
     ]
    },
    {
     "name": "stderr",
     "output_type": "stream",
     "text": [
      "100%|██████████| 30812/30812 [00:01<00:00, 19748.76it/s]\n"
     ]
    },
    {
     "name": "stdout",
     "output_type": "stream",
     "text": [
      "Filling out exchange data\n"
     ]
    },
    {
     "name": "stderr",
     "output_type": "stream",
     "text": [
      "100%|██████████| 939/939 [00:01<00:00, 894.14it/s]\n",
      "2025-04-14 13:54:05,092 - Database - INFO - Loaded urban delivery_truck from brightway!\n"
     ]
    },
    {
     "name": "stdout",
     "output_type": "stream",
     "text": [
      "Getting activity data\n"
     ]
    },
    {
     "name": "stderr",
     "output_type": "stream",
     "text": [
      "100%|██████████| 11/11 [00:00<?, ?it/s]\n"
     ]
    },
    {
     "name": "stdout",
     "output_type": "stream",
     "text": [
      "Adding exchange data to activities\n"
     ]
    },
    {
     "name": "stderr",
     "output_type": "stream",
     "text": [
      "100%|██████████| 119/119 [00:00<00:00, 11827.26it/s]\n"
     ]
    },
    {
     "name": "stdout",
     "output_type": "stream",
     "text": [
      "Filling out exchange data\n"
     ]
    },
    {
     "name": "stderr",
     "output_type": "stream",
     "text": [
      "100%|██████████| 11/11 [00:00<00:00, 198.60it/s]\n",
      "2025-04-14 13:54:05,986 - Database - INFO - Loaded syngas from brightway!\n"
     ]
    },
    {
     "name": "stdout",
     "output_type": "stream",
     "text": [
      "Getting activity data\n"
     ]
    },
    {
     "name": "stderr",
     "output_type": "stream",
     "text": [
      "100%|██████████| 1/1 [00:00<?, ?it/s]\n"
     ]
    },
    {
     "name": "stdout",
     "output_type": "stream",
     "text": [
      "Adding exchange data to activities\n"
     ]
    },
    {
     "name": "stderr",
     "output_type": "stream",
     "text": [
      "100%|██████████| 14/14 [00:00<00:00, 3355.63it/s]\n"
     ]
    },
    {
     "name": "stdout",
     "output_type": "stream",
     "text": [
      "Filling out exchange data\n"
     ]
    },
    {
     "name": "stderr",
     "output_type": "stream",
     "text": [
      "100%|██████████| 1/1 [00:00<00:00, 99.34it/s]\n",
      "2025-04-14 13:54:06,837 - Database - INFO - Loaded h2_pyrolysis from brightway!\n"
     ]
    },
    {
     "name": "stdout",
     "output_type": "stream",
     "text": [
      "Getting activity data\n"
     ]
    },
    {
     "name": "stderr",
     "output_type": "stream",
     "text": [
      "100%|██████████| 2128/2128 [00:00<00:00, 67589.61it/s]\n"
     ]
    },
    {
     "name": "stdout",
     "output_type": "stream",
     "text": [
      "Adding exchange data to activities\n"
     ]
    },
    {
     "name": "stderr",
     "output_type": "stream",
     "text": [
      "100%|██████████| 70390/70390 [00:07<00:00, 9267.23it/s] \n"
     ]
    },
    {
     "name": "stdout",
     "output_type": "stream",
     "text": [
      "Filling out exchange data\n"
     ]
    },
    {
     "name": "stderr",
     "output_type": "stream",
     "text": [
      "100%|██████████| 2128/2128 [00:00<00:00, 4388.16it/s]\n",
      "2025-04-14 13:54:16,578 - Database - INFO - Loaded lci-long_haul_trucks from brightway!\n"
     ]
    },
    {
     "name": "stdout",
     "output_type": "stream",
     "text": [
      "Getting activity data\n"
     ]
    },
    {
     "name": "stderr",
     "output_type": "stream",
     "text": [
      "100%|██████████| 935/935 [00:00<00:00, 102761.16it/s]\n"
     ]
    },
    {
     "name": "stdout",
     "output_type": "stream",
     "text": [
      "Adding exchange data to activities\n"
     ]
    },
    {
     "name": "stderr",
     "output_type": "stream",
     "text": [
      "100%|██████████| 30702/30702 [00:01<00:00, 21712.11it/s]\n"
     ]
    },
    {
     "name": "stdout",
     "output_type": "stream",
     "text": [
      "Filling out exchange data\n"
     ]
    },
    {
     "name": "stderr",
     "output_type": "stream",
     "text": [
      "100%|██████████| 935/935 [00:01<00:00, 905.34it/s] \n",
      "2025-04-14 13:54:20,125 - Database - INFO - Loaded regional delivery_truck from brightway!\n"
     ]
    },
    {
     "name": "stdout",
     "output_type": "stream",
     "text": [
      "Getting activity data\n"
     ]
    },
    {
     "name": "stderr",
     "output_type": "stream",
     "text": [
      "100%|██████████| 16/16 [00:00<?, ?it/s]\n"
     ]
    },
    {
     "name": "stdout",
     "output_type": "stream",
     "text": [
      "Adding exchange data to activities\n"
     ]
    },
    {
     "name": "stderr",
     "output_type": "stream",
     "text": [
      "100%|██████████| 122/122 [00:00<00:00, 8176.03it/s]\n"
     ]
    },
    {
     "name": "stdout",
     "output_type": "stream",
     "text": [
      "Filling out exchange data\n"
     ]
    },
    {
     "name": "stderr",
     "output_type": "stream",
     "text": [
      "100%|██████████| 16/16 [00:00<00:00, 204.24it/s]\n",
      "2025-04-14 13:54:21,298 - Database - INFO - Loaded wave_energy from brightway!\n"
     ]
    },
    {
     "name": "stdout",
     "output_type": "stream",
     "text": [
      "Getting activity data\n"
     ]
    },
    {
     "name": "stderr",
     "output_type": "stream",
     "text": [
      "100%|██████████| 19/19 [00:00<?, ?it/s]\n"
     ]
    },
    {
     "name": "stdout",
     "output_type": "stream",
     "text": [
      "Adding exchange data to activities\n"
     ]
    },
    {
     "name": "stderr",
     "output_type": "stream",
     "text": [
      "100%|██████████| 167/167 [00:00<00:00, 13954.27it/s]\n"
     ]
    },
    {
     "name": "stdout",
     "output_type": "stream",
     "text": [
      "Filling out exchange data\n"
     ]
    },
    {
     "name": "stderr",
     "output_type": "stream",
     "text": [
      "100%|██████████| 19/19 [00:00<00:00, 707.24it/s]\n",
      "2025-04-14 13:54:22,365 - Database - INFO - Loaded Methanol-based fuels from wood from brightway!\n",
      "2025-04-14 13:54:24,197 - Database - INFO - No inventory in the premise database for ('LCV_BIODIESEL_B100_MD', 'Construction')\n",
      "2025-04-14 13:54:24,203 - Database - INFO - No inventory in the premise database for ('LCV_BIODIESEL_B100_MD', 'Operation')\n",
      "2025-04-14 13:54:24,209 - Database - INFO - No inventory in the premise database for ('LCV_BIODIESEL_B100_SD', 'Operation')\n",
      "2025-04-14 13:54:24,215 - Database - INFO - No inventory in the premise database for ('LCV_BIODIESEL_B100_SD', 'Construction')\n",
      "2025-04-14 13:54:24,224 - Database - INFO - No inventory in the premise database for ('LCV_BIODIESEL_B20_MD', 'Operation')\n",
      "2025-04-14 13:54:24,233 - Database - INFO - No inventory in the premise database for ('LCV_BIODIESEL_B20_MD', 'Construction')\n",
      "2025-04-14 13:54:24,239 - Database - INFO - No inventory in the premise database for ('LCV_BIODIESEL_B20_SD', 'Construction')\n",
      "2025-04-14 13:54:24,243 - Database - INFO - No inventory in the premise database for ('LCV_BIODIESEL_B20_SD', 'Operation')\n",
      "2025-04-14 13:54:24,243 - Database - INFO - No inventory in the premise database for ('LCV_CNG_MD', 'Operation')\n",
      "2025-04-14 13:54:24,254 - Database - INFO - No inventory in the premise database for ('LCV_CNG_MD', 'Construction')\n",
      "2025-04-14 13:54:24,257 - Database - INFO - No inventory in the premise database for ('LCV_CNG_SD', 'Construction')\n",
      "2025-04-14 13:54:24,261 - Database - INFO - No inventory in the premise database for ('LCV_CNG_SD', 'Operation')\n",
      "2025-04-14 13:54:24,267 - Database - INFO - No inventory in the premise database for ('LCV_DIESEL_MD', 'Construction')\n",
      "2025-04-14 13:54:24,268 - Database - INFO - No inventory in the premise database for ('LCV_DIESEL_MD', 'Operation')\n",
      "2025-04-14 13:54:24,274 - Database - INFO - No inventory in the premise database for ('LCV_DIESEL_SD', 'Construction')\n",
      "2025-04-14 13:54:24,279 - Database - INFO - No inventory in the premise database for ('LCV_DIESEL_SD', 'Operation')\n",
      "2025-04-14 13:54:24,282 - Database - INFO - No inventory in the premise database for ('LCV_EV_MD', 'Operation')\n",
      "2025-04-14 13:54:24,286 - Database - INFO - No inventory in the premise database for ('LCV_EV_MD', 'Construction')\n",
      "2025-04-14 13:54:24,290 - Database - INFO - No inventory in the premise database for ('LCV_EV_SD', 'Operation')\n",
      "2025-04-14 13:54:24,295 - Database - INFO - No inventory in the premise database for ('LCV_EV_SD', 'Construction')\n",
      "2025-04-14 13:54:24,297 - Database - INFO - No inventory in the premise database for ('LCV_FC_H2_MD', 'Operation')\n",
      "2025-04-14 13:54:24,303 - Database - INFO - No inventory in the premise database for ('LCV_FC_H2_MD', 'Construction')\n",
      "2025-04-14 13:54:24,305 - Database - INFO - No inventory in the premise database for ('LCV_FC_H2_SD', 'Operation')\n",
      "2025-04-14 13:54:24,312 - Database - INFO - No inventory in the premise database for ('LCV_FC_H2_SD', 'Construction')\n",
      "2025-04-14 13:54:24,315 - Database - INFO - No inventory in the premise database for ('LCV_GASOLINE_MD', 'Construction')\n",
      "2025-04-14 13:54:24,320 - Database - INFO - No inventory in the premise database for ('LCV_GASOLINE_MD', 'Operation')\n",
      "2025-04-14 13:54:24,324 - Database - INFO - No inventory in the premise database for ('LCV_GASOLINE_SD', 'Construction')\n",
      "2025-04-14 13:54:24,330 - Database - INFO - No inventory in the premise database for ('LCV_GASOLINE_SD', 'Operation')\n",
      "2025-04-14 13:54:24,336 - Database - INFO - No inventory in the premise database for ('LCV_PHEV_DIESEL_MD', 'Operation')\n",
      "2025-04-14 13:54:24,340 - Database - INFO - No inventory in the premise database for ('LCV_PHEV_DIESEL_MD', 'Construction')\n",
      "2025-04-14 13:54:24,344 - Database - INFO - No inventory in the premise database for ('LCV_PHEV_DIESEL_SD', 'Operation')\n",
      "2025-04-14 13:54:24,348 - Database - INFO - No inventory in the premise database for ('LCV_PHEV_DIESEL_SD', 'Construction')\n",
      "2025-04-14 13:54:24,352 - Database - INFO - No inventory in the premise database for ('LCV_PROPANE_MD', 'Operation')\n",
      "2025-04-14 13:54:24,355 - Database - INFO - No inventory in the premise database for ('LCV_PROPANE_MD', 'Construction')\n",
      "2025-04-14 13:54:24,357 - Database - INFO - No inventory in the premise database for ('LCV_PROPANE_SD', 'Operation')\n",
      "2025-04-14 13:54:24,365 - Database - INFO - No inventory in the premise database for ('LCV_PROPANE_SD', 'Construction')\n",
      "2025-04-14 13:54:24,564 - Database - INFO - No inventory in the premise database for ('SEMI_SH_BIODIESEL_B100_MD', 'Operation')\n",
      "2025-04-14 13:54:24,564 - Database - INFO - No inventory in the premise database for ('SEMI_SH_BIODIESEL_B100_MD', 'Construction')\n",
      "2025-04-14 13:54:24,572 - Database - INFO - No inventory in the premise database for ('SEMI_SH_BIODIESEL_B20_MD', 'Operation')\n",
      "2025-04-14 13:54:24,579 - Database - INFO - No inventory in the premise database for ('SEMI_SH_BIODIESEL_B20_MD', 'Construction')\n",
      "2025-04-14 13:54:24,583 - Database - INFO - No inventory in the premise database for ('SEMI_SH_CNG_MD', 'Operation')\n",
      "2025-04-14 13:54:24,586 - Database - INFO - No inventory in the premise database for ('SEMI_SH_CNG_MD', 'Construction')\n",
      "2025-04-14 13:54:24,591 - Database - INFO - No inventory in the premise database for ('SEMI_SH_DIESEL_MD', 'Operation')\n",
      "2025-04-14 13:54:24,596 - Database - INFO - No inventory in the premise database for ('SEMI_SH_DIESEL_MD', 'Construction')\n",
      "2025-04-14 13:54:24,601 - Database - INFO - No inventory in the premise database for ('SEMI_SH_EV_MD', 'Construction')\n",
      "2025-04-14 13:54:24,605 - Database - INFO - No inventory in the premise database for ('SEMI_SH_EV_MD', 'Operation')\n",
      "2025-04-14 13:54:24,609 - Database - INFO - No inventory in the premise database for ('SEMI_SH_FC_H2_MD', 'Construction')\n",
      "2025-04-14 13:54:24,613 - Database - INFO - No inventory in the premise database for ('SEMI_SH_FC_H2_MD', 'Operation')\n",
      "2025-04-14 13:54:24,617 - Database - INFO - No inventory in the premise database for ('SEMI_SH_HY_DIESEL_MD', 'Operation')\n",
      "2025-04-14 13:54:24,621 - Database - INFO - No inventory in the premise database for ('SEMI_SH_HY_DIESEL_MD', 'Construction')\n",
      "2025-04-14 13:54:24,625 - Database - INFO - No inventory in the premise database for ('SEMI_SH_PROPANE_MD', 'Construction')\n",
      "2025-04-14 13:54:24,630 - Database - INFO - No inventory in the premise database for ('SEMI_SH_PROPANE_MD', 'Operation')\n",
      "2025-04-14 13:54:24,929 - Database - INFO - No inventory in the premise database for ('TRUCK_SH_BIODIESEL_B100_MD', 'Operation')\n",
      "2025-04-14 13:54:24,933 - Database - INFO - No inventory in the premise database for ('TRUCK_SH_BIODIESEL_B100_MD', 'Construction')\n",
      "2025-04-14 13:54:24,933 - Database - INFO - No inventory in the premise database for ('TRUCK_SH_BIODIESEL_B100_SD', 'Construction')\n",
      "2025-04-14 13:54:24,933 - Database - INFO - No inventory in the premise database for ('TRUCK_SH_BIODIESEL_B100_SD', 'Operation')\n",
      "2025-04-14 13:54:24,944 - Database - INFO - No inventory in the premise database for ('TRUCK_SH_BIODIESEL_B20_MD', 'Operation')\n",
      "2025-04-14 13:54:24,948 - Database - INFO - No inventory in the premise database for ('TRUCK_SH_BIODIESEL_B20_MD', 'Construction')\n",
      "2025-04-14 13:54:24,951 - Database - INFO - No inventory in the premise database for ('TRUCK_SH_BIODIESEL_B20_SD', 'Construction')\n",
      "2025-04-14 13:54:24,956 - Database - INFO - No inventory in the premise database for ('TRUCK_SH_BIODIESEL_B20_SD', 'Operation')\n",
      "2025-04-14 13:54:24,959 - Database - INFO - No inventory in the premise database for ('TRUCK_SH_CNG_MD', 'Construction')\n",
      "2025-04-14 13:54:24,963 - Database - INFO - No inventory in the premise database for ('TRUCK_SH_CNG_MD', 'Operation')\n",
      "2025-04-14 13:54:24,963 - Database - INFO - No inventory in the premise database for ('TRUCK_SH_CNG_SD', 'Operation')\n",
      "2025-04-14 13:54:24,972 - Database - INFO - No inventory in the premise database for ('TRUCK_SH_CNG_SD', 'Construction')\n",
      "2025-04-14 13:54:24,977 - Database - INFO - No inventory in the premise database for ('TRUCK_SH_DIESEL_MD', 'Operation')\n",
      "2025-04-14 13:54:24,980 - Database - INFO - No inventory in the premise database for ('TRUCK_SH_DIESEL_MD', 'Construction')\n",
      "2025-04-14 13:54:24,982 - Database - INFO - No inventory in the premise database for ('TRUCK_SH_DIESEL_SD', 'Operation')\n",
      "2025-04-14 13:54:24,990 - Database - INFO - No inventory in the premise database for ('TRUCK_SH_DIESEL_SD', 'Construction')\n",
      "2025-04-14 13:54:24,997 - Database - INFO - No inventory in the premise database for ('TRUCK_SH_EV_MD', 'Construction')\n",
      "2025-04-14 13:54:25,001 - Database - INFO - No inventory in the premise database for ('TRUCK_SH_EV_MD', 'Operation')\n",
      "2025-04-14 13:54:25,004 - Database - INFO - No inventory in the premise database for ('TRUCK_SH_EV_SD', 'Operation')\n",
      "2025-04-14 13:54:25,008 - Database - INFO - No inventory in the premise database for ('TRUCK_SH_EV_SD', 'Construction')\n",
      "2025-04-14 13:54:25,012 - Database - INFO - No inventory in the premise database for ('TRUCK_SH_GASOLINE_MD', 'Operation')\n",
      "2025-04-14 13:54:25,012 - Database - INFO - No inventory in the premise database for ('TRUCK_SH_GASOLINE_MD', 'Construction')\n",
      "2025-04-14 13:54:25,019 - Database - INFO - No inventory in the premise database for ('TRUCK_SH_GASOLINE_SD', 'Operation')\n",
      "2025-04-14 13:54:25,024 - Database - INFO - No inventory in the premise database for ('TRUCK_SH_GASOLINE_SD', 'Construction')\n",
      "2025-04-14 13:54:25,032 - Database - INFO - No inventory in the premise database for ('TRUCK_SH_HY_DIESEL_MD', 'Operation')\n",
      "2025-04-14 13:54:25,038 - Database - INFO - No inventory in the premise database for ('TRUCK_SH_HY_DIESEL_MD', 'Construction')\n",
      "2025-04-14 13:54:25,045 - Database - INFO - No inventory in the premise database for ('TRUCK_SH_HY_DIESEL_SD', 'Operation')\n",
      "2025-04-14 13:54:25,051 - Database - INFO - No inventory in the premise database for ('TRUCK_SH_HY_DIESEL_SD', 'Construction')\n",
      "2025-04-14 13:54:25,056 - Database - INFO - No inventory in the premise database for ('TRUCK_SH_PROPANE_MD', 'Construction')\n",
      "2025-04-14 13:54:25,060 - Database - INFO - No inventory in the premise database for ('TRUCK_SH_PROPANE_MD', 'Operation')\n",
      "2025-04-14 13:54:25,064 - Database - INFO - No inventory in the premise database for ('TRUCK_SH_PROPANE_SD', 'Construction')\n",
      "2025-04-14 13:54:25,071 - Database - INFO - No inventory in the premise database for ('TRUCK_SH_PROPANE_SD', 'Operation')\n",
      "2025-04-14 13:54:29,263 - Database - INFO - Previous ecoinvent_cutoff_3.8_remind_SSP2-Base_2020_comp_CA-QC will be overwritten!\n",
      "Writing activities to SQLite3 database:\n",
      "0% [##############################] 100% | ETA: 00:00:00\n",
      "Total time elapsed: 00:00:00\n"
     ]
    },
    {
     "name": "stdout",
     "output_type": "stream",
     "text": [
      "Title: Writing activities to SQLite3 database:\n",
      "  Started: 04/14/2025 13:54:29\n",
      "  Finished: 04/14/2025 13:54:30\n",
      "  Total time elapsed: 00:00:00\n",
      "  CPU %: 90.10\n",
      "  Memory %: 34.55\n"
     ]
    },
    {
     "name": "stderr",
     "output_type": "stream",
     "text": [
      "2025-04-14 13:54:31,045 - Database - INFO - ecoinvent_cutoff_3.8_remind_SSP2-Base_2020_comp_CA-QC written to Brightway!\n"
     ]
    }
   ],
   "execution_count": 86
  },
  {
   "metadata": {
    "ExecuteTime": {
     "end_time": "2025-04-14T17:54:53.423518Z",
     "start_time": "2025-04-14T17:54:41.219005Z"
    }
   },
   "cell_type": "code",
   "source": [
    "# create a concatenated database of all databases in the mapping dataframe (including background requirements, except biosphere databases)\n",
    "base_db = Database(db_names=list(mapping_linked_to_premise.Database.unique()))"
   ],
   "outputs": [
    {
     "name": "stderr",
     "output_type": "stream",
     "text": [
      "2025-04-14 13:54:52,081 - Database - INFO - Loaded ecoinvent_cutoff_3.8_remind_SSP2-Base_2020 from pickle!\n"
     ]
    },
    {
     "name": "stdout",
     "output_type": "stream",
     "text": [
      "Getting activity data\n"
     ]
    },
    {
     "name": "stderr",
     "output_type": "stream",
     "text": [
      "100%|██████████| 83/83 [00:00<00:00, 65204.58it/s]\n"
     ]
    },
    {
     "name": "stdout",
     "output_type": "stream",
     "text": [
      "Adding exchange data to activities\n"
     ]
    },
    {
     "name": "stderr",
     "output_type": "stream",
     "text": [
      "100%|██████████| 1628/1628 [00:00<00:00, 23405.52it/s]\n"
     ]
    },
    {
     "name": "stdout",
     "output_type": "stream",
     "text": [
      "Filling out exchange data\n"
     ]
    },
    {
     "name": "stderr",
     "output_type": "stream",
     "text": [
      "100%|██████████| 83/83 [00:00<00:00, 227.92it/s]\n",
      "2025-04-14 13:54:53,009 - Database - INFO - Loaded ecoinvent_cutoff_3.8_remind_SSP2-Base_2020_comp_CA-QC from brightway!\n"
     ]
    }
   ],
   "execution_count": 87
  },
  {
   "metadata": {
    "ExecuteTime": {
     "end_time": "2025-04-14T17:54:53.440622Z",
     "start_time": "2025-04-14T17:54:53.424527Z"
    }
   },
   "cell_type": "code",
   "source": [
    "esm = ESM(\n",
    "    mapping=mapping_linked_to_premise,\n",
    "    locations_ranking=my_ranking,\n",
    "    main_database=base_db,\n",
    "    esm_location=ES_region,\n",
    "    unit_conversion=pd.DataFrame(),\n",
    "    model=pd.DataFrame(),\n",
    "    mapping_esm_flows_to_CPC_cat=pd.DataFrame(),\n",
    "    esm_db_name='',\n",
    ")"
   ],
   "outputs": [],
   "execution_count": 88
  },
  {
   "metadata": {
    "ExecuteTime": {
     "end_time": "2025-04-14T17:55:01.616683Z",
     "start_time": "2025-04-14T17:54:53.440622Z"
    }
   },
   "cell_type": "code",
   "source": [
    "# Update mapping dataframe with better locations\n",
    "esm.change_location_mapping_file()\n",
    "mapping_linked_to_premise = esm.mapping"
   ],
   "outputs": [
    {
     "name": "stderr",
     "output_type": "stream",
     "text": [
      "2025-04-14 13:54:53,503 - Mescal - WARNING - No location found in your ranking for hydrogen, gaseous, 20 bar - hydrogen production, gaseous, 20 bar, from AEC electrolysis, from grid electricity. Have to keep the initial location: CH\n",
      "2025-04-14 13:54:53,856 - Mescal - WARNING - No location found in your ranking for biomethane, from biogas upgrading, using amine scrubbing - biomethane production, from biogas upgrading, using amine scrubbing. Have to keep the initial location: RER\n",
      "2025-04-14 13:54:53,885 - Mescal - WARNING - No location found in your ranking for hydrogen, gaseous, low pressure - hydrogen production, steam methane reforming, from biomethane. Have to keep the initial location: RER\n",
      "2025-04-14 13:54:53,907 - Mescal - WARNING - No location found in your ranking for hydrogen, gaseous, low pressure - hydrogen production, steam methane reforming, from biomethane, with CCS. Have to keep the initial location: RER\n",
      "2025-04-14 13:54:53,925 - Mescal - WARNING - No location found in your ranking for hydrogen, gaseous, 25 bar - hydrogen production, gaseous, 25 bar, from gasification of woody biomass in entrained flow gasifier, at gasification plant. Have to keep the initial location: RER\n",
      "2025-04-14 13:54:53,955 - Mescal - WARNING - No location found in your ranking for hydrogen, gaseous, 25 bar - hydrogen production, gaseous, 25 bar, from gasification of woody biomass in entrained flow gasifier, with CCS, at gasification plant. Have to keep the initial location: RER\n",
      "2025-04-14 13:54:54,361 - Mescal - WARNING - No location found in your ranking for transport, passenger car - transport, passenger car, battery electric, Medium. Have to keep the initial location: RER\n",
      "2025-04-14 13:54:54,395 - Mescal - WARNING - No location found in your ranking for transport, passenger car - transport, passenger car, fuel cell electric, Medium. Have to keep the initial location: RER\n",
      "2025-04-14 13:54:54,564 - Mescal - WARNING - No location found in your ranking for electricity, high voltage - electricity production, at natural gas-fired combined cycle power plant, post, pipeline 200km, storage 1000m. Have to keep the initial location: RER\n",
      "2025-04-14 13:54:54,696 - Mescal - WARNING - No location found in your ranking for diesel, synthetic - diesel production, synthetic, Fischer Tropsch process, hydrogen from electrolysis, energy allocation. Have to keep the initial location: RER\n",
      "2025-04-14 13:54:54,885 - Mescal - WARNING - No location found in your ranking for transport, passenger bus - transport, passenger bus, battery electric - overnight charging, 13m single deck urban bus. Have to keep the initial location: RER\n",
      "2025-04-14 13:54:55,044 - Mescal - WARNING - No location found in your ranking for electricity, high voltage - electricity production, at hard coal-fired IGCC power plant. Have to keep the initial location: RER\n",
      "2025-04-14 13:54:55,162 - Mescal - WARNING - No location found in your ranking for electricity, high voltage - electricity production, at lignite-fired power plant, post, pipeline 200km, storage 1000m. Have to keep the initial location: RER\n",
      "2025-04-14 13:54:55,282 - Mescal - WARNING - No location found in your ranking for kerosene, synthetic - kerosene production, synthetic, Fischer Tropsch process, hydrogen from wood gasification, energy allocation. Have to keep the initial location: RER\n",
      "2025-04-14 13:54:55,808 - Mescal - WARNING - No location found in your ranking for heat, future - heat production, natural gas, at diffusion absorption heat pump 4kW, future. Have to keep the initial location: CH\n",
      "2025-04-14 13:54:55,894 - Mescal - WARNING - No location found in your ranking for carbon dioxide, stored - carbon dioxide compression, transport and storage. Have to keep the initial location: RER\n",
      "2025-04-14 13:54:56,626 - Mescal - WARNING - No location found in your ranking for diesel, synthetic, vehicle grade - diesel production, synthetic, from Fischer Tropsch process, hydrogen from wood gasification, energy allocation, at fuelling station. Have to keep the initial location: RER\n",
      "2025-04-14 13:54:56,668 - Mescal - WARNING - No location found in your ranking for syngas, RWGS, Production - syngas, RWGS, Production, for Fischer Tropsch process, hydrogen from wood gasification. Have to keep the initial location: RER\n",
      "2025-04-14 13:54:56,741 - Mescal - WARNING - No location found in your ranking for electricity, high voltage - electricity production, from hydrogen-fired one gigawatt gas turbine. Have to keep the initial location: RER\n",
      "2025-04-14 13:54:57,699 - Mescal - WARNING - No location found in your ranking for hydrogen, gaseous, 100 bar - hydrogen production, gaseous, 100 bar, from methane pyrolysis. Have to keep the initial location: RER\n",
      "2025-04-14 13:54:57,715 - Mescal - WARNING - No location found in your ranking for hydrogen, gaseous, low pressure - hydrogen production, steam methane reforming. Have to keep the initial location: RER\n",
      "2025-04-14 13:54:57,873 - Mescal - WARNING - No location found in your ranking for hydrogen, gaseous, 30 bar - hydrogen production, gaseous, 30 bar, from PEM electrolysis, from grid electricity. Have to keep the initial location: RER\n",
      "2025-04-14 13:54:58,300 - Mescal - WARNING - No location found in your ranking for transport, passenger bus, EURO-VI - transport, passenger bus, diesel, 13m single deck urban bus, EURO-VI. Have to keep the initial location: RER\n",
      "2025-04-14 13:54:58,339 - Mescal - WARNING - No location found in your ranking for transport, passenger bus, EURO-VI - transport, passenger bus, compressed gas, 13m single deck urban bus, EURO-VI. Have to keep the initial location: RER\n",
      "2025-04-14 13:54:58,462 - Mescal - WARNING - No location found in your ranking for transport, freight, lorry, EURO-VI - transport, freight, lorry, diesel, 26t gross weight, EURO-VI, long haul. Have to keep the initial location: RER\n",
      "2025-04-14 13:54:58,485 - Mescal - WARNING - No location found in your ranking for transport, freight, lorry, EURO-VI - transport, freight, lorry, compressed gas, 26t gross weight, EURO-VI, long haul. Have to keep the initial location: RER\n",
      "2025-04-14 13:54:58,558 - Mescal - WARNING - No location found in your ranking for transport, freight, lorry - transport, freight, lorry, battery electric, 26t gross weight, long haul. Have to keep the initial location: RER\n",
      "2025-04-14 13:54:58,624 - Mescal - WARNING - No location found in your ranking for transport, freight, lorry - transport, freight, lorry, fuel cell electric, 26t gross weight, long haul. Have to keep the initial location: RER\n",
      "2025-04-14 13:54:58,934 - Mescal - WARNING - No location found in your ranking for hydrogen, gaseous, low pressure - hydrogen production, steam methane reforming, with CCS. Have to keep the initial location: RER\n",
      "2025-04-14 13:54:58,989 - Mescal - WARNING - No location found in your ranking for hydrogen, gaseous, 1 bar - hydrogen production, gaseous, 1 bar, from SOEC electrolysis, from grid electricity. Have to keep the initial location: CH\n",
      "2025-04-14 13:54:59,950 - Mescal - WARNING - No location found in your ranking for transport, freight, lorry, EURO-VI - transport, freight, lorry, diesel, 18t gross weight, EURO-VI, long haul. Have to keep the initial location: RER\n",
      "2025-04-14 13:55:00,005 - Mescal - WARNING - No location found in your ranking for transport, freight, lorry, EURO-VI - transport, freight, lorry, compressed gas, 18t gross weight, EURO-VI, long haul. Have to keep the initial location: RER\n",
      "2025-04-14 13:55:00,072 - Mescal - WARNING - No location found in your ranking for transport, freight, lorry - transport, freight, lorry, battery electric, 18t gross weight, long haul. Have to keep the initial location: RER\n"
     ]
    }
   ],
   "execution_count": 89
  },
  {
   "metadata": {
    "ExecuteTime": {
     "end_time": "2025-04-14T17:55:01.784881Z",
     "start_time": "2025-04-14T17:55:01.623574Z"
    }
   },
   "cell_type": "code",
   "source": "unlinked = base_db.test_mapping_file(mapping_linked_to_premise)",
   "outputs": [
    {
     "name": "stderr",
     "output_type": "stream",
     "text": [
      "2025-04-14 13:55:01,773 - Database - INFO - Mapping successfully linked to the database\n"
     ]
    }
   ],
   "execution_count": 90
  },
  {
   "metadata": {
    "ExecuteTime": {
     "end_time": "2025-04-14T17:55:01.816214Z",
     "start_time": "2025-04-14T17:55:01.787513Z"
    }
   },
   "cell_type": "code",
   "source": [
    "if len(unlinked) == 0:\n",
    "    mapping_linked_to_premise.to_csv(f\"energyscope_data/{ES_region}/mapping_3.8_linked.csv\", index=False)\n",
    "else:\n",
    "    print(f\"Unlinked flows: {unlinked}\")"
   ],
   "outputs": [],
   "execution_count": 91
  }
 ],
 "metadata": {
  "kernelspec": {
   "display_name": "Python 3",
   "language": "python",
   "name": "python3"
  },
  "language_info": {
   "codemirror_mode": {
    "name": "ipython",
    "version": 2
   },
   "file_extension": ".py",
   "mimetype": "text/x-python",
   "name": "python",
   "nbconvert_exporter": "python",
   "pygments_lexer": "ipython2",
   "version": "2.7.6"
  }
 },
 "nbformat": 4,
 "nbformat_minor": 0
}
