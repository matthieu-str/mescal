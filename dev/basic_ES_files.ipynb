{
 "cells": [
  {
   "cell_type": "markdown",
   "source": [
    "# Consolidating several mappings"
   ],
   "metadata": {
    "collapsed": false
   }
  },
  {
   "cell_type": "code",
   "source": [
    "import pandas as pd\n",
    "import numpy as np\n",
    "import bw2data as bd\n",
    "from mescal import *"
   ],
   "metadata": {
    "collapsed": false,
    "ExecuteTime": {
     "end_time": "2024-11-20T19:57:37.619644Z",
     "start_time": "2024-11-20T19:57:32.266223Z"
    }
   },
   "outputs": [],
   "execution_count": 1
  },
  {
   "metadata": {
    "ExecuteTime": {
     "end_time": "2024-11-20T19:57:37.745860Z",
     "start_time": "2024-11-20T19:57:37.619644Z"
    }
   },
   "cell_type": "code",
   "source": "bd.projects.set_current('ei3.8-mescal')",
   "outputs": [],
   "execution_count": 2
  },
  {
   "metadata": {
    "ExecuteTime": {
     "end_time": "2024-11-20T19:57:37.750650Z",
     "start_time": "2024-11-20T19:57:37.745860Z"
    }
   },
   "cell_type": "code",
   "source": "ES_region = 'CH' # 'CH' or 'CA-QC'",
   "outputs": [],
   "execution_count": 3
  },
  {
   "metadata": {
    "ExecuteTime": {
     "end_time": "2024-11-20T19:57:37.793079Z",
     "start_time": "2024-11-20T19:57:37.750650Z"
    }
   },
   "cell_type": "code",
   "source": [
    "tech_CH = pd.read_csv('energyscope_data/CA-QC/hidden/tech_CH.csv') # mapping from ecoinvent 3.8 for CH\n",
    "tech_QC = pd.read_csv('energyscope_data/CA-QC/hidden/tech_QC.csv') # mapping from ecoinvent 3.8 and premise specific for QC\n",
    "comp_CH = pd.read_excel('energyscope_data/CA-QC/hidden/techno_compositions_CH.xlsx') # list of compositions of technologies with premise mapping for CH\n",
    "comp_QC = pd.read_excel('energyscope_data/CA-QC/hidden/techno_compositions_QC.xlsx') # list of compositions of technologies with premise mapping for QC\n",
    "# dict_ES = pd.read_csv('energyscope_data/CA-QC/hidden/Technology_Dictionary_v2.csv')\n",
    "# region_tech_ES = pd.read_excel('energyscope_data/CA-QC/hidden/Technologies_ES_version.xlsx')\n",
    "layers_in_out_CH = pd.read_csv(f\"energyscope_data/CA-QC/hidden/layers_in_out_CH.csv\")\n",
    "layers_in_out_QC = pd.read_csv(f\"energyscope_data/CA-QC/hidden/layers_in_out_QC.csv\")"
   ],
   "outputs": [],
   "execution_count": 4
  },
  {
   "metadata": {
    "ExecuteTime": {
     "end_time": "2024-11-20T19:57:38.006902Z",
     "start_time": "2024-11-20T19:57:37.796132Z"
    }
   },
   "cell_type": "code",
   "source": [
    "assumptions_diff_CH = pd.read_excel('energyscope_data/CA-QC/hidden/assumptions_diff_CH.xlsx')\n",
    "assumptions_diff_QC = pd.read_excel('energyscope_data/CA-QC/hidden/assumptions_diff_QC.xlsx')\n",
    "efficiency = pd.read_csv(f\"energyscope_data/CA-QC/hidden/efficiency_{ES_region[-2:]}.csv\")\n",
    "mob_model_private_CH = pd.read_csv(\n",
    "    \"energyscope_data/CA-QC/hidden/MODELS_OF_TECHNOLOGIES_OF_PRIVATEMOB_ALL_DISTANCES_CH.csv\", sep=',')\n",
    "mob_model_private_QC = pd.read_csv(\n",
    "    \"energyscope_data/CA-QC/hidden/MODELS_OF_TECHNOLOGIES_OF_PRIVATEMOB_ALL_DISTANCES_QC.csv\", sep=',')\n",
    "mob_model_public_QC = pd.read_csv(\n",
    "    \"energyscope_data/CA-QC/hidden/MODELS_OF_TECHNOLOGIES_OF_PUBLICMOB_ALL_DISTANCES_QC.csv\", sep=',')\n",
    "mob_model_freight_QC = pd.read_csv(\n",
    "    \"energyscope_data/CA-QC/hidden/MODELS_OF_TECHNOLOGIES_OF_FREIGHTMOB_ALL_DISTANCES_QC.csv\", sep=',')"
   ],
   "outputs": [],
   "execution_count": 5
  },
  {
   "metadata": {
    "ExecuteTime": {
     "end_time": "2024-11-20T19:57:38.513368Z",
     "start_time": "2024-11-20T19:57:38.006902Z"
    }
   },
   "cell_type": "code",
   "source": [
    "# Allows to keep formulas in Excel files\n",
    "from openpyxl import load_workbook\n",
    "wb_CH = load_workbook(filename = 'energyscope_data/CA-QC/hidden/tech_unit_conversion_CH.xlsx')\n",
    "unit_conv_CH = pd.DataFrame(wb_CH[wb_CH.sheetnames[0]].values)\n",
    "wb_QC = load_workbook(filename = 'energyscope_data/CA-QC/hidden/tech_unit_conversion_QC.xlsx')\n",
    "unit_conv_QC = pd.DataFrame(wb_QC[wb_QC.sheetnames[0]].values)"
   ],
   "outputs": [],
   "execution_count": 6
  },
  {
   "metadata": {
    "ExecuteTime": {
     "end_time": "2024-11-20T19:57:38.520850Z",
     "start_time": "2024-11-20T19:57:38.513368Z"
    }
   },
   "cell_type": "code",
   "source": [
    "# setting first row as header\n",
    "new_header_CH = unit_conv_CH.iloc[0]\n",
    "unit_conv_CH = unit_conv_CH[1:]\n",
    "unit_conv_CH.columns = new_header_CH\n",
    "new_header_QC = unit_conv_QC.iloc[0]\n",
    "unit_conv_QC = unit_conv_QC[1:]\n",
    "unit_conv_QC.columns = new_header_QC"
   ],
   "outputs": [],
   "execution_count": 7
  },
  {
   "metadata": {
    "ExecuteTime": {
     "end_time": "2024-11-20T19:57:38.527608Z",
     "start_time": "2024-11-20T19:57:38.520850Z"
    }
   },
   "cell_type": "code",
   "source": [
    "# unit_conv_CH = pd.read_excel('energyscope_data/CA-QC/hidden/tech_unit_conversion_CH.xlsx')\n",
    "# unit_conv_QC = pd.read_excel('energyscope_data/CA-QC/hidden/tech_unit_conversion_QC.xlsx')"
   ],
   "outputs": [],
   "execution_count": 8
  },
  {
   "metadata": {
    "ExecuteTime": {
     "end_time": "2024-11-20T19:57:38.537748Z",
     "start_time": "2024-11-20T19:57:38.527608Z"
    }
   },
   "cell_type": "code",
   "source": [
    "if 'Validation' in tech_CH.columns:\n",
    "    tech_CH.drop(columns='Validation', inplace=True)\n",
    "if 'Validation' in tech_QC.columns:\n",
    "    tech_QC.drop(columns='Validation', inplace=True)\n",
    "if 'Validation' in assumptions_diff_CH.columns:\n",
    "    assumptions_diff_CH.drop(columns='Validation', inplace=True)\n",
    "if 'Validation' in assumptions_diff_QC.columns:\n",
    "    assumptions_diff_QC.drop(columns='Validation', inplace=True)"
   ],
   "outputs": [],
   "execution_count": 9
  },
  {
   "metadata": {},
   "cell_type": "markdown",
   "source": "# Model file"
  },
  {
   "metadata": {
    "ExecuteTime": {
     "end_time": "2024-11-20T19:57:38.550723Z",
     "start_time": "2024-11-20T19:57:38.539802Z"
    }
   },
   "cell_type": "code",
   "source": [
    "if ES_region == 'CA-QC':\n",
    "    model = layers_in_out_QC\n",
    "elif ES_region == 'CH':\n",
    "    model = layers_in_out_CH\n",
    "else:\n",
    "    raise ValueError('ES_region should be either CH or CA-QC')\n",
    "model[['Name', 'Flow', 'Amount']].to_csv(f'energyscope_data/{ES_region}/model.csv', index=False)"
   ],
   "outputs": [],
   "execution_count": 10
  },
  {
   "metadata": {},
   "cell_type": "markdown",
   "source": "## Mapping file"
  },
  {
   "metadata": {
    "ExecuteTime": {
     "end_time": "2024-11-20T19:57:38.558881Z",
     "start_time": "2024-11-20T19:57:38.550723Z"
    }
   },
   "cell_type": "code",
   "source": "len(tech_CH.ES_name.unique())",
   "outputs": [
    {
     "data": {
      "text/plain": [
       "283"
      ]
     },
     "execution_count": 11,
     "metadata": {},
     "output_type": "execute_result"
    }
   ],
   "execution_count": 11
  },
  {
   "metadata": {},
   "cell_type": "markdown",
   "source": "### QC"
  },
  {
   "metadata": {},
   "cell_type": "markdown",
   "source": "We start from the consolidated file of CH and add/replace what is in the tech_QC additional mapping, and filter what was only for CH using the list of technologies from ES-QC."
  },
  {
   "metadata": {
    "ExecuteTime": {
     "end_time": "2024-11-20T19:57:38.564510Z",
     "start_time": "2024-11-20T19:57:38.558881Z"
    }
   },
   "cell_type": "code",
   "source": "# region_tech_ES.dropna(subset=['ES_version'], inplace=True) # OTHER_BIOMASS to remove",
   "outputs": [],
   "execution_count": 12
  },
  {
   "metadata": {
    "ExecuteTime": {
     "end_time": "2024-11-20T19:57:38.570032Z",
     "start_time": "2024-11-20T19:57:38.564510Z"
    }
   },
   "cell_type": "code",
   "source": [
    "# list_tech_QC = list(region_tech_ES[region_tech_ES.ES_version.str.contains('CA')].tech_name)\n",
    "list_tech_QC = list(layers_in_out_QC.Name.unique())"
   ],
   "outputs": [],
   "execution_count": 13
  },
  {
   "metadata": {
    "ExecuteTime": {
     "end_time": "2024-11-20T19:57:38.579635Z",
     "start_time": "2024-11-20T19:57:38.571587Z"
    }
   },
   "cell_type": "code",
   "source": [
    "sub_comp_CH = list(set([x for xs in comp_CH.iloc[:, 1:].values.tolist() for x in xs])) # list of all subcomponents for CH\n",
    "sub_comp_QC = list(set([x for xs in comp_QC.iloc[:, 1:].values.tolist() for x in xs])) # list of all subcomponents for QC"
   ],
   "outputs": [],
   "execution_count": 14
  },
  {
   "metadata": {
    "ExecuteTime": {
     "end_time": "2024-11-20T19:57:38.586847Z",
     "start_time": "2024-11-20T19:57:38.579635Z"
    }
   },
   "cell_type": "code",
   "source": [
    "def replace_mob_submodel_by_model_CH(row):\n",
    "    if row.ES_name in list(mob_model_private_CH.Model_1):\n",
    "        return mob_model_private_CH[mob_model_private_CH.Model_1 == row.ES_name].Main_tech.iloc[0]\n",
    "    elif row.ES_name in list(mob_model_private_CH.Model_2):\n",
    "        return mob_model_private_CH[mob_model_private_CH.Model_2 == row.ES_name].Main_tech.iloc[0]\n",
    "    return row.ES_name"
   ],
   "outputs": [],
   "execution_count": 15
  },
  {
   "metadata": {
    "ExecuteTime": {
     "end_time": "2024-11-20T19:57:38.594201Z",
     "start_time": "2024-11-20T19:57:38.586847Z"
    }
   },
   "cell_type": "code",
   "source": [
    "def replace_mob_model_names(row):\n",
    "    if row.ES_name == 'CAR_HY_GASOLINE':\n",
    "        return 'CAR_HEV'\n",
    "    if row.ES_name == 'CAR_PHEV_GASOLINE':\n",
    "        return 'CAR_PHEV'\n",
    "    if row.ES_name == 'TRAIN_FREIGHT':\n",
    "        return 'TRAIN_FREIGHT_ELEC'\n",
    "    if row.ES_name == 'TRAIN_FREIGHT_LOC':\n",
    "        return 'TRAIN_FREIGHT_ELEC_LOC'\n",
    "    if row.ES_name == 'TRAIN_FREIGHT_WAG':\n",
    "        return 'TRAIN_FREIGHT_ELEC_WAG'\n",
    "    return row.ES_name"
   ],
   "outputs": [],
   "execution_count": 16
  },
  {
   "metadata": {
    "ExecuteTime": {
     "end_time": "2024-11-20T19:57:38.600437Z",
     "start_time": "2024-11-20T19:57:38.594201Z"
    }
   },
   "cell_type": "code",
   "source": [
    "def flatten(xss):\n",
    "    return [x for xs in xss for x in xs]"
   ],
   "outputs": [],
   "execution_count": 17
  },
  {
   "metadata": {
    "ExecuteTime": {
     "end_time": "2024-11-20T19:57:38.609361Z",
     "start_time": "2024-11-20T19:57:38.600437Z"
    }
   },
   "cell_type": "code",
   "source": "assumptions_diff_CH.drop(assumptions_diff_CH[assumptions_diff_CH.ES_name.isin(list(mob_model_private_CH.Main_tech.unique()))].index, inplace=True)",
   "outputs": [],
   "execution_count": 18
  },
  {
   "metadata": {
    "ExecuteTime": {
     "end_time": "2024-11-20T19:57:38.695042Z",
     "start_time": "2024-11-20T19:57:38.609361Z"
    }
   },
   "cell_type": "code",
   "source": [
    "tech_CH['ES_name'] = tech_CH.apply(replace_mob_submodel_by_model_CH, axis=1)\n",
    "unit_conv_CH['ES_name'] = unit_conv_CH.apply(replace_mob_submodel_by_model_CH, axis=1)\n",
    "assumptions_diff_CH['ES_name'] = assumptions_diff_CH.apply(replace_mob_submodel_by_model_CH, axis=1)"
   ],
   "outputs": [],
   "execution_count": 19
  },
  {
   "metadata": {
    "ExecuteTime": {
     "end_time": "2024-11-20T19:57:38.775097Z",
     "start_time": "2024-11-20T19:57:38.695042Z"
    }
   },
   "cell_type": "code",
   "source": [
    "tech_QC['ES_name'] = tech_QC.apply(replace_mob_model_names, axis=1)\n",
    "unit_conv_QC['ES_name'] = unit_conv_QC.apply(replace_mob_model_names, axis=1)\n",
    "assumptions_diff_QC['ES_name'] = assumptions_diff_QC.apply(replace_mob_model_names, axis=1)"
   ],
   "outputs": [],
   "execution_count": 20
  },
  {
   "metadata": {
    "ExecuteTime": {
     "end_time": "2024-11-20T19:57:38.852640Z",
     "start_time": "2024-11-20T19:57:38.776648Z"
    }
   },
   "cell_type": "code",
   "source": [
    "tech_CH['ES_name'] = tech_CH.apply(replace_mob_model_names, axis=1)\n",
    "unit_conv_CH['ES_name'] = unit_conv_CH.apply(replace_mob_model_names, axis=1)\n",
    "assumptions_diff_CH['ES_name'] = assumptions_diff_CH.apply(replace_mob_model_names, axis=1)"
   ],
   "outputs": [],
   "execution_count": 21
  },
  {
   "metadata": {
    "ExecuteTime": {
     "end_time": "2024-11-20T19:57:38.870414Z",
     "start_time": "2024-11-20T19:57:38.852640Z"
    }
   },
   "cell_type": "code",
   "source": [
    "tech_CH.drop_duplicates(inplace=True)\n",
    "unit_conv_CH.drop_duplicates(inplace=True)\n",
    "assumptions_diff_CH.drop_duplicates(inplace=True)"
   ],
   "outputs": [],
   "execution_count": 22
  },
  {
   "metadata": {
    "ExecuteTime": {
     "end_time": "2024-11-20T19:57:39.336382Z",
     "start_time": "2024-11-20T19:57:38.870414Z"
    }
   },
   "cell_type": "code",
   "source": [
    "list_tech_QC_updated = list_tech_QC.copy()\n",
    "for i in list_tech_QC:\n",
    "    if i in flatten(list(mob_model_private_QC[['Model_1', 'Model_2', 'Model_3', 'Model_4']].values)):\n",
    "        list_tech_QC_updated.remove(i)\n",
    "        list_tech_QC_updated.append(mob_model_private_QC[mob_model_private_QC[['Model_1', 'Model_2', 'Model_3', 'Model_4']].isin([i]).any(axis=1)].Main_tech.iloc[0])\n",
    "    if i in flatten(list(mob_model_public_QC[['Model_1', 'Model_2', 'Model_3']].values)):\n",
    "        list_tech_QC_updated.remove(i)\n",
    "        list_tech_QC_updated.append(mob_model_public_QC[mob_model_public_QC[['Model_1', 'Model_2', 'Model_3']].isin([i]).any(axis=1)].Main_tech.iloc[0])\n",
    "    if i in flatten(list(mob_model_freight_QC[['Model_1', 'Model_2']].values)):\n",
    "        list_tech_QC_updated.remove(i)\n",
    "        list_tech_QC_updated.append(mob_model_freight_QC[mob_model_freight_QC[['Model_1', 'Model_2']].isin([i]).any(axis=1)].Main_tech.iloc[0])"
   ],
   "outputs": [],
   "execution_count": 23
  },
  {
   "metadata": {
    "ExecuteTime": {
     "end_time": "2024-11-20T19:57:39.342506Z",
     "start_time": "2024-11-20T19:57:39.336382Z"
    }
   },
   "cell_type": "code",
   "source": "list_tech_QC_updated = sorted(list(set(list_tech_QC_updated)))",
   "outputs": [],
   "execution_count": 24
  },
  {
   "metadata": {
    "ExecuteTime": {
     "end_time": "2024-11-20T19:57:39.352448Z",
     "start_time": "2024-11-20T19:57:39.344562Z"
    }
   },
   "cell_type": "code",
   "source": "list_tech_QC = list_tech_QC_updated",
   "outputs": [],
   "execution_count": 25
  },
  {
   "metadata": {
    "ExecuteTime": {
     "end_time": "2024-11-20T19:57:39.366159Z",
     "start_time": "2024-11-20T19:57:39.352448Z"
    }
   },
   "cell_type": "code",
   "source": [
    "# Remove technologies that are not in ES-QC\n",
    "tech_not_QC = []\n",
    "\n",
    "# Operation\n",
    "for tech in list(tech_CH[tech_CH.type == 'Operation'].ES_name):\n",
    "    \n",
    "    if tech not in list_tech_QC:\n",
    "        tech_not_QC.append(tech)\n",
    "    else:\n",
    "        pass\n",
    "\n",
    "# Construction\n",
    "for tech in list(tech_CH[tech_CH.type == 'Construction'].ES_name):\n",
    "    \n",
    "    if tech in sub_comp_CH:\n",
    "        if tech not in sub_comp_QC:\n",
    "            tech_not_QC.append(tech)\n",
    "        else:\n",
    "            pass"
   ],
   "outputs": [],
   "execution_count": 26
  },
  {
   "metadata": {
    "ExecuteTime": {
     "end_time": "2024-11-20T19:57:39.373192Z",
     "start_time": "2024-11-20T19:57:39.366159Z"
    }
   },
   "cell_type": "code",
   "source": "tech_CH_filtered = tech_CH.drop(index=tech_CH[tech_CH.ES_name.isin(tech_not_QC)].index)",
   "outputs": [],
   "execution_count": 27
  },
  {
   "metadata": {
    "ExecuteTime": {
     "end_time": "2024-11-20T19:57:39.550880Z",
     "start_time": "2024-11-20T19:57:39.373192Z"
    }
   },
   "cell_type": "code",
   "source": [
    "# Remove the LCI datasets that need to be updated from the CH list\n",
    "update_constr = []\n",
    "for tech in list(tech_CH[tech_CH.type == 'Construction'].ES_name):\n",
    "    if (tech in list(tech_CH[tech_CH.type == 'Construction'].ES_name)) & (tech in list(tech_QC[tech_QC.type == 'Construction'].ES_name)):\n",
    "        update_constr.append(tech)\n",
    "\n",
    "update_op = []\n",
    "for tech in list(tech_CH[tech_CH.type == 'Operation'].ES_name):\n",
    "    if (tech in list(tech_CH[tech_CH.type == 'Operation'].ES_name)) & (tech in list(tech_QC[tech_QC.type == 'Operation'].ES_name)):\n",
    "        update_op.append(tech)"
   ],
   "outputs": [],
   "execution_count": 28
  },
  {
   "metadata": {
    "ExecuteTime": {
     "end_time": "2024-11-20T19:57:39.558901Z",
     "start_time": "2024-11-20T19:57:39.550880Z"
    }
   },
   "cell_type": "code",
   "source": [
    "tech_CH_filtered.drop(index=tech_CH_filtered[(tech_CH_filtered.ES_name.isin(update_constr)) & (tech_CH_filtered.type == 'Construction')].index, inplace=True)\n",
    "tech_CH_filtered.drop(index=tech_CH_filtered[(tech_CH_filtered.ES_name.isin(update_op)) & (tech_CH_filtered.type == 'Operation')].index, inplace=True)"
   ],
   "outputs": [],
   "execution_count": 29
  },
  {
   "metadata": {
    "ExecuteTime": {
     "end_time": "2024-11-20T19:57:39.566463Z",
     "start_time": "2024-11-20T19:57:39.558901Z"
    }
   },
   "cell_type": "code",
   "source": "tech_consolidated_QC = pd.concat([tech_CH_filtered, tech_QC])",
   "outputs": [],
   "execution_count": 30
  },
  {
   "metadata": {
    "ExecuteTime": {
     "end_time": "2024-11-20T19:57:39.580659Z",
     "start_time": "2024-11-20T19:57:39.566463Z"
    }
   },
   "cell_type": "code",
   "source": "tech_consolidated_QC.duplicated(subset=['ES_name', 'type']).sum()",
   "outputs": [
    {
     "data": {
      "text/plain": [
       "0"
      ]
     },
     "execution_count": 31,
     "metadata": {},
     "output_type": "execute_result"
    }
   ],
   "execution_count": 31
  },
  {
   "metadata": {},
   "cell_type": "markdown",
   "source": "## Unit conversion file"
  },
  {
   "metadata": {},
   "cell_type": "markdown",
   "source": "### CH"
  },
  {
   "metadata": {
    "ExecuteTime": {
     "end_time": "2024-11-20T19:57:39.590734Z",
     "start_time": "2024-11-20T19:57:39.580659Z"
    }
   },
   "cell_type": "code",
   "source": "unit_conv_CH = unit_conv_CH[['ES_name', 'ei_constr_unit', 'ES_constr_unit', 'ei_use_unit', 'ES_use_unit', 'capacity', 'conversion', 'ei_constr_unit_size', 'ES_constr_unit_size', 'Assumptions & Sources']]",
   "outputs": [],
   "execution_count": 32
  },
  {
   "metadata": {
    "ExecuteTime": {
     "end_time": "2024-11-20T19:57:39.602702Z",
     "start_time": "2024-11-20T19:57:39.590734Z"
    }
   },
   "cell_type": "code",
   "source": [
    "# Drop the rows where both the capacity and conversion factors are None\n",
    "unit_conv_CH.drop(unit_conv_CH[(unit_conv_CH.conversion.values == None) & (unit_conv_CH.capacity.values == None)].index, inplace=True)"
   ],
   "outputs": [],
   "execution_count": 33
  },
  {
   "metadata": {},
   "cell_type": "markdown",
   "source": "### QC"
  },
  {
   "metadata": {
    "ExecuteTime": {
     "end_time": "2024-11-20T19:57:39.611315Z",
     "start_time": "2024-11-20T19:57:39.602702Z"
    }
   },
   "cell_type": "code",
   "source": "unit_conv_QC = unit_conv_QC[unit_conv_CH.columns]",
   "outputs": [],
   "execution_count": 34
  },
  {
   "metadata": {
    "ExecuteTime": {
     "end_time": "2024-11-20T19:57:39.620762Z",
     "start_time": "2024-11-20T19:57:39.611315Z"
    }
   },
   "cell_type": "code",
   "source": "unit_conv_QC.dropna(how='all', axis=0, inplace=True)",
   "outputs": [],
   "execution_count": 35
  },
  {
   "metadata": {
    "ExecuteTime": {
     "end_time": "2024-11-20T19:57:39.657719Z",
     "start_time": "2024-11-20T19:57:39.620762Z"
    }
   },
   "cell_type": "code",
   "source": [
    "# In order to overwrite some conversion factors (same technologies but different factors between CH and QC), we remove from the CH file the factors that are present in both files\n",
    "unit_conv_CH_overwrite = unit_conv_CH.copy()\n",
    "for tech in list(unit_conv_QC.ES_name.unique()):\n",
    "    if tech in list(unit_conv_CH.ES_name.unique()):\n",
    "        unit_conv_CH_overwrite.drop(unit_conv_CH[unit_conv_CH.ES_name == tech].index, inplace=True)"
   ],
   "outputs": [],
   "execution_count": 36
  },
  {
   "metadata": {
    "ExecuteTime": {
     "end_time": "2024-11-20T19:57:39.667280Z",
     "start_time": "2024-11-20T19:57:39.657719Z"
    }
   },
   "cell_type": "code",
   "source": "unit_conv_QC_consolidated = pd.concat([unit_conv_CH_overwrite.drop(unit_conv_CH_overwrite[unit_conv_CH_overwrite.ES_name.isin(tech_not_QC)].index), unit_conv_QC])",
   "outputs": [],
   "execution_count": 37
  },
  {
   "metadata": {},
   "cell_type": "markdown",
   "source": "# Duplicate mapping for mobility models"
  },
  {
   "metadata": {
    "ExecuteTime": {
     "end_time": "2024-11-20T19:57:39.676451Z",
     "start_time": "2024-11-20T19:57:39.667280Z"
    }
   },
   "cell_type": "code",
   "source": [
    "if ES_region == 'CA-QC':\n",
    "    tech_ecoinvent = tech_consolidated_QC.copy(deep=True)\n",
    "    tech_unit_conversion = unit_conv_QC_consolidated.copy(deep=True)\n",
    "    comp = comp_QC.copy(deep=True)\n",
    "    assumptions_diff = assumptions_diff_QC.copy(deep=True)\n",
    "elif ES_region == 'CH':\n",
    "    tech_ecoinvent = tech_CH.copy(deep=True)\n",
    "    tech_unit_conversion = unit_conv_CH.copy(deep=True)\n",
    "    comp = comp_CH.copy(deep=True)\n",
    "    assumptions_diff = assumptions_diff_CH.copy(deep=True)\n",
    "else:\n",
    "    raise ValueError('ES_region should be either CH or CA-QC')"
   ],
   "outputs": [],
   "execution_count": 38
  },
  {
   "metadata": {
    "ExecuteTime": {
     "end_time": "2024-11-20T19:57:39.684622Z",
     "start_time": "2024-11-20T19:57:39.676451Z"
    }
   },
   "cell_type": "code",
   "source": [
    "tech_ecoinvent.reset_index(drop=True, inplace=True)\n",
    "tech_unit_conversion.reset_index(drop=True, inplace=True)\n",
    "comp.reset_index(drop=True, inplace=True)"
   ],
   "outputs": [],
   "execution_count": 39
  },
  {
   "metadata": {
    "ExecuteTime": {
     "end_time": "2024-11-20T19:57:39.693957Z",
     "start_time": "2024-11-20T19:57:39.684622Z"
    }
   },
   "cell_type": "code",
   "source": [
    "# Gather all non-nan components into a list\n",
    "comp['Components'] = [[e for e in row if e == e] for row in comp.iloc[:, 1:].values.tolist()]\n",
    "comp_dict = dict(zip(comp.ES_name, comp.Components))\n",
    "N_sub_comp_max = 4  # maximum number of subcomponents in the compositions file"
   ],
   "outputs": [],
   "execution_count": 40
  },
  {
   "metadata": {
    "ExecuteTime": {
     "end_time": "2024-11-20T19:57:39.720496Z",
     "start_time": "2024-11-20T19:57:39.696967Z"
    }
   },
   "cell_type": "code",
   "source": [
    "def gen_df_mob_models(df):\n",
    "    df_mobility_models = pd.DataFrame(columns=tech_ecoinvent.columns)\n",
    "\n",
    "    for i in range(len(df)):\n",
    "        tech = df.Main_tech.iloc[i]\n",
    "\n",
    "        if tech in list(tech_ecoinvent.ES_name):\n",
    "\n",
    "            j = 1\n",
    "            model = str(df[df.Main_tech == tech][f'Model_{j}'].iloc[0])\n",
    "            while (model != 'nan') & (j < df.shape[1]):\n",
    "                if str(df_mobility_models.index.max()) == 'nan':\n",
    "                    idx = 1\n",
    "                else:\n",
    "                    idx = df_mobility_models.index.max() + 1\n",
    "                df_mobility_models.loc[idx] = [model] + list(tech_ecoinvent[tech_ecoinvent.ES_name == tech].iloc[0, 1:])  # operation\n",
    "                tech_unit_conversion.loc[tech_unit_conversion.index.max() + 1] = [model] + list(tech_unit_conversion[tech_unit_conversion.ES_name == tech].iloc[0,1:])  # update unit conversion Excel files with additional rows for mobility models\n",
    "                # dict_ES.loc[dict_ES.index.max() + 1] = [model] + list(dict_ES[dict_ES['Programming name'] == tech].iloc[0,1:])  # update technology dictionary Excel file with additional rows for mobility models\n",
    "                assumptions_diff.loc[assumptions_diff.index.max() + 1] = [model] + list(assumptions_diff[assumptions_diff.ES_name == tech].iloc[0,1:])  # update unit conversion Excel files with additional rows for mobility models\n",
    "                if tech in list(efficiency.ES_name.unique()):\n",
    "                    efficiency.loc[efficiency.index.max() + 1] = [model] + list(efficiency[efficiency.ES_name == tech].iloc[0,1:])  # update efficiency Excel files with additional rows for mobility models\n",
    "\n",
    "                if tech in comp_dict.keys():\n",
    "\n",
    "                    N_sub_comp = len(comp_dict[tech])\n",
    "                    subscript_comp_list = []\n",
    "\n",
    "                    for i, sub_comp in enumerate(comp_dict[tech]):\n",
    "                        subscript_comp = sub_comp.replace(tech, '')\n",
    "                        subscript_comp_list.append(subscript_comp)\n",
    "                        df_mobility_models.loc[df_mobility_models.index.max() + 1] = [model + subscript_comp] + list(tech_ecoinvent[tech_ecoinvent.ES_name == sub_comp].iloc[0,1:])  # construction component idx\n",
    "                        tech_unit_conversion.loc[tech_unit_conversion.index.max() + 1] = [model + subscript_comp] + list(tech_unit_conversion[tech_unit_conversion.ES_name == sub_comp].iloc[0,1:])  # update unit conversion Excel files\n",
    "                        assumptions_diff.loc[assumptions_diff.index.max() + 1] = [model + subscript_comp] + list(assumptions_diff[assumptions_diff.ES_name == sub_comp].iloc[0,1:])  # update unit conversion Excel files\n",
    "                        if sub_comp in list(efficiency.ES_name.unique()):\n",
    "                            efficiency.loc[efficiency.index.max() + 1] = [model + subscript_comp] + list(efficiency[efficiency.ES_name == sub_comp].iloc[0,1:])  # update efficiency Excel files\n",
    "\n",
    "                    comp.loc[comp.index.max() + 1] = [model] + [model + a for a in subscript_comp_list] + [np.nan] * (N_sub_comp_max - N_sub_comp) + [[model + a for a in subscript_comp_list]]  # update the compositions Excel files\n",
    "                    comp_dict[model] = [model + a for a in subscript_comp_list]\n",
    "\n",
    "                else:\n",
    "                    df_mobility_models.loc[idx + 1] = [model] + list(\n",
    "                        tech_ecoinvent[tech_ecoinvent.ES_name == tech].iloc[1, 1:])  # construction\n",
    "                j += 1\n",
    "                if j < df.shape[1]:\n",
    "                    model = str(df[df.Main_tech == tech][f'Model_{j}'].iloc[0])\n",
    "\n",
    "    return df_mobility_models"
   ],
   "outputs": [],
   "execution_count": 41
  },
  {
   "metadata": {
    "ExecuteTime": {
     "end_time": "2024-11-20T19:57:39.728662Z",
     "start_time": "2024-11-20T19:57:39.720496Z"
    }
   },
   "cell_type": "code",
   "source": [
    "if ES_region == 'CH':\n",
    "    mob_model_private = mob_model_private_CH\n",
    "elif ES_region == 'CA-QC':\n",
    "    mob_model_private = mob_model_private_QC\n",
    "    mob_model_public = mob_model_public_QC\n",
    "    mob_model_freight = mob_model_freight_QC\n",
    "else:\n",
    "    raise ValueError('ES_region should be either CH or CA-QC')"
   ],
   "outputs": [],
   "execution_count": 42
  },
  {
   "metadata": {
    "ExecuteTime": {
     "end_time": "2024-11-20T19:57:39.736895Z",
     "start_time": "2024-11-20T19:57:39.728662Z"
    }
   },
   "cell_type": "code",
   "source": [
    "if ES_region == 'CA-QC':\n",
    "    basic_tech_to_remove = list(mob_model_private.Main_tech) + list(mob_model_public.Main_tech) + list(mob_model_freight.Main_tech)\n",
    "else:\n",
    "    basic_tech_to_remove = list(mob_model_private.Main_tech)\n",
    "\n",
    "for tech in basic_tech_to_remove:\n",
    "    if tech in comp_dict.keys():  # add the subcomponents to the list of technologies to remove\n",
    "        for sub_comp in comp_dict[tech]:\n",
    "            basic_tech_to_remove.append(sub_comp)"
   ],
   "outputs": [],
   "execution_count": 43
  },
  {
   "metadata": {
    "ExecuteTime": {
     "end_time": "2024-11-20T19:57:39.993934Z",
     "start_time": "2024-11-20T19:57:39.736895Z"
    }
   },
   "cell_type": "code",
   "source": [
    "# Create df of mapping with mobility models\n",
    "df_mobility_models_private = gen_df_mob_models(mob_model_private)\n",
    "if ES_region == 'CA-QC':\n",
    "    df_mobility_models_public = gen_df_mob_models(mob_model_public)\n",
    "    df_mobility_models_freight = gen_df_mob_models(mob_model_freight)\n",
    "\n",
    "# Remove the mobility basic technologies\n",
    "tech_ecoinvent.drop(tech_ecoinvent[tech_ecoinvent.ES_name.isin(basic_tech_to_remove)].index, inplace=True)\n",
    "tech_unit_conversion.drop(tech_unit_conversion[tech_unit_conversion.ES_name.isin(basic_tech_to_remove)].index, inplace=True)\n",
    "comp.drop(comp[comp.ES_name.isin(basic_tech_to_remove)].index, inplace=True)\n",
    "assumptions_diff.drop(assumptions_diff[assumptions_diff.ES_name.isin(basic_tech_to_remove)].index, inplace=True)\n",
    "efficiency.drop(efficiency[efficiency.ES_name.isin(basic_tech_to_remove)].index, inplace=True)"
   ],
   "outputs": [],
   "execution_count": 44
  },
  {
   "metadata": {
    "ExecuteTime": {
     "end_time": "2024-11-20T19:57:40.003328Z",
     "start_time": "2024-11-20T19:57:39.993934Z"
    }
   },
   "cell_type": "code",
   "source": [
    "mob_model_comp = []  # list of components for mobility technologies composition (to remove)\n",
    "\n",
    "if ES_region == 'CH':\n",
    "    mob_tech_list = list(mob_model_private.Main_tech)\n",
    "else:\n",
    "    mob_tech_list = list(mob_model_private.Main_tech) + list(mob_model_public.Main_tech) + list(\n",
    "        mob_model_freight.Main_tech)\n",
    "\n",
    "for mob_tech in mob_tech_list:\n",
    "    if mob_tech in comp_dict.keys():\n",
    "        for sub_comp in comp_dict[mob_tech]:\n",
    "            mob_model_comp.append(sub_comp)\n",
    "    else:\n",
    "        pass\n",
    "\n",
    "tech_ecoinvent.drop(tech_ecoinvent[tech_ecoinvent.ES_name.isin(mob_model_comp)].index, inplace=True)"
   ],
   "outputs": [],
   "execution_count": 45
  },
  {
   "metadata": {
    "ExecuteTime": {
     "end_time": "2024-11-20T19:57:40.012534Z",
     "start_time": "2024-11-20T19:57:40.003328Z"
    }
   },
   "cell_type": "code",
   "source": [
    "# Concatenate the overall df's\n",
    "if ES_region == 'CH':\n",
    "    tech_ecoinvent = pd.concat([tech_ecoinvent,\n",
    "                                df_mobility_models_private])\n",
    "else:\n",
    "    tech_ecoinvent = pd.concat([tech_ecoinvent,\n",
    "                                df_mobility_models_private,\n",
    "                                df_mobility_models_public,\n",
    "                                df_mobility_models_freight])\n",
    "tech_ecoinvent = tech_ecoinvent.sort_values('ES_name').reset_index(drop=True)"
   ],
   "outputs": [],
   "execution_count": 46
  },
  {
   "metadata": {},
   "cell_type": "markdown",
   "source": "# Mapping file with both technologies and resources"
  },
  {
   "metadata": {
    "ExecuteTime": {
     "end_time": "2024-11-20T19:57:40.026201Z",
     "start_time": "2024-11-20T19:57:40.012534Z"
    }
   },
   "cell_type": "code",
   "source": [
    "res = pd.read_csv(f\"energyscope_data/CA-QC/hidden/res_ecoinvent_{ES_region[-2:]}.csv\")\n",
    "flows = pd.read_csv('energyscope_data/CA-QC/hidden/flows_ecoinvent.csv') "
   ],
   "outputs": [],
   "execution_count": 47
  },
  {
   "metadata": {
    "ExecuteTime": {
     "end_time": "2024-11-20T19:57:43.284855Z",
     "start_time": "2024-11-20T19:57:40.026201Z"
    }
   },
   "cell_type": "code",
   "source": "db_flows = Database(db_names=list(flows.Database.unique()))",
   "outputs": [
    {
     "name": "stdout",
     "output_type": "stream",
     "text": [
      "Loaded ecoinvent3.8 cut-off from pickle!\n",
      "Loaded biofuels from pickle!\n",
      "Loaded Carma CCS from pickle!\n"
     ]
    }
   ],
   "execution_count": 48
  },
  {
   "metadata": {
    "ExecuteTime": {
     "end_time": "2024-11-20T19:57:43.290964Z",
     "start_time": "2024-11-20T19:57:43.284855Z"
    }
   },
   "cell_type": "code",
   "source": "flows['Type'] = len(flows) * ['Flow']",
   "outputs": [],
   "execution_count": 49
  },
  {
   "metadata": {
    "ExecuteTime": {
     "end_time": "2024-11-20T19:57:43.297223Z",
     "start_time": "2024-11-20T19:57:43.290964Z"
    }
   },
   "cell_type": "code",
   "source": [
    "# Define the user-defined ranking (only ecoinvent regions, no IAMs)\n",
    "if ES_region == 'CA-QC':\n",
    "    my_ranking = [\n",
    "        'CA-QC',  # Quebec\n",
    "        'CA',  # Canada\n",
    "        'CA-ON',  # Other canadian provinces \n",
    "        'CA-AB',\n",
    "        'CA-BC',\n",
    "        'CA-MB',\n",
    "        'CA-NB',\n",
    "        'CA-NF',\n",
    "        'CA-NS',\n",
    "        'CA-NT',\n",
    "        'CA-NU',\n",
    "        'CA-PE',\n",
    "        'RNA',  # North America\n",
    "        'US',  # United States\n",
    "        'GLO',  # Global average \n",
    "        'RoW',  # Rest of the world\n",
    "    ]\n",
    "elif ES_region == 'CH':\n",
    "    my_ranking = [\n",
    "        'CH', \n",
    "        'RER', \n",
    "        'IAI Area, EU27 & EFTA',\n",
    "        'GLO',\n",
    "        'RoW'\n",
    "    ]\n",
    "else:\n",
    "    raise ValueError('ES_region should be either CH or CA-QC')"
   ],
   "outputs": [],
   "execution_count": 50
  },
  {
   "metadata": {
    "ExecuteTime": {
     "end_time": "2024-11-20T19:57:43.305812Z",
     "start_time": "2024-11-20T19:57:43.298898Z"
    }
   },
   "cell_type": "code",
   "source": [
    "esm = ESM(\n",
    "    mapping=flows,\n",
    "    locations_ranking=my_ranking,\n",
    "    esm_location=ES_region,\n",
    "    main_database=db_flows,\n",
    "    model=model,\n",
    "    unit_conversion=pd.DataFrame(),\n",
    "    mapping_esm_flows_to_CPC_cat=pd.DataFrame(),\n",
    "    esm_db_name='',\n",
    ")"
   ],
   "outputs": [],
   "execution_count": 51
  },
  {
   "metadata": {
    "ExecuteTime": {
     "end_time": "2024-11-20T19:57:44.383825Z",
     "start_time": "2024-11-20T19:57:43.305812Z"
    }
   },
   "cell_type": "code",
   "source": [
    "# flows = change_location_mapping_file(\n",
    "#     flows,\n",
    "#     my_ranking,\n",
    "#     db_flows,\n",
    "#     ES_region,\n",
    "# )\n",
    "esm.change_location_mapping_file()"
   ],
   "outputs": [],
   "execution_count": 52
  },
  {
   "metadata": {
    "ExecuteTime": {
     "end_time": "2024-11-20T19:57:44.395074Z",
     "start_time": "2024-11-20T19:57:44.384888Z"
    }
   },
   "cell_type": "code",
   "source": [
    "res.drop(columns=['Description'], inplace=True)\n",
    "res.dropna(subset=['product_name'], inplace=True)\n",
    "res['type'] = len(res) * ['Resource']\n",
    "mapping = pd.concat([tech_ecoinvent, res], ignore_index=True).rename(\n",
    "    columns={'ES_name': 'Name', 'type': 'Type', 'product_name': 'Product', 'activity_name': 'Activity', 'region': 'Location', 'unit': 'Unit', 'database': 'Database'})\n",
    "mapping = pd.concat([mapping, esm.mapping])"
   ],
   "outputs": [],
   "execution_count": 53
  },
  {
   "metadata": {},
   "cell_type": "markdown",
   "source": "## New premise names for mobility"
  },
  {
   "metadata": {
    "ExecuteTime": {
     "end_time": "2024-11-20T19:57:44.404177Z",
     "start_time": "2024-11-20T19:57:44.395074Z"
    }
   },
   "cell_type": "code",
   "source": [
    "def change_mobility_name(row):\n",
    "    # Remove year\n",
    "    if row.Name.startswith('LCV_') | row.Name.startswith('SEMI_SH_') | row.Name.startswith('TRUCK_SH_'):\n",
    "        pass # do not change carculator names\n",
    "    else:\n",
    "        row.Activity = row.Activity.replace(', 2020', '')\n",
    "\n",
    "    # Cars and SUVs inventories\n",
    "    row.Product = row.Product.replace('-TEMP', '')\n",
    "    row.Activity = row.Activity.replace('-TEMP', '')\n",
    "    row.Product = row.Product.replace('EURO-6d', 'EURO-6ab')\n",
    "    row.Activity = row.Activity.replace('EURO-6d', 'EURO-6ab')\n",
    "    \n",
    "    # Battery electric vehicles\n",
    "    if ('urban delivery' in row.Activity) | ('regional delivery' in row.Activity):\n",
    "        pass  # should not be applied to carculator datasets \n",
    "    else:\n",
    "        row.Activity = row.Activity.replace('NMC-622 battery, ', '')\n",
    "    \n",
    "    return row"
   ],
   "outputs": [],
   "execution_count": 54
  },
  {
   "metadata": {
    "ExecuteTime": {
     "end_time": "2024-11-20T19:57:44.487731Z",
     "start_time": "2024-11-20T19:57:44.404177Z"
    }
   },
   "cell_type": "code",
   "source": "mapping = mapping.apply(change_mobility_name, axis=1)",
   "outputs": [],
   "execution_count": 55
  },
  {
   "metadata": {},
   "cell_type": "markdown",
   "source": "## Adapting trucks to carculator names"
  },
  {
   "metadata": {
    "ExecuteTime": {
     "end_time": "2024-11-20T19:57:44.497050Z",
     "start_time": "2024-11-20T19:57:44.487731Z"
    }
   },
   "cell_type": "code",
   "source": [
    "def change_truck_name(row):\n",
    "    if row.Name.startswith('LCV_') | row.Name.startswith('SEMI_SH_') | row.Name.startswith('TRUCK_SH_'):\n",
    "        if row.Type == 'Operation':\n",
    "            row.Product = row.Product.replace('freight, lorry', 'truck')\n",
    "            row.Activity = row.Activity.replace('freight, lorry', 'truck')\n",
    "        \n",
    "        elif row.Type == 'Construction':\n",
    "            row.Product = row.Product.replace('Light duty ', '')\n",
    "            row.Activity = row.Activity.replace('Light duty ', '')\n",
    "            \n",
    "            row.Product = row.Product.replace('Medium duty ', '')\n",
    "            row.Activity = row.Activity.replace('Medium duty ', '')\n",
    "        \n",
    "        row.Product = row.Product.replace(' gross weight', '')\n",
    "        row.Activity = row.Activity.replace(' gross weight', '')\n",
    "        \n",
    "        row.Product = row.Product.replace('EURO-VI', 'Euro-6')\n",
    "        row.Activity = row.Activity.replace('EURO-VI', 'Euro-6')\n",
    "        \n",
    "        row.Location = row.Location.replace('RER', 'CH')\n",
    "        \n",
    "        if 'urban delivery' in row.Activity:\n",
    "            row.Database = row.Database.replace('lci-long_haul_trucks', 'urban delivery_truck')\n",
    "        elif 'regional delivery' in row.Activity:\n",
    "            row.Database = row.Database.replace('lci-long_haul_trucks', 'regional delivery_truck')\n",
    "        else:\n",
    "            raise ValueError('Truck type not recognized')\n",
    "        \n",
    "    return row"
   ],
   "outputs": [],
   "execution_count": 56
  },
  {
   "metadata": {
    "ExecuteTime": {
     "end_time": "2024-11-20T19:57:44.520565Z",
     "start_time": "2024-11-20T19:57:44.497050Z"
    }
   },
   "cell_type": "code",
   "source": "mapping = mapping.apply(change_truck_name, axis=1)",
   "outputs": [],
   "execution_count": 57
  },
  {
   "metadata": {},
   "cell_type": "markdown",
   "source": "## Filtering the mapping file"
  },
  {
   "metadata": {
    "ExecuteTime": {
     "end_time": "2024-11-20T19:57:44.529596Z",
     "start_time": "2024-11-20T19:57:44.520565Z"
    }
   },
   "cell_type": "code",
   "source": [
    "to_remove = [\n",
    "    # Removing NG and H2 transport LCI datasets (operation) to be fair with electricity transport technologies that have no operation LCI datasets either \n",
    "    ('HP_NG_GRID', 'Operation'), \n",
    "    ('EHP_NG_GRID', 'Operation'),\n",
    "    ('LP_NG_GRID', 'Operation'),\n",
    "    ('MP_NG_GRID', 'Operation'),\n",
    "    ('HP_H2_GRID', 'Operation'),\n",
    "    ('EHP_H2_GRID', 'Operation'),\n",
    "    ('LP_H2_GRID', 'Operation'),\n",
    "    ('MP_H2_GRID', 'Operation'),\n",
    "    \n",
    "    # Removed because not used in practice\n",
    "    ('H2_COMP_100', 'Construction'),\n",
    "    ('H2_COMP_100_350', 'Construction'),\n",
    "    ('H2_COMP_200', 'Construction'),\n",
    "    ('H2_COMP_200_350', 'Construction'),\n",
    "    ('H2_COMP_100', 'Operation'),\n",
    "    ('H2_COMP_100_350', 'Operation'),\n",
    "    ('H2_COMP_200', 'Operation'),\n",
    "    ('H2_COMP_200_350', 'Operation'),\n",
    "    ('AFC_OG', 'Construction'),\n",
    "    ('PAFC_OG', 'Construction'),\n",
    "    ('PEMFC_OG', 'Construction'),\n",
    "    ('SOFC_OG', 'Construction'),\n",
    "    ('AEC_OG', 'Construction'),\n",
    "    ('PEMEC_OG', 'Construction'),\n",
    "    ('SOEC_OG', 'Construction'),\n",
    "    ('AEC_OG', 'Construction'),\n",
    "    ('AFC_OG', 'Operation'),\n",
    "    ('PAFC_OG', 'Operation'),\n",
    "    ('PEMFC_OG', 'Operation'),\n",
    "    ('SOFC_OG', 'Operation'),\n",
    "    ('AEC_OG', 'Operation'),\n",
    "    ('PEMEC_OG', 'Operation'),\n",
    "    ('SOEC_OG', 'Operation'),\n",
    "    ('AEC_OG', 'Operation'),\n",
    "    ('NG_GEN', 'Construction'),\n",
    "    ('NG_GEN', 'Operation'),\n",
    "    ('DIESEL_GEN', 'Construction'),\n",
    "    ('DIESEL_GEN', 'Operation'),\n",
    "    ('H2_Haber_Bosch', 'Construction'),\n",
    "    ('H2_Haber_Bosch', 'Operation'),\n",
    "    ('DEC_DEEP_GEO', 'Construction'),\n",
    "    ('DEC_DEEP_GEO', 'Operation'),\n",
    "    ('BIOMASS_ETHANOL', 'Construction'),\n",
    "    ('BIOMASS_ETHANOL', 'Operation'),\n",
    "    \n",
    "    # Virtual technology\n",
    "    ('HYDRO_STORAGE', 'Construction'),\n",
    "    ('HYDRO_STORAGE', 'Operation'),\n",
    "]\n",
    "\n",
    "if ES_region == 'CH':\n",
    "    to_remove += [\n",
    "        ('PROPANE', 'Resource'),\n",
    "        ('BIO_DIESEL', 'Resource'),\n",
    "        ('BIO_DIESEL', 'Flow'),\n",
    "    ]\n",
    "elif ES_region == 'CA-QC':\n",
    "    to_remove += [\n",
    "        ('PV_EHV', 'Construction'),\n",
    "        ('PV_EHV', 'Operation'),\n",
    "    ]"
   ],
   "outputs": [],
   "execution_count": 58
  },
  {
   "metadata": {
    "ExecuteTime": {
     "end_time": "2024-11-20T19:57:44.539210Z",
     "start_time": "2024-11-20T19:57:44.529596Z"
    }
   },
   "cell_type": "code",
   "source": [
    "for i in range(len(to_remove)):\n",
    "    if to_remove[i][1] == 'Construction':\n",
    "        if to_remove[i][0] in list(comp.ES_name):\n",
    "            comp_list = comp[comp.ES_name == to_remove[i][0]].Components.iloc[0]\n",
    "            comp.drop(comp[comp.ES_name == to_remove[i][0]].index, inplace=True) # remove from composition file\n",
    "            for sub_comp in comp_list:\n",
    "                to_remove.append((sub_comp, 'Construction'))"
   ],
   "outputs": [],
   "execution_count": 59
  },
  {
   "metadata": {
    "ExecuteTime": {
     "end_time": "2024-11-20T19:57:44.554170Z",
     "start_time": "2024-11-20T19:57:44.539210Z"
    }
   },
   "cell_type": "code",
   "source": [
    "mapping.set_index(['Name', 'Type'], inplace=True)\n",
    "mapping = mapping[~mapping.index.isin(to_remove)]\n",
    "mapping.reset_index(inplace=True)"
   ],
   "outputs": [],
   "execution_count": 60
  },
  {
   "metadata": {
    "ExecuteTime": {
     "end_time": "2024-11-20T19:57:44.566408Z",
     "start_time": "2024-11-20T19:57:44.554170Z"
    }
   },
   "cell_type": "code",
   "source": "mapping.to_csv(f\"energyscope_data/{ES_region}/mapping_3.8.csv\", index=False)",
   "outputs": [],
   "execution_count": 61
  },
  {
   "metadata": {},
   "cell_type": "markdown",
   "source": "# Composition file"
  },
  {
   "metadata": {
    "ExecuteTime": {
     "end_time": "2024-11-20T19:57:44.576704Z",
     "start_time": "2024-11-20T19:57:44.566408Z"
    }
   },
   "cell_type": "code",
   "source": [
    "comp.rename(columns={'ES_name': 'Name'}, inplace=True)\n",
    "comp[['Name', 'Components']].to_csv(f\"energyscope_data/{ES_region}/technology_compositions.csv\", index=False)"
   ],
   "outputs": [],
   "execution_count": 62
  },
  {
   "metadata": {},
   "cell_type": "markdown",
   "source": "# Unit conversion and assumptions files"
  },
  {
   "metadata": {
    "ExecuteTime": {
     "end_time": "2024-11-20T19:57:44.723021Z",
     "start_time": "2024-11-20T19:57:44.576704Z"
    }
   },
   "cell_type": "code",
   "source": [
    "wb_res = load_workbook(filename='energyscope_data/CA-QC/hidden/res_unit_conversion.xlsx')\n",
    "res_unit_conversion = pd.DataFrame(wb_res[wb_res.sheetnames[0]].values)\n",
    "wb_other = load_workbook(filename='energyscope_data/CA-QC/hidden/other_unit_conversion.xlsx')\n",
    "other_unit_conversion = pd.DataFrame(wb_other[wb_other.sheetnames[0]].values)"
   ],
   "outputs": [],
   "execution_count": 63
  },
  {
   "metadata": {
    "ExecuteTime": {
     "end_time": "2024-11-20T19:57:44.730446Z",
     "start_time": "2024-11-20T19:57:44.724182Z"
    }
   },
   "cell_type": "code",
   "source": [
    "# setting first row as header\n",
    "new_header_res = res_unit_conversion.iloc[0]\n",
    "res_unit_conversion = res_unit_conversion[1:]\n",
    "res_unit_conversion.columns = new_header_res\n",
    "new_header_other = other_unit_conversion.iloc[0]\n",
    "other_unit_conversion = other_unit_conversion[1:]\n",
    "other_unit_conversion.columns = new_header_other"
   ],
   "outputs": [],
   "execution_count": 64
  },
  {
   "metadata": {
    "ExecuteTime": {
     "end_time": "2024-11-20T19:57:44.737722Z",
     "start_time": "2024-11-20T19:57:44.730446Z"
    }
   },
   "cell_type": "code",
   "source": [
    "res_unit_conversion = res_unit_conversion[['ES_name', 'conversion', 'ei_unit', 'ES_unit', 'Assumptions & Sources']]\n",
    "other_unit_conversion = other_unit_conversion[['Name', 'Value', 'Type', 'ESM', 'LCA', 'Assumptions & Sources']]"
   ],
   "outputs": [],
   "execution_count": 65
  },
  {
   "metadata": {
    "ExecuteTime": {
     "end_time": "2024-11-20T19:57:44.746730Z",
     "start_time": "2024-11-20T19:57:44.737722Z"
    }
   },
   "cell_type": "code",
   "source": [
    "# drop rows with no value\n",
    "res_unit_conversion.dropna(subset=['conversion'], inplace=True)\n",
    "other_unit_conversion.dropna(subset=['Value'], inplace=True)"
   ],
   "outputs": [],
   "execution_count": 66
  },
  {
   "metadata": {
    "ExecuteTime": {
     "end_time": "2024-11-20T19:57:44.753235Z",
     "start_time": "2024-11-20T19:57:44.746730Z"
    }
   },
   "cell_type": "code",
   "source": [
    "# res_unit_conversion = pd.read_excel(\"energyscope_data/CA-QC/hidden/res_unit_conversion.xlsx\")\n",
    "# other_unit_conversion = pd.read_excel(\"energyscope_data/CA-QC/hidden/other_unit_conversion.xlsx\")\n",
    "lifetime = assumptions_diff.copy(deep=True)"
   ],
   "outputs": [],
   "execution_count": 67
  },
  {
   "metadata": {
    "ExecuteTime": {
     "end_time": "2024-11-20T19:57:44.767487Z",
     "start_time": "2024-11-20T19:57:44.753235Z"
    }
   },
   "cell_type": "code",
   "source": [
    "tech_unit_conversion_melted = tech_unit_conversion[['ES_name', 'capacity', 'conversion', 'ei_constr_unit', 'ES_constr_unit', 'ei_use_unit', 'ES_use_unit', 'Assumptions & Sources']].rename(columns={'ES_name': 'Name', 'capacity': 'Construction', 'conversion': 'Operation'}\n",
    ").melt(\n",
    "    id_vars='Name',\n",
    "    value_vars=['Construction', 'Operation'],\n",
    "    var_name='Type',\n",
    "    value_name='Value'\n",
    ").sort_values('Name').dropna(subset='Value')"
   ],
   "outputs": [],
   "execution_count": 68
  },
  {
   "metadata": {
    "ExecuteTime": {
     "end_time": "2024-11-20T19:57:44.785241Z",
     "start_time": "2024-11-20T19:57:44.767487Z"
    }
   },
   "cell_type": "code",
   "source": [
    "tech_unit_conversion_melted_constr = tech_unit_conversion_melted[tech_unit_conversion_melted.Type == 'Construction']\n",
    "tech_unit_conversion_melted_op = tech_unit_conversion_melted[tech_unit_conversion_melted.Type == 'Operation']\n",
    "tech_unit_conversion_melted_constr = tech_unit_conversion_melted_constr.merge(tech_unit_conversion[['ES_name', 'ei_constr_unit', 'ES_constr_unit', 'Assumptions & Sources']], left_on='Name', right_on='ES_name').rename(columns={'ei_constr_unit': 'LCA', 'ES_constr_unit': 'ESM'}).drop(columns='ES_name')\n",
    "tech_unit_conversion_melted_op = tech_unit_conversion_melted_op.merge(tech_unit_conversion[['ES_name', 'ei_use_unit', 'ES_use_unit', 'Assumptions & Sources']], left_on='Name', right_on='ES_name').rename(columns={'ei_use_unit': 'LCA', 'ES_use_unit': 'ESM'}).drop(columns='ES_name')\n",
    "tech_unit_conversion_melted = pd.concat([tech_unit_conversion_melted_constr, tech_unit_conversion_melted_op], ignore_index=True).sort_values('Name')"
   ],
   "outputs": [],
   "execution_count": 69
  },
  {
   "metadata": {
    "ExecuteTime": {
     "end_time": "2024-11-20T19:57:44.794632Z",
     "start_time": "2024-11-20T19:57:44.785241Z"
    }
   },
   "cell_type": "code",
   "source": [
    "res_unit_conversion_melted = res_unit_conversion[['ES_name', 'conversion', 'ei_unit', 'ES_unit', 'Assumptions & Sources']].rename(columns={'ES_name': 'Name', 'conversion': 'Resource'}\n",
    ").melt(\n",
    "    id_vars='Name', \n",
    "    value_vars=['Resource'],\n",
    "    var_name='Type', \n",
    "    value_name='Value'\n",
    ").sort_values('Name').dropna(subset='Value')"
   ],
   "outputs": [],
   "execution_count": 70
  },
  {
   "metadata": {
    "ExecuteTime": {
     "end_time": "2024-11-20T19:57:44.803972Z",
     "start_time": "2024-11-20T19:57:44.794632Z"
    }
   },
   "cell_type": "code",
   "source": "res_unit_conversion_melted = res_unit_conversion_melted.merge(res_unit_conversion[['ES_name', 'ei_unit', 'ES_unit', 'Assumptions & Sources']], left_on='Name', right_on='ES_name').rename(columns={'ei_unit': 'LCA', 'ES_unit': 'ESM'}).drop(columns='ES_name')",
   "outputs": [],
   "execution_count": 71
  },
  {
   "metadata": {
    "ExecuteTime": {
     "end_time": "2024-11-20T19:57:44.821179Z",
     "start_time": "2024-11-20T19:57:44.803972Z"
    }
   },
   "cell_type": "code",
   "source": "res_unit_conversion_melted",
   "outputs": [
    {
     "data": {
      "text/plain": [
       "               Name      Type                               Value  LCA  ESM  \\\n",
       "0       ACETIC_ACID  Resource              =1000000 * 3.6 / 14.55   kg  GWh   \n",
       "1           ACETONE  Resource                     =1000000 / 8.22   kg  GWh   \n",
       "2           BENZENE  Resource               =1000000 * 3.6 / 42.5   kg  GWh   \n",
       "3        BIO_DIESEL  Resource                     =1000000 / 10.5   kg  GWh   \n",
       "4              COAL  Resource              =1000000 * 3.6 / 27.91   kg  GWh   \n",
       "5            DIESEL  Resource                    =1000000 / 11.83   kg  GWh   \n",
       "6   ELECTRICITY_EHV  Resource                            =1000000  kWh  GWh   \n",
       "7       ELEC_EXPORT  Resource                       =-1 * 1000000  kWh  GWh   \n",
       "8            ETHANE  Resource                    =1000000 / 13.28   kg  GWh   \n",
       "9           ETHANOL  Resource              =1000000 * 3.6 / 31.58   kg  GWh   \n",
       "10     ETHYLBENZENE  Resource             =1000000 * 3.6 / 40.938   kg  GWh   \n",
       "11         ETHYLENE  Resource             =1000000 * 3.6 / 50.285   kg  GWh   \n",
       "12         GASOLINE  Resource               =1000000 * 3.6 / 42.5   kg  GWh   \n",
       "13           H2_EHP  Resource                     =1000000 / 33.3   kg  GWh   \n",
       "14            H2_HP  Resource                     =1000000 / 33.3   kg  GWh   \n",
       "15            H2_LP  Resource                     =1000000 / 33.3   kg  GWh   \n",
       "16            H2_MP  Resource                     =1000000 / 33.3   kg  GWh   \n",
       "17          JETFUEL  Resource                 =1000000 * 3.6 / 43   kg  GWh   \n",
       "18              LFO  Resource               =1000000 * 3.6 / 42.6   kg  GWh   \n",
       "19              LNG  Resource                 =1000000 * 3.6 / 39   m3  GWh   \n",
       "20         METHANOL  Resource                     =1000000 / 5.54   kg  GWh   \n",
       "21           NG_EHP  Resource                 =1000000 * 3.6 / 39   m3  GWh   \n",
       "22            NG_HP  Resource           =1000000 / (0.777 * 13.1)   m3  GWh   \n",
       "23            NG_LP  Resource           =1000000 / (0.777 * 13.1)   m3  GWh   \n",
       "24            NG_MP  Resource               =1000000 * 3.6 / 46.5   kg  GWh   \n",
       "25               PE  Resource                            =1000000   kg   kt   \n",
       "26              PET  Resource                            =1000000   kg   kt   \n",
       "27           PHENOL  Resource              =1000000 * 3.6 / 32.45   kg  GWh   \n",
       "28               PP  Resource                            =1000000   kg   kt   \n",
       "29          PROPANE  Resource               =1000000 * 3.6 / 46.4   kg  GWh   \n",
       "30        PROPYLENE  Resource             =1000000 * 3.6 / 45.799   kg  GWh   \n",
       "31               PS  Resource                            =1000000   kg   kt   \n",
       "32              PVC  Resource                            =1000000   kg   kt   \n",
       "33              SNG  Resource           =1000000 / (0.777 * 13.1)   m3  GWh   \n",
       "34          STYRENE  Resource                            =1000000   kg   kt   \n",
       "35          TOLUENE  Resource              =1000000 * 3.6 / 42.43   kg  GWh   \n",
       "36          URANIUM  Resource        =1000000 * 3.6 / (3900*1000)   kg  GWh   \n",
       "37            WASTE  Resource         =-1 * 1000000 * 3.6 / 12.35   kg  GWh   \n",
       "38        WASTE_BIO  Resource  =-1 * 1000000 * 3.6 / (6.087*0.95)   kg  GWh   \n",
       "39        WASTE_FOS  Resource         =-1 * 1000000 * 3.6 / 2.453   kg  GWh   \n",
       "40      WET_BIOMASS  Resource              =1000000 * 3.6 / 8.279   kg  GWh   \n",
       "41             WOOD  Resource               =1000000 * 3.6 / 15.4   kg  GWh   \n",
       "42           XYLENE  Resource             =1000000 * 3.6 / 40.961   kg  GWh   \n",
       "\n",
       "                                Assumptions & Sources  \n",
       "0   acetic acid heat of combustion (14.55 MJ/kg): ...  \n",
       "1   Acetone LHV (8.22 kWh/kg): \\cite{engineeringto...  \n",
       "2   Benzene heat of combustion (42.5 MJ/kg): \\cite...  \n",
       "3   Biodiesel LHV (10.50 kWh/kg): \\cite{engineerin...  \n",
       "4   Bituminous coal LHV (27.91 MJ/kg): \\cite{werne...  \n",
       "5   Diesel LHV (11.83 kWh/kg): \\cite{engineeringto...  \n",
       "6                                                None  \n",
       "7           Impacts of exports are counted negatively  \n",
       "8   Ethane LHV (13.28 kWh/kg): \\cite{engineeringto...  \n",
       "9        Ethanol LHV (31.58 MJ/kg): \\cite{wernet2016}  \n",
       "10  Ethylbenzene LHV (40.938 MJ/kg): \\cite{wikiped...  \n",
       "11  Ethylene heat of combustion (50.285 MJ/kg): \\c...  \n",
       "12       LHV gasoline (42.5 MJ/kg): \\cite{wernet2016}  \n",
       "13  hydrogen LHV (33.3 kWh/kg): \\cite{engineeringt...  \n",
       "14  hydrogen LHV (33.3 kWh/kg): \\cite{engineeringt...  \n",
       "15  hydrogen LHV (33.3 kWh/kg): \\cite{engineeringt...  \n",
       "16  hydrogen LHV (33.3 kWh/kg): \\cite{engineeringt...  \n",
       "17         jet fuels LHV (43 MJ/kg): \\cite{boehm2022}  \n",
       "18  Light fuel oil LHV (42.6 MJ/kg): \\cite{enginee...  \n",
       "19  liquified natural gas LHV (39 MJ/m3): \\cite{we...  \n",
       "20  LHV methanol (5.54 kWh/kg): \\cite{engineeringt...  \n",
       "21      natural gas LHV (39 MJ/m3): \\cite{wernet2016}  \n",
       "22      natural gas LHV (39 MJ/m3): \\cite{wernet2016}  \n",
       "23      natural gas LHV (39 MJ/m3): \\cite{wernet2016}  \n",
       "24    natural gas LHV (46.5 MJ/kg): \\cite{wernet2016}  \n",
       "25                                               None  \n",
       "26                                               None  \n",
       "27  phenol heat of combustion (32.45 MJ/kg): \\cite...  \n",
       "28                                               None  \n",
       "29  Propane LHV (46.4 MJ/kg): \\cite{engineeringtoo...  \n",
       "30  Propylene LHV (45.799 MJ/kg): \\cite{wikipedia2...  \n",
       "31                                               None  \n",
       "32                                               None  \n",
       "33  natural gas LHV (13.1 kWh/kg), natural gas den...  \n",
       "34                                               None  \n",
       "35  Toluene heat of combustion (42.43 MJ/kg): \\cit...  \n",
       "36  Nuclear fuel heat value (3900 GJ/kg) \\cite{wor...  \n",
       "37  Municipal solid waste LHV (12.35 MJ/kg): \\cite...  \n",
       "38  Biowaste HHV (6.087 MJ/kg): \\cite{wernet2016},...  \n",
       "39  Refinery sludge LHV (2.453 MJ/kg): \\cite{werne...  \n",
       "40       LHV wet wood (8.279 MJ/kg): \\cite{moret2017}  \n",
       "41  LHV wood (15.4 MJ/kg): \\cite{engineeringtoolbo...  \n",
       "42    Xylene LHV (40.961 MJ/kg): \\cite{wikipedia2023}  "
      ],
      "text/html": [
       "<div>\n",
       "<style scoped>\n",
       "    .dataframe tbody tr th:only-of-type {\n",
       "        vertical-align: middle;\n",
       "    }\n",
       "\n",
       "    .dataframe tbody tr th {\n",
       "        vertical-align: top;\n",
       "    }\n",
       "\n",
       "    .dataframe thead th {\n",
       "        text-align: right;\n",
       "    }\n",
       "</style>\n",
       "<table border=\"1\" class=\"dataframe\">\n",
       "  <thead>\n",
       "    <tr style=\"text-align: right;\">\n",
       "      <th></th>\n",
       "      <th>Name</th>\n",
       "      <th>Type</th>\n",
       "      <th>Value</th>\n",
       "      <th>LCA</th>\n",
       "      <th>ESM</th>\n",
       "      <th>Assumptions &amp; Sources</th>\n",
       "    </tr>\n",
       "  </thead>\n",
       "  <tbody>\n",
       "    <tr>\n",
       "      <th>0</th>\n",
       "      <td>ACETIC_ACID</td>\n",
       "      <td>Resource</td>\n",
       "      <td>=1000000 * 3.6 / 14.55</td>\n",
       "      <td>kg</td>\n",
       "      <td>GWh</td>\n",
       "      <td>acetic acid heat of combustion (14.55 MJ/kg): ...</td>\n",
       "    </tr>\n",
       "    <tr>\n",
       "      <th>1</th>\n",
       "      <td>ACETONE</td>\n",
       "      <td>Resource</td>\n",
       "      <td>=1000000 / 8.22</td>\n",
       "      <td>kg</td>\n",
       "      <td>GWh</td>\n",
       "      <td>Acetone LHV (8.22 kWh/kg): \\cite{engineeringto...</td>\n",
       "    </tr>\n",
       "    <tr>\n",
       "      <th>2</th>\n",
       "      <td>BENZENE</td>\n",
       "      <td>Resource</td>\n",
       "      <td>=1000000 * 3.6 / 42.5</td>\n",
       "      <td>kg</td>\n",
       "      <td>GWh</td>\n",
       "      <td>Benzene heat of combustion (42.5 MJ/kg): \\cite...</td>\n",
       "    </tr>\n",
       "    <tr>\n",
       "      <th>3</th>\n",
       "      <td>BIO_DIESEL</td>\n",
       "      <td>Resource</td>\n",
       "      <td>=1000000 / 10.5</td>\n",
       "      <td>kg</td>\n",
       "      <td>GWh</td>\n",
       "      <td>Biodiesel LHV (10.50 kWh/kg): \\cite{engineerin...</td>\n",
       "    </tr>\n",
       "    <tr>\n",
       "      <th>4</th>\n",
       "      <td>COAL</td>\n",
       "      <td>Resource</td>\n",
       "      <td>=1000000 * 3.6 / 27.91</td>\n",
       "      <td>kg</td>\n",
       "      <td>GWh</td>\n",
       "      <td>Bituminous coal LHV (27.91 MJ/kg): \\cite{werne...</td>\n",
       "    </tr>\n",
       "    <tr>\n",
       "      <th>5</th>\n",
       "      <td>DIESEL</td>\n",
       "      <td>Resource</td>\n",
       "      <td>=1000000 / 11.83</td>\n",
       "      <td>kg</td>\n",
       "      <td>GWh</td>\n",
       "      <td>Diesel LHV (11.83 kWh/kg): \\cite{engineeringto...</td>\n",
       "    </tr>\n",
       "    <tr>\n",
       "      <th>6</th>\n",
       "      <td>ELECTRICITY_EHV</td>\n",
       "      <td>Resource</td>\n",
       "      <td>=1000000</td>\n",
       "      <td>kWh</td>\n",
       "      <td>GWh</td>\n",
       "      <td>None</td>\n",
       "    </tr>\n",
       "    <tr>\n",
       "      <th>7</th>\n",
       "      <td>ELEC_EXPORT</td>\n",
       "      <td>Resource</td>\n",
       "      <td>=-1 * 1000000</td>\n",
       "      <td>kWh</td>\n",
       "      <td>GWh</td>\n",
       "      <td>Impacts of exports are counted negatively</td>\n",
       "    </tr>\n",
       "    <tr>\n",
       "      <th>8</th>\n",
       "      <td>ETHANE</td>\n",
       "      <td>Resource</td>\n",
       "      <td>=1000000 / 13.28</td>\n",
       "      <td>kg</td>\n",
       "      <td>GWh</td>\n",
       "      <td>Ethane LHV (13.28 kWh/kg): \\cite{engineeringto...</td>\n",
       "    </tr>\n",
       "    <tr>\n",
       "      <th>9</th>\n",
       "      <td>ETHANOL</td>\n",
       "      <td>Resource</td>\n",
       "      <td>=1000000 * 3.6 / 31.58</td>\n",
       "      <td>kg</td>\n",
       "      <td>GWh</td>\n",
       "      <td>Ethanol LHV (31.58 MJ/kg): \\cite{wernet2016}</td>\n",
       "    </tr>\n",
       "    <tr>\n",
       "      <th>10</th>\n",
       "      <td>ETHYLBENZENE</td>\n",
       "      <td>Resource</td>\n",
       "      <td>=1000000 * 3.6 / 40.938</td>\n",
       "      <td>kg</td>\n",
       "      <td>GWh</td>\n",
       "      <td>Ethylbenzene LHV (40.938 MJ/kg): \\cite{wikiped...</td>\n",
       "    </tr>\n",
       "    <tr>\n",
       "      <th>11</th>\n",
       "      <td>ETHYLENE</td>\n",
       "      <td>Resource</td>\n",
       "      <td>=1000000 * 3.6 / 50.285</td>\n",
       "      <td>kg</td>\n",
       "      <td>GWh</td>\n",
       "      <td>Ethylene heat of combustion (50.285 MJ/kg): \\c...</td>\n",
       "    </tr>\n",
       "    <tr>\n",
       "      <th>12</th>\n",
       "      <td>GASOLINE</td>\n",
       "      <td>Resource</td>\n",
       "      <td>=1000000 * 3.6 / 42.5</td>\n",
       "      <td>kg</td>\n",
       "      <td>GWh</td>\n",
       "      <td>LHV gasoline (42.5 MJ/kg): \\cite{wernet2016}</td>\n",
       "    </tr>\n",
       "    <tr>\n",
       "      <th>13</th>\n",
       "      <td>H2_EHP</td>\n",
       "      <td>Resource</td>\n",
       "      <td>=1000000 / 33.3</td>\n",
       "      <td>kg</td>\n",
       "      <td>GWh</td>\n",
       "      <td>hydrogen LHV (33.3 kWh/kg): \\cite{engineeringt...</td>\n",
       "    </tr>\n",
       "    <tr>\n",
       "      <th>14</th>\n",
       "      <td>H2_HP</td>\n",
       "      <td>Resource</td>\n",
       "      <td>=1000000 / 33.3</td>\n",
       "      <td>kg</td>\n",
       "      <td>GWh</td>\n",
       "      <td>hydrogen LHV (33.3 kWh/kg): \\cite{engineeringt...</td>\n",
       "    </tr>\n",
       "    <tr>\n",
       "      <th>15</th>\n",
       "      <td>H2_LP</td>\n",
       "      <td>Resource</td>\n",
       "      <td>=1000000 / 33.3</td>\n",
       "      <td>kg</td>\n",
       "      <td>GWh</td>\n",
       "      <td>hydrogen LHV (33.3 kWh/kg): \\cite{engineeringt...</td>\n",
       "    </tr>\n",
       "    <tr>\n",
       "      <th>16</th>\n",
       "      <td>H2_MP</td>\n",
       "      <td>Resource</td>\n",
       "      <td>=1000000 / 33.3</td>\n",
       "      <td>kg</td>\n",
       "      <td>GWh</td>\n",
       "      <td>hydrogen LHV (33.3 kWh/kg): \\cite{engineeringt...</td>\n",
       "    </tr>\n",
       "    <tr>\n",
       "      <th>17</th>\n",
       "      <td>JETFUEL</td>\n",
       "      <td>Resource</td>\n",
       "      <td>=1000000 * 3.6 / 43</td>\n",
       "      <td>kg</td>\n",
       "      <td>GWh</td>\n",
       "      <td>jet fuels LHV (43 MJ/kg): \\cite{boehm2022}</td>\n",
       "    </tr>\n",
       "    <tr>\n",
       "      <th>18</th>\n",
       "      <td>LFO</td>\n",
       "      <td>Resource</td>\n",
       "      <td>=1000000 * 3.6 / 42.6</td>\n",
       "      <td>kg</td>\n",
       "      <td>GWh</td>\n",
       "      <td>Light fuel oil LHV (42.6 MJ/kg): \\cite{enginee...</td>\n",
       "    </tr>\n",
       "    <tr>\n",
       "      <th>19</th>\n",
       "      <td>LNG</td>\n",
       "      <td>Resource</td>\n",
       "      <td>=1000000 * 3.6 / 39</td>\n",
       "      <td>m3</td>\n",
       "      <td>GWh</td>\n",
       "      <td>liquified natural gas LHV (39 MJ/m3): \\cite{we...</td>\n",
       "    </tr>\n",
       "    <tr>\n",
       "      <th>20</th>\n",
       "      <td>METHANOL</td>\n",
       "      <td>Resource</td>\n",
       "      <td>=1000000 / 5.54</td>\n",
       "      <td>kg</td>\n",
       "      <td>GWh</td>\n",
       "      <td>LHV methanol (5.54 kWh/kg): \\cite{engineeringt...</td>\n",
       "    </tr>\n",
       "    <tr>\n",
       "      <th>21</th>\n",
       "      <td>NG_EHP</td>\n",
       "      <td>Resource</td>\n",
       "      <td>=1000000 * 3.6 / 39</td>\n",
       "      <td>m3</td>\n",
       "      <td>GWh</td>\n",
       "      <td>natural gas LHV (39 MJ/m3): \\cite{wernet2016}</td>\n",
       "    </tr>\n",
       "    <tr>\n",
       "      <th>22</th>\n",
       "      <td>NG_HP</td>\n",
       "      <td>Resource</td>\n",
       "      <td>=1000000 / (0.777 * 13.1)</td>\n",
       "      <td>m3</td>\n",
       "      <td>GWh</td>\n",
       "      <td>natural gas LHV (39 MJ/m3): \\cite{wernet2016}</td>\n",
       "    </tr>\n",
       "    <tr>\n",
       "      <th>23</th>\n",
       "      <td>NG_LP</td>\n",
       "      <td>Resource</td>\n",
       "      <td>=1000000 / (0.777 * 13.1)</td>\n",
       "      <td>m3</td>\n",
       "      <td>GWh</td>\n",
       "      <td>natural gas LHV (39 MJ/m3): \\cite{wernet2016}</td>\n",
       "    </tr>\n",
       "    <tr>\n",
       "      <th>24</th>\n",
       "      <td>NG_MP</td>\n",
       "      <td>Resource</td>\n",
       "      <td>=1000000 * 3.6 / 46.5</td>\n",
       "      <td>kg</td>\n",
       "      <td>GWh</td>\n",
       "      <td>natural gas LHV (46.5 MJ/kg): \\cite{wernet2016}</td>\n",
       "    </tr>\n",
       "    <tr>\n",
       "      <th>25</th>\n",
       "      <td>PE</td>\n",
       "      <td>Resource</td>\n",
       "      <td>=1000000</td>\n",
       "      <td>kg</td>\n",
       "      <td>kt</td>\n",
       "      <td>None</td>\n",
       "    </tr>\n",
       "    <tr>\n",
       "      <th>26</th>\n",
       "      <td>PET</td>\n",
       "      <td>Resource</td>\n",
       "      <td>=1000000</td>\n",
       "      <td>kg</td>\n",
       "      <td>kt</td>\n",
       "      <td>None</td>\n",
       "    </tr>\n",
       "    <tr>\n",
       "      <th>27</th>\n",
       "      <td>PHENOL</td>\n",
       "      <td>Resource</td>\n",
       "      <td>=1000000 * 3.6 / 32.45</td>\n",
       "      <td>kg</td>\n",
       "      <td>GWh</td>\n",
       "      <td>phenol heat of combustion (32.45 MJ/kg): \\cite...</td>\n",
       "    </tr>\n",
       "    <tr>\n",
       "      <th>28</th>\n",
       "      <td>PP</td>\n",
       "      <td>Resource</td>\n",
       "      <td>=1000000</td>\n",
       "      <td>kg</td>\n",
       "      <td>kt</td>\n",
       "      <td>None</td>\n",
       "    </tr>\n",
       "    <tr>\n",
       "      <th>29</th>\n",
       "      <td>PROPANE</td>\n",
       "      <td>Resource</td>\n",
       "      <td>=1000000 * 3.6 / 46.4</td>\n",
       "      <td>kg</td>\n",
       "      <td>GWh</td>\n",
       "      <td>Propane LHV (46.4 MJ/kg): \\cite{engineeringtoo...</td>\n",
       "    </tr>\n",
       "    <tr>\n",
       "      <th>30</th>\n",
       "      <td>PROPYLENE</td>\n",
       "      <td>Resource</td>\n",
       "      <td>=1000000 * 3.6 / 45.799</td>\n",
       "      <td>kg</td>\n",
       "      <td>GWh</td>\n",
       "      <td>Propylene LHV (45.799 MJ/kg): \\cite{wikipedia2...</td>\n",
       "    </tr>\n",
       "    <tr>\n",
       "      <th>31</th>\n",
       "      <td>PS</td>\n",
       "      <td>Resource</td>\n",
       "      <td>=1000000</td>\n",
       "      <td>kg</td>\n",
       "      <td>kt</td>\n",
       "      <td>None</td>\n",
       "    </tr>\n",
       "    <tr>\n",
       "      <th>32</th>\n",
       "      <td>PVC</td>\n",
       "      <td>Resource</td>\n",
       "      <td>=1000000</td>\n",
       "      <td>kg</td>\n",
       "      <td>kt</td>\n",
       "      <td>None</td>\n",
       "    </tr>\n",
       "    <tr>\n",
       "      <th>33</th>\n",
       "      <td>SNG</td>\n",
       "      <td>Resource</td>\n",
       "      <td>=1000000 / (0.777 * 13.1)</td>\n",
       "      <td>m3</td>\n",
       "      <td>GWh</td>\n",
       "      <td>natural gas LHV (13.1 kWh/kg), natural gas den...</td>\n",
       "    </tr>\n",
       "    <tr>\n",
       "      <th>34</th>\n",
       "      <td>STYRENE</td>\n",
       "      <td>Resource</td>\n",
       "      <td>=1000000</td>\n",
       "      <td>kg</td>\n",
       "      <td>kt</td>\n",
       "      <td>None</td>\n",
       "    </tr>\n",
       "    <tr>\n",
       "      <th>35</th>\n",
       "      <td>TOLUENE</td>\n",
       "      <td>Resource</td>\n",
       "      <td>=1000000 * 3.6 / 42.43</td>\n",
       "      <td>kg</td>\n",
       "      <td>GWh</td>\n",
       "      <td>Toluene heat of combustion (42.43 MJ/kg): \\cit...</td>\n",
       "    </tr>\n",
       "    <tr>\n",
       "      <th>36</th>\n",
       "      <td>URANIUM</td>\n",
       "      <td>Resource</td>\n",
       "      <td>=1000000 * 3.6 / (3900*1000)</td>\n",
       "      <td>kg</td>\n",
       "      <td>GWh</td>\n",
       "      <td>Nuclear fuel heat value (3900 GJ/kg) \\cite{wor...</td>\n",
       "    </tr>\n",
       "    <tr>\n",
       "      <th>37</th>\n",
       "      <td>WASTE</td>\n",
       "      <td>Resource</td>\n",
       "      <td>=-1 * 1000000 * 3.6 / 12.35</td>\n",
       "      <td>kg</td>\n",
       "      <td>GWh</td>\n",
       "      <td>Municipal solid waste LHV (12.35 MJ/kg): \\cite...</td>\n",
       "    </tr>\n",
       "    <tr>\n",
       "      <th>38</th>\n",
       "      <td>WASTE_BIO</td>\n",
       "      <td>Resource</td>\n",
       "      <td>=-1 * 1000000 * 3.6 / (6.087*0.95)</td>\n",
       "      <td>kg</td>\n",
       "      <td>GWh</td>\n",
       "      <td>Biowaste HHV (6.087 MJ/kg): \\cite{wernet2016},...</td>\n",
       "    </tr>\n",
       "    <tr>\n",
       "      <th>39</th>\n",
       "      <td>WASTE_FOS</td>\n",
       "      <td>Resource</td>\n",
       "      <td>=-1 * 1000000 * 3.6 / 2.453</td>\n",
       "      <td>kg</td>\n",
       "      <td>GWh</td>\n",
       "      <td>Refinery sludge LHV (2.453 MJ/kg): \\cite{werne...</td>\n",
       "    </tr>\n",
       "    <tr>\n",
       "      <th>40</th>\n",
       "      <td>WET_BIOMASS</td>\n",
       "      <td>Resource</td>\n",
       "      <td>=1000000 * 3.6 / 8.279</td>\n",
       "      <td>kg</td>\n",
       "      <td>GWh</td>\n",
       "      <td>LHV wet wood (8.279 MJ/kg): \\cite{moret2017}</td>\n",
       "    </tr>\n",
       "    <tr>\n",
       "      <th>41</th>\n",
       "      <td>WOOD</td>\n",
       "      <td>Resource</td>\n",
       "      <td>=1000000 * 3.6 / 15.4</td>\n",
       "      <td>kg</td>\n",
       "      <td>GWh</td>\n",
       "      <td>LHV wood (15.4 MJ/kg): \\cite{engineeringtoolbo...</td>\n",
       "    </tr>\n",
       "    <tr>\n",
       "      <th>42</th>\n",
       "      <td>XYLENE</td>\n",
       "      <td>Resource</td>\n",
       "      <td>=1000000 * 3.6 / 40.961</td>\n",
       "      <td>kg</td>\n",
       "      <td>GWh</td>\n",
       "      <td>Xylene LHV (40.961 MJ/kg): \\cite{wikipedia2023}</td>\n",
       "    </tr>\n",
       "  </tbody>\n",
       "</table>\n",
       "</div>"
      ]
     },
     "execution_count": 72,
     "metadata": {},
     "output_type": "execute_result"
    }
   ],
   "execution_count": 72
  },
  {
   "metadata": {
    "ExecuteTime": {
     "end_time": "2024-11-20T19:57:44.830072Z",
     "start_time": "2024-11-20T19:57:44.821179Z"
    }
   },
   "cell_type": "code",
   "source": [
    "unit_conversion = pd.concat([tech_unit_conversion_melted, \n",
    "                             res_unit_conversion_melted, \n",
    "                             other_unit_conversion[['Name', 'Value', 'Type', 'ESM', 'LCA', 'Assumptions & Sources']],\n",
    "                             ], ignore_index=True).sort_values('Name')"
   ],
   "outputs": [],
   "execution_count": 73
  },
  {
   "metadata": {
    "ExecuteTime": {
     "end_time": "2024-11-20T19:57:44.840184Z",
     "start_time": "2024-11-20T19:57:44.830072Z"
    }
   },
   "cell_type": "code",
   "source": [
    "def change_unit_convention(row):\n",
    "    \n",
    "    if row.ESM in ['GWh', 'kt', 'Mpkm', 'Mtkm', 'GW', 'kt/h', 'Mtkm/h', 'Mpkm/h']:\n",
    "        if type(row.Value) is float:\n",
    "            row.Value /= 1e6\n",
    "        elif type(row.Value) is str:\n",
    "            if row.Value.startswith('= 1000000') or row.Value.startswith('=1000000'):\n",
    "                row.Value = row.Value.replace('1000000', '1', 1)  # first occurrence only\n",
    "            elif row.Value.startswith('= 1000') or row.Value.startswith('=1000'):\n",
    "                row.Value = row.Value.replace('1000', '1', 1)\n",
    "                row.Value += ' / 1000'\n",
    "            else:\n",
    "                row.Value += ' / 1000000'\n",
    "        else:\n",
    "            raise ValueError('Value should be either float or string')\n",
    "    \n",
    "    if row.ESM == 'GWh':\n",
    "        row.ESM = 'kWh'\n",
    "    elif row.ESM == 'kt':\n",
    "        row.ESM = 'kg'\n",
    "    elif row.ESM == 'Mpkm':\n",
    "        row.ESM = 'pkm'\n",
    "    elif row.ESM == 'Mtkm':\n",
    "        row.ESM = 'tkm'\n",
    "    elif row.ESM == 'GW':\n",
    "        row.ESM = 'kW'\n",
    "    elif row.ESM == 'kt/h':\n",
    "        row.ESM = 'kg/h'\n",
    "    elif row.ESM == 'Mtkm/h':\n",
    "        row.ESM = 'tkm/h'\n",
    "    elif row.ESM == 'Mpkm/h':\n",
    "        row.ESM = 'pkm/h'\n",
    "    elif row.ESM in ['unit', 'm3', 'kg', 'MJ', 'kWh']:\n",
    "        pass\n",
    "    else:\n",
    "        raise ValueError(f'Unit {row.ESM} not recognized')\n",
    "    \n",
    "    return row"
   ],
   "outputs": [],
   "execution_count": 74
  },
  {
   "metadata": {
    "ExecuteTime": {
     "end_time": "2024-11-20T19:57:44.895408Z",
     "start_time": "2024-11-20T19:57:44.840184Z"
    }
   },
   "cell_type": "code",
   "source": "unit_conversion = unit_conversion.apply(change_unit_convention, axis=1)",
   "outputs": [],
   "execution_count": 75
  },
  {
   "metadata": {
    "ExecuteTime": {
     "end_time": "2024-11-20T19:57:44.907767Z",
     "start_time": "2024-11-20T19:57:44.895408Z"
    }
   },
   "cell_type": "code",
   "source": [
    "unit_conversion['ESM'] = unit_conversion['ESM'].apply(ecoinvent_unit_convention)\n",
    "unit_conversion['LCA'] = unit_conversion['LCA'].apply(ecoinvent_unit_convention)"
   ],
   "outputs": [],
   "execution_count": 76
  },
  {
   "metadata": {},
   "cell_type": "markdown",
   "source": "## Filtering"
  },
  {
   "metadata": {
    "ExecuteTime": {
     "end_time": "2024-11-20T19:57:44.918636Z",
     "start_time": "2024-11-20T19:57:44.907767Z"
    }
   },
   "cell_type": "code",
   "source": [
    "unit_conversion.set_index(['Name', 'Type'], inplace=True)\n",
    "unit_conversion = unit_conversion[~unit_conversion.index.isin(to_remove)]\n",
    "unit_conversion.reset_index(inplace=True)"
   ],
   "outputs": [],
   "execution_count": 77
  },
  {
   "metadata": {
    "ExecuteTime": {
     "end_time": "2024-11-20T19:57:44.927081Z",
     "start_time": "2024-11-20T19:57:44.918636Z"
    }
   },
   "cell_type": "code",
   "source": [
    "lifetime.set_index(['ES_name'], inplace=True)\n",
    "lifetime = lifetime[~lifetime.index.isin([to_remove[i][0] if to_remove[i][1] == 'Construction' else None for i in range(len(to_remove))])]\n",
    "lifetime.reset_index(inplace=True)\n",
    "lifetime.sort_values('ES_name', inplace=True)"
   ],
   "outputs": [],
   "execution_count": 78
  },
  {
   "metadata": {
    "ExecuteTime": {
     "end_time": "2024-11-20T19:57:44.935778Z",
     "start_time": "2024-11-20T19:57:44.927081Z"
    }
   },
   "cell_type": "code",
   "source": [
    "efficiency.set_index(['ES_name'], inplace=True)\n",
    "efficiency = efficiency[~efficiency.index.isin([to_remove[i][0] if to_remove[i][1] == 'Operation' else None for i in range(len(to_remove))])]\n",
    "efficiency.reset_index(inplace=True)\n",
    "efficiency.sort_values('ES_name', inplace=True)"
   ],
   "outputs": [],
   "execution_count": 79
  },
  {
   "metadata": {
    "ExecuteTime": {
     "end_time": "2024-11-20T19:57:45.038940Z",
     "start_time": "2024-11-20T19:57:44.935778Z"
    }
   },
   "cell_type": "code",
   "source": "unit_conversion.to_excel(f\"energyscope_data/{ES_region}/unit_conversion_3.8.xlsx\", index=False)",
   "outputs": [],
   "execution_count": 80
  },
  {
   "metadata": {
    "ExecuteTime": {
     "end_time": "2024-11-20T19:57:45.049456Z",
     "start_time": "2024-11-20T19:57:45.038940Z"
    }
   },
   "cell_type": "code",
   "source": "lifetime[['ES_name', 'lifetime_ES', 'lifetime_ei']].rename(columns={'ES_name': 'Name', 'lifetime_ES': 'ESM', 'lifetime_ei': 'LCA'}).to_csv(f\"energyscope_data/{ES_region}/lifetime.csv\", index=False)",
   "outputs": [],
   "execution_count": 81
  },
  {
   "metadata": {
    "ExecuteTime": {
     "end_time": "2024-11-20T19:57:45.058365Z",
     "start_time": "2024-11-20T19:57:45.050466Z"
    }
   },
   "cell_type": "code",
   "source": "efficiency.rename(columns={'ES_name': 'Name'}).to_csv(f\"energyscope_data/{ES_region}/efficiency.csv\", index=False)",
   "outputs": [],
   "execution_count": 82
  },
  {
   "metadata": {},
   "cell_type": "markdown",
   "source": "# Relink mapping file"
  },
  {
   "metadata": {
    "ExecuteTime": {
     "end_time": "2024-11-20T19:57:45.068295Z",
     "start_time": "2024-11-20T19:57:45.058365Z"
    }
   },
   "cell_type": "code",
   "source": "premise_changes = pd.read_csv(\"data/premise_change_report.csv\")",
   "outputs": [],
   "execution_count": 83
  },
  {
   "metadata": {
    "ExecuteTime": {
     "end_time": "2024-11-20T19:57:45.075733Z",
     "start_time": "2024-11-20T19:57:45.069187Z"
    }
   },
   "cell_type": "code",
   "source": [
    "name_premise_db = 'ecoinvent_cutoff_3.8_remind_SSP2-Base_2020'\n",
    "name_premise_comp_db = name_premise_db + f'_comp_{ES_region}'"
   ],
   "outputs": [],
   "execution_count": 84
  },
  {
   "metadata": {
    "ExecuteTime": {
     "end_time": "2024-11-20T19:57:48.999627Z",
     "start_time": "2024-11-20T19:57:45.075733Z"
    }
   },
   "cell_type": "code",
   "source": "premise_db = Database(name_premise_db, create_pickle=True)",
   "outputs": [
    {
     "name": "stdout",
     "output_type": "stream",
     "text": [
      "Loaded ecoinvent_cutoff_3.8_remind_SSP2-Base_2020 from pickle!\n"
     ]
    }
   ],
   "execution_count": 85
  },
  {
   "metadata": {
    "ExecuteTime": {
     "end_time": "2024-11-20T19:58:04.774031Z",
     "start_time": "2024-11-20T19:57:48.999627Z"
    }
   },
   "cell_type": "code",
   "source": [
    "mapping_linked_to_premise = premise_db.create_complementary_database(\n",
    "    df_mapping=mapping, \n",
    "    main_db_name=name_premise_db, \n",
    "    complement_db_name=name_premise_comp_db, \n",
    "    premise_changes=premise_changes\n",
    ")"
   ],
   "outputs": [
    {
     "name": "stdout",
     "output_type": "stream",
     "text": [
      "Loaded h2_electrolysis from pickle!\n",
      "Loaded ecoinvent3.8 cut-off from pickle!\n",
      "Loaded ecoinvent_cutoff_3.8_remind_SSP2-Base_2020 from pickle!\n",
      "Loaded lci-buses from pickle!\n",
      "Loaded fuel_cell from pickle!\n",
      "Loaded carbon fiber from pickle!\n",
      "Loaded batteries from pickle!\n",
      "Loaded lci-pass_cars from pickle!\n",
      "Loaded graphite from pickle!\n",
      "Loaded cobalt from pickle!\n",
      "Loaded lithium from pickle!\n",
      "Loaded Carma CCS from pickle!\n",
      "Loaded synfuel from electrolysis from pickle!\n",
      "Loaded cement CCS-CCU from pickle!\n",
      "Loaded Methanol-based fuels from electrolysis from pickle!\n",
      "Loaded biofuels from pickle!\n",
      "Loaded synfuel from wood gasification from pickle!\n",
      "Loaded direct air capture from pickle!\n",
      "Loaded geothermal from pickle!\n",
      "Loaded hydrogen-distribution from pickle!\n",
      "Loaded Methanol-based fuels from coal from pickle!\n",
      "Loaded Hydrogen from coal Gasification from pickle!\n",
      "Loaded Hydrogen from woody biomass gasification from pickle!\n",
      "Loaded syngas from pickle!\n",
      "Loaded hydrogen-smr-natgas from pickle!\n",
      "Loaded PV from pickle!\n",
      "Loaded lci-long_haul_trucks from pickle!\n",
      "Loaded Methanol-based fuels from wood from pickle!\n",
      "The complementary database did not have to be created\n"
     ]
    }
   ],
   "execution_count": 86
  },
  {
   "metadata": {
    "ExecuteTime": {
     "end_time": "2024-11-20T19:58:07.790211Z",
     "start_time": "2024-11-20T19:58:04.776037Z"
    }
   },
   "cell_type": "code",
   "source": [
    "# create a concatenated database of all databases in the mapping dataframe (including background requirements, except biosphere databases)\n",
    "base_db = Database(db_names=list(mapping_linked_to_premise.Database.unique()))"
   ],
   "outputs": [
    {
     "name": "stdout",
     "output_type": "stream",
     "text": [
      "Loaded ecoinvent_cutoff_3.8_remind_SSP2-Base_2020 from pickle!\n"
     ]
    }
   ],
   "execution_count": 87
  },
  {
   "metadata": {
    "ExecuteTime": {
     "end_time": "2024-11-20T19:58:07.797252Z",
     "start_time": "2024-11-20T19:58:07.790211Z"
    }
   },
   "cell_type": "code",
   "source": [
    "esm = ESM(\n",
    "    mapping=mapping_linked_to_premise,\n",
    "    locations_ranking=my_ranking,\n",
    "    main_database=base_db,\n",
    "    esm_location=ES_region,\n",
    "    unit_conversion=pd.DataFrame(),\n",
    "    model=pd.DataFrame(),\n",
    "    mapping_esm_flows_to_CPC_cat=pd.DataFrame(),\n",
    "    esm_db_name='',\n",
    ")"
   ],
   "outputs": [],
   "execution_count": 88
  },
  {
   "metadata": {
    "ExecuteTime": {
     "end_time": "2024-11-20T19:58:10.562177Z",
     "start_time": "2024-11-20T19:58:07.797252Z"
    }
   },
   "cell_type": "code",
   "source": [
    "# Update mapping dataframe with better locations\n",
    "esm.change_location_mapping_file()\n",
    "mapping_linked_to_premise = esm.mapping"
   ],
   "outputs": [
    {
     "name": "stdout",
     "output_type": "stream",
     "text": [
      "No location found in your ranking for ethanol, from corn - ethanol production, via fermentation, from corn, energy allocation\n",
      "--> Have to keep the initial location: US\n"
     ]
    }
   ],
   "execution_count": 89
  },
  {
   "metadata": {
    "ExecuteTime": {
     "end_time": "2024-11-20T19:58:10.632533Z",
     "start_time": "2024-11-20T19:58:10.562177Z"
    }
   },
   "cell_type": "code",
   "source": "unlinked = base_db.test_mapping_file(mapping_linked_to_premise)",
   "outputs": [
    {
     "name": "stdout",
     "output_type": "stream",
     "text": [
      "Mapping successfully linked to the database\n"
     ]
    }
   ],
   "execution_count": 90
  },
  {
   "metadata": {
    "ExecuteTime": {
     "end_time": "2024-11-20T19:58:10.641866Z",
     "start_time": "2024-11-20T19:58:10.632533Z"
    }
   },
   "cell_type": "code",
   "source": [
    "if len(unlinked) == 0:\n",
    "    mapping_linked_to_premise.to_csv(f\"energyscope_data/{ES_region}/mapping_3.8_linked.csv\", index=False)\n",
    "else:\n",
    "    print(f\"Unlinked flows: {unlinked}\")"
   ],
   "outputs": [],
   "execution_count": 91
  }
 ],
 "metadata": {
  "kernelspec": {
   "display_name": "Python 3",
   "language": "python",
   "name": "python3"
  },
  "language_info": {
   "codemirror_mode": {
    "name": "ipython",
    "version": 2
   },
   "file_extension": ".py",
   "mimetype": "text/x-python",
   "name": "python",
   "nbconvert_exporter": "python",
   "pygments_lexer": "ipython2",
   "version": "2.7.6"
  }
 },
 "nbformat": 4,
 "nbformat_minor": 0
}
