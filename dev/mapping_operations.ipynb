{
 "cells": [
  {
   "metadata": {},
   "cell_type": "markdown",
   "source": "# Basic operations on mapping files with EnergyScope as an example",
   "id": "4047e048aad601ef"
  },
  {
   "metadata": {
    "ExecuteTime": {
     "end_time": "2024-06-13T20:52:43.061289Z",
     "start_time": "2024-06-13T20:52:37.166280Z"
    }
   },
   "cell_type": "code",
   "source": [
    "from mescal import *\n",
    "import pandas as pd\n",
    "import bw2data as bd"
   ],
   "id": "a0ae1e8341af4d4b",
   "outputs": [],
   "execution_count": 1
  },
  {
   "metadata": {
    "ExecuteTime": {
     "end_time": "2024-06-13T20:52:43.089311Z",
     "start_time": "2024-06-13T20:52:43.061289Z"
    }
   },
   "cell_type": "code",
   "source": "mapping = pd.read_csv('energyscope_data/mapping.csv')",
   "id": "c7cc7ca45cb57d26",
   "outputs": [],
   "execution_count": 2
  },
  {
   "metadata": {
    "ExecuteTime": {
     "end_time": "2024-06-13T20:52:43.133981Z",
     "start_time": "2024-06-13T20:52:43.089311Z"
    }
   },
   "cell_type": "code",
   "source": "mapping.head()",
   "id": "192ad36e862a2bdd",
   "outputs": [
    {
     "data": {
      "text/plain": [
       "                 Name          Type  \\\n",
       "0              AEC_OG     Operation   \n",
       "1        AEC_OG_PLANT  Construction   \n",
       "2  AEC_OG_PLANT_DECOM  Construction   \n",
       "3        AEC_OG_STACK  Construction   \n",
       "4  AEC_OG_STACK_DECOM  Construction   \n",
       "\n",
       "                                      Product  \\\n",
       "0                   hydrogen, gaseous, 20 bar   \n",
       "1   electrolyzer, 1MWe, AEC, Balance of Plant   \n",
       "2  used fuel cell balance of plant, 1MWe, AEC   \n",
       "3              electrolyzer, 1MWe, AEC, Stack   \n",
       "4             used fuel cell stack, 1MWe, AEC   \n",
       "\n",
       "                                            Activity Location   Unit  \\\n",
       "0  hydrogen production, gaseous, 20 bar, from AEC...       CH    /kg   \n",
       "1  electrolyzer production, 1MWe, AEC, Balance of...      RER  /unit   \n",
       "2  treatment of fuel cell balance of plant, 1MWe,...      RER  /unit   \n",
       "3          electrolyzer production, 1MWe, AEC, Stack      RER  /unit   \n",
       "4            treatment of fuel cell stack, 1MWe, AEC      RER  /unit   \n",
       "\n",
       "          Database  \n",
       "0  h2_electrolysis  \n",
       "1  h2_electrolysis  \n",
       "2  h2_electrolysis  \n",
       "3  h2_electrolysis  \n",
       "4  h2_electrolysis  "
      ],
      "text/html": [
       "<div>\n",
       "<style scoped>\n",
       "    .dataframe tbody tr th:only-of-type {\n",
       "        vertical-align: middle;\n",
       "    }\n",
       "\n",
       "    .dataframe tbody tr th {\n",
       "        vertical-align: top;\n",
       "    }\n",
       "\n",
       "    .dataframe thead th {\n",
       "        text-align: right;\n",
       "    }\n",
       "</style>\n",
       "<table border=\"1\" class=\"dataframe\">\n",
       "  <thead>\n",
       "    <tr style=\"text-align: right;\">\n",
       "      <th></th>\n",
       "      <th>Name</th>\n",
       "      <th>Type</th>\n",
       "      <th>Product</th>\n",
       "      <th>Activity</th>\n",
       "      <th>Location</th>\n",
       "      <th>Unit</th>\n",
       "      <th>Database</th>\n",
       "    </tr>\n",
       "  </thead>\n",
       "  <tbody>\n",
       "    <tr>\n",
       "      <th>0</th>\n",
       "      <td>AEC_OG</td>\n",
       "      <td>Operation</td>\n",
       "      <td>hydrogen, gaseous, 20 bar</td>\n",
       "      <td>hydrogen production, gaseous, 20 bar, from AEC...</td>\n",
       "      <td>CH</td>\n",
       "      <td>/kg</td>\n",
       "      <td>h2_electrolysis</td>\n",
       "    </tr>\n",
       "    <tr>\n",
       "      <th>1</th>\n",
       "      <td>AEC_OG_PLANT</td>\n",
       "      <td>Construction</td>\n",
       "      <td>electrolyzer, 1MWe, AEC, Balance of Plant</td>\n",
       "      <td>electrolyzer production, 1MWe, AEC, Balance of...</td>\n",
       "      <td>RER</td>\n",
       "      <td>/unit</td>\n",
       "      <td>h2_electrolysis</td>\n",
       "    </tr>\n",
       "    <tr>\n",
       "      <th>2</th>\n",
       "      <td>AEC_OG_PLANT_DECOM</td>\n",
       "      <td>Construction</td>\n",
       "      <td>used fuel cell balance of plant, 1MWe, AEC</td>\n",
       "      <td>treatment of fuel cell balance of plant, 1MWe,...</td>\n",
       "      <td>RER</td>\n",
       "      <td>/unit</td>\n",
       "      <td>h2_electrolysis</td>\n",
       "    </tr>\n",
       "    <tr>\n",
       "      <th>3</th>\n",
       "      <td>AEC_OG_STACK</td>\n",
       "      <td>Construction</td>\n",
       "      <td>electrolyzer, 1MWe, AEC, Stack</td>\n",
       "      <td>electrolyzer production, 1MWe, AEC, Stack</td>\n",
       "      <td>RER</td>\n",
       "      <td>/unit</td>\n",
       "      <td>h2_electrolysis</td>\n",
       "    </tr>\n",
       "    <tr>\n",
       "      <th>4</th>\n",
       "      <td>AEC_OG_STACK_DECOM</td>\n",
       "      <td>Construction</td>\n",
       "      <td>used fuel cell stack, 1MWe, AEC</td>\n",
       "      <td>treatment of fuel cell stack, 1MWe, AEC</td>\n",
       "      <td>RER</td>\n",
       "      <td>/unit</td>\n",
       "      <td>h2_electrolysis</td>\n",
       "    </tr>\n",
       "  </tbody>\n",
       "</table>\n",
       "</div>"
      ]
     },
     "execution_count": 3,
     "metadata": {},
     "output_type": "execute_result"
    }
   ],
   "execution_count": 3
  },
  {
   "metadata": {
    "ExecuteTime": {
     "end_time": "2024-06-13T20:52:43.302835Z",
     "start_time": "2024-06-13T20:52:43.133981Z"
    }
   },
   "cell_type": "code",
   "source": "bd.projects.set_current(\"ei3.8-mescal\")",
   "id": "eda80ebd8da689fc",
   "outputs": [],
   "execution_count": 4
  },
  {
   "metadata": {
    "ExecuteTime": {
     "end_time": "2024-06-13T20:53:01.356010Z",
     "start_time": "2024-06-13T20:52:43.302835Z"
    }
   },
   "cell_type": "code",
   "source": "base_db = concatenate_databases(list(mapping.Database.unique()))",
   "id": "83d2565ab93451da",
   "outputs": [],
   "execution_count": 5
  },
  {
   "metadata": {},
   "cell_type": "markdown",
   "source": "## Add location column based on a user-defined ranking",
   "id": "2905995ae719bb8b"
  },
  {
   "metadata": {
    "ExecuteTime": {
     "end_time": "2024-06-13T20:53:01.364963Z",
     "start_time": "2024-06-13T20:53:01.356010Z"
    }
   },
   "cell_type": "code",
   "source": [
    "my_ranking = [\n",
    "    'CA-QC',\n",
    "    'CA',\n",
    "    'CA-ON',\n",
    "    'CA-AB',\n",
    "    'CA-BC',\n",
    "    'CA-MB',\n",
    "    'CA-NB',\n",
    "    'CA-NF',\n",
    "    'CA-NS',\n",
    "    'CA-NT',\n",
    "    'CA-NU',\n",
    "    'CA-PE',\n",
    "    'CAZ',\n",
    "    'RNA',\n",
    "    'US',\n",
    "    'USA',\n",
    "    'GLO',\n",
    "    'RoW'\n",
    "]"
   ],
   "id": "83fb87ff04d762d",
   "outputs": [],
   "execution_count": 6
  },
  {
   "metadata": {
    "ExecuteTime": {
     "end_time": "2024-06-13T20:53:26.013087Z",
     "start_time": "2024-06-13T20:53:01.364963Z"
    }
   },
   "cell_type": "code",
   "source": "mapping_with_locations = change_location_mapping_file(mapping, my_ranking, base_db, 'QC')",
   "id": "a4bb9ce612020069",
   "outputs": [],
   "execution_count": 7
  },
  {
   "metadata": {
    "ExecuteTime": {
     "end_time": "2024-06-13T20:53:26.027564Z",
     "start_time": "2024-06-13T20:53:26.013087Z"
    }
   },
   "cell_type": "code",
   "source": "mapping_with_locations.Location.unique()",
   "id": "1dbcb9d1f883c4a5",
   "outputs": [
    {
     "data": {
      "text/plain": [
       "array(['CH', 'RER', 'GLO', 'RoW', 'CA', 'US', 'CA-QC', 'RNA', 'CA-ON',\n",
       "       'CAZ', 'US-NPCC'], dtype=object)"
      ]
     },
     "execution_count": 8,
     "metadata": {},
     "output_type": "execute_result"
    }
   ],
   "execution_count": 8
  },
  {
   "metadata": {},
   "cell_type": "markdown",
   "source": "## Relink the mapping with premise database ",
   "id": "9989aea9e0f35afb"
  },
  {
   "metadata": {
    "ExecuteTime": {
     "end_time": "2024-06-13T20:53:26.051546Z",
     "start_time": "2024-06-13T20:53:26.029185Z"
    }
   },
   "cell_type": "code",
   "source": "name_premise_db = \"ecoinvent_cutoff_3.8_remind_SSP2-Base_2020\"",
   "id": "be43da570b46aa3a",
   "outputs": [],
   "execution_count": 9
  },
  {
   "metadata": {
    "ExecuteTime": {
     "end_time": "2024-06-13T20:53:26.060840Z",
     "start_time": "2024-06-13T20:53:26.052108Z"
    }
   },
   "cell_type": "code",
   "source": "name_premise_comp_db = name_premise_db + \"_comp_QC\"",
   "id": "cb2907b7d5ce9ed",
   "outputs": [],
   "execution_count": 10
  },
  {
   "metadata": {
    "ExecuteTime": {
     "end_time": "2024-06-13T20:53:34.673679Z",
     "start_time": "2024-06-13T20:53:26.060840Z"
    }
   },
   "cell_type": "code",
   "source": "premise_db = load_extract_db(name_premise_db)",
   "id": "758372486dc023cd",
   "outputs": [],
   "execution_count": 11
  },
  {
   "metadata": {
    "ExecuteTime": {
     "end_time": "2024-06-13T20:54:11.108511Z",
     "start_time": "2024-06-13T20:53:34.673679Z"
    }
   },
   "cell_type": "code",
   "source": "mapping_linked_to_premise = create_complementary_database(mapping_with_locations, premise_db, name_premise_comp_db)",
   "id": "8d5a8626a9197c45",
   "outputs": [
    {
     "name": "stdout",
     "output_type": "stream",
     "text": [
      "No inventory in the premise database for ('EHP_H2_GRID', 'Construction')\n",
      "No inventory in the premise database for ('HP_H2_GRID', 'Construction')\n",
      "No inventory in the premise database for ('LCV_BIODIESEL_B100_MD', 'Construction')\n",
      "No inventory in the premise database for ('LCV_BIODIESEL_B100_MD', 'Operation')\n",
      "No inventory in the premise database for ('LCV_BIODIESEL_B100_SD', 'Construction')\n",
      "No inventory in the premise database for ('LCV_BIODIESEL_B100_SD', 'Operation')\n",
      "No inventory in the premise database for ('LCV_BIODIESEL_B20_MD', 'Operation')\n",
      "No inventory in the premise database for ('LCV_BIODIESEL_B20_MD', 'Construction')\n",
      "No inventory in the premise database for ('LCV_BIODIESEL_B20_SD', 'Operation')\n",
      "No inventory in the premise database for ('LCV_BIODIESEL_B20_SD', 'Construction')\n",
      "No inventory in the premise database for ('LCV_CNG_MD', 'Construction')\n",
      "No inventory in the premise database for ('LCV_CNG_MD', 'Operation')\n",
      "No inventory in the premise database for ('LCV_CNG_SD', 'Construction')\n",
      "No inventory in the premise database for ('LCV_CNG_SD', 'Operation')\n",
      "No inventory in the premise database for ('LCV_DIESEL_MD', 'Construction')\n",
      "No inventory in the premise database for ('LCV_DIESEL_MD', 'Operation')\n",
      "No inventory in the premise database for ('LCV_DIESEL_SD', 'Construction')\n",
      "No inventory in the premise database for ('LCV_DIESEL_SD', 'Operation')\n",
      "No inventory in the premise database for ('LCV_ETOH_E10_MD', 'Construction')\n",
      "No inventory in the premise database for ('LCV_ETOH_E10_MD', 'Operation')\n",
      "No inventory in the premise database for ('LCV_ETOH_E10_SD', 'Operation')\n",
      "No inventory in the premise database for ('LCV_ETOH_E10_SD', 'Construction')\n",
      "No inventory in the premise database for ('LCV_ETOH_E85_MD', 'Operation')\n",
      "No inventory in the premise database for ('LCV_ETOH_E85_MD', 'Construction')\n",
      "No inventory in the premise database for ('LCV_ETOH_E85_SD', 'Construction')\n",
      "No inventory in the premise database for ('LCV_ETOH_E85_SD', 'Operation')\n",
      "No inventory in the premise database for ('LCV_EV_MD', 'Operation')\n",
      "No inventory in the premise database for ('LCV_EV_MD', 'Construction')\n",
      "No inventory in the premise database for ('LCV_EV_SD', 'Operation')\n",
      "No inventory in the premise database for ('LCV_EV_SD', 'Construction')\n",
      "No inventory in the premise database for ('LCV_FC_CH4_MD', 'Operation')\n",
      "No inventory in the premise database for ('LCV_FC_CH4_MD', 'Construction')\n",
      "No inventory in the premise database for ('LCV_FC_CH4_SD', 'Construction')\n",
      "No inventory in the premise database for ('LCV_FC_CH4_SD', 'Operation')\n",
      "No inventory in the premise database for ('LCV_FC_H2_MD', 'Operation')\n",
      "No inventory in the premise database for ('LCV_FC_H2_MD', 'Construction')\n",
      "No inventory in the premise database for ('LCV_FC_H2_SD', 'Operation')\n",
      "No inventory in the premise database for ('LCV_FC_H2_SD', 'Construction')\n",
      "No inventory in the premise database for ('LCV_GASOLINE_MD', 'Operation')\n",
      "No inventory in the premise database for ('LCV_GASOLINE_MD', 'Construction')\n",
      "No inventory in the premise database for ('LCV_GASOLINE_SD', 'Operation')\n",
      "No inventory in the premise database for ('LCV_GASOLINE_SD', 'Construction')\n",
      "No inventory in the premise database for ('LCV_PHEV_GASOLINE_MD', 'Construction')\n",
      "No inventory in the premise database for ('LCV_PHEV_GASOLINE_MD', 'Operation')\n",
      "No inventory in the premise database for ('LCV_PHEV_GASOLINE_SD', 'Construction')\n",
      "No inventory in the premise database for ('LCV_PHEV_GASOLINE_SD', 'Operation')\n",
      "No inventory in the premise database for ('LCV_PROPANE_MD', 'Operation')\n",
      "No inventory in the premise database for ('LCV_PROPANE_MD', 'Construction')\n",
      "No inventory in the premise database for ('LCV_PROPANE_SD', 'Operation')\n",
      "No inventory in the premise database for ('LCV_PROPANE_SD', 'Construction')\n",
      "No inventory in the premise database for ('LP_H2_GRID', 'Construction')\n",
      "No inventory in the premise database for ('MP_H2_GRID', 'Construction')\n",
      "No inventory in the premise database for ('SEMI_SD_BIODIESEL_B100_MD', 'Operation')\n",
      "No inventory in the premise database for ('SEMI_SD_BIODIESEL_B100_MD', 'Construction')\n",
      "No inventory in the premise database for ('SEMI_SD_BIODIESEL_B20_MD', 'Operation')\n",
      "No inventory in the premise database for ('SEMI_SD_BIODIESEL_B20_MD', 'Construction')\n",
      "No inventory in the premise database for ('SEMI_SD_CNG_MD', 'Construction')\n",
      "No inventory in the premise database for ('SEMI_SD_CNG_MD', 'Operation')\n",
      "No inventory in the premise database for ('SEMI_SD_DIESEL_MD', 'Construction')\n",
      "No inventory in the premise database for ('SEMI_SD_DIESEL_MD', 'Operation')\n",
      "No inventory in the premise database for ('SEMI_SD_EV_MD', 'Construction')\n",
      "No inventory in the premise database for ('SEMI_SD_EV_MD', 'Operation')\n",
      "No inventory in the premise database for ('SEMI_SD_FC_CH4_MD', 'Operation')\n",
      "No inventory in the premise database for ('SEMI_SD_FC_CH4_MD', 'Construction')\n",
      "No inventory in the premise database for ('SEMI_SD_FC_H2_MD', 'Operation')\n",
      "No inventory in the premise database for ('SEMI_SD_FC_H2_MD', 'Construction')\n",
      "No inventory in the premise database for ('SEMI_SD_HY_DIESEL_MD', 'Construction')\n",
      "No inventory in the premise database for ('SEMI_SD_HY_DIESEL_MD', 'Operation')\n",
      "No inventory in the premise database for ('SEMI_SD_PROPANE_MD', 'Operation')\n",
      "No inventory in the premise database for ('SEMI_SD_PROPANE_MD', 'Construction')\n",
      "No inventory in the premise database for ('TRUCK_SD_BIODIESEL_B100_MD', 'Operation')\n",
      "No inventory in the premise database for ('TRUCK_SD_BIODIESEL_B100_MD', 'Construction')\n",
      "No inventory in the premise database for ('TRUCK_SD_BIODIESEL_B100_SD', 'Construction')\n",
      "No inventory in the premise database for ('TRUCK_SD_BIODIESEL_B100_SD', 'Operation')\n",
      "No inventory in the premise database for ('TRUCK_SD_BIODIESEL_B20_MD', 'Construction')\n",
      "No inventory in the premise database for ('TRUCK_SD_BIODIESEL_B20_MD', 'Operation')\n",
      "No inventory in the premise database for ('TRUCK_SD_BIODIESEL_B20_SD', 'Construction')\n",
      "No inventory in the premise database for ('TRUCK_SD_BIODIESEL_B20_SD', 'Operation')\n",
      "No inventory in the premise database for ('TRUCK_SD_CNG_MD', 'Construction')\n",
      "No inventory in the premise database for ('TRUCK_SD_CNG_MD', 'Operation')\n",
      "No inventory in the premise database for ('TRUCK_SD_CNG_SD', 'Construction')\n",
      "No inventory in the premise database for ('TRUCK_SD_CNG_SD', 'Operation')\n",
      "No inventory in the premise database for ('TRUCK_SD_DIESEL_MD', 'Construction')\n",
      "No inventory in the premise database for ('TRUCK_SD_DIESEL_MD', 'Operation')\n",
      "No inventory in the premise database for ('TRUCK_SD_DIESEL_SD', 'Operation')\n",
      "No inventory in the premise database for ('TRUCK_SD_DIESEL_SD', 'Construction')\n",
      "No inventory in the premise database for ('TRUCK_SD_EV_MD', 'Construction')\n",
      "No inventory in the premise database for ('TRUCK_SD_EV_MD', 'Operation')\n",
      "No inventory in the premise database for ('TRUCK_SD_EV_SD', 'Construction')\n",
      "No inventory in the premise database for ('TRUCK_SD_EV_SD', 'Operation')\n",
      "No inventory in the premise database for ('TRUCK_SD_FC_CH4_MD', 'Construction')\n",
      "No inventory in the premise database for ('TRUCK_SD_FC_CH4_MD', 'Operation')\n",
      "No inventory in the premise database for ('TRUCK_SD_FC_CH4_SD', 'Construction')\n",
      "No inventory in the premise database for ('TRUCK_SD_FC_CH4_SD', 'Operation')\n",
      "No inventory in the premise database for ('TRUCK_SD_HY_DIESEL_MD', 'Construction')\n",
      "No inventory in the premise database for ('TRUCK_SD_HY_DIESEL_MD', 'Operation')\n",
      "No inventory in the premise database for ('TRUCK_SD_HY_DIESEL_SD', 'Construction')\n",
      "No inventory in the premise database for ('TRUCK_SD_HY_DIESEL_SD', 'Operation')\n",
      "No inventory in the premise database for ('TRUCK_SD_PROPANE_MD', 'Operation')\n",
      "No inventory in the premise database for ('TRUCK_SD_PROPANE_MD', 'Construction')\n",
      "No inventory in the premise database for ('TRUCK_SD_PROPANE_SD', 'Construction')\n",
      "No inventory in the premise database for ('TRUCK_SD_PROPANE_SD', 'Operation')\n"
     ]
    },
    {
     "name": "stderr",
     "output_type": "stream",
     "text": [
      "Writing activities to SQLite3 database:\n",
      "0% [##############################] 100% | ETA: 00:00:00\n",
      "Total time elapsed: 00:00:00\n"
     ]
    },
    {
     "name": "stdout",
     "output_type": "stream",
     "text": [
      "Title: Writing activities to SQLite3 database:\n",
      "  Started: 06/13/2024 16:54:07\n",
      "  Finished: 06/13/2024 16:54:07\n",
      "  Total time elapsed: 00:00:00\n",
      "  CPU %: 41.00\n",
      "  Memory %: 28.92\n"
     ]
    }
   ],
   "execution_count": 12
  },
  {
   "metadata": {
    "ExecuteTime": {
     "end_time": "2024-06-13T20:54:11.170829Z",
     "start_time": "2024-06-13T20:54:11.135818Z"
    }
   },
   "cell_type": "code",
   "source": "mapping_linked_to_premise.head()",
   "id": "a47c2f628dfeaa3a",
   "outputs": [
    {
     "data": {
      "text/plain": [
       "                 Name          Type  \\\n",
       "0              AEC_OG     Operation   \n",
       "1        AEC_OG_PLANT  Construction   \n",
       "2  AEC_OG_PLANT_DECOM  Construction   \n",
       "3        AEC_OG_STACK  Construction   \n",
       "4  AEC_OG_STACK_DECOM  Construction   \n",
       "\n",
       "                                      Product  \\\n",
       "0                   hydrogen, gaseous, 20 bar   \n",
       "1   electrolyzer, 1MWe, AEC, Balance of Plant   \n",
       "2  used fuel cell balance of plant, 1MWe, AEC   \n",
       "3              electrolyzer, 1MWe, AEC, Stack   \n",
       "4             used fuel cell stack, 1MWe, AEC   \n",
       "\n",
       "                                            Activity Location  \\\n",
       "0  hydrogen production, gaseous, 20 bar, from AEC...       CH   \n",
       "1  electrolyzer production, 1MWe, AEC, Balance of...      RER   \n",
       "2  treatment of fuel cell balance of plant, 1MWe,...      RER   \n",
       "3          electrolyzer production, 1MWe, AEC, Stack      RER   \n",
       "4            treatment of fuel cell stack, 1MWe, AEC      RER   \n",
       "\n",
       "                                     Database  \n",
       "0  ecoinvent_cutoff_3.8_remind_SSP2-Base_2020  \n",
       "1  ecoinvent_cutoff_3.8_remind_SSP2-Base_2020  \n",
       "2  ecoinvent_cutoff_3.8_remind_SSP2-Base_2020  \n",
       "3  ecoinvent_cutoff_3.8_remind_SSP2-Base_2020  \n",
       "4  ecoinvent_cutoff_3.8_remind_SSP2-Base_2020  "
      ],
      "text/html": [
       "<div>\n",
       "<style scoped>\n",
       "    .dataframe tbody tr th:only-of-type {\n",
       "        vertical-align: middle;\n",
       "    }\n",
       "\n",
       "    .dataframe tbody tr th {\n",
       "        vertical-align: top;\n",
       "    }\n",
       "\n",
       "    .dataframe thead th {\n",
       "        text-align: right;\n",
       "    }\n",
       "</style>\n",
       "<table border=\"1\" class=\"dataframe\">\n",
       "  <thead>\n",
       "    <tr style=\"text-align: right;\">\n",
       "      <th></th>\n",
       "      <th>Name</th>\n",
       "      <th>Type</th>\n",
       "      <th>Product</th>\n",
       "      <th>Activity</th>\n",
       "      <th>Location</th>\n",
       "      <th>Database</th>\n",
       "    </tr>\n",
       "  </thead>\n",
       "  <tbody>\n",
       "    <tr>\n",
       "      <th>0</th>\n",
       "      <td>AEC_OG</td>\n",
       "      <td>Operation</td>\n",
       "      <td>hydrogen, gaseous, 20 bar</td>\n",
       "      <td>hydrogen production, gaseous, 20 bar, from AEC...</td>\n",
       "      <td>CH</td>\n",
       "      <td>ecoinvent_cutoff_3.8_remind_SSP2-Base_2020</td>\n",
       "    </tr>\n",
       "    <tr>\n",
       "      <th>1</th>\n",
       "      <td>AEC_OG_PLANT</td>\n",
       "      <td>Construction</td>\n",
       "      <td>electrolyzer, 1MWe, AEC, Balance of Plant</td>\n",
       "      <td>electrolyzer production, 1MWe, AEC, Balance of...</td>\n",
       "      <td>RER</td>\n",
       "      <td>ecoinvent_cutoff_3.8_remind_SSP2-Base_2020</td>\n",
       "    </tr>\n",
       "    <tr>\n",
       "      <th>2</th>\n",
       "      <td>AEC_OG_PLANT_DECOM</td>\n",
       "      <td>Construction</td>\n",
       "      <td>used fuel cell balance of plant, 1MWe, AEC</td>\n",
       "      <td>treatment of fuel cell balance of plant, 1MWe,...</td>\n",
       "      <td>RER</td>\n",
       "      <td>ecoinvent_cutoff_3.8_remind_SSP2-Base_2020</td>\n",
       "    </tr>\n",
       "    <tr>\n",
       "      <th>3</th>\n",
       "      <td>AEC_OG_STACK</td>\n",
       "      <td>Construction</td>\n",
       "      <td>electrolyzer, 1MWe, AEC, Stack</td>\n",
       "      <td>electrolyzer production, 1MWe, AEC, Stack</td>\n",
       "      <td>RER</td>\n",
       "      <td>ecoinvent_cutoff_3.8_remind_SSP2-Base_2020</td>\n",
       "    </tr>\n",
       "    <tr>\n",
       "      <th>4</th>\n",
       "      <td>AEC_OG_STACK_DECOM</td>\n",
       "      <td>Construction</td>\n",
       "      <td>used fuel cell stack, 1MWe, AEC</td>\n",
       "      <td>treatment of fuel cell stack, 1MWe, AEC</td>\n",
       "      <td>RER</td>\n",
       "      <td>ecoinvent_cutoff_3.8_remind_SSP2-Base_2020</td>\n",
       "    </tr>\n",
       "  </tbody>\n",
       "</table>\n",
       "</div>"
      ]
     },
     "execution_count": 13,
     "metadata": {},
     "output_type": "execute_result"
    }
   ],
   "execution_count": 13
  },
  {
   "metadata": {
    "ExecuteTime": {
     "end_time": "2024-06-13T20:54:11.208369Z",
     "start_time": "2024-06-13T20:54:11.180571Z"
    }
   },
   "cell_type": "code",
   "source": "mapping_linked_to_premise.to_csv('energyscope_data/mapping_linked.csv', index=False)",
   "id": "cb820ddf2c223277",
   "outputs": [],
   "execution_count": 14
  },
  {
   "metadata": {
    "ExecuteTime": {
     "end_time": "2024-06-13T20:54:11.214959Z",
     "start_time": "2024-06-13T20:54:11.208369Z"
    }
   },
   "cell_type": "code",
   "source": "",
   "id": "dd4c6ed03fd306eb",
   "outputs": [],
   "execution_count": 14
  }
 ],
 "metadata": {
  "kernelspec": {
   "display_name": "Python 3",
   "language": "python",
   "name": "python3"
  },
  "language_info": {
   "codemirror_mode": {
    "name": "ipython",
    "version": 2
   },
   "file_extension": ".py",
   "mimetype": "text/x-python",
   "name": "python",
   "nbconvert_exporter": "python",
   "pygments_lexer": "ipython2",
   "version": "2.7.6"
  }
 },
 "nbformat": 4,
 "nbformat_minor": 5
}
