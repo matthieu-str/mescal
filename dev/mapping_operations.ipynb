{
 "cells": [
  {
   "metadata": {},
   "cell_type": "markdown",
   "source": "# Basic operations on mapping files with EnergyScope as an example",
   "id": "4047e048aad601ef"
  },
  {
   "metadata": {
    "ExecuteTime": {
     "end_time": "2024-06-20T14:03:48.540517Z",
     "start_time": "2024-06-20T14:03:44.679558Z"
    }
   },
   "cell_type": "code",
   "source": [
    "from mescal import *\n",
    "import pandas as pd\n",
    "import bw2data as bd"
   ],
   "id": "a0ae1e8341af4d4b",
   "execution_count": 1,
   "outputs": []
  },
  {
   "metadata": {
    "ExecuteTime": {
     "end_time": "2024-06-20T14:03:48.558248Z",
     "start_time": "2024-06-20T14:03:48.540517Z"
    }
   },
   "cell_type": "code",
   "source": "mapping = pd.read_csv('energyscope_data/QC/mapping.csv')",
   "id": "c7cc7ca45cb57d26",
   "execution_count": 2,
   "outputs": []
  },
  {
   "metadata": {
    "ExecuteTime": {
     "end_time": "2024-06-20T14:03:48.576988Z",
     "start_time": "2024-06-20T14:03:48.558248Z"
    }
   },
   "cell_type": "code",
   "source": "mapping.head()",
   "id": "192ad36e862a2bdd",
   "execution_count": 3,
   "outputs": []
  },
  {
   "metadata": {
    "ExecuteTime": {
     "end_time": "2024-06-20T14:03:48.672239Z",
     "start_time": "2024-06-20T14:03:48.576988Z"
    }
   },
   "cell_type": "code",
   "source": "bd.projects.set_current(\"ei3.8-mescal\")",
   "id": "eda80ebd8da689fc",
   "execution_count": 4,
   "outputs": []
  },
  {
   "metadata": {
    "ExecuteTime": {
     "end_time": "2024-06-20T14:03:57.444234Z",
     "start_time": "2024-06-20T14:03:48.672239Z"
    }
   },
   "cell_type": "code",
   "source": "base_db = concatenate_databases(list(mapping.Database.unique()))",
   "id": "83d2565ab93451da",
   "execution_count": 5,
   "outputs": []
  },
  {
   "metadata": {},
   "cell_type": "markdown",
   "source": "## Add location column based on a user-defined ranking",
   "id": "2905995ae719bb8b"
  },
  {
   "metadata": {
    "ExecuteTime": {
     "end_time": "2024-06-20T14:03:57.453655Z",
     "start_time": "2024-06-20T14:03:57.444234Z"
    }
   },
   "cell_type": "code",
   "source": [
    "my_ranking = [\n",
    "    'CA-QC',\n",
    "    'CA',\n",
    "    'CA-ON',\n",
    "    'CA-AB',\n",
    "    'CA-BC',\n",
    "    'CA-MB',\n",
    "    'CA-NB',\n",
    "    'CA-NF',\n",
    "    'CA-NS',\n",
    "    'CA-NT',\n",
    "    'CA-NU',\n",
    "    'CA-PE',\n",
    "    'CAZ',\n",
    "    'RNA',\n",
    "    'US',\n",
    "    'USA',\n",
    "    'GLO',\n",
    "    'RoW'\n",
    "]"
   ],
   "id": "83fb87ff04d762d",
   "execution_count": 6,
   "outputs": []
  },
  {
   "metadata": {
    "ExecuteTime": {
     "end_time": "2024-06-20T14:04:07.342674Z",
     "start_time": "2024-06-20T14:03:57.453655Z"
    }
   },
   "cell_type": "code",
   "source": "mapping_with_locations = change_location_mapping_file(mapping, my_ranking, base_db, 'QC')",
   "id": "a4bb9ce612020069",
   "execution_count": 7,
   "outputs": []
  },
  {
   "metadata": {
    "ExecuteTime": {
     "end_time": "2024-06-20T14:04:07.357121Z",
     "start_time": "2024-06-20T14:04:07.342674Z"
    }
   },
   "cell_type": "code",
   "source": "mapping_with_locations.Location.unique()",
   "id": "1dbcb9d1f883c4a5",
   "execution_count": 8,
   "outputs": []
  },
  {
   "metadata": {},
   "cell_type": "markdown",
   "source": "## Relink the mapping with premise database ",
   "id": "9989aea9e0f35afb"
  },
  {
   "metadata": {
    "ExecuteTime": {
     "end_time": "2024-06-20T14:04:14.425116Z",
     "start_time": "2024-06-20T14:04:14.408677Z"
    }
   },
   "cell_type": "code",
   "source": "name_premise_db = \"ecoinvent_cutoff_3.8_remind_SSP2-Base_2020\"",
   "id": "be43da570b46aa3a",
   "execution_count": 9,
   "outputs": []
  },
  {
   "metadata": {
    "ExecuteTime": {
     "end_time": "2024-06-20T14:04:14.869865Z",
     "start_time": "2024-06-20T14:04:14.859439Z"
    }
   },
   "cell_type": "code",
   "source": "name_premise_comp_db = name_premise_db + \"_comp_QC\"",
   "id": "cb2907b7d5ce9ed",
   "execution_count": 10,
   "outputs": []
  },
  {
   "metadata": {
    "ExecuteTime": {
     "end_time": "2024-06-20T14:04:23.609825Z",
     "start_time": "2024-06-20T14:04:15.249096Z"
    }
   },
   "cell_type": "code",
   "source": "premise_db = load_extract_db(name_premise_db)",
   "id": "758372486dc023cd",
   "execution_count": 11,
   "outputs": []
  },
  {
   "metadata": {
    "ExecuteTime": {
     "end_time": "2024-06-20T14:04:40.354716Z",
     "start_time": "2024-06-20T14:04:23.613690Z"
    }
   },
   "cell_type": "code",
   "source": "mapping_linked_to_premise = create_complementary_database(mapping_with_locations, premise_db, name_premise_comp_db)",
   "id": "8d5a8626a9197c45",
   "execution_count": 12,
   "outputs": []
  },
  {
   "metadata": {
    "ExecuteTime": {
     "end_time": "2024-06-20T14:04:40.371828Z",
     "start_time": "2024-06-20T14:04:40.354716Z"
    }
   },
   "cell_type": "code",
   "source": "mapping_linked_to_premise.head()",
   "id": "a47c2f628dfeaa3a",
   "execution_count": 13,
   "outputs": []
  },
  {
   "metadata": {
    "ExecuteTime": {
     "end_time": "2024-06-20T14:04:40.393810Z",
     "start_time": "2024-06-20T14:04:40.371828Z"
    }
   },
   "cell_type": "code",
   "source": "mapping_linked_to_premise.to_csv('energyscope_data/mapping_linked.csv', index=False)",
   "id": "cb820ddf2c223277",
   "execution_count": 14,
   "outputs": []
  },
  {
   "metadata": {
    "ExecuteTime": {
     "end_time": "2024-06-13T20:54:11.214959Z",
     "start_time": "2024-06-13T20:54:11.208369Z"
    }
   },
   "cell_type": "code",
   "source": "",
   "id": "dd4c6ed03fd306eb",
   "execution_count": 14,
   "outputs": []
  }
 ],
 "metadata": {
  "kernelspec": {
   "display_name": "Python 3",
   "language": "python",
   "name": "python3"
  },
  "language_info": {
   "codemirror_mode": {
    "name": "ipython",
    "version": 2
   },
   "file_extension": ".py",
   "mimetype": "text/x-python",
   "name": "python",
   "nbconvert_exporter": "python",
   "pygments_lexer": "ipython2",
   "version": "2.7.6"
  }
 },
 "nbformat": 4,
 "nbformat_minor": 5
}
