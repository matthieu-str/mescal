{
 "cells": [
  {
   "metadata": {},
   "cell_type": "markdown",
   "source": "# Compute the LCA metrics ",
   "id": "f1d18dfcb0898de1"
  },
  {
   "metadata": {
    "ExecuteTime": {
     "end_time": "2024-06-18T17:40:02.469677Z",
     "start_time": "2024-06-18T17:39:56.004813Z"
    }
   },
   "cell_type": "code",
   "source": [
    "from mescal import *\n",
    "import pandas as pd\n",
    "import bw2data as bd"
   ],
   "id": "8f5bc817b81cb519",
   "execution_count": 1,
   "outputs": []
  },
  {
   "metadata": {
    "ExecuteTime": {
     "end_time": "2024-06-18T17:40:02.584273Z",
     "start_time": "2024-06-18T17:40:02.469677Z"
    }
   },
   "cell_type": "code",
   "source": "bd.projects.set_current(\"ei3.8-mescal\")",
   "id": "c38d618b880e3222",
   "execution_count": 2,
   "outputs": []
  },
  {
   "metadata": {
    "ExecuteTime": {
     "end_time": "2024-06-18T17:40:02.611172Z",
     "start_time": "2024-06-18T17:40:02.584273Z"
    }
   },
   "cell_type": "code",
   "source": [
    "mapping = pd.read_csv('energyscope_data/QC/mapping_linked.csv')\n",
    "technology_compositions = pd.read_csv('energyscope_data/QC/technology_compositions.csv')\n",
    "unit_conversion = pd.read_csv('energyscope_data/QC/unit_conversion.csv')\n",
    "lifetime = pd.read_csv('energyscope_data/QC/lifetime.csv')"
   ],
   "id": "92f4ab4a0ab1ebd5",
   "execution_count": 3,
   "outputs": []
  },
  {
   "metadata": {
    "ExecuteTime": {
     "end_time": "2024-06-18T17:40:02.894381Z",
     "start_time": "2024-06-18T17:40:02.611172Z"
    }
   },
   "cell_type": "code",
   "source": "esm_db = load_extract_db('energyscope_QC_2020')",
   "id": "8105f49da89aacc6",
   "execution_count": 4,
   "outputs": []
  },
  {
   "metadata": {
    "ExecuteTime": {
     "end_time": "2024-06-18T17:52:42.447902Z",
     "start_time": "2024-06-18T17:40:02.894381Z"
    }
   },
   "cell_type": "code",
   "source": [
    "R_long = compute_impact_scores(\n",
    "    esm_db=esm_db,\n",
    "    mapping=mapping,\n",
    "    technology_compositions=technology_compositions,\n",
    "    methods=['IMPACT World+ Midpoint 2.0.1', 'IMPACT World+ Damage 2.0.1', 'IMPACT World+ Footprint 2.0.1'],\n",
    "    unit_conversion=unit_conversion,\n",
    "    lifetime=lifetime\n",
    ")"
   ],
   "id": "43067c7be9369b82",
   "execution_count": 5,
   "outputs": []
  },
  {
   "metadata": {
    "ExecuteTime": {
     "end_time": "2024-06-18T17:52:42.468451Z",
     "start_time": "2024-06-18T17:52:42.447902Z"
    }
   },
   "cell_type": "code",
   "source": "R_long.head()",
   "id": "beef0ea0de039602",
   "execution_count": 6,
   "outputs": []
  },
  {
   "metadata": {
    "ExecuteTime": {
     "end_time": "2024-06-18T17:52:42.783499Z",
     "start_time": "2024-06-18T17:52:42.468451Z"
    }
   },
   "cell_type": "code",
   "source": "R_long.to_csv('energyscope_data/results/impact_scores.csv', index=False)",
   "id": "de435793a8150f1a",
   "execution_count": 7,
   "outputs": []
  },
  {
   "metadata": {},
   "cell_type": "code",
   "source": "",
   "id": "4bb90df5197b11e3",
   "execution_count": 7,
   "outputs": []
  }
 ],
 "metadata": {
  "kernelspec": {
   "display_name": "Python 3",
   "language": "python",
   "name": "python3"
  },
  "language_info": {
   "codemirror_mode": {
    "name": "ipython",
    "version": 2
   },
   "file_extension": ".py",
   "mimetype": "text/x-python",
   "name": "python",
   "nbconvert_exporter": "python",
   "pygments_lexer": "ipython2",
   "version": "2.7.6"
  }
 },
 "nbformat": 4,
 "nbformat_minor": 5
}
