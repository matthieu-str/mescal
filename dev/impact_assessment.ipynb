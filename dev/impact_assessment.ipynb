{
 "cells": [
  {
   "metadata": {},
   "cell_type": "markdown",
   "source": "# Impact assessment",
   "id": "f1d18dfcb0898de1"
  },
  {
   "metadata": {
    "ExecuteTime": {
     "end_time": "2024-07-25T15:07:58.822234Z",
     "start_time": "2024-07-25T15:07:51.827138Z"
    }
   },
   "cell_type": "code",
   "source": [
    "from mescal import *\n",
    "import pandas as pd\n",
    "import bw2data as bd"
   ],
   "id": "8f5bc817b81cb519",
   "outputs": [],
   "execution_count": 1
  },
  {
   "metadata": {
    "ExecuteTime": {
     "end_time": "2024-07-25T15:08:00.148612Z",
     "start_time": "2024-07-25T15:07:58.825756Z"
    }
   },
   "cell_type": "code",
   "source": "bd.projects.set_current(\"ecoinvent3.9.1\")",
   "id": "c38d618b880e3222",
   "outputs": [],
   "execution_count": 2
  },
  {
   "metadata": {
    "ExecuteTime": {
     "end_time": "2024-07-25T15:08:00.166791Z",
     "start_time": "2024-07-25T15:08:00.148612Z"
    }
   },
   "cell_type": "code",
   "source": "esm_location = 'CA-QC'",
   "id": "e169d92392ddea8f",
   "outputs": [],
   "execution_count": 3
  },
  {
   "metadata": {
    "ExecuteTime": {
     "end_time": "2024-07-25T15:08:00.229692Z",
     "start_time": "2024-07-25T15:08:00.169229Z"
    }
   },
   "cell_type": "code",
   "source": [
    "mapping = pd.read_csv(f'energyscope_data/{esm_location}/mapping_3.9.1_linked.csv')\n",
    "technology_compositions = pd.read_csv(f'energyscope_data/{esm_location}/technology_compositions.csv')\n",
    "unit_conversion = pd.read_csv(f'energyscope_data/{esm_location}/unit_conversion_3.9.1.csv')\n",
    "lifetime = pd.read_csv(f'energyscope_data/{esm_location}/lifetime.csv')\n",
    "mapping_esm_flows_to_CPC = pd.read_csv(f'energyscope_data/{esm_location}/mapping_esm_flows_to_CPC.csv')"
   ],
   "id": "92f4ab4a0ab1ebd5",
   "outputs": [],
   "execution_count": 4
  },
  {
   "metadata": {
    "ExecuteTime": {
     "end_time": "2024-07-25T15:08:00.271991Z",
     "start_time": "2024-07-25T15:08:00.229692Z"
    }
   },
   "cell_type": "code",
   "source": [
    "double_counting_removal = pd.read_csv(f'../examples/results/energyscope_{esm_location}/2050/double_counting_removal.csv')\n",
    "model = pd.read_csv(f'../dev/energyscope_data/{esm_location}/model.csv')\n",
    "efficiency = pd.read_csv(f'../dev/energyscope_data/{esm_location}/efficiency.csv')\n",
    "removed_flows = pd.read_csv(f'../examples/results/energyscope_{esm_location}/2050/removed_flows_list.csv')"
   ],
   "id": "34c868124bcb246b",
   "outputs": [],
   "execution_count": 5
  },
  {
   "metadata": {
    "ExecuteTime": {
     "end_time": "2024-07-25T15:08:03.649732Z",
     "start_time": "2024-07-25T15:08:00.290621Z"
    }
   },
   "cell_type": "code",
   "source": "esm_db = load_extract_db(f'energyscope_{esm_location}_2050')",
   "id": "65fa5628efab39f9",
   "outputs": [
    {
     "name": "stdout",
     "output_type": "stream",
     "text": [
      "Getting activity data\n"
     ]
    },
    {
     "name": "stderr",
     "output_type": "stream",
     "text": [
      "100%|██████████| 1143/1143 [00:00<00:00, 45763.91it/s]\n"
     ]
    },
    {
     "name": "stdout",
     "output_type": "stream",
     "text": [
      "Adding exchange data to activities\n"
     ]
    },
    {
     "name": "stderr",
     "output_type": "stream",
     "text": [
      "100%|██████████| 32396/32396 [00:01<00:00, 21349.21it/s]\n"
     ]
    },
    {
     "name": "stdout",
     "output_type": "stream",
     "text": [
      "Filling out exchange data\n"
     ]
    },
    {
     "name": "stderr",
     "output_type": "stream",
     "text": [
      "100%|██████████| 1143/1143 [00:01<00:00, 681.07it/s]\n"
     ]
    }
   ],
   "execution_count": 7
  },
  {
   "metadata": {
    "ExecuteTime": {
     "end_time": "2024-07-25T15:08:13.814922Z",
     "start_time": "2024-07-25T15:08:03.649732Z"
    }
   },
   "cell_type": "code",
   "source": "db = load_multiple_databases(list(mapping.Database.unique()))",
   "id": "fdf11d6a73ca28f8",
   "outputs": [],
   "execution_count": 8
  },
  {
   "metadata": {},
   "cell_type": "markdown",
   "source": "## Efficiencies",
   "id": "624b3d9358f3e0a2"
  },
  {
   "metadata": {
    "ExecuteTime": {
     "end_time": "2024-07-25T15:08:15.226563Z",
     "start_time": "2024-07-25T15:08:13.815932Z"
    }
   },
   "cell_type": "code",
   "source": [
    "esm_db_updated, df = correct_esm_and_lca_efficiency_differences(\n",
    "    db=esm_db+db,\n",
    "    model=model,\n",
    "    efficiency=efficiency,\n",
    "    removed_flows=removed_flows,\n",
    "    unit_conversion=unit_conversion,\n",
    "    mapping_esm_flows_to_CPC=mapping_esm_flows_to_CPC,\n",
    "    double_counting_removal=double_counting_removal,\n",
    "    output_type='both',\n",
    ")"
   ],
   "id": "f56804eb00056165",
   "outputs": [
    {
     "name": "stdout",
     "output_type": "stream",
     "text": [
      "No flow found for type WOOD in BIOGAS_ATR_CCS. This technology will thus be removed.\n",
      "No flow found for type WOOD in BIOGAS_ATR. This technology will thus be removed.\n",
      "No flow found for type WOOD in BIOGAS_SMR_CCS. This technology will thus be removed.\n",
      "No flow found for type WOOD in BIOGAS_SMR. This technology will thus be removed.\n",
      "No flow found for type WASTE in DHN_COGEN_WASTE. This technology will thus be removed.\n",
      "No flow found for type NG_MP in H2_NG_CCGT_CCS. This technology will thus be removed.\n",
      "No flow found for type WASTE in IND_BOILER_WASTE. This technology will thus be removed.\n",
      "No flow found for type WASTE in IND_BOILER_WASTE_CC. This technology will thus be removed.\n",
      "No flow found for type WOOD in PYROLYSIS. This technology will thus be removed.\n",
      "No flow found for type NG_HP in TRUCK_SH_CNG_SD. This technology will thus be removed.\n",
      "No flow found for type NG_HP in TRUCK_SH_CNG_MD. This technology will thus be removed.\n",
      "No flow found for type NG_HP in SEMI_SH_CNG_MD. This technology will thus be removed.\n",
      "Several names possible for the same type of flow in DEC_BOILER_WOOD: {'wood ash mixture', 'biomass'}. Kept the first one.\n",
      "Several names possible for the same type of flow in DEC_COGEN_WOOD: {'wood ash mixture', 'biomass'}. Kept the first one.\n",
      "Several names possible for the same type of flow in DHN_BOILER_WOOD: {'wood ash mixture', 'biomass'}. Kept the first one.\n",
      "Several names possible for the same type of flow in DHN_COGEN_WOOD: {'wood ash mixture', 'biomass'}. Kept the first one.\n",
      "Several names possible for the same type of flow in GASIFICATION_H2: {'wood ash mixture', 'wood chips'}. Kept the first one.\n",
      "Several names possible for the same type of flow in IND_BOILER_WOOD: {'wood ash mixture', 'biomass'}. Kept the first one.\n",
      "Several names possible for the same type of flow in IND_COGEN_WOOD: {'wood ash mixture', 'biomass'}. Kept the first one.\n"
     ]
    }
   ],
   "execution_count": 9
  },
  {
   "metadata": {},
   "cell_type": "markdown",
   "source": "## Compute LCIA metrics",
   "id": "60d4b54ac460e81d"
  },
  {
   "metadata": {},
   "cell_type": "code",
   "source": [
    "R_long = compute_impact_scores(\n",
    "    esm_db=esm_db,\n",
    "    mapping=mapping,\n",
    "    technology_compositions=technology_compositions,\n",
    "    methods=['IMPACT World+ Midpoint 2.0.1', 'IMPACT World+ Damage 2.0.1', 'IMPACT World+ Footprint 2.0.1'],\n",
    "    unit_conversion=unit_conversion,\n",
    "    lifetime=lifetime\n",
    ")"
   ],
   "id": "43067c7be9369b82",
   "outputs": [],
   "execution_count": null
  },
  {
   "metadata": {},
   "cell_type": "code",
   "source": "R_long.head()",
   "id": "beef0ea0de039602",
   "outputs": [],
   "execution_count": null
  },
  {
   "metadata": {},
   "cell_type": "code",
   "source": "R_long.to_csv(f'energyscope_data/results/{esm_location}/2050/impact_scores.csv', index=False)",
   "id": "de435793a8150f1a",
   "outputs": [],
   "execution_count": null
  },
  {
   "metadata": {},
   "cell_type": "code",
   "source": "",
   "id": "bd76ea4cfd37ce95",
   "outputs": [],
   "execution_count": null
  }
 ],
 "metadata": {
  "kernelspec": {
   "display_name": "Python 3",
   "language": "python",
   "name": "python3"
  },
  "language_info": {
   "codemirror_mode": {
    "name": "ipython",
    "version": 2
   },
   "file_extension": ".py",
   "mimetype": "text/x-python",
   "name": "python",
   "nbconvert_exporter": "python",
   "pygments_lexer": "ipython2",
   "version": "2.7.6"
  }
 },
 "nbformat": 4,
 "nbformat_minor": 5
}
