{
 "cells": [
  {
   "metadata": {},
   "cell_type": "markdown",
   "source": "# Compute the LCA metrics ",
   "id": "f1d18dfcb0898de1"
  },
  {
   "metadata": {
    "ExecuteTime": {
     "end_time": "2024-06-18T17:40:02.469677Z",
     "start_time": "2024-06-18T17:39:56.004813Z"
    }
   },
   "cell_type": "code",
   "source": [
    "from mescal import *\n",
    "import pandas as pd\n",
    "import bw2data as bd"
   ],
   "id": "8f5bc817b81cb519",
   "outputs": [],
   "execution_count": 1
  },
  {
   "metadata": {
    "ExecuteTime": {
     "end_time": "2024-06-18T17:40:02.584273Z",
     "start_time": "2024-06-18T17:40:02.469677Z"
    }
   },
   "cell_type": "code",
   "source": "bd.projects.set_current(\"ei3.8-mescal\")",
   "id": "c38d618b880e3222",
   "outputs": [],
   "execution_count": 2
  },
  {
   "metadata": {
    "ExecuteTime": {
     "end_time": "2024-06-18T17:40:02.611172Z",
     "start_time": "2024-06-18T17:40:02.584273Z"
    }
   },
   "cell_type": "code",
   "source": [
    "mapping = pd.read_csv('energyscope_data/mapping_linked.csv')\n",
    "technology_compositions = pd.read_csv('energyscope_data/technology_compositions.csv')\n",
    "unit_conversion = pd.read_csv('energyscope_data/unit_conversion.csv')\n",
    "lifetime = pd.read_csv('energyscope_data/lifetime.csv')"
   ],
   "id": "92f4ab4a0ab1ebd5",
   "outputs": [],
   "execution_count": 3
  },
  {
   "metadata": {
    "ExecuteTime": {
     "end_time": "2024-06-18T17:40:02.894381Z",
     "start_time": "2024-06-18T17:40:02.611172Z"
    }
   },
   "cell_type": "code",
   "source": "esm_db = load_extract_db('energyscope_QC_2020')",
   "id": "8105f49da89aacc6",
   "outputs": [],
   "execution_count": 4
  },
  {
   "metadata": {
    "ExecuteTime": {
     "end_time": "2024-06-18T17:52:42.447902Z",
     "start_time": "2024-06-18T17:40:02.894381Z"
    }
   },
   "cell_type": "code",
   "source": [
    "R_long = compute_impact_scores(\n",
    "    esm_db=esm_db,\n",
    "    mapping=mapping,\n",
    "    technology_compositions=technology_compositions,\n",
    "    methods=['IMPACT World+ Midpoint 2.0.1', 'IMPACT World+ Damage 2.0.1', 'IMPACT World+ Footprint 2.0.1'],\n",
    "    unit_conversion=unit_conversion,\n",
    "    lifetime=lifetime\n",
    ")"
   ],
   "id": "43067c7be9369b82",
   "outputs": [],
   "execution_count": 5
  },
  {
   "metadata": {
    "ExecuteTime": {
     "end_time": "2024-06-18T17:52:42.468451Z",
     "start_time": "2024-06-18T17:52:42.447902Z"
    }
   },
   "cell_type": "code",
   "source": "R_long.head()",
   "id": "beef0ea0de039602",
   "outputs": [
    {
     "data": {
      "text/plain": [
       "                                     Impact_category  \\\n",
       "0  (IMPACT World+ Damage 2.0.1, Ecosystem quality...   \n",
       "1  (IMPACT World+ Damage 2.0.1, Ecosystem quality...   \n",
       "2  (IMPACT World+ Damage 2.0.1, Human health, Cli...   \n",
       "3  (IMPACT World+ Damage 2.0.1, Human health, Cli...   \n",
       "4  (IMPACT World+ Midpoint 2.0.1, Midpoint, Clima...   \n",
       "\n",
       "                           New_code         Value Name          Type  \n",
       "0  arcc87xcfu2oj5u07lwb4m95xlnkt9t4  3.003785e+09  AFC  Construction  \n",
       "1  arcc87xcfu2oj5u07lwb4m95xlnkt9t4  9.979548e+08  AFC  Construction  \n",
       "2  arcc87xcfu2oj5u07lwb4m95xlnkt9t4  1.366992e+04  AFC  Construction  \n",
       "3  arcc87xcfu2oj5u07lwb4m95xlnkt9t4  4.611984e+03  AFC  Construction  \n",
       "4  arcc87xcfu2oj5u07lwb4m95xlnkt9t4  5.239713e+09  AFC  Construction  "
      ],
      "text/html": [
       "<div>\n",
       "<style scoped>\n",
       "    .dataframe tbody tr th:only-of-type {\n",
       "        vertical-align: middle;\n",
       "    }\n",
       "\n",
       "    .dataframe tbody tr th {\n",
       "        vertical-align: top;\n",
       "    }\n",
       "\n",
       "    .dataframe thead th {\n",
       "        text-align: right;\n",
       "    }\n",
       "</style>\n",
       "<table border=\"1\" class=\"dataframe\">\n",
       "  <thead>\n",
       "    <tr style=\"text-align: right;\">\n",
       "      <th></th>\n",
       "      <th>Impact_category</th>\n",
       "      <th>New_code</th>\n",
       "      <th>Value</th>\n",
       "      <th>Name</th>\n",
       "      <th>Type</th>\n",
       "    </tr>\n",
       "  </thead>\n",
       "  <tbody>\n",
       "    <tr>\n",
       "      <th>0</th>\n",
       "      <td>(IMPACT World+ Damage 2.0.1, Ecosystem quality...</td>\n",
       "      <td>arcc87xcfu2oj5u07lwb4m95xlnkt9t4</td>\n",
       "      <td>3.003785e+09</td>\n",
       "      <td>AFC</td>\n",
       "      <td>Construction</td>\n",
       "    </tr>\n",
       "    <tr>\n",
       "      <th>1</th>\n",
       "      <td>(IMPACT World+ Damage 2.0.1, Ecosystem quality...</td>\n",
       "      <td>arcc87xcfu2oj5u07lwb4m95xlnkt9t4</td>\n",
       "      <td>9.979548e+08</td>\n",
       "      <td>AFC</td>\n",
       "      <td>Construction</td>\n",
       "    </tr>\n",
       "    <tr>\n",
       "      <th>2</th>\n",
       "      <td>(IMPACT World+ Damage 2.0.1, Human health, Cli...</td>\n",
       "      <td>arcc87xcfu2oj5u07lwb4m95xlnkt9t4</td>\n",
       "      <td>1.366992e+04</td>\n",
       "      <td>AFC</td>\n",
       "      <td>Construction</td>\n",
       "    </tr>\n",
       "    <tr>\n",
       "      <th>3</th>\n",
       "      <td>(IMPACT World+ Damage 2.0.1, Human health, Cli...</td>\n",
       "      <td>arcc87xcfu2oj5u07lwb4m95xlnkt9t4</td>\n",
       "      <td>4.611984e+03</td>\n",
       "      <td>AFC</td>\n",
       "      <td>Construction</td>\n",
       "    </tr>\n",
       "    <tr>\n",
       "      <th>4</th>\n",
       "      <td>(IMPACT World+ Midpoint 2.0.1, Midpoint, Clima...</td>\n",
       "      <td>arcc87xcfu2oj5u07lwb4m95xlnkt9t4</td>\n",
       "      <td>5.239713e+09</td>\n",
       "      <td>AFC</td>\n",
       "      <td>Construction</td>\n",
       "    </tr>\n",
       "  </tbody>\n",
       "</table>\n",
       "</div>"
      ]
     },
     "execution_count": 6,
     "metadata": {},
     "output_type": "execute_result"
    }
   ],
   "execution_count": 6
  },
  {
   "metadata": {
    "ExecuteTime": {
     "end_time": "2024-06-18T17:52:42.783499Z",
     "start_time": "2024-06-18T17:52:42.468451Z"
    }
   },
   "cell_type": "code",
   "source": "R_long.to_csv('energyscope_data/results/impact_scores.csv', index=False)",
   "id": "de435793a8150f1a",
   "outputs": [],
   "execution_count": 7
  },
  {
   "metadata": {},
   "cell_type": "code",
   "source": "",
   "id": "4bb90df5197b11e3",
   "outputs": [],
   "execution_count": 7
  }
 ],
 "metadata": {
  "kernelspec": {
   "display_name": "Python 3",
   "language": "python",
   "name": "python3"
  },
  "language_info": {
   "codemirror_mode": {
    "name": "ipython",
    "version": 2
   },
   "file_extension": ".py",
   "mimetype": "text/x-python",
   "name": "python",
   "nbconvert_exporter": "python",
   "pygments_lexer": "ipython2",
   "version": "2.7.6"
  }
 },
 "nbformat": 4,
 "nbformat_minor": 5
}
