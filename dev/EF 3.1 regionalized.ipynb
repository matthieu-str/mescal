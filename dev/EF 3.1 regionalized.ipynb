{
 "cells": [
  {
   "metadata": {},
   "cell_type": "markdown",
   "source": "# Create the regionalized version of EF 3.1 in brightway",
   "id": "9966ae0cb04953b1"
  },
  {
   "metadata": {
    "ExecuteTime": {
     "end_time": "2024-10-21T22:45:07.862288Z",
     "start_time": "2024-10-21T22:45:04.724506Z"
    }
   },
   "cell_type": "code",
   "source": [
    "import bw2data as bd\n",
    "import numpy as np\n",
    "import pandas as pd\n",
    "from mescal import *"
   ],
   "id": "efe52aa3d1189f6b",
   "outputs": [],
   "execution_count": 1
  },
  {
   "metadata": {
    "ExecuteTime": {
     "end_time": "2024-10-21T22:45:09.323072Z",
     "start_time": "2024-10-21T22:45:07.862288Z"
    }
   },
   "cell_type": "code",
   "source": "bd.projects.set_current(f'ecoinvent3.9.1')",
   "id": "75cb184c1a7628f7",
   "outputs": [],
   "execution_count": 2
  },
  {
   "metadata": {
    "ExecuteTime": {
     "end_time": "2024-10-21T22:45:36.287295Z",
     "start_time": "2024-10-21T22:45:09.325086Z"
    }
   },
   "cell_type": "code",
   "source": [
    "ef_cfs = pd.read_excel('lcia/EF-LCIAMethod_CF(EF-v3.1).xlsx', sheet_name='lciamethods_CF')\n",
    "ef_biosphere_mapping = pd.read_csv('lcia/EF31_biosphere_mapping.csv')\n",
    "# TODO: map land occupation flows "
   ],
   "id": "b25ba429833a9e36",
   "outputs": [],
   "execution_count": 3
  },
  {
   "metadata": {
    "ExecuteTime": {
     "end_time": "2024-10-21T22:45:36.293439Z",
     "start_time": "2024-10-21T22:45:36.287295Z"
    }
   },
   "cell_type": "code",
   "source": [
    "def mapping_reformat(row):\n",
    "    if row.biosphere.startswith('Transformation, '):\n",
    "        return 'transformation, ' + row.ef\n",
    "    elif row.biosphere.startswith('Occupation, '):\n",
    "        return 'occupation, ' + row.ef\n",
    "    else:\n",
    "        return row.ef"
   ],
   "id": "4e6c7c1c184ca649",
   "outputs": [],
   "execution_count": 4
  },
  {
   "metadata": {
    "ExecuteTime": {
     "end_time": "2024-10-21T22:45:36.305132Z",
     "start_time": "2024-10-21T22:45:36.293439Z"
    }
   },
   "cell_type": "code",
   "source": "ef_biosphere_mapping['ef'] = ef_biosphere_mapping.apply(mapping_reformat, axis=1)",
   "id": "803793869054bf52",
   "outputs": [],
   "execution_count": 5
  },
  {
   "metadata": {
    "ExecuteTime": {
     "end_time": "2024-10-21T22:45:36.314265Z",
     "start_time": "2024-10-21T22:45:36.305132Z"
    }
   },
   "cell_type": "code",
   "source": "ef_biosphere_mapping_dict = ef_biosphere_mapping.set_index('ef').to_dict()['biosphere']",
   "id": "2bc165226d91a5f7",
   "outputs": [],
   "execution_count": 6
  },
  {
   "metadata": {},
   "cell_type": "markdown",
   "source": "## Create the new methods",
   "id": "534b8d21cac2e661"
  },
  {
   "metadata": {
    "ExecuteTime": {
     "end_time": "2024-10-21T22:45:36.393428Z",
     "start_time": "2024-10-21T22:45:36.314265Z"
    }
   },
   "cell_type": "code",
   "source": [
    "def ecoinvent_compatible_categories(name, cat0, cat1, cat2):\n",
    "    \n",
    "    if cat0 == 'Emissions':\n",
    "        cat1 = cat1.replace('Emissions to ', '')\n",
    "        cat2 = cat2.replace('Emissions to ', '')\n",
    "        cat2 = cat2.replace('and', '+')\n",
    "        \n",
    "        if cat2 == 'air, unspecified':\n",
    "            cat2 = None\n",
    "        elif cat2 == 'air, unspecified (long-term)':\n",
    "            cat2 = 'low population density, long-term'\n",
    "            \n",
    "        if '(biogenic)' in name:\n",
    "            name = name.replace(' (biogenic)', ', non-fossil')\n",
    "        elif '(fossil)' in name:\n",
    "            name = name.replace(' (fossil)', ', fossil')\n",
    "        elif '(land use change)' in name:\n",
    "            name = name.replace(' (land use change)', ', to soil or biomass stock')\n",
    "        \n",
    "        if 'Particles' in name:\n",
    "            name.replace('Particles', 'Particulate Matter, ')\n",
    "            \n",
    "            if '(PM10)' in name:\n",
    "                name = name.replace('(PM10)', '> 2.5 um and < 10um')\n",
    "            elif '(PM0.2 - PM2.5)' in name:\n",
    "                name = name.replace('(PM0.2 - PM2.5)', '< 2.5 um')\n",
    "    \n",
    "    elif cat0 == 'Land use':\n",
    "        cat1 = cat1.replace('Land ', '')\n",
    "        name = f'{cat1}, {name}'\n",
    "        cat1 = 'natural resource'\n",
    "        cat2 = 'land'\n",
    "    \n",
    "    elif cat0 == 'Resources':\n",
    "        cat2 = f\"in {cat1.replace('Resources from ', '')}\"\n",
    "        cat1 = 'natural resource'\n",
    "    \n",
    "    else:\n",
    "        raise ValueError(f\"Category0 {cat0} not recognized\")\n",
    "    \n",
    "    if name in ef_biosphere_mapping_dict.keys():\n",
    "        name = ef_biosphere_mapping_dict[name]\n",
    "    \n",
    "    return name, cat0, cat1, cat2"
   ],
   "id": "9805ce7d05b96e72",
   "outputs": [],
   "execution_count": 7
  },
  {
   "metadata": {
    "ExecuteTime": {
     "end_time": "2024-10-21T22:45:43.364430Z",
     "start_time": "2024-10-21T22:45:36.393428Z"
    }
   },
   "cell_type": "code",
   "source": "ef_cfs[['FLOW_name', 'FLOW_class0', 'FLOW_class1', 'FLOW_class2']] = ef_cfs.apply(lambda x: ecoinvent_compatible_categories(x['FLOW_name'], x['FLOW_class0'], x['FLOW_class1'], x['FLOW_class2']), axis=1, result_type='expand')",
   "id": "9f84596833eb04af",
   "outputs": [],
   "execution_count": 8
  },
  {
   "metadata": {
    "ExecuteTime": {
     "end_time": "2024-10-21T22:45:45.377311Z",
     "start_time": "2024-10-21T22:45:43.364430Z"
    }
   },
   "cell_type": "code",
   "source": [
    "biosphere_db_spatialized = Database('biosphere3_spatialized_flows')\n",
    "biosphere_db = Database('biosphere3')"
   ],
   "id": "9681a3aabafe1b36",
   "outputs": [
    {
     "name": "stdout",
     "output_type": "stream",
     "text": [
      "Getting activity data\n"
     ]
    },
    {
     "name": "stderr",
     "output_type": "stream",
     "text": [
      "100%|██████████| 62222/62222 [00:00<00:00, 127804.27it/s]\n"
     ]
    },
    {
     "name": "stdout",
     "output_type": "stream",
     "text": [
      "Adding exchange data to activities\n"
     ]
    },
    {
     "name": "stderr",
     "output_type": "stream",
     "text": [
      "0it [00:00, ?it/s]\n"
     ]
    },
    {
     "name": "stdout",
     "output_type": "stream",
     "text": [
      "Filling out exchange data\n"
     ]
    },
    {
     "name": "stderr",
     "output_type": "stream",
     "text": [
      "100%|██████████| 62222/62222 [00:00<00:00, 3979839.63it/s]\n"
     ]
    },
    {
     "name": "stdout",
     "output_type": "stream",
     "text": [
      "Loaded biosphere3_spatialized_flows from brightway!\n",
      "Getting activity data\n"
     ]
    },
    {
     "name": "stderr",
     "output_type": "stream",
     "text": [
      "100%|██████████| 4718/4718 [00:00<00:00, 301850.67it/s]\n"
     ]
    },
    {
     "name": "stdout",
     "output_type": "stream",
     "text": [
      "Adding exchange data to activities\n"
     ]
    },
    {
     "name": "stderr",
     "output_type": "stream",
     "text": [
      "0it [00:00, ?it/s]\n"
     ]
    },
    {
     "name": "stdout",
     "output_type": "stream",
     "text": [
      "Filling out exchange data\n"
     ]
    },
    {
     "name": "stderr",
     "output_type": "stream",
     "text": [
      "100%|██████████| 4718/4718 [00:00<?, ?it/s]"
     ]
    },
    {
     "name": "stdout",
     "output_type": "stream",
     "text": [
      "Loaded biosphere3 from brightway!\n"
     ]
    },
    {
     "name": "stderr",
     "output_type": "stream",
     "text": [
      "\n"
     ]
    }
   ],
   "execution_count": 9
  },
  {
   "metadata": {
    "ExecuteTime": {
     "end_time": "2024-10-21T22:45:45.425477Z",
     "start_time": "2024-10-21T22:45:45.377311Z"
    }
   },
   "cell_type": "code",
   "source": [
    "biosphere_db_dict_name = biosphere_db.list_to_dict('name', 'biosphere')\n",
    "biosphere_db_spatialized_dict_name = biosphere_db_spatialized.list_to_dict('name', 'biosphere')"
   ],
   "id": "a326a540ae9cce86",
   "outputs": [],
   "execution_count": 10
  },
  {
   "metadata": {
    "ExecuteTime": {
     "end_time": "2024-10-21T22:45:45.452526Z",
     "start_time": "2024-10-21T22:45:45.425477Z"
    }
   },
   "cell_type": "code",
   "source": [
    "biosphere_db_dict_code = biosphere_db.list_to_dict('code', 'biosphere')\n",
    "biosphere_db_spatialized_dict_code = biosphere_db_spatialized.list_to_dict('code', 'biosphere')"
   ],
   "id": "b46a9b7448d84d4c",
   "outputs": [],
   "execution_count": 11
  },
  {
   "metadata": {
    "ExecuteTime": {
     "end_time": "2024-10-21T22:45:45.463285Z",
     "start_time": "2024-10-21T22:45:45.452526Z"
    }
   },
   "cell_type": "code",
   "source": [
    "def create_cf_list(df):\n",
    "    \n",
    "    reg_cfs = []\n",
    "    unmapped = []\n",
    "    \n",
    "    for i in range(len(df)):\n",
    "        \n",
    "        flow_name = df.loc[i, 'FLOW_name']\n",
    "        flow_name = flow_name.lower()\n",
    "        \n",
    "        flow_location = df.loc[i, 'LCIAMethod_location']\n",
    "        \n",
    "        flow_cf = df.loc[i, 'CF EF3.1']\n",
    "        \n",
    "        if flow_location is np.nan:\n",
    "            spatialized_db = False\n",
    "        else:\n",
    "            flow_name = f'{flow_name}, {flow_location}'\n",
    "            spatialized_db = True\n",
    "        \n",
    "        category1 = df.loc[i, 'FLOW_class1']\n",
    "        category2 = df.loc[i, 'FLOW_class2']\n",
    "        \n",
    "        flow_name = flow_name[0].upper() + flow_name[1:]\n",
    "        \n",
    "        if category2 is not None:\n",
    "            \n",
    "            if spatialized_db:\n",
    "                if (flow_name, (category1, category2), 'biosphere3_spatialized_flows') in biosphere_db_spatialized_dict_name.keys():\n",
    "                    flow_code = biosphere_db_spatialized_dict_name[(flow_name, (category1, category2), 'biosphere3_spatialized_flows')]['code']\n",
    "                    reg_cfs.append((('biosphere3_spatialized_flows', flow_code), flow_cf))\n",
    "                else:\n",
    "                    unmapped.append(('biosphere3_spatialized_flows', flow_name, (category1, category2)))\n",
    "            \n",
    "            else:\n",
    "                if (flow_name, (category1, category2), 'biosphere3') in biosphere_db_dict_name.keys():\n",
    "                    flow_code = biosphere_db_dict_name[(flow_name, (category1, category2), 'biosphere3')]['code']\n",
    "                    reg_cfs.append((('biosphere3', flow_code), flow_cf))\n",
    "                else:\n",
    "                    unmapped.append(('biosphere3', flow_name, (category1, category2)))\n",
    "        \n",
    "        else:\n",
    "            \n",
    "            if spatialized_db:\n",
    "                if (flow_name, (category1,), 'biosphere3_spatialized_flows') in biosphere_db_spatialized_dict_name.keys():\n",
    "                    flow_code = biosphere_db_spatialized_dict_name[(flow_name, (category1,), 'biosphere3_spatialized_flows')]['code']\n",
    "                    reg_cfs.append((('biosphere3_spatialized_flows', flow_code), flow_cf))\n",
    "                else:\n",
    "                    unmapped.append(('biosphere3_spatialized_flows', flow_name, (category1,)))\n",
    "            \n",
    "            else:\n",
    "                if (flow_name, (category1,), 'biosphere3') in biosphere_db_dict_name.keys():\n",
    "                    flow_code = biosphere_db_dict_name[(flow_name, (category1,), 'biosphere3')]['code']\n",
    "                    reg_cfs.append((('biosphere3', flow_code), flow_cf))\n",
    "                else:\n",
    "                    unmapped.append(('biosphere3', flow_name, (category1,)))\n",
    "    \n",
    "    return reg_cfs, unmapped"
   ],
   "id": "d01c11eb6cf188c0",
   "outputs": [],
   "execution_count": 12
  },
  {
   "metadata": {
    "ExecuteTime": {
     "end_time": "2024-10-21T22:45:45.471537Z",
     "start_time": "2024-10-21T22:45:45.464801Z"
    }
   },
   "cell_type": "code",
   "source": [
    "def method_names_bw(cat):\n",
    "    \n",
    "    # Changes in categories names \n",
    "    cat_bw = cat.replace('EF-', '')\n",
    "    cat_bw = cat_bw.replace('Resource use, fossils', 'Energy resources: non-renewable')\n",
    "    cat_bw = cat_bw.replace('Resource use, minerals and metals', 'Material resources: metals/minerals')\n",
    "    cat_bw = cat_bw.replace('Eutrophication marine', 'eutrophication: marine')\n",
    "    cat_bw = cat_bw.replace('Matter', 'matter formation')\n",
    "    cat_bw = cat_bw.replace('cancer', 'carcinogenic')\n",
    "    cat_bw = cat_bw.replace('ozone', 'oxidant')\n",
    "    cat_bw = cat_bw.replace('-', ': ')\n",
    "    cat_bw = cat_bw.replace(' : ', ':')\n",
    "    cat_bw = cat_bw.replace(',', ':')\n",
    "    cat_bw = cat_bw.replace('_', ', ')\n",
    "    cat_bw = cat_bw.replace('non: ', 'non-')\n",
    "    \n",
    "    return cat_bw"
   ],
   "id": "1645c0e64c4ddaf1",
   "outputs": [],
   "execution_count": 13
  },
  {
   "metadata": {
    "ExecuteTime": {
     "end_time": "2024-10-21T22:45:45.480710Z",
     "start_time": "2024-10-21T22:45:45.471537Z"
    }
   },
   "cell_type": "code",
   "source": [
    "ef_units = {\n",
    "    'acidification': 'mol H+-Eq',\n",
    "    'climate change': 'kg CO2-Eq',\n",
    "    'climate change: biogenic': 'kg CO2-Eq',\n",
    "    'climate change: fossil': 'kg CO2-Eq',\n",
    "    'climate change: land use and land use change': 'kg CO2-Eq',\n",
    "    'ecotoxicity: freshwater': 'CTUe',\n",
    "    'ecotoxicity: freshwater, inorganics': 'CTUe',\n",
    "    'ecotoxicity: freshwater, organics': 'CTUe',\n",
    "    'energy resources: non-renewable': 'MJ, net calorific value',\n",
    "    'eutrophication: freshwater': 'kg P-Eq',\n",
    "    'eutrophication: marine': 'kg N-Eq',\n",
    "    'eutrophication: terrestrial': 'mol N-Eq',\n",
    "    'human toxicity: carcinogenic': 'CTUh',\n",
    "    'human toxicity: carcinogenic, inorganics': 'CTUh',\n",
    "    'human toxicity: carcinogenic, organics': 'CTUh',\n",
    "    'human toxicity: non-carcinogenic': 'CTUh',\n",
    "    'human toxicity: non-carcinogenic, inorganics': 'CTUh',\n",
    "    'human toxicity: non-carcinogenic, organics': 'CTUh',\n",
    "    'ionising radiation: human health': 'kBq U235-Eq',\n",
    "    'land use': 'dimensionless',\n",
    "    'material resources: metals/minerals': 'kg Sb-Eq',\n",
    "    'ozone depletion': 'kg CFC-11-Eq',\n",
    "    'particulate matter formation': 'disease incidence',\n",
    "    'photochemical oxidant formation: human health': 'kg NMVOC-Eq',\n",
    "    'water use': 'm3 world eq. deprived',\n",
    "}"
   ],
   "id": "6aa7df7cf382f7cb",
   "outputs": [],
   "execution_count": 14
  },
  {
   "metadata": {
    "ExecuteTime": {
     "end_time": "2024-10-21T22:46:09.830554Z",
     "start_time": "2024-10-21T22:45:45.480710Z"
    }
   },
   "cell_type": "code",
   "source": [
    "ef_methods_bw = [i for i in bd.methods if i[0] == 'EF v3.1']\n",
    "regionalized_methods = {}\n",
    "unlinked = []\n",
    "methods_to_regionalize = [\n",
    "    'acidification',\n",
    "    'eutrophication, terrestrial',\n",
    "    'land use',\n",
    "    'water use',\n",
    "]\n",
    "\n",
    "for i in range(len(ef_methods_bw)):\n",
    "    method = bd.Method(ef_methods_bw[i])\n",
    "    method_name = ef_methods_bw[i][1]\n",
    "    method_name = method_names_bw(method_name)\n",
    "    cfs = method.load()\n",
    "    regionalized_cfs = []\n",
    "    \n",
    "    for j in cfs:\n",
    "        \n",
    "        if method_name not in methods_to_regionalize:\n",
    "            regionalized_cfs.append(j)\n",
    "        \n",
    "        else:\n",
    "            flow = biosphere_db_dict_code[(j[0][0], j[0][1])]\n",
    "            flow_name = flow['name'].lower()\n",
    "            flow_category_1 = flow['categories'][0]\n",
    "            if len(flow['categories']) == 1:\n",
    "                df_regionalized_flows = ef_cfs[\n",
    "                    (ef_cfs['FLOW_name'].str.lower() == flow_name) \n",
    "                    & (ef_cfs['FLOW_class1'] == flow_category_1)\n",
    "                    & (ef_cfs['FLOW_class2'].isna())\n",
    "                    & (ef_cfs['LCIAMethod_name'].str.lower() == method_name)\n",
    "                ].reset_index()\n",
    "                \n",
    "                if len(df_regionalized_flows) == 0:\n",
    "                    unlinked.append(('biosphere3', flow_name, (flow_category_1,)))\n",
    "                \n",
    "            else:\n",
    "                flow_category_2 = flow['categories'][1]\n",
    "            \n",
    "                df_regionalized_flows = ef_cfs[\n",
    "                    (ef_cfs['FLOW_name'].str.lower() == flow_name) \n",
    "                    & (ef_cfs['FLOW_class1'] == flow_category_1)\n",
    "                    & (ef_cfs['FLOW_class2'] == flow_category_2)\n",
    "                    & (ef_cfs['LCIAMethod_name'].str.lower() == method_name)\n",
    "                ].reset_index()\n",
    "                \n",
    "                if len(df_regionalized_flows) == 0:\n",
    "                    unlinked.append(('biosphere3', flow_name, (flow_category_1, flow_category_2)))\n",
    "            \n",
    "            new_regionalized_cfs, new_unlinked = create_cf_list(df_regionalized_flows)\n",
    "            regionalized_cfs += new_regionalized_cfs\n",
    "            unlinked += new_unlinked\n",
    "    \n",
    "    regionalized_methods[method_name] = regionalized_cfs"
   ],
   "id": "eb1854fec00afeac",
   "outputs": [],
   "execution_count": 15
  },
  {
   "metadata": {
    "ExecuteTime": {
     "end_time": "2024-10-21T22:46:09.877639Z",
     "start_time": "2024-10-21T22:46:09.867280Z"
    }
   },
   "cell_type": "code",
   "source": "list(set([i[1] for i in unlinked if 'biosphere3' == i[0]]))",
   "id": "46678592ca68abe8",
   "outputs": [
    {
     "data": {
      "text/plain": [
       "['occupation, grassland, natural, for livestock grazing',\n",
       " 'occupation, permanent crop, non-irrigated, extensive',\n",
       " 'transformation, from dump site, residual material landfill',\n",
       " 'water',\n",
       " 'transformation, from dump site, sanitary landfill',\n",
       " 'occupation, annual crop, non-irrigated, intensive',\n",
       " 'occupation, permanent crop',\n",
       " 'occupation, unspecified, natural (non-use)',\n",
       " 'transformation, from dump site',\n",
       " 'transformation, from dump site, inert material landfill',\n",
       " 'occupation, urban, green area',\n",
       " 'transformation, to annual crop',\n",
       " 'occupation, pasture, man made',\n",
       " 'transformation, to dump site, residual material landfill',\n",
       " 'occupation, heterogeneous, agricultural',\n",
       " 'occupation, annual crop, greenhouse',\n",
       " 'occupation, permanent crop, irrigated, extensive',\n",
       " 'occupation, permanent crop, non-irrigated',\n",
       " 'transformation, from annual crop',\n",
       " 'occupation, shrub land, sclerophyllous',\n",
       " 'transformation, to dump site, inert material landfill',\n",
       " 'transformation, from unknown',\n",
       " 'occupation, forest, primary (non-use)',\n",
       " 'occupation, urban/industrial fallow (non-use)',\n",
       " 'occupation, forest, secondary (non-use)',\n",
       " 'occupation, arable, conventional tillage (obsolete)',\n",
       " 'occupation, annual crop, irrigated, extensive',\n",
       " 'occupation, pasture, man made, intensive',\n",
       " 'occupation, field margin/hedgerow',\n",
       " 'occupation, grassland, natural (non-use)',\n",
       " 'transformation, to unknown',\n",
       " 'occupation, bare area (non-use)',\n",
       " 'transformation, to dump site',\n",
       " 'occupation, annual crop, non-irrigated',\n",
       " 'occupation, forest, unspecified',\n",
       " 'occupation, wetland, coastal (non-use)',\n",
       " 'occupation, permanent crop, non-irrigated, intensive',\n",
       " 'occupation, wetland, inland (non-use)',\n",
       " 'occupation, pasture, man made, extensive',\n",
       " 'occupation, arable, conservation tillage (obsolete)',\n",
       " 'occupation, permanent crop, irrigated, intensive',\n",
       " 'occupation, annual crop, flooded crop',\n",
       " 'occupation, permanent crop, irrigated',\n",
       " 'occupation, annual crop, irrigated, intensive',\n",
       " 'occupation, annual crop',\n",
       " 'occupation, snow and ice (non-use)',\n",
       " 'occupation, arable land, unspecified use',\n",
       " 'transformation, to dump site, sanitary landfill',\n",
       " 'occupation, annual crop, irrigated',\n",
       " 'occupation, annual crop, non-irrigated, extensive',\n",
       " 'occupation, arable, reduced tillage (obsolete)',\n",
       " 'occupation, cropland fallow (non-use)']"
      ]
     },
     "execution_count": 17,
     "metadata": {},
     "output_type": "execute_result"
    }
   ],
   "execution_count": 17
  },
  {
   "metadata": {
    "ExecuteTime": {
     "end_time": "2024-10-21T22:46:09.893498Z",
     "start_time": "2024-10-21T22:46:09.886259Z"
    }
   },
   "cell_type": "code",
   "source": [
    "# write = False\n",
    "# impact_category_list = list(ef_cfs.LCIAMethod_name.unique())\n",
    "# ef_regionalized_cfs = {}\n",
    "# not_mapped = {}\n",
    "# for cat in impact_category_list:\n",
    "#     ef_regionalized_method = bd.Method(('EF v3.1 regionalized', cat.lower()))\n",
    "#     ef_regionalized_method_metadata = {'unit': ef_units[cat.lower()]}\n",
    "#     ef_regionalized_method.register(**ef_regionalized_method_metadata)\n",
    "#     ef_regionalized_method.write(new_ef_regionalized_cfs)"
   ],
   "id": "f0fcad9301630ec9",
   "outputs": [],
   "execution_count": 19
  },
  {
   "metadata": {
    "ExecuteTime": {
     "end_time": "2024-10-21T22:46:09.897794Z",
     "start_time": "2024-10-21T22:46:09.893498Z"
    }
   },
   "cell_type": "code",
   "source": "",
   "id": "29798b1fb6052cb0",
   "outputs": [],
   "execution_count": 19
  }
 ],
 "metadata": {
  "kernelspec": {
   "display_name": "Python 3",
   "language": "python",
   "name": "python3"
  },
  "language_info": {
   "codemirror_mode": {
    "name": "ipython",
    "version": 2
   },
   "file_extension": ".py",
   "mimetype": "text/x-python",
   "name": "python",
   "nbconvert_exporter": "python",
   "pygments_lexer": "ipython2",
   "version": "2.7.6"
  }
 },
 "nbformat": 4,
 "nbformat_minor": 5
}
