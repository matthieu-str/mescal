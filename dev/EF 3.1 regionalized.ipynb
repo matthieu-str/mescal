{
 "cells": [
  {
   "metadata": {},
   "cell_type": "markdown",
   "source": "# Create the regionalized version of EF 3.1 in brightway",
   "id": "9966ae0cb04953b1"
  },
  {
   "metadata": {
    "ExecuteTime": {
     "end_time": "2024-10-18T19:51:23.705799Z",
     "start_time": "2024-10-18T19:51:18.094488Z"
    }
   },
   "cell_type": "code",
   "source": [
    "import bw2data as bd\n",
    "import numpy as np\n",
    "import pandas as pd\n",
    "from mescal import *"
   ],
   "id": "efe52aa3d1189f6b",
   "outputs": [],
   "execution_count": 1
  },
  {
   "metadata": {
    "ExecuteTime": {
     "end_time": "2024-10-18T19:51:25.356310Z",
     "start_time": "2024-10-18T19:51:23.705799Z"
    }
   },
   "cell_type": "code",
   "source": "bd.projects.set_current(f'ecoinvent3.9.1')",
   "id": "75cb184c1a7628f7",
   "outputs": [],
   "execution_count": 2
  },
  {
   "metadata": {
    "ExecuteTime": {
     "end_time": "2024-10-18T19:51:55.434368Z",
     "start_time": "2024-10-18T19:51:25.356310Z"
    }
   },
   "cell_type": "code",
   "source": "ef_cfs = pd.read_excel('lcia/EF-LCIAMethod_CF(EF-v3.1).xlsx', sheet_name='lciamethods_CF')",
   "id": "b25ba429833a9e36",
   "outputs": [],
   "execution_count": 3
  },
  {
   "metadata": {},
   "cell_type": "markdown",
   "source": "## Create the new methods",
   "id": "534b8d21cac2e661"
  },
  {
   "metadata": {
    "ExecuteTime": {
     "end_time": "2024-10-18T19:51:55.442136Z",
     "start_time": "2024-10-18T19:51:55.436882Z"
    }
   },
   "cell_type": "code",
   "source": [
    "biosphere_names_exceptions = {\n",
    "    'nitrogen monoxide': 'nitric oxide',\n",
    "    'nitrous oxide': 'dinitrogen monoxide',\n",
    "    'HFC-134a': 'Ethane, 1,1,1,2-tetrafluoro-, HFC-134a',\n",
    "}"
   ],
   "id": "c5c7971db2834293",
   "outputs": [],
   "execution_count": 4
  },
  {
   "metadata": {
    "ExecuteTime": {
     "end_time": "2024-10-18T19:51:55.554947Z",
     "start_time": "2024-10-18T19:51:55.442136Z"
    }
   },
   "cell_type": "code",
   "source": [
    "def ecoinvent_compatible_categories(name, cat0, cat1, cat2):\n",
    "    \n",
    "    # if name in biosphere_names_exceptions.keys():\n",
    "    #     name = biosphere_names_exceptions[name]\n",
    "    \n",
    "    if cat0 == 'Emissions':\n",
    "        cat1 = cat1.replace('Emissions to ', '')\n",
    "        cat2 = cat2.replace('Emissions to ', '')\n",
    "        cat2 = cat2.replace('and', '+')\n",
    "        \n",
    "        if cat2 == 'air, unspecified':\n",
    "            cat2 = None\n",
    "        elif cat2 == 'air, unspecified (long-term)':\n",
    "            cat2 = 'low population density, long-term'\n",
    "            \n",
    "        if '(biogenic)' in name:\n",
    "            name = name.replace(' (biogenic)', ', non-fossil')\n",
    "        elif '(fossil)' in name:\n",
    "            name = name.replace(' (fossil)', ', fossil')\n",
    "        elif '(land use change)' in name:\n",
    "            name = name.replace(' (land use change)', ', to soil or biomass stock')\n",
    "        \n",
    "        if 'Particles' in name:\n",
    "            name.replace('Particles', 'Particulate Matter, ')\n",
    "            \n",
    "            if '(PM10)' in name:\n",
    "                name = name.replace('(PM10)', '> 2.5 um and < 10um')\n",
    "            elif '(PM0.2 - PM2.5)' in name:\n",
    "                name = name.replace('(PM0.2 - PM2.5)', '< 2.5 um')\n",
    "        \n",
    "        return name, cat1, cat2\n",
    "    \n",
    "    elif cat0 == 'Land use':\n",
    "        cat1 = cat1.replace('Land ', '')\n",
    "        name = f'{cat1}, {name}'\n",
    "        cat1 = 'natural resource'\n",
    "        cat2 = 'land'\n",
    "        return name, cat1, cat2\n",
    "    \n",
    "    elif cat0 == 'Resources':\n",
    "        cat2 = f\"in {cat1.replace('Resources from ', '')}\"\n",
    "        cat1 = 'natural resource'\n",
    "        return name, cat1, cat2\n",
    "    \n",
    "    else:\n",
    "        raise ValueError(f\"Category0 {cat0} not recognized\")"
   ],
   "id": "9805ce7d05b96e72",
   "outputs": [],
   "execution_count": 5
  },
  {
   "metadata": {
    "ExecuteTime": {
     "end_time": "2024-10-18T19:51:58.969439Z",
     "start_time": "2024-10-18T19:51:55.554947Z"
    }
   },
   "cell_type": "code",
   "source": [
    "biosphere_db_spatialized = Database('biosphere3_spatialized_flows')\n",
    "biosphere_db = Database('biosphere3')"
   ],
   "id": "9681a3aabafe1b36",
   "outputs": [
    {
     "name": "stdout",
     "output_type": "stream",
     "text": [
      "Getting activity data\n"
     ]
    },
    {
     "name": "stderr",
     "output_type": "stream",
     "text": [
      "100%|██████████| 62222/62222 [00:00<00:00, 127954.66it/s]\n"
     ]
    },
    {
     "name": "stdout",
     "output_type": "stream",
     "text": [
      "Adding exchange data to activities\n"
     ]
    },
    {
     "name": "stderr",
     "output_type": "stream",
     "text": [
      "0it [00:00, ?it/s]\n"
     ]
    },
    {
     "name": "stdout",
     "output_type": "stream",
     "text": [
      "Filling out exchange data\n"
     ]
    },
    {
     "name": "stderr",
     "output_type": "stream",
     "text": [
      "100%|██████████| 62222/62222 [00:00<00:00, 3980203.81it/s]\n"
     ]
    },
    {
     "name": "stdout",
     "output_type": "stream",
     "text": [
      "Loaded biosphere3_spatialized_flows from brightway!\n",
      "Getting activity data\n"
     ]
    },
    {
     "name": "stderr",
     "output_type": "stream",
     "text": [
      "100%|██████████| 4718/4718 [00:00<00:00, 301781.62it/s]\n"
     ]
    },
    {
     "name": "stdout",
     "output_type": "stream",
     "text": [
      "Adding exchange data to activities\n"
     ]
    },
    {
     "name": "stderr",
     "output_type": "stream",
     "text": [
      "0it [00:00, ?it/s]\n"
     ]
    },
    {
     "name": "stdout",
     "output_type": "stream",
     "text": [
      "Filling out exchange data\n"
     ]
    },
    {
     "name": "stderr",
     "output_type": "stream",
     "text": [
      "100%|██████████| 4718/4718 [00:00<?, ?it/s]"
     ]
    },
    {
     "name": "stdout",
     "output_type": "stream",
     "text": [
      "Loaded biosphere3 from brightway!\n"
     ]
    },
    {
     "name": "stderr",
     "output_type": "stream",
     "text": [
      "\n"
     ]
    }
   ],
   "execution_count": 6
  },
  {
   "metadata": {
    "ExecuteTime": {
     "end_time": "2024-10-18T20:26:49.531032Z",
     "start_time": "2024-10-18T20:26:49.514413Z"
    }
   },
   "cell_type": "code",
   "source": [
    "def create_cf_list(impact_category, ef_cfs=ef_cfs):\n",
    "    \n",
    "    regionalized_cfs = []\n",
    "    unmapped = []\n",
    "    df = ef_cfs[ef_cfs['LCIAMethod_name'] == impact_category].reset_index(drop=True)\n",
    "    \n",
    "    for i in range(len(df)):\n",
    "        \n",
    "        flow_name = df.loc[i, 'FLOW_name']\n",
    "        \n",
    "        flow_location = df.loc[i, 'LCIAMethod_location']\n",
    "        \n",
    "        flow_cf = df.loc[i, 'CF EF3.1']\n",
    "        \n",
    "        if flow_location is np.nan:\n",
    "            db_name = 'biosphere3'\n",
    "        else:\n",
    "            flow_name = f'{flow_name}, {flow_location}'\n",
    "            db_name = 'biosphere3_spatialized_flows'\n",
    "        \n",
    "        category0 = df.loc[i, 'FLOW_class0']\n",
    "        category1 = df.loc[i, 'FLOW_class1']\n",
    "        category2 = df.loc[i, 'FLOW_class2']\n",
    "        flow_name, category1, category2 = ecoinvent_compatible_categories(flow_name, category0, category1, category2)\n",
    "        \n",
    "        flow_name = flow_name[0].upper() + flow_name[1:] # adding a capital letter to the flow name\n",
    "        \n",
    "        if category2 is not None:\n",
    "            try:\n",
    "                flow_code = [i for i in bd.Database(db_name).search(flow_name, limit=1000) if \n",
    "                         (i['name'] == flow_name)\n",
    "                         & (i['categories'] == (category1, category2))\n",
    "                         ][0]['code']\n",
    "            except IndexError:\n",
    "                unmapped.append((db_name, flow_name, (category1, category2)))\n",
    "                continue\n",
    "        \n",
    "        else:\n",
    "            try:\n",
    "                flow_code = [i for i in bd.Database(db_name).search(flow_name, limit=1000) if \n",
    "                         (i['name'] == flow_name)\n",
    "                         & (i['categories'] == (category1,))\n",
    "                         ][0]['code']\n",
    "            except IndexError:\n",
    "                unmapped.append((db_name, flow_name, (category1, category2)))\n",
    "                continue\n",
    "        \n",
    "        regionalized_cfs.append(((db_name, flow_code), flow_cf))\n",
    "    \n",
    "    return regionalized_cfs, unmapped"
   ],
   "id": "d01c11eb6cf188c0",
   "outputs": [],
   "execution_count": 38
  },
  {
   "metadata": {
    "ExecuteTime": {
     "end_time": "2024-10-18T19:51:58.988683Z",
     "start_time": "2024-10-18T19:51:58.979995Z"
    }
   },
   "cell_type": "code",
   "source": [
    "ef_units = {\n",
    "    'acidification': 'mol H+-Eq',\n",
    "    'climate change': 'kg CO2-Eq',\n",
    "    'climate change: biogenic': 'kg CO2-Eq',\n",
    "    'climate change: fossil': 'kg CO2-Eq',\n",
    "    'climate change: land use and land use change': 'kg CO2-Eq',\n",
    "    'ecotoxicity: freshwater': 'CTUe',\n",
    "    'ecotoxicity: freshwater, inorganics': 'CTUe',\n",
    "    'ecotoxicity: freshwater, organics': 'CTUe',\n",
    "    'energy resources: non-renewable': 'MJ, net calorific value',\n",
    "    'eutrophication: freshwater': 'kg P-Eq',\n",
    "    'eutrophication: marine': 'kg N-Eq',\n",
    "    'eutrophication: terrestrial': 'mol N-Eq',\n",
    "    'human toxicity: carcinogenic': 'CTUh',\n",
    "    'human toxicity: carcinogenic, inorganics': 'CTUh',\n",
    "    'human toxicity: carcinogenic, organics': 'CTUh',\n",
    "    'human toxicity: non-carcinogenic': 'CTUh',\n",
    "    'human toxicity: non-carcinogenic, inorganics': 'CTUh',\n",
    "    'human toxicity: non-carcinogenic, organics': 'CTUh',\n",
    "    'ionising radiation: human health': 'kBq U235-Eq',\n",
    "    'land use': 'dimensionless',\n",
    "    'material resources: metals/minerals': 'kg Sb-Eq',\n",
    "    'ozone depletion': 'kg CFC-11-Eq',\n",
    "    'particulate matter formation': 'disease incidence',\n",
    "    'photochemical oxidant formation: human health': 'kg NMVOC-Eq',\n",
    "    'water use': 'm3 world eq. deprived',\n",
    "}"
   ],
   "id": "6aa7df7cf382f7cb",
   "outputs": [],
   "execution_count": 8
  },
  {
   "metadata": {
    "ExecuteTime": {
     "end_time": "2024-10-18T20:27:59.743099Z",
     "start_time": "2024-10-18T20:27:06.741749Z"
    }
   },
   "cell_type": "code",
   "source": [
    "write = False\n",
    "impact_category_list = list(ef_cfs.LCIAMethod_name.unique())[0:3]\n",
    "ef_regionalized_cfs = {}\n",
    "not_mapped = {}\n",
    "for cat in impact_category_list:\n",
    "    print(cat)\n",
    "    new_ef_regionalized_cfs, new_unmapped = create_cf_list(cat)\n",
    "    ef_regionalized_cfs[cat] = new_ef_regionalized_cfs\n",
    "    not_mapped[cat] = new_unmapped\n",
    "    if write:\n",
    "        ef_regionalized_method = bd.Method(('EF v3.1 regionalized', cat.lower()))\n",
    "        ef_regionalized_method_metadata = {'unit': ef_units[cat.lower()]}\n",
    "        ef_regionalized_method.register(**ef_regionalized_method_metadata)\n",
    "        ef_regionalized_method.write(new_ef_regionalized_cfs)"
   ],
   "id": "50e412cced7d964",
   "outputs": [
    {
     "name": "stdout",
     "output_type": "stream",
     "text": [
      "Acidification\n",
      "Climate change\n",
      "Climate change-Biogenic\n"
     ]
    }
   ],
   "execution_count": 39
  },
  {
   "metadata": {},
   "cell_type": "markdown",
   "source": "## Validation",
   "id": "652ff2c0f45a6003"
  },
  {
   "metadata": {},
   "cell_type": "markdown",
   "source": "Check that all global flows were correctly reproduced",
   "id": "ecdb2a844294d779"
  },
  {
   "metadata": {
    "ExecuteTime": {
     "end_time": "2024-10-18T21:25:20.143520Z",
     "start_time": "2024-10-18T21:25:20.049907Z"
    }
   },
   "cell_type": "code",
   "source": [
    "missing_flows = []\n",
    "for cat in impact_category_list:\n",
    "    cat_bw = cat.replace('-', ': ')\n",
    "    method = bd.Method([i for i in bd.methods if i[0] == 'EF v3.1' and i[1] == cat_bw.lower()][0])\n",
    "    cfs = method.load()\n",
    "    for i in cfs:\n",
    "        if i not in ef_regionalized_cfs[cat]:\n",
    "            # print(i)\n",
    "            i_name = [j for j in biosphere_db.db_as_list if j['code'] == i[0][1]][0]['name']\n",
    "            missing_flows.append(i_name)"
   ],
   "id": "3bc38d67322943e9",
   "outputs": [],
   "execution_count": 57
  },
  {
   "metadata": {},
   "cell_type": "code",
   "outputs": [],
   "execution_count": null,
   "source": "",
   "id": "29b3dc305097870c"
  },
  {
   "metadata": {
    "ExecuteTime": {
     "end_time": "2024-10-18T21:10:59.754855Z",
     "start_time": "2024-10-18T21:10:59.637390Z"
    }
   },
   "cell_type": "code",
   "source": "pd.DataFrame(data=ef_cfs.FLOW_name.unique(), columns=['Name']).to_csv('ef31_names.csv', index=False)",
   "id": "67bcc5de02b572c5",
   "outputs": [],
   "execution_count": 53
  },
  {
   "metadata": {
    "ExecuteTime": {
     "end_time": "2024-10-18T21:26:24.137117Z",
     "start_time": "2024-10-18T21:26:24.114047Z"
    }
   },
   "cell_type": "code",
   "source": "pd.DataFrame(data=list(set(missing_flows)), columns=['Name']).to_csv('biosphere3_names.csv', index=False)",
   "id": "1cc7b3f3c6b3de91",
   "outputs": [],
   "execution_count": 60
  },
  {
   "metadata": {},
   "cell_type": "code",
   "outputs": [],
   "execution_count": null,
   "source": "",
   "id": "2015939c1a680707"
  }
 ],
 "metadata": {
  "kernelspec": {
   "display_name": "Python 3",
   "language": "python",
   "name": "python3"
  },
  "language_info": {
   "codemirror_mode": {
    "name": "ipython",
    "version": 2
   },
   "file_extension": ".py",
   "mimetype": "text/x-python",
   "name": "python",
   "nbconvert_exporter": "python",
   "pygments_lexer": "ipython2",
   "version": "2.7.6"
  }
 },
 "nbformat": 4,
 "nbformat_minor": 5
}
