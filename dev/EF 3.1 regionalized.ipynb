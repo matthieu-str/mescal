{
 "cells": [
  {
   "metadata": {},
   "cell_type": "markdown",
   "source": "# Create the regionalized version of EF 3.1 in brightway",
   "id": "9966ae0cb04953b1"
  },
  {
   "metadata": {
    "ExecuteTime": {
     "end_time": "2024-10-22T21:25:01.577900Z",
     "start_time": "2024-10-22T21:24:56.639111Z"
    }
   },
   "cell_type": "code",
   "source": [
    "import bw2data as bd\n",
    "import numpy as np\n",
    "import pandas as pd\n",
    "from mescal import *"
   ],
   "id": "efe52aa3d1189f6b",
   "outputs": [],
   "execution_count": 1
  },
  {
   "metadata": {
    "ExecuteTime": {
     "end_time": "2024-10-22T21:25:02.846849Z",
     "start_time": "2024-10-22T21:25:01.580617Z"
    }
   },
   "cell_type": "code",
   "source": "bd.projects.set_current(f'ecoinvent3.9.1')",
   "id": "75cb184c1a7628f7",
   "outputs": [],
   "execution_count": 2
  },
  {
   "metadata": {
    "ExecuteTime": {
     "end_time": "2024-10-22T21:25:30.954533Z",
     "start_time": "2024-10-22T21:25:02.847866Z"
    }
   },
   "cell_type": "code",
   "source": [
    "ef_cfs = pd.read_excel('lcia/EF-LCIAMethod_CF(EF-v3.1).xlsx', sheet_name='lciamethods_CF', keep_default_na=False, na_values='')\n",
    "ef_biosphere_mapping = pd.read_csv('lcia/EF31_biosphere_mapping.csv')"
   ],
   "id": "b25ba429833a9e36",
   "outputs": [],
   "execution_count": 3
  },
  {
   "metadata": {
    "ExecuteTime": {
     "end_time": "2024-10-22T21:25:30.962085Z",
     "start_time": "2024-10-22T21:25:30.954533Z"
    }
   },
   "cell_type": "code",
   "source": "ef_biosphere_mapping_dict = ef_biosphere_mapping.groupby('ef')['biosphere'].apply(list).to_dict()",
   "id": "c1ed3b69c2de9d53",
   "outputs": [],
   "execution_count": 4
  },
  {
   "metadata": {},
   "cell_type": "markdown",
   "source": "## Adapt the EF excel file to be compatible with ecoinvent",
   "id": "534b8d21cac2e661"
  },
  {
   "metadata": {
    "ExecuteTime": {
     "end_time": "2024-10-22T21:25:31.052242Z",
     "start_time": "2024-10-22T21:25:30.962085Z"
    }
   },
   "cell_type": "code",
   "source": [
    "def ecoinvent_compatible_categories(name, cat0, cat1, cat2):\n",
    "    \n",
    "    if name.lower() in ef_biosphere_mapping_dict.keys():\n",
    "        name = ef_biosphere_mapping_dict[name.lower()][0]\n",
    "    \n",
    "    if cat0 == 'Emissions':\n",
    "        cat1 = cat1.replace('Emissions to ', '')\n",
    "        cat2 = cat2.replace('Emissions to ', '')\n",
    "        cat2 = cat2.replace('and', '+')\n",
    "        \n",
    "        if cat2 == 'air, unspecified':\n",
    "            cat2 = None\n",
    "        elif cat2 == 'air, unspecified (long-term)':\n",
    "            cat2 = 'low population density, long-term'\n",
    "            \n",
    "        if '(biogenic)' in name:\n",
    "            name = name.replace(' (biogenic)', ', non-fossil')\n",
    "        elif '(fossil)' in name:\n",
    "            name = name.replace(' (fossil)', ', fossil')\n",
    "        elif '(land use change)' in name:\n",
    "            name = name.replace(' (land use change)', ', to soil or biomass stock')\n",
    "        \n",
    "        if 'Particles' in name:\n",
    "            name.replace('Particles', 'Particulate Matter, ')\n",
    "            \n",
    "            if '(PM10)' in name:\n",
    "                name = name.replace('(PM10)', '> 2.5 um and < 10um')\n",
    "            elif '(PM0.2 - PM2.5)' in name:\n",
    "                name = name.replace('(PM0.2 - PM2.5)', '< 2.5 um')\n",
    "    \n",
    "    elif cat0 == 'Land use':\n",
    "        \n",
    "        if ('from ' in name) & (name.replace('from ', '') in ef_biosphere_mapping_dict.keys()):\n",
    "            name = f\"from {ef_biosphere_mapping_dict[name.replace('from ', '')][0]}\"\n",
    "        \n",
    "        elif ('to ' in name) & (name.replace('to ', '') in ef_biosphere_mapping_dict.keys()):\n",
    "            name = f\"to {ef_biosphere_mapping_dict[name.replace('to ', '')][0]}\"\n",
    "        \n",
    "        cat1 = cat1.replace('Land ', '')\n",
    "        name = f'{cat1}, {name}'\n",
    "        cat1 = 'natural resource'\n",
    "        cat2 = 'land'\n",
    "    \n",
    "    elif cat0 == 'Resources':\n",
    "        cat2 = f\"in {cat1.replace('Resources from ', '')}\"\n",
    "        cat1 = 'natural resource'\n",
    "    \n",
    "    else:\n",
    "        raise ValueError(f\"Category0 {cat0} not recognized\")\n",
    "    \n",
    "    return name, cat0, cat1, cat2"
   ],
   "id": "9805ce7d05b96e72",
   "outputs": [],
   "execution_count": 5
  },
  {
   "metadata": {
    "ExecuteTime": {
     "end_time": "2024-10-22T21:25:31.061904Z",
     "start_time": "2024-10-22T21:25:31.054251Z"
    }
   },
   "cell_type": "code",
   "source": [
    "def ecoinvent_compatible_water_flows(name, cat0, cat1, cat2, lcia_cat):\n",
    "    \n",
    "    name = name.lower()\n",
    "    \n",
    "    if lcia_cat.lower() == 'water use':\n",
    "        \n",
    "        if cat0 == 'Resources':\n",
    "            if name == 'ground water':\n",
    "                name = 'water, unspecified natural origin'\n",
    "                cat1 = 'natural resource'\n",
    "                cat2 = 'in ground'\n",
    "            elif name == 'lake water':\n",
    "                name = 'water, lake'\n",
    "                cat1 = 'natural resource'\n",
    "                cat2 = 'in water'\n",
    "            elif name == 'river water':\n",
    "                name = 'water, river'\n",
    "                cat1 = 'natural resource'\n",
    "                cat2 = 'in water'\n",
    "            elif name == 'freshwater':\n",
    "                name = 'water, unspecified natural origin'\n",
    "                cat1 = 'natural resource'\n",
    "                cat2 = 'in water'\n",
    "            elif name == 'water to cooling':\n",
    "                name = 'water, cooling, unspecified natural origin'\n",
    "                cat1 = 'natural resource'\n",
    "                cat2 = 'in water'\n",
    "            elif name == 'water to turbine':\n",
    "                name = 'water, turbine use, unspecified natural origin'\n",
    "                cat1 = 'natural resource'\n",
    "                cat2 = 'in water'\n",
    "        \n",
    "        elif cat0 == 'Emissions':\n",
    "            if (name == 'water') & (cat2 == 'water, unspecified'):\n",
    "                name = 'water'\n",
    "                cat1 = 'water'\n",
    "                cat2 = None\n",
    "        \n",
    "    return name, cat1, cat2"
   ],
   "id": "3d2fc62fef17ad01",
   "outputs": [],
   "execution_count": 6
  },
  {
   "metadata": {
    "ExecuteTime": {
     "end_time": "2024-10-22T21:25:38.024059Z",
     "start_time": "2024-10-22T21:25:31.061904Z"
    }
   },
   "cell_type": "code",
   "source": [
    "# Change the name and categories columns of the EF file to be ecoinvent-compliant \n",
    "ef_cfs[['FLOW_name', 'FLOW_class0', 'FLOW_class1', 'FLOW_class2']] = ef_cfs.apply(lambda x: ecoinvent_compatible_categories(x['FLOW_name'], x['FLOW_class0'], x['FLOW_class1'], x['FLOW_class2']), axis=1, result_type='expand')"
   ],
   "id": "9f84596833eb04af",
   "outputs": [],
   "execution_count": 7
  },
  {
   "metadata": {
    "ExecuteTime": {
     "end_time": "2024-10-22T21:25:45.199264Z",
     "start_time": "2024-10-22T21:25:38.024059Z"
    }
   },
   "cell_type": "code",
   "source": "ef_cfs[['FLOW_name', 'FLOW_class1', 'FLOW_class2']] = ef_cfs.apply(lambda x: ecoinvent_compatible_water_flows(x['FLOW_name'], x['FLOW_class0'], x['FLOW_class1'], x['FLOW_class2'], x['LCIAMethod_name']), axis=1, result_type='expand')",
   "id": "38c053fef0b3d71c",
   "outputs": [],
   "execution_count": 8
  },
  {
   "metadata": {
    "ExecuteTime": {
     "end_time": "2024-10-22T21:25:46.383631Z",
     "start_time": "2024-10-22T21:25:45.199264Z"
    }
   },
   "cell_type": "code",
   "source": [
    "# Add some missing land biosphere flows, as they come from the same EF flow\n",
    "ef_cfs.drop_duplicates(inplace=True)\n",
    "for key, value in ef_biosphere_mapping_dict.items():\n",
    "    if len(value) > 1:\n",
    "        df_to_add = ef_cfs[\n",
    "            (ef_cfs.FLOW_name.str.lower() == f'occupation, {value[0]}')\n",
    "            | (ef_cfs.FLOW_name.str.lower() == f'transformation, from {value[0]}')\n",
    "            | (ef_cfs.FLOW_name.str.lower() == f'transformation, to {value[0]}')\n",
    "        ].copy(deep=True)\n",
    "        for i in range(1, len(value)):\n",
    "            df_to_add['FLOW_name'] = df_to_add['FLOW_name'].apply(lambda x: x.replace(value[i-1], value[i]))\n",
    "            ef_cfs = pd.concat([ef_cfs, df_to_add])\n",
    "\n",
    "ef_cfs.reset_index(drop=True, inplace=True)"
   ],
   "id": "33d8cb9b25689347",
   "outputs": [],
   "execution_count": 9
  },
  {
   "metadata": {
    "ExecuteTime": {
     "end_time": "2024-10-22T21:25:46.757850Z",
     "start_time": "2024-10-22T21:25:46.383631Z"
    }
   },
   "cell_type": "code",
   "source": [
    "# Add missing water flows\n",
    "# First, the missing 'water, well, in ground' and 'fossil well' subcategory water flows\n",
    "missing_water_flows = [\n",
    "    ('water, well, in ground', 'natural resource', 'in water'),\n",
    "    ('water, unspecified natural origin', 'natural resource', 'fossil well'),\n",
    "]\n",
    "df_to_add = ef_cfs[\n",
    "    (ef_cfs.FLOW_name.str.lower() == 'water, unspecified natural origin')\n",
    "    & (ef_cfs.FLOW_class1 == 'natural resource')\n",
    "    & (ef_cfs.FLOW_class2 == 'in ground')\n",
    "].copy(deep=True)\n",
    "for flow_name, cat1, cat2 in missing_water_flows:\n",
    "    df_to_add['FLOW_name'] = flow_name\n",
    "    df_to_add['FLOW_class2'] = cat2\n",
    "    ef_cfs = pd.concat([ef_cfs, df_to_add])\n",
    "\n",
    "# Second, several water emissions flows \n",
    "missing_subcategories = ['fossil well', 'ground-', 'ground-, long-term', 'surface water']\n",
    "df_to_add = ef_cfs[\n",
    "    (ef_cfs.FLOW_name.str.lower() == 'water')\n",
    "    & (ef_cfs.FLOW_class1 == 'water')\n",
    "    & (ef_cfs.FLOW_class2.isna())\n",
    "].copy(deep=True)\n",
    "for subcat in missing_subcategories:\n",
    "    df_to_add['FLOW_class2'] = subcat\n",
    "    ef_cfs = pd.concat([ef_cfs, df_to_add])\n",
    "\n",
    "ef_cfs.reset_index(drop=True, inplace=True)"
   ],
   "id": "333b87d91ceb0750",
   "outputs": [],
   "execution_count": 10
  },
  {
   "metadata": {
    "ExecuteTime": {
     "end_time": "2024-10-22T21:25:51.708526Z",
     "start_time": "2024-10-22T21:25:46.757850Z"
    }
   },
   "cell_type": "code",
   "source": [
    "# Load the biosphere and spatialized biosphere databases \n",
    "biosphere_db_spatialized = Database('biosphere3_spatialized_flows')\n",
    "biosphere_db = Database('biosphere3')"
   ],
   "id": "9681a3aabafe1b36",
   "outputs": [
    {
     "name": "stdout",
     "output_type": "stream",
     "text": [
      "Getting activity data\n"
     ]
    },
    {
     "name": "stderr",
     "output_type": "stream",
     "text": [
      "100%|██████████| 62222/62222 [00:00<00:00, 101598.73it/s]\n"
     ]
    },
    {
     "name": "stdout",
     "output_type": "stream",
     "text": [
      "Adding exchange data to activities\n"
     ]
    },
    {
     "name": "stderr",
     "output_type": "stream",
     "text": [
      "0it [00:00, ?it/s]\n"
     ]
    },
    {
     "name": "stdout",
     "output_type": "stream",
     "text": [
      "Filling out exchange data\n"
     ]
    },
    {
     "name": "stderr",
     "output_type": "stream",
     "text": [
      "100%|██████████| 62222/62222 [00:00<00:00, 3974990.23it/s]\n"
     ]
    },
    {
     "name": "stdout",
     "output_type": "stream",
     "text": [
      "Loaded biosphere3_spatialized_flows from brightway!\n",
      "Getting activity data\n"
     ]
    },
    {
     "name": "stderr",
     "output_type": "stream",
     "text": [
      "100%|██████████| 4718/4718 [00:00<00:00, 301482.77it/s]\n"
     ]
    },
    {
     "name": "stdout",
     "output_type": "stream",
     "text": [
      "Adding exchange data to activities\n"
     ]
    },
    {
     "name": "stderr",
     "output_type": "stream",
     "text": [
      "0it [00:00, ?it/s]\n"
     ]
    },
    {
     "name": "stdout",
     "output_type": "stream",
     "text": [
      "Filling out exchange data\n"
     ]
    },
    {
     "name": "stderr",
     "output_type": "stream",
     "text": [
      "100%|██████████| 4718/4718 [00:00<?, ?it/s]"
     ]
    },
    {
     "name": "stdout",
     "output_type": "stream",
     "text": [
      "Loaded biosphere3 from brightway!\n"
     ]
    },
    {
     "name": "stderr",
     "output_type": "stream",
     "text": [
      "\n"
     ]
    }
   ],
   "execution_count": 11
  },
  {
   "metadata": {
    "ExecuteTime": {
     "end_time": "2024-10-22T21:25:51.757899Z",
     "start_time": "2024-10-22T21:25:51.708526Z"
    }
   },
   "cell_type": "code",
   "source": [
    "biosphere_db_dict_name = biosphere_db.list_to_dict('name', 'biosphere')\n",
    "biosphere_db_spatialized_dict_name = biosphere_db_spatialized.list_to_dict('name', 'biosphere')"
   ],
   "id": "a326a540ae9cce86",
   "outputs": [],
   "execution_count": 12
  },
  {
   "metadata": {
    "ExecuteTime": {
     "end_time": "2024-10-22T21:25:51.786212Z",
     "start_time": "2024-10-22T21:25:51.757899Z"
    }
   },
   "cell_type": "code",
   "source": [
    "biosphere_db_dict_code = biosphere_db.list_to_dict('code', 'biosphere')\n",
    "biosphere_db_spatialized_dict_code = biosphere_db_spatialized.list_to_dict('code', 'biosphere')"
   ],
   "id": "b46a9b7448d84d4c",
   "outputs": [],
   "execution_count": 13
  },
  {
   "metadata": {},
   "cell_type": "markdown",
   "source": "## Create the new regionalized methods",
   "id": "6eed12b74145c1f"
  },
  {
   "metadata": {
    "ExecuteTime": {
     "end_time": "2024-10-22T21:25:51.799324Z",
     "start_time": "2024-10-22T21:25:51.786212Z"
    }
   },
   "cell_type": "code",
   "source": [
    "def create_cf_list(df):\n",
    "    \n",
    "    reg_cfs = []\n",
    "    unmapped = []\n",
    "    \n",
    "    for i in range(len(df)):\n",
    "        \n",
    "        flow_name = df.loc[i, 'FLOW_name']\n",
    "        flow_name = flow_name.lower()\n",
    "        \n",
    "        flow_location = df.loc[i, 'LCIAMethod_location']\n",
    "        \n",
    "        flow_cf = df.loc[i, 'CF EF3.1']\n",
    "        \n",
    "        if flow_location is np.nan:\n",
    "            spatialized_db = False\n",
    "        else:\n",
    "            flow_name = f'{flow_name}, {flow_location}'\n",
    "            spatialized_db = True\n",
    "        \n",
    "        category1 = df.loc[i, 'FLOW_class1']\n",
    "        category2 = df.loc[i, 'FLOW_class2']\n",
    "        \n",
    "        flow_name = flow_name[0].upper() + flow_name[1:]\n",
    "        \n",
    "        if category2 is not None:\n",
    "            \n",
    "            if spatialized_db:\n",
    "                if (flow_name, (category1, category2), 'biosphere3_spatialized_flows') in biosphere_db_spatialized_dict_name.keys():\n",
    "                    flow_code = biosphere_db_spatialized_dict_name[(flow_name, (category1, category2), 'biosphere3_spatialized_flows')]['code']\n",
    "                    reg_cfs.append((('biosphere3_spatialized_flows', flow_code), flow_cf))\n",
    "                else:\n",
    "                    unmapped.append(('biosphere3_spatialized_flows', flow_name, (category1, category2)))\n",
    "            \n",
    "            else:\n",
    "                if (flow_name, (category1, category2), 'biosphere3') in biosphere_db_dict_name.keys():\n",
    "                    flow_code = biosphere_db_dict_name[(flow_name, (category1, category2), 'biosphere3')]['code']\n",
    "                    reg_cfs.append((('biosphere3', flow_code), flow_cf))\n",
    "                else:\n",
    "                    unmapped.append(('biosphere3', flow_name, (category1, category2)))\n",
    "        \n",
    "        else:\n",
    "            \n",
    "            if spatialized_db:\n",
    "                if (flow_name, (category1,), 'biosphere3_spatialized_flows') in biosphere_db_spatialized_dict_name.keys():\n",
    "                    flow_code = biosphere_db_spatialized_dict_name[(flow_name, (category1,), 'biosphere3_spatialized_flows')]['code']\n",
    "                    reg_cfs.append((('biosphere3_spatialized_flows', flow_code), flow_cf))\n",
    "                else:\n",
    "                    unmapped.append(('biosphere3_spatialized_flows', flow_name, (category1,)))\n",
    "            \n",
    "            else:\n",
    "                if (flow_name, (category1,), 'biosphere3') in biosphere_db_dict_name.keys():\n",
    "                    flow_code = biosphere_db_dict_name[(flow_name, (category1,), 'biosphere3')]['code']\n",
    "                    reg_cfs.append((('biosphere3', flow_code), flow_cf))\n",
    "                else:\n",
    "                    unmapped.append(('biosphere3', flow_name, (category1,)))\n",
    "    \n",
    "    return reg_cfs, unmapped"
   ],
   "id": "d01c11eb6cf188c0",
   "outputs": [],
   "execution_count": 14
  },
  {
   "metadata": {
    "ExecuteTime": {
     "end_time": "2024-10-22T21:25:51.806571Z",
     "start_time": "2024-10-22T21:25:51.799324Z"
    }
   },
   "cell_type": "code",
   "source": [
    "def method_names_bw(cat):\n",
    "    # Changes in categories names \n",
    "    cat_bw = cat.replace('EF-', '')\n",
    "    cat_bw = cat_bw.replace('Resource use, fossils', 'Energy resources: non-renewable')\n",
    "    cat_bw = cat_bw.replace('Resource use, minerals and metals', 'Material resources: metals/minerals')\n",
    "    cat_bw = cat_bw.replace('Eutrophication marine', 'eutrophication: marine')\n",
    "    cat_bw = cat_bw.replace('Matter', 'matter formation')\n",
    "    cat_bw = cat_bw.replace('cancer', 'carcinogenic')\n",
    "    cat_bw = cat_bw.replace('ozone', 'oxidant')\n",
    "    cat_bw = cat_bw.replace('-', ': ')\n",
    "    cat_bw = cat_bw.replace(' : ', ':')\n",
    "    cat_bw = cat_bw.replace(',', ':')\n",
    "    cat_bw = cat_bw.replace('_', ', ')\n",
    "    cat_bw = cat_bw.replace('non: ', 'non-')\n",
    "    \n",
    "    return cat_bw"
   ],
   "id": "1645c0e64c4ddaf1",
   "outputs": [],
   "execution_count": 15
  },
  {
   "metadata": {
    "ExecuteTime": {
     "end_time": "2024-10-22T21:26:16.707246Z",
     "start_time": "2024-10-22T21:25:51.806571Z"
    }
   },
   "cell_type": "code",
   "source": [
    "# Create the new set of regionalized impact categories \n",
    "ef_methods_bw = [i for i in bd.methods if i[0] == 'EF v3.1']\n",
    "\n",
    "# Replace the water use method of EF by the one of IW+. Both are based on AWARE, but the one of IW+ is more complete. \n",
    "ef_methods_bw.remove(('EF v3.1', 'water use', 'user deprivation potential (deprivation-weighted water consumption)'))\n",
    "ef_methods_bw.append(('IMPACT World+ Midpoint 2.0.1', 'Midpoint', 'Water scarcity'))\n",
    "\n",
    "regionalized_methods = {}\n",
    "unlinked = []\n",
    "methods_to_regionalize = [\n",
    "    'acidification',\n",
    "    # 'ecotoxicity: freshwater',\n",
    "    # 'ecotoxicity: freshwater, inorganics',\n",
    "    # 'ecotoxicity: freshwater, organics',\n",
    "    # 'eutrophication, marine',\n",
    "    'eutrophication, terrestrial',\n",
    "    'land use',\n",
    "    'water use',\n",
    "] # categories for which regional CF are added, other categories are kept as they are in brightway\n",
    "\n",
    "for i in range(len(ef_methods_bw)):\n",
    "    method = bd.Method(ef_methods_bw[i])\n",
    "    if ef_methods_bw[i][0] == 'EF v3.1':\n",
    "        method_name = ef_methods_bw[i][1]\n",
    "    else:\n",
    "        method_name = ef_methods_bw[i][2] # for the IW+ water scarcity method\n",
    "    method_name = method_names_bw(method_name)\n",
    "    cfs = method.load()\n",
    "    regionalized_cfs = []\n",
    "    \n",
    "    for j in cfs:\n",
    "        \n",
    "        if method_name not in methods_to_regionalize:\n",
    "            regionalized_cfs.append(j)\n",
    "        \n",
    "        else:\n",
    "            flow = biosphere_db_dict_code[(j[0][0], j[0][1])]\n",
    "            flow_name = flow['name'].lower()\n",
    "            flow_category_1 = flow['categories'][0]\n",
    "            if len(flow['categories']) == 1:\n",
    "                df_regionalized_flows = ef_cfs[\n",
    "                    (ef_cfs['FLOW_name'].str.lower() == flow_name) \n",
    "                    & (ef_cfs['FLOW_class1'] == flow_category_1)\n",
    "                    & (ef_cfs['FLOW_class2'].isna())\n",
    "                    & (ef_cfs['LCIAMethod_name'].str.lower() == method_name)\n",
    "                ].reset_index()\n",
    "                \n",
    "                if len(df_regionalized_flows) == 0:\n",
    "                    unlinked.append(('biosphere3', flow_name, (flow_category_1,)))\n",
    "                \n",
    "            else:\n",
    "                flow_category_2 = flow['categories'][1]\n",
    "            \n",
    "                df_regionalized_flows = ef_cfs[\n",
    "                    (ef_cfs['FLOW_name'].str.lower() == flow_name) \n",
    "                    & (ef_cfs['FLOW_class1'] == flow_category_1)\n",
    "                    & (ef_cfs['FLOW_class2'] == flow_category_2)\n",
    "                    & (ef_cfs['LCIAMethod_name'].str.lower() == method_name)\n",
    "                ].reset_index()\n",
    "                \n",
    "                if len(df_regionalized_flows) == 0:\n",
    "                    unlinked.append(('biosphere3', flow_name, (flow_category_1, flow_category_2)))\n",
    "            \n",
    "            new_regionalized_cfs, new_unlinked = create_cf_list(df_regionalized_flows)\n",
    "            regionalized_cfs += new_regionalized_cfs\n",
    "            unlinked += new_unlinked\n",
    "    \n",
    "    regionalized_methods[method_name] = regionalized_cfs"
   ],
   "id": "eb1854fec00afeac",
   "outputs": [],
   "execution_count": 16
  },
  {
   "metadata": {
    "ExecuteTime": {
     "end_time": "2024-10-22T21:26:16.717544Z",
     "start_time": "2024-10-22T21:26:16.707246Z"
    }
   },
   "cell_type": "code",
   "source": "list(set([i[1] for i in unlinked if 'biosphere3' == i[0]]))",
   "id": "46678592ca68abe8",
   "outputs": [
    {
     "data": {
      "text/plain": [
       "[]"
      ]
     },
     "execution_count": 17,
     "metadata": {},
     "output_type": "execute_result"
    }
   ],
   "execution_count": 17
  },
  {
   "metadata": {
    "ExecuteTime": {
     "end_time": "2024-10-22T21:26:26.689421Z",
     "start_time": "2024-10-22T21:26:16.719057Z"
    }
   },
   "cell_type": "code",
   "source": [
    "for method in ef_methods_bw:\n",
    "    if method[2] == 'Water scarcity':\n",
    "        ef_regionalized_method = bd.Method(('EF v3.1 regionalized', 'water use', 'user deprivation potential (deprivation-weighted water consumption)'))\n",
    "        unit = bd.Method(('EF v3.1', 'water use', 'user deprivation potential (deprivation-weighted water consumption)')).metadata['unit']\n",
    "        method_name = 'Water scarcity'\n",
    "    else:\n",
    "        ef_regionalized_method = bd.Method(('EF v3.1 regionalized', method[1], method[2]))\n",
    "        unit = bd.Method(method).metadata['unit']\n",
    "        method_name = method[1]\n",
    "    ef_regionalized_method_metadata = {'unit': unit}\n",
    "    ef_regionalized_method.register(**ef_regionalized_method_metadata)\n",
    "    ef_regionalized_method.write(regionalized_methods[method_name])"
   ],
   "id": "f0fcad9301630ec9",
   "outputs": [
    {
     "ename": "KeyError",
     "evalue": "'ecotoxicity: freshwater, inorganics'",
     "output_type": "error",
     "traceback": [
      "\u001B[1;31m---------------------------------------------------------------------------\u001B[0m",
      "\u001B[1;31mKeyError\u001B[0m                                  Traceback (most recent call last)",
      "Cell \u001B[1;32mIn[18], line 12\u001B[0m\n\u001B[0;32m     10\u001B[0m ef_regionalized_method_metadata \u001B[38;5;241m=\u001B[39m {\u001B[38;5;124m'\u001B[39m\u001B[38;5;124munit\u001B[39m\u001B[38;5;124m'\u001B[39m: unit}\n\u001B[0;32m     11\u001B[0m ef_regionalized_method\u001B[38;5;241m.\u001B[39mregister(\u001B[38;5;241m*\u001B[39m\u001B[38;5;241m*\u001B[39mef_regionalized_method_metadata)\n\u001B[1;32m---> 12\u001B[0m ef_regionalized_method\u001B[38;5;241m.\u001B[39mwrite(\u001B[43mregionalized_methods\u001B[49m\u001B[43m[\u001B[49m\u001B[43mmethod_name\u001B[49m\u001B[43m]\u001B[49m)\n",
      "\u001B[1;31mKeyError\u001B[0m: 'ecotoxicity: freshwater, inorganics'"
     ]
    }
   ],
   "execution_count": 18
  },
  {
   "metadata": {
    "ExecuteTime": {
     "end_time": "2024-10-22T21:26:26.689421Z",
     "start_time": "2024-10-22T21:26:26.689421Z"
    }
   },
   "cell_type": "code",
   "source": "# TODO: print missing locations and biosphere flows",
   "id": "7fb79609f780d2fa",
   "outputs": [],
   "execution_count": null
  },
  {
   "metadata": {
    "ExecuteTime": {
     "end_time": "2024-10-22T21:27:15.767516Z",
     "start_time": "2024-10-22T21:27:15.758017Z"
    }
   },
   "cell_type": "code",
   "source": "regionalized_methods.keys()",
   "id": "eef3bf42ddeaa32f",
   "outputs": [
    {
     "data": {
      "text/plain": [
       "dict_keys(['acidification', 'climate change', 'climate change: biogenic', 'climate change: fossil', 'climate change: land use and land use change', 'ecotoxicity: freshwater', 'ecotoxicity: freshwater: inorganics', 'ecotoxicity: freshwater: organics', 'energy resources: non-renewable', 'eutrophication: freshwater', 'eutrophication: marine', 'eutrophication: terrestrial', 'human toxicity: carcinogenic', 'human toxicity: carcinogenic: inorganics', 'human toxicity: carcinogenic: organics', 'human toxicity: non-carcinogenic', 'human toxicity: non-carcinogenic: inorganics', 'human toxicity: non-carcinogenic: organics', 'ionising radiation: human health', 'land use', 'material resources: metals/minerals', 'oxidant depletion', 'particulate matter formation', 'photochemical oxidant formation: human health', 'Water scarcity'])"
      ]
     },
     "execution_count": 19,
     "metadata": {},
     "output_type": "execute_result"
    }
   ],
   "execution_count": 19
  }
 ],
 "metadata": {
  "kernelspec": {
   "display_name": "Python 3",
   "language": "python",
   "name": "python3"
  },
  "language_info": {
   "codemirror_mode": {
    "name": "ipython",
    "version": 2
   },
   "file_extension": ".py",
   "mimetype": "text/x-python",
   "name": "python",
   "nbconvert_exporter": "python",
   "pygments_lexer": "ipython2",
   "version": "2.7.6"
  }
 },
 "nbformat": 4,
 "nbformat_minor": 5
}
