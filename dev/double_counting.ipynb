{
 "cells": [
  {
   "metadata": {},
   "cell_type": "markdown",
   "source": "# Performs double-counting removal",
   "id": "d90a716bf51866e0"
  },
  {
   "metadata": {
    "ExecuteTime": {
     "end_time": "2024-06-17T18:24:51.125043Z",
     "start_time": "2024-06-17T18:24:43.454789Z"
    }
   },
   "cell_type": "code",
   "source": [
    "from mescal import *\n",
    "import pandas as pd\n",
    "import bw2data as bd"
   ],
   "id": "2724f4192f6e6fc2",
   "execution_count": 1,
   "outputs": []
  },
  {
   "metadata": {
    "ExecuteTime": {
     "end_time": "2024-06-17T18:24:51.178646Z",
     "start_time": "2024-06-17T18:24:51.127096Z"
    }
   },
   "cell_type": "code",
   "source": [
    "mapping_technologies = pd.read_csv('energyscope_data/mapping_linked.csv') # mapping between the esm technologies and LCI datasets\n",
    "mapping_esm_flows_to_CPC = pd.read_csv('energyscope_data/mapping_esm_flows_to_CPC.csv') # mapping between the esm flows and CPC categories\n",
    "model = pd.read_csv('energyscope_data/model.csv') # input output definitions of the esm technologies \n",
    "technology_compositions = pd.read_csv('energyscope_data/technology_compositions.csv') # compositions of the esm technologies\n",
    "technology_specifics = pd.read_csv('energyscope_data/technology_specifics.csv') # specific requirements for the esm technologies"
   ],
   "id": "439f6cbe2a983f50",
   "execution_count": 2,
   "outputs": []
  },
  {
   "metadata": {
    "ExecuteTime": {
     "end_time": "2024-06-17T18:24:51.314089Z",
     "start_time": "2024-06-17T18:24:51.179100Z"
    }
   },
   "cell_type": "code",
   "source": "bd.projects.set_current(\"ei3.8-mescal\")",
   "id": "f2fd2ab5129fe1a1",
   "execution_count": 3,
   "outputs": []
  },
  {
   "metadata": {
    "ExecuteTime": {
     "end_time": "2024-06-17T18:24:58.125172Z",
     "start_time": "2024-06-17T18:24:51.315957Z"
    }
   },
   "cell_type": "code",
   "source": "db = concatenate_databases(list(mapping_technologies.Database.unique()))",
   "id": "82332046de46f4a3",
   "execution_count": 4,
   "outputs": []
  },
  {
   "metadata": {
    "ExecuteTime": {
     "end_time": "2024-06-17T18:24:58.140968Z",
     "start_time": "2024-06-17T18:24:58.125172Z"
    }
   },
   "cell_type": "code",
   "source": "new_db_name = 'energyscope_QC_2020'",
   "id": "5bdcefc16ee07301",
   "execution_count": 5,
   "outputs": []
  },
  {
   "metadata": {},
   "cell_type": "markdown",
   "source": "## New database without foreground regionalization",
   "id": "9d56c266d1e2d631"
  },
  {
   "metadata": {},
   "cell_type": "markdown",
   "source": "### Database creation",
   "id": "8fa6ad6aed43d84c"
  },
  {
   "metadata": {
    "ExecuteTime": {
     "end_time": "2024-06-17T17:54:31.862745Z",
     "start_time": "2024-06-17T17:51:28.685994Z"
    }
   },
   "cell_type": "code",
   "source": [
    "create_esm_database(\n",
    "    mapping=mapping_technologies, \n",
    "    model=model, \n",
    "    tech_specifics=technology_specifics, \n",
    "    technology_compositions=technology_compositions, \n",
    "    mapping_esm_flows_to_CPC_cat=mapping_esm_flows_to_CPC, \n",
    "    main_database=db,\n",
    "    esm_db_name=new_db_name,\n",
    "    results_path_file='energyscope_data/results/'\n",
    ")"
   ],
   "id": "f5f9aeb92d89f7b6",
   "execution_count": 6,
   "outputs": []
  },
  {
   "metadata": {},
   "cell_type": "markdown",
   "source": "### Verification",
   "id": "8b6009fbb2a69fc6"
  },
  {
   "metadata": {
    "ExecuteTime": {
     "end_time": "2024-06-17T17:54:36.509553Z",
     "start_time": "2024-06-17T17:54:31.862745Z"
    }
   },
   "cell_type": "code",
   "source": "new_db = load_extract_db(new_db_name, create_pickle=False)",
   "id": "bd4c0e1235863f0b",
   "execution_count": 7,
   "outputs": []
  },
  {
   "metadata": {
    "ExecuteTime": {
     "end_time": "2024-06-17T17:56:01.191083Z",
     "start_time": "2024-06-17T17:56:01.033668Z"
    }
   },
   "cell_type": "code",
   "source": [
    "res = []\n",
    "for act in new_db:\n",
    "    if 'Subject to double-counting removal (market)' in act['comment']: # we only look at operation LCI datasets that performed double-counting removal\n",
    "        for exc in get_technosphere_flows(act):\n",
    "            if ('maintenance' in exc['name']) | ('treatment' in exc['name']): # we keep maintenance and treatment in the operation LCI (proportional to use)\n",
    "                pass\n",
    "            elif ('EV charger' in exc['name']) | ('airport' in exc['name']): # these entries are proportional to the use phase also\n",
    "                pass\n",
    "            else:\n",
    "                if (exc['amount'] != 0 ) & (exc['unit'] == 'unit'):\n",
    "                    print(f\"Activity: {act['name']}\")\n",
    "                    print(f\"Exchange: {exc['name']}\")\n",
    "                    act_res = [a for a in db if a['code'] == exc['code']][0]\n",
    "                    res.append(act_res['reference product'])\n",
    "                else:\n",
    "                    pass\n",
    "    else:\n",
    "        pass"
   ],
   "id": "3c253b3fa4339e81",
   "execution_count": 14,
   "outputs": []
  },
  {
   "metadata": {
    "ExecuteTime": {
     "end_time": "2024-06-17T17:56:02.149416Z",
     "start_time": "2024-06-17T17:56:02.135870Z"
    }
   },
   "cell_type": "code",
   "source": "list(set(res))",
   "id": "74d6a1f0090f8fcf",
   "execution_count": 15,
   "outputs": []
  },
  {
   "metadata": {},
   "cell_type": "markdown",
   "source": "## New database with foreground regionalization",
   "id": "3f66a4562a7e129b"
  },
  {
   "metadata": {},
   "cell_type": "markdown",
   "source": "### Database creation",
   "id": "bcc66a746209c190"
  },
  {
   "metadata": {
    "ExecuteTime": {
     "end_time": "2024-06-17T18:24:58.173524Z",
     "start_time": "2024-06-17T18:24:58.140968Z"
    }
   },
   "cell_type": "code",
   "source": [
    "my_ranking = [\n",
    "    'CA-QC',\n",
    "    'CA',\n",
    "    'CA-ON',\n",
    "    'CA-AB',\n",
    "    'CA-BC',\n",
    "    'CA-MB',\n",
    "    'CA-NB',\n",
    "    'CA-NF',\n",
    "    'CA-NS',\n",
    "    'CA-NT',\n",
    "    'CA-NU',\n",
    "    'CA-PE',\n",
    "    'CAZ',\n",
    "    'RNA',\n",
    "    'US',\n",
    "    'USA',\n",
    "    'GLO',\n",
    "    'RoW',\n",
    "    'RER',\n",
    "]"
   ],
   "id": "c3ebea34e41b0646",
   "execution_count": 6,
   "outputs": []
  },
  {
   "metadata": {
    "ExecuteTime": {
     "end_time": "2024-06-17T18:24:58.188615Z",
     "start_time": "2024-06-17T18:24:58.176456Z"
    }
   },
   "cell_type": "code",
   "source": "mismatch_regions = ['GLO', 'RoW', 'RER', 'CH'] # insufficient match within ecoinvent",
   "id": "f16c10d821af1583",
   "execution_count": 7,
   "outputs": []
  },
  {
   "metadata": {
    "ExecuteTime": {
     "end_time": "2024-06-17T18:30:23.079296Z",
     "start_time": "2024-06-17T18:24:58.190985Z"
    }
   },
   "cell_type": "code",
   "source": [
    "create_esm_database(\n",
    "    mapping=mapping_technologies, \n",
    "    model=model, \n",
    "    tech_specifics=technology_specifics, \n",
    "    technology_compositions=technology_compositions, \n",
    "    mapping_esm_flows_to_CPC_cat=mapping_esm_flows_to_CPC, \n",
    "    main_database=db,\n",
    "    esm_db_name=new_db_name+\"_reg\",\n",
    "    results_path_file='energyscope_data/results/',\n",
    "    regionalize_foregrounds=True,\n",
    "    mismatch_regions=mismatch_regions,\n",
    "    target_region='CA-QC',\n",
    "    locations_ranking=my_ranking\n",
    ")"
   ],
   "id": "ae52321956c2c5ec",
   "execution_count": 8,
   "outputs": []
  },
  {
   "metadata": {},
   "cell_type": "code",
   "execution_count": null,
   "source": "",
   "id": "fd5006a32015fb51",
   "outputs": []
  }
 ],
 "metadata": {
  "kernelspec": {
   "display_name": "Python 3",
   "language": "python",
   "name": "python3"
  },
  "language_info": {
   "codemirror_mode": {
    "name": "ipython",
    "version": 2
   },
   "file_extension": ".py",
   "mimetype": "text/x-python",
   "name": "python",
   "nbconvert_exporter": "python",
   "pygments_lexer": "ipython2",
   "version": "2.7.6"
  }
 },
 "nbformat": 4,
 "nbformat_minor": 5
}
