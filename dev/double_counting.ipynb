{
 "cells": [
  {
   "metadata": {},
   "cell_type": "markdown",
   "source": "# Performs double-counting removal",
   "id": "d90a716bf51866e0"
  },
  {
   "metadata": {
    "ExecuteTime": {
     "end_time": "2024-06-13T21:35:31.300220Z",
     "start_time": "2024-06-13T21:35:21.180954Z"
    }
   },
   "cell_type": "code",
   "source": [
    "from mescal import *\n",
    "import pandas as pd\n",
    "import bw2data as bd"
   ],
   "id": "2724f4192f6e6fc2",
   "outputs": [],
   "execution_count": 1
  },
  {
   "metadata": {
    "ExecuteTime": {
     "end_time": "2024-06-13T21:35:31.337567Z",
     "start_time": "2024-06-13T21:35:31.303234Z"
    }
   },
   "cell_type": "code",
   "source": [
    "mapping_technologies = pd.read_csv('energyscope_data/mapping_linked.csv') # mapping between the esm technologies and LCI datasets\n",
    "mapping_esm_flows_to_CPC = pd.read_csv('energyscope_data/mapping_esm_flows_to_CPC.csv') # mapping between the esm flows and CPC categories\n",
    "model = pd.read_csv('energyscope_data/model.csv') # inpout output definitions of the esm technologies \n",
    "technology_compositions = pd.read_csv('energyscope_data/technology_compositions.csv') # compositions of the esm technologies\n",
    "technology_specifics = pd.read_csv('energyscope_data/technology_specifics.csv') # specific requirements for the esm technologies"
   ],
   "id": "439f6cbe2a983f50",
   "outputs": [],
   "execution_count": 2
  },
  {
   "metadata": {
    "ExecuteTime": {
     "end_time": "2024-06-13T21:35:31.463316Z",
     "start_time": "2024-06-13T21:35:31.339593Z"
    }
   },
   "cell_type": "code",
   "source": "bd.projects.set_current(\"ei3.8-mescal\")",
   "id": "f2fd2ab5129fe1a1",
   "outputs": [],
   "execution_count": 3
  },
  {
   "metadata": {
    "ExecuteTime": {
     "end_time": "2024-06-13T21:35:38.897630Z",
     "start_time": "2024-06-13T21:35:31.466326Z"
    }
   },
   "cell_type": "code",
   "source": "db = concatenate_databases(list(mapping_technologies.Database.unique()))",
   "id": "82332046de46f4a3",
   "outputs": [],
   "execution_count": 4
  },
  {
   "metadata": {
    "ExecuteTime": {
     "end_time": "2024-06-13T21:35:40.853216Z",
     "start_time": "2024-06-13T21:35:38.898638Z"
    }
   },
   "cell_type": "code",
   "source": [
    "create_esm_database(\n",
    "    mapping=mapping_technologies, \n",
    "    model=model, \n",
    "    tech_specifics=technology_specifics, \n",
    "    technology_compositions=technology_compositions, \n",
    "    mapping_esm_flows_to_CPC_cat=mapping_esm_flows_to_CPC, \n",
    "    main_database=db,\n",
    "    esm_db_name='energyscope_QC_2020'\n",
    ")"
   ],
   "id": "f5f9aeb92d89f7b6",
   "outputs": [
    {
     "name": "stdout",
     "output_type": "stream",
     "text": [
      "AEC_OG\n",
      "ALKALINE_ELECTROLYSIS\n",
      "AL_MAKING\n",
      "AL_MAKING_HR\n",
      "AN_DIG\n",
      "AN_DIG_SI\n",
      "ATR\n",
      "ATR_CCS\n",
      "BIOGAS_ATR\n",
      "BIOGAS_ATR_CCS\n",
      "BIOGAS_BIOMETHANE\n"
     ]
    },
    {
     "ename": "TypeError",
     "evalue": "cannot unpack non-iterable NoneType object",
     "output_type": "error",
     "traceback": [
      "\u001B[1;31m---------------------------------------------------------------------------\u001B[0m",
      "\u001B[1;31mTypeError\u001B[0m                                 Traceback (most recent call last)",
      "Cell \u001B[1;32mIn[5], line 1\u001B[0m\n\u001B[1;32m----> 1\u001B[0m \u001B[43mcreate_esm_database\u001B[49m\u001B[43m(\u001B[49m\n\u001B[0;32m      2\u001B[0m \u001B[43m    \u001B[49m\u001B[43mmapping\u001B[49m\u001B[38;5;241;43m=\u001B[39;49m\u001B[43mmapping_technologies\u001B[49m\u001B[43m,\u001B[49m\u001B[43m \u001B[49m\n\u001B[0;32m      3\u001B[0m \u001B[43m    \u001B[49m\u001B[43mmodel\u001B[49m\u001B[38;5;241;43m=\u001B[39;49m\u001B[43mmodel\u001B[49m\u001B[43m,\u001B[49m\u001B[43m \u001B[49m\n\u001B[0;32m      4\u001B[0m \u001B[43m    \u001B[49m\u001B[43mtech_specifics\u001B[49m\u001B[38;5;241;43m=\u001B[39;49m\u001B[43mtechnology_specifics\u001B[49m\u001B[43m,\u001B[49m\u001B[43m \u001B[49m\n\u001B[0;32m      5\u001B[0m \u001B[43m    \u001B[49m\u001B[43mtechnology_compositions\u001B[49m\u001B[38;5;241;43m=\u001B[39;49m\u001B[43mtechnology_compositions\u001B[49m\u001B[43m,\u001B[49m\u001B[43m \u001B[49m\n\u001B[0;32m      6\u001B[0m \u001B[43m    \u001B[49m\u001B[43mmapping_esm_flows_to_CPC_cat\u001B[49m\u001B[38;5;241;43m=\u001B[39;49m\u001B[43mmapping_esm_flows_to_CPC\u001B[49m\u001B[43m,\u001B[49m\u001B[43m \u001B[49m\n\u001B[0;32m      7\u001B[0m \u001B[43m    \u001B[49m\u001B[43mmain_database\u001B[49m\u001B[38;5;241;43m=\u001B[39;49m\u001B[43mdb\u001B[49m\u001B[43m,\u001B[49m\n\u001B[0;32m      8\u001B[0m \u001B[43m    \u001B[49m\u001B[43mesm_db_name\u001B[49m\u001B[38;5;241;43m=\u001B[39;49m\u001B[38;5;124;43m'\u001B[39;49m\u001B[38;5;124;43menergyscope_QC_2020\u001B[39;49m\u001B[38;5;124;43m'\u001B[39;49m\n\u001B[0;32m      9\u001B[0m \u001B[43m)\u001B[49m\n",
      "File \u001B[1;32m~\\PycharmProjects\\mescal\\mescal\\double_counting.py:622\u001B[0m, in \u001B[0;36mcreate_esm_database\u001B[1;34m(mapping, model, tech_specifics, technology_compositions, mapping_esm_flows_to_CPC_cat, main_database, esm_db_name)\u001B[0m\n\u001B[0;32m    617\u001B[0m main_database \u001B[38;5;241m=\u001B[39m add_activities_to_database(mapping, \u001B[38;5;124m'\u001B[39m\u001B[38;5;124mConstruction\u001B[39m\u001B[38;5;124m'\u001B[39m, main_database, db_dict_name,\n\u001B[0;32m    618\u001B[0m                                            db_dict_code, esm_db_name)\n\u001B[0;32m    619\u001B[0m main_database \u001B[38;5;241m=\u001B[39m add_activities_to_database(mapping, \u001B[38;5;124m'\u001B[39m\u001B[38;5;124mResource\u001B[39m\u001B[38;5;124m'\u001B[39m, main_database, db_dict_name,\n\u001B[0;32m    620\u001B[0m                                            db_dict_code, esm_db_name)\n\u001B[1;32m--> 622\u001B[0m main_database, db_dict_code, db_dict_name, flows_set_to_zero, ei_removal \u001B[38;5;241m=\u001B[39m \u001B[43mdouble_counting_removal\u001B[49m\u001B[43m(\u001B[49m\n\u001B[0;32m    623\u001B[0m \u001B[43m    \u001B[49m\u001B[43mdf_op\u001B[49m\u001B[38;5;241;43m=\u001B[39;49m\u001B[43mmapping_op\u001B[49m\u001B[43m,\u001B[49m\n\u001B[0;32m    624\u001B[0m \u001B[43m    \u001B[49m\u001B[43mdf_constr\u001B[49m\u001B[38;5;241;43m=\u001B[39;49m\u001B[43mmapping_constr\u001B[49m\u001B[43m,\u001B[49m\n\u001B[0;32m    625\u001B[0m \u001B[43m    \u001B[49m\u001B[43mesm_db_name\u001B[49m\u001B[38;5;241;43m=\u001B[39;49m\u001B[43mesm_db_name\u001B[49m\u001B[43m,\u001B[49m\n\u001B[0;32m    626\u001B[0m \u001B[43m    \u001B[49m\u001B[43mmapping_esm_flows_to_CPC\u001B[49m\u001B[38;5;241;43m=\u001B[39;49m\u001B[43mmapping_esm_flows_to_CPC_cat\u001B[49m\u001B[43m,\u001B[49m\n\u001B[0;32m    627\u001B[0m \u001B[43m    \u001B[49m\u001B[43mtechnology_compositions_dict\u001B[49m\u001B[38;5;241;43m=\u001B[39;49m\u001B[43mtechnology_compositions_dict\u001B[49m\u001B[43m,\u001B[49m\n\u001B[0;32m    628\u001B[0m \u001B[43m    \u001B[49m\u001B[43mdb\u001B[49m\u001B[38;5;241;43m=\u001B[39;49m\u001B[43mmain_database\u001B[49m\u001B[43m,\u001B[49m\n\u001B[0;32m    629\u001B[0m \u001B[43m    \u001B[49m\u001B[43mdb_dict_code\u001B[49m\u001B[38;5;241;43m=\u001B[39;49m\u001B[43mdb_dict_code\u001B[49m\u001B[43m,\u001B[49m\n\u001B[0;32m    630\u001B[0m \u001B[43m    \u001B[49m\u001B[43mdb_dict_name\u001B[49m\u001B[38;5;241;43m=\u001B[39;49m\u001B[43mdb_dict_code\u001B[49m\u001B[43m,\u001B[49m\n\u001B[0;32m    631\u001B[0m \u001B[43m    \u001B[49m\u001B[43mN\u001B[49m\u001B[38;5;241;43m=\u001B[39;49m\u001B[43mN\u001B[49m\u001B[43m,\u001B[49m\n\u001B[0;32m    632\u001B[0m \u001B[43m    \u001B[49m\u001B[43mbackground_search_act\u001B[49m\u001B[38;5;241;43m=\u001B[39;49m\u001B[43mbackground_search_act\u001B[49m\u001B[43m,\u001B[49m\n\u001B[0;32m    633\u001B[0m \u001B[43m    \u001B[49m\u001B[43mno_construction_list\u001B[49m\u001B[38;5;241;43m=\u001B[39;49m\u001B[43mno_construction_list\u001B[49m\u001B[43m,\u001B[49m\n\u001B[0;32m    634\u001B[0m \u001B[43m    \u001B[49m\u001B[43mregionalize_foregrounds\u001B[49m\u001B[38;5;241;43m=\u001B[39;49m\u001B[38;5;28;43;01mFalse\u001B[39;49;00m\u001B[43m,\u001B[49m\n\u001B[0;32m    635\u001B[0m \u001B[43m    \u001B[49m\u001B[43mmismatch_regions\u001B[49m\u001B[38;5;241;43m=\u001B[39;49m\u001B[38;5;28;43;01mNone\u001B[39;49;00m\u001B[43m,\u001B[49m\n\u001B[0;32m    636\u001B[0m \u001B[43m    \u001B[49m\u001B[43mtarget_region\u001B[49m\u001B[38;5;241;43m=\u001B[39;49m\u001B[38;5;28;43;01mNone\u001B[39;49;00m\u001B[43m,\u001B[49m\n\u001B[0;32m    637\u001B[0m \u001B[43m    \u001B[49m\u001B[43mlocations_ranking\u001B[49m\u001B[38;5;241;43m=\u001B[39;49m\u001B[38;5;28;43;01mNone\u001B[39;49;00m\n\u001B[0;32m    638\u001B[0m \u001B[43m\u001B[49m\u001B[43m)\u001B[49m\n\u001B[0;32m    640\u001B[0m esm_db \u001B[38;5;241m=\u001B[39m [act \u001B[38;5;28;01mfor\u001B[39;00m act \u001B[38;5;129;01min\u001B[39;00m main_database \u001B[38;5;28;01mif\u001B[39;00m act[\u001B[38;5;124m'\u001B[39m\u001B[38;5;124mdatabase\u001B[39m\u001B[38;5;124m'\u001B[39m] \u001B[38;5;241m==\u001B[39m esm_db_name]\n\u001B[0;32m    642\u001B[0m write_wurst_database_to_brightway(esm_db, esm_db_name)\n",
      "File \u001B[1;32m~\\PycharmProjects\\mescal\\mescal\\double_counting.py:358\u001B[0m, in \u001B[0;36mdouble_counting_removal\u001B[1;34m(df_op, df_constr, esm_db_name, mapping_esm_flows_to_CPC, technology_compositions_dict, db, db_dict_code, db_dict_name, N, background_search_act, no_construction_list, regionalize_foregrounds, mismatch_regions, target_region, locations_ranking)\u001B[0m\n\u001B[0;32m    352\u001B[0m db_dict_name[(new_act_op[\u001B[38;5;124m'\u001B[39m\u001B[38;5;124mname\u001B[39m\u001B[38;5;124m'\u001B[39m],\n\u001B[0;32m    353\u001B[0m               new_act_op[\u001B[38;5;124m'\u001B[39m\u001B[38;5;124mreference product\u001B[39m\u001B[38;5;124m'\u001B[39m],\n\u001B[0;32m    354\u001B[0m               new_act_op[\u001B[38;5;124m'\u001B[39m\u001B[38;5;124mlocation\u001B[39m\u001B[38;5;124m'\u001B[39m],\n\u001B[0;32m    355\u001B[0m               new_act_op[\u001B[38;5;124m'\u001B[39m\u001B[38;5;124mdatabase\u001B[39m\u001B[38;5;124m'\u001B[39m])] \u001B[38;5;241m=\u001B[39m new_act_op\n\u001B[0;32m    356\u001B[0m db_dict_code[(new_act_op[\u001B[38;5;124m'\u001B[39m\u001B[38;5;124mdatabase\u001B[39m\u001B[38;5;124m'\u001B[39m], new_act_op[\u001B[38;5;124m'\u001B[39m\u001B[38;5;124mcode\u001B[39m\u001B[38;5;124m'\u001B[39m])] \u001B[38;5;241m=\u001B[39m new_act_op\n\u001B[1;32m--> 358\u001B[0m perform_d_c, db, db_dict_code, db_dict_name \u001B[38;5;241m=\u001B[39m background_search(\n\u001B[0;32m    359\u001B[0m     act\u001B[38;5;241m=\u001B[39mnew_act_op,\n\u001B[0;32m    360\u001B[0m     k\u001B[38;5;241m=\u001B[39m\u001B[38;5;241m0\u001B[39m,\n\u001B[0;32m    361\u001B[0m     k_lim\u001B[38;5;241m=\u001B[39m\u001B[38;5;241m10\u001B[39m,\n\u001B[0;32m    362\u001B[0m     amount\u001B[38;5;241m=\u001B[39m\u001B[38;5;241m1\u001B[39m,\n\u001B[0;32m    363\u001B[0m     explore_type\u001B[38;5;241m=\u001B[39m\u001B[38;5;124m'\u001B[39m\u001B[38;5;124mmarket\u001B[39m\u001B[38;5;124m'\u001B[39m,\n\u001B[0;32m    364\u001B[0m     ES_inputs\u001B[38;5;241m=\u001B[39m\u001B[38;5;124m'\u001B[39m\u001B[38;5;124mall\u001B[39m\u001B[38;5;124m'\u001B[39m,\n\u001B[0;32m    365\u001B[0m     db\u001B[38;5;241m=\u001B[39mdb,\n\u001B[0;32m    366\u001B[0m     db_dict_code\u001B[38;5;241m=\u001B[39mdb_dict_code,\n\u001B[0;32m    367\u001B[0m     db_dict_name\u001B[38;5;241m=\u001B[39mdb_dict_name,\n\u001B[0;32m    368\u001B[0m     esm_db_name\u001B[38;5;241m=\u001B[39mesm_db_name,\n\u001B[0;32m    369\u001B[0m     perform_d_c\u001B[38;5;241m=\u001B[39m[]\n\u001B[0;32m    370\u001B[0m )  \u001B[38;5;66;03m# list of activities to perform double counting removal on\u001B[39;00m\n\u001B[0;32m    372\u001B[0m new_act_op[\u001B[38;5;124m'\u001B[39m\u001B[38;5;124mname\u001B[39m\u001B[38;5;124m'\u001B[39m] \u001B[38;5;241m=\u001B[39m \u001B[38;5;124mf\u001B[39m\u001B[38;5;124m'\u001B[39m\u001B[38;5;132;01m{\u001B[39;00mtech\u001B[38;5;132;01m}\u001B[39;00m\u001B[38;5;124m, Operation\u001B[39m\u001B[38;5;124m'\u001B[39m  \u001B[38;5;66;03m# saving name after market identification\u001B[39;00m\n\u001B[0;32m    373\u001B[0m prod_flow \u001B[38;5;241m=\u001B[39m get_production_flow(new_act_op)\n",
      "\u001B[1;31mTypeError\u001B[0m: cannot unpack non-iterable NoneType object"
     ]
    }
   ],
   "execution_count": 5
  },
  {
   "metadata": {
    "ExecuteTime": {
     "end_time": "2024-06-13T21:35:40.853216Z",
     "start_time": "2024-06-13T21:35:40.853216Z"
    }
   },
   "cell_type": "code",
   "source": "",
   "id": "3015859290e9a626",
   "outputs": [],
   "execution_count": null
  },
  {
   "metadata": {},
   "cell_type": "code",
   "source": "",
   "id": "bd4c0e1235863f0b",
   "outputs": [],
   "execution_count": null
  }
 ],
 "metadata": {
  "kernelspec": {
   "display_name": "Python 3",
   "language": "python",
   "name": "python3"
  },
  "language_info": {
   "codemirror_mode": {
    "name": "ipython",
    "version": 2
   },
   "file_extension": ".py",
   "mimetype": "text/x-python",
   "name": "python",
   "nbconvert_exporter": "python",
   "pygments_lexer": "ipython2",
   "version": "2.7.6"
  }
 },
 "nbformat": 4,
 "nbformat_minor": 5
}
