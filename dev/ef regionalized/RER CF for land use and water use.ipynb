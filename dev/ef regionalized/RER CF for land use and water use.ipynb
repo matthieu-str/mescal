{
 "cells": [
  {
   "metadata": {},
   "cell_type": "markdown",
   "source": "# Computation of the RER CF for land use",
   "id": "1f24a41309b064e9"
  },
  {
   "metadata": {},
   "cell_type": "markdown",
   "source": "Based on country-specific CFs, we compute the one of RER which is an average weighted by the surface area of each country (i.e., similarly as the global average was computed in the original method).",
   "id": "24c84838c840227a"
  },
  {
   "metadata": {
    "ExecuteTime": {
     "end_time": "2025-01-13T20:06:54.122088Z",
     "start_time": "2025-01-13T20:06:50.158968Z"
    }
   },
   "cell_type": "code",
   "source": [
    "import pandas as pd\n",
    "import country_converter as coco"
   ],
   "id": "eed88080e7f327c0",
   "outputs": [],
   "execution_count": 1
  },
  {
   "metadata": {
    "ExecuteTime": {
     "end_time": "2025-01-13T20:08:01.046976Z",
     "start_time": "2025-01-13T20:06:54.122088Z"
    }
   },
   "cell_type": "code",
   "source": [
    "country_surface = pd.read_csv('data/world_bank_country_surface_area.csv')\n",
    "ef_cfs = pd.read_excel('data/EF-LCIAMethod_CF(EF-v3.1).xlsx', sheet_name='lciamethods_CF', keep_default_na=False, na_values='')"
   ],
   "id": "2e4e0a3bf96659ef",
   "outputs": [],
   "execution_count": 2
  },
  {
   "metadata": {
    "ExecuteTime": {
     "end_time": "2025-01-13T20:08:01.640342Z",
     "start_time": "2025-01-13T20:08:01.046976Z"
    }
   },
   "cell_type": "code",
   "source": "country_surface['Country code (ISO2)'] = coco.convert(names=list(country_surface['Country Name']), to='ISO2')",
   "id": "95c6d2c5dceccf89",
   "outputs": [
    {
     "name": "stderr",
     "output_type": "stream",
     "text": [
      "Africa Eastern and Southern not found in regex\n",
      "Africa Western and Central not found in regex\n",
      "Arab World not found in regex\n",
      "Central Europe and the Baltics not found in regex\n",
      "Channel Islands not found in regex\n",
      "Caribbean small states not found in regex\n",
      "East Asia & Pacific ( not found in regex\n",
      "Early-demographic dividend not found in regex\n",
      "East Asia & Pacific not found in regex\n",
      "Europe & Central Asia ( not found in regex\n",
      "Europe & Central Asia not found in regex\n",
      "Euro area not found in regex\n",
      "European Union not found in regex\n",
      "Fragile and conflict affected situations not found in regex\n",
      "High income not found in regex\n",
      "Heavily indebted poor countries (HIPC) not found in regex\n",
      "IBRD only not found in regex\n",
      "IDA & IBRD total not found in regex\n",
      "IDA total not found in regex\n",
      "IDA blend not found in regex\n",
      "IDA only not found in regex\n",
      "Not classified not found in regex\n",
      "Latin America & Caribbean ( not found in regex\n",
      "Latin America & Caribbean not found in regex\n",
      "Least developed countries: UN classification not found in regex\n",
      "Low income not found in regex\n",
      "Lower middle income not found in regex\n",
      "Low & middle income not found in regex\n",
      "Late-demographic dividend not found in regex\n",
      "Middle East & North Africa not found in regex\n",
      "Middle income not found in regex\n",
      "Middle East & North Africa ( not found in regex\n",
      "North America not found in regex\n",
      "OECD members not found in regex\n",
      "Other small states not found in regex\n",
      "Pre-demographic dividend not found in regex\n",
      "Pacific island small states not found in regex\n",
      "Post-demographic dividend not found in regex\n",
      "South Asia not found in regex\n",
      "Sub-Saharan Africa ( not found in regex\n",
      "Sub-Saharan Africa not found in regex\n",
      "Small states not found in regex\n",
      "East Asia & Pacific (IDA & IBRD countries) not found in regex\n",
      "Europe & Central Asia (IDA & IBRD countries) not found in regex\n",
      "Latin America & the Caribbean (IDA & IBRD countries) not found in regex\n",
      "Middle East & North Africa (IDA & IBRD countries) not found in regex\n",
      "South Asia (IDA & IBRD) not found in regex\n",
      "Sub-Saharan Africa (IDA & IBRD countries) not found in regex\n",
      "Upper middle income not found in regex\n",
      "World not found in regex\n"
     ]
    }
   ],
   "execution_count": 3
  },
  {
   "metadata": {
    "ExecuteTime": {
     "end_time": "2025-01-13T20:08:01.842697Z",
     "start_time": "2025-01-13T20:08:01.640342Z"
    }
   },
   "cell_type": "code",
   "source": [
    "ef_cfs_lu_glo = ef_cfs[(ef_cfs['LCIAMethod_name'] == 'Land use') & (ef_cfs.LCIAMethod_location.isna())]\n",
    "ef_cfs_lu_lt = ef_cfs[(ef_cfs['LCIAMethod_name'] == 'Land use') & (ef_cfs['FLOW_class1'] == 'Land transformation')]\n",
    "ef_cfs_lu_lo = ef_cfs[(ef_cfs['LCIAMethod_name'] == 'Land use') & (ef_cfs['FLOW_class1'] == 'Land occupation')]"
   ],
   "id": "1c00544e2c2a4e49",
   "outputs": [],
   "execution_count": 4
  },
  {
   "metadata": {
    "ExecuteTime": {
     "end_time": "2025-01-13T20:08:01.859209Z",
     "start_time": "2025-01-13T20:08:01.842697Z"
    }
   },
   "cell_type": "code",
   "source": [
    "european_countries_full_names = [\n",
    "    'Liechtenstein',\n",
    "    'Armenia',\n",
    "    'Lithuania',\n",
    "    'Austria',\n",
    "    'Luxembourg',\n",
    "    'Azerbaijan',\n",
    "    'Malta',\n",
    "    'Belarus',\n",
    "    'Moldova',\n",
    "    'Belgium',\n",
    "    'Monaco',\n",
    "    'Bosnia and Herzegovina',\n",
    "    'Montenegro',\n",
    "    'Bulgaria',\n",
    "    'Netherlands',\n",
    "    'Croatia',\n",
    "    'Norway',\n",
    "    'Cyprus',\n",
    "    'Poland',\n",
    "    'Czech Republic',\n",
    "    'Portugal',\n",
    "    'Denmark',\n",
    "    'Romania',\n",
    "    'Estonia',\n",
    "    'Russia',\n",
    "    'Finland',\n",
    "    'San Marino',\n",
    "    'Former Yugoslav Republic of Macedonia',\n",
    "    'Serbia',\n",
    "    'France',\n",
    "    'Slovakia',\n",
    "    'Georgia',\n",
    "    'Slovenia',\n",
    "    'Germany',\n",
    "    'Spain',\n",
    "    'Greece',\n",
    "    'Sweden',\n",
    "    'Hungary',\n",
    "    'Sweden',\n",
    "    'Iceland',\n",
    "    'Switzerland',\n",
    "    'Ireland',\n",
    "    'Turkey',\n",
    "    'Italy',\n",
    "    'Ukraine',\n",
    "    'Kosovo',\n",
    "    'United Kingdom',\n",
    "]"
   ],
   "id": "7274653b4be4e18f",
   "outputs": [],
   "execution_count": 5
  },
  {
   "metadata": {
    "ExecuteTime": {
     "end_time": "2025-01-13T20:08:02.027061Z",
     "start_time": "2025-01-13T20:08:01.862271Z"
    }
   },
   "cell_type": "code",
   "source": "european_countries_iso2 = coco.convert(names=european_countries_full_names, to='ISO2')",
   "id": "f3b2604cf819b971",
   "outputs": [],
   "execution_count": 6
  },
  {
   "metadata": {
    "ExecuteTime": {
     "end_time": "2025-01-13T20:08:02.077769Z",
     "start_time": "2025-01-13T20:08:02.027061Z"
    }
   },
   "cell_type": "code",
   "source": [
    "ef_cfs_lu_lt_europe = ef_cfs_lu_lt[ef_cfs_lu_lt['LCIAMethod_location'].isin(european_countries_iso2)]\n",
    "ef_cfs_lu_lo_europe = ef_cfs_lu_lo[ef_cfs_lu_lo['LCIAMethod_location'].isin(european_countries_iso2)]"
   ],
   "id": "f051cf5b44ef76be",
   "outputs": [],
   "execution_count": 7
  },
  {
   "metadata": {
    "ExecuteTime": {
     "end_time": "2025-01-13T20:08:02.098937Z",
     "start_time": "2025-01-13T20:08:02.077769Z"
    }
   },
   "cell_type": "code",
   "source": [
    "ef_cfs_lu_lt_europe = ef_cfs_lu_lt_europe.merge(country_surface[['Country code (ISO2)', '2022']], how='left', left_on='LCIAMethod_location', right_on='Country code (ISO2)')\n",
    "ef_cfs_lu_lo_europe = ef_cfs_lu_lo_europe.merge(country_surface[['Country code (ISO2)', '2022']], how='left', left_on='LCIAMethod_location', right_on='Country code (ISO2)')"
   ],
   "id": "629834a85dd01476",
   "outputs": [],
   "execution_count": 8
  },
  {
   "metadata": {
    "ExecuteTime": {
     "end_time": "2025-01-13T20:08:02.125345Z",
     "start_time": "2025-01-13T20:08:02.101369Z"
    }
   },
   "cell_type": "code",
   "source": [
    "# If a few locations have no surface area data, they are neglected\n",
    "print(ef_cfs_lu_lt_europe[ef_cfs_lu_lt_europe['2022'].isna()].LCIAMethod_location.unique())\n",
    "print(ef_cfs_lu_lo_europe[ef_cfs_lu_lo_europe['2022'].isna()].LCIAMethod_location.unique())\n",
    "ef_cfs_lu_lt_europe.dropna(subset=['2022'], inplace=True)\n",
    "ef_cfs_lu_lo_europe.dropna(subset=['2022'], inplace=True)"
   ],
   "id": "b9c5f3a7212a90d7",
   "outputs": [
    {
     "name": "stdout",
     "output_type": "stream",
     "text": [
      "[]\n",
      "[]\n"
     ]
    }
   ],
   "execution_count": 9
  },
  {
   "metadata": {
    "ExecuteTime": {
     "end_time": "2025-01-13T20:08:02.147936Z",
     "start_time": "2025-01-13T20:08:02.129491Z"
    }
   },
   "cell_type": "code",
   "source": [
    "def weighted_average(df, value_column, weight_column):\n",
    "    return (df[value_column] * df[weight_column]).sum() / df[weight_column].sum()"
   ],
   "id": "bdb89f7386771f21",
   "outputs": [],
   "execution_count": 10
  },
  {
   "metadata": {
    "ExecuteTime": {
     "end_time": "2025-01-13T20:08:02.230629Z",
     "start_time": "2025-01-13T20:08:02.152258Z"
    }
   },
   "cell_type": "code",
   "source": [
    "# Group by \"FLOW_name\" and apply the weighted average function\n",
    "weighted_avg_lt_df = ef_cfs_lu_lt_europe.groupby('FLOW_name').apply(\n",
    "    lambda x: weighted_average(x, 'CF EF3.1', '2022')\n",
    ").reset_index(name='CF EF3.1')\n",
    "weighted_avg_lo_df = ef_cfs_lu_lo_europe.groupby('FLOW_name').apply(\n",
    "    lambda x: weighted_average(x, 'CF EF3.1', '2022')\n",
    ").reset_index(name='CF EF3.1')"
   ],
   "id": "52ccd1dcdefbc3bb",
   "outputs": [
    {
     "name": "stderr",
     "output_type": "stream",
     "text": [
      "C:\\Users\\matth\\AppData\\Local\\Temp\\ipykernel_44488\\96365720.py:2: DeprecationWarning: DataFrameGroupBy.apply operated on the grouping columns. This behavior is deprecated, and in a future version of pandas the grouping columns will be excluded from the operation. Either pass `include_groups=False` to exclude the groupings or explicitly select the grouping columns after groupby to silence this warning.\n",
      "  weighted_avg_lt_df = ef_cfs_lu_lt_europe.groupby('FLOW_name').apply(\n",
      "C:\\Users\\matth\\AppData\\Local\\Temp\\ipykernel_44488\\96365720.py:5: DeprecationWarning: DataFrameGroupBy.apply operated on the grouping columns. This behavior is deprecated, and in a future version of pandas the grouping columns will be excluded from the operation. Either pass `include_groups=False` to exclude the groupings or explicitly select the grouping columns after groupby to silence this warning.\n",
      "  weighted_avg_lo_df = ef_cfs_lu_lo_europe.groupby('FLOW_name').apply(\n"
     ]
    }
   ],
   "execution_count": 11
  },
  {
   "metadata": {
    "ExecuteTime": {
     "end_time": "2025-01-13T20:08:02.240682Z",
     "start_time": "2025-01-13T20:08:02.230629Z"
    }
   },
   "cell_type": "code",
   "source": [
    "weighted_avg_lt_df['FLOW_class1'] = 'Land transformation'\n",
    "weighted_avg_lo_df['FLOW_class1'] = 'Land occupation'"
   ],
   "id": "5be41fed4e13fc96",
   "outputs": [],
   "execution_count": 12
  },
  {
   "metadata": {
    "ExecuteTime": {
     "end_time": "2025-01-13T20:08:02.251841Z",
     "start_time": "2025-01-13T20:08:02.243226Z"
    }
   },
   "cell_type": "code",
   "source": "weighted_avg_df = pd.concat([weighted_avg_lt_df, weighted_avg_lo_df])",
   "id": "60dbcd18a2e40903",
   "outputs": [],
   "execution_count": 13
  },
  {
   "metadata": {
    "ExecuteTime": {
     "end_time": "2025-01-13T20:08:02.262746Z",
     "start_time": "2025-01-13T20:08:02.254889Z"
    }
   },
   "cell_type": "code",
   "source": [
    "weighted_avg_df['FLOW_class0'] = 'Land use'\n",
    "weighted_avg_df['LCIAMethod_location'] = 'RER'"
   ],
   "id": "ee3249891d3d724a",
   "outputs": [],
   "execution_count": 14
  },
  {
   "metadata": {
    "ExecuteTime": {
     "end_time": "2025-01-13T20:08:02.280161Z",
     "start_time": "2025-01-13T20:08:02.264460Z"
    }
   },
   "cell_type": "code",
   "source": "weighted_avg_df = weighted_avg_df.merge(right=ef_cfs_lu_glo[['FLOW_uuid', 'FLOW_name', 'LCIAMethod_uuid EF3.1', 'LCIAMethod_name', 'FLOW_class0', 'FLOW_class1', 'FLOW_class2', 'LCIAMethod_derivation', 'LCIAMethod_direction']], on=['FLOW_name', 'FLOW_class0', 'FLOW_class1'], how='left')",
   "id": "a9c58bca3200e8c2",
   "outputs": [],
   "execution_count": 15
  },
  {
   "metadata": {
    "ExecuteTime": {
     "end_time": "2025-01-13T20:08:02.328271Z",
     "start_time": "2025-01-13T20:08:02.282553Z"
    }
   },
   "cell_type": "code",
   "source": "weighted_avg_df",
   "id": "bf73c49bc98473dc",
   "outputs": [
    {
     "data": {
      "text/plain": [
       "                      FLOW_name    CF EF3.1          FLOW_class1 FLOW_class0  \\\n",
       "0              from agriculture -287.774023  Land transformation    Land use   \n",
       "1      from agriculture, mosaic -287.774023  Land transformation    Land use   \n",
       "2                   from arable -290.360454  Land transformation    Land use   \n",
       "3           from arable, fallow -292.947479  Land transformation    Land use   \n",
       "4    from arable, flooded crops -280.032433  Land transformation    Land use   \n",
       "..                          ...         ...                  ...         ...   \n",
       "166          urban, green areas   36.115544      Land occupation    Land use   \n",
       "167     urban/industrial fallow  131.437295      Land occupation    Land use   \n",
       "168                    wetlands  -22.280758      Land occupation    Land use   \n",
       "169           wetlands, coastal  -22.280758      Land occupation    Land use   \n",
       "170            wetlands, inland  -22.280758      Land occupation    Land use   \n",
       "\n",
       "    LCIAMethod_location                             FLOW_uuid  \\\n",
       "0                   RER  c0143eba-3daf-44ad-8d34-6e1d34128ace   \n",
       "1                   RER  aeea42cc-4215-465f-981f-ae2ab387fbb9   \n",
       "2                   RER  9699a63f-c966-43a4-816c-b1fbbf0a3e88   \n",
       "3                   RER  67055318-bad9-420f-ae31-9ba54456518d   \n",
       "4                   RER  d31e09db-9fc4-4842-8366-14dae068b402   \n",
       "..                  ...                                   ...   \n",
       "166                 RER  42378359-15eb-4e60-8f72-b796b9d71e69   \n",
       "167                 RER  1c6a1585-0329-4134-aa24-b0aca0c5af11   \n",
       "168                 RER  f0efe0f8-35ff-4d74-b084-38b4319c8a84   \n",
       "169                 RER  4c3b387c-8c28-4848-90fe-39620a81a013   \n",
       "170                 RER  4d88d516-d8b4-4799-b3eb-44d57dd3e9a7   \n",
       "\n",
       "                    LCIAMethod_uuid EF3.1 LCIAMethod_name FLOW_class2  \\\n",
       "0    b2ad6890-c78d-11e6-9d9d-cec0c932ce01        Land use         NaN   \n",
       "1    b2ad6890-c78d-11e6-9d9d-cec0c932ce01        Land use         NaN   \n",
       "2    b2ad6890-c78d-11e6-9d9d-cec0c932ce01        Land use         NaN   \n",
       "3    b2ad6890-c78d-11e6-9d9d-cec0c932ce01        Land use         NaN   \n",
       "4    b2ad6890-c78d-11e6-9d9d-cec0c932ce01        Land use         NaN   \n",
       "..                                    ...             ...         ...   \n",
       "166  b2ad6890-c78d-11e6-9d9d-cec0c932ce01        Land use         NaN   \n",
       "167  b2ad6890-c78d-11e6-9d9d-cec0c932ce01        Land use         NaN   \n",
       "168  b2ad6890-c78d-11e6-9d9d-cec0c932ce01        Land use         NaN   \n",
       "169  b2ad6890-c78d-11e6-9d9d-cec0c932ce01        Land use         NaN   \n",
       "170  b2ad6890-c78d-11e6-9d9d-cec0c932ce01        Land use         NaN   \n",
       "\n",
       "    LCIAMethod_derivation LCIAMethod_direction  \n",
       "0              Calculated                Input  \n",
       "1              Calculated                Input  \n",
       "2              Calculated                Input  \n",
       "3              Calculated                Input  \n",
       "4              Calculated                Input  \n",
       "..                    ...                  ...  \n",
       "166            Calculated                Input  \n",
       "167            Calculated                Input  \n",
       "168            Calculated                Input  \n",
       "169            Calculated                Input  \n",
       "170            Calculated                Input  \n",
       "\n",
       "[171 rows x 11 columns]"
      ],
      "text/html": [
       "<div>\n",
       "<style scoped>\n",
       "    .dataframe tbody tr th:only-of-type {\n",
       "        vertical-align: middle;\n",
       "    }\n",
       "\n",
       "    .dataframe tbody tr th {\n",
       "        vertical-align: top;\n",
       "    }\n",
       "\n",
       "    .dataframe thead th {\n",
       "        text-align: right;\n",
       "    }\n",
       "</style>\n",
       "<table border=\"1\" class=\"dataframe\">\n",
       "  <thead>\n",
       "    <tr style=\"text-align: right;\">\n",
       "      <th></th>\n",
       "      <th>FLOW_name</th>\n",
       "      <th>CF EF3.1</th>\n",
       "      <th>FLOW_class1</th>\n",
       "      <th>FLOW_class0</th>\n",
       "      <th>LCIAMethod_location</th>\n",
       "      <th>FLOW_uuid</th>\n",
       "      <th>LCIAMethod_uuid EF3.1</th>\n",
       "      <th>LCIAMethod_name</th>\n",
       "      <th>FLOW_class2</th>\n",
       "      <th>LCIAMethod_derivation</th>\n",
       "      <th>LCIAMethod_direction</th>\n",
       "    </tr>\n",
       "  </thead>\n",
       "  <tbody>\n",
       "    <tr>\n",
       "      <th>0</th>\n",
       "      <td>from agriculture</td>\n",
       "      <td>-287.774023</td>\n",
       "      <td>Land transformation</td>\n",
       "      <td>Land use</td>\n",
       "      <td>RER</td>\n",
       "      <td>c0143eba-3daf-44ad-8d34-6e1d34128ace</td>\n",
       "      <td>b2ad6890-c78d-11e6-9d9d-cec0c932ce01</td>\n",
       "      <td>Land use</td>\n",
       "      <td>NaN</td>\n",
       "      <td>Calculated</td>\n",
       "      <td>Input</td>\n",
       "    </tr>\n",
       "    <tr>\n",
       "      <th>1</th>\n",
       "      <td>from agriculture, mosaic</td>\n",
       "      <td>-287.774023</td>\n",
       "      <td>Land transformation</td>\n",
       "      <td>Land use</td>\n",
       "      <td>RER</td>\n",
       "      <td>aeea42cc-4215-465f-981f-ae2ab387fbb9</td>\n",
       "      <td>b2ad6890-c78d-11e6-9d9d-cec0c932ce01</td>\n",
       "      <td>Land use</td>\n",
       "      <td>NaN</td>\n",
       "      <td>Calculated</td>\n",
       "      <td>Input</td>\n",
       "    </tr>\n",
       "    <tr>\n",
       "      <th>2</th>\n",
       "      <td>from arable</td>\n",
       "      <td>-290.360454</td>\n",
       "      <td>Land transformation</td>\n",
       "      <td>Land use</td>\n",
       "      <td>RER</td>\n",
       "      <td>9699a63f-c966-43a4-816c-b1fbbf0a3e88</td>\n",
       "      <td>b2ad6890-c78d-11e6-9d9d-cec0c932ce01</td>\n",
       "      <td>Land use</td>\n",
       "      <td>NaN</td>\n",
       "      <td>Calculated</td>\n",
       "      <td>Input</td>\n",
       "    </tr>\n",
       "    <tr>\n",
       "      <th>3</th>\n",
       "      <td>from arable, fallow</td>\n",
       "      <td>-292.947479</td>\n",
       "      <td>Land transformation</td>\n",
       "      <td>Land use</td>\n",
       "      <td>RER</td>\n",
       "      <td>67055318-bad9-420f-ae31-9ba54456518d</td>\n",
       "      <td>b2ad6890-c78d-11e6-9d9d-cec0c932ce01</td>\n",
       "      <td>Land use</td>\n",
       "      <td>NaN</td>\n",
       "      <td>Calculated</td>\n",
       "      <td>Input</td>\n",
       "    </tr>\n",
       "    <tr>\n",
       "      <th>4</th>\n",
       "      <td>from arable, flooded crops</td>\n",
       "      <td>-280.032433</td>\n",
       "      <td>Land transformation</td>\n",
       "      <td>Land use</td>\n",
       "      <td>RER</td>\n",
       "      <td>d31e09db-9fc4-4842-8366-14dae068b402</td>\n",
       "      <td>b2ad6890-c78d-11e6-9d9d-cec0c932ce01</td>\n",
       "      <td>Land use</td>\n",
       "      <td>NaN</td>\n",
       "      <td>Calculated</td>\n",
       "      <td>Input</td>\n",
       "    </tr>\n",
       "    <tr>\n",
       "      <th>...</th>\n",
       "      <td>...</td>\n",
       "      <td>...</td>\n",
       "      <td>...</td>\n",
       "      <td>...</td>\n",
       "      <td>...</td>\n",
       "      <td>...</td>\n",
       "      <td>...</td>\n",
       "      <td>...</td>\n",
       "      <td>...</td>\n",
       "      <td>...</td>\n",
       "      <td>...</td>\n",
       "    </tr>\n",
       "    <tr>\n",
       "      <th>166</th>\n",
       "      <td>urban, green areas</td>\n",
       "      <td>36.115544</td>\n",
       "      <td>Land occupation</td>\n",
       "      <td>Land use</td>\n",
       "      <td>RER</td>\n",
       "      <td>42378359-15eb-4e60-8f72-b796b9d71e69</td>\n",
       "      <td>b2ad6890-c78d-11e6-9d9d-cec0c932ce01</td>\n",
       "      <td>Land use</td>\n",
       "      <td>NaN</td>\n",
       "      <td>Calculated</td>\n",
       "      <td>Input</td>\n",
       "    </tr>\n",
       "    <tr>\n",
       "      <th>167</th>\n",
       "      <td>urban/industrial fallow</td>\n",
       "      <td>131.437295</td>\n",
       "      <td>Land occupation</td>\n",
       "      <td>Land use</td>\n",
       "      <td>RER</td>\n",
       "      <td>1c6a1585-0329-4134-aa24-b0aca0c5af11</td>\n",
       "      <td>b2ad6890-c78d-11e6-9d9d-cec0c932ce01</td>\n",
       "      <td>Land use</td>\n",
       "      <td>NaN</td>\n",
       "      <td>Calculated</td>\n",
       "      <td>Input</td>\n",
       "    </tr>\n",
       "    <tr>\n",
       "      <th>168</th>\n",
       "      <td>wetlands</td>\n",
       "      <td>-22.280758</td>\n",
       "      <td>Land occupation</td>\n",
       "      <td>Land use</td>\n",
       "      <td>RER</td>\n",
       "      <td>f0efe0f8-35ff-4d74-b084-38b4319c8a84</td>\n",
       "      <td>b2ad6890-c78d-11e6-9d9d-cec0c932ce01</td>\n",
       "      <td>Land use</td>\n",
       "      <td>NaN</td>\n",
       "      <td>Calculated</td>\n",
       "      <td>Input</td>\n",
       "    </tr>\n",
       "    <tr>\n",
       "      <th>169</th>\n",
       "      <td>wetlands, coastal</td>\n",
       "      <td>-22.280758</td>\n",
       "      <td>Land occupation</td>\n",
       "      <td>Land use</td>\n",
       "      <td>RER</td>\n",
       "      <td>4c3b387c-8c28-4848-90fe-39620a81a013</td>\n",
       "      <td>b2ad6890-c78d-11e6-9d9d-cec0c932ce01</td>\n",
       "      <td>Land use</td>\n",
       "      <td>NaN</td>\n",
       "      <td>Calculated</td>\n",
       "      <td>Input</td>\n",
       "    </tr>\n",
       "    <tr>\n",
       "      <th>170</th>\n",
       "      <td>wetlands, inland</td>\n",
       "      <td>-22.280758</td>\n",
       "      <td>Land occupation</td>\n",
       "      <td>Land use</td>\n",
       "      <td>RER</td>\n",
       "      <td>4d88d516-d8b4-4799-b3eb-44d57dd3e9a7</td>\n",
       "      <td>b2ad6890-c78d-11e6-9d9d-cec0c932ce01</td>\n",
       "      <td>Land use</td>\n",
       "      <td>NaN</td>\n",
       "      <td>Calculated</td>\n",
       "      <td>Input</td>\n",
       "    </tr>\n",
       "  </tbody>\n",
       "</table>\n",
       "<p>171 rows × 11 columns</p>\n",
       "</div>"
      ]
     },
     "execution_count": 16,
     "metadata": {},
     "output_type": "execute_result"
    }
   ],
   "execution_count": 16
  },
  {
   "metadata": {
    "ExecuteTime": {
     "end_time": "2025-01-13T20:08:02.349589Z",
     "start_time": "2025-01-13T20:08:02.330777Z"
    }
   },
   "cell_type": "code",
   "source": "weighted_avg_df.to_csv('data/land_use_rer_cf.csv', index=False)",
   "id": "ab89d68222987b7e",
   "outputs": [],
   "execution_count": 17
  },
  {
   "metadata": {
    "ExecuteTime": {
     "end_time": "2025-01-13T20:08:02.368703Z",
     "start_time": "2025-01-13T20:08:02.352887Z"
    }
   },
   "cell_type": "code",
   "source": [
    "# Verification\n",
    "ef_cfs_lu_europe_agri = ef_cfs_lu_lt_europe[ef_cfs_lu_lt_europe['FLOW_name'] == 'from agriculture']\n",
    "ef_cfs_lu_europe_agri['Weighted CF'] = ef_cfs_lu_europe_agri['CF EF3.1'] * ef_cfs_lu_europe_agri['2022']\n",
    "rer_cf = ef_cfs_lu_europe_agri['Weighted CF'].sum() / ef_cfs_lu_europe_agri['2022'].sum()\n",
    "rer_cf == -287.7740232737791"
   ],
   "id": "71264e147f338b19",
   "outputs": [
    {
     "name": "stderr",
     "output_type": "stream",
     "text": [
      "C:\\Users\\matth\\AppData\\Local\\Temp\\ipykernel_44488\\126631040.py:3: SettingWithCopyWarning: \n",
      "A value is trying to be set on a copy of a slice from a DataFrame.\n",
      "Try using .loc[row_indexer,col_indexer] = value instead\n",
      "\n",
      "See the caveats in the documentation: https://pandas.pydata.org/pandas-docs/stable/user_guide/indexing.html#returning-a-view-versus-a-copy\n",
      "  ef_cfs_lu_europe_agri['Weighted CF'] = ef_cfs_lu_europe_agri['CF EF3.1'] * ef_cfs_lu_europe_agri['2022']\n"
     ]
    },
    {
     "data": {
      "text/plain": [
       "True"
      ]
     },
     "execution_count": 18,
     "metadata": {},
     "output_type": "execute_result"
    }
   ],
   "execution_count": 18
  },
  {
   "metadata": {},
   "cell_type": "markdown",
   "source": "# Water use RER CFs",
   "id": "dca76fcd64811a88"
  },
  {
   "metadata": {
    "ExecuteTime": {
     "end_time": "2025-01-13T20:19:26.414531Z",
     "start_time": "2025-01-13T20:19:26.402834Z"
    }
   },
   "cell_type": "code",
   "source": "water_use_rer = 36.53 # https://doi.org/10.1007/s11367-017-1333-8 (AWARE, Boulay et al., 2018)",
   "id": "4537e9d1e378eef6",
   "outputs": [],
   "execution_count": 30
  },
  {
   "metadata": {
    "ExecuteTime": {
     "end_time": "2025-01-13T20:19:26.703343Z",
     "start_time": "2025-01-13T20:19:26.661065Z"
    }
   },
   "cell_type": "code",
   "source": [
    "df_water_use = ef_cfs[\n",
    "    (ef_cfs.LCIAMethod_name == 'Water use')\n",
    "    & (ef_cfs.LCIAMethod_location.isna())\n",
    "].copy(deep=True)"
   ],
   "id": "9563e8560127d5b8",
   "outputs": [],
   "execution_count": 31
  },
  {
   "metadata": {
    "ExecuteTime": {
     "end_time": "2025-01-13T20:19:26.986989Z",
     "start_time": "2025-01-13T20:19:26.979946Z"
    }
   },
   "cell_type": "code",
   "source": "df_water_use.LCIAMethod_location = 'RER'",
   "id": "5107913b647d9da4",
   "outputs": [],
   "execution_count": 32
  },
  {
   "metadata": {
    "ExecuteTime": {
     "end_time": "2025-01-13T20:19:27.451126Z",
     "start_time": "2025-01-13T20:19:27.443326Z"
    }
   },
   "cell_type": "code",
   "source": [
    "def replace_water_use_cf(new_cf, row):\n",
    "    if row['CF EF3.1'] < 0:\n",
    "        return -1.0 * new_cf\n",
    "    else:\n",
    "        return new_cf"
   ],
   "id": "6ad52ca4547ebc0f",
   "outputs": [],
   "execution_count": 33
  },
  {
   "metadata": {
    "ExecuteTime": {
     "end_time": "2025-01-13T20:19:27.855641Z",
     "start_time": "2025-01-13T20:19:27.848256Z"
    }
   },
   "cell_type": "code",
   "source": "df_water_use['CF EF3.1'] = df_water_use.apply(lambda row: replace_water_use_cf(water_use_rer, row), axis=1)",
   "id": "4c5ee141242b2925",
   "outputs": [],
   "execution_count": 34
  },
  {
   "metadata": {
    "ExecuteTime": {
     "end_time": "2025-01-13T20:20:05.262174Z",
     "start_time": "2025-01-13T20:20:05.237783Z"
    }
   },
   "cell_type": "code",
   "source": "df_water_use.to_csv('data/water_use_rer_cf.csv', index=False)",
   "id": "e98cd7f4b08cf88f",
   "outputs": [],
   "execution_count": 36
  }
 ],
 "metadata": {
  "kernelspec": {
   "display_name": "Python 3",
   "language": "python",
   "name": "python3"
  },
  "language_info": {
   "codemirror_mode": {
    "name": "ipython",
    "version": 2
   },
   "file_extension": ".py",
   "mimetype": "text/x-python",
   "name": "python",
   "nbconvert_exporter": "python",
   "pygments_lexer": "ipython2",
   "version": "2.7.6"
  }
 },
 "nbformat": 4,
 "nbformat_minor": 5
}
