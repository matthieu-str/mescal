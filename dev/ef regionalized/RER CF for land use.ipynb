{
 "cells": [
  {
   "metadata": {},
   "cell_type": "markdown",
   "source": "# Computation of the RER CF for land use",
   "id": "1f24a41309b064e9"
  },
  {
   "metadata": {},
   "cell_type": "markdown",
   "source": "Based on country-specific CFs, we compute the one of RER which is an average weighted by the surface area of each country (i.e., similarly as the global average was computed in the original method).",
   "id": "24c84838c840227a"
  },
  {
   "metadata": {
    "ExecuteTime": {
     "end_time": "2025-01-09T16:21:49.374495Z",
     "start_time": "2025-01-09T16:21:48.695413Z"
    }
   },
   "cell_type": "code",
   "source": [
    "import pandas as pd\n",
    "import country_converter as coco"
   ],
   "id": "eed88080e7f327c0",
   "outputs": [],
   "execution_count": 1
  },
  {
   "metadata": {
    "ExecuteTime": {
     "end_time": "2025-01-09T16:22:25.820690Z",
     "start_time": "2025-01-09T16:21:49.374495Z"
    }
   },
   "cell_type": "code",
   "source": [
    "country_surface = pd.read_csv('data/world_bank_country_surface_area.csv')\n",
    "ef_cfs = pd.read_excel('data/EF-LCIAMethod_CF(EF-v3.1).xlsx', sheet_name='lciamethods_CF', keep_default_na=False, na_values='')"
   ],
   "id": "2e4e0a3bf96659ef",
   "outputs": [],
   "execution_count": 2
  },
  {
   "metadata": {
    "ExecuteTime": {
     "end_time": "2025-01-09T16:22:26.254066Z",
     "start_time": "2025-01-09T16:22:25.820690Z"
    }
   },
   "cell_type": "code",
   "source": "country_surface['Country code (ISO2)'] = coco.convert(names=list(country_surface['Country Name']), to='ISO2')",
   "id": "95c6d2c5dceccf89",
   "outputs": [
    {
     "name": "stderr",
     "output_type": "stream",
     "text": [
      "Africa Eastern and Southern not found in regex\n",
      "Africa Western and Central not found in regex\n",
      "Arab World not found in regex\n",
      "Central Europe and the Baltics not found in regex\n",
      "Channel Islands not found in regex\n",
      "Caribbean small states not found in regex\n",
      "East Asia & Pacific ( not found in regex\n",
      "Early-demographic dividend not found in regex\n",
      "East Asia & Pacific not found in regex\n",
      "Europe & Central Asia ( not found in regex\n",
      "Europe & Central Asia not found in regex\n",
      "Euro area not found in regex\n",
      "European Union not found in regex\n",
      "Fragile and conflict affected situations not found in regex\n",
      "High income not found in regex\n",
      "Heavily indebted poor countries (HIPC) not found in regex\n",
      "IBRD only not found in regex\n",
      "IDA & IBRD total not found in regex\n",
      "IDA total not found in regex\n",
      "IDA blend not found in regex\n",
      "IDA only not found in regex\n",
      "Not classified not found in regex\n",
      "Latin America & Caribbean ( not found in regex\n",
      "Latin America & Caribbean not found in regex\n",
      "Least developed countries: UN classification not found in regex\n",
      "Low income not found in regex\n",
      "Lower middle income not found in regex\n",
      "Low & middle income not found in regex\n",
      "Late-demographic dividend not found in regex\n",
      "Middle East & North Africa not found in regex\n",
      "Middle income not found in regex\n",
      "Middle East & North Africa ( not found in regex\n",
      "North America not found in regex\n",
      "OECD members not found in regex\n",
      "Other small states not found in regex\n",
      "Pre-demographic dividend not found in regex\n",
      "Pacific island small states not found in regex\n",
      "Post-demographic dividend not found in regex\n",
      "South Asia not found in regex\n",
      "Sub-Saharan Africa ( not found in regex\n",
      "Sub-Saharan Africa not found in regex\n",
      "Small states not found in regex\n",
      "East Asia & Pacific (IDA & IBRD countries) not found in regex\n",
      "Europe & Central Asia (IDA & IBRD countries) not found in regex\n",
      "Latin America & the Caribbean (IDA & IBRD countries) not found in regex\n",
      "Middle East & North Africa (IDA & IBRD countries) not found in regex\n",
      "South Asia (IDA & IBRD) not found in regex\n",
      "Sub-Saharan Africa (IDA & IBRD countries) not found in regex\n",
      "Upper middle income not found in regex\n",
      "World not found in regex\n"
     ]
    }
   ],
   "execution_count": 3
  },
  {
   "metadata": {
    "ExecuteTime": {
     "end_time": "2025-01-09T16:22:26.282789Z",
     "start_time": "2025-01-09T16:22:26.254066Z"
    }
   },
   "cell_type": "code",
   "source": "ef_cfs_lu = ef_cfs[ef_cfs['LCIAMethod_name'] == 'Land use']",
   "id": "1c00544e2c2a4e49",
   "outputs": [],
   "execution_count": 4
  },
  {
   "metadata": {
    "ExecuteTime": {
     "end_time": "2025-01-09T16:22:26.291437Z",
     "start_time": "2025-01-09T16:22:26.284599Z"
    }
   },
   "cell_type": "code",
   "source": [
    "european_countries_full_names = [\n",
    "    'Liechtenstein',\n",
    "    'Armenia',\n",
    "    'Lithuania',\n",
    "    'Austria',\n",
    "    'Luxembourg',\n",
    "    'Azerbaijan',\n",
    "    'Malta',\n",
    "    'Belarus',\n",
    "    'Moldova',\n",
    "    'Belgium',\n",
    "    'Monaco',\n",
    "    'Bosnia and Herzegovina',\n",
    "    'Montenegro',\n",
    "    'Bulgaria',\n",
    "    'Netherlands',\n",
    "    'Croatia',\n",
    "    'Norway',\n",
    "    'Cyprus',\n",
    "    'Poland',\n",
    "    'Czech Republic',\n",
    "    'Portugal',\n",
    "    'Denmark',\n",
    "    'Romania',\n",
    "    'Estonia',\n",
    "    'Russia',\n",
    "    'Finland',\n",
    "    'San Marino',\n",
    "    'Former Yugoslav Republic of Macedonia',\n",
    "    'Serbia',\n",
    "    'France',\n",
    "    'Slovakia',\n",
    "    'Georgia',\n",
    "    'Slovenia',\n",
    "    'Germany',\n",
    "    'Spain',\n",
    "    'Greece',\n",
    "    'Sweden',\n",
    "    'Hungary',\n",
    "    'Sweden',\n",
    "    'Iceland',\n",
    "    'Switzerland',\n",
    "    'Ireland',\n",
    "    'Turkey',\n",
    "    'Italy',\n",
    "    'Ukraine',\n",
    "    'Kosovo',\n",
    "    'United Kingdom',\n",
    "]"
   ],
   "id": "7274653b4be4e18f",
   "outputs": [],
   "execution_count": 5
  },
  {
   "metadata": {
    "ExecuteTime": {
     "end_time": "2025-01-09T16:22:26.372317Z",
     "start_time": "2025-01-09T16:22:26.294495Z"
    }
   },
   "cell_type": "code",
   "source": "european_countries_iso2 = coco.convert(names=european_countries_full_names, to='ISO2')",
   "id": "f3b2604cf819b971",
   "outputs": [],
   "execution_count": 6
  },
  {
   "metadata": {
    "ExecuteTime": {
     "end_time": "2025-01-09T16:22:26.384929Z",
     "start_time": "2025-01-09T16:22:26.372317Z"
    }
   },
   "cell_type": "code",
   "source": "ef_cfs_lu_europe = ef_cfs_lu[ef_cfs_lu['LCIAMethod_location'].isin(european_countries_iso2)]",
   "id": "f051cf5b44ef76be",
   "outputs": [],
   "execution_count": 7
  },
  {
   "metadata": {
    "ExecuteTime": {
     "end_time": "2025-01-09T16:22:26.396471Z",
     "start_time": "2025-01-09T16:22:26.384929Z"
    }
   },
   "cell_type": "code",
   "source": "ef_cfs_lu_europe = ef_cfs_lu_europe.merge(country_surface[['Country code (ISO2)', '2022']], how='left', left_on='LCIAMethod_location', right_on='Country code (ISO2)')",
   "id": "629834a85dd01476",
   "outputs": [],
   "execution_count": 8
  },
  {
   "metadata": {
    "ExecuteTime": {
     "end_time": "2025-01-09T16:22:26.409042Z",
     "start_time": "2025-01-09T16:22:26.397577Z"
    }
   },
   "cell_type": "code",
   "source": [
    "# If a few locations have no surface area data, they are neglected\n",
    "print(ef_cfs_lu_europe[ef_cfs_lu_europe['2022'].isna()].LCIAMethod_location.unique())\n",
    "ef_cfs_lu_europe.dropna(subset=['2022'], inplace=True)"
   ],
   "id": "b9c5f3a7212a90d7",
   "outputs": [
    {
     "name": "stdout",
     "output_type": "stream",
     "text": [
      "[]\n"
     ]
    }
   ],
   "execution_count": 9
  },
  {
   "metadata": {
    "ExecuteTime": {
     "end_time": "2025-01-09T16:22:26.417833Z",
     "start_time": "2025-01-09T16:22:26.412842Z"
    }
   },
   "cell_type": "code",
   "source": [
    "def weighted_average(df, value_column, weight_column):\n",
    "    return (df[value_column] * df[weight_column]).sum() / df[weight_column].sum()"
   ],
   "id": "bdb89f7386771f21",
   "outputs": [],
   "execution_count": 10
  },
  {
   "metadata": {
    "ExecuteTime": {
     "end_time": "2025-01-09T16:22:26.471888Z",
     "start_time": "2025-01-09T16:22:26.420248Z"
    }
   },
   "cell_type": "code",
   "source": [
    "# Group by \"FLOW_name\" and apply the weighted average function\n",
    "weighted_avg_df = ef_cfs_lu_europe.groupby('FLOW_name').apply(\n",
    "    lambda x: weighted_average(x, 'CF EF3.1', '2022')\n",
    ").reset_index(name='CF EF3.1')"
   ],
   "id": "52ccd1dcdefbc3bb",
   "outputs": [
    {
     "name": "stderr",
     "output_type": "stream",
     "text": [
      "C:\\Users\\matth\\AppData\\Local\\Temp\\ipykernel_56364\\1614582738.py:2: DeprecationWarning: DataFrameGroupBy.apply operated on the grouping columns. This behavior is deprecated, and in a future version of pandas the grouping columns will be excluded from the operation. Either pass `include_groups=False` to exclude the groupings or explicitly select the grouping columns after groupby to silence this warning.\n",
      "  weighted_avg_df = ef_cfs_lu_europe.groupby('FLOW_name').apply(\n"
     ]
    }
   ],
   "execution_count": 11
  },
  {
   "metadata": {
    "ExecuteTime": {
     "end_time": "2025-01-09T16:22:26.483016Z",
     "start_time": "2025-01-09T16:22:26.473699Z"
    }
   },
   "cell_type": "code",
   "source": "weighted_avg_df.to_csv('data/land_use_rer_cf.csv', index=False)",
   "id": "ab89d68222987b7e",
   "outputs": [],
   "execution_count": 12
  },
  {
   "metadata": {
    "ExecuteTime": {
     "end_time": "2025-01-09T16:22:26.501298Z",
     "start_time": "2025-01-09T16:22:26.484544Z"
    }
   },
   "cell_type": "code",
   "source": "weighted_avg_df",
   "id": "406aaee0b41c348d",
   "outputs": [
    {
     "data": {
      "text/plain": [
       "                   FLOW_name    CF EF3.1\n",
       "0                agriculture   28.777402\n",
       "1        agriculture, mosaic   28.777402\n",
       "2                     arable   29.036045\n",
       "3             arable, fallow   29.294748\n",
       "4      arable, flooded crops   28.003243\n",
       "..                       ...         ...\n",
       "166       urban, green areas   36.115544\n",
       "167  urban/industrial fallow  131.437295\n",
       "168                 wetlands  -22.280758\n",
       "169        wetlands, coastal  -22.280758\n",
       "170         wetlands, inland  -22.280758\n",
       "\n",
       "[171 rows x 2 columns]"
      ],
      "text/html": [
       "<div>\n",
       "<style scoped>\n",
       "    .dataframe tbody tr th:only-of-type {\n",
       "        vertical-align: middle;\n",
       "    }\n",
       "\n",
       "    .dataframe tbody tr th {\n",
       "        vertical-align: top;\n",
       "    }\n",
       "\n",
       "    .dataframe thead th {\n",
       "        text-align: right;\n",
       "    }\n",
       "</style>\n",
       "<table border=\"1\" class=\"dataframe\">\n",
       "  <thead>\n",
       "    <tr style=\"text-align: right;\">\n",
       "      <th></th>\n",
       "      <th>FLOW_name</th>\n",
       "      <th>CF EF3.1</th>\n",
       "    </tr>\n",
       "  </thead>\n",
       "  <tbody>\n",
       "    <tr>\n",
       "      <th>0</th>\n",
       "      <td>agriculture</td>\n",
       "      <td>28.777402</td>\n",
       "    </tr>\n",
       "    <tr>\n",
       "      <th>1</th>\n",
       "      <td>agriculture, mosaic</td>\n",
       "      <td>28.777402</td>\n",
       "    </tr>\n",
       "    <tr>\n",
       "      <th>2</th>\n",
       "      <td>arable</td>\n",
       "      <td>29.036045</td>\n",
       "    </tr>\n",
       "    <tr>\n",
       "      <th>3</th>\n",
       "      <td>arable, fallow</td>\n",
       "      <td>29.294748</td>\n",
       "    </tr>\n",
       "    <tr>\n",
       "      <th>4</th>\n",
       "      <td>arable, flooded crops</td>\n",
       "      <td>28.003243</td>\n",
       "    </tr>\n",
       "    <tr>\n",
       "      <th>...</th>\n",
       "      <td>...</td>\n",
       "      <td>...</td>\n",
       "    </tr>\n",
       "    <tr>\n",
       "      <th>166</th>\n",
       "      <td>urban, green areas</td>\n",
       "      <td>36.115544</td>\n",
       "    </tr>\n",
       "    <tr>\n",
       "      <th>167</th>\n",
       "      <td>urban/industrial fallow</td>\n",
       "      <td>131.437295</td>\n",
       "    </tr>\n",
       "    <tr>\n",
       "      <th>168</th>\n",
       "      <td>wetlands</td>\n",
       "      <td>-22.280758</td>\n",
       "    </tr>\n",
       "    <tr>\n",
       "      <th>169</th>\n",
       "      <td>wetlands, coastal</td>\n",
       "      <td>-22.280758</td>\n",
       "    </tr>\n",
       "    <tr>\n",
       "      <th>170</th>\n",
       "      <td>wetlands, inland</td>\n",
       "      <td>-22.280758</td>\n",
       "    </tr>\n",
       "  </tbody>\n",
       "</table>\n",
       "<p>171 rows × 2 columns</p>\n",
       "</div>"
      ]
     },
     "execution_count": 13,
     "metadata": {},
     "output_type": "execute_result"
    }
   ],
   "execution_count": 13
  },
  {
   "metadata": {
    "ExecuteTime": {
     "end_time": "2025-01-09T16:22:26.515256Z",
     "start_time": "2025-01-09T16:22:26.501298Z"
    }
   },
   "cell_type": "code",
   "source": [
    "# Verification\n",
    "ef_cfs_lu_europe_agri = ef_cfs_lu_europe[ef_cfs_lu_europe['FLOW_name'] == 'agriculture']\n",
    "ef_cfs_lu_europe_agri['Weighted CF'] = ef_cfs_lu_europe_agri['CF EF3.1'] * ef_cfs_lu_europe_agri['2022']\n",
    "rer_cf = ef_cfs_lu_europe_agri['Weighted CF'].sum() / ef_cfs_lu_europe_agri['2022'].sum()\n",
    "rer_cf"
   ],
   "id": "71264e147f338b19",
   "outputs": [
    {
     "name": "stderr",
     "output_type": "stream",
     "text": [
      "C:\\Users\\matth\\AppData\\Local\\Temp\\ipykernel_56364\\2711157756.py:3: SettingWithCopyWarning: \n",
      "A value is trying to be set on a copy of a slice from a DataFrame.\n",
      "Try using .loc[row_indexer,col_indexer] = value instead\n",
      "\n",
      "See the caveats in the documentation: https://pandas.pydata.org/pandas-docs/stable/user_guide/indexing.html#returning-a-view-versus-a-copy\n",
      "  ef_cfs_lu_europe_agri['Weighted CF'] = ef_cfs_lu_europe_agri['CF EF3.1'] * ef_cfs_lu_europe_agri['2022']\n"
     ]
    },
    {
     "data": {
      "text/plain": [
       "28.777402327377903"
      ]
     },
     "execution_count": 14,
     "metadata": {},
     "output_type": "execute_result"
    }
   ],
   "execution_count": 14
  }
 ],
 "metadata": {
  "kernelspec": {
   "display_name": "Python 3",
   "language": "python",
   "name": "python3"
  },
  "language_info": {
   "codemirror_mode": {
    "name": "ipython",
    "version": 2
   },
   "file_extension": ".py",
   "mimetype": "text/x-python",
   "name": "python",
   "nbconvert_exporter": "python",
   "pygments_lexer": "ipython2",
   "version": "2.7.6"
  }
 },
 "nbformat": 4,
 "nbformat_minor": 5
}
