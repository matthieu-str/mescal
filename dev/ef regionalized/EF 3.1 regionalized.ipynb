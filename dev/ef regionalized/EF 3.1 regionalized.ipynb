{
 "cells": [
  {
   "metadata": {},
   "cell_type": "markdown",
   "source": "# Create the regionalized version of EF 3.1 in brightway",
   "id": "9966ae0cb04953b1"
  },
  {
   "metadata": {},
   "cell_type": "markdown",
   "source": [
    "This notebook should be run twice: \n",
    "- a first time to create the updated spatialized biosphere database with `name_spatialized_biosphere_db = 'biosphere3_spatialized_flows'`, `write_method_bw = False` and `write_new_spatialized_biosphere = True`. This will create the spatialized biosphere database in the brightway project, as well as the associated pickle file.\n",
    "- and a second time to create the regionalized methods with `name_spatialized_biosphere_db = 'biosphere3_spatialized_flows_EF'`, `write_method_bw = True` and `write_new_spatialized_biosphere = False`. This will create the EF 3.1 regionalized method in the brightway project, as well as the associated bw2package file. This second iteration requires the adjusted spatialized biosphere database to be present in the brightway project."
   ],
   "id": "694e8d0b8eb875e5"
  },
  {
   "metadata": {
    "ExecuteTime": {
     "end_time": "2024-11-05T00:14:03.277771Z",
     "start_time": "2024-11-05T00:13:56.659551Z"
    }
   },
   "cell_type": "code",
   "source": [
    "import bw2data as bd\n",
    "import bw2io as bi\n",
    "import numpy as np\n",
    "import pandas as pd\n",
    "from mescal import *\n",
    "import os"
   ],
   "id": "efe52aa3d1189f6b",
   "outputs": [],
   "execution_count": 1
  },
  {
   "metadata": {},
   "cell_type": "markdown",
   "source": "## User inputs",
   "id": "1ebdb0e03609922e"
  },
  {
   "metadata": {
    "ExecuteTime": {
     "end_time": "2024-11-05T00:14:03.549369Z",
     "start_time": "2024-11-05T00:14:03.279379Z"
    }
   },
   "cell_type": "code",
   "source": "bd.projects.set_current('ecoinvent3.9.1A')",
   "id": "75cb184c1a7628f7",
   "outputs": [],
   "execution_count": 2
  },
  {
   "metadata": {
    "ExecuteTime": {
     "end_time": "2024-11-05T00:14:03.562020Z",
     "start_time": "2024-11-05T00:14:03.550675Z"
    }
   },
   "cell_type": "code",
   "source": "name_spatialized_biosphere_db = 'biosphere3_spatialized_flows_EF'",
   "id": "4b2a5047ef137537",
   "outputs": [],
   "execution_count": 3
  },
  {
   "metadata": {
    "ExecuteTime": {
     "end_time": "2024-11-05T00:14:03.589210Z",
     "start_time": "2024-11-05T00:14:03.565853Z"
    }
   },
   "cell_type": "code",
   "source": [
    "write_method_bw = True\n",
    "write_new_spatialized_biosphere = False"
   ],
   "id": "303cd4c42bfa8f3c",
   "outputs": [],
   "execution_count": 4
  },
  {
   "metadata": {},
   "cell_type": "markdown",
   "source": "## Set up",
   "id": "a5c724ee69c09664"
  },
  {
   "metadata": {
    "ExecuteTime": {
     "end_time": "2024-11-05T00:14:03.596454Z",
     "start_time": "2024-11-05T00:14:03.589210Z"
    }
   },
   "cell_type": "code",
   "source": "cwd = os.getcwd()",
   "id": "d19c3a29179d2ca5",
   "outputs": [],
   "execution_count": 5
  },
  {
   "metadata": {
    "ExecuteTime": {
     "end_time": "2024-11-05T00:14:41.069077Z",
     "start_time": "2024-11-05T00:14:03.596963Z"
    }
   },
   "cell_type": "code",
   "source": [
    "ef_cfs = pd.read_excel('data/EF-LCIAMethod_CF(EF-v3.1).xlsx', sheet_name='lciamethods_CF', keep_default_na=False, na_values='')\n",
    "ef_biosphere_mapping = pd.read_csv('data/EF31_biosphere_mapping.csv')"
   ],
   "id": "b25ba429833a9e36",
   "outputs": [],
   "execution_count": 6
  },
  {
   "metadata": {
    "ExecuteTime": {
     "end_time": "2024-11-05T00:14:41.083459Z",
     "start_time": "2024-11-05T00:14:41.069077Z"
    }
   },
   "cell_type": "code",
   "source": "ef_biosphere_mapping_dict = ef_biosphere_mapping.groupby('ef')['biosphere'].apply(list).to_dict()",
   "id": "c1ed3b69c2de9d53",
   "outputs": [],
   "execution_count": 7
  },
  {
   "metadata": {},
   "cell_type": "markdown",
   "source": "## Adapt the EF excel file to be compatible with ecoinvent",
   "id": "534b8d21cac2e661"
  },
  {
   "metadata": {
    "ExecuteTime": {
     "end_time": "2024-11-05T00:14:41.190414Z",
     "start_time": "2024-11-05T00:14:41.083459Z"
    }
   },
   "cell_type": "code",
   "source": [
    "def ecoinvent_compatible_categories(name, cat0, cat1, cat2):\n",
    "    \n",
    "    if name.lower() in ef_biosphere_mapping_dict.keys():\n",
    "        name = ef_biosphere_mapping_dict[name.lower()][0]\n",
    "    \n",
    "    if cat0 == 'Emissions':\n",
    "        cat1 = cat1.replace('Emissions to ', '')\n",
    "        cat2 = cat2.replace('Emissions to ', '')\n",
    "        cat2 = cat2.replace('and', '+')\n",
    "        \n",
    "        if cat2 == 'air, unspecified':\n",
    "            cat2 = None\n",
    "        elif cat2 == 'air, unspecified (long-term)':\n",
    "            cat2 = 'low population density, long-term'\n",
    "        elif cat2 == 'non-agricultural soil':\n",
    "            cat2 = 'industrial'\n",
    "            \n",
    "        if '(biogenic)' in name:\n",
    "            name = name.replace(' (biogenic)', ', non-fossil')\n",
    "        elif '(fossil)' in name:\n",
    "            name = name.replace(' (fossil)', ', fossil')\n",
    "        elif '(land use change)' in name:\n",
    "            name = name.replace(' (land use change)', ', to soil or biomass stock')\n",
    "        \n",
    "        if 'Particles' in name:\n",
    "            name.replace('Particles', 'Particulate Matter, ')\n",
    "            \n",
    "            if '(PM10)' in name:\n",
    "                name = name.replace('(PM10)', '> 2.5 um and < 10um')\n",
    "            elif '(PM0.2 - PM2.5)' in name:\n",
    "                name = name.replace('(PM0.2 - PM2.5)', '< 2.5 um')\n",
    "    \n",
    "    elif cat0 == 'Land use':\n",
    "        \n",
    "        if ('from ' in name) & (name.replace('from ', '') in ef_biosphere_mapping_dict.keys()):\n",
    "            name = f\"from {ef_biosphere_mapping_dict[name.replace('from ', '')][0]}\"\n",
    "        \n",
    "        elif ('to ' in name) & (name.replace('to ', '') in ef_biosphere_mapping_dict.keys()):\n",
    "            name = f\"to {ef_biosphere_mapping_dict[name.replace('to ', '')][0]}\"\n",
    "        \n",
    "        cat1 = cat1.replace('Land ', '')\n",
    "        name = f'{cat1}, {name}'\n",
    "        cat1 = 'natural resource'\n",
    "        cat2 = 'land'\n",
    "    \n",
    "    elif cat0 == 'Resources':\n",
    "        cat2 = f\"in {cat1.replace('Resources from ', '')}\"\n",
    "        cat1 = 'natural resource'\n",
    "    \n",
    "    else:\n",
    "        raise ValueError(f\"Category0 {cat0} not recognized\")\n",
    "    \n",
    "    return name, cat0, cat1, cat2"
   ],
   "id": "9805ce7d05b96e72",
   "outputs": [],
   "execution_count": 8
  },
  {
   "metadata": {
    "ExecuteTime": {
     "end_time": "2024-11-05T00:14:41.200795Z",
     "start_time": "2024-11-05T00:14:41.190414Z"
    }
   },
   "cell_type": "code",
   "source": [
    "def ecoinvent_compatible_water_flows(name, cat0, cat1, cat2, lcia_cat):\n",
    "    \n",
    "    name = name.lower()\n",
    "    \n",
    "    if lcia_cat.lower() == 'water use':\n",
    "        \n",
    "        if cat0 == 'Resources':\n",
    "            if name == 'ground water':\n",
    "                name = 'water, well, in ground'\n",
    "            elif name == 'lake water':\n",
    "                name = 'water, lake'\n",
    "            elif name == 'river water':\n",
    "                name = 'water, river'\n",
    "            elif name == 'freshwater':\n",
    "                name = 'water, unspecified natural origin'\n",
    "            elif name == 'water to cooling':\n",
    "                name = 'water, cooling, unspecified natural origin'\n",
    "            elif name == 'water to turbine':\n",
    "                name = 'water, turbine use, unspecified natural origin'\n",
    "            \n",
    "            cat1 = 'natural resource'\n",
    "            cat2 = None\n",
    "        \n",
    "        elif cat0 == 'Emissions':\n",
    "            if (name == 'water') & (cat2 == 'water, unspecified'):\n",
    "                name = 'water'\n",
    "                cat1 = 'water'\n",
    "                cat2 = None\n",
    "        \n",
    "    return name, cat1, cat2"
   ],
   "id": "3d2fc62fef17ad01",
   "outputs": [],
   "execution_count": 9
  },
  {
   "metadata": {
    "ExecuteTime": {
     "end_time": "2024-11-05T00:14:51.877622Z",
     "start_time": "2024-11-05T00:14:41.205834Z"
    }
   },
   "cell_type": "code",
   "source": [
    "# Change the name and categories columns of the EF file to be ecoinvent-compliant \n",
    "ef_cfs[['FLOW_name', 'FLOW_class0', 'FLOW_class1', 'FLOW_class2']] = ef_cfs.apply(lambda x: ecoinvent_compatible_categories(x['FLOW_name'], x['FLOW_class0'], x['FLOW_class1'], x['FLOW_class2']), axis=1, result_type='expand')"
   ],
   "id": "9f84596833eb04af",
   "outputs": [],
   "execution_count": 10
  },
  {
   "metadata": {
    "ExecuteTime": {
     "end_time": "2024-11-05T00:15:01.879564Z",
     "start_time": "2024-11-05T00:14:51.879654Z"
    }
   },
   "cell_type": "code",
   "source": "ef_cfs[['FLOW_name', 'FLOW_class1', 'FLOW_class2']] = ef_cfs.apply(lambda x: ecoinvent_compatible_water_flows(x['FLOW_name'], x['FLOW_class0'], x['FLOW_class1'], x['FLOW_class2'], x['LCIAMethod_name']), axis=1, result_type='expand')",
   "id": "38c053fef0b3d71c",
   "outputs": [],
   "execution_count": 11
  },
  {
   "metadata": {
    "ExecuteTime": {
     "end_time": "2024-11-05T00:15:03.299723Z",
     "start_time": "2024-11-05T00:15:01.879564Z"
    }
   },
   "cell_type": "code",
   "source": [
    "# Add some missing land biosphere flows, as they come from the same EF flow\n",
    "ef_cfs.drop_duplicates(inplace=True)\n",
    "for key, value in ef_biosphere_mapping_dict.items():\n",
    "    if len(value) > 1:\n",
    "        df_to_add = ef_cfs[\n",
    "            (ef_cfs.FLOW_name.str.lower() == f'occupation, {value[0]}')\n",
    "            | (ef_cfs.FLOW_name.str.lower() == f'transformation, from {value[0]}')\n",
    "            | (ef_cfs.FLOW_name.str.lower() == f'transformation, to {value[0]}')\n",
    "        ].copy(deep=True)\n",
    "        for i in range(1, len(value)):\n",
    "            df_to_add['FLOW_name'] = df_to_add['FLOW_name'].apply(lambda x: x.replace(value[i-1], value[i]))\n",
    "            ef_cfs = pd.concat([ef_cfs, df_to_add])\n",
    "\n",
    "ef_cfs.reset_index(drop=True, inplace=True)"
   ],
   "id": "33d8cb9b25689347",
   "outputs": [],
   "execution_count": 12
  },
  {
   "metadata": {
    "ExecuteTime": {
     "end_time": "2024-11-05T00:15:05.287277Z",
     "start_time": "2024-11-05T00:15:03.299723Z"
    }
   },
   "cell_type": "code",
   "source": [
    "# Add unspecified water flow \n",
    "df_to_add = ef_cfs[\n",
    "    (ef_cfs.FLOW_name.str.lower() == 'water, unspecified natural origin')\n",
    "    & (ef_cfs.FLOW_class1 == 'natural resource')\n",
    "    & (ef_cfs.FLOW_class2.isna())\n",
    "].copy(deep=True)\n",
    "df_to_add['FLOW_name'] = 'water'\n",
    "ef_cfs = pd.concat([ef_cfs, df_to_add])\n",
    "\n",
    "# If needed, add missing water flows (copies from water flow without second category)\n",
    "missing_subcategories_resources = ['fossil well', 'in ground', 'in water']\n",
    "water_resource_flows = ['water', 'water, lake', 'water, river', 'water, unspecified natural origin', 'water, cooling, unspecified natural origin', 'water, turbine use, unspecified natural origin', 'water, well, in ground']\n",
    "for water_flow in water_resource_flows:\n",
    "    df_to_add = ef_cfs[\n",
    "        (ef_cfs.FLOW_name.str.lower() == water_flow)\n",
    "        & (ef_cfs.FLOW_class1 == 'natural resource')\n",
    "        & (ef_cfs.FLOW_class2.isna())\n",
    "    ].copy(deep=True)\n",
    "    for subcat in missing_subcategories_resources:\n",
    "        df_to_add['FLOW_class2'] = subcat\n",
    "        ef_cfs = pd.concat([ef_cfs, df_to_add])\n",
    "\n",
    "missing_subcategories_emissions = ['fossil well', 'ground-', 'ground-, long-term', 'surface water']\n",
    "df_to_add = ef_cfs[\n",
    "    (ef_cfs.FLOW_name.str.lower() == 'water')\n",
    "    & (ef_cfs.FLOW_class1 == 'water')\n",
    "    & (ef_cfs.FLOW_class2.isna())\n",
    "].copy(deep=True)\n",
    "for subcat in missing_subcategories_emissions:\n",
    "    df_to_add['FLOW_class2'] = subcat\n",
    "    ef_cfs = pd.concat([ef_cfs, df_to_add])\n",
    "\n",
    "ef_cfs.reset_index(drop=True, inplace=True)"
   ],
   "id": "333b87d91ceb0750",
   "outputs": [],
   "execution_count": 13
  },
  {
   "metadata": {
    "ExecuteTime": {
     "end_time": "2024-11-05T00:15:05.297278Z",
     "start_time": "2024-11-05T00:15:05.287277Z"
    }
   },
   "cell_type": "code",
   "source": [
    "# # Add a RoW and a GLO row in addition to the normal one (with no location) \n",
    "# df_to_add = ef_cfs[ef_cfs.LCIAMethod_location.isna()].copy(deep=True)\n",
    "# df_to_add['LCIAMethod_location'] = 'GLO'\n",
    "# ef_cfs = pd.concat([ef_cfs, df_to_add])\n",
    "# \n",
    "# df_to_add = ef_cfs[ef_cfs.LCIAMethod_location.isna()].copy(deep=True)\n",
    "# df_to_add['LCIAMethod_location'] = 'RoW'\n",
    "# ef_cfs = pd.concat([ef_cfs, df_to_add])"
   ],
   "id": "c6e5a1f9f2d76602",
   "outputs": [],
   "execution_count": 14
  },
  {
   "metadata": {
    "ExecuteTime": {
     "end_time": "2024-11-05T00:15:05.911759Z",
     "start_time": "2024-11-05T00:15:05.299463Z"
    }
   },
   "cell_type": "code",
   "source": [
    "# Load the biosphere and spatialized biosphere databases \n",
    "biosphere_db_spatialized = Database(name_spatialized_biosphere_db)\n",
    "biosphere_db = Database('biosphere3')"
   ],
   "id": "9681a3aabafe1b36",
   "outputs": [
    {
     "name": "stdout",
     "output_type": "stream",
     "text": [
      "Loaded biosphere3_spatialized_flows_EF from pickle!\n",
      "Getting activity data\n"
     ]
    },
    {
     "name": "stderr",
     "output_type": "stream",
     "text": [
      "100%|██████████| 4718/4718 [00:00<00:00, 184634.22it/s]\n"
     ]
    },
    {
     "name": "stdout",
     "output_type": "stream",
     "text": [
      "Adding exchange data to activities\n"
     ]
    },
    {
     "name": "stderr",
     "output_type": "stream",
     "text": [
      "0it [00:00, ?it/s]\n"
     ]
    },
    {
     "name": "stdout",
     "output_type": "stream",
     "text": [
      "Filling out exchange data\n"
     ]
    },
    {
     "name": "stderr",
     "output_type": "stream",
     "text": [
      "100%|██████████| 4718/4718 [00:00<00:00, 771700.90it/s]"
     ]
    },
    {
     "name": "stdout",
     "output_type": "stream",
     "text": [
      "Loaded biosphere3 from brightway!\n"
     ]
    },
    {
     "name": "stderr",
     "output_type": "stream",
     "text": [
      "\n"
     ]
    }
   ],
   "execution_count": 15
  },
  {
   "metadata": {
    "ExecuteTime": {
     "end_time": "2024-11-05T00:15:05.946274Z",
     "start_time": "2024-11-05T00:15:05.913921Z"
    }
   },
   "cell_type": "code",
   "source": [
    "biosphere_db_dict_name = biosphere_db.list_to_dict('name', 'biosphere')\n",
    "biosphere_db_spatialized_dict_name = biosphere_db_spatialized.list_to_dict('name', 'biosphere')"
   ],
   "id": "a326a540ae9cce86",
   "outputs": [],
   "execution_count": 16
  },
  {
   "metadata": {
    "ExecuteTime": {
     "end_time": "2024-11-05T00:15:05.969219Z",
     "start_time": "2024-11-05T00:15:05.948491Z"
    }
   },
   "cell_type": "code",
   "source": [
    "biosphere_db_dict_code = biosphere_db.list_to_dict('code', 'biosphere')\n",
    "biosphere_db_spatialized_dict_code = biosphere_db_spatialized.list_to_dict('code', 'biosphere')"
   ],
   "id": "b46a9b7448d84d4c",
   "outputs": [],
   "execution_count": 17
  },
  {
   "metadata": {},
   "cell_type": "markdown",
   "source": "## Create the new regionalized methods",
   "id": "6eed12b74145c1f"
  },
  {
   "metadata": {
    "ExecuteTime": {
     "end_time": "2024-11-05T00:15:05.986525Z",
     "start_time": "2024-11-05T00:15:05.971240Z"
    }
   },
   "cell_type": "code",
   "source": [
    "def create_cf_list(df):\n",
    "    \n",
    "    reg_cfs = []\n",
    "    unmapped = []\n",
    "    \n",
    "    for i in range(len(df)):\n",
    "        \n",
    "        flow_name = df.loc[i, 'FLOW_name'].lower()\n",
    "        flow_location = df.loc[i, 'LCIAMethod_location']\n",
    "        flow_cf = df.loc[i, 'CF EF3.1']\n",
    "        \n",
    "        if flow_location is np.nan:\n",
    "            spatialized_db = False\n",
    "        else:\n",
    "            flow_name = f'{flow_name}, {flow_location}'\n",
    "            spatialized_db = True\n",
    "        \n",
    "        category1 = df.loc[i, 'FLOW_class1']\n",
    "        category2 = df.loc[i, 'FLOW_class2']\n",
    "        \n",
    "        flow_name = flow_name[0].upper() + flow_name[1:]\n",
    "        \n",
    "        if category2 is not None:\n",
    "            \n",
    "            if spatialized_db:\n",
    "                if (flow_name, (category1, category2), name_spatialized_biosphere_db) in biosphere_db_spatialized_dict_name.keys():\n",
    "                    flow_code = biosphere_db_spatialized_dict_name[(flow_name, (category1, category2), name_spatialized_biosphere_db)]['code']\n",
    "                    reg_cfs.append(((name_spatialized_biosphere_db, flow_code), flow_cf))\n",
    "                else:\n",
    "                    unmapped.append((name_spatialized_biosphere_db, flow_name, (category1, category2)))\n",
    "            \n",
    "            else:\n",
    "                if (flow_name, (category1, category2), 'biosphere3') in biosphere_db_dict_name.keys():\n",
    "                    flow_code = biosphere_db_dict_name[(flow_name, (category1, category2), 'biosphere3')]['code']\n",
    "                    reg_cfs.append((('biosphere3', flow_code), flow_cf))\n",
    "                else:\n",
    "                    unmapped.append(('biosphere3', flow_name, (category1, category2)))\n",
    "        \n",
    "        else:\n",
    "            \n",
    "            if spatialized_db:\n",
    "                if (flow_name, (category1,), name_spatialized_biosphere_db) in biosphere_db_spatialized_dict_name.keys():\n",
    "                    flow_code = biosphere_db_spatialized_dict_name[(flow_name, (category1,), name_spatialized_biosphere_db)]['code']\n",
    "                    reg_cfs.append(((name_spatialized_biosphere_db, flow_code), flow_cf))\n",
    "                else:\n",
    "                    unmapped.append((name_spatialized_biosphere_db, flow_name, (category1,)))\n",
    "            \n",
    "            else:\n",
    "                if (flow_name, (category1,), 'biosphere3') in biosphere_db_dict_name.keys():\n",
    "                    flow_code = biosphere_db_dict_name[(flow_name, (category1,), 'biosphere3')]['code']\n",
    "                    reg_cfs.append((('biosphere3', flow_code), flow_cf))\n",
    "                else:\n",
    "                    unmapped.append(('biosphere3', flow_name, (category1,)))\n",
    "    \n",
    "    return reg_cfs, unmapped"
   ],
   "id": "d01c11eb6cf188c0",
   "outputs": [],
   "execution_count": 18
  },
  {
   "metadata": {
    "ExecuteTime": {
     "end_time": "2024-11-05T00:15:05.995749Z",
     "start_time": "2024-11-05T00:15:05.986525Z"
    }
   },
   "cell_type": "code",
   "source": [
    "method_names_bw_to_ef = {\n",
    "    'acidification': 'Acidification',\n",
    "    'climate change': 'Climate change',\n",
    "    'climate change: biogenic': 'Climate change-Biogenic',\n",
    "    'climate change: fossil': 'Climate change-Fossil',\n",
    "    'climate change: land use and land use change': 'Climate change-Land use and land use change',\n",
    "    'particulate matter formation': 'EF-particulate Matter',\n",
    "    'ecotoxicity: freshwater': 'Ecotoxicity, freshwater',\n",
    "    'ecotoxicity: freshwater, inorganics': 'Ecotoxicity, freshwater_inorganics',\n",
    "    'ecotoxicity: freshwater, organics': 'Ecotoxicity, freshwater_organics',\n",
    "    'eutrophication: marine': 'Eutrophication marine',\n",
    "    'eutrophication: freshwater': 'Eutrophication, freshwater',\n",
    "    'eutrophication: terrestrial': 'Eutrophication, terrestrial',\n",
    "    'human toxicity: carcinogenic': 'Human toxicity, cancer',\n",
    "    'human toxicity: carcinogenic, inorganics': 'Human toxicity, cancer_inorganics',\n",
    "    'human toxicity: carcinogenic, organics': 'Human toxicity, cancer_organics',\n",
    "    'human toxicity: non-carcinogenic': 'Human toxicity, non-cancer',\n",
    "    'human toxicity: non-carcinogenic, inorganics': 'Human toxicity, non-cancer_inorganics',\n",
    "    'human toxicity: non-carcinogenic, organics': 'Human toxicity, non-cancer_organics',\n",
    "    'ionising radiation: human health': 'Ionising radiation, human health',\n",
    "    'land use': 'Land use',\n",
    "    'ozone depletion': 'Ozone depletion',\n",
    "    'photochemical oxidant formation: human health': 'Photochemical ozone formation - human health',\n",
    "    'energy resources: non-renewable': 'Resource use, fossils',\n",
    "    'material resources: metals/minerals': 'Resource use, minerals and metals',\n",
    "    'water scarcity': 'Water use'\n",
    "}"
   ],
   "id": "3ea137aa209fef9",
   "outputs": [],
   "execution_count": 19
  },
  {
   "metadata": {
    "ExecuteTime": {
     "end_time": "2024-11-05T00:15:41.529766Z",
     "start_time": "2024-11-05T00:15:05.995749Z"
    }
   },
   "cell_type": "code",
   "source": [
    "# Create the new set of regionalized impact categories \n",
    "ef_methods_bw = [i for i in bd.methods if i[0] == 'EF v3.1']\n",
    "\n",
    "# Replace the water use method of EF by the one of IW+. Both are based on AWARE, but the one of IW+ is more complete. \n",
    "ef_methods_bw.remove(('EF v3.1', 'water use', 'user deprivation potential (deprivation-weighted water consumption)'))\n",
    "ef_methods_bw.append(('IMPACT World+ Midpoint 2.0.1', 'Midpoint', 'Water scarcity'))\n",
    "\n",
    "regionalized_methods = {}\n",
    "unlinked = []\n",
    "\n",
    "# Acidification, terrestrial eutrophication, land use, and water use are the four categories to be fully regionalized (i.e., fo every elementary flow). For the other categories, only a subset of flows is regionalized (the ones in common with the regionalized methods).\n",
    "methods_to_regionalize = [\n",
    "    'acidification',\n",
    "    'eutrophication: terrestrial',\n",
    "    'eutrophication: marine', # ammonia, nitrogen dioxide, and nitrogen oxides flows only (with global value)\n",
    "    'ecotoxicity: freshwater', # ammonia flows only (with global value)\n",
    "    'ecotoxicity: freshwater, inorganics', # ammonia flows only (with global value)\n",
    "    'human toxicity: non-carcinogenic', # ammonia flows only (with global value)\n",
    "    'human toxicity: non-carcinogenic, inorganics', # ammonia flows only (with global value)\n",
    "    'land use',\n",
    "    'photochemical oxidant formation: human health', # nitrogen dioxide, nitrogen oxides, sulfur dioxide, and sulfur oxides flows only (with global value)\n",
    "    'water scarcity',\n",
    "] # categories for which regional CF are added, other categories are kept as they are in brightway\n",
    "\n",
    "for i in range(len(ef_methods_bw)):\n",
    "    method = bd.Method(ef_methods_bw[i])\n",
    "    if ef_methods_bw[i][0] == 'EF v3.1':\n",
    "        method_name_bw = ef_methods_bw[i][1]\n",
    "    else:\n",
    "        method_name_bw = ef_methods_bw[i][2] # for the IW+ water scarcity method\n",
    "    method_name = method_names_bw_to_ef[method_name_bw.lower()]\n",
    "    cfs = method.load()\n",
    "    regionalized_cfs = []\n",
    "    \n",
    "    for j in cfs:\n",
    "        if method_name_bw.lower() not in methods_to_regionalize:\n",
    "            regionalized_cfs.append(j) # non-regionalized flows are kept as they are\n",
    "        \n",
    "        else:\n",
    "            flow = biosphere_db_dict_code[(j[0][0], j[0][1])]\n",
    "            flow_name = flow['name'].lower()\n",
    "            \n",
    "            # for the partially regionalized methods, only some flows are regionalized\n",
    "            if method_name_bw.lower() in [\n",
    "                'ecotoxicity: freshwater', \n",
    "                'ecotoxicity: freshwater, inorganics', \n",
    "                'human toxicity: non-carcinogenic', \n",
    "                'human toxicity: non-carcinogenic, inorganics'\n",
    "            ]:\n",
    "                if flow_name != 'ammonia':\n",
    "                    regionalized_cfs.append(j)\n",
    "                    continue\n",
    "            elif method_name_bw.lower() == 'eutrophication: marine':\n",
    "                if flow_name not in ['ammonia', 'nitrogen dioxide', 'nitrogen oxides']:\n",
    "                    regionalized_cfs.append(j)\n",
    "                    continue\n",
    "            elif method_name_bw.lower() == 'photochemical oxidant formation: human health':\n",
    "                if flow_name not in ['nitrogen dioxide', 'nitrogen oxides', 'sulfur dioxide', 'sulfur oxides']:\n",
    "                    regionalized_cfs.append(j)\n",
    "                    continue\n",
    "            \n",
    "            # for the fully regionalized methods, all flows are regionalized\n",
    "            flow_category_1 = flow['categories'][0]\n",
    "            \n",
    "            if len(flow['categories']) == 1:\n",
    "                df_regionalized_flows = ef_cfs[\n",
    "                    (ef_cfs['FLOW_name'].str.lower() == flow_name) \n",
    "                    & (ef_cfs['FLOW_class1'] == flow_category_1)\n",
    "                    & (ef_cfs['FLOW_class2'].isna())\n",
    "                    & (ef_cfs['LCIAMethod_name'] == method_name)\n",
    "                ].reset_index()\n",
    "                \n",
    "                if len(df_regionalized_flows) == 0:\n",
    "                    unlinked.append(('biosphere3', flow_name, (flow_category_1,)))\n",
    "                \n",
    "            else:\n",
    "                flow_category_2 = flow['categories'][1]\n",
    "            \n",
    "                df_regionalized_flows = ef_cfs[\n",
    "                    (ef_cfs['FLOW_name'].str.lower() == flow_name) \n",
    "                    & (ef_cfs['FLOW_class1'] == flow_category_1)\n",
    "                    & (ef_cfs['FLOW_class2'] == flow_category_2)\n",
    "                    & (ef_cfs['LCIAMethod_name'] == method_name)\n",
    "                ].reset_index()\n",
    "                \n",
    "                if len(df_regionalized_flows) == 0:\n",
    "                    unlinked.append(('biosphere3', flow_name, (flow_category_1, flow_category_2)))\n",
    "            \n",
    "            new_regionalized_cfs, new_unlinked = create_cf_list(df_regionalized_flows)\n",
    "            regionalized_cfs += new_regionalized_cfs\n",
    "            unlinked += new_unlinked\n",
    "    \n",
    "    regionalized_methods[method_name_bw] = regionalized_cfs"
   ],
   "id": "eb1854fec00afeac",
   "outputs": [],
   "execution_count": 20
  },
  {
   "metadata": {
    "ExecuteTime": {
     "end_time": "2024-11-05T00:15:41.552030Z",
     "start_time": "2024-11-05T00:15:41.529766Z"
    }
   },
   "cell_type": "code",
   "source": [
    "# Check if some global flows are still unlinked.\n",
    "list(set([i[1:] for i in unlinked if 'biosphere3' == i[0]]))"
   ],
   "id": "46678592ca68abe8",
   "outputs": [
    {
     "data": {
      "text/plain": [
       "[('water', ('water', 'ocean'))]"
      ]
     },
     "execution_count": 21,
     "metadata": {},
     "output_type": "execute_result"
    }
   ],
   "execution_count": 21
  },
  {
   "metadata": {},
   "cell_type": "markdown",
   "source": "The water (water, ocean) flow is missing, but this is not a problem as its CF is 0. ",
   "id": "60f2a5ac7eba45d6"
  },
  {
   "metadata": {
    "ExecuteTime": {
     "end_time": "2024-11-05T00:15:50.184504Z",
     "start_time": "2024-11-05T00:15:41.557637Z"
    }
   },
   "cell_type": "code",
   "source": [
    "if write_method_bw:\n",
    "    for method in ef_methods_bw:\n",
    "        if method[2] == 'Water scarcity':\n",
    "            ef_regionalized_method = bd.Method(('EF v3.1 regionalized', 'water use', 'user deprivation potential (deprivation-weighted water consumption)'))\n",
    "            unit = bd.Method(('EF v3.1', 'water use', 'user deprivation potential (deprivation-weighted water consumption)')).metadata['unit']\n",
    "            method_name = method[2]\n",
    "        else:\n",
    "            ef_regionalized_method = bd.Method(('EF v3.1 regionalized', method[1], method[2]))\n",
    "            unit = bd.Method(method).metadata['unit']\n",
    "            method_name = method[1]\n",
    "        ef_regionalized_method_metadata = {'unit': unit}\n",
    "        ef_regionalized_method.register(**ef_regionalized_method_metadata)\n",
    "        ef_regionalized_method.write(regionalized_methods[method_name])"
   ],
   "id": "f0fcad9301630ec9",
   "outputs": [],
   "execution_count": 22
  },
  {
   "metadata": {
    "ExecuteTime": {
     "end_time": "2024-11-05T00:15:50.198399Z",
     "start_time": "2024-11-05T00:15:50.184504Z"
    }
   },
   "cell_type": "code",
   "source": [
    "list_ef_regionalized_methods = [bd.Method(('EF v3.1 regionalized', method[1], method[2])) for method in ef_methods_bw if method[2] != 'Water scarcity']\n",
    "list_ef_regionalized_methods.append(bd.Method(('EF v3.1 regionalized', 'water use', 'user deprivation potential (deprivation-weighted water consumption)')))"
   ],
   "id": "efcf947c31ce92e",
   "outputs": [],
   "execution_count": 23
  },
  {
   "metadata": {
    "ExecuteTime": {
     "end_time": "2024-11-05T00:15:51.825290Z",
     "start_time": "2024-11-05T00:15:50.199433Z"
    }
   },
   "cell_type": "code",
   "source": [
    "if write_method_bw:\n",
    "    bi.package.BW2Package.export_objs(list_ef_regionalized_methods, filename='EF3.1_regionalized', folder=cwd+'\\\\results\\\\')"
   ],
   "id": "309889fbbbdc63d2",
   "outputs": [],
   "execution_count": 24
  },
  {
   "metadata": {},
   "cell_type": "markdown",
   "source": "## Spatialized flows from regioinvent that are not used by EF regionalized methods",
   "id": "253ce275f9cc6897"
  },
  {
   "metadata": {},
   "cell_type": "markdown",
   "source": "There might be some spatialized elementary flows that are in the spatialized biosphere database from regioinvent that are not used in any EF regionalized method. Those flows should be removed. Otherwise, the resulting spatialized flows in the ecoinvent database will not be characterized, thus possibly leading to an underestimation of impacts, as the corresponding global (non-spatialized) flow could be characterized in EF. ",
   "id": "a3c2ef5c38e02c82"
  },
  {
   "metadata": {
    "ExecuteTime": {
     "end_time": "2024-11-05T00:15:51.860585Z",
     "start_time": "2024-11-05T00:15:51.826994Z"
    }
   },
   "cell_type": "code",
   "source": "all_regionalized_flows_in_ef = list(set([i[0][1] for i in [x for xs in regionalized_methods.values() for x in xs] if i[0][0] == name_spatialized_biosphere_db]))",
   "id": "116bd8db3c895155",
   "outputs": [],
   "execution_count": 25
  },
  {
   "metadata": {
    "ExecuteTime": {
     "end_time": "2024-11-05T00:15:51.875360Z",
     "start_time": "2024-11-05T00:15:51.863596Z"
    }
   },
   "cell_type": "code",
   "source": "all_regionalized_flows_in_regioinvent = [i['code'] for i in biosphere_db_spatialized.db_as_list]",
   "id": "633eafbcd678a134",
   "outputs": [],
   "execution_count": 26
  },
  {
   "metadata": {
    "ExecuteTime": {
     "end_time": "2024-11-05T00:15:51.894453Z",
     "start_time": "2024-11-05T00:15:51.877621Z"
    }
   },
   "cell_type": "code",
   "source": "used_spatialized_flows = list(set(all_regionalized_flows_in_regioinvent).intersection(all_regionalized_flows_in_ef))",
   "id": "ae8718f088497388",
   "outputs": [],
   "execution_count": 27
  },
  {
   "metadata": {
    "ExecuteTime": {
     "end_time": "2024-11-05T00:16:00.877926Z",
     "start_time": "2024-11-05T00:15:51.903380Z"
    }
   },
   "cell_type": "code",
   "source": "new_spatialized_biosphere_db = Database(db_as_list=[i for i in biosphere_db_spatialized.db_as_list if i['code'] in used_spatialized_flows])",
   "id": "fa6569302f295f51",
   "outputs": [],
   "execution_count": 28
  },
  {
   "metadata": {},
   "cell_type": "markdown",
   "source": "## Missing locations and flows ",
   "id": "ab13a5804483cb28"
  },
  {
   "metadata": {
    "ExecuteTime": {
     "end_time": "2024-11-05T00:16:04.979100Z",
     "start_time": "2024-11-05T00:16:00.877926Z"
    }
   },
   "cell_type": "code",
   "source": "ei_database = Database('ecoinvent-3.9.1-cutoff')",
   "id": "11e8c99f6a368fdb",
   "outputs": [
    {
     "name": "stdout",
     "output_type": "stream",
     "text": [
      "Loaded ecoinvent-3.9.1-cutoff from pickle!\n"
     ]
    }
   ],
   "execution_count": 29
  },
  {
   "metadata": {
    "ExecuteTime": {
     "end_time": "2024-11-05T00:16:05.001230Z",
     "start_time": "2024-11-05T00:16:04.979100Z"
    }
   },
   "cell_type": "code",
   "source": "ei_locations = list(set([i['location'] for i in ei_database.db_as_list]))",
   "id": "9fe1dbe4476a45",
   "outputs": [],
   "execution_count": 30
  },
  {
   "metadata": {
    "ExecuteTime": {
     "end_time": "2024-11-05T00:16:05.013470Z",
     "start_time": "2024-11-05T00:16:05.001230Z"
    }
   },
   "cell_type": "code",
   "source": "missing_biosphere_flows = sorted(list(set([i[1].rsplit(', ', 1)[0] for i in unlinked])))",
   "id": "e08df90c3a3b2bbf",
   "outputs": [],
   "execution_count": 31
  },
  {
   "metadata": {
    "ExecuteTime": {
     "end_time": "2024-11-05T00:16:10.029523Z",
     "start_time": "2024-11-05T00:16:05.015987Z"
    }
   },
   "cell_type": "code",
   "source": [
    "missing_flows_dict = {}\n",
    "for flow in missing_biosphere_flows:\n",
    "    missing_loc = list(set([i[1].rsplit(', ', 1)[-1] for i in unlinked if (i[1].rsplit(', ', 1)[0] == flow) & (i[1].rsplit(', ', 1)[-1] in ei_locations)]))\n",
    "    if len(missing_loc) > 0:\n",
    "        print(f'##### {flow} #####')\n",
    "        print(f'{sorted(missing_loc)}\\n')\n",
    "        missing_flows_dict[flow] = missing_loc"
   ],
   "id": "a3efda2fa9f621b1",
   "outputs": [
    {
     "name": "stdout",
     "output_type": "stream",
     "text": [
      "##### Occupation, annual crop, flooded crop #####\n",
      "['AE', 'BH', 'CW', 'CY', 'EG', 'GI', 'IL', 'IS', 'JO', 'KW', 'LB', 'LY', 'MT', 'OM', 'QA', 'SA', 'SY', 'TJ', 'TM', 'UZ', 'YE']\n",
      "\n",
      "##### Occupation, annual crop, greenhouse #####\n",
      "['AE', 'BH', 'CW', 'CY', 'EG', 'GI', 'IL', 'IS', 'JO', 'KW', 'LB', 'LY', 'MT', 'OM', 'QA', 'SA', 'SY', 'TJ', 'TM', 'UZ', 'YE']\n",
      "\n",
      "##### Occupation, annual crop, irrigated #####\n",
      "['AE', 'BH', 'CW', 'CY', 'EG', 'GI', 'IL', 'IS', 'JO', 'KW', 'LB', 'LY', 'MT', 'OM', 'QA', 'SA', 'SY', 'TJ', 'TM', 'UZ', 'YE']\n",
      "\n",
      "##### Occupation, annual crop, irrigated, extensive #####\n",
      "['AE', 'BH', 'CW', 'CY', 'EG', 'GI', 'IL', 'IS', 'JO', 'KW', 'LB', 'LY', 'MT', 'OM', 'QA', 'SA', 'SY', 'TJ', 'TM', 'UZ', 'YE']\n",
      "\n",
      "##### Occupation, annual crop, irrigated, intensive #####\n",
      "['AE', 'BH', 'CW', 'CY', 'EG', 'GI', 'IL', 'IS', 'JO', 'KW', 'LB', 'LY', 'MT', 'OM', 'QA', 'SA', 'SY', 'TJ', 'TM', 'UZ', 'YE']\n",
      "\n",
      "##### Occupation, annual crop, non-irrigated #####\n",
      "['AE', 'BH', 'CW', 'CY', 'EG', 'GI', 'IL', 'IS', 'JO', 'KW', 'LB', 'LY', 'MT', 'OM', 'QA', 'SA', 'SY', 'TJ', 'TM', 'UZ', 'YE']\n",
      "\n",
      "##### Occupation, annual crop, non-irrigated, extensive #####\n",
      "['AE', 'BH', 'CW', 'CY', 'EG', 'GI', 'IL', 'IS', 'JO', 'KW', 'LB', 'LY', 'MT', 'OM', 'QA', 'SA', 'SY', 'TJ', 'TM', 'UZ', 'YE']\n",
      "\n",
      "##### Occupation, annual crop, non-irrigated, intensive #####\n",
      "['AE', 'BH', 'CW', 'CY', 'EG', 'GI', 'IL', 'IS', 'JO', 'KW', 'LB', 'LY', 'MT', 'OM', 'QA', 'SA', 'SY', 'TJ', 'TM', 'UZ', 'YE']\n",
      "\n",
      "##### Occupation, arable land, unspecified use #####\n",
      "['AE', 'BH', 'CW', 'CY', 'EG', 'GI', 'IL', 'IS', 'JO', 'KW', 'LB', 'LY', 'MT', 'OM', 'QA', 'SA', 'SY', 'TJ', 'TM', 'UZ', 'YE']\n",
      "\n",
      "##### Occupation, arable, conservation tillage (obsolete) #####\n",
      "['AE', 'BH', 'CW', 'CY', 'EG', 'GI', 'IL', 'IS', 'JO', 'KW', 'LB', 'LY', 'MT', 'OM', 'QA', 'SA', 'SY', 'TJ', 'TM', 'UZ', 'YE']\n",
      "\n",
      "##### Occupation, arable, conventional tillage (obsolete) #####\n",
      "['AE', 'BH', 'CW', 'CY', 'EG', 'GI', 'IL', 'IS', 'JO', 'KW', 'LB', 'LY', 'MT', 'OM', 'QA', 'SA', 'SY', 'TJ', 'TM', 'UZ', 'YE']\n",
      "\n",
      "##### Occupation, arable, reduced tillage (obsolete) #####\n",
      "['AE', 'BH', 'CW', 'CY', 'EG', 'GI', 'IL', 'IS', 'JO', 'KW', 'LB', 'LY', 'MT', 'OM', 'QA', 'SA', 'SY', 'TJ', 'TM', 'UZ', 'YE']\n",
      "\n",
      "##### Occupation, bare area (non-use) #####\n",
      "['IS']\n",
      "\n",
      "##### Occupation, cropland fallow (non-use) #####\n",
      "['IS']\n",
      "\n",
      "##### Occupation, field margin/hedgerow #####\n",
      "['IS']\n",
      "\n",
      "##### Occupation, forest, extensive #####\n",
      "['AE', 'BH', 'CW', 'CY', 'EG', 'GI', 'IL', 'IS', 'JO', 'KW', 'LB', 'LY', 'MT', 'OM', 'QA', 'SA', 'SY', 'YE']\n",
      "\n",
      "##### Occupation, forest, intensive #####\n",
      "['AE', 'BH', 'CW', 'CY', 'EG', 'GI', 'IL', 'IS', 'JO', 'KW', 'LB', 'LY', 'MT', 'OM', 'QA', 'SA', 'SY', 'YE']\n",
      "\n",
      "##### Occupation, forest, primary (non-use) #####\n",
      "['IS']\n",
      "\n",
      "##### Occupation, forest, secondary (non-use) #####\n",
      "['IS']\n",
      "\n",
      "##### Occupation, forest, unspecified #####\n",
      "['AE', 'BH', 'CW', 'CY', 'EG', 'GI', 'IL', 'IS', 'JO', 'KW', 'LB', 'LY', 'MT', 'OM', 'QA', 'SA', 'SY', 'YE']\n",
      "\n",
      "##### Occupation, grassland, natural (non-use) #####\n",
      "['IS']\n",
      "\n",
      "##### Occupation, grassland, natural, for livestock grazing #####\n",
      "['IS']\n",
      "\n",
      "##### Occupation, heterogeneous, agricultural #####\n",
      "['AE', 'AL', 'AM', 'AT', 'AZ', 'BA', 'BE', 'BG', 'BH', 'BW', 'BY', 'CA', 'CH', 'CW', 'CY', 'CZ', 'DE', 'DK', 'DZ', 'EE', 'EG', 'ES', 'FI', 'FR', 'GB', 'GE', 'GI', 'GR', 'HR', 'HU', 'IE', 'IL', 'IQ', 'IS', 'IT', 'JO', 'KP', 'KR', 'KW', 'LB', 'LT', 'LU', 'LV', 'LY', 'MD', 'ME', 'MK', 'MT', 'NA', 'NE', 'NL', 'NO', 'OM', 'PL', 'PT', 'QA', 'RO', 'RS', 'SA', 'SE', 'SI', 'SK', 'SN', 'SY', 'TN', 'TR', 'UA', 'YE']\n",
      "\n",
      "##### Occupation, pasture, man made #####\n",
      "['IS']\n",
      "\n",
      "##### Occupation, pasture, man made, extensive #####\n",
      "['IS']\n",
      "\n",
      "##### Occupation, pasture, man made, intensive #####\n",
      "['IS']\n",
      "\n",
      "##### Occupation, permanent crop #####\n",
      "['AE', 'BH', 'BW', 'CW', 'CY', 'DZ', 'EG', 'GI', 'IL', 'IS', 'JO', 'KG', 'KW', 'KZ', 'LB', 'LY', 'MA', 'MN', 'MT', 'NA', 'NE', 'OM', 'QA', 'SA', 'SN', 'SY', 'TJ', 'TM', 'TN', 'UZ', 'YE', 'ZM', 'ZW']\n",
      "\n",
      "##### Occupation, permanent crop, irrigated #####\n",
      "['AE', 'BH', 'BW', 'CW', 'CY', 'DZ', 'EG', 'GI', 'IL', 'IS', 'JO', 'KG', 'KW', 'KZ', 'LB', 'LY', 'MA', 'MN', 'MT', 'NA', 'NE', 'OM', 'QA', 'SA', 'SN', 'SY', 'TJ', 'TM', 'TN', 'UZ', 'YE', 'ZM', 'ZW']\n",
      "\n",
      "##### Occupation, permanent crop, irrigated, extensive #####\n",
      "['AE', 'BH', 'BW', 'CW', 'CY', 'DZ', 'EG', 'GI', 'IL', 'IS', 'JO', 'KG', 'KW', 'KZ', 'LB', 'LY', 'MA', 'MN', 'MT', 'NA', 'NE', 'OM', 'QA', 'SA', 'SN', 'SY', 'TJ', 'TM', 'TN', 'UZ', 'YE', 'ZM', 'ZW']\n",
      "\n",
      "##### Occupation, permanent crop, irrigated, intensive #####\n",
      "['AE', 'BH', 'BW', 'CW', 'CY', 'DZ', 'EG', 'GI', 'IL', 'IS', 'JO', 'KG', 'KW', 'KZ', 'LB', 'LY', 'MA', 'MN', 'MT', 'NA', 'NE', 'OM', 'QA', 'SA', 'SN', 'SY', 'TJ', 'TM', 'TN', 'UZ', 'YE', 'ZM', 'ZW']\n",
      "\n",
      "##### Occupation, permanent crop, non-irrigated #####\n",
      "['AE', 'BH', 'BW', 'CW', 'CY', 'DZ', 'EG', 'GI', 'IL', 'IS', 'JO', 'KG', 'KW', 'KZ', 'LB', 'LY', 'MA', 'MN', 'MT', 'NA', 'NE', 'OM', 'QA', 'SA', 'SN', 'SY', 'TJ', 'TM', 'TN', 'UZ', 'YE', 'ZM', 'ZW']\n",
      "\n",
      "##### Occupation, permanent crop, non-irrigated, extensive #####\n",
      "['AE', 'BH', 'BW', 'CW', 'CY', 'DZ', 'EG', 'GI', 'IL', 'IS', 'JO', 'KG', 'KW', 'KZ', 'LB', 'LY', 'MA', 'MN', 'MT', 'NA', 'NE', 'OM', 'QA', 'SA', 'SN', 'SY', 'TJ', 'TM', 'TN', 'UZ', 'YE', 'ZM', 'ZW']\n",
      "\n",
      "##### Occupation, permanent crop, non-irrigated, intensive #####\n",
      "['AE', 'BH', 'BW', 'CW', 'CY', 'DZ', 'EG', 'GI', 'IL', 'IS', 'JO', 'KG', 'KW', 'KZ', 'LB', 'LY', 'MA', 'MN', 'MT', 'NA', 'NE', 'OM', 'QA', 'SA', 'SN', 'SY', 'TJ', 'TM', 'TN', 'UZ', 'YE', 'ZM', 'ZW']\n",
      "\n",
      "##### Occupation, shrub land, sclerophyllous #####\n",
      "['AE', 'BH', 'CW', 'CY', 'EG', 'GI', 'IL', 'IS', 'JO', 'KW', 'LB', 'LY', 'MT', 'OM', 'QA', 'SA', 'SY', 'YE']\n",
      "\n",
      "##### Occupation, snow and ice (non-use) #####\n",
      "['IS']\n",
      "\n",
      "##### Occupation, traffic area, rail/road embankment #####\n",
      "['AE', 'AO', 'BD', 'BH', 'BJ', 'BN', 'BO', 'BR', 'BW', 'CD', 'CG', 'CI', 'CM', 'CO', 'CR', 'CU', 'CW', 'CY', 'DO', 'EC', 'EG', 'ER', 'ET', 'GA', 'GH', 'GI', 'GT', 'HN', 'HT', 'ID', 'IL', 'IS', 'JM', 'JO', 'KE', 'KH', 'KW', 'LB', 'LK', 'LY', 'MG', 'MT', 'MX', 'MY', 'MZ', 'NA', 'NE', 'NG', 'NI', 'OM', 'PA', 'PE', 'PG', 'PH', 'PY', 'QA', 'RW', 'SA', 'SD', 'SG', 'SN', 'SS', 'SV', 'SY', 'TG', 'TH', 'TJ', 'TM', 'TT', 'TZ', 'UY', 'UZ', 'VE', 'VN', 'YE', 'ZA', 'ZM', 'ZW']\n",
      "\n",
      "##### Occupation, unspecified, natural (non-use) #####\n",
      "['IS']\n",
      "\n",
      "##### Occupation, urban, discontinuously built #####\n",
      "['AE', 'AO', 'BD', 'BH', 'BJ', 'BN', 'BO', 'BR', 'BW', 'CD', 'CG', 'CI', 'CM', 'CO', 'CR', 'CU', 'CW', 'CY', 'DO', 'EC', 'EG', 'ER', 'ET', 'GA', 'GH', 'GI', 'GT', 'HN', 'HT', 'ID', 'IL', 'IS', 'JM', 'JO', 'KE', 'KH', 'KW', 'LB', 'LK', 'LY', 'MG', 'MT', 'MX', 'MY', 'MZ', 'NA', 'NE', 'NG', 'NI', 'OM', 'PA', 'PE', 'PG', 'PH', 'PY', 'QA', 'RW', 'SA', 'SD', 'SG', 'SN', 'SS', 'SV', 'SY', 'TG', 'TH', 'TJ', 'TM', 'TT', 'TZ', 'UY', 'UZ', 'VE', 'VN', 'YE', 'ZA', 'ZM', 'ZW']\n",
      "\n",
      "##### Occupation, urban, green area #####\n",
      "['AE', 'AO', 'BD', 'BH', 'BJ', 'BN', 'BO', 'BR', 'BW', 'CD', 'CG', 'CI', 'CM', 'CO', 'CR', 'CU', 'CW', 'CY', 'DO', 'EC', 'EG', 'ER', 'ET', 'GA', 'GH', 'GI', 'GT', 'HN', 'HT', 'ID', 'IL', 'IS', 'JM', 'JO', 'KE', 'KH', 'KW', 'LB', 'LK', 'LY', 'MG', 'MT', 'MX', 'MY', 'MZ', 'NA', 'NE', 'NG', 'NI', 'OM', 'PA', 'PE', 'PG', 'PH', 'PY', 'QA', 'RW', 'SA', 'SD', 'SG', 'SN', 'SS', 'SV', 'SY', 'TG', 'TH', 'TJ', 'TM', 'TT', 'TZ', 'UY', 'UZ', 'VE', 'VN', 'YE', 'ZA', 'ZM', 'ZW']\n",
      "\n",
      "##### Occupation, urban/industrial fallow (non-use) #####\n",
      "['AE', 'AO', 'BD', 'BH', 'BJ', 'BN', 'BO', 'BR', 'BW', 'CD', 'CG', 'CI', 'CM', 'CO', 'CR', 'CU', 'CW', 'CY', 'DO', 'EC', 'EG', 'ER', 'ET', 'GA', 'GH', 'GI', 'GT', 'HN', 'HT', 'ID', 'IL', 'IS', 'JM', 'JO', 'KE', 'KH', 'KW', 'LB', 'LK', 'LY', 'MG', 'MT', 'MX', 'MY', 'MZ', 'NA', 'NE', 'NG', 'NI', 'OM', 'PA', 'PE', 'PG', 'PH', 'PY', 'QA', 'RW', 'SA', 'SD', 'SG', 'SN', 'SS', 'SV', 'SY', 'TG', 'TH', 'TJ', 'TM', 'TT', 'TZ', 'UY', 'UZ', 'VE', 'VN', 'YE', 'ZA', 'ZM', 'ZW']\n",
      "\n",
      "##### Occupation, wetland, coastal (non-use) #####\n",
      "['IS']\n",
      "\n",
      "##### Occupation, wetland, inland (non-use) #####\n",
      "['IS']\n",
      "\n",
      "##### Transformation, from annual crop #####\n",
      "['AE', 'BH', 'CW', 'CY', 'EG', 'GI', 'IL', 'IS', 'JO', 'KW', 'LB', 'LY', 'MT', 'OM', 'QA', 'SA', 'SY', 'TJ', 'TM', 'UZ', 'YE']\n",
      "\n",
      "##### Transformation, from annual crop, flooded crop #####\n",
      "['AE', 'BH', 'CW', 'CY', 'EG', 'GI', 'IL', 'IS', 'JO', 'KW', 'LB', 'LY', 'MT', 'OM', 'QA', 'SA', 'SY', 'TJ', 'TM', 'UZ', 'YE']\n",
      "\n",
      "##### Transformation, from annual crop, greenhouse #####\n",
      "['AE', 'BH', 'CW', 'CY', 'EG', 'GI', 'IL', 'IS', 'JO', 'KW', 'LB', 'LY', 'MT', 'OM', 'QA', 'SA', 'SY', 'TJ', 'TM', 'UZ', 'YE']\n",
      "\n",
      "##### Transformation, from annual crop, irrigated #####\n",
      "['AE', 'BH', 'CW', 'CY', 'EG', 'GI', 'IL', 'IS', 'JO', 'KW', 'LB', 'LY', 'MT', 'OM', 'QA', 'SA', 'SY', 'TJ', 'TM', 'UZ', 'YE']\n",
      "\n",
      "##### Transformation, from annual crop, irrigated, extensive #####\n",
      "['AE', 'BH', 'CW', 'CY', 'EG', 'GI', 'IL', 'IS', 'JO', 'KW', 'LB', 'LY', 'MT', 'OM', 'QA', 'SA', 'SY', 'TJ', 'TM', 'UZ', 'YE']\n",
      "\n",
      "##### Transformation, from annual crop, irrigated, intensive #####\n",
      "['AE', 'BH', 'CW', 'CY', 'EG', 'GI', 'IL', 'IS', 'JO', 'KW', 'LB', 'LY', 'MT', 'OM', 'QA', 'SA', 'SY', 'TJ', 'TM', 'UZ', 'YE']\n",
      "\n",
      "##### Transformation, from annual crop, non-irrigated #####\n",
      "['AE', 'BH', 'CW', 'CY', 'EG', 'GI', 'IL', 'IS', 'JO', 'KW', 'LB', 'LY', 'MT', 'OM', 'QA', 'SA', 'SY', 'TJ', 'TM', 'UZ', 'YE']\n",
      "\n",
      "##### Transformation, from annual crop, non-irrigated, extensive #####\n",
      "['AE', 'BH', 'CW', 'CY', 'EG', 'GI', 'IL', 'IS', 'JO', 'KW', 'LB', 'LY', 'MT', 'OM', 'QA', 'SA', 'SY', 'TJ', 'TM', 'UZ', 'YE']\n",
      "\n",
      "##### Transformation, from annual crop, non-irrigated, intensive #####\n",
      "['AE', 'BH', 'CW', 'CY', 'EG', 'GI', 'IL', 'IS', 'JO', 'KW', 'LB', 'LY', 'MT', 'OM', 'QA', 'SA', 'SY', 'TJ', 'TM', 'UZ', 'YE']\n",
      "\n",
      "##### Transformation, from bare area (non-use) #####\n",
      "['IS']\n",
      "\n",
      "##### Transformation, from cropland fallow (non-use) #####\n",
      "['IS']\n",
      "\n",
      "##### Transformation, from dump site #####\n",
      "['AE', 'AO', 'BD', 'BH', 'BJ', 'BN', 'BO', 'BR', 'BW', 'CD', 'CG', 'CI', 'CM', 'CO', 'CR', 'CU', 'CW', 'CY', 'DO', 'EC', 'EG', 'ER', 'ET', 'GA', 'GH', 'GI', 'GT', 'HN', 'HT', 'ID', 'IL', 'IS', 'JM', 'JO', 'KE', 'KH', 'KW', 'LB', 'LK', 'LY', 'MG', 'MT', 'MX', 'MY', 'MZ', 'NA', 'NE', 'NG', 'NI', 'OM', 'PA', 'PE', 'PG', 'PH', 'PY', 'QA', 'RW', 'SA', 'SD', 'SG', 'SN', 'SS', 'SV', 'SY', 'TG', 'TH', 'TJ', 'TM', 'TT', 'TZ', 'UY', 'UZ', 'VE', 'VN', 'YE', 'ZA', 'ZM', 'ZW']\n",
      "\n",
      "##### Transformation, from dump site, inert material landfill #####\n",
      "['AE', 'AO', 'BD', 'BH', 'BJ', 'BN', 'BO', 'BR', 'BW', 'CD', 'CG', 'CI', 'CM', 'CO', 'CR', 'CU', 'CW', 'CY', 'DO', 'EC', 'EG', 'ER', 'ET', 'GA', 'GH', 'GI', 'GT', 'HN', 'HT', 'ID', 'IL', 'IS', 'JM', 'JO', 'KE', 'KH', 'KW', 'LB', 'LK', 'LY', 'MG', 'MT', 'MX', 'MY', 'MZ', 'NA', 'NE', 'NG', 'NI', 'OM', 'PA', 'PE', 'PG', 'PH', 'PY', 'QA', 'RW', 'SA', 'SD', 'SG', 'SN', 'SS', 'SV', 'SY', 'TG', 'TH', 'TJ', 'TM', 'TT', 'TZ', 'UY', 'UZ', 'VE', 'VN', 'YE', 'ZA', 'ZM', 'ZW']\n",
      "\n",
      "##### Transformation, from dump site, residual material landfill #####\n",
      "['AE', 'AO', 'BD', 'BH', 'BJ', 'BN', 'BO', 'BR', 'BW', 'CD', 'CG', 'CI', 'CM', 'CO', 'CR', 'CU', 'CW', 'CY', 'DO', 'EC', 'EG', 'ER', 'ET', 'GA', 'GH', 'GI', 'GT', 'HN', 'HT', 'ID', 'IL', 'IS', 'JM', 'JO', 'KE', 'KH', 'KW', 'LB', 'LK', 'LY', 'MG', 'MT', 'MX', 'MY', 'MZ', 'NA', 'NE', 'NG', 'NI', 'OM', 'PA', 'PE', 'PG', 'PH', 'PY', 'QA', 'RW', 'SA', 'SD', 'SG', 'SN', 'SS', 'SV', 'SY', 'TG', 'TH', 'TJ', 'TM', 'TT', 'TZ', 'UY', 'UZ', 'VE', 'VN', 'YE', 'ZA', 'ZM', 'ZW']\n",
      "\n",
      "##### Transformation, from dump site, sanitary landfill #####\n",
      "['AE', 'AO', 'BD', 'BH', 'BJ', 'BN', 'BO', 'BR', 'BW', 'CD', 'CG', 'CI', 'CM', 'CO', 'CR', 'CU', 'CW', 'CY', 'DO', 'EC', 'EG', 'ER', 'ET', 'GA', 'GH', 'GI', 'GT', 'HN', 'HT', 'ID', 'IL', 'IS', 'JM', 'JO', 'KE', 'KH', 'KW', 'LB', 'LK', 'LY', 'MG', 'MT', 'MX', 'MY', 'MZ', 'NA', 'NE', 'NG', 'NI', 'OM', 'PA', 'PE', 'PG', 'PH', 'PY', 'QA', 'RW', 'SA', 'SD', 'SG', 'SN', 'SS', 'SV', 'SY', 'TG', 'TH', 'TJ', 'TM', 'TT', 'TZ', 'UY', 'UZ', 'VE', 'VN', 'YE', 'ZA', 'ZM', 'ZW']\n",
      "\n",
      "##### Transformation, from dump site, slag compartment #####\n",
      "['AE', 'AO', 'BD', 'BH', 'BJ', 'BN', 'BO', 'BR', 'BW', 'CD', 'CG', 'CI', 'CM', 'CO', 'CR', 'CU', 'CW', 'CY', 'DO', 'EC', 'EG', 'ER', 'ET', 'GA', 'GH', 'GI', 'GT', 'HN', 'HT', 'ID', 'IL', 'IS', 'JM', 'JO', 'KE', 'KH', 'KW', 'LB', 'LK', 'LY', 'MG', 'MT', 'MX', 'MY', 'MZ', 'NA', 'NE', 'NG', 'NI', 'OM', 'PA', 'PE', 'PG', 'PH', 'PY', 'QA', 'RW', 'SA', 'SD', 'SG', 'SN', 'SS', 'SV', 'SY', 'TG', 'TH', 'TJ', 'TM', 'TT', 'TZ', 'UY', 'UZ', 'VE', 'VN', 'YE', 'ZA', 'ZM', 'ZW']\n",
      "\n",
      "##### Transformation, from field margin/hedgerow #####\n",
      "['IS']\n",
      "\n",
      "##### Transformation, from forest, extensive #####\n",
      "['AE', 'BH', 'CW', 'CY', 'EG', 'GI', 'IL', 'IS', 'JO', 'KW', 'LB', 'LY', 'MT', 'OM', 'QA', 'SA', 'SY', 'YE']\n",
      "\n",
      "##### Transformation, from forest, intensive #####\n",
      "['AE', 'BH', 'CW', 'CY', 'EG', 'GI', 'IL', 'IS', 'JO', 'KW', 'LB', 'LY', 'MT', 'OM', 'QA', 'SA', 'SY', 'YE']\n",
      "\n",
      "##### Transformation, from forest, primary (non-use) #####\n",
      "['IS']\n",
      "\n",
      "##### Transformation, from forest, secondary (non-use) #####\n",
      "['IS']\n",
      "\n",
      "##### Transformation, from forest, unspecified #####\n",
      "['AE', 'BH', 'CW', 'CY', 'EG', 'GI', 'IL', 'IS', 'JO', 'KW', 'LB', 'LY', 'MT', 'OM', 'QA', 'SA', 'SY', 'YE']\n",
      "\n",
      "##### Transformation, from grassland, natural (non-use) #####\n",
      "['IS']\n",
      "\n",
      "##### Transformation, from grassland, natural, for livestock grazing #####\n",
      "['IS']\n",
      "\n",
      "##### Transformation, from pasture, man made #####\n",
      "['IS']\n",
      "\n",
      "##### Transformation, from pasture, man made, extensive #####\n",
      "['IS']\n",
      "\n",
      "##### Transformation, from pasture, man made, intensive #####\n",
      "['IS']\n",
      "\n",
      "##### Transformation, from permanent crop, irrigated #####\n",
      "['AE', 'BH', 'BW', 'CW', 'CY', 'DZ', 'EG', 'GI', 'IL', 'IS', 'JO', 'KG', 'KW', 'KZ', 'LB', 'LY', 'MA', 'MN', 'MT', 'NA', 'NE', 'OM', 'QA', 'SA', 'SN', 'SY', 'TJ', 'TM', 'TN', 'UZ', 'YE', 'ZM', 'ZW']\n",
      "\n",
      "##### Transformation, from permanent crop, irrigated, extensive #####\n",
      "['AE', 'BH', 'BW', 'CW', 'CY', 'DZ', 'EG', 'GI', 'IL', 'IS', 'JO', 'KG', 'KW', 'KZ', 'LB', 'LY', 'MA', 'MN', 'MT', 'NA', 'NE', 'OM', 'QA', 'SA', 'SN', 'SY', 'TJ', 'TM', 'TN', 'UZ', 'YE', 'ZM', 'ZW']\n",
      "\n",
      "##### Transformation, from permanent crop, irrigated, intensive #####\n",
      "['AE', 'BH', 'BW', 'CW', 'CY', 'DZ', 'EG', 'GI', 'IL', 'IS', 'JO', 'KG', 'KW', 'KZ', 'LB', 'LY', 'MA', 'MN', 'MT', 'NA', 'NE', 'OM', 'QA', 'SA', 'SN', 'SY', 'TJ', 'TM', 'TN', 'UZ', 'YE', 'ZM', 'ZW']\n",
      "\n",
      "##### Transformation, from permanent crop, non-irrigated #####\n",
      "['AE', 'BH', 'BW', 'CW', 'CY', 'DZ', 'EG', 'GI', 'IL', 'IS', 'JO', 'KG', 'KW', 'KZ', 'LB', 'LY', 'MA', 'MN', 'MT', 'NA', 'NE', 'OM', 'QA', 'SA', 'SN', 'SY', 'TJ', 'TM', 'TN', 'UZ', 'YE', 'ZM', 'ZW']\n",
      "\n",
      "##### Transformation, from permanent crop, non-irrigated, extensive #####\n",
      "['AE', 'BH', 'BW', 'CW', 'CY', 'DZ', 'EG', 'GI', 'IL', 'IS', 'JO', 'KG', 'KW', 'KZ', 'LB', 'LY', 'MA', 'MN', 'MT', 'NA', 'NE', 'OM', 'QA', 'SA', 'SN', 'SY', 'TJ', 'TM', 'TN', 'UZ', 'YE', 'ZM', 'ZW']\n",
      "\n",
      "##### Transformation, from permanent crop, non-irrigated, intensive #####\n",
      "['AE', 'BH', 'BW', 'CW', 'CY', 'DZ', 'EG', 'GI', 'IL', 'IS', 'JO', 'KG', 'KW', 'KZ', 'LB', 'LY', 'MA', 'MN', 'MT', 'NA', 'NE', 'OM', 'QA', 'SA', 'SN', 'SY', 'TJ', 'TM', 'TN', 'UZ', 'YE', 'ZM', 'ZW']\n",
      "\n",
      "##### Transformation, from shrub land, sclerophyllous #####\n",
      "['AE', 'BH', 'CW', 'CY', 'EG', 'GI', 'IL', 'IS', 'JO', 'KW', 'LB', 'LY', 'MT', 'OM', 'QA', 'SA', 'SY', 'YE']\n",
      "\n",
      "##### Transformation, from snow and ice (non-use) #####\n",
      "['IS']\n",
      "\n",
      "##### Transformation, from traffic area, rail network #####\n",
      "['AE', 'AO', 'BD', 'BH', 'BJ', 'BN', 'BO', 'BR', 'BW', 'CD', 'CG', 'CI', 'CM', 'CO', 'CR', 'CU', 'CW', 'CY', 'DO', 'EC', 'EG', 'ER', 'ET', 'GA', 'GH', 'GI', 'GT', 'HN', 'HT', 'ID', 'IL', 'IS', 'JM', 'JO', 'KE', 'KH', 'KW', 'LB', 'LK', 'LY', 'MG', 'MT', 'MX', 'MY', 'MZ', 'NA', 'NE', 'NG', 'NI', 'OM', 'PA', 'PE', 'PG', 'PH', 'PY', 'QA', 'RW', 'SA', 'SD', 'SG', 'SN', 'SS', 'SV', 'SY', 'TG', 'TH', 'TJ', 'TM', 'TT', 'TZ', 'UY', 'UZ', 'VE', 'VN', 'YE', 'ZA', 'ZM', 'ZW']\n",
      "\n",
      "##### Transformation, from traffic area, rail/road embankment #####\n",
      "['AE', 'AO', 'BD', 'BH', 'BJ', 'BN', 'BO', 'BR', 'BW', 'CD', 'CG', 'CI', 'CM', 'CO', 'CR', 'CU', 'CW', 'CY', 'DO', 'EC', 'EG', 'ER', 'ET', 'GA', 'GH', 'GI', 'GT', 'HN', 'HT', 'ID', 'IL', 'IS', 'JM', 'JO', 'KE', 'KH', 'KW', 'LB', 'LK', 'LY', 'MG', 'MT', 'MX', 'MY', 'MZ', 'NA', 'NE', 'NG', 'NI', 'OM', 'PA', 'PE', 'PG', 'PH', 'PY', 'QA', 'RW', 'SA', 'SD', 'SG', 'SN', 'SS', 'SV', 'SY', 'TG', 'TH', 'TJ', 'TM', 'TT', 'TZ', 'UY', 'UZ', 'VE', 'VN', 'YE', 'ZA', 'ZM', 'ZW']\n",
      "\n",
      "##### Transformation, from traffic area, road network #####\n",
      "['AE', 'AO', 'BD', 'BH', 'BJ', 'BN', 'BO', 'BR', 'BW', 'CD', 'CG', 'CI', 'CM', 'CO', 'CR', 'CU', 'CW', 'CY', 'DO', 'EC', 'EG', 'ER', 'ET', 'GA', 'GH', 'GI', 'GT', 'HN', 'HT', 'ID', 'IL', 'IS', 'JM', 'JO', 'KE', 'KH', 'KW', 'LB', 'LK', 'LY', 'MG', 'MT', 'MX', 'MY', 'MZ', 'NA', 'NE', 'NG', 'NI', 'OM', 'PA', 'PE', 'PG', 'PH', 'PY', 'QA', 'RW', 'SA', 'SD', 'SG', 'SN', 'SS', 'SV', 'SY', 'TG', 'TH', 'TJ', 'TM', 'TT', 'TZ', 'UY', 'UZ', 'VE', 'VN', 'YE', 'ZA', 'ZM', 'ZW']\n",
      "\n",
      "##### Transformation, from unknown #####\n",
      "['AE', 'AL', 'AM', 'AO', 'AR', 'AT', 'AU', 'AZ', 'BA', 'BD', 'BE', 'BG', 'BH', 'BJ', 'BN', 'BO', 'BR', 'BW', 'BY', 'CA', 'CD', 'CG', 'CH', 'CI', 'CL', 'CM', 'CN', 'CO', 'CR', 'CU', 'CW', 'CY', 'CZ', 'DE', 'DK', 'DO', 'DZ', 'EC', 'EE', 'EG', 'ER', 'ES', 'ET', 'FI', 'FR', 'GA', 'GB', 'GE', 'GH', 'GI', 'GR', 'GT', 'HN', 'HR', 'HT', 'HU', 'ID', 'IE', 'IL', 'IN', 'IQ', 'IR', 'IS', 'IT', 'JM', 'JO', 'JP', 'KE', 'KG', 'KH', 'KP', 'KR', 'KW', 'KZ', 'LB', 'LK', 'LT', 'LU', 'LV', 'LY', 'MA', 'MD', 'ME', 'MG', 'MK', 'MM', 'MN', 'MT', 'MX', 'MY', 'MZ', 'NA', 'NE', 'NG', 'NI', 'NL', 'NO', 'NP', 'NZ', 'OM', 'PA', 'PE', 'PG', 'PH', 'PK', 'PL', 'PT', 'PY', 'QA', 'RO', 'RS', 'RU', 'RW', 'SA', 'SD', 'SE', 'SG', 'SI', 'SK', 'SN', 'SS', 'SV', 'SY', 'TG', 'TH', 'TJ', 'TM', 'TN', 'TR', 'TT', 'TZ', 'UA', 'US', 'UY', 'UZ', 'VE', 'VN', 'YE', 'ZA', 'ZM', 'ZW']\n",
      "\n",
      "##### Transformation, from urban, discontinuously built #####\n",
      "['AE', 'AO', 'BD', 'BH', 'BJ', 'BN', 'BO', 'BR', 'BW', 'CD', 'CG', 'CI', 'CM', 'CO', 'CR', 'CU', 'CW', 'CY', 'DO', 'EC', 'EG', 'ER', 'ET', 'GA', 'GH', 'GI', 'GT', 'HN', 'HT', 'ID', 'IL', 'IS', 'JM', 'JO', 'KE', 'KH', 'KW', 'LB', 'LK', 'LY', 'MG', 'MT', 'MX', 'MY', 'MZ', 'NA', 'NE', 'NG', 'NI', 'OM', 'PA', 'PE', 'PG', 'PH', 'PY', 'QA', 'RW', 'SA', 'SD', 'SG', 'SN', 'SS', 'SV', 'SY', 'TG', 'TH', 'TJ', 'TM', 'TT', 'TZ', 'UY', 'UZ', 'VE', 'VN', 'YE', 'ZA', 'ZM', 'ZW']\n",
      "\n",
      "##### Transformation, from urban/industrial fallow (non-use) #####\n",
      "['AE', 'AO', 'BD', 'BH', 'BJ', 'BN', 'BO', 'BR', 'BW', 'CD', 'CG', 'CI', 'CM', 'CO', 'CR', 'CU', 'CW', 'CY', 'DO', 'EC', 'EG', 'ER', 'ET', 'GA', 'GH', 'GI', 'GT', 'HN', 'HT', 'ID', 'IL', 'IS', 'JM', 'JO', 'KE', 'KH', 'KW', 'LB', 'LK', 'LY', 'MG', 'MT', 'MX', 'MY', 'MZ', 'NA', 'NE', 'NG', 'NI', 'OM', 'PA', 'PE', 'PG', 'PH', 'PY', 'QA', 'RW', 'SA', 'SD', 'SG', 'SN', 'SS', 'SV', 'SY', 'TG', 'TH', 'TJ', 'TM', 'TT', 'TZ', 'UY', 'UZ', 'VE', 'VN', 'YE', 'ZA', 'ZM', 'ZW']\n",
      "\n",
      "##### Transformation, from wetland, coastal (non-use) #####\n",
      "['IS']\n",
      "\n",
      "##### Transformation, from wetland, inland (non-use) #####\n",
      "['IS']\n",
      "\n",
      "##### Transformation, to annual crop #####\n",
      "['AE', 'BH', 'CW', 'CY', 'EG', 'GI', 'IL', 'IS', 'JO', 'KW', 'LB', 'LY', 'MT', 'OM', 'QA', 'SA', 'SY', 'TJ', 'TM', 'UZ', 'YE']\n",
      "\n",
      "##### Transformation, to annual crop, flooded crop #####\n",
      "['AE', 'BH', 'CW', 'CY', 'EG', 'GI', 'IL', 'IS', 'JO', 'KW', 'LB', 'LY', 'MT', 'OM', 'QA', 'SA', 'SY', 'TJ', 'TM', 'UZ', 'YE']\n",
      "\n",
      "##### Transformation, to annual crop, greenhouse #####\n",
      "['AE', 'BH', 'CW', 'CY', 'EG', 'GI', 'IL', 'IS', 'JO', 'KW', 'LB', 'LY', 'MT', 'OM', 'QA', 'SA', 'SY', 'TJ', 'TM', 'UZ', 'YE']\n",
      "\n",
      "##### Transformation, to annual crop, irrigated #####\n",
      "['AE', 'BH', 'CW', 'CY', 'EG', 'GI', 'IL', 'IS', 'JO', 'KW', 'LB', 'LY', 'MT', 'OM', 'QA', 'SA', 'SY', 'TJ', 'TM', 'UZ', 'YE']\n",
      "\n",
      "##### Transformation, to annual crop, irrigated, extensive #####\n",
      "['AE', 'BH', 'CW', 'CY', 'EG', 'GI', 'IL', 'IS', 'JO', 'KW', 'LB', 'LY', 'MT', 'OM', 'QA', 'SA', 'SY', 'TJ', 'TM', 'UZ', 'YE']\n",
      "\n",
      "##### Transformation, to annual crop, irrigated, intensive #####\n",
      "['AE', 'BH', 'CW', 'CY', 'EG', 'GI', 'IL', 'IS', 'JO', 'KW', 'LB', 'LY', 'MT', 'OM', 'QA', 'SA', 'SY', 'TJ', 'TM', 'UZ', 'YE']\n",
      "\n",
      "##### Transformation, to annual crop, non-irrigated #####\n",
      "['AE', 'BH', 'CW', 'CY', 'EG', 'GI', 'IL', 'IS', 'JO', 'KW', 'LB', 'LY', 'MT', 'OM', 'QA', 'SA', 'SY', 'TJ', 'TM', 'UZ', 'YE']\n",
      "\n",
      "##### Transformation, to annual crop, non-irrigated, extensive #####\n",
      "['AE', 'BH', 'CW', 'CY', 'EG', 'GI', 'IL', 'IS', 'JO', 'KW', 'LB', 'LY', 'MT', 'OM', 'QA', 'SA', 'SY', 'TJ', 'TM', 'UZ', 'YE']\n",
      "\n",
      "##### Transformation, to annual crop, non-irrigated, intensive #####\n",
      "['AE', 'BH', 'CW', 'CY', 'EG', 'GI', 'IL', 'IS', 'JO', 'KW', 'LB', 'LY', 'MT', 'OM', 'QA', 'SA', 'SY', 'TJ', 'TM', 'UZ', 'YE']\n",
      "\n",
      "##### Transformation, to bare area (non-use) #####\n",
      "['IS']\n",
      "\n",
      "##### Transformation, to cropland fallow (non-use) #####\n",
      "['IS']\n",
      "\n",
      "##### Transformation, to dump site, inert material landfill #####\n",
      "['AE', 'AO', 'BD', 'BH', 'BJ', 'BN', 'BO', 'BR', 'BW', 'CD', 'CG', 'CI', 'CM', 'CO', 'CR', 'CU', 'CW', 'CY', 'DO', 'EC', 'EG', 'ER', 'ET', 'GA', 'GH', 'GI', 'GT', 'HN', 'HT', 'ID', 'IL', 'IS', 'JM', 'JO', 'KE', 'KH', 'KW', 'LB', 'LK', 'LY', 'MG', 'MT', 'MX', 'MY', 'MZ', 'NA', 'NE', 'NG', 'NI', 'OM', 'PA', 'PE', 'PG', 'PH', 'PY', 'QA', 'RW', 'SA', 'SD', 'SG', 'SN', 'SS', 'SV', 'SY', 'TG', 'TH', 'TJ', 'TM', 'TT', 'TZ', 'UY', 'UZ', 'VE', 'VN', 'YE', 'ZA', 'ZM', 'ZW']\n",
      "\n",
      "##### Transformation, to dump site, residual material landfill #####\n",
      "['AE', 'AO', 'BD', 'BH', 'BJ', 'BN', 'BO', 'BR', 'BW', 'CD', 'CG', 'CI', 'CM', 'CO', 'CR', 'CU', 'CW', 'CY', 'DO', 'EC', 'EG', 'ER', 'ET', 'GA', 'GH', 'GI', 'GT', 'HN', 'HT', 'ID', 'IL', 'IS', 'JM', 'JO', 'KE', 'KH', 'KW', 'LB', 'LK', 'LY', 'MG', 'MT', 'MX', 'MY', 'MZ', 'NA', 'NE', 'NG', 'NI', 'OM', 'PA', 'PE', 'PG', 'PH', 'PY', 'QA', 'RW', 'SA', 'SD', 'SG', 'SN', 'SS', 'SV', 'SY', 'TG', 'TH', 'TJ', 'TM', 'TT', 'TZ', 'UY', 'UZ', 'VE', 'VN', 'YE', 'ZA', 'ZM', 'ZW']\n",
      "\n",
      "##### Transformation, to dump site, sanitary landfill #####\n",
      "['AE', 'AO', 'BD', 'BH', 'BJ', 'BN', 'BO', 'BR', 'BW', 'CD', 'CG', 'CI', 'CM', 'CO', 'CR', 'CU', 'CW', 'CY', 'DO', 'EC', 'EG', 'ER', 'ET', 'GA', 'GH', 'GI', 'GT', 'HN', 'HT', 'ID', 'IL', 'IS', 'JM', 'JO', 'KE', 'KH', 'KW', 'LB', 'LK', 'LY', 'MG', 'MT', 'MX', 'MY', 'MZ', 'NA', 'NE', 'NG', 'NI', 'OM', 'PA', 'PE', 'PG', 'PH', 'PY', 'QA', 'RW', 'SA', 'SD', 'SG', 'SN', 'SS', 'SV', 'SY', 'TG', 'TH', 'TJ', 'TM', 'TT', 'TZ', 'UY', 'UZ', 'VE', 'VN', 'YE', 'ZA', 'ZM', 'ZW']\n",
      "\n",
      "##### Transformation, to dump site, slag compartment #####\n",
      "['AE', 'AO', 'BD', 'BH', 'BJ', 'BN', 'BO', 'BR', 'BW', 'CD', 'CG', 'CI', 'CM', 'CO', 'CR', 'CU', 'CW', 'CY', 'DO', 'EC', 'EG', 'ER', 'ET', 'GA', 'GH', 'GI', 'GT', 'HN', 'HT', 'ID', 'IL', 'IS', 'JM', 'JO', 'KE', 'KH', 'KW', 'LB', 'LK', 'LY', 'MG', 'MT', 'MX', 'MY', 'MZ', 'NA', 'NE', 'NG', 'NI', 'OM', 'PA', 'PE', 'PG', 'PH', 'PY', 'QA', 'RW', 'SA', 'SD', 'SG', 'SN', 'SS', 'SV', 'SY', 'TG', 'TH', 'TJ', 'TM', 'TT', 'TZ', 'UY', 'UZ', 'VE', 'VN', 'YE', 'ZA', 'ZM', 'ZW']\n",
      "\n",
      "##### Transformation, to field margin/hedgerow #####\n",
      "['IS']\n",
      "\n",
      "##### Transformation, to forest, extensive #####\n",
      "['AE', 'BH', 'CW', 'CY', 'EG', 'GI', 'IL', 'IS', 'JO', 'KW', 'LB', 'LY', 'MT', 'OM', 'QA', 'SA', 'SY', 'YE']\n",
      "\n",
      "##### Transformation, to forest, intensive #####\n",
      "['AE', 'BH', 'CW', 'CY', 'EG', 'GI', 'IL', 'IS', 'JO', 'KW', 'LB', 'LY', 'MT', 'OM', 'QA', 'SA', 'SY', 'YE']\n",
      "\n",
      "##### Transformation, to forest, primary (non-use) #####\n",
      "['IS']\n",
      "\n",
      "##### Transformation, to forest, secondary (non-use) #####\n",
      "['IS']\n",
      "\n",
      "##### Transformation, to forest, unspecified #####\n",
      "['AE', 'BH', 'CW', 'CY', 'EG', 'GI', 'IL', 'IS', 'JO', 'KW', 'LB', 'LY', 'MT', 'OM', 'QA', 'SA', 'SY', 'YE']\n",
      "\n",
      "##### Transformation, to grassland, natural (non-use) #####\n",
      "['IS']\n",
      "\n",
      "##### Transformation, to grassland, natural, for livestock grazing #####\n",
      "['IS']\n",
      "\n",
      "##### Transformation, to pasture, man made #####\n",
      "['IS']\n",
      "\n",
      "##### Transformation, to pasture, man made, extensive #####\n",
      "['IS']\n",
      "\n",
      "##### Transformation, to pasture, man made, intensive #####\n",
      "['IS']\n",
      "\n",
      "##### Transformation, to permanent crop #####\n",
      "['AE', 'BH', 'BW', 'CW', 'CY', 'DZ', 'EG', 'GI', 'IL', 'IS', 'JO', 'KG', 'KW', 'KZ', 'LB', 'LY', 'MA', 'MN', 'MT', 'NA', 'NE', 'OM', 'QA', 'SA', 'SN', 'SY', 'TJ', 'TM', 'TN', 'UZ', 'YE', 'ZM', 'ZW']\n",
      "\n",
      "##### Transformation, to permanent crop, irrigated #####\n",
      "['AE', 'BH', 'BW', 'CW', 'CY', 'DZ', 'EG', 'GI', 'IL', 'IS', 'JO', 'KG', 'KW', 'KZ', 'LB', 'LY', 'MA', 'MN', 'MT', 'NA', 'NE', 'OM', 'QA', 'SA', 'SN', 'SY', 'TJ', 'TM', 'TN', 'UZ', 'YE', 'ZM', 'ZW']\n",
      "\n",
      "##### Transformation, to permanent crop, irrigated, extensive #####\n",
      "['AE', 'BH', 'BW', 'CW', 'CY', 'DZ', 'EG', 'GI', 'IL', 'IS', 'JO', 'KG', 'KW', 'KZ', 'LB', 'LY', 'MA', 'MN', 'MT', 'NA', 'NE', 'OM', 'QA', 'SA', 'SN', 'SY', 'TJ', 'TM', 'TN', 'UZ', 'YE', 'ZM', 'ZW']\n",
      "\n",
      "##### Transformation, to permanent crop, irrigated, intensive #####\n",
      "['AE', 'BH', 'BW', 'CW', 'CY', 'DZ', 'EG', 'GI', 'IL', 'IS', 'JO', 'KG', 'KW', 'KZ', 'LB', 'LY', 'MA', 'MN', 'MT', 'NA', 'NE', 'OM', 'QA', 'SA', 'SN', 'SY', 'TJ', 'TM', 'TN', 'UZ', 'YE', 'ZM', 'ZW']\n",
      "\n",
      "##### Transformation, to permanent crop, non-irrigated #####\n",
      "['AE', 'BH', 'BW', 'CW', 'CY', 'DZ', 'EG', 'GI', 'IL', 'IS', 'JO', 'KG', 'KW', 'KZ', 'LB', 'LY', 'MA', 'MN', 'MT', 'NA', 'NE', 'OM', 'QA', 'SA', 'SN', 'SY', 'TJ', 'TM', 'TN', 'UZ', 'YE', 'ZM', 'ZW']\n",
      "\n",
      "##### Transformation, to permanent crop, non-irrigated, extensive #####\n",
      "['AE', 'BH', 'BW', 'CW', 'CY', 'DZ', 'EG', 'GI', 'IL', 'IS', 'JO', 'KG', 'KW', 'KZ', 'LB', 'LY', 'MA', 'MN', 'MT', 'NA', 'NE', 'OM', 'QA', 'SA', 'SN', 'SY', 'TJ', 'TM', 'TN', 'UZ', 'YE', 'ZM', 'ZW']\n",
      "\n",
      "##### Transformation, to permanent crop, non-irrigated, intensive #####\n",
      "['AE', 'BH', 'BW', 'CW', 'CY', 'DZ', 'EG', 'GI', 'IL', 'IS', 'JO', 'KG', 'KW', 'KZ', 'LB', 'LY', 'MA', 'MN', 'MT', 'NA', 'NE', 'OM', 'QA', 'SA', 'SN', 'SY', 'TJ', 'TM', 'TN', 'UZ', 'YE', 'ZM', 'ZW']\n",
      "\n",
      "##### Transformation, to shrub land, sclerophyllous #####\n",
      "['AE', 'BH', 'CW', 'CY', 'EG', 'GI', 'IL', 'IS', 'JO', 'KW', 'LB', 'LY', 'MT', 'OM', 'QA', 'SA', 'SY', 'YE']\n",
      "\n",
      "##### Transformation, to snow and ice (non-use) #####\n",
      "['IS']\n",
      "\n",
      "##### Transformation, to traffic area, rail/road embankment #####\n",
      "['AE', 'AO', 'BD', 'BH', 'BJ', 'BN', 'BO', 'BR', 'BW', 'CD', 'CG', 'CI', 'CM', 'CO', 'CR', 'CU', 'CW', 'CY', 'DO', 'EC', 'EG', 'ER', 'ET', 'GA', 'GH', 'GI', 'GT', 'HN', 'HT', 'ID', 'IL', 'IS', 'JM', 'JO', 'KE', 'KH', 'KW', 'LB', 'LK', 'LY', 'MG', 'MT', 'MX', 'MY', 'MZ', 'NA', 'NE', 'NG', 'NI', 'OM', 'PA', 'PE', 'PG', 'PH', 'PY', 'QA', 'RW', 'SA', 'SD', 'SG', 'SN', 'SS', 'SV', 'SY', 'TG', 'TH', 'TJ', 'TM', 'TT', 'TZ', 'UY', 'UZ', 'VE', 'VN', 'YE', 'ZA', 'ZM', 'ZW']\n",
      "\n",
      "##### Transformation, to unknown #####\n",
      "['AE', 'AL', 'AM', 'AO', 'AR', 'AT', 'AU', 'AZ', 'BA', 'BD', 'BE', 'BG', 'BH', 'BJ', 'BN', 'BO', 'BR', 'BW', 'BY', 'CA', 'CD', 'CG', 'CH', 'CI', 'CL', 'CM', 'CN', 'CO', 'CR', 'CU', 'CW', 'CY', 'CZ', 'DE', 'DK', 'DO', 'DZ', 'EC', 'EE', 'EG', 'ER', 'ES', 'ET', 'FI', 'FR', 'GA', 'GB', 'GE', 'GH', 'GI', 'GR', 'GT', 'HN', 'HR', 'HT', 'HU', 'ID', 'IE', 'IL', 'IN', 'IQ', 'IR', 'IS', 'IT', 'JM', 'JO', 'JP', 'KE', 'KG', 'KH', 'KP', 'KR', 'KW', 'KZ', 'LB', 'LK', 'LT', 'LU', 'LV', 'LY', 'MA', 'MD', 'ME', 'MG', 'MK', 'MM', 'MN', 'MT', 'MX', 'MY', 'MZ', 'NA', 'NE', 'NG', 'NI', 'NL', 'NO', 'NP', 'NZ', 'OM', 'PA', 'PE', 'PG', 'PH', 'PK', 'PL', 'PT', 'PY', 'QA', 'RO', 'RS', 'RU', 'RW', 'SA', 'SD', 'SE', 'SG', 'SI', 'SK', 'SN', 'SS', 'SV', 'SY', 'TG', 'TH', 'TJ', 'TM', 'TN', 'TR', 'TT', 'TZ', 'UA', 'US', 'UY', 'UZ', 'VE', 'VN', 'YE', 'ZA', 'ZM', 'ZW']\n",
      "\n",
      "##### Transformation, to unspecified, natural (non-use) #####\n",
      "['IS']\n",
      "\n",
      "##### Transformation, to urban, discontinuously built #####\n",
      "['AE', 'AO', 'BD', 'BH', 'BJ', 'BN', 'BO', 'BR', 'BW', 'CD', 'CG', 'CI', 'CM', 'CO', 'CR', 'CU', 'CW', 'CY', 'DO', 'EC', 'EG', 'ER', 'ET', 'GA', 'GH', 'GI', 'GT', 'HN', 'HT', 'ID', 'IL', 'IS', 'JM', 'JO', 'KE', 'KH', 'KW', 'LB', 'LK', 'LY', 'MG', 'MT', 'MX', 'MY', 'MZ', 'NA', 'NE', 'NG', 'NI', 'OM', 'PA', 'PE', 'PG', 'PH', 'PY', 'QA', 'RW', 'SA', 'SD', 'SG', 'SN', 'SS', 'SV', 'SY', 'TG', 'TH', 'TJ', 'TM', 'TT', 'TZ', 'UY', 'UZ', 'VE', 'VN', 'YE', 'ZA', 'ZM', 'ZW']\n",
      "\n",
      "##### Transformation, to urban, green area #####\n",
      "['AE', 'AO', 'BD', 'BH', 'BJ', 'BN', 'BO', 'BR', 'BW', 'CD', 'CG', 'CI', 'CM', 'CO', 'CR', 'CU', 'CW', 'CY', 'DO', 'EC', 'EG', 'ER', 'ET', 'GA', 'GH', 'GI', 'GT', 'HN', 'HT', 'ID', 'IL', 'IS', 'JM', 'JO', 'KE', 'KH', 'KW', 'LB', 'LK', 'LY', 'MG', 'MT', 'MX', 'MY', 'MZ', 'NA', 'NE', 'NG', 'NI', 'OM', 'PA', 'PE', 'PG', 'PH', 'PY', 'QA', 'RW', 'SA', 'SD', 'SG', 'SN', 'SS', 'SV', 'SY', 'TG', 'TH', 'TJ', 'TM', 'TT', 'TZ', 'UY', 'UZ', 'VE', 'VN', 'YE', 'ZA', 'ZM', 'ZW']\n",
      "\n",
      "##### Transformation, to urban/industrial fallow (non-use) #####\n",
      "['AE', 'AO', 'BD', 'BH', 'BJ', 'BN', 'BO', 'BR', 'BW', 'CD', 'CG', 'CI', 'CM', 'CO', 'CR', 'CU', 'CW', 'CY', 'DO', 'EC', 'EG', 'ER', 'ET', 'GA', 'GH', 'GI', 'GT', 'HN', 'HT', 'ID', 'IL', 'IS', 'JM', 'JO', 'KE', 'KH', 'KW', 'LB', 'LK', 'LY', 'MG', 'MT', 'MX', 'MY', 'MZ', 'NA', 'NE', 'NG', 'NI', 'OM', 'PA', 'PE', 'PG', 'PH', 'PY', 'QA', 'RW', 'SA', 'SD', 'SG', 'SN', 'SS', 'SV', 'SY', 'TG', 'TH', 'TJ', 'TM', 'TT', 'TZ', 'UY', 'UZ', 'VE', 'VN', 'YE', 'ZA', 'ZM', 'ZW']\n",
      "\n",
      "##### Transformation, to wetland, coastal (non-use) #####\n",
      "['IS']\n",
      "\n",
      "##### Transformation, to wetland, inland (non-use) #####\n",
      "['IS']\n",
      "\n"
     ]
    }
   ],
   "execution_count": 32
  },
  {
   "metadata": {},
   "cell_type": "markdown",
   "source": "However, all of these flows are not necessarily used in ecoinvent. ",
   "id": "2866fee6b79c68a4"
  },
  {
   "metadata": {},
   "cell_type": "markdown",
   "source": "### Add missing biosphere flows to regioinvent's biosphere database",
   "id": "e11f772865d78f0a"
  },
  {
   "metadata": {
    "ExecuteTime": {
     "end_time": "2024-11-05T00:16:11.993024Z",
     "start_time": "2024-11-05T00:16:10.031821Z"
    }
   },
   "cell_type": "code",
   "source": [
    "# Check if those flows would be used in ecoinvent database\n",
    "missing_flows_used_in_ei = []\n",
    "all_missing_loc = list(set([i[1].rsplit(', ', 1)[-1] for i in unlinked])) # all missing locations retrieved from the unlinked list\n",
    "for loc in all_missing_loc:\n",
    "    missing_flows_for_loc = [i[1].rsplit(', ', 1)[0] for i in unlinked if i[1].rsplit(', ', 1)[-1] == loc] # all types of unlinked flows with this location\n",
    "    activities_of_loc = [i for i in ei_database.db_as_list if i['location'] == loc] # list of ecoinvent activities for this location\n",
    "    for act in activities_of_loc:\n",
    "        biosphere_flows = Dataset(act).get_biosphere_flows() # list of biosphere flows in the activity exchanges \n",
    "        for flow in biosphere_flows:\n",
    "            if flow['name'] in missing_flows_for_loc:\n",
    "                missing_flows_used_in_ei.append([act[\"name\"], act[\"location\"], flow[\"name\"], flow[\"categories\"], flow[\"unit\"]])"
   ],
   "id": "79016a0ff792d6da",
   "outputs": [],
   "execution_count": 33
  },
  {
   "metadata": {
    "ExecuteTime": {
     "end_time": "2024-11-05T00:16:12.000977Z",
     "start_time": "2024-11-05T00:16:11.994920Z"
    }
   },
   "cell_type": "code",
   "source": [
    "# create a dictionary with the useful missing flows as key (name, categories, unit) and the list of missing locations as values \n",
    "missing_flows_used_in_ei_dict = {}\n",
    "counter = 0\n",
    "for i in missing_flows_used_in_ei:\n",
    "    if (i[2], i[3], i[4]) in missing_flows_used_in_ei_dict.keys():\n",
    "        if i[1] not in missing_flows_used_in_ei_dict[(i[2], i[3], i[4])]:\n",
    "            missing_flows_used_in_ei_dict[(i[2], i[3], i[4])].append(i[1])\n",
    "            counter += 1\n",
    "    else:\n",
    "        missing_flows_used_in_ei_dict[(i[2], i[3], i[4])] = [i[1]]\n",
    "        counter += 1"
   ],
   "id": "79d928203a683b99",
   "outputs": [],
   "execution_count": 34
  },
  {
   "metadata": {
    "ExecuteTime": {
     "end_time": "2024-11-05T00:16:12.014360Z",
     "start_time": "2024-11-05T00:16:12.002987Z"
    }
   },
   "cell_type": "code",
   "source": [
    "# for each missing flow and associated list of locations, create a new flow in the spatialized biosphere database\n",
    "for key in missing_flows_used_in_ei_dict.keys():\n",
    "    for loc in missing_flows_dict[key[0]]:\n",
    "        new_biosphere_act = {\n",
    "            'name': f'{key[0]}, {loc}',\n",
    "            'categories': key[1],\n",
    "            'unit': key[2],\n",
    "            'code': random_code(),\n",
    "            'database':'biosphere3_spatialized_flows_EF',\n",
    "        }\n",
    "        new_spatialized_biosphere_db.db_as_list.append(new_biosphere_act)"
   ],
   "id": "400ab7f9b72db9a0",
   "outputs": [],
   "execution_count": 35
  },
  {
   "metadata": {
    "ExecuteTime": {
     "end_time": "2024-11-05T00:16:12.029906Z",
     "start_time": "2024-11-05T00:16:12.018885Z"
    }
   },
   "cell_type": "code",
   "source": [
    "if write_new_spatialized_biosphere:\n",
    "    new_spatialized_biosphere_db.write_to_brightway(new_db_name='biosphere3_spatialized_flows_EF', database_type='biosphere')"
   ],
   "id": "80a71c3ecd3fb925",
   "outputs": [],
   "execution_count": 36
  },
  {
   "metadata": {
    "ExecuteTime": {
     "end_time": "2024-11-05T00:16:12.042675Z",
     "start_time": "2024-11-05T00:16:12.029906Z"
    }
   },
   "cell_type": "code",
   "source": [
    "if write_new_spatialized_biosphere:\n",
    "    new_spatialized_biosphere_db = Database('biosphere3_spatialized_flows_EF', create_pickle=True)"
   ],
   "id": "c384304e681f6587",
   "outputs": [],
   "execution_count": 37
  },
  {
   "metadata": {},
   "cell_type": "markdown",
   "source": "## Geographical mapping between ecoinvent (including premise regions) and EF methods to be used in regioinvent",
   "id": "c4127a3b5643331d"
  },
  {
   "metadata": {
    "ExecuteTime": {
     "end_time": "2024-11-05T00:16:12.051019Z",
     "start_time": "2024-11-05T00:16:12.042675Z"
    }
   },
   "cell_type": "code",
   "source": [
    "ei_premise_iam_locations_geo_mapping = {\n",
    "    'CAZ': 'CA',\n",
    "    'CHA': 'CN',\n",
    "    'EUR': 'RER',\n",
    "    'JPN': 'JP',\n",
    "    'IND': 'IN',\n",
    "    'LAM': 'RLA',\n",
    "    'MEA': 'RME',\n",
    "    'NEU': 'RER',\n",
    "    'OAS': 'RAS',\n",
    "    'REF': 'RU',\n",
    "    'SSA': 'RAF',\n",
    "    'USA': 'US',\n",
    "    'APAC': 'RAS',\n",
    "    'World': 'GLO',\n",
    "    'RSAM': 'RLA',\n",
    "    'RCAM': 'RLA',\n",
    "    'INDO': 'ID',\n",
    "    'RSAF': 'RAF',\n",
    "    'CEU': 'RER',\n",
    "    'SAF': 'ZA',\n",
    "    'INDIA': 'IN',\n",
    "    'BRA': 'BR',\n",
    "    'STAN': 'RAS',\n",
    "    'WAF': 'RAF',\n",
    "    'CHN': 'CN',\n",
    "    'NAF': 'RAF',\n",
    "    'UKR': 'UA',\n",
    "    'RSAS': 'RAS',\n",
    "    'RUS': 'RU',\n",
    "    'SEAS': 'RAS',\n",
    "    'KOR': 'KR',\n",
    "    'JAP': 'JP',\n",
    "    'EAF': 'RAF',\n",
    "    'TUR': 'TR',\n",
    "    'CAN': 'CA',\n",
    "    'MEX': 'MX',\n",
    "    'AFR': 'RAF',\n",
    "    'AUS': 'AU',\n",
    "    'CSA': 'RLA',\n",
    "    'CHI': 'CN',\n",
    "    'EEU': 'RER',\n",
    "    'FSU': 'RAS',\n",
    "    'ODA': 'RAS',\n",
    "    'SKO': 'KR',\n",
    "    'UK': 'GB',\n",
    "    'OCE': 'AU',\n",
    "}"
   ],
   "id": "6278ce085148990",
   "outputs": [],
   "execution_count": 38
  },
  {
   "metadata": {
    "ExecuteTime": {
     "end_time": "2024-11-05T00:16:12.059960Z",
     "start_time": "2024-11-05T00:16:12.051019Z"
    }
   },
   "cell_type": "code",
   "source": "ei_locations.extend(ei_premise_iam_locations_geo_mapping.keys())",
   "id": "e3ee4bbb305cdef6",
   "outputs": [],
   "execution_count": 39
  },
  {
   "metadata": {
    "ExecuteTime": {
     "end_time": "2024-11-05T00:16:12.083416Z",
     "start_time": "2024-11-05T00:16:12.059960Z"
    }
   },
   "cell_type": "code",
   "source": "locations_spat_biosphere = list(set([i['name'].split(', ')[-1] for i in biosphere_db_spatialized.db_as_list]))",
   "id": "70a558a697a89c19",
   "outputs": [],
   "execution_count": 40
  },
  {
   "metadata": {
    "ExecuteTime": {
     "end_time": "2024-11-05T00:16:12.092416Z",
     "start_time": "2024-11-05T00:16:12.083416Z"
    }
   },
   "cell_type": "code",
   "source": "missing_locations_spatialized_biosphere = [location for location in locations_spat_biosphere if (location not in ei_locations) & (location not in ['Deep', 'agricultural', 'in ground', 'mosaic (agroforestry)', 'ocean', 'sole'])]",
   "id": "d013ef0efe7de33d",
   "outputs": [],
   "execution_count": 41
  },
  {
   "metadata": {
    "ExecuteTime": {
     "end_time": "2024-11-05T00:16:12.098296Z",
     "start_time": "2024-11-05T00:16:12.092416Z"
    }
   },
   "cell_type": "code",
   "source": "ei_locations.extend(missing_locations_spatialized_biosphere)",
   "id": "1ce9e1fb430a6df0",
   "outputs": [],
   "execution_count": 42
  },
  {
   "metadata": {
    "ExecuteTime": {
     "end_time": "2024-11-05T00:16:12.644962Z",
     "start_time": "2024-11-05T00:16:12.099216Z"
    }
   },
   "cell_type": "code",
   "source": [
    "water_loc_list = []\n",
    "land_loc_list = []\n",
    "acid_loc_list = []\n",
    "eutro_loc_list = []\n",
    "ei_locations = sorted(ei_locations)\n",
    "\n",
    "ef_cfs_water = ef_cfs[ef_cfs.LCIAMethod_name == 'Water use']\n",
    "ef_cfs_land = ef_cfs[ef_cfs.LCIAMethod_name == 'Land use']\n",
    "ef_cfs_acid = ef_cfs[ef_cfs.LCIAMethod_name == 'Acidification']\n",
    "ef_cfs_eutro = ef_cfs[ef_cfs.LCIAMethod_name == 'Eutrophication, terrestrial']\n",
    "\n",
    "for loc in ei_locations:\n",
    "    \n",
    "    if '-' in loc:\n",
    "        loc = loc.split('-')[0]\n",
    "    if 'Canada' in loc:\n",
    "        loc = 'CA'\n",
    "        \n",
    "    if loc in ei_premise_iam_locations_geo_mapping.keys():\n",
    "        loc = ei_premise_iam_locations_geo_mapping[loc]\n",
    "    \n",
    "    if loc in ef_cfs_water.LCIAMethod_location.unique():\n",
    "        water_loc_list.append(loc)\n",
    "    else:\n",
    "        water_loc_list.append('GLO')\n",
    "    \n",
    "    if loc in ef_cfs_land.LCIAMethod_location.unique():\n",
    "        land_loc_list.append(loc)\n",
    "    else:\n",
    "        land_loc_list.append('GLO')\n",
    "    \n",
    "    if loc in ef_cfs_acid.LCIAMethod_location.unique():\n",
    "        acid_loc_list.append(loc)\n",
    "    else:\n",
    "        acid_loc_list.append('GLO')\n",
    "    \n",
    "    if loc in ef_cfs_eutro.LCIAMethod_location.unique():\n",
    "        eutro_loc_list.append(loc)\n",
    "    else:\n",
    "        eutro_loc_list.append('GLO')"
   ],
   "id": "ea8db724defebdaa",
   "outputs": [],
   "execution_count": 43
  },
  {
   "metadata": {
    "ExecuteTime": {
     "end_time": "2024-11-05T00:16:12.671763Z",
     "start_time": "2024-11-05T00:16:12.644962Z"
    }
   },
   "cell_type": "code",
   "source": "df_mapping_ef_ei_geographies = pd.DataFrame(data = [ei_locations, water_loc_list, land_loc_list, acid_loc_list, eutro_loc_list], index = ['ecoinvent', 'water', 'land', 'acid', 'eutro']).T",
   "id": "207768312d4996f9",
   "outputs": [],
   "execution_count": 44
  },
  {
   "metadata": {
    "ExecuteTime": {
     "end_time": "2024-11-05T00:16:12.770304Z",
     "start_time": "2024-11-05T00:16:12.671763Z"
    }
   },
   "cell_type": "code",
   "source": [
    "if write_method_bw:\n",
    "    df_mapping_ef_ei_geographies.to_excel('results/ei_ef_geo_mapping.xlsx', index=False)"
   ],
   "id": "5b47cd75f753afc2",
   "outputs": [],
   "execution_count": 45
  }
 ],
 "metadata": {
  "kernelspec": {
   "display_name": "Python 3",
   "language": "python",
   "name": "python3"
  },
  "language_info": {
   "codemirror_mode": {
    "name": "ipython",
    "version": 2
   },
   "file_extension": ".py",
   "mimetype": "text/x-python",
   "name": "python",
   "nbconvert_exporter": "python",
   "pygments_lexer": "ipython2",
   "version": "2.7.6"
  }
 },
 "nbformat": 4,
 "nbformat_minor": 5
}
