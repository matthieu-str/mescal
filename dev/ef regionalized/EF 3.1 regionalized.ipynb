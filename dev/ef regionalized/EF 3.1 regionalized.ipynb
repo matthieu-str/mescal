{
 "cells": [
  {
   "metadata": {},
   "cell_type": "markdown",
   "source": "# Create the regionalized version of EF 3.1 in brightway",
   "id": "9966ae0cb04953b1"
  },
  {
   "metadata": {},
   "cell_type": "markdown",
   "source": [
    "This notebook should be run twice: \n",
    "- a first time to create the updated spatialized biosphere database with `name_spatialized_biosphere_db = 'biosphere3_spatialized_flows'`, `write_method_bw = False` and `write_new_spatialized_biosphere = True`. This will create the spatialized biosphere database in the brightway project, as well as the associated pickle file.\n",
    "- and a second time to create the regionalized methods with `name_spatialized_biosphere_db = 'biosphere3_spatialized_flows_EF'`, `write_method_bw = True` and `write_new_spatialized_biosphere = False`. This will create the EF 3.1 regionalized method in the brightway project, as well as the associated bw2package file. This second iteration requires the adjusted spatialized biosphere database to be present in the brightway project."
   ],
   "id": "694e8d0b8eb875e5"
  },
  {
   "metadata": {
    "ExecuteTime": {
     "end_time": "2024-11-22T20:07:56.960799Z",
     "start_time": "2024-11-22T20:07:51.950357Z"
    }
   },
   "cell_type": "code",
   "source": [
    "import bw2data as bd\n",
    "import bw2io as bi\n",
    "import numpy as np\n",
    "import pandas as pd\n",
    "from mescal import *\n",
    "import os\n",
    "import collections"
   ],
   "id": "efe52aa3d1189f6b",
   "outputs": [],
   "execution_count": 1
  },
  {
   "metadata": {},
   "cell_type": "markdown",
   "source": "## User inputs",
   "id": "1ebdb0e03609922e"
  },
  {
   "metadata": {
    "ExecuteTime": {
     "end_time": "2024-11-22T20:07:57.188232Z",
     "start_time": "2024-11-22T20:07:56.964164Z"
    }
   },
   "cell_type": "code",
   "source": "bd.projects.set_current('ecoinvent3.9.1A')",
   "id": "75cb184c1a7628f7",
   "outputs": [],
   "execution_count": 2
  },
  {
   "metadata": {
    "ExecuteTime": {
     "end_time": "2024-11-22T20:07:57.192363Z",
     "start_time": "2024-11-22T20:07:57.188232Z"
    }
   },
   "cell_type": "code",
   "source": "name_spatialized_biosphere_db = 'biosphere3_spatialized_flows_EF'",
   "id": "4b2a5047ef137537",
   "outputs": [],
   "execution_count": 3
  },
  {
   "metadata": {
    "ExecuteTime": {
     "end_time": "2024-11-22T20:07:57.200220Z",
     "start_time": "2024-11-22T20:07:57.192363Z"
    }
   },
   "cell_type": "code",
   "source": [
    "write_method_bw = True\n",
    "write_new_spatialized_biosphere = False"
   ],
   "id": "303cd4c42bfa8f3c",
   "outputs": [],
   "execution_count": 4
  },
  {
   "metadata": {},
   "cell_type": "markdown",
   "source": "## Set up",
   "id": "a5c724ee69c09664"
  },
  {
   "metadata": {
    "ExecuteTime": {
     "end_time": "2024-11-22T20:07:57.206180Z",
     "start_time": "2024-11-22T20:07:57.200220Z"
    }
   },
   "cell_type": "code",
   "source": "cwd = os.getcwd()",
   "id": "d19c3a29179d2ca5",
   "outputs": [],
   "execution_count": 5
  },
  {
   "metadata": {
    "ExecuteTime": {
     "end_time": "2024-11-22T20:08:24.373494Z",
     "start_time": "2024-11-22T20:07:57.206180Z"
    }
   },
   "cell_type": "code",
   "source": [
    "ef_cfs = pd.read_excel('data/EF-LCIAMethod_CF(EF-v3.1).xlsx', sheet_name='lciamethods_CF', keep_default_na=False, na_values='')\n",
    "ef_biosphere_mapping = pd.read_csv('data/EF31_biosphere_mapping.csv')"
   ],
   "id": "b25ba429833a9e36",
   "outputs": [],
   "execution_count": 6
  },
  {
   "metadata": {
    "ExecuteTime": {
     "end_time": "2024-11-22T20:08:24.381343Z",
     "start_time": "2024-11-22T20:08:24.373494Z"
    }
   },
   "cell_type": "code",
   "source": "ef_biosphere_mapping_dict = ef_biosphere_mapping.groupby('ef')['biosphere'].apply(list).to_dict()",
   "id": "c1ed3b69c2de9d53",
   "outputs": [],
   "execution_count": 7
  },
  {
   "metadata": {
    "ExecuteTime": {
     "end_time": "2024-11-22T20:08:25.543411Z",
     "start_time": "2024-11-22T20:08:24.381343Z"
    }
   },
   "cell_type": "code",
   "source": [
    "# Load the biosphere and spatialized biosphere databases \n",
    "biosphere_db_spatialized = Database(name_spatialized_biosphere_db)\n",
    "biosphere_db = Database('biosphere3')"
   ],
   "id": "9681a3aabafe1b36",
   "outputs": [
    {
     "name": "stdout",
     "output_type": "stream",
     "text": [
      "Getting activity data\n"
     ]
    },
    {
     "name": "stderr",
     "output_type": "stream",
     "text": [
      "100%|██████████| 30207/30207 [00:00<00:00, 128058.35it/s]\n"
     ]
    },
    {
     "name": "stdout",
     "output_type": "stream",
     "text": [
      "Adding exchange data to activities\n"
     ]
    },
    {
     "name": "stderr",
     "output_type": "stream",
     "text": [
      "0it [00:00, ?it/s]\n"
     ]
    },
    {
     "name": "stdout",
     "output_type": "stream",
     "text": [
      "Filling out exchange data\n"
     ]
    },
    {
     "name": "stderr",
     "output_type": "stream",
     "text": [
      "100%|██████████| 30207/30207 [00:00<?, ?it/s]\n"
     ]
    },
    {
     "name": "stdout",
     "output_type": "stream",
     "text": [
      "Loaded biosphere3_spatialized_flows_EF from brightway!\n",
      "Getting activity data\n"
     ]
    },
    {
     "name": "stderr",
     "output_type": "stream",
     "text": [
      "100%|██████████| 4718/4718 [00:00<00:00, 302150.25it/s]\n"
     ]
    },
    {
     "name": "stdout",
     "output_type": "stream",
     "text": [
      "Adding exchange data to activities\n"
     ]
    },
    {
     "name": "stderr",
     "output_type": "stream",
     "text": [
      "0it [00:00, ?it/s]\n"
     ]
    },
    {
     "name": "stdout",
     "output_type": "stream",
     "text": [
      "Filling out exchange data\n"
     ]
    },
    {
     "name": "stderr",
     "output_type": "stream",
     "text": [
      "100%|██████████| 4718/4718 [00:00<?, ?it/s]"
     ]
    },
    {
     "name": "stdout",
     "output_type": "stream",
     "text": [
      "Loaded biosphere3 from brightway!\n"
     ]
    },
    {
     "name": "stderr",
     "output_type": "stream",
     "text": [
      "\n"
     ]
    }
   ],
   "execution_count": 8
  },
  {
   "metadata": {
    "ExecuteTime": {
     "end_time": "2024-11-22T20:08:25.566665Z",
     "start_time": "2024-11-22T20:08:25.543411Z"
    }
   },
   "cell_type": "code",
   "source": [
    "biosphere_db_dict_name = biosphere_db.list_to_dict('name', 'biosphere')\n",
    "biosphere_db_spatialized_dict_name = biosphere_db_spatialized.list_to_dict('name', 'biosphere')"
   ],
   "id": "a326a540ae9cce86",
   "outputs": [],
   "execution_count": 9
  },
  {
   "metadata": {
    "ExecuteTime": {
     "end_time": "2024-11-22T20:08:25.583286Z",
     "start_time": "2024-11-22T20:08:25.568734Z"
    }
   },
   "cell_type": "code",
   "source": [
    "biosphere_db_dict_code = biosphere_db.list_to_dict('code', 'biosphere')\n",
    "biosphere_db_spatialized_dict_code = biosphere_db_spatialized.list_to_dict('code', 'biosphere')"
   ],
   "id": "b46a9b7448d84d4c",
   "outputs": [],
   "execution_count": 10
  },
  {
   "metadata": {},
   "cell_type": "markdown",
   "source": "## Correct typing mistake in the EF excel file",
   "id": "12a52ee7af83475e"
  },
  {
   "metadata": {
    "ExecuteTime": {
     "end_time": "2024-11-22T20:08:25.621578Z",
     "start_time": "2024-11-22T20:08:25.583286Z"
    }
   },
   "cell_type": "code",
   "source": "ef_cfs[(ef_cfs.LCIAMethod_name == 'Water use') & (ef_cfs.LCIAMethod_location.isna())]",
   "id": "d585824130d0c83",
   "outputs": [
    {
     "data": {
      "text/plain": [
       "                                   FLOW_uuid           FLOW_name  \\\n",
       "156733  5fdac403-9f2c-4a10-b8d6-5367cc9d2d9b          freshwater   \n",
       "156930  4f462198-40cd-4184-8733-86648a20dc3f        ground water   \n",
       "157213  c506b970-7b92-452f-8d6f-05d4f203d958          lake water   \n",
       "157379  805a7346-1664-4483-afe3-4b224be5e361         river water   \n",
       "157608  5e50fc01-19c6-4377-a1cc-bc65a12498ea               Water   \n",
       "157838  a3876d9b-a3e8-4680-861a-4e08642f1392               Water   \n",
       "158149  419682fe-60fb-4b43-be89-bf2824b51104               water   \n",
       "158332  e2f7117d-06a4-49d8-9f5c-ae1a1f18ffb2  Water from cooling   \n",
       "158447  73fb4dab-b979-4dcc-8616-2193fc154255  Water from turbine   \n",
       "158617  21868f36-62ab-4e8e-98ed-7106228c17be    Water to Cooling   \n",
       "158845  9575e5d0-f865-4ad1-9d98-6b0d6e275780    Water to turbine   \n",
       "\n",
       "                       LCIAMethod_uuid EF3.1 LCIAMethod_name  CF EF3.1  \\\n",
       "156733  b2ad66ce-c78d-11e6-9d9d-cec0c932ce01       Water use    42.950   \n",
       "156930  b2ad66ce-c78d-11e6-9d9d-cec0c932ce01       Water use    42.950   \n",
       "157213  b2ad66ce-c78d-11e6-9d9d-cec0c932ce01       Water use    42.950   \n",
       "157379  b2ad66ce-c78d-11e6-9d9d-cec0c932ce01       Water use    42.950   \n",
       "157608  b2ad66ce-c78d-11e6-9d9d-cec0c932ce01       Water use   -42.950   \n",
       "157838  b2ad66ce-c78d-11e6-9d9d-cec0c932ce01       Water use   -42.955   \n",
       "158149  b2ad66ce-c78d-11e6-9d9d-cec0c932ce01       Water use    42.950   \n",
       "158332  b2ad66ce-c78d-11e6-9d9d-cec0c932ce01       Water use   -42.950   \n",
       "158447  b2ad66ce-c78d-11e6-9d9d-cec0c932ce01       Water use   -42.950   \n",
       "158617  b2ad66ce-c78d-11e6-9d9d-cec0c932ce01       Water use    42.950   \n",
       "158845  b2ad66ce-c78d-11e6-9d9d-cec0c932ce01       Water use    42.950   \n",
       "\n",
       "       LCIAMethod_location FLOW_class0           FLOW_class1  \\\n",
       "156733                 NaN   Resources  Resources from water   \n",
       "156930                 NaN   Resources  Resources from water   \n",
       "157213                 NaN   Resources  Resources from water   \n",
       "157379                 NaN   Resources  Resources from water   \n",
       "157608                 NaN   Emissions    Emissions to water   \n",
       "157838                 NaN   Emissions    Emissions to water   \n",
       "158149                 NaN   Resources  Resources from water   \n",
       "158332                 NaN   Emissions    Emissions to water   \n",
       "158447                 NaN   Emissions    Emissions to water   \n",
       "158617                 NaN   Resources  Resources from water   \n",
       "158845                 NaN   Resources  Resources from water   \n",
       "\n",
       "                                    FLOW_class2 LCIAMethod_derivation  \\\n",
       "156733  Renewable material resources from water    Unknown derivation   \n",
       "156930  Renewable material resources from water    Unknown derivation   \n",
       "157213  Renewable material resources from water    Unknown derivation   \n",
       "157379  Renewable material resources from water    Unknown derivation   \n",
       "157608                 Emissions to fresh water    Unknown derivation   \n",
       "157838          Emissions to water, unspecified    Unknown derivation   \n",
       "158149  Renewable material resources from water    Unknown derivation   \n",
       "158332                 Emissions to fresh water    Unknown derivation   \n",
       "158447                 Emissions to fresh water    Unknown derivation   \n",
       "158617  Renewable material resources from water    Unknown derivation   \n",
       "158845  Renewable material resources from water    Unknown derivation   \n",
       "\n",
       "       LCIAMethod_direction  \n",
       "156733                Input  \n",
       "156930                Input  \n",
       "157213                Input  \n",
       "157379                Input  \n",
       "157608               Output  \n",
       "157838               Output  \n",
       "158149                Input  \n",
       "158332               Output  \n",
       "158447               Output  \n",
       "158617                Input  \n",
       "158845                Input  "
      ],
      "text/html": [
       "<div>\n",
       "<style scoped>\n",
       "    .dataframe tbody tr th:only-of-type {\n",
       "        vertical-align: middle;\n",
       "    }\n",
       "\n",
       "    .dataframe tbody tr th {\n",
       "        vertical-align: top;\n",
       "    }\n",
       "\n",
       "    .dataframe thead th {\n",
       "        text-align: right;\n",
       "    }\n",
       "</style>\n",
       "<table border=\"1\" class=\"dataframe\">\n",
       "  <thead>\n",
       "    <tr style=\"text-align: right;\">\n",
       "      <th></th>\n",
       "      <th>FLOW_uuid</th>\n",
       "      <th>FLOW_name</th>\n",
       "      <th>LCIAMethod_uuid EF3.1</th>\n",
       "      <th>LCIAMethod_name</th>\n",
       "      <th>CF EF3.1</th>\n",
       "      <th>LCIAMethod_location</th>\n",
       "      <th>FLOW_class0</th>\n",
       "      <th>FLOW_class1</th>\n",
       "      <th>FLOW_class2</th>\n",
       "      <th>LCIAMethod_derivation</th>\n",
       "      <th>LCIAMethod_direction</th>\n",
       "    </tr>\n",
       "  </thead>\n",
       "  <tbody>\n",
       "    <tr>\n",
       "      <th>156733</th>\n",
       "      <td>5fdac403-9f2c-4a10-b8d6-5367cc9d2d9b</td>\n",
       "      <td>freshwater</td>\n",
       "      <td>b2ad66ce-c78d-11e6-9d9d-cec0c932ce01</td>\n",
       "      <td>Water use</td>\n",
       "      <td>42.950</td>\n",
       "      <td>NaN</td>\n",
       "      <td>Resources</td>\n",
       "      <td>Resources from water</td>\n",
       "      <td>Renewable material resources from water</td>\n",
       "      <td>Unknown derivation</td>\n",
       "      <td>Input</td>\n",
       "    </tr>\n",
       "    <tr>\n",
       "      <th>156930</th>\n",
       "      <td>4f462198-40cd-4184-8733-86648a20dc3f</td>\n",
       "      <td>ground water</td>\n",
       "      <td>b2ad66ce-c78d-11e6-9d9d-cec0c932ce01</td>\n",
       "      <td>Water use</td>\n",
       "      <td>42.950</td>\n",
       "      <td>NaN</td>\n",
       "      <td>Resources</td>\n",
       "      <td>Resources from water</td>\n",
       "      <td>Renewable material resources from water</td>\n",
       "      <td>Unknown derivation</td>\n",
       "      <td>Input</td>\n",
       "    </tr>\n",
       "    <tr>\n",
       "      <th>157213</th>\n",
       "      <td>c506b970-7b92-452f-8d6f-05d4f203d958</td>\n",
       "      <td>lake water</td>\n",
       "      <td>b2ad66ce-c78d-11e6-9d9d-cec0c932ce01</td>\n",
       "      <td>Water use</td>\n",
       "      <td>42.950</td>\n",
       "      <td>NaN</td>\n",
       "      <td>Resources</td>\n",
       "      <td>Resources from water</td>\n",
       "      <td>Renewable material resources from water</td>\n",
       "      <td>Unknown derivation</td>\n",
       "      <td>Input</td>\n",
       "    </tr>\n",
       "    <tr>\n",
       "      <th>157379</th>\n",
       "      <td>805a7346-1664-4483-afe3-4b224be5e361</td>\n",
       "      <td>river water</td>\n",
       "      <td>b2ad66ce-c78d-11e6-9d9d-cec0c932ce01</td>\n",
       "      <td>Water use</td>\n",
       "      <td>42.950</td>\n",
       "      <td>NaN</td>\n",
       "      <td>Resources</td>\n",
       "      <td>Resources from water</td>\n",
       "      <td>Renewable material resources from water</td>\n",
       "      <td>Unknown derivation</td>\n",
       "      <td>Input</td>\n",
       "    </tr>\n",
       "    <tr>\n",
       "      <th>157608</th>\n",
       "      <td>5e50fc01-19c6-4377-a1cc-bc65a12498ea</td>\n",
       "      <td>Water</td>\n",
       "      <td>b2ad66ce-c78d-11e6-9d9d-cec0c932ce01</td>\n",
       "      <td>Water use</td>\n",
       "      <td>-42.950</td>\n",
       "      <td>NaN</td>\n",
       "      <td>Emissions</td>\n",
       "      <td>Emissions to water</td>\n",
       "      <td>Emissions to fresh water</td>\n",
       "      <td>Unknown derivation</td>\n",
       "      <td>Output</td>\n",
       "    </tr>\n",
       "    <tr>\n",
       "      <th>157838</th>\n",
       "      <td>a3876d9b-a3e8-4680-861a-4e08642f1392</td>\n",
       "      <td>Water</td>\n",
       "      <td>b2ad66ce-c78d-11e6-9d9d-cec0c932ce01</td>\n",
       "      <td>Water use</td>\n",
       "      <td>-42.955</td>\n",
       "      <td>NaN</td>\n",
       "      <td>Emissions</td>\n",
       "      <td>Emissions to water</td>\n",
       "      <td>Emissions to water, unspecified</td>\n",
       "      <td>Unknown derivation</td>\n",
       "      <td>Output</td>\n",
       "    </tr>\n",
       "    <tr>\n",
       "      <th>158149</th>\n",
       "      <td>419682fe-60fb-4b43-be89-bf2824b51104</td>\n",
       "      <td>water</td>\n",
       "      <td>b2ad66ce-c78d-11e6-9d9d-cec0c932ce01</td>\n",
       "      <td>Water use</td>\n",
       "      <td>42.950</td>\n",
       "      <td>NaN</td>\n",
       "      <td>Resources</td>\n",
       "      <td>Resources from water</td>\n",
       "      <td>Renewable material resources from water</td>\n",
       "      <td>Unknown derivation</td>\n",
       "      <td>Input</td>\n",
       "    </tr>\n",
       "    <tr>\n",
       "      <th>158332</th>\n",
       "      <td>e2f7117d-06a4-49d8-9f5c-ae1a1f18ffb2</td>\n",
       "      <td>Water from cooling</td>\n",
       "      <td>b2ad66ce-c78d-11e6-9d9d-cec0c932ce01</td>\n",
       "      <td>Water use</td>\n",
       "      <td>-42.950</td>\n",
       "      <td>NaN</td>\n",
       "      <td>Emissions</td>\n",
       "      <td>Emissions to water</td>\n",
       "      <td>Emissions to fresh water</td>\n",
       "      <td>Unknown derivation</td>\n",
       "      <td>Output</td>\n",
       "    </tr>\n",
       "    <tr>\n",
       "      <th>158447</th>\n",
       "      <td>73fb4dab-b979-4dcc-8616-2193fc154255</td>\n",
       "      <td>Water from turbine</td>\n",
       "      <td>b2ad66ce-c78d-11e6-9d9d-cec0c932ce01</td>\n",
       "      <td>Water use</td>\n",
       "      <td>-42.950</td>\n",
       "      <td>NaN</td>\n",
       "      <td>Emissions</td>\n",
       "      <td>Emissions to water</td>\n",
       "      <td>Emissions to fresh water</td>\n",
       "      <td>Unknown derivation</td>\n",
       "      <td>Output</td>\n",
       "    </tr>\n",
       "    <tr>\n",
       "      <th>158617</th>\n",
       "      <td>21868f36-62ab-4e8e-98ed-7106228c17be</td>\n",
       "      <td>Water to Cooling</td>\n",
       "      <td>b2ad66ce-c78d-11e6-9d9d-cec0c932ce01</td>\n",
       "      <td>Water use</td>\n",
       "      <td>42.950</td>\n",
       "      <td>NaN</td>\n",
       "      <td>Resources</td>\n",
       "      <td>Resources from water</td>\n",
       "      <td>Renewable material resources from water</td>\n",
       "      <td>Unknown derivation</td>\n",
       "      <td>Input</td>\n",
       "    </tr>\n",
       "    <tr>\n",
       "      <th>158845</th>\n",
       "      <td>9575e5d0-f865-4ad1-9d98-6b0d6e275780</td>\n",
       "      <td>Water to turbine</td>\n",
       "      <td>b2ad66ce-c78d-11e6-9d9d-cec0c932ce01</td>\n",
       "      <td>Water use</td>\n",
       "      <td>42.950</td>\n",
       "      <td>NaN</td>\n",
       "      <td>Resources</td>\n",
       "      <td>Resources from water</td>\n",
       "      <td>Renewable material resources from water</td>\n",
       "      <td>Unknown derivation</td>\n",
       "      <td>Input</td>\n",
       "    </tr>\n",
       "  </tbody>\n",
       "</table>\n",
       "</div>"
      ]
     },
     "execution_count": 11,
     "metadata": {},
     "output_type": "execute_result"
    }
   ],
   "execution_count": 11
  },
  {
   "metadata": {},
   "cell_type": "markdown",
   "source": "Flow a3876d9b-a3e8-4680-861a-4e08642f1392 should have a CF of -42.95 for water use (global average), but it has a CF of -42.955.",
   "id": "af4e6f6aff1ba12b"
  },
  {
   "metadata": {
    "ExecuteTime": {
     "end_time": "2024-11-22T20:08:25.658685Z",
     "start_time": "2024-11-22T20:08:25.621578Z"
    }
   },
   "cell_type": "code",
   "source": "index_water_flow_to_change = ef_cfs[(ef_cfs.FLOW_uuid == 'a3876d9b-a3e8-4680-861a-4e08642f1392') & (ef_cfs.LCIAMethod_location.isna())].index[0]",
   "id": "ed4c200e5c9e301e",
   "outputs": [],
   "execution_count": 12
  },
  {
   "metadata": {
    "ExecuteTime": {
     "end_time": "2024-11-22T20:08:25.665428Z",
     "start_time": "2024-11-22T20:08:25.658685Z"
    }
   },
   "cell_type": "code",
   "source": [
    "# Change the global CF value of the a3876d9b-a3e8-4680-861a-4e08642f1392 water flow\n",
    "ef_cfs.at[index_water_flow_to_change, 'CF EF3.1'] = -42.95"
   ],
   "id": "bac8757b401bcf6b",
   "outputs": [],
   "execution_count": 13
  },
  {
   "metadata": {
    "ExecuteTime": {
     "end_time": "2024-11-22T20:08:25.721152Z",
     "start_time": "2024-11-22T20:08:25.665428Z"
    }
   },
   "cell_type": "code",
   "source": "ef_cfs[(ef_cfs.FLOW_uuid == 'a3876d9b-a3e8-4680-861a-4e08642f1392') & (ef_cfs.LCIAMethod_location.isna())]",
   "id": "b735fb81b4a2ca18",
   "outputs": [
    {
     "data": {
      "text/plain": [
       "                                   FLOW_uuid FLOW_name  \\\n",
       "157838  a3876d9b-a3e8-4680-861a-4e08642f1392     Water   \n",
       "\n",
       "                       LCIAMethod_uuid EF3.1 LCIAMethod_name  CF EF3.1  \\\n",
       "157838  b2ad66ce-c78d-11e6-9d9d-cec0c932ce01       Water use    -42.95   \n",
       "\n",
       "       LCIAMethod_location FLOW_class0         FLOW_class1  \\\n",
       "157838                 NaN   Emissions  Emissions to water   \n",
       "\n",
       "                            FLOW_class2 LCIAMethod_derivation  \\\n",
       "157838  Emissions to water, unspecified    Unknown derivation   \n",
       "\n",
       "       LCIAMethod_direction  \n",
       "157838               Output  "
      ],
      "text/html": [
       "<div>\n",
       "<style scoped>\n",
       "    .dataframe tbody tr th:only-of-type {\n",
       "        vertical-align: middle;\n",
       "    }\n",
       "\n",
       "    .dataframe tbody tr th {\n",
       "        vertical-align: top;\n",
       "    }\n",
       "\n",
       "    .dataframe thead th {\n",
       "        text-align: right;\n",
       "    }\n",
       "</style>\n",
       "<table border=\"1\" class=\"dataframe\">\n",
       "  <thead>\n",
       "    <tr style=\"text-align: right;\">\n",
       "      <th></th>\n",
       "      <th>FLOW_uuid</th>\n",
       "      <th>FLOW_name</th>\n",
       "      <th>LCIAMethod_uuid EF3.1</th>\n",
       "      <th>LCIAMethod_name</th>\n",
       "      <th>CF EF3.1</th>\n",
       "      <th>LCIAMethod_location</th>\n",
       "      <th>FLOW_class0</th>\n",
       "      <th>FLOW_class1</th>\n",
       "      <th>FLOW_class2</th>\n",
       "      <th>LCIAMethod_derivation</th>\n",
       "      <th>LCIAMethod_direction</th>\n",
       "    </tr>\n",
       "  </thead>\n",
       "  <tbody>\n",
       "    <tr>\n",
       "      <th>157838</th>\n",
       "      <td>a3876d9b-a3e8-4680-861a-4e08642f1392</td>\n",
       "      <td>Water</td>\n",
       "      <td>b2ad66ce-c78d-11e6-9d9d-cec0c932ce01</td>\n",
       "      <td>Water use</td>\n",
       "      <td>-42.95</td>\n",
       "      <td>NaN</td>\n",
       "      <td>Emissions</td>\n",
       "      <td>Emissions to water</td>\n",
       "      <td>Emissions to water, unspecified</td>\n",
       "      <td>Unknown derivation</td>\n",
       "      <td>Output</td>\n",
       "    </tr>\n",
       "  </tbody>\n",
       "</table>\n",
       "</div>"
      ]
     },
     "execution_count": 14,
     "metadata": {},
     "output_type": "execute_result"
    }
   ],
   "execution_count": 14
  },
  {
   "metadata": {},
   "cell_type": "markdown",
   "source": "## Adapt the EF excel file to be compatible with ecoinvent",
   "id": "534b8d21cac2e661"
  },
  {
   "metadata": {
    "ExecuteTime": {
     "end_time": "2024-11-22T20:08:25.733217Z",
     "start_time": "2024-11-22T20:08:25.721152Z"
    }
   },
   "cell_type": "code",
   "source": [
    "def ecoinvent_compatible_categories(name, cat0, cat1, cat2):\n",
    "    \n",
    "    if name.lower() in ef_biosphere_mapping_dict.keys():\n",
    "        name = ef_biosphere_mapping_dict[name.lower()][0]\n",
    "    \n",
    "    if cat0 == 'Emissions':\n",
    "        cat1 = cat1.replace('Emissions to ', '')\n",
    "        cat2 = cat2.replace('Emissions to ', '')\n",
    "        cat2 = cat2.replace('and', '+')\n",
    "        \n",
    "        if cat2 == 'water, unspecified':\n",
    "            cat2 = None\n",
    "        elif cat2 == 'water, unspecified (long-term)':\n",
    "            cat2 = 'ground-, long-term'\n",
    "        elif cat2 == 'sea water':\n",
    "            cat2 = 'ocean'\n",
    "        elif cat2 == 'fresh water':\n",
    "            cat2 = 'surface water'\n",
    "        \n",
    "        if cat2 == 'air, unspecified':\n",
    "            cat2 = None\n",
    "        elif cat2 == 'air, unspecified (long-term)':\n",
    "            cat2 = 'low population density, long-term'\n",
    "        elif cat2 == 'non-agricultural soil':\n",
    "            cat2 = 'industrial'\n",
    "            \n",
    "        if '(biogenic)' in name:\n",
    "            name = name.replace(' (biogenic)', ', non-fossil')\n",
    "        elif '(fossil)' in name:\n",
    "            name = name.replace(' (fossil)', ', fossil')\n",
    "        elif '(land use change)' in name:\n",
    "            name = name.replace(' (land use change)', ', to soil or biomass stock')\n",
    "        \n",
    "        if 'Particles' in name:\n",
    "            name.replace('Particles', 'Particulate Matter, ')\n",
    "            \n",
    "            if '(PM10)' in name:\n",
    "                name = name.replace('(PM10)', '> 2.5 um and < 10um')\n",
    "            elif '(PM0.2 - PM2.5)' in name:\n",
    "                name = name.replace('(PM0.2 - PM2.5)', '< 2.5 um')\n",
    "    \n",
    "    elif cat0 == 'Land use':\n",
    "        \n",
    "        if ('from ' in name) & (name.replace('from ', '') in ef_biosphere_mapping_dict.keys()):\n",
    "            name = f\"from {ef_biosphere_mapping_dict[name.replace('from ', '')][0]}\"\n",
    "        \n",
    "        elif ('to ' in name) & (name.replace('to ', '') in ef_biosphere_mapping_dict.keys()):\n",
    "            name = f\"to {ef_biosphere_mapping_dict[name.replace('to ', '')][0]}\"\n",
    "        \n",
    "        cat1 = cat1.replace('Land ', '')\n",
    "        name = f'{cat1}, {name}'\n",
    "        cat1 = 'natural resource'\n",
    "        cat2 = 'land'\n",
    "    \n",
    "    elif cat0 == 'Resources':\n",
    "        cat2 = f\"in {cat1.replace('Resources from ', '')}\"\n",
    "        cat1 = 'natural resource'\n",
    "    \n",
    "    else:\n",
    "        raise ValueError(f\"Category0 {cat0} not recognized\")\n",
    "    \n",
    "    return name, cat0, cat1, cat2"
   ],
   "id": "9805ce7d05b96e72",
   "outputs": [],
   "execution_count": 15
  },
  {
   "metadata": {
    "ExecuteTime": {
     "end_time": "2024-11-22T20:08:25.742937Z",
     "start_time": "2024-11-22T20:08:25.733217Z"
    }
   },
   "cell_type": "code",
   "source": [
    "def ecoinvent_compatible_water_flows(name, cat0, cat1, cat2, lcia_cat):\n",
    "    \n",
    "    name = name.lower()\n",
    "    \n",
    "    if lcia_cat.lower() == 'water use':\n",
    "        \n",
    "        if cat0 == 'Resources':\n",
    "            if name == 'ground water':\n",
    "                name = 'water, well, in ground'\n",
    "            elif name == 'lake water':\n",
    "                name = 'water, lake'\n",
    "            elif name == 'river water':\n",
    "                name = 'water, river'\n",
    "            elif name == 'freshwater':\n",
    "                name = 'water, unspecified natural origin'\n",
    "            elif name == 'water to cooling':\n",
    "                name = 'water, cooling, unspecified natural origin'\n",
    "            elif name == 'water to turbine':\n",
    "                name = 'water, turbine use, unspecified natural origin'\n",
    "            \n",
    "            cat1 = 'natural resource'\n",
    "            cat2 = None\n",
    "        \n",
    "        elif cat0 == 'Emissions':\n",
    "            if (name == 'water') & (cat2 == 'water, unspecified'):\n",
    "                name = 'water'\n",
    "                cat1 = 'water'\n",
    "                cat2 = None\n",
    "        \n",
    "    return name, cat1, cat2"
   ],
   "id": "3d2fc62fef17ad01",
   "outputs": [],
   "execution_count": 16
  },
  {
   "metadata": {
    "ExecuteTime": {
     "end_time": "2024-11-22T20:08:33.223535Z",
     "start_time": "2024-11-22T20:08:25.745646Z"
    }
   },
   "cell_type": "code",
   "source": [
    "# Change the name and categories columns of the EF file to be ecoinvent-compliant \n",
    "ef_cfs[['FLOW_name', 'FLOW_class0', 'FLOW_class1', 'FLOW_class2']] = ef_cfs.apply(lambda x: ecoinvent_compatible_categories(x['FLOW_name'], x['FLOW_class0'], x['FLOW_class1'], x['FLOW_class2']), axis=1, result_type='expand')"
   ],
   "id": "9f84596833eb04af",
   "outputs": [],
   "execution_count": 17
  },
  {
   "metadata": {
    "ExecuteTime": {
     "end_time": "2024-11-22T20:08:40.768906Z",
     "start_time": "2024-11-22T20:08:33.226009Z"
    }
   },
   "cell_type": "code",
   "source": "ef_cfs[['FLOW_name', 'FLOW_class1', 'FLOW_class2']] = ef_cfs.apply(lambda x: ecoinvent_compatible_water_flows(x['FLOW_name'], x['FLOW_class0'], x['FLOW_class1'], x['FLOW_class2'], x['LCIAMethod_name']), axis=1, result_type='expand')",
   "id": "38c053fef0b3d71c",
   "outputs": [],
   "execution_count": 18
  },
  {
   "metadata": {
    "ExecuteTime": {
     "end_time": "2024-11-22T20:08:41.913584Z",
     "start_time": "2024-11-22T20:08:40.768906Z"
    }
   },
   "cell_type": "code",
   "source": [
    "# Add some missing land biosphere flows, as they come from the same EF flow\n",
    "ef_cfs.drop_duplicates(inplace=True)\n",
    "for key, value in ef_biosphere_mapping_dict.items():\n",
    "    if len(value) > 1:\n",
    "        df_to_add = ef_cfs[\n",
    "            (ef_cfs.FLOW_name.str.lower() == f'occupation, {value[0]}')\n",
    "            | (ef_cfs.FLOW_name.str.lower() == f'transformation, from {value[0]}')\n",
    "            | (ef_cfs.FLOW_name.str.lower() == f'transformation, to {value[0]}')\n",
    "        ].copy(deep=True)\n",
    "        for i in range(1, len(value)):\n",
    "            df_to_add['FLOW_name'] = df_to_add['FLOW_name'].apply(lambda x: x.replace(value[i-1], value[i]))\n",
    "            ef_cfs = pd.concat([ef_cfs, df_to_add])\n",
    "\n",
    "ef_cfs.reset_index(drop=True, inplace=True)"
   ],
   "id": "33d8cb9b25689347",
   "outputs": [],
   "execution_count": 19
  },
  {
   "metadata": {
    "ExecuteTime": {
     "end_time": "2024-11-22T20:08:42.027594Z",
     "start_time": "2024-11-22T20:08:41.913584Z"
    }
   },
   "cell_type": "code",
   "source": [
    "# Add missing nitrate flows\n",
    "df_to_add = ef_cfs[\n",
    "    (ef_cfs.FLOW_name.str.lower() == 'nitrate')\n",
    "    & (ef_cfs.FLOW_class1 == 'water')\n",
    "    & (ef_cfs.FLOW_class2.isna())\n",
    "].copy(deep=True)\n",
    "df_to_add['FLOW_class2'] = 'ground-'\n",
    "ef_cfs = pd.concat([ef_cfs, df_to_add])"
   ],
   "id": "220198b617a9f549",
   "outputs": [],
   "execution_count": 20
  },
  {
   "metadata": {
    "ExecuteTime": {
     "end_time": "2024-11-22T20:08:43.606196Z",
     "start_time": "2024-11-22T20:08:42.027594Z"
    }
   },
   "cell_type": "code",
   "source": [
    "# Add unspecified water flow \n",
    "df_to_add = ef_cfs[\n",
    "    (ef_cfs.FLOW_name.str.lower() == 'water, unspecified natural origin')\n",
    "    & (ef_cfs.FLOW_class1 == 'natural resource')\n",
    "    & (ef_cfs.FLOW_class2.isna())\n",
    "].copy(deep=True)\n",
    "df_to_add['FLOW_name'] = 'water'\n",
    "ef_cfs = pd.concat([ef_cfs, df_to_add])\n",
    "\n",
    "# If needed, add missing water flows (copies from water flow without second category)\n",
    "missing_subcategories_resources = ['fossil well', 'in ground', 'in water']\n",
    "water_resource_flows = ['water', 'water, lake', 'water, river', 'water, unspecified natural origin', 'water, cooling, unspecified natural origin', 'water, turbine use, unspecified natural origin', 'water, well, in ground']\n",
    "for water_flow in water_resource_flows:\n",
    "    df_to_add = ef_cfs[\n",
    "        (ef_cfs.FLOW_name.str.lower() == water_flow)\n",
    "        & (ef_cfs.FLOW_class1 == 'natural resource')\n",
    "        & (ef_cfs.FLOW_class2.isna())\n",
    "    ].copy(deep=True)\n",
    "    for subcat in missing_subcategories_resources:\n",
    "        df_to_add['FLOW_class2'] = subcat\n",
    "        ef_cfs = pd.concat([ef_cfs, df_to_add])\n",
    "\n",
    "missing_subcategories_emissions = ['fossil well', 'ground-', 'ground-, long-term']\n",
    "df_to_add = ef_cfs[\n",
    "    (ef_cfs.FLOW_name.str.lower() == 'water')\n",
    "    & (ef_cfs.FLOW_class1 == 'water')\n",
    "    & (ef_cfs.FLOW_class2.isna())\n",
    "].copy(deep=True)\n",
    "for subcat in missing_subcategories_emissions:\n",
    "    df_to_add['FLOW_class2'] = subcat\n",
    "    ef_cfs = pd.concat([ef_cfs, df_to_add])\n",
    "\n",
    "ef_cfs.reset_index(drop=True, inplace=True)"
   ],
   "id": "333b87d91ceb0750",
   "outputs": [],
   "execution_count": 21
  },
  {
   "metadata": {
    "ExecuteTime": {
     "end_time": "2024-11-22T20:08:43.788298Z",
     "start_time": "2024-11-22T20:08:43.607277Z"
    }
   },
   "cell_type": "code",
   "source": [
    "# Add a GLO row in addition to the normal one (with no location) \n",
    "df_to_add = ef_cfs[ef_cfs.LCIAMethod_location.isna()].copy(deep=True)\n",
    "df_to_add['LCIAMethod_location'] = 'GLO'\n",
    "ef_cfs = pd.concat([ef_cfs, df_to_add])"
   ],
   "id": "c6e5a1f9f2d76602",
   "outputs": [],
   "execution_count": 22
  },
  {
   "metadata": {
    "ExecuteTime": {
     "end_time": "2024-11-22T20:08:47.813354Z",
     "start_time": "2024-11-22T20:08:43.788298Z"
    }
   },
   "cell_type": "code",
   "source": [
    "# Add missing land flows, their CF will be the one of their equivalent unspecified flow. \n",
    "land_flows_ef = list(ef_cfs[ef_cfs.LCIAMethod_name == 'Land use'].FLOW_name.unique()) # list of land flows in EF\n",
    "land_flows_ei = list(set([i['name'].lower() for i in biosphere_db.db_as_list if 'Transformation' in i['name'] or 'Occupation' in i['name']]))  # list of land flows in ecoinvent\n",
    "land_flows_ei_not_in_ef = list(set(land_flows_ei) - set(land_flows_ef))  # list of land flows in ecoinvent but not in EF\n",
    "land_flows_ei_not_in_ef = [i for i in land_flows_ei_not_in_ef if '(non-use)' not in i]  # remove the non-use flows\n",
    "\n",
    "for land_flow in land_flows_ei_not_in_ef:\n",
    "    if 'transformation, to ' in land_flow:\n",
    "        df_to_add = ef_cfs[\n",
    "            (ef_cfs.FLOW_name.str.lower() == 'transformation, to unspecified')\n",
    "            & (ef_cfs.FLOW_class1 == 'natural resource')\n",
    "            & (ef_cfs.FLOW_class2 == 'land')\n",
    "        ].copy(deep=True)\n",
    "    \n",
    "    elif 'transformation, from ' in land_flow:\n",
    "        df_to_add = ef_cfs[\n",
    "            (ef_cfs.FLOW_name.str.lower() == 'transformation, from unspecified')\n",
    "            & (ef_cfs.FLOW_class1 == 'natural resource')\n",
    "            & (ef_cfs.FLOW_class2 == 'land')\n",
    "        ].copy(deep=True)\n",
    "    \n",
    "    elif 'occupation, ' in land_flow:\n",
    "        df_to_add = ef_cfs[\n",
    "            (ef_cfs.FLOW_name.str.lower() == 'occupation, unspecified')\n",
    "            & (ef_cfs.FLOW_class1 == 'natural resource')\n",
    "            & (ef_cfs.FLOW_class2 == 'land')\n",
    "        ].copy(deep=True)\n",
    "    \n",
    "    else:\n",
    "        raise ValueError(f'Land flow {land_flow} not recognized')\n",
    "    \n",
    "    df_to_add['FLOW_name'] = land_flow\n",
    "    ef_cfs = pd.concat([ef_cfs, df_to_add])"
   ],
   "id": "5aff81f573ca3bae",
   "outputs": [],
   "execution_count": 23
  },
  {
   "metadata": {},
   "cell_type": "markdown",
   "source": "## Create the new regionalized methods",
   "id": "6eed12b74145c1f"
  },
  {
   "metadata": {
    "ExecuteTime": {
     "end_time": "2024-11-22T20:08:47.825779Z",
     "start_time": "2024-11-22T20:08:47.813884Z"
    }
   },
   "cell_type": "code",
   "source": [
    "def create_cf_list(df):\n",
    "    \n",
    "    reg_cfs = []\n",
    "    unmapped = []\n",
    "    \n",
    "    for i in range(len(df)):\n",
    "        \n",
    "        flow_name = df.loc[i, 'FLOW_name'].lower()\n",
    "        flow_location = df.loc[i, 'LCIAMethod_location']\n",
    "        flow_cf = df.loc[i, 'CF EF3.1']\n",
    "        \n",
    "        if flow_location is np.nan:\n",
    "            spatialized_db = False\n",
    "        else:\n",
    "            flow_name = f'{flow_name}, {flow_location}'\n",
    "            spatialized_db = True\n",
    "        \n",
    "        category1 = df.loc[i, 'FLOW_class1']\n",
    "        category2 = df.loc[i, 'FLOW_class2']\n",
    "        \n",
    "        flow_name = flow_name[0].upper() + flow_name[1:]\n",
    "        \n",
    "        if category2 is not None:\n",
    "            \n",
    "            if spatialized_db:\n",
    "                if (flow_name, (category1, category2), name_spatialized_biosphere_db) in biosphere_db_spatialized_dict_name.keys():\n",
    "                    flow_code = biosphere_db_spatialized_dict_name[(flow_name, (category1, category2), name_spatialized_biosphere_db)]['code']\n",
    "                    reg_cfs.append(((name_spatialized_biosphere_db, flow_code), flow_cf))\n",
    "                else:\n",
    "                    unmapped.append((name_spatialized_biosphere_db, flow_name, (category1, category2)))\n",
    "            \n",
    "            else:\n",
    "                if (flow_name, (category1, category2), 'biosphere3') in biosphere_db_dict_name.keys():\n",
    "                    flow_code = biosphere_db_dict_name[(flow_name, (category1, category2), 'biosphere3')]['code']\n",
    "                    reg_cfs.append((('biosphere3', flow_code), flow_cf))\n",
    "                else:\n",
    "                    unmapped.append(('biosphere3', flow_name, (category1, category2)))\n",
    "        \n",
    "        else:\n",
    "            \n",
    "            if spatialized_db:\n",
    "                if (flow_name, (category1,), name_spatialized_biosphere_db) in biosphere_db_spatialized_dict_name.keys():\n",
    "                    flow_code = biosphere_db_spatialized_dict_name[(flow_name, (category1,), name_spatialized_biosphere_db)]['code']\n",
    "                    reg_cfs.append(((name_spatialized_biosphere_db, flow_code), flow_cf))\n",
    "                else:\n",
    "                    unmapped.append((name_spatialized_biosphere_db, flow_name, (category1,)))\n",
    "            \n",
    "            else:\n",
    "                if (flow_name, (category1,), 'biosphere3') in biosphere_db_dict_name.keys():\n",
    "                    flow_code = biosphere_db_dict_name[(flow_name, (category1,), 'biosphere3')]['code']\n",
    "                    reg_cfs.append((('biosphere3', flow_code), flow_cf))\n",
    "                else:\n",
    "                    unmapped.append(('biosphere3', flow_name, (category1,)))\n",
    "    \n",
    "    return reg_cfs, unmapped"
   ],
   "id": "d01c11eb6cf188c0",
   "outputs": [],
   "execution_count": 24
  },
  {
   "metadata": {
    "ExecuteTime": {
     "end_time": "2024-11-22T20:08:47.833918Z",
     "start_time": "2024-11-22T20:08:47.825779Z"
    }
   },
   "cell_type": "code",
   "source": [
    "method_names_bw_to_ef = {\n",
    "    'acidification': 'Acidification',\n",
    "    'climate change': 'Climate change',\n",
    "    'climate change: biogenic': 'Climate change-Biogenic',\n",
    "    'climate change: fossil': 'Climate change-Fossil',\n",
    "    'climate change: land use and land use change': 'Climate change-Land use and land use change',\n",
    "    'particulate matter formation': 'EF-particulate Matter',\n",
    "    'ecotoxicity: freshwater': 'Ecotoxicity, freshwater',\n",
    "    'ecotoxicity: freshwater, inorganics': 'Ecotoxicity, freshwater_inorganics',\n",
    "    'ecotoxicity: freshwater, organics': 'Ecotoxicity, freshwater_organics',\n",
    "    'eutrophication: marine': 'Eutrophication marine',\n",
    "    'eutrophication: freshwater': 'Eutrophication, freshwater',\n",
    "    'eutrophication: terrestrial': 'Eutrophication, terrestrial',\n",
    "    'human toxicity: carcinogenic': 'Human toxicity, cancer',\n",
    "    'human toxicity: carcinogenic, inorganics': 'Human toxicity, cancer_inorganics',\n",
    "    'human toxicity: carcinogenic, organics': 'Human toxicity, cancer_organics',\n",
    "    'human toxicity: non-carcinogenic': 'Human toxicity, non-cancer',\n",
    "    'human toxicity: non-carcinogenic, inorganics': 'Human toxicity, non-cancer_inorganics',\n",
    "    'human toxicity: non-carcinogenic, organics': 'Human toxicity, non-cancer_organics',\n",
    "    'ionising radiation: human health': 'Ionising radiation, human health',\n",
    "    'land use': 'Land use',\n",
    "    'ozone depletion': 'Ozone depletion',\n",
    "    'photochemical oxidant formation: human health': 'Photochemical ozone formation - human health',\n",
    "    'energy resources: non-renewable': 'Resource use, fossils',\n",
    "    'material resources: metals/minerals': 'Resource use, minerals and metals',\n",
    "    'water scarcity': 'Water use'\n",
    "}"
   ],
   "id": "3ea137aa209fef9",
   "outputs": [],
   "execution_count": 25
  },
  {
   "metadata": {
    "ExecuteTime": {
     "end_time": "2024-11-22T20:09:41.975888Z",
     "start_time": "2024-11-22T20:08:47.833918Z"
    }
   },
   "cell_type": "code",
   "source": [
    "# Create the new set of regionalized impact categories \n",
    "ef_methods_bw = [i for i in bd.methods if i[0] == 'EF v3.1']\n",
    "\n",
    "# Replace the water use method of EF by the one of IW+. Both are based on AWARE, but the one of IW+ is more complete. \n",
    "ef_methods_bw.remove(('EF v3.1', 'water use', 'user deprivation potential (deprivation-weighted water consumption)'))\n",
    "ef_methods_bw.append(('IMPACT World+ Midpoint 2.0.1', 'Midpoint', 'Water scarcity'))\n",
    "\n",
    "regionalized_methods = {}\n",
    "unlinked = []\n",
    "\n",
    "list_spatialized_flows = list(ef_cfs[\n",
    "    (~ef_cfs.LCIAMethod_location.isna()) \n",
    "    & (ef_cfs.LCIAMethod_location != 'GLO') \n",
    "    & (~ef_cfs.LCIAMethod_name.isin(['Water use', 'Land use'])) # except water and land flows \n",
    "].FLOW_name.unique()) + ['nitric oxide', 'nitrate']\n",
    "\n",
    "# Acidification, terrestrial eutrophication, land use, and water use are the four categories to be fully regionalized (i.e., fo every elementary flow). For the other categories, only a subset of flows is regionalized (the ones in common with the regionalized methods).\n",
    "methods_to_regionalize = [\n",
    "    'acidification',\n",
    "    'eutrophication: terrestrial',\n",
    "    'land use',\n",
    "    'water scarcity',\n",
    "] # categories for which regional CF are added, other categories are kept as they are in brightway\n",
    "\n",
    "methods_not_regionalized_but_adjusted = [\n",
    "    'eutrophication: marine', # ammonia, nitrogen dioxide, and nitrogen oxides flows only (with global value)\n",
    "    'ecotoxicity: freshwater', # ammonia flows only (with global value)\n",
    "    'ecotoxicity: freshwater, inorganics', # ammonia flows only (with global value)\n",
    "    'human toxicity: non-carcinogenic', # ammonia flows only (with global value)\n",
    "    'human toxicity: non-carcinogenic, inorganics', # ammonia flows only (with global value)\n",
    "    'particulate matter formation', # ammonia, nitrogen \n",
    "    'photochemical oxidant formation: human health', # nitrogen dioxide, nitrogen oxides, sulfur dioxide, and sulfur oxides flows only (with global value)\n",
    "] # categories for which fake regional CF are added (all equal the global value)\n",
    "\n",
    "for i in range(len(ef_methods_bw)):\n",
    "    method = bd.Method(ef_methods_bw[i])\n",
    "    if ef_methods_bw[i][0] == 'EF v3.1':\n",
    "        method_name_bw = ef_methods_bw[i][1]\n",
    "    else:\n",
    "        method_name_bw = ef_methods_bw[i][2] # for the IW+ water scarcity method\n",
    "    method_name = method_names_bw_to_ef[method_name_bw.lower()]\n",
    "    cfs = method.load()\n",
    "    regionalized_cfs = []\n",
    "    \n",
    "    # Add missing land occupation and transformation elementary flows to the method\n",
    "    if method_name_bw.lower() == 'land use':\n",
    "        for land_flow in land_flows_ei_not_in_ef:\n",
    "            land_flow = land_flow[0].upper() + land_flow[1:]\n",
    "            cfs.append((('biosphere3', biosphere_db_dict_name[(land_flow, ('natural resource', 'land'), 'biosphere3')]['code']), 0))\n",
    "    \n",
    "    for j in cfs:\n",
    "        flow = biosphere_db_dict_code[(j[0][0], j[0][1])]\n",
    "        flow_name = flow['name'].lower()\n",
    "        \n",
    "        if method_name_bw.lower() not in methods_to_regionalize+methods_not_regionalized_but_adjusted:\n",
    "            regionalized_cfs.append(j) # non-regionalized flows are kept as they are\n",
    "            # if some of the regionalized flows appear in the other categories, we must add the new GLO elementary flow to that method  \n",
    "            if flow_name in list_spatialized_flows:\n",
    "                flow_name = flow_name[0].upper() + flow_name[1:]\n",
    "                flow_categories = flow['categories']\n",
    "                global_flow_code = biosphere_db_spatialized_dict_name[(f'{flow_name}, GLO', flow_categories, name_spatialized_biosphere_db)]['code']\n",
    "                regionalized_cfs.append(((name_spatialized_biosphere_db, global_flow_code), j[1]))\n",
    "                # print(method_name_bw, flow_name, flow_categories)\n",
    "        else:\n",
    "            if method_name_bw.lower() in methods_not_regionalized_but_adjusted:\n",
    "                # for the \"fake\" regionalized methods, only some flows are regionalized\n",
    "                if flow_name not in list_spatialized_flows:\n",
    "                    regionalized_cfs.append(j)\n",
    "                    continue\n",
    "            \n",
    "            # for the fully regionalized methods, all flows are regionalized\n",
    "            flow_category_1 = flow['categories'][0]\n",
    "            \n",
    "            if len(flow['categories']) == 1:\n",
    "                df_regionalized_flows = ef_cfs[\n",
    "                    (ef_cfs['FLOW_name'].str.lower() == flow_name) \n",
    "                    & (ef_cfs['FLOW_class1'] == flow_category_1)\n",
    "                    & (ef_cfs['FLOW_class2'].isna())\n",
    "                    & (ef_cfs['LCIAMethod_name'] == method_name)\n",
    "                ].reset_index()\n",
    "                \n",
    "                if len(df_regionalized_flows) == 0:\n",
    "                    unlinked.append(('biosphere3', flow_name, (flow_category_1,)))\n",
    "                \n",
    "            else:\n",
    "                flow_category_2 = flow['categories'][1]\n",
    "            \n",
    "                df_regionalized_flows = ef_cfs[\n",
    "                    (ef_cfs['FLOW_name'].str.lower() == flow_name) \n",
    "                    & (ef_cfs['FLOW_class1'] == flow_category_1)\n",
    "                    & (ef_cfs['FLOW_class2'] == flow_category_2)\n",
    "                    & (ef_cfs['LCIAMethod_name'] == method_name)\n",
    "                ].reset_index()\n",
    "                \n",
    "                if len(df_regionalized_flows) == 0:\n",
    "                    unlinked.append(('biosphere3', flow_name, (flow_category_1, flow_category_2)))\n",
    "            \n",
    "            new_regionalized_cfs, new_unlinked = create_cf_list(df_regionalized_flows)\n",
    "            regionalized_cfs += new_regionalized_cfs\n",
    "            unlinked += new_unlinked\n",
    "    \n",
    "    regionalized_methods[method_name_bw] = regionalized_cfs"
   ],
   "id": "eb1854fec00afeac",
   "outputs": [],
   "execution_count": 26
  },
  {
   "metadata": {
    "ExecuteTime": {
     "end_time": "2024-11-22T20:09:41.984761Z",
     "start_time": "2024-11-22T20:09:41.976905Z"
    }
   },
   "cell_type": "code",
   "source": [
    "# Check if some global flows are still unlinked.\n",
    "list(set([i[1:] for i in unlinked if 'biosphere3' == i[0]]))"
   ],
   "id": "46678592ca68abe8",
   "outputs": [
    {
     "data": {
      "text/plain": [
       "[('water', ('water', 'ocean'))]"
      ]
     },
     "execution_count": 27,
     "metadata": {},
     "output_type": "execute_result"
    }
   ],
   "execution_count": 27
  },
  {
   "metadata": {
    "ExecuteTime": {
     "end_time": "2024-11-22T20:09:42.006651Z",
     "start_time": "2024-11-22T20:09:41.988775Z"
    }
   },
   "cell_type": "code",
   "source": [
    "# Check if there are duplicates in the regionalized methods\n",
    "for key in regionalized_methods.keys():\n",
    "    duplicates = [item for item, count in collections.Counter(regionalized_methods[key]).items() if count > 1]\n",
    "    if len(duplicates) > 0:\n",
    "        raise ValueError(f'Duplicates in {key} method: {duplicates}')"
   ],
   "id": "74c80754e6b99f1a",
   "outputs": [],
   "execution_count": 28
  },
  {
   "metadata": {},
   "cell_type": "markdown",
   "source": "The water (water, ocean) flow is missing, but this is not a problem as its CF is 0. ",
   "id": "60f2a5ac7eba45d6"
  },
  {
   "metadata": {
    "ExecuteTime": {
     "end_time": "2024-11-22T20:09:50.043574Z",
     "start_time": "2024-11-22T20:09:42.007703Z"
    }
   },
   "cell_type": "code",
   "source": [
    "if write_method_bw:\n",
    "    for method in ef_methods_bw:\n",
    "        if method[2] == 'Water scarcity':\n",
    "            ef_regionalized_method = bd.Method(('EF v3.1 regionalized', 'water use', 'user deprivation potential (deprivation-weighted water consumption)'))\n",
    "            unit = bd.Method(('EF v3.1', 'water use', 'user deprivation potential (deprivation-weighted water consumption)')).metadata['unit']\n",
    "            method_name = method[2]\n",
    "        else:\n",
    "            ef_regionalized_method = bd.Method(('EF v3.1 regionalized', method[1], method[2]))\n",
    "            unit = bd.Method(method).metadata['unit']\n",
    "            method_name = method[1]\n",
    "        ef_regionalized_method_metadata = {'unit': unit}\n",
    "        ef_regionalized_method.register(**ef_regionalized_method_metadata)\n",
    "        ef_regionalized_method.write(regionalized_methods[method_name])"
   ],
   "id": "f0fcad9301630ec9",
   "outputs": [],
   "execution_count": 29
  },
  {
   "metadata": {
    "ExecuteTime": {
     "end_time": "2024-11-22T20:09:50.050305Z",
     "start_time": "2024-11-22T20:09:50.043574Z"
    }
   },
   "cell_type": "code",
   "source": [
    "list_ef_regionalized_methods = [bd.Method(('EF v3.1 regionalized', method[1], method[2])) for method in ef_methods_bw if method[2] != 'Water scarcity']\n",
    "list_ef_regionalized_methods.append(bd.Method(('EF v3.1 regionalized', 'water use', 'user deprivation potential (deprivation-weighted water consumption)')))"
   ],
   "id": "efcf947c31ce92e",
   "outputs": [],
   "execution_count": 30
  },
  {
   "metadata": {
    "ExecuteTime": {
     "end_time": "2024-11-22T20:09:51.336160Z",
     "start_time": "2024-11-22T20:09:50.051311Z"
    }
   },
   "cell_type": "code",
   "source": [
    "if write_method_bw:\n",
    "    bi.package.BW2Package.export_objs(list_ef_regionalized_methods, filename='EF3.1_regionalized', folder=cwd+'\\\\results\\\\')"
   ],
   "id": "309889fbbbdc63d2",
   "outputs": [],
   "execution_count": 31
  },
  {
   "metadata": {},
   "cell_type": "markdown",
   "source": "## Spatialized flows from regioinvent that are not used by EF regionalized methods",
   "id": "253ce275f9cc6897"
  },
  {
   "metadata": {},
   "cell_type": "markdown",
   "source": "There might be some spatialized elementary flows that are in the spatialized biosphere database from regioinvent that are not used in any EF regionalized method. Those flows should be removed. Otherwise, the resulting spatialized flows in the ecoinvent database will not be characterized, thus possibly leading to an underestimation of impacts, as the corresponding global (non-spatialized) flow could be characterized in EF. ",
   "id": "a3c2ef5c38e02c82"
  },
  {
   "metadata": {
    "ExecuteTime": {
     "end_time": "2024-11-22T20:09:51.356311Z",
     "start_time": "2024-11-22T20:09:51.336160Z"
    }
   },
   "cell_type": "code",
   "source": "all_regionalized_flows_in_ef = list(set([i[0][1] for i in [x for xs in regionalized_methods.values() for x in xs] if i[0][0] == name_spatialized_biosphere_db]))",
   "id": "116bd8db3c895155",
   "outputs": [],
   "execution_count": 32
  },
  {
   "metadata": {
    "ExecuteTime": {
     "end_time": "2024-11-22T20:09:51.363429Z",
     "start_time": "2024-11-22T20:09:51.356311Z"
    }
   },
   "cell_type": "code",
   "source": "all_regionalized_flows_in_regioinvent = [i['code'] for i in biosphere_db_spatialized.db_as_list]",
   "id": "633eafbcd678a134",
   "outputs": [],
   "execution_count": 33
  },
  {
   "metadata": {
    "ExecuteTime": {
     "end_time": "2024-11-22T20:09:51.377175Z",
     "start_time": "2024-11-22T20:09:51.363429Z"
    }
   },
   "cell_type": "code",
   "source": "used_spatialized_flows = list(set(all_regionalized_flows_in_regioinvent).intersection(all_regionalized_flows_in_ef))",
   "id": "ae8718f088497388",
   "outputs": [],
   "execution_count": 34
  },
  {
   "metadata": {
    "ExecuteTime": {
     "end_time": "2024-11-22T20:10:00.593139Z",
     "start_time": "2024-11-22T20:09:51.377175Z"
    }
   },
   "cell_type": "code",
   "source": "new_spatialized_biosphere_db = Database(db_as_list=[i for i in biosphere_db_spatialized.db_as_list if i['code'] in used_spatialized_flows])",
   "id": "fa6569302f295f51",
   "outputs": [],
   "execution_count": 35
  },
  {
   "metadata": {},
   "cell_type": "markdown",
   "source": "## Missing locations and flows ",
   "id": "ab13a5804483cb28"
  },
  {
   "metadata": {
    "ExecuteTime": {
     "end_time": "2024-11-22T20:10:03.789652Z",
     "start_time": "2024-11-22T20:10:00.593139Z"
    }
   },
   "cell_type": "code",
   "source": "ei_database = Database('ecoinvent-3.9.1-cutoff')",
   "id": "11e8c99f6a368fdb",
   "outputs": [
    {
     "name": "stdout",
     "output_type": "stream",
     "text": [
      "Loaded ecoinvent-3.9.1-cutoff from pickle!\n"
     ]
    }
   ],
   "execution_count": 36
  },
  {
   "metadata": {
    "ExecuteTime": {
     "end_time": "2024-11-22T20:10:03.804942Z",
     "start_time": "2024-11-22T20:10:03.789652Z"
    }
   },
   "cell_type": "code",
   "source": "ei_locations = list(set([i['location'] for i in ei_database.db_as_list]))",
   "id": "9fe1dbe4476a45",
   "outputs": [],
   "execution_count": 37
  },
  {
   "metadata": {
    "ExecuteTime": {
     "end_time": "2024-11-22T20:10:03.813982Z",
     "start_time": "2024-11-22T20:10:03.804942Z"
    }
   },
   "cell_type": "code",
   "source": "missing_biosphere_flows = sorted(list(set([i[1].rsplit(', ', 1)[0] for i in unlinked])))",
   "id": "e08df90c3a3b2bbf",
   "outputs": [],
   "execution_count": 38
  },
  {
   "metadata": {
    "ExecuteTime": {
     "end_time": "2024-11-22T20:10:07.887594Z",
     "start_time": "2024-11-22T20:10:03.813982Z"
    }
   },
   "cell_type": "code",
   "source": [
    "missing_flows_dict = {}\n",
    "for flow in missing_biosphere_flows:\n",
    "    missing_loc = list(set([i[1].rsplit(', ', 1)[-1] for i in unlinked if (i[1].rsplit(', ', 1)[0] == flow) & (i[1].rsplit(', ', 1)[-1] in ei_locations)]))\n",
    "    if len(missing_loc) > 0:\n",
    "        print(f'##### {flow} #####')\n",
    "        print(f'{sorted(missing_loc)}\\n')\n",
    "        missing_flows_dict[flow] = missing_loc"
   ],
   "id": "a3efda2fa9f621b1",
   "outputs": [
    {
     "name": "stdout",
     "output_type": "stream",
     "text": [
      "##### Occupation, annual crop, flooded crop #####\n",
      "['AE', 'BH', 'CW', 'CY', 'EG', 'GI', 'IL', 'IS', 'JO', 'KW', 'LB', 'LY', 'MT', 'OM', 'QA', 'SA', 'SY', 'TJ', 'TM', 'UZ', 'YE']\n",
      "\n",
      "##### Occupation, annual crop, greenhouse #####\n",
      "['AE', 'BH', 'CW', 'CY', 'EG', 'GI', 'IL', 'IS', 'JO', 'KW', 'LB', 'LY', 'MT', 'OM', 'QA', 'SA', 'SY', 'TJ', 'TM', 'UZ', 'YE']\n",
      "\n",
      "##### Occupation, annual crop, irrigated #####\n",
      "['AE', 'BH', 'CW', 'CY', 'EG', 'GI', 'IL', 'IS', 'JO', 'KW', 'LB', 'LY', 'MT', 'OM', 'QA', 'SA', 'SY', 'TJ', 'TM', 'UZ', 'YE']\n",
      "\n",
      "##### Occupation, annual crop, irrigated, extensive #####\n",
      "['AE', 'BH', 'CW', 'CY', 'EG', 'GI', 'IL', 'IS', 'JO', 'KW', 'LB', 'LY', 'MT', 'OM', 'QA', 'SA', 'SY', 'TJ', 'TM', 'UZ', 'YE']\n",
      "\n",
      "##### Occupation, annual crop, irrigated, intensive #####\n",
      "['AE', 'BH', 'CW', 'CY', 'EG', 'GI', 'IL', 'IS', 'JO', 'KW', 'LB', 'LY', 'MT', 'OM', 'QA', 'SA', 'SY', 'TJ', 'TM', 'UZ', 'YE']\n",
      "\n",
      "##### Occupation, annual crop, non-irrigated #####\n",
      "['AE', 'BH', 'CW', 'CY', 'EG', 'GI', 'IL', 'IS', 'JO', 'KW', 'LB', 'LY', 'MT', 'OM', 'QA', 'SA', 'SY', 'TJ', 'TM', 'UZ', 'YE']\n",
      "\n",
      "##### Occupation, annual crop, non-irrigated, extensive #####\n",
      "['AE', 'BH', 'CW', 'CY', 'EG', 'GI', 'IL', 'IS', 'JO', 'KW', 'LB', 'LY', 'MT', 'OM', 'QA', 'SA', 'SY', 'TJ', 'TM', 'UZ', 'YE']\n",
      "\n",
      "##### Occupation, annual crop, non-irrigated, intensive #####\n",
      "['AE', 'BH', 'CW', 'CY', 'EG', 'GI', 'IL', 'IS', 'JO', 'KW', 'LB', 'LY', 'MT', 'OM', 'QA', 'SA', 'SY', 'TJ', 'TM', 'UZ', 'YE']\n",
      "\n",
      "##### Occupation, arable land, unspecified use #####\n",
      "['AE', 'BH', 'CW', 'CY', 'EG', 'GI', 'IL', 'IS', 'JO', 'KW', 'LB', 'LY', 'MT', 'OM', 'QA', 'SA', 'SY', 'TJ', 'TM', 'UZ', 'YE']\n",
      "\n",
      "##### Occupation, arable, conservation tillage (obsolete) #####\n",
      "['AE', 'BH', 'CW', 'CY', 'EG', 'GI', 'IL', 'IS', 'JO', 'KW', 'LB', 'LY', 'MT', 'OM', 'QA', 'SA', 'SY', 'TJ', 'TM', 'UZ', 'YE']\n",
      "\n",
      "##### Occupation, arable, conventional tillage (obsolete) #####\n",
      "['AE', 'BH', 'CW', 'CY', 'EG', 'GI', 'IL', 'IS', 'JO', 'KW', 'LB', 'LY', 'MT', 'OM', 'QA', 'SA', 'SY', 'TJ', 'TM', 'UZ', 'YE']\n",
      "\n",
      "##### Occupation, arable, reduced tillage (obsolete) #####\n",
      "['AE', 'BH', 'CW', 'CY', 'EG', 'GI', 'IL', 'IS', 'JO', 'KW', 'LB', 'LY', 'MT', 'OM', 'QA', 'SA', 'SY', 'TJ', 'TM', 'UZ', 'YE']\n",
      "\n",
      "##### Occupation, bare area (non-use) #####\n",
      "['IS']\n",
      "\n",
      "##### Occupation, cropland fallow (non-use) #####\n",
      "['IS']\n",
      "\n",
      "##### Occupation, field margin/hedgerow #####\n",
      "['IS']\n",
      "\n",
      "##### Occupation, forest, extensive #####\n",
      "['AE', 'BH', 'CW', 'CY', 'EG', 'GI', 'IL', 'IS', 'JO', 'KW', 'LB', 'LY', 'MT', 'OM', 'QA', 'SA', 'SY', 'YE']\n",
      "\n",
      "##### Occupation, forest, intensive #####\n",
      "['AE', 'BH', 'CW', 'CY', 'EG', 'GI', 'IL', 'IS', 'JO', 'KW', 'LB', 'LY', 'MT', 'OM', 'QA', 'SA', 'SY', 'YE']\n",
      "\n",
      "##### Occupation, forest, primary (non-use) #####\n",
      "['IS']\n",
      "\n",
      "##### Occupation, forest, secondary (non-use) #####\n",
      "['IS']\n",
      "\n",
      "##### Occupation, forest, unspecified #####\n",
      "['AE', 'BH', 'CW', 'CY', 'EG', 'GI', 'IL', 'IS', 'JO', 'KW', 'LB', 'LY', 'MT', 'OM', 'QA', 'SA', 'SY', 'YE']\n",
      "\n",
      "##### Occupation, grassland, natural (non-use) #####\n",
      "['IS']\n",
      "\n",
      "##### Occupation, grassland, natural, for livestock grazing #####\n",
      "['IS']\n",
      "\n",
      "##### Occupation, heterogeneous, agricultural #####\n",
      "['AE', 'AL', 'AM', 'AT', 'AZ', 'BA', 'BE', 'BG', 'BH', 'BW', 'BY', 'CA', 'CH', 'CW', 'CY', 'CZ', 'DE', 'DK', 'DZ', 'EE', 'EG', 'ES', 'FI', 'FR', 'GB', 'GE', 'GI', 'GR', 'HR', 'HU', 'IE', 'IL', 'IQ', 'IS', 'IT', 'JO', 'KP', 'KR', 'KW', 'LB', 'LT', 'LU', 'LV', 'LY', 'MD', 'ME', 'MK', 'MT', 'NA', 'NE', 'NL', 'NO', 'OM', 'PL', 'PT', 'QA', 'RO', 'RS', 'SA', 'SE', 'SI', 'SK', 'SN', 'SY', 'TN', 'TR', 'UA', 'YE']\n",
      "\n",
      "##### Occupation, pasture, man made #####\n",
      "['IS']\n",
      "\n",
      "##### Occupation, pasture, man made, extensive #####\n",
      "['IS']\n",
      "\n",
      "##### Occupation, pasture, man made, intensive #####\n",
      "['IS']\n",
      "\n",
      "##### Occupation, permanent crop #####\n",
      "['AE', 'BH', 'BW', 'CW', 'CY', 'DZ', 'EG', 'GI', 'IL', 'IS', 'JO', 'KG', 'KW', 'KZ', 'LB', 'LY', 'MA', 'MN', 'MT', 'NA', 'NE', 'OM', 'QA', 'SA', 'SN', 'SY', 'TJ', 'TM', 'TN', 'UZ', 'YE', 'ZM', 'ZW']\n",
      "\n",
      "##### Occupation, permanent crop, irrigated #####\n",
      "['AE', 'BH', 'BW', 'CW', 'CY', 'DZ', 'EG', 'GI', 'IL', 'IS', 'JO', 'KG', 'KW', 'KZ', 'LB', 'LY', 'MA', 'MN', 'MT', 'NA', 'NE', 'OM', 'QA', 'SA', 'SN', 'SY', 'TJ', 'TM', 'TN', 'UZ', 'YE', 'ZM', 'ZW']\n",
      "\n",
      "##### Occupation, permanent crop, irrigated, extensive #####\n",
      "['AE', 'BH', 'BW', 'CW', 'CY', 'DZ', 'EG', 'GI', 'IL', 'IS', 'JO', 'KG', 'KW', 'KZ', 'LB', 'LY', 'MA', 'MN', 'MT', 'NA', 'NE', 'OM', 'QA', 'SA', 'SN', 'SY', 'TJ', 'TM', 'TN', 'UZ', 'YE', 'ZM', 'ZW']\n",
      "\n",
      "##### Occupation, permanent crop, irrigated, intensive #####\n",
      "['AE', 'BH', 'BW', 'CW', 'CY', 'DZ', 'EG', 'GI', 'IL', 'IS', 'JO', 'KG', 'KW', 'KZ', 'LB', 'LY', 'MA', 'MN', 'MT', 'NA', 'NE', 'OM', 'QA', 'SA', 'SN', 'SY', 'TJ', 'TM', 'TN', 'UZ', 'YE', 'ZM', 'ZW']\n",
      "\n",
      "##### Occupation, permanent crop, non-irrigated #####\n",
      "['AE', 'BH', 'BW', 'CW', 'CY', 'DZ', 'EG', 'GI', 'IL', 'IS', 'JO', 'KG', 'KW', 'KZ', 'LB', 'LY', 'MA', 'MN', 'MT', 'NA', 'NE', 'OM', 'QA', 'SA', 'SN', 'SY', 'TJ', 'TM', 'TN', 'UZ', 'YE', 'ZM', 'ZW']\n",
      "\n",
      "##### Occupation, permanent crop, non-irrigated, extensive #####\n",
      "['AE', 'BH', 'BW', 'CW', 'CY', 'DZ', 'EG', 'GI', 'IL', 'IS', 'JO', 'KG', 'KW', 'KZ', 'LB', 'LY', 'MA', 'MN', 'MT', 'NA', 'NE', 'OM', 'QA', 'SA', 'SN', 'SY', 'TJ', 'TM', 'TN', 'UZ', 'YE', 'ZM', 'ZW']\n",
      "\n",
      "##### Occupation, permanent crop, non-irrigated, intensive #####\n",
      "['AE', 'BH', 'BW', 'CW', 'CY', 'DZ', 'EG', 'GI', 'IL', 'IS', 'JO', 'KG', 'KW', 'KZ', 'LB', 'LY', 'MA', 'MN', 'MT', 'NA', 'NE', 'OM', 'QA', 'SA', 'SN', 'SY', 'TJ', 'TM', 'TN', 'UZ', 'YE', 'ZM', 'ZW']\n",
      "\n",
      "##### Occupation, seabed, drilling and mining #####\n",
      "['AE', 'AO', 'BD', 'BH', 'BJ', 'BN', 'BO', 'BR', 'BW', 'CD', 'CG', 'CI', 'CM', 'CO', 'CR', 'CU', 'CW', 'CY', 'DO', 'EC', 'EG', 'ER', 'ET', 'GA', 'GH', 'GI', 'GT', 'HN', 'HT', 'ID', 'IL', 'IS', 'JM', 'JO', 'KE', 'KH', 'KW', 'LB', 'LK', 'LY', 'MG', 'MT', 'MX', 'MY', 'MZ', 'NA', 'NE', 'NG', 'NI', 'OM', 'PA', 'PE', 'PG', 'PH', 'PY', 'QA', 'RW', 'SA', 'SD', 'SG', 'SN', 'SS', 'SV', 'SY', 'TG', 'TH', 'TJ', 'TM', 'TT', 'TZ', 'UY', 'UZ', 'VE', 'VN', 'YE', 'ZA', 'ZM', 'ZW']\n",
      "\n",
      "##### Occupation, seabed, infrastructure #####\n",
      "['AE', 'AO', 'BD', 'BH', 'BJ', 'BN', 'BO', 'BR', 'BW', 'CD', 'CG', 'CI', 'CM', 'CO', 'CR', 'CU', 'CW', 'CY', 'DO', 'EC', 'EG', 'ER', 'ET', 'GA', 'GH', 'GI', 'GT', 'HN', 'HT', 'ID', 'IL', 'IS', 'JM', 'JO', 'KE', 'KH', 'KW', 'LB', 'LK', 'LY', 'MG', 'MT', 'MX', 'MY', 'MZ', 'NA', 'NE', 'NG', 'NI', 'OM', 'PA', 'PE', 'PG', 'PH', 'PY', 'QA', 'RW', 'SA', 'SD', 'SG', 'SN', 'SS', 'SV', 'SY', 'TG', 'TH', 'TJ', 'TM', 'TT', 'TZ', 'UY', 'UZ', 'VE', 'VN', 'YE', 'ZA', 'ZM', 'ZW']\n",
      "\n",
      "##### Occupation, seabed, unspecified #####\n",
      "['AE', 'AO', 'BD', 'BH', 'BJ', 'BN', 'BO', 'BR', 'BW', 'CD', 'CG', 'CI', 'CM', 'CO', 'CR', 'CU', 'CW', 'CY', 'DO', 'EC', 'EG', 'ER', 'ET', 'GA', 'GH', 'GI', 'GT', 'HN', 'HT', 'ID', 'IL', 'IS', 'JM', 'JO', 'KE', 'KH', 'KW', 'LB', 'LK', 'LY', 'MG', 'MT', 'MX', 'MY', 'MZ', 'NA', 'NE', 'NG', 'NI', 'OM', 'PA', 'PE', 'PG', 'PH', 'PY', 'QA', 'RW', 'SA', 'SD', 'SG', 'SN', 'SS', 'SV', 'SY', 'TG', 'TH', 'TJ', 'TM', 'TT', 'TZ', 'UY', 'UZ', 'VE', 'VN', 'YE', 'ZA', 'ZM', 'ZW']\n",
      "\n",
      "##### Occupation, shrub land, sclerophyllous #####\n",
      "['AE', 'BH', 'CW', 'CY', 'EG', 'GI', 'IL', 'IS', 'JO', 'KW', 'LB', 'LY', 'MT', 'OM', 'QA', 'SA', 'SY', 'YE']\n",
      "\n",
      "##### Occupation, snow and ice (non-use) #####\n",
      "['IS']\n",
      "\n",
      "##### Occupation, traffic area, rail/road embankment #####\n",
      "['AE', 'AO', 'BD', 'BH', 'BJ', 'BN', 'BO', 'BR', 'BW', 'CD', 'CG', 'CI', 'CM', 'CO', 'CR', 'CU', 'CW', 'CY', 'DO', 'EC', 'EG', 'ER', 'ET', 'GA', 'GH', 'GI', 'GT', 'HN', 'HT', 'ID', 'IL', 'IS', 'JM', 'JO', 'KE', 'KH', 'KW', 'LB', 'LK', 'LY', 'MG', 'MT', 'MX', 'MY', 'MZ', 'NA', 'NE', 'NG', 'NI', 'OM', 'PA', 'PE', 'PG', 'PH', 'PY', 'QA', 'RW', 'SA', 'SD', 'SG', 'SN', 'SS', 'SV', 'SY', 'TG', 'TH', 'TJ', 'TM', 'TT', 'TZ', 'UY', 'UZ', 'VE', 'VN', 'YE', 'ZA', 'ZM', 'ZW']\n",
      "\n",
      "##### Occupation, unspecified, natural (non-use) #####\n",
      "['IS']\n",
      "\n",
      "##### Occupation, urban, discontinuously built #####\n",
      "['AE', 'AO', 'BD', 'BH', 'BJ', 'BN', 'BO', 'BR', 'BW', 'CD', 'CG', 'CI', 'CM', 'CO', 'CR', 'CU', 'CW', 'CY', 'DO', 'EC', 'EG', 'ER', 'ET', 'GA', 'GH', 'GI', 'GT', 'HN', 'HT', 'ID', 'IL', 'IS', 'JM', 'JO', 'KE', 'KH', 'KW', 'LB', 'LK', 'LY', 'MG', 'MT', 'MX', 'MY', 'MZ', 'NA', 'NE', 'NG', 'NI', 'OM', 'PA', 'PE', 'PG', 'PH', 'PY', 'QA', 'RW', 'SA', 'SD', 'SG', 'SN', 'SS', 'SV', 'SY', 'TG', 'TH', 'TJ', 'TM', 'TT', 'TZ', 'UY', 'UZ', 'VE', 'VN', 'YE', 'ZA', 'ZM', 'ZW']\n",
      "\n",
      "##### Occupation, urban, green area #####\n",
      "['AE', 'AO', 'BD', 'BH', 'BJ', 'BN', 'BO', 'BR', 'BW', 'CD', 'CG', 'CI', 'CM', 'CO', 'CR', 'CU', 'CW', 'CY', 'DO', 'EC', 'EG', 'ER', 'ET', 'GA', 'GH', 'GI', 'GT', 'HN', 'HT', 'ID', 'IL', 'IS', 'JM', 'JO', 'KE', 'KH', 'KW', 'LB', 'LK', 'LY', 'MG', 'MT', 'MX', 'MY', 'MZ', 'NA', 'NE', 'NG', 'NI', 'OM', 'PA', 'PE', 'PG', 'PH', 'PY', 'QA', 'RW', 'SA', 'SD', 'SG', 'SN', 'SS', 'SV', 'SY', 'TG', 'TH', 'TJ', 'TM', 'TT', 'TZ', 'UY', 'UZ', 'VE', 'VN', 'YE', 'ZA', 'ZM', 'ZW']\n",
      "\n",
      "##### Occupation, urban/industrial fallow (non-use) #####\n",
      "['AE', 'AO', 'BD', 'BH', 'BJ', 'BN', 'BO', 'BR', 'BW', 'CD', 'CG', 'CI', 'CM', 'CO', 'CR', 'CU', 'CW', 'CY', 'DO', 'EC', 'EG', 'ER', 'ET', 'GA', 'GH', 'GI', 'GT', 'HN', 'HT', 'ID', 'IL', 'IS', 'JM', 'JO', 'KE', 'KH', 'KW', 'LB', 'LK', 'LY', 'MG', 'MT', 'MX', 'MY', 'MZ', 'NA', 'NE', 'NG', 'NI', 'OM', 'PA', 'PE', 'PG', 'PH', 'PY', 'QA', 'RW', 'SA', 'SD', 'SG', 'SN', 'SS', 'SV', 'SY', 'TG', 'TH', 'TJ', 'TM', 'TT', 'TZ', 'UY', 'UZ', 'VE', 'VN', 'YE', 'ZA', 'ZM', 'ZW']\n",
      "\n",
      "##### Occupation, wetland, coastal (non-use) #####\n",
      "['IS']\n",
      "\n",
      "##### Occupation, wetland, inland (non-use) #####\n",
      "['IS']\n",
      "\n",
      "##### Transformation, from annual crop #####\n",
      "['AE', 'BH', 'CW', 'CY', 'EG', 'GI', 'IL', 'IS', 'JO', 'KW', 'LB', 'LY', 'MT', 'OM', 'QA', 'SA', 'SY', 'TJ', 'TM', 'UZ', 'YE']\n",
      "\n",
      "##### Transformation, from annual crop, flooded crop #####\n",
      "['AE', 'BH', 'CW', 'CY', 'EG', 'GI', 'IL', 'IS', 'JO', 'KW', 'LB', 'LY', 'MT', 'OM', 'QA', 'SA', 'SY', 'TJ', 'TM', 'UZ', 'YE']\n",
      "\n",
      "##### Transformation, from annual crop, greenhouse #####\n",
      "['AE', 'BH', 'CW', 'CY', 'EG', 'GI', 'IL', 'IS', 'JO', 'KW', 'LB', 'LY', 'MT', 'OM', 'QA', 'SA', 'SY', 'TJ', 'TM', 'UZ', 'YE']\n",
      "\n",
      "##### Transformation, from annual crop, irrigated #####\n",
      "['AE', 'BH', 'CW', 'CY', 'EG', 'GI', 'IL', 'IS', 'JO', 'KW', 'LB', 'LY', 'MT', 'OM', 'QA', 'SA', 'SY', 'TJ', 'TM', 'UZ', 'YE']\n",
      "\n",
      "##### Transformation, from annual crop, irrigated, extensive #####\n",
      "['AE', 'BH', 'CW', 'CY', 'EG', 'GI', 'IL', 'IS', 'JO', 'KW', 'LB', 'LY', 'MT', 'OM', 'QA', 'SA', 'SY', 'TJ', 'TM', 'UZ', 'YE']\n",
      "\n",
      "##### Transformation, from annual crop, irrigated, intensive #####\n",
      "['AE', 'BH', 'CW', 'CY', 'EG', 'GI', 'IL', 'IS', 'JO', 'KW', 'LB', 'LY', 'MT', 'OM', 'QA', 'SA', 'SY', 'TJ', 'TM', 'UZ', 'YE']\n",
      "\n",
      "##### Transformation, from annual crop, non-irrigated #####\n",
      "['AE', 'BH', 'CW', 'CY', 'EG', 'GI', 'IL', 'IS', 'JO', 'KW', 'LB', 'LY', 'MT', 'OM', 'QA', 'SA', 'SY', 'TJ', 'TM', 'UZ', 'YE']\n",
      "\n",
      "##### Transformation, from annual crop, non-irrigated, extensive #####\n",
      "['AE', 'BH', 'CW', 'CY', 'EG', 'GI', 'IL', 'IS', 'JO', 'KW', 'LB', 'LY', 'MT', 'OM', 'QA', 'SA', 'SY', 'TJ', 'TM', 'UZ', 'YE']\n",
      "\n",
      "##### Transformation, from annual crop, non-irrigated, intensive #####\n",
      "['AE', 'BH', 'CW', 'CY', 'EG', 'GI', 'IL', 'IS', 'JO', 'KW', 'LB', 'LY', 'MT', 'OM', 'QA', 'SA', 'SY', 'TJ', 'TM', 'UZ', 'YE']\n",
      "\n",
      "##### Transformation, from bare area (non-use) #####\n",
      "['IS']\n",
      "\n",
      "##### Transformation, from cropland fallow (non-use) #####\n",
      "['IS']\n",
      "\n",
      "##### Transformation, from dump site #####\n",
      "['AE', 'AO', 'BD', 'BH', 'BJ', 'BN', 'BO', 'BR', 'BW', 'CD', 'CG', 'CI', 'CM', 'CO', 'CR', 'CU', 'CW', 'CY', 'DO', 'EC', 'EG', 'ER', 'ET', 'GA', 'GH', 'GI', 'GT', 'HN', 'HT', 'ID', 'IL', 'IS', 'JM', 'JO', 'KE', 'KH', 'KW', 'LB', 'LK', 'LY', 'MG', 'MT', 'MX', 'MY', 'MZ', 'NA', 'NE', 'NG', 'NI', 'OM', 'PA', 'PE', 'PG', 'PH', 'PY', 'QA', 'RW', 'SA', 'SD', 'SG', 'SN', 'SS', 'SV', 'SY', 'TG', 'TH', 'TJ', 'TM', 'TT', 'TZ', 'UY', 'UZ', 'VE', 'VN', 'YE', 'ZA', 'ZM', 'ZW']\n",
      "\n",
      "##### Transformation, from dump site, inert material landfill #####\n",
      "['AE', 'AO', 'BD', 'BH', 'BJ', 'BN', 'BO', 'BR', 'BW', 'CD', 'CG', 'CI', 'CM', 'CO', 'CR', 'CU', 'CW', 'CY', 'DO', 'EC', 'EG', 'ER', 'ET', 'GA', 'GH', 'GI', 'GT', 'HN', 'HT', 'ID', 'IL', 'IS', 'JM', 'JO', 'KE', 'KH', 'KW', 'LB', 'LK', 'LY', 'MG', 'MT', 'MX', 'MY', 'MZ', 'NA', 'NE', 'NG', 'NI', 'OM', 'PA', 'PE', 'PG', 'PH', 'PY', 'QA', 'RW', 'SA', 'SD', 'SG', 'SN', 'SS', 'SV', 'SY', 'TG', 'TH', 'TJ', 'TM', 'TT', 'TZ', 'UY', 'UZ', 'VE', 'VN', 'YE', 'ZA', 'ZM', 'ZW']\n",
      "\n",
      "##### Transformation, from dump site, residual material landfill #####\n",
      "['AE', 'AO', 'BD', 'BH', 'BJ', 'BN', 'BO', 'BR', 'BW', 'CD', 'CG', 'CI', 'CM', 'CO', 'CR', 'CU', 'CW', 'CY', 'DO', 'EC', 'EG', 'ER', 'ET', 'GA', 'GH', 'GI', 'GT', 'HN', 'HT', 'ID', 'IL', 'IS', 'JM', 'JO', 'KE', 'KH', 'KW', 'LB', 'LK', 'LY', 'MG', 'MT', 'MX', 'MY', 'MZ', 'NA', 'NE', 'NG', 'NI', 'OM', 'PA', 'PE', 'PG', 'PH', 'PY', 'QA', 'RW', 'SA', 'SD', 'SG', 'SN', 'SS', 'SV', 'SY', 'TG', 'TH', 'TJ', 'TM', 'TT', 'TZ', 'UY', 'UZ', 'VE', 'VN', 'YE', 'ZA', 'ZM', 'ZW']\n",
      "\n",
      "##### Transformation, from dump site, sanitary landfill #####\n",
      "['AE', 'AO', 'BD', 'BH', 'BJ', 'BN', 'BO', 'BR', 'BW', 'CD', 'CG', 'CI', 'CM', 'CO', 'CR', 'CU', 'CW', 'CY', 'DO', 'EC', 'EG', 'ER', 'ET', 'GA', 'GH', 'GI', 'GT', 'HN', 'HT', 'ID', 'IL', 'IS', 'JM', 'JO', 'KE', 'KH', 'KW', 'LB', 'LK', 'LY', 'MG', 'MT', 'MX', 'MY', 'MZ', 'NA', 'NE', 'NG', 'NI', 'OM', 'PA', 'PE', 'PG', 'PH', 'PY', 'QA', 'RW', 'SA', 'SD', 'SG', 'SN', 'SS', 'SV', 'SY', 'TG', 'TH', 'TJ', 'TM', 'TT', 'TZ', 'UY', 'UZ', 'VE', 'VN', 'YE', 'ZA', 'ZM', 'ZW']\n",
      "\n",
      "##### Transformation, from dump site, slag compartment #####\n",
      "['AE', 'AO', 'BD', 'BH', 'BJ', 'BN', 'BO', 'BR', 'BW', 'CD', 'CG', 'CI', 'CM', 'CO', 'CR', 'CU', 'CW', 'CY', 'DO', 'EC', 'EG', 'ER', 'ET', 'GA', 'GH', 'GI', 'GT', 'HN', 'HT', 'ID', 'IL', 'IS', 'JM', 'JO', 'KE', 'KH', 'KW', 'LB', 'LK', 'LY', 'MG', 'MT', 'MX', 'MY', 'MZ', 'NA', 'NE', 'NG', 'NI', 'OM', 'PA', 'PE', 'PG', 'PH', 'PY', 'QA', 'RW', 'SA', 'SD', 'SG', 'SN', 'SS', 'SV', 'SY', 'TG', 'TH', 'TJ', 'TM', 'TT', 'TZ', 'UY', 'UZ', 'VE', 'VN', 'YE', 'ZA', 'ZM', 'ZW']\n",
      "\n",
      "##### Transformation, from field margin/hedgerow #####\n",
      "['IS']\n",
      "\n",
      "##### Transformation, from forest, extensive #####\n",
      "['AE', 'BH', 'CW', 'CY', 'EG', 'GI', 'IL', 'IS', 'JO', 'KW', 'LB', 'LY', 'MT', 'OM', 'QA', 'SA', 'SY', 'YE']\n",
      "\n",
      "##### Transformation, from forest, intensive #####\n",
      "['AE', 'BH', 'CW', 'CY', 'EG', 'GI', 'IL', 'IS', 'JO', 'KW', 'LB', 'LY', 'MT', 'OM', 'QA', 'SA', 'SY', 'YE']\n",
      "\n",
      "##### Transformation, from forest, primary (non-use) #####\n",
      "['IS']\n",
      "\n",
      "##### Transformation, from forest, secondary (non-use) #####\n",
      "['IS']\n",
      "\n",
      "##### Transformation, from forest, unspecified #####\n",
      "['AE', 'BH', 'CW', 'CY', 'EG', 'GI', 'IL', 'IS', 'JO', 'KW', 'LB', 'LY', 'MT', 'OM', 'QA', 'SA', 'SY', 'YE']\n",
      "\n",
      "##### Transformation, from grassland, natural (non-use) #####\n",
      "['IS']\n",
      "\n",
      "##### Transformation, from grassland, natural, for livestock grazing #####\n",
      "['IS']\n",
      "\n",
      "##### Transformation, from pasture, man made #####\n",
      "['IS']\n",
      "\n",
      "##### Transformation, from pasture, man made, extensive #####\n",
      "['IS']\n",
      "\n",
      "##### Transformation, from pasture, man made, intensive #####\n",
      "['IS']\n",
      "\n",
      "##### Transformation, from permanent crop, irrigated #####\n",
      "['AE', 'BH', 'BW', 'CW', 'CY', 'DZ', 'EG', 'GI', 'IL', 'IS', 'JO', 'KG', 'KW', 'KZ', 'LB', 'LY', 'MA', 'MN', 'MT', 'NA', 'NE', 'OM', 'QA', 'SA', 'SN', 'SY', 'TJ', 'TM', 'TN', 'UZ', 'YE', 'ZM', 'ZW']\n",
      "\n",
      "##### Transformation, from permanent crop, irrigated, extensive #####\n",
      "['AE', 'BH', 'BW', 'CW', 'CY', 'DZ', 'EG', 'GI', 'IL', 'IS', 'JO', 'KG', 'KW', 'KZ', 'LB', 'LY', 'MA', 'MN', 'MT', 'NA', 'NE', 'OM', 'QA', 'SA', 'SN', 'SY', 'TJ', 'TM', 'TN', 'UZ', 'YE', 'ZM', 'ZW']\n",
      "\n",
      "##### Transformation, from permanent crop, irrigated, intensive #####\n",
      "['AE', 'BH', 'BW', 'CW', 'CY', 'DZ', 'EG', 'GI', 'IL', 'IS', 'JO', 'KG', 'KW', 'KZ', 'LB', 'LY', 'MA', 'MN', 'MT', 'NA', 'NE', 'OM', 'QA', 'SA', 'SN', 'SY', 'TJ', 'TM', 'TN', 'UZ', 'YE', 'ZM', 'ZW']\n",
      "\n",
      "##### Transformation, from permanent crop, non-irrigated #####\n",
      "['AE', 'BH', 'BW', 'CW', 'CY', 'DZ', 'EG', 'GI', 'IL', 'IS', 'JO', 'KG', 'KW', 'KZ', 'LB', 'LY', 'MA', 'MN', 'MT', 'NA', 'NE', 'OM', 'QA', 'SA', 'SN', 'SY', 'TJ', 'TM', 'TN', 'UZ', 'YE', 'ZM', 'ZW']\n",
      "\n",
      "##### Transformation, from permanent crop, non-irrigated, extensive #####\n",
      "['AE', 'BH', 'BW', 'CW', 'CY', 'DZ', 'EG', 'GI', 'IL', 'IS', 'JO', 'KG', 'KW', 'KZ', 'LB', 'LY', 'MA', 'MN', 'MT', 'NA', 'NE', 'OM', 'QA', 'SA', 'SN', 'SY', 'TJ', 'TM', 'TN', 'UZ', 'YE', 'ZM', 'ZW']\n",
      "\n",
      "##### Transformation, from permanent crop, non-irrigated, intensive #####\n",
      "['AE', 'BH', 'BW', 'CW', 'CY', 'DZ', 'EG', 'GI', 'IL', 'IS', 'JO', 'KG', 'KW', 'KZ', 'LB', 'LY', 'MA', 'MN', 'MT', 'NA', 'NE', 'OM', 'QA', 'SA', 'SN', 'SY', 'TJ', 'TM', 'TN', 'UZ', 'YE', 'ZM', 'ZW']\n",
      "\n",
      "##### Transformation, from seabed, drilling and mining #####\n",
      "['AE', 'AO', 'BD', 'BH', 'BJ', 'BN', 'BO', 'BR', 'BW', 'CD', 'CG', 'CI', 'CM', 'CO', 'CR', 'CU', 'CW', 'CY', 'DO', 'EC', 'EG', 'ER', 'ET', 'GA', 'GH', 'GI', 'GT', 'HN', 'HT', 'ID', 'IL', 'IS', 'JM', 'JO', 'KE', 'KH', 'KW', 'LB', 'LK', 'LY', 'MG', 'MT', 'MX', 'MY', 'MZ', 'NA', 'NE', 'NG', 'NI', 'OM', 'PA', 'PE', 'PG', 'PH', 'PY', 'QA', 'RW', 'SA', 'SD', 'SG', 'SN', 'SS', 'SV', 'SY', 'TG', 'TH', 'TJ', 'TM', 'TT', 'TZ', 'UY', 'UZ', 'VE', 'VN', 'YE', 'ZA', 'ZM', 'ZW']\n",
      "\n",
      "##### Transformation, from seabed, infrastructure #####\n",
      "['AE', 'AO', 'BD', 'BH', 'BJ', 'BN', 'BO', 'BR', 'BW', 'CD', 'CG', 'CI', 'CM', 'CO', 'CR', 'CU', 'CW', 'CY', 'DO', 'EC', 'EG', 'ER', 'ET', 'GA', 'GH', 'GI', 'GT', 'HN', 'HT', 'ID', 'IL', 'IS', 'JM', 'JO', 'KE', 'KH', 'KW', 'LB', 'LK', 'LY', 'MG', 'MT', 'MX', 'MY', 'MZ', 'NA', 'NE', 'NG', 'NI', 'OM', 'PA', 'PE', 'PG', 'PH', 'PY', 'QA', 'RW', 'SA', 'SD', 'SG', 'SN', 'SS', 'SV', 'SY', 'TG', 'TH', 'TJ', 'TM', 'TT', 'TZ', 'UY', 'UZ', 'VE', 'VN', 'YE', 'ZA', 'ZM', 'ZW']\n",
      "\n",
      "##### Transformation, from seabed, unspecified #####\n",
      "['AE', 'AO', 'BD', 'BH', 'BJ', 'BN', 'BO', 'BR', 'BW', 'CD', 'CG', 'CI', 'CM', 'CO', 'CR', 'CU', 'CW', 'CY', 'DO', 'EC', 'EG', 'ER', 'ET', 'GA', 'GH', 'GI', 'GT', 'HN', 'HT', 'ID', 'IL', 'IS', 'JM', 'JO', 'KE', 'KH', 'KW', 'LB', 'LK', 'LY', 'MG', 'MT', 'MX', 'MY', 'MZ', 'NA', 'NE', 'NG', 'NI', 'OM', 'PA', 'PE', 'PG', 'PH', 'PY', 'QA', 'RW', 'SA', 'SD', 'SG', 'SN', 'SS', 'SV', 'SY', 'TG', 'TH', 'TJ', 'TM', 'TT', 'TZ', 'UY', 'UZ', 'VE', 'VN', 'YE', 'ZA', 'ZM', 'ZW']\n",
      "\n",
      "##### Transformation, from shrub land, sclerophyllous #####\n",
      "['AE', 'BH', 'CW', 'CY', 'EG', 'GI', 'IL', 'IS', 'JO', 'KW', 'LB', 'LY', 'MT', 'OM', 'QA', 'SA', 'SY', 'YE']\n",
      "\n",
      "##### Transformation, from snow and ice (non-use) #####\n",
      "['IS']\n",
      "\n",
      "##### Transformation, from traffic area, rail network #####\n",
      "['AE', 'AO', 'BD', 'BH', 'BJ', 'BN', 'BO', 'BR', 'BW', 'CD', 'CG', 'CI', 'CM', 'CO', 'CR', 'CU', 'CW', 'CY', 'DO', 'EC', 'EG', 'ER', 'ET', 'GA', 'GH', 'GI', 'GT', 'HN', 'HT', 'ID', 'IL', 'IS', 'JM', 'JO', 'KE', 'KH', 'KW', 'LB', 'LK', 'LY', 'MG', 'MT', 'MX', 'MY', 'MZ', 'NA', 'NE', 'NG', 'NI', 'OM', 'PA', 'PE', 'PG', 'PH', 'PY', 'QA', 'RW', 'SA', 'SD', 'SG', 'SN', 'SS', 'SV', 'SY', 'TG', 'TH', 'TJ', 'TM', 'TT', 'TZ', 'UY', 'UZ', 'VE', 'VN', 'YE', 'ZA', 'ZM', 'ZW']\n",
      "\n",
      "##### Transformation, from traffic area, rail/road embankment #####\n",
      "['AE', 'AO', 'BD', 'BH', 'BJ', 'BN', 'BO', 'BR', 'BW', 'CD', 'CG', 'CI', 'CM', 'CO', 'CR', 'CU', 'CW', 'CY', 'DO', 'EC', 'EG', 'ER', 'ET', 'GA', 'GH', 'GI', 'GT', 'HN', 'HT', 'ID', 'IL', 'IS', 'JM', 'JO', 'KE', 'KH', 'KW', 'LB', 'LK', 'LY', 'MG', 'MT', 'MX', 'MY', 'MZ', 'NA', 'NE', 'NG', 'NI', 'OM', 'PA', 'PE', 'PG', 'PH', 'PY', 'QA', 'RW', 'SA', 'SD', 'SG', 'SN', 'SS', 'SV', 'SY', 'TG', 'TH', 'TJ', 'TM', 'TT', 'TZ', 'UY', 'UZ', 'VE', 'VN', 'YE', 'ZA', 'ZM', 'ZW']\n",
      "\n",
      "##### Transformation, from traffic area, road network #####\n",
      "['AE', 'AO', 'BD', 'BH', 'BJ', 'BN', 'BO', 'BR', 'BW', 'CD', 'CG', 'CI', 'CM', 'CO', 'CR', 'CU', 'CW', 'CY', 'DO', 'EC', 'EG', 'ER', 'ET', 'GA', 'GH', 'GI', 'GT', 'HN', 'HT', 'ID', 'IL', 'IS', 'JM', 'JO', 'KE', 'KH', 'KW', 'LB', 'LK', 'LY', 'MG', 'MT', 'MX', 'MY', 'MZ', 'NA', 'NE', 'NG', 'NI', 'OM', 'PA', 'PE', 'PG', 'PH', 'PY', 'QA', 'RW', 'SA', 'SD', 'SG', 'SN', 'SS', 'SV', 'SY', 'TG', 'TH', 'TJ', 'TM', 'TT', 'TZ', 'UY', 'UZ', 'VE', 'VN', 'YE', 'ZA', 'ZM', 'ZW']\n",
      "\n",
      "##### Transformation, from unknown #####\n",
      "['AE', 'AL', 'AM', 'AO', 'AR', 'AT', 'AU', 'AZ', 'BA', 'BD', 'BE', 'BG', 'BH', 'BJ', 'BN', 'BO', 'BR', 'BW', 'BY', 'CA', 'CD', 'CG', 'CH', 'CI', 'CL', 'CM', 'CN', 'CO', 'CR', 'CU', 'CW', 'CY', 'CZ', 'DE', 'DK', 'DO', 'DZ', 'EC', 'EE', 'EG', 'ER', 'ES', 'ET', 'FI', 'FR', 'GA', 'GB', 'GE', 'GH', 'GI', 'GLO', 'GR', 'GT', 'HN', 'HR', 'HT', 'HU', 'ID', 'IE', 'IL', 'IN', 'IQ', 'IR', 'IS', 'IT', 'JM', 'JO', 'JP', 'KE', 'KG', 'KH', 'KP', 'KR', 'KW', 'KZ', 'LB', 'LK', 'LT', 'LU', 'LV', 'LY', 'MA', 'MD', 'ME', 'MG', 'MK', 'MM', 'MN', 'MT', 'MX', 'MY', 'MZ', 'NA', 'NE', 'NG', 'NI', 'NL', 'NO', 'NP', 'NZ', 'OM', 'PA', 'PE', 'PG', 'PH', 'PK', 'PL', 'PT', 'PY', 'QA', 'RO', 'RS', 'RU', 'RW', 'SA', 'SD', 'SE', 'SG', 'SI', 'SK', 'SN', 'SS', 'SV', 'SY', 'TG', 'TH', 'TJ', 'TM', 'TN', 'TR', 'TT', 'TZ', 'UA', 'US', 'UY', 'UZ', 'VE', 'VN', 'YE', 'ZA', 'ZM', 'ZW']\n",
      "\n",
      "##### Transformation, from urban, discontinuously built #####\n",
      "['AE', 'AO', 'BD', 'BH', 'BJ', 'BN', 'BO', 'BR', 'BW', 'CD', 'CG', 'CI', 'CM', 'CO', 'CR', 'CU', 'CW', 'CY', 'DO', 'EC', 'EG', 'ER', 'ET', 'GA', 'GH', 'GI', 'GT', 'HN', 'HT', 'ID', 'IL', 'IS', 'JM', 'JO', 'KE', 'KH', 'KW', 'LB', 'LK', 'LY', 'MG', 'MT', 'MX', 'MY', 'MZ', 'NA', 'NE', 'NG', 'NI', 'OM', 'PA', 'PE', 'PG', 'PH', 'PY', 'QA', 'RW', 'SA', 'SD', 'SG', 'SN', 'SS', 'SV', 'SY', 'TG', 'TH', 'TJ', 'TM', 'TT', 'TZ', 'UY', 'UZ', 'VE', 'VN', 'YE', 'ZA', 'ZM', 'ZW']\n",
      "\n",
      "##### Transformation, from urban/industrial fallow (non-use) #####\n",
      "['AE', 'AO', 'BD', 'BH', 'BJ', 'BN', 'BO', 'BR', 'BW', 'CD', 'CG', 'CI', 'CM', 'CO', 'CR', 'CU', 'CW', 'CY', 'DO', 'EC', 'EG', 'ER', 'ET', 'GA', 'GH', 'GI', 'GT', 'HN', 'HT', 'ID', 'IL', 'IS', 'JM', 'JO', 'KE', 'KH', 'KW', 'LB', 'LK', 'LY', 'MG', 'MT', 'MX', 'MY', 'MZ', 'NA', 'NE', 'NG', 'NI', 'OM', 'PA', 'PE', 'PG', 'PH', 'PY', 'QA', 'RW', 'SA', 'SD', 'SG', 'SN', 'SS', 'SV', 'SY', 'TG', 'TH', 'TJ', 'TM', 'TT', 'TZ', 'UY', 'UZ', 'VE', 'VN', 'YE', 'ZA', 'ZM', 'ZW']\n",
      "\n",
      "##### Transformation, from wetland, coastal (non-use) #####\n",
      "['IS']\n",
      "\n",
      "##### Transformation, from wetland, inland (non-use) #####\n",
      "['IS']\n",
      "\n",
      "##### Transformation, to annual crop #####\n",
      "['AE', 'BH', 'CW', 'CY', 'EG', 'GI', 'IL', 'IS', 'JO', 'KW', 'LB', 'LY', 'MT', 'OM', 'QA', 'SA', 'SY', 'TJ', 'TM', 'UZ', 'YE']\n",
      "\n",
      "##### Transformation, to annual crop, flooded crop #####\n",
      "['AE', 'BH', 'CW', 'CY', 'EG', 'GI', 'IL', 'IS', 'JO', 'KW', 'LB', 'LY', 'MT', 'OM', 'QA', 'SA', 'SY', 'TJ', 'TM', 'UZ', 'YE']\n",
      "\n",
      "##### Transformation, to annual crop, greenhouse #####\n",
      "['AE', 'BH', 'CW', 'CY', 'EG', 'GI', 'IL', 'IS', 'JO', 'KW', 'LB', 'LY', 'MT', 'OM', 'QA', 'SA', 'SY', 'TJ', 'TM', 'UZ', 'YE']\n",
      "\n",
      "##### Transformation, to annual crop, irrigated #####\n",
      "['AE', 'BH', 'CW', 'CY', 'EG', 'GI', 'IL', 'IS', 'JO', 'KW', 'LB', 'LY', 'MT', 'OM', 'QA', 'SA', 'SY', 'TJ', 'TM', 'UZ', 'YE']\n",
      "\n",
      "##### Transformation, to annual crop, irrigated, extensive #####\n",
      "['AE', 'BH', 'CW', 'CY', 'EG', 'GI', 'IL', 'IS', 'JO', 'KW', 'LB', 'LY', 'MT', 'OM', 'QA', 'SA', 'SY', 'TJ', 'TM', 'UZ', 'YE']\n",
      "\n",
      "##### Transformation, to annual crop, irrigated, intensive #####\n",
      "['AE', 'BH', 'CW', 'CY', 'EG', 'GI', 'IL', 'IS', 'JO', 'KW', 'LB', 'LY', 'MT', 'OM', 'QA', 'SA', 'SY', 'TJ', 'TM', 'UZ', 'YE']\n",
      "\n",
      "##### Transformation, to annual crop, non-irrigated #####\n",
      "['AE', 'BH', 'CW', 'CY', 'EG', 'GI', 'IL', 'IS', 'JO', 'KW', 'LB', 'LY', 'MT', 'OM', 'QA', 'SA', 'SY', 'TJ', 'TM', 'UZ', 'YE']\n",
      "\n",
      "##### Transformation, to annual crop, non-irrigated, extensive #####\n",
      "['AE', 'BH', 'CW', 'CY', 'EG', 'GI', 'IL', 'IS', 'JO', 'KW', 'LB', 'LY', 'MT', 'OM', 'QA', 'SA', 'SY', 'TJ', 'TM', 'UZ', 'YE']\n",
      "\n",
      "##### Transformation, to annual crop, non-irrigated, intensive #####\n",
      "['AE', 'BH', 'CW', 'CY', 'EG', 'GI', 'IL', 'IS', 'JO', 'KW', 'LB', 'LY', 'MT', 'OM', 'QA', 'SA', 'SY', 'TJ', 'TM', 'UZ', 'YE']\n",
      "\n",
      "##### Transformation, to bare area (non-use) #####\n",
      "['IS']\n",
      "\n",
      "##### Transformation, to cropland fallow (non-use) #####\n",
      "['IS']\n",
      "\n",
      "##### Transformation, to dump site, inert material landfill #####\n",
      "['AE', 'AO', 'BD', 'BH', 'BJ', 'BN', 'BO', 'BR', 'BW', 'CD', 'CG', 'CI', 'CM', 'CO', 'CR', 'CU', 'CW', 'CY', 'DO', 'EC', 'EG', 'ER', 'ET', 'GA', 'GH', 'GI', 'GT', 'HN', 'HT', 'ID', 'IL', 'IS', 'JM', 'JO', 'KE', 'KH', 'KW', 'LB', 'LK', 'LY', 'MG', 'MT', 'MX', 'MY', 'MZ', 'NA', 'NE', 'NG', 'NI', 'OM', 'PA', 'PE', 'PG', 'PH', 'PY', 'QA', 'RW', 'SA', 'SD', 'SG', 'SN', 'SS', 'SV', 'SY', 'TG', 'TH', 'TJ', 'TM', 'TT', 'TZ', 'UY', 'UZ', 'VE', 'VN', 'YE', 'ZA', 'ZM', 'ZW']\n",
      "\n",
      "##### Transformation, to dump site, residual material landfill #####\n",
      "['AE', 'AO', 'BD', 'BH', 'BJ', 'BN', 'BO', 'BR', 'BW', 'CD', 'CG', 'CI', 'CM', 'CO', 'CR', 'CU', 'CW', 'CY', 'DO', 'EC', 'EG', 'ER', 'ET', 'GA', 'GH', 'GI', 'GT', 'HN', 'HT', 'ID', 'IL', 'IS', 'JM', 'JO', 'KE', 'KH', 'KW', 'LB', 'LK', 'LY', 'MG', 'MT', 'MX', 'MY', 'MZ', 'NA', 'NE', 'NG', 'NI', 'OM', 'PA', 'PE', 'PG', 'PH', 'PY', 'QA', 'RW', 'SA', 'SD', 'SG', 'SN', 'SS', 'SV', 'SY', 'TG', 'TH', 'TJ', 'TM', 'TT', 'TZ', 'UY', 'UZ', 'VE', 'VN', 'YE', 'ZA', 'ZM', 'ZW']\n",
      "\n",
      "##### Transformation, to dump site, sanitary landfill #####\n",
      "['AE', 'AO', 'BD', 'BH', 'BJ', 'BN', 'BO', 'BR', 'BW', 'CD', 'CG', 'CI', 'CM', 'CO', 'CR', 'CU', 'CW', 'CY', 'DO', 'EC', 'EG', 'ER', 'ET', 'GA', 'GH', 'GI', 'GT', 'HN', 'HT', 'ID', 'IL', 'IS', 'JM', 'JO', 'KE', 'KH', 'KW', 'LB', 'LK', 'LY', 'MG', 'MT', 'MX', 'MY', 'MZ', 'NA', 'NE', 'NG', 'NI', 'OM', 'PA', 'PE', 'PG', 'PH', 'PY', 'QA', 'RW', 'SA', 'SD', 'SG', 'SN', 'SS', 'SV', 'SY', 'TG', 'TH', 'TJ', 'TM', 'TT', 'TZ', 'UY', 'UZ', 'VE', 'VN', 'YE', 'ZA', 'ZM', 'ZW']\n",
      "\n",
      "##### Transformation, to dump site, slag compartment #####\n",
      "['AE', 'AO', 'BD', 'BH', 'BJ', 'BN', 'BO', 'BR', 'BW', 'CD', 'CG', 'CI', 'CM', 'CO', 'CR', 'CU', 'CW', 'CY', 'DO', 'EC', 'EG', 'ER', 'ET', 'GA', 'GH', 'GI', 'GT', 'HN', 'HT', 'ID', 'IL', 'IS', 'JM', 'JO', 'KE', 'KH', 'KW', 'LB', 'LK', 'LY', 'MG', 'MT', 'MX', 'MY', 'MZ', 'NA', 'NE', 'NG', 'NI', 'OM', 'PA', 'PE', 'PG', 'PH', 'PY', 'QA', 'RW', 'SA', 'SD', 'SG', 'SN', 'SS', 'SV', 'SY', 'TG', 'TH', 'TJ', 'TM', 'TT', 'TZ', 'UY', 'UZ', 'VE', 'VN', 'YE', 'ZA', 'ZM', 'ZW']\n",
      "\n",
      "##### Transformation, to field margin/hedgerow #####\n",
      "['IS']\n",
      "\n",
      "##### Transformation, to forest, extensive #####\n",
      "['AE', 'BH', 'CW', 'CY', 'EG', 'GI', 'IL', 'IS', 'JO', 'KW', 'LB', 'LY', 'MT', 'OM', 'QA', 'SA', 'SY', 'YE']\n",
      "\n",
      "##### Transformation, to forest, intensive #####\n",
      "['AE', 'BH', 'CW', 'CY', 'EG', 'GI', 'IL', 'IS', 'JO', 'KW', 'LB', 'LY', 'MT', 'OM', 'QA', 'SA', 'SY', 'YE']\n",
      "\n",
      "##### Transformation, to forest, primary (non-use) #####\n",
      "['IS']\n",
      "\n",
      "##### Transformation, to forest, secondary (non-use) #####\n",
      "['IS']\n",
      "\n",
      "##### Transformation, to forest, unspecified #####\n",
      "['AE', 'BH', 'CW', 'CY', 'EG', 'GI', 'IL', 'IS', 'JO', 'KW', 'LB', 'LY', 'MT', 'OM', 'QA', 'SA', 'SY', 'YE']\n",
      "\n",
      "##### Transformation, to grassland, natural (non-use) #####\n",
      "['IS']\n",
      "\n",
      "##### Transformation, to grassland, natural, for livestock grazing #####\n",
      "['IS']\n",
      "\n",
      "##### Transformation, to pasture, man made #####\n",
      "['IS']\n",
      "\n",
      "##### Transformation, to pasture, man made, extensive #####\n",
      "['IS']\n",
      "\n",
      "##### Transformation, to pasture, man made, intensive #####\n",
      "['IS']\n",
      "\n",
      "##### Transformation, to permanent crop #####\n",
      "['AE', 'BH', 'BW', 'CW', 'CY', 'DZ', 'EG', 'GI', 'IL', 'IS', 'JO', 'KG', 'KW', 'KZ', 'LB', 'LY', 'MA', 'MN', 'MT', 'NA', 'NE', 'OM', 'QA', 'SA', 'SN', 'SY', 'TJ', 'TM', 'TN', 'UZ', 'YE', 'ZM', 'ZW']\n",
      "\n",
      "##### Transformation, to permanent crop, irrigated #####\n",
      "['AE', 'BH', 'BW', 'CW', 'CY', 'DZ', 'EG', 'GI', 'IL', 'IS', 'JO', 'KG', 'KW', 'KZ', 'LB', 'LY', 'MA', 'MN', 'MT', 'NA', 'NE', 'OM', 'QA', 'SA', 'SN', 'SY', 'TJ', 'TM', 'TN', 'UZ', 'YE', 'ZM', 'ZW']\n",
      "\n",
      "##### Transformation, to permanent crop, irrigated, extensive #####\n",
      "['AE', 'BH', 'BW', 'CW', 'CY', 'DZ', 'EG', 'GI', 'IL', 'IS', 'JO', 'KG', 'KW', 'KZ', 'LB', 'LY', 'MA', 'MN', 'MT', 'NA', 'NE', 'OM', 'QA', 'SA', 'SN', 'SY', 'TJ', 'TM', 'TN', 'UZ', 'YE', 'ZM', 'ZW']\n",
      "\n",
      "##### Transformation, to permanent crop, irrigated, intensive #####\n",
      "['AE', 'BH', 'BW', 'CW', 'CY', 'DZ', 'EG', 'GI', 'IL', 'IS', 'JO', 'KG', 'KW', 'KZ', 'LB', 'LY', 'MA', 'MN', 'MT', 'NA', 'NE', 'OM', 'QA', 'SA', 'SN', 'SY', 'TJ', 'TM', 'TN', 'UZ', 'YE', 'ZM', 'ZW']\n",
      "\n",
      "##### Transformation, to permanent crop, non-irrigated #####\n",
      "['AE', 'BH', 'BW', 'CW', 'CY', 'DZ', 'EG', 'GI', 'IL', 'IS', 'JO', 'KG', 'KW', 'KZ', 'LB', 'LY', 'MA', 'MN', 'MT', 'NA', 'NE', 'OM', 'QA', 'SA', 'SN', 'SY', 'TJ', 'TM', 'TN', 'UZ', 'YE', 'ZM', 'ZW']\n",
      "\n",
      "##### Transformation, to permanent crop, non-irrigated, extensive #####\n",
      "['AE', 'BH', 'BW', 'CW', 'CY', 'DZ', 'EG', 'GI', 'IL', 'IS', 'JO', 'KG', 'KW', 'KZ', 'LB', 'LY', 'MA', 'MN', 'MT', 'NA', 'NE', 'OM', 'QA', 'SA', 'SN', 'SY', 'TJ', 'TM', 'TN', 'UZ', 'YE', 'ZM', 'ZW']\n",
      "\n",
      "##### Transformation, to permanent crop, non-irrigated, intensive #####\n",
      "['AE', 'BH', 'BW', 'CW', 'CY', 'DZ', 'EG', 'GI', 'IL', 'IS', 'JO', 'KG', 'KW', 'KZ', 'LB', 'LY', 'MA', 'MN', 'MT', 'NA', 'NE', 'OM', 'QA', 'SA', 'SN', 'SY', 'TJ', 'TM', 'TN', 'UZ', 'YE', 'ZM', 'ZW']\n",
      "\n",
      "##### Transformation, to seabed, drilling and mining #####\n",
      "['AE', 'AO', 'BD', 'BH', 'BJ', 'BN', 'BO', 'BR', 'BW', 'CD', 'CG', 'CI', 'CM', 'CO', 'CR', 'CU', 'CW', 'CY', 'DO', 'EC', 'EG', 'ER', 'ET', 'GA', 'GH', 'GI', 'GT', 'HN', 'HT', 'ID', 'IL', 'IS', 'JM', 'JO', 'KE', 'KH', 'KW', 'LB', 'LK', 'LY', 'MG', 'MT', 'MX', 'MY', 'MZ', 'NA', 'NE', 'NG', 'NI', 'OM', 'PA', 'PE', 'PG', 'PH', 'PY', 'QA', 'RW', 'SA', 'SD', 'SG', 'SN', 'SS', 'SV', 'SY', 'TG', 'TH', 'TJ', 'TM', 'TT', 'TZ', 'UY', 'UZ', 'VE', 'VN', 'YE', 'ZA', 'ZM', 'ZW']\n",
      "\n",
      "##### Transformation, to seabed, infrastructure #####\n",
      "['AE', 'AO', 'BD', 'BH', 'BJ', 'BN', 'BO', 'BR', 'BW', 'CD', 'CG', 'CI', 'CM', 'CO', 'CR', 'CU', 'CW', 'CY', 'DO', 'EC', 'EG', 'ER', 'ET', 'GA', 'GH', 'GI', 'GT', 'HN', 'HT', 'ID', 'IL', 'IS', 'JM', 'JO', 'KE', 'KH', 'KW', 'LB', 'LK', 'LY', 'MG', 'MT', 'MX', 'MY', 'MZ', 'NA', 'NE', 'NG', 'NI', 'OM', 'PA', 'PE', 'PG', 'PH', 'PY', 'QA', 'RW', 'SA', 'SD', 'SG', 'SN', 'SS', 'SV', 'SY', 'TG', 'TH', 'TJ', 'TM', 'TT', 'TZ', 'UY', 'UZ', 'VE', 'VN', 'YE', 'ZA', 'ZM', 'ZW']\n",
      "\n",
      "##### Transformation, to seabed, unspecified #####\n",
      "['AE', 'AO', 'BD', 'BH', 'BJ', 'BN', 'BO', 'BR', 'BW', 'CD', 'CG', 'CI', 'CM', 'CO', 'CR', 'CU', 'CW', 'CY', 'DO', 'EC', 'EG', 'ER', 'ET', 'GA', 'GH', 'GI', 'GT', 'HN', 'HT', 'ID', 'IL', 'IS', 'JM', 'JO', 'KE', 'KH', 'KW', 'LB', 'LK', 'LY', 'MG', 'MT', 'MX', 'MY', 'MZ', 'NA', 'NE', 'NG', 'NI', 'OM', 'PA', 'PE', 'PG', 'PH', 'PY', 'QA', 'RW', 'SA', 'SD', 'SG', 'SN', 'SS', 'SV', 'SY', 'TG', 'TH', 'TJ', 'TM', 'TT', 'TZ', 'UY', 'UZ', 'VE', 'VN', 'YE', 'ZA', 'ZM', 'ZW']\n",
      "\n",
      "##### Transformation, to shrub land, sclerophyllous #####\n",
      "['AE', 'BH', 'CW', 'CY', 'EG', 'GI', 'IL', 'IS', 'JO', 'KW', 'LB', 'LY', 'MT', 'OM', 'QA', 'SA', 'SY', 'YE']\n",
      "\n",
      "##### Transformation, to snow and ice (non-use) #####\n",
      "['IS']\n",
      "\n",
      "##### Transformation, to traffic area, rail/road embankment #####\n",
      "['AE', 'AO', 'BD', 'BH', 'BJ', 'BN', 'BO', 'BR', 'BW', 'CD', 'CG', 'CI', 'CM', 'CO', 'CR', 'CU', 'CW', 'CY', 'DO', 'EC', 'EG', 'ER', 'ET', 'GA', 'GH', 'GI', 'GT', 'HN', 'HT', 'ID', 'IL', 'IS', 'JM', 'JO', 'KE', 'KH', 'KW', 'LB', 'LK', 'LY', 'MG', 'MT', 'MX', 'MY', 'MZ', 'NA', 'NE', 'NG', 'NI', 'OM', 'PA', 'PE', 'PG', 'PH', 'PY', 'QA', 'RW', 'SA', 'SD', 'SG', 'SN', 'SS', 'SV', 'SY', 'TG', 'TH', 'TJ', 'TM', 'TT', 'TZ', 'UY', 'UZ', 'VE', 'VN', 'YE', 'ZA', 'ZM', 'ZW']\n",
      "\n",
      "##### Transformation, to unknown #####\n",
      "['AE', 'AL', 'AM', 'AO', 'AR', 'AT', 'AU', 'AZ', 'BA', 'BD', 'BE', 'BG', 'BH', 'BJ', 'BN', 'BO', 'BR', 'BW', 'BY', 'CA', 'CD', 'CG', 'CH', 'CI', 'CL', 'CM', 'CN', 'CO', 'CR', 'CU', 'CW', 'CY', 'CZ', 'DE', 'DK', 'DO', 'DZ', 'EC', 'EE', 'EG', 'ER', 'ES', 'ET', 'FI', 'FR', 'GA', 'GB', 'GE', 'GH', 'GI', 'GLO', 'GR', 'GT', 'HN', 'HR', 'HT', 'HU', 'ID', 'IE', 'IL', 'IN', 'IQ', 'IR', 'IS', 'IT', 'JM', 'JO', 'JP', 'KE', 'KG', 'KH', 'KP', 'KR', 'KW', 'KZ', 'LB', 'LK', 'LT', 'LU', 'LV', 'LY', 'MA', 'MD', 'ME', 'MG', 'MK', 'MM', 'MN', 'MT', 'MX', 'MY', 'MZ', 'NA', 'NE', 'NG', 'NI', 'NL', 'NO', 'NP', 'NZ', 'OM', 'PA', 'PE', 'PG', 'PH', 'PK', 'PL', 'PT', 'PY', 'QA', 'RO', 'RS', 'RU', 'RW', 'SA', 'SD', 'SE', 'SG', 'SI', 'SK', 'SN', 'SS', 'SV', 'SY', 'TG', 'TH', 'TJ', 'TM', 'TN', 'TR', 'TT', 'TZ', 'UA', 'US', 'UY', 'UZ', 'VE', 'VN', 'YE', 'ZA', 'ZM', 'ZW']\n",
      "\n",
      "##### Transformation, to unspecified, natural (non-use) #####\n",
      "['IS']\n",
      "\n",
      "##### Transformation, to urban, discontinuously built #####\n",
      "['AE', 'AO', 'BD', 'BH', 'BJ', 'BN', 'BO', 'BR', 'BW', 'CD', 'CG', 'CI', 'CM', 'CO', 'CR', 'CU', 'CW', 'CY', 'DO', 'EC', 'EG', 'ER', 'ET', 'GA', 'GH', 'GI', 'GT', 'HN', 'HT', 'ID', 'IL', 'IS', 'JM', 'JO', 'KE', 'KH', 'KW', 'LB', 'LK', 'LY', 'MG', 'MT', 'MX', 'MY', 'MZ', 'NA', 'NE', 'NG', 'NI', 'OM', 'PA', 'PE', 'PG', 'PH', 'PY', 'QA', 'RW', 'SA', 'SD', 'SG', 'SN', 'SS', 'SV', 'SY', 'TG', 'TH', 'TJ', 'TM', 'TT', 'TZ', 'UY', 'UZ', 'VE', 'VN', 'YE', 'ZA', 'ZM', 'ZW']\n",
      "\n",
      "##### Transformation, to urban, green area #####\n",
      "['AE', 'AO', 'BD', 'BH', 'BJ', 'BN', 'BO', 'BR', 'BW', 'CD', 'CG', 'CI', 'CM', 'CO', 'CR', 'CU', 'CW', 'CY', 'DO', 'EC', 'EG', 'ER', 'ET', 'GA', 'GH', 'GI', 'GT', 'HN', 'HT', 'ID', 'IL', 'IS', 'JM', 'JO', 'KE', 'KH', 'KW', 'LB', 'LK', 'LY', 'MG', 'MT', 'MX', 'MY', 'MZ', 'NA', 'NE', 'NG', 'NI', 'OM', 'PA', 'PE', 'PG', 'PH', 'PY', 'QA', 'RW', 'SA', 'SD', 'SG', 'SN', 'SS', 'SV', 'SY', 'TG', 'TH', 'TJ', 'TM', 'TT', 'TZ', 'UY', 'UZ', 'VE', 'VN', 'YE', 'ZA', 'ZM', 'ZW']\n",
      "\n",
      "##### Transformation, to urban/industrial fallow (non-use) #####\n",
      "['AE', 'AO', 'BD', 'BH', 'BJ', 'BN', 'BO', 'BR', 'BW', 'CD', 'CG', 'CI', 'CM', 'CO', 'CR', 'CU', 'CW', 'CY', 'DO', 'EC', 'EG', 'ER', 'ET', 'GA', 'GH', 'GI', 'GT', 'HN', 'HT', 'ID', 'IL', 'IS', 'JM', 'JO', 'KE', 'KH', 'KW', 'LB', 'LK', 'LY', 'MG', 'MT', 'MX', 'MY', 'MZ', 'NA', 'NE', 'NG', 'NI', 'OM', 'PA', 'PE', 'PG', 'PH', 'PY', 'QA', 'RW', 'SA', 'SD', 'SG', 'SN', 'SS', 'SV', 'SY', 'TG', 'TH', 'TJ', 'TM', 'TT', 'TZ', 'UY', 'UZ', 'VE', 'VN', 'YE', 'ZA', 'ZM', 'ZW']\n",
      "\n",
      "##### Transformation, to wetland, coastal (non-use) #####\n",
      "['IS']\n",
      "\n",
      "##### Transformation, to wetland, inland (non-use) #####\n",
      "['IS']\n",
      "\n"
     ]
    }
   ],
   "execution_count": 39
  },
  {
   "metadata": {},
   "cell_type": "markdown",
   "source": "However, all of these flows are not necessarily used in ecoinvent. ",
   "id": "2866fee6b79c68a4"
  },
  {
   "metadata": {},
   "cell_type": "markdown",
   "source": "### Add missing biosphere flows to regioinvent's biosphere database",
   "id": "e11f772865d78f0a"
  },
  {
   "metadata": {
    "ExecuteTime": {
     "end_time": "2024-11-22T20:10:09.560332Z",
     "start_time": "2024-11-22T20:10:07.887594Z"
    }
   },
   "cell_type": "code",
   "source": [
    "# Check if those flows would be used in ecoinvent database\n",
    "missing_flows_used_in_ei = []\n",
    "all_missing_loc = list(set([i[1].rsplit(', ', 1)[-1] for i in unlinked])) # all missing locations retrieved from the unlinked list\n",
    "for loc in all_missing_loc:\n",
    "    missing_flows_for_loc = [i[1].rsplit(', ', 1)[0] for i in unlinked if i[1].rsplit(', ', 1)[-1] == loc] # all types of unlinked flows with this location\n",
    "    activities_of_loc = [i for i in ei_database.db_as_list if i['location'] == loc] # list of ecoinvent activities for this location\n",
    "    for act in activities_of_loc:\n",
    "        biosphere_flows = Dataset(act).get_biosphere_flows() # list of biosphere flows in the activity exchanges \n",
    "        for flow in biosphere_flows:\n",
    "            if flow['name'] in missing_flows_for_loc:\n",
    "                missing_flows_used_in_ei.append([act[\"name\"], act[\"location\"], flow[\"name\"], flow[\"categories\"], flow[\"unit\"]])"
   ],
   "id": "79016a0ff792d6da",
   "outputs": [],
   "execution_count": 40
  },
  {
   "metadata": {
    "ExecuteTime": {
     "end_time": "2024-11-22T20:10:09.567078Z",
     "start_time": "2024-11-22T20:10:09.560972Z"
    }
   },
   "cell_type": "code",
   "source": [
    "# create a dictionary with the useful missing flows as key (name, categories, unit) and the list of missing locations as values \n",
    "missing_flows_used_in_ei_dict = {}\n",
    "counter = 0\n",
    "for i in missing_flows_used_in_ei:\n",
    "    if (i[2], i[3], i[4]) in missing_flows_used_in_ei_dict.keys():\n",
    "        if i[1] not in missing_flows_used_in_ei_dict[(i[2], i[3], i[4])]:\n",
    "            missing_flows_used_in_ei_dict[(i[2], i[3], i[4])].append(i[1])\n",
    "            counter += 1\n",
    "    else:\n",
    "        missing_flows_used_in_ei_dict[(i[2], i[3], i[4])] = [i[1]]\n",
    "        counter += 1"
   ],
   "id": "79d928203a683b99",
   "outputs": [],
   "execution_count": 41
  },
  {
   "metadata": {
    "ExecuteTime": {
     "end_time": "2024-11-22T20:10:09.574404Z",
     "start_time": "2024-11-22T20:10:09.567078Z"
    }
   },
   "cell_type": "code",
   "source": [
    "# for each missing flow and associated list of locations, create a new flow in the spatialized biosphere database\n",
    "for key in missing_flows_used_in_ei_dict.keys():\n",
    "    for loc in missing_flows_dict[key[0]]:\n",
    "        new_biosphere_act = {\n",
    "            'name': f'{key[0]}, {loc}',\n",
    "            'categories': key[1],\n",
    "            'unit': key[2],\n",
    "            'code': random_code(),\n",
    "            'database':'biosphere3_spatialized_flows_EF',\n",
    "        }\n",
    "        new_spatialized_biosphere_db.db_as_list.append(new_biosphere_act)"
   ],
   "id": "400ab7f9b72db9a0",
   "outputs": [],
   "execution_count": 42
  },
  {
   "metadata": {
    "ExecuteTime": {
     "end_time": "2024-11-22T20:10:09.581494Z",
     "start_time": "2024-11-22T20:10:09.574404Z"
    }
   },
   "cell_type": "code",
   "source": [
    "if write_new_spatialized_biosphere:\n",
    "    new_spatialized_biosphere_db.write_to_brightway(new_db_name='biosphere3_spatialized_flows_EF', database_type='biosphere')"
   ],
   "id": "80a71c3ecd3fb925",
   "outputs": [],
   "execution_count": 43
  },
  {
   "metadata": {
    "ExecuteTime": {
     "end_time": "2024-11-22T20:10:09.586155Z",
     "start_time": "2024-11-22T20:10:09.581494Z"
    }
   },
   "cell_type": "code",
   "source": [
    "if write_new_spatialized_biosphere:\n",
    "    new_spatialized_biosphere_db = Database('biosphere3_spatialized_flows_EF', create_pickle=True)"
   ],
   "id": "c384304e681f6587",
   "outputs": [],
   "execution_count": 44
  },
  {
   "metadata": {},
   "cell_type": "markdown",
   "source": "## Geographical mapping between ecoinvent (including premise regions) and EF methods to be used in regioinvent",
   "id": "c4127a3b5643331d"
  },
  {
   "metadata": {
    "ExecuteTime": {
     "end_time": "2024-11-22T20:10:09.592403Z",
     "start_time": "2024-11-22T20:10:09.586155Z"
    }
   },
   "cell_type": "code",
   "source": [
    "ei_premise_iam_locations_geo_mapping = {\n",
    "    'CAZ': 'CA',\n",
    "    'CHA': 'CN',\n",
    "    'EUR': 'RER',\n",
    "    'JPN': 'JP',\n",
    "    'IND': 'IN',\n",
    "    'LAM': 'RLA',\n",
    "    'MEA': 'RME',\n",
    "    'NEU': 'RER',\n",
    "    'OAS': 'RAS',\n",
    "    'REF': 'RU',\n",
    "    'SSA': 'RAF',\n",
    "    'USA': 'US',\n",
    "    'APAC': 'RAS',\n",
    "    'World': 'GLO',\n",
    "    'RSAM': 'RLA',\n",
    "    'RCAM': 'RLA',\n",
    "    'INDO': 'ID',\n",
    "    'RSAF': 'RAF',\n",
    "    'CEU': 'RER',\n",
    "    'SAF': 'ZA',\n",
    "    'INDIA': 'IN',\n",
    "    'BRA': 'BR',\n",
    "    'STAN': 'RAS',\n",
    "    'WAF': 'RAF',\n",
    "    'CHN': 'CN',\n",
    "    'NAF': 'RAF',\n",
    "    'UKR': 'UA',\n",
    "    'RSAS': 'RAS',\n",
    "    'RUS': 'RU',\n",
    "    'SEAS': 'RAS',\n",
    "    'KOR': 'KR',\n",
    "    'JAP': 'JP',\n",
    "    'EAF': 'RAF',\n",
    "    'TUR': 'TR',\n",
    "    'CAN': 'CA',\n",
    "    'MEX': 'MX',\n",
    "    'AFR': 'RAF',\n",
    "    'AUS': 'AU',\n",
    "    'CSA': 'RLA',\n",
    "    'CHI': 'CN',\n",
    "    'EEU': 'RER',\n",
    "    'FSU': 'RAS',\n",
    "    'ODA': 'RAS',\n",
    "    'SKO': 'KR',\n",
    "    'UK': 'GB',\n",
    "    'OCE': 'AU',\n",
    "}"
   ],
   "id": "6278ce085148990",
   "outputs": [],
   "execution_count": 45
  },
  {
   "metadata": {
    "ExecuteTime": {
     "end_time": "2024-11-22T20:10:09.597997Z",
     "start_time": "2024-11-22T20:10:09.592403Z"
    }
   },
   "cell_type": "code",
   "source": "ei_locations.extend(ei_premise_iam_locations_geo_mapping.keys())",
   "id": "e3ee4bbb305cdef6",
   "outputs": [],
   "execution_count": 46
  },
  {
   "metadata": {
    "ExecuteTime": {
     "end_time": "2024-11-22T20:10:09.617121Z",
     "start_time": "2024-11-22T20:10:09.597997Z"
    }
   },
   "cell_type": "code",
   "source": "locations_spat_biosphere = list(set([i['name'].split(', ')[-1] for i in biosphere_db_spatialized.db_as_list]))",
   "id": "70a558a697a89c19",
   "outputs": [],
   "execution_count": 47
  },
  {
   "metadata": {
    "ExecuteTime": {
     "end_time": "2024-11-22T20:10:09.625562Z",
     "start_time": "2024-11-22T20:10:09.619468Z"
    }
   },
   "cell_type": "code",
   "source": "missing_locations_spatialized_biosphere = [location for location in locations_spat_biosphere if (location not in ei_locations) & (location not in ['Deep', 'agricultural', 'in ground', 'mosaic (agroforestry)', 'ocean', 'sole'])]",
   "id": "d013ef0efe7de33d",
   "outputs": [],
   "execution_count": 48
  },
  {
   "metadata": {
    "ExecuteTime": {
     "end_time": "2024-11-22T20:10:09.632539Z",
     "start_time": "2024-11-22T20:10:09.627661Z"
    }
   },
   "cell_type": "code",
   "source": "ei_locations.extend(missing_locations_spatialized_biosphere)",
   "id": "1ce9e1fb430a6df0",
   "outputs": [],
   "execution_count": 49
  },
  {
   "metadata": {
    "ExecuteTime": {
     "end_time": "2024-11-22T20:10:10.094644Z",
     "start_time": "2024-11-22T20:10:09.632539Z"
    }
   },
   "cell_type": "code",
   "source": [
    "water_loc_list = []\n",
    "land_loc_list = []\n",
    "acid_loc_list = []\n",
    "eutro_loc_list = []\n",
    "ei_locations = sorted(ei_locations)\n",
    "\n",
    "ef_cfs_water = ef_cfs[ef_cfs.LCIAMethod_name == 'Water use']\n",
    "ef_cfs_land = ef_cfs[ef_cfs.LCIAMethod_name == 'Land use']\n",
    "ef_cfs_acid = ef_cfs[ef_cfs.LCIAMethod_name == 'Acidification']\n",
    "ef_cfs_eutro = ef_cfs[ef_cfs.LCIAMethod_name == 'Eutrophication, terrestrial']\n",
    "\n",
    "for loc in ei_locations:\n",
    "    \n",
    "    if '-' in loc:\n",
    "        loc = loc.split('-')[0]\n",
    "    if 'Canada' in loc:\n",
    "        loc = 'CA'\n",
    "        \n",
    "    if loc in ei_premise_iam_locations_geo_mapping.keys():\n",
    "        loc = ei_premise_iam_locations_geo_mapping[loc]\n",
    "    \n",
    "    if loc in ef_cfs_water.LCIAMethod_location.unique():\n",
    "        water_loc_list.append(loc)\n",
    "    else:\n",
    "        water_loc_list.append('GLO')\n",
    "    \n",
    "    if loc in ef_cfs_land.LCIAMethod_location.unique():\n",
    "        land_loc_list.append(loc)\n",
    "    else:\n",
    "        land_loc_list.append('GLO')\n",
    "    \n",
    "    if loc in ef_cfs_acid.LCIAMethod_location.unique():\n",
    "        acid_loc_list.append(loc)\n",
    "    else:\n",
    "        acid_loc_list.append('GLO')\n",
    "    \n",
    "    if loc in ef_cfs_eutro.LCIAMethod_location.unique():\n",
    "        eutro_loc_list.append(loc)\n",
    "    else:\n",
    "        eutro_loc_list.append('GLO')"
   ],
   "id": "ea8db724defebdaa",
   "outputs": [],
   "execution_count": 50
  },
  {
   "metadata": {
    "ExecuteTime": {
     "end_time": "2024-11-22T20:10:10.106791Z",
     "start_time": "2024-11-22T20:10:10.095705Z"
    }
   },
   "cell_type": "code",
   "source": "df_mapping_ef_ei_geographies = pd.DataFrame(data = [ei_locations, water_loc_list, land_loc_list, acid_loc_list, eutro_loc_list], index = ['ecoinvent', 'water', 'land', 'acid', 'eutro']).T",
   "id": "207768312d4996f9",
   "outputs": [],
   "execution_count": 51
  },
  {
   "metadata": {
    "ExecuteTime": {
     "end_time": "2024-11-22T20:10:10.170891Z",
     "start_time": "2024-11-22T20:10:10.107866Z"
    }
   },
   "cell_type": "code",
   "source": [
    "if write_method_bw:\n",
    "    df_mapping_ef_ei_geographies.to_excel('results/ei_ef_geo_mapping.xlsx', index=False)"
   ],
   "id": "5b47cd75f753afc2",
   "outputs": [],
   "execution_count": 52
  }
 ],
 "metadata": {
  "kernelspec": {
   "display_name": "Python 3",
   "language": "python",
   "name": "python3"
  },
  "language_info": {
   "codemirror_mode": {
    "name": "ipython",
    "version": 2
   },
   "file_extension": ".py",
   "mimetype": "text/x-python",
   "name": "python",
   "nbconvert_exporter": "python",
   "pygments_lexer": "ipython2",
   "version": "2.7.6"
  }
 },
 "nbformat": 4,
 "nbformat_minor": 5
}
