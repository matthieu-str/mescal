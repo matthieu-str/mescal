{
 "cells": [
  {
   "metadata": {},
   "cell_type": "markdown",
   "source": "# Change the ecoinvent version of the mapping file",
   "id": "c29fdc4e250a1915"
  },
  {
   "metadata": {
    "ExecuteTime": {
     "end_time": "2024-06-28T20:46:48.691886Z",
     "start_time": "2024-06-28T20:46:42.130623Z"
    }
   },
   "cell_type": "code",
   "source": [
    "import pandas as pd\n",
    "import bw2data as bd\n",
    "from mescal import *\n",
    "import itertools"
   ],
   "id": "3ce6f93f36aa81df",
   "outputs": [],
   "execution_count": 2
  },
  {
   "metadata": {
    "ExecuteTime": {
     "end_time": "2024-06-28T20:46:51.135174Z",
     "start_time": "2024-06-28T20:46:51.058707Z"
    }
   },
   "cell_type": "code",
   "source": "bd.projects.set_current(\"ecoinvent3.9\")",
   "id": "4b5551193f4ff0f8",
   "outputs": [],
   "execution_count": 3
  },
  {
   "metadata": {
    "ExecuteTime": {
     "end_time": "2024-06-28T20:46:56.151762Z",
     "start_time": "2024-06-28T20:46:56.140966Z"
    }
   },
   "cell_type": "code",
   "source": [
    "def load_change_report_annex(v_from, v_to):\n",
    "    df = pd.read_excel(f\"data/Change Report Annex v{v_from} - v{v_to}.xlsx\", sheet_name=\"Qualitative Changes\", usecols=[f'Reference Product - {v_from}', f'Activity Name - {v_from}', f'Geography - {v_from}', f'Reference Product - {v_to}', f'Activity Name - {v_to}', f'Geography - {v_to}'])\n",
    "    df.rename(columns={f'Activity Name - {v_from}': 'Activity Name', f'Geography - {v_from}': 'Geography', f'Reference Product - {v_from}': 'Reference Product', f'Activity Name - {v_to}': 'Activity Name - new', f'Geography - {v_to}': 'Geography - new', f'Reference Product - {v_to}': 'Reference Product - new'}, inplace=True)\n",
    "    df['Version from'] = v_from\n",
    "    df['Version to'] = v_to\n",
    "    return df"
   ],
   "id": "e3c5b8dea99a631",
   "outputs": [],
   "execution_count": 4
  },
  {
   "metadata": {
    "ExecuteTime": {
     "end_time": "2024-06-28T20:47:25.134308Z",
     "start_time": "2024-06-28T20:47:05.672040Z"
    }
   },
   "cell_type": "code",
   "source": [
    "change_report_38_39 = load_change_report_annex('3.8', '3.9')\n",
    "change_report_39_391 = load_change_report_annex('3.9', '3.9.1')\n",
    "change_report_391_310 = load_change_report_annex('3.9.1', '3.10')\n",
    "mapping = pd.read_csv(\"energyscope_data/mapping_linked.csv\")"
   ],
   "id": "54ab89faf6484f22",
   "outputs": [],
   "execution_count": 5
  },
  {
   "metadata": {
    "ExecuteTime": {
     "end_time": "2024-06-28T15:55:11.868536Z",
     "start_time": "2024-06-28T15:55:11.802530Z"
    }
   },
   "cell_type": "code",
   "source": "change_report = pd.concat([change_report_38_39, change_report_39_391, change_report_391_310])",
   "id": "288bf7294ed3d6b5",
   "outputs": [],
   "execution_count": 59
  },
  {
   "metadata": {
    "ExecuteTime": {
     "end_time": "2024-06-28T15:55:12.256896Z",
     "start_time": "2024-06-28T15:55:12.116742Z"
    }
   },
   "cell_type": "code",
   "source": "change_report = change_report.drop_duplicates()",
   "id": "e23176be2d01aec8",
   "outputs": [],
   "execution_count": 60
  },
  {
   "metadata": {
    "ExecuteTime": {
     "end_time": "2024-06-28T15:57:26.788801Z",
     "start_time": "2024-06-28T15:57:26.710692Z"
    }
   },
   "cell_type": "code",
   "source": [
    "change_report = change_report.drop(change_report[\n",
    "    (change_report['Reference Product - new'] == change_report['Reference Product'])\n",
    "    & (change_report['Activity Name - new'] == change_report['Activity Name'])\n",
    "    & (change_report['Geography - new'] == change_report['Geography'])\n",
    "].index)"
   ],
   "id": "5127b97f84d6f056",
   "outputs": [],
   "execution_count": 64
  },
  {
   "metadata": {
    "ExecuteTime": {
     "end_time": "2024-06-28T15:57:35.134119Z",
     "start_time": "2024-06-28T15:57:35.122729Z"
    }
   },
   "cell_type": "code",
   "source": "changed_activities = [list(e) for e in {tuple(item) for item in change_report[['Reference Product', 'Activity Name', 'Geography']].values.tolist()}]",
   "id": "9464237266d382b1",
   "outputs": [],
   "execution_count": 65
  },
  {
   "metadata": {
    "ExecuteTime": {
     "end_time": "2024-06-28T15:57:44.665618Z",
     "start_time": "2024-06-28T15:57:44.650359Z"
    }
   },
   "cell_type": "code",
   "source": [
    "def update_mapping_file(mapping, change_report, changed_activities):\n",
    "    \n",
    "    updated_mapping = pd.DataFrame(data=[], columns=mapping.columns)\n",
    "    counter = 0\n",
    "    \n",
    "    for i in range(len(mapping)):\n",
    "        \n",
    "        activity_name = mapping['Activity'].iloc[i]\n",
    "        activity_prod = mapping['Product'].iloc[i]\n",
    "        activity_geo = mapping['Location'].iloc[i]\n",
    "        \n",
    "        if [activity_prod, activity_name, activity_geo] in changed_activities:\n",
    "            \n",
    "            counter += 1\n",
    "            \n",
    "            activity_name_new, activity_prod_new, activity_geo_new = change_report[\n",
    "                (change_report['Reference Product'] == activity_prod) \n",
    "                & (change_report['Activity Name'] == activity_name) \n",
    "                & (change_report['Geography'] == activity_geo)\n",
    "            ][['Activity Name - new', 'Reference Product - new', 'Geography - new']].iloc[0]\n",
    "            \n",
    "            tech_name = mapping['Name'].iloc[i]\n",
    "            tech_type = mapping['Type'].iloc[i]\n",
    "            database = mapping['Database'].iloc[i]\n",
    "            updated_mapping.loc[i] = [tech_name, tech_type, activity_prod_new, activity_name_new, activity_geo_new, database]\n",
    "            \n",
    "            print(f\"Old: {activity_prod} - {activity_name} - {activity_geo}\")\n",
    "            print(f\"New: {activity_prod_new} - {activity_name_new} - {activity_geo_new}\")\n",
    "            \n",
    "        else:\n",
    "            updated_mapping.loc[i] = mapping.iloc[i]\n",
    "    \n",
    "    return updated_mapping, counter"
   ],
   "id": "fa6ea37691c3b1e8",
   "outputs": [],
   "execution_count": 66
  },
  {
   "metadata": {
    "ExecuteTime": {
     "end_time": "2024-06-28T15:57:46.610456Z",
     "start_time": "2024-06-28T15:57:46.072075Z"
    }
   },
   "cell_type": "code",
   "source": [
    "updated_mapping, counter = update_mapping_file(mapping, change_report, changed_activities)\n",
    "while counter > 0:\n",
    "    updated_mapping, counter = update_mapping_file(updated_mapping, change_report, changed_activities)\n",
    "    print(counter)"
   ],
   "id": "9fc491b784ba0471",
   "outputs": [
    {
     "name": "stdout",
     "output_type": "stream",
     "text": [
      "Old: methanol - methanol production - GLO\n",
      "New: methanol - methanol production, natural gas reforming - CN\n",
      "0\n"
     ]
    }
   ],
   "execution_count": 67
  }
 ],
 "metadata": {
  "kernelspec": {
   "display_name": "Python 3",
   "language": "python",
   "name": "python3"
  },
  "language_info": {
   "codemirror_mode": {
    "name": "ipython",
    "version": 2
   },
   "file_extension": ".py",
   "mimetype": "text/x-python",
   "name": "python",
   "nbconvert_exporter": "python",
   "pygments_lexer": "ipython2",
   "version": "2.7.6"
  }
 },
 "nbformat": 4,
 "nbformat_minor": 5
}
