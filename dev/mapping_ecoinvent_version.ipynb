{
 "cells": [
  {
   "metadata": {},
   "cell_type": "markdown",
   "source": "# Change the ecoinvent version of the mapping file",
   "id": "c29fdc4e250a1915"
  },
  {
   "metadata": {
    "ExecuteTime": {
     "end_time": "2024-07-08T21:04:17.474517Z",
     "start_time": "2024-07-08T21:04:10.479100Z"
    }
   },
   "cell_type": "code",
   "source": [
    "import pandas as pd\n",
    "import bw2data as bd\n",
    "from mescal import *\n",
    "import itertools"
   ],
   "id": "3ce6f93f36aa81df",
   "outputs": [],
   "execution_count": 1
  },
  {
   "metadata": {
    "ExecuteTime": {
     "end_time": "2024-07-08T21:04:17.606494Z",
     "start_time": "2024-07-08T21:04:17.479538Z"
    }
   },
   "cell_type": "code",
   "source": "bd.projects.set_current(\"ecoinvent3.9.1\")",
   "id": "4b5551193f4ff0f8",
   "outputs": [],
   "execution_count": 2
  },
  {
   "metadata": {
    "ExecuteTime": {
     "end_time": "2024-07-08T21:04:17.622218Z",
     "start_time": "2024-07-08T21:04:17.608284Z"
    }
   },
   "cell_type": "code",
   "source": [
    "def load_change_report_annex(v_from, v_to):\n",
    "    df = pd.read_excel(f\"data/Change Report Annex v{v_from} - v{v_to}.xlsx\", sheet_name=\"Qualitative Changes\", usecols=[f'Reference Product - {v_from}', f'Reference Product Unit - {v_from}', f'Activity Name - {v_from}', f'Geography - {v_from}', f'Reference Product - {v_to}', f'Reference Product Unit - {v_to}', f'Activity Name - {v_to}', f'Geography - {v_to}', f'Dataset in version {v_from} has been deleted'])\n",
    "    df.rename(columns={f'Activity Name - {v_from}': 'Activity Name', f'Geography - {v_from}': 'Geography', f'Reference Product - {v_from}': 'Reference Product', f'Reference Product Unit - {v_from}': 'Unit', f'Activity Name - {v_to}': 'Activity Name - new', f'Geography - {v_to}': 'Geography - new', f'Reference Product - {v_to}': 'Reference Product - new', f'Reference Product Unit - {v_to}': 'Unit - new', f'Dataset in version {v_from} has been deleted':'Deleted'}, inplace=True)\n",
    "    df['Version from'] = v_from\n",
    "    df['Version to'] = v_to\n",
    "    return df"
   ],
   "id": "e3c5b8dea99a631",
   "outputs": [],
   "execution_count": 3
  },
  {
   "metadata": {
    "ExecuteTime": {
     "end_time": "2024-07-08T21:04:26.221488Z",
     "start_time": "2024-07-08T21:04:17.625973Z"
    }
   },
   "cell_type": "code",
   "source": [
    "change_report_38_39 = load_change_report_annex('3.8', '3.9')\n",
    "change_report_39_391 = load_change_report_annex('3.9', '3.9.1')\n",
    "#change_report_391_310 = load_change_report_annex('3.9.1', '3.10')\n",
    "mapping = pd.read_csv(\"energyscope_data/CA-QC/mapping_3.8_linked.csv\")"
   ],
   "id": "54ab89faf6484f22",
   "outputs": [],
   "execution_count": 4
  },
  {
   "metadata": {},
   "cell_type": "markdown",
   "source": "## Changing databases names",
   "id": "6730be7b43b7c5de"
  },
  {
   "metadata": {
    "ExecuteTime": {
     "end_time": "2024-07-08T21:04:26.233590Z",
     "start_time": "2024-07-08T21:04:26.222495Z"
    }
   },
   "cell_type": "code",
   "source": [
    "def change_ei_version_napping_file(row, version_from, version_to):\n",
    "    if row.Database[-11:] == '_comp_CA-QC':  # if it is the complementary database\n",
    "        if 'urban delivery' in row.Activity:\n",
    "            row.Database = 'urban delivery_truck'\n",
    "        elif 'regional delivery' in row.Activity:\n",
    "            row.Database = 'regional delivery_truck'\n",
    "        else:\n",
    "            raise ValueError(f\"Unknown truck database for {row.Name}\")\n",
    "    else:\n",
    "        row.Database = row.Database.replace(version_from, version_to)\n",
    "    return row"
   ],
   "id": "68b95e00970e4adb",
   "outputs": [],
   "execution_count": 5
  },
  {
   "metadata": {
    "ExecuteTime": {
     "end_time": "2024-07-08T21:04:26.314169Z",
     "start_time": "2024-07-08T21:04:26.235623Z"
    }
   },
   "cell_type": "code",
   "source": "mapping = mapping.apply(change_ei_version_napping_file, axis=1, args=('3.8', '3.9.1'))",
   "id": "fb1dc7c5dbce15ee",
   "outputs": [],
   "execution_count": 6
  },
  {
   "metadata": {},
   "cell_type": "markdown",
   "source": "## Changing the ecoinvent version",
   "id": "ac7949d5fe2e008f"
  },
  {
   "metadata": {
    "ExecuteTime": {
     "end_time": "2024-07-08T21:04:26.326494Z",
     "start_time": "2024-07-08T21:04:26.314169Z"
    }
   },
   "cell_type": "code",
   "source": "change_report = pd.concat([change_report_38_39, change_report_39_391])",
   "id": "288bf7294ed3d6b5",
   "outputs": [],
   "execution_count": 7
  },
  {
   "metadata": {
    "ExecuteTime": {
     "end_time": "2024-07-08T21:04:26.376235Z",
     "start_time": "2024-07-08T21:04:26.329661Z"
    }
   },
   "cell_type": "code",
   "source": "change_report = change_report.drop_duplicates()",
   "id": "e23176be2d01aec8",
   "outputs": [],
   "execution_count": 8
  },
  {
   "metadata": {
    "ExecuteTime": {
     "end_time": "2024-07-08T21:04:26.394029Z",
     "start_time": "2024-07-08T21:04:26.376235Z"
    }
   },
   "cell_type": "code",
   "source": [
    "def handle_multi_processes_ecoinvent(df):\n",
    "    updated_df = pd.DataFrame(data=[], columns=df.columns)\n",
    "    for i in range(len(df)):\n",
    "        if ';' in str(df['Reference Product'].iloc[i]):\n",
    "            \n",
    "            products = df['Reference Product'].iloc[i].split(';\\n')\n",
    "            units = df['Unit'].iloc[i].split(';\\n')\n",
    "            \n",
    "            if str(df['Reference Product - new'].iloc[i]) == 'nan':\n",
    "                new_products = ['nan'] * len(products)\n",
    "            else:\n",
    "                new_products = df['Reference Product - new'].iloc[i].split(';\\n')\n",
    "            if str(df['Unit - new'].iloc[i]) == 'nan':\n",
    "                new_units = ['nan'] * len(units)\n",
    "            else:\n",
    "                new_units = df['Unit - new'].iloc[i].split(';\\n')\n",
    "            \n",
    "            for product, unit, new_product, new_unit in zip(products, units, new_products, new_units):\n",
    "                updated_df.loc[len(updated_df)] = [df['Activity Name'].iloc[i], df['Geography'].iloc[i], product, unit, df['Activity Name - new'].iloc[i], df['Geography - new'].iloc[i], new_product, new_unit, df['Deleted'].iloc[i], df['Version from'].iloc[i], df['Version to'].iloc[i]]\n",
    "        else:\n",
    "            updated_df.loc[len(updated_df)] = df.iloc[i].tolist()\n",
    "    \n",
    "    return updated_df"
   ],
   "id": "c62664c4540cedcb",
   "outputs": [],
   "execution_count": 9
  },
  {
   "metadata": {
    "ExecuteTime": {
     "end_time": "2024-07-08T21:05:11.530005Z",
     "start_time": "2024-07-08T21:04:26.395763Z"
    }
   },
   "cell_type": "code",
   "source": "change_report = handle_multi_processes_ecoinvent(change_report)",
   "id": "40871f24554ab211",
   "outputs": [],
   "execution_count": 10
  },
  {
   "metadata": {
    "ExecuteTime": {
     "end_time": "2024-07-08T21:05:11.541781Z",
     "start_time": "2024-07-08T21:05:11.530005Z"
    }
   },
   "cell_type": "code",
   "source": "change_report = change_report.reset_index(drop=True)",
   "id": "a61d4686b70d069e",
   "outputs": [],
   "execution_count": 11
  },
  {
   "metadata": {
    "ExecuteTime": {
     "end_time": "2024-07-08T21:05:36.820307Z",
     "start_time": "2024-07-08T21:05:11.544112Z"
    }
   },
   "cell_type": "code",
   "source": [
    "df = change_report[\n",
    "    (change_report['Geography'] == 'GLO')\n",
    "    & (change_report['Geography - new'] == 'GLO')\n",
    "]\n",
    "for i in range(len(df)):\n",
    "    # Add new row for the same activity but with RoW as location\n",
    "    new_row = df.iloc[i].tolist()\n",
    "    new_row[1], new_row[5] = 'RoW', 'RoW'\n",
    "    change_report.loc[len(change_report)] = new_row"
   ],
   "id": "ed83509f74362cd3",
   "outputs": [],
   "execution_count": 12
  },
  {
   "metadata": {
    "ExecuteTime": {
     "end_time": "2024-07-08T21:05:36.848841Z",
     "start_time": "2024-07-08T21:05:36.821321Z"
    }
   },
   "cell_type": "code",
   "source": [
    "# Only keep rows with changes in reference product, activity name or geography\n",
    "change_report = change_report.drop(change_report[\n",
    "    (change_report['Reference Product - new'] == change_report['Reference Product'])\n",
    "    & (change_report['Activity Name - new'] == change_report['Activity Name'])\n",
    "    & (change_report['Geography - new'] == change_report['Geography'])\n",
    "].index)"
   ],
   "id": "5127b97f84d6f056",
   "outputs": [],
   "execution_count": 13
  },
  {
   "metadata": {
    "ExecuteTime": {
     "end_time": "2024-07-08T21:05:36.862231Z",
     "start_time": "2024-07-08T21:05:36.851069Z"
    }
   },
   "cell_type": "code",
   "source": "changed_activities = [list(e) for e in {tuple(item) for item in change_report[['Reference Product', 'Activity Name', 'Geography']].values.tolist()}]",
   "id": "9464237266d382b1",
   "outputs": [],
   "execution_count": 14
  },
  {
   "metadata": {
    "ExecuteTime": {
     "end_time": "2024-07-08T21:05:36.884307Z",
     "start_time": "2024-07-08T21:05:36.862231Z"
    }
   },
   "cell_type": "code",
   "source": [
    "def update_mapping_file(df: pd.DataFrame, unit_to_change: list = None) -> tuple[pd.DataFrame, int, list]:\n",
    "    \n",
    "    updated_df = pd.DataFrame(data=[], columns=df.columns)\n",
    "    counter = 0\n",
    "    \n",
    "    if unit_to_change is None:\n",
    "        unit_to_change = []\n",
    "    \n",
    "    for i in range(len(df)):\n",
    "        \n",
    "        activity_name = df['Activity'].iloc[i]\n",
    "        activity_prod = df['Product'].iloc[i]\n",
    "        activity_geo = df['Location'].iloc[i]\n",
    "        tech_name = df['Name'].iloc[i]\n",
    "        tech_type = df['Type'].iloc[i]\n",
    "        database = df['Database'].iloc[i]\n",
    "        \n",
    "        if activity_geo in ['CAZ']:\n",
    "            activity_geo = 'RoW'\n",
    "        \n",
    "        if [activity_prod, activity_name, activity_geo] in changed_activities:\n",
    "            counter += 1\n",
    "            activity_name_new, activity_prod_new, activity_geo_new, unit, unit_new, deleted = change_report[\n",
    "                (change_report['Reference Product'] == activity_prod) \n",
    "                & (change_report['Activity Name'] == activity_name) \n",
    "                & (change_report['Geography'] == activity_geo)\n",
    "            ][['Activity Name - new', 'Reference Product - new', 'Geography - new', 'Unit', 'Unit - new', 'Deleted']].iloc[0]\n",
    "            \n",
    "            if unit != unit_new:\n",
    "                print(f\"WARNING: unit changed for {activity_prod} - {activity_name} - {activity_geo}\")\n",
    "                unit_to_change.append([(tech_name, tech_type), (activity_prod, activity_name, activity_geo), unit, unit_new])\n",
    "            \n",
    "            if (str(activity_name) == 'nan') & (deleted==1):\n",
    "                raise ValueError(f\"Activity {activity_prod} - {activity_name} - {activity_geo} has been deleted in the last ecoinvent version and should be replaced.\")\n",
    "            \n",
    "            else:\n",
    "                updated_df.loc[i] = [tech_name, tech_type, activity_prod_new, activity_name_new, activity_geo_new, database]\n",
    "                \n",
    "                print(tech_name, tech_type)\n",
    "                print(f\"Old: {activity_prod} - {activity_name} - {activity_geo}\")\n",
    "                print(f\"New: {activity_prod_new} - {activity_name_new} - {activity_geo_new}\")\n",
    "            \n",
    "        else:\n",
    "            updated_df.loc[i] = df.iloc[i]\n",
    "    \n",
    "    return updated_df, counter, unit_to_change"
   ],
   "id": "fa6ea37691c3b1e8",
   "outputs": [],
   "execution_count": 15
  },
  {
   "metadata": {
    "ExecuteTime": {
     "end_time": "2024-07-08T21:05:38.915282Z",
     "start_time": "2024-07-08T21:05:36.888798Z"
    }
   },
   "cell_type": "code",
   "source": [
    "updated_mapping, counter, unit_to_change = update_mapping_file(mapping)\n",
    "while counter > 0:\n",
    "    updated_mapping, counter, unit_to_change = update_mapping_file(updated_mapping, unit_to_change)\n",
    "    print(counter)"
   ],
   "id": "9fc491b784ba0471",
   "outputs": [
    {
     "name": "stdout",
     "output_type": "stream",
     "text": [
      "BATTERY Construction\n",
      "Old: battery, Li-ion, rechargeable, prismatic - market for battery, Li-ion, rechargeable, prismatic - GLO\n",
      "New: battery, Li-ion, LiMn2O4, rechargeable, prismatic - market for battery, Li-ion, LiMn2O4, rechargeable, prismatic - GLO\n",
      "CEMENT_PROD Operation\n",
      "Old: cement, alternative constituents 21-35% - cement production, alternative constituents 21-35% - RoW\n",
      "New: cement, CEM II/B - cement production, CEM II/B - RoW\n",
      "CEMENT_PROD_HP Operation\n",
      "Old: cement, alternative constituents 21-35% - cement production, alternative constituents 21-35% - RoW\n",
      "New: cement, CEM II/B - cement production, CEM II/B - RoW\n",
      "ELEC_STO Construction\n",
      "Old: battery, Li-ion, rechargeable, prismatic - market for battery, Li-ion, rechargeable, prismatic - GLO\n",
      "New: battery, Li-ion, LiMn2O4, rechargeable, prismatic - market for battery, Li-ion, LiMn2O4, rechargeable, prismatic - GLO\n",
      "NG_COMP_HE Operation\n",
      "Old: natural gas, high pressure - market for natural gas, high pressure - CA-QC\n",
      "New: natural gas, high pressure - market for natural gas, high pressure - CA\n",
      "NG_EXP_EH Operation\n",
      "Old: natural gas, high pressure - market for natural gas, high pressure - CA-QC\n",
      "New: natural gas, high pressure - market for natural gas, high pressure - CA\n",
      "NG_EXP_EH_COGEN Operation\n",
      "Old: natural gas, high pressure - market for natural gas, high pressure - CA-QC\n",
      "New: natural gas, high pressure - market for natural gas, high pressure - CA\n",
      "NG_EXP_HM Operation\n",
      "Old: natural gas, high pressure - market for natural gas, high pressure - CA-QC\n",
      "New: natural gas, high pressure - market for natural gas, high pressure - CA\n",
      "NG_EXP_HM_COGEN Operation\n",
      "Old: natural gas, high pressure - market for natural gas, high pressure - CA-QC\n",
      "New: natural gas, high pressure - market for natural gas, high pressure - CA\n",
      "WARNING: unit changed for electricity, medium voltage - natural gas, burned in gas turbine, for compressor station - CA-QC\n",
      "OCGT_LARGE Operation\n",
      "Old: electricity, medium voltage - natural gas, burned in gas turbine, for compressor station - CA-QC\n",
      "New: natural gas, burned in gas turbine - natural gas, burned in gas turbine - CA\n",
      "WARNING: unit changed for electricity, medium voltage - natural gas, burned in gas turbine, for compressor station - CA-QC\n",
      "OCGT_SMALL Operation\n",
      "Old: electricity, medium voltage - natural gas, burned in gas turbine, for compressor station - CA-QC\n",
      "New: natural gas, burned in gas turbine - natural gas, burned in gas turbine - CA\n",
      "NG_EHP Resource\n",
      "Old: natural gas, high pressure - market for natural gas, high pressure - CA-QC\n",
      "New: natural gas, high pressure - market for natural gas, high pressure - CA\n",
      "NG_HP Resource\n",
      "Old: natural gas, high pressure - market for natural gas, high pressure - CA-QC\n",
      "New: natural gas, high pressure - market for natural gas, high pressure - CA\n",
      "NG_EHP Flow\n",
      "Old: natural gas, high pressure - market for natural gas, high pressure - CA-QC\n",
      "New: natural gas, high pressure - market for natural gas, high pressure - CA\n",
      "NG_HP Flow\n",
      "Old: natural gas, high pressure - market for natural gas, high pressure - CA-QC\n",
      "New: natural gas, high pressure - market for natural gas, high pressure - CA\n",
      "0\n"
     ]
    }
   ],
   "execution_count": 16
  },
  {
   "metadata": {},
   "cell_type": "markdown",
   "source": "## Verification and saving of the mapping file",
   "id": "4d0e7baf698de36a"
  },
  {
   "metadata": {
    "ExecuteTime": {
     "end_time": "2024-07-08T21:05:38.926542Z",
     "start_time": "2024-07-08T21:05:38.915282Z"
    }
   },
   "cell_type": "code",
   "source": "name_premise_db = 'ecoinvent_cutoff_3.9.1_remind_SSP2-Base_2020_with_CPC'",
   "id": "7daee13856f070a1",
   "outputs": [],
   "execution_count": 17
  },
  {
   "metadata": {
    "ExecuteTime": {
     "end_time": "2024-07-08T21:05:46.882510Z",
     "start_time": "2024-07-08T21:05:38.930716Z"
    }
   },
   "cell_type": "code",
   "source": "db = load_extract_db(name_premise_db, create_pickle=True)",
   "id": "44b47b57f8c9ac90",
   "outputs": [],
   "execution_count": 18
  },
  {
   "metadata": {
    "ExecuteTime": {
     "end_time": "2024-07-08T21:05:46.966528Z",
     "start_time": "2024-07-08T21:05:46.887524Z"
    }
   },
   "cell_type": "code",
   "source": "db_dict_name = database_list_to_dict(db, 'name')",
   "id": "a7902f16da52904a",
   "outputs": [],
   "execution_count": 19
  },
  {
   "metadata": {
    "ExecuteTime": {
     "end_time": "2024-07-08T21:05:47.061343Z",
     "start_time": "2024-07-08T21:05:46.968645Z"
    }
   },
   "cell_type": "code",
   "source": [
    "# Verification\n",
    "unlinked = []\n",
    "for i in range(len(updated_mapping)):\n",
    "    activity_name = updated_mapping['Activity'].iloc[i]\n",
    "    activity_prod = updated_mapping['Product'].iloc[i]\n",
    "    activity_loc = updated_mapping['Location'].iloc[i]\n",
    "    activity_database = updated_mapping['Database'].iloc[i]\n",
    "    if activity_database == name_premise_db:\n",
    "        if (activity_name, activity_prod, activity_loc, activity_database) in db_dict_name:\n",
    "            pass\n",
    "        else:\n",
    "            unlinked.append((activity_name, activity_prod, activity_loc, activity_database))\n",
    "            print(f'Cant find {activity_name} - {activity_prod} - {activity_loc} - {activity_database}')"
   ],
   "id": "3f285a387b2738d6",
   "outputs": [],
   "execution_count": 20
  },
  {
   "metadata": {
    "ExecuteTime": {
     "end_time": "2024-07-08T21:05:47.110849Z",
     "start_time": "2024-07-08T21:05:47.061343Z"
    }
   },
   "cell_type": "code",
   "source": [
    "if len(unlinked) == 0:\n",
    "    updated_mapping.to_csv(\"energyscope_data/CA-QC/mapping_3.9.1.csv\", index=False)"
   ],
   "id": "177e9baed10912ae",
   "outputs": [],
   "execution_count": 21
  },
  {
   "metadata": {},
   "cell_type": "markdown",
   "source": "# Adapt the unit conversion file corresponding to the new mapping file",
   "id": "789a91e8cedd3728"
  },
  {
   "metadata": {
    "ExecuteTime": {
     "end_time": "2024-07-08T21:05:58.880263Z",
     "start_time": "2024-07-08T21:05:58.863079Z"
    }
   },
   "cell_type": "code",
   "source": "unit_conversion = pd.read_csv(\"energyscope_data/CA-QC/unit_conversion_3.8.csv\")",
   "id": "3a3b3ef110eb5c79",
   "outputs": [],
   "execution_count": 23
  },
  {
   "metadata": {
    "ExecuteTime": {
     "end_time": "2024-07-08T21:05:59.682917Z",
     "start_time": "2024-07-08T21:05:59.655053Z"
    }
   },
   "cell_type": "code",
   "source": [
    "for i in range(len(unit_to_change)):\n",
    "    unit_esm, unit_lca = unit_conversion[\n",
    "        (unit_conversion.Name == unit_to_change[i][0][0])\n",
    "        & (unit_conversion.Type == unit_to_change[i][0][1])\n",
    "    ][['From', 'To']].values[0]\n",
    "    \n",
    "    if unit_lca != unit_to_change[i][2]:\n",
    "        raise ValueError(f'LCA unit for {unit_to_change[i][0][0]} - {unit_to_change[i][0][1]} is not the same as the one in the mapping file. {unit_lca} != {unit_to_change[i][2]}')\n",
    "    else:\n",
    "        if unit_to_change[i][0] == ('OCGT_LARGE', 'Operation'):\n",
    "            new_value = 3.6e6 * 2.5  # 2.5 MWh NG per MWh electricity\n",
    "        \n",
    "        elif unit_to_change[i][0] == ('OCGT_SMALL', 'Operation'):\n",
    "            new_value = 3.6e6 * 2.5  # 2.5 MWh NG per MWh electricity\n",
    "        \n",
    "        else:\n",
    "            raise ValueError(f\"Unknown unit conversion for {unit_to_change[i][0]}\")\n",
    "        \n",
    "        # delete current row \n",
    "        unit_conversion = unit_conversion.drop(unit_conversion[\n",
    "            (unit_conversion.Name == unit_to_change[i][0][0])\n",
    "            & (unit_conversion.Type == unit_to_change[i][0][1])\n",
    "        ].index)\n",
    "        \n",
    "        # add new row\n",
    "        unit_conversion.loc[len(unit_conversion)] = [unit_to_change[i][0][0], unit_to_change[i][0][1], new_value, unit_to_change[i][3], unit_esm]"
   ],
   "id": "f302c631945eca36",
   "outputs": [],
   "execution_count": 24
  },
  {
   "metadata": {
    "ExecuteTime": {
     "end_time": "2024-07-08T21:06:00.657009Z",
     "start_time": "2024-07-08T21:06:00.613569Z"
    }
   },
   "cell_type": "code",
   "source": "unit_conversion.sort_values(by=['Name', 'Type']).to_csv(\"energyscope_data/CA-QC/unit_conversion_3.9.1.csv\", index=False)",
   "id": "792da9e972790018",
   "outputs": [],
   "execution_count": 25
  }
 ],
 "metadata": {
  "kernelspec": {
   "display_name": "Python 3",
   "language": "python",
   "name": "python3"
  },
  "language_info": {
   "codemirror_mode": {
    "name": "ipython",
    "version": 2
   },
   "file_extension": ".py",
   "mimetype": "text/x-python",
   "name": "python",
   "nbconvert_exporter": "python",
   "pygments_lexer": "ipython2",
   "version": "2.7.6"
  }
 },
 "nbformat": 4,
 "nbformat_minor": 5
}
