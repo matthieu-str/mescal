{
 "cells": [
  {
   "metadata": {},
   "cell_type": "markdown",
   "source": "# Change the ecoinvent version of the mapping file",
   "id": "c29fdc4e250a1915"
  },
  {
   "metadata": {
    "ExecuteTime": {
     "end_time": "2024-11-20T19:32:13.066773Z",
     "start_time": "2024-11-20T19:32:07.190676Z"
    }
   },
   "cell_type": "code",
   "source": [
    "import pandas as pd\n",
    "import bw2data as bd\n",
    "from mescal import *"
   ],
   "id": "3ce6f93f36aa81df",
   "outputs": [],
   "execution_count": 1
  },
  {
   "metadata": {
    "ExecuteTime": {
     "end_time": "2024-11-20T19:32:13.083777Z",
     "start_time": "2024-11-20T19:32:13.070386Z"
    }
   },
   "cell_type": "code",
   "source": [
    "esm_location = 'CA-QC' # can be 'CH' or 'CA-QC'\n",
    "ei_version_from = '3.8'\n",
    "ei_version_to = '3.9.1'"
   ],
   "id": "ccc0ee461b4aad64",
   "outputs": [],
   "execution_count": 2
  },
  {
   "metadata": {
    "ExecuteTime": {
     "end_time": "2024-11-20T19:32:13.442965Z",
     "start_time": "2024-11-20T19:32:13.086383Z"
    }
   },
   "cell_type": "code",
   "source": "bd.projects.set_current(f\"ecoinvent{ei_version_to}A\")",
   "id": "4b5551193f4ff0f8",
   "outputs": [],
   "execution_count": 3
  },
  {
   "metadata": {
    "ExecuteTime": {
     "end_time": "2024-11-20T19:32:13.450715Z",
     "start_time": "2024-11-20T19:32:13.442965Z"
    }
   },
   "cell_type": "code",
   "source": "name_comp_db = f'ecoinvent_cutoff_{ei_version_from}_remind_SSP2-Base_2020_comp_{esm_location}'",
   "id": "b3cafa4b10f21a1a",
   "outputs": [],
   "execution_count": 4
  },
  {
   "metadata": {
    "ExecuteTime": {
     "end_time": "2024-11-20T19:32:13.471198Z",
     "start_time": "2024-11-20T19:32:13.450715Z"
    }
   },
   "cell_type": "code",
   "source": "mapping = pd.read_csv(f\"energyscope_data/{esm_location}/mapping_{ei_version_from}_linked.csv\")",
   "id": "54ab89faf6484f22",
   "outputs": [],
   "execution_count": 5
  },
  {
   "metadata": {
    "ExecuteTime": {
     "end_time": "2024-11-20T19:33:33.483620Z",
     "start_time": "2024-11-20T19:32:13.471198Z"
    }
   },
   "cell_type": "code",
   "source": "updated_mapping, unit_changes = change_ecoinvent_version_mapping(mapping, ei_version_from, ei_version_to, name_comp_db)",
   "id": "a6f7ea691f5ee6b1",
   "outputs": [
    {
     "name": "stdout",
     "output_type": "stream",
     "text": [
      "BATTERY Construction\n",
      "Old: battery, Li-ion, rechargeable, prismatic - market for battery, Li-ion, rechargeable, prismatic - GLO\n",
      "New: battery, Li-ion, LiMn2O4, rechargeable, prismatic - market for battery, Li-ion, LiMn2O4, rechargeable, prismatic - GLO\n",
      "CEMENT_PROD Operation\n",
      "Old: cement, alternative constituents 21-35% - cement production, alternative constituents 21-35% - RoW\n",
      "New: cement, CEM II/B - cement production, CEM II/B - RoW\n",
      "CEMENT_PROD_HP Operation\n",
      "Old: cement, alternative constituents 21-35% - cement production, alternative constituents 21-35% - RoW\n",
      "New: cement, CEM II/B - cement production, CEM II/B - RoW\n",
      "ELEC_STO Construction\n",
      "Old: battery, Li-ion, rechargeable, prismatic - market for battery, Li-ion, rechargeable, prismatic - GLO\n",
      "New: battery, Li-ion, LiMn2O4, rechargeable, prismatic - market for battery, Li-ion, LiMn2O4, rechargeable, prismatic - GLO\n",
      "NG_COMP_HE Operation\n",
      "Old: natural gas, high pressure - market for natural gas, high pressure - CA-QC\n",
      "New: natural gas, high pressure - market for natural gas, high pressure - CA\n",
      "NG_EXP_EH Operation\n",
      "Old: natural gas, high pressure - market for natural gas, high pressure - CA-QC\n",
      "New: natural gas, high pressure - market for natural gas, high pressure - CA\n",
      "NG_EXP_EH_COGEN Operation\n",
      "Old: natural gas, high pressure - market for natural gas, high pressure - CA-QC\n",
      "New: natural gas, high pressure - market for natural gas, high pressure - CA\n",
      "NG_EXP_HM Operation\n",
      "Old: natural gas, high pressure - market for natural gas, high pressure - CA-QC\n",
      "New: natural gas, high pressure - market for natural gas, high pressure - CA\n",
      "NG_EXP_HM_COGEN Operation\n",
      "Old: natural gas, high pressure - market for natural gas, high pressure - CA-QC\n",
      "New: natural gas, high pressure - market for natural gas, high pressure - CA\n",
      "WARNING: unit changed for electricity, medium voltage - natural gas, burned in gas turbine, for compressor station - CA-QC\n",
      "OCGT_LARGE Operation\n",
      "Old: electricity, medium voltage - natural gas, burned in gas turbine, for compressor station - CA-QC\n",
      "New: natural gas, burned in gas turbine - natural gas, burned in gas turbine - CA\n",
      "WARNING: unit changed for electricity, medium voltage - natural gas, burned in gas turbine, for compressor station - CA-QC\n",
      "OCGT_SMALL Operation\n",
      "Old: electricity, medium voltage - natural gas, burned in gas turbine, for compressor station - CA-QC\n",
      "New: natural gas, burned in gas turbine - natural gas, burned in gas turbine - CA\n",
      "NG_EHP Resource\n",
      "Old: natural gas, high pressure - market for natural gas, high pressure - CA-QC\n",
      "New: natural gas, high pressure - market for natural gas, high pressure - CA\n",
      "NG_HP Resource\n",
      "Old: natural gas, high pressure - market for natural gas, high pressure - CA-QC\n",
      "New: natural gas, high pressure - market for natural gas, high pressure - CA\n",
      "NG_EHP Flow\n",
      "Old: natural gas, high pressure - market for natural gas, high pressure - CA-QC\n",
      "New: natural gas, high pressure - market for natural gas, high pressure - CA\n",
      "NG_HP Flow\n",
      "Old: natural gas, high pressure - market for natural gas, high pressure - CA-QC\n",
      "New: natural gas, high pressure - market for natural gas, high pressure - CA\n"
     ]
    }
   ],
   "execution_count": 6
  },
  {
   "metadata": {
    "ExecuteTime": {
     "end_time": "2024-11-20T19:33:33.534556Z",
     "start_time": "2024-11-20T19:33:33.485227Z"
    }
   },
   "cell_type": "code",
   "source": "updated_mapping.head()",
   "id": "2f42c943ffe2146",
   "outputs": [
    {
     "data": {
      "text/plain": [
       "                                Name          Type  \\\n",
       "0                                AFC  Construction   \n",
       "1                                AFC     Operation   \n",
       "2              ALKALINE_ELECTROLYSIS     Operation   \n",
       "3        ALKALINE_ELECTROLYSIS_PLANT  Construction   \n",
       "4  ALKALINE_ELECTROLYSIS_PLANT_DECOM  Construction   \n",
       "\n",
       "                                             Product  \\\n",
       "0  fuel cell system, 1 kWe, proton exchange membr...   \n",
       "1       electricity, from residential heating system   \n",
       "2                          hydrogen, gaseous, 20 bar   \n",
       "3          electrolyzer, 1MWe, AEC, Balance of Plant   \n",
       "4         used fuel cell balance of plant, 1MWe, AEC   \n",
       "\n",
       "                                            Activity Location  \\\n",
       "0  fuel cell system assembly, 1 kWe, proton excha...      GLO   \n",
       "1  electricity, residential, by conversion of hyd...       CH   \n",
       "2  hydrogen production, gaseous, 20 bar, from AEC...       CH   \n",
       "3  electrolyzer production, 1MWe, AEC, Balance of...      RER   \n",
       "4  treatment of fuel cell balance of plant, 1MWe,...      RER   \n",
       "\n",
       "                                       Database  \n",
       "0  ecoinvent_cutoff_3.9.1_remind_SSP2-Base_2020  \n",
       "1  ecoinvent_cutoff_3.9.1_remind_SSP2-Base_2020  \n",
       "2  ecoinvent_cutoff_3.9.1_remind_SSP2-Base_2020  \n",
       "3  ecoinvent_cutoff_3.9.1_remind_SSP2-Base_2020  \n",
       "4  ecoinvent_cutoff_3.9.1_remind_SSP2-Base_2020  "
      ],
      "text/html": [
       "<div>\n",
       "<style scoped>\n",
       "    .dataframe tbody tr th:only-of-type {\n",
       "        vertical-align: middle;\n",
       "    }\n",
       "\n",
       "    .dataframe tbody tr th {\n",
       "        vertical-align: top;\n",
       "    }\n",
       "\n",
       "    .dataframe thead th {\n",
       "        text-align: right;\n",
       "    }\n",
       "</style>\n",
       "<table border=\"1\" class=\"dataframe\">\n",
       "  <thead>\n",
       "    <tr style=\"text-align: right;\">\n",
       "      <th></th>\n",
       "      <th>Name</th>\n",
       "      <th>Type</th>\n",
       "      <th>Product</th>\n",
       "      <th>Activity</th>\n",
       "      <th>Location</th>\n",
       "      <th>Database</th>\n",
       "    </tr>\n",
       "  </thead>\n",
       "  <tbody>\n",
       "    <tr>\n",
       "      <th>0</th>\n",
       "      <td>AFC</td>\n",
       "      <td>Construction</td>\n",
       "      <td>fuel cell system, 1 kWe, proton exchange membr...</td>\n",
       "      <td>fuel cell system assembly, 1 kWe, proton excha...</td>\n",
       "      <td>GLO</td>\n",
       "      <td>ecoinvent_cutoff_3.9.1_remind_SSP2-Base_2020</td>\n",
       "    </tr>\n",
       "    <tr>\n",
       "      <th>1</th>\n",
       "      <td>AFC</td>\n",
       "      <td>Operation</td>\n",
       "      <td>electricity, from residential heating system</td>\n",
       "      <td>electricity, residential, by conversion of hyd...</td>\n",
       "      <td>CH</td>\n",
       "      <td>ecoinvent_cutoff_3.9.1_remind_SSP2-Base_2020</td>\n",
       "    </tr>\n",
       "    <tr>\n",
       "      <th>2</th>\n",
       "      <td>ALKALINE_ELECTROLYSIS</td>\n",
       "      <td>Operation</td>\n",
       "      <td>hydrogen, gaseous, 20 bar</td>\n",
       "      <td>hydrogen production, gaseous, 20 bar, from AEC...</td>\n",
       "      <td>CH</td>\n",
       "      <td>ecoinvent_cutoff_3.9.1_remind_SSP2-Base_2020</td>\n",
       "    </tr>\n",
       "    <tr>\n",
       "      <th>3</th>\n",
       "      <td>ALKALINE_ELECTROLYSIS_PLANT</td>\n",
       "      <td>Construction</td>\n",
       "      <td>electrolyzer, 1MWe, AEC, Balance of Plant</td>\n",
       "      <td>electrolyzer production, 1MWe, AEC, Balance of...</td>\n",
       "      <td>RER</td>\n",
       "      <td>ecoinvent_cutoff_3.9.1_remind_SSP2-Base_2020</td>\n",
       "    </tr>\n",
       "    <tr>\n",
       "      <th>4</th>\n",
       "      <td>ALKALINE_ELECTROLYSIS_PLANT_DECOM</td>\n",
       "      <td>Construction</td>\n",
       "      <td>used fuel cell balance of plant, 1MWe, AEC</td>\n",
       "      <td>treatment of fuel cell balance of plant, 1MWe,...</td>\n",
       "      <td>RER</td>\n",
       "      <td>ecoinvent_cutoff_3.9.1_remind_SSP2-Base_2020</td>\n",
       "    </tr>\n",
       "  </tbody>\n",
       "</table>\n",
       "</div>"
      ]
     },
     "execution_count": 7,
     "metadata": {},
     "output_type": "execute_result"
    }
   ],
   "execution_count": 7
  },
  {
   "metadata": {
    "ExecuteTime": {
     "end_time": "2024-11-20T19:33:33.546141Z",
     "start_time": "2024-11-20T19:33:33.536396Z"
    }
   },
   "cell_type": "code",
   "source": "updated_mapping.Database.unique()",
   "id": "a82c6db6f1462a3e",
   "outputs": [
    {
     "data": {
      "text/plain": [
       "array(['ecoinvent_cutoff_3.9.1_remind_SSP2-Base_2020',\n",
       "       'urban delivery_truck', 'regional delivery_truck'], dtype=object)"
      ]
     },
     "execution_count": 8,
     "metadata": {},
     "output_type": "execute_result"
    }
   ],
   "execution_count": 8
  },
  {
   "metadata": {
    "ExecuteTime": {
     "end_time": "2024-11-20T19:34:31.224416Z",
     "start_time": "2024-11-20T19:33:33.546141Z"
    }
   },
   "cell_type": "code",
   "source": [
    "base_db = Database(db_names=list(updated_mapping.Database.unique()))\n",
    "unlinked = base_db.test_mapping_file(updated_mapping)"
   ],
   "id": "af4bea91353cab7",
   "outputs": [
    {
     "name": "stdout",
     "output_type": "stream",
     "text": [
      "Getting activity data\n"
     ]
    },
    {
     "name": "stderr",
     "output_type": "stream",
     "text": [
      "100%|██████████| 28551/28551 [00:00<00:00, 62244.18it/s]\n"
     ]
    },
    {
     "name": "stdout",
     "output_type": "stream",
     "text": [
      "Adding exchange data to activities\n"
     ]
    },
    {
     "name": "stderr",
     "output_type": "stream",
     "text": [
      "100%|██████████| 838277/838277 [00:35<00:00, 23436.23it/s]\n"
     ]
    },
    {
     "name": "stdout",
     "output_type": "stream",
     "text": [
      "Filling out exchange data\n"
     ]
    },
    {
     "name": "stderr",
     "output_type": "stream",
     "text": [
      "100%|██████████| 28551/28551 [00:03<00:00, 8062.23it/s] \n"
     ]
    },
    {
     "name": "stdout",
     "output_type": "stream",
     "text": [
      "Loaded ecoinvent_cutoff_3.9.1_remind_SSP2-Base_2020 from brightway!\n",
      "Getting activity data\n"
     ]
    },
    {
     "name": "stderr",
     "output_type": "stream",
     "text": [
      "100%|██████████| 939/939 [00:00<00:00, 59850.34it/s]\n"
     ]
    },
    {
     "name": "stdout",
     "output_type": "stream",
     "text": [
      "Adding exchange data to activities\n"
     ]
    },
    {
     "name": "stderr",
     "output_type": "stream",
     "text": [
      "100%|██████████| 30812/30812 [00:01<00:00, 16973.70it/s]\n"
     ]
    },
    {
     "name": "stdout",
     "output_type": "stream",
     "text": [
      "Filling out exchange data\n"
     ]
    },
    {
     "name": "stderr",
     "output_type": "stream",
     "text": [
      "100%|██████████| 939/939 [00:01<00:00, 902.82it/s] \n"
     ]
    },
    {
     "name": "stdout",
     "output_type": "stream",
     "text": [
      "Loaded urban delivery_truck from brightway!\n",
      "Loaded ecoinvent-3.9.1-cutoff from pickle!\n",
      "Getting activity data\n"
     ]
    },
    {
     "name": "stderr",
     "output_type": "stream",
     "text": [
      "100%|██████████| 935/935 [00:00<00:00, 49306.29it/s]\n"
     ]
    },
    {
     "name": "stdout",
     "output_type": "stream",
     "text": [
      "Adding exchange data to activities\n"
     ]
    },
    {
     "name": "stderr",
     "output_type": "stream",
     "text": [
      "100%|██████████| 30702/30702 [00:02<00:00, 13289.75it/s]\n"
     ]
    },
    {
     "name": "stdout",
     "output_type": "stream",
     "text": [
      "Filling out exchange data\n"
     ]
    },
    {
     "name": "stderr",
     "output_type": "stream",
     "text": [
      "100%|██████████| 935/935 [00:00<00:00, 1847.51it/s]\n"
     ]
    },
    {
     "name": "stdout",
     "output_type": "stream",
     "text": [
      "Loaded regional delivery_truck from brightway!\n",
      "Mapping successfully linked to the database\n"
     ]
    }
   ],
   "execution_count": 9
  },
  {
   "metadata": {
    "ExecuteTime": {
     "end_time": "2024-11-20T19:34:31.266826Z",
     "start_time": "2024-11-20T19:34:31.224597Z"
    }
   },
   "cell_type": "code",
   "source": [
    "if len(unlinked) == 0:\n",
    "    updated_mapping.to_csv(f\"energyscope_data/{esm_location}/mapping_{ei_version_to}.csv\", index=False)\n",
    "else:\n",
    "    print(f\"Unlinked exchanges: {unlinked}\")"
   ],
   "id": "177e9baed10912ae",
   "outputs": [],
   "execution_count": 10
  },
  {
   "metadata": {},
   "cell_type": "markdown",
   "source": "# Adapt the unit conversion file corresponding to the new mapping file",
   "id": "789a91e8cedd3728"
  },
  {
   "metadata": {
    "ExecuteTime": {
     "end_time": "2024-11-20T19:35:33.091575Z",
     "start_time": "2024-11-20T19:35:33.059576Z"
    }
   },
   "cell_type": "code",
   "source": "unit_conversion = pd.read_csv(f\"energyscope_data/{esm_location}/unit_conversion_{ei_version_from}.csv\")",
   "id": "3a3b3ef110eb5c79",
   "outputs": [],
   "execution_count": 18
  },
  {
   "metadata": {
    "ExecuteTime": {
     "end_time": "2024-11-20T19:35:33.688665Z",
     "start_time": "2024-11-20T19:35:33.673842Z"
    }
   },
   "cell_type": "code",
   "source": "unit_changes",
   "id": "e9afa332c6fd0b44",
   "outputs": [
    {
     "data": {
      "text/plain": [
       "[[('OCGT_LARGE', 'Operation'),\n",
       "  ('electricity, medium voltage',\n",
       "   'natural gas, burned in gas turbine, for compressor station',\n",
       "   'CA-QC'),\n",
       "  'kilowatt hour',\n",
       "  'megajoule'],\n",
       " [('OCGT_SMALL', 'Operation'),\n",
       "  ('electricity, medium voltage',\n",
       "   'natural gas, burned in gas turbine, for compressor station',\n",
       "   'CA-QC'),\n",
       "  'kilowatt hour',\n",
       "  'megajoule']]"
      ]
     },
     "execution_count": 19,
     "metadata": {},
     "output_type": "execute_result"
    }
   ],
   "execution_count": 19
  },
  {
   "metadata": {
    "ExecuteTime": {
     "end_time": "2024-11-20T19:35:35.083871Z",
     "start_time": "2024-11-20T19:35:35.063633Z"
    }
   },
   "cell_type": "code",
   "source": [
    "# Add new unit conversion factors\n",
    "new_unit_conversion_factors = {\n",
    "    ('OCGT_LARGE', 'Operation'): ['= 3.6 * 2.5', '3.6 MJ of heat per kWh, 2.5 kWh NG per kWh electricity'],\n",
    "    ('OCGT_SMALL', 'Operation'): ['= 3.6 * 2.5', '3.6 MJ of heat per kWh, 2.5 kWh NG per kWh electricity'],\n",
    "}"
   ],
   "id": "87f365e334144b41",
   "outputs": [],
   "execution_count": 20
  },
  {
   "metadata": {
    "ExecuteTime": {
     "end_time": "2024-11-20T19:35:35.806809Z",
     "start_time": "2024-11-20T19:35:35.781881Z"
    }
   },
   "cell_type": "code",
   "source": "unit_conversion = update_unit_conversion_file(unit_conversion, unit_changes, new_unit_conversion_factors)",
   "id": "187bf0bb99b39aff",
   "outputs": [],
   "execution_count": 21
  },
  {
   "metadata": {
    "ExecuteTime": {
     "end_time": "2024-11-20T19:35:36.894076Z",
     "start_time": "2024-11-20T19:35:36.873487Z"
    }
   },
   "cell_type": "code",
   "source": "unit_conversion.sort_values(by=['Name', 'Type']).to_csv(f\"energyscope_data/{esm_location}/unit_conversion_{ei_version_to}.csv\", index=False)",
   "id": "792da9e972790018",
   "outputs": [],
   "execution_count": 22
  }
 ],
 "metadata": {
  "kernelspec": {
   "display_name": "Python 3",
   "language": "python",
   "name": "python3"
  },
  "language_info": {
   "codemirror_mode": {
    "name": "ipython",
    "version": 2
   },
   "file_extension": ".py",
   "mimetype": "text/x-python",
   "name": "python",
   "nbconvert_exporter": "python",
   "pygments_lexer": "ipython2",
   "version": "2.7.6"
  }
 },
 "nbformat": 4,
 "nbformat_minor": 5
}
