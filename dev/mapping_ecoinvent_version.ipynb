{
 "cells": [
  {
   "metadata": {},
   "cell_type": "markdown",
   "source": "# Change the ecoinvent version of the mapping file",
   "id": "c29fdc4e250a1915"
  },
  {
   "metadata": {
    "ExecuteTime": {
     "end_time": "2024-07-10T21:24:26.898884Z",
     "start_time": "2024-07-10T21:24:17.732430Z"
    }
   },
   "cell_type": "code",
   "source": [
    "import pandas as pd\n",
    "import bw2data as bd\n",
    "from mescal import *\n",
    "import itertools"
   ],
   "id": "3ce6f93f36aa81df",
   "outputs": [],
   "execution_count": 1
  },
  {
   "metadata": {
    "ExecuteTime": {
     "end_time": "2024-07-10T21:24:26.908117Z",
     "start_time": "2024-07-10T21:24:26.898884Z"
    }
   },
   "cell_type": "code",
   "source": [
    "esm_location = 'CA-QC'\n",
    "ei_version_from = '3.8'\n",
    "ei_version_to = '3.9.1'"
   ],
   "id": "ccc0ee461b4aad64",
   "outputs": [],
   "execution_count": 2
  },
  {
   "metadata": {
    "ExecuteTime": {
     "end_time": "2024-07-10T21:24:27.053189Z",
     "start_time": "2024-07-10T21:24:26.908117Z"
    }
   },
   "cell_type": "code",
   "source": "bd.projects.set_current(f\"ecoinvent{ei_version_to}\")",
   "id": "4b5551193f4ff0f8",
   "outputs": [],
   "execution_count": 3
  },
  {
   "metadata": {
    "ExecuteTime": {
     "end_time": "2024-07-10T21:24:27.062142Z",
     "start_time": "2024-07-10T21:24:27.053189Z"
    }
   },
   "cell_type": "code",
   "source": "name_comp_db = f'ecoinvent_cutoff_{ei_version_from}_remind_SSP2-Base_2020_comp_{esm_location}'",
   "id": "b3cafa4b10f21a1a",
   "outputs": [],
   "execution_count": 4
  },
  {
   "metadata": {
    "ExecuteTime": {
     "end_time": "2024-07-10T21:24:27.084065Z",
     "start_time": "2024-07-10T21:24:27.063148Z"
    }
   },
   "cell_type": "code",
   "source": "mapping = pd.read_csv(f\"energyscope_data/{esm_location}/mapping_{ei_version_from}_linked.csv\")",
   "id": "54ab89faf6484f22",
   "outputs": [],
   "execution_count": 5
  },
  {
   "metadata": {
    "ExecuteTime": {
     "end_time": "2024-07-10T21:26:09.207643Z",
     "start_time": "2024-07-10T21:24:27.084065Z"
    }
   },
   "cell_type": "code",
   "source": "updated_mapping, unit_changes = change_ecoinvent_version_mapping(mapping, ei_version_from, ei_version_to, name_comp_db)",
   "id": "a6f7ea691f5ee6b1",
   "outputs": [
    {
     "name": "stdout",
     "output_type": "stream",
     "text": [
      "BATTERY Construction\n",
      "Old: battery, Li-ion, rechargeable, prismatic - market for battery, Li-ion, rechargeable, prismatic - GLO\n",
      "New: battery, Li-ion, LiMn2O4, rechargeable, prismatic - market for battery, Li-ion, LiMn2O4, rechargeable, prismatic - GLO\n",
      "CEMENT_PROD Operation\n",
      "Old: cement, alternative constituents 21-35% - cement production, alternative constituents 21-35% - RoW\n",
      "New: cement, CEM II/B - cement production, CEM II/B - RoW\n",
      "CEMENT_PROD_HP Operation\n",
      "Old: cement, alternative constituents 21-35% - cement production, alternative constituents 21-35% - RoW\n",
      "New: cement, CEM II/B - cement production, CEM II/B - RoW\n",
      "ELEC_STO Construction\n",
      "Old: battery, Li-ion, rechargeable, prismatic - market for battery, Li-ion, rechargeable, prismatic - GLO\n",
      "New: battery, Li-ion, LiMn2O4, rechargeable, prismatic - market for battery, Li-ion, LiMn2O4, rechargeable, prismatic - GLO\n",
      "NG_COMP_HE Operation\n",
      "Old: natural gas, high pressure - market for natural gas, high pressure - CA-QC\n",
      "New: natural gas, high pressure - market for natural gas, high pressure - CA\n",
      "NG_EXP_EH Operation\n",
      "Old: natural gas, high pressure - market for natural gas, high pressure - CA-QC\n",
      "New: natural gas, high pressure - market for natural gas, high pressure - CA\n",
      "NG_EXP_EH_COGEN Operation\n",
      "Old: natural gas, high pressure - market for natural gas, high pressure - CA-QC\n",
      "New: natural gas, high pressure - market for natural gas, high pressure - CA\n",
      "NG_EXP_HM Operation\n",
      "Old: natural gas, high pressure - market for natural gas, high pressure - CA-QC\n",
      "New: natural gas, high pressure - market for natural gas, high pressure - CA\n",
      "NG_EXP_HM_COGEN Operation\n",
      "Old: natural gas, high pressure - market for natural gas, high pressure - CA-QC\n",
      "New: natural gas, high pressure - market for natural gas, high pressure - CA\n",
      "WARNING: unit changed for electricity, medium voltage - natural gas, burned in gas turbine, for compressor station - CA-QC\n",
      "OCGT_LARGE Operation\n",
      "Old: electricity, medium voltage - natural gas, burned in gas turbine, for compressor station - CA-QC\n",
      "New: natural gas, burned in gas turbine - natural gas, burned in gas turbine - CA\n",
      "WARNING: unit changed for electricity, medium voltage - natural gas, burned in gas turbine, for compressor station - CA-QC\n",
      "OCGT_SMALL Operation\n",
      "Old: electricity, medium voltage - natural gas, burned in gas turbine, for compressor station - CA-QC\n",
      "New: natural gas, burned in gas turbine - natural gas, burned in gas turbine - CA\n",
      "NG_EHP Resource\n",
      "Old: natural gas, high pressure - market for natural gas, high pressure - CA-QC\n",
      "New: natural gas, high pressure - market for natural gas, high pressure - CA\n",
      "NG_HP Resource\n",
      "Old: natural gas, high pressure - market for natural gas, high pressure - CA-QC\n",
      "New: natural gas, high pressure - market for natural gas, high pressure - CA\n",
      "NG_EHP Flow\n",
      "Old: natural gas, high pressure - market for natural gas, high pressure - CA-QC\n",
      "New: natural gas, high pressure - market for natural gas, high pressure - CA\n",
      "NG_HP Flow\n",
      "Old: natural gas, high pressure - market for natural gas, high pressure - CA-QC\n",
      "New: natural gas, high pressure - market for natural gas, high pressure - CA\n"
     ]
    }
   ],
   "execution_count": 6
  },
  {
   "metadata": {
    "ExecuteTime": {
     "end_time": "2024-07-10T21:26:09.234107Z",
     "start_time": "2024-07-10T21:26:09.210690Z"
    }
   },
   "cell_type": "code",
   "source": "updated_mapping.head()",
   "id": "2f42c943ffe2146",
   "outputs": [
    {
     "data": {
      "text/plain": [
       "                 Name          Type  \\\n",
       "0              AEC_OG     Operation   \n",
       "1        AEC_OG_PLANT  Construction   \n",
       "2  AEC_OG_PLANT_DECOM  Construction   \n",
       "3        AEC_OG_STACK  Construction   \n",
       "4  AEC_OG_STACK_DECOM  Construction   \n",
       "\n",
       "                                      Product  \\\n",
       "0                   hydrogen, gaseous, 20 bar   \n",
       "1   electrolyzer, 1MWe, AEC, Balance of Plant   \n",
       "2  used fuel cell balance of plant, 1MWe, AEC   \n",
       "3              electrolyzer, 1MWe, AEC, Stack   \n",
       "4             used fuel cell stack, 1MWe, AEC   \n",
       "\n",
       "                                            Activity Location  \\\n",
       "0  hydrogen production, gaseous, 20 bar, from AEC...       CH   \n",
       "1  electrolyzer production, 1MWe, AEC, Balance of...      RER   \n",
       "2  treatment of fuel cell balance of plant, 1MWe,...      RER   \n",
       "3          electrolyzer production, 1MWe, AEC, Stack      RER   \n",
       "4            treatment of fuel cell stack, 1MWe, AEC      RER   \n",
       "\n",
       "                                            Database  \n",
       "0  ecoinvent_cutoff_3.9.1_remind_SSP2-Base_2020_w...  \n",
       "1  ecoinvent_cutoff_3.9.1_remind_SSP2-Base_2020_w...  \n",
       "2  ecoinvent_cutoff_3.9.1_remind_SSP2-Base_2020_w...  \n",
       "3  ecoinvent_cutoff_3.9.1_remind_SSP2-Base_2020_w...  \n",
       "4  ecoinvent_cutoff_3.9.1_remind_SSP2-Base_2020_w...  "
      ],
      "text/html": [
       "<div>\n",
       "<style scoped>\n",
       "    .dataframe tbody tr th:only-of-type {\n",
       "        vertical-align: middle;\n",
       "    }\n",
       "\n",
       "    .dataframe tbody tr th {\n",
       "        vertical-align: top;\n",
       "    }\n",
       "\n",
       "    .dataframe thead th {\n",
       "        text-align: right;\n",
       "    }\n",
       "</style>\n",
       "<table border=\"1\" class=\"dataframe\">\n",
       "  <thead>\n",
       "    <tr style=\"text-align: right;\">\n",
       "      <th></th>\n",
       "      <th>Name</th>\n",
       "      <th>Type</th>\n",
       "      <th>Product</th>\n",
       "      <th>Activity</th>\n",
       "      <th>Location</th>\n",
       "      <th>Database</th>\n",
       "    </tr>\n",
       "  </thead>\n",
       "  <tbody>\n",
       "    <tr>\n",
       "      <th>0</th>\n",
       "      <td>AEC_OG</td>\n",
       "      <td>Operation</td>\n",
       "      <td>hydrogen, gaseous, 20 bar</td>\n",
       "      <td>hydrogen production, gaseous, 20 bar, from AEC...</td>\n",
       "      <td>CH</td>\n",
       "      <td>ecoinvent_cutoff_3.9.1_remind_SSP2-Base_2020_w...</td>\n",
       "    </tr>\n",
       "    <tr>\n",
       "      <th>1</th>\n",
       "      <td>AEC_OG_PLANT</td>\n",
       "      <td>Construction</td>\n",
       "      <td>electrolyzer, 1MWe, AEC, Balance of Plant</td>\n",
       "      <td>electrolyzer production, 1MWe, AEC, Balance of...</td>\n",
       "      <td>RER</td>\n",
       "      <td>ecoinvent_cutoff_3.9.1_remind_SSP2-Base_2020_w...</td>\n",
       "    </tr>\n",
       "    <tr>\n",
       "      <th>2</th>\n",
       "      <td>AEC_OG_PLANT_DECOM</td>\n",
       "      <td>Construction</td>\n",
       "      <td>used fuel cell balance of plant, 1MWe, AEC</td>\n",
       "      <td>treatment of fuel cell balance of plant, 1MWe,...</td>\n",
       "      <td>RER</td>\n",
       "      <td>ecoinvent_cutoff_3.9.1_remind_SSP2-Base_2020_w...</td>\n",
       "    </tr>\n",
       "    <tr>\n",
       "      <th>3</th>\n",
       "      <td>AEC_OG_STACK</td>\n",
       "      <td>Construction</td>\n",
       "      <td>electrolyzer, 1MWe, AEC, Stack</td>\n",
       "      <td>electrolyzer production, 1MWe, AEC, Stack</td>\n",
       "      <td>RER</td>\n",
       "      <td>ecoinvent_cutoff_3.9.1_remind_SSP2-Base_2020_w...</td>\n",
       "    </tr>\n",
       "    <tr>\n",
       "      <th>4</th>\n",
       "      <td>AEC_OG_STACK_DECOM</td>\n",
       "      <td>Construction</td>\n",
       "      <td>used fuel cell stack, 1MWe, AEC</td>\n",
       "      <td>treatment of fuel cell stack, 1MWe, AEC</td>\n",
       "      <td>RER</td>\n",
       "      <td>ecoinvent_cutoff_3.9.1_remind_SSP2-Base_2020_w...</td>\n",
       "    </tr>\n",
       "  </tbody>\n",
       "</table>\n",
       "</div>"
      ]
     },
     "execution_count": 7,
     "metadata": {},
     "output_type": "execute_result"
    }
   ],
   "execution_count": 7
  },
  {
   "metadata": {
    "ExecuteTime": {
     "end_time": "2024-07-10T21:26:28.759904Z",
     "start_time": "2024-07-10T21:26:09.235639Z"
    }
   },
   "cell_type": "code",
   "source": [
    "base_db = concatenate_databases(list(updated_mapping.Database.unique()), create_pickle=True)\n",
    "unlinked = test_mapping_file(updated_mapping, base_db)"
   ],
   "id": "af4bea91353cab7",
   "outputs": [
    {
     "name": "stdout",
     "output_type": "stream",
     "text": [
      "Mapping successfully linked to the database\n"
     ]
    }
   ],
   "execution_count": 8
  },
  {
   "metadata": {
    "ExecuteTime": {
     "end_time": "2024-07-10T21:26:28.786072Z",
     "start_time": "2024-07-10T21:26:28.761918Z"
    }
   },
   "cell_type": "code",
   "source": [
    "if len(unlinked) == 0:\n",
    "    updated_mapping.to_csv(f\"energyscope_data/{esm_location}/mapping_{ei_version_to}.csv\", index=False)"
   ],
   "id": "177e9baed10912ae",
   "outputs": [],
   "execution_count": 9
  },
  {
   "metadata": {},
   "cell_type": "markdown",
   "source": "# Adapt the unit conversion file corresponding to the new mapping file",
   "id": "789a91e8cedd3728"
  },
  {
   "metadata": {
    "ExecuteTime": {
     "end_time": "2024-07-10T21:26:28.799096Z",
     "start_time": "2024-07-10T21:26:28.789081Z"
    }
   },
   "cell_type": "code",
   "source": "unit_conversion = pd.read_csv(f\"energyscope_data/{esm_location}/unit_conversion_{ei_version_from}.csv\")",
   "id": "3a3b3ef110eb5c79",
   "outputs": [],
   "execution_count": 10
  },
  {
   "metadata": {
    "ExecuteTime": {
     "end_time": "2024-07-10T21:26:28.808053Z",
     "start_time": "2024-07-10T21:26:28.801127Z"
    }
   },
   "cell_type": "code",
   "source": "unit_changes",
   "id": "e9afa332c6fd0b44",
   "outputs": [
    {
     "data": {
      "text/plain": [
       "[[('OCGT_LARGE', 'Operation'),\n",
       "  ('electricity, medium voltage',\n",
       "   'natural gas, burned in gas turbine, for compressor station',\n",
       "   'CA-QC'),\n",
       "  'kWh',\n",
       "  'MJ'],\n",
       " [('OCGT_SMALL', 'Operation'),\n",
       "  ('electricity, medium voltage',\n",
       "   'natural gas, burned in gas turbine, for compressor station',\n",
       "   'CA-QC'),\n",
       "  'kWh',\n",
       "  'MJ']]"
      ]
     },
     "execution_count": 11,
     "metadata": {},
     "output_type": "execute_result"
    }
   ],
   "execution_count": 11
  },
  {
   "metadata": {
    "ExecuteTime": {
     "end_time": "2024-07-10T21:26:28.816596Z",
     "start_time": "2024-07-10T21:26:28.810096Z"
    }
   },
   "cell_type": "code",
   "source": [
    "# Add new unit conversion factors\n",
    "new_unit_conversion_factors = {\n",
    "    ('OCGT_LARGE', 'Operation'): 3.6e6 * 2.5,  # 2.5 MWh NG per MWh electricity\n",
    "    ('OCGT_SMALL', 'Operation'): 3.6e6 * 2.5,  # 2.5 MWh NG per MWh electricity\n",
    "}"
   ],
   "id": "87f365e334144b41",
   "outputs": [],
   "execution_count": 12
  },
  {
   "metadata": {
    "ExecuteTime": {
     "end_time": "2024-07-10T21:26:28.833446Z",
     "start_time": "2024-07-10T21:26:28.818613Z"
    }
   },
   "cell_type": "code",
   "source": "unit_conversion = update_unit_conversion_file(unit_conversion, unit_changes, new_unit_conversion_factors)",
   "id": "187bf0bb99b39aff",
   "outputs": [],
   "execution_count": 13
  },
  {
   "metadata": {
    "ExecuteTime": {
     "end_time": "2024-07-10T21:26:28.855988Z",
     "start_time": "2024-07-10T21:26:28.835457Z"
    }
   },
   "cell_type": "code",
   "source": "unit_conversion.sort_values(by=['Name', 'Type']).to_csv(f\"energyscope_data/{esm_location}/unit_conversion_{ei_version_to}.csv\", index=False)",
   "id": "792da9e972790018",
   "outputs": [],
   "execution_count": 14
  }
 ],
 "metadata": {
  "kernelspec": {
   "display_name": "Python 3",
   "language": "python",
   "name": "python3"
  },
  "language_info": {
   "codemirror_mode": {
    "name": "ipython",
    "version": 2
   },
   "file_extension": ".py",
   "mimetype": "text/x-python",
   "name": "python",
   "nbconvert_exporter": "python",
   "pygments_lexer": "ipython2",
   "version": "2.7.6"
  }
 },
 "nbformat": 4,
 "nbformat_minor": 5
}
