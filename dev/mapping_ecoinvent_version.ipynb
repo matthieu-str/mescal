{
 "cells": [
  {
   "metadata": {},
   "cell_type": "markdown",
   "source": "# Change the ecoinvent version of the mapping file",
   "id": "c29fdc4e250a1915"
  },
  {
   "metadata": {
    "ExecuteTime": {
     "end_time": "2024-07-17T20:01:32.776123Z",
     "start_time": "2024-07-17T20:01:29.061022Z"
    }
   },
   "cell_type": "code",
   "source": [
    "import pandas as pd\n",
    "import bw2data as bd\n",
    "from mescal import *\n",
    "import itertools"
   ],
   "id": "3ce6f93f36aa81df",
   "outputs": [],
   "execution_count": 1
  },
  {
   "metadata": {
    "ExecuteTime": {
     "end_time": "2024-07-17T20:01:32.782273Z",
     "start_time": "2024-07-17T20:01:32.776123Z"
    }
   },
   "cell_type": "code",
   "source": [
    "esm_location = 'CH'\n",
    "ei_version_from = '3.8'\n",
    "ei_version_to = '3.10'"
   ],
   "id": "ccc0ee461b4aad64",
   "outputs": [],
   "execution_count": 2
  },
  {
   "metadata": {
    "ExecuteTime": {
     "end_time": "2024-07-17T20:01:32.879589Z",
     "start_time": "2024-07-17T20:01:32.782273Z"
    }
   },
   "cell_type": "code",
   "source": "bd.projects.set_current(f\"ecoinvent{ei_version_to}\")",
   "id": "4b5551193f4ff0f8",
   "outputs": [],
   "execution_count": 3
  },
  {
   "metadata": {
    "ExecuteTime": {
     "end_time": "2024-07-17T20:01:32.885773Z",
     "start_time": "2024-07-17T20:01:32.879589Z"
    }
   },
   "cell_type": "code",
   "source": "name_comp_db = f'ecoinvent_cutoff_{ei_version_from}_remind_SSP2-Base_2020_with_CPC_comp_{esm_location}'",
   "id": "b3cafa4b10f21a1a",
   "outputs": [],
   "execution_count": 4
  },
  {
   "metadata": {
    "ExecuteTime": {
     "end_time": "2024-07-17T20:01:32.900445Z",
     "start_time": "2024-07-17T20:01:32.885773Z"
    }
   },
   "cell_type": "code",
   "source": "mapping = pd.read_csv(f\"energyscope_data/{esm_location}/mapping_{ei_version_from}_linked.csv\")",
   "id": "54ab89faf6484f22",
   "outputs": [],
   "execution_count": 5
  },
  {
   "metadata": {
    "ExecuteTime": {
     "end_time": "2024-07-17T20:05:30.233537Z",
     "start_time": "2024-07-17T20:01:32.903590Z"
    }
   },
   "cell_type": "code",
   "source": "updated_mapping, unit_changes = change_ecoinvent_version_mapping(mapping, ei_version_from, ei_version_to, name_comp_db)",
   "id": "a6f7ea691f5ee6b1",
   "outputs": [
    {
     "name": "stdout",
     "output_type": "stream",
     "text": [
      "BATTERY Construction\n",
      "Old: battery, Li-ion, rechargeable, prismatic - market for battery, Li-ion, rechargeable, prismatic - GLO\n",
      "New: battery, Li-ion, LiMn2O4, rechargeable, prismatic - market for battery, Li-ion, LiMn2O4, rechargeable, prismatic - GLO\n",
      "CEMENT_PROD Operation\n",
      "Old: cement, alternative constituents 21-35% - cement production, alternative constituents 21-35% - CH\n",
      "New: cement, CEM II/B - cement production, CEM II/B - CH\n",
      "CEMENT_PROD_HP Operation\n",
      "Old: cement, alternative constituents 21-35% - cement production, alternative constituents 21-35% - CH\n",
      "New: cement, CEM II/B - cement production, CEM II/B - CH\n",
      "CO2_METHANOL Operation\n",
      "Old: methanol - methanol production - GLO\n",
      "New: methanol - methanol production, natural gas reforming - CN\n",
      "CUMENE_PROCESS Operation\n",
      "Old: cumene - cumene production - RER\n",
      "New: cumene - cumene production, benzene alkylation - RER\n",
      "ELEC_STO Construction\n",
      "Old: battery, Li-ion, rechargeable, prismatic - market for battery, Li-ion, rechargeable, prismatic - GLO\n",
      "New: battery, Li-ion, LiMn2O4, rechargeable, prismatic - market for battery, Li-ion, LiMn2O4, rechargeable, prismatic - GLO\n",
      "ETHANE_OXIDATION Operation\n",
      "Old: acetic acid, without water, in 98% solution state - acetic acid production, product in 98% solution state - RER\n",
      "New: acetic acid, without water, in 98% solution state - acetic acid production, methanol carboxylation (Monsanto), product in 98% solution state - RER\n",
      "ETHANE_TO_ETHYLENE Operation\n",
      "Old: ethylene - ethylene production, average - RER\n",
      "New: ethylene - unsaturated hydrocarbons production, steam cracking operation, average - RER\n",
      "ETHYLENE_POLYMERIZATION Operation\n",
      "Old: ethylene - ethylene production, average - RER\n",
      "New: ethylene - unsaturated hydrocarbons production, steam cracking operation, average - RER\n",
      "H2_COMP_HE Operation\n",
      "Old: hydrogen, gaseous - market for hydrogen, gaseous - RoW\n",
      "New: hydrogen, gaseous, low pressure - market for hydrogen, gaseous, low pressure - RoW\n",
      "H2_COMP_LM Operation\n",
      "Old: hydrogen, gaseous - market for hydrogen, gaseous - RoW\n",
      "New: hydrogen, gaseous, low pressure - market for hydrogen, gaseous, low pressure - RoW\n",
      "H2_COMP_MH Operation\n",
      "Old: hydrogen, gaseous - market for hydrogen, gaseous - RoW\n",
      "New: hydrogen, gaseous, low pressure - market for hydrogen, gaseous, low pressure - RoW\n",
      "H2_EXP_EH Operation\n",
      "Old: hydrogen, gaseous - market for hydrogen, gaseous - RoW\n",
      "New: hydrogen, gaseous, low pressure - market for hydrogen, gaseous, low pressure - RoW\n",
      "H2_EXP_EH_COGEN Operation\n",
      "Old: hydrogen, gaseous - market for hydrogen, gaseous - RoW\n",
      "New: hydrogen, gaseous, low pressure - market for hydrogen, gaseous, low pressure - RoW\n",
      "H2_EXP_HM Operation\n",
      "Old: hydrogen, gaseous - market for hydrogen, gaseous - RoW\n",
      "New: hydrogen, gaseous, low pressure - market for hydrogen, gaseous, low pressure - RoW\n",
      "H2_EXP_HM_COGEN Operation\n",
      "Old: hydrogen, gaseous - market for hydrogen, gaseous - RoW\n",
      "New: hydrogen, gaseous, low pressure - market for hydrogen, gaseous, low pressure - RoW\n",
      "H2_EXP_ML Operation\n",
      "Old: hydrogen, gaseous - market for hydrogen, gaseous - RoW\n",
      "New: hydrogen, gaseous, low pressure - market for hydrogen, gaseous, low pressure - RoW\n",
      "H2_EXP_ML_COGEN Operation\n",
      "Old: hydrogen, gaseous - market for hydrogen, gaseous - RoW\n",
      "New: hydrogen, gaseous, low pressure - market for hydrogen, gaseous, low pressure - RoW\n",
      "METATHESIS_PROPYLENE Operation\n",
      "Old: propylene - propylene production - RER\n",
      "New: propylene - unsaturated hydrocarbons production, steam cracking operation, average - RER\n",
      "METHANE_TO_METHANOL Operation\n",
      "Old: methanol - methanol production - GLO\n",
      "New: methanol - methanol production, natural gas reforming - CN\n",
      "METHANOL_CARBONYLATION Operation\n",
      "Old: acetic acid, without water, in 98% solution state - acetic acid production, product in 98% solution state - RER\n",
      "New: acetic acid, without water, in 98% solution state - acetic acid production, methanol carboxylation (Monsanto), product in 98% solution state - RER\n",
      "METHANOL_FT Operation\n",
      "Old: methanol, from biomass - methanol production, from synthetic gas - CH\n",
      "New: methanol, from biomass - methanol production, biomass gasification - CH\n",
      "METHANOL_TO_AROMATICS Operation\n",
      "Old: xylene - xylene production - RER\n",
      "New: xylene, mixed - BTX production, from pyrolysis gas, average - RER\n",
      "BENZENE Resource\n",
      "Old: benzene - market for benzene - GLO\n",
      "New: benzene - market for benzene - RER\n",
      "H2_EHP Resource\n",
      "Old: hydrogen, gaseous - market for hydrogen, gaseous - RoW\n",
      "New: hydrogen, gaseous, low pressure - market for hydrogen, gaseous, low pressure - RoW\n",
      "H2_HP Resource\n",
      "Old: hydrogen, gaseous - market for hydrogen, gaseous - RoW\n",
      "New: hydrogen, gaseous, low pressure - market for hydrogen, gaseous, low pressure - RoW\n",
      "H2_LP Resource\n",
      "Old: hydrogen, gaseous - market for hydrogen, gaseous - RoW\n",
      "New: hydrogen, gaseous, low pressure - market for hydrogen, gaseous, low pressure - RoW\n",
      "H2_MP Resource\n",
      "Old: hydrogen, gaseous - market for hydrogen, gaseous - RoW\n",
      "New: hydrogen, gaseous, low pressure - market for hydrogen, gaseous, low pressure - RoW\n",
      "METHANOL Resource\n",
      "Old: methanol - market for methanol - GLO\n",
      "New: methanol - market for methanol - CN\n",
      "XYLENE Resource\n",
      "Old: xylene - market for xylene - RER\n",
      "New: xylene, mixed - market for xylene, mixed - RER\n",
      "BENZENE Flow\n",
      "Old: benzene - market for benzene - GLO\n",
      "New: benzene - market for benzene - RER\n",
      "H2_EHP Flow\n",
      "Old: hydrogen, gaseous - market for hydrogen, gaseous - RoW\n",
      "New: hydrogen, gaseous, low pressure - market for hydrogen, gaseous, low pressure - RoW\n",
      "H2_HP Flow\n",
      "Old: hydrogen, gaseous - market for hydrogen, gaseous - RoW\n",
      "New: hydrogen, gaseous, low pressure - market for hydrogen, gaseous, low pressure - RoW\n",
      "H2_LP Flow\n",
      "Old: hydrogen, gaseous - market for hydrogen, gaseous - RoW\n",
      "New: hydrogen, gaseous, low pressure - market for hydrogen, gaseous, low pressure - RoW\n",
      "H2_MP Flow\n",
      "Old: hydrogen, gaseous - market for hydrogen, gaseous - RoW\n",
      "New: hydrogen, gaseous, low pressure - market for hydrogen, gaseous, low pressure - RoW\n",
      "METHANOL Flow\n",
      "Old: methanol - market for methanol - GLO\n",
      "New: methanol - market for methanol - CN\n",
      "XYLENE Flow\n",
      "Old: xylene - market for xylene - RER\n",
      "New: xylene, mixed - market for xylene, mixed - RER\n"
     ]
    }
   ],
   "execution_count": 6
  },
  {
   "metadata": {
    "ExecuteTime": {
     "end_time": "2024-07-17T20:05:30.257192Z",
     "start_time": "2024-07-17T20:05:30.233537Z"
    }
   },
   "cell_type": "code",
   "source": "updated_mapping.head()",
   "id": "2f42c943ffe2146",
   "outputs": [
    {
     "data": {
      "text/plain": [
       "                                Name          Type  \\\n",
       "0              ALKALINE_ELECTROLYSIS     Operation   \n",
       "1        ALKALINE_ELECTROLYSIS_PLANT  Construction   \n",
       "2  ALKALINE_ELECTROLYSIS_PLANT_DECOM  Construction   \n",
       "3        ALKALINE_ELECTROLYSIS_STACK  Construction   \n",
       "4  ALKALINE_ELECTROLYSIS_STACK_DECOM  Construction   \n",
       "\n",
       "                                      Product  \\\n",
       "0                   hydrogen, gaseous, 20 bar   \n",
       "1   electrolyzer, 1MWe, AEC, Balance of Plant   \n",
       "2  used fuel cell balance of plant, 1MWe, AEC   \n",
       "3              electrolyzer, 1MWe, AEC, Stack   \n",
       "4             used fuel cell stack, 1MWe, AEC   \n",
       "\n",
       "                                            Activity Location  \\\n",
       "0  hydrogen production, gaseous, 20 bar, from AEC...       CH   \n",
       "1  electrolyzer production, 1MWe, AEC, Balance of...      RER   \n",
       "2  treatment of fuel cell balance of plant, 1MWe,...      RER   \n",
       "3          electrolyzer production, 1MWe, AEC, Stack      RER   \n",
       "4            treatment of fuel cell stack, 1MWe, AEC      RER   \n",
       "\n",
       "                                            Database  \n",
       "0  ecoinvent_cutoff_3.10_remind_SSP2-Base_2020_wi...  \n",
       "1  ecoinvent_cutoff_3.10_remind_SSP2-Base_2020_wi...  \n",
       "2  ecoinvent_cutoff_3.10_remind_SSP2-Base_2020_wi...  \n",
       "3  ecoinvent_cutoff_3.10_remind_SSP2-Base_2020_wi...  \n",
       "4  ecoinvent_cutoff_3.10_remind_SSP2-Base_2020_wi...  "
      ],
      "text/html": [
       "<div>\n",
       "<style scoped>\n",
       "    .dataframe tbody tr th:only-of-type {\n",
       "        vertical-align: middle;\n",
       "    }\n",
       "\n",
       "    .dataframe tbody tr th {\n",
       "        vertical-align: top;\n",
       "    }\n",
       "\n",
       "    .dataframe thead th {\n",
       "        text-align: right;\n",
       "    }\n",
       "</style>\n",
       "<table border=\"1\" class=\"dataframe\">\n",
       "  <thead>\n",
       "    <tr style=\"text-align: right;\">\n",
       "      <th></th>\n",
       "      <th>Name</th>\n",
       "      <th>Type</th>\n",
       "      <th>Product</th>\n",
       "      <th>Activity</th>\n",
       "      <th>Location</th>\n",
       "      <th>Database</th>\n",
       "    </tr>\n",
       "  </thead>\n",
       "  <tbody>\n",
       "    <tr>\n",
       "      <th>0</th>\n",
       "      <td>ALKALINE_ELECTROLYSIS</td>\n",
       "      <td>Operation</td>\n",
       "      <td>hydrogen, gaseous, 20 bar</td>\n",
       "      <td>hydrogen production, gaseous, 20 bar, from AEC...</td>\n",
       "      <td>CH</td>\n",
       "      <td>ecoinvent_cutoff_3.10_remind_SSP2-Base_2020_wi...</td>\n",
       "    </tr>\n",
       "    <tr>\n",
       "      <th>1</th>\n",
       "      <td>ALKALINE_ELECTROLYSIS_PLANT</td>\n",
       "      <td>Construction</td>\n",
       "      <td>electrolyzer, 1MWe, AEC, Balance of Plant</td>\n",
       "      <td>electrolyzer production, 1MWe, AEC, Balance of...</td>\n",
       "      <td>RER</td>\n",
       "      <td>ecoinvent_cutoff_3.10_remind_SSP2-Base_2020_wi...</td>\n",
       "    </tr>\n",
       "    <tr>\n",
       "      <th>2</th>\n",
       "      <td>ALKALINE_ELECTROLYSIS_PLANT_DECOM</td>\n",
       "      <td>Construction</td>\n",
       "      <td>used fuel cell balance of plant, 1MWe, AEC</td>\n",
       "      <td>treatment of fuel cell balance of plant, 1MWe,...</td>\n",
       "      <td>RER</td>\n",
       "      <td>ecoinvent_cutoff_3.10_remind_SSP2-Base_2020_wi...</td>\n",
       "    </tr>\n",
       "    <tr>\n",
       "      <th>3</th>\n",
       "      <td>ALKALINE_ELECTROLYSIS_STACK</td>\n",
       "      <td>Construction</td>\n",
       "      <td>electrolyzer, 1MWe, AEC, Stack</td>\n",
       "      <td>electrolyzer production, 1MWe, AEC, Stack</td>\n",
       "      <td>RER</td>\n",
       "      <td>ecoinvent_cutoff_3.10_remind_SSP2-Base_2020_wi...</td>\n",
       "    </tr>\n",
       "    <tr>\n",
       "      <th>4</th>\n",
       "      <td>ALKALINE_ELECTROLYSIS_STACK_DECOM</td>\n",
       "      <td>Construction</td>\n",
       "      <td>used fuel cell stack, 1MWe, AEC</td>\n",
       "      <td>treatment of fuel cell stack, 1MWe, AEC</td>\n",
       "      <td>RER</td>\n",
       "      <td>ecoinvent_cutoff_3.10_remind_SSP2-Base_2020_wi...</td>\n",
       "    </tr>\n",
       "  </tbody>\n",
       "</table>\n",
       "</div>"
      ]
     },
     "execution_count": 7,
     "metadata": {},
     "output_type": "execute_result"
    }
   ],
   "execution_count": 7
  },
  {
   "metadata": {
    "ExecuteTime": {
     "end_time": "2024-07-17T20:06:52.099006Z",
     "start_time": "2024-07-17T20:05:30.259411Z"
    }
   },
   "cell_type": "code",
   "source": [
    "base_db = load_multiple_databases(list(updated_mapping.Database.unique()))\n",
    "unlinked = test_mapping_file(updated_mapping, base_db)"
   ],
   "id": "af4bea91353cab7",
   "outputs": [
    {
     "name": "stdout",
     "output_type": "stream",
     "text": [
      "Getting activity data\n"
     ]
    },
    {
     "name": "stderr",
     "output_type": "stream",
     "text": [
      "100%|██████████| 34093/34093 [00:00<00:00, 52303.27it/s]\n"
     ]
    },
    {
     "name": "stdout",
     "output_type": "stream",
     "text": [
      "Adding exchange data to activities\n"
     ]
    },
    {
     "name": "stderr",
     "output_type": "stream",
     "text": [
      "100%|██████████| 1154525/1154525 [01:05<00:00, 17592.76it/s]\n"
     ]
    },
    {
     "name": "stdout",
     "output_type": "stream",
     "text": [
      "Filling out exchange data\n"
     ]
    },
    {
     "name": "stderr",
     "output_type": "stream",
     "text": [
      "100%|██████████| 34093/34093 [00:05<00:00, 6563.86it/s] \n"
     ]
    },
    {
     "name": "stdout",
     "output_type": "stream",
     "text": [
      "Mapping successfully linked to the database\n"
     ]
    }
   ],
   "execution_count": 8
  },
  {
   "metadata": {
    "ExecuteTime": {
     "end_time": "2024-07-17T20:06:52.149043Z",
     "start_time": "2024-07-17T20:06:52.104084Z"
    }
   },
   "cell_type": "code",
   "source": [
    "if len(unlinked) == 0:\n",
    "    updated_mapping.to_csv(f\"energyscope_data/{esm_location}/mapping_{ei_version_to}.csv\", index=False)\n",
    "else:\n",
    "    print(f\"Unlinked exchanges: {unlinked}\")"
   ],
   "id": "177e9baed10912ae",
   "outputs": [],
   "execution_count": 9
  },
  {
   "metadata": {},
   "cell_type": "markdown",
   "source": "# Adapt the unit conversion file corresponding to the new mapping file",
   "id": "789a91e8cedd3728"
  },
  {
   "metadata": {
    "ExecuteTime": {
     "end_time": "2024-07-17T20:06:52.212450Z",
     "start_time": "2024-07-17T20:06:52.149043Z"
    }
   },
   "cell_type": "code",
   "source": "unit_conversion = pd.read_csv(f\"energyscope_data/{esm_location}/unit_conversion_{ei_version_from}.csv\")",
   "id": "3a3b3ef110eb5c79",
   "outputs": [],
   "execution_count": 10
  },
  {
   "metadata": {
    "ExecuteTime": {
     "end_time": "2024-07-17T20:06:52.269546Z",
     "start_time": "2024-07-17T20:06:52.244754Z"
    }
   },
   "cell_type": "code",
   "source": "unit_changes",
   "id": "e9afa332c6fd0b44",
   "outputs": [
    {
     "data": {
      "text/plain": [
       "[]"
      ]
     },
     "execution_count": 11,
     "metadata": {},
     "output_type": "execute_result"
    }
   ],
   "execution_count": 11
  },
  {
   "metadata": {
    "ExecuteTime": {
     "end_time": "2024-07-17T20:06:52.276630Z",
     "start_time": "2024-07-17T20:06:52.269546Z"
    }
   },
   "cell_type": "code",
   "source": [
    "# Add new unit conversion factors\n",
    "new_unit_conversion_factors = {\n",
    "    ('OCGT_LARGE', 'Operation'): 3.6 * 2.5,  # 3.6 MJ of heat per kWh, 2.5 kWh NG per kWh electricity\n",
    "    ('OCGT_SMALL', 'Operation'): 3.6 * 2.5,  # 3.6 MJ of heat per kWh, 2.5 kWh NG per kWh electricity\n",
    "}"
   ],
   "id": "87f365e334144b41",
   "outputs": [],
   "execution_count": 12
  },
  {
   "metadata": {
    "ExecuteTime": {
     "end_time": "2024-07-17T20:06:52.287883Z",
     "start_time": "2024-07-17T20:06:52.278257Z"
    }
   },
   "cell_type": "code",
   "source": "unit_conversion = update_unit_conversion_file(unit_conversion, unit_changes, new_unit_conversion_factors)",
   "id": "187bf0bb99b39aff",
   "outputs": [],
   "execution_count": 13
  },
  {
   "metadata": {
    "ExecuteTime": {
     "end_time": "2024-07-17T20:06:52.311529Z",
     "start_time": "2024-07-17T20:06:52.287883Z"
    }
   },
   "cell_type": "code",
   "source": "unit_conversion.sort_values(by=['Name', 'Type']).to_csv(f\"energyscope_data/{esm_location}/unit_conversion_{ei_version_to}.csv\", index=False)",
   "id": "792da9e972790018",
   "outputs": [],
   "execution_count": 14
  }
 ],
 "metadata": {
  "kernelspec": {
   "display_name": "Python 3",
   "language": "python",
   "name": "python3"
  },
  "language_info": {
   "codemirror_mode": {
    "name": "ipython",
    "version": 2
   },
   "file_extension": ".py",
   "mimetype": "text/x-python",
   "name": "python",
   "nbconvert_exporter": "python",
   "pygments_lexer": "ipython2",
   "version": "2.7.6"
  }
 },
 "nbformat": 4,
 "nbformat_minor": 5
}
