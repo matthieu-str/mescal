{
 "cells": [
  {
   "metadata": {},
   "cell_type": "markdown",
   "source": "# Change the ecoinvent version of the mapping file",
   "id": "c29fdc4e250a1915"
  },
  {
   "metadata": {
    "ExecuteTime": {
     "end_time": "2024-07-03T19:10:59.462856Z",
     "start_time": "2024-07-03T19:10:52.105118Z"
    }
   },
   "cell_type": "code",
   "source": [
    "import pandas as pd\n",
    "import bw2data as bd\n",
    "from mescal import *\n",
    "import itertools"
   ],
   "id": "3ce6f93f36aa81df",
   "outputs": [],
   "execution_count": 1
  },
  {
   "metadata": {
    "ExecuteTime": {
     "end_time": "2024-07-03T19:10:59.590396Z",
     "start_time": "2024-07-03T19:10:59.465663Z"
    }
   },
   "cell_type": "code",
   "source": "bd.projects.set_current(\"ecoinvent3.9.1\")",
   "id": "4b5551193f4ff0f8",
   "outputs": [],
   "execution_count": 2
  },
  {
   "metadata": {
    "ExecuteTime": {
     "end_time": "2024-07-03T19:10:59.601977Z",
     "start_time": "2024-07-03T19:10:59.590396Z"
    }
   },
   "cell_type": "code",
   "source": [
    "def load_change_report_annex(v_from, v_to):\n",
    "    df = pd.read_excel(f\"data/Change Report Annex v{v_from} - v{v_to}.xlsx\", sheet_name=\"Qualitative Changes\", usecols=[f'Reference Product - {v_from}', f'Activity Name - {v_from}', f'Geography - {v_from}', f'Reference Product - {v_to}', f'Activity Name - {v_to}', f'Geography - {v_to}'])\n",
    "    df.rename(columns={f'Activity Name - {v_from}': 'Activity Name', f'Geography - {v_from}': 'Geography', f'Reference Product - {v_from}': 'Reference Product', f'Activity Name - {v_to}': 'Activity Name - new', f'Geography - {v_to}': 'Geography - new', f'Reference Product - {v_to}': 'Reference Product - new'}, inplace=True)\n",
    "    df['Version from'] = v_from\n",
    "    df['Version to'] = v_to\n",
    "    return df"
   ],
   "id": "e3c5b8dea99a631",
   "outputs": [],
   "execution_count": 3
  },
  {
   "metadata": {
    "ExecuteTime": {
     "end_time": "2024-07-03T19:11:16.923329Z",
     "start_time": "2024-07-03T19:10:59.604087Z"
    }
   },
   "cell_type": "code",
   "source": [
    "change_report_38_39 = load_change_report_annex('3.8', '3.9')\n",
    "change_report_39_391 = load_change_report_annex('3.9', '3.9.1')\n",
    "change_report_391_310 = load_change_report_annex('3.9.1', '3.10')\n",
    "mapping = pd.read_csv(\"energyscope_data/QC/mapping_linked.csv\")"
   ],
   "id": "54ab89faf6484f22",
   "outputs": [],
   "execution_count": 4
  },
  {
   "metadata": {
    "ExecuteTime": {
     "end_time": "2024-07-03T19:11:16.937389Z",
     "start_time": "2024-07-03T19:11:16.923329Z"
    }
   },
   "cell_type": "code",
   "source": [
    "def change_ei_version_napping_file(row, version_from, version_to):\n",
    "    if row.Database[-5:] == '_comp':  # if it is the complementary database\n",
    "        if 'urban delivery' in row.Activity:\n",
    "            row.Database = 'urban delivery_truck'\n",
    "        elif 'regional delivery' in row.Activity:\n",
    "            row.Database = 'regional delivery_truck'\n",
    "        else:\n",
    "            raise ValueError(f\"Unknown truck database for {row.Name}\")\n",
    "    else:\n",
    "        row.Database = row.Database.replace(version_from, version_to)\n",
    "    return row"
   ],
   "id": "68b95e00970e4adb",
   "outputs": [],
   "execution_count": 5
  },
  {
   "metadata": {
    "ExecuteTime": {
     "end_time": "2024-07-03T19:11:17.022453Z",
     "start_time": "2024-07-03T19:11:16.937943Z"
    }
   },
   "cell_type": "code",
   "source": "mapping = mapping.apply(change_ei_version_napping_file, axis=1, args=('3.8', '3.9.1'))",
   "id": "fb1dc7c5dbce15ee",
   "outputs": [],
   "execution_count": 6
  },
  {
   "metadata": {},
   "cell_type": "markdown",
   "source": "## Changing the ecoinvent version",
   "id": "ac7949d5fe2e008f"
  },
  {
   "metadata": {
    "ExecuteTime": {
     "end_time": "2024-07-03T19:11:17.034375Z",
     "start_time": "2024-07-03T19:11:17.022453Z"
    }
   },
   "cell_type": "code",
   "source": "change_report = pd.concat([change_report_38_39, change_report_39_391, change_report_391_310])",
   "id": "288bf7294ed3d6b5",
   "outputs": [],
   "execution_count": 7
  },
  {
   "metadata": {
    "ExecuteTime": {
     "end_time": "2024-07-03T19:11:17.091700Z",
     "start_time": "2024-07-03T19:11:17.034375Z"
    }
   },
   "cell_type": "code",
   "source": "change_report = change_report.drop_duplicates()",
   "id": "e23176be2d01aec8",
   "outputs": [],
   "execution_count": 8
  },
  {
   "metadata": {
    "ExecuteTime": {
     "end_time": "2024-07-03T19:11:17.243458Z",
     "start_time": "2024-07-03T19:11:17.091700Z"
    }
   },
   "cell_type": "code",
   "source": [
    "change_report = change_report.drop(change_report[\n",
    "    (change_report['Reference Product - new'] == change_report['Reference Product'])\n",
    "    & (change_report['Activity Name - new'] == change_report['Activity Name'])\n",
    "    & (change_report['Geography - new'] == change_report['Geography'])\n",
    "].index)"
   ],
   "id": "5127b97f84d6f056",
   "outputs": [],
   "execution_count": 9
  },
  {
   "metadata": {
    "ExecuteTime": {
     "end_time": "2024-07-03T19:11:17.254349Z",
     "start_time": "2024-07-03T19:11:17.243458Z"
    }
   },
   "cell_type": "code",
   "source": "changed_activities = [list(e) for e in {tuple(item) for item in change_report[['Reference Product', 'Activity Name', 'Geography']].values.tolist()}]",
   "id": "9464237266d382b1",
   "outputs": [],
   "execution_count": 10
  },
  {
   "metadata": {
    "ExecuteTime": {
     "end_time": "2024-07-03T19:11:17.275455Z",
     "start_time": "2024-07-03T19:11:17.256363Z"
    }
   },
   "cell_type": "code",
   "source": [
    "def update_mapping_file(mapping, change_report, changed_activities):\n",
    "    \n",
    "    updated_mapping = pd.DataFrame(data=[], columns=mapping.columns)\n",
    "    counter = 0\n",
    "    \n",
    "    for i in range(len(mapping)):\n",
    "        \n",
    "        activity_name = mapping['Activity'].iloc[i]\n",
    "        activity_prod = mapping['Product'].iloc[i]\n",
    "        activity_geo = mapping['Location'].iloc[i]\n",
    "        \n",
    "        if [activity_prod, activity_name, activity_geo] in changed_activities:\n",
    "            \n",
    "            counter += 1\n",
    "            \n",
    "            activity_name_new, activity_prod_new, activity_geo_new = change_report[\n",
    "                (change_report['Reference Product'] == activity_prod) \n",
    "                & (change_report['Activity Name'] == activity_name) \n",
    "                & (change_report['Geography'] == activity_geo)\n",
    "            ][['Activity Name - new', 'Reference Product - new', 'Geography - new']].iloc[0]\n",
    "            \n",
    "            tech_name = mapping['Name'].iloc[i]\n",
    "            tech_type = mapping['Type'].iloc[i]\n",
    "            database = mapping['Database'].iloc[i]\n",
    "            updated_mapping.loc[i] = [tech_name, tech_type, activity_prod_new, activity_name_new, activity_geo_new, database]\n",
    "            \n",
    "            print(tech_name, tech_type)\n",
    "            print(f\"Old: {activity_prod} - {activity_name} - {activity_geo}\")\n",
    "            print(f\"New: {activity_prod_new} - {activity_name_new} - {activity_geo_new}\")\n",
    "            \n",
    "        else:\n",
    "            updated_mapping.loc[i] = mapping.iloc[i]\n",
    "    \n",
    "    return updated_mapping, counter"
   ],
   "id": "fa6ea37691c3b1e8",
   "outputs": [],
   "execution_count": 11
  },
  {
   "metadata": {
    "ExecuteTime": {
     "end_time": "2024-07-03T19:11:18.912781Z",
     "start_time": "2024-07-03T19:11:17.275455Z"
    }
   },
   "cell_type": "code",
   "source": [
    "updated_mapping, counter = update_mapping_file(mapping, change_report, changed_activities)\n",
    "while counter > 0:\n",
    "    updated_mapping, counter = update_mapping_file(updated_mapping, change_report, changed_activities)\n",
    "    print(counter)"
   ],
   "id": "9fc491b784ba0471",
   "outputs": [
    {
     "name": "stdout",
     "output_type": "stream",
     "text": [
      "CO2_METHANOL Operation\n",
      "Old: methanol - methanol production - GLO\n",
      "New: methanol - methanol production, natural gas reforming - CN\n",
      "METHANE_TO_METHANOL Operation\n",
      "Old: methanol - methanol production - GLO\n",
      "New: methanol - methanol production, natural gas reforming - CN\n",
      "0\n"
     ]
    }
   ],
   "execution_count": 12
  },
  {
   "metadata": {
    "ExecuteTime": {
     "end_time": "2024-07-03T19:12:43.190584Z",
     "start_time": "2024-07-03T19:12:43.150667Z"
    }
   },
   "cell_type": "code",
   "source": "updated_mapping.to_csv(\"energyscope_data/mapping_3.9.1.csv\", index=False)",
   "id": "177e9baed10912ae",
   "outputs": [],
   "execution_count": 14
  }
 ],
 "metadata": {
  "kernelspec": {
   "display_name": "Python 3",
   "language": "python",
   "name": "python3"
  },
  "language_info": {
   "codemirror_mode": {
    "name": "ipython",
    "version": 2
   },
   "file_extension": ".py",
   "mimetype": "text/x-python",
   "name": "python",
   "nbconvert_exporter": "python",
   "pygments_lexer": "ipython2",
   "version": "2.7.6"
  }
 },
 "nbformat": 4,
 "nbformat_minor": 5
}
