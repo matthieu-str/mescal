{
 "cells": [
  {
   "metadata": {},
   "cell_type": "markdown",
   "source": "# Change the ecoinvent version of the mapping file",
   "id": "c29fdc4e250a1915"
  },
  {
   "metadata": {
    "ExecuteTime": {
     "end_time": "2024-12-12T15:07:20.092135Z",
     "start_time": "2024-12-12T15:07:14.851077Z"
    }
   },
   "cell_type": "code",
   "source": [
    "import pandas as pd\n",
    "import bw2data as bd\n",
    "from mescal import *"
   ],
   "id": "3ce6f93f36aa81df",
   "outputs": [],
   "execution_count": 1
  },
  {
   "metadata": {
    "ExecuteTime": {
     "end_time": "2024-12-12T15:07:20.101378Z",
     "start_time": "2024-12-12T15:07:20.093643Z"
    }
   },
   "cell_type": "code",
   "source": [
    "esm_location = 'CA-QC' # can be 'CH' or 'CA-QC'\n",
    "ei_version_from = '3.8'\n",
    "ei_version_to = '3.10.1'"
   ],
   "id": "ccc0ee461b4aad64",
   "outputs": [],
   "execution_count": 2
  },
  {
   "metadata": {
    "ExecuteTime": {
     "end_time": "2024-12-12T15:07:20.290345Z",
     "start_time": "2024-12-12T15:07:20.101378Z"
    }
   },
   "cell_type": "code",
   "source": "bd.projects.set_current(f\"ecoinvent{ei_version_to}\")",
   "id": "4b5551193f4ff0f8",
   "outputs": [],
   "execution_count": 3
  },
  {
   "metadata": {
    "ExecuteTime": {
     "end_time": "2024-12-12T15:07:20.298818Z",
     "start_time": "2024-12-12T15:07:20.290345Z"
    }
   },
   "cell_type": "code",
   "source": "name_comp_db = f'ecoinvent_cutoff_{ei_version_from}_remind_SSP2-Base_2020_comp_{esm_location}'",
   "id": "b3cafa4b10f21a1a",
   "outputs": [],
   "execution_count": 4
  },
  {
   "metadata": {
    "ExecuteTime": {
     "end_time": "2024-12-12T15:07:20.347515Z",
     "start_time": "2024-12-12T15:07:20.298818Z"
    }
   },
   "cell_type": "code",
   "source": "mapping = pd.read_csv(f\"energyscope_data/{esm_location}/mapping_{ei_version_from}_linked.csv\")",
   "id": "54ab89faf6484f22",
   "outputs": [],
   "execution_count": 5
  },
  {
   "metadata": {
    "ExecuteTime": {
     "end_time": "2024-12-12T15:07:20.360382Z",
     "start_time": "2024-12-12T15:07:20.352530Z"
    }
   },
   "cell_type": "code",
   "source": [
    "def change_mobility_name(row):\n",
    "    \n",
    "    # Remove year\n",
    "    row.Activity = row.Activity.replace(', 2020', '')\n",
    "\n",
    "    # Remove EURO-6\n",
    "    row.Product = row.Product.replace('truck, Euro-6', 'truck')\n",
    "    row.Activity = row.Activity.replace('Euro-6, regional delivery', 'regional delivery')\n",
    "    row.Activity = row.Activity.replace('Euro-6, urban delivery', 'urban delivery')\n",
    "    \n",
    "    # Battery electric vehicles\n",
    "    row.Activity = row.Activity.replace('NMC-622 battery, ', '')\n",
    "    \n",
    "    return row"
   ],
   "id": "cca2f25989f1a059",
   "outputs": [],
   "execution_count": 6
  },
  {
   "metadata": {
    "ExecuteTime": {
     "end_time": "2024-12-12T15:07:20.478881Z",
     "start_time": "2024-12-12T15:07:20.360382Z"
    }
   },
   "cell_type": "code",
   "source": [
    "if ei_version_to in ['3.10', '3.10.1']:\n",
    "    mapping = mapping.apply(change_mobility_name, axis=1) # name changes coming with carculator_truck v0.5.0"
   ],
   "id": "486da182f7376800",
   "outputs": [],
   "execution_count": 7
  },
  {
   "metadata": {
    "ExecuteTime": {
     "end_time": "2024-12-12T15:16:40.565839Z",
     "start_time": "2024-12-12T15:07:20.478881Z"
    }
   },
   "cell_type": "code",
   "source": "updated_mapping, unit_changes = change_ecoinvent_version_mapping(mapping, ei_version_from, ei_version_to, name_comp_db)",
   "id": "a6f7ea691f5ee6b1",
   "outputs": [
    {
     "name": "stdout",
     "output_type": "stream",
     "text": [
      "BATTERY Construction\n",
      "Old: battery, Li-ion, rechargeable, prismatic - market for battery, Li-ion, rechargeable, prismatic - GLO\n",
      "New: battery, Li-ion, LiMn2O4, rechargeable, prismatic - market for battery, Li-ion, LiMn2O4, rechargeable, prismatic - GLO\n",
      "CEMENT_PROD Operation\n",
      "Old: cement, alternative constituents 21-35% - cement production, alternative constituents 21-35% - RoW\n",
      "New: cement, CEM II/B - cement production, CEM II/B - RoW\n",
      "CEMENT_PROD_HP Operation\n",
      "Old: cement, alternative constituents 21-35% - cement production, alternative constituents 21-35% - RoW\n",
      "New: cement, CEM II/B - cement production, CEM II/B - RoW\n",
      "CO2_METHANOL Operation\n",
      "Old: methanol - methanol production - GLO\n",
      "New: methanol - methanol production, natural gas reforming - CN\n",
      "CUMENE_PROCESS Operation\n",
      "Old: cumene - cumene production - RoW\n",
      "New: cumene - cumene production, benzene alkylation - RoW\n",
      "ELEC_STO Construction\n",
      "Old: battery, Li-ion, rechargeable, prismatic - market for battery, Li-ion, rechargeable, prismatic - GLO\n",
      "New: battery, Li-ion, LiMn2O4, rechargeable, prismatic - market for battery, Li-ion, LiMn2O4, rechargeable, prismatic - GLO\n",
      "ETHANE_OXIDATION Operation\n",
      "Old: acetic acid, without water, in 98% solution state - acetic acid production, product in 98% solution state - RoW\n",
      "New: acetic acid, without water, in 98% solution state - acetic acid production, methanol carboxylation (Monsanto), product in 98% solution state - RoW\n",
      "ETHANE_TO_ETHYLENE Operation\n",
      "Old: ethylene - ethylene production, average - RoW\n",
      "New: ethylene - unsaturated hydrocarbons production, steam cracking operation, average - RoW\n",
      "ETHYLENE_POLYMERIZATION Operation\n",
      "Old: ethylene - ethylene production, average - RoW\n",
      "New: ethylene - unsaturated hydrocarbons production, steam cracking operation, average - RoW\n",
      "H2_COMP_HE Operation\n",
      "Old: hydrogen, gaseous - market for hydrogen, gaseous - GLO\n",
      "New: hydrogen, gaseous, low pressure - market for hydrogen, gaseous, low pressure - CN\n",
      "H2_COMP_LM Operation\n",
      "Old: hydrogen, gaseous - market for hydrogen, gaseous - GLO\n",
      "New: hydrogen, gaseous, low pressure - market for hydrogen, gaseous, low pressure - CN\n",
      "H2_COMP_MH Operation\n",
      "Old: hydrogen, gaseous - market for hydrogen, gaseous - GLO\n",
      "New: hydrogen, gaseous, low pressure - market for hydrogen, gaseous, low pressure - CN\n",
      "H2_EXP_EH Operation\n",
      "Old: hydrogen, gaseous - market for hydrogen, gaseous - GLO\n",
      "New: hydrogen, gaseous, low pressure - market for hydrogen, gaseous, low pressure - CN\n",
      "H2_EXP_EH_COGEN Operation\n",
      "Old: hydrogen, gaseous - market for hydrogen, gaseous - GLO\n",
      "New: hydrogen, gaseous, low pressure - market for hydrogen, gaseous, low pressure - CN\n",
      "H2_EXP_HM Operation\n",
      "Old: hydrogen, gaseous - market for hydrogen, gaseous - GLO\n",
      "New: hydrogen, gaseous, low pressure - market for hydrogen, gaseous, low pressure - CN\n",
      "H2_EXP_HM_COGEN Operation\n",
      "Old: hydrogen, gaseous - market for hydrogen, gaseous - GLO\n",
      "New: hydrogen, gaseous, low pressure - market for hydrogen, gaseous, low pressure - CN\n",
      "H2_EXP_ML Operation\n",
      "Old: hydrogen, gaseous - market for hydrogen, gaseous - GLO\n",
      "New: hydrogen, gaseous, low pressure - market for hydrogen, gaseous, low pressure - CN\n",
      "H2_EXP_ML_COGEN Operation\n",
      "Old: hydrogen, gaseous - market for hydrogen, gaseous - GLO\n",
      "New: hydrogen, gaseous, low pressure - market for hydrogen, gaseous, low pressure - CN\n",
      "METATHESIS_PROPYLENE Operation\n",
      "Old: propylene - propylene production - RoW\n",
      "New: propylene - unsaturated hydrocarbons production, steam cracking operation, average - RoW\n",
      "METHANE_TO_METHANOL Operation\n",
      "Old: methanol - methanol production - GLO\n",
      "New: methanol - methanol production, natural gas reforming - CN\n",
      "METHANOL_CARBONYLATION Operation\n",
      "Old: acetic acid, without water, in 98% solution state - acetic acid production, product in 98% solution state - RoW\n",
      "New: acetic acid, without water, in 98% solution state - acetic acid production, methanol carboxylation (Monsanto), product in 98% solution state - RoW\n",
      "METHANOL_FT Operation\n",
      "Old: methanol, from biomass - methanol production, from synthetic gas - RoW\n",
      "New: methanol, from biomass - methanol production, biomass gasification - RoW\n",
      "METHANOL_TO_AROMATICS Operation\n",
      "Old: xylene - xylene production - RoW\n",
      "New: xylene, mixed - BTX production, from pyrolysis gas, average - RoW\n",
      "NG_COMP_HE Operation\n",
      "Old: natural gas, high pressure - market for natural gas, high pressure - CA-QC\n",
      "New: natural gas, high pressure - market for natural gas, high pressure - CA\n",
      "NG_EXP_EH Operation\n",
      "Old: natural gas, high pressure - market for natural gas, high pressure - CA-QC\n",
      "New: natural gas, high pressure - market for natural gas, high pressure - CA\n",
      "NG_EXP_EH_COGEN Operation\n",
      "Old: natural gas, high pressure - market for natural gas, high pressure - CA-QC\n",
      "New: natural gas, high pressure - market for natural gas, high pressure - CA\n",
      "NG_EXP_HM Operation\n",
      "Old: natural gas, high pressure - market for natural gas, high pressure - CA-QC\n",
      "New: natural gas, high pressure - market for natural gas, high pressure - CA\n",
      "NG_EXP_HM_COGEN Operation\n",
      "Old: natural gas, high pressure - market for natural gas, high pressure - CA-QC\n",
      "New: natural gas, high pressure - market for natural gas, high pressure - CA\n",
      "WARNING: unit changed for electricity, medium voltage - natural gas, burned in gas turbine, for compressor station - CA-QC\n",
      "OCGT_LARGE Operation\n",
      "Old: electricity, medium voltage - natural gas, burned in gas turbine, for compressor station - CA-QC\n",
      "New: natural gas, burned in gas turbine - natural gas, burned in gas turbine - CA\n",
      "WARNING: unit changed for electricity, medium voltage - natural gas, burned in gas turbine, for compressor station - CA-QC\n",
      "OCGT_SMALL Operation\n",
      "Old: electricity, medium voltage - natural gas, burned in gas turbine, for compressor station - CA-QC\n",
      "New: natural gas, burned in gas turbine - natural gas, burned in gas turbine - CA\n",
      "BENZENE Resource\n",
      "Old: benzene - market for benzene - GLO\n",
      "New: benzene - market for benzene - RER\n",
      "H2_EHP Resource\n",
      "Old: hydrogen, gaseous - market for hydrogen, gaseous - GLO\n",
      "New: hydrogen, gaseous, low pressure - market for hydrogen, gaseous, low pressure - CN\n",
      "H2_HP Resource\n",
      "Old: hydrogen, gaseous - market for hydrogen, gaseous - GLO\n",
      "New: hydrogen, gaseous, low pressure - market for hydrogen, gaseous, low pressure - CN\n",
      "H2_LP Resource\n",
      "Old: hydrogen, gaseous - market for hydrogen, gaseous - GLO\n",
      "New: hydrogen, gaseous, low pressure - market for hydrogen, gaseous, low pressure - CN\n",
      "H2_MP Resource\n",
      "Old: hydrogen, gaseous - market for hydrogen, gaseous - GLO\n",
      "New: hydrogen, gaseous, low pressure - market for hydrogen, gaseous, low pressure - CN\n",
      "METHANOL Resource\n",
      "Old: methanol - market for methanol - GLO\n",
      "New: methanol - market for methanol - CN\n",
      "NG_EHP Resource\n",
      "Old: natural gas, high pressure - market for natural gas, high pressure - CA-QC\n",
      "New: natural gas, high pressure - market for natural gas, high pressure - CA\n",
      "NG_HP Resource\n",
      "Old: natural gas, high pressure - market for natural gas, high pressure - CA-QC\n",
      "New: natural gas, high pressure - market for natural gas, high pressure - CA\n",
      "WASTE Resource\n",
      "Old: municipal solid waste - market for municipal solid waste - CA-QC\n",
      "New: municipal solid waste - market for municipal solid waste - CA\n",
      "XYLENE Resource\n",
      "Old: xylene - market for xylene - RoW\n",
      "New: xylene, mixed - market for xylene, mixed - RoW\n",
      "BENZENE Flow\n",
      "Old: benzene - market for benzene - GLO\n",
      "New: benzene - market for benzene - RER\n",
      "H2_EHP Flow\n",
      "Old: hydrogen, gaseous - market for hydrogen, gaseous - GLO\n",
      "New: hydrogen, gaseous, low pressure - market for hydrogen, gaseous, low pressure - CN\n",
      "H2_HP Flow\n",
      "Old: hydrogen, gaseous - market for hydrogen, gaseous - GLO\n",
      "New: hydrogen, gaseous, low pressure - market for hydrogen, gaseous, low pressure - CN\n",
      "H2_LP Flow\n",
      "Old: hydrogen, gaseous - market for hydrogen, gaseous - GLO\n",
      "New: hydrogen, gaseous, low pressure - market for hydrogen, gaseous, low pressure - CN\n",
      "H2_MP Flow\n",
      "Old: hydrogen, gaseous - market for hydrogen, gaseous - GLO\n",
      "New: hydrogen, gaseous, low pressure - market for hydrogen, gaseous, low pressure - CN\n",
      "METHANOL Flow\n",
      "Old: methanol - market for methanol - GLO\n",
      "New: methanol - market for methanol - CN\n",
      "NG_EHP Flow\n",
      "Old: natural gas, high pressure - market for natural gas, high pressure - CA-QC\n",
      "New: natural gas, high pressure - market for natural gas, high pressure - CA\n",
      "NG_HP Flow\n",
      "Old: natural gas, high pressure - market for natural gas, high pressure - CA-QC\n",
      "New: natural gas, high pressure - market for natural gas, high pressure - CA\n",
      "WASTE Flow\n",
      "Old: municipal solid waste - market for municipal solid waste - CA-QC\n",
      "New: municipal solid waste - market for municipal solid waste - CA\n",
      "XYLENE Flow\n",
      "Old: xylene - market for xylene - RoW\n",
      "New: xylene, mixed - market for xylene, mixed - RoW\n"
     ]
    }
   ],
   "execution_count": 8
  },
  {
   "metadata": {
    "ExecuteTime": {
     "end_time": "2024-12-12T15:16:40.630273Z",
     "start_time": "2024-12-12T15:16:40.565839Z"
    }
   },
   "cell_type": "code",
   "source": "updated_mapping.head()",
   "id": "2f42c943ffe2146",
   "outputs": [
    {
     "data": {
      "text/plain": [
       "                                Name          Type  \\\n",
       "0                                AFC  Construction   \n",
       "1                                AFC     Operation   \n",
       "2              ALKALINE_ELECTROLYSIS     Operation   \n",
       "3        ALKALINE_ELECTROLYSIS_PLANT  Construction   \n",
       "4  ALKALINE_ELECTROLYSIS_PLANT_DECOM  Construction   \n",
       "\n",
       "                                             Product  \\\n",
       "0  fuel cell system, 1 kWe, proton exchange membr...   \n",
       "1       electricity, from residential heating system   \n",
       "2                          hydrogen, gaseous, 20 bar   \n",
       "3          electrolyzer, 1MWe, AEC, Balance of Plant   \n",
       "4         used fuel cell balance of plant, 1MWe, AEC   \n",
       "\n",
       "                                            Activity Location  \\\n",
       "0  fuel cell system assembly, 1 kWe, proton excha...      GLO   \n",
       "1  electricity, residential, by conversion of hyd...       CH   \n",
       "2  hydrogen production, gaseous, 20 bar, from AEC...       CH   \n",
       "3  electrolyzer production, 1MWe, AEC, Balance of...      RER   \n",
       "4  treatment of fuel cell balance of plant, 1MWe,...      RER   \n",
       "\n",
       "                                        Database  \n",
       "0  ecoinvent_cutoff_3.10.1_remind_SSP2-Base_2020  \n",
       "1  ecoinvent_cutoff_3.10.1_remind_SSP2-Base_2020  \n",
       "2  ecoinvent_cutoff_3.10.1_remind_SSP2-Base_2020  \n",
       "3  ecoinvent_cutoff_3.10.1_remind_SSP2-Base_2020  \n",
       "4  ecoinvent_cutoff_3.10.1_remind_SSP2-Base_2020  "
      ],
      "text/html": [
       "<div>\n",
       "<style scoped>\n",
       "    .dataframe tbody tr th:only-of-type {\n",
       "        vertical-align: middle;\n",
       "    }\n",
       "\n",
       "    .dataframe tbody tr th {\n",
       "        vertical-align: top;\n",
       "    }\n",
       "\n",
       "    .dataframe thead th {\n",
       "        text-align: right;\n",
       "    }\n",
       "</style>\n",
       "<table border=\"1\" class=\"dataframe\">\n",
       "  <thead>\n",
       "    <tr style=\"text-align: right;\">\n",
       "      <th></th>\n",
       "      <th>Name</th>\n",
       "      <th>Type</th>\n",
       "      <th>Product</th>\n",
       "      <th>Activity</th>\n",
       "      <th>Location</th>\n",
       "      <th>Database</th>\n",
       "    </tr>\n",
       "  </thead>\n",
       "  <tbody>\n",
       "    <tr>\n",
       "      <th>0</th>\n",
       "      <td>AFC</td>\n",
       "      <td>Construction</td>\n",
       "      <td>fuel cell system, 1 kWe, proton exchange membr...</td>\n",
       "      <td>fuel cell system assembly, 1 kWe, proton excha...</td>\n",
       "      <td>GLO</td>\n",
       "      <td>ecoinvent_cutoff_3.10.1_remind_SSP2-Base_2020</td>\n",
       "    </tr>\n",
       "    <tr>\n",
       "      <th>1</th>\n",
       "      <td>AFC</td>\n",
       "      <td>Operation</td>\n",
       "      <td>electricity, from residential heating system</td>\n",
       "      <td>electricity, residential, by conversion of hyd...</td>\n",
       "      <td>CH</td>\n",
       "      <td>ecoinvent_cutoff_3.10.1_remind_SSP2-Base_2020</td>\n",
       "    </tr>\n",
       "    <tr>\n",
       "      <th>2</th>\n",
       "      <td>ALKALINE_ELECTROLYSIS</td>\n",
       "      <td>Operation</td>\n",
       "      <td>hydrogen, gaseous, 20 bar</td>\n",
       "      <td>hydrogen production, gaseous, 20 bar, from AEC...</td>\n",
       "      <td>CH</td>\n",
       "      <td>ecoinvent_cutoff_3.10.1_remind_SSP2-Base_2020</td>\n",
       "    </tr>\n",
       "    <tr>\n",
       "      <th>3</th>\n",
       "      <td>ALKALINE_ELECTROLYSIS_PLANT</td>\n",
       "      <td>Construction</td>\n",
       "      <td>electrolyzer, 1MWe, AEC, Balance of Plant</td>\n",
       "      <td>electrolyzer production, 1MWe, AEC, Balance of...</td>\n",
       "      <td>RER</td>\n",
       "      <td>ecoinvent_cutoff_3.10.1_remind_SSP2-Base_2020</td>\n",
       "    </tr>\n",
       "    <tr>\n",
       "      <th>4</th>\n",
       "      <td>ALKALINE_ELECTROLYSIS_PLANT_DECOM</td>\n",
       "      <td>Construction</td>\n",
       "      <td>used fuel cell balance of plant, 1MWe, AEC</td>\n",
       "      <td>treatment of fuel cell balance of plant, 1MWe,...</td>\n",
       "      <td>RER</td>\n",
       "      <td>ecoinvent_cutoff_3.10.1_remind_SSP2-Base_2020</td>\n",
       "    </tr>\n",
       "  </tbody>\n",
       "</table>\n",
       "</div>"
      ]
     },
     "execution_count": 9,
     "metadata": {},
     "output_type": "execute_result"
    }
   ],
   "execution_count": 9
  },
  {
   "metadata": {
    "ExecuteTime": {
     "end_time": "2024-12-12T15:16:40.636847Z",
     "start_time": "2024-12-12T15:16:40.630273Z"
    }
   },
   "cell_type": "code",
   "source": "updated_mapping.Database = f'ecoinvent_cutoff_{ei_version_to}_image_SSP2-Base_2020+truck_carculator'",
   "id": "9af513104cba812",
   "outputs": [],
   "execution_count": 10
  },
  {
   "metadata": {
    "ExecuteTime": {
     "end_time": "2024-12-12T15:16:40.653388Z",
     "start_time": "2024-12-12T15:16:40.636847Z"
    }
   },
   "cell_type": "code",
   "source": "updated_mapping.Database.unique()",
   "id": "a82c6db6f1462a3e",
   "outputs": [
    {
     "data": {
      "text/plain": [
       "array(['ecoinvent_cutoff_3.10.1_image_SSP2-Base_2020+truck_carculator'],\n",
       "      dtype=object)"
      ]
     },
     "execution_count": 11,
     "metadata": {},
     "output_type": "execute_result"
    }
   ],
   "execution_count": 11
  },
  {
   "metadata": {
    "ExecuteTime": {
     "end_time": "2024-12-12T15:17:55.233259Z",
     "start_time": "2024-12-12T15:16:40.656902Z"
    }
   },
   "cell_type": "code",
   "source": [
    "base_db = Database(db_names=list(updated_mapping.Database.unique()))\n",
    "unlinked = base_db.test_mapping_file(updated_mapping)"
   ],
   "id": "af4bea91353cab7",
   "outputs": [
    {
     "name": "stdout",
     "output_type": "stream",
     "text": [
      "Getting activity data\n"
     ]
    },
    {
     "name": "stderr",
     "output_type": "stream",
     "text": [
      "100%|██████████| 34983/34983 [00:00<00:00, 52913.82it/s]\n"
     ]
    },
    {
     "name": "stdout",
     "output_type": "stream",
     "text": [
      "Adding exchange data to activities\n"
     ]
    },
    {
     "name": "stderr",
     "output_type": "stream",
     "text": [
      "100%|██████████| 1009584/1009584 [01:02<00:00, 16166.73it/s]\n"
     ]
    },
    {
     "name": "stdout",
     "output_type": "stream",
     "text": [
      "Filling out exchange data\n"
     ]
    },
    {
     "name": "stderr",
     "output_type": "stream",
     "text": [
      "100%|██████████| 34983/34983 [00:03<00:00, 9056.32it/s] \n"
     ]
    },
    {
     "name": "stdout",
     "output_type": "stream",
     "text": [
      "Loaded ecoinvent_cutoff_3.10.1_image_SSP2-Base_2020+truck_carculator from brightway!\n",
      "Mapping successfully linked to the database\n"
     ]
    }
   ],
   "execution_count": 12
  },
  {
   "metadata": {
    "ExecuteTime": {
     "end_time": "2024-12-12T15:17:55.304354Z",
     "start_time": "2024-12-12T15:17:55.233259Z"
    }
   },
   "cell_type": "code",
   "source": [
    "if len(unlinked) == 0:\n",
    "    updated_mapping.to_csv(f\"energyscope_data/{esm_location}/mapping_{ei_version_to}.csv\", index=False)\n",
    "else:\n",
    "    print(f\"Unlinked exchanges: {unlinked}\")"
   ],
   "id": "177e9baed10912ae",
   "outputs": [],
   "execution_count": 13
  },
  {
   "metadata": {},
   "cell_type": "markdown",
   "source": "# Adapt the unit conversion file corresponding to the new mapping file",
   "id": "789a91e8cedd3728"
  },
  {
   "metadata": {
    "ExecuteTime": {
     "end_time": "2024-12-12T15:27:10.410382Z",
     "start_time": "2024-12-12T15:27:10.386533Z"
    }
   },
   "cell_type": "code",
   "source": "# unit_conversion = pd.read_excel(f\"energyscope_data/{esm_location}/unit_conversion_{ei_version_from}.xlsx\")",
   "id": "3a3b3ef110eb5c79",
   "outputs": [],
   "execution_count": 14
  },
  {
   "metadata": {
    "ExecuteTime": {
     "end_time": "2024-12-12T15:27:10.742754Z",
     "start_time": "2024-12-12T15:27:10.736891Z"
    }
   },
   "cell_type": "code",
   "source": [
    "# Allows to keep formulas in Excel files\n",
    "from openpyxl import load_workbook"
   ],
   "id": "5c104a03b9485e56",
   "outputs": [],
   "execution_count": 15
  },
  {
   "metadata": {
    "ExecuteTime": {
     "end_time": "2024-12-12T15:27:11.289139Z",
     "start_time": "2024-12-12T15:27:11.081186Z"
    }
   },
   "cell_type": "code",
   "source": [
    "wb = load_workbook(filename=f\"energyscope_data/{esm_location}/unit_conversion_{ei_version_from}.xlsx\")\n",
    "unit_conversion = pd.DataFrame(wb[wb.sheetnames[0]].values)"
   ],
   "id": "d0c5d7bb9a49e724",
   "outputs": [],
   "execution_count": 16
  },
  {
   "metadata": {
    "ExecuteTime": {
     "end_time": "2024-12-12T15:27:11.759952Z",
     "start_time": "2024-12-12T15:27:11.735272Z"
    }
   },
   "cell_type": "code",
   "source": [
    "# setting first row as header\n",
    "new_header = unit_conversion.iloc[0]\n",
    "unit_conversion = unit_conversion[1:]\n",
    "unit_conversion.columns = new_header"
   ],
   "id": "c55c2e2105ebd92c",
   "outputs": [],
   "execution_count": 17
  },
  {
   "metadata": {
    "ExecuteTime": {
     "end_time": "2024-12-12T15:27:12.338754Z",
     "start_time": "2024-12-12T15:27:12.313064Z"
    }
   },
   "cell_type": "code",
   "source": "unit_changes",
   "id": "e9afa332c6fd0b44",
   "outputs": [
    {
     "data": {
      "text/plain": [
       "[[('OCGT_LARGE', 'Operation'),\n",
       "  ('electricity, medium voltage',\n",
       "   'natural gas, burned in gas turbine, for compressor station',\n",
       "   'CA-QC'),\n",
       "  'kilowatt hour',\n",
       "  'megajoule'],\n",
       " [('OCGT_SMALL', 'Operation'),\n",
       "  ('electricity, medium voltage',\n",
       "   'natural gas, burned in gas turbine, for compressor station',\n",
       "   'CA-QC'),\n",
       "  'kilowatt hour',\n",
       "  'megajoule']]"
      ]
     },
     "execution_count": 18,
     "metadata": {},
     "output_type": "execute_result"
    }
   ],
   "execution_count": 18
  },
  {
   "metadata": {
    "ExecuteTime": {
     "end_time": "2024-12-12T15:27:14.043931Z",
     "start_time": "2024-12-12T15:27:14.038083Z"
    }
   },
   "cell_type": "code",
   "source": [
    "# Add new unit conversion factors\n",
    "new_unit_conversion_factors = {\n",
    "    ('OCGT_LARGE', 'Operation'): ['= 3.6 * 2.5', '3.6 MJ of heat per kWh, 2.5 kWh NG per kWh electricity'],\n",
    "    ('OCGT_SMALL', 'Operation'): ['= 3.6 * 2.5', '3.6 MJ of heat per kWh, 2.5 kWh NG per kWh electricity'],\n",
    "}"
   ],
   "id": "87f365e334144b41",
   "outputs": [],
   "execution_count": 19
  },
  {
   "metadata": {
    "ExecuteTime": {
     "end_time": "2024-12-12T15:27:14.638980Z",
     "start_time": "2024-12-12T15:27:14.597896Z"
    }
   },
   "cell_type": "code",
   "source": "unit_conversion = update_unit_conversion_file(unit_conversion, unit_changes, new_unit_conversion_factors)",
   "id": "187bf0bb99b39aff",
   "outputs": [],
   "execution_count": 20
  },
  {
   "metadata": {
    "ExecuteTime": {
     "end_time": "2024-12-12T15:27:15.383146Z",
     "start_time": "2024-12-12T15:27:15.200988Z"
    }
   },
   "cell_type": "code",
   "source": "unit_conversion.sort_values(by=['Name', 'Type']).to_excel(f\"energyscope_data/{esm_location}/unit_conversion_{ei_version_to}.xlsx\", index=False)",
   "id": "792da9e972790018",
   "outputs": [],
   "execution_count": 21
  }
 ],
 "metadata": {
  "kernelspec": {
   "display_name": "Python 3",
   "language": "python",
   "name": "python3"
  },
  "language_info": {
   "codemirror_mode": {
    "name": "ipython",
    "version": 2
   },
   "file_extension": ".py",
   "mimetype": "text/x-python",
   "name": "python",
   "nbconvert_exporter": "python",
   "pygments_lexer": "ipython2",
   "version": "2.7.6"
  }
 },
 "nbformat": 4,
 "nbformat_minor": 5
}
