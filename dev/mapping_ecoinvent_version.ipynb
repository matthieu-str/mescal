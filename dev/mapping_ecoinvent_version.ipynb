{
 "cells": [
  {
   "metadata": {},
   "cell_type": "markdown",
   "source": "# Change the ecoinvent version of the mapping file",
   "id": "c29fdc4e250a1915"
  },
  {
   "metadata": {
    "ExecuteTime": {
     "end_time": "2024-07-09T21:16:28.366287Z",
     "start_time": "2024-07-09T21:16:28.298078Z"
    }
   },
   "cell_type": "code",
   "source": [
    "import pandas as pd\n",
    "import bw2data as bd\n",
    "from mescal import *\n",
    "import itertools"
   ],
   "id": "3ce6f93f36aa81df",
   "outputs": [],
   "execution_count": 18
  },
  {
   "metadata": {
    "ExecuteTime": {
     "end_time": "2024-07-09T21:16:29.119177Z",
     "start_time": "2024-07-09T21:16:28.454649Z"
    }
   },
   "cell_type": "code",
   "source": "bd.projects.set_current(\"ecoinvent3.10\")",
   "id": "4b5551193f4ff0f8",
   "outputs": [],
   "execution_count": 19
  },
  {
   "metadata": {
    "ExecuteTime": {
     "end_time": "2024-07-09T21:16:29.140796Z",
     "start_time": "2024-07-09T21:16:29.119177Z"
    }
   },
   "cell_type": "code",
   "source": [
    "esm_location = 'CH'\n",
    "ei_version_from = '3.8'\n",
    "ei_version_to = '3.10'"
   ],
   "id": "ccc0ee461b4aad64",
   "outputs": [],
   "execution_count": 20
  },
  {
   "metadata": {
    "ExecuteTime": {
     "end_time": "2024-07-09T21:16:29.162761Z",
     "start_time": "2024-07-09T21:16:29.140796Z"
    }
   },
   "cell_type": "code",
   "source": [
    "def load_change_report_annex(v_from, v_to):\n",
    "    df = pd.read_excel(f\"data/Change Report Annex v{v_from} - v{v_to}.xlsx\", sheet_name=\"Qualitative Changes\", usecols=[f'Reference Product - {v_from}', f'Reference Product Unit - {v_from}', f'Activity Name - {v_from}', f'Geography - {v_from}', f'Reference Product - {v_to}', f'Reference Product Unit - {v_to}', f'Activity Name - {v_to}', f'Geography - {v_to}', f'Dataset in version {v_from[:3]} has been deleted'])\n",
    "    df.rename(columns={f'Activity Name - {v_from}': 'Activity Name', f'Geography - {v_from}': 'Geography', f'Reference Product - {v_from}': 'Reference Product', f'Reference Product Unit - {v_from}': 'Unit', f'Activity Name - {v_to}': 'Activity Name - new', f'Geography - {v_to}': 'Geography - new', f'Reference Product - {v_to}': 'Reference Product - new', f'Reference Product Unit - {v_to}': 'Unit - new', f'Dataset in version {v_from[:3]} has been deleted':'Deleted'}, inplace=True)\n",
    "    df['Version from'] = v_from\n",
    "    df['Version to'] = v_to\n",
    "    return df"
   ],
   "id": "e3c5b8dea99a631",
   "outputs": [],
   "execution_count": 21
  },
  {
   "metadata": {
    "ExecuteTime": {
     "end_time": "2024-07-09T21:16:55.291344Z",
     "start_time": "2024-07-09T21:16:29.167786Z"
    }
   },
   "cell_type": "code",
   "source": [
    "change_report_38_39 = load_change_report_annex('3.8', '3.9')\n",
    "change_report_39_391 = load_change_report_annex('3.9', '3.9.1')\n",
    "change_report_391_310 = load_change_report_annex('3.9.1', '3.10')\n",
    "mapping = pd.read_csv(f\"energyscope_data/{esm_location}/mapping_{ei_version_from}_linked.csv\")"
   ],
   "id": "54ab89faf6484f22",
   "outputs": [],
   "execution_count": 22
  },
  {
   "metadata": {},
   "cell_type": "markdown",
   "source": "## Changing databases names",
   "id": "6730be7b43b7c5de"
  },
  {
   "metadata": {
    "ExecuteTime": {
     "end_time": "2024-07-09T21:16:55.319877Z",
     "start_time": "2024-07-09T21:16:55.296912Z"
    }
   },
   "cell_type": "code",
   "source": [
    "def change_ei_version_napping_file(row, version_from, version_to):\n",
    "    if row.Database[-11:] == f'_comp_{esm_location}':  # if it is the complementary database\n",
    "        if 'urban delivery' in row.Activity:\n",
    "            row.Database = 'urban delivery_truck'\n",
    "        elif 'regional delivery' in row.Activity:\n",
    "            row.Database = 'regional delivery_truck'\n",
    "        else:\n",
    "            raise ValueError(f\"Unknown truck database for {row.Name}\")\n",
    "    else:\n",
    "        row.Database = row.Database.replace(version_from, version_to)\n",
    "    return row"
   ],
   "id": "68b95e00970e4adb",
   "outputs": [],
   "execution_count": 23
  },
  {
   "metadata": {
    "ExecuteTime": {
     "end_time": "2024-07-09T21:16:55.437975Z",
     "start_time": "2024-07-09T21:16:55.322486Z"
    }
   },
   "cell_type": "code",
   "source": "mapping = mapping.apply(change_ei_version_napping_file, axis=1, args=(ei_version_from, ei_version_to))",
   "id": "fb1dc7c5dbce15ee",
   "outputs": [],
   "execution_count": 24
  },
  {
   "metadata": {},
   "cell_type": "markdown",
   "source": "## Changing the ecoinvent version",
   "id": "ac7949d5fe2e008f"
  },
  {
   "metadata": {
    "ExecuteTime": {
     "end_time": "2024-07-09T21:16:55.481449Z",
     "start_time": "2024-07-09T21:16:55.444493Z"
    }
   },
   "cell_type": "code",
   "source": "change_report = pd.concat([change_report_38_39, change_report_39_391, change_report_391_310])",
   "id": "288bf7294ed3d6b5",
   "outputs": [],
   "execution_count": 25
  },
  {
   "metadata": {
    "ExecuteTime": {
     "end_time": "2024-07-09T21:16:55.617149Z",
     "start_time": "2024-07-09T21:16:55.486105Z"
    }
   },
   "cell_type": "code",
   "source": "change_report = change_report.drop_duplicates()",
   "id": "e23176be2d01aec8",
   "outputs": [],
   "execution_count": 26
  },
  {
   "metadata": {
    "ExecuteTime": {
     "end_time": "2024-07-09T21:16:55.645086Z",
     "start_time": "2024-07-09T21:16:55.617149Z"
    }
   },
   "cell_type": "code",
   "source": [
    "def handle_multi_processes_ecoinvent(df):\n",
    "    updated_df = pd.DataFrame(data=[], columns=df.columns)\n",
    "    for i in range(len(df)):\n",
    "        if ';' in str(df['Reference Product'].iloc[i]):\n",
    "            \n",
    "            products = df['Reference Product'].iloc[i].split(';\\n')\n",
    "            units = df['Unit'].iloc[i].split(';\\n')\n",
    "            \n",
    "            if str(df['Reference Product - new'].iloc[i]) == 'nan':\n",
    "                new_products = ['nan'] * len(products)\n",
    "            else:\n",
    "                new_products = df['Reference Product - new'].iloc[i].split(';\\n')\n",
    "            if str(df['Unit - new'].iloc[i]) == 'nan':\n",
    "                new_units = ['nan'] * len(units)\n",
    "            else:\n",
    "                new_units = df['Unit - new'].iloc[i].split(';\\n')\n",
    "            \n",
    "            for product, unit, new_product, new_unit in zip(products, units, new_products, new_units):\n",
    "                updated_df.loc[len(updated_df)] = [df['Activity Name'].iloc[i], df['Geography'].iloc[i], product, unit, df['Activity Name - new'].iloc[i], df['Geography - new'].iloc[i], new_product, new_unit, df['Deleted'].iloc[i], df['Version from'].iloc[i], df['Version to'].iloc[i]]\n",
    "        else:\n",
    "            updated_df.loc[len(updated_df)] = df.iloc[i].tolist()\n",
    "    \n",
    "    return updated_df"
   ],
   "id": "c62664c4540cedcb",
   "outputs": [],
   "execution_count": 27
  },
  {
   "metadata": {
    "ExecuteTime": {
     "end_time": "2024-07-09T21:19:45.882169Z",
     "start_time": "2024-07-09T21:16:55.650635Z"
    }
   },
   "cell_type": "code",
   "source": "change_report = handle_multi_processes_ecoinvent(change_report)",
   "id": "40871f24554ab211",
   "outputs": [],
   "execution_count": 28
  },
  {
   "metadata": {
    "ExecuteTime": {
     "end_time": "2024-07-09T21:19:45.945236Z",
     "start_time": "2024-07-09T21:19:45.888203Z"
    }
   },
   "cell_type": "code",
   "source": "change_report = change_report.reset_index(drop=True)",
   "id": "a61d4686b70d069e",
   "outputs": [],
   "execution_count": 29
  },
  {
   "metadata": {
    "ExecuteTime": {
     "end_time": "2024-07-09T21:21:31.214062Z",
     "start_time": "2024-07-09T21:19:45.945236Z"
    }
   },
   "cell_type": "code",
   "source": [
    "df = change_report[\n",
    "    (change_report['Geography'] == 'GLO')\n",
    "    & (change_report['Geography - new'] == 'GLO')\n",
    "]\n",
    "for i in range(len(df)):\n",
    "    # Add new row for the same activity but with RoW as location\n",
    "    new_row = df.iloc[i].tolist()\n",
    "    new_row[1], new_row[5] = 'RoW', 'RoW'\n",
    "    change_report.loc[len(change_report)] = new_row"
   ],
   "id": "ed83509f74362cd3",
   "outputs": [],
   "execution_count": 30
  },
  {
   "metadata": {
    "ExecuteTime": {
     "end_time": "2024-07-09T21:21:31.281454Z",
     "start_time": "2024-07-09T21:21:31.214062Z"
    }
   },
   "cell_type": "code",
   "source": [
    "# Only keep rows with changes in reference product, activity name or geography\n",
    "change_report = change_report.drop(change_report[\n",
    "    (change_report['Reference Product - new'] == change_report['Reference Product'])\n",
    "    & (change_report['Activity Name - new'] == change_report['Activity Name'])\n",
    "    & (change_report['Geography - new'] == change_report['Geography'])\n",
    "].index)"
   ],
   "id": "5127b97f84d6f056",
   "outputs": [],
   "execution_count": 31
  },
  {
   "metadata": {
    "ExecuteTime": {
     "end_time": "2024-07-09T21:21:31.336053Z",
     "start_time": "2024-07-09T21:21:31.281454Z"
    }
   },
   "cell_type": "code",
   "source": "changed_activities = [list(e) for e in {tuple(item) for item in change_report[['Reference Product', 'Activity Name', 'Geography']].values.tolist()}]",
   "id": "9464237266d382b1",
   "outputs": [],
   "execution_count": 32
  },
  {
   "metadata": {
    "ExecuteTime": {
     "end_time": "2024-07-09T21:24:13.660075Z",
     "start_time": "2024-07-09T21:24:13.632787Z"
    }
   },
   "cell_type": "code",
   "source": [
    "def update_mapping_file(df: pd.DataFrame, unit_to_change: list = None) -> tuple[pd.DataFrame, int, list]:\n",
    "    \n",
    "    updated_df = pd.DataFrame(data=[], columns=df.columns)\n",
    "    counter = 0\n",
    "    \n",
    "    if unit_to_change is None:\n",
    "        unit_to_change = []\n",
    "    \n",
    "    for i in range(len(df)):\n",
    "        \n",
    "        activity_name = df['Activity'].iloc[i]\n",
    "        activity_prod = df['Product'].iloc[i]\n",
    "        activity_geo = df['Location'].iloc[i]\n",
    "        tech_name = df['Name'].iloc[i]\n",
    "        tech_type = df['Type'].iloc[i]\n",
    "        database = df['Database'].iloc[i]\n",
    "        \n",
    "        if activity_geo in ['CAZ', 'NEU']:\n",
    "            activity_geo = 'RoW'\n",
    "        \n",
    "        if [activity_prod, activity_name, activity_geo] in changed_activities:\n",
    "            counter += 1\n",
    "            activity_name_new, activity_prod_new, activity_geo_new, unit, unit_new, deleted = change_report[\n",
    "                (change_report['Reference Product'] == activity_prod) \n",
    "                & (change_report['Activity Name'] == activity_name) \n",
    "                & (change_report['Geography'] == activity_geo)\n",
    "            ][['Activity Name - new', 'Reference Product - new', 'Geography - new', 'Unit', 'Unit - new', 'Deleted']].iloc[0]\n",
    "            \n",
    "            if unit != unit_new:\n",
    "                print(f\"WARNING: unit changed for {activity_prod} - {activity_name} - {activity_geo}\")\n",
    "                unit_to_change.append([(tech_name, tech_type), (activity_prod, activity_name, activity_geo), unit, unit_new])\n",
    "            \n",
    "            if (str(activity_name) == 'nan') & (deleted==1):\n",
    "                raise ValueError(f\"Activity {activity_prod} - {activity_name} - {activity_geo} has been deleted in the last ecoinvent version and should be replaced.\")\n",
    "            \n",
    "            else:\n",
    "                updated_df.loc[i] = [tech_name, tech_type, activity_prod_new, activity_name_new, activity_geo_new, database]\n",
    "                \n",
    "                print(tech_name, tech_type)\n",
    "                print(f\"Old: {activity_prod} - {activity_name} - {activity_geo}\")\n",
    "                print(f\"New: {activity_prod_new} - {activity_name_new} - {activity_geo_new}\")\n",
    "            \n",
    "        else:\n",
    "            updated_df.loc[i] = df.iloc[i]\n",
    "    \n",
    "    return updated_df, counter, unit_to_change"
   ],
   "id": "fa6ea37691c3b1e8",
   "outputs": [],
   "execution_count": 43
  },
  {
   "metadata": {
    "ExecuteTime": {
     "end_time": "2024-07-09T21:24:21.489296Z",
     "start_time": "2024-07-09T21:24:18.185529Z"
    }
   },
   "cell_type": "code",
   "source": [
    "updated_mapping, counter, unit_to_change = update_mapping_file(mapping)\n",
    "while counter > 0:\n",
    "    updated_mapping, counter, unit_to_change = update_mapping_file(updated_mapping, unit_to_change)\n",
    "    print(counter)"
   ],
   "id": "9fc491b784ba0471",
   "outputs": [
    {
     "name": "stdout",
     "output_type": "stream",
     "text": [
      "BATTERY Construction\n",
      "Old: battery, Li-ion, rechargeable, prismatic - market for battery, Li-ion, rechargeable, prismatic - GLO\n",
      "New: battery, Li-ion, LiMn2O4, rechargeable, prismatic - market for battery, Li-ion, LiMn2O4, rechargeable, prismatic - GLO\n",
      "CEMENT_PROD Operation\n",
      "Old: cement, alternative constituents 21-35% - cement production, alternative constituents 21-35% - CH\n",
      "New: cement, CEM II/B - cement production, CEM II/B - CH\n",
      "CEMENT_PROD_HP Operation\n",
      "Old: cement, alternative constituents 21-35% - cement production, alternative constituents 21-35% - CH\n",
      "New: cement, CEM II/B - cement production, CEM II/B - CH\n",
      "CO2_METHANOL Operation\n",
      "Old: methanol - methanol production - GLO\n",
      "New: methanol - methanol production, natural gas reforming - CN\n",
      "CUMENE_PROCESS Operation\n",
      "Old: cumene - cumene production - RER\n",
      "New: cumene - cumene production, benzene alkylation - RER\n",
      "ELEC_STO Construction\n",
      "Old: battery, Li-ion, rechargeable, prismatic - market for battery, Li-ion, rechargeable, prismatic - GLO\n",
      "New: battery, Li-ion, LiMn2O4, rechargeable, prismatic - market for battery, Li-ion, LiMn2O4, rechargeable, prismatic - GLO\n",
      "ETHANE_OXIDATION Operation\n",
      "Old: acetic acid, without water, in 98% solution state - acetic acid production, product in 98% solution state - RER\n",
      "New: acetic acid, without water, in 98% solution state - acetic acid production, methanol carboxylation (Monsanto), product in 98% solution state - RER\n",
      "ETHANE_TO_ETHYLENE Operation\n",
      "Old: ethylene - ethylene production, average - RER\n",
      "New: ethylene - unsaturated hydrocarbons production, steam cracking operation, average - RER\n",
      "ETHYLENE_POLYMERIZATION Operation\n",
      "Old: ethylene - ethylene production, average - RER\n",
      "New: ethylene - unsaturated hydrocarbons production, steam cracking operation, average - RER\n",
      "H2_COMP_HE Operation\n",
      "Old: hydrogen, gaseous - market for hydrogen, gaseous - RoW\n",
      "New: hydrogen, gaseous, low pressure - market for hydrogen, gaseous, low pressure - RoW\n",
      "H2_COMP_LM Operation\n",
      "Old: hydrogen, gaseous - market for hydrogen, gaseous - RoW\n",
      "New: hydrogen, gaseous, low pressure - market for hydrogen, gaseous, low pressure - RoW\n",
      "H2_COMP_MH Operation\n",
      "Old: hydrogen, gaseous - market for hydrogen, gaseous - RoW\n",
      "New: hydrogen, gaseous, low pressure - market for hydrogen, gaseous, low pressure - RoW\n",
      "H2_EXP_EH Operation\n",
      "Old: hydrogen, gaseous - market for hydrogen, gaseous - RoW\n",
      "New: hydrogen, gaseous, low pressure - market for hydrogen, gaseous, low pressure - RoW\n",
      "H2_EXP_EH_COGEN Operation\n",
      "Old: hydrogen, gaseous - market for hydrogen, gaseous - RoW\n",
      "New: hydrogen, gaseous, low pressure - market for hydrogen, gaseous, low pressure - RoW\n",
      "H2_EXP_HM Operation\n",
      "Old: hydrogen, gaseous - market for hydrogen, gaseous - RoW\n",
      "New: hydrogen, gaseous, low pressure - market for hydrogen, gaseous, low pressure - RoW\n",
      "H2_EXP_HM_COGEN Operation\n",
      "Old: hydrogen, gaseous - market for hydrogen, gaseous - RoW\n",
      "New: hydrogen, gaseous, low pressure - market for hydrogen, gaseous, low pressure - RoW\n",
      "H2_EXP_ML Operation\n",
      "Old: hydrogen, gaseous - market for hydrogen, gaseous - RoW\n",
      "New: hydrogen, gaseous, low pressure - market for hydrogen, gaseous, low pressure - RoW\n",
      "H2_EXP_ML_COGEN Operation\n",
      "Old: hydrogen, gaseous - market for hydrogen, gaseous - RoW\n",
      "New: hydrogen, gaseous, low pressure - market for hydrogen, gaseous, low pressure - RoW\n",
      "METATHESIS_PROPYLENE Operation\n",
      "Old: propylene - propylene production - RER\n",
      "New: propylene - unsaturated hydrocarbons production, steam cracking operation, average - RER\n",
      "METHANE_TO_METHANOL Operation\n",
      "Old: methanol - methanol production - GLO\n",
      "New: methanol - methanol production, natural gas reforming - CN\n",
      "METHANOL_CARBONYLATION Operation\n",
      "Old: acetic acid, without water, in 98% solution state - acetic acid production, product in 98% solution state - RER\n",
      "New: acetic acid, without water, in 98% solution state - acetic acid production, methanol carboxylation (Monsanto), product in 98% solution state - RER\n",
      "METHANOL_FT Operation\n",
      "Old: methanol, from biomass - methanol production, from synthetic gas - CH\n",
      "New: methanol, from biomass - methanol production, biomass gasification - CH\n",
      "METHANOL_TO_AROMATICS Operation\n",
      "Old: xylene - xylene production - RER\n",
      "New: xylene, mixed - BTX production, from pyrolysis gas, average - RER\n",
      "BENZENE Resource\n",
      "Old: benzene - market for benzene - GLO\n",
      "New: benzene - market for benzene - RER\n",
      "H2_EHP Resource\n",
      "Old: hydrogen, gaseous - market for hydrogen, gaseous - RoW\n",
      "New: hydrogen, gaseous, low pressure - market for hydrogen, gaseous, low pressure - RoW\n",
      "H2_HP Resource\n",
      "Old: hydrogen, gaseous - market for hydrogen, gaseous - RoW\n",
      "New: hydrogen, gaseous, low pressure - market for hydrogen, gaseous, low pressure - RoW\n",
      "H2_LP Resource\n",
      "Old: hydrogen, gaseous - market for hydrogen, gaseous - RoW\n",
      "New: hydrogen, gaseous, low pressure - market for hydrogen, gaseous, low pressure - RoW\n",
      "H2_MP Resource\n",
      "Old: hydrogen, gaseous - market for hydrogen, gaseous - RoW\n",
      "New: hydrogen, gaseous, low pressure - market for hydrogen, gaseous, low pressure - RoW\n",
      "METHANOL Resource\n",
      "Old: methanol - market for methanol - GLO\n",
      "New: methanol - market for methanol - CN\n",
      "XYLENE Resource\n",
      "Old: xylene - market for xylene - RER\n",
      "New: xylene, mixed - market for xylene, mixed - RER\n",
      "BENZENE Flow\n",
      "Old: benzene - market for benzene - GLO\n",
      "New: benzene - market for benzene - RER\n",
      "H2_EHP Flow\n",
      "Old: hydrogen, gaseous - market for hydrogen, gaseous - RoW\n",
      "New: hydrogen, gaseous, low pressure - market for hydrogen, gaseous, low pressure - RoW\n",
      "H2_HP Flow\n",
      "Old: hydrogen, gaseous - market for hydrogen, gaseous - RoW\n",
      "New: hydrogen, gaseous, low pressure - market for hydrogen, gaseous, low pressure - RoW\n",
      "H2_LP Flow\n",
      "Old: hydrogen, gaseous - market for hydrogen, gaseous - RoW\n",
      "New: hydrogen, gaseous, low pressure - market for hydrogen, gaseous, low pressure - RoW\n",
      "H2_MP Flow\n",
      "Old: hydrogen, gaseous - market for hydrogen, gaseous - RoW\n",
      "New: hydrogen, gaseous, low pressure - market for hydrogen, gaseous, low pressure - RoW\n",
      "METHANOL Flow\n",
      "Old: methanol - market for methanol - GLO\n",
      "New: methanol - market for methanol - CN\n",
      "XYLENE Flow\n",
      "Old: xylene - market for xylene - RER\n",
      "New: xylene, mixed - market for xylene, mixed - RER\n",
      "0\n"
     ]
    }
   ],
   "execution_count": 44
  },
  {
   "metadata": {},
   "cell_type": "markdown",
   "source": "## Verification and saving of the mapping file",
   "id": "4d0e7baf698de36a"
  },
  {
   "metadata": {
    "ExecuteTime": {
     "end_time": "2024-07-09T21:21:32.641123Z",
     "start_time": "2024-07-09T21:21:32.629594Z"
    }
   },
   "cell_type": "code",
   "source": "name_premise_db = f'ecoinvent_cutoff_{ei_version_to}_remind_SSP2-Base_2020_with_CPC'",
   "id": "7daee13856f070a1",
   "outputs": [],
   "execution_count": 35
  },
  {
   "metadata": {
    "ExecuteTime": {
     "end_time": "2024-07-09T21:23:12.037417Z",
     "start_time": "2024-07-09T21:21:32.641635Z"
    }
   },
   "cell_type": "code",
   "source": "db = load_extract_db(name_premise_db, create_pickle=True)",
   "id": "44b47b57f8c9ac90",
   "outputs": [
    {
     "name": "stdout",
     "output_type": "stream",
     "text": [
      "Getting activity data\n"
     ]
    },
    {
     "name": "stderr",
     "output_type": "stream",
     "text": [
      "100%|██████████| 34093/34093 [00:00<00:00, 47471.83it/s]\n"
     ]
    },
    {
     "name": "stdout",
     "output_type": "stream",
     "text": [
      "Adding exchange data to activities\n"
     ]
    },
    {
     "name": "stderr",
     "output_type": "stream",
     "text": [
      "100%|██████████| 1154525/1154525 [01:16<00:00, 14995.22it/s]\n"
     ]
    },
    {
     "name": "stdout",
     "output_type": "stream",
     "text": [
      "Filling out exchange data\n"
     ]
    },
    {
     "name": "stderr",
     "output_type": "stream",
     "text": [
      "100%|██████████| 34093/34093 [00:06<00:00, 5434.07it/s]\n"
     ]
    },
    {
     "name": "stdout",
     "output_type": "stream",
     "text": [
      "ecoinvent_cutoff_3.10_remind_SSP2-Base_2020_with_CPC.pickle created!\n"
     ]
    }
   ],
   "execution_count": 36
  },
  {
   "metadata": {
    "ExecuteTime": {
     "end_time": "2024-07-09T21:23:12.096552Z",
     "start_time": "2024-07-09T21:23:12.037417Z"
    }
   },
   "cell_type": "code",
   "source": "db_dict_name = database_list_to_dict(db, 'name')",
   "id": "a7902f16da52904a",
   "outputs": [],
   "execution_count": 37
  },
  {
   "metadata": {
    "ExecuteTime": {
     "end_time": "2024-07-09T21:24:28.828960Z",
     "start_time": "2024-07-09T21:24:28.771663Z"
    }
   },
   "cell_type": "code",
   "source": [
    "# Verification\n",
    "unlinked = []\n",
    "for i in range(len(updated_mapping)):\n",
    "    activity_name = updated_mapping['Activity'].iloc[i]\n",
    "    activity_prod = updated_mapping['Product'].iloc[i]\n",
    "    activity_loc = updated_mapping['Location'].iloc[i]\n",
    "    activity_database = updated_mapping['Database'].iloc[i]\n",
    "    if activity_database == name_premise_db:\n",
    "        if (activity_name, activity_prod, activity_loc, activity_database) in db_dict_name:\n",
    "            pass\n",
    "        else:\n",
    "            unlinked.append((activity_name, activity_prod, activity_loc, activity_database))\n",
    "            print(f'Cant find {activity_name} - {activity_prod} - {activity_loc} - {activity_database}')"
   ],
   "id": "3f285a387b2738d6",
   "outputs": [],
   "execution_count": 45
  },
  {
   "metadata": {
    "ExecuteTime": {
     "end_time": "2024-07-09T21:24:31.829269Z",
     "start_time": "2024-07-09T21:24:31.800913Z"
    }
   },
   "cell_type": "code",
   "source": [
    "if len(unlinked) == 0:\n",
    "    updated_mapping.to_csv(f\"energyscope_data/{esm_location}/mapping_{ei_version_to}.csv\", index=False)"
   ],
   "id": "177e9baed10912ae",
   "outputs": [],
   "execution_count": 46
  },
  {
   "metadata": {},
   "cell_type": "markdown",
   "source": "# Adapt the unit conversion file corresponding to the new mapping file",
   "id": "789a91e8cedd3728"
  },
  {
   "metadata": {
    "ExecuteTime": {
     "end_time": "2024-07-09T21:23:12.197824Z",
     "start_time": "2024-07-09T21:23:12.162023Z"
    }
   },
   "cell_type": "code",
   "source": "unit_conversion = pd.read_csv(f\"energyscope_data/{esm_location}/unit_conversion_{ei_version_from}.csv\")",
   "id": "3a3b3ef110eb5c79",
   "outputs": [],
   "execution_count": 40
  },
  {
   "metadata": {
    "ExecuteTime": {
     "end_time": "2024-07-09T21:23:12.213530Z",
     "start_time": "2024-07-09T21:23:12.197824Z"
    }
   },
   "cell_type": "code",
   "source": [
    "for i in range(len(unit_to_change)):\n",
    "    unit_esm, unit_lca = unit_conversion[\n",
    "        (unit_conversion.Name == unit_to_change[i][0][0])\n",
    "        & (unit_conversion.Type == unit_to_change[i][0][1])\n",
    "    ][['From', 'To']].values[0]\n",
    "    \n",
    "    if unit_lca != unit_to_change[i][2]:\n",
    "        raise ValueError(f'LCA unit for {unit_to_change[i][0][0]} - {unit_to_change[i][0][1]} is not the same as the one in the mapping file. {unit_lca} != {unit_to_change[i][2]}')\n",
    "    else:\n",
    "        if unit_to_change[i][0] == ('OCGT_LARGE', 'Operation'):\n",
    "            new_value = 3.6e6 * 2.5  # 2.5 MWh NG per MWh electricity\n",
    "        \n",
    "        elif unit_to_change[i][0] == ('OCGT_SMALL', 'Operation'):\n",
    "            new_value = 3.6e6 * 2.5  # 2.5 MWh NG per MWh electricity\n",
    "        \n",
    "        else:\n",
    "            raise ValueError(f\"Unknown unit conversion for {unit_to_change[i][0]}\")\n",
    "        \n",
    "        # delete current row \n",
    "        unit_conversion = unit_conversion.drop(unit_conversion[\n",
    "            (unit_conversion.Name == unit_to_change[i][0][0])\n",
    "            & (unit_conversion.Type == unit_to_change[i][0][1])\n",
    "        ].index)\n",
    "        \n",
    "        # add new row\n",
    "        unit_conversion.loc[len(unit_conversion)] = [unit_to_change[i][0][0], unit_to_change[i][0][1], new_value, unit_to_change[i][3], unit_esm]"
   ],
   "id": "f302c631945eca36",
   "outputs": [],
   "execution_count": 41
  },
  {
   "metadata": {
    "ExecuteTime": {
     "end_time": "2024-07-09T21:23:12.267182Z",
     "start_time": "2024-07-09T21:23:12.213530Z"
    }
   },
   "cell_type": "code",
   "source": "unit_conversion.sort_values(by=['Name', 'Type']).to_csv(f\"energyscope_data/{esm_location}/unit_conversion_{ei_version_to}.csv\", index=False)",
   "id": "792da9e972790018",
   "outputs": [],
   "execution_count": 42
  }
 ],
 "metadata": {
  "kernelspec": {
   "display_name": "Python 3",
   "language": "python",
   "name": "python3"
  },
  "language_info": {
   "codemirror_mode": {
    "name": "ipython",
    "version": 2
   },
   "file_extension": ".py",
   "mimetype": "text/x-python",
   "name": "python",
   "nbconvert_exporter": "python",
   "pygments_lexer": "ipython2",
   "version": "2.7.6"
  }
 },
 "nbformat": 4,
 "nbformat_minor": 5
}
