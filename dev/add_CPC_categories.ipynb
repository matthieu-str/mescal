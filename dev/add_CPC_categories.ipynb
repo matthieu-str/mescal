{
 "cells": [
  {
   "metadata": {},
   "cell_type": "markdown",
   "source": "# Add CPC categories to a database ",
   "id": "5c30648f1538d71d"
  },
  {
   "metadata": {
    "ExecuteTime": {
     "end_time": "2024-06-17T17:40:42.840840Z",
     "start_time": "2024-06-17T17:40:35.723235Z"
    }
   },
   "cell_type": "code",
   "source": [
    "from mescal import *\n",
    "import pandas as pd\n",
    "import bw2data as bd"
   ],
   "id": "a764971bcc9ab2cc",
   "execution_count": 1,
   "outputs": []
  },
  {
   "metadata": {
    "ExecuteTime": {
     "end_time": "2024-06-17T17:41:06.369738Z",
     "start_time": "2024-06-17T17:40:42.843897Z"
    }
   },
   "cell_type": "code",
   "source": "bd.projects.set_current(\"ei3.8-mescal\")",
   "id": "60bf323c8e21ab72",
   "execution_count": 2,
   "outputs": []
  },
  {
   "metadata": {
    "ExecuteTime": {
     "end_time": "2024-06-17T17:41:06.410064Z",
     "start_time": "2024-06-17T17:41:06.369738Z"
    }
   },
   "cell_type": "code",
   "source": "mapping_product_to_CPC = pd.read_csv('data/mapping_product_to_CPC.csv')",
   "id": "7d060e89cd808397",
   "execution_count": 3,
   "outputs": []
  },
  {
   "metadata": {
    "ExecuteTime": {
     "end_time": "2024-06-17T17:41:15.051438Z",
     "start_time": "2024-06-17T17:41:06.410064Z"
    }
   },
   "cell_type": "code",
   "source": [
    "name_premise_db = \"ecoinvent_cutoff_3.8_remind_SSP2-Base_2020\"\n",
    "premise_db = load_extract_db(name_premise_db)"
   ],
   "id": "b28904b20312bf9d",
   "execution_count": 4,
   "outputs": []
  },
  {
   "metadata": {
    "ExecuteTime": {
     "end_time": "2024-06-17T17:41:15.094998Z",
     "start_time": "2024-06-17T17:41:15.051438Z"
    }
   },
   "cell_type": "code",
   "source": [
    "name_premise_comp_db = name_premise_db + '_comp_QC'\n",
    "premise_comp_db = load_extract_db(name_premise_comp_db)"
   ],
   "id": "90d0426aa26bef51",
   "execution_count": 5,
   "outputs": []
  },
  {
   "metadata": {},
   "cell_type": "markdown",
   "source": "## Create a new database with additional CPC categories",
   "id": "ec1e21d85da08335"
  },
  {
   "metadata": {
    "ExecuteTime": {
     "end_time": "2024-06-17T17:41:15.108493Z",
     "start_time": "2024-06-17T17:41:15.096745Z"
    }
   },
   "cell_type": "code",
   "source": [
    "name_premise_with_CPC_db = name_premise_db+'_with_CPC'\n",
    "name_premise_comp_with_CPC_db = name_premise_comp_db+'_with_CPC'"
   ],
   "id": "4ddb4ba9d4cfa60c",
   "execution_count": 6,
   "outputs": []
  },
  {
   "metadata": {
    "ExecuteTime": {
     "end_time": "2024-06-17T17:47:28.926405Z",
     "start_time": "2024-06-17T17:41:15.112094Z"
    }
   },
   "cell_type": "code",
   "source": "create_new_database_with_CPC_categories(db=premise_db, new_db_name=name_premise_with_CPC_db, mapping_product_to_CPC=mapping_product_to_CPC)",
   "id": "8e843178d2641134",
   "execution_count": 7,
   "outputs": []
  },
  {
   "metadata": {
    "ExecuteTime": {
     "end_time": "2024-06-17T17:47:30.712149Z",
     "start_time": "2024-06-17T17:47:28.926405Z"
    }
   },
   "cell_type": "code",
   "source": "create_new_database_with_CPC_categories(db=premise_comp_db, new_db_name=name_premise_comp_with_CPC_db, mapping_product_to_CPC=mapping_product_to_CPC)",
   "id": "45e508ee61a0a1b7",
   "execution_count": 8,
   "outputs": []
  },
  {
   "metadata": {},
   "cell_type": "markdown",
   "source": "Relink the complementary database with the newly created main database",
   "id": "ecf4afa17f72836c"
  },
  {
   "metadata": {
    "ExecuteTime": {
     "end_time": "2024-06-17T17:47:37.150642Z",
     "start_time": "2024-06-17T17:47:36.606186Z"
    }
   },
   "cell_type": "code",
   "source": "premise_comp_db_with_CPC = load_extract_db(name_premise_comp_with_CPC_db, create_pickle=False)",
   "id": "5351b0891d5adb36",
   "execution_count": 9,
   "outputs": []
  },
  {
   "metadata": {
    "ExecuteTime": {
     "end_time": "2024-06-17T17:47:40.714620Z",
     "start_time": "2024-06-17T17:47:39.837763Z"
    }
   },
   "cell_type": "code",
   "source": "relink_database(premise_comp_db_with_CPC, name_premise_db, name_premise_with_CPC_db)",
   "id": "fdfdb04511a4e69d",
   "execution_count": 10,
   "outputs": []
  },
  {
   "metadata": {},
   "cell_type": "markdown",
   "source": "## Change the mapping file accordingly",
   "id": "4d446117123e43ea"
  },
  {
   "metadata": {
    "ExecuteTime": {
     "end_time": "2024-06-17T17:47:43.526597Z",
     "start_time": "2024-06-17T17:47:43.510310Z"
    }
   },
   "cell_type": "code",
   "source": "mapping_technologies = pd.read_csv('energyscope_data/mapping_linked.csv')",
   "id": "b1e09c33a12971ba",
   "execution_count": 11,
   "outputs": []
  },
  {
   "metadata": {
    "ExecuteTime": {
     "end_time": "2024-06-17T17:47:45.083324Z",
     "start_time": "2024-06-17T17:47:45.068609Z"
    }
   },
   "cell_type": "code",
   "source": "mapping_technologies['Database'] += '_with_CPC'",
   "id": "a511abec411778dc",
   "execution_count": 12,
   "outputs": []
  },
  {
   "metadata": {
    "ExecuteTime": {
     "end_time": "2024-06-17T17:47:45.726434Z",
     "start_time": "2024-06-17T17:47:45.704212Z"
    }
   },
   "cell_type": "code",
   "source": "mapping_technologies.to_csv('energyscope_data/mapping_linked.csv', index=False)",
   "id": "508291260ede590",
   "execution_count": 13,
   "outputs": []
  },
  {
   "metadata": {},
   "cell_type": "markdown",
   "source": "## Test the new database",
   "id": "2b0e0aaa48b1c14a"
  },
  {
   "metadata": {
    "ExecuteTime": {
     "end_time": "2024-06-17T17:49:52.684646Z",
     "start_time": "2024-06-17T17:47:48.780491Z"
    }
   },
   "cell_type": "code",
   "source": "premise_db_with_CPC = load_extract_db(name_premise_with_CPC_db)",
   "id": "55896114e4c7c6f9",
   "execution_count": 14,
   "outputs": []
  },
  {
   "metadata": {
    "ExecuteTime": {
     "end_time": "2024-06-17T17:49:52.731839Z",
     "start_time": "2024-06-17T17:49:52.694420Z"
    }
   },
   "cell_type": "code",
   "source": "db = premise_db_with_CPC + premise_comp_db_with_CPC",
   "id": "f0815b09996ef82c",
   "execution_count": 15,
   "outputs": []
  },
  {
   "metadata": {
    "ExecuteTime": {
     "end_time": "2024-06-17T17:49:52.811849Z",
     "start_time": "2024-06-17T17:49:52.735342Z"
    }
   },
   "cell_type": "code",
   "source": "premise_db_with_CPC_dict = {(a['name'], a['reference product'], a['location']): a for a in db}",
   "id": "fd9b2beb742e6f3d",
   "execution_count": 16,
   "outputs": []
  },
  {
   "metadata": {
    "ExecuteTime": {
     "end_time": "2024-06-17T17:49:52.904709Z",
     "start_time": "2024-06-17T17:49:52.818554Z"
    }
   },
   "cell_type": "code",
   "source": [
    "# Relink your mapping with the premise database before running the following cells\n",
    "mapping_linked_to_premise = pd.read_csv('energyscope_data/mapping_QC_linked.csv')"
   ],
   "id": "af64c14a3ba8d619",
   "execution_count": 17,
   "outputs": []
  },
  {
   "metadata": {
    "ExecuteTime": {
     "end_time": "2024-06-17T17:49:53.022936Z",
     "start_time": "2024-06-17T17:49:52.907250Z"
    }
   },
   "cell_type": "code",
   "source": [
    "act_wo_CPC_cat = []\n",
    "df = mapping_linked_to_premise[mapping_linked_to_premise['Type'] == 'Operation']\n",
    "\n",
    "for i in range(len(df)):\n",
    "    activity = df.iloc[i]['Activity']\n",
    "    product = df.iloc[i]['Product']\n",
    "    location = df.iloc[i]['Location']\n",
    "    \n",
    "    act = premise_db_with_CPC_dict[(activity, product, location)]\n",
    "    try:\n",
    "        CPC = dict(act['classifications'])['CPC']  \n",
    "    except KeyError:\n",
    "        print(f'No CPC category for: {product} - {activity} - {location}')\n",
    "        act_wo_CPC_cat.append((activity, product, location))\n",
    "    \n",
    "    for exc in get_technosphere_flows(act):\n",
    "        act_exc = premise_db_with_CPC_dict[(exc['name'], exc['product'], exc['location'])]\n",
    "        try:\n",
    "            CPC = dict(act_exc['classifications'])['CPC']\n",
    "        except KeyError:\n",
    "            print(f'No CPC category for: {act_exc[\"reference product\"]} - {act_exc[\"name\"]} - {act_exc[\"location\"]}')\n",
    "            act_wo_CPC_cat.append((act_exc['name'], act_exc['reference product'], act_exc['location']))"
   ],
   "id": "50093aff4f2c6410",
   "execution_count": 18,
   "outputs": []
  },
  {
   "metadata": {
    "ExecuteTime": {
     "end_time": "2024-06-17T17:49:53.045174Z",
     "start_time": "2024-06-17T17:49:53.022936Z"
    }
   },
   "cell_type": "code",
   "source": "list(set([a[1] for a in act_wo_CPC_cat]))",
   "id": "af7aef6683ebbd3",
   "execution_count": 19,
   "outputs": []
  }
 ],
 "metadata": {
  "kernelspec": {
   "display_name": "Python 3",
   "language": "python",
   "name": "python3"
  },
  "language_info": {
   "codemirror_mode": {
    "name": "ipython",
    "version": 2
   },
   "file_extension": ".py",
   "mimetype": "text/x-python",
   "name": "python",
   "nbconvert_exporter": "python",
   "pygments_lexer": "ipython2",
   "version": "2.7.6"
  }
 },
 "nbformat": 4,
 "nbformat_minor": 5
}
