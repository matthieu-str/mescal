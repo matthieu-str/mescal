{
 "cells": [
  {
   "metadata": {},
   "cell_type": "markdown",
   "source": "# Add CPC categories to a database ",
   "id": "5c30648f1538d71d"
  },
  {
   "metadata": {
    "ExecuteTime": {
     "end_time": "2024-06-12T20:42:54.348617Z",
     "start_time": "2024-06-12T20:42:47.683811Z"
    }
   },
   "cell_type": "code",
   "source": [
    "from mescal import *\n",
    "import pandas as pd\n",
    "import bw2data as bd"
   ],
   "id": "a764971bcc9ab2cc",
   "outputs": [],
   "execution_count": 1
  },
  {
   "metadata": {
    "ExecuteTime": {
     "end_time": "2024-06-12T20:42:54.442556Z",
     "start_time": "2024-06-12T20:42:54.348617Z"
    }
   },
   "cell_type": "code",
   "source": "bd.projects.set_current(\"ei3.8-mescal\")",
   "id": "60bf323c8e21ab72",
   "outputs": [],
   "execution_count": 2
  },
  {
   "metadata": {
    "ExecuteTime": {
     "end_time": "2024-06-12T20:42:54.456533Z",
     "start_time": "2024-06-12T20:42:54.442556Z"
    }
   },
   "cell_type": "code",
   "source": "mapping_product_to_CPC = pd.read_csv('data/mapping_product_to_CPC.csv')",
   "id": "7d060e89cd808397",
   "outputs": [],
   "execution_count": 3
  },
  {
   "metadata": {
    "ExecuteTime": {
     "end_time": "2024-06-12T20:42:58.571577Z",
     "start_time": "2024-06-12T20:42:54.459051Z"
    }
   },
   "cell_type": "code",
   "source": [
    "name_premise_db = \"ecoinvent_cutoff_3.8_remind_SSP2-Base_2020\"\n",
    "premise_db = load_extract_db(name_premise_db)"
   ],
   "id": "b28904b20312bf9d",
   "outputs": [],
   "execution_count": 4
  },
  {
   "metadata": {
    "ExecuteTime": {
     "end_time": "2024-06-12T20:42:58.581246Z",
     "start_time": "2024-06-12T20:42:58.571577Z"
    }
   },
   "cell_type": "code",
   "source": [
    "name_premise_comp_db = name_premise_db + '_comp_QC'\n",
    "premise_comp_db = load_extract_db(name_premise_comp_db)"
   ],
   "id": "90d0426aa26bef51",
   "outputs": [],
   "execution_count": 5
  },
  {
   "metadata": {},
   "cell_type": "markdown",
   "source": "## Create a new database with additional CPC categories",
   "id": "ec1e21d85da08335"
  },
  {
   "metadata": {
    "ExecuteTime": {
     "end_time": "2024-06-12T20:42:58.587547Z",
     "start_time": "2024-06-12T20:42:58.581246Z"
    }
   },
   "cell_type": "code",
   "source": [
    "name_premise_with_CPC_db = name_premise_db+'_with_CPC'\n",
    "name_premise_comp_with_CPC_db = name_premise_comp_db+'_with_CPC'"
   ],
   "id": "4ddb4ba9d4cfa60c",
   "outputs": [],
   "execution_count": 6
  },
  {
   "metadata": {
    "ExecuteTime": {
     "end_time": "2024-06-12T20:47:38.883111Z",
     "start_time": "2024-06-12T20:42:58.587547Z"
    }
   },
   "cell_type": "code",
   "source": "create_new_database_with_CPC_categories(db=premise_db, new_db_name=name_premise_with_CPC_db, mapping_product_to_CPC=mapping_product_to_CPC)",
   "id": "8e843178d2641134",
   "outputs": [
    {
     "name": "stdout",
     "output_type": "stream",
     "text": [
      "Vacuuming database \n"
     ]
    },
    {
     "name": "stderr",
     "output_type": "stream",
     "text": [
      "Writing activities to SQLite3 database:\n",
      "0% [##############################] 100% | ETA: 00:00:00\n",
      "Total time elapsed: 00:00:35\n"
     ]
    },
    {
     "name": "stdout",
     "output_type": "stream",
     "text": [
      "Title: Writing activities to SQLite3 database:\n",
      "  Started: 06/12/2024 16:45:04\n",
      "  Finished: 06/12/2024 16:45:39\n",
      "  Total time elapsed: 00:00:35\n",
      "  CPU %: 3.50\n",
      "  Memory %: 9.57\n"
     ]
    }
   ],
   "execution_count": 7
  },
  {
   "metadata": {
    "ExecuteTime": {
     "end_time": "2024-06-12T20:47:39.449803Z",
     "start_time": "2024-06-12T20:47:38.883111Z"
    }
   },
   "cell_type": "code",
   "source": "create_new_database_with_CPC_categories(db=premise_comp_db, new_db_name=name_premise_comp_with_CPC_db, mapping_product_to_CPC=mapping_product_to_CPC)",
   "id": "45e508ee61a0a1b7",
   "outputs": [
    {
     "name": "stderr",
     "output_type": "stream",
     "text": [
      "Writing activities to SQLite3 database:\n",
      "0% [##############################] 100% | ETA: 00:00:00\n",
      "Total time elapsed: 00:00:00\n"
     ]
    },
    {
     "name": "stdout",
     "output_type": "stream",
     "text": [
      "Title: Writing activities to SQLite3 database:\n",
      "  Started: 06/12/2024 16:47:39\n",
      "  Finished: 06/12/2024 16:47:39\n",
      "  Total time elapsed: 00:00:00\n",
      "  CPU %: 0.00\n",
      "  Memory %: 10.74\n"
     ]
    }
   ],
   "execution_count": 8
  },
  {
   "metadata": {},
   "cell_type": "markdown",
   "source": "Relink the complementary database with the newly created main database",
   "id": "ecf4afa17f72836c"
  },
  {
   "metadata": {
    "ExecuteTime": {
     "end_time": "2024-06-12T20:47:39.703221Z",
     "start_time": "2024-06-12T20:47:39.449803Z"
    }
   },
   "cell_type": "code",
   "source": "premise_comp_db_with_CPC = load_extract_db(name_premise_comp_with_CPC_db, create_pickle=False)",
   "id": "5351b0891d5adb36",
   "outputs": [
    {
     "name": "stdout",
     "output_type": "stream",
     "text": [
      "Getting activity data\n"
     ]
    },
    {
     "name": "stderr",
     "output_type": "stream",
     "text": [
      "100%|██████████| 37/37 [00:00<?, ?it/s]\n"
     ]
    },
    {
     "name": "stdout",
     "output_type": "stream",
     "text": [
      "Adding exchange data to activities\n"
     ]
    },
    {
     "name": "stderr",
     "output_type": "stream",
     "text": [
      "100%|██████████| 1170/1170 [00:00<00:00, 37810.40it/s]\n"
     ]
    },
    {
     "name": "stdout",
     "output_type": "stream",
     "text": [
      "Filling out exchange data\n"
     ]
    },
    {
     "name": "stderr",
     "output_type": "stream",
     "text": [
      "100%|██████████| 37/37 [00:00<00:00, 192.18it/s]\n"
     ]
    }
   ],
   "execution_count": 9
  },
  {
   "metadata": {
    "ExecuteTime": {
     "end_time": "2024-06-12T20:47:40.135023Z",
     "start_time": "2024-06-12T20:47:39.704772Z"
    }
   },
   "cell_type": "code",
   "source": "relink_database(premise_comp_db_with_CPC, name_premise_db, name_premise_with_CPC_db)",
   "id": "fdfdb04511a4e69d",
   "outputs": [
    {
     "name": "stderr",
     "output_type": "stream",
     "text": [
      "Writing activities to SQLite3 database:\n",
      "0% [##############################] 100% | ETA: 00:00:00\n",
      "Total time elapsed: 00:00:00\n"
     ]
    },
    {
     "name": "stdout",
     "output_type": "stream",
     "text": [
      "Title: Writing activities to SQLite3 database:\n",
      "  Started: 06/12/2024 16:47:39\n",
      "  Finished: 06/12/2024 16:47:39\n",
      "  Total time elapsed: 00:00:00\n",
      "  CPU %: 10.00\n",
      "  Memory %: 10.73\n"
     ]
    }
   ],
   "execution_count": 10
  },
  {
   "metadata": {},
   "cell_type": "markdown",
   "source": "## Test the new database",
   "id": "2b0e0aaa48b1c14a"
  },
  {
   "metadata": {
    "ExecuteTime": {
     "end_time": "2024-06-12T20:48:35.752158Z",
     "start_time": "2024-06-12T20:47:40.135023Z"
    }
   },
   "cell_type": "code",
   "source": "premise_db_with_CPC = load_extract_db(name_premise_with_CPC_db)",
   "id": "55896114e4c7c6f9",
   "outputs": [
    {
     "name": "stdout",
     "output_type": "stream",
     "text": [
      "Getting activity data\n"
     ]
    },
    {
     "name": "stderr",
     "output_type": "stream",
     "text": [
      "100%|██████████| 30201/30201 [00:00<00:00, 32914.38it/s]\n"
     ]
    },
    {
     "name": "stdout",
     "output_type": "stream",
     "text": [
      "Adding exchange data to activities\n"
     ]
    },
    {
     "name": "stderr",
     "output_type": "stream",
     "text": [
      "100%|██████████| 1022813/1022813 [00:36<00:00, 27991.89it/s]\n"
     ]
    },
    {
     "name": "stdout",
     "output_type": "stream",
     "text": [
      "Filling out exchange data\n"
     ]
    },
    {
     "name": "stderr",
     "output_type": "stream",
     "text": [
      "100%|██████████| 30201/30201 [00:02<00:00, 11326.89it/s]\n"
     ]
    },
    {
     "name": "stdout",
     "output_type": "stream",
     "text": [
      "ecoinvent_cutoff_3.8_remind_SSP2-Base_2020_with_CPC.pickle created!\n"
     ]
    }
   ],
   "execution_count": 11
  },
  {
   "metadata": {
    "ExecuteTime": {
     "end_time": "2024-06-12T20:48:35.763584Z",
     "start_time": "2024-06-12T20:48:35.752158Z"
    }
   },
   "cell_type": "code",
   "source": "db = premise_db_with_CPC + premise_comp_db_with_CPC",
   "id": "f0815b09996ef82c",
   "outputs": [],
   "execution_count": 12
  },
  {
   "metadata": {
    "ExecuteTime": {
     "end_time": "2024-06-12T20:48:35.815056Z",
     "start_time": "2024-06-12T20:48:35.763584Z"
    }
   },
   "cell_type": "code",
   "source": "premise_db_with_CPC_dict = {(a['name'], a['reference product'], a['location']): a for a in db}",
   "id": "fd9b2beb742e6f3d",
   "outputs": [],
   "execution_count": 13
  },
  {
   "metadata": {
    "ExecuteTime": {
     "end_time": "2024-06-12T20:48:35.836694Z",
     "start_time": "2024-06-12T20:48:35.815056Z"
    }
   },
   "cell_type": "code",
   "source": [
    "# Relink your mapping with the premise database before running the following cells\n",
    "mapping_linked_to_premise = pd.read_csv('energyscope_data/mapping_QC_linked.csv')"
   ],
   "id": "af64c14a3ba8d619",
   "outputs": [],
   "execution_count": 14
  },
  {
   "metadata": {
    "ExecuteTime": {
     "end_time": "2024-06-12T20:48:35.868369Z",
     "start_time": "2024-06-12T20:48:35.836694Z"
    }
   },
   "cell_type": "code",
   "source": "mapping_linked_to_premise",
   "id": "667d8312484d154d",
   "outputs": [
    {
     "data": {
      "text/plain": [
       "                                  Name          Type  \\\n",
       "0                ALKALINE_ELECTROLYSIS     Operation   \n",
       "1          ALKALINE_ELECTROLYSIS_PLANT  Construction   \n",
       "2          ALKALINE_ELECTROLYSIS_STACK  Construction   \n",
       "3    ALKALINE_ELECTROLYSIS_STACK_DECOM  Construction   \n",
       "4    ALKALINE_ELECTROLYSIS_PLANT_DECOM  Construction   \n",
       "..                                 ...           ...   \n",
       "632                            URANIUM      Resource   \n",
       "633                              WASTE      Resource   \n",
       "634                        WET_BIOMASS      Resource   \n",
       "635                               WOOD      Resource   \n",
       "636                             XYLENE      Resource   \n",
       "\n",
       "                                               Product  \\\n",
       "0                            hydrogen, gaseous, 20 bar   \n",
       "1            electrolyzer, 1MWe, AEC, Balance of Plant   \n",
       "2                       electrolyzer, 1MWe, AEC, Stack   \n",
       "3                      used fuel cell stack, 1MWe, AEC   \n",
       "4           used fuel cell balance of plant, 1MWe, AEC   \n",
       "..                                                 ...   \n",
       "632  nuclear fuel element, for pressure water react...   \n",
       "633                              municipal solid waste   \n",
       "634              wood chips, wet, measured as dry mass   \n",
       "635              wood chips, dry, measured as dry mass   \n",
       "636                                             xylene   \n",
       "\n",
       "                                              Activity Location  \\\n",
       "0    hydrogen production, gaseous, 20 bar, from AEC...       CH   \n",
       "1    electrolyzer production, 1MWe, AEC, Balance of...      RER   \n",
       "2            electrolyzer production, 1MWe, AEC, Stack      RER   \n",
       "3              treatment of fuel cell stack, 1MWe, AEC      RER   \n",
       "4    treatment of fuel cell balance of plant, 1MWe,...      RER   \n",
       "..                                                 ...      ...   \n",
       "632  market for nuclear fuel element, for pressure ...      GLO   \n",
       "633                   market for municipal solid waste    CA-QC   \n",
       "634   market for wood chips, wet, measured as dry mass    CA-QC   \n",
       "635   market for wood chips, dry, measured as dry mass      RoW   \n",
       "636                                  market for xylene      RoW   \n",
       "\n",
       "                                       Database  \n",
       "0    ecoinvent_cutoff_3.8_remind_SSP2-Base_2020  \n",
       "1    ecoinvent_cutoff_3.8_remind_SSP2-Base_2020  \n",
       "2    ecoinvent_cutoff_3.8_remind_SSP2-Base_2020  \n",
       "3    ecoinvent_cutoff_3.8_remind_SSP2-Base_2020  \n",
       "4    ecoinvent_cutoff_3.8_remind_SSP2-Base_2020  \n",
       "..                                          ...  \n",
       "632  ecoinvent_cutoff_3.8_remind_SSP2-Base_2020  \n",
       "633  ecoinvent_cutoff_3.8_remind_SSP2-Base_2020  \n",
       "634  ecoinvent_cutoff_3.8_remind_SSP2-Base_2020  \n",
       "635  ecoinvent_cutoff_3.8_remind_SSP2-Base_2020  \n",
       "636  ecoinvent_cutoff_3.8_remind_SSP2-Base_2020  \n",
       "\n",
       "[637 rows x 6 columns]"
      ],
      "text/html": [
       "<div>\n",
       "<style scoped>\n",
       "    .dataframe tbody tr th:only-of-type {\n",
       "        vertical-align: middle;\n",
       "    }\n",
       "\n",
       "    .dataframe tbody tr th {\n",
       "        vertical-align: top;\n",
       "    }\n",
       "\n",
       "    .dataframe thead th {\n",
       "        text-align: right;\n",
       "    }\n",
       "</style>\n",
       "<table border=\"1\" class=\"dataframe\">\n",
       "  <thead>\n",
       "    <tr style=\"text-align: right;\">\n",
       "      <th></th>\n",
       "      <th>Name</th>\n",
       "      <th>Type</th>\n",
       "      <th>Product</th>\n",
       "      <th>Activity</th>\n",
       "      <th>Location</th>\n",
       "      <th>Database</th>\n",
       "    </tr>\n",
       "  </thead>\n",
       "  <tbody>\n",
       "    <tr>\n",
       "      <th>0</th>\n",
       "      <td>ALKALINE_ELECTROLYSIS</td>\n",
       "      <td>Operation</td>\n",
       "      <td>hydrogen, gaseous, 20 bar</td>\n",
       "      <td>hydrogen production, gaseous, 20 bar, from AEC...</td>\n",
       "      <td>CH</td>\n",
       "      <td>ecoinvent_cutoff_3.8_remind_SSP2-Base_2020</td>\n",
       "    </tr>\n",
       "    <tr>\n",
       "      <th>1</th>\n",
       "      <td>ALKALINE_ELECTROLYSIS_PLANT</td>\n",
       "      <td>Construction</td>\n",
       "      <td>electrolyzer, 1MWe, AEC, Balance of Plant</td>\n",
       "      <td>electrolyzer production, 1MWe, AEC, Balance of...</td>\n",
       "      <td>RER</td>\n",
       "      <td>ecoinvent_cutoff_3.8_remind_SSP2-Base_2020</td>\n",
       "    </tr>\n",
       "    <tr>\n",
       "      <th>2</th>\n",
       "      <td>ALKALINE_ELECTROLYSIS_STACK</td>\n",
       "      <td>Construction</td>\n",
       "      <td>electrolyzer, 1MWe, AEC, Stack</td>\n",
       "      <td>electrolyzer production, 1MWe, AEC, Stack</td>\n",
       "      <td>RER</td>\n",
       "      <td>ecoinvent_cutoff_3.8_remind_SSP2-Base_2020</td>\n",
       "    </tr>\n",
       "    <tr>\n",
       "      <th>3</th>\n",
       "      <td>ALKALINE_ELECTROLYSIS_STACK_DECOM</td>\n",
       "      <td>Construction</td>\n",
       "      <td>used fuel cell stack, 1MWe, AEC</td>\n",
       "      <td>treatment of fuel cell stack, 1MWe, AEC</td>\n",
       "      <td>RER</td>\n",
       "      <td>ecoinvent_cutoff_3.8_remind_SSP2-Base_2020</td>\n",
       "    </tr>\n",
       "    <tr>\n",
       "      <th>4</th>\n",
       "      <td>ALKALINE_ELECTROLYSIS_PLANT_DECOM</td>\n",
       "      <td>Construction</td>\n",
       "      <td>used fuel cell balance of plant, 1MWe, AEC</td>\n",
       "      <td>treatment of fuel cell balance of plant, 1MWe,...</td>\n",
       "      <td>RER</td>\n",
       "      <td>ecoinvent_cutoff_3.8_remind_SSP2-Base_2020</td>\n",
       "    </tr>\n",
       "    <tr>\n",
       "      <th>...</th>\n",
       "      <td>...</td>\n",
       "      <td>...</td>\n",
       "      <td>...</td>\n",
       "      <td>...</td>\n",
       "      <td>...</td>\n",
       "      <td>...</td>\n",
       "    </tr>\n",
       "    <tr>\n",
       "      <th>632</th>\n",
       "      <td>URANIUM</td>\n",
       "      <td>Resource</td>\n",
       "      <td>nuclear fuel element, for pressure water react...</td>\n",
       "      <td>market for nuclear fuel element, for pressure ...</td>\n",
       "      <td>GLO</td>\n",
       "      <td>ecoinvent_cutoff_3.8_remind_SSP2-Base_2020</td>\n",
       "    </tr>\n",
       "    <tr>\n",
       "      <th>633</th>\n",
       "      <td>WASTE</td>\n",
       "      <td>Resource</td>\n",
       "      <td>municipal solid waste</td>\n",
       "      <td>market for municipal solid waste</td>\n",
       "      <td>CA-QC</td>\n",
       "      <td>ecoinvent_cutoff_3.8_remind_SSP2-Base_2020</td>\n",
       "    </tr>\n",
       "    <tr>\n",
       "      <th>634</th>\n",
       "      <td>WET_BIOMASS</td>\n",
       "      <td>Resource</td>\n",
       "      <td>wood chips, wet, measured as dry mass</td>\n",
       "      <td>market for wood chips, wet, measured as dry mass</td>\n",
       "      <td>CA-QC</td>\n",
       "      <td>ecoinvent_cutoff_3.8_remind_SSP2-Base_2020</td>\n",
       "    </tr>\n",
       "    <tr>\n",
       "      <th>635</th>\n",
       "      <td>WOOD</td>\n",
       "      <td>Resource</td>\n",
       "      <td>wood chips, dry, measured as dry mass</td>\n",
       "      <td>market for wood chips, dry, measured as dry mass</td>\n",
       "      <td>RoW</td>\n",
       "      <td>ecoinvent_cutoff_3.8_remind_SSP2-Base_2020</td>\n",
       "    </tr>\n",
       "    <tr>\n",
       "      <th>636</th>\n",
       "      <td>XYLENE</td>\n",
       "      <td>Resource</td>\n",
       "      <td>xylene</td>\n",
       "      <td>market for xylene</td>\n",
       "      <td>RoW</td>\n",
       "      <td>ecoinvent_cutoff_3.8_remind_SSP2-Base_2020</td>\n",
       "    </tr>\n",
       "  </tbody>\n",
       "</table>\n",
       "<p>637 rows × 6 columns</p>\n",
       "</div>"
      ]
     },
     "execution_count": 15,
     "metadata": {},
     "output_type": "execute_result"
    }
   ],
   "execution_count": 15
  },
  {
   "metadata": {
    "ExecuteTime": {
     "end_time": "2024-06-12T20:48:35.896493Z",
     "start_time": "2024-06-12T20:48:35.868369Z"
    }
   },
   "cell_type": "code",
   "source": [
    "for i in range(len(mapping_linked_to_premise)):\n",
    "    activity = mapping_linked_to_premise.loc[i, 'Activity']\n",
    "    product = mapping_linked_to_premise.loc[i, 'Product']\n",
    "    location = mapping_linked_to_premise.loc[i, 'Location']\n",
    "    \n",
    "    act = premise_db_with_CPC_dict[(activity, product, location)]\n",
    "    try:\n",
    "        CPC = dict(act['classifications'])['CPC']  \n",
    "    except KeyError:\n",
    "        print(f'No CPC category for: {product} - {activity} - {location}')"
   ],
   "id": "50093aff4f2c6410",
   "outputs": [],
   "execution_count": 16
  },
  {
   "metadata": {
    "ExecuteTime": {
     "end_time": "2024-06-12T20:48:35.902276Z",
     "start_time": "2024-06-12T20:48:35.896493Z"
    }
   },
   "cell_type": "code",
   "source": "",
   "id": "af7aef6683ebbd3",
   "outputs": [],
   "execution_count": 16
  }
 ],
 "metadata": {
  "kernelspec": {
   "display_name": "Python 3",
   "language": "python",
   "name": "python3"
  },
  "language_info": {
   "codemirror_mode": {
    "name": "ipython",
    "version": 2
   },
   "file_extension": ".py",
   "mimetype": "text/x-python",
   "name": "python",
   "nbconvert_exporter": "python",
   "pygments_lexer": "ipython2",
   "version": "2.7.6"
  }
 },
 "nbformat": 4,
 "nbformat_minor": 5
}
