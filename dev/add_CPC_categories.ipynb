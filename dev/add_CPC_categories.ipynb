{
 "cells": [
  {
   "metadata": {},
   "cell_type": "markdown",
   "source": "# Add CPC categories to a database ",
   "id": "5c30648f1538d71d"
  },
  {
   "metadata": {
    "ExecuteTime": {
     "end_time": "2024-06-13T14:49:29.296910Z",
     "start_time": "2024-06-13T14:49:22.965290Z"
    }
   },
   "cell_type": "code",
   "source": [
    "from mescal import *\n",
    "import pandas as pd\n",
    "import bw2data as bd"
   ],
   "id": "a764971bcc9ab2cc",
   "outputs": [],
   "execution_count": 1
  },
  {
   "metadata": {
    "ExecuteTime": {
     "end_time": "2024-06-13T14:49:29.378490Z",
     "start_time": "2024-06-13T14:49:29.296910Z"
    }
   },
   "cell_type": "code",
   "source": "bd.projects.set_current(\"ei3.8-mescal\")",
   "id": "60bf323c8e21ab72",
   "outputs": [],
   "execution_count": 2
  },
  {
   "metadata": {
    "ExecuteTime": {
     "end_time": "2024-06-13T14:49:29.388232Z",
     "start_time": "2024-06-13T14:49:29.378490Z"
    }
   },
   "cell_type": "code",
   "source": "mapping_product_to_CPC = pd.read_csv('data/mapping_product_to_CPC.csv')",
   "id": "7d060e89cd808397",
   "outputs": [],
   "execution_count": 3
  },
  {
   "metadata": {
    "ExecuteTime": {
     "end_time": "2024-06-13T14:49:35.229040Z",
     "start_time": "2024-06-13T14:49:29.388232Z"
    }
   },
   "cell_type": "code",
   "source": [
    "name_premise_db = \"ecoinvent_cutoff_3.8_remind_SSP2-Base_2020\"\n",
    "premise_db = load_extract_db(name_premise_db)"
   ],
   "id": "b28904b20312bf9d",
   "outputs": [],
   "execution_count": 4
  },
  {
   "metadata": {
    "ExecuteTime": {
     "end_time": "2024-06-13T14:49:35.239469Z",
     "start_time": "2024-06-13T14:49:35.229040Z"
    }
   },
   "cell_type": "code",
   "source": [
    "name_premise_comp_db = name_premise_db + '_comp_QC'\n",
    "premise_comp_db = load_extract_db(name_premise_comp_db)"
   ],
   "id": "90d0426aa26bef51",
   "outputs": [],
   "execution_count": 5
  },
  {
   "metadata": {},
   "cell_type": "markdown",
   "source": "## Create a new database with additional CPC categories",
   "id": "ec1e21d85da08335"
  },
  {
   "metadata": {
    "ExecuteTime": {
     "end_time": "2024-06-13T14:49:35.245749Z",
     "start_time": "2024-06-13T14:49:35.239469Z"
    }
   },
   "cell_type": "code",
   "source": [
    "name_premise_with_CPC_db = name_premise_db+'_with_CPC'\n",
    "name_premise_comp_with_CPC_db = name_premise_comp_db+'_with_CPC'"
   ],
   "id": "4ddb4ba9d4cfa60c",
   "outputs": [],
   "execution_count": 6
  },
  {
   "metadata": {
    "ExecuteTime": {
     "end_time": "2024-06-13T14:55:56.362405Z",
     "start_time": "2024-06-13T14:49:35.245749Z"
    }
   },
   "cell_type": "code",
   "source": "create_new_database_with_CPC_categories(db=premise_db, new_db_name=name_premise_with_CPC_db, mapping_product_to_CPC=mapping_product_to_CPC)",
   "id": "8e843178d2641134",
   "outputs": [
    {
     "name": "stdout",
     "output_type": "stream",
     "text": [
      "Vacuuming database \n"
     ]
    },
    {
     "name": "stderr",
     "output_type": "stream",
     "text": [
      "Writing activities to SQLite3 database:\n",
      "0% [##############################] 100% | ETA: 00:00:00\n",
      "Total time elapsed: 00:00:46\n"
     ]
    },
    {
     "name": "stdout",
     "output_type": "stream",
     "text": [
      "Title: Writing activities to SQLite3 database:\n",
      "  Started: 06/13/2024 10:52:19\n",
      "  Finished: 06/13/2024 10:53:06\n",
      "  Total time elapsed: 00:00:46\n",
      "  CPU %: 22.90\n",
      "  Memory %: 9.58\n"
     ]
    }
   ],
   "execution_count": 7
  },
  {
   "metadata": {
    "ExecuteTime": {
     "end_time": "2024-06-13T14:55:57.234216Z",
     "start_time": "2024-06-13T14:55:56.362405Z"
    }
   },
   "cell_type": "code",
   "source": "create_new_database_with_CPC_categories(db=premise_comp_db, new_db_name=name_premise_comp_with_CPC_db, mapping_product_to_CPC=mapping_product_to_CPC)",
   "id": "45e508ee61a0a1b7",
   "outputs": [
    {
     "name": "stderr",
     "output_type": "stream",
     "text": [
      "Writing activities to SQLite3 database:\n",
      "0% [##############################] 100% | ETA: 00:00:00\n",
      "Total time elapsed: 00:00:00\n"
     ]
    },
    {
     "name": "stdout",
     "output_type": "stream",
     "text": [
      "Title: Writing activities to SQLite3 database:\n",
      "  Started: 06/13/2024 10:55:56\n",
      "  Finished: 06/13/2024 10:55:57\n",
      "  Total time elapsed: 00:00:00\n",
      "  CPU %: 12.00\n",
      "  Memory %: 10.75\n"
     ]
    }
   ],
   "execution_count": 8
  },
  {
   "metadata": {},
   "cell_type": "markdown",
   "source": "Relink the complementary database with the newly created main database",
   "id": "ecf4afa17f72836c"
  },
  {
   "metadata": {
    "ExecuteTime": {
     "end_time": "2024-06-13T14:55:57.475073Z",
     "start_time": "2024-06-13T14:55:57.234216Z"
    }
   },
   "cell_type": "code",
   "source": "premise_comp_db_with_CPC = load_extract_db(name_premise_comp_with_CPC_db, create_pickle=False)",
   "id": "5351b0891d5adb36",
   "outputs": [
    {
     "name": "stdout",
     "output_type": "stream",
     "text": [
      "Getting activity data\n"
     ]
    },
    {
     "name": "stderr",
     "output_type": "stream",
     "text": [
      "100%|██████████| 37/37 [00:00<?, ?it/s]\n"
     ]
    },
    {
     "name": "stdout",
     "output_type": "stream",
     "text": [
      "Adding exchange data to activities\n"
     ]
    },
    {
     "name": "stderr",
     "output_type": "stream",
     "text": [
      "100%|██████████| 1170/1170 [00:00<00:00, 64633.99it/s]\n"
     ]
    },
    {
     "name": "stdout",
     "output_type": "stream",
     "text": [
      "Filling out exchange data\n"
     ]
    },
    {
     "name": "stderr",
     "output_type": "stream",
     "text": [
      "100%|██████████| 37/37 [00:00<00:00, 233.86it/s]\n"
     ]
    }
   ],
   "execution_count": 9
  },
  {
   "metadata": {
    "ExecuteTime": {
     "end_time": "2024-06-13T14:55:57.979125Z",
     "start_time": "2024-06-13T14:55:57.475073Z"
    }
   },
   "cell_type": "code",
   "source": "relink_database(premise_comp_db_with_CPC, name_premise_db, name_premise_with_CPC_db)",
   "id": "fdfdb04511a4e69d",
   "outputs": [
    {
     "name": "stderr",
     "output_type": "stream",
     "text": [
      "Writing activities to SQLite3 database:\n",
      "0% [##############################] 100% | ETA: 00:00:00\n",
      "Total time elapsed: 00:00:00\n"
     ]
    },
    {
     "name": "stdout",
     "output_type": "stream",
     "text": [
      "Title: Writing activities to SQLite3 database:\n",
      "  Started: 06/13/2024 10:55:57\n",
      "  Finished: 06/13/2024 10:55:57\n",
      "  Total time elapsed: 00:00:00\n",
      "  CPU %: 0.00\n",
      "  Memory %: 10.75\n"
     ]
    }
   ],
   "execution_count": 10
  },
  {
   "metadata": {},
   "cell_type": "markdown",
   "source": "## Change the mapping file accordingly",
   "id": "4d446117123e43ea"
  },
  {
   "metadata": {
    "ExecuteTime": {
     "end_time": "2024-06-13T15:24:17.462584Z",
     "start_time": "2024-06-13T15:24:17.265987Z"
    }
   },
   "cell_type": "code",
   "source": "mapping_technologies = pd.read_csv('energyscope_data/mapping_QC_linked.csv')",
   "id": "b1e09c33a12971ba",
   "outputs": [],
   "execution_count": 18
  },
  {
   "metadata": {
    "ExecuteTime": {
     "end_time": "2024-06-13T15:24:46.416463Z",
     "start_time": "2024-06-13T15:24:46.373447Z"
    }
   },
   "cell_type": "code",
   "source": "mapping_technologies['Database'] += '_with_CPC'",
   "id": "a511abec411778dc",
   "outputs": [],
   "execution_count": 19
  },
  {
   "metadata": {
    "ExecuteTime": {
     "end_time": "2024-06-13T15:24:47.190573Z",
     "start_time": "2024-06-13T15:24:47.136834Z"
    }
   },
   "cell_type": "code",
   "source": "mapping_technologies.to_csv('energyscope_data/mapping_QC_linked.csv', index=False)",
   "id": "508291260ede590",
   "outputs": [],
   "execution_count": 20
  },
  {
   "metadata": {},
   "cell_type": "markdown",
   "source": "## Test the new database",
   "id": "2b0e0aaa48b1c14a"
  },
  {
   "metadata": {
    "ExecuteTime": {
     "end_time": "2024-06-13T14:57:42.718961Z",
     "start_time": "2024-06-13T14:55:57.979125Z"
    }
   },
   "cell_type": "code",
   "source": "premise_db_with_CPC = load_extract_db(name_premise_with_CPC_db)",
   "id": "55896114e4c7c6f9",
   "outputs": [
    {
     "name": "stdout",
     "output_type": "stream",
     "text": [
      "Getting activity data\n"
     ]
    },
    {
     "name": "stderr",
     "output_type": "stream",
     "text": [
      "100%|██████████| 30201/30201 [00:00<00:00, 34353.12it/s]\n"
     ]
    },
    {
     "name": "stdout",
     "output_type": "stream",
     "text": [
      "Adding exchange data to activities\n"
     ]
    },
    {
     "name": "stderr",
     "output_type": "stream",
     "text": [
      "100%|██████████| 1022813/1022813 [01:16<00:00, 13379.36it/s]\n"
     ]
    },
    {
     "name": "stdout",
     "output_type": "stream",
     "text": [
      "Filling out exchange data\n"
     ]
    },
    {
     "name": "stderr",
     "output_type": "stream",
     "text": [
      "100%|██████████| 30201/30201 [00:03<00:00, 9196.16it/s] \n"
     ]
    },
    {
     "name": "stdout",
     "output_type": "stream",
     "text": [
      "ecoinvent_cutoff_3.8_remind_SSP2-Base_2020_with_CPC.pickle created!\n"
     ]
    }
   ],
   "execution_count": 11
  },
  {
   "metadata": {
    "ExecuteTime": {
     "end_time": "2024-06-13T14:57:42.794220Z",
     "start_time": "2024-06-13T14:57:42.737747Z"
    }
   },
   "cell_type": "code",
   "source": "db = premise_db_with_CPC + premise_comp_db_with_CPC",
   "id": "f0815b09996ef82c",
   "outputs": [],
   "execution_count": 12
  },
  {
   "metadata": {
    "ExecuteTime": {
     "end_time": "2024-06-13T14:57:42.902611Z",
     "start_time": "2024-06-13T14:57:42.794220Z"
    }
   },
   "cell_type": "code",
   "source": "premise_db_with_CPC_dict = {(a['name'], a['reference product'], a['location']): a for a in db}",
   "id": "fd9b2beb742e6f3d",
   "outputs": [],
   "execution_count": 13
  },
  {
   "metadata": {
    "ExecuteTime": {
     "end_time": "2024-06-13T14:57:43.049165Z",
     "start_time": "2024-06-13T14:57:42.902611Z"
    }
   },
   "cell_type": "code",
   "source": [
    "# Relink your mapping with the premise database before running the following cells\n",
    "mapping_linked_to_premise = pd.read_csv('energyscope_data/mapping_QC_linked.csv')"
   ],
   "id": "af64c14a3ba8d619",
   "outputs": [],
   "execution_count": 14
  },
  {
   "metadata": {
    "ExecuteTime": {
     "end_time": "2024-06-13T14:57:43.242272Z",
     "start_time": "2024-06-13T14:57:43.162919Z"
    }
   },
   "cell_type": "code",
   "source": [
    "act_wo_CPC_cat = []\n",
    "df = mapping_linked_to_premise[mapping_linked_to_premise['Type'] == 'Operation']\n",
    "\n",
    "for i in range(len(df)):\n",
    "    activity = df.iloc[i]['Activity']\n",
    "    product = df.iloc[i]['Product']\n",
    "    location = df.iloc[i]['Location']\n",
    "    \n",
    "    act = premise_db_with_CPC_dict[(activity, product, location)]\n",
    "    try:\n",
    "        CPC = dict(act['classifications'])['CPC']  \n",
    "    except KeyError:\n",
    "        print(f'No CPC category for: {product} - {activity} - {location}')\n",
    "        act_wo_CPC_cat.append((activity, product, location))\n",
    "    \n",
    "    for exc in get_technosphere_flows(act):\n",
    "        act_exc = premise_db_with_CPC_dict[(exc['name'], exc['product'], exc['location'])]\n",
    "        try:\n",
    "            CPC = dict(act_exc['classifications'])['CPC']\n",
    "        except KeyError:\n",
    "            print(f'No CPC category for: {act_exc[\"reference product\"]} - {act_exc[\"name\"]} - {act_exc[\"location\"]}')\n",
    "            act_wo_CPC_cat.append((act_exc['name'], act_exc['reference product'], act_exc['location']))"
   ],
   "id": "50093aff4f2c6410",
   "outputs": [],
   "execution_count": 16
  },
  {
   "metadata": {
    "ExecuteTime": {
     "end_time": "2024-06-13T14:57:43.259890Z",
     "start_time": "2024-06-13T14:57:43.242272Z"
    }
   },
   "cell_type": "code",
   "source": "list(set([a[1] for a in act_wo_CPC_cat]))",
   "id": "af7aef6683ebbd3",
   "outputs": [
    {
     "data": {
      "text/plain": [
       "[]"
      ]
     },
     "execution_count": 17,
     "metadata": {},
     "output_type": "execute_result"
    }
   ],
   "execution_count": 17
  }
 ],
 "metadata": {
  "kernelspec": {
   "display_name": "Python 3",
   "language": "python",
   "name": "python3"
  },
  "language_info": {
   "codemirror_mode": {
    "name": "ipython",
    "version": 2
   },
   "file_extension": ".py",
   "mimetype": "text/x-python",
   "name": "python",
   "nbconvert_exporter": "python",
   "pygments_lexer": "ipython2",
   "version": "2.7.6"
  }
 },
 "nbformat": 4,
 "nbformat_minor": 5
}
