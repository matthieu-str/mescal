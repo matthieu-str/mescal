{
 "cells": [
  {
   "metadata": {},
   "cell_type": "markdown",
   "source": [
    "# Tutorial on how to use mescal\n",
    "*mescal* is a [Brightway](https://docs.brightway.dev/en/latest/)-powered Python package that helps you to integrate Life-Cycle Assessment (LCA) in your energy system model"
   ],
   "id": "bac3505a5afe8971"
  },
  {
   "metadata": {},
   "cell_type": "markdown",
   "source": "## Set up",
   "id": "7c15eb9c8df668d6"
  },
  {
   "metadata": {
    "ExecuteTime": {
     "end_time": "2024-10-09T15:15:26.242898Z",
     "start_time": "2024-10-09T15:15:21.828139Z"
    }
   },
   "cell_type": "code",
   "source": [
    "# Import the required libraries\n",
    "from mescal import ESM, Database\n",
    "import pandas as pd\n",
    "import bw2data as bd"
   ],
   "id": "ad6977f1e798f1ba",
   "outputs": [],
   "execution_count": 1
  },
  {
   "metadata": {
    "ExecuteTime": {
     "end_time": "2024-10-09T15:15:26.250724Z",
     "start_time": "2024-10-09T15:15:26.244971Z"
    }
   },
   "cell_type": "code",
   "source": [
    "ecoinvent_version = '3.9.1' # choose the ecoinvent version you wish to use\n",
    "esm_location = 'CA-QC' # choose the version of energyscope for which you want to generate metrics\n",
    "esm_year = 2020 # choose the year of the energyscope snapshot model or transition pathway time-step\n",
    "spatialized_database = True # set to True if you want to use your spatialized version of ecoinvent\n",
    "regionalize_foregrounds = True # set to True if you want to regionalize the foreground inventories\n",
    "premise_iam = 'image' # choose the IAM to which the premise database is linked\n",
    "premise_ssp_rcp = 'SSP2-Base' # choose the SSP/RCP scenario to which the premise database is linked"
   ],
   "id": "4cc6dc8c3e2d9486",
   "outputs": [],
   "execution_count": 2
  },
  {
   "metadata": {
    "ExecuteTime": {
     "end_time": "2024-10-09T15:15:26.261043Z",
     "start_time": "2024-10-09T15:15:26.252773Z"
    }
   },
   "cell_type": "code",
   "source": [
    "# Set the name of your main LCI database (e.g., ecoinvent or premise database) here:\n",
    "name_premise_db = f\"ecoinvent_cutoff_{ecoinvent_version}_{premise_iam}_{premise_ssp_rcp}_{esm_year}+truck_carculator\"\n",
    "if spatialized_database:\n",
    "    name_premise_db += ' regionalized'\n",
    "    name_spatialized_biosphere_db = 'biosphere3_spatialized_flows'\n",
    "else:\n",
    "    name_spatialized_biosphere_db = None"
   ],
   "id": "5ae4be2770b3170d",
   "outputs": [],
   "execution_count": 3
  },
  {
   "metadata": {
    "ExecuteTime": {
     "end_time": "2024-10-09T15:15:26.268158Z",
     "start_time": "2024-10-09T15:15:26.264095Z"
    }
   },
   "cell_type": "code",
   "source": [
    "# Set the name of the new database with the ESM results\n",
    "esm_db_name = f'EnergyScope_{esm_location}_{esm_year}'"
   ],
   "id": "69fe3b149b828ffd",
   "outputs": [],
   "execution_count": 4
  },
  {
   "metadata": {
    "ExecuteTime": {
     "end_time": "2024-10-09T15:15:26.278143Z",
     "start_time": "2024-10-09T15:15:26.270175Z"
    }
   },
   "cell_type": "code",
   "source": [
    "# Set the list of LCIA methods for which you want indicators (they must be registered in your brightway project)\n",
    "if spatialized_database:\n",
    "    lcia_methods=[\n",
    "        'IMPACT World+ Midpoint 2.0.1_regionalized', \n",
    "        'IMPACT World+ Damage 2.0.1_regionalized', \n",
    "        'IMPACT World+ Footprint 2.0.1_regionalized', # IW+ regionalized\n",
    "    ]\n",
    "else:\n",
    "    lcia_methods=[\n",
    "        'IMPACT World+ Midpoint 2.0.1', \n",
    "        'IMPACT World+ Damage 2.0.1', \n",
    "        'IMPACT World+ Footprint 2.0.1', # IW+\n",
    "        'PB LCIA' # Planetary Boundaries\n",
    "    ]"
   ],
   "id": "5aae3d0d0ec618dd",
   "outputs": [],
   "execution_count": 5
  },
  {
   "metadata": {},
   "cell_type": "markdown",
   "source": "**Note**: you can download IMPACT World+ methods in your brightway project following this [notebook](https://github.com/matthieu-str/mescal/blob/master/dev/download_impact_world_plus.ipynb). Regionalized versions of ecoinvent and IMPACT World+ methods can be downloaded from this [repository](https://github.com/CIRAIG/Regioinvent).",
   "id": "e90719ecb37fefca"
  },
  {
   "metadata": {
    "ExecuteTime": {
     "end_time": "2024-10-09T15:15:27.580200Z",
     "start_time": "2024-10-09T15:15:26.280155Z"
    }
   },
   "cell_type": "code",
   "source": [
    "# Set up your Brightway project\n",
    "bd.projects.set_current(f'ecoinvent{ecoinvent_version}') # put the name of your brightway project here"
   ],
   "id": "54ea776e842fae31",
   "outputs": [],
   "execution_count": 6
  },
  {
   "metadata": {},
   "cell_type": "markdown",
   "source": "## Load databases",
   "id": "9e6d381be9e9eb6d"
  },
  {
   "metadata": {
    "ExecuteTime": {
     "end_time": "2024-10-09T15:15:36.090024Z",
     "start_time": "2024-10-09T15:15:27.583276Z"
    }
   },
   "cell_type": "code",
   "source": "premise_db = Database(name_premise_db, create_pickle=True)",
   "id": "f3ef8feb1e562ab3",
   "outputs": [
    {
     "name": "stdout",
     "output_type": "stream",
     "text": [
      "Loaded ecoinvent_cutoff_3.9.1_image_SSP2-Base_2020+truck_carculator regionalized from pickle!\n"
     ]
    }
   ],
   "execution_count": 7
  },
  {
   "metadata": {
    "ExecuteTime": {
     "end_time": "2024-10-09T15:15:41.118175Z",
     "start_time": "2024-10-09T15:15:36.090024Z"
    }
   },
   "cell_type": "code",
   "source": [
    "if regionalize_foregrounds & spatialized_database:\n",
    "    spatialized_biosphere_db = Database(name_spatialized_biosphere_db)\n",
    "else:\n",
    "    spatialized_biosphere_db = None"
   ],
   "id": "e771abcbdc25d432",
   "outputs": [
    {
     "name": "stdout",
     "output_type": "stream",
     "text": [
      "Getting activity data\n"
     ]
    },
    {
     "name": "stderr",
     "output_type": "stream",
     "text": [
      "100%|██████████| 62222/62222 [00:00<00:00, 72593.14it/s] \n"
     ]
    },
    {
     "name": "stdout",
     "output_type": "stream",
     "text": [
      "Adding exchange data to activities\n"
     ]
    },
    {
     "name": "stderr",
     "output_type": "stream",
     "text": [
      "0it [00:00, ?it/s]\n"
     ]
    },
    {
     "name": "stdout",
     "output_type": "stream",
     "text": [
      "Filling out exchange data\n"
     ]
    },
    {
     "name": "stderr",
     "output_type": "stream",
     "text": [
      "100%|██████████| 62222/62222 [00:00<00:00, 4274263.54it/s]\n"
     ]
    },
    {
     "name": "stdout",
     "output_type": "stream",
     "text": [
      "Loaded biosphere3_spatialized_flows from brightway!\n"
     ]
    }
   ],
   "execution_count": 8
  },
  {
   "metadata": {},
   "cell_type": "markdown",
   "source": [
    "## Your data\n",
    "For mescal to understand the structure of your energy system model, you need to provide it with a set of dataframes."
   ],
   "id": "8325f04c8e08b23f"
  },
  {
   "metadata": {},
   "cell_type": "markdown",
   "source": "### Mandatory dataframes",
   "id": "313875e4236bc644"
  },
  {
   "metadata": {
    "ExecuteTime": {
     "end_time": "2024-10-09T15:15:41.176655Z",
     "start_time": "2024-10-09T15:15:41.120195Z"
    }
   },
   "cell_type": "code",
   "source": [
    "mapping = pd.read_csv(f'../dev/energyscope_data/{esm_location}/mapping_{ecoinvent_version}.csv')\n",
    "unit_conversion = pd.read_csv(f'../dev/energyscope_data/{esm_location}/unit_conversion_{ecoinvent_version}.csv')\n",
    "mapping_esm_flows_to_CPC = pd.read_csv(f'../dev/energyscope_data/{esm_location}/mapping_esm_flows_to_CPC.csv')\n",
    "model = pd.read_csv(f'../dev/energyscope_data/{esm_location}/model.csv')"
   ],
   "id": "6890050f93afe1d1",
   "outputs": [],
   "execution_count": 9
  },
  {
   "metadata": {},
   "cell_type": "markdown",
   "source": [
    "A mapping between the energy technologies and resources of the energy system model, and Life-Cycle Inventories datasets (LCI) from an LCI database (e.g., ecoinvent). The mapping should be provided in a dataframe with the following columns:\n",
    "- `Name`: the name of the energy technology or resource in the energy model \n",
    "- `Type`: the type of the energy technology or resource (i.e., 'Construction', 'Operation', 'Resource' or 'Flow')  \n",
    "- `Product`: the name of the product of the energy technology or resource in the LCI database\n",
    "- `Activity`: the name of the activity of the energy technology or resource in the LCI database\n",
    "- `Location`: the name of the location of the energy technology or resource in the LCI database\n",
    "- `Unit`: (optional) the physical unit of the energy technology or resource in the LCI database\n",
    "- `Database`: the name of the database in your brightway project\n",
    "\n",
    "If you wish to change the version of ecoinvent used in your mapping file, you can follow this [notebook](https://github.com/matthieu-str/mescal/blob/master/dev/mapping_ecoinvent_version.ipynb). "
   ],
   "id": "29846070143e8b95"
  },
  {
   "metadata": {
    "ExecuteTime": {
     "end_time": "2024-10-09T15:15:41.216534Z",
     "start_time": "2024-10-09T15:15:41.182693Z"
    }
   },
   "cell_type": "code",
   "source": "mapping.head()",
   "id": "642b5fe1b99a6f7f",
   "outputs": [
    {
     "data": {
      "text/plain": [
       "                                Name          Type  \\\n",
       "0                                AFC  Construction   \n",
       "1                                AFC     Operation   \n",
       "2              ALKALINE_ELECTROLYSIS     Operation   \n",
       "3        ALKALINE_ELECTROLYSIS_PLANT  Construction   \n",
       "4  ALKALINE_ELECTROLYSIS_PLANT_DECOM  Construction   \n",
       "\n",
       "                                             Product  \\\n",
       "0  fuel cell system, 1 kWe, proton exchange membr...   \n",
       "1       electricity, from residential heating system   \n",
       "2                          hydrogen, gaseous, 20 bar   \n",
       "3          electrolyzer, 1MWe, AEC, Balance of Plant   \n",
       "4         used fuel cell balance of plant, 1MWe, AEC   \n",
       "\n",
       "                                            Activity Location  \\\n",
       "0  fuel cell system assembly, 1 kWe, proton excha...      GLO   \n",
       "1  electricity, residential, by conversion of hyd...       CH   \n",
       "2  hydrogen production, gaseous, 20 bar, from AEC...       CH   \n",
       "3  electrolyzer production, 1MWe, AEC, Balance of...      RER   \n",
       "4  treatment of fuel cell balance of plant, 1MWe,...      RER   \n",
       "\n",
       "                                       Database  \n",
       "0  ecoinvent_cutoff_3.9.1_remind_SSP2-Base_2020  \n",
       "1  ecoinvent_cutoff_3.9.1_remind_SSP2-Base_2020  \n",
       "2  ecoinvent_cutoff_3.9.1_remind_SSP2-Base_2020  \n",
       "3  ecoinvent_cutoff_3.9.1_remind_SSP2-Base_2020  \n",
       "4  ecoinvent_cutoff_3.9.1_remind_SSP2-Base_2020  "
      ],
      "text/html": [
       "<div>\n",
       "<style scoped>\n",
       "    .dataframe tbody tr th:only-of-type {\n",
       "        vertical-align: middle;\n",
       "    }\n",
       "\n",
       "    .dataframe tbody tr th {\n",
       "        vertical-align: top;\n",
       "    }\n",
       "\n",
       "    .dataframe thead th {\n",
       "        text-align: right;\n",
       "    }\n",
       "</style>\n",
       "<table border=\"1\" class=\"dataframe\">\n",
       "  <thead>\n",
       "    <tr style=\"text-align: right;\">\n",
       "      <th></th>\n",
       "      <th>Name</th>\n",
       "      <th>Type</th>\n",
       "      <th>Product</th>\n",
       "      <th>Activity</th>\n",
       "      <th>Location</th>\n",
       "      <th>Database</th>\n",
       "    </tr>\n",
       "  </thead>\n",
       "  <tbody>\n",
       "    <tr>\n",
       "      <th>0</th>\n",
       "      <td>AFC</td>\n",
       "      <td>Construction</td>\n",
       "      <td>fuel cell system, 1 kWe, proton exchange membr...</td>\n",
       "      <td>fuel cell system assembly, 1 kWe, proton excha...</td>\n",
       "      <td>GLO</td>\n",
       "      <td>ecoinvent_cutoff_3.9.1_remind_SSP2-Base_2020</td>\n",
       "    </tr>\n",
       "    <tr>\n",
       "      <th>1</th>\n",
       "      <td>AFC</td>\n",
       "      <td>Operation</td>\n",
       "      <td>electricity, from residential heating system</td>\n",
       "      <td>electricity, residential, by conversion of hyd...</td>\n",
       "      <td>CH</td>\n",
       "      <td>ecoinvent_cutoff_3.9.1_remind_SSP2-Base_2020</td>\n",
       "    </tr>\n",
       "    <tr>\n",
       "      <th>2</th>\n",
       "      <td>ALKALINE_ELECTROLYSIS</td>\n",
       "      <td>Operation</td>\n",
       "      <td>hydrogen, gaseous, 20 bar</td>\n",
       "      <td>hydrogen production, gaseous, 20 bar, from AEC...</td>\n",
       "      <td>CH</td>\n",
       "      <td>ecoinvent_cutoff_3.9.1_remind_SSP2-Base_2020</td>\n",
       "    </tr>\n",
       "    <tr>\n",
       "      <th>3</th>\n",
       "      <td>ALKALINE_ELECTROLYSIS_PLANT</td>\n",
       "      <td>Construction</td>\n",
       "      <td>electrolyzer, 1MWe, AEC, Balance of Plant</td>\n",
       "      <td>electrolyzer production, 1MWe, AEC, Balance of...</td>\n",
       "      <td>RER</td>\n",
       "      <td>ecoinvent_cutoff_3.9.1_remind_SSP2-Base_2020</td>\n",
       "    </tr>\n",
       "    <tr>\n",
       "      <th>4</th>\n",
       "      <td>ALKALINE_ELECTROLYSIS_PLANT_DECOM</td>\n",
       "      <td>Construction</td>\n",
       "      <td>used fuel cell balance of plant, 1MWe, AEC</td>\n",
       "      <td>treatment of fuel cell balance of plant, 1MWe,...</td>\n",
       "      <td>RER</td>\n",
       "      <td>ecoinvent_cutoff_3.9.1_remind_SSP2-Base_2020</td>\n",
       "    </tr>\n",
       "  </tbody>\n",
       "</table>\n",
       "</div>"
      ]
     },
     "execution_count": 10,
     "metadata": {},
     "output_type": "execute_result"
    }
   ],
   "execution_count": 10
  },
  {
   "metadata": {},
   "cell_type": "markdown",
   "source": [
    "A set of unit conversion factors between the energy system model and the LCI database. The conversion factors should be provided in a dataframe with the following columns:\n",
    "- `Name`: the name of the energy technology or resource in the energy system model \n",
    "- `Type`: the type of the energy technology or resource (i.e., 'Construction', 'Operation', 'Resource', or 'Other'). Other types can be added to fit your needs. The 'Other' category is meant for the unit conversion that are not specific to a technology or resource, but rather a generic type of product, e.g., conversion from kilogram to kilowatt hour for natural gas.\n",
    "- `Value`: the numerical value of the conversion factor that will multiply the impact scores. It actually denotes the conversion from Impact / LCA unit to Impact / ESM unit. \n",
    "- `ESM`: the unit of the energy technology or resource in the ESM\n",
    "- `LCA`: the target unit of the energy technology or resource in the LCA database\n",
    "\n",
    "The `LCA` and `ESM` columns should respect the ecoinvent naming convention. You may use the `ecoinvent_unit_convention` function to convert the unit naming convention you've used to the one of ecoinvent."
   ],
   "id": "c63431e4a57bb29f"
  },
  {
   "metadata": {
    "ExecuteTime": {
     "end_time": "2024-10-09T15:15:41.230789Z",
     "start_time": "2024-10-09T15:15:41.216534Z"
    }
   },
   "cell_type": "code",
   "source": "unit_conversion.head()",
   "id": "40412ea78d6dc8af",
   "outputs": [
    {
     "data": {
      "text/plain": [
       "                    Name          Type     Value            LCA            ESM\n",
       "0            ACETIC_ACID      Resource  0.247423       kilogram  kilowatt hour\n",
       "1                ACETONE      Resource  0.121655       kilogram  kilowatt hour\n",
       "2                    AFC  Construction  1.000000           unit       kilowatt\n",
       "3                    AFC     Operation  1.000000  kilowatt hour  kilowatt hour\n",
       "4  ALKALINE_ELECTROLYSIS  Construction  0.001556           unit       kilowatt"
      ],
      "text/html": [
       "<div>\n",
       "<style scoped>\n",
       "    .dataframe tbody tr th:only-of-type {\n",
       "        vertical-align: middle;\n",
       "    }\n",
       "\n",
       "    .dataframe tbody tr th {\n",
       "        vertical-align: top;\n",
       "    }\n",
       "\n",
       "    .dataframe thead th {\n",
       "        text-align: right;\n",
       "    }\n",
       "</style>\n",
       "<table border=\"1\" class=\"dataframe\">\n",
       "  <thead>\n",
       "    <tr style=\"text-align: right;\">\n",
       "      <th></th>\n",
       "      <th>Name</th>\n",
       "      <th>Type</th>\n",
       "      <th>Value</th>\n",
       "      <th>LCA</th>\n",
       "      <th>ESM</th>\n",
       "    </tr>\n",
       "  </thead>\n",
       "  <tbody>\n",
       "    <tr>\n",
       "      <th>0</th>\n",
       "      <td>ACETIC_ACID</td>\n",
       "      <td>Resource</td>\n",
       "      <td>0.247423</td>\n",
       "      <td>kilogram</td>\n",
       "      <td>kilowatt hour</td>\n",
       "    </tr>\n",
       "    <tr>\n",
       "      <th>1</th>\n",
       "      <td>ACETONE</td>\n",
       "      <td>Resource</td>\n",
       "      <td>0.121655</td>\n",
       "      <td>kilogram</td>\n",
       "      <td>kilowatt hour</td>\n",
       "    </tr>\n",
       "    <tr>\n",
       "      <th>2</th>\n",
       "      <td>AFC</td>\n",
       "      <td>Construction</td>\n",
       "      <td>1.000000</td>\n",
       "      <td>unit</td>\n",
       "      <td>kilowatt</td>\n",
       "    </tr>\n",
       "    <tr>\n",
       "      <th>3</th>\n",
       "      <td>AFC</td>\n",
       "      <td>Operation</td>\n",
       "      <td>1.000000</td>\n",
       "      <td>kilowatt hour</td>\n",
       "      <td>kilowatt hour</td>\n",
       "    </tr>\n",
       "    <tr>\n",
       "      <th>4</th>\n",
       "      <td>ALKALINE_ELECTROLYSIS</td>\n",
       "      <td>Construction</td>\n",
       "      <td>0.001556</td>\n",
       "      <td>unit</td>\n",
       "      <td>kilowatt</td>\n",
       "    </tr>\n",
       "  </tbody>\n",
       "</table>\n",
       "</div>"
      ]
     },
     "execution_count": 11,
     "metadata": {},
     "output_type": "execute_result"
    }
   ],
   "execution_count": 11
  },
  {
   "metadata": {},
   "cell_type": "markdown",
   "source": [
    "A mapping between the energy system model flows and CPC categories. The mapping should be provided in a dataframe with the following columns:\n",
    "- `Flow`: the name of the flow in the ESM\n",
    "- `Description`: (optional) the description of the product\n",
    "- `CPC`: the list of names of corresponding CPC categories"
   ],
   "id": "b873476e1c532db4"
  },
  {
   "metadata": {
    "ExecuteTime": {
     "end_time": "2024-10-09T15:15:41.241086Z",
     "start_time": "2024-10-09T15:15:41.232814Z"
    }
   },
   "cell_type": "code",
   "source": "mapping_esm_flows_to_CPC.head()",
   "id": "7254119105672bd2",
   "outputs": [
    {
     "data": {
      "text/plain": [
       "         Flow                              Description  \\\n",
       "0     BENZENE                                  Benzene   \n",
       "1  BIO_DIESEL                               Bio-diesel   \n",
       "2       CO2_A  Carbon dioxide (concentrated emissions)   \n",
       "3       CO2_C                Carbon dioxide (captured)   \n",
       "4      CO2_CS       Carbon dioxide (captured & stored)   \n",
       "\n",
       "                                                 CPC  \n",
       "0  ['33100: Coke and semi-coke of coal, of lignit...  \n",
       "1  ['35491: Biodiesel', '33370: Fuel oils n.e.c.'...  \n",
       "2            ['34210b: Carbon dioxide and monoxide']  \n",
       "3            ['34210b: Carbon dioxide and monoxide']  \n",
       "4            ['34210b: Carbon dioxide and monoxide']  "
      ],
      "text/html": [
       "<div>\n",
       "<style scoped>\n",
       "    .dataframe tbody tr th:only-of-type {\n",
       "        vertical-align: middle;\n",
       "    }\n",
       "\n",
       "    .dataframe tbody tr th {\n",
       "        vertical-align: top;\n",
       "    }\n",
       "\n",
       "    .dataframe thead th {\n",
       "        text-align: right;\n",
       "    }\n",
       "</style>\n",
       "<table border=\"1\" class=\"dataframe\">\n",
       "  <thead>\n",
       "    <tr style=\"text-align: right;\">\n",
       "      <th></th>\n",
       "      <th>Flow</th>\n",
       "      <th>Description</th>\n",
       "      <th>CPC</th>\n",
       "    </tr>\n",
       "  </thead>\n",
       "  <tbody>\n",
       "    <tr>\n",
       "      <th>0</th>\n",
       "      <td>BENZENE</td>\n",
       "      <td>Benzene</td>\n",
       "      <td>['33100: Coke and semi-coke of coal, of lignit...</td>\n",
       "    </tr>\n",
       "    <tr>\n",
       "      <th>1</th>\n",
       "      <td>BIO_DIESEL</td>\n",
       "      <td>Bio-diesel</td>\n",
       "      <td>['35491: Biodiesel', '33370: Fuel oils n.e.c.'...</td>\n",
       "    </tr>\n",
       "    <tr>\n",
       "      <th>2</th>\n",
       "      <td>CO2_A</td>\n",
       "      <td>Carbon dioxide (concentrated emissions)</td>\n",
       "      <td>['34210b: Carbon dioxide and monoxide']</td>\n",
       "    </tr>\n",
       "    <tr>\n",
       "      <th>3</th>\n",
       "      <td>CO2_C</td>\n",
       "      <td>Carbon dioxide (captured)</td>\n",
       "      <td>['34210b: Carbon dioxide and monoxide']</td>\n",
       "    </tr>\n",
       "    <tr>\n",
       "      <th>4</th>\n",
       "      <td>CO2_CS</td>\n",
       "      <td>Carbon dioxide (captured &amp; stored)</td>\n",
       "      <td>['34210b: Carbon dioxide and monoxide']</td>\n",
       "    </tr>\n",
       "  </tbody>\n",
       "</table>\n",
       "</div>"
      ]
     },
     "execution_count": 12,
     "metadata": {},
     "output_type": "execute_result"
    }
   ],
   "execution_count": 12
  },
  {
   "metadata": {},
   "cell_type": "markdown",
   "source": [
    "The input and output flows of energy technologies. For a given technology, the inputs and outputs should be given with the same unit. Also, the main output flow should have 1 as an amount, i.e., all other flows as scaled with respect to the main output. It should be provided in a dataframe with the following columns:\n",
    "- `Name`: the name of the energy technology in the energy system model\n",
    "- `Flow`: the name of the input or output flow\n",
    "- `Amount`: the numerical value of the flow (negative if input, positive if output)  "
   ],
   "id": "639bfa05b6354e4b"
  },
  {
   "metadata": {
    "ExecuteTime": {
     "end_time": "2024-10-09T15:15:41.254779Z",
     "start_time": "2024-10-09T15:15:41.241086Z"
    }
   },
   "cell_type": "code",
   "source": "model.head()",
   "id": "176d23eb6579c212",
   "outputs": [
    {
     "data": {
      "text/plain": [
       "              Name             Flow  Amount\n",
       "0         DIESEL_S         DIESEL_S     1.0\n",
       "1       GASOLINE_S       GASOLINE_S     1.0\n",
       "2           ELEC_S           ELEC_S     1.0\n",
       "3             NG_S             NG_S     1.0\n",
       "4  ELECTRICITY_EHV  ELECTRICITY_EHV     1.0"
      ],
      "text/html": [
       "<div>\n",
       "<style scoped>\n",
       "    .dataframe tbody tr th:only-of-type {\n",
       "        vertical-align: middle;\n",
       "    }\n",
       "\n",
       "    .dataframe tbody tr th {\n",
       "        vertical-align: top;\n",
       "    }\n",
       "\n",
       "    .dataframe thead th {\n",
       "        text-align: right;\n",
       "    }\n",
       "</style>\n",
       "<table border=\"1\" class=\"dataframe\">\n",
       "  <thead>\n",
       "    <tr style=\"text-align: right;\">\n",
       "      <th></th>\n",
       "      <th>Name</th>\n",
       "      <th>Flow</th>\n",
       "      <th>Amount</th>\n",
       "    </tr>\n",
       "  </thead>\n",
       "  <tbody>\n",
       "    <tr>\n",
       "      <th>0</th>\n",
       "      <td>DIESEL_S</td>\n",
       "      <td>DIESEL_S</td>\n",
       "      <td>1.0</td>\n",
       "    </tr>\n",
       "    <tr>\n",
       "      <th>1</th>\n",
       "      <td>GASOLINE_S</td>\n",
       "      <td>GASOLINE_S</td>\n",
       "      <td>1.0</td>\n",
       "    </tr>\n",
       "    <tr>\n",
       "      <th>2</th>\n",
       "      <td>ELEC_S</td>\n",
       "      <td>ELEC_S</td>\n",
       "      <td>1.0</td>\n",
       "    </tr>\n",
       "    <tr>\n",
       "      <th>3</th>\n",
       "      <td>NG_S</td>\n",
       "      <td>NG_S</td>\n",
       "      <td>1.0</td>\n",
       "    </tr>\n",
       "    <tr>\n",
       "      <th>4</th>\n",
       "      <td>ELECTRICITY_EHV</td>\n",
       "      <td>ELECTRICITY_EHV</td>\n",
       "      <td>1.0</td>\n",
       "    </tr>\n",
       "  </tbody>\n",
       "</table>\n",
       "</div>"
      ]
     },
     "execution_count": 13,
     "metadata": {},
     "output_type": "execute_result"
    }
   ],
   "execution_count": 13
  },
  {
   "metadata": {},
   "cell_type": "markdown",
   "source": "### Optional dataframes",
   "id": "48478041736e84c0"
  },
  {
   "metadata": {
    "ExecuteTime": {
     "end_time": "2024-10-09T15:15:41.294478Z",
     "start_time": "2024-10-09T15:15:41.254779Z"
    }
   },
   "cell_type": "code",
   "source": [
    "technology_compositions = pd.read_csv(f'../dev/energyscope_data/{esm_location}/technology_compositions.csv')\n",
    "technology_specifics = pd.read_csv(f'../dev/energyscope_data/{esm_location}/technology_specifics.csv') \n",
    "lifetime = pd.read_csv(f'../dev/energyscope_data/{esm_location}/lifetime.csv')\n",
    "efficiency = pd.read_csv(f'../dev/energyscope_data/{esm_location}/efficiency.csv')\n",
    "mapping_product_to_CPC = pd.read_csv('../mescal/data/mapping_product_to_CPC.csv')\n",
    "impact_abbrev = pd.read_csv('../dev/lcia/impact_abbrev.csv')\n",
    "technologies_to_remove_from_layers = pd.read_csv(f'../dev/energyscope_data/{esm_location}/technologies_to_remove_from_layers.csv')\n",
    "new_end_use_types = pd.read_csv(f'../dev/energyscope_data/{esm_location}/new_end_use_types.csv')\n",
    "premise_changes = pd.read_csv('../dev/data/premise_change_report.csv')\n",
    "results_from_esm = pd.read_csv(f'../dev/energyscope_data/{esm_location}/results_ES.csv')"
   ],
   "id": "dd4f202b4dbb9052",
   "outputs": [],
   "execution_count": 14
  },
  {
   "metadata": {},
   "cell_type": "markdown",
   "source": [
    "A set of composition of technologies, i.e., if one technology or resource in the energy model should be represented by a combination of LCI datasets. The composition should be provided in a dataframe with the following columns:\n",
    "- `Name`: the name of the main energy technology or resource in the energy model \n",
    "- `Components`: the list of names of subcomponents"
   ],
   "id": "eee94b00d44a2efa"
  },
  {
   "metadata": {
    "ExecuteTime": {
     "end_time": "2024-10-09T15:15:41.312306Z",
     "start_time": "2024-10-09T15:15:41.294478Z"
    }
   },
   "cell_type": "code",
   "source": "technology_compositions.head()",
   "id": "de810a82e99b68e",
   "outputs": [
    {
     "data": {
      "text/plain": [
       "                    Name                                         Components\n",
       "0  ALKALINE_ELECTROLYSIS  ['ALKALINE_ELECTROLYSIS_STACK', 'ALKALINE_ELEC...\n",
       "1              AN_DIG_SI             ['AN_DIG_SI_PLANT', 'AN_DIG_SI_COGEN']\n",
       "2                    ATR                          ['ATR_PLANT', 'ATR_TANK']\n",
       "3                ATR_CCS                  ['ATR_CCS_PLANT', 'ATR_CCS_TANK']\n",
       "4             BIOGAS_ATR            ['BIOGAS_ATR_PLANT', 'BIOGAS_ATR_TANK']"
      ],
      "text/html": [
       "<div>\n",
       "<style scoped>\n",
       "    .dataframe tbody tr th:only-of-type {\n",
       "        vertical-align: middle;\n",
       "    }\n",
       "\n",
       "    .dataframe tbody tr th {\n",
       "        vertical-align: top;\n",
       "    }\n",
       "\n",
       "    .dataframe thead th {\n",
       "        text-align: right;\n",
       "    }\n",
       "</style>\n",
       "<table border=\"1\" class=\"dataframe\">\n",
       "  <thead>\n",
       "    <tr style=\"text-align: right;\">\n",
       "      <th></th>\n",
       "      <th>Name</th>\n",
       "      <th>Components</th>\n",
       "    </tr>\n",
       "  </thead>\n",
       "  <tbody>\n",
       "    <tr>\n",
       "      <th>0</th>\n",
       "      <td>ALKALINE_ELECTROLYSIS</td>\n",
       "      <td>['ALKALINE_ELECTROLYSIS_STACK', 'ALKALINE_ELEC...</td>\n",
       "    </tr>\n",
       "    <tr>\n",
       "      <th>1</th>\n",
       "      <td>AN_DIG_SI</td>\n",
       "      <td>['AN_DIG_SI_PLANT', 'AN_DIG_SI_COGEN']</td>\n",
       "    </tr>\n",
       "    <tr>\n",
       "      <th>2</th>\n",
       "      <td>ATR</td>\n",
       "      <td>['ATR_PLANT', 'ATR_TANK']</td>\n",
       "    </tr>\n",
       "    <tr>\n",
       "      <th>3</th>\n",
       "      <td>ATR_CCS</td>\n",
       "      <td>['ATR_CCS_PLANT', 'ATR_CCS_TANK']</td>\n",
       "    </tr>\n",
       "    <tr>\n",
       "      <th>4</th>\n",
       "      <td>BIOGAS_ATR</td>\n",
       "      <td>['BIOGAS_ATR_PLANT', 'BIOGAS_ATR_TANK']</td>\n",
       "    </tr>\n",
       "  </tbody>\n",
       "</table>\n",
       "</div>"
      ]
     },
     "execution_count": 15,
     "metadata": {},
     "output_type": "execute_result"
    }
   ],
   "execution_count": 15
  },
  {
   "metadata": {},
   "cell_type": "markdown",
   "source": [
    "A set of technologies with specific requirements. For instance, this stands for energy technologies without a construction phase, mobility technologies (if mismatch fuel in the LCI dataset), bio-processes (if mismatch fuel in the LCI dataset), etc. The requirements should be provided in a dataframe with the following columns:\n",
    "- `Name`: the name of the energy technology in the energy model\n",
    "- `Specifics`: the type of requirement. Can be '**Background search**' (i.e., double-counting removal is run n levels in the background, n being defined in Amount), '**Decommissioning**' (i.e., the technology has a decommissioning LCI dataset outside its infrastructure LCI dataset), '**Mobility**' (i.e., EUD types for which associated technologies are characterized as a mobility mean, to further add a FUEL layer), '**No background search**' (i.e., double-counting removal is not applied), '**No construction**' (i.e., the technology has no infrastructure LCI dataset), '**Process**' (i.e., the technology is characterized as an industrial bio-process, to further add a PROCESS_FUEL layer), '**DAC**' (for *premise* DAC technologies, to change the biogenic carbon flow into a fossil one), '**Biofuel**' (i.e., adapt direct emissions to the biofuel input: partially change fossil carbon emissions into biogenic ones), '**Import/Export**' (these activities will keep their original locations and will not be regionalized), '**Carbon flows**' (the direct carbon emissions of these activities will be multiplied by a factor). \n",
    "- `Amount`: the numerical value of the requirement (if relevant)"
   ],
   "id": "7bdd1fc2ddf77780"
  },
  {
   "metadata": {
    "ExecuteTime": {
     "end_time": "2024-10-09T15:15:41.329384Z",
     "start_time": "2024-10-09T15:15:41.316520Z"
    }
   },
   "cell_type": "code",
   "source": "technology_specifics.head()",
   "id": "6424ff1019091799",
   "outputs": [
    {
     "data": {
      "text/plain": [
       "                Name          Specifics  Amount Comment\n",
       "0      CO2_TO_DIESEL  Background search     2.0     NaN\n",
       "1    CO2_TO_JETFUELS  Background search     0.0     NaN\n",
       "2  CROPS_TO_JETFUELS  Background search     4.0     NaN\n",
       "3                 FT  Background search     3.0     NaN\n",
       "4   GASIFICATION_SNG  Background search     2.0     NaN"
      ],
      "text/html": [
       "<div>\n",
       "<style scoped>\n",
       "    .dataframe tbody tr th:only-of-type {\n",
       "        vertical-align: middle;\n",
       "    }\n",
       "\n",
       "    .dataframe tbody tr th {\n",
       "        vertical-align: top;\n",
       "    }\n",
       "\n",
       "    .dataframe thead th {\n",
       "        text-align: right;\n",
       "    }\n",
       "</style>\n",
       "<table border=\"1\" class=\"dataframe\">\n",
       "  <thead>\n",
       "    <tr style=\"text-align: right;\">\n",
       "      <th></th>\n",
       "      <th>Name</th>\n",
       "      <th>Specifics</th>\n",
       "      <th>Amount</th>\n",
       "      <th>Comment</th>\n",
       "    </tr>\n",
       "  </thead>\n",
       "  <tbody>\n",
       "    <tr>\n",
       "      <th>0</th>\n",
       "      <td>CO2_TO_DIESEL</td>\n",
       "      <td>Background search</td>\n",
       "      <td>2.0</td>\n",
       "      <td>NaN</td>\n",
       "    </tr>\n",
       "    <tr>\n",
       "      <th>1</th>\n",
       "      <td>CO2_TO_JETFUELS</td>\n",
       "      <td>Background search</td>\n",
       "      <td>0.0</td>\n",
       "      <td>NaN</td>\n",
       "    </tr>\n",
       "    <tr>\n",
       "      <th>2</th>\n",
       "      <td>CROPS_TO_JETFUELS</td>\n",
       "      <td>Background search</td>\n",
       "      <td>4.0</td>\n",
       "      <td>NaN</td>\n",
       "    </tr>\n",
       "    <tr>\n",
       "      <th>3</th>\n",
       "      <td>FT</td>\n",
       "      <td>Background search</td>\n",
       "      <td>3.0</td>\n",
       "      <td>NaN</td>\n",
       "    </tr>\n",
       "    <tr>\n",
       "      <th>4</th>\n",
       "      <td>GASIFICATION_SNG</td>\n",
       "      <td>Background search</td>\n",
       "      <td>2.0</td>\n",
       "      <td>NaN</td>\n",
       "    </tr>\n",
       "  </tbody>\n",
       "</table>\n",
       "</div>"
      ]
     },
     "execution_count": 16,
     "metadata": {},
     "output_type": "execute_result"
    }
   ],
   "execution_count": 16
  },
  {
   "metadata": {},
   "cell_type": "markdown",
   "source": [
    "Energy technologies lifetimes in the ESM and the LCI database. For composition of technologies (if any), the main technology should not have a LCA lifetime (no LCI dataset is associated to it), while the sub-components should not have an ESM lifetime (they do not have a proper technology in the ESM). The lifetimes should be provided in a dataframe with the following columns:\n",
    "- `Name`: the name of the energy technology in the energy system model\n",
    "- `ESM`: the numerical value of the lifetime in the energy system model (if relevant)\n",
    "- `LCA`: the numerical value of the lifetime in the LCI database (if relevant)\n",
    "- `Comment`: (optional) additional information the `Amount` computation (if relevant)"
   ],
   "id": "326561ead79cf4c9"
  },
  {
   "metadata": {
    "ExecuteTime": {
     "end_time": "2024-10-09T15:15:41.342652Z",
     "start_time": "2024-10-09T15:15:41.329384Z"
    }
   },
   "cell_type": "code",
   "source": "lifetime.head()",
   "id": "e268fad4190c4c8a",
   "outputs": [
    {
     "data": {
      "text/plain": [
       "                          Name   ESM        LCA\n",
       "0                          AFC  35.0   2.686006\n",
       "1                    AL_MAKING  25.0  50.000000\n",
       "2                 AL_MAKING_HR  25.0  50.000000\n",
       "3        ALKALINE_ELECTROLYSIS  10.0        NaN\n",
       "4  ALKALINE_ELECTROLYSIS_PLANT   NaN  20.000000"
      ],
      "text/html": [
       "<div>\n",
       "<style scoped>\n",
       "    .dataframe tbody tr th:only-of-type {\n",
       "        vertical-align: middle;\n",
       "    }\n",
       "\n",
       "    .dataframe tbody tr th {\n",
       "        vertical-align: top;\n",
       "    }\n",
       "\n",
       "    .dataframe thead th {\n",
       "        text-align: right;\n",
       "    }\n",
       "</style>\n",
       "<table border=\"1\" class=\"dataframe\">\n",
       "  <thead>\n",
       "    <tr style=\"text-align: right;\">\n",
       "      <th></th>\n",
       "      <th>Name</th>\n",
       "      <th>ESM</th>\n",
       "      <th>LCA</th>\n",
       "    </tr>\n",
       "  </thead>\n",
       "  <tbody>\n",
       "    <tr>\n",
       "      <th>0</th>\n",
       "      <td>AFC</td>\n",
       "      <td>35.0</td>\n",
       "      <td>2.686006</td>\n",
       "    </tr>\n",
       "    <tr>\n",
       "      <th>1</th>\n",
       "      <td>AL_MAKING</td>\n",
       "      <td>25.0</td>\n",
       "      <td>50.000000</td>\n",
       "    </tr>\n",
       "    <tr>\n",
       "      <th>2</th>\n",
       "      <td>AL_MAKING_HR</td>\n",
       "      <td>25.0</td>\n",
       "      <td>50.000000</td>\n",
       "    </tr>\n",
       "    <tr>\n",
       "      <th>3</th>\n",
       "      <td>ALKALINE_ELECTROLYSIS</td>\n",
       "      <td>10.0</td>\n",
       "      <td>NaN</td>\n",
       "    </tr>\n",
       "    <tr>\n",
       "      <th>4</th>\n",
       "      <td>ALKALINE_ELECTROLYSIS_PLANT</td>\n",
       "      <td>NaN</td>\n",
       "      <td>20.000000</td>\n",
       "    </tr>\n",
       "  </tbody>\n",
       "</table>\n",
       "</div>"
      ]
     },
     "execution_count": 17,
     "metadata": {},
     "output_type": "execute_result"
    }
   ],
   "execution_count": 17
  },
  {
   "metadata": {},
   "cell_type": "markdown",
   "source": [
    "If you want to account for the possible efficiency differences between the ESM and the LCI datasets, you can provide a set of (technologies, flow) couples for which efficiency differences will be corrected by the scaling the elementary flows. Taking the example of the diesel car, the couple should be something like ('CAR_DIESEL', 'DIESEL'), the flow being the fuel of the technology responsible for direct emissions. Relevant biosphere flows will be the ratio between the LCA and ESM efficiencies. The (technology, flow) couples should be provided in a dataframe with the following columns:\n",
    "- `Name`: the name of the energy technology in the ESM\n",
    "- `Flow`: the name of the flow in the ESM\n",
    "- `Comment`: (optional) additional information on the set of `Flows`"
   ],
   "id": "be443561d3ffbf43"
  },
  {
   "metadata": {
    "ExecuteTime": {
     "end_time": "2024-10-09T15:15:41.356257Z",
     "start_time": "2024-10-09T15:15:41.342652Z"
    }
   },
   "cell_type": "code",
   "source": "efficiency.head()",
   "id": "ebdf65eaa517f199",
   "outputs": [
    {
     "data": {
      "text/plain": [
       "         Name             Flow Comment\n",
       "0      AN_DIG  ['WET_BIOMASS']     NaN\n",
       "1   AN_DIG_SI  ['WET_BIOMASS']     NaN\n",
       "2         ATR        ['NG_HP']     NaN\n",
       "3     ATR_CCS        ['NG_HP']     NaN\n",
       "4  BIOGAS_ATR         ['WOOD']     NaN"
      ],
      "text/html": [
       "<div>\n",
       "<style scoped>\n",
       "    .dataframe tbody tr th:only-of-type {\n",
       "        vertical-align: middle;\n",
       "    }\n",
       "\n",
       "    .dataframe tbody tr th {\n",
       "        vertical-align: top;\n",
       "    }\n",
       "\n",
       "    .dataframe thead th {\n",
       "        text-align: right;\n",
       "    }\n",
       "</style>\n",
       "<table border=\"1\" class=\"dataframe\">\n",
       "  <thead>\n",
       "    <tr style=\"text-align: right;\">\n",
       "      <th></th>\n",
       "      <th>Name</th>\n",
       "      <th>Flow</th>\n",
       "      <th>Comment</th>\n",
       "    </tr>\n",
       "  </thead>\n",
       "  <tbody>\n",
       "    <tr>\n",
       "      <th>0</th>\n",
       "      <td>AN_DIG</td>\n",
       "      <td>['WET_BIOMASS']</td>\n",
       "      <td>NaN</td>\n",
       "    </tr>\n",
       "    <tr>\n",
       "      <th>1</th>\n",
       "      <td>AN_DIG_SI</td>\n",
       "      <td>['WET_BIOMASS']</td>\n",
       "      <td>NaN</td>\n",
       "    </tr>\n",
       "    <tr>\n",
       "      <th>2</th>\n",
       "      <td>ATR</td>\n",
       "      <td>['NG_HP']</td>\n",
       "      <td>NaN</td>\n",
       "    </tr>\n",
       "    <tr>\n",
       "      <th>3</th>\n",
       "      <td>ATR_CCS</td>\n",
       "      <td>['NG_HP']</td>\n",
       "      <td>NaN</td>\n",
       "    </tr>\n",
       "    <tr>\n",
       "      <th>4</th>\n",
       "      <td>BIOGAS_ATR</td>\n",
       "      <td>['WOOD']</td>\n",
       "      <td>NaN</td>\n",
       "    </tr>\n",
       "  </tbody>\n",
       "</table>\n",
       "</div>"
      ]
     },
     "execution_count": 18,
     "metadata": {},
     "output_type": "execute_result"
    }
   ],
   "execution_count": 18
  },
  {
   "metadata": {},
   "cell_type": "markdown",
   "source": [
    "In case you have a LCI database (partially) without CPC categories (which are necessary for the double-counting check), you can provide a mapping between the products and activities in the LCI database and the CPC categories. The mapping should be provided in a dataframe with the following columns:\n",
    "- `Name`: the full or partial name of the product or activity in the LCI database\n",
    "- `CPC`: the number and name of the corresponding CPC category\n",
    "- `Search type`: can be 'equals' if the `Name` entry is an exactly the name to look for, or 'contains' if it is contained in the full name\n",
    "- `Where`: can be 'Product' or 'Activity', whether the `Name` entry is meant for products or activities"
   ],
   "id": "330ee60ba864372a"
  },
  {
   "metadata": {
    "ExecuteTime": {
     "end_time": "2024-10-09T15:15:41.374277Z",
     "start_time": "2024-10-09T15:15:41.358311Z"
    }
   },
   "cell_type": "code",
   "source": "mapping_product_to_CPC.head()",
   "id": "253e3eafb347c0af",
   "outputs": [
    {
     "data": {
      "text/plain": [
       "                                                Name  \\\n",
       "0                                 amine-based silica   \n",
       "1                                          biodiesel   \n",
       "2                                             biogas   \n",
       "3                              biomass, used as fuel   \n",
       "4  biomethane, from biogas upgrading, using amine...   \n",
       "\n",
       "                                                 CPC Search type    Where  \n",
       "0  35310: Organic surface active agents, except soap      equals  Product  \n",
       "1                                   35491: Biodiesel    contains  Product  \n",
       "2  17200: Coal gas, water gas, producer gas and s...      equals  Product  \n",
       "3                  31230: Wood in chips or particles      equals  Product  \n",
       "4  12020: Natural gas, liquefied or in the gaseou...      equals  Product  "
      ],
      "text/html": [
       "<div>\n",
       "<style scoped>\n",
       "    .dataframe tbody tr th:only-of-type {\n",
       "        vertical-align: middle;\n",
       "    }\n",
       "\n",
       "    .dataframe tbody tr th {\n",
       "        vertical-align: top;\n",
       "    }\n",
       "\n",
       "    .dataframe thead th {\n",
       "        text-align: right;\n",
       "    }\n",
       "</style>\n",
       "<table border=\"1\" class=\"dataframe\">\n",
       "  <thead>\n",
       "    <tr style=\"text-align: right;\">\n",
       "      <th></th>\n",
       "      <th>Name</th>\n",
       "      <th>CPC</th>\n",
       "      <th>Search type</th>\n",
       "      <th>Where</th>\n",
       "    </tr>\n",
       "  </thead>\n",
       "  <tbody>\n",
       "    <tr>\n",
       "      <th>0</th>\n",
       "      <td>amine-based silica</td>\n",
       "      <td>35310: Organic surface active agents, except soap</td>\n",
       "      <td>equals</td>\n",
       "      <td>Product</td>\n",
       "    </tr>\n",
       "    <tr>\n",
       "      <th>1</th>\n",
       "      <td>biodiesel</td>\n",
       "      <td>35491: Biodiesel</td>\n",
       "      <td>contains</td>\n",
       "      <td>Product</td>\n",
       "    </tr>\n",
       "    <tr>\n",
       "      <th>2</th>\n",
       "      <td>biogas</td>\n",
       "      <td>17200: Coal gas, water gas, producer gas and s...</td>\n",
       "      <td>equals</td>\n",
       "      <td>Product</td>\n",
       "    </tr>\n",
       "    <tr>\n",
       "      <th>3</th>\n",
       "      <td>biomass, used as fuel</td>\n",
       "      <td>31230: Wood in chips or particles</td>\n",
       "      <td>equals</td>\n",
       "      <td>Product</td>\n",
       "    </tr>\n",
       "    <tr>\n",
       "      <th>4</th>\n",
       "      <td>biomethane, from biogas upgrading, using amine...</td>\n",
       "      <td>12020: Natural gas, liquefied or in the gaseou...</td>\n",
       "      <td>equals</td>\n",
       "      <td>Product</td>\n",
       "    </tr>\n",
       "  </tbody>\n",
       "</table>\n",
       "</div>"
      ]
     },
     "execution_count": 19,
     "metadata": {},
     "output_type": "execute_result"
    }
   ],
   "execution_count": 19
  },
  {
   "metadata": {},
   "cell_type": "markdown",
   "source": [
    "An abbreviation scheme for the impact categories you aim to work with, to ease the readability in the ESM. The one of IMPACT World+ is available in this [csv file](https://github.com/matthieu-str/mescal/blob/master/dev/lcia/impact_abbrev.csv). The abbreviations should be provided in a dataframe with the following columns:\n",
    "- `Impact_category`: the name of the impact category, expressed as a tuple following brightway convention\n",
    "- `Unit`: (optional) the unit of the impact category\n",
    "- `Abbrev`: the abbreviation of the impact category\n",
    "- `AoP`: the area of protection of the impact category. The normalization of indicators will be performed based of AoPs. If you do not have AoPs (e.g., midpoint-level indicators), set as many AoPs as you have impact categories."
   ],
   "id": "b5da46d185c9766f"
  },
  {
   "metadata": {
    "ExecuteTime": {
     "end_time": "2024-10-09T15:15:41.386896Z",
     "start_time": "2024-10-09T15:15:41.376481Z"
    }
   },
   "cell_type": "code",
   "source": "impact_abbrev.head()",
   "id": "a3da253e1403384a",
   "outputs": [
    {
     "data": {
      "text/plain": [
       "                                     Impact_category       Unit  Abbrev AoP\n",
       "0  ('IMPACT World+ Damage 2.0.1', 'Ecosystem qual...  PDF.m2.yr   CCEQL  EQ\n",
       "1  ('IMPACT World+ Damage 2.0.1', 'Ecosystem qual...  PDF.m2.yr   CCEQS  EQ\n",
       "2  ('IMPACT World+ Damage 2.0.1', 'Ecosystem qual...  PDF.m2.yr  CCEQLB  EQ\n",
       "3  ('IMPACT World+ Damage 2.0.1', 'Ecosystem qual...  PDF.m2.yr  CCEQSB  EQ\n",
       "4  ('IMPACT World+ Damage 2.0.1', 'Human health',...       DALY   CCHHL  HH"
      ],
      "text/html": [
       "<div>\n",
       "<style scoped>\n",
       "    .dataframe tbody tr th:only-of-type {\n",
       "        vertical-align: middle;\n",
       "    }\n",
       "\n",
       "    .dataframe tbody tr th {\n",
       "        vertical-align: top;\n",
       "    }\n",
       "\n",
       "    .dataframe thead th {\n",
       "        text-align: right;\n",
       "    }\n",
       "</style>\n",
       "<table border=\"1\" class=\"dataframe\">\n",
       "  <thead>\n",
       "    <tr style=\"text-align: right;\">\n",
       "      <th></th>\n",
       "      <th>Impact_category</th>\n",
       "      <th>Unit</th>\n",
       "      <th>Abbrev</th>\n",
       "      <th>AoP</th>\n",
       "    </tr>\n",
       "  </thead>\n",
       "  <tbody>\n",
       "    <tr>\n",
       "      <th>0</th>\n",
       "      <td>('IMPACT World+ Damage 2.0.1', 'Ecosystem qual...</td>\n",
       "      <td>PDF.m2.yr</td>\n",
       "      <td>CCEQL</td>\n",
       "      <td>EQ</td>\n",
       "    </tr>\n",
       "    <tr>\n",
       "      <th>1</th>\n",
       "      <td>('IMPACT World+ Damage 2.0.1', 'Ecosystem qual...</td>\n",
       "      <td>PDF.m2.yr</td>\n",
       "      <td>CCEQS</td>\n",
       "      <td>EQ</td>\n",
       "    </tr>\n",
       "    <tr>\n",
       "      <th>2</th>\n",
       "      <td>('IMPACT World+ Damage 2.0.1', 'Ecosystem qual...</td>\n",
       "      <td>PDF.m2.yr</td>\n",
       "      <td>CCEQLB</td>\n",
       "      <td>EQ</td>\n",
       "    </tr>\n",
       "    <tr>\n",
       "      <th>3</th>\n",
       "      <td>('IMPACT World+ Damage 2.0.1', 'Ecosystem qual...</td>\n",
       "      <td>PDF.m2.yr</td>\n",
       "      <td>CCEQSB</td>\n",
       "      <td>EQ</td>\n",
       "    </tr>\n",
       "    <tr>\n",
       "      <th>4</th>\n",
       "      <td>('IMPACT World+ Damage 2.0.1', 'Human health',...</td>\n",
       "      <td>DALY</td>\n",
       "      <td>CCHHL</td>\n",
       "      <td>HH</td>\n",
       "    </tr>\n",
       "  </tbody>\n",
       "</table>\n",
       "</div>"
      ]
     },
     "execution_count": 20,
     "metadata": {},
     "output_type": "execute_result"
    }
   ],
   "execution_count": 20
  },
  {
   "metadata": {},
   "cell_type": "markdown",
   "source": [
    "In case you want to remove some energy technologies from energy layers in the results LCI datasets to be added to the LCI database, you can provide a list of technologies to remove. The list should be provided in a dataframe with the following columns:\n",
    "- `Layers`: name of the layer(s). A layer is basically an energy vector, which is an output for some energy technologies and an input for some others. \n",
    "- `Technologies`: the name of the energy technology to remove from the layer(s)\n",
    "- `Comment`: (optional) a comment on the removal"
   ],
   "id": "eb16bb1f7309ca37"
  },
  {
   "metadata": {
    "ExecuteTime": {
     "end_time": "2024-10-09T15:15:41.400410Z",
     "start_time": "2024-10-09T15:15:41.389908Z"
    }
   },
   "cell_type": "code",
   "source": "technologies_to_remove_from_layers.head()",
   "id": "846d3b9a433837cb",
   "outputs": [
    {
     "data": {
      "text/plain": [
       "                                  Layers  \\\n",
       "0  ['ELECTRICITY_EHV', 'ELECTRICITY_HV']   \n",
       "1                     ['ELECTRICITY_LV']   \n",
       "2                    ['NG_HP', 'NG_EHP']   \n",
       "3  ['H2_LP', 'H2_MP', 'H2_HP', 'H2_EHP']   \n",
       "4      ['HEAT_HIGH_T', 'HEAT_LOW_T_DHN']   \n",
       "\n",
       "                                        Technologies  \\\n",
       "0                            ['TRAFO_HE','TRAFO_EH']   \n",
       "1                                       ['STO_ELEC']   \n",
       "2  ['NG_EXP_EH', 'NG_EXP_EH_COGEN', 'NG_COMP_HE',...   \n",
       "3  ['H2_COMP_HE', 'H2_COMP_MH', 'H2_COMP_LM', 'H2...   \n",
       "4                                          ['HT_LT']   \n",
       "\n",
       "                                             Comment  \n",
       "0  The high and extra high voltage electricity ar...  \n",
       "1  The storage technologies should be removed (pr...  \n",
       "2  The high and extra high pressure natural gas a...  \n",
       "3  All pressure levels for hydrogen are merged in...  \n",
       "4  The high and low heat production at the DHN le...  "
      ],
      "text/html": [
       "<div>\n",
       "<style scoped>\n",
       "    .dataframe tbody tr th:only-of-type {\n",
       "        vertical-align: middle;\n",
       "    }\n",
       "\n",
       "    .dataframe tbody tr th {\n",
       "        vertical-align: top;\n",
       "    }\n",
       "\n",
       "    .dataframe thead th {\n",
       "        text-align: right;\n",
       "    }\n",
       "</style>\n",
       "<table border=\"1\" class=\"dataframe\">\n",
       "  <thead>\n",
       "    <tr style=\"text-align: right;\">\n",
       "      <th></th>\n",
       "      <th>Layers</th>\n",
       "      <th>Technologies</th>\n",
       "      <th>Comment</th>\n",
       "    </tr>\n",
       "  </thead>\n",
       "  <tbody>\n",
       "    <tr>\n",
       "      <th>0</th>\n",
       "      <td>['ELECTRICITY_EHV', 'ELECTRICITY_HV']</td>\n",
       "      <td>['TRAFO_HE','TRAFO_EH']</td>\n",
       "      <td>The high and extra high voltage electricity ar...</td>\n",
       "    </tr>\n",
       "    <tr>\n",
       "      <th>1</th>\n",
       "      <td>['ELECTRICITY_LV']</td>\n",
       "      <td>['STO_ELEC']</td>\n",
       "      <td>The storage technologies should be removed (pr...</td>\n",
       "    </tr>\n",
       "    <tr>\n",
       "      <th>2</th>\n",
       "      <td>['NG_HP', 'NG_EHP']</td>\n",
       "      <td>['NG_EXP_EH', 'NG_EXP_EH_COGEN', 'NG_COMP_HE',...</td>\n",
       "      <td>The high and extra high pressure natural gas a...</td>\n",
       "    </tr>\n",
       "    <tr>\n",
       "      <th>3</th>\n",
       "      <td>['H2_LP', 'H2_MP', 'H2_HP', 'H2_EHP']</td>\n",
       "      <td>['H2_COMP_HE', 'H2_COMP_MH', 'H2_COMP_LM', 'H2...</td>\n",
       "      <td>All pressure levels for hydrogen are merged in...</td>\n",
       "    </tr>\n",
       "    <tr>\n",
       "      <th>4</th>\n",
       "      <td>['HEAT_HIGH_T', 'HEAT_LOW_T_DHN']</td>\n",
       "      <td>['HT_LT']</td>\n",
       "      <td>The high and low heat production at the DHN le...</td>\n",
       "    </tr>\n",
       "  </tbody>\n",
       "</table>\n",
       "</div>"
      ]
     },
     "execution_count": 21,
     "metadata": {},
     "output_type": "execute_result"
    }
   ],
   "execution_count": 21
  },
  {
   "metadata": {},
   "cell_type": "markdown",
   "source": [
    "If you want to reformat your end-use types (e.g., output layer) in order to better fit the LCI database, you can provide a list of new end-use types. The list should be provided in a dataframe with the following columns:\n",
    "- `Name`: name of technologies for which the end-use type should be changed\n",
    "- `Search type`: whether the `Name` entry is an exactly the name to look for ('equals'), is contained in the full name ('contains'), or is the beginning of the full name ('startswith')\n",
    "- `Old`: the current end-use type\n",
    "- `New`: the new end-use type"
   ],
   "id": "c1f82852ad4b7e07"
  },
  {
   "metadata": {
    "ExecuteTime": {
     "end_time": "2024-10-09T15:15:41.418342Z",
     "start_time": "2024-10-09T15:15:41.403429Z"
    }
   },
   "cell_type": "code",
   "source": "new_end_use_types.head()",
   "id": "f6634cc71a6b13d",
   "outputs": [
    {
     "data": {
      "text/plain": [
       "        Name Search type          Old                   New\n",
       "0        BUS  startswith   MOB_PUBLIC        MOB_PUBLIC_BUS\n",
       "1  SCHOOLBUS  startswith   MOB_PUBLIC  MOB_PUBLIC_SCHOOLBUS\n",
       "2      COACH  startswith   MOB_PUBLIC      MOB_PUBLIC_COACH\n",
       "3      TRAIN  startswith   MOB_PUBLIC      MOB_PUBLIC_TRAIN\n",
       "4        CAR  startswith  MOB_PRIVATE       MOB_PRIVATE_CAR"
      ],
      "text/html": [
       "<div>\n",
       "<style scoped>\n",
       "    .dataframe tbody tr th:only-of-type {\n",
       "        vertical-align: middle;\n",
       "    }\n",
       "\n",
       "    .dataframe tbody tr th {\n",
       "        vertical-align: top;\n",
       "    }\n",
       "\n",
       "    .dataframe thead th {\n",
       "        text-align: right;\n",
       "    }\n",
       "</style>\n",
       "<table border=\"1\" class=\"dataframe\">\n",
       "  <thead>\n",
       "    <tr style=\"text-align: right;\">\n",
       "      <th></th>\n",
       "      <th>Name</th>\n",
       "      <th>Search type</th>\n",
       "      <th>Old</th>\n",
       "      <th>New</th>\n",
       "    </tr>\n",
       "  </thead>\n",
       "  <tbody>\n",
       "    <tr>\n",
       "      <th>0</th>\n",
       "      <td>BUS</td>\n",
       "      <td>startswith</td>\n",
       "      <td>MOB_PUBLIC</td>\n",
       "      <td>MOB_PUBLIC_BUS</td>\n",
       "    </tr>\n",
       "    <tr>\n",
       "      <th>1</th>\n",
       "      <td>SCHOOLBUS</td>\n",
       "      <td>startswith</td>\n",
       "      <td>MOB_PUBLIC</td>\n",
       "      <td>MOB_PUBLIC_SCHOOLBUS</td>\n",
       "    </tr>\n",
       "    <tr>\n",
       "      <th>2</th>\n",
       "      <td>COACH</td>\n",
       "      <td>startswith</td>\n",
       "      <td>MOB_PUBLIC</td>\n",
       "      <td>MOB_PUBLIC_COACH</td>\n",
       "    </tr>\n",
       "    <tr>\n",
       "      <th>3</th>\n",
       "      <td>TRAIN</td>\n",
       "      <td>startswith</td>\n",
       "      <td>MOB_PUBLIC</td>\n",
       "      <td>MOB_PUBLIC_TRAIN</td>\n",
       "    </tr>\n",
       "    <tr>\n",
       "      <th>4</th>\n",
       "      <td>CAR</td>\n",
       "      <td>startswith</td>\n",
       "      <td>MOB_PRIVATE</td>\n",
       "      <td>MOB_PRIVATE_CAR</td>\n",
       "    </tr>\n",
       "  </tbody>\n",
       "</table>\n",
       "</div>"
      ]
     },
     "execution_count": 22,
     "metadata": {},
     "output_type": "execute_result"
    }
   ],
   "execution_count": 22
  },
  {
   "metadata": {},
   "cell_type": "markdown",
   "source": [
    "If you are facing changes in names or reference products due to a new version of premise, and do not want to modify your mapping file, you should provide the dataframe with the following columns:\n",
    "- `Product - old`: old reference product of the activity\n",
    "- `Activity - old`: old name of the activity\n",
    "- `Location - old`: old location of the activity\n",
    "- `Product - new`: new reference product of the activity\n",
    "- `Activity - new`: new name of the activity\n",
    "- `Location - new`: new location of the activity"
   ],
   "id": "edecc3e872780922"
  },
  {
   "metadata": {
    "ExecuteTime": {
     "end_time": "2024-10-09T15:15:41.433485Z",
     "start_time": "2024-10-09T15:15:41.420212Z"
    }
   },
   "cell_type": "code",
   "source": "premise_changes.head()",
   "id": "be6cc3cb675881ca",
   "outputs": [
    {
     "data": {
      "text/plain": [
       "               Product - old  \\\n",
       "0  hydrogen, gaseous, 25 bar   \n",
       "1  hydrogen, gaseous, 25 bar   \n",
       "2  hydrogen, gaseous, 25 bar   \n",
       "3  hydrogen, gaseous, 25 bar   \n",
       "4  hydrogen, gaseous, 26 bar   \n",
       "\n",
       "                                      Activity - old Location - old  \\\n",
       "0  hydrogen production, auto-thermal reforming of...            RER   \n",
       "1  hydrogen production, auto-thermal reforming of...            RER   \n",
       "2  hydrogen production, auto-thermal reforming, f...             CH   \n",
       "3  hydrogen production, auto-thermal reforming, f...             CH   \n",
       "4  hydrogen production, steam methane reforming, ...             CH   \n",
       "\n",
       "                     Product - new  \\\n",
       "0  hydrogen, gaseous, low pressure   \n",
       "1  hydrogen, gaseous, low pressure   \n",
       "2  hydrogen, gaseous, low pressure   \n",
       "3  hydrogen, gaseous, low pressure   \n",
       "4  hydrogen, gaseous, low pressure   \n",
       "\n",
       "                                      Activity - new Location - new  \n",
       "0        hydrogen production, auto-thermal reforming            RER  \n",
       "1  hydrogen production, auto-thermal reforming, w...            RER  \n",
       "2  hydrogen production, auto-thermal reforming, f...            RER  \n",
       "3  hydrogen production, auto-thermal reforming, f...            RER  \n",
       "4  hydrogen production, steam methane reforming, ...            RER  "
      ],
      "text/html": [
       "<div>\n",
       "<style scoped>\n",
       "    .dataframe tbody tr th:only-of-type {\n",
       "        vertical-align: middle;\n",
       "    }\n",
       "\n",
       "    .dataframe tbody tr th {\n",
       "        vertical-align: top;\n",
       "    }\n",
       "\n",
       "    .dataframe thead th {\n",
       "        text-align: right;\n",
       "    }\n",
       "</style>\n",
       "<table border=\"1\" class=\"dataframe\">\n",
       "  <thead>\n",
       "    <tr style=\"text-align: right;\">\n",
       "      <th></th>\n",
       "      <th>Product - old</th>\n",
       "      <th>Activity - old</th>\n",
       "      <th>Location - old</th>\n",
       "      <th>Product - new</th>\n",
       "      <th>Activity - new</th>\n",
       "      <th>Location - new</th>\n",
       "    </tr>\n",
       "  </thead>\n",
       "  <tbody>\n",
       "    <tr>\n",
       "      <th>0</th>\n",
       "      <td>hydrogen, gaseous, 25 bar</td>\n",
       "      <td>hydrogen production, auto-thermal reforming of...</td>\n",
       "      <td>RER</td>\n",
       "      <td>hydrogen, gaseous, low pressure</td>\n",
       "      <td>hydrogen production, auto-thermal reforming</td>\n",
       "      <td>RER</td>\n",
       "    </tr>\n",
       "    <tr>\n",
       "      <th>1</th>\n",
       "      <td>hydrogen, gaseous, 25 bar</td>\n",
       "      <td>hydrogen production, auto-thermal reforming of...</td>\n",
       "      <td>RER</td>\n",
       "      <td>hydrogen, gaseous, low pressure</td>\n",
       "      <td>hydrogen production, auto-thermal reforming, w...</td>\n",
       "      <td>RER</td>\n",
       "    </tr>\n",
       "    <tr>\n",
       "      <th>2</th>\n",
       "      <td>hydrogen, gaseous, 25 bar</td>\n",
       "      <td>hydrogen production, auto-thermal reforming, f...</td>\n",
       "      <td>CH</td>\n",
       "      <td>hydrogen, gaseous, low pressure</td>\n",
       "      <td>hydrogen production, auto-thermal reforming, f...</td>\n",
       "      <td>RER</td>\n",
       "    </tr>\n",
       "    <tr>\n",
       "      <th>3</th>\n",
       "      <td>hydrogen, gaseous, 25 bar</td>\n",
       "      <td>hydrogen production, auto-thermal reforming, f...</td>\n",
       "      <td>CH</td>\n",
       "      <td>hydrogen, gaseous, low pressure</td>\n",
       "      <td>hydrogen production, auto-thermal reforming, f...</td>\n",
       "      <td>RER</td>\n",
       "    </tr>\n",
       "    <tr>\n",
       "      <th>4</th>\n",
       "      <td>hydrogen, gaseous, 26 bar</td>\n",
       "      <td>hydrogen production, steam methane reforming, ...</td>\n",
       "      <td>CH</td>\n",
       "      <td>hydrogen, gaseous, low pressure</td>\n",
       "      <td>hydrogen production, steam methane reforming, ...</td>\n",
       "      <td>RER</td>\n",
       "    </tr>\n",
       "  </tbody>\n",
       "</table>\n",
       "</div>"
      ]
     },
     "execution_count": 23,
     "metadata": {},
     "output_type": "execute_result"
    }
   ],
   "execution_count": 23
  },
  {
   "metadata": {},
   "cell_type": "markdown",
   "source": [
    "If you want to inject the results of your ESM back in the LCI database, you should provide the results in a dataframe with the following columns:\n",
    "- `Name`: the name of the energy technology in the ESM\n",
    "- `Production`: the annual production value of the energy technology in the ESM. All values should be provided with the same unit."
   ],
   "id": "2a22018e8350b403"
  },
  {
   "metadata": {
    "ExecuteTime": {
     "end_time": "2024-10-09T15:15:41.447535Z",
     "start_time": "2024-10-09T15:15:41.433925Z"
    }
   },
   "cell_type": "code",
   "source": "results_from_esm.head()",
   "id": "39fc1572bfbdc36d",
   "outputs": [
    {
     "data": {
      "text/plain": [
       "            Name    Production\n",
       "0             PV      0.000000\n",
       "1       TRAFO_ML  72698.861206\n",
       "2      AN_DIG_SI      0.000000\n",
       "3     GEOTHERMAL      0.000000\n",
       "4  HYDRO_GAS_CHP      0.000000"
      ],
      "text/html": [
       "<div>\n",
       "<style scoped>\n",
       "    .dataframe tbody tr th:only-of-type {\n",
       "        vertical-align: middle;\n",
       "    }\n",
       "\n",
       "    .dataframe tbody tr th {\n",
       "        vertical-align: top;\n",
       "    }\n",
       "\n",
       "    .dataframe thead th {\n",
       "        text-align: right;\n",
       "    }\n",
       "</style>\n",
       "<table border=\"1\" class=\"dataframe\">\n",
       "  <thead>\n",
       "    <tr style=\"text-align: right;\">\n",
       "      <th></th>\n",
       "      <th>Name</th>\n",
       "      <th>Production</th>\n",
       "    </tr>\n",
       "  </thead>\n",
       "  <tbody>\n",
       "    <tr>\n",
       "      <th>0</th>\n",
       "      <td>PV</td>\n",
       "      <td>0.000000</td>\n",
       "    </tr>\n",
       "    <tr>\n",
       "      <th>1</th>\n",
       "      <td>TRAFO_ML</td>\n",
       "      <td>72698.861206</td>\n",
       "    </tr>\n",
       "    <tr>\n",
       "      <th>2</th>\n",
       "      <td>AN_DIG_SI</td>\n",
       "      <td>0.000000</td>\n",
       "    </tr>\n",
       "    <tr>\n",
       "      <th>3</th>\n",
       "      <td>GEOTHERMAL</td>\n",
       "      <td>0.000000</td>\n",
       "    </tr>\n",
       "    <tr>\n",
       "      <th>4</th>\n",
       "      <td>HYDRO_GAS_CHP</td>\n",
       "      <td>0.000000</td>\n",
       "    </tr>\n",
       "  </tbody>\n",
       "</table>\n",
       "</div>"
      ]
     },
     "execution_count": 24,
     "metadata": {},
     "output_type": "execute_result"
    }
   ],
   "execution_count": 24
  },
  {
   "metadata": {},
   "cell_type": "markdown",
   "source": "### Optional geographical data",
   "id": "9ab87522b2705c27"
  },
  {
   "metadata": {
    "ExecuteTime": {
     "end_time": "2024-10-09T15:15:41.456555Z",
     "start_time": "2024-10-09T15:15:41.449683Z"
    }
   },
   "cell_type": "code",
   "source": [
    "# sufficient match within ecoinvent\n",
    "if esm_location == 'CA-QC':\n",
    "    accepted_locations = ['CA-QC', 'CA']  \n",
    "elif esm_location == 'CH':\n",
    "    accepted_locations = ['CH']\n",
    "else:\n",
    "    accepted_locations = ['GLO', 'RoW']  "
   ],
   "id": "145d3b7fdc23fcc9",
   "outputs": [],
   "execution_count": 25
  },
  {
   "metadata": {
    "ExecuteTime": {
     "end_time": "2024-10-09T15:15:41.466874Z",
     "start_time": "2024-10-09T15:15:41.456555Z"
    }
   },
   "cell_type": "code",
   "source": [
    "# Define the user-defined ranking\n",
    "if esm_location == 'CA-QC':\n",
    "    my_ranking = [\n",
    "        'CA-QC', # Quebec\n",
    "        'CA', # Canada\n",
    "        'CAN', # Canada in IMAGE\n",
    "        'CAZ', # Canada - Australia - New Zealand in REMIND\n",
    "        'RNA', # North America\n",
    "        'US', # United States\n",
    "        'USA', # United States in REMIND and IMAGE\n",
    "        'GLO', # Global average \n",
    "        'RoW', # Rest of the world\n",
    "    ]\n",
    "elif esm_location == 'CH':\n",
    "    my_ranking = [\n",
    "        'CH',\n",
    "        'NEU',\n",
    "        'EUR',\n",
    "        'WEU',\n",
    "        'RER', \n",
    "        'IAI Area, EU27 & EFTA',\n",
    "        'GLO',\n",
    "        'RoW'\n",
    "    ]\n",
    "else:\n",
    "    my_ranking = [\n",
    "        'GLO',\n",
    "        'RoW',\n",
    "    ]"
   ],
   "id": "b27bcbc91b924324",
   "outputs": [],
   "execution_count": 26
  },
  {
   "metadata": {},
   "cell_type": "markdown",
   "source": [
    "## Create a new database with additional CPC categories (optional)\n",
    "In case you are working with a LCI database without CPC categories, you can create a new database with the CPC categories. The function `create_new_database_with_CPC_categories` takes as input the database with missing CPC categories, the name of the new database, and a mapping between the products and activities in the LCI database and the CPC categories. It creates a new database with the CPC categories. This step can take a few minutes depending on the size of the database."
   ],
   "id": "93d4cc0ac977b2e1"
  },
  {
   "metadata": {
    "ExecuteTime": {
     "end_time": "2024-10-09T15:15:43.525133Z",
     "start_time": "2024-10-09T15:15:41.469534Z"
    }
   },
   "cell_type": "code",
   "source": [
    "# If necessary, add missing CPC categories to the database\n",
    "premise_db.add_CPC_categories()"
   ],
   "id": "4cd76ab14b74aed2",
   "outputs": [],
   "execution_count": 27
  },
  {
   "metadata": {},
   "cell_type": "markdown",
   "source": [
    "## Relink the mapping dataframe with another database (optional)\n",
    "In this example, we relink the current mapping, which is based on ecoinvent and some additional inventories, with a [premise](https://premise.readthedocs.io/en/latest/introduction.html) database. The function `create_complementary_database` takes as input the mapping dataframe, the database to link to, and the name of a newly created complementary database, in case some LCI datasets are missing in the LCI database we relink to. It returns a new mapping dataframe with the location column updated, and create the complementary database in the brightway project."
   ],
   "id": "d60be56459f80ff9"
  },
  {
   "metadata": {
    "ExecuteTime": {
     "end_time": "2024-10-09T15:15:43.539017Z",
     "start_time": "2024-10-09T15:15:43.535647Z"
    }
   },
   "cell_type": "code",
   "source": "name_premise_comp_db = name_premise_db + f'_comp_{esm_location}'",
   "id": "64d364d3117dff82",
   "outputs": [],
   "execution_count": 28
  },
  {
   "metadata": {
    "ExecuteTime": {
     "end_time": "2024-10-09T15:16:50.067997Z",
     "start_time": "2024-10-09T15:15:43.539017Z"
    }
   },
   "cell_type": "code",
   "source": [
    "mapping_linked_to_premise = premise_db.create_complementary_database(\n",
    "    df_mapping=mapping,\n",
    "    complement_db_name=name_premise_comp_db,\n",
    "    premise_changes=premise_changes,\n",
    ")"
   ],
   "id": "bf60f6a9c71fbc92",
   "outputs": [
    {
     "name": "stdout",
     "output_type": "stream",
     "text": [
      "Getting activity data\n"
     ]
    },
    {
     "name": "stderr",
     "output_type": "stream",
     "text": [
      "100%|██████████| 28471/28471 [00:00<00:00, 32765.08it/s]\n"
     ]
    },
    {
     "name": "stdout",
     "output_type": "stream",
     "text": [
      "Adding exchange data to activities\n"
     ]
    },
    {
     "name": "stderr",
     "output_type": "stream",
     "text": [
      "100%|██████████| 832966/832966 [00:42<00:00, 19524.05it/s]\n"
     ]
    },
    {
     "name": "stdout",
     "output_type": "stream",
     "text": [
      "Filling out exchange data\n"
     ]
    },
    {
     "name": "stderr",
     "output_type": "stream",
     "text": [
      "100%|██████████| 28471/28471 [00:03<00:00, 8187.49it/s] \n"
     ]
    },
    {
     "name": "stdout",
     "output_type": "stream",
     "text": [
      "Loaded ecoinvent_cutoff_3.9.1_remind_SSP2-Base_2020 from brightway!\n",
      "Getting activity data\n"
     ]
    },
    {
     "name": "stderr",
     "output_type": "stream",
     "text": [
      "100%|██████████| 939/939 [00:00<00:00, 92800.46it/s]\n"
     ]
    },
    {
     "name": "stdout",
     "output_type": "stream",
     "text": [
      "Adding exchange data to activities\n"
     ]
    },
    {
     "name": "stderr",
     "output_type": "stream",
     "text": [
      "100%|██████████| 30812/30812 [00:00<00:00, 39248.22it/s]\n"
     ]
    },
    {
     "name": "stdout",
     "output_type": "stream",
     "text": [
      "Filling out exchange data\n"
     ]
    },
    {
     "name": "stderr",
     "output_type": "stream",
     "text": [
      "100%|██████████| 939/939 [00:00<00:00, 1128.59it/s]\n"
     ]
    },
    {
     "name": "stdout",
     "output_type": "stream",
     "text": [
      "Loaded urban delivery_truck from brightway!\n",
      "Loaded ecoinvent-3.9.1-cutoff from pickle!\n",
      "Getting activity data\n"
     ]
    },
    {
     "name": "stderr",
     "output_type": "stream",
     "text": [
      "100%|██████████| 935/935 [00:00<00:00, 157168.73it/s]\n"
     ]
    },
    {
     "name": "stdout",
     "output_type": "stream",
     "text": [
      "Adding exchange data to activities\n"
     ]
    },
    {
     "name": "stderr",
     "output_type": "stream",
     "text": [
      "100%|██████████| 30702/30702 [00:00<00:00, 43502.03it/s]\n"
     ]
    },
    {
     "name": "stdout",
     "output_type": "stream",
     "text": [
      "Filling out exchange data\n"
     ]
    },
    {
     "name": "stderr",
     "output_type": "stream",
     "text": [
      "100%|██████████| 935/935 [00:00<00:00, 2325.32it/s]\n"
     ]
    },
    {
     "name": "stdout",
     "output_type": "stream",
     "text": [
      "Loaded regional delivery_truck from brightway!\n",
      "The complementary database did not have to be created\n"
     ]
    }
   ],
   "execution_count": 29
  },
  {
   "metadata": {
    "ExecuteTime": {
     "end_time": "2024-10-09T15:16:50.086070Z",
     "start_time": "2024-10-09T15:16:50.073008Z"
    }
   },
   "cell_type": "code",
   "source": [
    "if name_premise_db+f'_comp_{esm_location}' in bd.databases: # if the complementary database exists, load it and update it with CPC categories\n",
    "    premise_comp_db = Database(db_names=name_premise_db) # complementary database\n",
    "    premise_comp_db.add_CPC_categories() # if necessary, add CPC categories\n",
    "    main_db = premise_db + premise_comp_db # concatenate the two databases in one database object (without writing it)\n",
    "else:\n",
    "    main_db = premise_db"
   ],
   "id": "66592e2cfa79c290",
   "outputs": [],
   "execution_count": 30
  },
  {
   "metadata": {
    "ExecuteTime": {
     "end_time": "2024-10-09T15:16:50.107614Z",
     "start_time": "2024-10-09T15:16:50.088082Z"
    }
   },
   "cell_type": "code",
   "source": "mapping_linked_to_premise.head()",
   "id": "4eec0315e3d1b9b0",
   "outputs": [
    {
     "data": {
      "text/plain": [
       "                                Name          Type  \\\n",
       "0                                AFC  Construction   \n",
       "1                                AFC     Operation   \n",
       "2              ALKALINE_ELECTROLYSIS     Operation   \n",
       "3        ALKALINE_ELECTROLYSIS_PLANT  Construction   \n",
       "4  ALKALINE_ELECTROLYSIS_PLANT_DECOM  Construction   \n",
       "\n",
       "                                             Product  \\\n",
       "0  fuel cell system, 1 kWe, proton exchange membr...   \n",
       "1       electricity, from residential heating system   \n",
       "2                          hydrogen, gaseous, 20 bar   \n",
       "3          electrolyzer, 1MWe, AEC, Balance of Plant   \n",
       "4         used fuel cell balance of plant, 1MWe, AEC   \n",
       "\n",
       "                                            Activity Location  \\\n",
       "0  fuel cell system assembly, 1 kWe, proton excha...      GLO   \n",
       "1  electricity, residential, by conversion of hyd...       CH   \n",
       "2  hydrogen production, gaseous, 20 bar, from AEC...       CH   \n",
       "3  electrolyzer production, 1MWe, AEC, Balance of...      RER   \n",
       "4  treatment of fuel cell balance of plant, 1MWe,...      RER   \n",
       "\n",
       "                                            Database  \n",
       "0  ecoinvent_cutoff_3.9.1_image_SSP2-Base_2020+tr...  \n",
       "1  ecoinvent_cutoff_3.9.1_image_SSP2-Base_2020+tr...  \n",
       "2  ecoinvent_cutoff_3.9.1_image_SSP2-Base_2020+tr...  \n",
       "3  ecoinvent_cutoff_3.9.1_image_SSP2-Base_2020+tr...  \n",
       "4  ecoinvent_cutoff_3.9.1_image_SSP2-Base_2020+tr...  "
      ],
      "text/html": [
       "<div>\n",
       "<style scoped>\n",
       "    .dataframe tbody tr th:only-of-type {\n",
       "        vertical-align: middle;\n",
       "    }\n",
       "\n",
       "    .dataframe tbody tr th {\n",
       "        vertical-align: top;\n",
       "    }\n",
       "\n",
       "    .dataframe thead th {\n",
       "        text-align: right;\n",
       "    }\n",
       "</style>\n",
       "<table border=\"1\" class=\"dataframe\">\n",
       "  <thead>\n",
       "    <tr style=\"text-align: right;\">\n",
       "      <th></th>\n",
       "      <th>Name</th>\n",
       "      <th>Type</th>\n",
       "      <th>Product</th>\n",
       "      <th>Activity</th>\n",
       "      <th>Location</th>\n",
       "      <th>Database</th>\n",
       "    </tr>\n",
       "  </thead>\n",
       "  <tbody>\n",
       "    <tr>\n",
       "      <th>0</th>\n",
       "      <td>AFC</td>\n",
       "      <td>Construction</td>\n",
       "      <td>fuel cell system, 1 kWe, proton exchange membr...</td>\n",
       "      <td>fuel cell system assembly, 1 kWe, proton excha...</td>\n",
       "      <td>GLO</td>\n",
       "      <td>ecoinvent_cutoff_3.9.1_image_SSP2-Base_2020+tr...</td>\n",
       "    </tr>\n",
       "    <tr>\n",
       "      <th>1</th>\n",
       "      <td>AFC</td>\n",
       "      <td>Operation</td>\n",
       "      <td>electricity, from residential heating system</td>\n",
       "      <td>electricity, residential, by conversion of hyd...</td>\n",
       "      <td>CH</td>\n",
       "      <td>ecoinvent_cutoff_3.9.1_image_SSP2-Base_2020+tr...</td>\n",
       "    </tr>\n",
       "    <tr>\n",
       "      <th>2</th>\n",
       "      <td>ALKALINE_ELECTROLYSIS</td>\n",
       "      <td>Operation</td>\n",
       "      <td>hydrogen, gaseous, 20 bar</td>\n",
       "      <td>hydrogen production, gaseous, 20 bar, from AEC...</td>\n",
       "      <td>CH</td>\n",
       "      <td>ecoinvent_cutoff_3.9.1_image_SSP2-Base_2020+tr...</td>\n",
       "    </tr>\n",
       "    <tr>\n",
       "      <th>3</th>\n",
       "      <td>ALKALINE_ELECTROLYSIS_PLANT</td>\n",
       "      <td>Construction</td>\n",
       "      <td>electrolyzer, 1MWe, AEC, Balance of Plant</td>\n",
       "      <td>electrolyzer production, 1MWe, AEC, Balance of...</td>\n",
       "      <td>RER</td>\n",
       "      <td>ecoinvent_cutoff_3.9.1_image_SSP2-Base_2020+tr...</td>\n",
       "    </tr>\n",
       "    <tr>\n",
       "      <th>4</th>\n",
       "      <td>ALKALINE_ELECTROLYSIS_PLANT_DECOM</td>\n",
       "      <td>Construction</td>\n",
       "      <td>used fuel cell balance of plant, 1MWe, AEC</td>\n",
       "      <td>treatment of fuel cell balance of plant, 1MWe,...</td>\n",
       "      <td>RER</td>\n",
       "      <td>ecoinvent_cutoff_3.9.1_image_SSP2-Base_2020+tr...</td>\n",
       "    </tr>\n",
       "  </tbody>\n",
       "</table>\n",
       "</div>"
      ]
     },
     "execution_count": 31,
     "metadata": {},
     "output_type": "execute_result"
    }
   ],
   "execution_count": 31
  },
  {
   "metadata": {},
   "cell_type": "markdown",
   "source": "## Initialize the ESM database",
   "id": "c851693f8d9c7470"
  },
  {
   "metadata": {
    "ExecuteTime": {
     "end_time": "2024-10-09T15:16:50.123142Z",
     "start_time": "2024-10-09T15:16:50.111720Z"
    }
   },
   "cell_type": "code",
   "source": [
    "esm = ESM(\n",
    "    # Mandatory inputs\n",
    "    mapping=mapping_linked_to_premise,\n",
    "    unit_conversion=unit_conversion,\n",
    "    model=model,\n",
    "    mapping_esm_flows_to_CPC_cat=mapping_esm_flows_to_CPC,\n",
    "    main_database=main_db,\n",
    "    esm_db_name=esm_db_name,\n",
    "    \n",
    "    # Optional inputs\n",
    "    technology_compositions=technology_compositions,\n",
    "    tech_specifics=technology_specifics,\n",
    "    lifetime=lifetime,\n",
    "    efficiency=efficiency,\n",
    "    regionalize_foregrounds=regionalize_foregrounds,\n",
    "    accepted_locations=accepted_locations,\n",
    "    locations_ranking=my_ranking,\n",
    "    esm_location=esm_location,\n",
    "    spatialized_database=spatialized_database,\n",
    "    spatialized_biosphere_db=spatialized_biosphere_db,\n",
    "    results_path_file=f'results/energyscope_{esm_location}/{esm_year}/',\n",
    ")"
   ],
   "id": "1a94b922a1fff43",
   "outputs": [],
   "execution_count": 32
  },
  {
   "metadata": {
    "ExecuteTime": {
     "end_time": "2024-10-09T15:16:50.610583Z",
     "start_time": "2024-10-09T15:16:50.126167Z"
    }
   },
   "cell_type": "code",
   "source": "esm.check_inputs()",
   "id": "22b602d98c6ca04",
   "outputs": [
    {
     "name": "stdout",
     "output_type": "stream",
     "text": [
      "List of technologies or resources that are in the model file but not in the mapping file. Their impact scores will be set to the default value.\n",
      "\n",
      "--> ['CO2_E', 'DEC_RENOVATION', 'DHN_COGEN_WASTE_CC', 'DHN_RENOVATION', 'DIESEL_S', 'ELEC_S', 'GASOLINE_S', 'H2_NG_CCGT_CCS', 'HT_LT', 'IND_BOILER_WASTE_CC', 'IND_COGEN_WASTE_CC', 'LT_DEC_WH', 'LT_DHN_WH', 'NG_S', 'RES_GEO', 'RES_HYDRO', 'RES_SOLAR', 'RES_TIDAL', 'RES_WIND_OFFSHORE', 'RES_WIND_ONSHORE', 'STO_CO2', 'STO_DIE', 'STO_ELEC', 'STO_GASO', 'STO_H2', 'STO_NG']\n",
      "\n",
      "List of technologies or resources that are in the mapping file but not in the model file (this will not be a problem in the workflow).\n",
      "\n",
      "--> ['BATTERY', 'DEC_TH_STORAGE', 'DHN_TH_STORAGE', 'EHV_GRID', 'HV_GRID', 'HYDRO_STORAGE', 'LV_GRID', 'MV_GRID']\n",
      "\n",
      "List of technologies that are in the efficiency file but not in the mapping file (this will not be a problem in the workflow).\n",
      "\n",
      "--> ['H2_NG_CCGT_CCS', 'IND_BOILER_WASTE_CC']\n",
      "\n",
      "List of technologies that are in the tech_specifics file but not in the mapping file (this will not be a problem in the workflow).\n",
      "\n",
      "--> ['AEC_OG', 'MOB_FREIGHT_ELD', 'MOB_FREIGHT_LD', 'MOB_FREIGHT_MD', 'MOB_FREIGHT_SD', 'MOB_PRIVATE_ELD', 'MOB_PRIVATE_LD', 'MOB_PRIVATE_MD', 'MOB_PRIVATE_SD', 'MOB_PUBLIC_ELD', 'MOB_PUBLIC_LD', 'MOB_PUBLIC_MD', 'MOB_PUBLIC_SD', 'PEMEC_OG', 'SOEC_OG']\n",
      "\n"
     ]
    }
   ],
   "execution_count": 33
  },
  {
   "metadata": {},
   "cell_type": "markdown",
   "source": [
    "## Add or replace the location column based on a user-defined ranking (optional)\n",
    "Based on a user-defined ranking, the location column of the mapping dataframe can be updated. The function `change_location_mapping_file` takes as input the mapping dataframe, the user-defined ranking, and the base database. It returns the mapping dataframe with the location column updated."
   ],
   "id": "fdff9a72e4fbf70a"
  },
  {
   "metadata": {
    "ExecuteTime": {
     "end_time": "2024-10-09T15:16:56.477569Z",
     "start_time": "2024-10-09T15:16:50.613597Z"
    }
   },
   "cell_type": "code",
   "source": [
    "# Update mapping dataframe with better locations\n",
    "esm.change_location_mapping_file()"
   ],
   "id": "cb4951f2d751a738",
   "outputs": [],
   "execution_count": 34
  },
  {
   "metadata": {
    "ExecuteTime": {
     "end_time": "2024-10-09T15:16:56.491849Z",
     "start_time": "2024-10-09T15:16:56.480099Z"
    }
   },
   "cell_type": "code",
   "source": "esm.mapping.head() ",
   "id": "7e32ad69b357fc0e",
   "outputs": [
    {
     "data": {
      "text/plain": [
       "                                Name          Type  \\\n",
       "0                                AFC  Construction   \n",
       "1                                AFC     Operation   \n",
       "2              ALKALINE_ELECTROLYSIS     Operation   \n",
       "3        ALKALINE_ELECTROLYSIS_PLANT  Construction   \n",
       "4  ALKALINE_ELECTROLYSIS_PLANT_DECOM  Construction   \n",
       "\n",
       "                                             Product  \\\n",
       "0  fuel cell system, 1 kWe, proton exchange membr...   \n",
       "1       electricity, from residential heating system   \n",
       "2                          hydrogen, gaseous, 20 bar   \n",
       "3          electrolyzer, 1MWe, AEC, Balance of Plant   \n",
       "4         used fuel cell balance of plant, 1MWe, AEC   \n",
       "\n",
       "                                            Activity Location  \\\n",
       "0  fuel cell system assembly, 1 kWe, proton excha...      GLO   \n",
       "1  electricity, residential, by conversion of hyd...       CH   \n",
       "2  hydrogen production, gaseous, 20 bar, from AEC...      CAN   \n",
       "3  electrolyzer production, 1MWe, AEC, Balance of...      RER   \n",
       "4  treatment of fuel cell balance of plant, 1MWe,...      RER   \n",
       "\n",
       "                                            Database  \n",
       "0  ecoinvent_cutoff_3.9.1_image_SSP2-Base_2020+tr...  \n",
       "1  ecoinvent_cutoff_3.9.1_image_SSP2-Base_2020+tr...  \n",
       "2  ecoinvent_cutoff_3.9.1_image_SSP2-Base_2020+tr...  \n",
       "3  ecoinvent_cutoff_3.9.1_image_SSP2-Base_2020+tr...  \n",
       "4  ecoinvent_cutoff_3.9.1_image_SSP2-Base_2020+tr...  "
      ],
      "text/html": [
       "<div>\n",
       "<style scoped>\n",
       "    .dataframe tbody tr th:only-of-type {\n",
       "        vertical-align: middle;\n",
       "    }\n",
       "\n",
       "    .dataframe tbody tr th {\n",
       "        vertical-align: top;\n",
       "    }\n",
       "\n",
       "    .dataframe thead th {\n",
       "        text-align: right;\n",
       "    }\n",
       "</style>\n",
       "<table border=\"1\" class=\"dataframe\">\n",
       "  <thead>\n",
       "    <tr style=\"text-align: right;\">\n",
       "      <th></th>\n",
       "      <th>Name</th>\n",
       "      <th>Type</th>\n",
       "      <th>Product</th>\n",
       "      <th>Activity</th>\n",
       "      <th>Location</th>\n",
       "      <th>Database</th>\n",
       "    </tr>\n",
       "  </thead>\n",
       "  <tbody>\n",
       "    <tr>\n",
       "      <th>0</th>\n",
       "      <td>AFC</td>\n",
       "      <td>Construction</td>\n",
       "      <td>fuel cell system, 1 kWe, proton exchange membr...</td>\n",
       "      <td>fuel cell system assembly, 1 kWe, proton excha...</td>\n",
       "      <td>GLO</td>\n",
       "      <td>ecoinvent_cutoff_3.9.1_image_SSP2-Base_2020+tr...</td>\n",
       "    </tr>\n",
       "    <tr>\n",
       "      <th>1</th>\n",
       "      <td>AFC</td>\n",
       "      <td>Operation</td>\n",
       "      <td>electricity, from residential heating system</td>\n",
       "      <td>electricity, residential, by conversion of hyd...</td>\n",
       "      <td>CH</td>\n",
       "      <td>ecoinvent_cutoff_3.9.1_image_SSP2-Base_2020+tr...</td>\n",
       "    </tr>\n",
       "    <tr>\n",
       "      <th>2</th>\n",
       "      <td>ALKALINE_ELECTROLYSIS</td>\n",
       "      <td>Operation</td>\n",
       "      <td>hydrogen, gaseous, 20 bar</td>\n",
       "      <td>hydrogen production, gaseous, 20 bar, from AEC...</td>\n",
       "      <td>CAN</td>\n",
       "      <td>ecoinvent_cutoff_3.9.1_image_SSP2-Base_2020+tr...</td>\n",
       "    </tr>\n",
       "    <tr>\n",
       "      <th>3</th>\n",
       "      <td>ALKALINE_ELECTROLYSIS_PLANT</td>\n",
       "      <td>Construction</td>\n",
       "      <td>electrolyzer, 1MWe, AEC, Balance of Plant</td>\n",
       "      <td>electrolyzer production, 1MWe, AEC, Balance of...</td>\n",
       "      <td>RER</td>\n",
       "      <td>ecoinvent_cutoff_3.9.1_image_SSP2-Base_2020+tr...</td>\n",
       "    </tr>\n",
       "    <tr>\n",
       "      <th>4</th>\n",
       "      <td>ALKALINE_ELECTROLYSIS_PLANT_DECOM</td>\n",
       "      <td>Construction</td>\n",
       "      <td>used fuel cell balance of plant, 1MWe, AEC</td>\n",
       "      <td>treatment of fuel cell balance of plant, 1MWe,...</td>\n",
       "      <td>RER</td>\n",
       "      <td>ecoinvent_cutoff_3.9.1_image_SSP2-Base_2020+tr...</td>\n",
       "    </tr>\n",
       "  </tbody>\n",
       "</table>\n",
       "</div>"
      ]
     },
     "execution_count": 35,
     "metadata": {},
     "output_type": "execute_result"
    }
   ],
   "execution_count": 35
  },
  {
   "metadata": {
    "ExecuteTime": {
     "end_time": "2024-10-09T15:16:56.531807Z",
     "start_time": "2024-10-09T15:16:56.491849Z"
    }
   },
   "cell_type": "code",
   "source": [
    "# Save the relinked mapping file for later use\n",
    "esm.mapping.to_csv(f'../dev/energyscope_data/{esm_location}/mapping_{ecoinvent_version}_linked.csv', index=False)"
   ],
   "id": "898d88440af30c40",
   "outputs": [],
   "execution_count": 36
  },
  {
   "metadata": {},
   "cell_type": "markdown",
   "source": "## Create ESM database after double-counting removal, efficiency harmonization, and lifetime harmonization",
   "id": "4d25a01896041d53"
  },
  {
   "metadata": {
    "ExecuteTime": {
     "end_time": "2024-10-09T15:16:56.539781Z",
     "start_time": "2024-10-09T15:16:56.535318Z"
    }
   },
   "cell_type": "code",
   "source": [
    "# Load the relinked mapping file to skip the previous steps\n",
    "# mapping_linked_to_premise = pd.read_csv(f'../dev/energyscope_data/{esm_location}/mapping_{ecoinvent_version}_linked.csv')\n",
    "# esm.mapping = mapping_linked_to_premise"
   ],
   "id": "cc68b150d5c86746",
   "outputs": [],
   "execution_count": 37
  },
  {
   "metadata": {
    "ExecuteTime": {
     "end_time": "2024-10-09T15:28:20.113699Z",
     "start_time": "2024-10-09T15:16:56.543154Z"
    }
   },
   "cell_type": "code",
   "source": "esm.create_esm_database()",
   "id": "dcb433d280e724c4",
   "outputs": [
    {
     "name": "stdout",
     "output_type": "stream",
     "text": [
      "### Starting to add construction and resource activities database ###\n",
      "No location found in your ranking for waste polystyrene - market group for waste polystyrene\n",
      "--> Have to keep the initial location: Europe without Switzerland\n",
      "No location found in your ranking for waste polyvinylchloride - market group for waste polyvinylchloride\n",
      "--> Have to keep the initial location: Europe without Switzerland\n",
      "No location found in your ranking for waste plastic, mixture - market group for waste plastic, mixture\n",
      "--> Have to keep the initial location: Europe without Switzerland\n",
      "No location found in your ranking for waste polyethylene - market group for waste polyethylene\n",
      "--> Have to keep the initial location: Europe without Switzerland\n",
      "No location found in your ranking for waste glass - market group for waste glass\n",
      "--> Have to keep the initial location: RER\n",
      "No location found in your ranking for iridium - platinum group metal, extraction and refinery operations\n",
      "--> Have to keep the initial location: ZA\n",
      "### Construction and resource activities added to the database ###\n",
      "--> Time: 65.0 seconds\n",
      "### Starting to remove double-counted flows ###\n",
      "No location found in your ranking for aluminium, primary, ingot - aluminium, ingot, primary, import from Rest of Europe\n",
      "--> Have to keep the initial location: IAI Area, EU27 & EFTA\n",
      "No location found in your ranking for waste packaging paper - market group for waste packaging paper\n",
      "--> Have to keep the initial location: Europe without Switzerland\n",
      "No location found in your ranking for municipal solid waste - market group for municipal solid waste\n",
      "--> Have to keep the initial location: RER\n",
      "No location found in your ranking for waste paperboard - market group for waste paperboard\n",
      "--> Have to keep the initial location: RER\n",
      "### Double-counting removal done ###\n",
      "--> Time: 132.0 seconds\n",
      "### Starting to correct efficiency differences ###\n",
      "Warning: flow of type TRANSPORT_FUEL found for BUS_PROPANE_SD in efficiency file, but not in model file.\n",
      "Warning: flow of type TRANSPORT_FUEL found for CAR_PROPANE_ELD in efficiency file, but not in model file.\n",
      "Warning: flow of type TRANSPORT_FUEL found for CAR_PROPANE_LD in efficiency file, but not in model file.\n",
      "Warning: flow of type TRANSPORT_FUEL found for CAR_PROPANE_MD in efficiency file, but not in model file.\n",
      "Warning: flow of type TRANSPORT_FUEL found for CAR_PROPANE_SD in efficiency file, but not in model file.\n",
      "Warning: flow of type TRANSPORT_FUEL found for COACH_PROPANE_ELD in efficiency file, but not in model file.\n",
      "Warning: flow of type TRANSPORT_FUEL found for COACH_PROPANE_LD in efficiency file, but not in model file.\n",
      "Warning: flow of type TRANSPORT_FUEL found for COACH_PROPANE_MD in efficiency file, but not in model file.\n",
      "Warning: flow of type TRANSPORT_FUEL found for LCV_PROPANE_MD in efficiency file, but not in model file.\n",
      "Warning: flow of type TRANSPORT_FUEL found for LCV_PROPANE_SD in efficiency file, but not in model file.\n",
      "Warning: flow of type TRANSPORT_FUEL found for SCHOOLBUS_PROPANE_SD in efficiency file, but not in model file.\n",
      "Warning: flow of type TRANSPORT_FUEL found for SEMI_LH_PROPANE_ELD in efficiency file, but not in model file.\n",
      "Warning: flow of type TRANSPORT_FUEL found for SEMI_LH_PROPANE_LD in efficiency file, but not in model file.\n",
      "Warning: flow of type TRANSPORT_FUEL found for SEMI_SH_PROPANE_MD in efficiency file, but not in model file.\n",
      "Warning: flow of type TRANSPORT_FUEL found for SUV_PROPANE_ELD in efficiency file, but not in model file.\n",
      "Warning: flow of type TRANSPORT_FUEL found for SUV_PROPANE_LD in efficiency file, but not in model file.\n",
      "Warning: flow of type TRANSPORT_FUEL found for SUV_PROPANE_MD in efficiency file, but not in model file.\n",
      "Warning: flow of type TRANSPORT_FUEL found for SUV_PROPANE_SD in efficiency file, but not in model file.\n",
      "Warning: flow of type TRANSPORT_FUEL found for TRUCK_LH_PROPANE_LD in efficiency file, but not in model file.\n",
      "Warning: flow of type TRANSPORT_FUEL found for TRUCK_SH_PROPANE_MD in efficiency file, but not in model file.\n",
      "Warning: flow of type TRANSPORT_FUEL found for TRUCK_SH_PROPANE_SD in efficiency file, but not in model file.\n",
      "No flow found for type(s) ['WOOD'] in BIOGAS_ATR. The efficiency of this technology cannot be adjusted.\n",
      "No flow found for type(s) ['WOOD'] in BIOGAS_ATR_CCS. The efficiency of this technology cannot be adjusted.\n",
      "No flow found for type(s) ['WOOD'] in BIOGAS_SMR. The efficiency of this technology cannot be adjusted.\n",
      "No flow found for type(s) ['WOOD'] in BIOGAS_SMR_CCS. The efficiency of this technology cannot be adjusted.\n",
      "No flow found for type(s) ['NG_HP'] in CAR_FC_CH4_ELD. The efficiency of this technology cannot be adjusted.\n",
      "No flow found for type(s) ['NG_HP'] in CAR_FC_CH4_LD. The efficiency of this technology cannot be adjusted.\n",
      "No flow found for type(s) ['NG_HP'] in CAR_FC_CH4_MD. The efficiency of this technology cannot be adjusted.\n",
      "No flow found for type(s) ['NG_HP'] in CAR_FC_CH4_SD. The efficiency of this technology cannot be adjusted.\n",
      "No flow found for type(s) ['NG_HP'] in COACH_FC_CH4_ELD. The efficiency of this technology cannot be adjusted.\n",
      "No flow found for type(s) ['NG_HP'] in COACH_FC_CH4_LD. The efficiency of this technology cannot be adjusted.\n",
      "No flow found for type(s) ['NG_HP'] in COACH_FC_CH4_MD. The efficiency of this technology cannot be adjusted.\n",
      "No flow found for type(s) ['WASTE'] in DHN_COGEN_WASTE. The efficiency of this technology cannot be adjusted.\n",
      "No flow found for type(s) ['NG_MP'] in H2_NG_CCGT_CCS. The efficiency of this technology cannot be adjusted.\n",
      "No flow found for type(s) ['WASTE'] in IND_BOILER_WASTE. The efficiency of this technology cannot be adjusted.\n",
      "No flow found for type(s) ['WASTE'] in IND_BOILER_WASTE_CC. The efficiency of this technology cannot be adjusted.\n",
      "No flow found for type(s) ['NG_HP'] in LCV_FC_CH4_MD. The efficiency of this technology cannot be adjusted.\n",
      "No flow found for type(s) ['NG_HP'] in LCV_FC_CH4_SD. The efficiency of this technology cannot be adjusted.\n",
      "No flow found for type(s) ['WOOD'] in PYROLYSIS. The efficiency of this technology cannot be adjusted.\n",
      "No flow found for type(s) ['NG_HP'] in SCHOOLBUS_FC_CH4_SD. The efficiency of this technology cannot be adjusted.\n",
      "No flow found for type(s) ['NG_HP'] in SEMI_LH_FC_CH4_ELD. The efficiency of this technology cannot be adjusted.\n",
      "No flow found for type(s) ['NG_HP'] in SEMI_LH_FC_CH4_LD. The efficiency of this technology cannot be adjusted.\n",
      "No flow found for type(s) ['NG_HP'] in SEMI_SH_FC_CH4_MD. The efficiency of this technology cannot be adjusted.\n",
      "No flow found for type(s) ['NG_HP'] in SUV_FC_CH4_ELD. The efficiency of this technology cannot be adjusted.\n",
      "No flow found for type(s) ['NG_HP'] in SUV_FC_CH4_LD. The efficiency of this technology cannot be adjusted.\n",
      "No flow found for type(s) ['NG_HP'] in SUV_FC_CH4_MD. The efficiency of this technology cannot be adjusted.\n",
      "No flow found for type(s) ['NG_HP'] in SUV_FC_CH4_SD. The efficiency of this technology cannot be adjusted.\n",
      "No flow found for type(s) ['NG_HP'] in TRUCK_LH_FC_CH4_LD. The efficiency of this technology cannot be adjusted.\n",
      "No flow found for type(s) ['NG_HP'] in TRUCK_SH_FC_CH4_MD. The efficiency of this technology cannot be adjusted.\n",
      "No flow found for type(s) ['NG_HP'] in TRUCK_SH_FC_CH4_SD. The efficiency of this technology cannot be adjusted.\n",
      "Several names possible for the same type of flow in DEC_BOILER_WOOD: {'wood ash mixture', 'biomass'}. Kept the first one.\n",
      "Several names possible for the same type of flow in DEC_COGEN_WOOD: {'wood ash mixture', 'biomass'}. Kept the first one.\n",
      "Several names possible for the same type of flow in DHN_BOILER_WOOD: {'wood ash mixture', 'biomass'}. Kept the first one.\n",
      "Several names possible for the same type of flow in DHN_COGEN_WOOD: {'wood ash mixture', 'biomass'}. Kept the first one.\n",
      "Several names possible for the same type of flow in GASIFICATION_H2: {'wood ash mixture', 'wood chips'}. Kept the first one.\n",
      "Several names possible for the same type of flow in IND_BOILER_WOOD: {'wood ash mixture', 'biomass'}. Kept the first one.\n",
      "Several names possible for the same type of flow in IND_COGEN_WOOD: {'wood ash mixture', 'biomass'}. Kept the first one.\n",
      "No flow of type PROPANE has been removed in BUS_PROPANE_SD.\n",
      "No flow of type PROPANE has been removed in CAR_PROPANE_ELD.\n",
      "No flow of type PROPANE has been removed in CAR_PROPANE_LD.\n",
      "No flow of type PROPANE has been removed in CAR_PROPANE_MD.\n",
      "No flow of type PROPANE has been removed in CAR_PROPANE_SD.\n",
      "No flow of type PROPANE has been removed in COACH_PROPANE_ELD.\n",
      "No flow of type PROPANE has been removed in COACH_PROPANE_LD.\n",
      "No flow of type PROPANE has been removed in COACH_PROPANE_MD.\n",
      "No flow of type PROPANE has been removed in LCV_PROPANE_MD.\n",
      "No flow of type PROPANE has been removed in LCV_PROPANE_SD.\n",
      "No flow of type PROPANE has been removed in SCHOOLBUS_PROPANE_SD.\n",
      "No flow of type PROPANE has been removed in SEMI_LH_PROPANE_ELD.\n",
      "No flow of type PROPANE has been removed in SEMI_LH_PROPANE_LD.\n",
      "No flow of type PROPANE has been removed in SEMI_SH_PROPANE_MD.\n",
      "No flow of type PROPANE has been removed in SUV_PROPANE_ELD.\n",
      "No flow of type PROPANE has been removed in SUV_PROPANE_LD.\n",
      "No flow of type PROPANE has been removed in SUV_PROPANE_MD.\n",
      "No flow of type PROPANE has been removed in SUV_PROPANE_SD.\n",
      "No flow of type PROPANE has been removed in TRUCK_LH_PROPANE_LD.\n",
      "No flow of type PROPANE has been removed in TRUCK_SH_PROPANE_MD.\n",
      "No flow of type PROPANE has been removed in TRUCK_SH_PROPANE_SD.\n",
      "### Efficiency differences corrected ###\n",
      "--> Time: 16.0 seconds\n",
      "### Starting to write database ###\n"
     ]
    },
    {
     "name": "stderr",
     "output_type": "stream",
     "text": [
      "Writing activities to SQLite3 database:\n",
      "0% [##############################] 100% | ETA: 00:00:00\n",
      "Total time elapsed: 00:00:01\n"
     ]
    },
    {
     "name": "stdout",
     "output_type": "stream",
     "text": [
      "Title: Writing activities to SQLite3 database:\n",
      "  Started: 10/09/2024 11:23:21\n",
      "  Finished: 10/09/2024 11:23:22\n",
      "  Total time elapsed: 00:00:01\n",
      "  CPU %: 3.20\n",
      "  Memory %: 8.07\n",
      "### Database written ###\n",
      "--> Time: 369.0 seconds\n"
     ]
    }
   ],
   "execution_count": 38
  },
  {
   "metadata": {
    "ExecuteTime": {
     "end_time": "2024-10-09T15:28:20.181337Z",
     "start_time": "2024-10-09T15:28:20.136259Z"
    }
   },
   "cell_type": "code",
   "source": [
    "# Save the mapping file with new codes for later use\n",
    "esm.mapping.to_csv(f'../dev/energyscope_data/{esm_location}/mapping_{ecoinvent_version}_new_code.csv', index=False)"
   ],
   "id": "57e0331a7876b7bd",
   "outputs": [],
   "execution_count": 39
  },
  {
   "metadata": {},
   "cell_type": "markdown",
   "source": "## Computing the LCA metrics ",
   "id": "6b4cb46fb46fc271"
  },
  {
   "metadata": {
    "ExecuteTime": {
     "end_time": "2024-10-09T15:28:20.189103Z",
     "start_time": "2024-10-09T15:28:20.181337Z"
    }
   },
   "cell_type": "code",
   "source": [
    "# To skip the previous steps (if the mapping file with the new codes has already been created)\n",
    "# mapping_linked_to_premise_new_code = pd.read_csv(f'../dev/energyscope_data/{esm_location}/mapping_{ecoinvent_version}_new_code.csv')\n",
    "# esm.mapping = mapping_linked_to_premise_new_code"
   ],
   "id": "d26d9f21a511c539",
   "outputs": [],
   "execution_count": 40
  },
  {
   "metadata": {
    "ExecuteTime": {
     "end_time": "2024-10-09T15:42:42.334156Z",
     "start_time": "2024-10-09T15:28:20.191024Z"
    }
   },
   "cell_type": "code",
   "source": "R_long = esm.compute_impact_scores(methods=lcia_methods)",
   "id": "eec23a6fa77a5fb8",
   "outputs": [
    {
     "name": "stdout",
     "output_type": "stream",
     "text": [
      "Getting activity data\n"
     ]
    },
    {
     "name": "stderr",
     "output_type": "stream",
     "text": [
      "100%|██████████| 1159/1159 [00:00<00:00, 100201.97it/s]\n"
     ]
    },
    {
     "name": "stdout",
     "output_type": "stream",
     "text": [
      "Adding exchange data to activities\n"
     ]
    },
    {
     "name": "stderr",
     "output_type": "stream",
     "text": [
      "100%|██████████| 34255/34255 [00:01<00:00, 29404.39it/s]\n"
     ]
    },
    {
     "name": "stdout",
     "output_type": "stream",
     "text": [
      "Filling out exchange data\n"
     ]
    },
    {
     "name": "stderr",
     "output_type": "stream",
     "text": [
      "100%|██████████| 1159/1159 [00:04<00:00, 265.78it/s]\n"
     ]
    },
    {
     "name": "stdout",
     "output_type": "stream",
     "text": [
      "Loaded EnergyScope_CA-QC_2020 from brightway!\n"
     ]
    }
   ],
   "execution_count": 41
  },
  {
   "metadata": {
    "ExecuteTime": {
     "end_time": "2024-10-09T15:42:42.399326Z",
     "start_time": "2024-10-09T15:42:42.362776Z"
    }
   },
   "cell_type": "code",
   "source": "R_long.Value *= 1e6 # from FU / kW(h)-pkm-tkm to FU / GW(h)-Mpkm-Mtkm",
   "id": "e0cc31ee7f0e09d9",
   "outputs": [],
   "execution_count": 42
  },
  {
   "metadata": {
    "ExecuteTime": {
     "end_time": "2024-10-09T15:42:42.446142Z",
     "start_time": "2024-10-09T15:42:42.401580Z"
    }
   },
   "cell_type": "code",
   "source": "R_long.head()",
   "id": "ca731ef9eda9ba66",
   "outputs": [
    {
     "data": {
      "text/plain": [
       "                                     Impact_category  \\\n",
       "0  (IMPACT World+ Damage 2.0.1_regionalized, Ecos...   \n",
       "1  (IMPACT World+ Damage 2.0.1_regionalized, Ecos...   \n",
       "2  (IMPACT World+ Damage 2.0.1_regionalized, Huma...   \n",
       "3  (IMPACT World+ Damage 2.0.1_regionalized, Huma...   \n",
       "4  (IMPACT World+ Midpoint 2.0.1_regionalized, Mi...   \n",
       "\n",
       "                           New_code         Value Name          Type  \n",
       "0  0lu96hf3pt4h1xmy8r4lpmzdnwu3bhwe  3.642961e+09  AFC  Construction  \n",
       "1  0lu96hf3pt4h1xmy8r4lpmzdnwu3bhwe  1.171020e+09  AFC  Construction  \n",
       "2  0lu96hf3pt4h1xmy8r4lpmzdnwu3bhwe  1.658111e+04  AFC  Construction  \n",
       "3  0lu96hf3pt4h1xmy8r4lpmzdnwu3bhwe  5.411366e+03  AFC  Construction  \n",
       "4  0lu96hf3pt4h1xmy8r4lpmzdnwu3bhwe  6.206170e+09  AFC  Construction  "
      ],
      "text/html": [
       "<div>\n",
       "<style scoped>\n",
       "    .dataframe tbody tr th:only-of-type {\n",
       "        vertical-align: middle;\n",
       "    }\n",
       "\n",
       "    .dataframe tbody tr th {\n",
       "        vertical-align: top;\n",
       "    }\n",
       "\n",
       "    .dataframe thead th {\n",
       "        text-align: right;\n",
       "    }\n",
       "</style>\n",
       "<table border=\"1\" class=\"dataframe\">\n",
       "  <thead>\n",
       "    <tr style=\"text-align: right;\">\n",
       "      <th></th>\n",
       "      <th>Impact_category</th>\n",
       "      <th>New_code</th>\n",
       "      <th>Value</th>\n",
       "      <th>Name</th>\n",
       "      <th>Type</th>\n",
       "    </tr>\n",
       "  </thead>\n",
       "  <tbody>\n",
       "    <tr>\n",
       "      <th>0</th>\n",
       "      <td>(IMPACT World+ Damage 2.0.1_regionalized, Ecos...</td>\n",
       "      <td>0lu96hf3pt4h1xmy8r4lpmzdnwu3bhwe</td>\n",
       "      <td>3.642961e+09</td>\n",
       "      <td>AFC</td>\n",
       "      <td>Construction</td>\n",
       "    </tr>\n",
       "    <tr>\n",
       "      <th>1</th>\n",
       "      <td>(IMPACT World+ Damage 2.0.1_regionalized, Ecos...</td>\n",
       "      <td>0lu96hf3pt4h1xmy8r4lpmzdnwu3bhwe</td>\n",
       "      <td>1.171020e+09</td>\n",
       "      <td>AFC</td>\n",
       "      <td>Construction</td>\n",
       "    </tr>\n",
       "    <tr>\n",
       "      <th>2</th>\n",
       "      <td>(IMPACT World+ Damage 2.0.1_regionalized, Huma...</td>\n",
       "      <td>0lu96hf3pt4h1xmy8r4lpmzdnwu3bhwe</td>\n",
       "      <td>1.658111e+04</td>\n",
       "      <td>AFC</td>\n",
       "      <td>Construction</td>\n",
       "    </tr>\n",
       "    <tr>\n",
       "      <th>3</th>\n",
       "      <td>(IMPACT World+ Damage 2.0.1_regionalized, Huma...</td>\n",
       "      <td>0lu96hf3pt4h1xmy8r4lpmzdnwu3bhwe</td>\n",
       "      <td>5.411366e+03</td>\n",
       "      <td>AFC</td>\n",
       "      <td>Construction</td>\n",
       "    </tr>\n",
       "    <tr>\n",
       "      <th>4</th>\n",
       "      <td>(IMPACT World+ Midpoint 2.0.1_regionalized, Mi...</td>\n",
       "      <td>0lu96hf3pt4h1xmy8r4lpmzdnwu3bhwe</td>\n",
       "      <td>6.206170e+09</td>\n",
       "      <td>AFC</td>\n",
       "      <td>Construction</td>\n",
       "    </tr>\n",
       "  </tbody>\n",
       "</table>\n",
       "</div>"
      ]
     },
     "execution_count": 43,
     "metadata": {},
     "output_type": "execute_result"
    }
   ],
   "execution_count": 43
  },
  {
   "metadata": {
    "ExecuteTime": {
     "end_time": "2024-10-09T15:42:42.751104Z",
     "start_time": "2024-10-09T15:42:42.446142Z"
    }
   },
   "cell_type": "code",
   "source": "R_long.to_csv(f'results/energyscope_{esm_location}/{esm_year}/impact_scores.csv', index=False)",
   "id": "287129cdf4552801",
   "outputs": [],
   "execution_count": 44
  },
  {
   "metadata": {},
   "cell_type": "markdown",
   "source": "## Convert the results in an AMPL format",
   "id": "eced4286c9628abb"
  },
  {
   "metadata": {
    "ExecuteTime": {
     "end_time": "2024-10-09T15:42:42.760687Z",
     "start_time": "2024-10-09T15:42:42.752354Z"
    }
   },
   "cell_type": "code",
   "source": [
    "# To skip the previous steps\n",
    "# R_long = pd.read_csv(f'results/energyscope_{esm_location}/{esm_year}/impact_scores.csv')"
   ],
   "id": "34a01c8bb7ba33d7",
   "outputs": [],
   "execution_count": 45
  },
  {
   "metadata": {
    "ExecuteTime": {
     "end_time": "2024-10-09T15:42:42.769611Z",
     "start_time": "2024-10-09T15:42:42.760687Z"
    }
   },
   "cell_type": "code",
   "source": "lcia_method = 'IMPACT World+ Damage 2.0.1_regionalized - Total only'",
   "id": "6d4128137d2a0b5e",
   "outputs": [],
   "execution_count": 46
  },
  {
   "metadata": {
    "ExecuteTime": {
     "end_time": "2024-10-09T15:42:42.780272Z",
     "start_time": "2024-10-09T15:42:42.771692Z"
    }
   },
   "cell_type": "code",
   "source": [
    "# Additional information that can be added at the beginning of the AMPL .mod and .dat files\n",
    "metadata = {\n",
    "    'ecoinvent_version': ecoinvent_version,\n",
    "    'year': esm_year,\n",
    "    'spatialized': spatialized_database,\n",
    "    'regionalized': regionalize_foregrounds,\n",
    "    'iam': premise_iam,\n",
    "    'ssp_rcp': premise_ssp_rcp,\n",
    "    'lcia_method': lcia_method,\n",
    "}"
   ],
   "id": "5a63cc009a68125f",
   "outputs": [],
   "execution_count": 47
  },
  {
   "metadata": {},
   "cell_type": "markdown",
   "source": "### Normalize LCA indicators and create the .dat file",
   "id": "d3b36a88c73fce21"
  },
  {
   "metadata": {
    "ExecuteTime": {
     "end_time": "2024-10-09T15:42:42.949121Z",
     "start_time": "2024-10-09T15:42:42.780272Z"
    }
   },
   "cell_type": "code",
   "source": [
    "esm.normalize_lca_metrics(\n",
    "    R=R_long,\n",
    "    mip_gap=1e-6,\n",
    "    lcia_method=lcia_method,\n",
    "    impact_abbrev=impact_abbrev,\n",
    "    path=f'results/energyscope_{esm_location}/{esm_year}/',\n",
    "    metadata=metadata,\n",
    ")"
   ],
   "id": "dd3b491c4e3d8ebb",
   "outputs": [],
   "execution_count": 48
  },
  {
   "metadata": {},
   "cell_type": "markdown",
   "source": "### Create the .mod file",
   "id": "66b13911bb933dc5"
  },
  {
   "metadata": {
    "ExecuteTime": {
     "end_time": "2024-10-09T15:42:42.965673Z",
     "start_time": "2024-10-09T15:42:42.951561Z"
    }
   },
   "cell_type": "code",
   "source": [
    "esm.generate_mod_file_ampl(\n",
    "    lcia_method=lcia_method,\n",
    "    impact_abbrev=impact_abbrev,\n",
    "    path=f'results/energyscope_{esm_location}/{esm_year}/',\n",
    "    metadata=metadata,\n",
    ")"
   ],
   "id": "d481ec84345d14d0",
   "outputs": [],
   "execution_count": 49
  },
  {
   "metadata": {},
   "cell_type": "markdown",
   "source": "## Integrate the ESM results back in the LCI database",
   "id": "9851a5bde60e6e51"
  },
  {
   "metadata": {
    "ExecuteTime": {
     "end_time": "2024-10-09T15:43:58.857786Z",
     "start_time": "2024-10-09T15:42:42.969725Z"
    }
   },
   "cell_type": "code",
   "source": [
    "esm.create_new_database_with_esm_results(\n",
    "    esm_results=results_from_esm,\n",
    "    new_end_use_types=new_end_use_types,\n",
    "    tech_to_remove_layers=technologies_to_remove_from_layers,\n",
    "    write_database=False,\n",
    ")"
   ],
   "id": "4db9f93112cd4be8",
   "outputs": [
    {
     "name": "stdout",
     "output_type": "stream",
     "text": [
      "No location found in your ranking for hard coal - hard coal, import from RNA\n",
      "--> Have to keep the initial location: IN\n",
      "No location found in your ranking for hard coal - hard coal, import from ZA\n",
      "--> Have to keep the initial location: IN\n",
      "No location found in your ranking for hard coal - hard coal, import from RU\n",
      "--> Have to keep the initial location: IN\n",
      "No location found in your ranking for ethanol, from eucalyptus - ethanol production, via fermentation, from eucalyptus\n",
      "--> Have to keep the initial location: INDIA\n",
      "The technology DHN_RENOVATION is not in the mapping file. It cannot be considered in the result LCI dataset.\n",
      "No location found in your ranking for kerosene - kerosene, import from RoW\n",
      "--> Have to keep the initial location: ZA\n",
      "No location found in your ranking for natural gas, high pressure - evaporation of natural gas\n",
      "--> Have to keep the initial location: JP\n"
     ]
    }
   ],
   "execution_count": 50
  }
 ],
 "metadata": {
  "kernelspec": {
   "display_name": "Python 3",
   "language": "python",
   "name": "python3"
  },
  "language_info": {
   "codemirror_mode": {
    "name": "ipython",
    "version": 2
   },
   "file_extension": ".py",
   "mimetype": "text/x-python",
   "name": "python",
   "nbconvert_exporter": "python",
   "pygments_lexer": "ipython2",
   "version": "2.7.6"
  }
 },
 "nbformat": 4,
 "nbformat_minor": 5
}
