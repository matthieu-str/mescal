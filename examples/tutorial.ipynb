{
 "cells": [
  {
   "metadata": {},
   "cell_type": "markdown",
   "source": [
    "# Tutorial on how to use mescal\n",
    "*mescal* is a [Brightway](https://docs.brightway.dev/en/latest/)-powered Python package that helps you to integrate Life-Cycle Assessment (LCA) in your energy system model"
   ],
   "id": "bac3505a5afe8971"
  },
  {
   "metadata": {},
   "cell_type": "markdown",
   "source": "## Set up",
   "id": "7c15eb9c8df668d6"
  },
  {
   "metadata": {
    "ExecuteTime": {
     "end_time": "2024-06-27T20:07:02.498749Z",
     "start_time": "2024-06-27T20:06:57.585029Z"
    }
   },
   "cell_type": "code",
   "source": [
    "# Import the required libraries\n",
    "from mescal import *\n",
    "import pandas as pd\n",
    "import bw2data as bd"
   ],
   "id": "ad6977f1e798f1ba",
   "outputs": [],
   "execution_count": 1
  },
  {
   "metadata": {
    "ExecuteTime": {
     "end_time": "2024-06-27T20:07:02.601688Z",
     "start_time": "2024-06-27T20:07:02.498749Z"
    }
   },
   "cell_type": "code",
   "source": [
    "# Set up your Brightway project\n",
    "bd.projects.set_current('ei3.8-mescal') # put the name of your brightway project here"
   ],
   "id": "54ea776e842fae31",
   "outputs": [],
   "execution_count": 2
  },
  {
   "metadata": {},
   "cell_type": "markdown",
   "source": [
    "## Your data\n",
    "For mescal to understand the structure of your energy system model, you need to provide it with a set of dataframes."
   ],
   "id": "8325f04c8e08b23f"
  },
  {
   "metadata": {},
   "cell_type": "markdown",
   "source": "### Mandatory dataframes",
   "id": "313875e4236bc644"
  },
  {
   "metadata": {
    "ExecuteTime": {
     "end_time": "2024-06-27T20:07:02.624792Z",
     "start_time": "2024-06-27T20:07:02.601688Z"
    }
   },
   "cell_type": "code",
   "source": [
    "mapping = pd.read_csv('../dev/energyscope_data/mapping.csv')\n",
    "unit_conversion = pd.read_csv('../dev/energyscope_data/unit_conversion.csv')\n",
    "mapping_esm_flows_to_CPC = pd.read_csv('../dev/energyscope_data/mapping_esm_flows_to_CPC.csv')\n",
    "model = pd.read_csv('../dev/energyscope_data/model.csv')"
   ],
   "id": "6890050f93afe1d1",
   "outputs": [],
   "execution_count": 3
  },
  {
   "metadata": {},
   "cell_type": "markdown",
   "source": [
    "A mapping between the energy technologies and resources of the energy system model, and Life-Cycle Inventories datasets (LCI) from an LCI database (e.g., ecoinvent). The mapping should be provided in a dataframe with the following columns:\n",
    "- `Name`: the name of the energy technology or resource in the energy model \n",
    "- `Type`: the type of the energy technology or resource (i.e., 'Construction', 'Operation', or 'Resource')  \n",
    "- `Product`: the name of the product of the energy technology or resource in the LCI database\n",
    "- `Activity`: the name of the activity of the energy technology or resource in the LCI database\n",
    "- `Location`: the name of the region of the energy technology or resource in the LCI database\n",
    "- `Unit`: (optional) the physical unit of the energy technology or resource in the LCI database\n",
    "- `Database`: the name of the database in your brightway project"
   ],
   "id": "29846070143e8b95"
  },
  {
   "metadata": {
    "ExecuteTime": {
     "end_time": "2024-06-25T21:18:36.032728Z",
     "start_time": "2024-06-25T21:18:36.011163Z"
    }
   },
   "cell_type": "code",
   "source": "mapping.head()",
   "id": "642b5fe1b99a6f7f",
   "execution_count": 4,
   "outputs": []
  },
  {
   "metadata": {},
   "cell_type": "markdown",
   "source": [
    "A set of unit conversion factors between the energy system model and the LCI database. The conversion factors should be provided in a dataframe with the following columns:\n",
    "- `Name`: the name of the energy technology or resource in the energy model \n",
    "- `Type`: the type of the energy technology or resource (i.e., 'Construction', 'Operation', or 'Resource')\n",
    "- `Value`: the numerical value of the conversion factor\n",
    "- `From`: the unit of the energy technology or resource to be converted\n",
    "- `To`: the target unit of the energy technology or resource"
   ],
   "id": "c63431e4a57bb29f"
  },
  {
   "metadata": {
    "ExecuteTime": {
     "end_time": "2024-06-25T21:18:36.046245Z",
     "start_time": "2024-06-25T21:18:36.032728Z"
    }
   },
   "cell_type": "code",
   "source": "unit_conversion.head()",
   "id": "40412ea78d6dc8af",
   "execution_count": 5,
   "outputs": []
  },
  {
   "metadata": {},
   "cell_type": "markdown",
   "source": [
    "A mapping between the energy model flows and CPC categories. The list of products should at least encompass the list of technologies without a CPC category within your mapping and their foreground inventory. The mapping should be provided in a dataframe with the following columns:\n",
    "- `Product`: the name of the product in the LCI database\n",
    "- `Description`: (optional) the description of the product\n",
    "- `CPC`: the list of names of corresponding CPC categories"
   ],
   "id": "b873476e1c532db4"
  },
  {
   "metadata": {
    "ExecuteTime": {
     "end_time": "2024-06-25T21:18:36.057768Z",
     "start_time": "2024-06-25T21:18:36.046245Z"
    }
   },
   "cell_type": "code",
   "source": "mapping_esm_flows_to_CPC.head()",
   "id": "7254119105672bd2",
   "execution_count": 6,
   "outputs": []
  },
  {
   "metadata": {},
   "cell_type": "markdown",
   "source": [
    "The input and output flows if energy technologies. It should be provided in a dataframe with the following columns:\n",
    "- `Name`: the name of the energy technology in the energy model\n",
    "- `Flow`: the name of the input or output flow\n",
    "- `Amount`: the numerical value of the flow (negative if input, positive if output)  "
   ],
   "id": "639bfa05b6354e4b"
  },
  {
   "metadata": {
    "ExecuteTime": {
     "end_time": "2024-06-25T21:18:36.068048Z",
     "start_time": "2024-06-25T21:18:36.057768Z"
    }
   },
   "cell_type": "code",
   "source": "model.head()",
   "id": "176d23eb6579c212",
   "execution_count": 7,
   "outputs": []
  },
  {
   "metadata": {},
   "cell_type": "markdown",
   "source": "### Optional dataframes",
   "id": "48478041736e84c0"
  },
  {
   "metadata": {
    "ExecuteTime": {
     "end_time": "2024-06-27T20:07:05.396262Z",
     "start_time": "2024-06-27T20:07:05.369831Z"
    }
   },
   "cell_type": "code",
   "source": [
    "technology_compositions = pd.read_csv('../dev/energyscope_data/technology_compositions.csv')\n",
    "technology_specifics = pd.read_csv('../dev/energyscope_data/technology_specifics.csv') \n",
    "lifetime = pd.read_csv('../dev/energyscope_data/lifetime.csv')\n",
    "mapping_product_to_CPC = pd.read_csv('../dev/data/mapping_product_to_CPC.csv')\n",
    "impact_abbrev = pd.read_csv('../dev/IW+/impact_abbrev.csv')\n",
    "technologies_to_remove_from_layers = pd.read_csv('../dev/energyscope_data/technologies_to_remove_from_layers.csv')\n",
    "new_end_use_types = pd.read_csv('../dev/energyscope_data/new_end_use_types.csv')"
   ],
   "id": "dd4f202b4dbb9052",
   "outputs": [],
   "execution_count": 4
  },
  {
   "metadata": {},
   "cell_type": "markdown",
   "source": [
    "A set of composition of technologies, i.e., if one technology or resource in the energy model should be represented by a combination of LCI datasets. The composition should be provided in a dataframe with the following columns:\n",
    "- `Name`: the name of the main energy technology or resource in the energy model \n",
    "- `Components`: the list of names of subcomponents"
   ],
   "id": "eee94b00d44a2efa"
  },
  {
   "metadata": {
    "ExecuteTime": {
     "end_time": "2024-06-25T21:18:36.719756Z",
     "start_time": "2024-06-25T21:18:36.707177Z"
    }
   },
   "cell_type": "code",
   "source": "technology_compositions.head()",
   "id": "de810a82e99b68e",
   "execution_count": 9,
   "outputs": []
  },
  {
   "metadata": {},
   "cell_type": "markdown",
   "source": [
    "A set of technologies with specific requirements. For instance, this stands for energy technologies without a construction phase, mobility technologies (if mismatch fuel in the LCI dataset), bioprocesses (if mismatch fuel in the LCI dataset). The requirements should be provided in a dataframe with the following columns:\n",
    "- `Name`: the name of the energy technology in the energy model\n",
    "- `Specifics`: the list of requirements  \n",
    "- `Amount`: the numerical value of the requirement (if relevant)"
   ],
   "id": "7bdd1fc2ddf77780"
  },
  {
   "metadata": {
    "ExecuteTime": {
     "end_time": "2024-06-25T21:18:38.468165Z",
     "start_time": "2024-06-25T21:18:38.456596Z"
    }
   },
   "cell_type": "code",
   "source": "technology_specifics.head()",
   "id": "6424ff1019091799",
   "execution_count": 10,
   "outputs": []
  },
  {
   "metadata": {},
   "cell_type": "markdown",
   "source": [
    "Energy technologies lifetimes in the ESM and the LCI database. The lifetimes should be provided in a dataframe with the following columns:\n",
    "- `Name`: the name of the energy technology in the energy model\n",
    "- `ESM`: the numerical value of the lifetime in the energy system model (if relevant)\n",
    "- `LCA`: the numerical value of the lifetime in the LCI database (if relevant)"
   ],
   "id": "326561ead79cf4c9"
  },
  {
   "metadata": {
    "ExecuteTime": {
     "end_time": "2024-06-25T21:18:39.096911Z",
     "start_time": "2024-06-25T21:18:39.073265Z"
    }
   },
   "cell_type": "code",
   "source": "lifetime.head()",
   "id": "e268fad4190c4c8a",
   "execution_count": 11,
   "outputs": []
  },
  {
   "metadata": {},
   "cell_type": "markdown",
   "source": [
    "In case you have a LCI database without CPC categories (which are necessary for the double-counting check), you can provide a mapping between the products and activities in the LCI database and the CPC categories. The mapping should be provided in a dataframe with the following columns:\n",
    "- `Name`: the (partial) name of the product or activity in the LCI database\n",
    "- `CPC`: the number and name of the corresponding CPC category\n",
    "- `Search type`: whether the `Name` entry is an exactly the name to look for, or is contained in the full name\n",
    "- `Where`: whether the `Name` entry is meant for products or activities"
   ],
   "id": "330ee60ba864372a"
  },
  {
   "metadata": {
    "ExecuteTime": {
     "end_time": "2024-06-25T21:18:40.578335Z",
     "start_time": "2024-06-25T21:18:40.556867Z"
    }
   },
   "cell_type": "code",
   "source": "mapping_product_to_CPC.head()",
   "id": "253e3eafb347c0af",
   "execution_count": 12,
   "outputs": []
  },
  {
   "metadata": {},
   "cell_type": "markdown",
   "source": [
    "An abbreviation scheme for the impact categories you aim to work with, to ease the readability in the ESM. The abbreviations should be provided in a dataframe with the following columns:\n",
    "- `Impact_category`: the name of the impact category, expressed as a tuple following brightway convention\n",
    "- `Unit`: (optional) the unit of the impact category\n",
    "- `Abbrev`: the abbreviation of the impact category\n",
    "- `AoP`: the area of protection of the impact category"
   ],
   "id": "b5da46d185c9766f"
  },
  {
   "metadata": {
    "ExecuteTime": {
     "end_time": "2024-06-25T21:18:41.552305Z",
     "start_time": "2024-06-25T21:18:41.537375Z"
    }
   },
   "cell_type": "code",
   "source": "impact_abbrev.head()",
   "id": "a3da253e1403384a",
   "execution_count": 13,
   "outputs": []
  },
  {
   "metadata": {},
   "cell_type": "markdown",
   "source": [
    "In case you want to remove some energy technologies from energy layers in the results LCI datasets to be added to the LCI database, you can provide a list of technologies to remove. The list should be provided in a dataframe with the following columns:\n",
    "- `Layers`: name of the layer(s). A layer is basically an energy vector, which is an output for some energy technologies and an input for some others. \n",
    "- `Technologies`: the name of the energy technology to remove from the layer(s)\n",
    "- `Comment`: (optional) a comment on the removal"
   ],
   "id": "eb16bb1f7309ca37"
  },
  {
   "metadata": {
    "ExecuteTime": {
     "end_time": "2024-06-27T20:07:12.157477Z",
     "start_time": "2024-06-27T20:07:12.136515Z"
    }
   },
   "cell_type": "code",
   "source": "technologies_to_remove_from_layers.head()",
   "id": "846d3b9a433837cb",
   "outputs": [
    {
     "data": {
      "text/plain": [
       "                                  Layers  \\\n",
       "0  ['ELECTRICITY_EHV', 'ELECTRICITY_HV']   \n",
       "1                     ['ELECTRICITY_LV']   \n",
       "2                    ['NG_HP', 'NG_EHP']   \n",
       "3  ['H2_LP', 'H2_MP', 'H2_HP', 'H2_EHP']   \n",
       "4      ['HEAT_HIGH_T', 'HEAT_LOW_T_DHN']   \n",
       "\n",
       "                                        Technologies  \\\n",
       "0                            ['TRAFO_HE','TRAFO_EH']   \n",
       "1                                       ['STO_ELEC']   \n",
       "2  ['NG_EXP_EH', 'NG_EXP_EH_COGEN', 'NG_COMP_HE',...   \n",
       "3  ['H2_COMP_HE', 'H2_COMP_MH', 'H2_COMP_LM', 'H2...   \n",
       "4                                          ['HT_LT']   \n",
       "\n",
       "                                             Comment  \n",
       "0  The high and extra high voltage electricity ar...  \n",
       "1  The storage technologies should be removed (pr...  \n",
       "2  The high and extra high pressure natural gas a...  \n",
       "3  All pressure levels for hydrogen are merged in...  \n",
       "4  The high and low heat production at the DHN le...  "
      ],
      "text/html": [
       "<div>\n",
       "<style scoped>\n",
       "    .dataframe tbody tr th:only-of-type {\n",
       "        vertical-align: middle;\n",
       "    }\n",
       "\n",
       "    .dataframe tbody tr th {\n",
       "        vertical-align: top;\n",
       "    }\n",
       "\n",
       "    .dataframe thead th {\n",
       "        text-align: right;\n",
       "    }\n",
       "</style>\n",
       "<table border=\"1\" class=\"dataframe\">\n",
       "  <thead>\n",
       "    <tr style=\"text-align: right;\">\n",
       "      <th></th>\n",
       "      <th>Layers</th>\n",
       "      <th>Technologies</th>\n",
       "      <th>Comment</th>\n",
       "    </tr>\n",
       "  </thead>\n",
       "  <tbody>\n",
       "    <tr>\n",
       "      <th>0</th>\n",
       "      <td>['ELECTRICITY_EHV', 'ELECTRICITY_HV']</td>\n",
       "      <td>['TRAFO_HE','TRAFO_EH']</td>\n",
       "      <td>The high and extra high voltage electricity ar...</td>\n",
       "    </tr>\n",
       "    <tr>\n",
       "      <th>1</th>\n",
       "      <td>['ELECTRICITY_LV']</td>\n",
       "      <td>['STO_ELEC']</td>\n",
       "      <td>The storage technologies should be removed (pr...</td>\n",
       "    </tr>\n",
       "    <tr>\n",
       "      <th>2</th>\n",
       "      <td>['NG_HP', 'NG_EHP']</td>\n",
       "      <td>['NG_EXP_EH', 'NG_EXP_EH_COGEN', 'NG_COMP_HE',...</td>\n",
       "      <td>The high and extra high pressure natural gas a...</td>\n",
       "    </tr>\n",
       "    <tr>\n",
       "      <th>3</th>\n",
       "      <td>['H2_LP', 'H2_MP', 'H2_HP', 'H2_EHP']</td>\n",
       "      <td>['H2_COMP_HE', 'H2_COMP_MH', 'H2_COMP_LM', 'H2...</td>\n",
       "      <td>All pressure levels for hydrogen are merged in...</td>\n",
       "    </tr>\n",
       "    <tr>\n",
       "      <th>4</th>\n",
       "      <td>['HEAT_HIGH_T', 'HEAT_LOW_T_DHN']</td>\n",
       "      <td>['HT_LT']</td>\n",
       "      <td>The high and low heat production at the DHN le...</td>\n",
       "    </tr>\n",
       "  </tbody>\n",
       "</table>\n",
       "</div>"
      ]
     },
     "execution_count": 5,
     "metadata": {},
     "output_type": "execute_result"
    }
   ],
   "execution_count": 5
  },
  {
   "metadata": {},
   "cell_type": "markdown",
   "source": [
    "If you want to reformat your end-use types (e.g., output layer) in order to better fit the LCI database, you can provide a list of new end-use types. The list should be provided in a dataframe with the following columns:\n",
    "- `Name`: name of technologies for which the end-use type should be changed\n",
    "- `Search type`: whether the `Name` entry is an exactly the name to look for (`equals`), is contained in the full name (`contains`), or is the beginning of the full name (`startswith`)\n",
    "- `Old`: the current end-use type\n",
    "- `New`: the new end-use type"
   ],
   "id": "c1f82852ad4b7e07"
  },
  {
   "metadata": {
    "ExecuteTime": {
     "end_time": "2024-06-27T20:07:22.884825Z",
     "start_time": "2024-06-27T20:07:22.876755Z"
    }
   },
   "cell_type": "code",
   "source": "new_end_use_types.head()",
   "id": "f6634cc71a6b13d",
   "outputs": [
    {
     "data": {
      "text/plain": [
       "        Name Search type          Old                   New\n",
       "0        BUS  startswith   MOB_PUBLIC        MOB_PUBLIC_BUS\n",
       "1  SCHOOLBUS  startswith   MOB_PUBLIC  MOB_PUBLIC_SCHOOLBUS\n",
       "2      COACH  startswith   MOB_PUBLIC      MOB_PUBLIC_COACH\n",
       "3      TRAIN  startswith   MOB_PUBLIC      MOB_PUBLIC_TRAIN\n",
       "4        CAR  startswith  MOB_PRIVATE       MOB_PRIVATE_CAR"
      ],
      "text/html": [
       "<div>\n",
       "<style scoped>\n",
       "    .dataframe tbody tr th:only-of-type {\n",
       "        vertical-align: middle;\n",
       "    }\n",
       "\n",
       "    .dataframe tbody tr th {\n",
       "        vertical-align: top;\n",
       "    }\n",
       "\n",
       "    .dataframe thead th {\n",
       "        text-align: right;\n",
       "    }\n",
       "</style>\n",
       "<table border=\"1\" class=\"dataframe\">\n",
       "  <thead>\n",
       "    <tr style=\"text-align: right;\">\n",
       "      <th></th>\n",
       "      <th>Name</th>\n",
       "      <th>Search type</th>\n",
       "      <th>Old</th>\n",
       "      <th>New</th>\n",
       "    </tr>\n",
       "  </thead>\n",
       "  <tbody>\n",
       "    <tr>\n",
       "      <th>0</th>\n",
       "      <td>BUS</td>\n",
       "      <td>startswith</td>\n",
       "      <td>MOB_PUBLIC</td>\n",
       "      <td>MOB_PUBLIC_BUS</td>\n",
       "    </tr>\n",
       "    <tr>\n",
       "      <th>1</th>\n",
       "      <td>SCHOOLBUS</td>\n",
       "      <td>startswith</td>\n",
       "      <td>MOB_PUBLIC</td>\n",
       "      <td>MOB_PUBLIC_SCHOOLBUS</td>\n",
       "    </tr>\n",
       "    <tr>\n",
       "      <th>2</th>\n",
       "      <td>COACH</td>\n",
       "      <td>startswith</td>\n",
       "      <td>MOB_PUBLIC</td>\n",
       "      <td>MOB_PUBLIC_COACH</td>\n",
       "    </tr>\n",
       "    <tr>\n",
       "      <th>3</th>\n",
       "      <td>TRAIN</td>\n",
       "      <td>startswith</td>\n",
       "      <td>MOB_PUBLIC</td>\n",
       "      <td>MOB_PUBLIC_TRAIN</td>\n",
       "    </tr>\n",
       "    <tr>\n",
       "      <th>4</th>\n",
       "      <td>CAR</td>\n",
       "      <td>startswith</td>\n",
       "      <td>MOB_PRIVATE</td>\n",
       "      <td>MOB_PRIVATE_CAR</td>\n",
       "    </tr>\n",
       "  </tbody>\n",
       "</table>\n",
       "</div>"
      ]
     },
     "execution_count": 6,
     "metadata": {},
     "output_type": "execute_result"
    }
   ],
   "execution_count": 6
  },
  {
   "metadata": {},
   "cell_type": "markdown",
   "source": [
    "## Create a new database with additional CPC categories (optional)\n",
    "In case you are working with a LCI database without CPC categories, you can create a new database with the CPC categories. The function `create_new_database_with_CPC_categories` takes as input the database with missing CPC categories, the name of the new database, and a mapping between the products and activities in the LCI database and the CPC categories. It creates a new database with the CPC categories. This step can take a few minutes depending on the size of the database."
   ],
   "id": "93d4cc0ac977b2e1"
  },
  {
   "metadata": {
    "ExecuteTime": {
     "end_time": "2024-06-27T19:12:49.642973Z",
     "start_time": "2024-06-27T19:12:49.629524Z"
    }
   },
   "cell_type": "code",
   "source": [
    "name_premise_db = \"ecoinvent_cutoff_3.8_remind_SSP2-Base_2020\"\n",
    "name_premise_with_CPC_db = name_premise_db + '_with_CPC'"
   ],
   "id": "5ae4be2770b3170d",
   "outputs": [],
   "execution_count": 6
  },
  {
   "metadata": {
    "ExecuteTime": {
     "end_time": "2024-06-26T19:54:37.448231Z",
     "start_time": "2024-06-26T19:54:32.923029Z"
    }
   },
   "cell_type": "code",
   "source": "premise_db = load_extract_db(name_premise_db)",
   "id": "d62073607c67af57",
   "outputs": [],
   "execution_count": 6
  },
  {
   "metadata": {
    "ExecuteTime": {
     "end_time": "2024-06-25T13:14:41.108771Z",
     "start_time": "2024-06-25T13:09:38.521539Z"
    }
   },
   "cell_type": "code",
   "source": "create_new_database_with_CPC_categories(db=premise_db, new_db_name=name_premise_with_CPC_db, mapping_product_to_CPC=mapping_product_to_CPC)",
   "id": "c522c1c5317ce7df",
   "execution_count": 8,
   "outputs": []
  },
  {
   "metadata": {},
   "cell_type": "markdown",
   "source": "## Operations on the mapping dataframe (optional)",
   "id": "e7e3c5702bd532ed"
  },
  {
   "metadata": {
    "ExecuteTime": {
     "end_time": "2024-06-27T19:13:01.587956Z",
     "start_time": "2024-06-27T19:12:55.270852Z"
    }
   },
   "cell_type": "code",
   "source": "premise_db_with_CPC = load_extract_db(name_premise_with_CPC_db)",
   "id": "7b53fb8b229916d7",
   "outputs": [],
   "execution_count": 7
  },
  {
   "metadata": {},
   "cell_type": "markdown",
   "source": [
    "### Relink the mapping dataframe with another database\n",
    "In this example, we relink the current mapping, which is based on ecoinvent and some additional inventories, with a [premise](https://premise.readthedocs.io/en/latest/introduction.html) database. The function `create_complementary_database` takes as input the mapping dataframe, the database to link to, and the name of a newly created complementary database, in case some LCI datasets are missing in the LCI database we relink to. It returns a new mapping dataframe with the location column updated, and create the complementary database in the brightway project."
   ],
   "id": "d60be56459f80ff9"
  },
  {
   "metadata": {
    "ExecuteTime": {
     "end_time": "2024-06-27T19:13:07.406047Z",
     "start_time": "2024-06-27T19:13:07.398964Z"
    }
   },
   "cell_type": "code",
   "source": [
    "name_premise_comp_db = name_premise_db + \"_comp_QC\"\n",
    "name_premise_comp_with_CPC_db = name_premise_comp_db + '_with_CPC'"
   ],
   "id": "64d364d3117dff82",
   "outputs": [],
   "execution_count": 8
  },
  {
   "metadata": {
    "ExecuteTime": {
     "end_time": "2024-06-27T19:13:23.691185Z",
     "start_time": "2024-06-27T19:13:08.118738Z"
    }
   },
   "cell_type": "code",
   "source": "mapping_linked_to_premise = create_complementary_database(mapping, premise_db_with_CPC, name_premise_comp_with_CPC_db)",
   "id": "bf60f6a9c71fbc92",
   "outputs": [
    {
     "name": "stdout",
     "output_type": "stream",
     "text": [
      "No inventory in the premise database for ('EHP_H2_GRID', 'Construction')\n",
      "No inventory in the premise database for ('HP_H2_GRID', 'Construction')\n",
      "No inventory in the premise database for ('LCV_BIODIESEL_B100_MD', 'Construction')\n",
      "No inventory in the premise database for ('LCV_BIODIESEL_B100_MD', 'Operation')\n",
      "No inventory in the premise database for ('LCV_BIODIESEL_B100_SD', 'Operation')\n",
      "No inventory in the premise database for ('LCV_BIODIESEL_B100_SD', 'Construction')\n",
      "No inventory in the premise database for ('LCV_BIODIESEL_B20_MD', 'Construction')\n",
      "No inventory in the premise database for ('LCV_BIODIESEL_B20_MD', 'Operation')\n",
      "No inventory in the premise database for ('LCV_BIODIESEL_B20_SD', 'Construction')\n",
      "No inventory in the premise database for ('LCV_BIODIESEL_B20_SD', 'Operation')\n",
      "No inventory in the premise database for ('LCV_CNG_MD', 'Construction')\n",
      "No inventory in the premise database for ('LCV_CNG_MD', 'Operation')\n",
      "No inventory in the premise database for ('LCV_CNG_SD', 'Construction')\n",
      "No inventory in the premise database for ('LCV_CNG_SD', 'Operation')\n",
      "No inventory in the premise database for ('LCV_DIESEL_MD', 'Operation')\n",
      "No inventory in the premise database for ('LCV_DIESEL_MD', 'Construction')\n",
      "No inventory in the premise database for ('LCV_DIESEL_SD', 'Construction')\n",
      "No inventory in the premise database for ('LCV_DIESEL_SD', 'Operation')\n",
      "No inventory in the premise database for ('LCV_ETOH_E10_MD', 'Construction')\n",
      "No inventory in the premise database for ('LCV_ETOH_E10_MD', 'Operation')\n",
      "No inventory in the premise database for ('LCV_ETOH_E10_SD', 'Construction')\n",
      "No inventory in the premise database for ('LCV_ETOH_E10_SD', 'Operation')\n",
      "No inventory in the premise database for ('LCV_ETOH_E85_MD', 'Operation')\n",
      "No inventory in the premise database for ('LCV_ETOH_E85_MD', 'Construction')\n",
      "No inventory in the premise database for ('LCV_ETOH_E85_SD', 'Operation')\n",
      "No inventory in the premise database for ('LCV_ETOH_E85_SD', 'Construction')\n",
      "No inventory in the premise database for ('LCV_EV_MD', 'Construction')\n",
      "No inventory in the premise database for ('LCV_EV_MD', 'Operation')\n",
      "No inventory in the premise database for ('LCV_EV_SD', 'Construction')\n",
      "No inventory in the premise database for ('LCV_EV_SD', 'Operation')\n",
      "No inventory in the premise database for ('LCV_FC_CH4_MD', 'Construction')\n",
      "No inventory in the premise database for ('LCV_FC_CH4_MD', 'Operation')\n",
      "No inventory in the premise database for ('LCV_FC_CH4_SD', 'Operation')\n",
      "No inventory in the premise database for ('LCV_FC_CH4_SD', 'Construction')\n",
      "No inventory in the premise database for ('LCV_FC_H2_MD', 'Construction')\n",
      "No inventory in the premise database for ('LCV_FC_H2_MD', 'Operation')\n",
      "No inventory in the premise database for ('LCV_FC_H2_SD', 'Operation')\n",
      "No inventory in the premise database for ('LCV_FC_H2_SD', 'Construction')\n",
      "No inventory in the premise database for ('LCV_GASOLINE_MD', 'Operation')\n",
      "No inventory in the premise database for ('LCV_GASOLINE_MD', 'Construction')\n",
      "No inventory in the premise database for ('LCV_GASOLINE_SD', 'Construction')\n",
      "No inventory in the premise database for ('LCV_GASOLINE_SD', 'Operation')\n",
      "No inventory in the premise database for ('LCV_PHEV_GASOLINE_MD', 'Operation')\n",
      "No inventory in the premise database for ('LCV_PHEV_GASOLINE_MD', 'Construction')\n",
      "No inventory in the premise database for ('LCV_PHEV_GASOLINE_SD', 'Construction')\n",
      "No inventory in the premise database for ('LCV_PHEV_GASOLINE_SD', 'Operation')\n",
      "No inventory in the premise database for ('LCV_PROPANE_MD', 'Construction')\n",
      "No inventory in the premise database for ('LCV_PROPANE_MD', 'Operation')\n",
      "No inventory in the premise database for ('LCV_PROPANE_SD', 'Construction')\n",
      "No inventory in the premise database for ('LCV_PROPANE_SD', 'Operation')\n",
      "No inventory in the premise database for ('LP_H2_GRID', 'Construction')\n",
      "No inventory in the premise database for ('MP_H2_GRID', 'Construction')\n",
      "No inventory in the premise database for ('SEMI_SH_BIODIESEL_B100_MD', 'Operation')\n",
      "No inventory in the premise database for ('SEMI_SH_BIODIESEL_B100_MD', 'Construction')\n",
      "No inventory in the premise database for ('SEMI_SH_BIODIESEL_B20_MD', 'Construction')\n",
      "No inventory in the premise database for ('SEMI_SH_BIODIESEL_B20_MD', 'Operation')\n",
      "No inventory in the premise database for ('SEMI_SH_CNG_MD', 'Construction')\n",
      "No inventory in the premise database for ('SEMI_SH_CNG_MD', 'Operation')\n",
      "No inventory in the premise database for ('SEMI_SH_DIESEL_MD', 'Operation')\n",
      "No inventory in the premise database for ('SEMI_SH_DIESEL_MD', 'Construction')\n",
      "No inventory in the premise database for ('SEMI_SH_EV_MD', 'Operation')\n",
      "No inventory in the premise database for ('SEMI_SH_EV_MD', 'Construction')\n",
      "No inventory in the premise database for ('SEMI_SH_FC_CH4_MD', 'Construction')\n",
      "No inventory in the premise database for ('SEMI_SH_FC_CH4_MD', 'Operation')\n",
      "No inventory in the premise database for ('SEMI_SH_FC_H2_MD', 'Construction')\n",
      "No inventory in the premise database for ('SEMI_SH_FC_H2_MD', 'Operation')\n",
      "No inventory in the premise database for ('SEMI_SH_HY_DIESEL_MD', 'Operation')\n",
      "No inventory in the premise database for ('SEMI_SH_HY_DIESEL_MD', 'Construction')\n",
      "No inventory in the premise database for ('SEMI_SH_PROPANE_MD', 'Operation')\n",
      "No inventory in the premise database for ('SEMI_SH_PROPANE_MD', 'Construction')\n",
      "No inventory in the premise database for ('TRUCK_SH_BIODIESEL_B100_MD', 'Operation')\n",
      "No inventory in the premise database for ('TRUCK_SH_BIODIESEL_B100_MD', 'Construction')\n",
      "No inventory in the premise database for ('TRUCK_SH_BIODIESEL_B100_SD', 'Operation')\n",
      "No inventory in the premise database for ('TRUCK_SH_BIODIESEL_B100_SD', 'Construction')\n",
      "No inventory in the premise database for ('TRUCK_SH_BIODIESEL_B20_MD', 'Construction')\n",
      "No inventory in the premise database for ('TRUCK_SH_BIODIESEL_B20_MD', 'Operation')\n",
      "No inventory in the premise database for ('TRUCK_SH_BIODIESEL_B20_SD', 'Operation')\n",
      "No inventory in the premise database for ('TRUCK_SH_BIODIESEL_B20_SD', 'Construction')\n",
      "No inventory in the premise database for ('TRUCK_SH_CNG_MD', 'Construction')\n",
      "No inventory in the premise database for ('TRUCK_SH_CNG_MD', 'Operation')\n",
      "No inventory in the premise database for ('TRUCK_SH_CNG_SD', 'Construction')\n",
      "No inventory in the premise database for ('TRUCK_SH_CNG_SD', 'Operation')\n",
      "No inventory in the premise database for ('TRUCK_SH_DIESEL_MD', 'Construction')\n",
      "No inventory in the premise database for ('TRUCK_SH_DIESEL_MD', 'Operation')\n",
      "No inventory in the premise database for ('TRUCK_SH_DIESEL_SD', 'Construction')\n",
      "No inventory in the premise database for ('TRUCK_SH_DIESEL_SD', 'Operation')\n",
      "No inventory in the premise database for ('TRUCK_SH_EV_MD', 'Construction')\n",
      "No inventory in the premise database for ('TRUCK_SH_EV_MD', 'Operation')\n",
      "No inventory in the premise database for ('TRUCK_SH_EV_SD', 'Construction')\n",
      "No inventory in the premise database for ('TRUCK_SH_EV_SD', 'Operation')\n",
      "No inventory in the premise database for ('TRUCK_SH_FC_CH4_MD', 'Operation')\n",
      "No inventory in the premise database for ('TRUCK_SH_FC_CH4_MD', 'Construction')\n",
      "No inventory in the premise database for ('TRUCK_SH_FC_CH4_SD', 'Operation')\n",
      "No inventory in the premise database for ('TRUCK_SH_FC_CH4_SD', 'Construction')\n",
      "No inventory in the premise database for ('TRUCK_SH_HY_DIESEL_MD', 'Construction')\n",
      "No inventory in the premise database for ('TRUCK_SH_HY_DIESEL_MD', 'Operation')\n",
      "No inventory in the premise database for ('TRUCK_SH_HY_DIESEL_SD', 'Construction')\n",
      "No inventory in the premise database for ('TRUCK_SH_HY_DIESEL_SD', 'Operation')\n",
      "No inventory in the premise database for ('TRUCK_SH_PROPANE_MD', 'Construction')\n",
      "No inventory in the premise database for ('TRUCK_SH_PROPANE_MD', 'Operation')\n",
      "No inventory in the premise database for ('TRUCK_SH_PROPANE_SD', 'Construction')\n",
      "No inventory in the premise database for ('TRUCK_SH_PROPANE_SD', 'Operation')\n"
     ]
    },
    {
     "name": "stderr",
     "output_type": "stream",
     "text": [
      "Writing activities to SQLite3 database:\n",
      "0% [##############################] 100% | ETA: 00:00:00\n",
      "Total time elapsed: 00:00:00\n"
     ]
    },
    {
     "name": "stdout",
     "output_type": "stream",
     "text": [
      "Title: Writing activities to SQLite3 database:\n",
      "  Started: 06/27/2024 15:13:22\n",
      "  Finished: 06/27/2024 15:13:22\n",
      "  Total time elapsed: 00:00:00\n",
      "  CPU %: 23.10\n",
      "  Memory %: 15.93\n"
     ]
    }
   ],
   "execution_count": 9
  },
  {
   "metadata": {
    "ExecuteTime": {
     "end_time": "2024-06-27T19:13:23.984902Z",
     "start_time": "2024-06-27T19:13:23.691185Z"
    }
   },
   "cell_type": "code",
   "source": "premise_comp_db = load_extract_db(name_premise_comp_with_CPC_db)",
   "id": "a6da9be31e62fa4d",
   "outputs": [
    {
     "name": "stdout",
     "output_type": "stream",
     "text": [
      "Getting activity data\n"
     ]
    },
    {
     "name": "stderr",
     "output_type": "stream",
     "text": [
      "100%|██████████| 37/37 [00:00<?, ?it/s]\n"
     ]
    },
    {
     "name": "stdout",
     "output_type": "stream",
     "text": [
      "Adding exchange data to activities\n"
     ]
    },
    {
     "name": "stderr",
     "output_type": "stream",
     "text": [
      "100%|██████████| 1170/1170 [00:00<00:00, 37413.45it/s]\n"
     ]
    },
    {
     "name": "stdout",
     "output_type": "stream",
     "text": [
      "Filling out exchange data\n"
     ]
    },
    {
     "name": "stderr",
     "output_type": "stream",
     "text": [
      "100%|██████████| 37/37 [00:00<00:00, 170.31it/s]\n"
     ]
    }
   ],
   "execution_count": 10
  },
  {
   "metadata": {
    "ExecuteTime": {
     "end_time": "2024-06-27T19:13:24.563857Z",
     "start_time": "2024-06-27T19:13:23.984902Z"
    }
   },
   "cell_type": "code",
   "source": "create_new_database_with_CPC_categories(db=premise_comp_db, new_db_name=name_premise_comp_with_CPC_db, mapping_product_to_CPC=mapping_product_to_CPC)",
   "id": "188f5e940f8a7314",
   "outputs": [
    {
     "name": "stderr",
     "output_type": "stream",
     "text": [
      "Writing activities to SQLite3 database:\n",
      "0% [##############################] 100% | ETA: 00:00:00\n",
      "Total time elapsed: 00:00:00\n"
     ]
    },
    {
     "name": "stdout",
     "output_type": "stream",
     "text": [
      "Title: Writing activities to SQLite3 database:\n",
      "  Started: 06/27/2024 15:13:24\n",
      "  Finished: 06/27/2024 15:13:24\n",
      "  Total time elapsed: 00:00:00\n",
      "  CPU %: 22.20\n",
      "  Memory %: 9.89\n"
     ]
    }
   ],
   "execution_count": 11
  },
  {
   "metadata": {
    "ExecuteTime": {
     "end_time": "2024-06-27T19:13:24.575683Z",
     "start_time": "2024-06-27T19:13:24.563857Z"
    }
   },
   "cell_type": "code",
   "source": "premise_comp_db = [] # free memory",
   "id": "cd643bb02aa980d8",
   "outputs": [],
   "execution_count": 12
  },
  {
   "metadata": {
    "ExecuteTime": {
     "end_time": "2024-06-27T19:13:24.601463Z",
     "start_time": "2024-06-27T19:13:24.575683Z"
    }
   },
   "cell_type": "code",
   "source": "mapping_linked_to_premise.head()",
   "id": "4eec0315e3d1b9b0",
   "outputs": [
    {
     "data": {
      "text/plain": [
       "                 Name          Type  \\\n",
       "0              AEC_OG     Operation   \n",
       "1        AEC_OG_PLANT  Construction   \n",
       "2  AEC_OG_PLANT_DECOM  Construction   \n",
       "3        AEC_OG_STACK  Construction   \n",
       "4  AEC_OG_STACK_DECOM  Construction   \n",
       "\n",
       "                                      Product  \\\n",
       "0                   hydrogen, gaseous, 20 bar   \n",
       "1   electrolyzer, 1MWe, AEC, Balance of Plant   \n",
       "2  used fuel cell balance of plant, 1MWe, AEC   \n",
       "3              electrolyzer, 1MWe, AEC, Stack   \n",
       "4             used fuel cell stack, 1MWe, AEC   \n",
       "\n",
       "                                            Activity Location  \\\n",
       "0  hydrogen production, gaseous, 20 bar, from AEC...       CH   \n",
       "1  electrolyzer production, 1MWe, AEC, Balance of...      RER   \n",
       "2  treatment of fuel cell balance of plant, 1MWe,...      RER   \n",
       "3          electrolyzer production, 1MWe, AEC, Stack      RER   \n",
       "4            treatment of fuel cell stack, 1MWe, AEC      RER   \n",
       "\n",
       "                                            Database  \n",
       "0  ecoinvent_cutoff_3.8_remind_SSP2-Base_2020_wit...  \n",
       "1  ecoinvent_cutoff_3.8_remind_SSP2-Base_2020_wit...  \n",
       "2  ecoinvent_cutoff_3.8_remind_SSP2-Base_2020_wit...  \n",
       "3  ecoinvent_cutoff_3.8_remind_SSP2-Base_2020_wit...  \n",
       "4  ecoinvent_cutoff_3.8_remind_SSP2-Base_2020_wit...  "
      ],
      "text/html": [
       "<div>\n",
       "<style scoped>\n",
       "    .dataframe tbody tr th:only-of-type {\n",
       "        vertical-align: middle;\n",
       "    }\n",
       "\n",
       "    .dataframe tbody tr th {\n",
       "        vertical-align: top;\n",
       "    }\n",
       "\n",
       "    .dataframe thead th {\n",
       "        text-align: right;\n",
       "    }\n",
       "</style>\n",
       "<table border=\"1\" class=\"dataframe\">\n",
       "  <thead>\n",
       "    <tr style=\"text-align: right;\">\n",
       "      <th></th>\n",
       "      <th>Name</th>\n",
       "      <th>Type</th>\n",
       "      <th>Product</th>\n",
       "      <th>Activity</th>\n",
       "      <th>Location</th>\n",
       "      <th>Database</th>\n",
       "    </tr>\n",
       "  </thead>\n",
       "  <tbody>\n",
       "    <tr>\n",
       "      <th>0</th>\n",
       "      <td>AEC_OG</td>\n",
       "      <td>Operation</td>\n",
       "      <td>hydrogen, gaseous, 20 bar</td>\n",
       "      <td>hydrogen production, gaseous, 20 bar, from AEC...</td>\n",
       "      <td>CH</td>\n",
       "      <td>ecoinvent_cutoff_3.8_remind_SSP2-Base_2020_wit...</td>\n",
       "    </tr>\n",
       "    <tr>\n",
       "      <th>1</th>\n",
       "      <td>AEC_OG_PLANT</td>\n",
       "      <td>Construction</td>\n",
       "      <td>electrolyzer, 1MWe, AEC, Balance of Plant</td>\n",
       "      <td>electrolyzer production, 1MWe, AEC, Balance of...</td>\n",
       "      <td>RER</td>\n",
       "      <td>ecoinvent_cutoff_3.8_remind_SSP2-Base_2020_wit...</td>\n",
       "    </tr>\n",
       "    <tr>\n",
       "      <th>2</th>\n",
       "      <td>AEC_OG_PLANT_DECOM</td>\n",
       "      <td>Construction</td>\n",
       "      <td>used fuel cell balance of plant, 1MWe, AEC</td>\n",
       "      <td>treatment of fuel cell balance of plant, 1MWe,...</td>\n",
       "      <td>RER</td>\n",
       "      <td>ecoinvent_cutoff_3.8_remind_SSP2-Base_2020_wit...</td>\n",
       "    </tr>\n",
       "    <tr>\n",
       "      <th>3</th>\n",
       "      <td>AEC_OG_STACK</td>\n",
       "      <td>Construction</td>\n",
       "      <td>electrolyzer, 1MWe, AEC, Stack</td>\n",
       "      <td>electrolyzer production, 1MWe, AEC, Stack</td>\n",
       "      <td>RER</td>\n",
       "      <td>ecoinvent_cutoff_3.8_remind_SSP2-Base_2020_wit...</td>\n",
       "    </tr>\n",
       "    <tr>\n",
       "      <th>4</th>\n",
       "      <td>AEC_OG_STACK_DECOM</td>\n",
       "      <td>Construction</td>\n",
       "      <td>used fuel cell stack, 1MWe, AEC</td>\n",
       "      <td>treatment of fuel cell stack, 1MWe, AEC</td>\n",
       "      <td>RER</td>\n",
       "      <td>ecoinvent_cutoff_3.8_remind_SSP2-Base_2020_wit...</td>\n",
       "    </tr>\n",
       "  </tbody>\n",
       "</table>\n",
       "</div>"
      ]
     },
     "execution_count": 13,
     "metadata": {},
     "output_type": "execute_result"
    }
   ],
   "execution_count": 13
  },
  {
   "metadata": {},
   "cell_type": "markdown",
   "source": [
    "### Add or replace the location column based on a user-defined ranking\n",
    "Based on a user-defined ranking, the location column of the mapping dataframe can be updated. The function `change_location_mapping_file` takes as input the mapping dataframe, the user-defined ranking, and the base database. It returns the mapping dataframe with the location column updated."
   ],
   "id": "fdff9a72e4fbf70a"
  },
  {
   "metadata": {
    "ExecuteTime": {
     "end_time": "2024-06-27T18:43:51.955861Z",
     "start_time": "2024-06-27T18:43:44.508415Z"
    }
   },
   "cell_type": "code",
   "source": [
    "# create a concatenated database of all databases in the mapping dataframe (including background requirements)\n",
    "base_db = concatenate_databases(list(mapping_linked_to_premise.Database.unique()))"
   ],
   "id": "9dd502c6d5773bd2",
   "outputs": [
    {
     "name": "stdout",
     "output_type": "stream",
     "text": [
      "Getting activity data\n"
     ]
    },
    {
     "name": "stderr",
     "output_type": "stream",
     "text": [
      "100%|██████████| 37/37 [00:00<?, ?it/s]\n"
     ]
    },
    {
     "name": "stdout",
     "output_type": "stream",
     "text": [
      "Adding exchange data to activities\n"
     ]
    },
    {
     "name": "stderr",
     "output_type": "stream",
     "text": [
      "100%|██████████| 1170/1170 [00:00<00:00, 37232.07it/s]\n"
     ]
    },
    {
     "name": "stdout",
     "output_type": "stream",
     "text": [
      "Filling out exchange data\n"
     ]
    },
    {
     "name": "stderr",
     "output_type": "stream",
     "text": [
      "100%|██████████| 37/37 [00:00<00:00, 241.87it/s]\n"
     ]
    }
   ],
   "execution_count": 16
  },
  {
   "metadata": {
    "ExecuteTime": {
     "end_time": "2024-06-27T18:43:51.965087Z",
     "start_time": "2024-06-27T18:43:51.955861Z"
    }
   },
   "cell_type": "code",
   "source": [
    "# Define the user-defined ranking\n",
    "my_ranking = [\n",
    "    'CA-QC', # Quebec\n",
    "    'CA', # Canada\n",
    "    'CA-ON', # Other canadian provinces \n",
    "    'CA-AB',\n",
    "    'CA-BC',\n",
    "    'CA-MB',\n",
    "    'CA-NB',\n",
    "    'CA-NF',\n",
    "    'CA-NS',\n",
    "    'CA-NT',\n",
    "    'CA-NU',\n",
    "    'CA-PE',\n",
    "    'CAZ', # Canada - Australia - New Zealand\n",
    "    'RNA', # North America\n",
    "    'US', # United States\n",
    "    'USA', # United States\n",
    "    'GLO', # Global average \n",
    "    'RoW', # Rest of the world\n",
    "]"
   ],
   "id": "b27bcbc91b924324",
   "outputs": [],
   "execution_count": 17
  },
  {
   "metadata": {
    "ExecuteTime": {
     "end_time": "2024-06-27T18:44:07.257183Z",
     "start_time": "2024-06-27T18:43:51.966687Z"
    }
   },
   "cell_type": "code",
   "source": [
    "# Update mapping dataframe\n",
    "mapping_linked_to_premise = change_location_mapping_file(mapping_linked_to_premise, my_ranking, base_db, 'QC')"
   ],
   "id": "cb4951f2d751a738",
   "outputs": [],
   "execution_count": 18
  },
  {
   "metadata": {
    "ExecuteTime": {
     "end_time": "2024-06-27T18:44:07.281315Z",
     "start_time": "2024-06-27T18:44:07.259602Z"
    }
   },
   "cell_type": "code",
   "source": "mapping_linked_to_premise.head()",
   "id": "7e32ad69b357fc0e",
   "outputs": [
    {
     "data": {
      "text/plain": [
       "                 Name          Type  \\\n",
       "0              AEC_OG     Operation   \n",
       "1        AEC_OG_PLANT  Construction   \n",
       "2  AEC_OG_PLANT_DECOM  Construction   \n",
       "3        AEC_OG_STACK  Construction   \n",
       "4  AEC_OG_STACK_DECOM  Construction   \n",
       "\n",
       "                                      Product  \\\n",
       "0                   hydrogen, gaseous, 20 bar   \n",
       "1   electrolyzer, 1MWe, AEC, Balance of Plant   \n",
       "2  used fuel cell balance of plant, 1MWe, AEC   \n",
       "3              electrolyzer, 1MWe, AEC, Stack   \n",
       "4             used fuel cell stack, 1MWe, AEC   \n",
       "\n",
       "                                            Activity Location  \\\n",
       "0  hydrogen production, gaseous, 20 bar, from AEC...       CH   \n",
       "1  electrolyzer production, 1MWe, AEC, Balance of...      RER   \n",
       "2  treatment of fuel cell balance of plant, 1MWe,...      RER   \n",
       "3          electrolyzer production, 1MWe, AEC, Stack      RER   \n",
       "4            treatment of fuel cell stack, 1MWe, AEC      RER   \n",
       "\n",
       "                                            Database  \n",
       "0  ecoinvent_cutoff_3.8_remind_SSP2-Base_2020_wit...  \n",
       "1  ecoinvent_cutoff_3.8_remind_SSP2-Base_2020_wit...  \n",
       "2  ecoinvent_cutoff_3.8_remind_SSP2-Base_2020_wit...  \n",
       "3  ecoinvent_cutoff_3.8_remind_SSP2-Base_2020_wit...  \n",
       "4  ecoinvent_cutoff_3.8_remind_SSP2-Base_2020_wit...  "
      ],
      "text/html": [
       "<div>\n",
       "<style scoped>\n",
       "    .dataframe tbody tr th:only-of-type {\n",
       "        vertical-align: middle;\n",
       "    }\n",
       "\n",
       "    .dataframe tbody tr th {\n",
       "        vertical-align: top;\n",
       "    }\n",
       "\n",
       "    .dataframe thead th {\n",
       "        text-align: right;\n",
       "    }\n",
       "</style>\n",
       "<table border=\"1\" class=\"dataframe\">\n",
       "  <thead>\n",
       "    <tr style=\"text-align: right;\">\n",
       "      <th></th>\n",
       "      <th>Name</th>\n",
       "      <th>Type</th>\n",
       "      <th>Product</th>\n",
       "      <th>Activity</th>\n",
       "      <th>Location</th>\n",
       "      <th>Database</th>\n",
       "    </tr>\n",
       "  </thead>\n",
       "  <tbody>\n",
       "    <tr>\n",
       "      <th>0</th>\n",
       "      <td>AEC_OG</td>\n",
       "      <td>Operation</td>\n",
       "      <td>hydrogen, gaseous, 20 bar</td>\n",
       "      <td>hydrogen production, gaseous, 20 bar, from AEC...</td>\n",
       "      <td>CH</td>\n",
       "      <td>ecoinvent_cutoff_3.8_remind_SSP2-Base_2020_wit...</td>\n",
       "    </tr>\n",
       "    <tr>\n",
       "      <th>1</th>\n",
       "      <td>AEC_OG_PLANT</td>\n",
       "      <td>Construction</td>\n",
       "      <td>electrolyzer, 1MWe, AEC, Balance of Plant</td>\n",
       "      <td>electrolyzer production, 1MWe, AEC, Balance of...</td>\n",
       "      <td>RER</td>\n",
       "      <td>ecoinvent_cutoff_3.8_remind_SSP2-Base_2020_wit...</td>\n",
       "    </tr>\n",
       "    <tr>\n",
       "      <th>2</th>\n",
       "      <td>AEC_OG_PLANT_DECOM</td>\n",
       "      <td>Construction</td>\n",
       "      <td>used fuel cell balance of plant, 1MWe, AEC</td>\n",
       "      <td>treatment of fuel cell balance of plant, 1MWe,...</td>\n",
       "      <td>RER</td>\n",
       "      <td>ecoinvent_cutoff_3.8_remind_SSP2-Base_2020_wit...</td>\n",
       "    </tr>\n",
       "    <tr>\n",
       "      <th>3</th>\n",
       "      <td>AEC_OG_STACK</td>\n",
       "      <td>Construction</td>\n",
       "      <td>electrolyzer, 1MWe, AEC, Stack</td>\n",
       "      <td>electrolyzer production, 1MWe, AEC, Stack</td>\n",
       "      <td>RER</td>\n",
       "      <td>ecoinvent_cutoff_3.8_remind_SSP2-Base_2020_wit...</td>\n",
       "    </tr>\n",
       "    <tr>\n",
       "      <th>4</th>\n",
       "      <td>AEC_OG_STACK_DECOM</td>\n",
       "      <td>Construction</td>\n",
       "      <td>used fuel cell stack, 1MWe, AEC</td>\n",
       "      <td>treatment of fuel cell stack, 1MWe, AEC</td>\n",
       "      <td>RER</td>\n",
       "      <td>ecoinvent_cutoff_3.8_remind_SSP2-Base_2020_wit...</td>\n",
       "    </tr>\n",
       "  </tbody>\n",
       "</table>\n",
       "</div>"
      ]
     },
     "execution_count": 19,
     "metadata": {},
     "output_type": "execute_result"
    }
   ],
   "execution_count": 19
  },
  {
   "metadata": {
    "ExecuteTime": {
     "end_time": "2024-06-27T18:44:07.301633Z",
     "start_time": "2024-06-27T18:44:07.281315Z"
    }
   },
   "cell_type": "code",
   "source": [
    "# Save the relinked mapping file\n",
    "mapping_linked_to_premise.to_csv('../dev/energyscope_data/mapping_linked.csv', index=False)"
   ],
   "id": "57e0331a7876b7bd",
   "outputs": [],
   "execution_count": 20
  },
  {
   "metadata": {},
   "cell_type": "markdown",
   "source": "## Double-counting removal",
   "id": "4d25a01896041d53"
  },
  {
   "metadata": {
    "ExecuteTime": {
     "end_time": "2024-06-25T21:20:36.369805Z",
     "start_time": "2024-06-25T21:20:36.359660Z"
    }
   },
   "cell_type": "code",
   "source": [
    "# To skip the previous steps\n",
    "mapping_linked_to_premise = pd.read_csv('../dev/energyscope_data/mapping_linked.csv')"
   ],
   "id": "d26d9f21a511c539",
   "execution_count": 27,
   "outputs": []
  },
  {
   "metadata": {
    "ExecuteTime": {
     "end_time": "2024-06-27T18:44:11.297500Z",
     "start_time": "2024-06-27T18:44:11.287922Z"
    }
   },
   "cell_type": "code",
   "source": "mapping_linked_to_premise = mapping_linked_to_premise[mapping_linked_to_premise['Type'] != 'Flow']",
   "id": "ccae69af49390c35",
   "outputs": [],
   "execution_count": 21
  },
  {
   "metadata": {
    "ExecuteTime": {
     "end_time": "2024-06-27T18:44:11.925370Z",
     "start_time": "2024-06-27T18:44:11.910377Z"
    }
   },
   "cell_type": "code",
   "source": "new_db_name = 'energyscope_QC_2020'",
   "id": "e62e389e6498b32f",
   "outputs": [],
   "execution_count": 22
  },
  {
   "metadata": {
    "ExecuteTime": {
     "end_time": "2024-06-27T18:44:12.224811Z",
     "start_time": "2024-06-27T18:44:12.207975Z"
    }
   },
   "cell_type": "code",
   "source": "regionalize_foregrounds = False",
   "id": "99648ccb2e3afaaa",
   "outputs": [],
   "execution_count": 23
  },
  {
   "metadata": {
    "ExecuteTime": {
     "end_time": "2024-06-27T18:44:12.560894Z",
     "start_time": "2024-06-27T18:44:12.548841Z"
    }
   },
   "cell_type": "code",
   "source": "accepted_locations = ['CA-QC', 'CA']  # sufficient match within ecoinvent",
   "id": "145d3b7fdc23fcc9",
   "outputs": [],
   "execution_count": 24
  },
  {
   "metadata": {
    "ExecuteTime": {
     "end_time": "2024-06-27T18:44:29.490372Z",
     "start_time": "2024-06-27T18:44:13.158424Z"
    }
   },
   "cell_type": "code",
   "source": "base_db = concatenate_databases(list(mapping_linked_to_premise.Database.unique()))",
   "id": "f50caad57c8b9168",
   "outputs": [
    {
     "name": "stdout",
     "output_type": "stream",
     "text": [
      "Getting activity data\n"
     ]
    },
    {
     "name": "stderr",
     "output_type": "stream",
     "text": [
      "100%|██████████| 37/37 [00:00<?, ?it/s]\n"
     ]
    },
    {
     "name": "stdout",
     "output_type": "stream",
     "text": [
      "Adding exchange data to activities\n"
     ]
    },
    {
     "name": "stderr",
     "output_type": "stream",
     "text": [
      "100%|██████████| 1170/1170 [00:00<00:00, 27131.09it/s]\n"
     ]
    },
    {
     "name": "stdout",
     "output_type": "stream",
     "text": [
      "Filling out exchange data\n"
     ]
    },
    {
     "name": "stderr",
     "output_type": "stream",
     "text": [
      "100%|██████████| 37/37 [00:00<00:00, 166.67it/s]\n"
     ]
    }
   ],
   "execution_count": 25
  },
  {
   "metadata": {
    "ExecuteTime": {
     "end_time": "2024-06-27T18:48:31.707707Z",
     "start_time": "2024-06-27T18:44:29.490372Z"
    }
   },
   "cell_type": "code",
   "source": [
    "mapping_linked_to_premise_new_code = create_esm_database(\n",
    "    mapping=mapping_linked_to_premise,\n",
    "    model=model,\n",
    "    tech_specifics=technology_specifics,\n",
    "    technology_compositions=technology_compositions,\n",
    "    mapping_esm_flows_to_CPC_cat=mapping_esm_flows_to_CPC,\n",
    "    main_database=base_db,\n",
    "    esm_db_name=new_db_name,\n",
    "    regionalize_foregrounds=regionalize_foregrounds,\n",
    "    accepted_locations=accepted_locations,\n",
    "    target_region='CA-QC',\n",
    "    locations_ranking=my_ranking\n",
    ")"
   ],
   "id": "4523009e1a96025f",
   "outputs": [
    {
     "name": "stdout",
     "output_type": "stream",
     "text": [
      "AEC_OG\n",
      "ALKALINE_ELECTROLYSIS\n",
      "AL_MAKING\n",
      "AL_MAKING_HR\n",
      "AN_DIG\n",
      "AN_DIG_SI\n",
      "ATR\n",
      "ATR_CCS\n",
      "BIOGAS_ATR\n",
      "BIOGAS_ATR_CCS\n",
      "BIOGAS_BIOMETHANE\n",
      "BIOGAS_SMR\n",
      "BIOGAS_SMR_CCS\n",
      "BIOMASS_ETHANOL\n",
      "BIOMASS_GAS_EF_H2\n",
      "BIOMASS_GAS_EF_H2_CCS\n",
      "BIOMASS_GAS_FB_H2\n",
      "BIOMASS_GAS_FB_H2_CCS\n",
      "BUS_BIODIESEL_B100_SD\n",
      "BUS_BIODIESEL_B20_SD\n",
      "BUS_CNG_SD\n",
      "BUS_DIESEL_SD\n",
      "BUS_EV_SD\n",
      "BUS_FC_CH4_SD\n",
      "BUS_FC_H2_SD\n",
      "BUS_HY_DIESEL_SD\n",
      "BUS_PROPANE_SD\n",
      "CAR_BIODIESEL_B100_ELD\n",
      "CAR_BIODIESEL_B100_LD\n",
      "CAR_BIODIESEL_B100_MD\n",
      "CAR_BIODIESEL_B100_SD\n",
      "CAR_BIODIESEL_B20_ELD\n",
      "CAR_BIODIESEL_B20_LD\n",
      "CAR_BIODIESEL_B20_MD\n",
      "CAR_BIODIESEL_B20_SD\n",
      "CAR_CNG_ELD\n",
      "CAR_CNG_LD\n",
      "CAR_CNG_MD\n",
      "CAR_CNG_SD\n",
      "CAR_DIESEL_ELD\n",
      "CAR_DIESEL_LD\n",
      "CAR_DIESEL_MD\n",
      "CAR_DIESEL_SD\n",
      "CAR_ETOH_E10_ELD\n",
      "CAR_ETOH_E10_LD\n",
      "CAR_ETOH_E10_MD\n",
      "CAR_ETOH_E10_SD\n",
      "CAR_ETOH_E85_ELD\n",
      "CAR_ETOH_E85_LD\n",
      "CAR_ETOH_E85_MD\n",
      "CAR_ETOH_E85_SD\n",
      "CAR_EV_ELD\n",
      "CAR_EV_LD\n",
      "CAR_EV_MD\n",
      "CAR_EV_SD\n",
      "CAR_FC_CH4_ELD\n",
      "CAR_FC_CH4_LD\n",
      "CAR_FC_CH4_MD\n",
      "CAR_FC_CH4_SD\n",
      "CAR_FC_H2_ELD\n",
      "CAR_FC_H2_LD\n",
      "CAR_FC_H2_MD\n",
      "CAR_FC_H2_SD\n",
      "CAR_GASOLINE_ELD\n",
      "CAR_GASOLINE_LD\n",
      "CAR_GASOLINE_MD\n",
      "CAR_GASOLINE_SD\n",
      "CAR_HY_GASOLINE_ELD\n",
      "CAR_HY_GASOLINE_LD\n",
      "CAR_HY_GASOLINE_MD\n",
      "CAR_HY_GASOLINE_SD\n",
      "CAR_PHEV_GASOLINE_ELD\n",
      "CAR_PHEV_GASOLINE_LD\n",
      "CAR_PHEV_GASOLINE_MD\n",
      "CAR_PHEV_GASOLINE_SD\n",
      "CAR_PROPANE_ELD\n",
      "CAR_PROPANE_LD\n",
      "CAR_PROPANE_MD\n",
      "CAR_PROPANE_SD\n",
      "CCGT\n",
      "CCGT_CC\n",
      "CEMENT_PROD\n",
      "CEMENT_PROD_HP\n",
      "CO2_METHANOL\n",
      "CO2_TO_DIESEL\n",
      "CO2_TO_JETFUELS\n",
      "COACH_BIODIESEL_B100_ELD\n",
      "COACH_BIODIESEL_B100_LD\n",
      "COACH_BIODIESEL_B100_MD\n",
      "COACH_BIODIESEL_B20_ELD\n",
      "COACH_BIODIESEL_B20_LD\n",
      "COACH_BIODIESEL_B20_MD\n",
      "COACH_CNG_ELD\n",
      "COACH_CNG_LD\n",
      "COACH_CNG_MD\n",
      "COACH_DIESEL_ELD\n",
      "COACH_DIESEL_LD\n",
      "COACH_DIESEL_MD\n",
      "COACH_ETOH_E10_ELD\n",
      "COACH_ETOH_E10_LD\n",
      "COACH_ETOH_E10_MD\n",
      "COACH_EV_ELD\n",
      "COACH_EV_LD\n",
      "COACH_EV_MD\n",
      "COACH_FC_CH4_ELD\n",
      "COACH_FC_CH4_LD\n",
      "COACH_FC_CH4_MD\n",
      "COACH_GASOLINE_ELD\n",
      "COACH_GASOLINE_LD\n",
      "COACH_GASOLINE_MD\n",
      "COACH_PROPANE_ELD\n",
      "COACH_PROPANE_LD\n",
      "COACH_PROPANE_MD\n",
      "COAL_GAS_H2\n",
      "COAL_GAS_H2_ADV\n",
      "COAL_GAS_H2_ADV_CCS\n",
      "COAL_GAS_H2_CCS\n",
      "COAL_IGCC\n",
      "COAL_IGCC_CC\n",
      "COAL_US\n",
      "COAL_US_CC\n",
      "CROPS_TO_ETHANOL\n",
      "CROPS_TO_JETFUELS\n",
      "CUMENE_PROCESS\n",
      "DAC_HT\n",
      "DAC_LT\n",
      "DEC_BOILER_GAS\n",
      "DEC_BOILER_OIL\n",
      "DEC_BOILER_WOOD\n",
      "DEC_COGEN_GAS\n",
      "DEC_COGEN_OIL\n",
      "DEC_COGEN_WOOD\n",
      "DEC_DEEP_GEO\n",
      "DEC_DIRECT_ELEC\n",
      "DEC_HP_ELEC\n",
      "DEC_THHP_GAS\n",
      "DEEP_SALINE\n",
      "DHN_BOILER_GAS\n",
      "DHN_BOILER_OIL\n",
      "DHN_BOILER_WOOD\n",
      "DHN_COGEN_GAS\n",
      "DHN_COGEN_WASTE\n",
      "DHN_COGEN_WOOD\n",
      "DHN_DEEP_GEO\n",
      "DHN_HP_ELEC\n",
      "DIESEL_GEN\n",
      "DIRECT_USAGE\n",
      "DOGR\n",
      "EHP_H2_GRID\n",
      "EHP_NG_GRID\n",
      "EOR\n",
      "ETHANE_CRACKING\n",
      "ETHANE_OXIDATION\n",
      "ETHANE_TO_ETHYLENE\n",
      "ETHANOL_TO_JETFUELS\n",
      "ETHYLENE_POLYMERIZATION\n",
      "FOOD_PROD\n",
      "FOOD_PROD_HP\n",
      "FOOD_PROD_HR\n",
      "FT\n",
      "GASIFICATION_H2\n",
      "GASIFICATION_SNG\n",
      "GEOTHERMAL\n",
      "H2_COMP_100\n",
      "H2_COMP_100_350\n",
      "H2_COMP_200\n",
      "H2_COMP_200_350\n",
      "H2_COMP_HE\n",
      "H2_COMP_LM\n",
      "H2_COMP_MH\n",
      "H2_EXP_EH\n",
      "H2_EXP_EH_COGEN\n",
      "H2_EXP_HM\n",
      "H2_EXP_HM_COGEN\n",
      "H2_EXP_ML\n",
      "H2_EXP_ML_COGEN\n",
      "H2_Haber_Bosch\n",
      "H2_NG_CCGT\n",
      "H2_STO\n",
      "HP_H2_GRID\n",
      "HP_NG_GRID\n",
      "HT_LT_DEC\n",
      "HYDRO_DAM\n",
      "HYDRO_GAS\n",
      "HYDRO_GAS_CHP\n",
      "HYDRO_RIVER\n",
      "HYDRO_STORAGE\n",
      "IND_BOILER_COAL\n",
      "IND_BOILER_GAS\n",
      "IND_BOILER_OIL\n",
      "IND_BOILER_WASTE\n",
      "IND_BOILER_WOOD\n",
      "IND_COGEN_GAS\n",
      "IND_COGEN_WASTE\n",
      "IND_COGEN_WOOD\n",
      "IND_DIRECT_ELEC\n",
      "IND_HP_ELEC\n",
      "LCV_BIODIESEL_B100_MD\n",
      "LCV_BIODIESEL_B100_SD\n",
      "LCV_BIODIESEL_B20_MD\n",
      "LCV_BIODIESEL_B20_SD\n",
      "LCV_CNG_MD\n",
      "LCV_CNG_SD\n",
      "LCV_DIESEL_MD\n",
      "LCV_DIESEL_SD\n",
      "LCV_ETOH_E10_MD\n",
      "LCV_ETOH_E10_SD\n",
      "LCV_ETOH_E85_MD\n",
      "LCV_ETOH_E85_SD\n",
      "LCV_EV_MD\n",
      "LCV_EV_SD\n",
      "LCV_FC_CH4_MD\n",
      "LCV_FC_CH4_SD\n",
      "LCV_FC_H2_MD\n",
      "LCV_FC_H2_SD\n",
      "LCV_GASOLINE_MD\n",
      "LCV_GASOLINE_SD\n",
      "LCV_PHEV_GASOLINE_MD\n",
      "LCV_PHEV_GASOLINE_SD\n",
      "LCV_PROPANE_MD\n",
      "LCV_PROPANE_SD\n",
      "LP_H2_GRID\n",
      "LP_NG_GRID\n",
      "METATHESIS_PROPYLENE\n",
      "METHANATION\n",
      "METHANE_TO_METHANOL\n",
      "METHANOL_CARBONYLATION\n",
      "METHANOL_FT\n",
      "METHANOL_TO_AROMATICS\n",
      "METHANOL_TO_OLEFINS\n",
      "MINES_STORAGE\n",
      "MP_H2_GRID\n",
      "MP_NG_GRID\n",
      "NEW_HYDRO_DAM\n",
      "NEW_HYDRO_RIVER\n",
      "NG_COMP_HE\n",
      "NG_COMP_LM\n",
      "NG_COMP_MH\n",
      "NG_EXP_EH\n",
      "NG_EXP_EH_COGEN\n",
      "NG_EXP_HM\n",
      "NG_EXP_HM_COGEN\n",
      "NG_EXP_ML\n",
      "NG_EXP_ML_COGEN\n",
      "NG_GEN\n",
      "NG_PYROLYSIS_PLASMA\n",
      "NG_PYROLYSIS_THERMAL\n",
      "NG_REFORMING\n",
      "NUCLEAR\n",
      "OCGT_LARGE\n",
      "OCGT_SMALL\n",
      "PAPER_MAKING\n",
      "PAPER_MAKING_HP\n",
      "PAPER_MAKING_HR\n",
      "PEMEC_OG\n",
      "PEM_ELECTROLYSIS\n",
      "PET_FORMATION\n",
      "PLANE_FREIGHT_ELD\n",
      "PLANE_LH_ELD\n",
      "PLANE_SH_LD\n",
      "POLYPROPYLENE_PP\n",
      "PV\n",
      "PVC_FORMATION\n",
      "PV_EHV\n",
      "PYROLYSIS\n",
      "SCHOOLBUS_BIODIESEL_B100_SD\n",
      "SCHOOLBUS_BIODIESEL_B20_SD\n",
      "SCHOOLBUS_CNG_SD\n",
      "SCHOOLBUS_DIESEL_SD\n",
      "SCHOOLBUS_ETOH_E10_SD\n",
      "SCHOOLBUS_EV_SD\n",
      "SCHOOLBUS_FC_CH4_SD\n",
      "SCHOOLBUS_GASOLINE_SD\n",
      "SCHOOLBUS_HY_DIESEL_SD\n",
      "SCHOOLBUS_PROPANE_SD\n",
      "SEMI_LH_BIODIESEL_B100_ELD\n",
      "SEMI_LH_BIODIESEL_B100_LD\n",
      "SEMI_LH_BIODIESEL_B20_ELD\n",
      "SEMI_LH_BIODIESEL_B20_LD\n",
      "SEMI_LH_CNG_ELD\n",
      "SEMI_LH_CNG_LD\n",
      "SEMI_LH_DIESEL_ELD\n",
      "SEMI_LH_DIESEL_LD\n",
      "SEMI_LH_EV_ELD\n",
      "SEMI_LH_EV_LD\n",
      "SEMI_LH_FC_CH4_ELD\n",
      "SEMI_LH_FC_CH4_LD\n",
      "SEMI_LH_FC_H2_ELD\n",
      "SEMI_LH_FC_H2_LD\n",
      "SEMI_LH_HY_DIESEL_ELD\n",
      "SEMI_LH_HY_DIESEL_LD\n",
      "SEMI_LH_PROPANE_ELD\n",
      "SEMI_LH_PROPANE_LD\n",
      "SEMI_SH_BIODIESEL_B100_MD\n",
      "SEMI_SH_BIODIESEL_B20_MD\n",
      "SEMI_SH_CNG_MD\n",
      "SEMI_SH_DIESEL_MD\n",
      "SEMI_SH_EV_MD\n",
      "SEMI_SH_FC_CH4_MD\n",
      "SEMI_SH_FC_H2_MD\n",
      "SEMI_SH_HY_DIESEL_MD\n",
      "SEMI_SH_PROPANE_MD\n",
      "SMART_PROCESS\n",
      "SMR\n",
      "SMR_CCS\n",
      "SNG_NG\n",
      "SOEC_ELECTROLYSIS\n",
      "SOEC_OG\n",
      "STEEL_MAKING\n",
      "STEEL_MAKING_HP\n",
      "STEEL_MAKING_HR\n",
      "STYRENE_POLYMERIZATION\n",
      "SUV_BIODIESEL_B100_ELD\n",
      "SUV_BIODIESEL_B100_LD\n",
      "SUV_BIODIESEL_B100_MD\n",
      "SUV_BIODIESEL_B100_SD\n",
      "SUV_BIODIESEL_B20_ELD\n",
      "SUV_BIODIESEL_B20_LD\n",
      "SUV_BIODIESEL_B20_MD\n",
      "SUV_BIODIESEL_B20_SD\n",
      "SUV_CNG_ELD\n",
      "SUV_CNG_LD\n",
      "SUV_CNG_MD\n",
      "SUV_CNG_SD\n",
      "SUV_DIESEL_ELD\n",
      "SUV_DIESEL_LD\n",
      "SUV_DIESEL_MD\n",
      "SUV_DIESEL_SD\n",
      "SUV_ETOH_E10_ELD\n",
      "SUV_ETOH_E10_LD\n",
      "SUV_ETOH_E10_MD\n",
      "SUV_ETOH_E10_SD\n",
      "SUV_ETOH_E85_ELD\n",
      "SUV_ETOH_E85_LD\n",
      "SUV_ETOH_E85_MD\n",
      "SUV_ETOH_E85_SD\n",
      "SUV_EV_ELD\n",
      "SUV_EV_LD\n",
      "SUV_EV_MD\n",
      "SUV_EV_SD\n",
      "SUV_FC_CH4_ELD\n",
      "SUV_FC_CH4_LD\n",
      "SUV_FC_CH4_MD\n",
      "SUV_FC_CH4_SD\n",
      "SUV_FC_H2_ELD\n",
      "SUV_FC_H2_LD\n",
      "SUV_FC_H2_MD\n",
      "SUV_FC_H2_SD\n",
      "SUV_GASOLINE_ELD\n",
      "SUV_GASOLINE_LD\n",
      "SUV_GASOLINE_MD\n",
      "SUV_GASOLINE_SD\n",
      "SUV_HY_GASOLINE_ELD\n",
      "SUV_HY_GASOLINE_LD\n",
      "SUV_HY_GASOLINE_MD\n",
      "SUV_HY_GASOLINE_SD\n",
      "SUV_PHEV_GASOLINE_ELD\n",
      "SUV_PHEV_GASOLINE_LD\n",
      "SUV_PHEV_GASOLINE_MD\n",
      "SUV_PHEV_GASOLINE_SD\n",
      "SUV_PROPANE_ELD\n",
      "SUV_PROPANE_LD\n",
      "SUV_PROPANE_MD\n",
      "SUV_PROPANE_SD\n",
      "TIDAL\n",
      "TRAFO_EH\n",
      "TRAFO_HE\n",
      "TRAFO_HM\n",
      "TRAFO_LM\n",
      "TRAFO_MH\n",
      "TRAFO_ML\n",
      "TRAIN_DIESEL_ELD\n",
      "TRAIN_DIESEL_LD\n",
      "TRAIN_FREIGHT_DIESEL_ELD\n",
      "TRAIN_FREIGHT_DIESEL_LD\n",
      "TRAIN_FREIGHT_H2_ELD\n",
      "TRAIN_FREIGHT_H2_HYBRID_ELD\n",
      "TRAIN_FREIGHT_H2_HYBRID_LD\n",
      "TRAIN_FREIGHT_H2_LD\n",
      "TRAIN_H2_ELD\n",
      "TRAIN_H2_LD\n",
      "TRAMWAY_SD\n",
      "TRUCK_LH_BIODIESEL_B100_LD\n",
      "TRUCK_LH_BIODIESEL_B20_LD\n",
      "TRUCK_LH_CNG_LD\n",
      "TRUCK_LH_DIESEL_LD\n",
      "TRUCK_LH_EV_LD\n",
      "TRUCK_LH_FC_CH4_LD\n",
      "TRUCK_LH_HY_DIESEL_LD\n",
      "TRUCK_LH_PROPANE_LD\n",
      "TRUCK_SH_BIODIESEL_B100_MD\n",
      "TRUCK_SH_BIODIESEL_B100_SD\n",
      "TRUCK_SH_BIODIESEL_B20_MD\n",
      "TRUCK_SH_BIODIESEL_B20_SD\n",
      "TRUCK_SH_CNG_MD\n",
      "TRUCK_SH_CNG_SD\n",
      "TRUCK_SH_DIESEL_MD\n",
      "TRUCK_SH_DIESEL_SD\n",
      "TRUCK_SH_EV_MD\n",
      "TRUCK_SH_EV_SD\n",
      "TRUCK_SH_FC_CH4_MD\n",
      "TRUCK_SH_FC_CH4_SD\n",
      "TRUCK_SH_HY_DIESEL_MD\n",
      "TRUCK_SH_HY_DIESEL_SD\n",
      "TRUCK_SH_PROPANE_MD\n",
      "TRUCK_SH_PROPANE_SD\n",
      "UNMINEABLE_COAL_SEAM\n",
      "WIND_OFFSHORE\n",
      "WIND_ONSHORE\n",
      "WOOD_METHANOL\n",
      "Vacuuming database \n"
     ]
    },
    {
     "name": "stderr",
     "output_type": "stream",
     "text": [
      "Writing activities to SQLite3 database:\n",
      "0% [##############################] 100% | ETA: 00:00:00\n",
      "Total time elapsed: 00:00:03\n"
     ]
    },
    {
     "name": "stdout",
     "output_type": "stream",
     "text": [
      "Title: Writing activities to SQLite3 database:\n",
      "  Started: 06/27/2024 14:47:31\n",
      "  Finished: 06/27/2024 14:47:34\n",
      "  Total time elapsed: 00:00:03\n",
      "  CPU %: 26.60\n",
      "  Memory %: 18.01\n"
     ]
    }
   ],
   "execution_count": 26
  },
  {
   "metadata": {},
   "cell_type": "markdown",
   "source": "## Computing the LCA metrics ",
   "id": "6b4cb46fb46fc271"
  },
  {
   "metadata": {
    "ExecuteTime": {
     "end_time": "2024-06-19T15:20:53.918465Z",
     "start_time": "2024-06-19T15:20:46.788749Z"
    }
   },
   "cell_type": "code",
   "source": "esm_db = load_extract_db(new_db_name)",
   "id": "a615f5086c316a92",
   "execution_count": 28,
   "outputs": []
  },
  {
   "metadata": {
    "ExecuteTime": {
     "end_time": "2024-06-19T15:30:31.625320Z",
     "start_time": "2024-06-19T15:20:53.920829Z"
    }
   },
   "cell_type": "code",
   "source": [
    "R_long = compute_impact_scores(\n",
    "    esm_db=esm_db,\n",
    "    mapping=mapping_linked_to_premise_new_code,\n",
    "    technology_compositions=technology_compositions,\n",
    "    methods=['IMPACT World+ Midpoint 2.0.1', 'IMPACT World+ Damage 2.0.1', 'IMPACT World+ Footprint 2.0.1'],\n",
    "    unit_conversion=unit_conversion,\n",
    "    lifetime=lifetime\n",
    ")"
   ],
   "id": "4f8e737e64f2cb9c",
   "execution_count": 29,
   "outputs": []
  },
  {
   "metadata": {
    "ExecuteTime": {
     "end_time": "2024-06-19T15:33:56.577450Z",
     "start_time": "2024-06-19T15:33:56.541351Z"
    }
   },
   "cell_type": "code",
   "source": "R_long.head()",
   "id": "ca731ef9eda9ba66",
   "execution_count": 30,
   "outputs": []
  },
  {
   "metadata": {
    "ExecuteTime": {
     "end_time": "2024-06-19T15:34:00.281647Z",
     "start_time": "2024-06-19T15:33:59.964133Z"
    }
   },
   "cell_type": "code",
   "source": "R_long.to_csv('results/impact_scores.csv', index=False)",
   "id": "287129cdf4552801",
   "execution_count": 31,
   "outputs": []
  },
  {
   "metadata": {},
   "cell_type": "markdown",
   "source": "## Convert the results in an AMPL format",
   "id": "eced4286c9628abb"
  },
  {
   "metadata": {
    "ExecuteTime": {
     "end_time": "2024-06-19T15:49:38.449049Z",
     "start_time": "2024-06-19T15:49:38.352299Z"
    }
   },
   "cell_type": "code",
   "source": [
    "# To skip the previous steps\n",
    "# R_long = pd.read_csv('results/impact_scores.csv')"
   ],
   "id": "55f6db09dd89a276",
   "execution_count": 5,
   "outputs": []
  },
  {
   "metadata": {
    "ExecuteTime": {
     "end_time": "2024-06-19T15:49:38.849860Z",
     "start_time": "2024-06-19T15:49:38.837033Z"
    }
   },
   "cell_type": "code",
   "source": [
    "refactor = 1e-2\n",
    "lcia_method = 'IMPACT World+ Damage 2.0.1 - Total only'"
   ],
   "id": "6d4128137d2a0b5e",
   "execution_count": 6,
   "outputs": []
  },
  {
   "metadata": {},
   "cell_type": "markdown",
   "source": "### Create the .dat file",
   "id": "d3b36a88c73fce21"
  },
  {
   "metadata": {
    "ExecuteTime": {
     "end_time": "2024-06-19T15:49:40.456573Z",
     "start_time": "2024-06-19T15:49:39.580088Z"
    }
   },
   "cell_type": "code",
   "source": [
    "normalize_lca_metrics(\n",
    "    R=R_long,\n",
    "    f_norm=1e6,\n",
    "    mip_gap=1e-6,\n",
    "    refactor=refactor,\n",
    "    lcia_method=lcia_method,\n",
    "    impact_abbrev=impact_abbrev\n",
    ")"
   ],
   "id": "dd3b491c4e3d8ebb",
   "execution_count": 7,
   "outputs": []
  },
  {
   "metadata": {},
   "cell_type": "markdown",
   "source": "### Create the .mod file",
   "id": "66b13911bb933dc5"
  },
  {
   "metadata": {
    "ExecuteTime": {
     "end_time": "2024-06-19T15:50:28.160935Z",
     "start_time": "2024-06-19T15:50:28.146534Z"
    }
   },
   "cell_type": "code",
   "source": [
    "gen_lcia_obj(\n",
    "    lcia_method=lcia_method,\n",
    "    refactor=refactor,\n",
    "    impact_abbrev=impact_abbrev\n",
    ")"
   ],
   "id": "d481ec84345d14d0",
   "execution_count": 8,
   "outputs": []
  },
  {
   "metadata": {},
   "cell_type": "markdown",
   "source": "## Integrate the ESM results back in the LCI database",
   "id": "9851a5bde60e6e51"
  },
  {
   "metadata": {},
   "cell_type": "code",
   "outputs": [],
   "execution_count": null,
   "source": "annual_prod = pd.read_csv('../dev/energyscope_data/results_ES.csv') # put the path to your ESM results here",
   "id": "5b57206ddb50181b"
  },
  {
   "metadata": {},
   "cell_type": "code",
   "outputs": [],
   "execution_count": null,
   "source": [
    "create_new_database_with_esm_results(\n",
    "    mapping=mapping_linked_to_premise,\n",
    "    model=model,\n",
    "    esm_location='CA-QC',\n",
    "    esm_results=annual_prod,\n",
    "    unit_conversion=unit_conversion,\n",
    "    db=base_db,\n",
    "    locations_ranking=my_ranking,\n",
    "    accepted_locations=['CA-QC', 'CA'],\n",
    "    new_db_name='ecoinvent_cutoff_3.8_remind_SSP2-Base_2020_ESM',\n",
    "    technology_compositions=technology_compositions,\n",
    "    tech_specifics=technology_specifics,\n",
    "    mapping_esm_flows_to_CPC_cat=mapping_esm_flows_to_CPC,\n",
    "    tech_to_remove_layers=technologies_to_remove_from_layers,\n",
    "    new_end_use_types=new_end_use_types,\n",
    ")"
   ],
   "id": "371eb05bc4faf6c5"
  }
 ],
 "metadata": {
  "kernelspec": {
   "display_name": "Python 3",
   "language": "python",
   "name": "python3"
  },
  "language_info": {
   "codemirror_mode": {
    "name": "ipython",
    "version": 2
   },
   "file_extension": ".py",
   "mimetype": "text/x-python",
   "name": "python",
   "nbconvert_exporter": "python",
   "pygments_lexer": "ipython2",
   "version": "2.7.6"
  }
 },
 "nbformat": 4,
 "nbformat_minor": 5
}
