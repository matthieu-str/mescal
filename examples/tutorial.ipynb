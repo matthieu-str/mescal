{
 "cells": [
  {
   "metadata": {},
   "cell_type": "markdown",
   "source": [
    "# Tutorial on how to use mescal\n",
    "*mescal* is a [Brightway](https://docs.brightway.dev/en/latest/)-powered Python package that helps you to integrate Life-Cycle Assessment (LCA) in your energy system model"
   ],
   "id": "bac3505a5afe8971"
  },
  {
   "metadata": {},
   "cell_type": "markdown",
   "source": "## Set up",
   "id": "7c15eb9c8df668d6"
  },
  {
   "metadata": {
    "ExecuteTime": {
     "end_time": "2024-06-21T15:10:51.017200Z",
     "start_time": "2024-06-21T15:10:47.215807Z"
    }
   },
   "cell_type": "code",
   "source": [
    "# Import the required libraries\n",
    "from mescal import *\n",
    "import pandas as pd\n",
    "import bw2data as bd"
   ],
   "id": "ad6977f1e798f1ba",
   "outputs": [],
   "execution_count": 1
  },
  {
   "metadata": {
    "ExecuteTime": {
     "end_time": "2024-06-21T15:10:51.094801Z",
     "start_time": "2024-06-21T15:10:51.019213Z"
    }
   },
   "cell_type": "code",
   "source": [
    "# Set up your Brightway project\n",
    "bd.projects.set_current('ei3.8-mescal') # put the name of your brightway project here"
   ],
   "id": "54ea776e842fae31",
   "outputs": [],
   "execution_count": 2
  },
  {
   "metadata": {},
   "cell_type": "markdown",
   "source": [
    "## Your data\n",
    "For mescal to understand the structure of your energy system model, you need to provide it with a set of dataframes."
   ],
   "id": "8325f04c8e08b23f"
  },
  {
   "metadata": {},
   "cell_type": "markdown",
   "source": "### Mandatory dataframes",
   "id": "313875e4236bc644"
  },
  {
   "metadata": {
    "ExecuteTime": {
     "end_time": "2024-06-21T15:10:51.113021Z",
     "start_time": "2024-06-21T15:10:51.096815Z"
    }
   },
   "cell_type": "code",
   "source": [
    "mapping = pd.read_csv('../dev/energyscope_data/mapping.csv')\n",
    "unit_conversion = pd.read_csv('../dev/energyscope_data/unit_conversion.csv')\n",
    "mapping_esm_flows_to_CPC = pd.read_csv('../dev/energyscope_data/mapping_esm_flows_to_CPC.csv')\n",
    "model = pd.read_csv('../dev/energyscope_data/model.csv')"
   ],
   "id": "6890050f93afe1d1",
   "outputs": [],
   "execution_count": 3
  },
  {
   "metadata": {},
   "cell_type": "markdown",
   "source": [
    "A mapping between the energy technologies and resources of the energy system model, and Life-Cycle Inventories datasets (LCI) from an LCI database (e.g., ecoinvent). The mapping should be provided in a dataframe with the following columns:\n",
    "- `Name`: the name of the energy technology or resource in the energy model \n",
    "- `Type`: the type of the energy technology or resource (i.e., 'Construction', 'Operation', or 'Resource')  \n",
    "- `Product`: the name of the product of the energy technology or resource in the LCI database\n",
    "- `Activity`: the name of the activity of the energy technology or resource in the LCI database\n",
    "- `Location`: the name of the region of the energy technology or resource in the LCI database\n",
    "- `Unit`: (optional) the physical unit of the energy technology or resource in the LCI database\n",
    "- `Database`: the name of the database in your brightway project"
   ],
   "id": "29846070143e8b95"
  },
  {
   "metadata": {
    "ExecuteTime": {
     "end_time": "2024-06-21T14:25:10.100817Z",
     "start_time": "2024-06-21T14:25:10.078971Z"
    }
   },
   "cell_type": "code",
   "source": "mapping.head()",
   "id": "642b5fe1b99a6f7f",
   "outputs": [
    {
     "data": {
      "text/plain": [
       "                 Name          Type  \\\n",
       "0              AEC_OG     Operation   \n",
       "1        AEC_OG_PLANT  Construction   \n",
       "2  AEC_OG_PLANT_DECOM  Construction   \n",
       "3        AEC_OG_STACK  Construction   \n",
       "4  AEC_OG_STACK_DECOM  Construction   \n",
       "\n",
       "                                      Product  \\\n",
       "0                   hydrogen, gaseous, 20 bar   \n",
       "1   electrolyzer, 1MWe, AEC, Balance of Plant   \n",
       "2  used fuel cell balance of plant, 1MWe, AEC   \n",
       "3              electrolyzer, 1MWe, AEC, Stack   \n",
       "4             used fuel cell stack, 1MWe, AEC   \n",
       "\n",
       "                                            Activity Location   Unit  \\\n",
       "0  hydrogen production, gaseous, 20 bar, from AEC...       CH    /kg   \n",
       "1  electrolyzer production, 1MWe, AEC, Balance of...      RER  /unit   \n",
       "2  treatment of fuel cell balance of plant, 1MWe,...      RER  /unit   \n",
       "3          electrolyzer production, 1MWe, AEC, Stack      RER  /unit   \n",
       "4            treatment of fuel cell stack, 1MWe, AEC      RER  /unit   \n",
       "\n",
       "          Database  \n",
       "0  h2_electrolysis  \n",
       "1  h2_electrolysis  \n",
       "2  h2_electrolysis  \n",
       "3  h2_electrolysis  \n",
       "4  h2_electrolysis  "
      ],
      "text/html": [
       "<div>\n",
       "<style scoped>\n",
       "    .dataframe tbody tr th:only-of-type {\n",
       "        vertical-align: middle;\n",
       "    }\n",
       "\n",
       "    .dataframe tbody tr th {\n",
       "        vertical-align: top;\n",
       "    }\n",
       "\n",
       "    .dataframe thead th {\n",
       "        text-align: right;\n",
       "    }\n",
       "</style>\n",
       "<table border=\"1\" class=\"dataframe\">\n",
       "  <thead>\n",
       "    <tr style=\"text-align: right;\">\n",
       "      <th></th>\n",
       "      <th>Name</th>\n",
       "      <th>Type</th>\n",
       "      <th>Product</th>\n",
       "      <th>Activity</th>\n",
       "      <th>Location</th>\n",
       "      <th>Unit</th>\n",
       "      <th>Database</th>\n",
       "    </tr>\n",
       "  </thead>\n",
       "  <tbody>\n",
       "    <tr>\n",
       "      <th>0</th>\n",
       "      <td>AEC_OG</td>\n",
       "      <td>Operation</td>\n",
       "      <td>hydrogen, gaseous, 20 bar</td>\n",
       "      <td>hydrogen production, gaseous, 20 bar, from AEC...</td>\n",
       "      <td>CH</td>\n",
       "      <td>/kg</td>\n",
       "      <td>h2_electrolysis</td>\n",
       "    </tr>\n",
       "    <tr>\n",
       "      <th>1</th>\n",
       "      <td>AEC_OG_PLANT</td>\n",
       "      <td>Construction</td>\n",
       "      <td>electrolyzer, 1MWe, AEC, Balance of Plant</td>\n",
       "      <td>electrolyzer production, 1MWe, AEC, Balance of...</td>\n",
       "      <td>RER</td>\n",
       "      <td>/unit</td>\n",
       "      <td>h2_electrolysis</td>\n",
       "    </tr>\n",
       "    <tr>\n",
       "      <th>2</th>\n",
       "      <td>AEC_OG_PLANT_DECOM</td>\n",
       "      <td>Construction</td>\n",
       "      <td>used fuel cell balance of plant, 1MWe, AEC</td>\n",
       "      <td>treatment of fuel cell balance of plant, 1MWe,...</td>\n",
       "      <td>RER</td>\n",
       "      <td>/unit</td>\n",
       "      <td>h2_electrolysis</td>\n",
       "    </tr>\n",
       "    <tr>\n",
       "      <th>3</th>\n",
       "      <td>AEC_OG_STACK</td>\n",
       "      <td>Construction</td>\n",
       "      <td>electrolyzer, 1MWe, AEC, Stack</td>\n",
       "      <td>electrolyzer production, 1MWe, AEC, Stack</td>\n",
       "      <td>RER</td>\n",
       "      <td>/unit</td>\n",
       "      <td>h2_electrolysis</td>\n",
       "    </tr>\n",
       "    <tr>\n",
       "      <th>4</th>\n",
       "      <td>AEC_OG_STACK_DECOM</td>\n",
       "      <td>Construction</td>\n",
       "      <td>used fuel cell stack, 1MWe, AEC</td>\n",
       "      <td>treatment of fuel cell stack, 1MWe, AEC</td>\n",
       "      <td>RER</td>\n",
       "      <td>/unit</td>\n",
       "      <td>h2_electrolysis</td>\n",
       "    </tr>\n",
       "  </tbody>\n",
       "</table>\n",
       "</div>"
      ]
     },
     "execution_count": 4,
     "metadata": {},
     "output_type": "execute_result"
    }
   ],
   "execution_count": 4
  },
  {
   "metadata": {},
   "cell_type": "markdown",
   "source": [
    "A set of unit conversion factors between the energy system model and the LCI database. The conversion factors should be provided in a dataframe with the following columns:\n",
    "- `Name`: the name of the energy technology or resource in the energy model \n",
    "- `Type`: the type of the energy technology or resource (i.e., 'Construction', 'Operation', or 'Resource')\n",
    "- `Value`: the numerical value of the conversion factor"
   ],
   "id": "c63431e4a57bb29f"
  },
  {
   "metadata": {
    "ExecuteTime": {
     "end_time": "2024-06-21T14:25:10.113387Z",
     "start_time": "2024-06-21T14:25:10.100817Z"
    }
   },
   "cell_type": "code",
   "source": "unit_conversion.head()",
   "id": "40412ea78d6dc8af",
   "outputs": [
    {
     "data": {
      "text/plain": [
       "           Name          Type          Value\n",
       "0   ACETIC_ACID      Resource  247422.680400\n",
       "1       ACETONE      Resource  121654.501200\n",
       "2        AEC_OG  Construction    1555.555556\n",
       "3        AEC_OG     Operation   30030.030030\n",
       "4  AEC_OG_PLANT  Construction       1.000000"
      ],
      "text/html": [
       "<div>\n",
       "<style scoped>\n",
       "    .dataframe tbody tr th:only-of-type {\n",
       "        vertical-align: middle;\n",
       "    }\n",
       "\n",
       "    .dataframe tbody tr th {\n",
       "        vertical-align: top;\n",
       "    }\n",
       "\n",
       "    .dataframe thead th {\n",
       "        text-align: right;\n",
       "    }\n",
       "</style>\n",
       "<table border=\"1\" class=\"dataframe\">\n",
       "  <thead>\n",
       "    <tr style=\"text-align: right;\">\n",
       "      <th></th>\n",
       "      <th>Name</th>\n",
       "      <th>Type</th>\n",
       "      <th>Value</th>\n",
       "    </tr>\n",
       "  </thead>\n",
       "  <tbody>\n",
       "    <tr>\n",
       "      <th>0</th>\n",
       "      <td>ACETIC_ACID</td>\n",
       "      <td>Resource</td>\n",
       "      <td>247422.680400</td>\n",
       "    </tr>\n",
       "    <tr>\n",
       "      <th>1</th>\n",
       "      <td>ACETONE</td>\n",
       "      <td>Resource</td>\n",
       "      <td>121654.501200</td>\n",
       "    </tr>\n",
       "    <tr>\n",
       "      <th>2</th>\n",
       "      <td>AEC_OG</td>\n",
       "      <td>Construction</td>\n",
       "      <td>1555.555556</td>\n",
       "    </tr>\n",
       "    <tr>\n",
       "      <th>3</th>\n",
       "      <td>AEC_OG</td>\n",
       "      <td>Operation</td>\n",
       "      <td>30030.030030</td>\n",
       "    </tr>\n",
       "    <tr>\n",
       "      <th>4</th>\n",
       "      <td>AEC_OG_PLANT</td>\n",
       "      <td>Construction</td>\n",
       "      <td>1.000000</td>\n",
       "    </tr>\n",
       "  </tbody>\n",
       "</table>\n",
       "</div>"
      ]
     },
     "execution_count": 5,
     "metadata": {},
     "output_type": "execute_result"
    }
   ],
   "execution_count": 5
  },
  {
   "metadata": {},
   "cell_type": "markdown",
   "source": [
    "A mapping between the energy model flows and CPC categories. The list of products should at least encompass the list of technologies without a CPC category within your mapping and their foreground inventory. The mapping should be provided in a dataframe with the following columns:\n",
    "- `Product`: the name of the product in the LCI database\n",
    "- `Description`: (optional) the description of the product\n",
    "- `CPC`: the list of names of corresponding CPC categories"
   ],
   "id": "b873476e1c532db4"
  },
  {
   "metadata": {
    "ExecuteTime": {
     "end_time": "2024-06-21T14:25:10.128594Z",
     "start_time": "2024-06-21T14:25:10.114912Z"
    }
   },
   "cell_type": "code",
   "source": "mapping_esm_flows_to_CPC.head()",
   "id": "7254119105672bd2",
   "outputs": [
    {
     "data": {
      "text/plain": [
       "         Flow                              Description  \\\n",
       "0     BENZENE                                  Benzene   \n",
       "1  BIO_DIESEL                               Bio-diesel   \n",
       "2       CO2_A  Carbon dioxide (concentrated emissions)   \n",
       "3       CO2_C                Carbon dioxide (captured)   \n",
       "4      CO2_CS       Carbon dioxide (captured & stored)   \n",
       "\n",
       "                                                 CPC  \n",
       "0  ['33100: Coke and semi-coke of coal, of lignit...  \n",
       "1                               ['35491: Biodiesel']  \n",
       "2            ['34210b: Carbon dioxide and monoxide']  \n",
       "3            ['34210b: Carbon dioxide and monoxide']  \n",
       "4            ['34210b: Carbon dioxide and monoxide']  "
      ],
      "text/html": [
       "<div>\n",
       "<style scoped>\n",
       "    .dataframe tbody tr th:only-of-type {\n",
       "        vertical-align: middle;\n",
       "    }\n",
       "\n",
       "    .dataframe tbody tr th {\n",
       "        vertical-align: top;\n",
       "    }\n",
       "\n",
       "    .dataframe thead th {\n",
       "        text-align: right;\n",
       "    }\n",
       "</style>\n",
       "<table border=\"1\" class=\"dataframe\">\n",
       "  <thead>\n",
       "    <tr style=\"text-align: right;\">\n",
       "      <th></th>\n",
       "      <th>Flow</th>\n",
       "      <th>Description</th>\n",
       "      <th>CPC</th>\n",
       "    </tr>\n",
       "  </thead>\n",
       "  <tbody>\n",
       "    <tr>\n",
       "      <th>0</th>\n",
       "      <td>BENZENE</td>\n",
       "      <td>Benzene</td>\n",
       "      <td>['33100: Coke and semi-coke of coal, of lignit...</td>\n",
       "    </tr>\n",
       "    <tr>\n",
       "      <th>1</th>\n",
       "      <td>BIO_DIESEL</td>\n",
       "      <td>Bio-diesel</td>\n",
       "      <td>['35491: Biodiesel']</td>\n",
       "    </tr>\n",
       "    <tr>\n",
       "      <th>2</th>\n",
       "      <td>CO2_A</td>\n",
       "      <td>Carbon dioxide (concentrated emissions)</td>\n",
       "      <td>['34210b: Carbon dioxide and monoxide']</td>\n",
       "    </tr>\n",
       "    <tr>\n",
       "      <th>3</th>\n",
       "      <td>CO2_C</td>\n",
       "      <td>Carbon dioxide (captured)</td>\n",
       "      <td>['34210b: Carbon dioxide and monoxide']</td>\n",
       "    </tr>\n",
       "    <tr>\n",
       "      <th>4</th>\n",
       "      <td>CO2_CS</td>\n",
       "      <td>Carbon dioxide (captured &amp; stored)</td>\n",
       "      <td>['34210b: Carbon dioxide and monoxide']</td>\n",
       "    </tr>\n",
       "  </tbody>\n",
       "</table>\n",
       "</div>"
      ]
     },
     "execution_count": 6,
     "metadata": {},
     "output_type": "execute_result"
    }
   ],
   "execution_count": 6
  },
  {
   "metadata": {},
   "cell_type": "markdown",
   "source": [
    "The input and output flows if energy technologies. It should be provided in a dataframe with the following columns:\n",
    "- `Name`: the name of the energy technology in the energy model\n",
    "- `Flow`: the name of the input or output flow\n",
    "- `Amount`: the numerical value of the flow (negative if input, positive if output)  "
   ],
   "id": "639bfa05b6354e4b"
  },
  {
   "metadata": {
    "ExecuteTime": {
     "end_time": "2024-06-21T14:25:10.145853Z",
     "start_time": "2024-06-21T14:25:10.130608Z"
    }
   },
   "cell_type": "code",
   "source": "model.head()",
   "id": "176d23eb6579c212",
   "outputs": [
    {
     "data": {
      "text/plain": [
       "         Name        Flow  Amount\n",
       "0    DIESEL_S    DIESEL_S     1.0\n",
       "1  GASOLINE_S  GASOLINE_S     1.0\n",
       "2      ELEC_S      ELEC_S     1.0\n",
       "3        NG_S        NG_S     1.0\n",
       "4        H2_S        H2_S     1.0"
      ],
      "text/html": [
       "<div>\n",
       "<style scoped>\n",
       "    .dataframe tbody tr th:only-of-type {\n",
       "        vertical-align: middle;\n",
       "    }\n",
       "\n",
       "    .dataframe tbody tr th {\n",
       "        vertical-align: top;\n",
       "    }\n",
       "\n",
       "    .dataframe thead th {\n",
       "        text-align: right;\n",
       "    }\n",
       "</style>\n",
       "<table border=\"1\" class=\"dataframe\">\n",
       "  <thead>\n",
       "    <tr style=\"text-align: right;\">\n",
       "      <th></th>\n",
       "      <th>Name</th>\n",
       "      <th>Flow</th>\n",
       "      <th>Amount</th>\n",
       "    </tr>\n",
       "  </thead>\n",
       "  <tbody>\n",
       "    <tr>\n",
       "      <th>0</th>\n",
       "      <td>DIESEL_S</td>\n",
       "      <td>DIESEL_S</td>\n",
       "      <td>1.0</td>\n",
       "    </tr>\n",
       "    <tr>\n",
       "      <th>1</th>\n",
       "      <td>GASOLINE_S</td>\n",
       "      <td>GASOLINE_S</td>\n",
       "      <td>1.0</td>\n",
       "    </tr>\n",
       "    <tr>\n",
       "      <th>2</th>\n",
       "      <td>ELEC_S</td>\n",
       "      <td>ELEC_S</td>\n",
       "      <td>1.0</td>\n",
       "    </tr>\n",
       "    <tr>\n",
       "      <th>3</th>\n",
       "      <td>NG_S</td>\n",
       "      <td>NG_S</td>\n",
       "      <td>1.0</td>\n",
       "    </tr>\n",
       "    <tr>\n",
       "      <th>4</th>\n",
       "      <td>H2_S</td>\n",
       "      <td>H2_S</td>\n",
       "      <td>1.0</td>\n",
       "    </tr>\n",
       "  </tbody>\n",
       "</table>\n",
       "</div>"
      ]
     },
     "execution_count": 7,
     "metadata": {},
     "output_type": "execute_result"
    }
   ],
   "execution_count": 7
  },
  {
   "metadata": {},
   "cell_type": "markdown",
   "source": "### Optional dataframes",
   "id": "48478041736e84c0"
  },
  {
   "metadata": {
    "ExecuteTime": {
     "end_time": "2024-06-21T15:10:54.836211Z",
     "start_time": "2024-06-21T15:10:54.823781Z"
    }
   },
   "cell_type": "code",
   "source": [
    "technology_compositions = pd.read_csv('../dev/energyscope_data/technology_compositions.csv')\n",
    "technology_specifics = pd.read_csv('../dev/energyscope_data/technology_specifics.csv') \n",
    "lifetime = pd.read_csv('../dev/energyscope_data/lifetime.csv')\n",
    "mapping_product_to_CPC = pd.read_csv('../dev/data/mapping_product_to_CPC.csv')\n",
    "impact_abbrev = pd.read_csv('../dev/IW+/impact_abbrev.csv')"
   ],
   "id": "dd4f202b4dbb9052",
   "outputs": [],
   "execution_count": 4
  },
  {
   "metadata": {},
   "cell_type": "markdown",
   "source": [
    "A set of composition of technologies, i.e., if one technology or resource in the energy model should be represented by a combination of LCI datasets. The composition should be provided in a dataframe with the following columns:\n",
    "- `Name`: the name of the main energy technology or resource in the energy model \n",
    "- `Components`: the list of names of subcomponents"
   ],
   "id": "eee94b00d44a2efa"
  },
  {
   "metadata": {
    "ExecuteTime": {
     "end_time": "2024-06-21T14:25:10.183872Z",
     "start_time": "2024-06-21T14:25:10.170162Z"
    }
   },
   "cell_type": "code",
   "source": "technology_compositions.head()",
   "id": "de810a82e99b68e",
   "outputs": [
    {
     "data": {
      "text/plain": [
       "                    Name                                         Components\n",
       "0                 AEC_OG  ['AEC_OG_STACK', 'AEC_OG_PLANT', 'AEC_OG_STACK...\n",
       "1  ALKALINE_ELECTROLYSIS  ['ALKALINE_ELECTROLYSIS_STACK', 'ALKALINE_ELEC...\n",
       "2              AN_DIG_SI             ['AN_DIG_SI_PLANT', 'AN_DIG_SI_COGEN']\n",
       "3                    ATR                          ['ATR_PLANT', 'ATR_TANK']\n",
       "4                ATR_CCS                  ['ATR_CCS_PLANT', 'ATR_CCS_TANK']"
      ],
      "text/html": [
       "<div>\n",
       "<style scoped>\n",
       "    .dataframe tbody tr th:only-of-type {\n",
       "        vertical-align: middle;\n",
       "    }\n",
       "\n",
       "    .dataframe tbody tr th {\n",
       "        vertical-align: top;\n",
       "    }\n",
       "\n",
       "    .dataframe thead th {\n",
       "        text-align: right;\n",
       "    }\n",
       "</style>\n",
       "<table border=\"1\" class=\"dataframe\">\n",
       "  <thead>\n",
       "    <tr style=\"text-align: right;\">\n",
       "      <th></th>\n",
       "      <th>Name</th>\n",
       "      <th>Components</th>\n",
       "    </tr>\n",
       "  </thead>\n",
       "  <tbody>\n",
       "    <tr>\n",
       "      <th>0</th>\n",
       "      <td>AEC_OG</td>\n",
       "      <td>['AEC_OG_STACK', 'AEC_OG_PLANT', 'AEC_OG_STACK...</td>\n",
       "    </tr>\n",
       "    <tr>\n",
       "      <th>1</th>\n",
       "      <td>ALKALINE_ELECTROLYSIS</td>\n",
       "      <td>['ALKALINE_ELECTROLYSIS_STACK', 'ALKALINE_ELEC...</td>\n",
       "    </tr>\n",
       "    <tr>\n",
       "      <th>2</th>\n",
       "      <td>AN_DIG_SI</td>\n",
       "      <td>['AN_DIG_SI_PLANT', 'AN_DIG_SI_COGEN']</td>\n",
       "    </tr>\n",
       "    <tr>\n",
       "      <th>3</th>\n",
       "      <td>ATR</td>\n",
       "      <td>['ATR_PLANT', 'ATR_TANK']</td>\n",
       "    </tr>\n",
       "    <tr>\n",
       "      <th>4</th>\n",
       "      <td>ATR_CCS</td>\n",
       "      <td>['ATR_CCS_PLANT', 'ATR_CCS_TANK']</td>\n",
       "    </tr>\n",
       "  </tbody>\n",
       "</table>\n",
       "</div>"
      ]
     },
     "execution_count": 9,
     "metadata": {},
     "output_type": "execute_result"
    }
   ],
   "execution_count": 9
  },
  {
   "metadata": {},
   "cell_type": "markdown",
   "source": [
    "A set of technologies with specific requirements. For instance, this stands for energy technologies without a construction phase, mobility technologies (if mismatch fuel in the LCI dataset), bioprocesses (if mismatch fuel in the LCI dataset). The requirements should be provided in a dataframe with the following columns:\n",
    "- `Name`: the name of the energy technology in the energy model\n",
    "- `Specifics`: the list of requirements  \n",
    "- `Amount`: the numerical value of the requirement (if relevant)"
   ],
   "id": "7bdd1fc2ddf77780"
  },
  {
   "metadata": {
    "ExecuteTime": {
     "end_time": "2024-06-21T14:25:10.202031Z",
     "start_time": "2024-06-21T14:25:10.186784Z"
    }
   },
   "cell_type": "code",
   "source": "technology_specifics.head()",
   "id": "6424ff1019091799",
   "outputs": [
    {
     "data": {
      "text/plain": [
       "                    Name Specifics  Amount\n",
       "0           CO2_METHANOL   Process     NaN\n",
       "1    ETHANOL_TO_JETFUELS   Process     NaN\n",
       "2       ETHANE_OXIDATION   Process     NaN\n",
       "3  METHANOL_TO_AROMATICS   Process     NaN\n",
       "4    METHANOL_TO_OLEFINS   Process     NaN"
      ],
      "text/html": [
       "<div>\n",
       "<style scoped>\n",
       "    .dataframe tbody tr th:only-of-type {\n",
       "        vertical-align: middle;\n",
       "    }\n",
       "\n",
       "    .dataframe tbody tr th {\n",
       "        vertical-align: top;\n",
       "    }\n",
       "\n",
       "    .dataframe thead th {\n",
       "        text-align: right;\n",
       "    }\n",
       "</style>\n",
       "<table border=\"1\" class=\"dataframe\">\n",
       "  <thead>\n",
       "    <tr style=\"text-align: right;\">\n",
       "      <th></th>\n",
       "      <th>Name</th>\n",
       "      <th>Specifics</th>\n",
       "      <th>Amount</th>\n",
       "    </tr>\n",
       "  </thead>\n",
       "  <tbody>\n",
       "    <tr>\n",
       "      <th>0</th>\n",
       "      <td>CO2_METHANOL</td>\n",
       "      <td>Process</td>\n",
       "      <td>NaN</td>\n",
       "    </tr>\n",
       "    <tr>\n",
       "      <th>1</th>\n",
       "      <td>ETHANOL_TO_JETFUELS</td>\n",
       "      <td>Process</td>\n",
       "      <td>NaN</td>\n",
       "    </tr>\n",
       "    <tr>\n",
       "      <th>2</th>\n",
       "      <td>ETHANE_OXIDATION</td>\n",
       "      <td>Process</td>\n",
       "      <td>NaN</td>\n",
       "    </tr>\n",
       "    <tr>\n",
       "      <th>3</th>\n",
       "      <td>METHANOL_TO_AROMATICS</td>\n",
       "      <td>Process</td>\n",
       "      <td>NaN</td>\n",
       "    </tr>\n",
       "    <tr>\n",
       "      <th>4</th>\n",
       "      <td>METHANOL_TO_OLEFINS</td>\n",
       "      <td>Process</td>\n",
       "      <td>NaN</td>\n",
       "    </tr>\n",
       "  </tbody>\n",
       "</table>\n",
       "</div>"
      ]
     },
     "execution_count": 10,
     "metadata": {},
     "output_type": "execute_result"
    }
   ],
   "execution_count": 10
  },
  {
   "metadata": {},
   "cell_type": "markdown",
   "source": [
    "Energy technologies lifetimes in the ESM and the LCI database. The lifetimes should be provided in a dataframe with the following columns:\n",
    "- `Name`: the name of the energy technology in the energy model\n",
    "- `ESM`: the numerical value of the lifetime in the energy system model (if relevant)\n",
    "- `LCA`: the numerical value of the lifetime in the LCI database (if relevant)"
   ],
   "id": "326561ead79cf4c9"
  },
  {
   "metadata": {
    "ExecuteTime": {
     "end_time": "2024-06-21T14:25:10.216572Z",
     "start_time": "2024-06-21T14:25:10.202031Z"
    }
   },
   "cell_type": "code",
   "source": "lifetime.head()",
   "id": "e268fad4190c4c8a",
   "outputs": [
    {
     "data": {
      "text/plain": [
       "                 Name   ESM   LCA\n",
       "0              AEC_OG  20.0   NaN\n",
       "1        AEC_OG_PLANT   NaN  20.0\n",
       "2        AEC_OG_STACK   NaN   7.5\n",
       "3  AEC_OG_PLANT_DECOM   NaN  20.0\n",
       "4  AEC_OG_STACK_DECOM   NaN   7.5"
      ],
      "text/html": [
       "<div>\n",
       "<style scoped>\n",
       "    .dataframe tbody tr th:only-of-type {\n",
       "        vertical-align: middle;\n",
       "    }\n",
       "\n",
       "    .dataframe tbody tr th {\n",
       "        vertical-align: top;\n",
       "    }\n",
       "\n",
       "    .dataframe thead th {\n",
       "        text-align: right;\n",
       "    }\n",
       "</style>\n",
       "<table border=\"1\" class=\"dataframe\">\n",
       "  <thead>\n",
       "    <tr style=\"text-align: right;\">\n",
       "      <th></th>\n",
       "      <th>Name</th>\n",
       "      <th>ESM</th>\n",
       "      <th>LCA</th>\n",
       "    </tr>\n",
       "  </thead>\n",
       "  <tbody>\n",
       "    <tr>\n",
       "      <th>0</th>\n",
       "      <td>AEC_OG</td>\n",
       "      <td>20.0</td>\n",
       "      <td>NaN</td>\n",
       "    </tr>\n",
       "    <tr>\n",
       "      <th>1</th>\n",
       "      <td>AEC_OG_PLANT</td>\n",
       "      <td>NaN</td>\n",
       "      <td>20.0</td>\n",
       "    </tr>\n",
       "    <tr>\n",
       "      <th>2</th>\n",
       "      <td>AEC_OG_STACK</td>\n",
       "      <td>NaN</td>\n",
       "      <td>7.5</td>\n",
       "    </tr>\n",
       "    <tr>\n",
       "      <th>3</th>\n",
       "      <td>AEC_OG_PLANT_DECOM</td>\n",
       "      <td>NaN</td>\n",
       "      <td>20.0</td>\n",
       "    </tr>\n",
       "    <tr>\n",
       "      <th>4</th>\n",
       "      <td>AEC_OG_STACK_DECOM</td>\n",
       "      <td>NaN</td>\n",
       "      <td>7.5</td>\n",
       "    </tr>\n",
       "  </tbody>\n",
       "</table>\n",
       "</div>"
      ]
     },
     "execution_count": 11,
     "metadata": {},
     "output_type": "execute_result"
    }
   ],
   "execution_count": 11
  },
  {
   "metadata": {},
   "cell_type": "markdown",
   "source": [
    "In case you have a LCI database without CPC categories (which are necessary for the double-counting check), you can provide a mapping between the products and activities in the LCI database and the CPC categories. The mapping should be provided in a dataframe with the following columns:\n",
    "- `Name`: the (partial) name of the product or activity in the LCI database\n",
    "- `CPC`: the number and name of the corresponding CPC category\n",
    "- `Search type`: whether the `Name` entry is an exactly the name to look for, or is contained in the full name\n",
    "- `Where`: whether the `Name` entry is meant for products or activities"
   ],
   "id": "330ee60ba864372a"
  },
  {
   "metadata": {
    "ExecuteTime": {
     "end_time": "2024-06-21T14:25:10.232234Z",
     "start_time": "2024-06-21T14:25:10.217603Z"
    }
   },
   "cell_type": "code",
   "source": "mapping_product_to_CPC.head()",
   "id": "253e3eafb347c0af",
   "outputs": [
    {
     "data": {
      "text/plain": [
       "                                                Name  \\\n",
       "0                                 amine-based silica   \n",
       "1                                          biodiesel   \n",
       "2                              biomass, used as fuel   \n",
       "3  biomethane, from biogas upgrading, using amine...   \n",
       "4                          biomethane, high pressure   \n",
       "\n",
       "                                                 CPC Search type    Where  \n",
       "0  35310: Organic surface active agents, except soap      equals  Product  \n",
       "1                                   35491: Biodiesel    contains  Product  \n",
       "2                  31230: Wood in chips or particles      equals  Product  \n",
       "3  12020: Natural gas, liquefied or in the gaseou...      equals  Product  \n",
       "4  12020: Natural gas, liquefied or in the gaseou...      equals  Product  "
      ],
      "text/html": [
       "<div>\n",
       "<style scoped>\n",
       "    .dataframe tbody tr th:only-of-type {\n",
       "        vertical-align: middle;\n",
       "    }\n",
       "\n",
       "    .dataframe tbody tr th {\n",
       "        vertical-align: top;\n",
       "    }\n",
       "\n",
       "    .dataframe thead th {\n",
       "        text-align: right;\n",
       "    }\n",
       "</style>\n",
       "<table border=\"1\" class=\"dataframe\">\n",
       "  <thead>\n",
       "    <tr style=\"text-align: right;\">\n",
       "      <th></th>\n",
       "      <th>Name</th>\n",
       "      <th>CPC</th>\n",
       "      <th>Search type</th>\n",
       "      <th>Where</th>\n",
       "    </tr>\n",
       "  </thead>\n",
       "  <tbody>\n",
       "    <tr>\n",
       "      <th>0</th>\n",
       "      <td>amine-based silica</td>\n",
       "      <td>35310: Organic surface active agents, except soap</td>\n",
       "      <td>equals</td>\n",
       "      <td>Product</td>\n",
       "    </tr>\n",
       "    <tr>\n",
       "      <th>1</th>\n",
       "      <td>biodiesel</td>\n",
       "      <td>35491: Biodiesel</td>\n",
       "      <td>contains</td>\n",
       "      <td>Product</td>\n",
       "    </tr>\n",
       "    <tr>\n",
       "      <th>2</th>\n",
       "      <td>biomass, used as fuel</td>\n",
       "      <td>31230: Wood in chips or particles</td>\n",
       "      <td>equals</td>\n",
       "      <td>Product</td>\n",
       "    </tr>\n",
       "    <tr>\n",
       "      <th>3</th>\n",
       "      <td>biomethane, from biogas upgrading, using amine...</td>\n",
       "      <td>12020: Natural gas, liquefied or in the gaseou...</td>\n",
       "      <td>equals</td>\n",
       "      <td>Product</td>\n",
       "    </tr>\n",
       "    <tr>\n",
       "      <th>4</th>\n",
       "      <td>biomethane, high pressure</td>\n",
       "      <td>12020: Natural gas, liquefied or in the gaseou...</td>\n",
       "      <td>equals</td>\n",
       "      <td>Product</td>\n",
       "    </tr>\n",
       "  </tbody>\n",
       "</table>\n",
       "</div>"
      ]
     },
     "execution_count": 12,
     "metadata": {},
     "output_type": "execute_result"
    }
   ],
   "execution_count": 12
  },
  {
   "metadata": {},
   "cell_type": "markdown",
   "source": [
    "An abbreviation scheme for the impact categories you aim to work with, to ease the readability in the ESM. The abbreviations should be provided in a dataframe with the following columns:\n",
    "- `Impact_category`: the name of the impact category, expressed as a tuple following brightway convention\n",
    "- `Unit`: (optional) the unit of the impact category\n",
    "- `Abbrev`: the abbreviation of the impact category\n",
    "- `AoP`: the area of protection of the impact category"
   ],
   "id": "b5da46d185c9766f"
  },
  {
   "metadata": {
    "ExecuteTime": {
     "end_time": "2024-06-21T14:25:10.249651Z",
     "start_time": "2024-06-21T14:25:10.232234Z"
    }
   },
   "cell_type": "code",
   "source": "impact_abbrev.head()",
   "id": "a3da253e1403384a",
   "outputs": [
    {
     "data": {
      "text/plain": [
       "                                     Impact_category       Unit  Abbrev AoP\n",
       "0  ('IMPACT World+ Damage 2.0.1', 'Ecosystem qual...  PDF.m2.yr   CCEQL  EQ\n",
       "1  ('IMPACT World+ Damage 2.0.1', 'Ecosystem qual...  PDF.m2.yr   CCEQS  EQ\n",
       "2  ('IMPACT World+ Damage 2.0.1', 'Ecosystem qual...  PDF.m2.yr  CCEQLB  EQ\n",
       "3  ('IMPACT World+ Damage 2.0.1', 'Ecosystem qual...  PDF.m2.yr  CCEQSB  EQ\n",
       "4  ('IMPACT World+ Damage 2.0.1', 'Human health',...       DALY   CCHHL  HH"
      ],
      "text/html": [
       "<div>\n",
       "<style scoped>\n",
       "    .dataframe tbody tr th:only-of-type {\n",
       "        vertical-align: middle;\n",
       "    }\n",
       "\n",
       "    .dataframe tbody tr th {\n",
       "        vertical-align: top;\n",
       "    }\n",
       "\n",
       "    .dataframe thead th {\n",
       "        text-align: right;\n",
       "    }\n",
       "</style>\n",
       "<table border=\"1\" class=\"dataframe\">\n",
       "  <thead>\n",
       "    <tr style=\"text-align: right;\">\n",
       "      <th></th>\n",
       "      <th>Impact_category</th>\n",
       "      <th>Unit</th>\n",
       "      <th>Abbrev</th>\n",
       "      <th>AoP</th>\n",
       "    </tr>\n",
       "  </thead>\n",
       "  <tbody>\n",
       "    <tr>\n",
       "      <th>0</th>\n",
       "      <td>('IMPACT World+ Damage 2.0.1', 'Ecosystem qual...</td>\n",
       "      <td>PDF.m2.yr</td>\n",
       "      <td>CCEQL</td>\n",
       "      <td>EQ</td>\n",
       "    </tr>\n",
       "    <tr>\n",
       "      <th>1</th>\n",
       "      <td>('IMPACT World+ Damage 2.0.1', 'Ecosystem qual...</td>\n",
       "      <td>PDF.m2.yr</td>\n",
       "      <td>CCEQS</td>\n",
       "      <td>EQ</td>\n",
       "    </tr>\n",
       "    <tr>\n",
       "      <th>2</th>\n",
       "      <td>('IMPACT World+ Damage 2.0.1', 'Ecosystem qual...</td>\n",
       "      <td>PDF.m2.yr</td>\n",
       "      <td>CCEQLB</td>\n",
       "      <td>EQ</td>\n",
       "    </tr>\n",
       "    <tr>\n",
       "      <th>3</th>\n",
       "      <td>('IMPACT World+ Damage 2.0.1', 'Ecosystem qual...</td>\n",
       "      <td>PDF.m2.yr</td>\n",
       "      <td>CCEQSB</td>\n",
       "      <td>EQ</td>\n",
       "    </tr>\n",
       "    <tr>\n",
       "      <th>4</th>\n",
       "      <td>('IMPACT World+ Damage 2.0.1', 'Human health',...</td>\n",
       "      <td>DALY</td>\n",
       "      <td>CCHHL</td>\n",
       "      <td>HH</td>\n",
       "    </tr>\n",
       "  </tbody>\n",
       "</table>\n",
       "</div>"
      ]
     },
     "execution_count": 13,
     "metadata": {},
     "output_type": "execute_result"
    }
   ],
   "execution_count": 13
  },
  {
   "metadata": {},
   "cell_type": "markdown",
   "source": [
    "## Create a new database with additional CPC categories (optional)\n",
    "In case you are working with a LCI database without CPC categories, you can create a new database with the CPC categories. The function `create_new_database_with_CPC_categories` takes as input the database with missing CPC categories, the name of the new database, and a mapping between the products and activities in the LCI database and the CPC categories. It creates a new database with the CPC categories. This step can take a few minutes depending on the size of the database."
   ],
   "id": "93d4cc0ac977b2e1"
  },
  {
   "metadata": {
    "ExecuteTime": {
     "end_time": "2024-06-21T15:11:35.036424Z",
     "start_time": "2024-06-21T15:11:35.031382Z"
    }
   },
   "cell_type": "code",
   "source": [
    "name_premise_db = \"ecoinvent_cutoff_3.8_remind_SSP2-Base_2020\"\n",
    "name_premise_comp_db = name_premise_db + \"_comp_QC\""
   ],
   "id": "5ae4be2770b3170d",
   "outputs": [],
   "execution_count": 5
  },
  {
   "metadata": {
    "ExecuteTime": {
     "end_time": "2024-06-21T15:11:35.432297Z",
     "start_time": "2024-06-21T15:11:35.426014Z"
    }
   },
   "cell_type": "code",
   "source": [
    "name_premise_with_CPC_db = name_premise_db + '_with_CPC'\n",
    "name_premise_comp_with_CPC_db = name_premise_comp_db + '_with_CPC'"
   ],
   "id": "64d364d3117dff82",
   "outputs": [],
   "execution_count": 6
  },
  {
   "metadata": {
    "ExecuteTime": {
     "end_time": "2024-06-21T15:11:40.973867Z",
     "start_time": "2024-06-21T15:11:36.459759Z"
    }
   },
   "cell_type": "code",
   "source": [
    "premise_db = load_extract_db(name_premise_db)\n",
    "premise_comp_db = load_extract_db(name_premise_comp_db)"
   ],
   "id": "d62073607c67af57",
   "outputs": [],
   "execution_count": 7
  },
  {
   "metadata": {},
   "cell_type": "code",
   "outputs": [
    {
     "name": "stderr",
     "output_type": "stream",
     "text": [
      "Writing activities to SQLite3 database:\n",
      "0% [##############################] 100% | ETA: 00:00:00\n",
      "Total time elapsed: 00:00:51\n"
     ]
    },
    {
     "name": "stdout",
     "output_type": "stream",
     "text": [
      "Title: Writing activities to SQLite3 database:\n",
      "  Started: 06/21/2024 10:27:53\n",
      "  Finished: 06/21/2024 10:28:45\n",
      "  Total time elapsed: 00:00:51\n",
      "  CPU %: 60.40\n",
      "  Memory %: 18.13\n"
     ]
    }
   ],
   "execution_count": 24,
   "source": "create_new_database_with_CPC_categories(db=premise_db, new_db_name=name_premise_with_CPC_db, mapping_product_to_CPC=mapping_product_to_CPC)",
   "id": "c522c1c5317ce7df"
  },
  {
   "metadata": {},
   "cell_type": "code",
   "outputs": [
    {
     "name": "stderr",
     "output_type": "stream",
     "text": [
      "Writing activities to SQLite3 database:\n",
      "0% [##############################] 100% | ETA: 00:00:00\n",
      "Total time elapsed: 00:00:00\n"
     ]
    },
    {
     "name": "stdout",
     "output_type": "stream",
     "text": [
      "Title: Writing activities to SQLite3 database:\n",
      "  Started: 06/21/2024 10:32:46\n",
      "  Finished: 06/21/2024 10:32:46\n",
      "  Total time elapsed: 00:00:00\n",
      "  CPU %: 20.00\n",
      "  Memory %: 18.12\n"
     ]
    }
   ],
   "execution_count": 25,
   "source": "create_new_database_with_CPC_categories(db=premise_comp_db, new_db_name=name_premise_comp_with_CPC_db, mapping_product_to_CPC=mapping_product_to_CPC)",
   "id": "188f5e940f8a7314"
  },
  {
   "metadata": {},
   "cell_type": "code",
   "outputs": [
    {
     "name": "stdout",
     "output_type": "stream",
     "text": [
      "Getting activity data\n"
     ]
    },
    {
     "name": "stderr",
     "output_type": "stream",
     "text": [
      "100%|██████████| 37/37 [00:00<00:00, 11456.46it/s]\n"
     ]
    },
    {
     "name": "stdout",
     "output_type": "stream",
     "text": [
      "Adding exchange data to activities\n"
     ]
    },
    {
     "name": "stderr",
     "output_type": "stream",
     "text": [
      "100%|██████████| 1170/1170 [00:01<00:00, 1134.47it/s]\n"
     ]
    },
    {
     "name": "stdout",
     "output_type": "stream",
     "text": [
      "Filling out exchange data\n"
     ]
    },
    {
     "name": "stderr",
     "output_type": "stream",
     "text": [
      "100%|██████████| 37/37 [00:00<00:00, 134.00it/s]\n"
     ]
    }
   ],
   "execution_count": 26,
   "source": [
    "premise_comp_db = [] # free memory\n",
    "premise_comp_db_with_CPC = load_extract_db(name_premise_comp_with_CPC_db)"
   ],
   "id": "cd643bb02aa980d8"
  },
  {
   "metadata": {},
   "cell_type": "code",
   "outputs": [
    {
     "name": "stderr",
     "output_type": "stream",
     "text": [
      "Writing activities to SQLite3 database:\n",
      "0% [##############################] 100% | ETA: 00:00:00\n",
      "Total time elapsed: 00:00:00\n"
     ]
    },
    {
     "name": "stdout",
     "output_type": "stream",
     "text": [
      "Title: Writing activities to SQLite3 database:\n",
      "  Started: 06/21/2024 10:32:48\n",
      "  Finished: 06/21/2024 10:32:49\n",
      "  Total time elapsed: 00:00:00\n",
      "  CPU %: 31.30\n",
      "  Memory %: 18.12\n"
     ]
    }
   ],
   "execution_count": 27,
   "source": "relink_database(premise_comp_db_with_CPC, name_premise_db, name_premise_with_CPC_db)",
   "id": "45139d30ee403cea"
  },
  {
   "metadata": {},
   "cell_type": "markdown",
   "source": "## Operations on the mapping dataframe (optional)",
   "id": "e7e3c5702bd532ed"
  },
  {
   "metadata": {
    "ExecuteTime": {
     "end_time": "2024-06-21T15:11:46.555156Z",
     "start_time": "2024-06-21T15:11:41.183212Z"
    }
   },
   "cell_type": "code",
   "source": "premise_db_with_CPC = load_extract_db(name_premise_with_CPC_db)",
   "id": "7b53fb8b229916d7",
   "outputs": [],
   "execution_count": 8
  },
  {
   "metadata": {},
   "cell_type": "markdown",
   "source": [
    "### Relink the mapping dataframe with another database\n",
    "In this example, we relink the current mapping, which is based on ecoinvent and some additional inventories, with a [premise](https://premise.readthedocs.io/en/latest/introduction.html) database. The function `create_complementary_database` takes as input the mapping dataframe, the database to link to, and the name of a newly created complementary database, in case some LCI datasets are missing in the LCI database we relink to. It returns a new mapping dataframe with the location column updated, and create the complementary database in the brightway project."
   ],
   "id": "d60be56459f80ff9"
  },
  {
   "metadata": {
    "ExecuteTime": {
     "end_time": "2024-06-21T15:11:57.693971Z",
     "start_time": "2024-06-21T15:11:46.556264Z"
    }
   },
   "cell_type": "code",
   "source": "mapping_linked_to_premise = create_complementary_database(mapping, premise_db_with_CPC, name_premise_comp_with_CPC_db)",
   "id": "55c4f31fa199caa0",
   "outputs": [
    {
     "name": "stdout",
     "output_type": "stream",
     "text": [
      "No inventory in the premise database for ('EHP_H2_GRID', 'Construction')\n",
      "No inventory in the premise database for ('HP_H2_GRID', 'Construction')\n",
      "No inventory in the premise database for ('LCV_BIODIESEL_B100_MD', 'Operation')\n",
      "No inventory in the premise database for ('LCV_BIODIESEL_B100_MD', 'Construction')\n",
      "No inventory in the premise database for ('LCV_BIODIESEL_B100_SD', 'Operation')\n",
      "No inventory in the premise database for ('LCV_BIODIESEL_B100_SD', 'Construction')\n",
      "No inventory in the premise database for ('LCV_BIODIESEL_B20_MD', 'Construction')\n",
      "No inventory in the premise database for ('LCV_BIODIESEL_B20_MD', 'Operation')\n",
      "No inventory in the premise database for ('LCV_BIODIESEL_B20_SD', 'Operation')\n",
      "No inventory in the premise database for ('LCV_BIODIESEL_B20_SD', 'Construction')\n",
      "No inventory in the premise database for ('LCV_CNG_MD', 'Construction')\n",
      "No inventory in the premise database for ('LCV_CNG_MD', 'Operation')\n",
      "No inventory in the premise database for ('LCV_CNG_SD', 'Construction')\n",
      "No inventory in the premise database for ('LCV_CNG_SD', 'Operation')\n",
      "No inventory in the premise database for ('LCV_DIESEL_MD', 'Operation')\n",
      "No inventory in the premise database for ('LCV_DIESEL_MD', 'Construction')\n",
      "No inventory in the premise database for ('LCV_DIESEL_SD', 'Operation')\n",
      "No inventory in the premise database for ('LCV_DIESEL_SD', 'Construction')\n",
      "No inventory in the premise database for ('LCV_ETOH_E10_MD', 'Construction')\n",
      "No inventory in the premise database for ('LCV_ETOH_E10_MD', 'Operation')\n",
      "No inventory in the premise database for ('LCV_ETOH_E10_SD', 'Operation')\n",
      "No inventory in the premise database for ('LCV_ETOH_E10_SD', 'Construction')\n",
      "No inventory in the premise database for ('LCV_ETOH_E85_MD', 'Operation')\n",
      "No inventory in the premise database for ('LCV_ETOH_E85_MD', 'Construction')\n",
      "No inventory in the premise database for ('LCV_ETOH_E85_SD', 'Construction')\n",
      "No inventory in the premise database for ('LCV_ETOH_E85_SD', 'Operation')\n",
      "No inventory in the premise database for ('LCV_EV_MD', 'Construction')\n",
      "No inventory in the premise database for ('LCV_EV_MD', 'Operation')\n",
      "No inventory in the premise database for ('LCV_EV_SD', 'Operation')\n",
      "No inventory in the premise database for ('LCV_EV_SD', 'Construction')\n",
      "No inventory in the premise database for ('LCV_FC_CH4_MD', 'Construction')\n",
      "No inventory in the premise database for ('LCV_FC_CH4_MD', 'Operation')\n",
      "No inventory in the premise database for ('LCV_FC_CH4_SD', 'Operation')\n",
      "No inventory in the premise database for ('LCV_FC_CH4_SD', 'Construction')\n",
      "No inventory in the premise database for ('LCV_FC_H2_MD', 'Operation')\n",
      "No inventory in the premise database for ('LCV_FC_H2_MD', 'Construction')\n",
      "No inventory in the premise database for ('LCV_FC_H2_SD', 'Operation')\n",
      "No inventory in the premise database for ('LCV_FC_H2_SD', 'Construction')\n",
      "No inventory in the premise database for ('LCV_GASOLINE_MD', 'Construction')\n",
      "No inventory in the premise database for ('LCV_GASOLINE_MD', 'Operation')\n",
      "No inventory in the premise database for ('LCV_GASOLINE_SD', 'Operation')\n",
      "No inventory in the premise database for ('LCV_GASOLINE_SD', 'Construction')\n",
      "No inventory in the premise database for ('LCV_PHEV_GASOLINE_MD', 'Construction')\n",
      "No inventory in the premise database for ('LCV_PHEV_GASOLINE_MD', 'Operation')\n",
      "No inventory in the premise database for ('LCV_PHEV_GASOLINE_SD', 'Operation')\n",
      "No inventory in the premise database for ('LCV_PHEV_GASOLINE_SD', 'Construction')\n",
      "No inventory in the premise database for ('LCV_PROPANE_MD', 'Construction')\n",
      "No inventory in the premise database for ('LCV_PROPANE_MD', 'Operation')\n",
      "No inventory in the premise database for ('LCV_PROPANE_SD', 'Construction')\n",
      "No inventory in the premise database for ('LCV_PROPANE_SD', 'Operation')\n",
      "No inventory in the premise database for ('LP_H2_GRID', 'Construction')\n",
      "No inventory in the premise database for ('MP_H2_GRID', 'Construction')\n",
      "No inventory in the premise database for ('SEMI_SD_BIODIESEL_B100_MD', 'Operation')\n",
      "No inventory in the premise database for ('SEMI_SD_BIODIESEL_B100_MD', 'Construction')\n",
      "No inventory in the premise database for ('SEMI_SD_BIODIESEL_B20_MD', 'Operation')\n",
      "No inventory in the premise database for ('SEMI_SD_BIODIESEL_B20_MD', 'Construction')\n",
      "No inventory in the premise database for ('SEMI_SD_CNG_MD', 'Construction')\n",
      "No inventory in the premise database for ('SEMI_SD_CNG_MD', 'Operation')\n",
      "No inventory in the premise database for ('SEMI_SD_DIESEL_MD', 'Construction')\n",
      "No inventory in the premise database for ('SEMI_SD_DIESEL_MD', 'Operation')\n",
      "No inventory in the premise database for ('SEMI_SD_EV_MD', 'Construction')\n",
      "No inventory in the premise database for ('SEMI_SD_EV_MD', 'Operation')\n",
      "No inventory in the premise database for ('SEMI_SD_FC_CH4_MD', 'Construction')\n",
      "No inventory in the premise database for ('SEMI_SD_FC_CH4_MD', 'Operation')\n",
      "No inventory in the premise database for ('SEMI_SD_FC_H2_MD', 'Construction')\n",
      "No inventory in the premise database for ('SEMI_SD_FC_H2_MD', 'Operation')\n",
      "No inventory in the premise database for ('SEMI_SD_HY_DIESEL_MD', 'Operation')\n",
      "No inventory in the premise database for ('SEMI_SD_HY_DIESEL_MD', 'Construction')\n",
      "No inventory in the premise database for ('SEMI_SD_PROPANE_MD', 'Operation')\n",
      "No inventory in the premise database for ('SEMI_SD_PROPANE_MD', 'Construction')\n",
      "No inventory in the premise database for ('TRUCK_SD_BIODIESEL_B100_MD', 'Operation')\n",
      "No inventory in the premise database for ('TRUCK_SD_BIODIESEL_B100_MD', 'Construction')\n",
      "No inventory in the premise database for ('TRUCK_SD_BIODIESEL_B100_SD', 'Construction')\n",
      "No inventory in the premise database for ('TRUCK_SD_BIODIESEL_B100_SD', 'Operation')\n",
      "No inventory in the premise database for ('TRUCK_SD_BIODIESEL_B20_MD', 'Operation')\n",
      "No inventory in the premise database for ('TRUCK_SD_BIODIESEL_B20_MD', 'Construction')\n",
      "No inventory in the premise database for ('TRUCK_SD_BIODIESEL_B20_SD', 'Operation')\n",
      "No inventory in the premise database for ('TRUCK_SD_BIODIESEL_B20_SD', 'Construction')\n",
      "No inventory in the premise database for ('TRUCK_SD_CNG_MD', 'Operation')\n",
      "No inventory in the premise database for ('TRUCK_SD_CNG_MD', 'Construction')\n",
      "No inventory in the premise database for ('TRUCK_SD_CNG_SD', 'Operation')\n",
      "No inventory in the premise database for ('TRUCK_SD_CNG_SD', 'Construction')\n",
      "No inventory in the premise database for ('TRUCK_SD_DIESEL_MD', 'Construction')\n",
      "No inventory in the premise database for ('TRUCK_SD_DIESEL_MD', 'Operation')\n",
      "No inventory in the premise database for ('TRUCK_SD_DIESEL_SD', 'Operation')\n",
      "No inventory in the premise database for ('TRUCK_SD_DIESEL_SD', 'Construction')\n",
      "No inventory in the premise database for ('TRUCK_SD_EV_MD', 'Construction')\n",
      "No inventory in the premise database for ('TRUCK_SD_EV_MD', 'Operation')\n",
      "No inventory in the premise database for ('TRUCK_SD_EV_SD', 'Construction')\n",
      "No inventory in the premise database for ('TRUCK_SD_EV_SD', 'Operation')\n",
      "No inventory in the premise database for ('TRUCK_SD_FC_CH4_MD', 'Operation')\n",
      "No inventory in the premise database for ('TRUCK_SD_FC_CH4_MD', 'Construction')\n",
      "No inventory in the premise database for ('TRUCK_SD_FC_CH4_SD', 'Construction')\n",
      "No inventory in the premise database for ('TRUCK_SD_FC_CH4_SD', 'Operation')\n",
      "No inventory in the premise database for ('TRUCK_SD_HY_DIESEL_MD', 'Operation')\n",
      "No inventory in the premise database for ('TRUCK_SD_HY_DIESEL_MD', 'Construction')\n",
      "No inventory in the premise database for ('TRUCK_SD_HY_DIESEL_SD', 'Operation')\n",
      "No inventory in the premise database for ('TRUCK_SD_HY_DIESEL_SD', 'Construction')\n",
      "No inventory in the premise database for ('TRUCK_SD_PROPANE_MD', 'Operation')\n",
      "No inventory in the premise database for ('TRUCK_SD_PROPANE_MD', 'Construction')\n",
      "No inventory in the premise database for ('TRUCK_SD_PROPANE_SD', 'Construction')\n",
      "No inventory in the premise database for ('TRUCK_SD_PROPANE_SD', 'Operation')\n"
     ]
    },
    {
     "name": "stderr",
     "output_type": "stream",
     "text": [
      "Writing activities to SQLite3 database:\n",
      "0% [##############################] 100% | ETA: 00:00:00\n",
      "Total time elapsed: 00:00:00\n"
     ]
    },
    {
     "name": "stdout",
     "output_type": "stream",
     "text": [
      "Title: Writing activities to SQLite3 database:\n",
      "  Started: 06/21/2024 11:11:56\n",
      "  Finished: 06/21/2024 11:11:56\n",
      "  Total time elapsed: 00:00:00\n",
      "  CPU %: 0.00\n",
      "  Memory %: 23.46\n"
     ]
    }
   ],
   "execution_count": 9
  },
  {
   "metadata": {
    "ExecuteTime": {
     "end_time": "2024-06-21T15:11:57.709997Z",
     "start_time": "2024-06-21T15:11:57.693971Z"
    }
   },
   "cell_type": "code",
   "source": "mapping_linked_to_premise.head()",
   "id": "4eec0315e3d1b9b0",
   "outputs": [
    {
     "data": {
      "text/plain": [
       "                 Name          Type  \\\n",
       "0              AEC_OG     Operation   \n",
       "1        AEC_OG_PLANT  Construction   \n",
       "2  AEC_OG_PLANT_DECOM  Construction   \n",
       "3        AEC_OG_STACK  Construction   \n",
       "4  AEC_OG_STACK_DECOM  Construction   \n",
       "\n",
       "                                      Product  \\\n",
       "0                   hydrogen, gaseous, 20 bar   \n",
       "1   electrolyzer, 1MWe, AEC, Balance of Plant   \n",
       "2  used fuel cell balance of plant, 1MWe, AEC   \n",
       "3              electrolyzer, 1MWe, AEC, Stack   \n",
       "4             used fuel cell stack, 1MWe, AEC   \n",
       "\n",
       "                                            Activity Location  \\\n",
       "0  hydrogen production, gaseous, 20 bar, from AEC...       CH   \n",
       "1  electrolyzer production, 1MWe, AEC, Balance of...      RER   \n",
       "2  treatment of fuel cell balance of plant, 1MWe,...      RER   \n",
       "3          electrolyzer production, 1MWe, AEC, Stack      RER   \n",
       "4            treatment of fuel cell stack, 1MWe, AEC      RER   \n",
       "\n",
       "                                            Database  \n",
       "0  ecoinvent_cutoff_3.8_remind_SSP2-Base_2020_wit...  \n",
       "1  ecoinvent_cutoff_3.8_remind_SSP2-Base_2020_wit...  \n",
       "2  ecoinvent_cutoff_3.8_remind_SSP2-Base_2020_wit...  \n",
       "3  ecoinvent_cutoff_3.8_remind_SSP2-Base_2020_wit...  \n",
       "4  ecoinvent_cutoff_3.8_remind_SSP2-Base_2020_wit...  "
      ],
      "text/html": [
       "<div>\n",
       "<style scoped>\n",
       "    .dataframe tbody tr th:only-of-type {\n",
       "        vertical-align: middle;\n",
       "    }\n",
       "\n",
       "    .dataframe tbody tr th {\n",
       "        vertical-align: top;\n",
       "    }\n",
       "\n",
       "    .dataframe thead th {\n",
       "        text-align: right;\n",
       "    }\n",
       "</style>\n",
       "<table border=\"1\" class=\"dataframe\">\n",
       "  <thead>\n",
       "    <tr style=\"text-align: right;\">\n",
       "      <th></th>\n",
       "      <th>Name</th>\n",
       "      <th>Type</th>\n",
       "      <th>Product</th>\n",
       "      <th>Activity</th>\n",
       "      <th>Location</th>\n",
       "      <th>Database</th>\n",
       "    </tr>\n",
       "  </thead>\n",
       "  <tbody>\n",
       "    <tr>\n",
       "      <th>0</th>\n",
       "      <td>AEC_OG</td>\n",
       "      <td>Operation</td>\n",
       "      <td>hydrogen, gaseous, 20 bar</td>\n",
       "      <td>hydrogen production, gaseous, 20 bar, from AEC...</td>\n",
       "      <td>CH</td>\n",
       "      <td>ecoinvent_cutoff_3.8_remind_SSP2-Base_2020_wit...</td>\n",
       "    </tr>\n",
       "    <tr>\n",
       "      <th>1</th>\n",
       "      <td>AEC_OG_PLANT</td>\n",
       "      <td>Construction</td>\n",
       "      <td>electrolyzer, 1MWe, AEC, Balance of Plant</td>\n",
       "      <td>electrolyzer production, 1MWe, AEC, Balance of...</td>\n",
       "      <td>RER</td>\n",
       "      <td>ecoinvent_cutoff_3.8_remind_SSP2-Base_2020_wit...</td>\n",
       "    </tr>\n",
       "    <tr>\n",
       "      <th>2</th>\n",
       "      <td>AEC_OG_PLANT_DECOM</td>\n",
       "      <td>Construction</td>\n",
       "      <td>used fuel cell balance of plant, 1MWe, AEC</td>\n",
       "      <td>treatment of fuel cell balance of plant, 1MWe,...</td>\n",
       "      <td>RER</td>\n",
       "      <td>ecoinvent_cutoff_3.8_remind_SSP2-Base_2020_wit...</td>\n",
       "    </tr>\n",
       "    <tr>\n",
       "      <th>3</th>\n",
       "      <td>AEC_OG_STACK</td>\n",
       "      <td>Construction</td>\n",
       "      <td>electrolyzer, 1MWe, AEC, Stack</td>\n",
       "      <td>electrolyzer production, 1MWe, AEC, Stack</td>\n",
       "      <td>RER</td>\n",
       "      <td>ecoinvent_cutoff_3.8_remind_SSP2-Base_2020_wit...</td>\n",
       "    </tr>\n",
       "    <tr>\n",
       "      <th>4</th>\n",
       "      <td>AEC_OG_STACK_DECOM</td>\n",
       "      <td>Construction</td>\n",
       "      <td>used fuel cell stack, 1MWe, AEC</td>\n",
       "      <td>treatment of fuel cell stack, 1MWe, AEC</td>\n",
       "      <td>RER</td>\n",
       "      <td>ecoinvent_cutoff_3.8_remind_SSP2-Base_2020_wit...</td>\n",
       "    </tr>\n",
       "  </tbody>\n",
       "</table>\n",
       "</div>"
      ]
     },
     "execution_count": 10,
     "metadata": {},
     "output_type": "execute_result"
    }
   ],
   "execution_count": 10
  },
  {
   "metadata": {},
   "cell_type": "markdown",
   "source": [
    "### Add or replace the location column based on a user-defined ranking\n",
    "Based on a user-defined ranking, the location column of the mapping dataframe can be updated. The function `change_location_mapping_file` takes as input the mapping dataframe, the user-defined ranking, and the base database. It returns the mapping dataframe with the location column updated."
   ],
   "id": "fdff9a72e4fbf70a"
  },
  {
   "metadata": {
    "ExecuteTime": {
     "end_time": "2024-06-21T15:12:02.525572Z",
     "start_time": "2024-06-21T15:11:57.709997Z"
    }
   },
   "cell_type": "code",
   "source": [
    "# create a concatenated database of all databases in the mapping dataframe (including background requirements)\n",
    "base_db = concatenate_databases(list(mapping_linked_to_premise.Database.unique()))"
   ],
   "id": "9dd502c6d5773bd2",
   "outputs": [
    {
     "name": "stdout",
     "output_type": "stream",
     "text": [
      "Getting activity data\n"
     ]
    },
    {
     "name": "stderr",
     "output_type": "stream",
     "text": [
      "100%|██████████| 37/37 [00:00<00:00, 15087.42it/s]\n"
     ]
    },
    {
     "name": "stdout",
     "output_type": "stream",
     "text": [
      "Adding exchange data to activities\n"
     ]
    },
    {
     "name": "stderr",
     "output_type": "stream",
     "text": [
      "100%|██████████| 1170/1170 [00:00<00:00, 74153.58it/s]\n"
     ]
    },
    {
     "name": "stdout",
     "output_type": "stream",
     "text": [
      "Filling out exchange data\n"
     ]
    },
    {
     "name": "stderr",
     "output_type": "stream",
     "text": [
      "100%|██████████| 37/37 [00:00<00:00, 180.18it/s]\n"
     ]
    }
   ],
   "execution_count": 11
  },
  {
   "metadata": {
    "ExecuteTime": {
     "end_time": "2024-06-21T15:12:02.534209Z",
     "start_time": "2024-06-21T15:12:02.525572Z"
    }
   },
   "cell_type": "code",
   "source": [
    "# Define the user-defined ranking\n",
    "my_ranking = [\n",
    "    'CA-QC', # Quebec\n",
    "    'CA', # Canada\n",
    "    'CA-ON', # Other canadian provinces \n",
    "    'CA-AB',\n",
    "    'CA-BC',\n",
    "    'CA-MB',\n",
    "    'CA-NB',\n",
    "    'CA-NF',\n",
    "    'CA-NS',\n",
    "    'CA-NT',\n",
    "    'CA-NU',\n",
    "    'CA-PE',\n",
    "    'CAZ', # Canada - Australia - New Zealand\n",
    "    'RNA', # North America\n",
    "    'US', # United States\n",
    "    'USA', # United States\n",
    "    'GLO', # Global average \n",
    "    'RoW', # Rest of the world\n",
    "]"
   ],
   "id": "b27bcbc91b924324",
   "outputs": [],
   "execution_count": 12
  },
  {
   "metadata": {
    "ExecuteTime": {
     "end_time": "2024-06-21T15:12:12.023637Z",
     "start_time": "2024-06-21T15:12:02.534209Z"
    }
   },
   "cell_type": "code",
   "source": [
    "# Update mapping dataframe\n",
    "mapping_linked_to_premise = change_location_mapping_file(mapping_linked_to_premise, my_ranking, base_db, 'QC')"
   ],
   "id": "cb4951f2d751a738",
   "outputs": [],
   "execution_count": 13
  },
  {
   "metadata": {
    "ExecuteTime": {
     "end_time": "2024-06-21T15:12:12.035371Z",
     "start_time": "2024-06-21T15:12:12.023637Z"
    }
   },
   "cell_type": "code",
   "source": "mapping_linked_to_premise.head()",
   "id": "7e32ad69b357fc0e",
   "outputs": [
    {
     "data": {
      "text/plain": [
       "                 Name          Type  \\\n",
       "0              AEC_OG     Operation   \n",
       "1        AEC_OG_PLANT  Construction   \n",
       "2  AEC_OG_PLANT_DECOM  Construction   \n",
       "3        AEC_OG_STACK  Construction   \n",
       "4  AEC_OG_STACK_DECOM  Construction   \n",
       "\n",
       "                                      Product  \\\n",
       "0                   hydrogen, gaseous, 20 bar   \n",
       "1   electrolyzer, 1MWe, AEC, Balance of Plant   \n",
       "2  used fuel cell balance of plant, 1MWe, AEC   \n",
       "3              electrolyzer, 1MWe, AEC, Stack   \n",
       "4             used fuel cell stack, 1MWe, AEC   \n",
       "\n",
       "                                            Activity Location  \\\n",
       "0  hydrogen production, gaseous, 20 bar, from AEC...       CH   \n",
       "1  electrolyzer production, 1MWe, AEC, Balance of...      RER   \n",
       "2  treatment of fuel cell balance of plant, 1MWe,...      RER   \n",
       "3          electrolyzer production, 1MWe, AEC, Stack      RER   \n",
       "4            treatment of fuel cell stack, 1MWe, AEC      RER   \n",
       "\n",
       "                                            Database  \n",
       "0  ecoinvent_cutoff_3.8_remind_SSP2-Base_2020_wit...  \n",
       "1  ecoinvent_cutoff_3.8_remind_SSP2-Base_2020_wit...  \n",
       "2  ecoinvent_cutoff_3.8_remind_SSP2-Base_2020_wit...  \n",
       "3  ecoinvent_cutoff_3.8_remind_SSP2-Base_2020_wit...  \n",
       "4  ecoinvent_cutoff_3.8_remind_SSP2-Base_2020_wit...  "
      ],
      "text/html": [
       "<div>\n",
       "<style scoped>\n",
       "    .dataframe tbody tr th:only-of-type {\n",
       "        vertical-align: middle;\n",
       "    }\n",
       "\n",
       "    .dataframe tbody tr th {\n",
       "        vertical-align: top;\n",
       "    }\n",
       "\n",
       "    .dataframe thead th {\n",
       "        text-align: right;\n",
       "    }\n",
       "</style>\n",
       "<table border=\"1\" class=\"dataframe\">\n",
       "  <thead>\n",
       "    <tr style=\"text-align: right;\">\n",
       "      <th></th>\n",
       "      <th>Name</th>\n",
       "      <th>Type</th>\n",
       "      <th>Product</th>\n",
       "      <th>Activity</th>\n",
       "      <th>Location</th>\n",
       "      <th>Database</th>\n",
       "    </tr>\n",
       "  </thead>\n",
       "  <tbody>\n",
       "    <tr>\n",
       "      <th>0</th>\n",
       "      <td>AEC_OG</td>\n",
       "      <td>Operation</td>\n",
       "      <td>hydrogen, gaseous, 20 bar</td>\n",
       "      <td>hydrogen production, gaseous, 20 bar, from AEC...</td>\n",
       "      <td>CH</td>\n",
       "      <td>ecoinvent_cutoff_3.8_remind_SSP2-Base_2020_wit...</td>\n",
       "    </tr>\n",
       "    <tr>\n",
       "      <th>1</th>\n",
       "      <td>AEC_OG_PLANT</td>\n",
       "      <td>Construction</td>\n",
       "      <td>electrolyzer, 1MWe, AEC, Balance of Plant</td>\n",
       "      <td>electrolyzer production, 1MWe, AEC, Balance of...</td>\n",
       "      <td>RER</td>\n",
       "      <td>ecoinvent_cutoff_3.8_remind_SSP2-Base_2020_wit...</td>\n",
       "    </tr>\n",
       "    <tr>\n",
       "      <th>2</th>\n",
       "      <td>AEC_OG_PLANT_DECOM</td>\n",
       "      <td>Construction</td>\n",
       "      <td>used fuel cell balance of plant, 1MWe, AEC</td>\n",
       "      <td>treatment of fuel cell balance of plant, 1MWe,...</td>\n",
       "      <td>RER</td>\n",
       "      <td>ecoinvent_cutoff_3.8_remind_SSP2-Base_2020_wit...</td>\n",
       "    </tr>\n",
       "    <tr>\n",
       "      <th>3</th>\n",
       "      <td>AEC_OG_STACK</td>\n",
       "      <td>Construction</td>\n",
       "      <td>electrolyzer, 1MWe, AEC, Stack</td>\n",
       "      <td>electrolyzer production, 1MWe, AEC, Stack</td>\n",
       "      <td>RER</td>\n",
       "      <td>ecoinvent_cutoff_3.8_remind_SSP2-Base_2020_wit...</td>\n",
       "    </tr>\n",
       "    <tr>\n",
       "      <th>4</th>\n",
       "      <td>AEC_OG_STACK_DECOM</td>\n",
       "      <td>Construction</td>\n",
       "      <td>used fuel cell stack, 1MWe, AEC</td>\n",
       "      <td>treatment of fuel cell stack, 1MWe, AEC</td>\n",
       "      <td>RER</td>\n",
       "      <td>ecoinvent_cutoff_3.8_remind_SSP2-Base_2020_wit...</td>\n",
       "    </tr>\n",
       "  </tbody>\n",
       "</table>\n",
       "</div>"
      ]
     },
     "execution_count": 14,
     "metadata": {},
     "output_type": "execute_result"
    }
   ],
   "execution_count": 14
  },
  {
   "metadata": {
    "ExecuteTime": {
     "end_time": "2024-06-21T15:12:12.053741Z",
     "start_time": "2024-06-21T15:12:12.035371Z"
    }
   },
   "cell_type": "code",
   "source": [
    "# Save the relinked mapping file\n",
    "mapping_linked_to_premise.to_csv('../dev/energyscope_data/mapping_linked.csv', index=False)"
   ],
   "id": "57e0331a7876b7bd",
   "outputs": [],
   "execution_count": 15
  },
  {
   "metadata": {},
   "cell_type": "markdown",
   "source": "## Double-counting removal",
   "id": "4d25a01896041d53"
  },
  {
   "metadata": {},
   "cell_type": "code",
   "outputs": [],
   "execution_count": 6,
   "source": [
    "# To skip the previous steps\n",
    "# mapping_linked_to_premise = pd.read_csv('../dev/energyscope_data/mapping_linked.csv')"
   ],
   "id": "d26d9f21a511c539"
  },
  {
   "metadata": {
    "ExecuteTime": {
     "end_time": "2024-06-20T14:13:18.668416Z",
     "start_time": "2024-06-20T14:13:18.663111Z"
    }
   },
   "cell_type": "code",
   "source": "new_db_name = 'energyscope_QC_2020'",
   "id": "e62e389e6498b32f",
   "outputs": [],
   "execution_count": 18
  },
  {
   "metadata": {
    "ExecuteTime": {
     "end_time": "2024-06-20T14:13:18.993424Z",
     "start_time": "2024-06-20T14:13:18.981427Z"
    }
   },
   "cell_type": "code",
   "source": "regionalize_foregrounds = True",
   "id": "99648ccb2e3afaaa",
   "outputs": [],
   "execution_count": 19
  },
  {
   "metadata": {
    "ExecuteTime": {
     "end_time": "2024-06-20T14:13:19.652093Z",
     "start_time": "2024-06-20T14:13:19.647219Z"
    }
   },
   "cell_type": "code",
   "source": "mismatch_regions = ['GLO', 'RoW', 'RER', 'CH']  # insufficient match within ecoinvent",
   "id": "145d3b7fdc23fcc9",
   "outputs": [],
   "execution_count": 20
  },
  {
   "metadata": {
    "ExecuteTime": {
     "end_time": "2024-06-20T14:14:15.204323Z",
     "start_time": "2024-06-20T14:13:24.145291Z"
    }
   },
   "cell_type": "code",
   "source": [
    "premise_comp_db_with_CPC = [] # free memory\n",
    "base_db = concatenate_databases(list(mapping_linked_to_premise.Database.unique()))"
   ],
   "id": "f50caad57c8b9168",
   "outputs": [
    {
     "name": "stdout",
     "output_type": "stream",
     "text": [
      "Getting activity data\n"
     ]
    },
    {
     "name": "stderr",
     "output_type": "stream",
     "text": [
      "100%|██████████| 30201/30201 [00:00<00:00, 37961.30it/s] \n"
     ]
    },
    {
     "name": "stdout",
     "output_type": "stream",
     "text": [
      "Adding exchange data to activities\n"
     ]
    },
    {
     "name": "stderr",
     "output_type": "stream",
     "text": [
      "100%|██████████| 1022813/1022813 [00:40<00:00, 24965.14it/s]\n"
     ]
    },
    {
     "name": "stdout",
     "output_type": "stream",
     "text": [
      "Filling out exchange data\n"
     ]
    },
    {
     "name": "stderr",
     "output_type": "stream",
     "text": [
      "100%|██████████| 30201/30201 [00:03<00:00, 8342.95it/s] \n"
     ]
    },
    {
     "name": "stdout",
     "output_type": "stream",
     "text": [
      "Getting activity data\n"
     ]
    },
    {
     "name": "stderr",
     "output_type": "stream",
     "text": [
      "100%|██████████| 37/37 [00:00<00:00, 36949.82it/s]\n"
     ]
    },
    {
     "name": "stdout",
     "output_type": "stream",
     "text": [
      "Adding exchange data to activities\n"
     ]
    },
    {
     "name": "stderr",
     "output_type": "stream",
     "text": [
      "100%|██████████| 1170/1170 [00:00<00:00, 41788.03it/s]\n"
     ]
    },
    {
     "name": "stdout",
     "output_type": "stream",
     "text": [
      "Filling out exchange data\n"
     ]
    },
    {
     "name": "stderr",
     "output_type": "stream",
     "text": [
      "100%|██████████| 37/37 [00:00<00:00, 195.55it/s]\n"
     ]
    }
   ],
   "execution_count": 21
  },
  {
   "metadata": {
    "ExecuteTime": {
     "end_time": "2024-06-20T14:19:41.719466Z",
     "start_time": "2024-06-20T14:15:16.505583Z"
    }
   },
   "cell_type": "code",
   "source": [
    "mapping_linked_to_premise_new_code = create_esm_database(\n",
    "    mapping=mapping_linked_to_premise,\n",
    "    model=model,\n",
    "    tech_specifics=technology_specifics,\n",
    "    technology_compositions=technology_compositions,\n",
    "    mapping_esm_flows_to_CPC_cat=mapping_esm_flows_to_CPC,\n",
    "    main_database=base_db,\n",
    "    esm_db_name=new_db_name,\n",
    "    regionalize_foregrounds=regionalize_foregrounds,\n",
    "    mismatch_regions=mismatch_regions,\n",
    "    target_region='CA-QC',\n",
    "    locations_ranking=my_ranking\n",
    ")"
   ],
   "id": "4523009e1a96025f",
   "outputs": [
    {
     "name": "stdout",
     "output_type": "stream",
     "text": [
      "AEC_OG\n",
      "ALKALINE_ELECTROLYSIS\n",
      "AL_MAKING\n",
      "AL_MAKING_HR\n",
      "AN_DIG\n",
      "AN_DIG_SI\n",
      "ATR\n",
      "ATR_CCS\n",
      "BIOGAS_ATR\n",
      "BIOGAS_ATR_CCS\n",
      "BIOGAS_BIOMETHANE\n",
      "BIOGAS_SMR\n",
      "BIOGAS_SMR_CCS\n",
      "BIOMASS_ETHANOL\n",
      "BIOMASS_GAS_EF_H2\n",
      "BIOMASS_GAS_EF_H2_CCS\n",
      "BIOMASS_GAS_FB_H2\n",
      "BIOMASS_GAS_FB_H2_CCS\n",
      "BUS_BIODIESEL_B100_SD\n",
      "BUS_BIODIESEL_B20_SD\n",
      "BUS_CNG_SD\n",
      "BUS_DIESEL_SD\n",
      "BUS_EV_SD\n",
      "BUS_FC_CH4_SD\n",
      "BUS_FC_H2_SD\n",
      "BUS_HY_DIESEL_SD\n",
      "BUS_PROPANE_SD\n",
      "CAR_BIODIESEL_B100_ELD\n",
      "CAR_BIODIESEL_B100_LD\n",
      "CAR_BIODIESEL_B100_MD\n",
      "CAR_BIODIESEL_B100_SD\n",
      "CAR_BIODIESEL_B20_ELD\n",
      "CAR_BIODIESEL_B20_LD\n",
      "CAR_BIODIESEL_B20_MD\n",
      "CAR_BIODIESEL_B20_SD\n",
      "CAR_CNG_ELD\n",
      "CAR_CNG_LD\n",
      "CAR_CNG_MD\n",
      "CAR_CNG_SD\n",
      "CAR_DIESEL_ELD\n",
      "CAR_DIESEL_LD\n",
      "CAR_DIESEL_MD\n",
      "CAR_DIESEL_SD\n",
      "CAR_ETOH_E10_ELD\n",
      "CAR_ETOH_E10_LD\n",
      "CAR_ETOH_E10_MD\n",
      "CAR_ETOH_E10_SD\n",
      "CAR_ETOH_E85_ELD\n",
      "CAR_ETOH_E85_LD\n",
      "CAR_ETOH_E85_MD\n",
      "CAR_ETOH_E85_SD\n",
      "CAR_EV_ELD\n",
      "CAR_EV_LD\n",
      "CAR_EV_MD\n",
      "CAR_EV_SD\n",
      "CAR_FC_CH4_ELD\n",
      "CAR_FC_CH4_LD\n",
      "CAR_FC_CH4_MD\n",
      "CAR_FC_CH4_SD\n",
      "CAR_FC_H2_ELD\n",
      "CAR_FC_H2_LD\n",
      "CAR_FC_H2_MD\n",
      "CAR_FC_H2_SD\n",
      "CAR_GASOLINE_ELD\n",
      "CAR_GASOLINE_LD\n",
      "CAR_GASOLINE_MD\n",
      "CAR_GASOLINE_SD\n",
      "CAR_HY_GASOLINE_ELD\n",
      "CAR_HY_GASOLINE_LD\n",
      "CAR_HY_GASOLINE_MD\n",
      "CAR_HY_GASOLINE_SD\n",
      "CAR_PHEV_GASOLINE_ELD\n",
      "CAR_PHEV_GASOLINE_LD\n",
      "CAR_PHEV_GASOLINE_MD\n",
      "CAR_PHEV_GASOLINE_SD\n",
      "CAR_PROPANE_ELD\n",
      "CAR_PROPANE_LD\n",
      "CAR_PROPANE_MD\n",
      "CAR_PROPANE_SD\n",
      "CCGT\n",
      "CCGT_CC\n",
      "CEMENT_PROD\n",
      "CEMENT_PROD_HP\n",
      "CO2_METHANOL\n",
      "CO2_TO_DIESEL\n",
      "CO2_TO_JETFUELS\n",
      "COACH_BIODIESEL_B100_ELD\n",
      "COACH_BIODIESEL_B100_LD\n",
      "COACH_BIODIESEL_B100_MD\n",
      "COACH_BIODIESEL_B20_ELD\n",
      "COACH_BIODIESEL_B20_LD\n",
      "COACH_BIODIESEL_B20_MD\n",
      "COACH_CNG_ELD\n",
      "COACH_CNG_LD\n",
      "COACH_CNG_MD\n",
      "COACH_DIESEL_ELD\n",
      "COACH_DIESEL_LD\n",
      "COACH_DIESEL_MD\n",
      "COACH_ETOH_E10_ELD\n",
      "COACH_ETOH_E10_LD\n",
      "COACH_ETOH_E10_MD\n",
      "COACH_EV_ELD\n",
      "COACH_EV_LD\n",
      "COACH_EV_MD\n",
      "COACH_FC_CH4_ELD\n",
      "COACH_FC_CH4_LD\n",
      "COACH_FC_CH4_MD\n",
      "COACH_GASOLINE_ELD\n",
      "COACH_GASOLINE_LD\n",
      "COACH_GASOLINE_MD\n",
      "COACH_PROPANE_ELD\n",
      "COACH_PROPANE_LD\n",
      "COACH_PROPANE_MD\n",
      "COAL_GAS_H2\n",
      "COAL_GAS_H2_ADV\n",
      "COAL_GAS_H2_ADV_CCS\n",
      "COAL_GAS_H2_CCS\n",
      "COAL_IGCC\n",
      "COAL_IGCC_CC\n",
      "COAL_US\n",
      "COAL_US_CC\n",
      "CROPS_TO_ETHANOL\n",
      "CROPS_TO_JETFUELS\n",
      "CUMENE_PROCESS\n",
      "DAC_HT\n",
      "DAC_LT\n",
      "DEC_BOILER_GAS\n",
      "DEC_BOILER_OIL\n",
      "DEC_BOILER_WOOD\n",
      "DEC_COGEN_GAS\n",
      "DEC_COGEN_OIL\n",
      "DEC_COGEN_WOOD\n",
      "DEC_DEEP_GEO\n",
      "DEC_HP_ELEC\n",
      "DEC_THHP_GAS\n",
      "DEEP_SALINE\n",
      "DHN_BOILER_GAS\n",
      "DHN_BOILER_OIL\n",
      "DHN_BOILER_WOOD\n",
      "DHN_COGEN_GAS\n",
      "DHN_COGEN_WASTE\n",
      "DHN_COGEN_WOOD\n",
      "DHN_DEEP_GEO\n",
      "DHN_HP_ELEC\n",
      "DIESEL_GEN\n",
      "DIRECT_USAGE\n",
      "DOGR\n",
      "EOR\n",
      "ETHANE_CRACKING\n",
      "ETHANE_OXIDATION\n",
      "ETHANE_TO_ETHYLENE\n",
      "ETHANOL_TO_JETFUELS\n",
      "ETHYLENE_POLYMERIZATION\n",
      "FOOD_PROD\n",
      "FOOD_PROD_HP\n",
      "FOOD_PROD_HR\n",
      "FT\n",
      "GASIFICATION_H2\n",
      "GASIFICATION_SNG\n",
      "GEOTHERMAL\n",
      "H2_COMP_100\n",
      "H2_COMP_100_350\n",
      "H2_COMP_200\n",
      "H2_COMP_200_350\n",
      "H2_Haber_Bosch\n",
      "H2_NG_CCGT\n",
      "H2_STO\n",
      "HYDRO_DAM\n",
      "HYDRO_GAS\n",
      "HYDRO_GAS_CHP\n",
      "HYDRO_RIVER\n",
      "HYDRO_STORAGE\n",
      "IND_BOILER_COAL\n",
      "IND_BOILER_GAS\n",
      "IND_BOILER_OIL\n",
      "IND_BOILER_WASTE\n",
      "IND_BOILER_WOOD\n",
      "IND_COGEN_GAS\n",
      "IND_COGEN_WASTE\n",
      "IND_COGEN_WOOD\n",
      "IND_HP_ELEC\n",
      "LCV_BIODIESEL_B100_MD\n",
      "LCV_BIODIESEL_B100_SD\n",
      "LCV_BIODIESEL_B20_MD\n",
      "LCV_BIODIESEL_B20_SD\n",
      "LCV_CNG_MD\n",
      "LCV_CNG_SD\n",
      "LCV_DIESEL_MD\n",
      "LCV_DIESEL_SD\n",
      "LCV_ETOH_E10_MD\n",
      "LCV_ETOH_E10_SD\n",
      "LCV_ETOH_E85_MD\n",
      "LCV_ETOH_E85_SD\n",
      "LCV_EV_MD\n",
      "LCV_EV_SD\n",
      "LCV_FC_CH4_MD\n",
      "LCV_FC_CH4_SD\n",
      "LCV_FC_H2_MD\n",
      "LCV_FC_H2_SD\n",
      "LCV_GASOLINE_MD\n",
      "LCV_GASOLINE_SD\n",
      "LCV_PHEV_GASOLINE_MD\n",
      "LCV_PHEV_GASOLINE_SD\n",
      "LCV_PROPANE_MD\n",
      "LCV_PROPANE_SD\n",
      "METATHESIS_PROPYLENE\n",
      "METHANATION\n",
      "METHANE_TO_METHANOL\n",
      "METHANOL_CARBONYLATION\n",
      "METHANOL_FT\n",
      "METHANOL_TO_AROMATICS\n",
      "METHANOL_TO_OLEFINS\n",
      "MINES_STORAGE\n",
      "NEW_HYDRO_DAM\n",
      "NEW_HYDRO_RIVER\n",
      "NG_GEN\n",
      "NG_PYROLYSIS_PLASMA\n",
      "NG_PYROLYSIS_THERMAL\n",
      "NG_REFORMING\n",
      "NUCLEAR\n",
      "OCGT_LARGE\n",
      "OCGT_SMALL\n",
      "PAPER_MAKING\n",
      "PAPER_MAKING_HP\n",
      "PAPER_MAKING_HR\n",
      "PEMEC_OG\n",
      "PEM_ELECTROLYSIS\n",
      "PET_FORMATION\n",
      "PLANE_FREIGHT_ELD\n",
      "PLANE_LH_ELD\n",
      "PLANE_SH_LD\n",
      "POLYPROPYLENE_PP\n",
      "PV\n",
      "PVC_FORMATION\n",
      "PV_EHV\n",
      "PYROLYSIS\n",
      "SCHOOLBUS_BIODIESEL_B100_SD\n",
      "SCHOOLBUS_BIODIESEL_B20_SD\n",
      "SCHOOLBUS_CNG_SD\n",
      "SCHOOLBUS_DIESEL_SD\n",
      "SCHOOLBUS_ETOH_E10_SD\n",
      "SCHOOLBUS_EV_SD\n",
      "SCHOOLBUS_FC_CH4_SD\n",
      "SCHOOLBUS_GASOLINE_SD\n",
      "SCHOOLBUS_HY_DIESEL_SD\n",
      "SCHOOLBUS_PROPANE_SD\n",
      "SEMI_LD_BIODIESEL_B100_ELD\n",
      "SEMI_LD_BIODIESEL_B100_LD\n",
      "SEMI_LD_BIODIESEL_B20_ELD\n",
      "SEMI_LD_BIODIESEL_B20_LD\n",
      "SEMI_LD_CNG_ELD\n",
      "SEMI_LD_CNG_LD\n",
      "SEMI_LD_DIESEL_ELD\n",
      "SEMI_LD_DIESEL_LD\n",
      "SEMI_LD_EV_ELD\n",
      "SEMI_LD_EV_LD\n",
      "SEMI_LD_FC_CH4_ELD\n",
      "SEMI_LD_FC_CH4_LD\n",
      "SEMI_LD_FC_H2_ELD\n",
      "SEMI_LD_FC_H2_LD\n",
      "SEMI_LD_HY_DIESEL_ELD\n",
      "SEMI_LD_HY_DIESEL_LD\n",
      "SEMI_LD_PROPANE_ELD\n",
      "SEMI_LD_PROPANE_LD\n",
      "SEMI_SD_BIODIESEL_B100_MD\n",
      "SEMI_SD_BIODIESEL_B20_MD\n",
      "SEMI_SD_CNG_MD\n",
      "SEMI_SD_DIESEL_MD\n",
      "SEMI_SD_EV_MD\n",
      "SEMI_SD_FC_CH4_MD\n",
      "SEMI_SD_FC_H2_MD\n",
      "SEMI_SD_HY_DIESEL_MD\n",
      "SEMI_SD_PROPANE_MD\n",
      "SMART_PROCESS\n",
      "SMR\n",
      "SMR_CCS\n",
      "SOEC_ELECTROLYSIS\n",
      "SOEC_OG\n",
      "STEEL_MAKING\n",
      "STEEL_MAKING_HP\n",
      "STEEL_MAKING_HR\n",
      "STYRENE_POLYMERIZATION\n",
      "SUV_BIODIESEL_B100_ELD\n",
      "SUV_BIODIESEL_B100_LD\n",
      "SUV_BIODIESEL_B100_MD\n",
      "SUV_BIODIESEL_B100_SD\n",
      "SUV_BIODIESEL_B20_ELD\n",
      "SUV_BIODIESEL_B20_LD\n",
      "SUV_BIODIESEL_B20_MD\n",
      "SUV_BIODIESEL_B20_SD\n",
      "SUV_CNG_ELD\n",
      "SUV_CNG_LD\n",
      "SUV_CNG_MD\n",
      "SUV_CNG_SD\n",
      "SUV_DIESEL_ELD\n",
      "SUV_DIESEL_LD\n",
      "SUV_DIESEL_MD\n",
      "SUV_DIESEL_SD\n",
      "SUV_ETOH_E10_ELD\n",
      "SUV_ETOH_E10_LD\n",
      "SUV_ETOH_E10_MD\n",
      "SUV_ETOH_E10_SD\n",
      "SUV_ETOH_E85_ELD\n",
      "SUV_ETOH_E85_LD\n",
      "SUV_ETOH_E85_MD\n",
      "SUV_ETOH_E85_SD\n",
      "SUV_EV_ELD\n",
      "SUV_EV_LD\n",
      "SUV_EV_MD\n",
      "SUV_EV_SD\n",
      "SUV_FC_CH4_ELD\n",
      "SUV_FC_CH4_LD\n",
      "SUV_FC_CH4_MD\n",
      "SUV_FC_CH4_SD\n",
      "SUV_FC_H2_ELD\n",
      "SUV_FC_H2_LD\n",
      "SUV_FC_H2_MD\n",
      "SUV_FC_H2_SD\n",
      "SUV_GASOLINE_ELD\n",
      "SUV_GASOLINE_LD\n",
      "SUV_GASOLINE_MD\n",
      "SUV_GASOLINE_SD\n",
      "SUV_HY_GASOLINE_ELD\n",
      "SUV_HY_GASOLINE_LD\n",
      "SUV_HY_GASOLINE_MD\n",
      "SUV_HY_GASOLINE_SD\n",
      "SUV_PHEV_GASOLINE_ELD\n",
      "SUV_PHEV_GASOLINE_LD\n",
      "SUV_PHEV_GASOLINE_MD\n",
      "SUV_PHEV_GASOLINE_SD\n",
      "SUV_PROPANE_ELD\n",
      "SUV_PROPANE_LD\n",
      "SUV_PROPANE_MD\n",
      "SUV_PROPANE_SD\n",
      "TIDAL\n",
      "TRAIN_DIESEL_ELD\n",
      "TRAIN_DIESEL_LD\n",
      "TRAIN_FREIGHT_DIESEL_ELD\n",
      "TRAIN_FREIGHT_DIESEL_LD\n",
      "TRAIN_FREIGHT_H2_ELD\n",
      "TRAIN_FREIGHT_H2_HYBRID_ELD\n",
      "TRAIN_FREIGHT_H2_HYBRID_LD\n",
      "TRAIN_FREIGHT_H2_LD\n",
      "TRAIN_H2_ELD\n",
      "TRAIN_H2_LD\n",
      "TRAMWAY_SD\n",
      "TRUCK_LD_BIODIESEL_B100_LD\n",
      "TRUCK_LD_BIODIESEL_B20_LD\n",
      "TRUCK_LD_CNG_LD\n",
      "TRUCK_LD_DIESEL_LD\n",
      "TRUCK_LD_EV_LD\n",
      "TRUCK_LD_FC_CH4_LD\n",
      "TRUCK_LD_HY_DIESEL_LD\n",
      "TRUCK_LD_PROPANE_LD\n",
      "TRUCK_SD_BIODIESEL_B100_MD\n",
      "TRUCK_SD_BIODIESEL_B100_SD\n",
      "TRUCK_SD_BIODIESEL_B20_MD\n",
      "TRUCK_SD_BIODIESEL_B20_SD\n",
      "TRUCK_SD_CNG_MD\n",
      "TRUCK_SD_CNG_SD\n",
      "TRUCK_SD_DIESEL_MD\n",
      "TRUCK_SD_DIESEL_SD\n",
      "TRUCK_SD_EV_MD\n",
      "TRUCK_SD_EV_SD\n",
      "TRUCK_SD_FC_CH4_MD\n",
      "TRUCK_SD_FC_CH4_SD\n",
      "TRUCK_SD_HY_DIESEL_MD\n",
      "TRUCK_SD_HY_DIESEL_SD\n",
      "TRUCK_SD_PROPANE_MD\n",
      "TRUCK_SD_PROPANE_SD\n",
      "UNMINEABLE_COAL_SEAM\n",
      "WIND_OFFSHORE\n",
      "WIND_ONSHORE\n",
      "WOOD_METHANOL\n",
      "Vacuuming database \n"
     ]
    },
    {
     "name": "stderr",
     "output_type": "stream",
     "text": [
      "Writing activities to SQLite3 database:\n",
      "0% [##############################] 100% | ETA: 00:00:00\n",
      "Total time elapsed: 00:00:01\n"
     ]
    },
    {
     "name": "stdout",
     "output_type": "stream",
     "text": [
      "Title: Writing activities to SQLite3 database:\n",
      "  Started: 06/20/2024 10:19:08\n",
      "  Finished: 06/20/2024 10:19:09\n",
      "  Total time elapsed: 00:00:01\n",
      "  CPU %: 23.30\n",
      "  Memory %: 31.85\n"
     ]
    }
   ],
   "execution_count": 22
  },
  {
   "metadata": {},
   "cell_type": "markdown",
   "source": "## Computing the LCA metrics ",
   "id": "6b4cb46fb46fc271"
  },
  {
   "metadata": {
    "ExecuteTime": {
     "end_time": "2024-06-19T15:20:53.918465Z",
     "start_time": "2024-06-19T15:20:46.788749Z"
    }
   },
   "cell_type": "code",
   "source": [
    "base_db = [] # free memory\n",
    "esm_db = load_extract_db(new_db_name, create_pickle=False)"
   ],
   "id": "a615f5086c316a92",
   "outputs": [
    {
     "name": "stdout",
     "output_type": "stream",
     "text": [
      "Getting activity data\n"
     ]
    },
    {
     "name": "stderr",
     "output_type": "stream",
     "text": [
      "100%|██████████| 1543/1543 [00:00<00:00, 73461.50it/s]\n"
     ]
    },
    {
     "name": "stdout",
     "output_type": "stream",
     "text": [
      "Adding exchange data to activities\n"
     ]
    },
    {
     "name": "stderr",
     "output_type": "stream",
     "text": [
      "100%|██████████| 52318/52318 [00:02<00:00, 25755.23it/s]\n"
     ]
    },
    {
     "name": "stdout",
     "output_type": "stream",
     "text": [
      "Filling out exchange data\n"
     ]
    },
    {
     "name": "stderr",
     "output_type": "stream",
     "text": [
      "100%|██████████| 1543/1543 [00:02<00:00, 632.55it/s] \n"
     ]
    }
   ],
   "execution_count": 28
  },
  {
   "metadata": {
    "ExecuteTime": {
     "end_time": "2024-06-19T15:30:31.625320Z",
     "start_time": "2024-06-19T15:20:53.920829Z"
    }
   },
   "cell_type": "code",
   "source": [
    "R_long = compute_impact_scores(\n",
    "    esm_db=esm_db,\n",
    "    mapping=mapping_linked_to_premise_new_code,\n",
    "    technology_compositions=technology_compositions,\n",
    "    methods=['IMPACT World+ Midpoint 2.0.1', 'IMPACT World+ Damage 2.0.1', 'IMPACT World+ Footprint 2.0.1'],\n",
    "    unit_conversion=unit_conversion,\n",
    "    lifetime=lifetime\n",
    ")"
   ],
   "id": "4f8e737e64f2cb9c",
   "outputs": [],
   "execution_count": 29
  },
  {
   "metadata": {
    "ExecuteTime": {
     "end_time": "2024-06-19T15:33:56.577450Z",
     "start_time": "2024-06-19T15:33:56.541351Z"
    }
   },
   "cell_type": "code",
   "source": "R_long.head()",
   "id": "ca731ef9eda9ba66",
   "outputs": [
    {
     "data": {
      "text/plain": [
       "                                     Impact_category  \\\n",
       "0  (IMPACT World+ Damage 2.0.1, Ecosystem quality...   \n",
       "1  (IMPACT World+ Damage 2.0.1, Ecosystem quality...   \n",
       "2  (IMPACT World+ Damage 2.0.1, Human health, Cli...   \n",
       "3  (IMPACT World+ Damage 2.0.1, Human health, Cli...   \n",
       "4  (IMPACT World+ Midpoint 2.0.1, Midpoint, Clima...   \n",
       "\n",
       "                           New_code         Value Name          Type  \n",
       "0  h55rn8asb8337q12ml08tok4at9gq65u  3.003785e+09  AFC  Construction  \n",
       "1  h55rn8asb8337q12ml08tok4at9gq65u  9.979548e+08  AFC  Construction  \n",
       "2  h55rn8asb8337q12ml08tok4at9gq65u  1.366992e+04  AFC  Construction  \n",
       "3  h55rn8asb8337q12ml08tok4at9gq65u  4.611984e+03  AFC  Construction  \n",
       "4  h55rn8asb8337q12ml08tok4at9gq65u  5.239713e+09  AFC  Construction  "
      ],
      "text/html": [
       "<div>\n",
       "<style scoped>\n",
       "    .dataframe tbody tr th:only-of-type {\n",
       "        vertical-align: middle;\n",
       "    }\n",
       "\n",
       "    .dataframe tbody tr th {\n",
       "        vertical-align: top;\n",
       "    }\n",
       "\n",
       "    .dataframe thead th {\n",
       "        text-align: right;\n",
       "    }\n",
       "</style>\n",
       "<table border=\"1\" class=\"dataframe\">\n",
       "  <thead>\n",
       "    <tr style=\"text-align: right;\">\n",
       "      <th></th>\n",
       "      <th>Impact_category</th>\n",
       "      <th>New_code</th>\n",
       "      <th>Value</th>\n",
       "      <th>Name</th>\n",
       "      <th>Type</th>\n",
       "    </tr>\n",
       "  </thead>\n",
       "  <tbody>\n",
       "    <tr>\n",
       "      <th>0</th>\n",
       "      <td>(IMPACT World+ Damage 2.0.1, Ecosystem quality...</td>\n",
       "      <td>h55rn8asb8337q12ml08tok4at9gq65u</td>\n",
       "      <td>3.003785e+09</td>\n",
       "      <td>AFC</td>\n",
       "      <td>Construction</td>\n",
       "    </tr>\n",
       "    <tr>\n",
       "      <th>1</th>\n",
       "      <td>(IMPACT World+ Damage 2.0.1, Ecosystem quality...</td>\n",
       "      <td>h55rn8asb8337q12ml08tok4at9gq65u</td>\n",
       "      <td>9.979548e+08</td>\n",
       "      <td>AFC</td>\n",
       "      <td>Construction</td>\n",
       "    </tr>\n",
       "    <tr>\n",
       "      <th>2</th>\n",
       "      <td>(IMPACT World+ Damage 2.0.1, Human health, Cli...</td>\n",
       "      <td>h55rn8asb8337q12ml08tok4at9gq65u</td>\n",
       "      <td>1.366992e+04</td>\n",
       "      <td>AFC</td>\n",
       "      <td>Construction</td>\n",
       "    </tr>\n",
       "    <tr>\n",
       "      <th>3</th>\n",
       "      <td>(IMPACT World+ Damage 2.0.1, Human health, Cli...</td>\n",
       "      <td>h55rn8asb8337q12ml08tok4at9gq65u</td>\n",
       "      <td>4.611984e+03</td>\n",
       "      <td>AFC</td>\n",
       "      <td>Construction</td>\n",
       "    </tr>\n",
       "    <tr>\n",
       "      <th>4</th>\n",
       "      <td>(IMPACT World+ Midpoint 2.0.1, Midpoint, Clima...</td>\n",
       "      <td>h55rn8asb8337q12ml08tok4at9gq65u</td>\n",
       "      <td>5.239713e+09</td>\n",
       "      <td>AFC</td>\n",
       "      <td>Construction</td>\n",
       "    </tr>\n",
       "  </tbody>\n",
       "</table>\n",
       "</div>"
      ]
     },
     "execution_count": 30,
     "metadata": {},
     "output_type": "execute_result"
    }
   ],
   "execution_count": 30
  },
  {
   "metadata": {
    "ExecuteTime": {
     "end_time": "2024-06-19T15:34:00.281647Z",
     "start_time": "2024-06-19T15:33:59.964133Z"
    }
   },
   "cell_type": "code",
   "source": "R_long.to_csv('results/impact_scores.csv', index=False)",
   "id": "287129cdf4552801",
   "outputs": [],
   "execution_count": 31
  },
  {
   "metadata": {},
   "cell_type": "markdown",
   "source": "## Convert the results in an AMPL format",
   "id": "eced4286c9628abb"
  },
  {
   "metadata": {
    "ExecuteTime": {
     "end_time": "2024-06-19T15:49:38.449049Z",
     "start_time": "2024-06-19T15:49:38.352299Z"
    }
   },
   "cell_type": "code",
   "source": [
    "# To skip the previous steps\n",
    "# R_long = pd.read_csv('results/impact_scores.csv')"
   ],
   "id": "55f6db09dd89a276",
   "outputs": [],
   "execution_count": 5
  },
  {
   "metadata": {
    "ExecuteTime": {
     "end_time": "2024-06-19T15:49:38.849860Z",
     "start_time": "2024-06-19T15:49:38.837033Z"
    }
   },
   "cell_type": "code",
   "source": [
    "refactor = 1e-2\n",
    "lcia_method = 'IMPACT World+ Damage 2.0.1 - Total only'"
   ],
   "id": "6d4128137d2a0b5e",
   "outputs": [],
   "execution_count": 6
  },
  {
   "metadata": {},
   "cell_type": "markdown",
   "source": "### Create the .dat file",
   "id": "d3b36a88c73fce21"
  },
  {
   "metadata": {
    "ExecuteTime": {
     "end_time": "2024-06-19T15:49:40.456573Z",
     "start_time": "2024-06-19T15:49:39.580088Z"
    }
   },
   "cell_type": "code",
   "source": [
    "normalize_lca_metrics(\n",
    "    R=R_long,\n",
    "    f_norm=1e6,\n",
    "    mip_gap=1e-6,\n",
    "    refactor=refactor,\n",
    "    lcia_method=lcia_method,\n",
    "    impact_abbrev=impact_abbrev\n",
    ")"
   ],
   "id": "dd3b491c4e3d8ebb",
   "outputs": [],
   "execution_count": 7
  },
  {
   "metadata": {},
   "cell_type": "markdown",
   "source": "### Create the .mod file",
   "id": "66b13911bb933dc5"
  },
  {
   "metadata": {
    "ExecuteTime": {
     "end_time": "2024-06-19T15:50:28.160935Z",
     "start_time": "2024-06-19T15:50:28.146534Z"
    }
   },
   "cell_type": "code",
   "source": [
    "gen_lcia_obj(\n",
    "    lcia_method=lcia_method,\n",
    "    refactor=refactor,\n",
    "    impact_abbrev=impact_abbrev\n",
    ")"
   ],
   "id": "d481ec84345d14d0",
   "outputs": [],
   "execution_count": 8
  }
 ],
 "metadata": {
  "kernelspec": {
   "display_name": "Python 3",
   "language": "python",
   "name": "python3"
  },
  "language_info": {
   "codemirror_mode": {
    "name": "ipython",
    "version": 2
   },
   "file_extension": ".py",
   "mimetype": "text/x-python",
   "name": "python",
   "nbconvert_exporter": "python",
   "pygments_lexer": "ipython2",
   "version": "2.7.6"
  }
 },
 "nbformat": 4,
 "nbformat_minor": 5
}
