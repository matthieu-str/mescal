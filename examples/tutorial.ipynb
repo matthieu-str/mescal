{
 "cells": [
  {
   "metadata": {},
   "cell_type": "markdown",
   "source": [
    "# Tutorial on how to use mescal\n",
    "*mescal* is a [Brightway](https://docs.brightway.dev/en/latest/)-powered Python package that helps you to integrate Life-Cycle Assessment (LCA) in your energy system model"
   ],
   "id": "bac3505a5afe8971"
  },
  {
   "metadata": {},
   "cell_type": "markdown",
   "source": "## Set up",
   "id": "7c15eb9c8df668d6"
  },
  {
   "metadata": {
    "ExecuteTime": {
     "end_time": "2024-06-18T20:13:53.763692Z",
     "start_time": "2024-06-18T20:13:47.654943Z"
    }
   },
   "cell_type": "code",
   "source": [
    "# Import the required libraries\n",
    "from mescal import *\n",
    "import pandas as pd\n",
    "import bw2data as bd"
   ],
   "id": "ad6977f1e798f1ba",
   "outputs": [],
   "execution_count": 1
  },
  {
   "metadata": {
    "ExecuteTime": {
     "end_time": "2024-06-18T20:13:53.874372Z",
     "start_time": "2024-06-18T20:13:53.763692Z"
    }
   },
   "cell_type": "code",
   "source": [
    "# Set up your Brightway project\n",
    "bd.projects.set_current('ei3.8-mescal') # put the name of your brightway project here"
   ],
   "id": "54ea776e842fae31",
   "outputs": [],
   "execution_count": 2
  },
  {
   "metadata": {},
   "cell_type": "markdown",
   "source": [
    "## Your data\n",
    "For mescal to understand the structure of your energy system model, you need to provide it with a set of dataframes."
   ],
   "id": "8325f04c8e08b23f"
  },
  {
   "metadata": {},
   "cell_type": "markdown",
   "source": "### Mandatory dataframes",
   "id": "313875e4236bc644"
  },
  {
   "metadata": {
    "ExecuteTime": {
     "end_time": "2024-06-18T20:13:53.900960Z",
     "start_time": "2024-06-18T20:13:53.874372Z"
    }
   },
   "cell_type": "code",
   "source": [
    "mapping = pd.read_csv('../dev/energyscope_data/mapping.csv')\n",
    "unit_conversion = pd.read_csv('../dev/energyscope_data/unit_conversion.csv')\n",
    "mapping_esm_flows_to_CPC = pd.read_csv('../dev/energyscope_data/mapping_esm_flows_to_CPC.csv')\n",
    "model = pd.read_csv('../dev/energyscope_data/model.csv')"
   ],
   "id": "6890050f93afe1d1",
   "outputs": [],
   "execution_count": 3
  },
  {
   "metadata": {},
   "cell_type": "markdown",
   "source": [
    "A mapping between the energy technologies and resources of the energy system model, and Life-Cycle Inventories datasets (LCI) from an LCI database (e.g., ecoinvent). The mapping should be provided in a dataframe with the following columns:\n",
    "- `Name`: the name of the energy technology or resource in the energy model \n",
    "- `Type`: the type of the energy technology or resource (i.e., 'Construction', 'Operation', or 'Resource')  \n",
    "- `Product`: the name of the product of the energy technology or resource in the LCI database\n",
    "- `Activity`: the name of the activity of the energy technology or resource in the LCI database\n",
    "- `Location`: (optional) the name of the region of the energy technology or resource in the LCI database\n",
    "- `Database`: the name of the database in your brightway project"
   ],
   "id": "29846070143e8b95"
  },
  {
   "metadata": {
    "ExecuteTime": {
     "end_time": "2024-06-18T20:13:53.928136Z",
     "start_time": "2024-06-18T20:13:53.902009Z"
    }
   },
   "cell_type": "code",
   "source": "mapping.head()",
   "id": "642b5fe1b99a6f7f",
   "outputs": [
    {
     "data": {
      "text/plain": [
       "                 Name          Type  \\\n",
       "0              AEC_OG     Operation   \n",
       "1        AEC_OG_PLANT  Construction   \n",
       "2  AEC_OG_PLANT_DECOM  Construction   \n",
       "3        AEC_OG_STACK  Construction   \n",
       "4  AEC_OG_STACK_DECOM  Construction   \n",
       "\n",
       "                                      Product  \\\n",
       "0                   hydrogen, gaseous, 20 bar   \n",
       "1   electrolyzer, 1MWe, AEC, Balance of Plant   \n",
       "2  used fuel cell balance of plant, 1MWe, AEC   \n",
       "3              electrolyzer, 1MWe, AEC, Stack   \n",
       "4             used fuel cell stack, 1MWe, AEC   \n",
       "\n",
       "                                            Activity Location   Unit  \\\n",
       "0  hydrogen production, gaseous, 20 bar, from AEC...       CH    /kg   \n",
       "1  electrolyzer production, 1MWe, AEC, Balance of...      RER  /unit   \n",
       "2  treatment of fuel cell balance of plant, 1MWe,...      RER  /unit   \n",
       "3          electrolyzer production, 1MWe, AEC, Stack      RER  /unit   \n",
       "4            treatment of fuel cell stack, 1MWe, AEC      RER  /unit   \n",
       "\n",
       "          Database  \n",
       "0  h2_electrolysis  \n",
       "1  h2_electrolysis  \n",
       "2  h2_electrolysis  \n",
       "3  h2_electrolysis  \n",
       "4  h2_electrolysis  "
      ],
      "text/html": [
       "<div>\n",
       "<style scoped>\n",
       "    .dataframe tbody tr th:only-of-type {\n",
       "        vertical-align: middle;\n",
       "    }\n",
       "\n",
       "    .dataframe tbody tr th {\n",
       "        vertical-align: top;\n",
       "    }\n",
       "\n",
       "    .dataframe thead th {\n",
       "        text-align: right;\n",
       "    }\n",
       "</style>\n",
       "<table border=\"1\" class=\"dataframe\">\n",
       "  <thead>\n",
       "    <tr style=\"text-align: right;\">\n",
       "      <th></th>\n",
       "      <th>Name</th>\n",
       "      <th>Type</th>\n",
       "      <th>Product</th>\n",
       "      <th>Activity</th>\n",
       "      <th>Location</th>\n",
       "      <th>Unit</th>\n",
       "      <th>Database</th>\n",
       "    </tr>\n",
       "  </thead>\n",
       "  <tbody>\n",
       "    <tr>\n",
       "      <th>0</th>\n",
       "      <td>AEC_OG</td>\n",
       "      <td>Operation</td>\n",
       "      <td>hydrogen, gaseous, 20 bar</td>\n",
       "      <td>hydrogen production, gaseous, 20 bar, from AEC...</td>\n",
       "      <td>CH</td>\n",
       "      <td>/kg</td>\n",
       "      <td>h2_electrolysis</td>\n",
       "    </tr>\n",
       "    <tr>\n",
       "      <th>1</th>\n",
       "      <td>AEC_OG_PLANT</td>\n",
       "      <td>Construction</td>\n",
       "      <td>electrolyzer, 1MWe, AEC, Balance of Plant</td>\n",
       "      <td>electrolyzer production, 1MWe, AEC, Balance of...</td>\n",
       "      <td>RER</td>\n",
       "      <td>/unit</td>\n",
       "      <td>h2_electrolysis</td>\n",
       "    </tr>\n",
       "    <tr>\n",
       "      <th>2</th>\n",
       "      <td>AEC_OG_PLANT_DECOM</td>\n",
       "      <td>Construction</td>\n",
       "      <td>used fuel cell balance of plant, 1MWe, AEC</td>\n",
       "      <td>treatment of fuel cell balance of plant, 1MWe,...</td>\n",
       "      <td>RER</td>\n",
       "      <td>/unit</td>\n",
       "      <td>h2_electrolysis</td>\n",
       "    </tr>\n",
       "    <tr>\n",
       "      <th>3</th>\n",
       "      <td>AEC_OG_STACK</td>\n",
       "      <td>Construction</td>\n",
       "      <td>electrolyzer, 1MWe, AEC, Stack</td>\n",
       "      <td>electrolyzer production, 1MWe, AEC, Stack</td>\n",
       "      <td>RER</td>\n",
       "      <td>/unit</td>\n",
       "      <td>h2_electrolysis</td>\n",
       "    </tr>\n",
       "    <tr>\n",
       "      <th>4</th>\n",
       "      <td>AEC_OG_STACK_DECOM</td>\n",
       "      <td>Construction</td>\n",
       "      <td>used fuel cell stack, 1MWe, AEC</td>\n",
       "      <td>treatment of fuel cell stack, 1MWe, AEC</td>\n",
       "      <td>RER</td>\n",
       "      <td>/unit</td>\n",
       "      <td>h2_electrolysis</td>\n",
       "    </tr>\n",
       "  </tbody>\n",
       "</table>\n",
       "</div>"
      ]
     },
     "execution_count": 4,
     "metadata": {},
     "output_type": "execute_result"
    }
   ],
   "execution_count": 4
  },
  {
   "metadata": {},
   "cell_type": "markdown",
   "source": [
    "A set of unit conversion factors between the energy system model and the LCI database. The conversion factors should be provided in a dataframe with the following columns:\n",
    "- `Name`: the name of the energy technology or resource in the energy model \n",
    "- `Type`: the type of the energy technology or resource (i.e., 'Construction', 'Operation', or 'Resource')\n",
    "- `Value`: the numerical value of the conversion factor"
   ],
   "id": "c63431e4a57bb29f"
  },
  {
   "metadata": {
    "ExecuteTime": {
     "end_time": "2024-06-18T20:13:53.945121Z",
     "start_time": "2024-06-18T20:13:53.929325Z"
    }
   },
   "cell_type": "code",
   "source": "unit_conversion.head()",
   "id": "40412ea78d6dc8af",
   "outputs": [
    {
     "data": {
      "text/plain": [
       "           Name          Type          Value\n",
       "0   ACETIC_ACID      Resource  247422.680400\n",
       "1       ACETONE      Resource  121654.501200\n",
       "2        AEC_OG  Construction    1555.555556\n",
       "3        AEC_OG     Operation   30030.030030\n",
       "4  AEC_OG_PLANT  Construction       1.000000"
      ],
      "text/html": [
       "<div>\n",
       "<style scoped>\n",
       "    .dataframe tbody tr th:only-of-type {\n",
       "        vertical-align: middle;\n",
       "    }\n",
       "\n",
       "    .dataframe tbody tr th {\n",
       "        vertical-align: top;\n",
       "    }\n",
       "\n",
       "    .dataframe thead th {\n",
       "        text-align: right;\n",
       "    }\n",
       "</style>\n",
       "<table border=\"1\" class=\"dataframe\">\n",
       "  <thead>\n",
       "    <tr style=\"text-align: right;\">\n",
       "      <th></th>\n",
       "      <th>Name</th>\n",
       "      <th>Type</th>\n",
       "      <th>Value</th>\n",
       "    </tr>\n",
       "  </thead>\n",
       "  <tbody>\n",
       "    <tr>\n",
       "      <th>0</th>\n",
       "      <td>ACETIC_ACID</td>\n",
       "      <td>Resource</td>\n",
       "      <td>247422.680400</td>\n",
       "    </tr>\n",
       "    <tr>\n",
       "      <th>1</th>\n",
       "      <td>ACETONE</td>\n",
       "      <td>Resource</td>\n",
       "      <td>121654.501200</td>\n",
       "    </tr>\n",
       "    <tr>\n",
       "      <th>2</th>\n",
       "      <td>AEC_OG</td>\n",
       "      <td>Construction</td>\n",
       "      <td>1555.555556</td>\n",
       "    </tr>\n",
       "    <tr>\n",
       "      <th>3</th>\n",
       "      <td>AEC_OG</td>\n",
       "      <td>Operation</td>\n",
       "      <td>30030.030030</td>\n",
       "    </tr>\n",
       "    <tr>\n",
       "      <th>4</th>\n",
       "      <td>AEC_OG_PLANT</td>\n",
       "      <td>Construction</td>\n",
       "      <td>1.000000</td>\n",
       "    </tr>\n",
       "  </tbody>\n",
       "</table>\n",
       "</div>"
      ]
     },
     "execution_count": 5,
     "metadata": {},
     "output_type": "execute_result"
    }
   ],
   "execution_count": 5
  },
  {
   "metadata": {},
   "cell_type": "markdown",
   "source": [
    "A mapping between the energy model flows and CPC categories. The list of products should at least encompass the list of technologies without a CPC category within your mapping and their foreground inventory. The mapping should be provided in a dataframe with the following columns:\n",
    "- `Product`: the name of the product in the LCI database\n",
    "- `Description`: (optional) the description of the product\n",
    "- `CPC`: the list of names of corresponding CPC categories"
   ],
   "id": "b873476e1c532db4"
  },
  {
   "metadata": {
    "ExecuteTime": {
     "end_time": "2024-06-18T20:13:53.959983Z",
     "start_time": "2024-06-18T20:13:53.945121Z"
    }
   },
   "cell_type": "code",
   "source": "mapping_esm_flows_to_CPC.head()",
   "id": "7254119105672bd2",
   "outputs": [
    {
     "data": {
      "text/plain": [
       "         Flow                              Description  \\\n",
       "0     BENZENE                                  Benzene   \n",
       "1  BIO_DIESEL                               Bio-diesel   \n",
       "2       CO2_A  Carbon dioxide (concentrated emissions)   \n",
       "3       CO2_C                Carbon dioxide (captured)   \n",
       "4      CO2_CS       Carbon dioxide (captured & stored)   \n",
       "\n",
       "                                                 CPC  \n",
       "0  ['33100: Coke and semi-coke of coal, of lignit...  \n",
       "1                               ['35491: Biodiesel']  \n",
       "2            ['34210b: Carbon dioxide and monoxide']  \n",
       "3            ['34210b: Carbon dioxide and monoxide']  \n",
       "4            ['34210b: Carbon dioxide and monoxide']  "
      ],
      "text/html": [
       "<div>\n",
       "<style scoped>\n",
       "    .dataframe tbody tr th:only-of-type {\n",
       "        vertical-align: middle;\n",
       "    }\n",
       "\n",
       "    .dataframe tbody tr th {\n",
       "        vertical-align: top;\n",
       "    }\n",
       "\n",
       "    .dataframe thead th {\n",
       "        text-align: right;\n",
       "    }\n",
       "</style>\n",
       "<table border=\"1\" class=\"dataframe\">\n",
       "  <thead>\n",
       "    <tr style=\"text-align: right;\">\n",
       "      <th></th>\n",
       "      <th>Flow</th>\n",
       "      <th>Description</th>\n",
       "      <th>CPC</th>\n",
       "    </tr>\n",
       "  </thead>\n",
       "  <tbody>\n",
       "    <tr>\n",
       "      <th>0</th>\n",
       "      <td>BENZENE</td>\n",
       "      <td>Benzene</td>\n",
       "      <td>['33100: Coke and semi-coke of coal, of lignit...</td>\n",
       "    </tr>\n",
       "    <tr>\n",
       "      <th>1</th>\n",
       "      <td>BIO_DIESEL</td>\n",
       "      <td>Bio-diesel</td>\n",
       "      <td>['35491: Biodiesel']</td>\n",
       "    </tr>\n",
       "    <tr>\n",
       "      <th>2</th>\n",
       "      <td>CO2_A</td>\n",
       "      <td>Carbon dioxide (concentrated emissions)</td>\n",
       "      <td>['34210b: Carbon dioxide and monoxide']</td>\n",
       "    </tr>\n",
       "    <tr>\n",
       "      <th>3</th>\n",
       "      <td>CO2_C</td>\n",
       "      <td>Carbon dioxide (captured)</td>\n",
       "      <td>['34210b: Carbon dioxide and monoxide']</td>\n",
       "    </tr>\n",
       "    <tr>\n",
       "      <th>4</th>\n",
       "      <td>CO2_CS</td>\n",
       "      <td>Carbon dioxide (captured &amp; stored)</td>\n",
       "      <td>['34210b: Carbon dioxide and monoxide']</td>\n",
       "    </tr>\n",
       "  </tbody>\n",
       "</table>\n",
       "</div>"
      ]
     },
     "execution_count": 6,
     "metadata": {},
     "output_type": "execute_result"
    }
   ],
   "execution_count": 6
  },
  {
   "metadata": {},
   "cell_type": "markdown",
   "source": [
    "The input and output flows if energy technologies. It should be provided in a dataframe with the following columns:\n",
    "- `Name`: the name of the energy technology in the energy model\n",
    "- `Flow`: the name of the input or output flow\n",
    "- `Amount`: the numerical value of the flow (negative if input, positive if output)  "
   ],
   "id": "639bfa05b6354e4b"
  },
  {
   "metadata": {
    "ExecuteTime": {
     "end_time": "2024-06-18T20:13:53.974101Z",
     "start_time": "2024-06-18T20:13:53.959983Z"
    }
   },
   "cell_type": "code",
   "source": "model.head()",
   "id": "176d23eb6579c212",
   "outputs": [
    {
     "data": {
      "text/plain": [
       "         Name        Flow  Amount\n",
       "0    DIESEL_S    DIESEL_S     1.0\n",
       "1  GASOLINE_S  GASOLINE_S     1.0\n",
       "2      ELEC_S      ELEC_S     1.0\n",
       "3        NG_S        NG_S     1.0\n",
       "4        H2_S        H2_S     1.0"
      ],
      "text/html": [
       "<div>\n",
       "<style scoped>\n",
       "    .dataframe tbody tr th:only-of-type {\n",
       "        vertical-align: middle;\n",
       "    }\n",
       "\n",
       "    .dataframe tbody tr th {\n",
       "        vertical-align: top;\n",
       "    }\n",
       "\n",
       "    .dataframe thead th {\n",
       "        text-align: right;\n",
       "    }\n",
       "</style>\n",
       "<table border=\"1\" class=\"dataframe\">\n",
       "  <thead>\n",
       "    <tr style=\"text-align: right;\">\n",
       "      <th></th>\n",
       "      <th>Name</th>\n",
       "      <th>Flow</th>\n",
       "      <th>Amount</th>\n",
       "    </tr>\n",
       "  </thead>\n",
       "  <tbody>\n",
       "    <tr>\n",
       "      <th>0</th>\n",
       "      <td>DIESEL_S</td>\n",
       "      <td>DIESEL_S</td>\n",
       "      <td>1.0</td>\n",
       "    </tr>\n",
       "    <tr>\n",
       "      <th>1</th>\n",
       "      <td>GASOLINE_S</td>\n",
       "      <td>GASOLINE_S</td>\n",
       "      <td>1.0</td>\n",
       "    </tr>\n",
       "    <tr>\n",
       "      <th>2</th>\n",
       "      <td>ELEC_S</td>\n",
       "      <td>ELEC_S</td>\n",
       "      <td>1.0</td>\n",
       "    </tr>\n",
       "    <tr>\n",
       "      <th>3</th>\n",
       "      <td>NG_S</td>\n",
       "      <td>NG_S</td>\n",
       "      <td>1.0</td>\n",
       "    </tr>\n",
       "    <tr>\n",
       "      <th>4</th>\n",
       "      <td>H2_S</td>\n",
       "      <td>H2_S</td>\n",
       "      <td>1.0</td>\n",
       "    </tr>\n",
       "  </tbody>\n",
       "</table>\n",
       "</div>"
      ]
     },
     "execution_count": 7,
     "metadata": {},
     "output_type": "execute_result"
    }
   ],
   "execution_count": 7
  },
  {
   "metadata": {},
   "cell_type": "markdown",
   "source": "### Optional dataframes",
   "id": "48478041736e84c0"
  },
  {
   "metadata": {
    "ExecuteTime": {
     "end_time": "2024-06-18T21:03:56.187585Z",
     "start_time": "2024-06-18T21:03:56.156081Z"
    }
   },
   "cell_type": "code",
   "source": [
    "technology_compositions = pd.read_csv('../dev/energyscope_data/technology_compositions.csv')\n",
    "technology_specifics = pd.read_csv('../dev/energyscope_data/technology_specifics.csv') \n",
    "lifetime = pd.read_csv('../dev/energyscope_data/lifetime.csv')\n",
    "mapping_product_to_CPC = pd.read_csv('../dev/data/mapping_product_to_CPC.csv')\n",
    "impact_abbrev = pd.read_csv('../dev/IW+/impact_abbrev.csv')"
   ],
   "id": "dd4f202b4dbb9052",
   "outputs": [],
   "execution_count": 33
  },
  {
   "metadata": {},
   "cell_type": "markdown",
   "source": [
    "A set of composition of technologies, i.e., if one technology or resource in the energy model should be represented by a combination of LCI datasets. The composition should be provided in a dataframe with the following columns:\n",
    "- `Name`: the name of the main energy technology or resource in the energy model \n",
    "- `Components`: the list of names of subcomponents"
   ],
   "id": "eee94b00d44a2efa"
  },
  {
   "metadata": {
    "ExecuteTime": {
     "end_time": "2024-06-18T20:14:10.280601Z",
     "start_time": "2024-06-18T20:14:10.255570Z"
    }
   },
   "cell_type": "code",
   "source": "technology_compositions.head()",
   "id": "de810a82e99b68e",
   "outputs": [
    {
     "data": {
      "text/plain": [
       "                    Name                                         Components\n",
       "0                 AEC_OG  ['AEC_OG_STACK', 'AEC_OG_PLANT', 'AEC_OG_STACK...\n",
       "1  ALKALINE_ELECTROLYSIS  ['ALKALINE_ELECTROLYSIS_STACK', 'ALKALINE_ELEC...\n",
       "2              AN_DIG_SI             ['AN_DIG_SI_PLANT', 'AN_DIG_SI_COGEN']\n",
       "3                    ATR                          ['ATR_PLANT', 'ATR_TANK']\n",
       "4                ATR_CCS                  ['ATR_CCS_PLANT', 'ATR_CCS_TANK']"
      ],
      "text/html": [
       "<div>\n",
       "<style scoped>\n",
       "    .dataframe tbody tr th:only-of-type {\n",
       "        vertical-align: middle;\n",
       "    }\n",
       "\n",
       "    .dataframe tbody tr th {\n",
       "        vertical-align: top;\n",
       "    }\n",
       "\n",
       "    .dataframe thead th {\n",
       "        text-align: right;\n",
       "    }\n",
       "</style>\n",
       "<table border=\"1\" class=\"dataframe\">\n",
       "  <thead>\n",
       "    <tr style=\"text-align: right;\">\n",
       "      <th></th>\n",
       "      <th>Name</th>\n",
       "      <th>Components</th>\n",
       "    </tr>\n",
       "  </thead>\n",
       "  <tbody>\n",
       "    <tr>\n",
       "      <th>0</th>\n",
       "      <td>AEC_OG</td>\n",
       "      <td>['AEC_OG_STACK', 'AEC_OG_PLANT', 'AEC_OG_STACK...</td>\n",
       "    </tr>\n",
       "    <tr>\n",
       "      <th>1</th>\n",
       "      <td>ALKALINE_ELECTROLYSIS</td>\n",
       "      <td>['ALKALINE_ELECTROLYSIS_STACK', 'ALKALINE_ELEC...</td>\n",
       "    </tr>\n",
       "    <tr>\n",
       "      <th>2</th>\n",
       "      <td>AN_DIG_SI</td>\n",
       "      <td>['AN_DIG_SI_PLANT', 'AN_DIG_SI_COGEN']</td>\n",
       "    </tr>\n",
       "    <tr>\n",
       "      <th>3</th>\n",
       "      <td>ATR</td>\n",
       "      <td>['ATR_PLANT', 'ATR_TANK']</td>\n",
       "    </tr>\n",
       "    <tr>\n",
       "      <th>4</th>\n",
       "      <td>ATR_CCS</td>\n",
       "      <td>['ATR_CCS_PLANT', 'ATR_CCS_TANK']</td>\n",
       "    </tr>\n",
       "  </tbody>\n",
       "</table>\n",
       "</div>"
      ]
     },
     "execution_count": 9,
     "metadata": {},
     "output_type": "execute_result"
    }
   ],
   "execution_count": 9
  },
  {
   "metadata": {},
   "cell_type": "markdown",
   "source": [
    "A set of technologies with specific requirements. For instance, this stands for energy technologies without a construction phase, mobility technologies (if mismatch fuel in the LCI dataset), bioprocesses (if mismatch fuel in the LCI dataset). The requirements should be provided in a dataframe with the following columns:\n",
    "- `Name`: the name of the energy technology in the energy model\n",
    "- `Specifics`: the list of requirements  \n",
    "- `Amount`: the numerical value of the requirement (if relevant)"
   ],
   "id": "7bdd1fc2ddf77780"
  },
  {
   "metadata": {
    "ExecuteTime": {
     "end_time": "2024-06-18T20:14:11.077427Z",
     "start_time": "2024-06-18T20:14:11.052181Z"
    }
   },
   "cell_type": "code",
   "source": "technology_specifics.head()",
   "id": "6424ff1019091799",
   "outputs": [
    {
     "data": {
      "text/plain": [
       "            Name        Specifics  Amount\n",
       "0   DIRECT_USAGE  No construction     NaN\n",
       "1           DOGR  No construction     NaN\n",
       "2            EOR  No construction     NaN\n",
       "3    DEEP_SALINE  No construction     NaN\n",
       "4  MINES_STORAGE  No construction     NaN"
      ],
      "text/html": [
       "<div>\n",
       "<style scoped>\n",
       "    .dataframe tbody tr th:only-of-type {\n",
       "        vertical-align: middle;\n",
       "    }\n",
       "\n",
       "    .dataframe tbody tr th {\n",
       "        vertical-align: top;\n",
       "    }\n",
       "\n",
       "    .dataframe thead th {\n",
       "        text-align: right;\n",
       "    }\n",
       "</style>\n",
       "<table border=\"1\" class=\"dataframe\">\n",
       "  <thead>\n",
       "    <tr style=\"text-align: right;\">\n",
       "      <th></th>\n",
       "      <th>Name</th>\n",
       "      <th>Specifics</th>\n",
       "      <th>Amount</th>\n",
       "    </tr>\n",
       "  </thead>\n",
       "  <tbody>\n",
       "    <tr>\n",
       "      <th>0</th>\n",
       "      <td>DIRECT_USAGE</td>\n",
       "      <td>No construction</td>\n",
       "      <td>NaN</td>\n",
       "    </tr>\n",
       "    <tr>\n",
       "      <th>1</th>\n",
       "      <td>DOGR</td>\n",
       "      <td>No construction</td>\n",
       "      <td>NaN</td>\n",
       "    </tr>\n",
       "    <tr>\n",
       "      <th>2</th>\n",
       "      <td>EOR</td>\n",
       "      <td>No construction</td>\n",
       "      <td>NaN</td>\n",
       "    </tr>\n",
       "    <tr>\n",
       "      <th>3</th>\n",
       "      <td>DEEP_SALINE</td>\n",
       "      <td>No construction</td>\n",
       "      <td>NaN</td>\n",
       "    </tr>\n",
       "    <tr>\n",
       "      <th>4</th>\n",
       "      <td>MINES_STORAGE</td>\n",
       "      <td>No construction</td>\n",
       "      <td>NaN</td>\n",
       "    </tr>\n",
       "  </tbody>\n",
       "</table>\n",
       "</div>"
      ]
     },
     "execution_count": 10,
     "metadata": {},
     "output_type": "execute_result"
    }
   ],
   "execution_count": 10
  },
  {
   "metadata": {},
   "cell_type": "markdown",
   "source": [
    "Energy technologies lifetimes in the ESM and the LCI database. The lifetimes should be provided in a dataframe with the following columns:\n",
    "- `Name`: the name of the energy technology in the energy model\n",
    "- `ESM`: the numerical value of the lifetime in the energy system model (if relevant)\n",
    "- `LCA`: the numerical value of the lifetime in the LCI database (if relevant)"
   ],
   "id": "326561ead79cf4c9"
  },
  {
   "metadata": {
    "ExecuteTime": {
     "end_time": "2024-06-18T20:17:25.010187Z",
     "start_time": "2024-06-18T20:17:24.991955Z"
    }
   },
   "cell_type": "code",
   "source": "lifetime.head()",
   "id": "e268fad4190c4c8a",
   "outputs": [
    {
     "data": {
      "text/plain": [
       "                 Name   ESM   LCA\n",
       "0              AEC_OG  20.0   NaN\n",
       "1        AEC_OG_PLANT   NaN  20.0\n",
       "2        AEC_OG_STACK   NaN   7.5\n",
       "3  AEC_OG_PLANT_DECOM   NaN  20.0\n",
       "4  AEC_OG_STACK_DECOM   NaN   7.5"
      ],
      "text/html": [
       "<div>\n",
       "<style scoped>\n",
       "    .dataframe tbody tr th:only-of-type {\n",
       "        vertical-align: middle;\n",
       "    }\n",
       "\n",
       "    .dataframe tbody tr th {\n",
       "        vertical-align: top;\n",
       "    }\n",
       "\n",
       "    .dataframe thead th {\n",
       "        text-align: right;\n",
       "    }\n",
       "</style>\n",
       "<table border=\"1\" class=\"dataframe\">\n",
       "  <thead>\n",
       "    <tr style=\"text-align: right;\">\n",
       "      <th></th>\n",
       "      <th>Name</th>\n",
       "      <th>ESM</th>\n",
       "      <th>LCA</th>\n",
       "    </tr>\n",
       "  </thead>\n",
       "  <tbody>\n",
       "    <tr>\n",
       "      <th>0</th>\n",
       "      <td>AEC_OG</td>\n",
       "      <td>20.0</td>\n",
       "      <td>NaN</td>\n",
       "    </tr>\n",
       "    <tr>\n",
       "      <th>1</th>\n",
       "      <td>AEC_OG_PLANT</td>\n",
       "      <td>NaN</td>\n",
       "      <td>20.0</td>\n",
       "    </tr>\n",
       "    <tr>\n",
       "      <th>2</th>\n",
       "      <td>AEC_OG_STACK</td>\n",
       "      <td>NaN</td>\n",
       "      <td>7.5</td>\n",
       "    </tr>\n",
       "    <tr>\n",
       "      <th>3</th>\n",
       "      <td>AEC_OG_PLANT_DECOM</td>\n",
       "      <td>NaN</td>\n",
       "      <td>20.0</td>\n",
       "    </tr>\n",
       "    <tr>\n",
       "      <th>4</th>\n",
       "      <td>AEC_OG_STACK_DECOM</td>\n",
       "      <td>NaN</td>\n",
       "      <td>7.5</td>\n",
       "    </tr>\n",
       "  </tbody>\n",
       "</table>\n",
       "</div>"
      ]
     },
     "execution_count": 11,
     "metadata": {},
     "output_type": "execute_result"
    }
   ],
   "execution_count": 11
  },
  {
   "metadata": {},
   "cell_type": "markdown",
   "source": [
    "In case you have a LCI database without CPC categories (which are necessary for the double-counting check), you can provide a mapping between the products and activities in the LCI database and the CPC categories. The mapping should be provided in a dataframe with the following columns:\n",
    "- `Name`: the (partial) name of the product or activity in the LCI database\n",
    "- `CPC`: the number and name of the corresponding CPC category\n",
    "- `Search type`: whether the `Name` entry is an exactly the name to look for, or is contained in the full name\n",
    "- `Where`: whether the `Name` entry is meant for products or activities"
   ],
   "id": "330ee60ba864372a"
  },
  {
   "metadata": {
    "ExecuteTime": {
     "end_time": "2024-06-18T20:38:46.147237Z",
     "start_time": "2024-06-18T20:38:46.127549Z"
    }
   },
   "cell_type": "code",
   "source": "mapping_product_to_CPC.head()",
   "id": "253e3eafb347c0af",
   "outputs": [
    {
     "data": {
      "text/plain": [
       "                                                Name  \\\n",
       "0                                 amine-based silica   \n",
       "1                                          biodiesel   \n",
       "2                              biomass, used as fuel   \n",
       "3  biomethane, from biogas upgrading, using amine...   \n",
       "4                          biomethane, high pressure   \n",
       "\n",
       "                                                 CPC Search type    Where  \n",
       "0  35310: Organic surface active agents, except soap      equals  Product  \n",
       "1                                   35491: Biodiesel    contains  Product  \n",
       "2                  31230: Wood in chips or particles      equals  Product  \n",
       "3  12020: Natural gas, liquefied or in the gaseou...      equals  Product  \n",
       "4  12020: Natural gas, liquefied or in the gaseou...      equals  Product  "
      ],
      "text/html": [
       "<div>\n",
       "<style scoped>\n",
       "    .dataframe tbody tr th:only-of-type {\n",
       "        vertical-align: middle;\n",
       "    }\n",
       "\n",
       "    .dataframe tbody tr th {\n",
       "        vertical-align: top;\n",
       "    }\n",
       "\n",
       "    .dataframe thead th {\n",
       "        text-align: right;\n",
       "    }\n",
       "</style>\n",
       "<table border=\"1\" class=\"dataframe\">\n",
       "  <thead>\n",
       "    <tr style=\"text-align: right;\">\n",
       "      <th></th>\n",
       "      <th>Name</th>\n",
       "      <th>CPC</th>\n",
       "      <th>Search type</th>\n",
       "      <th>Where</th>\n",
       "    </tr>\n",
       "  </thead>\n",
       "  <tbody>\n",
       "    <tr>\n",
       "      <th>0</th>\n",
       "      <td>amine-based silica</td>\n",
       "      <td>35310: Organic surface active agents, except soap</td>\n",
       "      <td>equals</td>\n",
       "      <td>Product</td>\n",
       "    </tr>\n",
       "    <tr>\n",
       "      <th>1</th>\n",
       "      <td>biodiesel</td>\n",
       "      <td>35491: Biodiesel</td>\n",
       "      <td>contains</td>\n",
       "      <td>Product</td>\n",
       "    </tr>\n",
       "    <tr>\n",
       "      <th>2</th>\n",
       "      <td>biomass, used as fuel</td>\n",
       "      <td>31230: Wood in chips or particles</td>\n",
       "      <td>equals</td>\n",
       "      <td>Product</td>\n",
       "    </tr>\n",
       "    <tr>\n",
       "      <th>3</th>\n",
       "      <td>biomethane, from biogas upgrading, using amine...</td>\n",
       "      <td>12020: Natural gas, liquefied or in the gaseou...</td>\n",
       "      <td>equals</td>\n",
       "      <td>Product</td>\n",
       "    </tr>\n",
       "    <tr>\n",
       "      <th>4</th>\n",
       "      <td>biomethane, high pressure</td>\n",
       "      <td>12020: Natural gas, liquefied or in the gaseou...</td>\n",
       "      <td>equals</td>\n",
       "      <td>Product</td>\n",
       "    </tr>\n",
       "  </tbody>\n",
       "</table>\n",
       "</div>"
      ]
     },
     "execution_count": 23,
     "metadata": {},
     "output_type": "execute_result"
    }
   ],
   "execution_count": 23
  },
  {
   "metadata": {},
   "cell_type": "markdown",
   "source": [
    "An abbreviation scheme for the impact categories you aim to work with, to ease the readability in the ESM. The abbreviations should be provided in a dataframe with the following columns:\n",
    "- `Impact category`: the name of the impact category, expressed as a tuple following brightway convention\n",
    "- `Unit`: (optional) the unit of the impact category\n",
    "- `Abbrev`: the abbreviation of the impact category\n",
    "- `AoP`: the area of protection of the impact category"
   ],
   "id": "b5da46d185c9766f"
  },
  {
   "metadata": {
    "ExecuteTime": {
     "end_time": "2024-06-18T21:04:01.418765Z",
     "start_time": "2024-06-18T21:04:01.400833Z"
    }
   },
   "cell_type": "code",
   "source": "impact_abbrev.head()",
   "id": "a3da253e1403384a",
   "outputs": [
    {
     "data": {
      "text/plain": [
       "                                     Impact_category       Unit  Abbrev AoP\n",
       "0  ('IMPACT World+ Damage 2.0.1', 'Ecosystem qual...  PDF.m2.yr   CCEQL  EQ\n",
       "1  ('IMPACT World+ Damage 2.0.1', 'Ecosystem qual...  PDF.m2.yr   CCEQS  EQ\n",
       "2  ('IMPACT World+ Damage 2.0.1', 'Ecosystem qual...  PDF.m2.yr  CCEQLB  EQ\n",
       "3  ('IMPACT World+ Damage 2.0.1', 'Ecosystem qual...  PDF.m2.yr  CCEQSB  EQ\n",
       "4  ('IMPACT World+ Damage 2.0.1', 'Human health',...       DALY   CCHHL  HH"
      ],
      "text/html": [
       "<div>\n",
       "<style scoped>\n",
       "    .dataframe tbody tr th:only-of-type {\n",
       "        vertical-align: middle;\n",
       "    }\n",
       "\n",
       "    .dataframe tbody tr th {\n",
       "        vertical-align: top;\n",
       "    }\n",
       "\n",
       "    .dataframe thead th {\n",
       "        text-align: right;\n",
       "    }\n",
       "</style>\n",
       "<table border=\"1\" class=\"dataframe\">\n",
       "  <thead>\n",
       "    <tr style=\"text-align: right;\">\n",
       "      <th></th>\n",
       "      <th>Impact_category</th>\n",
       "      <th>Unit</th>\n",
       "      <th>Abbrev</th>\n",
       "      <th>AoP</th>\n",
       "    </tr>\n",
       "  </thead>\n",
       "  <tbody>\n",
       "    <tr>\n",
       "      <th>0</th>\n",
       "      <td>('IMPACT World+ Damage 2.0.1', 'Ecosystem qual...</td>\n",
       "      <td>PDF.m2.yr</td>\n",
       "      <td>CCEQL</td>\n",
       "      <td>EQ</td>\n",
       "    </tr>\n",
       "    <tr>\n",
       "      <th>1</th>\n",
       "      <td>('IMPACT World+ Damage 2.0.1', 'Ecosystem qual...</td>\n",
       "      <td>PDF.m2.yr</td>\n",
       "      <td>CCEQS</td>\n",
       "      <td>EQ</td>\n",
       "    </tr>\n",
       "    <tr>\n",
       "      <th>2</th>\n",
       "      <td>('IMPACT World+ Damage 2.0.1', 'Ecosystem qual...</td>\n",
       "      <td>PDF.m2.yr</td>\n",
       "      <td>CCEQLB</td>\n",
       "      <td>EQ</td>\n",
       "    </tr>\n",
       "    <tr>\n",
       "      <th>3</th>\n",
       "      <td>('IMPACT World+ Damage 2.0.1', 'Ecosystem qual...</td>\n",
       "      <td>PDF.m2.yr</td>\n",
       "      <td>CCEQSB</td>\n",
       "      <td>EQ</td>\n",
       "    </tr>\n",
       "    <tr>\n",
       "      <th>4</th>\n",
       "      <td>('IMPACT World+ Damage 2.0.1', 'Human health',...</td>\n",
       "      <td>DALY</td>\n",
       "      <td>CCHHL</td>\n",
       "      <td>HH</td>\n",
       "    </tr>\n",
       "  </tbody>\n",
       "</table>\n",
       "</div>"
      ]
     },
     "execution_count": 34,
     "metadata": {},
     "output_type": "execute_result"
    }
   ],
   "execution_count": 34
  },
  {
   "metadata": {},
   "cell_type": "markdown",
   "source": "## Operations on the mapping dataframe (optional)",
   "id": "e7e3c5702bd532ed"
  },
  {
   "metadata": {},
   "cell_type": "code",
   "source": [
    "# create a concatenated database of all databases in the mapping dataframe (including background requirements)\n",
    "base_db = concatenate_databases(list(mapping.Database.unique()), create_pickle=True)"
   ],
   "id": "9dd502c6d5773bd2",
   "outputs": [],
   "execution_count": null
  },
  {
   "metadata": {},
   "cell_type": "markdown",
   "source": [
    "### Add or replace the location column based on a user-defined ranking\n",
    "Based on a user-defined ranking, the location column of the mapping dataframe can be updated. The function `change_location_mapping_file` takes as input the mapping dataframe, the user-defined ranking, and the base database. It returns the mapping dataframe with the location column updated."
   ],
   "id": "fdff9a72e4fbf70a"
  },
  {
   "metadata": {
    "ExecuteTime": {
     "end_time": "2024-06-18T20:30:48.111221Z",
     "start_time": "2024-06-18T20:30:48.091394Z"
    }
   },
   "cell_type": "code",
   "source": [
    "# Define the user-defined ranking\n",
    "my_ranking = [\n",
    "    'CA-QC',\n",
    "    'CA',\n",
    "    'CA-ON',\n",
    "    'CA-AB',\n",
    "    'CA-BC',\n",
    "    'CA-MB',\n",
    "    'CA-NB',\n",
    "    'CA-NF',\n",
    "    'CA-NS',\n",
    "    'CA-NT',\n",
    "    'CA-NU',\n",
    "    'CA-PE',\n",
    "    'CAZ',\n",
    "    'RNA',\n",
    "    'US',\n",
    "    'USA',\n",
    "    'GLO',\n",
    "    'RoW'\n",
    "]"
   ],
   "id": "b27bcbc91b924324",
   "outputs": [],
   "execution_count": 14
  },
  {
   "metadata": {
    "ExecuteTime": {
     "end_time": "2024-06-18T20:31:03.535943Z",
     "start_time": "2024-06-18T20:30:48.665652Z"
    }
   },
   "cell_type": "code",
   "source": [
    "# Update mapping dataframe\n",
    "mapping_with_locations = change_location_mapping_file(mapping, my_ranking, base_db, 'QC')"
   ],
   "id": "cb4951f2d751a738",
   "outputs": [],
   "execution_count": 15
  },
  {
   "metadata": {
    "ExecuteTime": {
     "end_time": "2024-06-18T20:31:03.588014Z",
     "start_time": "2024-06-18T20:31:03.540109Z"
    }
   },
   "cell_type": "code",
   "source": "mapping_with_locations.head()",
   "id": "7e32ad69b357fc0e",
   "outputs": [
    {
     "data": {
      "text/plain": [
       "                 Name          Type  \\\n",
       "0              AEC_OG     Operation   \n",
       "1        AEC_OG_PLANT  Construction   \n",
       "2  AEC_OG_PLANT_DECOM  Construction   \n",
       "3        AEC_OG_STACK  Construction   \n",
       "4  AEC_OG_STACK_DECOM  Construction   \n",
       "\n",
       "                                      Product  \\\n",
       "0                   hydrogen, gaseous, 20 bar   \n",
       "1   electrolyzer, 1MWe, AEC, Balance of Plant   \n",
       "2  used fuel cell balance of plant, 1MWe, AEC   \n",
       "3              electrolyzer, 1MWe, AEC, Stack   \n",
       "4             used fuel cell stack, 1MWe, AEC   \n",
       "\n",
       "                                            Activity Location   Unit  \\\n",
       "0  hydrogen production, gaseous, 20 bar, from AEC...       CH    /kg   \n",
       "1  electrolyzer production, 1MWe, AEC, Balance of...      RER  /unit   \n",
       "2  treatment of fuel cell balance of plant, 1MWe,...      RER  /unit   \n",
       "3          electrolyzer production, 1MWe, AEC, Stack      RER  /unit   \n",
       "4            treatment of fuel cell stack, 1MWe, AEC      RER  /unit   \n",
       "\n",
       "          Database  \n",
       "0  h2_electrolysis  \n",
       "1  h2_electrolysis  \n",
       "2  h2_electrolysis  \n",
       "3  h2_electrolysis  \n",
       "4  h2_electrolysis  "
      ],
      "text/html": [
       "<div>\n",
       "<style scoped>\n",
       "    .dataframe tbody tr th:only-of-type {\n",
       "        vertical-align: middle;\n",
       "    }\n",
       "\n",
       "    .dataframe tbody tr th {\n",
       "        vertical-align: top;\n",
       "    }\n",
       "\n",
       "    .dataframe thead th {\n",
       "        text-align: right;\n",
       "    }\n",
       "</style>\n",
       "<table border=\"1\" class=\"dataframe\">\n",
       "  <thead>\n",
       "    <tr style=\"text-align: right;\">\n",
       "      <th></th>\n",
       "      <th>Name</th>\n",
       "      <th>Type</th>\n",
       "      <th>Product</th>\n",
       "      <th>Activity</th>\n",
       "      <th>Location</th>\n",
       "      <th>Unit</th>\n",
       "      <th>Database</th>\n",
       "    </tr>\n",
       "  </thead>\n",
       "  <tbody>\n",
       "    <tr>\n",
       "      <th>0</th>\n",
       "      <td>AEC_OG</td>\n",
       "      <td>Operation</td>\n",
       "      <td>hydrogen, gaseous, 20 bar</td>\n",
       "      <td>hydrogen production, gaseous, 20 bar, from AEC...</td>\n",
       "      <td>CH</td>\n",
       "      <td>/kg</td>\n",
       "      <td>h2_electrolysis</td>\n",
       "    </tr>\n",
       "    <tr>\n",
       "      <th>1</th>\n",
       "      <td>AEC_OG_PLANT</td>\n",
       "      <td>Construction</td>\n",
       "      <td>electrolyzer, 1MWe, AEC, Balance of Plant</td>\n",
       "      <td>electrolyzer production, 1MWe, AEC, Balance of...</td>\n",
       "      <td>RER</td>\n",
       "      <td>/unit</td>\n",
       "      <td>h2_electrolysis</td>\n",
       "    </tr>\n",
       "    <tr>\n",
       "      <th>2</th>\n",
       "      <td>AEC_OG_PLANT_DECOM</td>\n",
       "      <td>Construction</td>\n",
       "      <td>used fuel cell balance of plant, 1MWe, AEC</td>\n",
       "      <td>treatment of fuel cell balance of plant, 1MWe,...</td>\n",
       "      <td>RER</td>\n",
       "      <td>/unit</td>\n",
       "      <td>h2_electrolysis</td>\n",
       "    </tr>\n",
       "    <tr>\n",
       "      <th>3</th>\n",
       "      <td>AEC_OG_STACK</td>\n",
       "      <td>Construction</td>\n",
       "      <td>electrolyzer, 1MWe, AEC, Stack</td>\n",
       "      <td>electrolyzer production, 1MWe, AEC, Stack</td>\n",
       "      <td>RER</td>\n",
       "      <td>/unit</td>\n",
       "      <td>h2_electrolysis</td>\n",
       "    </tr>\n",
       "    <tr>\n",
       "      <th>4</th>\n",
       "      <td>AEC_OG_STACK_DECOM</td>\n",
       "      <td>Construction</td>\n",
       "      <td>used fuel cell stack, 1MWe, AEC</td>\n",
       "      <td>treatment of fuel cell stack, 1MWe, AEC</td>\n",
       "      <td>RER</td>\n",
       "      <td>/unit</td>\n",
       "      <td>h2_electrolysis</td>\n",
       "    </tr>\n",
       "  </tbody>\n",
       "</table>\n",
       "</div>"
      ]
     },
     "execution_count": 16,
     "metadata": {},
     "output_type": "execute_result"
    }
   ],
   "execution_count": 16
  },
  {
   "metadata": {},
   "cell_type": "markdown",
   "source": [
    "### Relink the mapping dataframe with another database\n",
    "In this example, we relink the current mapping, which is based on ecoinvent and some additional inventories, with a [premise](https://premise.readthedocs.io/en/latest/introduction.html) database. The function `create_complementary_database` takes as input the mapping dataframe, the database to link to, and the name of a newly created complementary database, in case some LCI datasets are missing in the LCI database we relink to. It returns a new mapping dataframe with the location column updated, and create the complementary database in the brightway project."
   ],
   "id": "d60be56459f80ff9"
  },
  {
   "metadata": {
    "ExecuteTime": {
     "end_time": "2024-06-18T20:35:15.703531Z",
     "start_time": "2024-06-18T20:35:15.660326Z"
    }
   },
   "cell_type": "code",
   "source": [
    "name_premise_db = \"ecoinvent_cutoff_3.8_remind_SSP2-Base_2020\"\n",
    "name_premise_comp_db = name_premise_db + \"_comp_QC\""
   ],
   "id": "5ae4be2770b3170d",
   "outputs": [],
   "execution_count": 17
  },
  {
   "metadata": {
    "ExecuteTime": {
     "end_time": "2024-06-18T20:35:21.367506Z",
     "start_time": "2024-06-18T20:35:16.047193Z"
    }
   },
   "cell_type": "code",
   "source": "premise_db = load_extract_db(name_premise_db)",
   "id": "65cacd8e6f728845",
   "outputs": [],
   "execution_count": 18
  },
  {
   "metadata": {
    "ExecuteTime": {
     "end_time": "2024-06-18T20:36:47.428767Z",
     "start_time": "2024-06-18T20:35:21.367506Z"
    }
   },
   "cell_type": "code",
   "source": "mapping_linked_to_premise = create_complementary_database(mapping_with_locations, premise_db, name_premise_comp_db)",
   "id": "55c4f31fa199caa0",
   "outputs": [
    {
     "name": "stdout",
     "output_type": "stream",
     "text": [
      "No inventory in the premise database for ('EHP_H2_GRID', 'Construction')\n",
      "No inventory in the premise database for ('HP_H2_GRID', 'Construction')\n",
      "No inventory in the premise database for ('LCV_BIODIESEL_B100_MD', 'Construction')\n",
      "No inventory in the premise database for ('LCV_BIODIESEL_B100_MD', 'Operation')\n",
      "No inventory in the premise database for ('LCV_BIODIESEL_B100_SD', 'Construction')\n",
      "No inventory in the premise database for ('LCV_BIODIESEL_B100_SD', 'Operation')\n",
      "No inventory in the premise database for ('LCV_BIODIESEL_B20_MD', 'Operation')\n",
      "No inventory in the premise database for ('LCV_BIODIESEL_B20_MD', 'Construction')\n",
      "No inventory in the premise database for ('LCV_BIODIESEL_B20_SD', 'Operation')\n",
      "No inventory in the premise database for ('LCV_BIODIESEL_B20_SD', 'Construction')\n",
      "No inventory in the premise database for ('LCV_CNG_MD', 'Construction')\n",
      "No inventory in the premise database for ('LCV_CNG_MD', 'Operation')\n",
      "No inventory in the premise database for ('LCV_CNG_SD', 'Construction')\n",
      "No inventory in the premise database for ('LCV_CNG_SD', 'Operation')\n",
      "No inventory in the premise database for ('LCV_DIESEL_MD', 'Construction')\n",
      "No inventory in the premise database for ('LCV_DIESEL_MD', 'Operation')\n",
      "No inventory in the premise database for ('LCV_DIESEL_SD', 'Construction')\n",
      "No inventory in the premise database for ('LCV_DIESEL_SD', 'Operation')\n",
      "No inventory in the premise database for ('LCV_ETOH_E10_MD', 'Construction')\n",
      "No inventory in the premise database for ('LCV_ETOH_E10_MD', 'Operation')\n",
      "No inventory in the premise database for ('LCV_ETOH_E10_SD', 'Operation')\n",
      "No inventory in the premise database for ('LCV_ETOH_E10_SD', 'Construction')\n",
      "No inventory in the premise database for ('LCV_ETOH_E85_MD', 'Operation')\n",
      "No inventory in the premise database for ('LCV_ETOH_E85_MD', 'Construction')\n",
      "No inventory in the premise database for ('LCV_ETOH_E85_SD', 'Construction')\n",
      "No inventory in the premise database for ('LCV_ETOH_E85_SD', 'Operation')\n",
      "No inventory in the premise database for ('LCV_EV_MD', 'Operation')\n",
      "No inventory in the premise database for ('LCV_EV_MD', 'Construction')\n",
      "No inventory in the premise database for ('LCV_EV_SD', 'Operation')\n",
      "No inventory in the premise database for ('LCV_EV_SD', 'Construction')\n",
      "No inventory in the premise database for ('LCV_FC_CH4_MD', 'Operation')\n",
      "No inventory in the premise database for ('LCV_FC_CH4_MD', 'Construction')\n",
      "No inventory in the premise database for ('LCV_FC_CH4_SD', 'Construction')\n",
      "No inventory in the premise database for ('LCV_FC_CH4_SD', 'Operation')\n",
      "No inventory in the premise database for ('LCV_FC_H2_MD', 'Operation')\n",
      "No inventory in the premise database for ('LCV_FC_H2_MD', 'Construction')\n",
      "No inventory in the premise database for ('LCV_FC_H2_SD', 'Operation')\n",
      "No inventory in the premise database for ('LCV_FC_H2_SD', 'Construction')\n",
      "No inventory in the premise database for ('LCV_GASOLINE_MD', 'Operation')\n",
      "No inventory in the premise database for ('LCV_GASOLINE_MD', 'Construction')\n",
      "No inventory in the premise database for ('LCV_GASOLINE_SD', 'Operation')\n",
      "No inventory in the premise database for ('LCV_GASOLINE_SD', 'Construction')\n",
      "No inventory in the premise database for ('LCV_PHEV_GASOLINE_MD', 'Construction')\n",
      "No inventory in the premise database for ('LCV_PHEV_GASOLINE_MD', 'Operation')\n",
      "No inventory in the premise database for ('LCV_PHEV_GASOLINE_SD', 'Construction')\n",
      "No inventory in the premise database for ('LCV_PHEV_GASOLINE_SD', 'Operation')\n",
      "No inventory in the premise database for ('LCV_PROPANE_MD', 'Operation')\n",
      "No inventory in the premise database for ('LCV_PROPANE_MD', 'Construction')\n",
      "No inventory in the premise database for ('LCV_PROPANE_SD', 'Operation')\n",
      "No inventory in the premise database for ('LCV_PROPANE_SD', 'Construction')\n",
      "No inventory in the premise database for ('LP_H2_GRID', 'Construction')\n",
      "No inventory in the premise database for ('MP_H2_GRID', 'Construction')\n",
      "No inventory in the premise database for ('SEMI_SD_BIODIESEL_B100_MD', 'Operation')\n",
      "No inventory in the premise database for ('SEMI_SD_BIODIESEL_B100_MD', 'Construction')\n",
      "No inventory in the premise database for ('SEMI_SD_BIODIESEL_B20_MD', 'Operation')\n",
      "No inventory in the premise database for ('SEMI_SD_BIODIESEL_B20_MD', 'Construction')\n",
      "No inventory in the premise database for ('SEMI_SD_CNG_MD', 'Construction')\n",
      "No inventory in the premise database for ('SEMI_SD_CNG_MD', 'Operation')\n",
      "No inventory in the premise database for ('SEMI_SD_DIESEL_MD', 'Construction')\n",
      "No inventory in the premise database for ('SEMI_SD_DIESEL_MD', 'Operation')\n",
      "No inventory in the premise database for ('SEMI_SD_EV_MD', 'Construction')\n",
      "No inventory in the premise database for ('SEMI_SD_EV_MD', 'Operation')\n",
      "No inventory in the premise database for ('SEMI_SD_FC_CH4_MD', 'Operation')\n",
      "No inventory in the premise database for ('SEMI_SD_FC_CH4_MD', 'Construction')\n",
      "No inventory in the premise database for ('SEMI_SD_FC_H2_MD', 'Operation')\n",
      "No inventory in the premise database for ('SEMI_SD_FC_H2_MD', 'Construction')\n",
      "No inventory in the premise database for ('SEMI_SD_HY_DIESEL_MD', 'Construction')\n",
      "No inventory in the premise database for ('SEMI_SD_HY_DIESEL_MD', 'Operation')\n",
      "No inventory in the premise database for ('SEMI_SD_PROPANE_MD', 'Operation')\n",
      "No inventory in the premise database for ('SEMI_SD_PROPANE_MD', 'Construction')\n",
      "No inventory in the premise database for ('TRUCK_SD_BIODIESEL_B100_MD', 'Operation')\n",
      "No inventory in the premise database for ('TRUCK_SD_BIODIESEL_B100_MD', 'Construction')\n",
      "No inventory in the premise database for ('TRUCK_SD_BIODIESEL_B100_SD', 'Construction')\n",
      "No inventory in the premise database for ('TRUCK_SD_BIODIESEL_B100_SD', 'Operation')\n",
      "No inventory in the premise database for ('TRUCK_SD_BIODIESEL_B20_MD', 'Construction')\n",
      "No inventory in the premise database for ('TRUCK_SD_BIODIESEL_B20_MD', 'Operation')\n",
      "No inventory in the premise database for ('TRUCK_SD_BIODIESEL_B20_SD', 'Construction')\n",
      "No inventory in the premise database for ('TRUCK_SD_BIODIESEL_B20_SD', 'Operation')\n",
      "No inventory in the premise database for ('TRUCK_SD_CNG_MD', 'Construction')\n",
      "No inventory in the premise database for ('TRUCK_SD_CNG_MD', 'Operation')\n",
      "No inventory in the premise database for ('TRUCK_SD_CNG_SD', 'Construction')\n",
      "No inventory in the premise database for ('TRUCK_SD_CNG_SD', 'Operation')\n",
      "No inventory in the premise database for ('TRUCK_SD_DIESEL_MD', 'Construction')\n",
      "No inventory in the premise database for ('TRUCK_SD_DIESEL_MD', 'Operation')\n",
      "No inventory in the premise database for ('TRUCK_SD_DIESEL_SD', 'Operation')\n",
      "No inventory in the premise database for ('TRUCK_SD_DIESEL_SD', 'Construction')\n",
      "No inventory in the premise database for ('TRUCK_SD_EV_MD', 'Construction')\n",
      "No inventory in the premise database for ('TRUCK_SD_EV_MD', 'Operation')\n",
      "No inventory in the premise database for ('TRUCK_SD_EV_SD', 'Construction')\n",
      "No inventory in the premise database for ('TRUCK_SD_EV_SD', 'Operation')\n",
      "No inventory in the premise database for ('TRUCK_SD_FC_CH4_MD', 'Construction')\n",
      "No inventory in the premise database for ('TRUCK_SD_FC_CH4_MD', 'Operation')\n",
      "No inventory in the premise database for ('TRUCK_SD_FC_CH4_SD', 'Construction')\n",
      "No inventory in the premise database for ('TRUCK_SD_FC_CH4_SD', 'Operation')\n",
      "No inventory in the premise database for ('TRUCK_SD_HY_DIESEL_MD', 'Construction')\n",
      "No inventory in the premise database for ('TRUCK_SD_HY_DIESEL_MD', 'Operation')\n",
      "No inventory in the premise database for ('TRUCK_SD_HY_DIESEL_SD', 'Construction')\n",
      "No inventory in the premise database for ('TRUCK_SD_HY_DIESEL_SD', 'Operation')\n",
      "No inventory in the premise database for ('TRUCK_SD_PROPANE_MD', 'Operation')\n",
      "No inventory in the premise database for ('TRUCK_SD_PROPANE_MD', 'Construction')\n",
      "No inventory in the premise database for ('TRUCK_SD_PROPANE_SD', 'Construction')\n",
      "No inventory in the premise database for ('TRUCK_SD_PROPANE_SD', 'Operation')\n"
     ]
    },
    {
     "name": "stderr",
     "output_type": "stream",
     "text": [
      "Writing activities to SQLite3 database:\n",
      "0% [##############################] 100% | ETA: 00:00:00\n",
      "Total time elapsed: 00:00:00\n"
     ]
    },
    {
     "name": "stdout",
     "output_type": "stream",
     "text": [
      "Title: Writing activities to SQLite3 database:\n",
      "  Started: 06/18/2024 16:36:43\n",
      "  Finished: 06/18/2024 16:36:43\n",
      "  Total time elapsed: 00:00:00\n",
      "  CPU %: 45.10\n",
      "  Memory %: 46.49\n"
     ]
    }
   ],
   "execution_count": 19
  },
  {
   "metadata": {
    "ExecuteTime": {
     "end_time": "2024-06-18T20:43:16.215606Z",
     "start_time": "2024-06-18T20:43:16.193513Z"
    }
   },
   "cell_type": "code",
   "source": "mapping_linked_to_premise.head()",
   "id": "4eec0315e3d1b9b0",
   "outputs": [
    {
     "data": {
      "text/plain": [
       "                 Name          Type  \\\n",
       "0              AEC_OG     Operation   \n",
       "1        AEC_OG_PLANT  Construction   \n",
       "2  AEC_OG_PLANT_DECOM  Construction   \n",
       "3        AEC_OG_STACK  Construction   \n",
       "4  AEC_OG_STACK_DECOM  Construction   \n",
       "\n",
       "                                      Product  \\\n",
       "0                   hydrogen, gaseous, 20 bar   \n",
       "1   electrolyzer, 1MWe, AEC, Balance of Plant   \n",
       "2  used fuel cell balance of plant, 1MWe, AEC   \n",
       "3              electrolyzer, 1MWe, AEC, Stack   \n",
       "4             used fuel cell stack, 1MWe, AEC   \n",
       "\n",
       "                                            Activity Location  \\\n",
       "0  hydrogen production, gaseous, 20 bar, from AEC...       CH   \n",
       "1  electrolyzer production, 1MWe, AEC, Balance of...      RER   \n",
       "2  treatment of fuel cell balance of plant, 1MWe,...      RER   \n",
       "3          electrolyzer production, 1MWe, AEC, Stack      RER   \n",
       "4            treatment of fuel cell stack, 1MWe, AEC      RER   \n",
       "\n",
       "                                     Database  \n",
       "0  ecoinvent_cutoff_3.8_remind_SSP2-Base_2020  \n",
       "1  ecoinvent_cutoff_3.8_remind_SSP2-Base_2020  \n",
       "2  ecoinvent_cutoff_3.8_remind_SSP2-Base_2020  \n",
       "3  ecoinvent_cutoff_3.8_remind_SSP2-Base_2020  \n",
       "4  ecoinvent_cutoff_3.8_remind_SSP2-Base_2020  "
      ],
      "text/html": [
       "<div>\n",
       "<style scoped>\n",
       "    .dataframe tbody tr th:only-of-type {\n",
       "        vertical-align: middle;\n",
       "    }\n",
       "\n",
       "    .dataframe tbody tr th {\n",
       "        vertical-align: top;\n",
       "    }\n",
       "\n",
       "    .dataframe thead th {\n",
       "        text-align: right;\n",
       "    }\n",
       "</style>\n",
       "<table border=\"1\" class=\"dataframe\">\n",
       "  <thead>\n",
       "    <tr style=\"text-align: right;\">\n",
       "      <th></th>\n",
       "      <th>Name</th>\n",
       "      <th>Type</th>\n",
       "      <th>Product</th>\n",
       "      <th>Activity</th>\n",
       "      <th>Location</th>\n",
       "      <th>Database</th>\n",
       "    </tr>\n",
       "  </thead>\n",
       "  <tbody>\n",
       "    <tr>\n",
       "      <th>0</th>\n",
       "      <td>AEC_OG</td>\n",
       "      <td>Operation</td>\n",
       "      <td>hydrogen, gaseous, 20 bar</td>\n",
       "      <td>hydrogen production, gaseous, 20 bar, from AEC...</td>\n",
       "      <td>CH</td>\n",
       "      <td>ecoinvent_cutoff_3.8_remind_SSP2-Base_2020</td>\n",
       "    </tr>\n",
       "    <tr>\n",
       "      <th>1</th>\n",
       "      <td>AEC_OG_PLANT</td>\n",
       "      <td>Construction</td>\n",
       "      <td>electrolyzer, 1MWe, AEC, Balance of Plant</td>\n",
       "      <td>electrolyzer production, 1MWe, AEC, Balance of...</td>\n",
       "      <td>RER</td>\n",
       "      <td>ecoinvent_cutoff_3.8_remind_SSP2-Base_2020</td>\n",
       "    </tr>\n",
       "    <tr>\n",
       "      <th>2</th>\n",
       "      <td>AEC_OG_PLANT_DECOM</td>\n",
       "      <td>Construction</td>\n",
       "      <td>used fuel cell balance of plant, 1MWe, AEC</td>\n",
       "      <td>treatment of fuel cell balance of plant, 1MWe,...</td>\n",
       "      <td>RER</td>\n",
       "      <td>ecoinvent_cutoff_3.8_remind_SSP2-Base_2020</td>\n",
       "    </tr>\n",
       "    <tr>\n",
       "      <th>3</th>\n",
       "      <td>AEC_OG_STACK</td>\n",
       "      <td>Construction</td>\n",
       "      <td>electrolyzer, 1MWe, AEC, Stack</td>\n",
       "      <td>electrolyzer production, 1MWe, AEC, Stack</td>\n",
       "      <td>RER</td>\n",
       "      <td>ecoinvent_cutoff_3.8_remind_SSP2-Base_2020</td>\n",
       "    </tr>\n",
       "    <tr>\n",
       "      <th>4</th>\n",
       "      <td>AEC_OG_STACK_DECOM</td>\n",
       "      <td>Construction</td>\n",
       "      <td>used fuel cell stack, 1MWe, AEC</td>\n",
       "      <td>treatment of fuel cell stack, 1MWe, AEC</td>\n",
       "      <td>RER</td>\n",
       "      <td>ecoinvent_cutoff_3.8_remind_SSP2-Base_2020</td>\n",
       "    </tr>\n",
       "  </tbody>\n",
       "</table>\n",
       "</div>"
      ]
     },
     "execution_count": 24,
     "metadata": {},
     "output_type": "execute_result"
    }
   ],
   "execution_count": 24
  },
  {
   "metadata": {},
   "cell_type": "markdown",
   "source": [
    "## Create a new database with additional CPC categories (optional)\n",
    "In case you are working with a LCI database without CPC categories, you can create a new database with the CPC categories. The function `create_new_database_with_CPC_categories` takes as input the database with missing CPC categories, the name of the new database, and a mapping between the products and activities in the LCI database and the CPC categories. It creates a new database with the CPC categories. This step can take a few minutes depending on the size of the database."
   ],
   "id": "93d4cc0ac977b2e1"
  },
  {
   "metadata": {
    "ExecuteTime": {
     "end_time": "2024-06-18T20:50:56.697743Z",
     "start_time": "2024-06-18T20:50:56.688406Z"
    }
   },
   "cell_type": "code",
   "source": [
    "name_premise_with_CPC_db = name_premise_db + '_with_CPC'\n",
    "name_premise_comp_with_CPC_db = name_premise_comp_db + '_with_CPC'"
   ],
   "id": "64d364d3117dff82",
   "outputs": [],
   "execution_count": 25
  },
  {
   "metadata": {
    "ExecuteTime": {
     "end_time": "2024-06-18T20:50:58.468589Z",
     "start_time": "2024-06-18T20:50:58.076438Z"
    }
   },
   "cell_type": "code",
   "source": "premise_comp_db = load_extract_db(name_premise_comp_db)",
   "id": "d62073607c67af57",
   "outputs": [
    {
     "name": "stdout",
     "output_type": "stream",
     "text": [
      "Getting activity data\n"
     ]
    },
    {
     "name": "stderr",
     "output_type": "stream",
     "text": [
      "100%|██████████| 37/37 [00:00<00:00, 12145.98it/s]\n"
     ]
    },
    {
     "name": "stdout",
     "output_type": "stream",
     "text": [
      "Adding exchange data to activities\n"
     ]
    },
    {
     "name": "stderr",
     "output_type": "stream",
     "text": [
      "100%|██████████| 1170/1170 [00:00<00:00, 27295.43it/s]\n"
     ]
    },
    {
     "name": "stdout",
     "output_type": "stream",
     "text": [
      "Filling out exchange data\n"
     ]
    },
    {
     "name": "stderr",
     "output_type": "stream",
     "text": [
      "100%|██████████| 37/37 [00:00<00:00, 121.14it/s]"
     ]
    },
    {
     "name": "stdout",
     "output_type": "stream",
     "text": [
      "ecoinvent_cutoff_3.8_remind_SSP2-Base_2020_comp_QC.pickle created!\n"
     ]
    },
    {
     "name": "stderr",
     "output_type": "stream",
     "text": [
      "\n"
     ]
    }
   ],
   "execution_count": 26
  },
  {
   "metadata": {
    "ExecuteTime": {
     "end_time": "2024-06-18T20:59:01.240181Z",
     "start_time": "2024-06-18T20:50:58.581143Z"
    }
   },
   "cell_type": "code",
   "source": "create_new_database_with_CPC_categories(db=premise_db, new_db_name=name_premise_with_CPC_db, mapping_product_to_CPC=mapping_product_to_CPC)",
   "id": "c522c1c5317ce7df",
   "outputs": [
    {
     "name": "stdout",
     "output_type": "stream",
     "text": [
      "Vacuuming database \n"
     ]
    },
    {
     "name": "stderr",
     "output_type": "stream",
     "text": [
      "Writing activities to SQLite3 database:\n",
      "0% [##############################] 100% | ETA: 00:00:00\n",
      "Total time elapsed: 00:01:05\n"
     ]
    },
    {
     "name": "stdout",
     "output_type": "stream",
     "text": [
      "Title: Writing activities to SQLite3 database:\n",
      "  Started: 06/18/2024 16:54:21\n",
      "  Finished: 06/18/2024 16:55:26\n",
      "  Total time elapsed: 00:01:05\n",
      "  CPU %: 41.50\n",
      "  Memory %: 27.78\n"
     ]
    }
   ],
   "execution_count": 27
  },
  {
   "metadata": {
    "ExecuteTime": {
     "end_time": "2024-06-18T20:59:02.375710Z",
     "start_time": "2024-06-18T20:59:01.325834Z"
    }
   },
   "cell_type": "code",
   "source": "create_new_database_with_CPC_categories(db=premise_comp_db, new_db_name=name_premise_comp_with_CPC_db, mapping_product_to_CPC=mapping_product_to_CPC)",
   "id": "188f5e940f8a7314",
   "outputs": [
    {
     "name": "stderr",
     "output_type": "stream",
     "text": [
      "Writing activities to SQLite3 database:\n",
      "0% [##############################] 100% | ETA: 00:00:00\n",
      "Total time elapsed: 00:00:00\n"
     ]
    },
    {
     "name": "stdout",
     "output_type": "stream",
     "text": [
      "Title: Writing activities to SQLite3 database:\n",
      "  Started: 06/18/2024 16:59:01\n",
      "  Finished: 06/18/2024 16:59:02\n",
      "  Total time elapsed: 00:00:00\n",
      "  CPU %: 30.00\n",
      "  Memory %: 29.04\n"
     ]
    }
   ],
   "execution_count": 28
  },
  {
   "metadata": {
    "ExecuteTime": {
     "end_time": "2024-06-18T20:59:02.699355Z",
     "start_time": "2024-06-18T20:59:02.375710Z"
    }
   },
   "cell_type": "code",
   "source": "premise_comp_db_with_CPC = load_extract_db(name_premise_comp_with_CPC_db, create_pickle=False)",
   "id": "cd643bb02aa980d8",
   "outputs": [
    {
     "name": "stdout",
     "output_type": "stream",
     "text": [
      "Getting activity data\n"
     ]
    },
    {
     "name": "stderr",
     "output_type": "stream",
     "text": [
      "100%|██████████| 37/37 [00:00<?, ?it/s]\n"
     ]
    },
    {
     "name": "stdout",
     "output_type": "stream",
     "text": [
      "Adding exchange data to activities\n"
     ]
    },
    {
     "name": "stderr",
     "output_type": "stream",
     "text": [
      "100%|██████████| 1170/1170 [00:00<00:00, 37312.47it/s]\n"
     ]
    },
    {
     "name": "stdout",
     "output_type": "stream",
     "text": [
      "Filling out exchange data\n"
     ]
    },
    {
     "name": "stderr",
     "output_type": "stream",
     "text": [
      "100%|██████████| 37/37 [00:00<00:00, 147.60it/s]\n"
     ]
    }
   ],
   "execution_count": 29
  },
  {
   "metadata": {
    "ExecuteTime": {
     "end_time": "2024-06-18T20:59:03.479827Z",
     "start_time": "2024-06-18T20:59:02.699355Z"
    }
   },
   "cell_type": "code",
   "source": "relink_database(premise_comp_db_with_CPC, name_premise_db, name_premise_with_CPC_db)",
   "id": "45139d30ee403cea",
   "outputs": [
    {
     "name": "stderr",
     "output_type": "stream",
     "text": [
      "Writing activities to SQLite3 database:\n",
      "0% [##############################] 100% | ETA: 00:00:00\n",
      "Total time elapsed: 00:00:00\n"
     ]
    },
    {
     "name": "stdout",
     "output_type": "stream",
     "text": [
      "Title: Writing activities to SQLite3 database:\n",
      "  Started: 06/18/2024 16:59:02\n",
      "  Finished: 06/18/2024 16:59:03\n",
      "  Total time elapsed: 00:00:00\n",
      "  CPU %: 29.40\n",
      "  Memory %: 29.04\n"
     ]
    }
   ],
   "execution_count": 30
  },
  {
   "metadata": {
    "ExecuteTime": {
     "end_time": "2024-06-18T20:59:03.493660Z",
     "start_time": "2024-06-18T20:59:03.480948Z"
    }
   },
   "cell_type": "code",
   "source": [
    "## Change the mapping file accordingly\n",
    "mapping_linked_to_premise['Database'] += '_with_CPC'"
   ],
   "id": "9b059036f61f1602",
   "outputs": [],
   "execution_count": 31
  },
  {
   "metadata": {},
   "cell_type": "markdown",
   "source": "## Double-counting removal",
   "id": "4d25a01896041d53"
  },
  {
   "metadata": {},
   "cell_type": "code",
   "outputs": [],
   "execution_count": null,
   "source": "new_db_name = 'energyscope_QC_2020_reg'",
   "id": "e62e389e6498b32f"
  },
  {
   "metadata": {},
   "cell_type": "code",
   "outputs": [],
   "execution_count": null,
   "source": "mismatch_regions = ['GLO', 'RoW', 'RER', 'CH']  # insufficient match within ecoinvent",
   "id": "145d3b7fdc23fcc9"
  },
  {
   "metadata": {},
   "cell_type": "code",
   "outputs": [],
   "execution_count": null,
   "source": [
    "create_esm_database(\n",
    "    mapping=mapping_linked_to_premise,\n",
    "    model=model,\n",
    "    tech_specifics=technology_specifics,\n",
    "    technology_compositions=technology_compositions,\n",
    "    mapping_esm_flows_to_CPC_cat=mapping_esm_flows_to_CPC,\n",
    "    main_database=concatenate_databases(list(mapping_linked_to_premise.Database.unique()), create_pickle=False),\n",
    "    esm_db_name=new_db_name,\n",
    "    regionalize_foregrounds=True,\n",
    "    results_path_file='results/',\n",
    "    mismatch_regions=mismatch_regions,\n",
    "    target_region='CA-QC',\n",
    "    locations_ranking=my_ranking\n",
    ")"
   ],
   "id": "4523009e1a96025f"
  },
  {
   "metadata": {},
   "cell_type": "markdown",
   "source": "## Computing the LCA metrics ",
   "id": "6b4cb46fb46fc271"
  },
  {
   "metadata": {},
   "cell_type": "code",
   "outputs": [],
   "execution_count": null,
   "source": "esm_db = load_extract_db('energyscope_QC_2020')",
   "id": "a615f5086c316a92"
  },
  {
   "metadata": {},
   "cell_type": "code",
   "outputs": [],
   "execution_count": null,
   "source": [
    "R_long = compute_impact_scores(\n",
    "    esm_db=esm_db,\n",
    "    mapping=mapping,\n",
    "    technology_compositions=technology_compositions,\n",
    "    methods=['IMPACT World+ Midpoint 2.0.1', 'IMPACT World+ Damage 2.0.1', 'IMPACT World+ Footprint 2.0.1'],\n",
    "    unit_conversion=unit_conversion,\n",
    "    lifetime=lifetime\n",
    ")"
   ],
   "id": "4f8e737e64f2cb9c"
  },
  {
   "metadata": {},
   "cell_type": "code",
   "outputs": [],
   "execution_count": null,
   "source": "R_long.head()",
   "id": "ca731ef9eda9ba66"
  },
  {
   "metadata": {},
   "cell_type": "markdown",
   "source": "## Convert the results in an AMPL format",
   "id": "eced4286c9628abb"
  },
  {
   "metadata": {},
   "cell_type": "markdown",
   "source": "### Create the .dat file",
   "id": "d3b36a88c73fce21"
  },
  {
   "metadata": {},
   "cell_type": "code",
   "outputs": [],
   "execution_count": null,
   "source": [
    "normalize_lca_metrics(\n",
    "    R=lca_metrics,\n",
    "    f_norm=1e6,\n",
    "    mip_gap=1e-6,\n",
    "    refactor=refactor,\n",
    "    lcia_method=lcia_method,\n",
    "    impact_abbrev=impact_abbrev\n",
    ")"
   ],
   "id": "dd3b491c4e3d8ebb"
  },
  {
   "metadata": {},
   "cell_type": "markdown",
   "source": "### Create the .mod file",
   "id": "66b13911bb933dc5"
  },
  {
   "metadata": {},
   "cell_type": "code",
   "outputs": [],
   "execution_count": null,
   "source": [
    "gen_lcia_obj(\n",
    "    lcia_method=lcia_method,\n",
    "    refactor=refactor,\n",
    "    impact_abbrev=impact_abbrev\n",
    ")"
   ],
   "id": "d481ec84345d14d0"
  }
 ],
 "metadata": {
  "kernelspec": {
   "display_name": "Python 3",
   "language": "python",
   "name": "python3"
  },
  "language_info": {
   "codemirror_mode": {
    "name": "ipython",
    "version": 2
   },
   "file_extension": ".py",
   "mimetype": "text/x-python",
   "name": "python",
   "nbconvert_exporter": "python",
   "pygments_lexer": "ipython2",
   "version": "2.7.6"
  }
 },
 "nbformat": 4,
 "nbformat_minor": 5
}
