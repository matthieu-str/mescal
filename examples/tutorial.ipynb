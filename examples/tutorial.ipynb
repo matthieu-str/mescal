{
 "cells": [
  {
   "metadata": {},
   "cell_type": "markdown",
   "source": "# Tutorial on how to use mescal",
   "id": "bac3505a5afe8971"
  },
  {
   "metadata": {},
   "cell_type": "markdown",
   "source": "*mescal* is a [Brightway](https://docs.brightway.dev/en/latest/)-powered Python package that helps you to integrate Life-Cycle Assessment (LCA) in your energy system model.",
   "id": "f0286cca92516cb6"
  },
  {
   "metadata": {},
   "cell_type": "code",
   "outputs": [],
   "execution_count": null,
   "source": [
    "# Import the required libraries, including mescal\n",
    "from mescal import *\n",
    "import pandas as pd"
   ],
   "id": "ad6977f1e798f1ba"
  },
  {
   "metadata": {},
   "cell_type": "markdown",
   "source": "## Your data",
   "id": "8325f04c8e08b23f"
  },
  {
   "metadata": {},
   "cell_type": "markdown",
   "source": [
    "For mescal to understand the structure of your energy system model, you need to provide it with a set of dataframes.\n",
    "\n",
    "Mandatory dataframes are:\n",
    "- A mapping between the energy technologies and resources of the energy system model, and Life-Cycle Inventories datasets (LCI) from an LCI database (e.g., ecoinvent). The mapping should be provided in a dataframe with the following columns:\n",
    "    - Name: the name of the energy technology or resource in the energy model \n",
    "    - Type: the type of the energy technology or resource (i.e., 'construction', 'operation', or 'resource')  \n",
    "    - Activity: the name of the activity of the energy technology or resource in the LCI database\n",
    "    - Product: the name of the product of the energy technology or resource in the LCI database\n",
    "    - Region: the name of the region of the energy technology or resource in the LCI database\n",
    "    - Database: the name of the database in your brightway project\n",
    "- A set of conversion factors, including the difference of units and assumptions (e.g., lifetime, efficiency, capacity factors, etc.) between the energy system model and the LCI database. The conversion factors should be provided in a dataframe with the following columns:\n",
    "    - Name: the name of the energy technology or resource in the energy model \n",
    "    - Type: the type of the energy technology or resource (i.e., 'construction', 'operation', or 'resource')\n",
    "    - CF: the numerical value of the conversion factor\n",
    "- The input and output flows if energy technologies. It should be provided in a dataframe with the following columns:\n",
    "    - Name: the name of the energy technology in the energy model\n",
    "    - Flow: the name of the input or output flow\n",
    "    - Value: the numerical value of the flow (negative if input, positive if output)   \n",
    "- A mapping between the energy model flows and CPC categories. The mapping should be provided in a dataframe with the following columns:\n",
    "    - Name: the name of the energy flow in the energy model\n",
    "    - CPC: the list of names of corresponding CPC categories\n",
    "\n",
    "Optional dataframes are:\n",
    "- A set of composition of technologies, i.e., if one technology or resource in the energy model should be represented by a combination of LCI datasets. The composition should be provided in a dataframe with the following columns:\n",
    "    - Name: the name of the main energy technology or resource in the energy model \n",
    "    - Composition: the list of names of subcomponents\n",
    "- A set of technologies with specific requirements. For instance, this stands for energy technologies without a construction phase, mobility technologies (if mismatch fuel in the LCI dataset), bioprocesses (if mismatch fuel in the LCI dataset). The requirements should be provided in a dataframe with the following columns:\n",
    "    - Name: the name of the energy technology in the energy model\n",
    "    - Requirement: the list of requirements  "
   ],
   "id": "5a258dfbe446ea54"
  },
  {
   "metadata": {},
   "cell_type": "code",
   "outputs": [],
   "execution_count": null,
   "source": "",
   "id": "d2c8ba7404c03129"
  },
  {
   "metadata": {},
   "cell_type": "code",
   "outputs": [],
   "execution_count": null,
   "source": "",
   "id": "9dd502c6d5773bd2"
  }
 ],
 "metadata": {
  "kernelspec": {
   "display_name": "Python 3",
   "language": "python",
   "name": "python3"
  },
  "language_info": {
   "codemirror_mode": {
    "name": "ipython",
    "version": 2
   },
   "file_extension": ".py",
   "mimetype": "text/x-python",
   "name": "python",
   "nbconvert_exporter": "python",
   "pygments_lexer": "ipython2",
   "version": "2.7.6"
  }
 },
 "nbformat": 4,
 "nbformat_minor": 5
}
