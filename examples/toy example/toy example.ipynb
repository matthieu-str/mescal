{
 "cells": [
  {
   "metadata": {},
   "cell_type": "markdown",
   "source": "# Toy example to demonstrate the use of **mescal**",
   "id": "2e294941fb92c61d"
  },
  {
   "metadata": {
    "ExecuteTime": {
     "end_time": "2025-05-12T16:22:03.895292Z",
     "start_time": "2025-05-12T16:22:03.811589Z"
    }
   },
   "cell_type": "code",
   "source": [
    "%load_ext autoreload\n",
    "%autoreload 2"
   ],
   "id": "b33fff8e048d7c52",
   "outputs": [],
   "execution_count": 1
  },
  {
   "metadata": {
    "ExecuteTime": {
     "end_time": "2025-05-12T16:22:12.205839Z",
     "start_time": "2025-05-12T16:22:04.461911Z"
    }
   },
   "cell_type": "code",
   "source": [
    "import os\n",
    "from mescal import *\n",
    "import bw2data as bd\n",
    "from utils import *\n",
    "import numpy as np\n",
    "import matplotlib.pyplot as plt\n",
    "import plotly.express as px"
   ],
   "id": "68f971433ed02521",
   "outputs": [],
   "execution_count": 2
  },
  {
   "metadata": {
    "ExecuteTime": {
     "end_time": "2025-05-12T16:22:12.399906Z",
     "start_time": "2025-05-12T16:22:12.212910Z"
    }
   },
   "cell_type": "code",
   "source": "ei_version = '3.10.1'",
   "id": "76f0686852bb0165",
   "outputs": [],
   "execution_count": 3
  },
  {
   "metadata": {
    "ExecuteTime": {
     "end_time": "2025-05-12T16:22:13.697807Z",
     "start_time": "2025-05-12T16:22:13.510743Z"
    }
   },
   "cell_type": "code",
   "source": [
    "# AMPL licence\n",
    "path_to_ampl_licence = r'C:\\Users\\matth\\ampl' # Path to the AMPL license file\n",
    "os.environ['PATH'] = path_to_ampl_licence+':'+os.environ['PATH']"
   ],
   "id": "c89e51c29eae6766",
   "outputs": [],
   "execution_count": 4
  },
  {
   "metadata": {
    "ExecuteTime": {
     "end_time": "2025-05-12T16:22:13.925487Z",
     "start_time": "2025-05-12T16:22:13.727882Z"
    }
   },
   "cell_type": "code",
   "source": [
    "path_model = './data/esm/' # Path to the energy system model\n",
    "path_model_lca = './data/esm/lca/'\n",
    "path_inputs = './data/lca/' # Path to the LCA data\n",
    "path_results = './results/' # Path to the results"
   ],
   "id": "2cfd0549b4960142",
   "outputs": [],
   "execution_count": 5
  },
  {
   "metadata": {},
   "cell_type": "markdown",
   "source": "## Generating LCA impact scores",
   "id": "14a1cca864b9fde4"
  },
  {
   "metadata": {
    "ExecuteTime": {
     "end_time": "2025-05-12T13:34:56.356972Z",
     "start_time": "2025-05-12T13:34:56.192385Z"
    }
   },
   "cell_type": "code",
   "source": [
    "mapping = pd.read_csv(path_inputs+'mapping.csv')\n",
    "unit_conversion = pd.read_excel(path_inputs+'unit_conversion.xlsx')\n",
    "techno_compositions = pd.read_csv(path_inputs+'technology_compositions.csv')\n",
    "efficiency = pd.read_csv(path_inputs+'efficiency.csv')\n",
    "lifetime = pd.read_csv(path_inputs+'lifetime.csv')\n",
    "mapping_es_flows_to_cpc = pd.read_csv(path_inputs+'mapping_esm_flows_to_CPC.csv')\n",
    "impact_abbrev = pd.read_csv(path_inputs+'impact_abbrev.csv')\n",
    "model = pd.read_csv(path_inputs+'model.csv')"
   ],
   "id": "2523f07d3a37daab",
   "outputs": [],
   "execution_count": 6
  },
  {
   "metadata": {
    "ExecuteTime": {
     "end_time": "2025-05-12T13:34:58.314335Z",
     "start_time": "2025-05-12T13:34:56.384104Z"
    }
   },
   "cell_type": "code",
   "source": [
    "# Set up your Brightway project\n",
    "bd.projects.set_current(f'ecoinvent{ei_version}')"
   ],
   "id": "1c0507dcf7a33bdc",
   "outputs": [],
   "execution_count": 7
  },
  {
   "metadata": {
    "ExecuteTime": {
     "end_time": "2025-05-12T13:34:58.779304Z",
     "start_time": "2025-05-12T13:34:58.372662Z"
    }
   },
   "cell_type": "code",
   "source": "name_main_database = f'ecoinvent_cutoff_{ei_version}_image_SSP2-Base_2050'",
   "id": "539ff35204d0259c",
   "outputs": [],
   "execution_count": 8
  },
  {
   "metadata": {},
   "cell_type": "code",
   "source": "main_db = Database(name_main_database, create_pickle=True)",
   "id": "c9d4c26fd3cdfb73",
   "outputs": [],
   "execution_count": null
  },
  {
   "metadata": {},
   "cell_type": "code",
   "source": [
    "# Add CPC categories to the main database\n",
    "main_db.add_CPC_categories()"
   ],
   "id": "8fc9e3c9df1a93f2",
   "outputs": [],
   "execution_count": null
  },
  {
   "metadata": {},
   "cell_type": "code",
   "source": "ranking_best_ecoinvent_locations = ['GLO', 'RoW']",
   "id": "d68ce795e2ee7351",
   "outputs": [],
   "execution_count": null
  },
  {
   "metadata": {},
   "cell_type": "code",
   "source": [
    "esm = ESM(\n",
    "    # Mandatory inputs\n",
    "    mapping=mapping,\n",
    "    unit_conversion=unit_conversion,\n",
    "    model=model,\n",
    "    mapping_esm_flows_to_CPC_cat=mapping_es_flows_to_cpc,\n",
    "    main_database=main_db,\n",
    "    esm_db_name='Tatooine_2050',\n",
    "\n",
    "    # Optional inputs\n",
    "    technology_compositions=techno_compositions,\n",
    "    lifetime=lifetime,\n",
    "    efficiency=efficiency,\n",
    "    regionalize_foregrounds=False,\n",
    "    locations_ranking=ranking_best_ecoinvent_locations,\n",
    "    esm_location='GLO',\n",
    "    results_path_file=path_results,\n",
    ")"
   ],
   "id": "baf9b093f75bedbb",
   "outputs": [],
   "execution_count": null
  },
  {
   "metadata": {},
   "cell_type": "code",
   "source": "esm.check_inputs()",
   "id": "f3191c30439d377d",
   "outputs": [],
   "execution_count": null
  },
  {
   "metadata": {},
   "cell_type": "code",
   "source": [
    "# Adapt mapping file to ESM location\n",
    "esm.change_location_mapping_file()\n",
    "# esm.mapping.to_csv(path_inputs+f'mapping.csv', index=False)"
   ],
   "id": "847bbcb5d37932eb",
   "outputs": [],
   "execution_count": null
  },
  {
   "metadata": {},
   "cell_type": "code",
   "source": "missing_flows = main_db.test_mapping_file(esm.mapping)",
   "id": "5891d0fdae56b073",
   "outputs": [],
   "execution_count": null
  },
  {
   "metadata": {},
   "cell_type": "code",
   "source": "esm.create_esm_database()",
   "id": "6a15027a32c00e77",
   "outputs": [],
   "execution_count": null
  },
  {
   "metadata": {},
   "cell_type": "code",
   "source": [
    "# Save the mapping file with new codes for later use\n",
    "esm.mapping.to_csv(path_results+'mapping_with_new_codes.csv', index=False)"
   ],
   "id": "ecb515da1fd71714",
   "outputs": [],
   "execution_count": null
  },
  {
   "metadata": {},
   "cell_type": "code",
   "source": "methods = ['IMPACT World+ Midpoint 2.1_regionalized for ecoinvent v3.10', 'IMPACT World+ Damage 2.1_regionalized for ecoinvent v3.10']",
   "id": "24820ca058bc9353",
   "outputs": [],
   "execution_count": null
  },
  {
   "metadata": {},
   "cell_type": "code",
   "source": [
    "R_long = esm.compute_impact_scores(\n",
    "    methods=methods,\n",
    "    impact_abbrev=impact_abbrev,\n",
    ")"
   ],
   "id": "59ac5e4a3ab24aea",
   "outputs": [],
   "execution_count": null
  },
  {
   "metadata": {},
   "cell_type": "code",
   "source": "R_long.to_csv(f'{path_results}impact_scores.csv', index=False) # [impact / kW(h) or pkm(/h) or tkm(/h)]",
   "id": "9b2dcd4f655b9893",
   "outputs": [],
   "execution_count": null
  },
  {
   "metadata": {},
   "cell_type": "code",
   "source": "activities_subject_to_double_counting = pd.read_csv(f'{path_results}activities_subject_to_double_counting.csv')",
   "id": "39d5ae6ddfcf7ca7",
   "outputs": [],
   "execution_count": null
  },
  {
   "metadata": {},
   "cell_type": "code",
   "source": [
    "R_long_direct_emissions = esm.compute_impact_scores(\n",
    "    methods=methods,\n",
    "    assessment_type='direct emissions',\n",
    "    impact_abbrev=impact_abbrev,\n",
    "    activities_subject_to_double_counting=activities_subject_to_double_counting,\n",
    "    overwrite=True,\n",
    ")"
   ],
   "id": "3baec5be46bf1b86",
   "outputs": [],
   "execution_count": null
  },
  {
   "metadata": {},
   "cell_type": "code",
   "source": "R_long_direct_emissions.to_csv(f'{path_results}impact_scores_direct_emissions.csv', index=False) # [impact / kW(h) or pkm(/h) or tkm(/h)]",
   "id": "79d3b5e5b643599d",
   "outputs": [],
   "execution_count": null
  },
  {
   "metadata": {},
   "cell_type": "code",
   "source": [
    "metadata = {\n",
    "    'ecoinvent_version': ei_version,\n",
    "    'year': '2050',\n",
    "    'iam': 'image',\n",
    "    'ssp_rcp': 'SSP2-Base',\n",
    "}"
   ],
   "id": "6f21e98fca61e493",
   "outputs": [],
   "execution_count": null
  },
  {
   "metadata": {},
   "cell_type": "code",
   "source": "specific_lcia_abbrev = ['m_CCS', 'TTHH', 'TTEQ']",
   "id": "214da2782bba635a",
   "outputs": [],
   "execution_count": null
  },
  {
   "metadata": {},
   "cell_type": "code",
   "source": [
    "# Create .dat file\n",
    "esm.normalize_lca_metrics(\n",
    "    R=R_long,\n",
    "    mip_gap=1e-6,\n",
    "    lcia_methods=methods,\n",
    "    specific_lcia_abbrev=specific_lcia_abbrev,\n",
    "    impact_abbrev=impact_abbrev,\n",
    "    path=path_model_lca,\n",
    "    metadata=metadata,\n",
    "    file_name='techs_lca',\n",
    ")"
   ],
   "id": "f0722b317c2d72c3",
   "outputs": [],
   "execution_count": null
  },
  {
   "metadata": {},
   "cell_type": "code",
   "source": [
    "# Create .dat file for direct emissions only\n",
    "esm.normalize_lca_metrics(\n",
    "    assessment_type='direct emissions',\n",
    "    R=R_long_direct_emissions,\n",
    "    max_per_cat=pd.read_csv(path_model_lca + 'techs_lca_max.csv'),\n",
    "    mip_gap=1e-6,\n",
    "    lcia_methods=methods,\n",
    "    specific_lcia_abbrev=specific_lcia_abbrev,\n",
    "    impact_abbrev=impact_abbrev,\n",
    "    path=path_model_lca,\n",
    "    metadata=metadata,\n",
    "    file_name='techs_lca_direct',\n",
    ")"
   ],
   "id": "e0962bc4f6df262a",
   "outputs": [],
   "execution_count": null
  },
  {
   "metadata": {},
   "cell_type": "code",
   "source": [
    "# Create the .mod file\n",
    "esm.generate_mod_file_ampl(\n",
    "    lcia_methods=methods,\n",
    "    impact_abbrev=impact_abbrev,\n",
    "    specific_lcia_abbrev=specific_lcia_abbrev,\n",
    "    path=path_model_lca,\n",
    "    metadata=metadata,\n",
    "    file_name='objectives_lca',\n",
    ")"
   ],
   "id": "8178172dac2965e2",
   "outputs": [],
   "execution_count": null
  },
  {
   "metadata": {},
   "cell_type": "code",
   "source": [
    "# Create the .mod file for direct emissions only\n",
    "esm.generate_mod_file_ampl(\n",
    "    assessment_type='direct emissions',\n",
    "    lcia_methods=methods,\n",
    "    impact_abbrev=impact_abbrev,\n",
    "    specific_lcia_abbrev=specific_lcia_abbrev,\n",
    "    path=path_model_lca,\n",
    "    metadata=metadata,\n",
    "    file_name='objectives_lca_direct',\n",
    ")"
   ],
   "id": "e3d37bb56d9ef7da",
   "outputs": [],
   "execution_count": null
  },
  {
   "metadata": {},
   "cell_type": "markdown",
   "source": "## Running the ESM",
   "id": "d60e071ffee08a81"
  },
  {
   "metadata": {
    "ExecuteTime": {
     "end_time": "2025-05-12T16:22:16.027876Z",
     "start_time": "2025-05-12T16:22:15.729751Z"
    }
   },
   "cell_type": "code",
   "source": [
    "max_per_cat = pd.read_csv(path_model_lca + 'techs_lca_max.csv')\n",
    "impact_scores = pd.read_csv(path_results+'impact_scores.csv')"
   ],
   "id": "c8050a2095afee56",
   "outputs": [],
   "execution_count": 6
  },
  {
   "metadata": {
    "ExecuteTime": {
     "end_time": "2025-05-12T16:22:16.489798Z",
     "start_time": "2025-05-12T16:22:16.151657Z"
    }
   },
   "cell_type": "code",
   "source": [
    "max_ccs = max_per_cat[max_per_cat['Abbrev'] == 'm_CCS']['max_AoP'].values[0]\n",
    "max_tthh = max_per_cat[max_per_cat['Abbrev'] == 'TTHH']['max_AoP'].values[0]\n",
    "max_tteq = max_per_cat[max_per_cat['Abbrev'] == 'TTEQ']['max_AoP'].values[0]"
   ],
   "id": "95690f1fdc00a0be",
   "outputs": [],
   "execution_count": 7
  },
  {
   "metadata": {},
   "cell_type": "markdown",
   "source": "### Single objective optimization",
   "id": "fe51bd381adeb071"
  },
  {
   "metadata": {
    "ExecuteTime": {
     "end_time": "2025-05-12T16:22:20.916940Z",
     "start_time": "2025-05-12T16:22:16.533065Z"
    }
   },
   "cell_type": "code",
   "source": [
    "list_esm_results_f_mult = []\n",
    "list_esm_results_annual_res = []\n",
    "list_esm_results_annual_prod = []\n",
    "list_main_variables_results = []\n",
    "\n",
    "for obj in ['TotalCost', 'TotalLCIA_m_CCS', 'TotalLCIA_TTHH', 'TotalLCIA_TTEQ']:\n",
    "\n",
    "    results = run_esm(obj)\n",
    "\n",
    "    df_f_mult, df_annual_prod, df_annual_res = get_impact_scores(\n",
    "        df_results=results,\n",
    "        df_impact_scores=impact_scores,\n",
    "        impact_category=[\n",
    "            ('IMPACT World+ Damage 2.1_regionalized for ecoinvent v3.10', 'Human health', 'Total human health'),\n",
    "            ('IMPACT World+ Damage 2.1_regionalized for ecoinvent v3.10', 'Ecosystem quality', 'Total ecosystem quality'),\n",
    "            ('IMPACT World+ Midpoint 2.1_regionalized for ecoinvent v3.10', 'Midpoint', 'Climate change, short term'),\n",
    "        ]\n",
    "    )\n",
    "\n",
    "    df_f_mult['Run'] = obj\n",
    "    df_annual_prod['Run'] = obj\n",
    "    df_annual_res['Run'] = obj\n",
    "\n",
    "    df_f_mult.rename(columns={'index': 'Name'}, inplace=True)\n",
    "    df_annual_prod.rename(columns={'index': 'Name'}, inplace=True)\n",
    "    df_annual_res.rename(columns={'index': 'Name'}, inplace=True)\n",
    "\n",
    "    total_cost = results.variables['TotalCost'].TotalCost.values[0]\n",
    "    total_m_ccs = results.variables['TotalLCIA_m_CCS'].TotalLCIA_m_CCS.values[0]\n",
    "    total_tthh = results.variables['TotalLCIA_TTHH'].TotalLCIA_TTHH.values[0]\n",
    "    total_tteq = results.variables['TotalLCIA_TTEQ'].TotalLCIA_TTEQ.values[0]\n",
    "\n",
    "    list_main_variables_results.append([obj, total_cost, total_m_ccs, total_tthh, total_tteq])\n",
    "\n",
    "    list_esm_results_f_mult.append(df_f_mult)\n",
    "    list_esm_results_annual_prod.append(df_annual_prod)\n",
    "    list_esm_results_annual_res.append(df_annual_res)\n",
    "\n",
    "esm_results_f_mult = pd.concat(list_esm_results_f_mult)\n",
    "esm_results_annual_prod = pd.concat(list_esm_results_annual_prod)\n",
    "esm_results_annual_res = pd.concat(list_esm_results_annual_res)\n",
    "main_variables_results = pd.DataFrame(data=list_main_variables_results, columns=['Objective', 'TotalCost', 'TotalLCIA_m_CCS', 'TotalLCIA_TTHH', 'TotalLCIA_TTEQ'])"
   ],
   "id": "6b1f7354fc28bd55",
   "outputs": [
    {
     "name": "stdout",
     "output_type": "stream",
     "text": [
      "Gurobi 12.0.0: "
     ]
    }
   ],
   "execution_count": 8
  },
  {
   "metadata": {
    "ExecuteTime": {
     "end_time": "2025-05-12T16:22:21.251579Z",
     "start_time": "2025-05-12T16:22:20.965673Z"
    }
   },
   "cell_type": "code",
   "source": "main_variables_results",
   "id": "f368a85f50d59a26",
   "outputs": [
    {
     "data": {
      "text/plain": [
       "         Objective   TotalCost  TotalLCIA_m_CCS  TotalLCIA_TTHH  \\\n",
       "0        TotalCost  362.101013       762.764789      761.468102   \n",
       "1  TotalLCIA_m_CCS  418.712941       199.595268      245.642999   \n",
       "2   TotalLCIA_TTHH  621.397177       202.214934      236.509829   \n",
       "3   TotalLCIA_TTEQ  761.720826       219.973407      245.119378   \n",
       "\n",
       "   TotalLCIA_TTEQ  \n",
       "0     1006.340858  \n",
       "1      701.840665  \n",
       "2      457.772084  \n",
       "3      310.994264  "
      ],
      "text/html": [
       "<div>\n",
       "<style scoped>\n",
       "    .dataframe tbody tr th:only-of-type {\n",
       "        vertical-align: middle;\n",
       "    }\n",
       "\n",
       "    .dataframe tbody tr th {\n",
       "        vertical-align: top;\n",
       "    }\n",
       "\n",
       "    .dataframe thead th {\n",
       "        text-align: right;\n",
       "    }\n",
       "</style>\n",
       "<table border=\"1\" class=\"dataframe\">\n",
       "  <thead>\n",
       "    <tr style=\"text-align: right;\">\n",
       "      <th></th>\n",
       "      <th>Objective</th>\n",
       "      <th>TotalCost</th>\n",
       "      <th>TotalLCIA_m_CCS</th>\n",
       "      <th>TotalLCIA_TTHH</th>\n",
       "      <th>TotalLCIA_TTEQ</th>\n",
       "    </tr>\n",
       "  </thead>\n",
       "  <tbody>\n",
       "    <tr>\n",
       "      <th>0</th>\n",
       "      <td>TotalCost</td>\n",
       "      <td>362.101013</td>\n",
       "      <td>762.764789</td>\n",
       "      <td>761.468102</td>\n",
       "      <td>1006.340858</td>\n",
       "    </tr>\n",
       "    <tr>\n",
       "      <th>1</th>\n",
       "      <td>TotalLCIA_m_CCS</td>\n",
       "      <td>418.712941</td>\n",
       "      <td>199.595268</td>\n",
       "      <td>245.642999</td>\n",
       "      <td>701.840665</td>\n",
       "    </tr>\n",
       "    <tr>\n",
       "      <th>2</th>\n",
       "      <td>TotalLCIA_TTHH</td>\n",
       "      <td>621.397177</td>\n",
       "      <td>202.214934</td>\n",
       "      <td>236.509829</td>\n",
       "      <td>457.772084</td>\n",
       "    </tr>\n",
       "    <tr>\n",
       "      <th>3</th>\n",
       "      <td>TotalLCIA_TTEQ</td>\n",
       "      <td>761.720826</td>\n",
       "      <td>219.973407</td>\n",
       "      <td>245.119378</td>\n",
       "      <td>310.994264</td>\n",
       "    </tr>\n",
       "  </tbody>\n",
       "</table>\n",
       "</div>"
      ]
     },
     "execution_count": 9,
     "metadata": {},
     "output_type": "execute_result"
    }
   ],
   "execution_count": 9
  },
  {
   "metadata": {
    "ExecuteTime": {
     "end_time": "2025-05-12T13:35:06.714302Z",
     "start_time": "2025-05-12T13:35:06.270945Z"
    }
   },
   "cell_type": "code",
   "source": [
    "# lyrio = results.parameters['layers_in_out'].reset_index()\n",
    "# lyrio = lyrio[lyrio.layers_in_out != 0].drop(columns=['Run']).rename({'index0': 'Name', 'index1': 'Flow', 'layers_in_out': 'Amount'}, axis=1)\n",
    "# lyrio.to_csv(path_inputs+'model.csv', index=False)"
   ],
   "id": "d58929ca282f11",
   "outputs": [],
   "execution_count": 14
  },
  {
   "metadata": {},
   "cell_type": "markdown",
   "source": "### Multi-objective optimization",
   "id": "c136073b7df42542"
  },
  {
   "metadata": {},
   "cell_type": "markdown",
   "source": "#### Pareto front",
   "id": "64ea798e674aa6dc"
  },
  {
   "metadata": {
    "ExecuteTime": {
     "end_time": "2025-05-12T17:54:26.329774Z",
     "start_time": "2025-05-12T17:54:25.799903Z"
    }
   },
   "cell_type": "code",
   "source": [
    "# normalized limit = (physical limit [impact / cap] / max_AoP) * N_cap\n",
    "N_run = 300\n",
    "obj1 = 'TotalLCIA_m_CCS'\n",
    "max_obj1 = max_ccs\n",
    "obj2 = 'TotalCost'\n",
    "max_obj2 = 1\n",
    "\n",
    "normalized_limits_list = []\n",
    "obj1_min = main_variables_results[main_variables_results['Objective'] == obj1][obj1].values[0]\n",
    "obj1_max = main_variables_results[main_variables_results['Objective'] == obj2][obj1].values[0]\n",
    "physical_limit_list = list(np.linspace(obj1_min, obj1_max, N_run))\n",
    "# physical_limit_list = list(np.logspace(np.log10(688.41), np.log10(750), N_run))\n",
    "for limit in physical_limit_list:\n",
    "        normalized_limits_list.append((limit / max_obj1))"
   ],
   "id": "912b17adf34fecbd",
   "outputs": [],
   "execution_count": 69
  },
  {
   "metadata": {
    "ExecuteTime": {
     "end_time": "2025-05-12T17:54:27.131938Z",
     "start_time": "2025-05-12T17:54:26.905274Z"
    }
   },
   "cell_type": "code",
   "source": [
    "data = ['limit_lcia', obj1.split('TotalLCIA_')[-1], None, None, None] + normalized_limits_list\n",
    "columns = ['param', 'index0', 'index1', 'index2', 'index3'] + [f'value{i+1}' for i in range(N_run)]"
   ],
   "id": "c296ce1ebbb2084d",
   "outputs": [],
   "execution_count": 70
  },
  {
   "metadata": {
    "ExecuteTime": {
     "end_time": "2025-05-12T17:54:27.417407Z",
     "start_time": "2025-05-12T17:54:27.205007Z"
    }
   },
   "cell_type": "code",
   "source": [
    "seq_data = pd.DataFrame(data).T\n",
    "seq_data.columns = columns"
   ],
   "id": "e7a41d16f747be7f",
   "outputs": [],
   "execution_count": 71
  },
  {
   "metadata": {
    "ExecuteTime": {
     "end_time": "2025-05-12T17:54:28.157733Z",
     "start_time": "2025-05-12T17:54:27.882668Z"
    }
   },
   "cell_type": "code",
   "source": "es = run_esm(objective_function=obj2, returns='model')",
   "id": "41cfdd40c7bf62ad",
   "outputs": [],
   "execution_count": 72
  },
  {
   "metadata": {
    "ExecuteTime": {
     "end_time": "2025-05-12T17:57:14.344832Z",
     "start_time": "2025-05-12T17:54:28.769019Z"
    }
   },
   "cell_type": "code",
   "source": "results_pareto = es.calc_sequence(seq_data)",
   "id": "3fe41b2704e604e3",
   "outputs": [
    {
     "name": "stdout",
     "output_type": "stream",
     "text": [
      "Gurobi 12.0.0: 1\n",
      "Gurobi 12.0.0: 2\n",
      "Gurobi 12.0.0: 3\n",
      "Gurobi 12.0.0: \n",
      "\"option abs_boundtol 5.684341886080802e-14;\"\n",
      "or \"option rel_boundtol 1.7440767971523924e-16;\"\n",
      "will change deduced dual values.\n",
      "\n",
      "4\n",
      "Gurobi 12.0.0: 5\n",
      "Gurobi 12.0.0: \n",
      "\"option abs_boundtol 5.684341886080802e-14;\"\n",
      "or \"option rel_boundtol 1.712643449816542e-16;\"\n",
      "will change deduced dual values.\n",
      "\n",
      "6\n",
      "Gurobi 12.0.0: 7\n",
      "Gurobi 12.0.0: 8\n",
      "Gurobi 12.0.0: 9\n",
      "Gurobi 12.0.0: 10\n",
      "Gurobi 12.0.0: \n",
      "\"option abs_boundtol 5.684341886080802e-14;\"\n",
      "or \"option rel_boundtol 1.6388034144663154e-16;\"\n",
      "will change deduced dual values.\n",
      "\n",
      "11\n",
      "Gurobi 12.0.0: 12\n",
      "Gurobi 12.0.0: 13\n",
      "Gurobi 12.0.0: 14\n",
      "Gurobi 12.0.0: 15\n",
      "Gurobi 12.0.0: 16\n",
      "Gurobi 12.0.0: 17\n",
      "Gurobi 12.0.0: \n",
      "\"option abs_boundtol 5.684341886080802e-14;\"\n",
      "or \"option rel_boundtol 1.545515306632984e-16;\"\n",
      "will change deduced dual values.\n",
      "\n",
      "18\n",
      "Gurobi 12.0.0: 19\n",
      "Gurobi 12.0.0: 20\n",
      "Gurobi 12.0.0: 21\n",
      "Gurobi 12.0.0: \n",
      "\"option abs_boundtol 5.684341886080802e-14;\"\n",
      "or \"option rel_boundtol 1.4968260973023003e-16;\"\n",
      "will change deduced dual values.\n",
      "\n",
      "22\n",
      "Gurobi 12.0.0: 23\n",
      "Gurobi 12.0.0: 24\n",
      "Gurobi 12.0.0: \n",
      "\"option abs_boundtol 5.684341886080802e-14;\"\n",
      "or \"option rel_boundtol 1.4622759415491915e-16;\"\n",
      "will change deduced dual values.\n",
      "\n",
      "25\n",
      "Gurobi 12.0.0: 26\n",
      "Gurobi 12.0.0: 27\n",
      "Gurobi 12.0.0: 28\n",
      "Gurobi 12.0.0: \n",
      "\"option abs_boundtol 5.684341886080802e-14;\"\n",
      "or \"option rel_boundtol 1.4186160874411829e-16;\"\n",
      "will change deduced dual values.\n",
      "\n",
      "29\n",
      "Gurobi 12.0.0: 30\n",
      "Gurobi 12.0.0: \n",
      "\"option abs_boundtol 5.684341886080802e-14;\"\n",
      "or \"option rel_boundtol 1.3977494590141794e-16;\"\n",
      "will change deduced dual values.\n",
      "\n",
      "31\n",
      "Gurobi 12.0.0: 32\n",
      "Gurobi 12.0.0: 33\n",
      "Gurobi 12.0.0: 34\n",
      "Gurobi 12.0.0: 35\n",
      "Gurobi 12.0.0: 36\n",
      "Gurobi 12.0.0: 37\n",
      "Gurobi 12.0.0: \n",
      "\"option abs_boundtol 5.684341886080802e-14;\"\n",
      "or \"option rel_boundtol 1.3293137241684661e-16;\"\n",
      "will change deduced dual values.\n",
      "\n",
      "38\n",
      "Gurobi 12.0.0: 39\n",
      "Gurobi 12.0.0: 40\n",
      "Gurobi 12.0.0: 41\n",
      "Gurobi 12.0.0: 42\n",
      "Gurobi 12.0.0: 43\n",
      "Gurobi 12.0.0: 44\n",
      "Gurobi 12.0.0: \n",
      "\"option abs_boundtol 5.684341886080802e-14;\"\n",
      "or \"option rel_boundtol 1.267266609018936e-16;\"\n",
      "will change deduced dual values.\n",
      "\n",
      "45\n",
      "Gurobi 12.0.0: 46\n",
      "Gurobi 12.0.0: 47\n",
      "Gurobi 12.0.0: 48\n",
      "Gurobi 12.0.0: 49\n",
      "Gurobi 12.0.0: \n",
      "\"option abs_boundtol 5.684341886080802e-14;\"\n",
      "or \"option rel_boundtol 1.2263790856509977e-16;\"\n",
      "will change deduced dual values.\n",
      "\n",
      "50\n",
      "Gurobi 12.0.0: 51\n",
      "Gurobi 12.0.0: \n",
      "\"option abs_boundtol 5.684341886080802e-14;\"\n",
      "or \"option rel_boundtol 1.2107534206403593e-16;\"\n",
      "will change deduced dual values.\n",
      "\n",
      "52\n",
      "Gurobi 12.0.0: 53\n",
      "Gurobi 12.0.0: 54\n",
      "Gurobi 12.0.0: 55\n",
      "Gurobi 12.0.0: 56\n",
      "Gurobi 12.0.0: \n",
      "\"option abs_boundtol 5.684341886080802e-14;\"\n",
      "or \"option rel_boundtol 1.1733775300410449e-16;\"\n",
      "will change deduced dual values.\n",
      "\n",
      "57\n",
      "Gurobi 12.0.0: 58\n",
      "Gurobi 12.0.0: 59\n",
      "Gurobi 12.0.0: 60\n",
      "Gurobi 12.0.0: 61\n",
      "Gurobi 12.0.0: 62\n",
      "Gurobi 12.0.0: 63\n",
      "Gurobi 12.0.0: \n",
      "\"option abs_boundtol 5.684341886080802e-14;\"\n",
      "or \"option rel_boundtol 1.1247674194889226e-16;\"\n",
      "will change deduced dual values.\n",
      "\n",
      "64\n",
      "Gurobi 12.0.0: 65\n",
      "Gurobi 12.0.0: 66\n",
      "Gurobi 12.0.0: 67\n",
      "Gurobi 12.0.0: 68\n",
      "Gurobi 12.0.0: 69\n",
      "Gurobi 12.0.0: 70\n",
      "Gurobi 12.0.0: 71\n",
      "Gurobi 12.0.0: 72\n",
      "Gurobi 12.0.0: 73\n",
      "Gurobi 12.0.0: 74\n",
      "Gurobi 12.0.0: 75\n",
      "Gurobi 12.0.0: 76\n",
      "Gurobi 12.0.0: 77\n",
      "Gurobi 12.0.0: 78\n",
      "Gurobi 12.0.0: 79\n",
      "Gurobi 12.0.0: 80\n",
      "Gurobi 12.0.0: 81\n",
      "Gurobi 12.0.0: 82\n",
      "Gurobi 12.0.0: 83\n",
      "Gurobi 12.0.0: 84\n",
      "Gurobi 12.0.0: 85\n",
      "Gurobi 12.0.0: 86\n",
      "Gurobi 12.0.0: 87\n",
      "Gurobi 12.0.0: 88\n",
      "Gurobi 12.0.0: 89\n",
      "Gurobi 12.0.0: 90\n",
      "Gurobi 12.0.0: 91\n",
      "Gurobi 12.0.0: 92\n",
      "Gurobi 12.0.0: 93\n",
      "Gurobi 12.0.0: 94\n",
      "Gurobi 12.0.0: 95\n",
      "Gurobi 12.0.0: 96\n",
      "Gurobi 12.0.0: 97\n",
      "Gurobi 12.0.0: 98\n",
      "Gurobi 12.0.0: 99\n",
      "Gurobi 12.0.0: 100\n",
      "Gurobi 12.0.0: 101\n",
      "Gurobi 12.0.0: 102\n",
      "Gurobi 12.0.0: 103\n",
      "Gurobi 12.0.0: 104\n",
      "Gurobi 12.0.0: 105\n",
      "Gurobi 12.0.0: 106\n",
      "Gurobi 12.0.0: 107\n",
      "Gurobi 12.0.0: 108\n",
      "Gurobi 12.0.0: 109\n",
      "Gurobi 12.0.0: 110\n",
      "Gurobi 12.0.0: 111\n",
      "Gurobi 12.0.0: 112\n",
      "Gurobi 12.0.0: 113\n",
      "Gurobi 12.0.0: 114\n",
      "Gurobi 12.0.0: 115\n",
      "Gurobi 12.0.0: 116\n",
      "Gurobi 12.0.0: 117\n",
      "Gurobi 12.0.0: 118\n",
      "Gurobi 12.0.0: 119\n",
      "Gurobi 12.0.0: 120\n",
      "Gurobi 12.0.0: 121\n",
      "Gurobi 12.0.0: 122\n",
      "Gurobi 12.0.0: 123\n",
      "Gurobi 12.0.0: 124\n",
      "Gurobi 12.0.0: 125\n",
      "Gurobi 12.0.0: 126\n",
      "Gurobi 12.0.0: 127\n",
      "Gurobi 12.0.0: 128\n",
      "Gurobi 12.0.0: 129\n",
      "Gurobi 12.0.0: 130\n",
      "Gurobi 12.0.0: 131\n",
      "Gurobi 12.0.0: 132\n",
      "Gurobi 12.0.0: 133\n",
      "Gurobi 12.0.0: 134\n",
      "Gurobi 12.0.0: 135\n",
      "Gurobi 12.0.0: 136\n",
      "Gurobi 12.0.0: 137\n",
      "Gurobi 12.0.0: 138\n",
      "Gurobi 12.0.0: 139\n",
      "Gurobi 12.0.0: 140\n",
      "Gurobi 12.0.0: 141\n",
      "Gurobi 12.0.0: 142\n",
      "Gurobi 12.0.0: 143\n",
      "Gurobi 12.0.0: 144\n",
      "Gurobi 12.0.0: 145\n",
      "Gurobi 12.0.0: 146\n",
      "Gurobi 12.0.0: 147\n",
      "Gurobi 12.0.0: 148\n",
      "Gurobi 12.0.0: 149\n",
      "Gurobi 12.0.0: 150\n",
      "Gurobi 12.0.0: 151\n",
      "Gurobi 12.0.0: 152\n",
      "Gurobi 12.0.0: 153\n",
      "Gurobi 12.0.0: 154\n",
      "Gurobi 12.0.0: 155\n",
      "Gurobi 12.0.0: 156\n",
      "Gurobi 12.0.0: 157\n",
      "Gurobi 12.0.0: 158\n",
      "Gurobi 12.0.0: 159\n",
      "Gurobi 12.0.0: 160\n",
      "Gurobi 12.0.0: 161\n",
      "Gurobi 12.0.0: 162\n",
      "Gurobi 12.0.0: 163\n",
      "Gurobi 12.0.0: 164\n",
      "Gurobi 12.0.0: 165\n",
      "Gurobi 12.0.0: 166\n",
      "Gurobi 12.0.0: 167\n",
      "Gurobi 12.0.0: 168\n",
      "Gurobi 12.0.0: 169\n",
      "Gurobi 12.0.0: 170\n",
      "Gurobi 12.0.0: 171\n",
      "Gurobi 12.0.0: 172\n",
      "Gurobi 12.0.0: 173\n",
      "Gurobi 12.0.0: 174\n",
      "Gurobi 12.0.0: 175\n",
      "Gurobi 12.0.0: 176\n",
      "Gurobi 12.0.0: 177\n",
      "Gurobi 12.0.0: 178\n",
      "Gurobi 12.0.0: 179\n",
      "Gurobi 12.0.0: 180\n",
      "Gurobi 12.0.0: 181\n",
      "Gurobi 12.0.0: 182\n",
      "Gurobi 12.0.0: 183\n",
      "Gurobi 12.0.0: 184\n",
      "Gurobi 12.0.0: 185\n",
      "Gurobi 12.0.0: 186\n",
      "Gurobi 12.0.0: 187\n",
      "Gurobi 12.0.0: 188\n",
      "Gurobi 12.0.0: 189\n",
      "Gurobi 12.0.0: 190\n",
      "Gurobi 12.0.0: 191\n",
      "Gurobi 12.0.0: 192\n",
      "Gurobi 12.0.0: 193\n",
      "Gurobi 12.0.0: 194\n",
      "Gurobi 12.0.0: 195\n",
      "Gurobi 12.0.0: 196\n",
      "Gurobi 12.0.0: 197\n",
      "Gurobi 12.0.0: 198\n",
      "Gurobi 12.0.0: 199\n",
      "Gurobi 12.0.0: 200\n",
      "Gurobi 12.0.0: 201\n",
      "Gurobi 12.0.0: 202\n",
      "Gurobi 12.0.0: 203\n",
      "Gurobi 12.0.0: 204\n",
      "Gurobi 12.0.0: 205\n",
      "Gurobi 12.0.0: 206\n",
      "Gurobi 12.0.0: 207\n",
      "Gurobi 12.0.0: 208\n",
      "Gurobi 12.0.0: 209\n",
      "Gurobi 12.0.0: 210\n",
      "Gurobi 12.0.0: 211\n",
      "Gurobi 12.0.0: 212\n",
      "Gurobi 12.0.0: 213\n",
      "Gurobi 12.0.0: 214\n",
      "Gurobi 12.0.0: 215\n",
      "Gurobi 12.0.0: 216\n",
      "Gurobi 12.0.0: 217\n",
      "Gurobi 12.0.0: 218\n",
      "Gurobi 12.0.0: 219\n",
      "Gurobi 12.0.0: 220\n",
      "Gurobi 12.0.0: 221\n",
      "Gurobi 12.0.0: 222\n",
      "Gurobi 12.0.0: 223\n",
      "Gurobi 12.0.0: 224\n",
      "Gurobi 12.0.0: 225\n",
      "Gurobi 12.0.0: 226\n",
      "Gurobi 12.0.0: 227\n",
      "Gurobi 12.0.0: 228\n",
      "Gurobi 12.0.0: 229\n",
      "Gurobi 12.0.0: 230\n",
      "Gurobi 12.0.0: 231\n",
      "Gurobi 12.0.0: 232\n",
      "Gurobi 12.0.0: 233\n",
      "Gurobi 12.0.0: 234\n",
      "Gurobi 12.0.0: 235\n",
      "Gurobi 12.0.0: 236\n",
      "Gurobi 12.0.0: 237\n",
      "Gurobi 12.0.0: 238\n",
      "Gurobi 12.0.0: 239\n",
      "Gurobi 12.0.0: 240\n",
      "Gurobi 12.0.0: 241\n",
      "Gurobi 12.0.0: 242\n",
      "Gurobi 12.0.0: 243\n",
      "Gurobi 12.0.0: 244\n",
      "Gurobi 12.0.0: 245\n",
      "Gurobi 12.0.0: 246\n",
      "Gurobi 12.0.0: 247\n",
      "Gurobi 12.0.0: 248\n",
      "Gurobi 12.0.0: 249\n",
      "Gurobi 12.0.0: 250\n",
      "Gurobi 12.0.0: 251\n",
      "Gurobi 12.0.0: 252\n",
      "Gurobi 12.0.0: 253\n",
      "Gurobi 12.0.0: 254\n",
      "Gurobi 12.0.0: 255\n",
      "Gurobi 12.0.0: 256\n",
      "Gurobi 12.0.0: 257\n",
      "Gurobi 12.0.0: 258\n",
      "Gurobi 12.0.0: 259\n",
      "Gurobi 12.0.0: 260\n",
      "Gurobi 12.0.0: 261\n",
      "Gurobi 12.0.0: 262\n",
      "Gurobi 12.0.0: 263\n",
      "Gurobi 12.0.0: 264\n",
      "Gurobi 12.0.0: 265\n",
      "Gurobi 12.0.0: 266\n",
      "Gurobi 12.0.0: 267\n",
      "Gurobi 12.0.0: 268\n",
      "Gurobi 12.0.0: 269\n",
      "Gurobi 12.0.0: 270\n",
      "Gurobi 12.0.0: 271\n",
      "Gurobi 12.0.0: 272\n",
      "Gurobi 12.0.0: 273\n",
      "Gurobi 12.0.0: 274\n",
      "Gurobi 12.0.0: 275\n",
      "Gurobi 12.0.0: 276\n",
      "Gurobi 12.0.0: 277\n",
      "Gurobi 12.0.0: 278\n",
      "Gurobi 12.0.0: 279\n",
      "Gurobi 12.0.0: 280\n",
      "Gurobi 12.0.0: 281\n",
      "Gurobi 12.0.0: 282\n",
      "Gurobi 12.0.0: 283\n",
      "Gurobi 12.0.0: 284\n",
      "Gurobi 12.0.0: 285\n",
      "Gurobi 12.0.0: 286\n",
      "Gurobi 12.0.0: 287\n",
      "Gurobi 12.0.0: 288\n",
      "Gurobi 12.0.0: 289\n",
      "Gurobi 12.0.0: 290\n",
      "Gurobi 12.0.0: 291\n",
      "Gurobi 12.0.0: 292\n",
      "Gurobi 12.0.0: 293\n",
      "Gurobi 12.0.0: 294\n",
      "Gurobi 12.0.0: 295\n",
      "Gurobi 12.0.0: 296\n",
      "Gurobi 12.0.0: 297\n",
      "Gurobi 12.0.0: 298\n",
      "Gurobi 12.0.0: 299\n",
      "Gurobi 12.0.0: 300\n"
     ]
    }
   ],
   "execution_count": 73
  },
  {
   "metadata": {
    "ExecuteTime": {
     "end_time": "2025-05-12T17:57:15.143875Z",
     "start_time": "2025-05-12T17:57:14.573601Z"
    }
   },
   "cell_type": "code",
   "source": "results_pareto = postprocessing(results_pareto)",
   "id": "c13ea640b3854796",
   "outputs": [],
   "execution_count": 74
  },
  {
   "metadata": {},
   "cell_type": "markdown",
   "source": "#### Sobol sequence",
   "id": "b0f9ecea562f38ca"
  },
  {
   "metadata": {
    "ExecuteTime": {
     "end_time": "2025-05-12T16:42:26.529457Z",
     "start_time": "2025-05-12T16:42:26.325376Z"
    }
   },
   "cell_type": "code",
   "source": "from energyscope.datasets import gen_sobol_sequence",
   "id": "d58551691a075f66",
   "outputs": [],
   "execution_count": 56
  },
  {
   "metadata": {
    "ExecuteTime": {
     "end_time": "2025-05-12T16:42:27.274236Z",
     "start_time": "2025-05-12T16:42:27.052768Z"
    }
   },
   "cell_type": "code",
   "source": [
    "parameters = [\n",
    "    {\n",
    "        'name': cat,\n",
    "        'lower_bound': main_variables_results[f'TotalLCIA_{cat}'].min(),\n",
    "        'upper_bound': main_variables_results[f'TotalLCIA_{cat}'].max()\n",
    "    }\n",
    "    for cat in ['TTHH', 'TTEQ']\n",
    "]"
   ],
   "id": "564a9808e60481da",
   "outputs": [],
   "execution_count": 57
  },
  {
   "metadata": {
    "ExecuteTime": {
     "end_time": "2025-05-12T16:42:27.953144Z",
     "start_time": "2025-05-12T16:42:27.726875Z"
    }
   },
   "cell_type": "code",
   "source": "seq, prob = gen_sobol_sequence(parameters=parameters, trajectories=128)",
   "id": "e162ac5a55c303a3",
   "outputs": [],
   "execution_count": 58
  },
  {
   "metadata": {
    "ExecuteTime": {
     "end_time": "2025-05-12T16:42:28.719689Z",
     "start_time": "2025-05-12T16:42:28.471505Z"
    }
   },
   "cell_type": "code",
   "source": [
    "seq_df = pd.DataFrame(seq, columns=prob['names']).T\n",
    "seq_df.columns = ['value' + str(x) for x in list(seq_df.columns) if not str(x) == \"nan\"]\n",
    "seq_df = seq_df.reset_index(names=['index0'])\n",
    "seq_df['param'] = ['limit_lcia'] * len(seq_df)\n",
    "\n",
    "seq_df['index1'] = np.nan\n",
    "seq_df['index2'] = np.nan\n",
    "seq_df['index3'] = np.nan"
   ],
   "id": "c8be1cc085b254ab",
   "outputs": [],
   "execution_count": 59
  },
  {
   "metadata": {
    "ExecuteTime": {
     "end_time": "2025-05-12T16:42:29.591219Z",
     "start_time": "2025-05-12T16:42:29.298326Z"
    }
   },
   "cell_type": "code",
   "source": "es = run_esm(objective_function='TotalCost', returns='model')",
   "id": "2326c8d26f94abe9",
   "outputs": [],
   "execution_count": 60
  },
  {
   "metadata": {
    "ExecuteTime": {
     "end_time": "2025-05-12T16:45:50.326946Z",
     "start_time": "2025-05-12T16:42:30.139457Z"
    }
   },
   "cell_type": "code",
   "source": "results_sobol = es.calc_sequence(seq_df)",
   "id": "394129c310671dfb",
   "outputs": [
    {
     "name": "stdout",
     "output_type": "stream",
     "text": [
      "Gurobi 12.0.0: \n",
      "\"option abs_boundtol 2.842170943040401e-14;\"\n",
      "or \"option rel_boundtol 1.1712483422282956e-16;\"\n",
      "will change deduced dual values.\n",
      "\n",
      "1\n",
      "Gurobi 12.0.0: 2\n",
      "Gurobi 12.0.0: \n",
      "\"option abs_boundtol 2.842170943040401e-14;\"\n",
      "or \"option rel_boundtol 1.1712483422282956e-16;\"\n",
      "will change deduced dual values.\n",
      "\n",
      "3\n",
      "Gurobi 12.0.0: 4\n",
      "Gurobi 12.0.0: 5\n",
      "Gurobi 12.0.0: 6\n",
      "Gurobi 12.0.0: 7\n",
      "Gurobi 12.0.0: 8\n",
      "Gurobi 12.0.0: 9\n",
      "Gurobi 12.0.0: \n",
      "\"option abs_boundtol 5.684341886080802e-14;\"\n",
      "or \"option rel_boundtol 2.1941621350700717e-16;\"\n",
      "will change deduced dual values.\n",
      "\n",
      "10\n",
      "Gurobi 12.0.0: 11\n",
      "Gurobi 12.0.0: \n",
      "\"option abs_boundtol 5.684341886080802e-14;\"\n",
      "or \"option rel_boundtol 2.1941621350700717e-16;\"\n",
      "will change deduced dual values.\n",
      "\n",
      "12\n",
      "Gurobi 12.0.0: \n",
      "\"option abs_boundtol 5.684341886080802e-14;\"\n",
      "or \"option rel_boundtol 1.5202789132657003e-16;\"\n",
      "will change deduced dual values.\n",
      "\n",
      "13\n",
      "Gurobi 12.0.0: 14\n",
      "Gurobi 12.0.0: \n",
      "\"option abs_boundtol 5.684341886080802e-14;\"\n",
      "or \"option rel_boundtol 1.5202789132657003e-16;\"\n",
      "will change deduced dual values.\n",
      "\n",
      "15\n",
      "Gurobi 12.0.0: 16\n",
      "Gurobi 12.0.0: 17\n",
      "Gurobi 12.0.0: 18\n",
      "Gurobi 12.0.0: \n",
      "\"option abs_boundtol 5.684341886080802e-14;\"\n",
      "or \"option rel_boundtol 1.2933037151384297e-16;\"\n",
      "will change deduced dual values.\n",
      "\n",
      "19\n",
      "Gurobi 12.0.0: 20\n",
      "Gurobi 12.0.0: 21\n",
      "Gurobi 12.0.0: \n",
      "\"option abs_boundtol 5.684341886080802e-14;\"\n",
      "or \"option rel_boundtol 1.24676857892889e-16;\"\n",
      "will change deduced dual values.\n",
      "\n",
      "22\n",
      "Gurobi 12.0.0: 23\n",
      "Gurobi 12.0.0: 24\n",
      "Gurobi 12.0.0: 25\n",
      "Gurobi 12.0.0: 26\n",
      "Gurobi 12.0.0: 27\n",
      "Gurobi 12.0.0: 28\n",
      "Gurobi 12.0.0: 29\n",
      "Gurobi 12.0.0: 30\n",
      "Gurobi 12.0.0: 31\n",
      "Gurobi 12.0.0: 32\n",
      "Gurobi 12.0.0: 33\n",
      "Gurobi 12.0.0: 34\n",
      "Gurobi 12.0.0: 35\n",
      "Gurobi 12.0.0: 36\n",
      "Gurobi 12.0.0: 37\n",
      "Gurobi 12.0.0: \n",
      "\"option abs_boundtol 5.684341886080802e-14;\"\n",
      "or \"option rel_boundtol 1.5900421336305456e-16;\"\n",
      "will change deduced dual values.\n",
      "\n",
      "38\n",
      "Gurobi 12.0.0: 39\n",
      "Gurobi 12.0.0: \n",
      "\"option abs_boundtol 5.684341886080802e-14;\"\n",
      "or \"option rel_boundtol 1.5900421336305456e-16;\"\n",
      "will change deduced dual values.\n",
      "\n",
      "40\n",
      "Gurobi 12.0.0: 41\n",
      "Gurobi 12.0.0: 42\n",
      "Gurobi 12.0.0: 43\n",
      "Gurobi 12.0.0: 44\n",
      "Gurobi 12.0.0: \n",
      "\"option abs_boundtol 5.684341886080802e-14;\"\n",
      "or \"option rel_boundtol 1.2034659492254302e-16;\"\n",
      "will change deduced dual values.\n",
      "\n",
      "45\n",
      "Gurobi 12.0.0: 46\n",
      "Gurobi 12.0.0: 47\n",
      "Gurobi 12.0.0: 48\n",
      "Gurobi 12.0.0: 49\n",
      "Gurobi 12.0.0: 50\n",
      "Gurobi 12.0.0: \n",
      "\"option abs_boundtol 5.684341886080802e-14;\"\n",
      "or \"option rel_boundtol 1.3976361289153732e-16;\"\n",
      "will change deduced dual values.\n",
      "\n",
      "51\n",
      "Gurobi 12.0.0: 52\n",
      "Gurobi 12.0.0: 53\n",
      "Gurobi 12.0.0: 54\n",
      "Gurobi 12.0.0: 55\n",
      "Gurobi 12.0.0: 56\n",
      "Gurobi 12.0.0: 57\n",
      "Gurobi 12.0.0: 58\n",
      "Gurobi 12.0.0: 59\n",
      "Gurobi 12.0.0: \n",
      "\"option abs_boundtol 5.684341886080802e-14;\"\n",
      "or \"option rel_boundtol 1.3434473475370672e-16;\"\n",
      "will change deduced dual values.\n",
      "\n",
      "60\n",
      "Gurobi 12.0.0: \n",
      "\"option abs_boundtol 5.684341886080802e-14;\"\n",
      "or \"option rel_boundtol 2.0634948914750835e-16;\"\n",
      "will change deduced dual values.\n",
      "\n",
      "61\n",
      "Gurobi 12.0.0: 62\n",
      "Gurobi 12.0.0: \n",
      "\"option abs_boundtol 5.684341886080802e-14;\"\n",
      "or \"option rel_boundtol 2.0634948914750835e-16;\"\n",
      "will change deduced dual values.\n",
      "\n",
      "63\n",
      "Gurobi 12.0.0: 64\n",
      "Gurobi 12.0.0: 65\n",
      "Gurobi 12.0.0: 66\n",
      "Gurobi 12.0.0: 67\n",
      "Gurobi 12.0.0: 68\n",
      "Gurobi 12.0.0: 69\n",
      "Gurobi 12.0.0: 70\n",
      "Gurobi 12.0.0: 71\n",
      "Gurobi 12.0.0: 72\n",
      "Gurobi 12.0.0: 73\n",
      "Gurobi 12.0.0: 74\n",
      "Gurobi 12.0.0: 75\n",
      "Gurobi 12.0.0: \n",
      "\"option abs_boundtol 5.684341886080802e-14;\"\n",
      "or \"option rel_boundtol 1.2034659492254302e-16;\"\n",
      "will change deduced dual values.\n",
      "\n",
      "76\n",
      "Gurobi 12.0.0: \n",
      "\"option abs_boundtol 5.684341886080802e-14;\"\n",
      "or \"option rel_boundtol 1.3434473475370672e-16;\"\n",
      "will change deduced dual values.\n",
      "\n",
      "77\n",
      "Gurobi 12.0.0: 78\n",
      "Gurobi 12.0.0: 79\n",
      "Gurobi 12.0.0: 80\n",
      "Gurobi 12.0.0: 81\n",
      "Gurobi 12.0.0: 82\n",
      "Gurobi 12.0.0: 83\n",
      "Gurobi 12.0.0: 84\n",
      "Gurobi 12.0.0: 85\n",
      "Gurobi 12.0.0: \n",
      "\"option abs_boundtol 5.684341886080802e-14;\"\n",
      "or \"option rel_boundtol 2.0634948914750835e-16;\"\n",
      "will change deduced dual values.\n",
      "\n",
      "86\n",
      "Gurobi 12.0.0: 87\n",
      "Gurobi 12.0.0: \n",
      "\"option abs_boundtol 5.684341886080802e-14;\"\n",
      "or \"option rel_boundtol 2.0634948914750835e-16;\"\n",
      "will change deduced dual values.\n",
      "\n",
      "88\n",
      "Gurobi 12.0.0: 89\n",
      "Gurobi 12.0.0: 90\n",
      "Gurobi 12.0.0: 91\n",
      "Gurobi 12.0.0: 92\n",
      "Gurobi 12.0.0: \n",
      "\"option abs_boundtol 5.684341886080802e-14;\"\n",
      "or \"option rel_boundtol 1.5900421336305456e-16;\"\n",
      "will change deduced dual values.\n",
      "\n",
      "93\n",
      "Gurobi 12.0.0: \n",
      "\"option abs_boundtol 5.684341886080802e-14;\"\n",
      "or \"option rel_boundtol 1.3976361289153732e-16;\"\n",
      "will change deduced dual values.\n",
      "\n",
      "94\n",
      "Gurobi 12.0.0: \n",
      "\"option abs_boundtol 5.684341886080802e-14;\"\n",
      "or \"option rel_boundtol 1.5900421336305456e-16;\"\n",
      "will change deduced dual values.\n",
      "\n",
      "95\n",
      "Gurobi 12.0.0: \n",
      "\"option abs_boundtol 5.684341886080802e-14;\"\n",
      "or \"option rel_boundtol 1.3976361289153732e-16;\"\n",
      "will change deduced dual values.\n",
      "\n",
      "96\n",
      "Gurobi 12.0.0: 97\n",
      "Gurobi 12.0.0: 98\n",
      "Gurobi 12.0.0: 99\n",
      "Gurobi 12.0.0: 100\n",
      "Gurobi 12.0.0: 101\n",
      "Gurobi 12.0.0: \n",
      "\"option abs_boundtol 5.684341886080802e-14;\"\n",
      "or \"option rel_boundtol 1.5202789132657003e-16;\"\n",
      "will change deduced dual values.\n",
      "\n",
      "102\n",
      "Gurobi 12.0.0: 103\n",
      "Gurobi 12.0.0: 104\n",
      "Gurobi 12.0.0: 105\n",
      "Gurobi 12.0.0: 106\n",
      "Gurobi 12.0.0: 107\n",
      "Gurobi 12.0.0: 108\n",
      "Gurobi 12.0.0: \n",
      "\"option abs_boundtol 5.684341886080802e-14;\"\n",
      "or \"option rel_boundtol 1.24676857892889e-16;\"\n",
      "will change deduced dual values.\n",
      "\n",
      "109\n",
      "Gurobi 12.0.0: \n",
      "\"option abs_boundtol 2.842170943040401e-14;\"\n",
      "or \"option rel_boundtol 1.1712483422282956e-16;\"\n",
      "will change deduced dual values.\n",
      "\n",
      "110\n",
      "Gurobi 12.0.0: 111\n",
      "Gurobi 12.0.0: \n",
      "\"option abs_boundtol 2.842170943040401e-14;\"\n",
      "or \"option rel_boundtol 1.1712483422282956e-16;\"\n",
      "will change deduced dual values.\n",
      "\n",
      "112\n",
      "Gurobi 12.0.0: \n",
      "\"option abs_boundtol 5.684341886080802e-14;\"\n",
      "or \"option rel_boundtol 1.458406102080046e-16;\"\n",
      "will change deduced dual values.\n",
      "\n",
      "113\n",
      "Gurobi 12.0.0: \n",
      "\"option abs_boundtol 5.684341886080802e-14;\"\n",
      "or \"option rel_boundtol 1.458406102080046e-16;\"\n",
      "will change deduced dual values.\n",
      "\n",
      "114\n",
      "Gurobi 12.0.0: 115\n",
      "Gurobi 12.0.0: 116\n",
      "Gurobi 12.0.0: 117\n",
      "Gurobi 12.0.0: 118\n",
      "Gurobi 12.0.0: 119\n",
      "Gurobi 12.0.0: 120\n",
      "Gurobi 12.0.0: 121\n",
      "Gurobi 12.0.0: 122\n",
      "Gurobi 12.0.0: 123\n",
      "Gurobi 12.0.0: 124\n",
      "Gurobi 12.0.0: \n",
      "\"option abs_boundtol 5.684341886080802e-14;\"\n",
      "or \"option rel_boundtol 2.1941621350700717e-16;\"\n",
      "will change deduced dual values.\n",
      "\n",
      "125\n",
      "Gurobi 12.0.0: 126\n",
      "Gurobi 12.0.0: \n",
      "\"option abs_boundtol 5.684341886080802e-14;\"\n",
      "or \"option rel_boundtol 2.1941621350700717e-16;\"\n",
      "will change deduced dual values.\n",
      "\n",
      "127\n",
      "Gurobi 12.0.0: 128\n",
      "Gurobi 12.0.0: \n",
      "\"option abs_boundtol 5.684341886080802e-14;\"\n",
      "or \"option rel_boundtol 2.12682342826429e-16;\"\n",
      "will change deduced dual values.\n",
      "\n",
      "129\n",
      "Gurobi 12.0.0: 130\n",
      "Gurobi 12.0.0: \n",
      "\"option abs_boundtol 5.684341886080802e-14;\"\n",
      "or \"option rel_boundtol 2.12682342826429e-16;\"\n",
      "will change deduced dual values.\n",
      "\n",
      "131\n",
      "Gurobi 12.0.0: 132\n",
      "Gurobi 12.0.0: 133\n",
      "Gurobi 12.0.0: 134\n",
      "Gurobi 12.0.0: 135\n",
      "Gurobi 12.0.0: 136\n",
      "Gurobi 12.0.0: 137\n",
      "Gurobi 12.0.0: 138\n",
      "Gurobi 12.0.0: 139\n",
      "Gurobi 12.0.0: 140\n",
      "Gurobi 12.0.0: \n",
      "\"option abs_boundtol 5.684341886080802e-14;\"\n",
      "or \"option rel_boundtol 1.42640356482313e-16;\"\n",
      "will change deduced dual values.\n",
      "\n",
      "141\n",
      "Gurobi 12.0.0: \n",
      "\"option abs_boundtol 5.684341886080802e-14;\"\n",
      "or \"option rel_boundtol 1.554378143294709e-16;\"\n",
      "will change deduced dual values.\n",
      "\n",
      "142\n",
      "Gurobi 12.0.0: \n",
      "\"option abs_boundtol 5.684341886080802e-14;\"\n",
      "or \"option rel_boundtol 1.42640356482313e-16;\"\n",
      "will change deduced dual values.\n",
      "\n",
      "143\n",
      "Gurobi 12.0.0: \n",
      "\"option abs_boundtol 5.684341886080802e-14;\"\n",
      "or \"option rel_boundtol 1.554378143294709e-16;\"\n",
      "will change deduced dual values.\n",
      "\n",
      "144\n",
      "Gurobi 12.0.0: 145\n",
      "Gurobi 12.0.0: 146\n",
      "Gurobi 12.0.0: 147\n",
      "Gurobi 12.0.0: 148\n",
      "Gurobi 12.0.0: 149\n",
      "Gurobi 12.0.0: 150\n",
      "Gurobi 12.0.0: 151\n",
      "Gurobi 12.0.0: 152\n",
      "Gurobi 12.0.0: 153\n",
      "Gurobi 12.0.0: 154\n",
      "Gurobi 12.0.0: \n",
      "\"option abs_boundtol 5.684341886080802e-14;\"\n",
      "or \"option rel_boundtol 1.458406102080046e-16;\"\n",
      "will change deduced dual values.\n",
      "\n",
      "155\n",
      "Gurobi 12.0.0: \n",
      "\"option abs_boundtol 5.684341886080802e-14;\"\n",
      "or \"option rel_boundtol 1.458406102080046e-16;\"\n",
      "will change deduced dual values.\n",
      "\n",
      "156\n",
      "Gurobi 12.0.0: 157\n",
      "Gurobi 12.0.0: 158\n",
      "Gurobi 12.0.0: 159\n",
      "Gurobi 12.0.0: 160\n",
      "Gurobi 12.0.0: 161\n",
      "Gurobi 12.0.0: \n",
      "\"option abs_boundtol 5.684341886080802e-14;\"\n",
      "or \"option rel_boundtol 2.12682342826429e-16;\"\n",
      "will change deduced dual values.\n",
      "\n",
      "162\n",
      "Gurobi 12.0.0: \n",
      "\"option abs_boundtol 5.684341886080802e-14;\"\n",
      "or \"option rel_boundtol 1.554378143294709e-16;\"\n",
      "will change deduced dual values.\n",
      "\n",
      "163\n",
      "Gurobi 12.0.0: \n",
      "\"option abs_boundtol 5.684341886080802e-14;\"\n",
      "or \"option rel_boundtol 2.12682342826429e-16;\"\n",
      "will change deduced dual values.\n",
      "\n",
      "164\n",
      "Gurobi 12.0.0: 165\n",
      "Gurobi 12.0.0: 166\n",
      "Gurobi 12.0.0: 167\n",
      "Gurobi 12.0.0: 168\n",
      "Gurobi 12.0.0: 169\n",
      "Gurobi 12.0.0: 170\n",
      "Gurobi 12.0.0: 171\n",
      "Gurobi 12.0.0: \n",
      "\"option abs_boundtol 5.684341886080802e-14;\"\n",
      "or \"option rel_boundtol 1.42640356482313e-16;\"\n",
      "will change deduced dual values.\n",
      "\n",
      "172\n",
      "Gurobi 12.0.0: 173\n",
      "Gurobi 12.0.0: 174\n",
      "Gurobi 12.0.0: 175\n",
      "Gurobi 12.0.0: 176\n",
      "Gurobi 12.0.0: 177\n",
      "Gurobi 12.0.0: 178\n",
      "Gurobi 12.0.0: 179\n",
      "Gurobi 12.0.0: 180\n",
      "Gurobi 12.0.0: 181\n",
      "Gurobi 12.0.0: 182\n",
      "Gurobi 12.0.0: 183\n",
      "Gurobi 12.0.0: 184\n",
      "Gurobi 12.0.0: 185\n",
      "Gurobi 12.0.0: 186\n",
      "Gurobi 12.0.0: 187\n",
      "Gurobi 12.0.0: 188\n",
      "Gurobi 12.0.0: 189\n",
      "Gurobi 12.0.0: \n",
      "\"option abs_boundtol 5.684341886080802e-14;\"\n",
      "or \"option rel_boundtol 1.2247346236160758e-16;\"\n",
      "will change deduced dual values.\n",
      "\n",
      "190\n",
      "Gurobi 12.0.0: 191\n",
      "Gurobi 12.0.0: \n",
      "\"option abs_boundtol 5.684341886080802e-14;\"\n",
      "or \"option rel_boundtol 1.2247346236160758e-16;\"\n",
      "will change deduced dual values.\n",
      "\n",
      "192\n",
      "Gurobi 12.0.0: \n",
      "\"option abs_boundtol 5.684341886080802e-14;\"\n",
      "or \"option rel_boundtol 2.0038286608964545e-16;\"\n",
      "will change deduced dual values.\n",
      "\n",
      "193\n",
      "Gurobi 12.0.0: 194\n",
      "Gurobi 12.0.0: \n",
      "\"option abs_boundtol 5.684341886080802e-14;\"\n",
      "or \"option rel_boundtol 2.0038286608964545e-16;\"\n",
      "will change deduced dual values.\n",
      "\n",
      "195\n",
      "Gurobi 12.0.0: 196\n",
      "Gurobi 12.0.0: 197\n",
      "Gurobi 12.0.0: \n",
      "\"option abs_boundtol 2.842170943040401e-14;\"\n",
      "or \"option rel_boundtol 1.1329521859653767e-16;\"\n",
      "will change deduced dual values.\n",
      "\n",
      "198\n",
      "Gurobi 12.0.0: 199\n",
      "Gurobi 12.0.0: \n",
      "\"option abs_boundtol 2.842170943040401e-14;\"\n",
      "or \"option rel_boundtol 1.1329521859653767e-16;\"\n",
      "will change deduced dual values.\n",
      "\n",
      "200\n",
      "Gurobi 12.0.0: 201\n",
      "Gurobi 12.0.0: 202\n",
      "Gurobi 12.0.0: 203\n",
      "Gurobi 12.0.0: 204\n",
      "Gurobi 12.0.0: \n",
      "\"option abs_boundtol 5.684341886080802e-14;\"\n",
      "or \"option rel_boundtol 1.3700061062302427e-16;\"\n",
      "will change deduced dual values.\n",
      "\n",
      "205\n",
      "Gurobi 12.0.0: \n",
      "\"option abs_boundtol 5.684341886080802e-14;\"\n",
      "or \"option rel_boundtol 1.4876436732287408e-16;\"\n",
      "will change deduced dual values.\n",
      "\n",
      "206\n",
      "Gurobi 12.0.0: \n",
      "\"option abs_boundtol 5.684341886080802e-14;\"\n",
      "or \"option rel_boundtol 1.3700061062302427e-16;\"\n",
      "will change deduced dual values.\n",
      "\n",
      "207\n",
      "Gurobi 12.0.0: \n",
      "\"option abs_boundtol 5.684341886080802e-14;\"\n",
      "or \"option rel_boundtol 1.4876436732287408e-16;\"\n",
      "will change deduced dual values.\n",
      "\n",
      "208\n",
      "Gurobi 12.0.0: 209\n",
      "Gurobi 12.0.0: 210\n",
      "Gurobi 12.0.0: 211\n",
      "Gurobi 12.0.0: 212\n",
      "Gurobi 12.0.0: 213\n",
      "Gurobi 12.0.0: 214\n",
      "Gurobi 12.0.0: 215\n",
      "Gurobi 12.0.0: 216\n",
      "Gurobi 12.0.0: 217\n",
      "Gurobi 12.0.0: 218\n",
      "Gurobi 12.0.0: 219\n",
      "Gurobi 12.0.0: \n",
      "\"option abs_boundtol 5.684341886080802e-14;\"\n",
      "or \"option rel_boundtol 1.2696098759178536e-16;\"\n",
      "will change deduced dual values.\n",
      "\n",
      "220\n",
      "Gurobi 12.0.0: 221\n",
      "Gurobi 12.0.0: 222\n",
      "Gurobi 12.0.0: 223\n",
      "Gurobi 12.0.0: 224\n",
      "Gurobi 12.0.0: 225\n",
      "Gurobi 12.0.0: 226\n",
      "Gurobi 12.0.0: 227\n",
      "Gurobi 12.0.0: 228\n",
      "Gurobi 12.0.0: 229\n",
      "Gurobi 12.0.0: 230\n",
      "Gurobi 12.0.0: 231\n",
      "Gurobi 12.0.0: 232\n",
      "Gurobi 12.0.0: 233\n",
      "Gurobi 12.0.0: 234\n",
      "Gurobi 12.0.0: 235\n",
      "Gurobi 12.0.0: 236\n",
      "Gurobi 12.0.0: \n",
      "\"option abs_boundtol 5.684341886080802e-14;\"\n",
      "or \"option rel_boundtol 1.2696098759178536e-16;\"\n",
      "will change deduced dual values.\n",
      "\n",
      "237\n",
      "Gurobi 12.0.0: 238\n",
      "Gurobi 12.0.0: \n",
      "\"option abs_boundtol 5.684341886080802e-14;\"\n",
      "or \"option rel_boundtol 1.2696098759178536e-16;\"\n",
      "will change deduced dual values.\n",
      "\n",
      "239\n",
      "Gurobi 12.0.0: 240\n",
      "Gurobi 12.0.0: 241\n",
      "Gurobi 12.0.0: 242\n",
      "Gurobi 12.0.0: \n",
      "\"option abs_boundtol 5.684341886080802e-14;\"\n",
      "or \"option rel_boundtol 1.4876436732287408e-16;\"\n",
      "will change deduced dual values.\n",
      "\n",
      "243\n",
      "Gurobi 12.0.0: 244\n",
      "Gurobi 12.0.0: 245\n",
      "Gurobi 12.0.0: \n",
      "\"option abs_boundtol 5.684341886080802e-14;\"\n",
      "or \"option rel_boundtol 1.3700061062302427e-16;\"\n",
      "will change deduced dual values.\n",
      "\n",
      "246\n",
      "Gurobi 12.0.0: 247\n",
      "Gurobi 12.0.0: 248\n",
      "Gurobi 12.0.0: 249\n",
      "Gurobi 12.0.0: 250\n",
      "Gurobi 12.0.0: 251\n",
      "Gurobi 12.0.0: 252\n",
      "Gurobi 12.0.0: \n",
      "\"option abs_boundtol 2.842170943040401e-14;\"\n",
      "or \"option rel_boundtol 1.1329521859653767e-16;\"\n",
      "will change deduced dual values.\n",
      "\n",
      "253\n",
      "Gurobi 12.0.0: \n",
      "\"option abs_boundtol 5.684341886080802e-14;\"\n",
      "or \"option rel_boundtol 2.0038286608964545e-16;\"\n",
      "will change deduced dual values.\n",
      "\n",
      "254\n",
      "Gurobi 12.0.0: \n",
      "\"option abs_boundtol 2.842170943040401e-14;\"\n",
      "or \"option rel_boundtol 1.1329521859653767e-16;\"\n",
      "will change deduced dual values.\n",
      "\n",
      "255\n",
      "Gurobi 12.0.0: \n",
      "\"option abs_boundtol 5.684341886080802e-14;\"\n",
      "or \"option rel_boundtol 2.0038286608964545e-16;\"\n",
      "will change deduced dual values.\n",
      "\n",
      "256\n",
      "Gurobi 12.0.0: 257\n",
      "Gurobi 12.0.0: 258\n",
      "Gurobi 12.0.0: 259\n",
      "Gurobi 12.0.0: 260\n",
      "Gurobi 12.0.0: \n",
      "\"option abs_boundtol 5.684341886080802e-14;\"\n",
      "or \"option rel_boundtol 1.116235749258996e-16;\"\n",
      "will change deduced dual values.\n",
      "\n",
      "261\n",
      "Gurobi 12.0.0: \n",
      "\"option abs_boundtol 5.684341886080802e-14;\"\n",
      "or \"option rel_boundtol 1.9752710477238504e-16;\"\n",
      "will change deduced dual values.\n",
      "\n",
      "262\n",
      "Gurobi 12.0.0: 263\n",
      "Gurobi 12.0.0: \n",
      "\"option abs_boundtol 5.684341886080802e-14;\"\n",
      "or \"option rel_boundtol 1.9752710477238504e-16;\"\n",
      "will change deduced dual values.\n",
      "\n",
      "264\n",
      "Gurobi 12.0.0: 265\n",
      "Gurobi 12.0.0: 266\n",
      "Gurobi 12.0.0: 267\n",
      "Gurobi 12.0.0: 268\n",
      "Gurobi 12.0.0: \n",
      "\"option abs_boundtol 5.684341886080802e-14;\"\n",
      "or \"option rel_boundtol 1.5037842509760773e-16;\"\n",
      "will change deduced dual values.\n",
      "\n",
      "269\n",
      "Gurobi 12.0.0: 270\n",
      "Gurobi 12.0.0: 271\n",
      "Gurobi 12.0.0: 272\n",
      "Gurobi 12.0.0: 273\n",
      "Gurobi 12.0.0: 274\n",
      "Gurobi 12.0.0: 275\n",
      "Gurobi 12.0.0: 276\n",
      "Gurobi 12.0.0: 277\n",
      "Gurobi 12.0.0: 278\n",
      "Gurobi 12.0.0: 279\n",
      "Gurobi 12.0.0: 280\n",
      "Gurobi 12.0.0: 281\n",
      "Gurobi 12.0.0: 282\n",
      "Gurobi 12.0.0: 283\n",
      "Gurobi 12.0.0: 284\n",
      "Gurobi 12.0.0: \n",
      "\"option abs_boundtol 5.684341886080802e-14;\"\n",
      "or \"option rel_boundtol 1.8196724123693048e-16;\"\n",
      "will change deduced dual values.\n",
      "\n",
      "285\n",
      "Gurobi 12.0.0: 286\n",
      "Gurobi 12.0.0: \n",
      "\"option abs_boundtol 5.684341886080802e-14;\"\n",
      "or \"option rel_boundtol 1.8196724123693048e-16;\"\n",
      "will change deduced dual values.\n",
      "\n",
      "287\n",
      "Gurobi 12.0.0: 288\n",
      "Gurobi 12.0.0: 289\n",
      "Gurobi 12.0.0: 290\n",
      "Gurobi 12.0.0: \n",
      "\"option abs_boundtol 5.684341886080802e-14;\"\n",
      "or \"option rel_boundtol 1.646716050692931e-16;\"\n",
      "will change deduced dual values.\n",
      "\n",
      "291\n",
      "Gurobi 12.0.0: \n",
      "\"option abs_boundtol 5.684341886080802e-14;\"\n",
      "or \"option rel_boundtol 1.2580855616080942e-16;\"\n",
      "will change deduced dual values.\n",
      "\n",
      "292\n",
      "Gurobi 12.0.0: 293\n",
      "Gurobi 12.0.0: 294\n",
      "Gurobi 12.0.0: 295\n",
      "Gurobi 12.0.0: 296\n",
      "Gurobi 12.0.0: 297\n",
      "Gurobi 12.0.0: 298\n",
      "Gurobi 12.0.0: 299\n",
      "Gurobi 12.0.0: \n",
      "\"option abs_boundtol 5.684341886080802e-14;\"\n",
      "or \"option rel_boundtol 1.773114383663411e-16;\"\n",
      "will change deduced dual values.\n",
      "\n",
      "300\n",
      "Gurobi 12.0.0: \n",
      "\"option abs_boundtol 5.684341886080802e-14;\"\n",
      "or \"option rel_boundtol 1.1931062404152409e-16;\"\n",
      "will change deduced dual values.\n",
      "\n",
      "301\n",
      "Gurobi 12.0.0: 302\n",
      "Gurobi 12.0.0: 303\n",
      "Gurobi 12.0.0: 304\n",
      "Gurobi 12.0.0: 305\n",
      "Gurobi 12.0.0: 306\n",
      "Gurobi 12.0.0: 307\n",
      "Gurobi 12.0.0: 308\n",
      "Gurobi 12.0.0: 309\n",
      "Gurobi 12.0.0: \n",
      "\"option abs_boundtol 5.684341886080802e-14;\"\n",
      "or \"option rel_boundtol 1.4718458996057847e-16;\"\n",
      "will change deduced dual values.\n",
      "\n",
      "310\n",
      "Gurobi 12.0.0: 311\n",
      "Gurobi 12.0.0: \n",
      "\"option abs_boundtol 5.684341886080802e-14;\"\n",
      "or \"option rel_boundtol 1.4718458996057847e-16;\"\n",
      "will change deduced dual values.\n",
      "\n",
      "312\n",
      "Gurobi 12.0.0: 313\n",
      "Gurobi 12.0.0: 314\n",
      "Gurobi 12.0.0: 315\n",
      "Gurobi 12.0.0: 316\n",
      "Gurobi 12.0.0: \n",
      "\"option abs_boundtol 5.684341886080802e-14;\"\n",
      "or \"option rel_boundtol 2.0332241346967628e-16;\"\n",
      "will change deduced dual values.\n",
      "\n",
      "317\n",
      "Gurobi 12.0.0: 318\n",
      "Gurobi 12.0.0: \n",
      "\"option abs_boundtol 5.684341886080802e-14;\"\n",
      "or \"option rel_boundtol 2.0332241346967628e-16;\"\n",
      "will change deduced dual values.\n",
      "\n",
      "319\n",
      "Gurobi 12.0.0: 320\n",
      "Gurobi 12.0.0: \n",
      "\"option abs_boundtol 5.684341886080802e-14;\"\n",
      "or \"option rel_boundtol 1.9205300847688234e-16;\"\n",
      "will change deduced dual values.\n",
      "\n",
      "321\n",
      "Gurobi 12.0.0: 322\n",
      "Gurobi 12.0.0: \n",
      "\"option abs_boundtol 5.684341886080802e-14;\"\n",
      "or \"option rel_boundtol 1.9205300847688234e-16;\"\n",
      "will change deduced dual values.\n",
      "\n",
      "323\n",
      "Gurobi 12.0.0: 324\n",
      "Gurobi 12.0.0: 325\n",
      "Gurobi 12.0.0: 326\n",
      "Gurobi 12.0.0: 327\n",
      "Gurobi 12.0.0: 328\n",
      "Gurobi 12.0.0: 329\n",
      "Gurobi 12.0.0: 330\n",
      "Gurobi 12.0.0: 331\n",
      "Gurobi 12.0.0: 332\n",
      "Gurobi 12.0.0: 333\n",
      "Gurobi 12.0.0: \n",
      "\"option abs_boundtol 5.684341886080802e-14;\"\n",
      "or \"option rel_boundtol 1.8687413930412374e-16;\"\n",
      "will change deduced dual values.\n",
      "\n",
      "334\n",
      "Gurobi 12.0.0: 335\n",
      "Gurobi 12.0.0: \n",
      "\"option abs_boundtol 5.684341886080802e-14;\"\n",
      "or \"option rel_boundtol 1.8687413930412374e-16;\"\n",
      "will change deduced dual values.\n",
      "\n",
      "336\n",
      "Gurobi 12.0.0: 337\n",
      "Gurobi 12.0.0: 338\n",
      "Gurobi 12.0.0: \n",
      "\"option abs_boundtol 5.684341886080802e-14;\"\n",
      "or \"option rel_boundtol 1.1533916103983858e-16;\"\n",
      "will change deduced dual values.\n",
      "\n",
      "339\n",
      "Gurobi 12.0.0: \n",
      "\"option abs_boundtol 5.684341886080802e-14;\"\n",
      "or \"option rel_boundtol 1.537139440933684e-16;\"\n",
      "will change deduced dual values.\n",
      "\n",
      "340\n",
      "Gurobi 12.0.0: 341\n",
      "Gurobi 12.0.0: 342\n",
      "Gurobi 12.0.0: 343\n",
      "Gurobi 12.0.0: 344\n",
      "Gurobi 12.0.0: 345\n",
      "Gurobi 12.0.0: 346\n",
      "Gurobi 12.0.0: 347\n",
      "Gurobi 12.0.0: 348\n",
      "Gurobi 12.0.0: \n",
      "\"option abs_boundtol 5.684341886080802e-14;\"\n",
      "or \"option rel_boundtol 1.5720078881120604e-16;\"\n",
      "will change deduced dual values.\n",
      "\n",
      "349\n",
      "Gurobi 12.0.0: \n",
      "\"option abs_boundtol 5.684341886080802e-14;\"\n",
      "or \"option rel_boundtol 1.1345095422329012e-16;\"\n",
      "will change deduced dual values.\n",
      "\n",
      "350\n",
      "Gurobi 12.0.0: \n",
      "\"option abs_boundtol 5.684341886080802e-14;\"\n",
      "or \"option rel_boundtol 1.5720078881120604e-16;\"\n",
      "will change deduced dual values.\n",
      "\n",
      "351\n",
      "Gurobi 12.0.0: 352\n",
      "Gurobi 12.0.0: 353\n",
      "Gurobi 12.0.0: 354\n",
      "Gurobi 12.0.0: 355\n",
      "Gurobi 12.0.0: 356\n",
      "Gurobi 12.0.0: 357\n",
      "Gurobi 12.0.0: 358\n",
      "Gurobi 12.0.0: 359\n",
      "Gurobi 12.0.0: 360\n",
      "Gurobi 12.0.0: 361\n",
      "Gurobi 12.0.0: 362\n",
      "Gurobi 12.0.0: 363\n",
      "Gurobi 12.0.0: 364\n",
      "Gurobi 12.0.0: \n",
      "\"option abs_boundtol 5.684341886080802e-14;\"\n",
      "or \"option rel_boundtol 1.2356533826688763e-16;\"\n",
      "will change deduced dual values.\n",
      "\n",
      "365\n",
      "Gurobi 12.0.0: 366\n",
      "Gurobi 12.0.0: \n",
      "\"option abs_boundtol 5.684341886080802e-14;\"\n",
      "or \"option rel_boundtol 1.2356533826688763e-16;\"\n",
      "will change deduced dual values.\n",
      "\n",
      "367\n",
      "Gurobi 12.0.0: 368\n",
      "Gurobi 12.0.0: 369\n",
      "Gurobi 12.0.0: 370\n",
      "Gurobi 12.0.0: 371\n",
      "Gurobi 12.0.0: 372\n",
      "Gurobi 12.0.0: 373\n",
      "Gurobi 12.0.0: \n",
      "\"option abs_boundtol 5.684341886080802e-14;\"\n",
      "or \"option rel_boundtol 1.6867977713692332e-16;\"\n",
      "will change deduced dual values.\n",
      "\n",
      "374\n",
      "Gurobi 12.0.0: 375\n",
      "Gurobi 12.0.0: 376\n",
      "Gurobi 12.0.0: 377\n",
      "Gurobi 12.0.0: 378\n",
      "Gurobi 12.0.0: 379\n",
      "Gurobi 12.0.0: 380\n",
      "Gurobi 12.0.0: 381\n",
      "Gurobi 12.0.0: \n",
      "\"option abs_boundtol 5.684341886080802e-14;\"\n",
      "or \"option rel_boundtol 1.2140071399740808e-16;\"\n",
      "will change deduced dual values.\n",
      "\n",
      "382\n",
      "Gurobi 12.0.0: 383\n",
      "Gurobi 12.0.0: 384\n",
      "Gurobi 12.0.0: 385\n",
      "Gurobi 12.0.0: \n",
      "\"option abs_boundtol 5.684341886080802e-14;\"\n",
      "or \"option rel_boundtol 1.7288793800130191e-16;\"\n",
      "will change deduced dual values.\n",
      "\n",
      "386\n",
      "Gurobi 12.0.0: 387\n",
      "Gurobi 12.0.0: \n",
      "\"option abs_boundtol 5.684341886080802e-14;\"\n",
      "or \"option rel_boundtol 1.7288793800130191e-16;\"\n",
      "will change deduced dual values.\n",
      "\n",
      "388\n",
      "Gurobi 12.0.0: 389\n",
      "Gurobi 12.0.0: 390\n",
      "Gurobi 12.0.0: 391\n",
      "Gurobi 12.0.0: 392\n",
      "Gurobi 12.0.0: 393\n",
      "Gurobi 12.0.0: 394\n",
      "Gurobi 12.0.0: 395\n",
      "Gurobi 12.0.0: 396\n",
      "Gurobi 12.0.0: \n",
      "\"option abs_boundtol 5.684341886080802e-14;\"\n",
      "or \"option rel_boundtol 1.4718458996057847e-16;\"\n",
      "will change deduced dual values.\n",
      "\n",
      "397\n",
      "Gurobi 12.0.0: 398\n",
      "Gurobi 12.0.0: \n",
      "\"option abs_boundtol 5.684341886080802e-14;\"\n",
      "or \"option rel_boundtol 1.4718458996057847e-16;\"\n",
      "will change deduced dual values.\n",
      "\n",
      "399\n",
      "Gurobi 12.0.0: 400\n",
      "Gurobi 12.0.0: 401\n",
      "Gurobi 12.0.0: 402\n",
      "Gurobi 12.0.0: 403\n",
      "Gurobi 12.0.0: 404\n",
      "Gurobi 12.0.0: 405\n",
      "Gurobi 12.0.0: 406\n",
      "Gurobi 12.0.0: 407\n",
      "Gurobi 12.0.0: 408\n",
      "Gurobi 12.0.0: 409\n",
      "Gurobi 12.0.0: 410\n",
      "Gurobi 12.0.0: 411\n",
      "Gurobi 12.0.0: 412\n",
      "Gurobi 12.0.0: \n",
      "\"option abs_boundtol 5.684341886080802e-14;\"\n",
      "or \"option rel_boundtol 1.773114383663411e-16;\"\n",
      "will change deduced dual values.\n",
      "\n",
      "413\n",
      "Gurobi 12.0.0: 414\n",
      "Gurobi 12.0.0: \n",
      "\"option abs_boundtol 5.684341886080802e-14;\"\n",
      "or \"option rel_boundtol 1.773114383663411e-16;\"\n",
      "will change deduced dual values.\n",
      "\n",
      "415\n",
      "Gurobi 12.0.0: 416\n",
      "Gurobi 12.0.0: 417\n",
      "Gurobi 12.0.0: 418\n",
      "Gurobi 12.0.0: 419\n",
      "Gurobi 12.0.0: 420\n",
      "Gurobi 12.0.0: 421\n",
      "Gurobi 12.0.0: 422\n",
      "Gurobi 12.0.0: 423\n",
      "Gurobi 12.0.0: 424\n",
      "Gurobi 12.0.0: 425\n",
      "Gurobi 12.0.0: 426\n",
      "Gurobi 12.0.0: 427\n",
      "Gurobi 12.0.0: 428\n",
      "Gurobi 12.0.0: \n",
      "\"option abs_boundtol 5.684341886080802e-14;\"\n",
      "or \"option rel_boundtol 1.172912839047981e-16;\"\n",
      "will change deduced dual values.\n",
      "\n",
      "429\n",
      "Gurobi 12.0.0: \n",
      "\"option abs_boundtol 5.684341886080802e-14;\"\n",
      "or \"option rel_boundtol 1.9205300847688234e-16;\"\n",
      "will change deduced dual values.\n",
      "\n",
      "430\n",
      "Gurobi 12.0.0: \n",
      "\"option abs_boundtol 5.684341886080802e-14;\"\n",
      "or \"option rel_boundtol 1.172912839047981e-16;\"\n",
      "will change deduced dual values.\n",
      "\n",
      "431\n",
      "Gurobi 12.0.0: \n",
      "\"option abs_boundtol 5.684341886080802e-14;\"\n",
      "or \"option rel_boundtol 1.9205300847688234e-16;\"\n",
      "will change deduced dual values.\n",
      "\n",
      "432\n",
      "Gurobi 12.0.0: 433\n",
      "Gurobi 12.0.0: 434\n",
      "Gurobi 12.0.0: 435\n",
      "Gurobi 12.0.0: \n",
      "\"option abs_boundtol 5.684341886080802e-14;\"\n",
      "or \"option rel_boundtol 1.1533916103983858e-16;\"\n",
      "will change deduced dual values.\n",
      "\n",
      "436\n",
      "Gurobi 12.0.0: 437\n",
      "Gurobi 12.0.0: 438\n",
      "Gurobi 12.0.0: 439\n",
      "Gurobi 12.0.0: 440\n",
      "Gurobi 12.0.0: 441\n",
      "Gurobi 12.0.0: 442\n",
      "Gurobi 12.0.0: 443\n",
      "Gurobi 12.0.0: \n",
      "\"option abs_boundtol 5.684341886080802e-14;\"\n",
      "or \"option rel_boundtol 1.5720078881120604e-16;\"\n",
      "will change deduced dual values.\n",
      "\n",
      "444\n",
      "Gurobi 12.0.0: \n",
      "\"option abs_boundtol 5.684341886080802e-14;\"\n",
      "or \"option rel_boundtol 1.9752710477238504e-16;\"\n",
      "will change deduced dual values.\n",
      "\n",
      "445\n",
      "Gurobi 12.0.0: 446\n",
      "Gurobi 12.0.0: \n",
      "\"option abs_boundtol 5.684341886080802e-14;\"\n",
      "or \"option rel_boundtol 1.9752710477238504e-16;\"\n",
      "will change deduced dual values.\n",
      "\n",
      "447\n",
      "Gurobi 12.0.0: 448\n",
      "Gurobi 12.0.0: 449\n",
      "Gurobi 12.0.0: 450\n",
      "Gurobi 12.0.0: 451\n",
      "Gurobi 12.0.0: 452\n",
      "Gurobi 12.0.0: 453\n",
      "Gurobi 12.0.0: 454\n",
      "Gurobi 12.0.0: 455\n",
      "Gurobi 12.0.0: 456\n",
      "Gurobi 12.0.0: 457\n",
      "Gurobi 12.0.0: \n",
      "\"option abs_boundtol 5.684341886080802e-14;\"\n",
      "or \"option rel_boundtol 2.0332241346967628e-16;\"\n",
      "will change deduced dual values.\n",
      "\n",
      "458\n",
      "Gurobi 12.0.0: 459\n",
      "Gurobi 12.0.0: \n",
      "\"option abs_boundtol 5.684341886080802e-14;\"\n",
      "or \"option rel_boundtol 2.0332241346967628e-16;\"\n",
      "will change deduced dual values.\n",
      "\n",
      "460\n",
      "Gurobi 12.0.0: 461\n",
      "Gurobi 12.0.0: 462\n",
      "Gurobi 12.0.0: 463\n",
      "Gurobi 12.0.0: 464\n",
      "Gurobi 12.0.0: 465\n",
      "Gurobi 12.0.0: 466\n",
      "Gurobi 12.0.0: 467\n",
      "Gurobi 12.0.0: 468\n",
      "Gurobi 12.0.0: 469\n",
      "Gurobi 12.0.0: \n",
      "\"option abs_boundtol 5.684341886080802e-14;\"\n",
      "or \"option rel_boundtol 1.1931062404152409e-16;\"\n",
      "will change deduced dual values.\n",
      "\n",
      "470\n",
      "Gurobi 12.0.0: 471\n",
      "Gurobi 12.0.0: \n",
      "\"option abs_boundtol 5.684341886080802e-14;\"\n",
      "or \"option rel_boundtol 1.1931062404152409e-16;\"\n",
      "will change deduced dual values.\n",
      "\n",
      "472\n",
      "Gurobi 12.0.0: 473\n",
      "Gurobi 12.0.0: 474\n",
      "Gurobi 12.0.0: 475\n",
      "Gurobi 12.0.0: 476\n",
      "Gurobi 12.0.0: \n",
      "\"option abs_boundtol 5.684341886080802e-14;\"\n",
      "or \"option rel_boundtol 1.6867977713692332e-16;\"\n",
      "will change deduced dual values.\n",
      "\n",
      "477\n",
      "Gurobi 12.0.0: \n",
      "\"option abs_boundtol 5.684341886080802e-14;\"\n",
      "or \"option rel_boundtol 1.646716050692931e-16;\"\n",
      "will change deduced dual values.\n",
      "\n",
      "478\n",
      "Gurobi 12.0.0: \n",
      "\"option abs_boundtol 5.684341886080802e-14;\"\n",
      "or \"option rel_boundtol 1.6867977713692332e-16;\"\n",
      "will change deduced dual values.\n",
      "\n",
      "479\n",
      "Gurobi 12.0.0: \n",
      "\"option abs_boundtol 5.684341886080802e-14;\"\n",
      "or \"option rel_boundtol 1.646716050692931e-16;\"\n",
      "will change deduced dual values.\n",
      "\n",
      "480\n",
      "Gurobi 12.0.0: \n",
      "\"option abs_boundtol 5.684341886080802e-14;\"\n",
      "or \"option rel_boundtol 1.8687413930412374e-16;\"\n",
      "will change deduced dual values.\n",
      "\n",
      "481\n",
      "Gurobi 12.0.0: 482\n",
      "Gurobi 12.0.0: \n",
      "\"option abs_boundtol 5.684341886080802e-14;\"\n",
      "or \"option rel_boundtol 1.8687413930412374e-16;\"\n",
      "will change deduced dual values.\n",
      "\n",
      "483\n",
      "Gurobi 12.0.0: 484\n",
      "Gurobi 12.0.0: 485\n",
      "Gurobi 12.0.0: \n",
      "\"option abs_boundtol 5.684341886080802e-14;\"\n",
      "or \"option rel_boundtol 1.8196724123693048e-16;\"\n",
      "will change deduced dual values.\n",
      "\n",
      "486\n",
      "Gurobi 12.0.0: 487\n",
      "Gurobi 12.0.0: \n",
      "\"option abs_boundtol 5.684341886080802e-14;\"\n",
      "or \"option rel_boundtol 1.8196724123693048e-16;\"\n",
      "will change deduced dual values.\n",
      "\n",
      "488\n",
      "Gurobi 12.0.0: 489\n",
      "Gurobi 12.0.0: 490\n",
      "Gurobi 12.0.0: 491\n",
      "Gurobi 12.0.0: 492\n",
      "Gurobi 12.0.0: 493\n",
      "Gurobi 12.0.0: \n",
      "\"option abs_boundtol 5.684341886080802e-14;\"\n",
      "or \"option rel_boundtol 1.2813472721288804e-16;\"\n",
      "will change deduced dual values.\n",
      "\n",
      "494\n",
      "Gurobi 12.0.0: 495\n",
      "Gurobi 12.0.0: 496\n",
      "Gurobi 12.0.0: 497\n",
      "Gurobi 12.0.0: 498\n",
      "Gurobi 12.0.0: 499\n",
      "Gurobi 12.0.0: 500\n",
      "Gurobi 12.0.0: 501\n",
      "Gurobi 12.0.0: \n",
      "\"option abs_boundtol 5.684341886080802e-14;\"\n",
      "or \"option rel_boundtol 1.116235749258996e-16;\"\n",
      "will change deduced dual values.\n",
      "\n",
      "502\n",
      "Gurobi 12.0.0: 503\n",
      "Gurobi 12.0.0: \n",
      "\"option abs_boundtol 5.684341886080802e-14;\"\n",
      "or \"option rel_boundtol 1.116235749258996e-16;\"\n",
      "will change deduced dual values.\n",
      "\n",
      "504\n",
      "Gurobi 12.0.0: 505\n",
      "Gurobi 12.0.0: \n",
      "\"option abs_boundtol 5.684341886080802e-14;\"\n",
      "or \"option rel_boundtol 1.5037842509760773e-16;\"\n",
      "will change deduced dual values.\n",
      "\n",
      "506\n",
      "Gurobi 12.0.0: 507\n",
      "Gurobi 12.0.0: 508\n",
      "Gurobi 12.0.0: 509\n",
      "Gurobi 12.0.0: 510\n",
      "Gurobi 12.0.0: 511\n",
      "Gurobi 12.0.0: 512\n"
     ]
    }
   ],
   "execution_count": 61
  },
  {
   "metadata": {
    "ExecuteTime": {
     "end_time": "2025-05-12T16:45:50.843414Z",
     "start_time": "2025-05-12T16:45:50.504952Z"
    }
   },
   "cell_type": "code",
   "source": "results_sobol = postprocessing(results_sobol)",
   "id": "26afd2dcd71b9a0c",
   "outputs": [],
   "execution_count": 62
  },
  {
   "metadata": {},
   "cell_type": "markdown",
   "source": "## Visualize the results",
   "id": "55c9592de69b8ec6"
  },
  {
   "metadata": {
    "ExecuteTime": {
     "end_time": "2025-05-12T16:28:07.413466Z",
     "start_time": "2025-05-12T16:28:07.206771Z"
    }
   },
   "cell_type": "code",
   "source": "tech_to_show_list = [i for i in impact_scores.Name.unique() if i not in ['GRID']]",
   "id": "2ae7b0bdd2468370",
   "outputs": [],
   "execution_count": 33
  },
  {
   "metadata": {},
   "cell_type": "markdown",
   "source": "### SOO",
   "id": "b5c62a9b7c17b3a8"
  },
  {
   "metadata": {
    "ExecuteTime": {
     "end_time": "2025-05-12T16:28:09.794669Z",
     "start_time": "2025-05-12T16:28:09.597555Z"
    }
   },
   "cell_type": "code",
   "source": [
    "main_variables_results_norm = pd.DataFrame()\n",
    "for col in main_variables_results.columns:\n",
    "    if col != 'Objective':\n",
    "        main_variables_results_norm[col] = main_variables_results[col] / main_variables_results[col].max()\n",
    "    else:\n",
    "        main_variables_results_norm['Objective function'] = main_variables_results[col]"
   ],
   "id": "b013761550573909",
   "outputs": [],
   "execution_count": 34
  },
  {
   "metadata": {
    "ExecuteTime": {
     "end_time": "2025-05-12T16:28:10.074642Z",
     "start_time": "2025-05-12T16:28:09.794669Z"
    }
   },
   "cell_type": "code",
   "source": [
    "main_variables_results_norm.rename(columns=obj_name_dict, inplace=True)\n",
    "main_variables_results_norm['Objective function'] = main_variables_results_norm['Objective function'].apply(lambda x: obj_name_dict[x])"
   ],
   "id": "766e02674a7d00ba",
   "outputs": [],
   "execution_count": 35
  },
  {
   "metadata": {
    "ExecuteTime": {
     "end_time": "2025-05-12T16:28:10.551770Z",
     "start_time": "2025-05-12T16:28:10.170524Z"
    }
   },
   "cell_type": "code",
   "source": "main_variables_results_norm = main_variables_results_norm.melt(id_vars=['Objective function'], var_name='Indicator', value_name='Normalized indicator')",
   "id": "2d8afadc3cc6480e",
   "outputs": [],
   "execution_count": 36
  },
  {
   "metadata": {
    "ExecuteTime": {
     "end_time": "2025-05-12T16:28:11.046001Z",
     "start_time": "2025-05-12T16:28:10.567340Z"
    }
   },
   "cell_type": "code",
   "source": [
    "fig = px.bar(\n",
    "    main_variables_results_norm,\n",
    "    x='Objective function',\n",
    "    y='Normalized indicator',\n",
    "    color='Indicator',\n",
    "    barmode='group',\n",
    ")\n",
    "\n",
    "fig.update_layout(template='plotly_white')\n",
    "\n",
    "fig.show()"
   ],
   "id": "2d3a9bf210882299",
   "outputs": [
    {
     "data": {
      "application/vnd.plotly.v1+json": {
       "data": [
        {
         "alignmentgroup": "True",
         "hovertemplate": "Indicator=Total cost<br>Objective function=%{x}<br>Normalized indicator=%{y}<extra></extra>",
         "legendgroup": "Total cost",
         "marker": {
          "color": "#636efa",
          "pattern": {
           "shape": ""
          }
         },
         "name": "Total cost",
         "offsetgroup": "Total cost",
         "orientation": "v",
         "showlegend": true,
         "textposition": "auto",
         "x": [
          "Total cost",
          "Climate change, short-term",
          "Total human health",
          "Total ecosystem quality"
         ],
         "xaxis": "x",
         "y": [
          0.47537234158660463,
          0.5496934394988693,
          0.8157807370497133,
          1.0
         ],
         "yaxis": "y",
         "type": "bar"
        },
        {
         "alignmentgroup": "True",
         "hovertemplate": "Indicator=Climate change, short-term<br>Objective function=%{x}<br>Normalized indicator=%{y}<extra></extra>",
         "legendgroup": "Climate change, short-term",
         "marker": {
          "color": "#EF553B",
          "pattern": {
           "shape": ""
          }
         },
         "name": "Climate change, short-term",
         "offsetgroup": "Climate change, short-term",
         "orientation": "v",
         "showlegend": true,
         "textposition": "auto",
         "x": [
          "Total cost",
          "Climate change, short-term",
          "Total human health",
          "Total ecosystem quality"
         ],
         "xaxis": "x",
         "y": [
          1.0,
          0.26167341656618676,
          0.2651078512307597,
          0.28838956618637884
         ],
         "yaxis": "y",
         "type": "bar"
        },
        {
         "alignmentgroup": "True",
         "hovertemplate": "Indicator=Total human health<br>Objective function=%{x}<br>Normalized indicator=%{y}<extra></extra>",
         "legendgroup": "Total human health",
         "marker": {
          "color": "#00cc96",
          "pattern": {
           "shape": ""
          }
         },
         "name": "Total human health",
         "offsetgroup": "Total human health",
         "orientation": "v",
         "showlegend": true,
         "textposition": "auto",
         "x": [
          "Total cost",
          "Climate change, short-term",
          "Total human health",
          "Total ecosystem quality"
         ],
         "xaxis": "x",
         "y": [
          1.0,
          0.32259131820073655,
          0.3105971581645787,
          0.32190367129220576
         ],
         "yaxis": "y",
         "type": "bar"
        },
        {
         "alignmentgroup": "True",
         "hovertemplate": "Indicator=Total ecosystem quality<br>Objective function=%{x}<br>Normalized indicator=%{y}<extra></extra>",
         "legendgroup": "Total ecosystem quality",
         "marker": {
          "color": "#ab63fa",
          "pattern": {
           "shape": ""
          }
         },
         "name": "Total ecosystem quality",
         "offsetgroup": "Total ecosystem quality",
         "orientation": "v",
         "showlegend": true,
         "textposition": "auto",
         "x": [
          "Total cost",
          "Climate change, short-term",
          "Total human health",
          "Total ecosystem quality"
         ],
         "xaxis": "x",
         "y": [
          1.0,
          0.6974184337506321,
          0.4548877059338539,
          0.30903471815821876
         ],
         "yaxis": "y",
         "type": "bar"
        }
       ],
       "layout": {
        "template": {
         "data": {
          "barpolar": [
           {
            "marker": {
             "line": {
              "color": "white",
              "width": 0.5
             },
             "pattern": {
              "fillmode": "overlay",
              "size": 10,
              "solidity": 0.2
             }
            },
            "type": "barpolar"
           }
          ],
          "bar": [
           {
            "error_x": {
             "color": "#2a3f5f"
            },
            "error_y": {
             "color": "#2a3f5f"
            },
            "marker": {
             "line": {
              "color": "white",
              "width": 0.5
             },
             "pattern": {
              "fillmode": "overlay",
              "size": 10,
              "solidity": 0.2
             }
            },
            "type": "bar"
           }
          ],
          "carpet": [
           {
            "aaxis": {
             "endlinecolor": "#2a3f5f",
             "gridcolor": "#C8D4E3",
             "linecolor": "#C8D4E3",
             "minorgridcolor": "#C8D4E3",
             "startlinecolor": "#2a3f5f"
            },
            "baxis": {
             "endlinecolor": "#2a3f5f",
             "gridcolor": "#C8D4E3",
             "linecolor": "#C8D4E3",
             "minorgridcolor": "#C8D4E3",
             "startlinecolor": "#2a3f5f"
            },
            "type": "carpet"
           }
          ],
          "choropleth": [
           {
            "colorbar": {
             "outlinewidth": 0,
             "ticks": ""
            },
            "type": "choropleth"
           }
          ],
          "contourcarpet": [
           {
            "colorbar": {
             "outlinewidth": 0,
             "ticks": ""
            },
            "type": "contourcarpet"
           }
          ],
          "contour": [
           {
            "colorbar": {
             "outlinewidth": 0,
             "ticks": ""
            },
            "colorscale": [
             [
              0.0,
              "#0d0887"
             ],
             [
              0.1111111111111111,
              "#46039f"
             ],
             [
              0.2222222222222222,
              "#7201a8"
             ],
             [
              0.3333333333333333,
              "#9c179e"
             ],
             [
              0.4444444444444444,
              "#bd3786"
             ],
             [
              0.5555555555555556,
              "#d8576b"
             ],
             [
              0.6666666666666666,
              "#ed7953"
             ],
             [
              0.7777777777777778,
              "#fb9f3a"
             ],
             [
              0.8888888888888888,
              "#fdca26"
             ],
             [
              1.0,
              "#f0f921"
             ]
            ],
            "type": "contour"
           }
          ],
          "heatmapgl": [
           {
            "colorbar": {
             "outlinewidth": 0,
             "ticks": ""
            },
            "colorscale": [
             [
              0.0,
              "#0d0887"
             ],
             [
              0.1111111111111111,
              "#46039f"
             ],
             [
              0.2222222222222222,
              "#7201a8"
             ],
             [
              0.3333333333333333,
              "#9c179e"
             ],
             [
              0.4444444444444444,
              "#bd3786"
             ],
             [
              0.5555555555555556,
              "#d8576b"
             ],
             [
              0.6666666666666666,
              "#ed7953"
             ],
             [
              0.7777777777777778,
              "#fb9f3a"
             ],
             [
              0.8888888888888888,
              "#fdca26"
             ],
             [
              1.0,
              "#f0f921"
             ]
            ],
            "type": "heatmapgl"
           }
          ],
          "heatmap": [
           {
            "colorbar": {
             "outlinewidth": 0,
             "ticks": ""
            },
            "colorscale": [
             [
              0.0,
              "#0d0887"
             ],
             [
              0.1111111111111111,
              "#46039f"
             ],
             [
              0.2222222222222222,
              "#7201a8"
             ],
             [
              0.3333333333333333,
              "#9c179e"
             ],
             [
              0.4444444444444444,
              "#bd3786"
             ],
             [
              0.5555555555555556,
              "#d8576b"
             ],
             [
              0.6666666666666666,
              "#ed7953"
             ],
             [
              0.7777777777777778,
              "#fb9f3a"
             ],
             [
              0.8888888888888888,
              "#fdca26"
             ],
             [
              1.0,
              "#f0f921"
             ]
            ],
            "type": "heatmap"
           }
          ],
          "histogram2dcontour": [
           {
            "colorbar": {
             "outlinewidth": 0,
             "ticks": ""
            },
            "colorscale": [
             [
              0.0,
              "#0d0887"
             ],
             [
              0.1111111111111111,
              "#46039f"
             ],
             [
              0.2222222222222222,
              "#7201a8"
             ],
             [
              0.3333333333333333,
              "#9c179e"
             ],
             [
              0.4444444444444444,
              "#bd3786"
             ],
             [
              0.5555555555555556,
              "#d8576b"
             ],
             [
              0.6666666666666666,
              "#ed7953"
             ],
             [
              0.7777777777777778,
              "#fb9f3a"
             ],
             [
              0.8888888888888888,
              "#fdca26"
             ],
             [
              1.0,
              "#f0f921"
             ]
            ],
            "type": "histogram2dcontour"
           }
          ],
          "histogram2d": [
           {
            "colorbar": {
             "outlinewidth": 0,
             "ticks": ""
            },
            "colorscale": [
             [
              0.0,
              "#0d0887"
             ],
             [
              0.1111111111111111,
              "#46039f"
             ],
             [
              0.2222222222222222,
              "#7201a8"
             ],
             [
              0.3333333333333333,
              "#9c179e"
             ],
             [
              0.4444444444444444,
              "#bd3786"
             ],
             [
              0.5555555555555556,
              "#d8576b"
             ],
             [
              0.6666666666666666,
              "#ed7953"
             ],
             [
              0.7777777777777778,
              "#fb9f3a"
             ],
             [
              0.8888888888888888,
              "#fdca26"
             ],
             [
              1.0,
              "#f0f921"
             ]
            ],
            "type": "histogram2d"
           }
          ],
          "histogram": [
           {
            "marker": {
             "pattern": {
              "fillmode": "overlay",
              "size": 10,
              "solidity": 0.2
             }
            },
            "type": "histogram"
           }
          ],
          "mesh3d": [
           {
            "colorbar": {
             "outlinewidth": 0,
             "ticks": ""
            },
            "type": "mesh3d"
           }
          ],
          "parcoords": [
           {
            "line": {
             "colorbar": {
              "outlinewidth": 0,
              "ticks": ""
             }
            },
            "type": "parcoords"
           }
          ],
          "pie": [
           {
            "automargin": true,
            "type": "pie"
           }
          ],
          "scatter3d": [
           {
            "line": {
             "colorbar": {
              "outlinewidth": 0,
              "ticks": ""
             }
            },
            "marker": {
             "colorbar": {
              "outlinewidth": 0,
              "ticks": ""
             }
            },
            "type": "scatter3d"
           }
          ],
          "scattercarpet": [
           {
            "marker": {
             "colorbar": {
              "outlinewidth": 0,
              "ticks": ""
             }
            },
            "type": "scattercarpet"
           }
          ],
          "scattergeo": [
           {
            "marker": {
             "colorbar": {
              "outlinewidth": 0,
              "ticks": ""
             }
            },
            "type": "scattergeo"
           }
          ],
          "scattergl": [
           {
            "marker": {
             "colorbar": {
              "outlinewidth": 0,
              "ticks": ""
             }
            },
            "type": "scattergl"
           }
          ],
          "scattermapbox": [
           {
            "marker": {
             "colorbar": {
              "outlinewidth": 0,
              "ticks": ""
             }
            },
            "type": "scattermapbox"
           }
          ],
          "scatterpolargl": [
           {
            "marker": {
             "colorbar": {
              "outlinewidth": 0,
              "ticks": ""
             }
            },
            "type": "scatterpolargl"
           }
          ],
          "scatterpolar": [
           {
            "marker": {
             "colorbar": {
              "outlinewidth": 0,
              "ticks": ""
             }
            },
            "type": "scatterpolar"
           }
          ],
          "scatter": [
           {
            "fillpattern": {
             "fillmode": "overlay",
             "size": 10,
             "solidity": 0.2
            },
            "type": "scatter"
           }
          ],
          "scatterternary": [
           {
            "marker": {
             "colorbar": {
              "outlinewidth": 0,
              "ticks": ""
             }
            },
            "type": "scatterternary"
           }
          ],
          "surface": [
           {
            "colorbar": {
             "outlinewidth": 0,
             "ticks": ""
            },
            "colorscale": [
             [
              0.0,
              "#0d0887"
             ],
             [
              0.1111111111111111,
              "#46039f"
             ],
             [
              0.2222222222222222,
              "#7201a8"
             ],
             [
              0.3333333333333333,
              "#9c179e"
             ],
             [
              0.4444444444444444,
              "#bd3786"
             ],
             [
              0.5555555555555556,
              "#d8576b"
             ],
             [
              0.6666666666666666,
              "#ed7953"
             ],
             [
              0.7777777777777778,
              "#fb9f3a"
             ],
             [
              0.8888888888888888,
              "#fdca26"
             ],
             [
              1.0,
              "#f0f921"
             ]
            ],
            "type": "surface"
           }
          ],
          "table": [
           {
            "cells": {
             "fill": {
              "color": "#EBF0F8"
             },
             "line": {
              "color": "white"
             }
            },
            "header": {
             "fill": {
              "color": "#C8D4E3"
             },
             "line": {
              "color": "white"
             }
            },
            "type": "table"
           }
          ]
         },
         "layout": {
          "annotationdefaults": {
           "arrowcolor": "#2a3f5f",
           "arrowhead": 0,
           "arrowwidth": 1
          },
          "autotypenumbers": "strict",
          "coloraxis": {
           "colorbar": {
            "outlinewidth": 0,
            "ticks": ""
           }
          },
          "colorscale": {
           "diverging": [
            [
             0,
             "#8e0152"
            ],
            [
             0.1,
             "#c51b7d"
            ],
            [
             0.2,
             "#de77ae"
            ],
            [
             0.3,
             "#f1b6da"
            ],
            [
             0.4,
             "#fde0ef"
            ],
            [
             0.5,
             "#f7f7f7"
            ],
            [
             0.6,
             "#e6f5d0"
            ],
            [
             0.7,
             "#b8e186"
            ],
            [
             0.8,
             "#7fbc41"
            ],
            [
             0.9,
             "#4d9221"
            ],
            [
             1,
             "#276419"
            ]
           ],
           "sequential": [
            [
             0.0,
             "#0d0887"
            ],
            [
             0.1111111111111111,
             "#46039f"
            ],
            [
             0.2222222222222222,
             "#7201a8"
            ],
            [
             0.3333333333333333,
             "#9c179e"
            ],
            [
             0.4444444444444444,
             "#bd3786"
            ],
            [
             0.5555555555555556,
             "#d8576b"
            ],
            [
             0.6666666666666666,
             "#ed7953"
            ],
            [
             0.7777777777777778,
             "#fb9f3a"
            ],
            [
             0.8888888888888888,
             "#fdca26"
            ],
            [
             1.0,
             "#f0f921"
            ]
           ],
           "sequentialminus": [
            [
             0.0,
             "#0d0887"
            ],
            [
             0.1111111111111111,
             "#46039f"
            ],
            [
             0.2222222222222222,
             "#7201a8"
            ],
            [
             0.3333333333333333,
             "#9c179e"
            ],
            [
             0.4444444444444444,
             "#bd3786"
            ],
            [
             0.5555555555555556,
             "#d8576b"
            ],
            [
             0.6666666666666666,
             "#ed7953"
            ],
            [
             0.7777777777777778,
             "#fb9f3a"
            ],
            [
             0.8888888888888888,
             "#fdca26"
            ],
            [
             1.0,
             "#f0f921"
            ]
           ]
          },
          "colorway": [
           "#636efa",
           "#EF553B",
           "#00cc96",
           "#ab63fa",
           "#FFA15A",
           "#19d3f3",
           "#FF6692",
           "#B6E880",
           "#FF97FF",
           "#FECB52"
          ],
          "font": {
           "color": "#2a3f5f"
          },
          "geo": {
           "bgcolor": "white",
           "lakecolor": "white",
           "landcolor": "white",
           "showlakes": true,
           "showland": true,
           "subunitcolor": "#C8D4E3"
          },
          "hoverlabel": {
           "align": "left"
          },
          "hovermode": "closest",
          "mapbox": {
           "style": "light"
          },
          "paper_bgcolor": "white",
          "plot_bgcolor": "white",
          "polar": {
           "angularaxis": {
            "gridcolor": "#EBF0F8",
            "linecolor": "#EBF0F8",
            "ticks": ""
           },
           "bgcolor": "white",
           "radialaxis": {
            "gridcolor": "#EBF0F8",
            "linecolor": "#EBF0F8",
            "ticks": ""
           }
          },
          "scene": {
           "xaxis": {
            "backgroundcolor": "white",
            "gridcolor": "#DFE8F3",
            "gridwidth": 2,
            "linecolor": "#EBF0F8",
            "showbackground": true,
            "ticks": "",
            "zerolinecolor": "#EBF0F8"
           },
           "yaxis": {
            "backgroundcolor": "white",
            "gridcolor": "#DFE8F3",
            "gridwidth": 2,
            "linecolor": "#EBF0F8",
            "showbackground": true,
            "ticks": "",
            "zerolinecolor": "#EBF0F8"
           },
           "zaxis": {
            "backgroundcolor": "white",
            "gridcolor": "#DFE8F3",
            "gridwidth": 2,
            "linecolor": "#EBF0F8",
            "showbackground": true,
            "ticks": "",
            "zerolinecolor": "#EBF0F8"
           }
          },
          "shapedefaults": {
           "line": {
            "color": "#2a3f5f"
           }
          },
          "ternary": {
           "aaxis": {
            "gridcolor": "#DFE8F3",
            "linecolor": "#A2B1C6",
            "ticks": ""
           },
           "baxis": {
            "gridcolor": "#DFE8F3",
            "linecolor": "#A2B1C6",
            "ticks": ""
           },
           "bgcolor": "white",
           "caxis": {
            "gridcolor": "#DFE8F3",
            "linecolor": "#A2B1C6",
            "ticks": ""
           }
          },
          "title": {
           "x": 0.05
          },
          "xaxis": {
           "automargin": true,
           "gridcolor": "#EBF0F8",
           "linecolor": "#EBF0F8",
           "ticks": "",
           "title": {
            "standoff": 15
           },
           "zerolinecolor": "#EBF0F8",
           "zerolinewidth": 2
          },
          "yaxis": {
           "automargin": true,
           "gridcolor": "#EBF0F8",
           "linecolor": "#EBF0F8",
           "ticks": "",
           "title": {
            "standoff": 15
           },
           "zerolinecolor": "#EBF0F8",
           "zerolinewidth": 2
          }
         }
        },
        "xaxis": {
         "anchor": "y",
         "domain": [
          0.0,
          1.0
         ],
         "title": {
          "text": "Objective function"
         }
        },
        "yaxis": {
         "anchor": "x",
         "domain": [
          0.0,
          1.0
         ],
         "title": {
          "text": "Normalized indicator"
         }
        },
        "legend": {
         "title": {
          "text": "Indicator"
         },
         "tracegroupgap": 0
        },
        "margin": {
         "t": 60
        },
        "barmode": "group"
       },
       "config": {
        "plotlyServerURL": "https://plot.ly"
       }
      },
      "text/html": [
       "<div>                            <div id=\"14172c4b-f855-4f51-b153-e6f34266b3ea\" class=\"plotly-graph-div\" style=\"height:525px; width:100%;\"></div>            <script type=\"text/javascript\">                require([\"plotly\"], function(Plotly) {                    window.PLOTLYENV=window.PLOTLYENV || {};                                    if (document.getElementById(\"14172c4b-f855-4f51-b153-e6f34266b3ea\")) {                    Plotly.newPlot(                        \"14172c4b-f855-4f51-b153-e6f34266b3ea\",                        [{\"alignmentgroup\":\"True\",\"hovertemplate\":\"Indicator=Total cost\\u003cbr\\u003eObjective function=%{x}\\u003cbr\\u003eNormalized indicator=%{y}\\u003cextra\\u003e\\u003c\\u002fextra\\u003e\",\"legendgroup\":\"Total cost\",\"marker\":{\"color\":\"#636efa\",\"pattern\":{\"shape\":\"\"}},\"name\":\"Total cost\",\"offsetgroup\":\"Total cost\",\"orientation\":\"v\",\"showlegend\":true,\"textposition\":\"auto\",\"x\":[\"Total cost\",\"Climate change, short-term\",\"Total human health\",\"Total ecosystem quality\"],\"xaxis\":\"x\",\"y\":[0.47537234158660463,0.5496934394988693,0.8157807370497133,1.0],\"yaxis\":\"y\",\"type\":\"bar\"},{\"alignmentgroup\":\"True\",\"hovertemplate\":\"Indicator=Climate change, short-term\\u003cbr\\u003eObjective function=%{x}\\u003cbr\\u003eNormalized indicator=%{y}\\u003cextra\\u003e\\u003c\\u002fextra\\u003e\",\"legendgroup\":\"Climate change, short-term\",\"marker\":{\"color\":\"#EF553B\",\"pattern\":{\"shape\":\"\"}},\"name\":\"Climate change, short-term\",\"offsetgroup\":\"Climate change, short-term\",\"orientation\":\"v\",\"showlegend\":true,\"textposition\":\"auto\",\"x\":[\"Total cost\",\"Climate change, short-term\",\"Total human health\",\"Total ecosystem quality\"],\"xaxis\":\"x\",\"y\":[1.0,0.26167341656618676,0.2651078512307597,0.28838956618637884],\"yaxis\":\"y\",\"type\":\"bar\"},{\"alignmentgroup\":\"True\",\"hovertemplate\":\"Indicator=Total human health\\u003cbr\\u003eObjective function=%{x}\\u003cbr\\u003eNormalized indicator=%{y}\\u003cextra\\u003e\\u003c\\u002fextra\\u003e\",\"legendgroup\":\"Total human health\",\"marker\":{\"color\":\"#00cc96\",\"pattern\":{\"shape\":\"\"}},\"name\":\"Total human health\",\"offsetgroup\":\"Total human health\",\"orientation\":\"v\",\"showlegend\":true,\"textposition\":\"auto\",\"x\":[\"Total cost\",\"Climate change, short-term\",\"Total human health\",\"Total ecosystem quality\"],\"xaxis\":\"x\",\"y\":[1.0,0.32259131820073655,0.3105971581645787,0.32190367129220576],\"yaxis\":\"y\",\"type\":\"bar\"},{\"alignmentgroup\":\"True\",\"hovertemplate\":\"Indicator=Total ecosystem quality\\u003cbr\\u003eObjective function=%{x}\\u003cbr\\u003eNormalized indicator=%{y}\\u003cextra\\u003e\\u003c\\u002fextra\\u003e\",\"legendgroup\":\"Total ecosystem quality\",\"marker\":{\"color\":\"#ab63fa\",\"pattern\":{\"shape\":\"\"}},\"name\":\"Total ecosystem quality\",\"offsetgroup\":\"Total ecosystem quality\",\"orientation\":\"v\",\"showlegend\":true,\"textposition\":\"auto\",\"x\":[\"Total cost\",\"Climate change, short-term\",\"Total human health\",\"Total ecosystem quality\"],\"xaxis\":\"x\",\"y\":[1.0,0.6974184337506321,0.4548877059338539,0.30903471815821876],\"yaxis\":\"y\",\"type\":\"bar\"}],                        {\"template\":{\"data\":{\"barpolar\":[{\"marker\":{\"line\":{\"color\":\"white\",\"width\":0.5},\"pattern\":{\"fillmode\":\"overlay\",\"size\":10,\"solidity\":0.2}},\"type\":\"barpolar\"}],\"bar\":[{\"error_x\":{\"color\":\"#2a3f5f\"},\"error_y\":{\"color\":\"#2a3f5f\"},\"marker\":{\"line\":{\"color\":\"white\",\"width\":0.5},\"pattern\":{\"fillmode\":\"overlay\",\"size\":10,\"solidity\":0.2}},\"type\":\"bar\"}],\"carpet\":[{\"aaxis\":{\"endlinecolor\":\"#2a3f5f\",\"gridcolor\":\"#C8D4E3\",\"linecolor\":\"#C8D4E3\",\"minorgridcolor\":\"#C8D4E3\",\"startlinecolor\":\"#2a3f5f\"},\"baxis\":{\"endlinecolor\":\"#2a3f5f\",\"gridcolor\":\"#C8D4E3\",\"linecolor\":\"#C8D4E3\",\"minorgridcolor\":\"#C8D4E3\",\"startlinecolor\":\"#2a3f5f\"},\"type\":\"carpet\"}],\"choropleth\":[{\"colorbar\":{\"outlinewidth\":0,\"ticks\":\"\"},\"type\":\"choropleth\"}],\"contourcarpet\":[{\"colorbar\":{\"outlinewidth\":0,\"ticks\":\"\"},\"type\":\"contourcarpet\"}],\"contour\":[{\"colorbar\":{\"outlinewidth\":0,\"ticks\":\"\"},\"colorscale\":[[0.0,\"#0d0887\"],[0.1111111111111111,\"#46039f\"],[0.2222222222222222,\"#7201a8\"],[0.3333333333333333,\"#9c179e\"],[0.4444444444444444,\"#bd3786\"],[0.5555555555555556,\"#d8576b\"],[0.6666666666666666,\"#ed7953\"],[0.7777777777777778,\"#fb9f3a\"],[0.8888888888888888,\"#fdca26\"],[1.0,\"#f0f921\"]],\"type\":\"contour\"}],\"heatmapgl\":[{\"colorbar\":{\"outlinewidth\":0,\"ticks\":\"\"},\"colorscale\":[[0.0,\"#0d0887\"],[0.1111111111111111,\"#46039f\"],[0.2222222222222222,\"#7201a8\"],[0.3333333333333333,\"#9c179e\"],[0.4444444444444444,\"#bd3786\"],[0.5555555555555556,\"#d8576b\"],[0.6666666666666666,\"#ed7953\"],[0.7777777777777778,\"#fb9f3a\"],[0.8888888888888888,\"#fdca26\"],[1.0,\"#f0f921\"]],\"type\":\"heatmapgl\"}],\"heatmap\":[{\"colorbar\":{\"outlinewidth\":0,\"ticks\":\"\"},\"colorscale\":[[0.0,\"#0d0887\"],[0.1111111111111111,\"#46039f\"],[0.2222222222222222,\"#7201a8\"],[0.3333333333333333,\"#9c179e\"],[0.4444444444444444,\"#bd3786\"],[0.5555555555555556,\"#d8576b\"],[0.6666666666666666,\"#ed7953\"],[0.7777777777777778,\"#fb9f3a\"],[0.8888888888888888,\"#fdca26\"],[1.0,\"#f0f921\"]],\"type\":\"heatmap\"}],\"histogram2dcontour\":[{\"colorbar\":{\"outlinewidth\":0,\"ticks\":\"\"},\"colorscale\":[[0.0,\"#0d0887\"],[0.1111111111111111,\"#46039f\"],[0.2222222222222222,\"#7201a8\"],[0.3333333333333333,\"#9c179e\"],[0.4444444444444444,\"#bd3786\"],[0.5555555555555556,\"#d8576b\"],[0.6666666666666666,\"#ed7953\"],[0.7777777777777778,\"#fb9f3a\"],[0.8888888888888888,\"#fdca26\"],[1.0,\"#f0f921\"]],\"type\":\"histogram2dcontour\"}],\"histogram2d\":[{\"colorbar\":{\"outlinewidth\":0,\"ticks\":\"\"},\"colorscale\":[[0.0,\"#0d0887\"],[0.1111111111111111,\"#46039f\"],[0.2222222222222222,\"#7201a8\"],[0.3333333333333333,\"#9c179e\"],[0.4444444444444444,\"#bd3786\"],[0.5555555555555556,\"#d8576b\"],[0.6666666666666666,\"#ed7953\"],[0.7777777777777778,\"#fb9f3a\"],[0.8888888888888888,\"#fdca26\"],[1.0,\"#f0f921\"]],\"type\":\"histogram2d\"}],\"histogram\":[{\"marker\":{\"pattern\":{\"fillmode\":\"overlay\",\"size\":10,\"solidity\":0.2}},\"type\":\"histogram\"}],\"mesh3d\":[{\"colorbar\":{\"outlinewidth\":0,\"ticks\":\"\"},\"type\":\"mesh3d\"}],\"parcoords\":[{\"line\":{\"colorbar\":{\"outlinewidth\":0,\"ticks\":\"\"}},\"type\":\"parcoords\"}],\"pie\":[{\"automargin\":true,\"type\":\"pie\"}],\"scatter3d\":[{\"line\":{\"colorbar\":{\"outlinewidth\":0,\"ticks\":\"\"}},\"marker\":{\"colorbar\":{\"outlinewidth\":0,\"ticks\":\"\"}},\"type\":\"scatter3d\"}],\"scattercarpet\":[{\"marker\":{\"colorbar\":{\"outlinewidth\":0,\"ticks\":\"\"}},\"type\":\"scattercarpet\"}],\"scattergeo\":[{\"marker\":{\"colorbar\":{\"outlinewidth\":0,\"ticks\":\"\"}},\"type\":\"scattergeo\"}],\"scattergl\":[{\"marker\":{\"colorbar\":{\"outlinewidth\":0,\"ticks\":\"\"}},\"type\":\"scattergl\"}],\"scattermapbox\":[{\"marker\":{\"colorbar\":{\"outlinewidth\":0,\"ticks\":\"\"}},\"type\":\"scattermapbox\"}],\"scatterpolargl\":[{\"marker\":{\"colorbar\":{\"outlinewidth\":0,\"ticks\":\"\"}},\"type\":\"scatterpolargl\"}],\"scatterpolar\":[{\"marker\":{\"colorbar\":{\"outlinewidth\":0,\"ticks\":\"\"}},\"type\":\"scatterpolar\"}],\"scatter\":[{\"fillpattern\":{\"fillmode\":\"overlay\",\"size\":10,\"solidity\":0.2},\"type\":\"scatter\"}],\"scatterternary\":[{\"marker\":{\"colorbar\":{\"outlinewidth\":0,\"ticks\":\"\"}},\"type\":\"scatterternary\"}],\"surface\":[{\"colorbar\":{\"outlinewidth\":0,\"ticks\":\"\"},\"colorscale\":[[0.0,\"#0d0887\"],[0.1111111111111111,\"#46039f\"],[0.2222222222222222,\"#7201a8\"],[0.3333333333333333,\"#9c179e\"],[0.4444444444444444,\"#bd3786\"],[0.5555555555555556,\"#d8576b\"],[0.6666666666666666,\"#ed7953\"],[0.7777777777777778,\"#fb9f3a\"],[0.8888888888888888,\"#fdca26\"],[1.0,\"#f0f921\"]],\"type\":\"surface\"}],\"table\":[{\"cells\":{\"fill\":{\"color\":\"#EBF0F8\"},\"line\":{\"color\":\"white\"}},\"header\":{\"fill\":{\"color\":\"#C8D4E3\"},\"line\":{\"color\":\"white\"}},\"type\":\"table\"}]},\"layout\":{\"annotationdefaults\":{\"arrowcolor\":\"#2a3f5f\",\"arrowhead\":0,\"arrowwidth\":1},\"autotypenumbers\":\"strict\",\"coloraxis\":{\"colorbar\":{\"outlinewidth\":0,\"ticks\":\"\"}},\"colorscale\":{\"diverging\":[[0,\"#8e0152\"],[0.1,\"#c51b7d\"],[0.2,\"#de77ae\"],[0.3,\"#f1b6da\"],[0.4,\"#fde0ef\"],[0.5,\"#f7f7f7\"],[0.6,\"#e6f5d0\"],[0.7,\"#b8e186\"],[0.8,\"#7fbc41\"],[0.9,\"#4d9221\"],[1,\"#276419\"]],\"sequential\":[[0.0,\"#0d0887\"],[0.1111111111111111,\"#46039f\"],[0.2222222222222222,\"#7201a8\"],[0.3333333333333333,\"#9c179e\"],[0.4444444444444444,\"#bd3786\"],[0.5555555555555556,\"#d8576b\"],[0.6666666666666666,\"#ed7953\"],[0.7777777777777778,\"#fb9f3a\"],[0.8888888888888888,\"#fdca26\"],[1.0,\"#f0f921\"]],\"sequentialminus\":[[0.0,\"#0d0887\"],[0.1111111111111111,\"#46039f\"],[0.2222222222222222,\"#7201a8\"],[0.3333333333333333,\"#9c179e\"],[0.4444444444444444,\"#bd3786\"],[0.5555555555555556,\"#d8576b\"],[0.6666666666666666,\"#ed7953\"],[0.7777777777777778,\"#fb9f3a\"],[0.8888888888888888,\"#fdca26\"],[1.0,\"#f0f921\"]]},\"colorway\":[\"#636efa\",\"#EF553B\",\"#00cc96\",\"#ab63fa\",\"#FFA15A\",\"#19d3f3\",\"#FF6692\",\"#B6E880\",\"#FF97FF\",\"#FECB52\"],\"font\":{\"color\":\"#2a3f5f\"},\"geo\":{\"bgcolor\":\"white\",\"lakecolor\":\"white\",\"landcolor\":\"white\",\"showlakes\":true,\"showland\":true,\"subunitcolor\":\"#C8D4E3\"},\"hoverlabel\":{\"align\":\"left\"},\"hovermode\":\"closest\",\"mapbox\":{\"style\":\"light\"},\"paper_bgcolor\":\"white\",\"plot_bgcolor\":\"white\",\"polar\":{\"angularaxis\":{\"gridcolor\":\"#EBF0F8\",\"linecolor\":\"#EBF0F8\",\"ticks\":\"\"},\"bgcolor\":\"white\",\"radialaxis\":{\"gridcolor\":\"#EBF0F8\",\"linecolor\":\"#EBF0F8\",\"ticks\":\"\"}},\"scene\":{\"xaxis\":{\"backgroundcolor\":\"white\",\"gridcolor\":\"#DFE8F3\",\"gridwidth\":2,\"linecolor\":\"#EBF0F8\",\"showbackground\":true,\"ticks\":\"\",\"zerolinecolor\":\"#EBF0F8\"},\"yaxis\":{\"backgroundcolor\":\"white\",\"gridcolor\":\"#DFE8F3\",\"gridwidth\":2,\"linecolor\":\"#EBF0F8\",\"showbackground\":true,\"ticks\":\"\",\"zerolinecolor\":\"#EBF0F8\"},\"zaxis\":{\"backgroundcolor\":\"white\",\"gridcolor\":\"#DFE8F3\",\"gridwidth\":2,\"linecolor\":\"#EBF0F8\",\"showbackground\":true,\"ticks\":\"\",\"zerolinecolor\":\"#EBF0F8\"}},\"shapedefaults\":{\"line\":{\"color\":\"#2a3f5f\"}},\"ternary\":{\"aaxis\":{\"gridcolor\":\"#DFE8F3\",\"linecolor\":\"#A2B1C6\",\"ticks\":\"\"},\"baxis\":{\"gridcolor\":\"#DFE8F3\",\"linecolor\":\"#A2B1C6\",\"ticks\":\"\"},\"bgcolor\":\"white\",\"caxis\":{\"gridcolor\":\"#DFE8F3\",\"linecolor\":\"#A2B1C6\",\"ticks\":\"\"}},\"title\":{\"x\":0.05},\"xaxis\":{\"automargin\":true,\"gridcolor\":\"#EBF0F8\",\"linecolor\":\"#EBF0F8\",\"ticks\":\"\",\"title\":{\"standoff\":15},\"zerolinecolor\":\"#EBF0F8\",\"zerolinewidth\":2},\"yaxis\":{\"automargin\":true,\"gridcolor\":\"#EBF0F8\",\"linecolor\":\"#EBF0F8\",\"ticks\":\"\",\"title\":{\"standoff\":15},\"zerolinecolor\":\"#EBF0F8\",\"zerolinewidth\":2}}},\"xaxis\":{\"anchor\":\"y\",\"domain\":[0.0,1.0],\"title\":{\"text\":\"Objective function\"}},\"yaxis\":{\"anchor\":\"x\",\"domain\":[0.0,1.0],\"title\":{\"text\":\"Normalized indicator\"}},\"legend\":{\"title\":{\"text\":\"Indicator\"},\"tracegroupgap\":0},\"margin\":{\"t\":60},\"barmode\":\"group\"},                        {\"responsive\": true}                    ).then(function(){\n",
       "                            \n",
       "var gd = document.getElementById('14172c4b-f855-4f51-b153-e6f34266b3ea');\n",
       "var x = new MutationObserver(function (mutations, observer) {{\n",
       "        var display = window.getComputedStyle(gd).display;\n",
       "        if (!display || display === 'none') {{\n",
       "            console.log([gd, 'removed!']);\n",
       "            Plotly.purge(gd);\n",
       "            observer.disconnect();\n",
       "        }}\n",
       "}});\n",
       "\n",
       "// Listen for the removal of the full notebook cells\n",
       "var notebookContainer = gd.closest('#notebook-container');\n",
       "if (notebookContainer) {{\n",
       "    x.observe(notebookContainer, {childList: true});\n",
       "}}\n",
       "\n",
       "// Listen for the clearing of the current output cell\n",
       "var outputEl = gd.closest('.output');\n",
       "if (outputEl) {{\n",
       "    x.observe(outputEl, {childList: true});\n",
       "}}\n",
       "\n",
       "                        })                };                });            </script>        </div>"
      ]
     },
     "metadata": {},
     "output_type": "display_data"
    }
   ],
   "execution_count": 37
  },
  {
   "metadata": {
    "ExecuteTime": {
     "end_time": "2025-05-12T16:28:11.482023Z",
     "start_time": "2025-05-12T16:28:11.109133Z"
    }
   },
   "cell_type": "code",
   "source": [
    "fig = px.bar(\n",
    "    main_variables_results_norm,\n",
    "    color='Objective function',\n",
    "    y='Normalized indicator',\n",
    "    x='Indicator',\n",
    "    barmode='group',\n",
    ")\n",
    "\n",
    "fig.update_layout(template='plotly_white')\n",
    "\n",
    "fig.show()"
   ],
   "id": "4821797151dae2df",
   "outputs": [
    {
     "data": {
      "application/vnd.plotly.v1+json": {
       "data": [
        {
         "alignmentgroup": "True",
         "hovertemplate": "Objective function=Total cost<br>Indicator=%{x}<br>Normalized indicator=%{y}<extra></extra>",
         "legendgroup": "Total cost",
         "marker": {
          "color": "#636efa",
          "pattern": {
           "shape": ""
          }
         },
         "name": "Total cost",
         "offsetgroup": "Total cost",
         "orientation": "v",
         "showlegend": true,
         "textposition": "auto",
         "x": [
          "Total cost",
          "Climate change, short-term",
          "Total human health",
          "Total ecosystem quality"
         ],
         "xaxis": "x",
         "y": [
          0.47537234158660463,
          1.0,
          1.0,
          1.0
         ],
         "yaxis": "y",
         "type": "bar"
        },
        {
         "alignmentgroup": "True",
         "hovertemplate": "Objective function=Climate change, short-term<br>Indicator=%{x}<br>Normalized indicator=%{y}<extra></extra>",
         "legendgroup": "Climate change, short-term",
         "marker": {
          "color": "#EF553B",
          "pattern": {
           "shape": ""
          }
         },
         "name": "Climate change, short-term",
         "offsetgroup": "Climate change, short-term",
         "orientation": "v",
         "showlegend": true,
         "textposition": "auto",
         "x": [
          "Total cost",
          "Climate change, short-term",
          "Total human health",
          "Total ecosystem quality"
         ],
         "xaxis": "x",
         "y": [
          0.5496934394988693,
          0.26167341656618676,
          0.32259131820073655,
          0.6974184337506321
         ],
         "yaxis": "y",
         "type": "bar"
        },
        {
         "alignmentgroup": "True",
         "hovertemplate": "Objective function=Total human health<br>Indicator=%{x}<br>Normalized indicator=%{y}<extra></extra>",
         "legendgroup": "Total human health",
         "marker": {
          "color": "#00cc96",
          "pattern": {
           "shape": ""
          }
         },
         "name": "Total human health",
         "offsetgroup": "Total human health",
         "orientation": "v",
         "showlegend": true,
         "textposition": "auto",
         "x": [
          "Total cost",
          "Climate change, short-term",
          "Total human health",
          "Total ecosystem quality"
         ],
         "xaxis": "x",
         "y": [
          0.8157807370497133,
          0.2651078512307597,
          0.3105971581645787,
          0.4548877059338539
         ],
         "yaxis": "y",
         "type": "bar"
        },
        {
         "alignmentgroup": "True",
         "hovertemplate": "Objective function=Total ecosystem quality<br>Indicator=%{x}<br>Normalized indicator=%{y}<extra></extra>",
         "legendgroup": "Total ecosystem quality",
         "marker": {
          "color": "#ab63fa",
          "pattern": {
           "shape": ""
          }
         },
         "name": "Total ecosystem quality",
         "offsetgroup": "Total ecosystem quality",
         "orientation": "v",
         "showlegend": true,
         "textposition": "auto",
         "x": [
          "Total cost",
          "Climate change, short-term",
          "Total human health",
          "Total ecosystem quality"
         ],
         "xaxis": "x",
         "y": [
          1.0,
          0.28838956618637884,
          0.32190367129220576,
          0.30903471815821876
         ],
         "yaxis": "y",
         "type": "bar"
        }
       ],
       "layout": {
        "template": {
         "data": {
          "barpolar": [
           {
            "marker": {
             "line": {
              "color": "white",
              "width": 0.5
             },
             "pattern": {
              "fillmode": "overlay",
              "size": 10,
              "solidity": 0.2
             }
            },
            "type": "barpolar"
           }
          ],
          "bar": [
           {
            "error_x": {
             "color": "#2a3f5f"
            },
            "error_y": {
             "color": "#2a3f5f"
            },
            "marker": {
             "line": {
              "color": "white",
              "width": 0.5
             },
             "pattern": {
              "fillmode": "overlay",
              "size": 10,
              "solidity": 0.2
             }
            },
            "type": "bar"
           }
          ],
          "carpet": [
           {
            "aaxis": {
             "endlinecolor": "#2a3f5f",
             "gridcolor": "#C8D4E3",
             "linecolor": "#C8D4E3",
             "minorgridcolor": "#C8D4E3",
             "startlinecolor": "#2a3f5f"
            },
            "baxis": {
             "endlinecolor": "#2a3f5f",
             "gridcolor": "#C8D4E3",
             "linecolor": "#C8D4E3",
             "minorgridcolor": "#C8D4E3",
             "startlinecolor": "#2a3f5f"
            },
            "type": "carpet"
           }
          ],
          "choropleth": [
           {
            "colorbar": {
             "outlinewidth": 0,
             "ticks": ""
            },
            "type": "choropleth"
           }
          ],
          "contourcarpet": [
           {
            "colorbar": {
             "outlinewidth": 0,
             "ticks": ""
            },
            "type": "contourcarpet"
           }
          ],
          "contour": [
           {
            "colorbar": {
             "outlinewidth": 0,
             "ticks": ""
            },
            "colorscale": [
             [
              0.0,
              "#0d0887"
             ],
             [
              0.1111111111111111,
              "#46039f"
             ],
             [
              0.2222222222222222,
              "#7201a8"
             ],
             [
              0.3333333333333333,
              "#9c179e"
             ],
             [
              0.4444444444444444,
              "#bd3786"
             ],
             [
              0.5555555555555556,
              "#d8576b"
             ],
             [
              0.6666666666666666,
              "#ed7953"
             ],
             [
              0.7777777777777778,
              "#fb9f3a"
             ],
             [
              0.8888888888888888,
              "#fdca26"
             ],
             [
              1.0,
              "#f0f921"
             ]
            ],
            "type": "contour"
           }
          ],
          "heatmapgl": [
           {
            "colorbar": {
             "outlinewidth": 0,
             "ticks": ""
            },
            "colorscale": [
             [
              0.0,
              "#0d0887"
             ],
             [
              0.1111111111111111,
              "#46039f"
             ],
             [
              0.2222222222222222,
              "#7201a8"
             ],
             [
              0.3333333333333333,
              "#9c179e"
             ],
             [
              0.4444444444444444,
              "#bd3786"
             ],
             [
              0.5555555555555556,
              "#d8576b"
             ],
             [
              0.6666666666666666,
              "#ed7953"
             ],
             [
              0.7777777777777778,
              "#fb9f3a"
             ],
             [
              0.8888888888888888,
              "#fdca26"
             ],
             [
              1.0,
              "#f0f921"
             ]
            ],
            "type": "heatmapgl"
           }
          ],
          "heatmap": [
           {
            "colorbar": {
             "outlinewidth": 0,
             "ticks": ""
            },
            "colorscale": [
             [
              0.0,
              "#0d0887"
             ],
             [
              0.1111111111111111,
              "#46039f"
             ],
             [
              0.2222222222222222,
              "#7201a8"
             ],
             [
              0.3333333333333333,
              "#9c179e"
             ],
             [
              0.4444444444444444,
              "#bd3786"
             ],
             [
              0.5555555555555556,
              "#d8576b"
             ],
             [
              0.6666666666666666,
              "#ed7953"
             ],
             [
              0.7777777777777778,
              "#fb9f3a"
             ],
             [
              0.8888888888888888,
              "#fdca26"
             ],
             [
              1.0,
              "#f0f921"
             ]
            ],
            "type": "heatmap"
           }
          ],
          "histogram2dcontour": [
           {
            "colorbar": {
             "outlinewidth": 0,
             "ticks": ""
            },
            "colorscale": [
             [
              0.0,
              "#0d0887"
             ],
             [
              0.1111111111111111,
              "#46039f"
             ],
             [
              0.2222222222222222,
              "#7201a8"
             ],
             [
              0.3333333333333333,
              "#9c179e"
             ],
             [
              0.4444444444444444,
              "#bd3786"
             ],
             [
              0.5555555555555556,
              "#d8576b"
             ],
             [
              0.6666666666666666,
              "#ed7953"
             ],
             [
              0.7777777777777778,
              "#fb9f3a"
             ],
             [
              0.8888888888888888,
              "#fdca26"
             ],
             [
              1.0,
              "#f0f921"
             ]
            ],
            "type": "histogram2dcontour"
           }
          ],
          "histogram2d": [
           {
            "colorbar": {
             "outlinewidth": 0,
             "ticks": ""
            },
            "colorscale": [
             [
              0.0,
              "#0d0887"
             ],
             [
              0.1111111111111111,
              "#46039f"
             ],
             [
              0.2222222222222222,
              "#7201a8"
             ],
             [
              0.3333333333333333,
              "#9c179e"
             ],
             [
              0.4444444444444444,
              "#bd3786"
             ],
             [
              0.5555555555555556,
              "#d8576b"
             ],
             [
              0.6666666666666666,
              "#ed7953"
             ],
             [
              0.7777777777777778,
              "#fb9f3a"
             ],
             [
              0.8888888888888888,
              "#fdca26"
             ],
             [
              1.0,
              "#f0f921"
             ]
            ],
            "type": "histogram2d"
           }
          ],
          "histogram": [
           {
            "marker": {
             "pattern": {
              "fillmode": "overlay",
              "size": 10,
              "solidity": 0.2
             }
            },
            "type": "histogram"
           }
          ],
          "mesh3d": [
           {
            "colorbar": {
             "outlinewidth": 0,
             "ticks": ""
            },
            "type": "mesh3d"
           }
          ],
          "parcoords": [
           {
            "line": {
             "colorbar": {
              "outlinewidth": 0,
              "ticks": ""
             }
            },
            "type": "parcoords"
           }
          ],
          "pie": [
           {
            "automargin": true,
            "type": "pie"
           }
          ],
          "scatter3d": [
           {
            "line": {
             "colorbar": {
              "outlinewidth": 0,
              "ticks": ""
             }
            },
            "marker": {
             "colorbar": {
              "outlinewidth": 0,
              "ticks": ""
             }
            },
            "type": "scatter3d"
           }
          ],
          "scattercarpet": [
           {
            "marker": {
             "colorbar": {
              "outlinewidth": 0,
              "ticks": ""
             }
            },
            "type": "scattercarpet"
           }
          ],
          "scattergeo": [
           {
            "marker": {
             "colorbar": {
              "outlinewidth": 0,
              "ticks": ""
             }
            },
            "type": "scattergeo"
           }
          ],
          "scattergl": [
           {
            "marker": {
             "colorbar": {
              "outlinewidth": 0,
              "ticks": ""
             }
            },
            "type": "scattergl"
           }
          ],
          "scattermapbox": [
           {
            "marker": {
             "colorbar": {
              "outlinewidth": 0,
              "ticks": ""
             }
            },
            "type": "scattermapbox"
           }
          ],
          "scatterpolargl": [
           {
            "marker": {
             "colorbar": {
              "outlinewidth": 0,
              "ticks": ""
             }
            },
            "type": "scatterpolargl"
           }
          ],
          "scatterpolar": [
           {
            "marker": {
             "colorbar": {
              "outlinewidth": 0,
              "ticks": ""
             }
            },
            "type": "scatterpolar"
           }
          ],
          "scatter": [
           {
            "fillpattern": {
             "fillmode": "overlay",
             "size": 10,
             "solidity": 0.2
            },
            "type": "scatter"
           }
          ],
          "scatterternary": [
           {
            "marker": {
             "colorbar": {
              "outlinewidth": 0,
              "ticks": ""
             }
            },
            "type": "scatterternary"
           }
          ],
          "surface": [
           {
            "colorbar": {
             "outlinewidth": 0,
             "ticks": ""
            },
            "colorscale": [
             [
              0.0,
              "#0d0887"
             ],
             [
              0.1111111111111111,
              "#46039f"
             ],
             [
              0.2222222222222222,
              "#7201a8"
             ],
             [
              0.3333333333333333,
              "#9c179e"
             ],
             [
              0.4444444444444444,
              "#bd3786"
             ],
             [
              0.5555555555555556,
              "#d8576b"
             ],
             [
              0.6666666666666666,
              "#ed7953"
             ],
             [
              0.7777777777777778,
              "#fb9f3a"
             ],
             [
              0.8888888888888888,
              "#fdca26"
             ],
             [
              1.0,
              "#f0f921"
             ]
            ],
            "type": "surface"
           }
          ],
          "table": [
           {
            "cells": {
             "fill": {
              "color": "#EBF0F8"
             },
             "line": {
              "color": "white"
             }
            },
            "header": {
             "fill": {
              "color": "#C8D4E3"
             },
             "line": {
              "color": "white"
             }
            },
            "type": "table"
           }
          ]
         },
         "layout": {
          "annotationdefaults": {
           "arrowcolor": "#2a3f5f",
           "arrowhead": 0,
           "arrowwidth": 1
          },
          "autotypenumbers": "strict",
          "coloraxis": {
           "colorbar": {
            "outlinewidth": 0,
            "ticks": ""
           }
          },
          "colorscale": {
           "diverging": [
            [
             0,
             "#8e0152"
            ],
            [
             0.1,
             "#c51b7d"
            ],
            [
             0.2,
             "#de77ae"
            ],
            [
             0.3,
             "#f1b6da"
            ],
            [
             0.4,
             "#fde0ef"
            ],
            [
             0.5,
             "#f7f7f7"
            ],
            [
             0.6,
             "#e6f5d0"
            ],
            [
             0.7,
             "#b8e186"
            ],
            [
             0.8,
             "#7fbc41"
            ],
            [
             0.9,
             "#4d9221"
            ],
            [
             1,
             "#276419"
            ]
           ],
           "sequential": [
            [
             0.0,
             "#0d0887"
            ],
            [
             0.1111111111111111,
             "#46039f"
            ],
            [
             0.2222222222222222,
             "#7201a8"
            ],
            [
             0.3333333333333333,
             "#9c179e"
            ],
            [
             0.4444444444444444,
             "#bd3786"
            ],
            [
             0.5555555555555556,
             "#d8576b"
            ],
            [
             0.6666666666666666,
             "#ed7953"
            ],
            [
             0.7777777777777778,
             "#fb9f3a"
            ],
            [
             0.8888888888888888,
             "#fdca26"
            ],
            [
             1.0,
             "#f0f921"
            ]
           ],
           "sequentialminus": [
            [
             0.0,
             "#0d0887"
            ],
            [
             0.1111111111111111,
             "#46039f"
            ],
            [
             0.2222222222222222,
             "#7201a8"
            ],
            [
             0.3333333333333333,
             "#9c179e"
            ],
            [
             0.4444444444444444,
             "#bd3786"
            ],
            [
             0.5555555555555556,
             "#d8576b"
            ],
            [
             0.6666666666666666,
             "#ed7953"
            ],
            [
             0.7777777777777778,
             "#fb9f3a"
            ],
            [
             0.8888888888888888,
             "#fdca26"
            ],
            [
             1.0,
             "#f0f921"
            ]
           ]
          },
          "colorway": [
           "#636efa",
           "#EF553B",
           "#00cc96",
           "#ab63fa",
           "#FFA15A",
           "#19d3f3",
           "#FF6692",
           "#B6E880",
           "#FF97FF",
           "#FECB52"
          ],
          "font": {
           "color": "#2a3f5f"
          },
          "geo": {
           "bgcolor": "white",
           "lakecolor": "white",
           "landcolor": "white",
           "showlakes": true,
           "showland": true,
           "subunitcolor": "#C8D4E3"
          },
          "hoverlabel": {
           "align": "left"
          },
          "hovermode": "closest",
          "mapbox": {
           "style": "light"
          },
          "paper_bgcolor": "white",
          "plot_bgcolor": "white",
          "polar": {
           "angularaxis": {
            "gridcolor": "#EBF0F8",
            "linecolor": "#EBF0F8",
            "ticks": ""
           },
           "bgcolor": "white",
           "radialaxis": {
            "gridcolor": "#EBF0F8",
            "linecolor": "#EBF0F8",
            "ticks": ""
           }
          },
          "scene": {
           "xaxis": {
            "backgroundcolor": "white",
            "gridcolor": "#DFE8F3",
            "gridwidth": 2,
            "linecolor": "#EBF0F8",
            "showbackground": true,
            "ticks": "",
            "zerolinecolor": "#EBF0F8"
           },
           "yaxis": {
            "backgroundcolor": "white",
            "gridcolor": "#DFE8F3",
            "gridwidth": 2,
            "linecolor": "#EBF0F8",
            "showbackground": true,
            "ticks": "",
            "zerolinecolor": "#EBF0F8"
           },
           "zaxis": {
            "backgroundcolor": "white",
            "gridcolor": "#DFE8F3",
            "gridwidth": 2,
            "linecolor": "#EBF0F8",
            "showbackground": true,
            "ticks": "",
            "zerolinecolor": "#EBF0F8"
           }
          },
          "shapedefaults": {
           "line": {
            "color": "#2a3f5f"
           }
          },
          "ternary": {
           "aaxis": {
            "gridcolor": "#DFE8F3",
            "linecolor": "#A2B1C6",
            "ticks": ""
           },
           "baxis": {
            "gridcolor": "#DFE8F3",
            "linecolor": "#A2B1C6",
            "ticks": ""
           },
           "bgcolor": "white",
           "caxis": {
            "gridcolor": "#DFE8F3",
            "linecolor": "#A2B1C6",
            "ticks": ""
           }
          },
          "title": {
           "x": 0.05
          },
          "xaxis": {
           "automargin": true,
           "gridcolor": "#EBF0F8",
           "linecolor": "#EBF0F8",
           "ticks": "",
           "title": {
            "standoff": 15
           },
           "zerolinecolor": "#EBF0F8",
           "zerolinewidth": 2
          },
          "yaxis": {
           "automargin": true,
           "gridcolor": "#EBF0F8",
           "linecolor": "#EBF0F8",
           "ticks": "",
           "title": {
            "standoff": 15
           },
           "zerolinecolor": "#EBF0F8",
           "zerolinewidth": 2
          }
         }
        },
        "xaxis": {
         "anchor": "y",
         "domain": [
          0.0,
          1.0
         ],
         "title": {
          "text": "Indicator"
         }
        },
        "yaxis": {
         "anchor": "x",
         "domain": [
          0.0,
          1.0
         ],
         "title": {
          "text": "Normalized indicator"
         }
        },
        "legend": {
         "title": {
          "text": "Objective function"
         },
         "tracegroupgap": 0
        },
        "margin": {
         "t": 60
        },
        "barmode": "group"
       },
       "config": {
        "plotlyServerURL": "https://plot.ly"
       }
      },
      "text/html": [
       "<div>                            <div id=\"d2f61acc-f446-402d-9c22-965fe07d1615\" class=\"plotly-graph-div\" style=\"height:525px; width:100%;\"></div>            <script type=\"text/javascript\">                require([\"plotly\"], function(Plotly) {                    window.PLOTLYENV=window.PLOTLYENV || {};                                    if (document.getElementById(\"d2f61acc-f446-402d-9c22-965fe07d1615\")) {                    Plotly.newPlot(                        \"d2f61acc-f446-402d-9c22-965fe07d1615\",                        [{\"alignmentgroup\":\"True\",\"hovertemplate\":\"Objective function=Total cost\\u003cbr\\u003eIndicator=%{x}\\u003cbr\\u003eNormalized indicator=%{y}\\u003cextra\\u003e\\u003c\\u002fextra\\u003e\",\"legendgroup\":\"Total cost\",\"marker\":{\"color\":\"#636efa\",\"pattern\":{\"shape\":\"\"}},\"name\":\"Total cost\",\"offsetgroup\":\"Total cost\",\"orientation\":\"v\",\"showlegend\":true,\"textposition\":\"auto\",\"x\":[\"Total cost\",\"Climate change, short-term\",\"Total human health\",\"Total ecosystem quality\"],\"xaxis\":\"x\",\"y\":[0.47537234158660463,1.0,1.0,1.0],\"yaxis\":\"y\",\"type\":\"bar\"},{\"alignmentgroup\":\"True\",\"hovertemplate\":\"Objective function=Climate change, short-term\\u003cbr\\u003eIndicator=%{x}\\u003cbr\\u003eNormalized indicator=%{y}\\u003cextra\\u003e\\u003c\\u002fextra\\u003e\",\"legendgroup\":\"Climate change, short-term\",\"marker\":{\"color\":\"#EF553B\",\"pattern\":{\"shape\":\"\"}},\"name\":\"Climate change, short-term\",\"offsetgroup\":\"Climate change, short-term\",\"orientation\":\"v\",\"showlegend\":true,\"textposition\":\"auto\",\"x\":[\"Total cost\",\"Climate change, short-term\",\"Total human health\",\"Total ecosystem quality\"],\"xaxis\":\"x\",\"y\":[0.5496934394988693,0.26167341656618676,0.32259131820073655,0.6974184337506321],\"yaxis\":\"y\",\"type\":\"bar\"},{\"alignmentgroup\":\"True\",\"hovertemplate\":\"Objective function=Total human health\\u003cbr\\u003eIndicator=%{x}\\u003cbr\\u003eNormalized indicator=%{y}\\u003cextra\\u003e\\u003c\\u002fextra\\u003e\",\"legendgroup\":\"Total human health\",\"marker\":{\"color\":\"#00cc96\",\"pattern\":{\"shape\":\"\"}},\"name\":\"Total human health\",\"offsetgroup\":\"Total human health\",\"orientation\":\"v\",\"showlegend\":true,\"textposition\":\"auto\",\"x\":[\"Total cost\",\"Climate change, short-term\",\"Total human health\",\"Total ecosystem quality\"],\"xaxis\":\"x\",\"y\":[0.8157807370497133,0.2651078512307597,0.3105971581645787,0.4548877059338539],\"yaxis\":\"y\",\"type\":\"bar\"},{\"alignmentgroup\":\"True\",\"hovertemplate\":\"Objective function=Total ecosystem quality\\u003cbr\\u003eIndicator=%{x}\\u003cbr\\u003eNormalized indicator=%{y}\\u003cextra\\u003e\\u003c\\u002fextra\\u003e\",\"legendgroup\":\"Total ecosystem quality\",\"marker\":{\"color\":\"#ab63fa\",\"pattern\":{\"shape\":\"\"}},\"name\":\"Total ecosystem quality\",\"offsetgroup\":\"Total ecosystem quality\",\"orientation\":\"v\",\"showlegend\":true,\"textposition\":\"auto\",\"x\":[\"Total cost\",\"Climate change, short-term\",\"Total human health\",\"Total ecosystem quality\"],\"xaxis\":\"x\",\"y\":[1.0,0.28838956618637884,0.32190367129220576,0.30903471815821876],\"yaxis\":\"y\",\"type\":\"bar\"}],                        {\"template\":{\"data\":{\"barpolar\":[{\"marker\":{\"line\":{\"color\":\"white\",\"width\":0.5},\"pattern\":{\"fillmode\":\"overlay\",\"size\":10,\"solidity\":0.2}},\"type\":\"barpolar\"}],\"bar\":[{\"error_x\":{\"color\":\"#2a3f5f\"},\"error_y\":{\"color\":\"#2a3f5f\"},\"marker\":{\"line\":{\"color\":\"white\",\"width\":0.5},\"pattern\":{\"fillmode\":\"overlay\",\"size\":10,\"solidity\":0.2}},\"type\":\"bar\"}],\"carpet\":[{\"aaxis\":{\"endlinecolor\":\"#2a3f5f\",\"gridcolor\":\"#C8D4E3\",\"linecolor\":\"#C8D4E3\",\"minorgridcolor\":\"#C8D4E3\",\"startlinecolor\":\"#2a3f5f\"},\"baxis\":{\"endlinecolor\":\"#2a3f5f\",\"gridcolor\":\"#C8D4E3\",\"linecolor\":\"#C8D4E3\",\"minorgridcolor\":\"#C8D4E3\",\"startlinecolor\":\"#2a3f5f\"},\"type\":\"carpet\"}],\"choropleth\":[{\"colorbar\":{\"outlinewidth\":0,\"ticks\":\"\"},\"type\":\"choropleth\"}],\"contourcarpet\":[{\"colorbar\":{\"outlinewidth\":0,\"ticks\":\"\"},\"type\":\"contourcarpet\"}],\"contour\":[{\"colorbar\":{\"outlinewidth\":0,\"ticks\":\"\"},\"colorscale\":[[0.0,\"#0d0887\"],[0.1111111111111111,\"#46039f\"],[0.2222222222222222,\"#7201a8\"],[0.3333333333333333,\"#9c179e\"],[0.4444444444444444,\"#bd3786\"],[0.5555555555555556,\"#d8576b\"],[0.6666666666666666,\"#ed7953\"],[0.7777777777777778,\"#fb9f3a\"],[0.8888888888888888,\"#fdca26\"],[1.0,\"#f0f921\"]],\"type\":\"contour\"}],\"heatmapgl\":[{\"colorbar\":{\"outlinewidth\":0,\"ticks\":\"\"},\"colorscale\":[[0.0,\"#0d0887\"],[0.1111111111111111,\"#46039f\"],[0.2222222222222222,\"#7201a8\"],[0.3333333333333333,\"#9c179e\"],[0.4444444444444444,\"#bd3786\"],[0.5555555555555556,\"#d8576b\"],[0.6666666666666666,\"#ed7953\"],[0.7777777777777778,\"#fb9f3a\"],[0.8888888888888888,\"#fdca26\"],[1.0,\"#f0f921\"]],\"type\":\"heatmapgl\"}],\"heatmap\":[{\"colorbar\":{\"outlinewidth\":0,\"ticks\":\"\"},\"colorscale\":[[0.0,\"#0d0887\"],[0.1111111111111111,\"#46039f\"],[0.2222222222222222,\"#7201a8\"],[0.3333333333333333,\"#9c179e\"],[0.4444444444444444,\"#bd3786\"],[0.5555555555555556,\"#d8576b\"],[0.6666666666666666,\"#ed7953\"],[0.7777777777777778,\"#fb9f3a\"],[0.8888888888888888,\"#fdca26\"],[1.0,\"#f0f921\"]],\"type\":\"heatmap\"}],\"histogram2dcontour\":[{\"colorbar\":{\"outlinewidth\":0,\"ticks\":\"\"},\"colorscale\":[[0.0,\"#0d0887\"],[0.1111111111111111,\"#46039f\"],[0.2222222222222222,\"#7201a8\"],[0.3333333333333333,\"#9c179e\"],[0.4444444444444444,\"#bd3786\"],[0.5555555555555556,\"#d8576b\"],[0.6666666666666666,\"#ed7953\"],[0.7777777777777778,\"#fb9f3a\"],[0.8888888888888888,\"#fdca26\"],[1.0,\"#f0f921\"]],\"type\":\"histogram2dcontour\"}],\"histogram2d\":[{\"colorbar\":{\"outlinewidth\":0,\"ticks\":\"\"},\"colorscale\":[[0.0,\"#0d0887\"],[0.1111111111111111,\"#46039f\"],[0.2222222222222222,\"#7201a8\"],[0.3333333333333333,\"#9c179e\"],[0.4444444444444444,\"#bd3786\"],[0.5555555555555556,\"#d8576b\"],[0.6666666666666666,\"#ed7953\"],[0.7777777777777778,\"#fb9f3a\"],[0.8888888888888888,\"#fdca26\"],[1.0,\"#f0f921\"]],\"type\":\"histogram2d\"}],\"histogram\":[{\"marker\":{\"pattern\":{\"fillmode\":\"overlay\",\"size\":10,\"solidity\":0.2}},\"type\":\"histogram\"}],\"mesh3d\":[{\"colorbar\":{\"outlinewidth\":0,\"ticks\":\"\"},\"type\":\"mesh3d\"}],\"parcoords\":[{\"line\":{\"colorbar\":{\"outlinewidth\":0,\"ticks\":\"\"}},\"type\":\"parcoords\"}],\"pie\":[{\"automargin\":true,\"type\":\"pie\"}],\"scatter3d\":[{\"line\":{\"colorbar\":{\"outlinewidth\":0,\"ticks\":\"\"}},\"marker\":{\"colorbar\":{\"outlinewidth\":0,\"ticks\":\"\"}},\"type\":\"scatter3d\"}],\"scattercarpet\":[{\"marker\":{\"colorbar\":{\"outlinewidth\":0,\"ticks\":\"\"}},\"type\":\"scattercarpet\"}],\"scattergeo\":[{\"marker\":{\"colorbar\":{\"outlinewidth\":0,\"ticks\":\"\"}},\"type\":\"scattergeo\"}],\"scattergl\":[{\"marker\":{\"colorbar\":{\"outlinewidth\":0,\"ticks\":\"\"}},\"type\":\"scattergl\"}],\"scattermapbox\":[{\"marker\":{\"colorbar\":{\"outlinewidth\":0,\"ticks\":\"\"}},\"type\":\"scattermapbox\"}],\"scatterpolargl\":[{\"marker\":{\"colorbar\":{\"outlinewidth\":0,\"ticks\":\"\"}},\"type\":\"scatterpolargl\"}],\"scatterpolar\":[{\"marker\":{\"colorbar\":{\"outlinewidth\":0,\"ticks\":\"\"}},\"type\":\"scatterpolar\"}],\"scatter\":[{\"fillpattern\":{\"fillmode\":\"overlay\",\"size\":10,\"solidity\":0.2},\"type\":\"scatter\"}],\"scatterternary\":[{\"marker\":{\"colorbar\":{\"outlinewidth\":0,\"ticks\":\"\"}},\"type\":\"scatterternary\"}],\"surface\":[{\"colorbar\":{\"outlinewidth\":0,\"ticks\":\"\"},\"colorscale\":[[0.0,\"#0d0887\"],[0.1111111111111111,\"#46039f\"],[0.2222222222222222,\"#7201a8\"],[0.3333333333333333,\"#9c179e\"],[0.4444444444444444,\"#bd3786\"],[0.5555555555555556,\"#d8576b\"],[0.6666666666666666,\"#ed7953\"],[0.7777777777777778,\"#fb9f3a\"],[0.8888888888888888,\"#fdca26\"],[1.0,\"#f0f921\"]],\"type\":\"surface\"}],\"table\":[{\"cells\":{\"fill\":{\"color\":\"#EBF0F8\"},\"line\":{\"color\":\"white\"}},\"header\":{\"fill\":{\"color\":\"#C8D4E3\"},\"line\":{\"color\":\"white\"}},\"type\":\"table\"}]},\"layout\":{\"annotationdefaults\":{\"arrowcolor\":\"#2a3f5f\",\"arrowhead\":0,\"arrowwidth\":1},\"autotypenumbers\":\"strict\",\"coloraxis\":{\"colorbar\":{\"outlinewidth\":0,\"ticks\":\"\"}},\"colorscale\":{\"diverging\":[[0,\"#8e0152\"],[0.1,\"#c51b7d\"],[0.2,\"#de77ae\"],[0.3,\"#f1b6da\"],[0.4,\"#fde0ef\"],[0.5,\"#f7f7f7\"],[0.6,\"#e6f5d0\"],[0.7,\"#b8e186\"],[0.8,\"#7fbc41\"],[0.9,\"#4d9221\"],[1,\"#276419\"]],\"sequential\":[[0.0,\"#0d0887\"],[0.1111111111111111,\"#46039f\"],[0.2222222222222222,\"#7201a8\"],[0.3333333333333333,\"#9c179e\"],[0.4444444444444444,\"#bd3786\"],[0.5555555555555556,\"#d8576b\"],[0.6666666666666666,\"#ed7953\"],[0.7777777777777778,\"#fb9f3a\"],[0.8888888888888888,\"#fdca26\"],[1.0,\"#f0f921\"]],\"sequentialminus\":[[0.0,\"#0d0887\"],[0.1111111111111111,\"#46039f\"],[0.2222222222222222,\"#7201a8\"],[0.3333333333333333,\"#9c179e\"],[0.4444444444444444,\"#bd3786\"],[0.5555555555555556,\"#d8576b\"],[0.6666666666666666,\"#ed7953\"],[0.7777777777777778,\"#fb9f3a\"],[0.8888888888888888,\"#fdca26\"],[1.0,\"#f0f921\"]]},\"colorway\":[\"#636efa\",\"#EF553B\",\"#00cc96\",\"#ab63fa\",\"#FFA15A\",\"#19d3f3\",\"#FF6692\",\"#B6E880\",\"#FF97FF\",\"#FECB52\"],\"font\":{\"color\":\"#2a3f5f\"},\"geo\":{\"bgcolor\":\"white\",\"lakecolor\":\"white\",\"landcolor\":\"white\",\"showlakes\":true,\"showland\":true,\"subunitcolor\":\"#C8D4E3\"},\"hoverlabel\":{\"align\":\"left\"},\"hovermode\":\"closest\",\"mapbox\":{\"style\":\"light\"},\"paper_bgcolor\":\"white\",\"plot_bgcolor\":\"white\",\"polar\":{\"angularaxis\":{\"gridcolor\":\"#EBF0F8\",\"linecolor\":\"#EBF0F8\",\"ticks\":\"\"},\"bgcolor\":\"white\",\"radialaxis\":{\"gridcolor\":\"#EBF0F8\",\"linecolor\":\"#EBF0F8\",\"ticks\":\"\"}},\"scene\":{\"xaxis\":{\"backgroundcolor\":\"white\",\"gridcolor\":\"#DFE8F3\",\"gridwidth\":2,\"linecolor\":\"#EBF0F8\",\"showbackground\":true,\"ticks\":\"\",\"zerolinecolor\":\"#EBF0F8\"},\"yaxis\":{\"backgroundcolor\":\"white\",\"gridcolor\":\"#DFE8F3\",\"gridwidth\":2,\"linecolor\":\"#EBF0F8\",\"showbackground\":true,\"ticks\":\"\",\"zerolinecolor\":\"#EBF0F8\"},\"zaxis\":{\"backgroundcolor\":\"white\",\"gridcolor\":\"#DFE8F3\",\"gridwidth\":2,\"linecolor\":\"#EBF0F8\",\"showbackground\":true,\"ticks\":\"\",\"zerolinecolor\":\"#EBF0F8\"}},\"shapedefaults\":{\"line\":{\"color\":\"#2a3f5f\"}},\"ternary\":{\"aaxis\":{\"gridcolor\":\"#DFE8F3\",\"linecolor\":\"#A2B1C6\",\"ticks\":\"\"},\"baxis\":{\"gridcolor\":\"#DFE8F3\",\"linecolor\":\"#A2B1C6\",\"ticks\":\"\"},\"bgcolor\":\"white\",\"caxis\":{\"gridcolor\":\"#DFE8F3\",\"linecolor\":\"#A2B1C6\",\"ticks\":\"\"}},\"title\":{\"x\":0.05},\"xaxis\":{\"automargin\":true,\"gridcolor\":\"#EBF0F8\",\"linecolor\":\"#EBF0F8\",\"ticks\":\"\",\"title\":{\"standoff\":15},\"zerolinecolor\":\"#EBF0F8\",\"zerolinewidth\":2},\"yaxis\":{\"automargin\":true,\"gridcolor\":\"#EBF0F8\",\"linecolor\":\"#EBF0F8\",\"ticks\":\"\",\"title\":{\"standoff\":15},\"zerolinecolor\":\"#EBF0F8\",\"zerolinewidth\":2}}},\"xaxis\":{\"anchor\":\"y\",\"domain\":[0.0,1.0],\"title\":{\"text\":\"Indicator\"}},\"yaxis\":{\"anchor\":\"x\",\"domain\":[0.0,1.0],\"title\":{\"text\":\"Normalized indicator\"}},\"legend\":{\"title\":{\"text\":\"Objective function\"},\"tracegroupgap\":0},\"margin\":{\"t\":60},\"barmode\":\"group\"},                        {\"responsive\": true}                    ).then(function(){\n",
       "                            \n",
       "var gd = document.getElementById('d2f61acc-f446-402d-9c22-965fe07d1615');\n",
       "var x = new MutationObserver(function (mutations, observer) {{\n",
       "        var display = window.getComputedStyle(gd).display;\n",
       "        if (!display || display === 'none') {{\n",
       "            console.log([gd, 'removed!']);\n",
       "            Plotly.purge(gd);\n",
       "            observer.disconnect();\n",
       "        }}\n",
       "}});\n",
       "\n",
       "// Listen for the removal of the full notebook cells\n",
       "var notebookContainer = gd.closest('#notebook-container');\n",
       "if (notebookContainer) {{\n",
       "    x.observe(notebookContainer, {childList: true});\n",
       "}}\n",
       "\n",
       "// Listen for the clearing of the current output cell\n",
       "var outputEl = gd.closest('.output');\n",
       "if (outputEl) {{\n",
       "    x.observe(outputEl, {childList: true});\n",
       "}}\n",
       "\n",
       "                        })                };                });            </script>        </div>"
      ]
     },
     "metadata": {},
     "output_type": "display_data"
    }
   ],
   "execution_count": 38
  },
  {
   "metadata": {
    "ExecuteTime": {
     "end_time": "2025-05-12T16:29:49.417544Z",
     "start_time": "2025-05-12T16:29:48.888692Z"
    }
   },
   "cell_type": "code",
   "source": [
    "plot_technologies_contribution(\n",
    "    cat='Total human health',\n",
    "    esm_results_f_mult=esm_results_f_mult,\n",
    "    esm_results_annual_prod=esm_results_annual_prod,\n",
    "    esm_results_annual_res=esm_results_annual_res,\n",
    "    tech_to_show_list=tech_to_show_list,\n",
    ")"
   ],
   "id": "c323d817cc559be3",
   "outputs": [
    {
     "data": {
      "application/vnd.plotly.v1+json": {
       "data": [
        {
         "alignmentgroup": "True",
         "hovertemplate": "Energy technology or resource=Battery<br>Objective function=%{x}<br>Total human health=%{y}<extra></extra>",
         "legendgroup": "Battery",
         "marker": {
          "color": "#9467bd",
          "pattern": {
           "shape": ""
          }
         },
         "name": "Battery",
         "offsetgroup": "Battery",
         "orientation": "v",
         "showlegend": true,
         "textposition": "auto",
         "x": [
          "Total cost",
          "Total ecosystem quality",
          "Total human health",
          "Climate change, short-term"
         ],
         "xaxis": "x",
         "y": [
          1.1952960633494037E-5,
          2.8946489653771404E-5,
          2.7193552302975593E-5,
          2.456065788804846E-5
         ],
         "yaxis": "y",
         "type": "bar"
        },
        {
         "alignmentgroup": "True",
         "hovertemplate": "Energy technology or resource=Combined cycle gas turbine<br>Objective function=%{x}<br>Total human health=%{y}<extra></extra>",
         "legendgroup": "Combined cycle gas turbine",
         "marker": {
          "color": "#b0b0b0",
          "pattern": {
           "shape": ""
          }
         },
         "name": "Combined cycle gas turbine",
         "offsetgroup": "Combined cycle gas turbine",
         "orientation": "v",
         "showlegend": true,
         "textposition": "auto",
         "x": [
          "Total cost",
          "Total ecosystem quality",
          "Total human health",
          "Climate change, short-term"
         ],
         "xaxis": "x",
         "y": [
          0.0025745968746320015,
          0.0,
          0.0,
          0.0
         ],
         "yaxis": "y",
         "type": "bar"
        },
        {
         "alignmentgroup": "True",
         "hovertemplate": "Energy technology or resource=Combined cycle gas turbine with carbon capture and storage<br>Objective function=%{x}<br>Total human health=%{y}<extra></extra>",
         "legendgroup": "Combined cycle gas turbine with carbon capture and storage",
         "marker": {
          "color": "#d3d3d3",
          "pattern": {
           "shape": ""
          }
         },
         "name": "Combined cycle gas turbine with carbon capture and storage",
         "offsetgroup": "Combined cycle gas turbine with carbon capture and storage",
         "orientation": "v",
         "showlegend": true,
         "textposition": "auto",
         "x": [
          "Total cost",
          "Total ecosystem quality",
          "Total human health",
          "Climate change, short-term"
         ],
         "xaxis": "x",
         "y": [
          0.0,
          1.9493995853235943E-4,
          1.49773975362626E-4,
          1.244456065560804E-4
         ],
         "yaxis": "y",
         "type": "bar"
        },
        {
         "alignmentgroup": "True",
         "hovertemplate": "Energy technology or resource=Coal<br>Objective function=%{x}<br>Total human health=%{y}<extra></extra>",
         "legendgroup": "Coal",
         "marker": {
          "color": "#8c564b",
          "pattern": {
           "shape": ""
          }
         },
         "name": "Coal",
         "offsetgroup": "Coal",
         "orientation": "v",
         "showlegend": true,
         "textposition": "auto",
         "x": [
          "Total cost",
          "Total ecosystem quality",
          "Total human health",
          "Climate change, short-term"
         ],
         "xaxis": "x",
         "y": [
          0.0,
          0.0,
          0.0,
          0.0
         ],
         "yaxis": "y",
         "type": "bar"
        },
        {
         "alignmentgroup": "True",
         "hovertemplate": "Energy technology or resource=Integrated gasification combined cycle<br>Objective function=%{x}<br>Total human health=%{y}<extra></extra>",
         "legendgroup": "Integrated gasification combined cycle",
         "marker": {
          "color": "#d62728",
          "pattern": {
           "shape": ""
          }
         },
         "name": "Integrated gasification combined cycle",
         "offsetgroup": "Integrated gasification combined cycle",
         "orientation": "v",
         "showlegend": true,
         "textposition": "auto",
         "x": [
          "Total cost",
          "Total ecosystem quality",
          "Total human health",
          "Climate change, short-term"
         ],
         "xaxis": "x",
         "y": [
          0.0,
          0.0,
          0.0,
          0.0
         ],
         "yaxis": "y",
         "type": "bar"
        },
        {
         "alignmentgroup": "True",
         "hovertemplate": "Energy technology or resource=Integrated gasification combined cycle with carbon capture and storage<br>Objective function=%{x}<br>Total human health=%{y}<extra></extra>",
         "legendgroup": "Integrated gasification combined cycle with carbon capture and storage",
         "marker": {
          "color": "#ff9896",
          "pattern": {
           "shape": ""
          }
         },
         "name": "Integrated gasification combined cycle with carbon capture and storage",
         "offsetgroup": "Integrated gasification combined cycle with carbon capture and storage",
         "orientation": "v",
         "showlegend": true,
         "textposition": "auto",
         "x": [
          "Total cost",
          "Total ecosystem quality",
          "Total human health",
          "Climate change, short-term"
         ],
         "xaxis": "x",
         "y": [
          0.0,
          0.0,
          0.0,
          0.0
         ],
         "yaxis": "y",
         "type": "bar"
        },
        {
         "alignmentgroup": "True",
         "hovertemplate": "Energy technology or resource=Natural gas<br>Objective function=%{x}<br>Total human health=%{y}<extra></extra>",
         "legendgroup": "Natural gas",
         "marker": {
          "color": "#505050",
          "pattern": {
           "shape": ""
          }
         },
         "name": "Natural gas",
         "offsetgroup": "Natural gas",
         "orientation": "v",
         "showlegend": true,
         "textposition": "auto",
         "x": [
          "Total cost",
          "Total ecosystem quality",
          "Total human health",
          "Climate change, short-term"
         ],
         "xaxis": "x",
         "y": [
          5.049153814211354E-4,
          2.289835108890521E-4,
          1.72102166564126E-4,
          1.429978636531047E-4
         ],
         "yaxis": "y",
         "type": "bar"
        },
        {
         "alignmentgroup": "True",
         "hovertemplate": "Energy technology or resource=Nuclear<br>Objective function=%{x}<br>Total human health=%{y}<extra></extra>",
         "legendgroup": "Nuclear",
         "marker": {
          "color": "#2ca02c",
          "pattern": {
           "shape": ""
          }
         },
         "name": "Nuclear",
         "offsetgroup": "Nuclear",
         "orientation": "v",
         "showlegend": true,
         "textposition": "auto",
         "x": [
          "Total cost",
          "Total ecosystem quality",
          "Total human health",
          "Climate change, short-term"
         ],
         "xaxis": "x",
         "y": [
          0.0,
          0.0,
          0.0,
          0.0
         ],
         "yaxis": "y",
         "type": "bar"
        },
        {
         "alignmentgroup": "True",
         "hovertemplate": "Energy technology or resource=Photovoltaic<br>Objective function=%{x}<br>Total human health=%{y}<extra></extra>",
         "legendgroup": "Photovoltaic",
         "marker": {
          "color": "#ff7f0e",
          "pattern": {
           "shape": ""
          }
         },
         "name": "Photovoltaic",
         "offsetgroup": "Photovoltaic",
         "orientation": "v",
         "showlegend": true,
         "textposition": "auto",
         "x": [
          "Total cost",
          "Total ecosystem quality",
          "Total human health",
          "Climate change, short-term"
         ],
         "xaxis": "x",
         "y": [
          4.0715969488662094E-4,
          0.0,
          3.3438267510729866E-4,
          8.366213091733088E-4
         ],
         "yaxis": "y",
         "type": "bar"
        },
        {
         "alignmentgroup": "True",
         "hovertemplate": "Energy technology or resource=Uranium<br>Objective function=%{x}<br>Total human health=%{y}<extra></extra>",
         "legendgroup": "Uranium",
         "marker": {
          "color": "#98df8a",
          "pattern": {
           "shape": ""
          }
         },
         "name": "Uranium",
         "offsetgroup": "Uranium",
         "orientation": "v",
         "showlegend": true,
         "textposition": "auto",
         "x": [
          "Total cost",
          "Total ecosystem quality",
          "Total human health",
          "Climate change, short-term"
         ],
         "xaxis": "x",
         "y": [
          0.0,
          0.0,
          0.0,
          0.0
         ],
         "yaxis": "y",
         "type": "bar"
        },
        {
         "alignmentgroup": "True",
         "hovertemplate": "Energy technology or resource=Onshore wind<br>Objective function=%{x}<br>Total human health=%{y}<extra></extra>",
         "legendgroup": "Onshore wind",
         "marker": {
          "color": "#1f77b4",
          "pattern": {
           "shape": ""
          }
         },
         "name": "Onshore wind",
         "offsetgroup": "Onshore wind",
         "orientation": "v",
         "showlegend": true,
         "textposition": "auto",
         "x": [
          "Total cost",
          "Total ecosystem quality",
          "Total human health",
          "Climate change, short-term"
         ],
         "xaxis": "x",
         "y": [
          0.0,
          6.73347000538101E-4,
          4.032087332945231E-4,
          0.0
         ],
         "yaxis": "y",
         "type": "bar"
        }
       ],
       "layout": {
        "template": {
         "data": {
          "barpolar": [
           {
            "marker": {
             "line": {
              "color": "white",
              "width": 0.5
             },
             "pattern": {
              "fillmode": "overlay",
              "size": 10,
              "solidity": 0.2
             }
            },
            "type": "barpolar"
           }
          ],
          "bar": [
           {
            "error_x": {
             "color": "#2a3f5f"
            },
            "error_y": {
             "color": "#2a3f5f"
            },
            "marker": {
             "line": {
              "color": "white",
              "width": 0.5
             },
             "pattern": {
              "fillmode": "overlay",
              "size": 10,
              "solidity": 0.2
             }
            },
            "type": "bar"
           }
          ],
          "carpet": [
           {
            "aaxis": {
             "endlinecolor": "#2a3f5f",
             "gridcolor": "#C8D4E3",
             "linecolor": "#C8D4E3",
             "minorgridcolor": "#C8D4E3",
             "startlinecolor": "#2a3f5f"
            },
            "baxis": {
             "endlinecolor": "#2a3f5f",
             "gridcolor": "#C8D4E3",
             "linecolor": "#C8D4E3",
             "minorgridcolor": "#C8D4E3",
             "startlinecolor": "#2a3f5f"
            },
            "type": "carpet"
           }
          ],
          "choropleth": [
           {
            "colorbar": {
             "outlinewidth": 0,
             "ticks": ""
            },
            "type": "choropleth"
           }
          ],
          "contourcarpet": [
           {
            "colorbar": {
             "outlinewidth": 0,
             "ticks": ""
            },
            "type": "contourcarpet"
           }
          ],
          "contour": [
           {
            "colorbar": {
             "outlinewidth": 0,
             "ticks": ""
            },
            "colorscale": [
             [
              0.0,
              "#0d0887"
             ],
             [
              0.1111111111111111,
              "#46039f"
             ],
             [
              0.2222222222222222,
              "#7201a8"
             ],
             [
              0.3333333333333333,
              "#9c179e"
             ],
             [
              0.4444444444444444,
              "#bd3786"
             ],
             [
              0.5555555555555556,
              "#d8576b"
             ],
             [
              0.6666666666666666,
              "#ed7953"
             ],
             [
              0.7777777777777778,
              "#fb9f3a"
             ],
             [
              0.8888888888888888,
              "#fdca26"
             ],
             [
              1.0,
              "#f0f921"
             ]
            ],
            "type": "contour"
           }
          ],
          "heatmapgl": [
           {
            "colorbar": {
             "outlinewidth": 0,
             "ticks": ""
            },
            "colorscale": [
             [
              0.0,
              "#0d0887"
             ],
             [
              0.1111111111111111,
              "#46039f"
             ],
             [
              0.2222222222222222,
              "#7201a8"
             ],
             [
              0.3333333333333333,
              "#9c179e"
             ],
             [
              0.4444444444444444,
              "#bd3786"
             ],
             [
              0.5555555555555556,
              "#d8576b"
             ],
             [
              0.6666666666666666,
              "#ed7953"
             ],
             [
              0.7777777777777778,
              "#fb9f3a"
             ],
             [
              0.8888888888888888,
              "#fdca26"
             ],
             [
              1.0,
              "#f0f921"
             ]
            ],
            "type": "heatmapgl"
           }
          ],
          "heatmap": [
           {
            "colorbar": {
             "outlinewidth": 0,
             "ticks": ""
            },
            "colorscale": [
             [
              0.0,
              "#0d0887"
             ],
             [
              0.1111111111111111,
              "#46039f"
             ],
             [
              0.2222222222222222,
              "#7201a8"
             ],
             [
              0.3333333333333333,
              "#9c179e"
             ],
             [
              0.4444444444444444,
              "#bd3786"
             ],
             [
              0.5555555555555556,
              "#d8576b"
             ],
             [
              0.6666666666666666,
              "#ed7953"
             ],
             [
              0.7777777777777778,
              "#fb9f3a"
             ],
             [
              0.8888888888888888,
              "#fdca26"
             ],
             [
              1.0,
              "#f0f921"
             ]
            ],
            "type": "heatmap"
           }
          ],
          "histogram2dcontour": [
           {
            "colorbar": {
             "outlinewidth": 0,
             "ticks": ""
            },
            "colorscale": [
             [
              0.0,
              "#0d0887"
             ],
             [
              0.1111111111111111,
              "#46039f"
             ],
             [
              0.2222222222222222,
              "#7201a8"
             ],
             [
              0.3333333333333333,
              "#9c179e"
             ],
             [
              0.4444444444444444,
              "#bd3786"
             ],
             [
              0.5555555555555556,
              "#d8576b"
             ],
             [
              0.6666666666666666,
              "#ed7953"
             ],
             [
              0.7777777777777778,
              "#fb9f3a"
             ],
             [
              0.8888888888888888,
              "#fdca26"
             ],
             [
              1.0,
              "#f0f921"
             ]
            ],
            "type": "histogram2dcontour"
           }
          ],
          "histogram2d": [
           {
            "colorbar": {
             "outlinewidth": 0,
             "ticks": ""
            },
            "colorscale": [
             [
              0.0,
              "#0d0887"
             ],
             [
              0.1111111111111111,
              "#46039f"
             ],
             [
              0.2222222222222222,
              "#7201a8"
             ],
             [
              0.3333333333333333,
              "#9c179e"
             ],
             [
              0.4444444444444444,
              "#bd3786"
             ],
             [
              0.5555555555555556,
              "#d8576b"
             ],
             [
              0.6666666666666666,
              "#ed7953"
             ],
             [
              0.7777777777777778,
              "#fb9f3a"
             ],
             [
              0.8888888888888888,
              "#fdca26"
             ],
             [
              1.0,
              "#f0f921"
             ]
            ],
            "type": "histogram2d"
           }
          ],
          "histogram": [
           {
            "marker": {
             "pattern": {
              "fillmode": "overlay",
              "size": 10,
              "solidity": 0.2
             }
            },
            "type": "histogram"
           }
          ],
          "mesh3d": [
           {
            "colorbar": {
             "outlinewidth": 0,
             "ticks": ""
            },
            "type": "mesh3d"
           }
          ],
          "parcoords": [
           {
            "line": {
             "colorbar": {
              "outlinewidth": 0,
              "ticks": ""
             }
            },
            "type": "parcoords"
           }
          ],
          "pie": [
           {
            "automargin": true,
            "type": "pie"
           }
          ],
          "scatter3d": [
           {
            "line": {
             "colorbar": {
              "outlinewidth": 0,
              "ticks": ""
             }
            },
            "marker": {
             "colorbar": {
              "outlinewidth": 0,
              "ticks": ""
             }
            },
            "type": "scatter3d"
           }
          ],
          "scattercarpet": [
           {
            "marker": {
             "colorbar": {
              "outlinewidth": 0,
              "ticks": ""
             }
            },
            "type": "scattercarpet"
           }
          ],
          "scattergeo": [
           {
            "marker": {
             "colorbar": {
              "outlinewidth": 0,
              "ticks": ""
             }
            },
            "type": "scattergeo"
           }
          ],
          "scattergl": [
           {
            "marker": {
             "colorbar": {
              "outlinewidth": 0,
              "ticks": ""
             }
            },
            "type": "scattergl"
           }
          ],
          "scattermapbox": [
           {
            "marker": {
             "colorbar": {
              "outlinewidth": 0,
              "ticks": ""
             }
            },
            "type": "scattermapbox"
           }
          ],
          "scatterpolargl": [
           {
            "marker": {
             "colorbar": {
              "outlinewidth": 0,
              "ticks": ""
             }
            },
            "type": "scatterpolargl"
           }
          ],
          "scatterpolar": [
           {
            "marker": {
             "colorbar": {
              "outlinewidth": 0,
              "ticks": ""
             }
            },
            "type": "scatterpolar"
           }
          ],
          "scatter": [
           {
            "fillpattern": {
             "fillmode": "overlay",
             "size": 10,
             "solidity": 0.2
            },
            "type": "scatter"
           }
          ],
          "scatterternary": [
           {
            "marker": {
             "colorbar": {
              "outlinewidth": 0,
              "ticks": ""
             }
            },
            "type": "scatterternary"
           }
          ],
          "surface": [
           {
            "colorbar": {
             "outlinewidth": 0,
             "ticks": ""
            },
            "colorscale": [
             [
              0.0,
              "#0d0887"
             ],
             [
              0.1111111111111111,
              "#46039f"
             ],
             [
              0.2222222222222222,
              "#7201a8"
             ],
             [
              0.3333333333333333,
              "#9c179e"
             ],
             [
              0.4444444444444444,
              "#bd3786"
             ],
             [
              0.5555555555555556,
              "#d8576b"
             ],
             [
              0.6666666666666666,
              "#ed7953"
             ],
             [
              0.7777777777777778,
              "#fb9f3a"
             ],
             [
              0.8888888888888888,
              "#fdca26"
             ],
             [
              1.0,
              "#f0f921"
             ]
            ],
            "type": "surface"
           }
          ],
          "table": [
           {
            "cells": {
             "fill": {
              "color": "#EBF0F8"
             },
             "line": {
              "color": "white"
             }
            },
            "header": {
             "fill": {
              "color": "#C8D4E3"
             },
             "line": {
              "color": "white"
             }
            },
            "type": "table"
           }
          ]
         },
         "layout": {
          "annotationdefaults": {
           "arrowcolor": "#2a3f5f",
           "arrowhead": 0,
           "arrowwidth": 1
          },
          "autotypenumbers": "strict",
          "coloraxis": {
           "colorbar": {
            "outlinewidth": 0,
            "ticks": ""
           }
          },
          "colorscale": {
           "diverging": [
            [
             0,
             "#8e0152"
            ],
            [
             0.1,
             "#c51b7d"
            ],
            [
             0.2,
             "#de77ae"
            ],
            [
             0.3,
             "#f1b6da"
            ],
            [
             0.4,
             "#fde0ef"
            ],
            [
             0.5,
             "#f7f7f7"
            ],
            [
             0.6,
             "#e6f5d0"
            ],
            [
             0.7,
             "#b8e186"
            ],
            [
             0.8,
             "#7fbc41"
            ],
            [
             0.9,
             "#4d9221"
            ],
            [
             1,
             "#276419"
            ]
           ],
           "sequential": [
            [
             0.0,
             "#0d0887"
            ],
            [
             0.1111111111111111,
             "#46039f"
            ],
            [
             0.2222222222222222,
             "#7201a8"
            ],
            [
             0.3333333333333333,
             "#9c179e"
            ],
            [
             0.4444444444444444,
             "#bd3786"
            ],
            [
             0.5555555555555556,
             "#d8576b"
            ],
            [
             0.6666666666666666,
             "#ed7953"
            ],
            [
             0.7777777777777778,
             "#fb9f3a"
            ],
            [
             0.8888888888888888,
             "#fdca26"
            ],
            [
             1.0,
             "#f0f921"
            ]
           ],
           "sequentialminus": [
            [
             0.0,
             "#0d0887"
            ],
            [
             0.1111111111111111,
             "#46039f"
            ],
            [
             0.2222222222222222,
             "#7201a8"
            ],
            [
             0.3333333333333333,
             "#9c179e"
            ],
            [
             0.4444444444444444,
             "#bd3786"
            ],
            [
             0.5555555555555556,
             "#d8576b"
            ],
            [
             0.6666666666666666,
             "#ed7953"
            ],
            [
             0.7777777777777778,
             "#fb9f3a"
            ],
            [
             0.8888888888888888,
             "#fdca26"
            ],
            [
             1.0,
             "#f0f921"
            ]
           ]
          },
          "colorway": [
           "#636efa",
           "#EF553B",
           "#00cc96",
           "#ab63fa",
           "#FFA15A",
           "#19d3f3",
           "#FF6692",
           "#B6E880",
           "#FF97FF",
           "#FECB52"
          ],
          "font": {
           "color": "#2a3f5f"
          },
          "geo": {
           "bgcolor": "white",
           "lakecolor": "white",
           "landcolor": "white",
           "showlakes": true,
           "showland": true,
           "subunitcolor": "#C8D4E3"
          },
          "hoverlabel": {
           "align": "left"
          },
          "hovermode": "closest",
          "mapbox": {
           "style": "light"
          },
          "paper_bgcolor": "white",
          "plot_bgcolor": "white",
          "polar": {
           "angularaxis": {
            "gridcolor": "#EBF0F8",
            "linecolor": "#EBF0F8",
            "ticks": ""
           },
           "bgcolor": "white",
           "radialaxis": {
            "gridcolor": "#EBF0F8",
            "linecolor": "#EBF0F8",
            "ticks": ""
           }
          },
          "scene": {
           "xaxis": {
            "backgroundcolor": "white",
            "gridcolor": "#DFE8F3",
            "gridwidth": 2,
            "linecolor": "#EBF0F8",
            "showbackground": true,
            "ticks": "",
            "zerolinecolor": "#EBF0F8"
           },
           "yaxis": {
            "backgroundcolor": "white",
            "gridcolor": "#DFE8F3",
            "gridwidth": 2,
            "linecolor": "#EBF0F8",
            "showbackground": true,
            "ticks": "",
            "zerolinecolor": "#EBF0F8"
           },
           "zaxis": {
            "backgroundcolor": "white",
            "gridcolor": "#DFE8F3",
            "gridwidth": 2,
            "linecolor": "#EBF0F8",
            "showbackground": true,
            "ticks": "",
            "zerolinecolor": "#EBF0F8"
           }
          },
          "shapedefaults": {
           "line": {
            "color": "#2a3f5f"
           }
          },
          "ternary": {
           "aaxis": {
            "gridcolor": "#DFE8F3",
            "linecolor": "#A2B1C6",
            "ticks": ""
           },
           "baxis": {
            "gridcolor": "#DFE8F3",
            "linecolor": "#A2B1C6",
            "ticks": ""
           },
           "bgcolor": "white",
           "caxis": {
            "gridcolor": "#DFE8F3",
            "linecolor": "#A2B1C6",
            "ticks": ""
           }
          },
          "title": {
           "x": 0.05
          },
          "xaxis": {
           "automargin": true,
           "gridcolor": "#EBF0F8",
           "linecolor": "#EBF0F8",
           "ticks": "",
           "title": {
            "standoff": 15
           },
           "zerolinecolor": "#EBF0F8",
           "zerolinewidth": 2
          },
          "yaxis": {
           "automargin": true,
           "gridcolor": "#EBF0F8",
           "linecolor": "#EBF0F8",
           "ticks": "",
           "title": {
            "standoff": 15
           },
           "zerolinecolor": "#EBF0F8",
           "zerolinewidth": 2
          }
         }
        },
        "xaxis": {
         "anchor": "y",
         "domain": [
          0.0,
          1.0
         ],
         "title": {
          "text": "Objective function"
         }
        },
        "yaxis": {
         "anchor": "x",
         "domain": [
          0.0,
          1.0
         ],
         "title": {
          "text": "Total human health"
         }
        },
        "legend": {
         "title": {
          "text": "Energy technology or resource"
         },
         "tracegroupgap": 0
        },
        "margin": {
         "t": 60
        },
        "barmode": "stack"
       },
       "config": {
        "plotlyServerURL": "https://plot.ly"
       }
      },
      "text/html": [
       "<div>                            <div id=\"06eba418-f617-4030-8e99-2a8594d75226\" class=\"plotly-graph-div\" style=\"height:525px; width:100%;\"></div>            <script type=\"text/javascript\">                require([\"plotly\"], function(Plotly) {                    window.PLOTLYENV=window.PLOTLYENV || {};                                    if (document.getElementById(\"06eba418-f617-4030-8e99-2a8594d75226\")) {                    Plotly.newPlot(                        \"06eba418-f617-4030-8e99-2a8594d75226\",                        [{\"alignmentgroup\":\"True\",\"hovertemplate\":\"Energy technology or resource=Battery\\u003cbr\\u003eObjective function=%{x}\\u003cbr\\u003eTotal human health=%{y}\\u003cextra\\u003e\\u003c\\u002fextra\\u003e\",\"legendgroup\":\"Battery\",\"marker\":{\"color\":\"#9467bd\",\"pattern\":{\"shape\":\"\"}},\"name\":\"Battery\",\"offsetgroup\":\"Battery\",\"orientation\":\"v\",\"showlegend\":true,\"textposition\":\"auto\",\"x\":[\"Total cost\",\"Total ecosystem quality\",\"Total human health\",\"Climate change, short-term\"],\"xaxis\":\"x\",\"y\":[1.1952960633494037e-05,2.8946489653771404e-05,2.7193552302975593e-05,2.456065788804846e-05],\"yaxis\":\"y\",\"type\":\"bar\"},{\"alignmentgroup\":\"True\",\"hovertemplate\":\"Energy technology or resource=Combined cycle gas turbine\\u003cbr\\u003eObjective function=%{x}\\u003cbr\\u003eTotal human health=%{y}\\u003cextra\\u003e\\u003c\\u002fextra\\u003e\",\"legendgroup\":\"Combined cycle gas turbine\",\"marker\":{\"color\":\"#b0b0b0\",\"pattern\":{\"shape\":\"\"}},\"name\":\"Combined cycle gas turbine\",\"offsetgroup\":\"Combined cycle gas turbine\",\"orientation\":\"v\",\"showlegend\":true,\"textposition\":\"auto\",\"x\":[\"Total cost\",\"Total ecosystem quality\",\"Total human health\",\"Climate change, short-term\"],\"xaxis\":\"x\",\"y\":[0.0025745968746320015,0.0,0.0,0.0],\"yaxis\":\"y\",\"type\":\"bar\"},{\"alignmentgroup\":\"True\",\"hovertemplate\":\"Energy technology or resource=Combined cycle gas turbine with carbon capture and storage\\u003cbr\\u003eObjective function=%{x}\\u003cbr\\u003eTotal human health=%{y}\\u003cextra\\u003e\\u003c\\u002fextra\\u003e\",\"legendgroup\":\"Combined cycle gas turbine with carbon capture and storage\",\"marker\":{\"color\":\"#d3d3d3\",\"pattern\":{\"shape\":\"\"}},\"name\":\"Combined cycle gas turbine with carbon capture and storage\",\"offsetgroup\":\"Combined cycle gas turbine with carbon capture and storage\",\"orientation\":\"v\",\"showlegend\":true,\"textposition\":\"auto\",\"x\":[\"Total cost\",\"Total ecosystem quality\",\"Total human health\",\"Climate change, short-term\"],\"xaxis\":\"x\",\"y\":[0.0,0.00019493995853235943,0.000149773975362626,0.0001244456065560804],\"yaxis\":\"y\",\"type\":\"bar\"},{\"alignmentgroup\":\"True\",\"hovertemplate\":\"Energy technology or resource=Coal\\u003cbr\\u003eObjective function=%{x}\\u003cbr\\u003eTotal human health=%{y}\\u003cextra\\u003e\\u003c\\u002fextra\\u003e\",\"legendgroup\":\"Coal\",\"marker\":{\"color\":\"#8c564b\",\"pattern\":{\"shape\":\"\"}},\"name\":\"Coal\",\"offsetgroup\":\"Coal\",\"orientation\":\"v\",\"showlegend\":true,\"textposition\":\"auto\",\"x\":[\"Total cost\",\"Total ecosystem quality\",\"Total human health\",\"Climate change, short-term\"],\"xaxis\":\"x\",\"y\":[0.0,0.0,0.0,0.0],\"yaxis\":\"y\",\"type\":\"bar\"},{\"alignmentgroup\":\"True\",\"hovertemplate\":\"Energy technology or resource=Integrated gasification combined cycle\\u003cbr\\u003eObjective function=%{x}\\u003cbr\\u003eTotal human health=%{y}\\u003cextra\\u003e\\u003c\\u002fextra\\u003e\",\"legendgroup\":\"Integrated gasification combined cycle\",\"marker\":{\"color\":\"#d62728\",\"pattern\":{\"shape\":\"\"}},\"name\":\"Integrated gasification combined cycle\",\"offsetgroup\":\"Integrated gasification combined cycle\",\"orientation\":\"v\",\"showlegend\":true,\"textposition\":\"auto\",\"x\":[\"Total cost\",\"Total ecosystem quality\",\"Total human health\",\"Climate change, short-term\"],\"xaxis\":\"x\",\"y\":[0.0,0.0,0.0,0.0],\"yaxis\":\"y\",\"type\":\"bar\"},{\"alignmentgroup\":\"True\",\"hovertemplate\":\"Energy technology or resource=Integrated gasification combined cycle with carbon capture and storage\\u003cbr\\u003eObjective function=%{x}\\u003cbr\\u003eTotal human health=%{y}\\u003cextra\\u003e\\u003c\\u002fextra\\u003e\",\"legendgroup\":\"Integrated gasification combined cycle with carbon capture and storage\",\"marker\":{\"color\":\"#ff9896\",\"pattern\":{\"shape\":\"\"}},\"name\":\"Integrated gasification combined cycle with carbon capture and storage\",\"offsetgroup\":\"Integrated gasification combined cycle with carbon capture and storage\",\"orientation\":\"v\",\"showlegend\":true,\"textposition\":\"auto\",\"x\":[\"Total cost\",\"Total ecosystem quality\",\"Total human health\",\"Climate change, short-term\"],\"xaxis\":\"x\",\"y\":[0.0,0.0,0.0,0.0],\"yaxis\":\"y\",\"type\":\"bar\"},{\"alignmentgroup\":\"True\",\"hovertemplate\":\"Energy technology or resource=Natural gas\\u003cbr\\u003eObjective function=%{x}\\u003cbr\\u003eTotal human health=%{y}\\u003cextra\\u003e\\u003c\\u002fextra\\u003e\",\"legendgroup\":\"Natural gas\",\"marker\":{\"color\":\"#505050\",\"pattern\":{\"shape\":\"\"}},\"name\":\"Natural gas\",\"offsetgroup\":\"Natural gas\",\"orientation\":\"v\",\"showlegend\":true,\"textposition\":\"auto\",\"x\":[\"Total cost\",\"Total ecosystem quality\",\"Total human health\",\"Climate change, short-term\"],\"xaxis\":\"x\",\"y\":[0.0005049153814211354,0.0002289835108890521,0.000172102166564126,0.0001429978636531047],\"yaxis\":\"y\",\"type\":\"bar\"},{\"alignmentgroup\":\"True\",\"hovertemplate\":\"Energy technology or resource=Nuclear\\u003cbr\\u003eObjective function=%{x}\\u003cbr\\u003eTotal human health=%{y}\\u003cextra\\u003e\\u003c\\u002fextra\\u003e\",\"legendgroup\":\"Nuclear\",\"marker\":{\"color\":\"#2ca02c\",\"pattern\":{\"shape\":\"\"}},\"name\":\"Nuclear\",\"offsetgroup\":\"Nuclear\",\"orientation\":\"v\",\"showlegend\":true,\"textposition\":\"auto\",\"x\":[\"Total cost\",\"Total ecosystem quality\",\"Total human health\",\"Climate change, short-term\"],\"xaxis\":\"x\",\"y\":[0.0,0.0,0.0,0.0],\"yaxis\":\"y\",\"type\":\"bar\"},{\"alignmentgroup\":\"True\",\"hovertemplate\":\"Energy technology or resource=Photovoltaic\\u003cbr\\u003eObjective function=%{x}\\u003cbr\\u003eTotal human health=%{y}\\u003cextra\\u003e\\u003c\\u002fextra\\u003e\",\"legendgroup\":\"Photovoltaic\",\"marker\":{\"color\":\"#ff7f0e\",\"pattern\":{\"shape\":\"\"}},\"name\":\"Photovoltaic\",\"offsetgroup\":\"Photovoltaic\",\"orientation\":\"v\",\"showlegend\":true,\"textposition\":\"auto\",\"x\":[\"Total cost\",\"Total ecosystem quality\",\"Total human health\",\"Climate change, short-term\"],\"xaxis\":\"x\",\"y\":[0.00040715969488662094,0.0,0.00033438267510729866,0.0008366213091733088],\"yaxis\":\"y\",\"type\":\"bar\"},{\"alignmentgroup\":\"True\",\"hovertemplate\":\"Energy technology or resource=Uranium\\u003cbr\\u003eObjective function=%{x}\\u003cbr\\u003eTotal human health=%{y}\\u003cextra\\u003e\\u003c\\u002fextra\\u003e\",\"legendgroup\":\"Uranium\",\"marker\":{\"color\":\"#98df8a\",\"pattern\":{\"shape\":\"\"}},\"name\":\"Uranium\",\"offsetgroup\":\"Uranium\",\"orientation\":\"v\",\"showlegend\":true,\"textposition\":\"auto\",\"x\":[\"Total cost\",\"Total ecosystem quality\",\"Total human health\",\"Climate change, short-term\"],\"xaxis\":\"x\",\"y\":[0.0,0.0,0.0,0.0],\"yaxis\":\"y\",\"type\":\"bar\"},{\"alignmentgroup\":\"True\",\"hovertemplate\":\"Energy technology or resource=Onshore wind\\u003cbr\\u003eObjective function=%{x}\\u003cbr\\u003eTotal human health=%{y}\\u003cextra\\u003e\\u003c\\u002fextra\\u003e\",\"legendgroup\":\"Onshore wind\",\"marker\":{\"color\":\"#1f77b4\",\"pattern\":{\"shape\":\"\"}},\"name\":\"Onshore wind\",\"offsetgroup\":\"Onshore wind\",\"orientation\":\"v\",\"showlegend\":true,\"textposition\":\"auto\",\"x\":[\"Total cost\",\"Total ecosystem quality\",\"Total human health\",\"Climate change, short-term\"],\"xaxis\":\"x\",\"y\":[0.0,0.000673347000538101,0.0004032087332945231,0.0],\"yaxis\":\"y\",\"type\":\"bar\"}],                        {\"template\":{\"data\":{\"barpolar\":[{\"marker\":{\"line\":{\"color\":\"white\",\"width\":0.5},\"pattern\":{\"fillmode\":\"overlay\",\"size\":10,\"solidity\":0.2}},\"type\":\"barpolar\"}],\"bar\":[{\"error_x\":{\"color\":\"#2a3f5f\"},\"error_y\":{\"color\":\"#2a3f5f\"},\"marker\":{\"line\":{\"color\":\"white\",\"width\":0.5},\"pattern\":{\"fillmode\":\"overlay\",\"size\":10,\"solidity\":0.2}},\"type\":\"bar\"}],\"carpet\":[{\"aaxis\":{\"endlinecolor\":\"#2a3f5f\",\"gridcolor\":\"#C8D4E3\",\"linecolor\":\"#C8D4E3\",\"minorgridcolor\":\"#C8D4E3\",\"startlinecolor\":\"#2a3f5f\"},\"baxis\":{\"endlinecolor\":\"#2a3f5f\",\"gridcolor\":\"#C8D4E3\",\"linecolor\":\"#C8D4E3\",\"minorgridcolor\":\"#C8D4E3\",\"startlinecolor\":\"#2a3f5f\"},\"type\":\"carpet\"}],\"choropleth\":[{\"colorbar\":{\"outlinewidth\":0,\"ticks\":\"\"},\"type\":\"choropleth\"}],\"contourcarpet\":[{\"colorbar\":{\"outlinewidth\":0,\"ticks\":\"\"},\"type\":\"contourcarpet\"}],\"contour\":[{\"colorbar\":{\"outlinewidth\":0,\"ticks\":\"\"},\"colorscale\":[[0.0,\"#0d0887\"],[0.1111111111111111,\"#46039f\"],[0.2222222222222222,\"#7201a8\"],[0.3333333333333333,\"#9c179e\"],[0.4444444444444444,\"#bd3786\"],[0.5555555555555556,\"#d8576b\"],[0.6666666666666666,\"#ed7953\"],[0.7777777777777778,\"#fb9f3a\"],[0.8888888888888888,\"#fdca26\"],[1.0,\"#f0f921\"]],\"type\":\"contour\"}],\"heatmapgl\":[{\"colorbar\":{\"outlinewidth\":0,\"ticks\":\"\"},\"colorscale\":[[0.0,\"#0d0887\"],[0.1111111111111111,\"#46039f\"],[0.2222222222222222,\"#7201a8\"],[0.3333333333333333,\"#9c179e\"],[0.4444444444444444,\"#bd3786\"],[0.5555555555555556,\"#d8576b\"],[0.6666666666666666,\"#ed7953\"],[0.7777777777777778,\"#fb9f3a\"],[0.8888888888888888,\"#fdca26\"],[1.0,\"#f0f921\"]],\"type\":\"heatmapgl\"}],\"heatmap\":[{\"colorbar\":{\"outlinewidth\":0,\"ticks\":\"\"},\"colorscale\":[[0.0,\"#0d0887\"],[0.1111111111111111,\"#46039f\"],[0.2222222222222222,\"#7201a8\"],[0.3333333333333333,\"#9c179e\"],[0.4444444444444444,\"#bd3786\"],[0.5555555555555556,\"#d8576b\"],[0.6666666666666666,\"#ed7953\"],[0.7777777777777778,\"#fb9f3a\"],[0.8888888888888888,\"#fdca26\"],[1.0,\"#f0f921\"]],\"type\":\"heatmap\"}],\"histogram2dcontour\":[{\"colorbar\":{\"outlinewidth\":0,\"ticks\":\"\"},\"colorscale\":[[0.0,\"#0d0887\"],[0.1111111111111111,\"#46039f\"],[0.2222222222222222,\"#7201a8\"],[0.3333333333333333,\"#9c179e\"],[0.4444444444444444,\"#bd3786\"],[0.5555555555555556,\"#d8576b\"],[0.6666666666666666,\"#ed7953\"],[0.7777777777777778,\"#fb9f3a\"],[0.8888888888888888,\"#fdca26\"],[1.0,\"#f0f921\"]],\"type\":\"histogram2dcontour\"}],\"histogram2d\":[{\"colorbar\":{\"outlinewidth\":0,\"ticks\":\"\"},\"colorscale\":[[0.0,\"#0d0887\"],[0.1111111111111111,\"#46039f\"],[0.2222222222222222,\"#7201a8\"],[0.3333333333333333,\"#9c179e\"],[0.4444444444444444,\"#bd3786\"],[0.5555555555555556,\"#d8576b\"],[0.6666666666666666,\"#ed7953\"],[0.7777777777777778,\"#fb9f3a\"],[0.8888888888888888,\"#fdca26\"],[1.0,\"#f0f921\"]],\"type\":\"histogram2d\"}],\"histogram\":[{\"marker\":{\"pattern\":{\"fillmode\":\"overlay\",\"size\":10,\"solidity\":0.2}},\"type\":\"histogram\"}],\"mesh3d\":[{\"colorbar\":{\"outlinewidth\":0,\"ticks\":\"\"},\"type\":\"mesh3d\"}],\"parcoords\":[{\"line\":{\"colorbar\":{\"outlinewidth\":0,\"ticks\":\"\"}},\"type\":\"parcoords\"}],\"pie\":[{\"automargin\":true,\"type\":\"pie\"}],\"scatter3d\":[{\"line\":{\"colorbar\":{\"outlinewidth\":0,\"ticks\":\"\"}},\"marker\":{\"colorbar\":{\"outlinewidth\":0,\"ticks\":\"\"}},\"type\":\"scatter3d\"}],\"scattercarpet\":[{\"marker\":{\"colorbar\":{\"outlinewidth\":0,\"ticks\":\"\"}},\"type\":\"scattercarpet\"}],\"scattergeo\":[{\"marker\":{\"colorbar\":{\"outlinewidth\":0,\"ticks\":\"\"}},\"type\":\"scattergeo\"}],\"scattergl\":[{\"marker\":{\"colorbar\":{\"outlinewidth\":0,\"ticks\":\"\"}},\"type\":\"scattergl\"}],\"scattermapbox\":[{\"marker\":{\"colorbar\":{\"outlinewidth\":0,\"ticks\":\"\"}},\"type\":\"scattermapbox\"}],\"scatterpolargl\":[{\"marker\":{\"colorbar\":{\"outlinewidth\":0,\"ticks\":\"\"}},\"type\":\"scatterpolargl\"}],\"scatterpolar\":[{\"marker\":{\"colorbar\":{\"outlinewidth\":0,\"ticks\":\"\"}},\"type\":\"scatterpolar\"}],\"scatter\":[{\"fillpattern\":{\"fillmode\":\"overlay\",\"size\":10,\"solidity\":0.2},\"type\":\"scatter\"}],\"scatterternary\":[{\"marker\":{\"colorbar\":{\"outlinewidth\":0,\"ticks\":\"\"}},\"type\":\"scatterternary\"}],\"surface\":[{\"colorbar\":{\"outlinewidth\":0,\"ticks\":\"\"},\"colorscale\":[[0.0,\"#0d0887\"],[0.1111111111111111,\"#46039f\"],[0.2222222222222222,\"#7201a8\"],[0.3333333333333333,\"#9c179e\"],[0.4444444444444444,\"#bd3786\"],[0.5555555555555556,\"#d8576b\"],[0.6666666666666666,\"#ed7953\"],[0.7777777777777778,\"#fb9f3a\"],[0.8888888888888888,\"#fdca26\"],[1.0,\"#f0f921\"]],\"type\":\"surface\"}],\"table\":[{\"cells\":{\"fill\":{\"color\":\"#EBF0F8\"},\"line\":{\"color\":\"white\"}},\"header\":{\"fill\":{\"color\":\"#C8D4E3\"},\"line\":{\"color\":\"white\"}},\"type\":\"table\"}]},\"layout\":{\"annotationdefaults\":{\"arrowcolor\":\"#2a3f5f\",\"arrowhead\":0,\"arrowwidth\":1},\"autotypenumbers\":\"strict\",\"coloraxis\":{\"colorbar\":{\"outlinewidth\":0,\"ticks\":\"\"}},\"colorscale\":{\"diverging\":[[0,\"#8e0152\"],[0.1,\"#c51b7d\"],[0.2,\"#de77ae\"],[0.3,\"#f1b6da\"],[0.4,\"#fde0ef\"],[0.5,\"#f7f7f7\"],[0.6,\"#e6f5d0\"],[0.7,\"#b8e186\"],[0.8,\"#7fbc41\"],[0.9,\"#4d9221\"],[1,\"#276419\"]],\"sequential\":[[0.0,\"#0d0887\"],[0.1111111111111111,\"#46039f\"],[0.2222222222222222,\"#7201a8\"],[0.3333333333333333,\"#9c179e\"],[0.4444444444444444,\"#bd3786\"],[0.5555555555555556,\"#d8576b\"],[0.6666666666666666,\"#ed7953\"],[0.7777777777777778,\"#fb9f3a\"],[0.8888888888888888,\"#fdca26\"],[1.0,\"#f0f921\"]],\"sequentialminus\":[[0.0,\"#0d0887\"],[0.1111111111111111,\"#46039f\"],[0.2222222222222222,\"#7201a8\"],[0.3333333333333333,\"#9c179e\"],[0.4444444444444444,\"#bd3786\"],[0.5555555555555556,\"#d8576b\"],[0.6666666666666666,\"#ed7953\"],[0.7777777777777778,\"#fb9f3a\"],[0.8888888888888888,\"#fdca26\"],[1.0,\"#f0f921\"]]},\"colorway\":[\"#636efa\",\"#EF553B\",\"#00cc96\",\"#ab63fa\",\"#FFA15A\",\"#19d3f3\",\"#FF6692\",\"#B6E880\",\"#FF97FF\",\"#FECB52\"],\"font\":{\"color\":\"#2a3f5f\"},\"geo\":{\"bgcolor\":\"white\",\"lakecolor\":\"white\",\"landcolor\":\"white\",\"showlakes\":true,\"showland\":true,\"subunitcolor\":\"#C8D4E3\"},\"hoverlabel\":{\"align\":\"left\"},\"hovermode\":\"closest\",\"mapbox\":{\"style\":\"light\"},\"paper_bgcolor\":\"white\",\"plot_bgcolor\":\"white\",\"polar\":{\"angularaxis\":{\"gridcolor\":\"#EBF0F8\",\"linecolor\":\"#EBF0F8\",\"ticks\":\"\"},\"bgcolor\":\"white\",\"radialaxis\":{\"gridcolor\":\"#EBF0F8\",\"linecolor\":\"#EBF0F8\",\"ticks\":\"\"}},\"scene\":{\"xaxis\":{\"backgroundcolor\":\"white\",\"gridcolor\":\"#DFE8F3\",\"gridwidth\":2,\"linecolor\":\"#EBF0F8\",\"showbackground\":true,\"ticks\":\"\",\"zerolinecolor\":\"#EBF0F8\"},\"yaxis\":{\"backgroundcolor\":\"white\",\"gridcolor\":\"#DFE8F3\",\"gridwidth\":2,\"linecolor\":\"#EBF0F8\",\"showbackground\":true,\"ticks\":\"\",\"zerolinecolor\":\"#EBF0F8\"},\"zaxis\":{\"backgroundcolor\":\"white\",\"gridcolor\":\"#DFE8F3\",\"gridwidth\":2,\"linecolor\":\"#EBF0F8\",\"showbackground\":true,\"ticks\":\"\",\"zerolinecolor\":\"#EBF0F8\"}},\"shapedefaults\":{\"line\":{\"color\":\"#2a3f5f\"}},\"ternary\":{\"aaxis\":{\"gridcolor\":\"#DFE8F3\",\"linecolor\":\"#A2B1C6\",\"ticks\":\"\"},\"baxis\":{\"gridcolor\":\"#DFE8F3\",\"linecolor\":\"#A2B1C6\",\"ticks\":\"\"},\"bgcolor\":\"white\",\"caxis\":{\"gridcolor\":\"#DFE8F3\",\"linecolor\":\"#A2B1C6\",\"ticks\":\"\"}},\"title\":{\"x\":0.05},\"xaxis\":{\"automargin\":true,\"gridcolor\":\"#EBF0F8\",\"linecolor\":\"#EBF0F8\",\"ticks\":\"\",\"title\":{\"standoff\":15},\"zerolinecolor\":\"#EBF0F8\",\"zerolinewidth\":2},\"yaxis\":{\"automargin\":true,\"gridcolor\":\"#EBF0F8\",\"linecolor\":\"#EBF0F8\",\"ticks\":\"\",\"title\":{\"standoff\":15},\"zerolinecolor\":\"#EBF0F8\",\"zerolinewidth\":2}}},\"xaxis\":{\"anchor\":\"y\",\"domain\":[0.0,1.0],\"title\":{\"text\":\"Objective function\"}},\"yaxis\":{\"anchor\":\"x\",\"domain\":[0.0,1.0],\"title\":{\"text\":\"Total human health\"}},\"legend\":{\"title\":{\"text\":\"Energy technology or resource\"},\"tracegroupgap\":0},\"margin\":{\"t\":60},\"barmode\":\"stack\"},                        {\"responsive\": true}                    ).then(function(){\n",
       "                            \n",
       "var gd = document.getElementById('06eba418-f617-4030-8e99-2a8594d75226');\n",
       "var x = new MutationObserver(function (mutations, observer) {{\n",
       "        var display = window.getComputedStyle(gd).display;\n",
       "        if (!display || display === 'none') {{\n",
       "            console.log([gd, 'removed!']);\n",
       "            Plotly.purge(gd);\n",
       "            observer.disconnect();\n",
       "        }}\n",
       "}});\n",
       "\n",
       "// Listen for the removal of the full notebook cells\n",
       "var notebookContainer = gd.closest('#notebook-container');\n",
       "if (notebookContainer) {{\n",
       "    x.observe(notebookContainer, {childList: true});\n",
       "}}\n",
       "\n",
       "// Listen for the clearing of the current output cell\n",
       "var outputEl = gd.closest('.output');\n",
       "if (outputEl) {{\n",
       "    x.observe(outputEl, {childList: true});\n",
       "}}\n",
       "\n",
       "                        })                };                });            </script>        </div>"
      ]
     },
     "metadata": {},
     "output_type": "display_data"
    }
   ],
   "execution_count": 44
  },
  {
   "metadata": {
    "ExecuteTime": {
     "end_time": "2025-05-12T16:29:49.891195Z",
     "start_time": "2025-05-12T16:29:49.435663Z"
    }
   },
   "cell_type": "code",
   "source": [
    "plot_technologies_contribution(\n",
    "    cat='Total ecosystem quality',\n",
    "    esm_results_f_mult=esm_results_f_mult,\n",
    "    esm_results_annual_prod=esm_results_annual_prod,\n",
    "    esm_results_annual_res=esm_results_annual_res,\n",
    "    tech_to_show_list=tech_to_show_list,\n",
    ")"
   ],
   "id": "de98251b8a0263df",
   "outputs": [
    {
     "data": {
      "application/vnd.plotly.v1+json": {
       "data": [
        {
         "alignmentgroup": "True",
         "hovertemplate": "Energy technology or resource=Battery<br>Objective function=%{x}<br>Total ecosystem quality=%{y}<extra></extra>",
         "legendgroup": "Battery",
         "marker": {
          "color": "#9467bd",
          "pattern": {
           "shape": ""
          }
         },
         "name": "Battery",
         "offsetgroup": "Battery",
         "orientation": "v",
         "showlegend": true,
         "textposition": "auto",
         "x": [
          "Total cost",
          "Total ecosystem quality",
          "Total human health",
          "Climate change, short-term"
         ],
         "xaxis": "x",
         "y": [
          1.5634139547582793,
          3.7861202135276777,
          3.5568408910164253,
          3.212465635720453
         ],
         "yaxis": "y",
         "type": "bar"
        },
        {
         "alignmentgroup": "True",
         "hovertemplate": "Energy technology or resource=Combined cycle gas turbine<br>Objective function=%{x}<br>Total ecosystem quality=%{y}<extra></extra>",
         "legendgroup": "Combined cycle gas turbine",
         "marker": {
          "color": "#b0b0b0",
          "pattern": {
           "shape": ""
          }
         },
         "name": "Combined cycle gas turbine",
         "offsetgroup": "Combined cycle gas turbine",
         "orientation": "v",
         "showlegend": true,
         "textposition": "auto",
         "x": [
          "Total cost",
          "Total ecosystem quality",
          "Total human health",
          "Climate change, short-term"
         ],
         "xaxis": "x",
         "y": [
          242.5586011511129,
          0.0,
          0.0,
          0.0
         ],
         "yaxis": "y",
         "type": "bar"
        },
        {
         "alignmentgroup": "True",
         "hovertemplate": "Energy technology or resource=Combined cycle gas turbine with carbon capture and storage<br>Objective function=%{x}<br>Total ecosystem quality=%{y}<extra></extra>",
         "legendgroup": "Combined cycle gas turbine with carbon capture and storage",
         "marker": {
          "color": "#d3d3d3",
          "pattern": {
           "shape": ""
          }
         },
         "name": "Combined cycle gas turbine with carbon capture and storage",
         "offsetgroup": "Combined cycle gas turbine with carbon capture and storage",
         "orientation": "v",
         "showlegend": true,
         "textposition": "auto",
         "x": [
          "Total cost",
          "Total ecosystem quality",
          "Total human health",
          "Climate change, short-term"
         ],
         "xaxis": "x",
         "y": [
          0.0,
          14.488343843323598,
          11.297918323837463,
          9.387320428845678
         ],
         "yaxis": "y",
         "type": "bar"
        },
        {
         "alignmentgroup": "True",
         "hovertemplate": "Energy technology or resource=Coal<br>Objective function=%{x}<br>Total ecosystem quality=%{y}<extra></extra>",
         "legendgroup": "Coal",
         "marker": {
          "color": "#8c564b",
          "pattern": {
           "shape": ""
          }
         },
         "name": "Coal",
         "offsetgroup": "Coal",
         "orientation": "v",
         "showlegend": true,
         "textposition": "auto",
         "x": [
          "Total cost",
          "Total ecosystem quality",
          "Total human health",
          "Climate change, short-term"
         ],
         "xaxis": "x",
         "y": [
          0.0,
          0.0,
          0.0,
          0.0
         ],
         "yaxis": "y",
         "type": "bar"
        },
        {
         "alignmentgroup": "True",
         "hovertemplate": "Energy technology or resource=Integrated gasification combined cycle<br>Objective function=%{x}<br>Total ecosystem quality=%{y}<extra></extra>",
         "legendgroup": "Integrated gasification combined cycle",
         "marker": {
          "color": "#d62728",
          "pattern": {
           "shape": ""
          }
         },
         "name": "Integrated gasification combined cycle",
         "offsetgroup": "Integrated gasification combined cycle",
         "orientation": "v",
         "showlegend": true,
         "textposition": "auto",
         "x": [
          "Total cost",
          "Total ecosystem quality",
          "Total human health",
          "Climate change, short-term"
         ],
         "xaxis": "x",
         "y": [
          0.0,
          0.0,
          0.0,
          0.0
         ],
         "yaxis": "y",
         "type": "bar"
        },
        {
         "alignmentgroup": "True",
         "hovertemplate": "Energy technology or resource=Integrated gasification combined cycle with carbon capture and storage<br>Objective function=%{x}<br>Total ecosystem quality=%{y}<extra></extra>",
         "legendgroup": "Integrated gasification combined cycle with carbon capture and storage",
         "marker": {
          "color": "#ff9896",
          "pattern": {
           "shape": ""
          }
         },
         "name": "Integrated gasification combined cycle with carbon capture and storage",
         "offsetgroup": "Integrated gasification combined cycle with carbon capture and storage",
         "orientation": "v",
         "showlegend": true,
         "textposition": "auto",
         "x": [
          "Total cost",
          "Total ecosystem quality",
          "Total human health",
          "Climate change, short-term"
         ],
         "xaxis": "x",
         "y": [
          0.0,
          0.0,
          0.0,
          0.0
         ],
         "yaxis": "y",
         "type": "bar"
        },
        {
         "alignmentgroup": "True",
         "hovertemplate": "Energy technology or resource=Natural gas<br>Objective function=%{x}<br>Total ecosystem quality=%{y}<extra></extra>",
         "legendgroup": "Natural gas",
         "marker": {
          "color": "#505050",
          "pattern": {
           "shape": ""
          }
         },
         "name": "Natural gas",
         "offsetgroup": "Natural gas",
         "orientation": "v",
         "showlegend": true,
         "textposition": "auto",
         "x": [
          "Total cost",
          "Total ecosystem quality",
          "Total human health",
          "Climate change, short-term"
         ],
         "xaxis": "x",
         "y": [
          65.3163429994232,
          29.62152885171626,
          22.263303032296516,
          18.498342205900496
         ],
         "yaxis": "y",
         "type": "bar"
        },
        {
         "alignmentgroup": "True",
         "hovertemplate": "Energy technology or resource=Nuclear<br>Objective function=%{x}<br>Total ecosystem quality=%{y}<extra></extra>",
         "legendgroup": "Nuclear",
         "marker": {
          "color": "#2ca02c",
          "pattern": {
           "shape": ""
          }
         },
         "name": "Nuclear",
         "offsetgroup": "Nuclear",
         "orientation": "v",
         "showlegend": true,
         "textposition": "auto",
         "x": [
          "Total cost",
          "Total ecosystem quality",
          "Total human health",
          "Climate change, short-term"
         ],
         "xaxis": "x",
         "y": [
          0.0,
          0.0,
          0.0,
          0.0
         ],
         "yaxis": "y",
         "type": "bar"
        },
        {
         "alignmentgroup": "True",
         "hovertemplate": "Energy technology or resource=Photovoltaic<br>Objective function=%{x}<br>Total ecosystem quality=%{y}<extra></extra>",
         "legendgroup": "Photovoltaic",
         "marker": {
          "color": "#ff7f0e",
          "pattern": {
           "shape": ""
          }
         },
         "name": "Photovoltaic",
         "offsetgroup": "Photovoltaic",
         "orientation": "v",
         "showlegend": true,
         "textposition": "auto",
         "x": [
          "Total cost",
          "Total ecosystem quality",
          "Total human health",
          "Climate change, short-term"
         ],
         "xaxis": "x",
         "y": [
          136.08069174211252,
          0.0,
          111.75719446924593,
          279.6151406352906
         ],
         "yaxis": "y",
         "type": "bar"
        },
        {
         "alignmentgroup": "True",
         "hovertemplate": "Energy technology or resource=Uranium<br>Objective function=%{x}<br>Total ecosystem quality=%{y}<extra></extra>",
         "legendgroup": "Uranium",
         "marker": {
          "color": "#98df8a",
          "pattern": {
           "shape": ""
          }
         },
         "name": "Uranium",
         "offsetgroup": "Uranium",
         "orientation": "v",
         "showlegend": true,
         "textposition": "auto",
         "x": [
          "Total cost",
          "Total ecosystem quality",
          "Total human health",
          "Climate change, short-term"
         ],
         "xaxis": "x",
         "y": [
          0.0,
          0.0,
          0.0,
          0.0
         ],
         "yaxis": "y",
         "type": "bar"
        },
        {
         "alignmentgroup": "True",
         "hovertemplate": "Energy technology or resource=Onshore wind<br>Objective function=%{x}<br>Total ecosystem quality=%{y}<extra></extra>",
         "legendgroup": "Onshore wind",
         "marker": {
          "color": "#1f77b4",
          "pattern": {
           "shape": ""
          }
         },
         "name": "Onshore wind",
         "offsetgroup": "Onshore wind",
         "orientation": "v",
         "showlegend": true,
         "textposition": "auto",
         "x": [
          "Total cost",
          "Total ecosystem quality",
          "Total human health",
          "Climate change, short-term"
         ],
         "xaxis": "x",
         "y": [
          0.0,
          89.78449200387618,
          53.78578897342144,
          0.0
         ],
         "yaxis": "y",
         "type": "bar"
        }
       ],
       "layout": {
        "template": {
         "data": {
          "barpolar": [
           {
            "marker": {
             "line": {
              "color": "white",
              "width": 0.5
             },
             "pattern": {
              "fillmode": "overlay",
              "size": 10,
              "solidity": 0.2
             }
            },
            "type": "barpolar"
           }
          ],
          "bar": [
           {
            "error_x": {
             "color": "#2a3f5f"
            },
            "error_y": {
             "color": "#2a3f5f"
            },
            "marker": {
             "line": {
              "color": "white",
              "width": 0.5
             },
             "pattern": {
              "fillmode": "overlay",
              "size": 10,
              "solidity": 0.2
             }
            },
            "type": "bar"
           }
          ],
          "carpet": [
           {
            "aaxis": {
             "endlinecolor": "#2a3f5f",
             "gridcolor": "#C8D4E3",
             "linecolor": "#C8D4E3",
             "minorgridcolor": "#C8D4E3",
             "startlinecolor": "#2a3f5f"
            },
            "baxis": {
             "endlinecolor": "#2a3f5f",
             "gridcolor": "#C8D4E3",
             "linecolor": "#C8D4E3",
             "minorgridcolor": "#C8D4E3",
             "startlinecolor": "#2a3f5f"
            },
            "type": "carpet"
           }
          ],
          "choropleth": [
           {
            "colorbar": {
             "outlinewidth": 0,
             "ticks": ""
            },
            "type": "choropleth"
           }
          ],
          "contourcarpet": [
           {
            "colorbar": {
             "outlinewidth": 0,
             "ticks": ""
            },
            "type": "contourcarpet"
           }
          ],
          "contour": [
           {
            "colorbar": {
             "outlinewidth": 0,
             "ticks": ""
            },
            "colorscale": [
             [
              0.0,
              "#0d0887"
             ],
             [
              0.1111111111111111,
              "#46039f"
             ],
             [
              0.2222222222222222,
              "#7201a8"
             ],
             [
              0.3333333333333333,
              "#9c179e"
             ],
             [
              0.4444444444444444,
              "#bd3786"
             ],
             [
              0.5555555555555556,
              "#d8576b"
             ],
             [
              0.6666666666666666,
              "#ed7953"
             ],
             [
              0.7777777777777778,
              "#fb9f3a"
             ],
             [
              0.8888888888888888,
              "#fdca26"
             ],
             [
              1.0,
              "#f0f921"
             ]
            ],
            "type": "contour"
           }
          ],
          "heatmapgl": [
           {
            "colorbar": {
             "outlinewidth": 0,
             "ticks": ""
            },
            "colorscale": [
             [
              0.0,
              "#0d0887"
             ],
             [
              0.1111111111111111,
              "#46039f"
             ],
             [
              0.2222222222222222,
              "#7201a8"
             ],
             [
              0.3333333333333333,
              "#9c179e"
             ],
             [
              0.4444444444444444,
              "#bd3786"
             ],
             [
              0.5555555555555556,
              "#d8576b"
             ],
             [
              0.6666666666666666,
              "#ed7953"
             ],
             [
              0.7777777777777778,
              "#fb9f3a"
             ],
             [
              0.8888888888888888,
              "#fdca26"
             ],
             [
              1.0,
              "#f0f921"
             ]
            ],
            "type": "heatmapgl"
           }
          ],
          "heatmap": [
           {
            "colorbar": {
             "outlinewidth": 0,
             "ticks": ""
            },
            "colorscale": [
             [
              0.0,
              "#0d0887"
             ],
             [
              0.1111111111111111,
              "#46039f"
             ],
             [
              0.2222222222222222,
              "#7201a8"
             ],
             [
              0.3333333333333333,
              "#9c179e"
             ],
             [
              0.4444444444444444,
              "#bd3786"
             ],
             [
              0.5555555555555556,
              "#d8576b"
             ],
             [
              0.6666666666666666,
              "#ed7953"
             ],
             [
              0.7777777777777778,
              "#fb9f3a"
             ],
             [
              0.8888888888888888,
              "#fdca26"
             ],
             [
              1.0,
              "#f0f921"
             ]
            ],
            "type": "heatmap"
           }
          ],
          "histogram2dcontour": [
           {
            "colorbar": {
             "outlinewidth": 0,
             "ticks": ""
            },
            "colorscale": [
             [
              0.0,
              "#0d0887"
             ],
             [
              0.1111111111111111,
              "#46039f"
             ],
             [
              0.2222222222222222,
              "#7201a8"
             ],
             [
              0.3333333333333333,
              "#9c179e"
             ],
             [
              0.4444444444444444,
              "#bd3786"
             ],
             [
              0.5555555555555556,
              "#d8576b"
             ],
             [
              0.6666666666666666,
              "#ed7953"
             ],
             [
              0.7777777777777778,
              "#fb9f3a"
             ],
             [
              0.8888888888888888,
              "#fdca26"
             ],
             [
              1.0,
              "#f0f921"
             ]
            ],
            "type": "histogram2dcontour"
           }
          ],
          "histogram2d": [
           {
            "colorbar": {
             "outlinewidth": 0,
             "ticks": ""
            },
            "colorscale": [
             [
              0.0,
              "#0d0887"
             ],
             [
              0.1111111111111111,
              "#46039f"
             ],
             [
              0.2222222222222222,
              "#7201a8"
             ],
             [
              0.3333333333333333,
              "#9c179e"
             ],
             [
              0.4444444444444444,
              "#bd3786"
             ],
             [
              0.5555555555555556,
              "#d8576b"
             ],
             [
              0.6666666666666666,
              "#ed7953"
             ],
             [
              0.7777777777777778,
              "#fb9f3a"
             ],
             [
              0.8888888888888888,
              "#fdca26"
             ],
             [
              1.0,
              "#f0f921"
             ]
            ],
            "type": "histogram2d"
           }
          ],
          "histogram": [
           {
            "marker": {
             "pattern": {
              "fillmode": "overlay",
              "size": 10,
              "solidity": 0.2
             }
            },
            "type": "histogram"
           }
          ],
          "mesh3d": [
           {
            "colorbar": {
             "outlinewidth": 0,
             "ticks": ""
            },
            "type": "mesh3d"
           }
          ],
          "parcoords": [
           {
            "line": {
             "colorbar": {
              "outlinewidth": 0,
              "ticks": ""
             }
            },
            "type": "parcoords"
           }
          ],
          "pie": [
           {
            "automargin": true,
            "type": "pie"
           }
          ],
          "scatter3d": [
           {
            "line": {
             "colorbar": {
              "outlinewidth": 0,
              "ticks": ""
             }
            },
            "marker": {
             "colorbar": {
              "outlinewidth": 0,
              "ticks": ""
             }
            },
            "type": "scatter3d"
           }
          ],
          "scattercarpet": [
           {
            "marker": {
             "colorbar": {
              "outlinewidth": 0,
              "ticks": ""
             }
            },
            "type": "scattercarpet"
           }
          ],
          "scattergeo": [
           {
            "marker": {
             "colorbar": {
              "outlinewidth": 0,
              "ticks": ""
             }
            },
            "type": "scattergeo"
           }
          ],
          "scattergl": [
           {
            "marker": {
             "colorbar": {
              "outlinewidth": 0,
              "ticks": ""
             }
            },
            "type": "scattergl"
           }
          ],
          "scattermapbox": [
           {
            "marker": {
             "colorbar": {
              "outlinewidth": 0,
              "ticks": ""
             }
            },
            "type": "scattermapbox"
           }
          ],
          "scatterpolargl": [
           {
            "marker": {
             "colorbar": {
              "outlinewidth": 0,
              "ticks": ""
             }
            },
            "type": "scatterpolargl"
           }
          ],
          "scatterpolar": [
           {
            "marker": {
             "colorbar": {
              "outlinewidth": 0,
              "ticks": ""
             }
            },
            "type": "scatterpolar"
           }
          ],
          "scatter": [
           {
            "fillpattern": {
             "fillmode": "overlay",
             "size": 10,
             "solidity": 0.2
            },
            "type": "scatter"
           }
          ],
          "scatterternary": [
           {
            "marker": {
             "colorbar": {
              "outlinewidth": 0,
              "ticks": ""
             }
            },
            "type": "scatterternary"
           }
          ],
          "surface": [
           {
            "colorbar": {
             "outlinewidth": 0,
             "ticks": ""
            },
            "colorscale": [
             [
              0.0,
              "#0d0887"
             ],
             [
              0.1111111111111111,
              "#46039f"
             ],
             [
              0.2222222222222222,
              "#7201a8"
             ],
             [
              0.3333333333333333,
              "#9c179e"
             ],
             [
              0.4444444444444444,
              "#bd3786"
             ],
             [
              0.5555555555555556,
              "#d8576b"
             ],
             [
              0.6666666666666666,
              "#ed7953"
             ],
             [
              0.7777777777777778,
              "#fb9f3a"
             ],
             [
              0.8888888888888888,
              "#fdca26"
             ],
             [
              1.0,
              "#f0f921"
             ]
            ],
            "type": "surface"
           }
          ],
          "table": [
           {
            "cells": {
             "fill": {
              "color": "#EBF0F8"
             },
             "line": {
              "color": "white"
             }
            },
            "header": {
             "fill": {
              "color": "#C8D4E3"
             },
             "line": {
              "color": "white"
             }
            },
            "type": "table"
           }
          ]
         },
         "layout": {
          "annotationdefaults": {
           "arrowcolor": "#2a3f5f",
           "arrowhead": 0,
           "arrowwidth": 1
          },
          "autotypenumbers": "strict",
          "coloraxis": {
           "colorbar": {
            "outlinewidth": 0,
            "ticks": ""
           }
          },
          "colorscale": {
           "diverging": [
            [
             0,
             "#8e0152"
            ],
            [
             0.1,
             "#c51b7d"
            ],
            [
             0.2,
             "#de77ae"
            ],
            [
             0.3,
             "#f1b6da"
            ],
            [
             0.4,
             "#fde0ef"
            ],
            [
             0.5,
             "#f7f7f7"
            ],
            [
             0.6,
             "#e6f5d0"
            ],
            [
             0.7,
             "#b8e186"
            ],
            [
             0.8,
             "#7fbc41"
            ],
            [
             0.9,
             "#4d9221"
            ],
            [
             1,
             "#276419"
            ]
           ],
           "sequential": [
            [
             0.0,
             "#0d0887"
            ],
            [
             0.1111111111111111,
             "#46039f"
            ],
            [
             0.2222222222222222,
             "#7201a8"
            ],
            [
             0.3333333333333333,
             "#9c179e"
            ],
            [
             0.4444444444444444,
             "#bd3786"
            ],
            [
             0.5555555555555556,
             "#d8576b"
            ],
            [
             0.6666666666666666,
             "#ed7953"
            ],
            [
             0.7777777777777778,
             "#fb9f3a"
            ],
            [
             0.8888888888888888,
             "#fdca26"
            ],
            [
             1.0,
             "#f0f921"
            ]
           ],
           "sequentialminus": [
            [
             0.0,
             "#0d0887"
            ],
            [
             0.1111111111111111,
             "#46039f"
            ],
            [
             0.2222222222222222,
             "#7201a8"
            ],
            [
             0.3333333333333333,
             "#9c179e"
            ],
            [
             0.4444444444444444,
             "#bd3786"
            ],
            [
             0.5555555555555556,
             "#d8576b"
            ],
            [
             0.6666666666666666,
             "#ed7953"
            ],
            [
             0.7777777777777778,
             "#fb9f3a"
            ],
            [
             0.8888888888888888,
             "#fdca26"
            ],
            [
             1.0,
             "#f0f921"
            ]
           ]
          },
          "colorway": [
           "#636efa",
           "#EF553B",
           "#00cc96",
           "#ab63fa",
           "#FFA15A",
           "#19d3f3",
           "#FF6692",
           "#B6E880",
           "#FF97FF",
           "#FECB52"
          ],
          "font": {
           "color": "#2a3f5f"
          },
          "geo": {
           "bgcolor": "white",
           "lakecolor": "white",
           "landcolor": "white",
           "showlakes": true,
           "showland": true,
           "subunitcolor": "#C8D4E3"
          },
          "hoverlabel": {
           "align": "left"
          },
          "hovermode": "closest",
          "mapbox": {
           "style": "light"
          },
          "paper_bgcolor": "white",
          "plot_bgcolor": "white",
          "polar": {
           "angularaxis": {
            "gridcolor": "#EBF0F8",
            "linecolor": "#EBF0F8",
            "ticks": ""
           },
           "bgcolor": "white",
           "radialaxis": {
            "gridcolor": "#EBF0F8",
            "linecolor": "#EBF0F8",
            "ticks": ""
           }
          },
          "scene": {
           "xaxis": {
            "backgroundcolor": "white",
            "gridcolor": "#DFE8F3",
            "gridwidth": 2,
            "linecolor": "#EBF0F8",
            "showbackground": true,
            "ticks": "",
            "zerolinecolor": "#EBF0F8"
           },
           "yaxis": {
            "backgroundcolor": "white",
            "gridcolor": "#DFE8F3",
            "gridwidth": 2,
            "linecolor": "#EBF0F8",
            "showbackground": true,
            "ticks": "",
            "zerolinecolor": "#EBF0F8"
           },
           "zaxis": {
            "backgroundcolor": "white",
            "gridcolor": "#DFE8F3",
            "gridwidth": 2,
            "linecolor": "#EBF0F8",
            "showbackground": true,
            "ticks": "",
            "zerolinecolor": "#EBF0F8"
           }
          },
          "shapedefaults": {
           "line": {
            "color": "#2a3f5f"
           }
          },
          "ternary": {
           "aaxis": {
            "gridcolor": "#DFE8F3",
            "linecolor": "#A2B1C6",
            "ticks": ""
           },
           "baxis": {
            "gridcolor": "#DFE8F3",
            "linecolor": "#A2B1C6",
            "ticks": ""
           },
           "bgcolor": "white",
           "caxis": {
            "gridcolor": "#DFE8F3",
            "linecolor": "#A2B1C6",
            "ticks": ""
           }
          },
          "title": {
           "x": 0.05
          },
          "xaxis": {
           "automargin": true,
           "gridcolor": "#EBF0F8",
           "linecolor": "#EBF0F8",
           "ticks": "",
           "title": {
            "standoff": 15
           },
           "zerolinecolor": "#EBF0F8",
           "zerolinewidth": 2
          },
          "yaxis": {
           "automargin": true,
           "gridcolor": "#EBF0F8",
           "linecolor": "#EBF0F8",
           "ticks": "",
           "title": {
            "standoff": 15
           },
           "zerolinecolor": "#EBF0F8",
           "zerolinewidth": 2
          }
         }
        },
        "xaxis": {
         "anchor": "y",
         "domain": [
          0.0,
          1.0
         ],
         "title": {
          "text": "Objective function"
         }
        },
        "yaxis": {
         "anchor": "x",
         "domain": [
          0.0,
          1.0
         ],
         "title": {
          "text": "Total ecosystem quality"
         }
        },
        "legend": {
         "title": {
          "text": "Energy technology or resource"
         },
         "tracegroupgap": 0
        },
        "margin": {
         "t": 60
        },
        "barmode": "stack"
       },
       "config": {
        "plotlyServerURL": "https://plot.ly"
       }
      },
      "text/html": [
       "<div>                            <div id=\"187784a5-6d87-4357-9352-ee0b3c5eee7f\" class=\"plotly-graph-div\" style=\"height:525px; width:100%;\"></div>            <script type=\"text/javascript\">                require([\"plotly\"], function(Plotly) {                    window.PLOTLYENV=window.PLOTLYENV || {};                                    if (document.getElementById(\"187784a5-6d87-4357-9352-ee0b3c5eee7f\")) {                    Plotly.newPlot(                        \"187784a5-6d87-4357-9352-ee0b3c5eee7f\",                        [{\"alignmentgroup\":\"True\",\"hovertemplate\":\"Energy technology or resource=Battery\\u003cbr\\u003eObjective function=%{x}\\u003cbr\\u003eTotal ecosystem quality=%{y}\\u003cextra\\u003e\\u003c\\u002fextra\\u003e\",\"legendgroup\":\"Battery\",\"marker\":{\"color\":\"#9467bd\",\"pattern\":{\"shape\":\"\"}},\"name\":\"Battery\",\"offsetgroup\":\"Battery\",\"orientation\":\"v\",\"showlegend\":true,\"textposition\":\"auto\",\"x\":[\"Total cost\",\"Total ecosystem quality\",\"Total human health\",\"Climate change, short-term\"],\"xaxis\":\"x\",\"y\":[1.5634139547582793,3.7861202135276777,3.5568408910164253,3.212465635720453],\"yaxis\":\"y\",\"type\":\"bar\"},{\"alignmentgroup\":\"True\",\"hovertemplate\":\"Energy technology or resource=Combined cycle gas turbine\\u003cbr\\u003eObjective function=%{x}\\u003cbr\\u003eTotal ecosystem quality=%{y}\\u003cextra\\u003e\\u003c\\u002fextra\\u003e\",\"legendgroup\":\"Combined cycle gas turbine\",\"marker\":{\"color\":\"#b0b0b0\",\"pattern\":{\"shape\":\"\"}},\"name\":\"Combined cycle gas turbine\",\"offsetgroup\":\"Combined cycle gas turbine\",\"orientation\":\"v\",\"showlegend\":true,\"textposition\":\"auto\",\"x\":[\"Total cost\",\"Total ecosystem quality\",\"Total human health\",\"Climate change, short-term\"],\"xaxis\":\"x\",\"y\":[242.5586011511129,0.0,0.0,0.0],\"yaxis\":\"y\",\"type\":\"bar\"},{\"alignmentgroup\":\"True\",\"hovertemplate\":\"Energy technology or resource=Combined cycle gas turbine with carbon capture and storage\\u003cbr\\u003eObjective function=%{x}\\u003cbr\\u003eTotal ecosystem quality=%{y}\\u003cextra\\u003e\\u003c\\u002fextra\\u003e\",\"legendgroup\":\"Combined cycle gas turbine with carbon capture and storage\",\"marker\":{\"color\":\"#d3d3d3\",\"pattern\":{\"shape\":\"\"}},\"name\":\"Combined cycle gas turbine with carbon capture and storage\",\"offsetgroup\":\"Combined cycle gas turbine with carbon capture and storage\",\"orientation\":\"v\",\"showlegend\":true,\"textposition\":\"auto\",\"x\":[\"Total cost\",\"Total ecosystem quality\",\"Total human health\",\"Climate change, short-term\"],\"xaxis\":\"x\",\"y\":[0.0,14.488343843323598,11.297918323837463,9.387320428845678],\"yaxis\":\"y\",\"type\":\"bar\"},{\"alignmentgroup\":\"True\",\"hovertemplate\":\"Energy technology or resource=Coal\\u003cbr\\u003eObjective function=%{x}\\u003cbr\\u003eTotal ecosystem quality=%{y}\\u003cextra\\u003e\\u003c\\u002fextra\\u003e\",\"legendgroup\":\"Coal\",\"marker\":{\"color\":\"#8c564b\",\"pattern\":{\"shape\":\"\"}},\"name\":\"Coal\",\"offsetgroup\":\"Coal\",\"orientation\":\"v\",\"showlegend\":true,\"textposition\":\"auto\",\"x\":[\"Total cost\",\"Total ecosystem quality\",\"Total human health\",\"Climate change, short-term\"],\"xaxis\":\"x\",\"y\":[0.0,0.0,0.0,0.0],\"yaxis\":\"y\",\"type\":\"bar\"},{\"alignmentgroup\":\"True\",\"hovertemplate\":\"Energy technology or resource=Integrated gasification combined cycle\\u003cbr\\u003eObjective function=%{x}\\u003cbr\\u003eTotal ecosystem quality=%{y}\\u003cextra\\u003e\\u003c\\u002fextra\\u003e\",\"legendgroup\":\"Integrated gasification combined cycle\",\"marker\":{\"color\":\"#d62728\",\"pattern\":{\"shape\":\"\"}},\"name\":\"Integrated gasification combined cycle\",\"offsetgroup\":\"Integrated gasification combined cycle\",\"orientation\":\"v\",\"showlegend\":true,\"textposition\":\"auto\",\"x\":[\"Total cost\",\"Total ecosystem quality\",\"Total human health\",\"Climate change, short-term\"],\"xaxis\":\"x\",\"y\":[0.0,0.0,0.0,0.0],\"yaxis\":\"y\",\"type\":\"bar\"},{\"alignmentgroup\":\"True\",\"hovertemplate\":\"Energy technology or resource=Integrated gasification combined cycle with carbon capture and storage\\u003cbr\\u003eObjective function=%{x}\\u003cbr\\u003eTotal ecosystem quality=%{y}\\u003cextra\\u003e\\u003c\\u002fextra\\u003e\",\"legendgroup\":\"Integrated gasification combined cycle with carbon capture and storage\",\"marker\":{\"color\":\"#ff9896\",\"pattern\":{\"shape\":\"\"}},\"name\":\"Integrated gasification combined cycle with carbon capture and storage\",\"offsetgroup\":\"Integrated gasification combined cycle with carbon capture and storage\",\"orientation\":\"v\",\"showlegend\":true,\"textposition\":\"auto\",\"x\":[\"Total cost\",\"Total ecosystem quality\",\"Total human health\",\"Climate change, short-term\"],\"xaxis\":\"x\",\"y\":[0.0,0.0,0.0,0.0],\"yaxis\":\"y\",\"type\":\"bar\"},{\"alignmentgroup\":\"True\",\"hovertemplate\":\"Energy technology or resource=Natural gas\\u003cbr\\u003eObjective function=%{x}\\u003cbr\\u003eTotal ecosystem quality=%{y}\\u003cextra\\u003e\\u003c\\u002fextra\\u003e\",\"legendgroup\":\"Natural gas\",\"marker\":{\"color\":\"#505050\",\"pattern\":{\"shape\":\"\"}},\"name\":\"Natural gas\",\"offsetgroup\":\"Natural gas\",\"orientation\":\"v\",\"showlegend\":true,\"textposition\":\"auto\",\"x\":[\"Total cost\",\"Total ecosystem quality\",\"Total human health\",\"Climate change, short-term\"],\"xaxis\":\"x\",\"y\":[65.3163429994232,29.62152885171626,22.263303032296516,18.498342205900496],\"yaxis\":\"y\",\"type\":\"bar\"},{\"alignmentgroup\":\"True\",\"hovertemplate\":\"Energy technology or resource=Nuclear\\u003cbr\\u003eObjective function=%{x}\\u003cbr\\u003eTotal ecosystem quality=%{y}\\u003cextra\\u003e\\u003c\\u002fextra\\u003e\",\"legendgroup\":\"Nuclear\",\"marker\":{\"color\":\"#2ca02c\",\"pattern\":{\"shape\":\"\"}},\"name\":\"Nuclear\",\"offsetgroup\":\"Nuclear\",\"orientation\":\"v\",\"showlegend\":true,\"textposition\":\"auto\",\"x\":[\"Total cost\",\"Total ecosystem quality\",\"Total human health\",\"Climate change, short-term\"],\"xaxis\":\"x\",\"y\":[0.0,0.0,0.0,0.0],\"yaxis\":\"y\",\"type\":\"bar\"},{\"alignmentgroup\":\"True\",\"hovertemplate\":\"Energy technology or resource=Photovoltaic\\u003cbr\\u003eObjective function=%{x}\\u003cbr\\u003eTotal ecosystem quality=%{y}\\u003cextra\\u003e\\u003c\\u002fextra\\u003e\",\"legendgroup\":\"Photovoltaic\",\"marker\":{\"color\":\"#ff7f0e\",\"pattern\":{\"shape\":\"\"}},\"name\":\"Photovoltaic\",\"offsetgroup\":\"Photovoltaic\",\"orientation\":\"v\",\"showlegend\":true,\"textposition\":\"auto\",\"x\":[\"Total cost\",\"Total ecosystem quality\",\"Total human health\",\"Climate change, short-term\"],\"xaxis\":\"x\",\"y\":[136.08069174211252,0.0,111.75719446924593,279.6151406352906],\"yaxis\":\"y\",\"type\":\"bar\"},{\"alignmentgroup\":\"True\",\"hovertemplate\":\"Energy technology or resource=Uranium\\u003cbr\\u003eObjective function=%{x}\\u003cbr\\u003eTotal ecosystem quality=%{y}\\u003cextra\\u003e\\u003c\\u002fextra\\u003e\",\"legendgroup\":\"Uranium\",\"marker\":{\"color\":\"#98df8a\",\"pattern\":{\"shape\":\"\"}},\"name\":\"Uranium\",\"offsetgroup\":\"Uranium\",\"orientation\":\"v\",\"showlegend\":true,\"textposition\":\"auto\",\"x\":[\"Total cost\",\"Total ecosystem quality\",\"Total human health\",\"Climate change, short-term\"],\"xaxis\":\"x\",\"y\":[0.0,0.0,0.0,0.0],\"yaxis\":\"y\",\"type\":\"bar\"},{\"alignmentgroup\":\"True\",\"hovertemplate\":\"Energy technology or resource=Onshore wind\\u003cbr\\u003eObjective function=%{x}\\u003cbr\\u003eTotal ecosystem quality=%{y}\\u003cextra\\u003e\\u003c\\u002fextra\\u003e\",\"legendgroup\":\"Onshore wind\",\"marker\":{\"color\":\"#1f77b4\",\"pattern\":{\"shape\":\"\"}},\"name\":\"Onshore wind\",\"offsetgroup\":\"Onshore wind\",\"orientation\":\"v\",\"showlegend\":true,\"textposition\":\"auto\",\"x\":[\"Total cost\",\"Total ecosystem quality\",\"Total human health\",\"Climate change, short-term\"],\"xaxis\":\"x\",\"y\":[0.0,89.78449200387618,53.78578897342144,0.0],\"yaxis\":\"y\",\"type\":\"bar\"}],                        {\"template\":{\"data\":{\"barpolar\":[{\"marker\":{\"line\":{\"color\":\"white\",\"width\":0.5},\"pattern\":{\"fillmode\":\"overlay\",\"size\":10,\"solidity\":0.2}},\"type\":\"barpolar\"}],\"bar\":[{\"error_x\":{\"color\":\"#2a3f5f\"},\"error_y\":{\"color\":\"#2a3f5f\"},\"marker\":{\"line\":{\"color\":\"white\",\"width\":0.5},\"pattern\":{\"fillmode\":\"overlay\",\"size\":10,\"solidity\":0.2}},\"type\":\"bar\"}],\"carpet\":[{\"aaxis\":{\"endlinecolor\":\"#2a3f5f\",\"gridcolor\":\"#C8D4E3\",\"linecolor\":\"#C8D4E3\",\"minorgridcolor\":\"#C8D4E3\",\"startlinecolor\":\"#2a3f5f\"},\"baxis\":{\"endlinecolor\":\"#2a3f5f\",\"gridcolor\":\"#C8D4E3\",\"linecolor\":\"#C8D4E3\",\"minorgridcolor\":\"#C8D4E3\",\"startlinecolor\":\"#2a3f5f\"},\"type\":\"carpet\"}],\"choropleth\":[{\"colorbar\":{\"outlinewidth\":0,\"ticks\":\"\"},\"type\":\"choropleth\"}],\"contourcarpet\":[{\"colorbar\":{\"outlinewidth\":0,\"ticks\":\"\"},\"type\":\"contourcarpet\"}],\"contour\":[{\"colorbar\":{\"outlinewidth\":0,\"ticks\":\"\"},\"colorscale\":[[0.0,\"#0d0887\"],[0.1111111111111111,\"#46039f\"],[0.2222222222222222,\"#7201a8\"],[0.3333333333333333,\"#9c179e\"],[0.4444444444444444,\"#bd3786\"],[0.5555555555555556,\"#d8576b\"],[0.6666666666666666,\"#ed7953\"],[0.7777777777777778,\"#fb9f3a\"],[0.8888888888888888,\"#fdca26\"],[1.0,\"#f0f921\"]],\"type\":\"contour\"}],\"heatmapgl\":[{\"colorbar\":{\"outlinewidth\":0,\"ticks\":\"\"},\"colorscale\":[[0.0,\"#0d0887\"],[0.1111111111111111,\"#46039f\"],[0.2222222222222222,\"#7201a8\"],[0.3333333333333333,\"#9c179e\"],[0.4444444444444444,\"#bd3786\"],[0.5555555555555556,\"#d8576b\"],[0.6666666666666666,\"#ed7953\"],[0.7777777777777778,\"#fb9f3a\"],[0.8888888888888888,\"#fdca26\"],[1.0,\"#f0f921\"]],\"type\":\"heatmapgl\"}],\"heatmap\":[{\"colorbar\":{\"outlinewidth\":0,\"ticks\":\"\"},\"colorscale\":[[0.0,\"#0d0887\"],[0.1111111111111111,\"#46039f\"],[0.2222222222222222,\"#7201a8\"],[0.3333333333333333,\"#9c179e\"],[0.4444444444444444,\"#bd3786\"],[0.5555555555555556,\"#d8576b\"],[0.6666666666666666,\"#ed7953\"],[0.7777777777777778,\"#fb9f3a\"],[0.8888888888888888,\"#fdca26\"],[1.0,\"#f0f921\"]],\"type\":\"heatmap\"}],\"histogram2dcontour\":[{\"colorbar\":{\"outlinewidth\":0,\"ticks\":\"\"},\"colorscale\":[[0.0,\"#0d0887\"],[0.1111111111111111,\"#46039f\"],[0.2222222222222222,\"#7201a8\"],[0.3333333333333333,\"#9c179e\"],[0.4444444444444444,\"#bd3786\"],[0.5555555555555556,\"#d8576b\"],[0.6666666666666666,\"#ed7953\"],[0.7777777777777778,\"#fb9f3a\"],[0.8888888888888888,\"#fdca26\"],[1.0,\"#f0f921\"]],\"type\":\"histogram2dcontour\"}],\"histogram2d\":[{\"colorbar\":{\"outlinewidth\":0,\"ticks\":\"\"},\"colorscale\":[[0.0,\"#0d0887\"],[0.1111111111111111,\"#46039f\"],[0.2222222222222222,\"#7201a8\"],[0.3333333333333333,\"#9c179e\"],[0.4444444444444444,\"#bd3786\"],[0.5555555555555556,\"#d8576b\"],[0.6666666666666666,\"#ed7953\"],[0.7777777777777778,\"#fb9f3a\"],[0.8888888888888888,\"#fdca26\"],[1.0,\"#f0f921\"]],\"type\":\"histogram2d\"}],\"histogram\":[{\"marker\":{\"pattern\":{\"fillmode\":\"overlay\",\"size\":10,\"solidity\":0.2}},\"type\":\"histogram\"}],\"mesh3d\":[{\"colorbar\":{\"outlinewidth\":0,\"ticks\":\"\"},\"type\":\"mesh3d\"}],\"parcoords\":[{\"line\":{\"colorbar\":{\"outlinewidth\":0,\"ticks\":\"\"}},\"type\":\"parcoords\"}],\"pie\":[{\"automargin\":true,\"type\":\"pie\"}],\"scatter3d\":[{\"line\":{\"colorbar\":{\"outlinewidth\":0,\"ticks\":\"\"}},\"marker\":{\"colorbar\":{\"outlinewidth\":0,\"ticks\":\"\"}},\"type\":\"scatter3d\"}],\"scattercarpet\":[{\"marker\":{\"colorbar\":{\"outlinewidth\":0,\"ticks\":\"\"}},\"type\":\"scattercarpet\"}],\"scattergeo\":[{\"marker\":{\"colorbar\":{\"outlinewidth\":0,\"ticks\":\"\"}},\"type\":\"scattergeo\"}],\"scattergl\":[{\"marker\":{\"colorbar\":{\"outlinewidth\":0,\"ticks\":\"\"}},\"type\":\"scattergl\"}],\"scattermapbox\":[{\"marker\":{\"colorbar\":{\"outlinewidth\":0,\"ticks\":\"\"}},\"type\":\"scattermapbox\"}],\"scatterpolargl\":[{\"marker\":{\"colorbar\":{\"outlinewidth\":0,\"ticks\":\"\"}},\"type\":\"scatterpolargl\"}],\"scatterpolar\":[{\"marker\":{\"colorbar\":{\"outlinewidth\":0,\"ticks\":\"\"}},\"type\":\"scatterpolar\"}],\"scatter\":[{\"fillpattern\":{\"fillmode\":\"overlay\",\"size\":10,\"solidity\":0.2},\"type\":\"scatter\"}],\"scatterternary\":[{\"marker\":{\"colorbar\":{\"outlinewidth\":0,\"ticks\":\"\"}},\"type\":\"scatterternary\"}],\"surface\":[{\"colorbar\":{\"outlinewidth\":0,\"ticks\":\"\"},\"colorscale\":[[0.0,\"#0d0887\"],[0.1111111111111111,\"#46039f\"],[0.2222222222222222,\"#7201a8\"],[0.3333333333333333,\"#9c179e\"],[0.4444444444444444,\"#bd3786\"],[0.5555555555555556,\"#d8576b\"],[0.6666666666666666,\"#ed7953\"],[0.7777777777777778,\"#fb9f3a\"],[0.8888888888888888,\"#fdca26\"],[1.0,\"#f0f921\"]],\"type\":\"surface\"}],\"table\":[{\"cells\":{\"fill\":{\"color\":\"#EBF0F8\"},\"line\":{\"color\":\"white\"}},\"header\":{\"fill\":{\"color\":\"#C8D4E3\"},\"line\":{\"color\":\"white\"}},\"type\":\"table\"}]},\"layout\":{\"annotationdefaults\":{\"arrowcolor\":\"#2a3f5f\",\"arrowhead\":0,\"arrowwidth\":1},\"autotypenumbers\":\"strict\",\"coloraxis\":{\"colorbar\":{\"outlinewidth\":0,\"ticks\":\"\"}},\"colorscale\":{\"diverging\":[[0,\"#8e0152\"],[0.1,\"#c51b7d\"],[0.2,\"#de77ae\"],[0.3,\"#f1b6da\"],[0.4,\"#fde0ef\"],[0.5,\"#f7f7f7\"],[0.6,\"#e6f5d0\"],[0.7,\"#b8e186\"],[0.8,\"#7fbc41\"],[0.9,\"#4d9221\"],[1,\"#276419\"]],\"sequential\":[[0.0,\"#0d0887\"],[0.1111111111111111,\"#46039f\"],[0.2222222222222222,\"#7201a8\"],[0.3333333333333333,\"#9c179e\"],[0.4444444444444444,\"#bd3786\"],[0.5555555555555556,\"#d8576b\"],[0.6666666666666666,\"#ed7953\"],[0.7777777777777778,\"#fb9f3a\"],[0.8888888888888888,\"#fdca26\"],[1.0,\"#f0f921\"]],\"sequentialminus\":[[0.0,\"#0d0887\"],[0.1111111111111111,\"#46039f\"],[0.2222222222222222,\"#7201a8\"],[0.3333333333333333,\"#9c179e\"],[0.4444444444444444,\"#bd3786\"],[0.5555555555555556,\"#d8576b\"],[0.6666666666666666,\"#ed7953\"],[0.7777777777777778,\"#fb9f3a\"],[0.8888888888888888,\"#fdca26\"],[1.0,\"#f0f921\"]]},\"colorway\":[\"#636efa\",\"#EF553B\",\"#00cc96\",\"#ab63fa\",\"#FFA15A\",\"#19d3f3\",\"#FF6692\",\"#B6E880\",\"#FF97FF\",\"#FECB52\"],\"font\":{\"color\":\"#2a3f5f\"},\"geo\":{\"bgcolor\":\"white\",\"lakecolor\":\"white\",\"landcolor\":\"white\",\"showlakes\":true,\"showland\":true,\"subunitcolor\":\"#C8D4E3\"},\"hoverlabel\":{\"align\":\"left\"},\"hovermode\":\"closest\",\"mapbox\":{\"style\":\"light\"},\"paper_bgcolor\":\"white\",\"plot_bgcolor\":\"white\",\"polar\":{\"angularaxis\":{\"gridcolor\":\"#EBF0F8\",\"linecolor\":\"#EBF0F8\",\"ticks\":\"\"},\"bgcolor\":\"white\",\"radialaxis\":{\"gridcolor\":\"#EBF0F8\",\"linecolor\":\"#EBF0F8\",\"ticks\":\"\"}},\"scene\":{\"xaxis\":{\"backgroundcolor\":\"white\",\"gridcolor\":\"#DFE8F3\",\"gridwidth\":2,\"linecolor\":\"#EBF0F8\",\"showbackground\":true,\"ticks\":\"\",\"zerolinecolor\":\"#EBF0F8\"},\"yaxis\":{\"backgroundcolor\":\"white\",\"gridcolor\":\"#DFE8F3\",\"gridwidth\":2,\"linecolor\":\"#EBF0F8\",\"showbackground\":true,\"ticks\":\"\",\"zerolinecolor\":\"#EBF0F8\"},\"zaxis\":{\"backgroundcolor\":\"white\",\"gridcolor\":\"#DFE8F3\",\"gridwidth\":2,\"linecolor\":\"#EBF0F8\",\"showbackground\":true,\"ticks\":\"\",\"zerolinecolor\":\"#EBF0F8\"}},\"shapedefaults\":{\"line\":{\"color\":\"#2a3f5f\"}},\"ternary\":{\"aaxis\":{\"gridcolor\":\"#DFE8F3\",\"linecolor\":\"#A2B1C6\",\"ticks\":\"\"},\"baxis\":{\"gridcolor\":\"#DFE8F3\",\"linecolor\":\"#A2B1C6\",\"ticks\":\"\"},\"bgcolor\":\"white\",\"caxis\":{\"gridcolor\":\"#DFE8F3\",\"linecolor\":\"#A2B1C6\",\"ticks\":\"\"}},\"title\":{\"x\":0.05},\"xaxis\":{\"automargin\":true,\"gridcolor\":\"#EBF0F8\",\"linecolor\":\"#EBF0F8\",\"ticks\":\"\",\"title\":{\"standoff\":15},\"zerolinecolor\":\"#EBF0F8\",\"zerolinewidth\":2},\"yaxis\":{\"automargin\":true,\"gridcolor\":\"#EBF0F8\",\"linecolor\":\"#EBF0F8\",\"ticks\":\"\",\"title\":{\"standoff\":15},\"zerolinecolor\":\"#EBF0F8\",\"zerolinewidth\":2}}},\"xaxis\":{\"anchor\":\"y\",\"domain\":[0.0,1.0],\"title\":{\"text\":\"Objective function\"}},\"yaxis\":{\"anchor\":\"x\",\"domain\":[0.0,1.0],\"title\":{\"text\":\"Total ecosystem quality\"}},\"legend\":{\"title\":{\"text\":\"Energy technology or resource\"},\"tracegroupgap\":0},\"margin\":{\"t\":60},\"barmode\":\"stack\"},                        {\"responsive\": true}                    ).then(function(){\n",
       "                            \n",
       "var gd = document.getElementById('187784a5-6d87-4357-9352-ee0b3c5eee7f');\n",
       "var x = new MutationObserver(function (mutations, observer) {{\n",
       "        var display = window.getComputedStyle(gd).display;\n",
       "        if (!display || display === 'none') {{\n",
       "            console.log([gd, 'removed!']);\n",
       "            Plotly.purge(gd);\n",
       "            observer.disconnect();\n",
       "        }}\n",
       "}});\n",
       "\n",
       "// Listen for the removal of the full notebook cells\n",
       "var notebookContainer = gd.closest('#notebook-container');\n",
       "if (notebookContainer) {{\n",
       "    x.observe(notebookContainer, {childList: true});\n",
       "}}\n",
       "\n",
       "// Listen for the clearing of the current output cell\n",
       "var outputEl = gd.closest('.output');\n",
       "if (outputEl) {{\n",
       "    x.observe(outputEl, {childList: true});\n",
       "}}\n",
       "\n",
       "                        })                };                });            </script>        </div>"
      ]
     },
     "metadata": {},
     "output_type": "display_data"
    }
   ],
   "execution_count": 45
  },
  {
   "metadata": {
    "ExecuteTime": {
     "end_time": "2025-05-12T16:29:50.294142Z",
     "start_time": "2025-05-12T16:29:49.940186Z"
    }
   },
   "cell_type": "code",
   "source": [
    "plot_technologies_contribution(\n",
    "    cat='Climate change, short term',\n",
    "    esm_results_f_mult=esm_results_f_mult,\n",
    "    esm_results_annual_prod=esm_results_annual_prod,\n",
    "    esm_results_annual_res=esm_results_annual_res,\n",
    "    tech_to_show_list=tech_to_show_list,\n",
    ")"
   ],
   "id": "5b828841e5ccac0a",
   "outputs": [
    {
     "data": {
      "application/vnd.plotly.v1+json": {
       "data": [
        {
         "alignmentgroup": "True",
         "hovertemplate": "Energy technology or resource=Battery<br>Objective function=%{x}<br>Climate change, short term=%{y}<extra></extra>",
         "legendgroup": "Battery",
         "marker": {
          "color": "#9467bd",
          "pattern": {
           "shape": ""
          }
         },
         "name": "Battery",
         "offsetgroup": "Battery",
         "orientation": "v",
         "showlegend": true,
         "textposition": "auto",
         "x": [
          "Total cost",
          "Total ecosystem quality",
          "Total human health",
          "Climate change, short-term"
         ],
         "xaxis": "x",
         "y": [
          1.1066462575970568,
          2.6799656945372328,
          2.5176727180486766,
          2.2739102862740155
         ],
         "yaxis": "y",
         "type": "bar"
        },
        {
         "alignmentgroup": "True",
         "hovertemplate": "Energy technology or resource=Combined cycle gas turbine<br>Objective function=%{x}<br>Climate change, short term=%{y}<extra></extra>",
         "legendgroup": "Combined cycle gas turbine",
         "marker": {
          "color": "#b0b0b0",
          "pattern": {
           "shape": ""
          }
         },
         "name": "Combined cycle gas turbine",
         "offsetgroup": "Combined cycle gas turbine",
         "orientation": "v",
         "showlegend": true,
         "textposition": "auto",
         "x": [
          "Total cost",
          "Total ecosystem quality",
          "Total human health",
          "Climate change, short-term"
         ],
         "xaxis": "x",
         "y": [
          339.9906972301043,
          0.0,
          0.0,
          0.0
         ],
         "yaxis": "y",
         "type": "bar"
        },
        {
         "alignmentgroup": "True",
         "hovertemplate": "Energy technology or resource=Combined cycle gas turbine with carbon capture and storage<br>Objective function=%{x}<br>Climate change, short term=%{y}<extra></extra>",
         "legendgroup": "Combined cycle gas turbine with carbon capture and storage",
         "marker": {
          "color": "#d3d3d3",
          "pattern": {
           "shape": ""
          }
         },
         "name": "Combined cycle gas turbine with carbon capture and storage",
         "offsetgroup": "Combined cycle gas turbine with carbon capture and storage",
         "orientation": "v",
         "showlegend": true,
         "textposition": "auto",
         "x": [
          "Total cost",
          "Total ecosystem quality",
          "Total human health",
          "Climate change, short-term"
         ],
         "xaxis": "x",
         "y": [
          0.0,
          17.69918620180792,
          13.61224774088143,
          11.3102721791568
         ],
         "yaxis": "y",
         "type": "bar"
        },
        {
         "alignmentgroup": "True",
         "hovertemplate": "Energy technology or resource=Coal<br>Objective function=%{x}<br>Climate change, short term=%{y}<extra></extra>",
         "legendgroup": "Coal",
         "marker": {
          "color": "#8c564b",
          "pattern": {
           "shape": ""
          }
         },
         "name": "Coal",
         "offsetgroup": "Coal",
         "orientation": "v",
         "showlegend": true,
         "textposition": "auto",
         "x": [
          "Total cost",
          "Total ecosystem quality",
          "Total human health",
          "Climate change, short-term"
         ],
         "xaxis": "x",
         "y": [
          0.0,
          0.0,
          0.0,
          0.0
         ],
         "yaxis": "y",
         "type": "bar"
        },
        {
         "alignmentgroup": "True",
         "hovertemplate": "Energy technology or resource=Integrated gasification combined cycle<br>Objective function=%{x}<br>Climate change, short term=%{y}<extra></extra>",
         "legendgroup": "Integrated gasification combined cycle",
         "marker": {
          "color": "#d62728",
          "pattern": {
           "shape": ""
          }
         },
         "name": "Integrated gasification combined cycle",
         "offsetgroup": "Integrated gasification combined cycle",
         "orientation": "v",
         "showlegend": true,
         "textposition": "auto",
         "x": [
          "Total cost",
          "Total ecosystem quality",
          "Total human health",
          "Climate change, short-term"
         ],
         "xaxis": "x",
         "y": [
          0.0,
          0.0,
          0.0,
          0.0
         ],
         "yaxis": "y",
         "type": "bar"
        },
        {
         "alignmentgroup": "True",
         "hovertemplate": "Energy technology or resource=Integrated gasification combined cycle with carbon capture and storage<br>Objective function=%{x}<br>Climate change, short term=%{y}<extra></extra>",
         "legendgroup": "Integrated gasification combined cycle with carbon capture and storage",
         "marker": {
          "color": "#ff9896",
          "pattern": {
           "shape": ""
          }
         },
         "name": "Integrated gasification combined cycle with carbon capture and storage",
         "offsetgroup": "Integrated gasification combined cycle with carbon capture and storage",
         "orientation": "v",
         "showlegend": true,
         "textposition": "auto",
         "x": [
          "Total cost",
          "Total ecosystem quality",
          "Total human health",
          "Climate change, short-term"
         ],
         "xaxis": "x",
         "y": [
          0.0,
          0.0,
          0.0,
          0.0
         ],
         "yaxis": "y",
         "type": "bar"
        },
        {
         "alignmentgroup": "True",
         "hovertemplate": "Energy technology or resource=Natural gas<br>Objective function=%{x}<br>Climate change, short term=%{y}<extra></extra>",
         "legendgroup": "Natural gas",
         "marker": {
          "color": "#505050",
          "pattern": {
           "shape": ""
          }
         },
         "name": "Natural gas",
         "offsetgroup": "Natural gas",
         "orientation": "v",
         "showlegend": true,
         "textposition": "auto",
         "x": [
          "Total cost",
          "Total ecosystem quality",
          "Total human health",
          "Climate change, short-term"
         ],
         "xaxis": "x",
         "y": [
          98.22242692650377,
          44.54472371661587,
          33.47945636288402,
          27.817724969638416
         ],
         "yaxis": "y",
         "type": "bar"
        },
        {
         "alignmentgroup": "True",
         "hovertemplate": "Energy technology or resource=Nuclear<br>Objective function=%{x}<br>Climate change, short term=%{y}<extra></extra>",
         "legendgroup": "Nuclear",
         "marker": {
          "color": "#2ca02c",
          "pattern": {
           "shape": ""
          }
         },
         "name": "Nuclear",
         "offsetgroup": "Nuclear",
         "orientation": "v",
         "showlegend": true,
         "textposition": "auto",
         "x": [
          "Total cost",
          "Total ecosystem quality",
          "Total human health",
          "Climate change, short-term"
         ],
         "xaxis": "x",
         "y": [
          0.0,
          0.0,
          0.0,
          0.0
         ],
         "yaxis": "y",
         "type": "bar"
        },
        {
         "alignmentgroup": "True",
         "hovertemplate": "Energy technology or resource=Photovoltaic<br>Objective function=%{x}<br>Climate change, short term=%{y}<extra></extra>",
         "legendgroup": "Photovoltaic",
         "marker": {
          "color": "#ff7f0e",
          "pattern": {
           "shape": ""
          }
         },
         "name": "Photovoltaic",
         "offsetgroup": "Photovoltaic",
         "orientation": "v",
         "showlegend": true,
         "textposition": "auto",
         "x": [
          "Total cost",
          "Total ecosystem quality",
          "Total human health",
          "Climate change, short-term"
         ],
         "xaxis": "x",
         "y": [
          41.02183210026646,
          0.0,
          33.689459445039844,
          84.290606593943
         ],
         "yaxis": "y",
         "type": "bar"
        },
        {
         "alignmentgroup": "True",
         "hovertemplate": "Energy technology or resource=Uranium<br>Objective function=%{x}<br>Climate change, short term=%{y}<extra></extra>",
         "legendgroup": "Uranium",
         "marker": {
          "color": "#98df8a",
          "pattern": {
           "shape": ""
          }
         },
         "name": "Uranium",
         "offsetgroup": "Uranium",
         "orientation": "v",
         "showlegend": true,
         "textposition": "auto",
         "x": [
          "Total cost",
          "Total ecosystem quality",
          "Total human health",
          "Climate change, short-term"
         ],
         "xaxis": "x",
         "y": [
          0.0,
          0.0,
          0.0,
          0.0
         ],
         "yaxis": "y",
         "type": "bar"
        },
        {
         "alignmentgroup": "True",
         "hovertemplate": "Energy technology or resource=Onshore wind<br>Objective function=%{x}<br>Climate change, short term=%{y}<extra></extra>",
         "legendgroup": "Onshore wind",
         "marker": {
          "color": "#1f77b4",
          "pattern": {
           "shape": ""
          }
         },
         "name": "Onshore wind",
         "offsetgroup": "Onshore wind",
         "orientation": "v",
         "showlegend": true,
         "textposition": "auto",
         "x": [
          "Total cost",
          "Total ecosystem quality",
          "Total human health",
          "Climate change, short-term"
         ],
         "xaxis": "x",
         "y": [
          0.0,
          73.60119052842218,
          44.043218136747996,
          0.0
         ],
         "yaxis": "y",
         "type": "bar"
        }
       ],
       "layout": {
        "template": {
         "data": {
          "barpolar": [
           {
            "marker": {
             "line": {
              "color": "white",
              "width": 0.5
             },
             "pattern": {
              "fillmode": "overlay",
              "size": 10,
              "solidity": 0.2
             }
            },
            "type": "barpolar"
           }
          ],
          "bar": [
           {
            "error_x": {
             "color": "#2a3f5f"
            },
            "error_y": {
             "color": "#2a3f5f"
            },
            "marker": {
             "line": {
              "color": "white",
              "width": 0.5
             },
             "pattern": {
              "fillmode": "overlay",
              "size": 10,
              "solidity": 0.2
             }
            },
            "type": "bar"
           }
          ],
          "carpet": [
           {
            "aaxis": {
             "endlinecolor": "#2a3f5f",
             "gridcolor": "#C8D4E3",
             "linecolor": "#C8D4E3",
             "minorgridcolor": "#C8D4E3",
             "startlinecolor": "#2a3f5f"
            },
            "baxis": {
             "endlinecolor": "#2a3f5f",
             "gridcolor": "#C8D4E3",
             "linecolor": "#C8D4E3",
             "minorgridcolor": "#C8D4E3",
             "startlinecolor": "#2a3f5f"
            },
            "type": "carpet"
           }
          ],
          "choropleth": [
           {
            "colorbar": {
             "outlinewidth": 0,
             "ticks": ""
            },
            "type": "choropleth"
           }
          ],
          "contourcarpet": [
           {
            "colorbar": {
             "outlinewidth": 0,
             "ticks": ""
            },
            "type": "contourcarpet"
           }
          ],
          "contour": [
           {
            "colorbar": {
             "outlinewidth": 0,
             "ticks": ""
            },
            "colorscale": [
             [
              0.0,
              "#0d0887"
             ],
             [
              0.1111111111111111,
              "#46039f"
             ],
             [
              0.2222222222222222,
              "#7201a8"
             ],
             [
              0.3333333333333333,
              "#9c179e"
             ],
             [
              0.4444444444444444,
              "#bd3786"
             ],
             [
              0.5555555555555556,
              "#d8576b"
             ],
             [
              0.6666666666666666,
              "#ed7953"
             ],
             [
              0.7777777777777778,
              "#fb9f3a"
             ],
             [
              0.8888888888888888,
              "#fdca26"
             ],
             [
              1.0,
              "#f0f921"
             ]
            ],
            "type": "contour"
           }
          ],
          "heatmapgl": [
           {
            "colorbar": {
             "outlinewidth": 0,
             "ticks": ""
            },
            "colorscale": [
             [
              0.0,
              "#0d0887"
             ],
             [
              0.1111111111111111,
              "#46039f"
             ],
             [
              0.2222222222222222,
              "#7201a8"
             ],
             [
              0.3333333333333333,
              "#9c179e"
             ],
             [
              0.4444444444444444,
              "#bd3786"
             ],
             [
              0.5555555555555556,
              "#d8576b"
             ],
             [
              0.6666666666666666,
              "#ed7953"
             ],
             [
              0.7777777777777778,
              "#fb9f3a"
             ],
             [
              0.8888888888888888,
              "#fdca26"
             ],
             [
              1.0,
              "#f0f921"
             ]
            ],
            "type": "heatmapgl"
           }
          ],
          "heatmap": [
           {
            "colorbar": {
             "outlinewidth": 0,
             "ticks": ""
            },
            "colorscale": [
             [
              0.0,
              "#0d0887"
             ],
             [
              0.1111111111111111,
              "#46039f"
             ],
             [
              0.2222222222222222,
              "#7201a8"
             ],
             [
              0.3333333333333333,
              "#9c179e"
             ],
             [
              0.4444444444444444,
              "#bd3786"
             ],
             [
              0.5555555555555556,
              "#d8576b"
             ],
             [
              0.6666666666666666,
              "#ed7953"
             ],
             [
              0.7777777777777778,
              "#fb9f3a"
             ],
             [
              0.8888888888888888,
              "#fdca26"
             ],
             [
              1.0,
              "#f0f921"
             ]
            ],
            "type": "heatmap"
           }
          ],
          "histogram2dcontour": [
           {
            "colorbar": {
             "outlinewidth": 0,
             "ticks": ""
            },
            "colorscale": [
             [
              0.0,
              "#0d0887"
             ],
             [
              0.1111111111111111,
              "#46039f"
             ],
             [
              0.2222222222222222,
              "#7201a8"
             ],
             [
              0.3333333333333333,
              "#9c179e"
             ],
             [
              0.4444444444444444,
              "#bd3786"
             ],
             [
              0.5555555555555556,
              "#d8576b"
             ],
             [
              0.6666666666666666,
              "#ed7953"
             ],
             [
              0.7777777777777778,
              "#fb9f3a"
             ],
             [
              0.8888888888888888,
              "#fdca26"
             ],
             [
              1.0,
              "#f0f921"
             ]
            ],
            "type": "histogram2dcontour"
           }
          ],
          "histogram2d": [
           {
            "colorbar": {
             "outlinewidth": 0,
             "ticks": ""
            },
            "colorscale": [
             [
              0.0,
              "#0d0887"
             ],
             [
              0.1111111111111111,
              "#46039f"
             ],
             [
              0.2222222222222222,
              "#7201a8"
             ],
             [
              0.3333333333333333,
              "#9c179e"
             ],
             [
              0.4444444444444444,
              "#bd3786"
             ],
             [
              0.5555555555555556,
              "#d8576b"
             ],
             [
              0.6666666666666666,
              "#ed7953"
             ],
             [
              0.7777777777777778,
              "#fb9f3a"
             ],
             [
              0.8888888888888888,
              "#fdca26"
             ],
             [
              1.0,
              "#f0f921"
             ]
            ],
            "type": "histogram2d"
           }
          ],
          "histogram": [
           {
            "marker": {
             "pattern": {
              "fillmode": "overlay",
              "size": 10,
              "solidity": 0.2
             }
            },
            "type": "histogram"
           }
          ],
          "mesh3d": [
           {
            "colorbar": {
             "outlinewidth": 0,
             "ticks": ""
            },
            "type": "mesh3d"
           }
          ],
          "parcoords": [
           {
            "line": {
             "colorbar": {
              "outlinewidth": 0,
              "ticks": ""
             }
            },
            "type": "parcoords"
           }
          ],
          "pie": [
           {
            "automargin": true,
            "type": "pie"
           }
          ],
          "scatter3d": [
           {
            "line": {
             "colorbar": {
              "outlinewidth": 0,
              "ticks": ""
             }
            },
            "marker": {
             "colorbar": {
              "outlinewidth": 0,
              "ticks": ""
             }
            },
            "type": "scatter3d"
           }
          ],
          "scattercarpet": [
           {
            "marker": {
             "colorbar": {
              "outlinewidth": 0,
              "ticks": ""
             }
            },
            "type": "scattercarpet"
           }
          ],
          "scattergeo": [
           {
            "marker": {
             "colorbar": {
              "outlinewidth": 0,
              "ticks": ""
             }
            },
            "type": "scattergeo"
           }
          ],
          "scattergl": [
           {
            "marker": {
             "colorbar": {
              "outlinewidth": 0,
              "ticks": ""
             }
            },
            "type": "scattergl"
           }
          ],
          "scattermapbox": [
           {
            "marker": {
             "colorbar": {
              "outlinewidth": 0,
              "ticks": ""
             }
            },
            "type": "scattermapbox"
           }
          ],
          "scatterpolargl": [
           {
            "marker": {
             "colorbar": {
              "outlinewidth": 0,
              "ticks": ""
             }
            },
            "type": "scatterpolargl"
           }
          ],
          "scatterpolar": [
           {
            "marker": {
             "colorbar": {
              "outlinewidth": 0,
              "ticks": ""
             }
            },
            "type": "scatterpolar"
           }
          ],
          "scatter": [
           {
            "fillpattern": {
             "fillmode": "overlay",
             "size": 10,
             "solidity": 0.2
            },
            "type": "scatter"
           }
          ],
          "scatterternary": [
           {
            "marker": {
             "colorbar": {
              "outlinewidth": 0,
              "ticks": ""
             }
            },
            "type": "scatterternary"
           }
          ],
          "surface": [
           {
            "colorbar": {
             "outlinewidth": 0,
             "ticks": ""
            },
            "colorscale": [
             [
              0.0,
              "#0d0887"
             ],
             [
              0.1111111111111111,
              "#46039f"
             ],
             [
              0.2222222222222222,
              "#7201a8"
             ],
             [
              0.3333333333333333,
              "#9c179e"
             ],
             [
              0.4444444444444444,
              "#bd3786"
             ],
             [
              0.5555555555555556,
              "#d8576b"
             ],
             [
              0.6666666666666666,
              "#ed7953"
             ],
             [
              0.7777777777777778,
              "#fb9f3a"
             ],
             [
              0.8888888888888888,
              "#fdca26"
             ],
             [
              1.0,
              "#f0f921"
             ]
            ],
            "type": "surface"
           }
          ],
          "table": [
           {
            "cells": {
             "fill": {
              "color": "#EBF0F8"
             },
             "line": {
              "color": "white"
             }
            },
            "header": {
             "fill": {
              "color": "#C8D4E3"
             },
             "line": {
              "color": "white"
             }
            },
            "type": "table"
           }
          ]
         },
         "layout": {
          "annotationdefaults": {
           "arrowcolor": "#2a3f5f",
           "arrowhead": 0,
           "arrowwidth": 1
          },
          "autotypenumbers": "strict",
          "coloraxis": {
           "colorbar": {
            "outlinewidth": 0,
            "ticks": ""
           }
          },
          "colorscale": {
           "diverging": [
            [
             0,
             "#8e0152"
            ],
            [
             0.1,
             "#c51b7d"
            ],
            [
             0.2,
             "#de77ae"
            ],
            [
             0.3,
             "#f1b6da"
            ],
            [
             0.4,
             "#fde0ef"
            ],
            [
             0.5,
             "#f7f7f7"
            ],
            [
             0.6,
             "#e6f5d0"
            ],
            [
             0.7,
             "#b8e186"
            ],
            [
             0.8,
             "#7fbc41"
            ],
            [
             0.9,
             "#4d9221"
            ],
            [
             1,
             "#276419"
            ]
           ],
           "sequential": [
            [
             0.0,
             "#0d0887"
            ],
            [
             0.1111111111111111,
             "#46039f"
            ],
            [
             0.2222222222222222,
             "#7201a8"
            ],
            [
             0.3333333333333333,
             "#9c179e"
            ],
            [
             0.4444444444444444,
             "#bd3786"
            ],
            [
             0.5555555555555556,
             "#d8576b"
            ],
            [
             0.6666666666666666,
             "#ed7953"
            ],
            [
             0.7777777777777778,
             "#fb9f3a"
            ],
            [
             0.8888888888888888,
             "#fdca26"
            ],
            [
             1.0,
             "#f0f921"
            ]
           ],
           "sequentialminus": [
            [
             0.0,
             "#0d0887"
            ],
            [
             0.1111111111111111,
             "#46039f"
            ],
            [
             0.2222222222222222,
             "#7201a8"
            ],
            [
             0.3333333333333333,
             "#9c179e"
            ],
            [
             0.4444444444444444,
             "#bd3786"
            ],
            [
             0.5555555555555556,
             "#d8576b"
            ],
            [
             0.6666666666666666,
             "#ed7953"
            ],
            [
             0.7777777777777778,
             "#fb9f3a"
            ],
            [
             0.8888888888888888,
             "#fdca26"
            ],
            [
             1.0,
             "#f0f921"
            ]
           ]
          },
          "colorway": [
           "#636efa",
           "#EF553B",
           "#00cc96",
           "#ab63fa",
           "#FFA15A",
           "#19d3f3",
           "#FF6692",
           "#B6E880",
           "#FF97FF",
           "#FECB52"
          ],
          "font": {
           "color": "#2a3f5f"
          },
          "geo": {
           "bgcolor": "white",
           "lakecolor": "white",
           "landcolor": "white",
           "showlakes": true,
           "showland": true,
           "subunitcolor": "#C8D4E3"
          },
          "hoverlabel": {
           "align": "left"
          },
          "hovermode": "closest",
          "mapbox": {
           "style": "light"
          },
          "paper_bgcolor": "white",
          "plot_bgcolor": "white",
          "polar": {
           "angularaxis": {
            "gridcolor": "#EBF0F8",
            "linecolor": "#EBF0F8",
            "ticks": ""
           },
           "bgcolor": "white",
           "radialaxis": {
            "gridcolor": "#EBF0F8",
            "linecolor": "#EBF0F8",
            "ticks": ""
           }
          },
          "scene": {
           "xaxis": {
            "backgroundcolor": "white",
            "gridcolor": "#DFE8F3",
            "gridwidth": 2,
            "linecolor": "#EBF0F8",
            "showbackground": true,
            "ticks": "",
            "zerolinecolor": "#EBF0F8"
           },
           "yaxis": {
            "backgroundcolor": "white",
            "gridcolor": "#DFE8F3",
            "gridwidth": 2,
            "linecolor": "#EBF0F8",
            "showbackground": true,
            "ticks": "",
            "zerolinecolor": "#EBF0F8"
           },
           "zaxis": {
            "backgroundcolor": "white",
            "gridcolor": "#DFE8F3",
            "gridwidth": 2,
            "linecolor": "#EBF0F8",
            "showbackground": true,
            "ticks": "",
            "zerolinecolor": "#EBF0F8"
           }
          },
          "shapedefaults": {
           "line": {
            "color": "#2a3f5f"
           }
          },
          "ternary": {
           "aaxis": {
            "gridcolor": "#DFE8F3",
            "linecolor": "#A2B1C6",
            "ticks": ""
           },
           "baxis": {
            "gridcolor": "#DFE8F3",
            "linecolor": "#A2B1C6",
            "ticks": ""
           },
           "bgcolor": "white",
           "caxis": {
            "gridcolor": "#DFE8F3",
            "linecolor": "#A2B1C6",
            "ticks": ""
           }
          },
          "title": {
           "x": 0.05
          },
          "xaxis": {
           "automargin": true,
           "gridcolor": "#EBF0F8",
           "linecolor": "#EBF0F8",
           "ticks": "",
           "title": {
            "standoff": 15
           },
           "zerolinecolor": "#EBF0F8",
           "zerolinewidth": 2
          },
          "yaxis": {
           "automargin": true,
           "gridcolor": "#EBF0F8",
           "linecolor": "#EBF0F8",
           "ticks": "",
           "title": {
            "standoff": 15
           },
           "zerolinecolor": "#EBF0F8",
           "zerolinewidth": 2
          }
         }
        },
        "xaxis": {
         "anchor": "y",
         "domain": [
          0.0,
          1.0
         ],
         "title": {
          "text": "Objective function"
         }
        },
        "yaxis": {
         "anchor": "x",
         "domain": [
          0.0,
          1.0
         ],
         "title": {
          "text": "Climate change, short term"
         }
        },
        "legend": {
         "title": {
          "text": "Energy technology or resource"
         },
         "tracegroupgap": 0
        },
        "margin": {
         "t": 60
        },
        "barmode": "stack"
       },
       "config": {
        "plotlyServerURL": "https://plot.ly"
       }
      },
      "text/html": [
       "<div>                            <div id=\"0598abc6-d29c-4584-881c-409c5d66b926\" class=\"plotly-graph-div\" style=\"height:525px; width:100%;\"></div>            <script type=\"text/javascript\">                require([\"plotly\"], function(Plotly) {                    window.PLOTLYENV=window.PLOTLYENV || {};                                    if (document.getElementById(\"0598abc6-d29c-4584-881c-409c5d66b926\")) {                    Plotly.newPlot(                        \"0598abc6-d29c-4584-881c-409c5d66b926\",                        [{\"alignmentgroup\":\"True\",\"hovertemplate\":\"Energy technology or resource=Battery\\u003cbr\\u003eObjective function=%{x}\\u003cbr\\u003eClimate change, short term=%{y}\\u003cextra\\u003e\\u003c\\u002fextra\\u003e\",\"legendgroup\":\"Battery\",\"marker\":{\"color\":\"#9467bd\",\"pattern\":{\"shape\":\"\"}},\"name\":\"Battery\",\"offsetgroup\":\"Battery\",\"orientation\":\"v\",\"showlegend\":true,\"textposition\":\"auto\",\"x\":[\"Total cost\",\"Total ecosystem quality\",\"Total human health\",\"Climate change, short-term\"],\"xaxis\":\"x\",\"y\":[1.1066462575970568,2.6799656945372328,2.5176727180486766,2.2739102862740155],\"yaxis\":\"y\",\"type\":\"bar\"},{\"alignmentgroup\":\"True\",\"hovertemplate\":\"Energy technology or resource=Combined cycle gas turbine\\u003cbr\\u003eObjective function=%{x}\\u003cbr\\u003eClimate change, short term=%{y}\\u003cextra\\u003e\\u003c\\u002fextra\\u003e\",\"legendgroup\":\"Combined cycle gas turbine\",\"marker\":{\"color\":\"#b0b0b0\",\"pattern\":{\"shape\":\"\"}},\"name\":\"Combined cycle gas turbine\",\"offsetgroup\":\"Combined cycle gas turbine\",\"orientation\":\"v\",\"showlegend\":true,\"textposition\":\"auto\",\"x\":[\"Total cost\",\"Total ecosystem quality\",\"Total human health\",\"Climate change, short-term\"],\"xaxis\":\"x\",\"y\":[339.9906972301043,0.0,0.0,0.0],\"yaxis\":\"y\",\"type\":\"bar\"},{\"alignmentgroup\":\"True\",\"hovertemplate\":\"Energy technology or resource=Combined cycle gas turbine with carbon capture and storage\\u003cbr\\u003eObjective function=%{x}\\u003cbr\\u003eClimate change, short term=%{y}\\u003cextra\\u003e\\u003c\\u002fextra\\u003e\",\"legendgroup\":\"Combined cycle gas turbine with carbon capture and storage\",\"marker\":{\"color\":\"#d3d3d3\",\"pattern\":{\"shape\":\"\"}},\"name\":\"Combined cycle gas turbine with carbon capture and storage\",\"offsetgroup\":\"Combined cycle gas turbine with carbon capture and storage\",\"orientation\":\"v\",\"showlegend\":true,\"textposition\":\"auto\",\"x\":[\"Total cost\",\"Total ecosystem quality\",\"Total human health\",\"Climate change, short-term\"],\"xaxis\":\"x\",\"y\":[0.0,17.69918620180792,13.61224774088143,11.3102721791568],\"yaxis\":\"y\",\"type\":\"bar\"},{\"alignmentgroup\":\"True\",\"hovertemplate\":\"Energy technology or resource=Coal\\u003cbr\\u003eObjective function=%{x}\\u003cbr\\u003eClimate change, short term=%{y}\\u003cextra\\u003e\\u003c\\u002fextra\\u003e\",\"legendgroup\":\"Coal\",\"marker\":{\"color\":\"#8c564b\",\"pattern\":{\"shape\":\"\"}},\"name\":\"Coal\",\"offsetgroup\":\"Coal\",\"orientation\":\"v\",\"showlegend\":true,\"textposition\":\"auto\",\"x\":[\"Total cost\",\"Total ecosystem quality\",\"Total human health\",\"Climate change, short-term\"],\"xaxis\":\"x\",\"y\":[0.0,0.0,0.0,0.0],\"yaxis\":\"y\",\"type\":\"bar\"},{\"alignmentgroup\":\"True\",\"hovertemplate\":\"Energy technology or resource=Integrated gasification combined cycle\\u003cbr\\u003eObjective function=%{x}\\u003cbr\\u003eClimate change, short term=%{y}\\u003cextra\\u003e\\u003c\\u002fextra\\u003e\",\"legendgroup\":\"Integrated gasification combined cycle\",\"marker\":{\"color\":\"#d62728\",\"pattern\":{\"shape\":\"\"}},\"name\":\"Integrated gasification combined cycle\",\"offsetgroup\":\"Integrated gasification combined cycle\",\"orientation\":\"v\",\"showlegend\":true,\"textposition\":\"auto\",\"x\":[\"Total cost\",\"Total ecosystem quality\",\"Total human health\",\"Climate change, short-term\"],\"xaxis\":\"x\",\"y\":[0.0,0.0,0.0,0.0],\"yaxis\":\"y\",\"type\":\"bar\"},{\"alignmentgroup\":\"True\",\"hovertemplate\":\"Energy technology or resource=Integrated gasification combined cycle with carbon capture and storage\\u003cbr\\u003eObjective function=%{x}\\u003cbr\\u003eClimate change, short term=%{y}\\u003cextra\\u003e\\u003c\\u002fextra\\u003e\",\"legendgroup\":\"Integrated gasification combined cycle with carbon capture and storage\",\"marker\":{\"color\":\"#ff9896\",\"pattern\":{\"shape\":\"\"}},\"name\":\"Integrated gasification combined cycle with carbon capture and storage\",\"offsetgroup\":\"Integrated gasification combined cycle with carbon capture and storage\",\"orientation\":\"v\",\"showlegend\":true,\"textposition\":\"auto\",\"x\":[\"Total cost\",\"Total ecosystem quality\",\"Total human health\",\"Climate change, short-term\"],\"xaxis\":\"x\",\"y\":[0.0,0.0,0.0,0.0],\"yaxis\":\"y\",\"type\":\"bar\"},{\"alignmentgroup\":\"True\",\"hovertemplate\":\"Energy technology or resource=Natural gas\\u003cbr\\u003eObjective function=%{x}\\u003cbr\\u003eClimate change, short term=%{y}\\u003cextra\\u003e\\u003c\\u002fextra\\u003e\",\"legendgroup\":\"Natural gas\",\"marker\":{\"color\":\"#505050\",\"pattern\":{\"shape\":\"\"}},\"name\":\"Natural gas\",\"offsetgroup\":\"Natural gas\",\"orientation\":\"v\",\"showlegend\":true,\"textposition\":\"auto\",\"x\":[\"Total cost\",\"Total ecosystem quality\",\"Total human health\",\"Climate change, short-term\"],\"xaxis\":\"x\",\"y\":[98.22242692650377,44.54472371661587,33.47945636288402,27.817724969638416],\"yaxis\":\"y\",\"type\":\"bar\"},{\"alignmentgroup\":\"True\",\"hovertemplate\":\"Energy technology or resource=Nuclear\\u003cbr\\u003eObjective function=%{x}\\u003cbr\\u003eClimate change, short term=%{y}\\u003cextra\\u003e\\u003c\\u002fextra\\u003e\",\"legendgroup\":\"Nuclear\",\"marker\":{\"color\":\"#2ca02c\",\"pattern\":{\"shape\":\"\"}},\"name\":\"Nuclear\",\"offsetgroup\":\"Nuclear\",\"orientation\":\"v\",\"showlegend\":true,\"textposition\":\"auto\",\"x\":[\"Total cost\",\"Total ecosystem quality\",\"Total human health\",\"Climate change, short-term\"],\"xaxis\":\"x\",\"y\":[0.0,0.0,0.0,0.0],\"yaxis\":\"y\",\"type\":\"bar\"},{\"alignmentgroup\":\"True\",\"hovertemplate\":\"Energy technology or resource=Photovoltaic\\u003cbr\\u003eObjective function=%{x}\\u003cbr\\u003eClimate change, short term=%{y}\\u003cextra\\u003e\\u003c\\u002fextra\\u003e\",\"legendgroup\":\"Photovoltaic\",\"marker\":{\"color\":\"#ff7f0e\",\"pattern\":{\"shape\":\"\"}},\"name\":\"Photovoltaic\",\"offsetgroup\":\"Photovoltaic\",\"orientation\":\"v\",\"showlegend\":true,\"textposition\":\"auto\",\"x\":[\"Total cost\",\"Total ecosystem quality\",\"Total human health\",\"Climate change, short-term\"],\"xaxis\":\"x\",\"y\":[41.02183210026646,0.0,33.689459445039844,84.290606593943],\"yaxis\":\"y\",\"type\":\"bar\"},{\"alignmentgroup\":\"True\",\"hovertemplate\":\"Energy technology or resource=Uranium\\u003cbr\\u003eObjective function=%{x}\\u003cbr\\u003eClimate change, short term=%{y}\\u003cextra\\u003e\\u003c\\u002fextra\\u003e\",\"legendgroup\":\"Uranium\",\"marker\":{\"color\":\"#98df8a\",\"pattern\":{\"shape\":\"\"}},\"name\":\"Uranium\",\"offsetgroup\":\"Uranium\",\"orientation\":\"v\",\"showlegend\":true,\"textposition\":\"auto\",\"x\":[\"Total cost\",\"Total ecosystem quality\",\"Total human health\",\"Climate change, short-term\"],\"xaxis\":\"x\",\"y\":[0.0,0.0,0.0,0.0],\"yaxis\":\"y\",\"type\":\"bar\"},{\"alignmentgroup\":\"True\",\"hovertemplate\":\"Energy technology or resource=Onshore wind\\u003cbr\\u003eObjective function=%{x}\\u003cbr\\u003eClimate change, short term=%{y}\\u003cextra\\u003e\\u003c\\u002fextra\\u003e\",\"legendgroup\":\"Onshore wind\",\"marker\":{\"color\":\"#1f77b4\",\"pattern\":{\"shape\":\"\"}},\"name\":\"Onshore wind\",\"offsetgroup\":\"Onshore wind\",\"orientation\":\"v\",\"showlegend\":true,\"textposition\":\"auto\",\"x\":[\"Total cost\",\"Total ecosystem quality\",\"Total human health\",\"Climate change, short-term\"],\"xaxis\":\"x\",\"y\":[0.0,73.60119052842218,44.043218136747996,0.0],\"yaxis\":\"y\",\"type\":\"bar\"}],                        {\"template\":{\"data\":{\"barpolar\":[{\"marker\":{\"line\":{\"color\":\"white\",\"width\":0.5},\"pattern\":{\"fillmode\":\"overlay\",\"size\":10,\"solidity\":0.2}},\"type\":\"barpolar\"}],\"bar\":[{\"error_x\":{\"color\":\"#2a3f5f\"},\"error_y\":{\"color\":\"#2a3f5f\"},\"marker\":{\"line\":{\"color\":\"white\",\"width\":0.5},\"pattern\":{\"fillmode\":\"overlay\",\"size\":10,\"solidity\":0.2}},\"type\":\"bar\"}],\"carpet\":[{\"aaxis\":{\"endlinecolor\":\"#2a3f5f\",\"gridcolor\":\"#C8D4E3\",\"linecolor\":\"#C8D4E3\",\"minorgridcolor\":\"#C8D4E3\",\"startlinecolor\":\"#2a3f5f\"},\"baxis\":{\"endlinecolor\":\"#2a3f5f\",\"gridcolor\":\"#C8D4E3\",\"linecolor\":\"#C8D4E3\",\"minorgridcolor\":\"#C8D4E3\",\"startlinecolor\":\"#2a3f5f\"},\"type\":\"carpet\"}],\"choropleth\":[{\"colorbar\":{\"outlinewidth\":0,\"ticks\":\"\"},\"type\":\"choropleth\"}],\"contourcarpet\":[{\"colorbar\":{\"outlinewidth\":0,\"ticks\":\"\"},\"type\":\"contourcarpet\"}],\"contour\":[{\"colorbar\":{\"outlinewidth\":0,\"ticks\":\"\"},\"colorscale\":[[0.0,\"#0d0887\"],[0.1111111111111111,\"#46039f\"],[0.2222222222222222,\"#7201a8\"],[0.3333333333333333,\"#9c179e\"],[0.4444444444444444,\"#bd3786\"],[0.5555555555555556,\"#d8576b\"],[0.6666666666666666,\"#ed7953\"],[0.7777777777777778,\"#fb9f3a\"],[0.8888888888888888,\"#fdca26\"],[1.0,\"#f0f921\"]],\"type\":\"contour\"}],\"heatmapgl\":[{\"colorbar\":{\"outlinewidth\":0,\"ticks\":\"\"},\"colorscale\":[[0.0,\"#0d0887\"],[0.1111111111111111,\"#46039f\"],[0.2222222222222222,\"#7201a8\"],[0.3333333333333333,\"#9c179e\"],[0.4444444444444444,\"#bd3786\"],[0.5555555555555556,\"#d8576b\"],[0.6666666666666666,\"#ed7953\"],[0.7777777777777778,\"#fb9f3a\"],[0.8888888888888888,\"#fdca26\"],[1.0,\"#f0f921\"]],\"type\":\"heatmapgl\"}],\"heatmap\":[{\"colorbar\":{\"outlinewidth\":0,\"ticks\":\"\"},\"colorscale\":[[0.0,\"#0d0887\"],[0.1111111111111111,\"#46039f\"],[0.2222222222222222,\"#7201a8\"],[0.3333333333333333,\"#9c179e\"],[0.4444444444444444,\"#bd3786\"],[0.5555555555555556,\"#d8576b\"],[0.6666666666666666,\"#ed7953\"],[0.7777777777777778,\"#fb9f3a\"],[0.8888888888888888,\"#fdca26\"],[1.0,\"#f0f921\"]],\"type\":\"heatmap\"}],\"histogram2dcontour\":[{\"colorbar\":{\"outlinewidth\":0,\"ticks\":\"\"},\"colorscale\":[[0.0,\"#0d0887\"],[0.1111111111111111,\"#46039f\"],[0.2222222222222222,\"#7201a8\"],[0.3333333333333333,\"#9c179e\"],[0.4444444444444444,\"#bd3786\"],[0.5555555555555556,\"#d8576b\"],[0.6666666666666666,\"#ed7953\"],[0.7777777777777778,\"#fb9f3a\"],[0.8888888888888888,\"#fdca26\"],[1.0,\"#f0f921\"]],\"type\":\"histogram2dcontour\"}],\"histogram2d\":[{\"colorbar\":{\"outlinewidth\":0,\"ticks\":\"\"},\"colorscale\":[[0.0,\"#0d0887\"],[0.1111111111111111,\"#46039f\"],[0.2222222222222222,\"#7201a8\"],[0.3333333333333333,\"#9c179e\"],[0.4444444444444444,\"#bd3786\"],[0.5555555555555556,\"#d8576b\"],[0.6666666666666666,\"#ed7953\"],[0.7777777777777778,\"#fb9f3a\"],[0.8888888888888888,\"#fdca26\"],[1.0,\"#f0f921\"]],\"type\":\"histogram2d\"}],\"histogram\":[{\"marker\":{\"pattern\":{\"fillmode\":\"overlay\",\"size\":10,\"solidity\":0.2}},\"type\":\"histogram\"}],\"mesh3d\":[{\"colorbar\":{\"outlinewidth\":0,\"ticks\":\"\"},\"type\":\"mesh3d\"}],\"parcoords\":[{\"line\":{\"colorbar\":{\"outlinewidth\":0,\"ticks\":\"\"}},\"type\":\"parcoords\"}],\"pie\":[{\"automargin\":true,\"type\":\"pie\"}],\"scatter3d\":[{\"line\":{\"colorbar\":{\"outlinewidth\":0,\"ticks\":\"\"}},\"marker\":{\"colorbar\":{\"outlinewidth\":0,\"ticks\":\"\"}},\"type\":\"scatter3d\"}],\"scattercarpet\":[{\"marker\":{\"colorbar\":{\"outlinewidth\":0,\"ticks\":\"\"}},\"type\":\"scattercarpet\"}],\"scattergeo\":[{\"marker\":{\"colorbar\":{\"outlinewidth\":0,\"ticks\":\"\"}},\"type\":\"scattergeo\"}],\"scattergl\":[{\"marker\":{\"colorbar\":{\"outlinewidth\":0,\"ticks\":\"\"}},\"type\":\"scattergl\"}],\"scattermapbox\":[{\"marker\":{\"colorbar\":{\"outlinewidth\":0,\"ticks\":\"\"}},\"type\":\"scattermapbox\"}],\"scatterpolargl\":[{\"marker\":{\"colorbar\":{\"outlinewidth\":0,\"ticks\":\"\"}},\"type\":\"scatterpolargl\"}],\"scatterpolar\":[{\"marker\":{\"colorbar\":{\"outlinewidth\":0,\"ticks\":\"\"}},\"type\":\"scatterpolar\"}],\"scatter\":[{\"fillpattern\":{\"fillmode\":\"overlay\",\"size\":10,\"solidity\":0.2},\"type\":\"scatter\"}],\"scatterternary\":[{\"marker\":{\"colorbar\":{\"outlinewidth\":0,\"ticks\":\"\"}},\"type\":\"scatterternary\"}],\"surface\":[{\"colorbar\":{\"outlinewidth\":0,\"ticks\":\"\"},\"colorscale\":[[0.0,\"#0d0887\"],[0.1111111111111111,\"#46039f\"],[0.2222222222222222,\"#7201a8\"],[0.3333333333333333,\"#9c179e\"],[0.4444444444444444,\"#bd3786\"],[0.5555555555555556,\"#d8576b\"],[0.6666666666666666,\"#ed7953\"],[0.7777777777777778,\"#fb9f3a\"],[0.8888888888888888,\"#fdca26\"],[1.0,\"#f0f921\"]],\"type\":\"surface\"}],\"table\":[{\"cells\":{\"fill\":{\"color\":\"#EBF0F8\"},\"line\":{\"color\":\"white\"}},\"header\":{\"fill\":{\"color\":\"#C8D4E3\"},\"line\":{\"color\":\"white\"}},\"type\":\"table\"}]},\"layout\":{\"annotationdefaults\":{\"arrowcolor\":\"#2a3f5f\",\"arrowhead\":0,\"arrowwidth\":1},\"autotypenumbers\":\"strict\",\"coloraxis\":{\"colorbar\":{\"outlinewidth\":0,\"ticks\":\"\"}},\"colorscale\":{\"diverging\":[[0,\"#8e0152\"],[0.1,\"#c51b7d\"],[0.2,\"#de77ae\"],[0.3,\"#f1b6da\"],[0.4,\"#fde0ef\"],[0.5,\"#f7f7f7\"],[0.6,\"#e6f5d0\"],[0.7,\"#b8e186\"],[0.8,\"#7fbc41\"],[0.9,\"#4d9221\"],[1,\"#276419\"]],\"sequential\":[[0.0,\"#0d0887\"],[0.1111111111111111,\"#46039f\"],[0.2222222222222222,\"#7201a8\"],[0.3333333333333333,\"#9c179e\"],[0.4444444444444444,\"#bd3786\"],[0.5555555555555556,\"#d8576b\"],[0.6666666666666666,\"#ed7953\"],[0.7777777777777778,\"#fb9f3a\"],[0.8888888888888888,\"#fdca26\"],[1.0,\"#f0f921\"]],\"sequentialminus\":[[0.0,\"#0d0887\"],[0.1111111111111111,\"#46039f\"],[0.2222222222222222,\"#7201a8\"],[0.3333333333333333,\"#9c179e\"],[0.4444444444444444,\"#bd3786\"],[0.5555555555555556,\"#d8576b\"],[0.6666666666666666,\"#ed7953\"],[0.7777777777777778,\"#fb9f3a\"],[0.8888888888888888,\"#fdca26\"],[1.0,\"#f0f921\"]]},\"colorway\":[\"#636efa\",\"#EF553B\",\"#00cc96\",\"#ab63fa\",\"#FFA15A\",\"#19d3f3\",\"#FF6692\",\"#B6E880\",\"#FF97FF\",\"#FECB52\"],\"font\":{\"color\":\"#2a3f5f\"},\"geo\":{\"bgcolor\":\"white\",\"lakecolor\":\"white\",\"landcolor\":\"white\",\"showlakes\":true,\"showland\":true,\"subunitcolor\":\"#C8D4E3\"},\"hoverlabel\":{\"align\":\"left\"},\"hovermode\":\"closest\",\"mapbox\":{\"style\":\"light\"},\"paper_bgcolor\":\"white\",\"plot_bgcolor\":\"white\",\"polar\":{\"angularaxis\":{\"gridcolor\":\"#EBF0F8\",\"linecolor\":\"#EBF0F8\",\"ticks\":\"\"},\"bgcolor\":\"white\",\"radialaxis\":{\"gridcolor\":\"#EBF0F8\",\"linecolor\":\"#EBF0F8\",\"ticks\":\"\"}},\"scene\":{\"xaxis\":{\"backgroundcolor\":\"white\",\"gridcolor\":\"#DFE8F3\",\"gridwidth\":2,\"linecolor\":\"#EBF0F8\",\"showbackground\":true,\"ticks\":\"\",\"zerolinecolor\":\"#EBF0F8\"},\"yaxis\":{\"backgroundcolor\":\"white\",\"gridcolor\":\"#DFE8F3\",\"gridwidth\":2,\"linecolor\":\"#EBF0F8\",\"showbackground\":true,\"ticks\":\"\",\"zerolinecolor\":\"#EBF0F8\"},\"zaxis\":{\"backgroundcolor\":\"white\",\"gridcolor\":\"#DFE8F3\",\"gridwidth\":2,\"linecolor\":\"#EBF0F8\",\"showbackground\":true,\"ticks\":\"\",\"zerolinecolor\":\"#EBF0F8\"}},\"shapedefaults\":{\"line\":{\"color\":\"#2a3f5f\"}},\"ternary\":{\"aaxis\":{\"gridcolor\":\"#DFE8F3\",\"linecolor\":\"#A2B1C6\",\"ticks\":\"\"},\"baxis\":{\"gridcolor\":\"#DFE8F3\",\"linecolor\":\"#A2B1C6\",\"ticks\":\"\"},\"bgcolor\":\"white\",\"caxis\":{\"gridcolor\":\"#DFE8F3\",\"linecolor\":\"#A2B1C6\",\"ticks\":\"\"}},\"title\":{\"x\":0.05},\"xaxis\":{\"automargin\":true,\"gridcolor\":\"#EBF0F8\",\"linecolor\":\"#EBF0F8\",\"ticks\":\"\",\"title\":{\"standoff\":15},\"zerolinecolor\":\"#EBF0F8\",\"zerolinewidth\":2},\"yaxis\":{\"automargin\":true,\"gridcolor\":\"#EBF0F8\",\"linecolor\":\"#EBF0F8\",\"ticks\":\"\",\"title\":{\"standoff\":15},\"zerolinecolor\":\"#EBF0F8\",\"zerolinewidth\":2}}},\"xaxis\":{\"anchor\":\"y\",\"domain\":[0.0,1.0],\"title\":{\"text\":\"Objective function\"}},\"yaxis\":{\"anchor\":\"x\",\"domain\":[0.0,1.0],\"title\":{\"text\":\"Climate change, short term\"}},\"legend\":{\"title\":{\"text\":\"Energy technology or resource\"},\"tracegroupgap\":0},\"margin\":{\"t\":60},\"barmode\":\"stack\"},                        {\"responsive\": true}                    ).then(function(){\n",
       "                            \n",
       "var gd = document.getElementById('0598abc6-d29c-4584-881c-409c5d66b926');\n",
       "var x = new MutationObserver(function (mutations, observer) {{\n",
       "        var display = window.getComputedStyle(gd).display;\n",
       "        if (!display || display === 'none') {{\n",
       "            console.log([gd, 'removed!']);\n",
       "            Plotly.purge(gd);\n",
       "            observer.disconnect();\n",
       "        }}\n",
       "}});\n",
       "\n",
       "// Listen for the removal of the full notebook cells\n",
       "var notebookContainer = gd.closest('#notebook-container');\n",
       "if (notebookContainer) {{\n",
       "    x.observe(notebookContainer, {childList: true});\n",
       "}}\n",
       "\n",
       "// Listen for the clearing of the current output cell\n",
       "var outputEl = gd.closest('.output');\n",
       "if (outputEl) {{\n",
       "    x.observe(outputEl, {childList: true});\n",
       "}}\n",
       "\n",
       "                        })                };                });            </script>        </div>"
      ]
     },
     "metadata": {},
     "output_type": "display_data"
    }
   ],
   "execution_count": 46
  },
  {
   "metadata": {
    "ExecuteTime": {
     "end_time": "2025-05-12T16:29:50.808516Z",
     "start_time": "2025-05-12T16:29:50.383892Z"
    }
   },
   "cell_type": "code",
   "source": [
    "plot_technologies_contribution(\n",
    "    cat='Total cost',\n",
    "    esm_results_f_mult=esm_results_f_mult,\n",
    "    esm_results_annual_prod=esm_results_annual_prod,\n",
    "    esm_results_annual_res=esm_results_annual_res,\n",
    "    tech_to_show_list=tech_to_show_list,\n",
    ")"
   ],
   "id": "5e1713f4830558d",
   "outputs": [
    {
     "data": {
      "application/vnd.plotly.v1+json": {
       "data": [
        {
         "alignmentgroup": "True",
         "hovertemplate": "Energy technology or resource=Battery<br>Objective function=%{x}<br>Total cost=%{y}<extra></extra>",
         "legendgroup": "Battery",
         "marker": {
          "color": "#9467bd",
          "pattern": {
           "shape": ""
          }
         },
         "name": "Battery",
         "offsetgroup": "Battery",
         "orientation": "v",
         "showlegend": true,
         "textposition": "auto",
         "x": [
          "Total cost",
          "Total ecosystem quality",
          "Total human health",
          "Climate change, short-term"
         ],
         "xaxis": "x",
         "y": [
          8.399756874456926,
          20.341694657584437,
          19.109845242672137,
          17.259619709465582
         ],
         "yaxis": "y",
         "type": "bar"
        },
        {
         "alignmentgroup": "True",
         "hovertemplate": "Energy technology or resource=Combined cycle gas turbine<br>Objective function=%{x}<br>Total cost=%{y}<extra></extra>",
         "legendgroup": "Combined cycle gas turbine",
         "marker": {
          "color": "#b0b0b0",
          "pattern": {
           "shape": ""
          }
         },
         "name": "Combined cycle gas turbine",
         "offsetgroup": "Combined cycle gas turbine",
         "orientation": "v",
         "showlegend": true,
         "textposition": "auto",
         "x": [
          "Total cost",
          "Total ecosystem quality",
          "Total human health",
          "Climate change, short-term"
         ],
         "xaxis": "x",
         "y": [
          134.77413694806063,
          0.0,
          0.0,
          0.0
         ],
         "yaxis": "y",
         "type": "bar"
        },
        {
         "alignmentgroup": "True",
         "hovertemplate": "Energy technology or resource=Combined cycle gas turbine with carbon capture and storage<br>Objective function=%{x}<br>Total cost=%{y}<extra></extra>",
         "legendgroup": "Combined cycle gas turbine with carbon capture and storage",
         "marker": {
          "color": "#d3d3d3",
          "pattern": {
           "shape": ""
          }
         },
         "name": "Combined cycle gas turbine with carbon capture and storage",
         "offsetgroup": "Combined cycle gas turbine with carbon capture and storage",
         "orientation": "v",
         "showlegend": true,
         "textposition": "auto",
         "x": [
          "Total cost",
          "Total ecosystem quality",
          "Total human health",
          "Climate change, short-term"
         ],
         "xaxis": "x",
         "y": [
          0.0,
          107.01957560933938,
          96.18950012545801,
          79.92283478125424
         ],
         "yaxis": "y",
         "type": "bar"
        },
        {
         "alignmentgroup": "True",
         "hovertemplate": "Energy technology or resource=Coal<br>Objective function=%{x}<br>Total cost=%{y}<extra></extra>",
         "legendgroup": "Coal",
         "marker": {
          "color": "#8c564b",
          "pattern": {
           "shape": ""
          }
         },
         "name": "Coal",
         "offsetgroup": "Coal",
         "orientation": "v",
         "showlegend": true,
         "textposition": "auto",
         "x": [
          "Total cost",
          "Total ecosystem quality",
          "Total human health",
          "Climate change, short-term"
         ],
         "xaxis": "x",
         "y": [
          0.0,
          0.0,
          0.0,
          0.0
         ],
         "yaxis": "y",
         "type": "bar"
        },
        {
         "alignmentgroup": "True",
         "hovertemplate": "Energy technology or resource=Integrated gasification combined cycle<br>Objective function=%{x}<br>Total cost=%{y}<extra></extra>",
         "legendgroup": "Integrated gasification combined cycle",
         "marker": {
          "color": "#d62728",
          "pattern": {
           "shape": ""
          }
         },
         "name": "Integrated gasification combined cycle",
         "offsetgroup": "Integrated gasification combined cycle",
         "orientation": "v",
         "showlegend": true,
         "textposition": "auto",
         "x": [
          "Total cost",
          "Total ecosystem quality",
          "Total human health",
          "Climate change, short-term"
         ],
         "xaxis": "x",
         "y": [
          0.0,
          0.0,
          0.0,
          0.0
         ],
         "yaxis": "y",
         "type": "bar"
        },
        {
         "alignmentgroup": "True",
         "hovertemplate": "Energy technology or resource=Integrated gasification combined cycle with carbon capture and storage<br>Objective function=%{x}<br>Total cost=%{y}<extra></extra>",
         "legendgroup": "Integrated gasification combined cycle with carbon capture and storage",
         "marker": {
          "color": "#ff9896",
          "pattern": {
           "shape": ""
          }
         },
         "name": "Integrated gasification combined cycle with carbon capture and storage",
         "offsetgroup": "Integrated gasification combined cycle with carbon capture and storage",
         "orientation": "v",
         "showlegend": true,
         "textposition": "auto",
         "x": [
          "Total cost",
          "Total ecosystem quality",
          "Total human health",
          "Climate change, short-term"
         ],
         "xaxis": "x",
         "y": [
          0.0,
          0.0,
          0.0,
          0.0
         ],
         "yaxis": "y",
         "type": "bar"
        },
        {
         "alignmentgroup": "True",
         "hovertemplate": "Energy technology or resource=Natural gas<br>Objective function=%{x}<br>Total cost=%{y}<extra></extra>",
         "legendgroup": "Natural gas",
         "marker": {
          "color": "#505050",
          "pattern": {
           "shape": ""
          }
         },
         "name": "Natural gas",
         "offsetgroup": "Natural gas",
         "orientation": "v",
         "showlegend": true,
         "textposition": "auto",
         "x": [
          "Total cost",
          "Total ecosystem quality",
          "Total human health",
          "Climate change, short-term"
         ],
         "xaxis": "x",
         "y": [
          72.42936445526301,
          32.84734586169333,
          24.6878011728,
          20.51283197929763
         ],
         "yaxis": "y",
         "type": "bar"
        },
        {
         "alignmentgroup": "True",
         "hovertemplate": "Energy technology or resource=Nuclear<br>Objective function=%{x}<br>Total cost=%{y}<extra></extra>",
         "legendgroup": "Nuclear",
         "marker": {
          "color": "#2ca02c",
          "pattern": {
           "shape": ""
          }
         },
         "name": "Nuclear",
         "offsetgroup": "Nuclear",
         "orientation": "v",
         "showlegend": true,
         "textposition": "auto",
         "x": [
          "Total cost",
          "Total ecosystem quality",
          "Total human health",
          "Climate change, short-term"
         ],
         "xaxis": "x",
         "y": [
          0.0,
          0.0,
          0.0,
          0.0
         ],
         "yaxis": "y",
         "type": "bar"
        },
        {
         "alignmentgroup": "True",
         "hovertemplate": "Energy technology or resource=Photovoltaic<br>Objective function=%{x}<br>Total cost=%{y}<extra></extra>",
         "legendgroup": "Photovoltaic",
         "marker": {
          "color": "#ff7f0e",
          "pattern": {
           "shape": ""
          }
         },
         "name": "Photovoltaic",
         "offsetgroup": "Photovoltaic",
         "orientation": "v",
         "showlegend": true,
         "textposition": "auto",
         "x": [
          "Total cost",
          "Total ecosystem quality",
          "Total human health",
          "Climate change, short-term"
         ],
         "xaxis": "x",
         "y": [
          146.49474869966014,
          0.0,
          120.30979583755875,
          301.0139090666638
         ],
         "yaxis": "y",
         "type": "bar"
        },
        {
         "alignmentgroup": "True",
         "hovertemplate": "Energy technology or resource=Uranium<br>Objective function=%{x}<br>Total cost=%{y}<extra></extra>",
         "legendgroup": "Uranium",
         "marker": {
          "color": "#98df8a",
          "pattern": {
           "shape": ""
          }
         },
         "name": "Uranium",
         "offsetgroup": "Uranium",
         "orientation": "v",
         "showlegend": true,
         "textposition": "auto",
         "x": [
          "Total cost",
          "Total ecosystem quality",
          "Total human health",
          "Climate change, short-term"
         ],
         "xaxis": "x",
         "y": [
          0.0,
          0.0,
          0.0,
          0.0
         ],
         "yaxis": "y",
         "type": "bar"
        },
        {
         "alignmentgroup": "True",
         "hovertemplate": "Energy technology or resource=Onshore wind<br>Objective function=%{x}<br>Total cost=%{y}<extra></extra>",
         "legendgroup": "Onshore wind",
         "marker": {
          "color": "#1f77b4",
          "pattern": {
           "shape": ""
          }
         },
         "name": "Onshore wind",
         "offsetgroup": "Onshore wind",
         "orientation": "v",
         "showlegend": true,
         "textposition": "auto",
         "x": [
          "Total cost",
          "Total ecosystem quality",
          "Total human health",
          "Climate change, short-term"
         ],
         "xaxis": "x",
         "y": [
          0.0,
          601.508617804328,
          361.0965410768565,
          0.0
         ],
         "yaxis": "y",
         "type": "bar"
        }
       ],
       "layout": {
        "template": {
         "data": {
          "barpolar": [
           {
            "marker": {
             "line": {
              "color": "white",
              "width": 0.5
             },
             "pattern": {
              "fillmode": "overlay",
              "size": 10,
              "solidity": 0.2
             }
            },
            "type": "barpolar"
           }
          ],
          "bar": [
           {
            "error_x": {
             "color": "#2a3f5f"
            },
            "error_y": {
             "color": "#2a3f5f"
            },
            "marker": {
             "line": {
              "color": "white",
              "width": 0.5
             },
             "pattern": {
              "fillmode": "overlay",
              "size": 10,
              "solidity": 0.2
             }
            },
            "type": "bar"
           }
          ],
          "carpet": [
           {
            "aaxis": {
             "endlinecolor": "#2a3f5f",
             "gridcolor": "#C8D4E3",
             "linecolor": "#C8D4E3",
             "minorgridcolor": "#C8D4E3",
             "startlinecolor": "#2a3f5f"
            },
            "baxis": {
             "endlinecolor": "#2a3f5f",
             "gridcolor": "#C8D4E3",
             "linecolor": "#C8D4E3",
             "minorgridcolor": "#C8D4E3",
             "startlinecolor": "#2a3f5f"
            },
            "type": "carpet"
           }
          ],
          "choropleth": [
           {
            "colorbar": {
             "outlinewidth": 0,
             "ticks": ""
            },
            "type": "choropleth"
           }
          ],
          "contourcarpet": [
           {
            "colorbar": {
             "outlinewidth": 0,
             "ticks": ""
            },
            "type": "contourcarpet"
           }
          ],
          "contour": [
           {
            "colorbar": {
             "outlinewidth": 0,
             "ticks": ""
            },
            "colorscale": [
             [
              0.0,
              "#0d0887"
             ],
             [
              0.1111111111111111,
              "#46039f"
             ],
             [
              0.2222222222222222,
              "#7201a8"
             ],
             [
              0.3333333333333333,
              "#9c179e"
             ],
             [
              0.4444444444444444,
              "#bd3786"
             ],
             [
              0.5555555555555556,
              "#d8576b"
             ],
             [
              0.6666666666666666,
              "#ed7953"
             ],
             [
              0.7777777777777778,
              "#fb9f3a"
             ],
             [
              0.8888888888888888,
              "#fdca26"
             ],
             [
              1.0,
              "#f0f921"
             ]
            ],
            "type": "contour"
           }
          ],
          "heatmapgl": [
           {
            "colorbar": {
             "outlinewidth": 0,
             "ticks": ""
            },
            "colorscale": [
             [
              0.0,
              "#0d0887"
             ],
             [
              0.1111111111111111,
              "#46039f"
             ],
             [
              0.2222222222222222,
              "#7201a8"
             ],
             [
              0.3333333333333333,
              "#9c179e"
             ],
             [
              0.4444444444444444,
              "#bd3786"
             ],
             [
              0.5555555555555556,
              "#d8576b"
             ],
             [
              0.6666666666666666,
              "#ed7953"
             ],
             [
              0.7777777777777778,
              "#fb9f3a"
             ],
             [
              0.8888888888888888,
              "#fdca26"
             ],
             [
              1.0,
              "#f0f921"
             ]
            ],
            "type": "heatmapgl"
           }
          ],
          "heatmap": [
           {
            "colorbar": {
             "outlinewidth": 0,
             "ticks": ""
            },
            "colorscale": [
             [
              0.0,
              "#0d0887"
             ],
             [
              0.1111111111111111,
              "#46039f"
             ],
             [
              0.2222222222222222,
              "#7201a8"
             ],
             [
              0.3333333333333333,
              "#9c179e"
             ],
             [
              0.4444444444444444,
              "#bd3786"
             ],
             [
              0.5555555555555556,
              "#d8576b"
             ],
             [
              0.6666666666666666,
              "#ed7953"
             ],
             [
              0.7777777777777778,
              "#fb9f3a"
             ],
             [
              0.8888888888888888,
              "#fdca26"
             ],
             [
              1.0,
              "#f0f921"
             ]
            ],
            "type": "heatmap"
           }
          ],
          "histogram2dcontour": [
           {
            "colorbar": {
             "outlinewidth": 0,
             "ticks": ""
            },
            "colorscale": [
             [
              0.0,
              "#0d0887"
             ],
             [
              0.1111111111111111,
              "#46039f"
             ],
             [
              0.2222222222222222,
              "#7201a8"
             ],
             [
              0.3333333333333333,
              "#9c179e"
             ],
             [
              0.4444444444444444,
              "#bd3786"
             ],
             [
              0.5555555555555556,
              "#d8576b"
             ],
             [
              0.6666666666666666,
              "#ed7953"
             ],
             [
              0.7777777777777778,
              "#fb9f3a"
             ],
             [
              0.8888888888888888,
              "#fdca26"
             ],
             [
              1.0,
              "#f0f921"
             ]
            ],
            "type": "histogram2dcontour"
           }
          ],
          "histogram2d": [
           {
            "colorbar": {
             "outlinewidth": 0,
             "ticks": ""
            },
            "colorscale": [
             [
              0.0,
              "#0d0887"
             ],
             [
              0.1111111111111111,
              "#46039f"
             ],
             [
              0.2222222222222222,
              "#7201a8"
             ],
             [
              0.3333333333333333,
              "#9c179e"
             ],
             [
              0.4444444444444444,
              "#bd3786"
             ],
             [
              0.5555555555555556,
              "#d8576b"
             ],
             [
              0.6666666666666666,
              "#ed7953"
             ],
             [
              0.7777777777777778,
              "#fb9f3a"
             ],
             [
              0.8888888888888888,
              "#fdca26"
             ],
             [
              1.0,
              "#f0f921"
             ]
            ],
            "type": "histogram2d"
           }
          ],
          "histogram": [
           {
            "marker": {
             "pattern": {
              "fillmode": "overlay",
              "size": 10,
              "solidity": 0.2
             }
            },
            "type": "histogram"
           }
          ],
          "mesh3d": [
           {
            "colorbar": {
             "outlinewidth": 0,
             "ticks": ""
            },
            "type": "mesh3d"
           }
          ],
          "parcoords": [
           {
            "line": {
             "colorbar": {
              "outlinewidth": 0,
              "ticks": ""
             }
            },
            "type": "parcoords"
           }
          ],
          "pie": [
           {
            "automargin": true,
            "type": "pie"
           }
          ],
          "scatter3d": [
           {
            "line": {
             "colorbar": {
              "outlinewidth": 0,
              "ticks": ""
             }
            },
            "marker": {
             "colorbar": {
              "outlinewidth": 0,
              "ticks": ""
             }
            },
            "type": "scatter3d"
           }
          ],
          "scattercarpet": [
           {
            "marker": {
             "colorbar": {
              "outlinewidth": 0,
              "ticks": ""
             }
            },
            "type": "scattercarpet"
           }
          ],
          "scattergeo": [
           {
            "marker": {
             "colorbar": {
              "outlinewidth": 0,
              "ticks": ""
             }
            },
            "type": "scattergeo"
           }
          ],
          "scattergl": [
           {
            "marker": {
             "colorbar": {
              "outlinewidth": 0,
              "ticks": ""
             }
            },
            "type": "scattergl"
           }
          ],
          "scattermapbox": [
           {
            "marker": {
             "colorbar": {
              "outlinewidth": 0,
              "ticks": ""
             }
            },
            "type": "scattermapbox"
           }
          ],
          "scatterpolargl": [
           {
            "marker": {
             "colorbar": {
              "outlinewidth": 0,
              "ticks": ""
             }
            },
            "type": "scatterpolargl"
           }
          ],
          "scatterpolar": [
           {
            "marker": {
             "colorbar": {
              "outlinewidth": 0,
              "ticks": ""
             }
            },
            "type": "scatterpolar"
           }
          ],
          "scatter": [
           {
            "fillpattern": {
             "fillmode": "overlay",
             "size": 10,
             "solidity": 0.2
            },
            "type": "scatter"
           }
          ],
          "scatterternary": [
           {
            "marker": {
             "colorbar": {
              "outlinewidth": 0,
              "ticks": ""
             }
            },
            "type": "scatterternary"
           }
          ],
          "surface": [
           {
            "colorbar": {
             "outlinewidth": 0,
             "ticks": ""
            },
            "colorscale": [
             [
              0.0,
              "#0d0887"
             ],
             [
              0.1111111111111111,
              "#46039f"
             ],
             [
              0.2222222222222222,
              "#7201a8"
             ],
             [
              0.3333333333333333,
              "#9c179e"
             ],
             [
              0.4444444444444444,
              "#bd3786"
             ],
             [
              0.5555555555555556,
              "#d8576b"
             ],
             [
              0.6666666666666666,
              "#ed7953"
             ],
             [
              0.7777777777777778,
              "#fb9f3a"
             ],
             [
              0.8888888888888888,
              "#fdca26"
             ],
             [
              1.0,
              "#f0f921"
             ]
            ],
            "type": "surface"
           }
          ],
          "table": [
           {
            "cells": {
             "fill": {
              "color": "#EBF0F8"
             },
             "line": {
              "color": "white"
             }
            },
            "header": {
             "fill": {
              "color": "#C8D4E3"
             },
             "line": {
              "color": "white"
             }
            },
            "type": "table"
           }
          ]
         },
         "layout": {
          "annotationdefaults": {
           "arrowcolor": "#2a3f5f",
           "arrowhead": 0,
           "arrowwidth": 1
          },
          "autotypenumbers": "strict",
          "coloraxis": {
           "colorbar": {
            "outlinewidth": 0,
            "ticks": ""
           }
          },
          "colorscale": {
           "diverging": [
            [
             0,
             "#8e0152"
            ],
            [
             0.1,
             "#c51b7d"
            ],
            [
             0.2,
             "#de77ae"
            ],
            [
             0.3,
             "#f1b6da"
            ],
            [
             0.4,
             "#fde0ef"
            ],
            [
             0.5,
             "#f7f7f7"
            ],
            [
             0.6,
             "#e6f5d0"
            ],
            [
             0.7,
             "#b8e186"
            ],
            [
             0.8,
             "#7fbc41"
            ],
            [
             0.9,
             "#4d9221"
            ],
            [
             1,
             "#276419"
            ]
           ],
           "sequential": [
            [
             0.0,
             "#0d0887"
            ],
            [
             0.1111111111111111,
             "#46039f"
            ],
            [
             0.2222222222222222,
             "#7201a8"
            ],
            [
             0.3333333333333333,
             "#9c179e"
            ],
            [
             0.4444444444444444,
             "#bd3786"
            ],
            [
             0.5555555555555556,
             "#d8576b"
            ],
            [
             0.6666666666666666,
             "#ed7953"
            ],
            [
             0.7777777777777778,
             "#fb9f3a"
            ],
            [
             0.8888888888888888,
             "#fdca26"
            ],
            [
             1.0,
             "#f0f921"
            ]
           ],
           "sequentialminus": [
            [
             0.0,
             "#0d0887"
            ],
            [
             0.1111111111111111,
             "#46039f"
            ],
            [
             0.2222222222222222,
             "#7201a8"
            ],
            [
             0.3333333333333333,
             "#9c179e"
            ],
            [
             0.4444444444444444,
             "#bd3786"
            ],
            [
             0.5555555555555556,
             "#d8576b"
            ],
            [
             0.6666666666666666,
             "#ed7953"
            ],
            [
             0.7777777777777778,
             "#fb9f3a"
            ],
            [
             0.8888888888888888,
             "#fdca26"
            ],
            [
             1.0,
             "#f0f921"
            ]
           ]
          },
          "colorway": [
           "#636efa",
           "#EF553B",
           "#00cc96",
           "#ab63fa",
           "#FFA15A",
           "#19d3f3",
           "#FF6692",
           "#B6E880",
           "#FF97FF",
           "#FECB52"
          ],
          "font": {
           "color": "#2a3f5f"
          },
          "geo": {
           "bgcolor": "white",
           "lakecolor": "white",
           "landcolor": "white",
           "showlakes": true,
           "showland": true,
           "subunitcolor": "#C8D4E3"
          },
          "hoverlabel": {
           "align": "left"
          },
          "hovermode": "closest",
          "mapbox": {
           "style": "light"
          },
          "paper_bgcolor": "white",
          "plot_bgcolor": "white",
          "polar": {
           "angularaxis": {
            "gridcolor": "#EBF0F8",
            "linecolor": "#EBF0F8",
            "ticks": ""
           },
           "bgcolor": "white",
           "radialaxis": {
            "gridcolor": "#EBF0F8",
            "linecolor": "#EBF0F8",
            "ticks": ""
           }
          },
          "scene": {
           "xaxis": {
            "backgroundcolor": "white",
            "gridcolor": "#DFE8F3",
            "gridwidth": 2,
            "linecolor": "#EBF0F8",
            "showbackground": true,
            "ticks": "",
            "zerolinecolor": "#EBF0F8"
           },
           "yaxis": {
            "backgroundcolor": "white",
            "gridcolor": "#DFE8F3",
            "gridwidth": 2,
            "linecolor": "#EBF0F8",
            "showbackground": true,
            "ticks": "",
            "zerolinecolor": "#EBF0F8"
           },
           "zaxis": {
            "backgroundcolor": "white",
            "gridcolor": "#DFE8F3",
            "gridwidth": 2,
            "linecolor": "#EBF0F8",
            "showbackground": true,
            "ticks": "",
            "zerolinecolor": "#EBF0F8"
           }
          },
          "shapedefaults": {
           "line": {
            "color": "#2a3f5f"
           }
          },
          "ternary": {
           "aaxis": {
            "gridcolor": "#DFE8F3",
            "linecolor": "#A2B1C6",
            "ticks": ""
           },
           "baxis": {
            "gridcolor": "#DFE8F3",
            "linecolor": "#A2B1C6",
            "ticks": ""
           },
           "bgcolor": "white",
           "caxis": {
            "gridcolor": "#DFE8F3",
            "linecolor": "#A2B1C6",
            "ticks": ""
           }
          },
          "title": {
           "x": 0.05
          },
          "xaxis": {
           "automargin": true,
           "gridcolor": "#EBF0F8",
           "linecolor": "#EBF0F8",
           "ticks": "",
           "title": {
            "standoff": 15
           },
           "zerolinecolor": "#EBF0F8",
           "zerolinewidth": 2
          },
          "yaxis": {
           "automargin": true,
           "gridcolor": "#EBF0F8",
           "linecolor": "#EBF0F8",
           "ticks": "",
           "title": {
            "standoff": 15
           },
           "zerolinecolor": "#EBF0F8",
           "zerolinewidth": 2
          }
         }
        },
        "xaxis": {
         "anchor": "y",
         "domain": [
          0.0,
          1.0
         ],
         "title": {
          "text": "Objective function"
         }
        },
        "yaxis": {
         "anchor": "x",
         "domain": [
          0.0,
          1.0
         ],
         "title": {
          "text": "Total cost"
         }
        },
        "legend": {
         "title": {
          "text": "Energy technology or resource"
         },
         "tracegroupgap": 0
        },
        "margin": {
         "t": 60
        },
        "barmode": "stack"
       },
       "config": {
        "plotlyServerURL": "https://plot.ly"
       }
      },
      "text/html": [
       "<div>                            <div id=\"afadab3d-e416-4642-8ec5-421b80e5223a\" class=\"plotly-graph-div\" style=\"height:525px; width:100%;\"></div>            <script type=\"text/javascript\">                require([\"plotly\"], function(Plotly) {                    window.PLOTLYENV=window.PLOTLYENV || {};                                    if (document.getElementById(\"afadab3d-e416-4642-8ec5-421b80e5223a\")) {                    Plotly.newPlot(                        \"afadab3d-e416-4642-8ec5-421b80e5223a\",                        [{\"alignmentgroup\":\"True\",\"hovertemplate\":\"Energy technology or resource=Battery\\u003cbr\\u003eObjective function=%{x}\\u003cbr\\u003eTotal cost=%{y}\\u003cextra\\u003e\\u003c\\u002fextra\\u003e\",\"legendgroup\":\"Battery\",\"marker\":{\"color\":\"#9467bd\",\"pattern\":{\"shape\":\"\"}},\"name\":\"Battery\",\"offsetgroup\":\"Battery\",\"orientation\":\"v\",\"showlegend\":true,\"textposition\":\"auto\",\"x\":[\"Total cost\",\"Total ecosystem quality\",\"Total human health\",\"Climate change, short-term\"],\"xaxis\":\"x\",\"y\":[8.399756874456926,20.341694657584437,19.109845242672137,17.259619709465582],\"yaxis\":\"y\",\"type\":\"bar\"},{\"alignmentgroup\":\"True\",\"hovertemplate\":\"Energy technology or resource=Combined cycle gas turbine\\u003cbr\\u003eObjective function=%{x}\\u003cbr\\u003eTotal cost=%{y}\\u003cextra\\u003e\\u003c\\u002fextra\\u003e\",\"legendgroup\":\"Combined cycle gas turbine\",\"marker\":{\"color\":\"#b0b0b0\",\"pattern\":{\"shape\":\"\"}},\"name\":\"Combined cycle gas turbine\",\"offsetgroup\":\"Combined cycle gas turbine\",\"orientation\":\"v\",\"showlegend\":true,\"textposition\":\"auto\",\"x\":[\"Total cost\",\"Total ecosystem quality\",\"Total human health\",\"Climate change, short-term\"],\"xaxis\":\"x\",\"y\":[134.77413694806063,0.0,0.0,0.0],\"yaxis\":\"y\",\"type\":\"bar\"},{\"alignmentgroup\":\"True\",\"hovertemplate\":\"Energy technology or resource=Combined cycle gas turbine with carbon capture and storage\\u003cbr\\u003eObjective function=%{x}\\u003cbr\\u003eTotal cost=%{y}\\u003cextra\\u003e\\u003c\\u002fextra\\u003e\",\"legendgroup\":\"Combined cycle gas turbine with carbon capture and storage\",\"marker\":{\"color\":\"#d3d3d3\",\"pattern\":{\"shape\":\"\"}},\"name\":\"Combined cycle gas turbine with carbon capture and storage\",\"offsetgroup\":\"Combined cycle gas turbine with carbon capture and storage\",\"orientation\":\"v\",\"showlegend\":true,\"textposition\":\"auto\",\"x\":[\"Total cost\",\"Total ecosystem quality\",\"Total human health\",\"Climate change, short-term\"],\"xaxis\":\"x\",\"y\":[0.0,107.01957560933938,96.18950012545801,79.92283478125424],\"yaxis\":\"y\",\"type\":\"bar\"},{\"alignmentgroup\":\"True\",\"hovertemplate\":\"Energy technology or resource=Coal\\u003cbr\\u003eObjective function=%{x}\\u003cbr\\u003eTotal cost=%{y}\\u003cextra\\u003e\\u003c\\u002fextra\\u003e\",\"legendgroup\":\"Coal\",\"marker\":{\"color\":\"#8c564b\",\"pattern\":{\"shape\":\"\"}},\"name\":\"Coal\",\"offsetgroup\":\"Coal\",\"orientation\":\"v\",\"showlegend\":true,\"textposition\":\"auto\",\"x\":[\"Total cost\",\"Total ecosystem quality\",\"Total human health\",\"Climate change, short-term\"],\"xaxis\":\"x\",\"y\":[0.0,0.0,0.0,0.0],\"yaxis\":\"y\",\"type\":\"bar\"},{\"alignmentgroup\":\"True\",\"hovertemplate\":\"Energy technology or resource=Integrated gasification combined cycle\\u003cbr\\u003eObjective function=%{x}\\u003cbr\\u003eTotal cost=%{y}\\u003cextra\\u003e\\u003c\\u002fextra\\u003e\",\"legendgroup\":\"Integrated gasification combined cycle\",\"marker\":{\"color\":\"#d62728\",\"pattern\":{\"shape\":\"\"}},\"name\":\"Integrated gasification combined cycle\",\"offsetgroup\":\"Integrated gasification combined cycle\",\"orientation\":\"v\",\"showlegend\":true,\"textposition\":\"auto\",\"x\":[\"Total cost\",\"Total ecosystem quality\",\"Total human health\",\"Climate change, short-term\"],\"xaxis\":\"x\",\"y\":[0.0,0.0,0.0,0.0],\"yaxis\":\"y\",\"type\":\"bar\"},{\"alignmentgroup\":\"True\",\"hovertemplate\":\"Energy technology or resource=Integrated gasification combined cycle with carbon capture and storage\\u003cbr\\u003eObjective function=%{x}\\u003cbr\\u003eTotal cost=%{y}\\u003cextra\\u003e\\u003c\\u002fextra\\u003e\",\"legendgroup\":\"Integrated gasification combined cycle with carbon capture and storage\",\"marker\":{\"color\":\"#ff9896\",\"pattern\":{\"shape\":\"\"}},\"name\":\"Integrated gasification combined cycle with carbon capture and storage\",\"offsetgroup\":\"Integrated gasification combined cycle with carbon capture and storage\",\"orientation\":\"v\",\"showlegend\":true,\"textposition\":\"auto\",\"x\":[\"Total cost\",\"Total ecosystem quality\",\"Total human health\",\"Climate change, short-term\"],\"xaxis\":\"x\",\"y\":[0.0,0.0,0.0,0.0],\"yaxis\":\"y\",\"type\":\"bar\"},{\"alignmentgroup\":\"True\",\"hovertemplate\":\"Energy technology or resource=Natural gas\\u003cbr\\u003eObjective function=%{x}\\u003cbr\\u003eTotal cost=%{y}\\u003cextra\\u003e\\u003c\\u002fextra\\u003e\",\"legendgroup\":\"Natural gas\",\"marker\":{\"color\":\"#505050\",\"pattern\":{\"shape\":\"\"}},\"name\":\"Natural gas\",\"offsetgroup\":\"Natural gas\",\"orientation\":\"v\",\"showlegend\":true,\"textposition\":\"auto\",\"x\":[\"Total cost\",\"Total ecosystem quality\",\"Total human health\",\"Climate change, short-term\"],\"xaxis\":\"x\",\"y\":[72.42936445526301,32.84734586169333,24.6878011728,20.51283197929763],\"yaxis\":\"y\",\"type\":\"bar\"},{\"alignmentgroup\":\"True\",\"hovertemplate\":\"Energy technology or resource=Nuclear\\u003cbr\\u003eObjective function=%{x}\\u003cbr\\u003eTotal cost=%{y}\\u003cextra\\u003e\\u003c\\u002fextra\\u003e\",\"legendgroup\":\"Nuclear\",\"marker\":{\"color\":\"#2ca02c\",\"pattern\":{\"shape\":\"\"}},\"name\":\"Nuclear\",\"offsetgroup\":\"Nuclear\",\"orientation\":\"v\",\"showlegend\":true,\"textposition\":\"auto\",\"x\":[\"Total cost\",\"Total ecosystem quality\",\"Total human health\",\"Climate change, short-term\"],\"xaxis\":\"x\",\"y\":[0.0,0.0,0.0,0.0],\"yaxis\":\"y\",\"type\":\"bar\"},{\"alignmentgroup\":\"True\",\"hovertemplate\":\"Energy technology or resource=Photovoltaic\\u003cbr\\u003eObjective function=%{x}\\u003cbr\\u003eTotal cost=%{y}\\u003cextra\\u003e\\u003c\\u002fextra\\u003e\",\"legendgroup\":\"Photovoltaic\",\"marker\":{\"color\":\"#ff7f0e\",\"pattern\":{\"shape\":\"\"}},\"name\":\"Photovoltaic\",\"offsetgroup\":\"Photovoltaic\",\"orientation\":\"v\",\"showlegend\":true,\"textposition\":\"auto\",\"x\":[\"Total cost\",\"Total ecosystem quality\",\"Total human health\",\"Climate change, short-term\"],\"xaxis\":\"x\",\"y\":[146.49474869966014,0.0,120.30979583755875,301.0139090666638],\"yaxis\":\"y\",\"type\":\"bar\"},{\"alignmentgroup\":\"True\",\"hovertemplate\":\"Energy technology or resource=Uranium\\u003cbr\\u003eObjective function=%{x}\\u003cbr\\u003eTotal cost=%{y}\\u003cextra\\u003e\\u003c\\u002fextra\\u003e\",\"legendgroup\":\"Uranium\",\"marker\":{\"color\":\"#98df8a\",\"pattern\":{\"shape\":\"\"}},\"name\":\"Uranium\",\"offsetgroup\":\"Uranium\",\"orientation\":\"v\",\"showlegend\":true,\"textposition\":\"auto\",\"x\":[\"Total cost\",\"Total ecosystem quality\",\"Total human health\",\"Climate change, short-term\"],\"xaxis\":\"x\",\"y\":[0.0,0.0,0.0,0.0],\"yaxis\":\"y\",\"type\":\"bar\"},{\"alignmentgroup\":\"True\",\"hovertemplate\":\"Energy technology or resource=Onshore wind\\u003cbr\\u003eObjective function=%{x}\\u003cbr\\u003eTotal cost=%{y}\\u003cextra\\u003e\\u003c\\u002fextra\\u003e\",\"legendgroup\":\"Onshore wind\",\"marker\":{\"color\":\"#1f77b4\",\"pattern\":{\"shape\":\"\"}},\"name\":\"Onshore wind\",\"offsetgroup\":\"Onshore wind\",\"orientation\":\"v\",\"showlegend\":true,\"textposition\":\"auto\",\"x\":[\"Total cost\",\"Total ecosystem quality\",\"Total human health\",\"Climate change, short-term\"],\"xaxis\":\"x\",\"y\":[0.0,601.508617804328,361.0965410768565,0.0],\"yaxis\":\"y\",\"type\":\"bar\"}],                        {\"template\":{\"data\":{\"barpolar\":[{\"marker\":{\"line\":{\"color\":\"white\",\"width\":0.5},\"pattern\":{\"fillmode\":\"overlay\",\"size\":10,\"solidity\":0.2}},\"type\":\"barpolar\"}],\"bar\":[{\"error_x\":{\"color\":\"#2a3f5f\"},\"error_y\":{\"color\":\"#2a3f5f\"},\"marker\":{\"line\":{\"color\":\"white\",\"width\":0.5},\"pattern\":{\"fillmode\":\"overlay\",\"size\":10,\"solidity\":0.2}},\"type\":\"bar\"}],\"carpet\":[{\"aaxis\":{\"endlinecolor\":\"#2a3f5f\",\"gridcolor\":\"#C8D4E3\",\"linecolor\":\"#C8D4E3\",\"minorgridcolor\":\"#C8D4E3\",\"startlinecolor\":\"#2a3f5f\"},\"baxis\":{\"endlinecolor\":\"#2a3f5f\",\"gridcolor\":\"#C8D4E3\",\"linecolor\":\"#C8D4E3\",\"minorgridcolor\":\"#C8D4E3\",\"startlinecolor\":\"#2a3f5f\"},\"type\":\"carpet\"}],\"choropleth\":[{\"colorbar\":{\"outlinewidth\":0,\"ticks\":\"\"},\"type\":\"choropleth\"}],\"contourcarpet\":[{\"colorbar\":{\"outlinewidth\":0,\"ticks\":\"\"},\"type\":\"contourcarpet\"}],\"contour\":[{\"colorbar\":{\"outlinewidth\":0,\"ticks\":\"\"},\"colorscale\":[[0.0,\"#0d0887\"],[0.1111111111111111,\"#46039f\"],[0.2222222222222222,\"#7201a8\"],[0.3333333333333333,\"#9c179e\"],[0.4444444444444444,\"#bd3786\"],[0.5555555555555556,\"#d8576b\"],[0.6666666666666666,\"#ed7953\"],[0.7777777777777778,\"#fb9f3a\"],[0.8888888888888888,\"#fdca26\"],[1.0,\"#f0f921\"]],\"type\":\"contour\"}],\"heatmapgl\":[{\"colorbar\":{\"outlinewidth\":0,\"ticks\":\"\"},\"colorscale\":[[0.0,\"#0d0887\"],[0.1111111111111111,\"#46039f\"],[0.2222222222222222,\"#7201a8\"],[0.3333333333333333,\"#9c179e\"],[0.4444444444444444,\"#bd3786\"],[0.5555555555555556,\"#d8576b\"],[0.6666666666666666,\"#ed7953\"],[0.7777777777777778,\"#fb9f3a\"],[0.8888888888888888,\"#fdca26\"],[1.0,\"#f0f921\"]],\"type\":\"heatmapgl\"}],\"heatmap\":[{\"colorbar\":{\"outlinewidth\":0,\"ticks\":\"\"},\"colorscale\":[[0.0,\"#0d0887\"],[0.1111111111111111,\"#46039f\"],[0.2222222222222222,\"#7201a8\"],[0.3333333333333333,\"#9c179e\"],[0.4444444444444444,\"#bd3786\"],[0.5555555555555556,\"#d8576b\"],[0.6666666666666666,\"#ed7953\"],[0.7777777777777778,\"#fb9f3a\"],[0.8888888888888888,\"#fdca26\"],[1.0,\"#f0f921\"]],\"type\":\"heatmap\"}],\"histogram2dcontour\":[{\"colorbar\":{\"outlinewidth\":0,\"ticks\":\"\"},\"colorscale\":[[0.0,\"#0d0887\"],[0.1111111111111111,\"#46039f\"],[0.2222222222222222,\"#7201a8\"],[0.3333333333333333,\"#9c179e\"],[0.4444444444444444,\"#bd3786\"],[0.5555555555555556,\"#d8576b\"],[0.6666666666666666,\"#ed7953\"],[0.7777777777777778,\"#fb9f3a\"],[0.8888888888888888,\"#fdca26\"],[1.0,\"#f0f921\"]],\"type\":\"histogram2dcontour\"}],\"histogram2d\":[{\"colorbar\":{\"outlinewidth\":0,\"ticks\":\"\"},\"colorscale\":[[0.0,\"#0d0887\"],[0.1111111111111111,\"#46039f\"],[0.2222222222222222,\"#7201a8\"],[0.3333333333333333,\"#9c179e\"],[0.4444444444444444,\"#bd3786\"],[0.5555555555555556,\"#d8576b\"],[0.6666666666666666,\"#ed7953\"],[0.7777777777777778,\"#fb9f3a\"],[0.8888888888888888,\"#fdca26\"],[1.0,\"#f0f921\"]],\"type\":\"histogram2d\"}],\"histogram\":[{\"marker\":{\"pattern\":{\"fillmode\":\"overlay\",\"size\":10,\"solidity\":0.2}},\"type\":\"histogram\"}],\"mesh3d\":[{\"colorbar\":{\"outlinewidth\":0,\"ticks\":\"\"},\"type\":\"mesh3d\"}],\"parcoords\":[{\"line\":{\"colorbar\":{\"outlinewidth\":0,\"ticks\":\"\"}},\"type\":\"parcoords\"}],\"pie\":[{\"automargin\":true,\"type\":\"pie\"}],\"scatter3d\":[{\"line\":{\"colorbar\":{\"outlinewidth\":0,\"ticks\":\"\"}},\"marker\":{\"colorbar\":{\"outlinewidth\":0,\"ticks\":\"\"}},\"type\":\"scatter3d\"}],\"scattercarpet\":[{\"marker\":{\"colorbar\":{\"outlinewidth\":0,\"ticks\":\"\"}},\"type\":\"scattercarpet\"}],\"scattergeo\":[{\"marker\":{\"colorbar\":{\"outlinewidth\":0,\"ticks\":\"\"}},\"type\":\"scattergeo\"}],\"scattergl\":[{\"marker\":{\"colorbar\":{\"outlinewidth\":0,\"ticks\":\"\"}},\"type\":\"scattergl\"}],\"scattermapbox\":[{\"marker\":{\"colorbar\":{\"outlinewidth\":0,\"ticks\":\"\"}},\"type\":\"scattermapbox\"}],\"scatterpolargl\":[{\"marker\":{\"colorbar\":{\"outlinewidth\":0,\"ticks\":\"\"}},\"type\":\"scatterpolargl\"}],\"scatterpolar\":[{\"marker\":{\"colorbar\":{\"outlinewidth\":0,\"ticks\":\"\"}},\"type\":\"scatterpolar\"}],\"scatter\":[{\"fillpattern\":{\"fillmode\":\"overlay\",\"size\":10,\"solidity\":0.2},\"type\":\"scatter\"}],\"scatterternary\":[{\"marker\":{\"colorbar\":{\"outlinewidth\":0,\"ticks\":\"\"}},\"type\":\"scatterternary\"}],\"surface\":[{\"colorbar\":{\"outlinewidth\":0,\"ticks\":\"\"},\"colorscale\":[[0.0,\"#0d0887\"],[0.1111111111111111,\"#46039f\"],[0.2222222222222222,\"#7201a8\"],[0.3333333333333333,\"#9c179e\"],[0.4444444444444444,\"#bd3786\"],[0.5555555555555556,\"#d8576b\"],[0.6666666666666666,\"#ed7953\"],[0.7777777777777778,\"#fb9f3a\"],[0.8888888888888888,\"#fdca26\"],[1.0,\"#f0f921\"]],\"type\":\"surface\"}],\"table\":[{\"cells\":{\"fill\":{\"color\":\"#EBF0F8\"},\"line\":{\"color\":\"white\"}},\"header\":{\"fill\":{\"color\":\"#C8D4E3\"},\"line\":{\"color\":\"white\"}},\"type\":\"table\"}]},\"layout\":{\"annotationdefaults\":{\"arrowcolor\":\"#2a3f5f\",\"arrowhead\":0,\"arrowwidth\":1},\"autotypenumbers\":\"strict\",\"coloraxis\":{\"colorbar\":{\"outlinewidth\":0,\"ticks\":\"\"}},\"colorscale\":{\"diverging\":[[0,\"#8e0152\"],[0.1,\"#c51b7d\"],[0.2,\"#de77ae\"],[0.3,\"#f1b6da\"],[0.4,\"#fde0ef\"],[0.5,\"#f7f7f7\"],[0.6,\"#e6f5d0\"],[0.7,\"#b8e186\"],[0.8,\"#7fbc41\"],[0.9,\"#4d9221\"],[1,\"#276419\"]],\"sequential\":[[0.0,\"#0d0887\"],[0.1111111111111111,\"#46039f\"],[0.2222222222222222,\"#7201a8\"],[0.3333333333333333,\"#9c179e\"],[0.4444444444444444,\"#bd3786\"],[0.5555555555555556,\"#d8576b\"],[0.6666666666666666,\"#ed7953\"],[0.7777777777777778,\"#fb9f3a\"],[0.8888888888888888,\"#fdca26\"],[1.0,\"#f0f921\"]],\"sequentialminus\":[[0.0,\"#0d0887\"],[0.1111111111111111,\"#46039f\"],[0.2222222222222222,\"#7201a8\"],[0.3333333333333333,\"#9c179e\"],[0.4444444444444444,\"#bd3786\"],[0.5555555555555556,\"#d8576b\"],[0.6666666666666666,\"#ed7953\"],[0.7777777777777778,\"#fb9f3a\"],[0.8888888888888888,\"#fdca26\"],[1.0,\"#f0f921\"]]},\"colorway\":[\"#636efa\",\"#EF553B\",\"#00cc96\",\"#ab63fa\",\"#FFA15A\",\"#19d3f3\",\"#FF6692\",\"#B6E880\",\"#FF97FF\",\"#FECB52\"],\"font\":{\"color\":\"#2a3f5f\"},\"geo\":{\"bgcolor\":\"white\",\"lakecolor\":\"white\",\"landcolor\":\"white\",\"showlakes\":true,\"showland\":true,\"subunitcolor\":\"#C8D4E3\"},\"hoverlabel\":{\"align\":\"left\"},\"hovermode\":\"closest\",\"mapbox\":{\"style\":\"light\"},\"paper_bgcolor\":\"white\",\"plot_bgcolor\":\"white\",\"polar\":{\"angularaxis\":{\"gridcolor\":\"#EBF0F8\",\"linecolor\":\"#EBF0F8\",\"ticks\":\"\"},\"bgcolor\":\"white\",\"radialaxis\":{\"gridcolor\":\"#EBF0F8\",\"linecolor\":\"#EBF0F8\",\"ticks\":\"\"}},\"scene\":{\"xaxis\":{\"backgroundcolor\":\"white\",\"gridcolor\":\"#DFE8F3\",\"gridwidth\":2,\"linecolor\":\"#EBF0F8\",\"showbackground\":true,\"ticks\":\"\",\"zerolinecolor\":\"#EBF0F8\"},\"yaxis\":{\"backgroundcolor\":\"white\",\"gridcolor\":\"#DFE8F3\",\"gridwidth\":2,\"linecolor\":\"#EBF0F8\",\"showbackground\":true,\"ticks\":\"\",\"zerolinecolor\":\"#EBF0F8\"},\"zaxis\":{\"backgroundcolor\":\"white\",\"gridcolor\":\"#DFE8F3\",\"gridwidth\":2,\"linecolor\":\"#EBF0F8\",\"showbackground\":true,\"ticks\":\"\",\"zerolinecolor\":\"#EBF0F8\"}},\"shapedefaults\":{\"line\":{\"color\":\"#2a3f5f\"}},\"ternary\":{\"aaxis\":{\"gridcolor\":\"#DFE8F3\",\"linecolor\":\"#A2B1C6\",\"ticks\":\"\"},\"baxis\":{\"gridcolor\":\"#DFE8F3\",\"linecolor\":\"#A2B1C6\",\"ticks\":\"\"},\"bgcolor\":\"white\",\"caxis\":{\"gridcolor\":\"#DFE8F3\",\"linecolor\":\"#A2B1C6\",\"ticks\":\"\"}},\"title\":{\"x\":0.05},\"xaxis\":{\"automargin\":true,\"gridcolor\":\"#EBF0F8\",\"linecolor\":\"#EBF0F8\",\"ticks\":\"\",\"title\":{\"standoff\":15},\"zerolinecolor\":\"#EBF0F8\",\"zerolinewidth\":2},\"yaxis\":{\"automargin\":true,\"gridcolor\":\"#EBF0F8\",\"linecolor\":\"#EBF0F8\",\"ticks\":\"\",\"title\":{\"standoff\":15},\"zerolinecolor\":\"#EBF0F8\",\"zerolinewidth\":2}}},\"xaxis\":{\"anchor\":\"y\",\"domain\":[0.0,1.0],\"title\":{\"text\":\"Objective function\"}},\"yaxis\":{\"anchor\":\"x\",\"domain\":[0.0,1.0],\"title\":{\"text\":\"Total cost\"}},\"legend\":{\"title\":{\"text\":\"Energy technology or resource\"},\"tracegroupgap\":0},\"margin\":{\"t\":60},\"barmode\":\"stack\"},                        {\"responsive\": true}                    ).then(function(){\n",
       "                            \n",
       "var gd = document.getElementById('afadab3d-e416-4642-8ec5-421b80e5223a');\n",
       "var x = new MutationObserver(function (mutations, observer) {{\n",
       "        var display = window.getComputedStyle(gd).display;\n",
       "        if (!display || display === 'none') {{\n",
       "            console.log([gd, 'removed!']);\n",
       "            Plotly.purge(gd);\n",
       "            observer.disconnect();\n",
       "        }}\n",
       "}});\n",
       "\n",
       "// Listen for the removal of the full notebook cells\n",
       "var notebookContainer = gd.closest('#notebook-container');\n",
       "if (notebookContainer) {{\n",
       "    x.observe(notebookContainer, {childList: true});\n",
       "}}\n",
       "\n",
       "// Listen for the clearing of the current output cell\n",
       "var outputEl = gd.closest('.output');\n",
       "if (outputEl) {{\n",
       "    x.observe(outputEl, {childList: true});\n",
       "}}\n",
       "\n",
       "                        })                };                });            </script>        </div>"
      ]
     },
     "metadata": {},
     "output_type": "display_data"
    }
   ],
   "execution_count": 47
  },
  {
   "metadata": {},
   "cell_type": "markdown",
   "source": "### MOO",
   "id": "917f48f2b300a2b5"
  },
  {
   "metadata": {},
   "cell_type": "markdown",
   "source": "#### Pareto front",
   "id": "55327b670055e9a2"
  },
  {
   "metadata": {
    "ExecuteTime": {
     "end_time": "2025-05-12T17:59:17.401988Z",
     "start_time": "2025-05-12T17:59:17.188962Z"
    }
   },
   "cell_type": "code",
   "source": [
    "colors_var = 'TotalLCIA_TTHH'\n",
    "max_colors_var = max_tthh\n",
    "add_soo_point = False"
   ],
   "id": "2d9376602e79f0b7",
   "outputs": [],
   "execution_count": 82
  },
  {
   "metadata": {
    "ExecuteTime": {
     "end_time": "2025-05-12T17:59:17.940846Z",
     "start_time": "2025-05-12T17:59:17.494880Z"
    }
   },
   "cell_type": "code",
   "source": [
    "x = physical_limit_list\n",
    "y = list(results_pareto.variables[obj2][obj2])\n",
    "colors = list(results_pareto.variables[colors_var][colors_var])\n",
    "\n",
    "# adding data point from colors_var SOO\n",
    "if add_soo_point:\n",
    "    x = x + [main_variables_results[main_variables_results['Objective'] == colors_var][obj1].values[0]]\n",
    "    y = y + [main_variables_results[main_variables_results['Objective'] == colors_var][obj2].values[0]]\n",
    "    colors = colors + [main_variables_results[main_variables_results['Objective'] == colors_var][colors_var].values[0]]\n",
    "\n",
    "# Create the scatter plot\n",
    "scatter = plt.scatter(x, y, c=colors, cmap='jet')\n",
    "\n",
    "# Add a colorbar\n",
    "cbar = plt.colorbar(scatter)\n",
    "cbar.set_label(colors_var)\n",
    "\n",
    "# Add labels and title\n",
    "plt.xlabel(obj1)\n",
    "plt.ylabel(obj2)\n",
    "\n",
    "# Show the plot\n",
    "plt.show()"
   ],
   "id": "4be1eb02355cb880",
   "outputs": [
    {
     "data": {
      "text/plain": [
       "<Figure size 640x480 with 2 Axes>"
      ],
      "image/png": "[encoded data removed]"
     },
     "metadata": {},
     "output_type": "display_data"
    }
   ],
   "execution_count": 83
  },
  {
   "metadata": {},
   "cell_type": "markdown",
   "source": "#### Sobol sequence",
   "id": "6c59fc5e2f5bc560"
  },
  {
   "metadata": {
    "ExecuteTime": {
     "end_time": "2025-05-12T16:45:51.961847Z",
     "start_time": "2025-05-12T16:45:51.762972Z"
    }
   },
   "cell_type": "code",
   "source": [
    "def plot_heat_map_sobol(\n",
    "        results_sobol,\n",
    "        x_var: str,\n",
    "        y_var: str,\n",
    "        color_var: str,\n",
    "        fill: bool,\n",
    "):\n",
    "\n",
    "    limit_lcia = results_sobol.parameters['limit_lcia']\n",
    "\n",
    "    x=limit_lcia[limit_lcia.index == x_var].limit_lcia.tolist()\n",
    "    y=limit_lcia[limit_lcia.index == y_var].limit_lcia.tolist()\n",
    "    c=results_sobol.variables[color_var][color_var].tolist()\n",
    "\n",
    "    if fill:\n",
    "        plt.tricontourf(x, y, c, 128, cmap=plt.get_cmap('jet'))\n",
    "\n",
    "    else:\n",
    "        plt.scatter(\n",
    "            x=limit_lcia[limit_lcia.index == x_var].limit_lcia.tolist(),\n",
    "            y=limit_lcia[limit_lcia.index == y_var].limit_lcia.tolist(),\n",
    "            c=results_sobol.variables[color_var][color_var].tolist(),\n",
    "            cmap='jet',\n",
    "        )\n",
    "\n",
    "    # Add a colorbar\n",
    "    cbar = plt.colorbar()\n",
    "    cbar.set_label(color_var)\n",
    "\n",
    "    plt.xlabel('Upper limit for ' + x_var)\n",
    "    plt.ylabel('Upper limit for ' + y_var)\n",
    "\n",
    "    plt.show()"
   ],
   "id": "a245a0b06e702d55",
   "outputs": [],
   "execution_count": 65
  },
  {
   "metadata": {
    "ExecuteTime": {
     "end_time": "2025-05-12T17:58:30.799409Z",
     "start_time": "2025-05-12T17:58:30.010113Z"
    }
   },
   "cell_type": "code",
   "source": [
    "plot_heat_map_sobol(\n",
    "    results_sobol=results_sobol,\n",
    "    x_var = 'TTHH',\n",
    "    y_var = 'TTEQ',\n",
    "    color_var = 'TotalCost',\n",
    "    fill=True,\n",
    ")"
   ],
   "id": "efb8cfebb29f1329",
   "outputs": [
    {
     "data": {
      "text/plain": [
       "<Figure size 640x480 with 2 Axes>"
      ],
      "image/png": "[encoded data removed]"
     },
     "metadata": {},
     "output_type": "display_data"
    }
   ],
   "execution_count": 81
  },
  {
   "metadata": {
    "ExecuteTime": {
     "end_time": "2025-05-12T16:45:52.448478Z",
     "start_time": "2025-05-12T16:45:52.400342Z"
    }
   },
   "cell_type": "code",
   "source": "",
   "id": "6374153cc2c2ad82",
   "outputs": [],
   "execution_count": null
  }
 ],
 "metadata": {
  "kernelspec": {
   "display_name": "Python 3",
   "language": "python",
   "name": "python3"
  },
  "language_info": {
   "codemirror_mode": {
    "name": "ipython",
    "version": 2
   },
   "file_extension": ".py",
   "mimetype": "text/x-python",
   "name": "python",
   "nbconvert_exporter": "python",
   "pygments_lexer": "ipython2",
   "version": "2.7.6"
  }
 },
 "nbformat": 4,
 "nbformat_minor": 5
}
