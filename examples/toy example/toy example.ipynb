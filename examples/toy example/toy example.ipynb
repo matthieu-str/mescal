{
 "cells": [
  {
   "metadata": {},
   "cell_type": "markdown",
   "source": "# Toy example to demonstrate the use of mescal",
   "id": "2e294941fb92c61d"
  },
  {
   "metadata": {},
   "cell_type": "code",
   "source": [
    "%load_ext autoreload\n",
    "%autoreload 2"
   ],
   "id": "b33fff8e048d7c52",
   "outputs": [],
   "execution_count": null
  },
  {
   "metadata": {},
   "cell_type": "code",
   "source": [
    "import os\n",
    "from mescal import *\n",
    "import bw2data as bd\n",
    "from utils import *\n",
    "import numpy as np\n",
    "import matplotlib.pyplot as plt\n",
    "import plotly.express as px"
   ],
   "id": "68f971433ed02521",
   "outputs": [],
   "execution_count": null
  },
  {
   "metadata": {},
   "cell_type": "code",
   "source": "ei_version = '3.10.1'",
   "id": "76f0686852bb0165",
   "outputs": [],
   "execution_count": null
  },
  {
   "metadata": {},
   "cell_type": "code",
   "source": [
    "# AMPL licence\n",
    "path_to_ampl_licence = r'C:\\Users\\matth\\ampl' # Path to the AMPL license file\n",
    "os.environ['PATH'] = path_to_ampl_licence+':'+os.environ['PATH']"
   ],
   "id": "c89e51c29eae6766",
   "outputs": [],
   "execution_count": null
  },
  {
   "metadata": {},
   "cell_type": "code",
   "source": [
    "path_model = './data/esm/' # Path to the energy system model\n",
    "path_model_lca = './data/esm/lca/'\n",
    "path_inputs = './data/lca/' # Path to the LCA data\n",
    "path_results = './results/' # Path to the results"
   ],
   "id": "2cfd0549b4960142",
   "outputs": [],
   "execution_count": null
  },
  {
   "metadata": {},
   "cell_type": "markdown",
   "source": "## Generating LCA impact scores",
   "id": "14a1cca864b9fde4"
  },
  {
   "metadata": {},
   "cell_type": "code",
   "source": [
    "mapping = pd.read_csv(path_inputs+'mapping.csv')\n",
    "unit_conversion = pd.read_excel(path_inputs+'unit_conversion.xlsx')\n",
    "techno_compositions = pd.read_csv(path_inputs+'technology_compositions.csv')\n",
    "efficiency = pd.read_csv(path_inputs+'efficiency.csv')\n",
    "lifetime = pd.read_csv(path_inputs+'lifetime.csv')\n",
    "mapping_es_flows_to_cpc = pd.read_csv(path_inputs+'mapping_esm_flows_to_CPC.csv')\n",
    "impact_abbrev = pd.read_csv(path_inputs+'impact_abbrev.csv')\n",
    "model = pd.read_csv(path_inputs+'model.csv')"
   ],
   "id": "2523f07d3a37daab",
   "outputs": [],
   "execution_count": null
  },
  {
   "metadata": {},
   "cell_type": "code",
   "source": [
    "df_si_paper = pd.merge(mapping, unit_conversion, on=['Name', 'Type']).drop(columns=['Unit', 'Database']).rename(columns={'LCA': 'LCA unit', 'ESM': 'ESM unit', 'Name': 'Technology', 'Product': 'LCI dataset product', 'Activity': 'LCI dataset activity', 'Location': 'LCI dataset location', 'Value': 'Conversion factor', 'Type': 'Life cycle phase'})\n",
    "df_si_paper['Technology'] = df_si_paper['Technology'].apply(lambda x: tech_name_dict[x] if x in tech_name_dict.keys() else x)\n",
    "df_si_paper['Technology'] = df_si_paper['Technology'].replace('WIND_ONSHORE_CONNECTION', 'Onshore wind (connection part)')\n",
    "df_si_paper['Technology'] = df_si_paper['Technology'].replace('WIND_ONSHORE_TURBINE', 'Onshore wind (turbine part)')\n",
    "# df_si_paper.to_csv('./data/lca/si_paper.csv', index=False)"
   ],
   "id": "e1f8854b9380fbbf",
   "outputs": [],
   "execution_count": null
  },
  {
   "metadata": {},
   "cell_type": "code",
   "source": [
    "# Set up your Brightway project\n",
    "bd.projects.set_current(f'ecoinvent{ei_version} backup')"
   ],
   "id": "1c0507dcf7a33bdc",
   "outputs": [],
   "execution_count": null
  },
  {
   "metadata": {},
   "cell_type": "code",
   "source": [
    "name_main_database_2050 = f'ecoinvent_cutoff_{ei_version}_image_SSP2-Base_2050'\n",
    "esm_db_name = 'Tatooine'"
   ],
   "id": "539ff35204d0259c",
   "outputs": [],
   "execution_count": null
  },
  {
   "metadata": {},
   "cell_type": "code",
   "source": "main_db_2050 = Database(name_main_database_2050, create_pickle=True)",
   "id": "c9d4c26fd3cdfb73",
   "outputs": [],
   "execution_count": null
  },
  {
   "metadata": {},
   "cell_type": "code",
   "source": [
    "# Add CPC categories to the main database\n",
    "main_db_2050.add_CPC_categories()"
   ],
   "id": "8fc9e3c9df1a93f2",
   "outputs": [],
   "execution_count": null
  },
  {
   "metadata": {},
   "cell_type": "code",
   "source": "ranking_best_ecoinvent_locations = ['GLO', 'RoW']",
   "id": "d68ce795e2ee7351",
   "outputs": [],
   "execution_count": null
  },
  {
   "metadata": {},
   "cell_type": "code",
   "source": [
    "esm = PathwayESM(\n",
    "    # Mandatory inputs\n",
    "    time_steps=[\n",
    "        {'year': 2050, 'model': model, 'lifetime':lifetime, 'main_database': main_db_2050},\n",
    "    ],\n",
    "    mapping=mapping.copy(deep=True),\n",
    "    unit_conversion=unit_conversion,\n",
    "    mapping_esm_flows_to_CPC_cat=mapping_es_flows_to_cpc,\n",
    "    esm_db_name=esm_db_name,\n",
    "    esm_location='GLO',\n",
    "\n",
    "    # Optional inputs\n",
    "    technology_compositions=techno_compositions,\n",
    "    efficiency=efficiency,\n",
    "    regionalize_foregrounds=False,\n",
    "    locations_ranking=ranking_best_ecoinvent_locations,\n",
    "    results_path_file=path_results,\n",
    "    biosphere_db_name='ecoinvent-3.10.1-biosphere',\n",
    ")"
   ],
   "id": "baf9b093f75bedbb",
   "outputs": [],
   "execution_count": null
  },
  {
   "metadata": {},
   "cell_type": "code",
   "source": "esm.check_inputs()",
   "id": "f3191c30439d377d",
   "outputs": [],
   "execution_count": null
  },
  {
   "metadata": {},
   "cell_type": "code",
   "source": "missing_flows = main_db_2050.test_mapping_file(esm.mapping[esm.mapping.Year == 2050])",
   "id": "5891d0fdae56b073",
   "outputs": [],
   "execution_count": null
  },
  {
   "metadata": {},
   "cell_type": "code",
   "source": "esm.create_esm_database()",
   "id": "2f5e0848f8f82aa1",
   "outputs": [],
   "execution_count": null
  },
  {
   "metadata": {},
   "cell_type": "code",
   "source": "methods = ['IMPACT World+ Midpoint 2.1 for ecoinvent v3.10', 'IMPACT World+ Damage 2.1 for ecoinvent v3.10']",
   "id": "24820ca058bc9353",
   "outputs": [],
   "execution_count": null
  },
  {
   "metadata": {},
   "cell_type": "code",
   "source": [
    "# Contribution analysis of elementary flows for total human health and total ecosystem quality\n",
    "R_long, contrib_analysis = esm.compute_impact_scores(\n",
    "    methods=methods,\n",
    "    impact_abbrev=impact_abbrev,\n",
    "    contribution_analysis='emissions',\n",
    "    contribution_analysis_limit_type='number',\n",
    "    contribution_analysis_limit=10,\n",
    ")\n",
    "R_long.to_csv(f'{path_results}impact_scores.csv', index=False) # [impact / kW(h) or pkm(/h) or tkm(/h)]\n",
    "contrib_analysis.to_csv(f'{path_results}contribution_analysis.csv', index=False) # [impact / kW(h) or pkm(/h) or tkm(/h)]"
   ],
   "id": "59ac5e4a3ab24aea",
   "outputs": [],
   "execution_count": null
  },
  {
   "metadata": {},
   "cell_type": "code",
   "source": [
    "metadata = {\n",
    "    'ecoinvent_version': ei_version,\n",
    "    'year': '2050',\n",
    "    'iam': 'image',\n",
    "    'ssp_rcp': 'SSP2-Base',\n",
    "}"
   ],
   "id": "6f21e98fca61e493",
   "outputs": [],
   "execution_count": null
  },
  {
   "metadata": {},
   "cell_type": "code",
   "source": "specific_lcia_abbrev = ['m_CCS', 'TTHH', 'TTEQ']",
   "id": "214da2782bba635a",
   "outputs": [],
   "execution_count": null
  },
  {
   "metadata": {},
   "cell_type": "code",
   "source": [
    "# Create .dat file\n",
    "esm.normalize_lca_metrics(\n",
    "    R=R_long,\n",
    "    mip_gap=1e-6,\n",
    "    lcia_methods=methods,\n",
    "    specific_lcia_abbrev=specific_lcia_abbrev,\n",
    "    impact_abbrev=impact_abbrev,\n",
    "    path=path_model_lca,\n",
    "    metadata=metadata,\n",
    "    file_name='techs_lca',\n",
    ")"
   ],
   "id": "f0722b317c2d72c3",
   "outputs": [],
   "execution_count": null
  },
  {
   "metadata": {},
   "cell_type": "code",
   "source": [
    "# Create the .mod file\n",
    "esm.generate_mod_file_ampl(\n",
    "    lcia_methods=methods,\n",
    "    impact_abbrev=impact_abbrev,\n",
    "    specific_lcia_abbrev=specific_lcia_abbrev,\n",
    "    path=path_model_lca,\n",
    "    metadata=metadata,\n",
    "    file_name='objectives_lca',\n",
    ")"
   ],
   "id": "8178172dac2965e2",
   "outputs": [],
   "execution_count": null
  },
  {
   "metadata": {},
   "cell_type": "markdown",
   "source": "## First iteration: single objective optimization with a snapshot ESM",
   "id": "fe51bd381adeb071"
  },
  {
   "metadata": {},
   "cell_type": "code",
   "source": [
    "impact_scores = pd.read_csv(path_results+'impact_scores.csv')\n",
    "impact_scores.Impact_category = impact_scores.Impact_category.apply(lambda x: ast.literal_eval(x))"
   ],
   "id": "c8050a2095afee56",
   "outputs": [],
   "execution_count": null
  },
  {
   "metadata": {},
   "cell_type": "code",
   "source": [
    "list_esm_results_f_mult = []\n",
    "list_esm_results_annual_res = []\n",
    "list_esm_results_annual_prod = []\n",
    "list_main_variables_results = []\n",
    "\n",
    "for obj in ['TotalCost', 'TotalLCIA_m_CCS', 'TotalLCIA_TTHH', 'TotalLCIA_TTEQ']:\n",
    "\n",
    "    es = run_esm(obj+'[2050]', returns='model')\n",
    "    results = es.calc()\n",
    "\n",
    "    df_f_mult, df_annual_prod, df_annual_res = get_impact_scores(\n",
    "        df_results=results,\n",
    "        df_impact_scores=impact_scores,\n",
    "        impact_category=list(impact_scores['Impact_category'].unique()),\n",
    "    )\n",
    "\n",
    "    df_f_mult['Run'] = obj\n",
    "    df_annual_prod['Run'] = obj\n",
    "    df_annual_res['Run'] = obj\n",
    "\n",
    "    # we only keep the results for 2050\n",
    "    df_f_mult = df_f_mult[df_f_mult['index1'] == 2050]\n",
    "    df_annual_prod = df_annual_prod[df_annual_prod['index1'] == 2050]\n",
    "    df_annual_res = df_annual_res[df_annual_res['index1'] == 2050]\n",
    "\n",
    "    df_f_mult.rename(columns={'index0': 'Name', 'index1': 'Year'}, inplace=True)\n",
    "    df_annual_prod.rename(columns={'index0': 'Name', 'index1': 'Year'}, inplace=True)\n",
    "    df_annual_res.rename(columns={'index0': 'Name', 'index1': 'Year'}, inplace=True)\n",
    "\n",
    "    # we keep the first value (i.e., the one for 2050)\n",
    "    total_cost = results.variables['TotalCost'].TotalCost.values[0]\n",
    "    total_m_ccs = results.variables['TotalLCIA_m_CCS'].TotalLCIA_m_CCS.values[0]\n",
    "    total_tthh = results.variables['TotalLCIA_TTHH'].TotalLCIA_TTHH.values[0]\n",
    "    total_tteq = results.variables['TotalLCIA_TTEQ'].TotalLCIA_TTEQ.values[0]\n",
    "\n",
    "    list_main_variables_results.append([obj, total_cost, total_m_ccs, total_tthh, total_tteq])\n",
    "\n",
    "    list_esm_results_f_mult.append(df_f_mult)\n",
    "    list_esm_results_annual_prod.append(df_annual_prod)\n",
    "    list_esm_results_annual_res.append(df_annual_res)\n",
    "\n",
    "esm_results_f_mult = pd.concat(list_esm_results_f_mult)\n",
    "esm_results_annual_prod = pd.concat(list_esm_results_annual_prod)\n",
    "esm_results_annual_res = pd.concat(list_esm_results_annual_res)\n",
    "main_variables_results = pd.DataFrame(data=list_main_variables_results, columns=['Objective', 'TotalCost', 'TotalLCIA_m_CCS', 'TotalLCIA_TTHH', 'TotalLCIA_TTEQ'])"
   ],
   "id": "6b1f7354fc28bd55",
   "outputs": [],
   "execution_count": null
  },
  {
   "metadata": {},
   "cell_type": "code",
   "source": [
    "# lyrio = results.parameters['layers_in_out'].reset_index()\n",
    "# lyrio = lyrio[lyrio.layers_in_out != 0].drop(columns=['Run']).rename({'index0': 'Name', 'index1': 'Flow', 'layers_in_out': 'Amount'}, axis=1)\n",
    "# lyrio.to_csv(path_inputs+'model.csv', index=False)"
   ],
   "id": "d58929ca282f11",
   "outputs": [],
   "execution_count": null
  },
  {
   "metadata": {},
   "cell_type": "markdown",
   "source": "## Create new LCI datasets from the ESM results",
   "id": "9d8a30923daf8bad"
  },
  {
   "metadata": {},
   "cell_type": "code",
   "source": [
    "esm_results = esm_results_annual_prod.rename(columns={'Annual_Prod': 'Production'})[['Name', 'Production', 'Run']]\n",
    "esm_results = esm_results.merge(esm_results_f_mult[['Name', 'F_Mult', 'Run']], on=['Name', 'Run'], how='left').rename(columns={'F_Mult': 'Capacity'})"
   ],
   "id": "a06fa4a5cece4f61",
   "outputs": [],
   "execution_count": null
  },
  {
   "metadata": {},
   "cell_type": "markdown",
   "source": "### With harmonization",
   "id": "48484a4f18e3f0c7"
  },
  {
   "metadata": {},
   "cell_type": "code",
   "source": [
    "esm.esm_location = 'WAF' # we want to take the WAF electricity markets as a dataset template\n",
    "for run in ['TotalCost', 'TotalLCIA_m_CCS', 'TotalLCIA_TTHH', 'TotalLCIA_TTEQ']:\n",
    "    esm.create_new_database_with_esm_results(\n",
    "        esm_results=esm_results[esm_results['Run'] == run],\n",
    "        remove_background_construction_flows=False,\n",
    "        harmonize_with_esm=True,\n",
    "        esm_results_db_name=f'{esm.esm_db_name}_2050_results_{run.replace(\"Total\", \"\").replace(\"LCIA_\", \"\").lower()}',\n",
    "    )"
   ],
   "id": "cea76aaf3b067ba6",
   "outputs": [],
   "execution_count": null
  },
  {
   "metadata": {},
   "cell_type": "markdown",
   "source": "### Without harmonization",
   "id": "660bcaf1d7c2165f"
  },
  {
   "metadata": {},
   "cell_type": "code",
   "source": [
    "for run in ['TotalCost', 'TotalLCIA_m_CCS', 'TotalLCIA_TTHH', 'TotalLCIA_TTEQ']:\n",
    "    esm.create_new_database_with_esm_results(\n",
    "        esm_results=esm_results[esm_results['Run'] == run],\n",
    "        remove_background_construction_flows=False,\n",
    "        harmonize_with_esm=False,\n",
    "        esm_results_db_name=f'{esm.esm_db_name}_2050_results_{run.replace(\"Total\", \"\").replace(\"LCIA_\", \"\").lower()}_wo_harmonization',\n",
    "    )"
   ],
   "id": "b367bae60b663dfa",
   "outputs": [],
   "execution_count": null
  },
  {
   "metadata": {},
   "cell_type": "markdown",
   "source": "### Generate new metrics from the SOO results",
   "id": "7512574d8a843160"
  },
  {
   "metadata": {},
   "cell_type": "code",
   "source": [
    "locations = [\n",
    "    'BRA',\n",
    "    'CAN',\n",
    "    'CEU',\n",
    "    'CHN',\n",
    "    'EAF',\n",
    "    'INDIA',\n",
    "    'INDO',\n",
    "    'JAP',\n",
    "    'KOR',\n",
    "    'ME',\n",
    "    'MEX',\n",
    "    'NAF',\n",
    "    'OCE',\n",
    "    'RCAM',\n",
    "    'RSAF',\n",
    "    'RSAM',\n",
    "    'RSAS',\n",
    "    'RUS',\n",
    "    'SAF',\n",
    "    'SEAS',\n",
    "    'STAN',\n",
    "    'TUR',\n",
    "    'UKR',\n",
    "    'USA',\n",
    "    'WAF',\n",
    "    'WEU',\n",
    "    'World',\n",
    "    'GLO',\n",
    "    'RoW',\n",
    "]  # list of premise locations --> all these electricity markets will be updated with the ESM results"
   ],
   "id": "5629b7b7f37bbb74",
   "outputs": [],
   "execution_count": null
  },
  {
   "metadata": {},
   "cell_type": "code",
   "source": "methods = ['IMPACT World+ Midpoint 2.1 for ecoinvent v3.10', 'IMPACT World+ Damage 2.1 for ecoinvent v3.10']",
   "id": "111f1c9f842ca9bc",
   "outputs": [],
   "execution_count": null
  },
  {
   "metadata": {},
   "cell_type": "code",
   "source": [
    "for run in ['TotalLCIA_m_CCS', 'TotalCost', 'TotalLCIA_TTEQ', 'TotalLCIA_TTHH']:\n",
    "\n",
    "    for harmonized in [True, False]:\n",
    "\n",
    "        if harmonized:\n",
    "            suffix = f'{run.replace(\"Total\", \"\").replace(\"LCIA_\", \"\").lower()}'\n",
    "        else:\n",
    "            suffix = f'{run.replace(\"Total\", \"\").replace(\"LCIA_\", \"\").lower()}_wo_harmonization'\n",
    "\n",
    "        esm_results_db_name = f'{esm_db_name}_2050_results_{suffix}'\n",
    "        new_esm_db_name = f'{esm_db_name}_2050_{suffix}'\n",
    "        impact_scores_df_name = f'impact_scores_{suffix}'\n",
    "        dat_file_name = f'techs_lca_{suffix}'\n",
    "\n",
    "        main_db_2050 = Database(name_main_database_2050, create_pickle=True)\n",
    "        main_db_2050.add_CPC_categories()\n",
    "\n",
    "        esm = PathwayESM(\n",
    "            # Mandatory inputs\n",
    "            time_steps=2*[{'year': 2050, 'model': model, 'main_database': main_db_2050}],\n",
    "            mapping=mapping.copy(deep=True),\n",
    "            unit_conversion=unit_conversion,\n",
    "            mapping_esm_flows_to_CPC_cat=mapping_es_flows_to_cpc,\n",
    "            esm_db_name=esm_db_name,\n",
    "            esm_location='WAF',\n",
    "\n",
    "            # Optional inputs\n",
    "            technology_compositions=techno_compositions,\n",
    "            lifetime=lifetime,\n",
    "            efficiency=efficiency,\n",
    "            regionalize_foregrounds=False,\n",
    "            locations_ranking=ranking_best_ecoinvent_locations,\n",
    "            results_path_file=path_results,\n",
    "            biosphere_db_name='ecoinvent-3.10.1-biosphere',\n",
    "        )\n",
    "\n",
    "        # Connecting the results of the ESM to the ESM database\n",
    "        esm.connect_esm_results_to_database(\n",
    "            esm_results_db_name=esm_results_db_name,\n",
    "            specific_db_name=f'{esm.esm_db_name}_2050',\n",
    "            create_new_db=True,\n",
    "            new_db_name=new_esm_db_name,\n",
    "            locations=locations,\n",
    "            update_exchanges_based_on_activity_name=False,\n",
    "        )\n",
    "\n",
    "        # Connecting the results of the ESM to the main database (i.e., premise database)\n",
    "        esm.connect_esm_results_to_database(\n",
    "            esm_results_db_name=esm_results_db_name,\n",
    "            create_new_db=True,\n",
    "            new_db_name=f'{esm.main_database_name}_connected_{suffix}',\n",
    "            locations=locations,\n",
    "            update_exchanges_based_on_activity_name=False,\n",
    "        )\n",
    "\n",
    "        # relinking the newly created ESM database to the updated main database\n",
    "        Database(new_esm_db_name).relink(\n",
    "            name_database_unlink=esm.main_database_name,\n",
    "            name_database_relink=f'{esm.main_database_name}_connected_{suffix}',\n",
    "            write=True,\n",
    "        )\n",
    "\n",
    "        esm.time_steps = [{'year': 2050, 'model': model, 'main_database': main_db_2050}]  # only compute lca metrics once\n",
    "\n",
    "        # Computing the LCA indicators with the new ESM database\n",
    "        R_long, contribution_analysis = esm.compute_impact_scores(\n",
    "            esm_db_name=new_esm_db_name,\n",
    "            methods=methods,\n",
    "            impact_abbrev=impact_abbrev,\n",
    "            specific_lcia_abbrev=['TTHH', 'TTEQ', 'm_CCS'],\n",
    "        )\n",
    "\n",
    "        R_long.to_csv(f'{path_results}2050/{impact_scores_df_name}.csv', index=False)\n",
    "\n",
    "        # R_long = pd.read_csv(f'{path_results}2050/{impact_scores_df_name}.csv')\n",
    "\n",
    "        # Create .dat file\n",
    "        esm.normalize_lca_metrics(\n",
    "            R=R_long,\n",
    "            mip_gap=1e-6,\n",
    "            lcia_methods=methods,\n",
    "            specific_lcia_abbrev=['TTHH', 'TTEQ', 'm_CCS'],\n",
    "            impact_abbrev=impact_abbrev,\n",
    "            path=path_model_lca+'esm_results/',\n",
    "            file_name=dat_file_name,\n",
    "        )"
   ],
   "id": "94762fad4cb9bbba",
   "outputs": [],
   "execution_count": null
  },
  {
   "metadata": {
    "ExecuteTime": {
     "end_time": "2025-05-28T18:09:55.829632Z",
     "start_time": "2025-05-28T18:09:55.657594Z"
    }
   },
   "cell_type": "markdown",
   "source": "### Second iteration: re-run the ESM with the first iteration results fed back in the LCI database",
   "id": "7f7ad296c9bfe2b7"
  },
  {
   "metadata": {},
   "cell_type": "code",
   "source": [
    "for obj in ['TotalLCIA_m_CCS', 'TotalCost', 'TotalLCIA_TTHH', 'TotalLCIA_TTEQ']:\n",
    "\n",
    "    for background in ['base', 'esm_not_harmonized', 'esm_harmonized']:\n",
    "\n",
    "        if background == 'base':\n",
    "            impact_scores = pd.read_csv(f'./results/impact_scores.csv')\n",
    "        elif background == 'esm_not_harmonized':\n",
    "            impact_scores = pd.read_csv(f'./results/2050/impact_scores_{obj.replace(\"Total\", \"\").replace(\"LCIA_\", \"\").lower()}_wo_harmonization.csv')\n",
    "        elif background == 'esm_harmonized':\n",
    "            impact_scores = pd.read_csv(f'./results/2050/impact_scores_{obj.replace(\"Total\", \"\").replace(\"LCIA_\", \"\").lower()}.csv')\n",
    "        else:\n",
    "            raise ValueError(\"Background must be one of 'base', 'esm_not_harmonized', or 'esm_harmonized'.\")\n",
    "\n",
    "        impact_scores.Impact_category = impact_scores.Impact_category.apply(lambda x: ast.literal_eval(x))\n",
    "\n",
    "        es = run_esm(obj+'[2050]', scenario=True, lca_metrics_background=background, returns='model')\n",
    "        results = es.calc()\n",
    "\n",
    "        df_f_mult, df_annual_prod, df_annual_res = get_impact_scores(\n",
    "            df_results=results,\n",
    "            df_impact_scores=impact_scores,\n",
    "            impact_category=list(impact_scores['Impact_category'].unique()),\n",
    "            specific_year=2050,\n",
    "        )\n",
    "\n",
    "        df_f_mult['Run'] = f'{obj}_{background}'\n",
    "        df_annual_prod['Run'] = f'{obj}_{background}'\n",
    "        df_annual_res['Run'] = f'{obj}_{background}'\n",
    "\n",
    "        df_f_mult.rename(columns={'index0': 'Name', 'index1': 'Year'}, inplace=True)\n",
    "        df_annual_prod.rename(columns={'index0': 'Name', 'index1': 'Year'}, inplace=True)\n",
    "        df_annual_res.rename(columns={'index0': 'Name', 'index1': 'Year'}, inplace=True)\n",
    "\n",
    "        list_esm_results_f_mult.append(df_f_mult)\n",
    "        list_esm_results_annual_prod.append(df_annual_prod)\n",
    "        list_esm_results_annual_res.append(df_annual_res)\n",
    "\n",
    "esm_results_f_mult = pd.concat(list_esm_results_f_mult)\n",
    "esm_results_annual_prod = pd.concat(list_esm_results_annual_prod)\n",
    "esm_results_annual_res = pd.concat(list_esm_results_annual_res)"
   ],
   "id": "ac8f9237415208ea",
   "outputs": [],
   "execution_count": null
  },
  {
   "metadata": {},
   "cell_type": "markdown",
   "source": "To compare those results to what would typically be obtained with an ESM not coupled to LCA, we compute the impact obtained from direct CO2 emissions only.",
   "id": "b97b5c546455a626"
  },
  {
   "metadata": {},
   "cell_type": "code",
   "source": "esm_db = Database('Tatooine_2050')",
   "id": "16b6020aa0b0fab2",
   "outputs": [],
   "execution_count": null
  },
  {
   "metadata": {},
   "cell_type": "code",
   "source": "df_flows_set_to_zero = pd.read_csv(path_results+'2050/removed_flows_list.csv')",
   "id": "1e46c698326c8c9",
   "outputs": [],
   "execution_count": null
  },
  {
   "metadata": {},
   "cell_type": "code",
   "source": [
    "# Retrieving direct CO2 emissions\n",
    "direct_co2_emissions_dict = {}\n",
    "\n",
    "for tech in mapping.Name.unique():\n",
    "    direct_co2_emissions_dict[tech] = 0\n",
    "\n",
    "for tech in df_flows_set_to_zero.Name.unique():\n",
    "    act_name_list =  df_flows_set_to_zero[df_flows_set_to_zero.Name == tech]['Activity'].unique()\n",
    "    for act_name in act_name_list:\n",
    "        act = [i for i in esm_db.db_as_list if i['name'] == act_name][0]\n",
    "        direct_co2_emissions = sum([exc['amount'] for exc in act['exchanges'] if exc['name'] == 'Carbon dioxide, fossil'])\n",
    "        direct_co2_emissions_dict[tech] += direct_co2_emissions"
   ],
   "id": "410e720dc20c0510",
   "outputs": [],
   "execution_count": null
  },
  {
   "metadata": {},
   "cell_type": "code",
   "source": [
    "# Characterization factors from IMPACT World+ (version 2.1)\n",
    "cf_dict = {\n",
    "    'Climate change, short term': 1.0,\n",
    "    'Total human health': 7.197288788407747e-06,\n",
    "    'Total ecosystem quality': 0.7025434445756051,\n",
    "}"
   ],
   "id": "dae0b3442c81ed39",
   "outputs": [],
   "execution_count": null
  },
  {
   "metadata": {},
   "cell_type": "code",
   "source": [
    "esm_results_annual_prod['Direct CO2 emissions'] = esm_results_annual_prod['Annual_Prod'] * esm_results_annual_prod.Name.apply(lambda x: direct_co2_emissions_dict[x])\n",
    "\n",
    "for imp_cat in ['Climate change, short term', 'Total human health', 'Total ecosystem quality']:\n",
    "    # Adding direct CO2 emissions columns to the operation impacts dataframe\n",
    "    esm_results_annual_prod[f'{imp_cat} (direct)'] = esm_results_annual_prod['Direct CO2 emissions'] * cf_dict[imp_cat]\n",
    "\n",
    "    # The construction and resources impact are not modelled in ESMs without LCA\n",
    "    esm_results_f_mult[f'{imp_cat} (direct)'] = 0\n",
    "    esm_results_annual_res[f'{imp_cat} (direct)'] = 0"
   ],
   "id": "62ed029575da5877",
   "outputs": [],
   "execution_count": null
  },
  {
   "metadata": {},
   "cell_type": "code",
   "source": [
    "esm_results_f_mult.to_csv('./results/soo_results_f_mult.csv', index=False)\n",
    "esm_results_annual_prod.to_csv('./results/soo_results_annual_prod.csv', index=False)\n",
    "esm_results_annual_res.to_csv('./results/soo_results_annual_res.csv', index=False)"
   ],
   "id": "3081a723fc389086",
   "outputs": [],
   "execution_count": null
  },
  {
   "metadata": {},
   "cell_type": "markdown",
   "source": "## MOO",
   "id": "c136073b7df42542"
  },
  {
   "metadata": {},
   "cell_type": "code",
   "source": [
    "# normalized limit = (physical limit [impact / cap] / max_AoP) * N_cap\n",
    "N_run = 100\n",
    "obj1 = 'TotalLCIA_m_CCS'\n",
    "obj2 = 'TotalCost'\n",
    "\n",
    "normalized_limits_list = []\n",
    "obj1_min = main_variables_results[main_variables_results['Objective'] == obj1][obj1].values[0]\n",
    "obj1_max = main_variables_results[main_variables_results['Objective'] == obj2][obj1].values[0]\n",
    "normalized_limit_list = list(np.linspace(obj1_min, obj1_max, N_run))\n",
    "# physical_limit_list = [i * max_ccs for i in normalized_limit_list]"
   ],
   "id": "912b17adf34fecbd",
   "outputs": [],
   "execution_count": null
  },
  {
   "metadata": {},
   "cell_type": "code",
   "source": [
    "data = ['limit_lcia', obj1.split('TotalLCIA_')[-1], 2050, None, None] + normalized_limit_list\n",
    "columns = ['param', 'index0', 'index1', 'index2', 'index3'] + [f'value{i+1}' for i in range(N_run)]"
   ],
   "id": "c296ce1ebbb2084d",
   "outputs": [],
   "execution_count": null
  },
  {
   "metadata": {},
   "cell_type": "code",
   "source": [
    "seq_data = pd.DataFrame(data).T\n",
    "seq_data.columns = columns"
   ],
   "id": "e7a41d16f747be7f",
   "outputs": [],
   "execution_count": null
  },
  {
   "metadata": {},
   "cell_type": "code",
   "source": "es = run_esm(objective_function=obj2+'[2050]', returns='model')",
   "id": "41cfdd40c7bf62ad",
   "outputs": [],
   "execution_count": null
  },
  {
   "metadata": {},
   "cell_type": "code",
   "source": "results_pareto = es.calc_sequence(seq_data)",
   "id": "3fe41b2704e604e3",
   "outputs": [],
   "execution_count": null
  },
  {
   "metadata": {},
   "cell_type": "markdown",
   "source": "## Visualize the results",
   "id": "55c9592de69b8ec6"
  },
  {
   "metadata": {},
   "cell_type": "code",
   "source": "save_fig = False",
   "id": "26913d212ccfa5fd",
   "outputs": [],
   "execution_count": null
  },
  {
   "metadata": {},
   "cell_type": "code",
   "source": "tech_to_show_list = [i for i in impact_scores.Name.unique() if i not in ['GRID']]",
   "id": "2ae7b0bdd2468370",
   "outputs": [],
   "execution_count": null
  },
  {
   "metadata": {},
   "cell_type": "code",
   "source": [
    "esm_results_f_mult = pd.read_csv('./results/soo_results_f_mult.csv')\n",
    "esm_results_annual_prod = pd.read_csv('./results/soo_results_annual_prod.csv')\n",
    "esm_results_annual_res = pd.read_csv('./results/soo_results_annual_res.csv')"
   ],
   "id": "c00c5858dfd2160",
   "outputs": [],
   "execution_count": null
  },
  {
   "metadata": {},
   "cell_type": "code",
   "source": [
    "run_first_it = ['TotalCost', 'TotalLCIA_m_CCS', 'TotalLCIA_TTHH', 'TotalLCIA_TTEQ']\n",
    "run_second_it = [i for i in esm_results_f_mult.Run.unique() if i not in run_first_it]"
   ],
   "id": "f4b295f0f976b907",
   "outputs": [],
   "execution_count": null
  },
  {
   "metadata": {},
   "cell_type": "markdown",
   "source": "### SOO",
   "id": "b5c62a9b7c17b3a8"
  },
  {
   "metadata": {},
   "cell_type": "code",
   "source": [
    "mask_f_mult = (esm_results_f_mult.Run.isin(run_first_it)) & (esm_results_f_mult.Year == 2050)\n",
    "mask_annual_prod = (esm_results_annual_prod.Run.isin(run_first_it)) & (esm_results_annual_prod.Year == 2050)\n",
    "mask_annual_res = (esm_results_annual_res.Run.isin(run_first_it)) & (esm_results_annual_res.Year == 2050)"
   ],
   "id": "402753ac35c44de6",
   "outputs": [],
   "execution_count": null
  },
  {
   "metadata": {},
   "cell_type": "markdown",
   "source": "#### Installed capacities and annual productions",
   "id": "5cdc3d13c9dcc8b9"
  },
  {
   "metadata": {},
   "cell_type": "code",
   "source": [
    "df_cap = plot_energy_system_configuration(\n",
    "    type='capacity',\n",
    "    df_res=esm_results_f_mult[mask_f_mult],\n",
    "    save_fig=save_fig,\n",
    ")"
   ],
   "id": "e841f1937452f9d1",
   "outputs": [],
   "execution_count": null
  },
  {
   "metadata": {},
   "cell_type": "code",
   "source": [
    "df_prod = plot_energy_system_configuration(\n",
    "    type='production',\n",
    "    df_res=esm_results_annual_prod[mask_annual_prod],\n",
    "    save_fig=save_fig,\n",
    ")"
   ],
   "id": "6cabcf317e1562c5",
   "outputs": [],
   "execution_count": null
  },
  {
   "metadata": {},
   "cell_type": "code",
   "source": [
    "df_syst_config = pd.merge(\n",
    "    df_cap,\n",
    "    df_prod,\n",
    "    on=['Name', 'Run'],\n",
    "    how='outer',\n",
    ").rename(columns={'F_Mult': 'Installed capacity [GW]', 'Annual_Prod': 'Annual production [GWh]', 'Run': 'Objective function', 'Name': 'Technology'})\n",
    "df_syst_config['Objective function'] = df_syst_config['Objective function'].apply(lambda x: full_name_ind[x] if x in full_name_ind.keys() else x)\n",
    "df_syst_config = df_syst_config.sort_values(by=['Objective function', 'Technology'])[['Objective function', 'Technology', 'Installed capacity [GW]', 'Annual production [GWh]']]"
   ],
   "id": "e8ad06bf959604db",
   "outputs": [],
   "execution_count": null
  },
  {
   "metadata": {},
   "cell_type": "markdown",
   "source": "#### Contribution per technology",
   "id": "9cd95db9db9d9f10"
  },
  {
   "metadata": {},
   "cell_type": "code",
   "source": [
    "plot_technologies_contribution(\n",
    "    cat='Total human health',\n",
    "    esm_results_f_mult=esm_results_f_mult[mask_f_mult],\n",
    "    esm_results_annual_prod=esm_results_annual_prod[mask_annual_prod],\n",
    "    esm_results_annual_res=esm_results_annual_res[mask_annual_res],\n",
    "    tech_to_show_list=tech_to_show_list,\n",
    "    save_fig=save_fig,\n",
    ")"
   ],
   "id": "c323d817cc559be3",
   "outputs": [],
   "execution_count": null
  },
  {
   "metadata": {},
   "cell_type": "code",
   "source": [
    "plot_technologies_contribution(\n",
    "    cat='Total ecosystem quality',\n",
    "    esm_results_f_mult=esm_results_f_mult[mask_f_mult],\n",
    "    esm_results_annual_prod=esm_results_annual_prod[mask_annual_prod],\n",
    "    esm_results_annual_res=esm_results_annual_res[mask_annual_res],\n",
    "    tech_to_show_list=tech_to_show_list,\n",
    "    save_fig=save_fig,\n",
    ")"
   ],
   "id": "de98251b8a0263df",
   "outputs": [],
   "execution_count": null
  },
  {
   "metadata": {},
   "cell_type": "code",
   "source": [
    "plot_technologies_contribution(\n",
    "    cat='Climate change, short term',\n",
    "    esm_results_f_mult=esm_results_f_mult[mask_f_mult],\n",
    "    esm_results_annual_prod=esm_results_annual_prod[mask_annual_prod],\n",
    "    esm_results_annual_res=esm_results_annual_res[mask_annual_res],\n",
    "    tech_to_show_list=tech_to_show_list,\n",
    "    save_fig=save_fig,\n",
    ")"
   ],
   "id": "5b828841e5ccac0a",
   "outputs": [],
   "execution_count": null
  },
  {
   "metadata": {},
   "cell_type": "code",
   "source": [
    "plot_technologies_contribution(\n",
    "    cat='Total cost',\n",
    "    esm_results_f_mult=esm_results_f_mult[mask_f_mult],\n",
    "    esm_results_annual_prod=esm_results_annual_prod[mask_annual_prod],\n",
    "    esm_results_annual_res=esm_results_annual_res[mask_annual_res],\n",
    "    tech_to_show_list=tech_to_show_list,\n",
    "    save_fig=save_fig,\n",
    ")"
   ],
   "id": "5e1713f4830558d",
   "outputs": [],
   "execution_count": null
  },
  {
   "metadata": {},
   "cell_type": "markdown",
   "source": "Table of results",
   "id": "ec79aa339a6d06b2"
  },
  {
   "metadata": {},
   "cell_type": "code",
   "source": [
    "list_esm_results_total = []\n",
    "\n",
    "for obj in ['Total cost', 'Total human health', 'Total ecosystem quality', 'Climate change, short term']:\n",
    "    esm_results_total = aggregate_phases_results(\n",
    "        cat=obj,\n",
    "        esm_results_f_mult=esm_results_f_mult[mask_f_mult],\n",
    "        esm_results_annual_prod=esm_results_annual_prod[mask_annual_prod],\n",
    "        esm_results_annual_res=esm_results_annual_res[mask_annual_res],\n",
    "        tech_to_show_list=tech_to_show_list,\n",
    "    )\n",
    "    esm_results_total['Metric'] = obj\n",
    "    esm_results_total.rename(columns={obj: 'Value (total)', f'{obj} (direct)': 'Value (direct)', 'Name': 'Technology or resource'}, inplace=True)\n",
    "    list_esm_results_total.append(esm_results_total)\n",
    "esm_results_total = pd.concat(list_esm_results_total)\n",
    "esm_results_total = esm_results_total[esm_results_total['Value (total)'] != 0]\n",
    "esm_results_total.Run = esm_results_total.Run.apply(lambda x: full_name_ind[x] if x in full_name_ind.keys() else x)\n",
    "esm_results_total.rename(columns={'Run': 'Objective function'}, inplace=True)\n",
    "esm_results_total['Unit'] = esm_results_total.Metric.apply(lambda x: unit_ind_txt_dict[x]+'/(cap.yr)')\n",
    "esm_results_total = esm_results_total.sort_values(['Metric', 'Objective function', 'Technology or resource'])[['Metric', 'Unit', 'Objective function', 'Technology or resource', 'Value (total)', 'Value (direct)']]"
   ],
   "id": "277ff1964e9effad",
   "outputs": [],
   "execution_count": null
  },
  {
   "metadata": {},
   "cell_type": "markdown",
   "source": "#### Contribution per impact category",
   "id": "fa0f52f608de14b6"
  },
  {
   "metadata": {},
   "cell_type": "code",
   "source": [
    "impact_scores = pd.read_csv(path_results+'impact_scores.csv')\n",
    "impact_scores.Impact_category = impact_scores.Impact_category.apply(lambda x: ast.literal_eval(x))"
   ],
   "id": "8317fe0f41ada060",
   "outputs": [],
   "execution_count": null
  },
  {
   "metadata": {},
   "cell_type": "code",
   "source": [
    "hh_cat = [cat[2] for cat in impact_scores['Impact_category'].unique() if cat[1] == 'Human health' and cat[2] != 'Total human health']\n",
    "eq_cat = [cat[2] for cat in impact_scores['Impact_category'].unique() if cat[1] == 'Ecosystem quality' and cat[2] != 'Total ecosystem quality']"
   ],
   "id": "87a13cdc53c32921",
   "outputs": [],
   "execution_count": null
  },
  {
   "metadata": {},
   "cell_type": "code",
   "source": [
    "esm_results_f_mult_imp_cat_hh = esm_results_f_mult[mask_f_mult][['Name', 'Run'] + hh_cat].melt(id_vars=['Name', 'Run'], var_name='Impact category', value_name='Construction').groupby(['Run', 'Impact category']).sum().reset_index().drop(columns='Name')\n",
    "esm_results_annual_prod_imp_cat_hh = esm_results_annual_prod[mask_annual_prod][['Name', 'Run'] + hh_cat].melt(id_vars=['Name', 'Run'], var_name='Impact category', value_name='Operation').groupby(['Run', 'Impact category']).sum().reset_index().drop(columns='Name')\n",
    "esm_results_annual_res_imp_cat_hh = esm_results_annual_res[mask_annual_res][['Name', 'Run'] + hh_cat].melt(id_vars=['Name', 'Run'], var_name='Impact category', value_name='Resource').groupby(['Run', 'Impact category']).sum().reset_index().drop(columns='Name')"
   ],
   "id": "9ac1659c05def0dd",
   "outputs": [],
   "execution_count": null
  },
  {
   "metadata": {},
   "cell_type": "code",
   "source": [
    "esm_results_f_mult_imp_cat_eq = esm_results_f_mult[mask_f_mult][['Name', 'Run'] + eq_cat].melt(id_vars=['Name', 'Run'], var_name='Impact category', value_name='Construction').groupby(['Run', 'Impact category']).sum().reset_index().drop(columns='Name')\n",
    "esm_results_annual_prod_imp_cat_eq = esm_results_annual_prod[mask_annual_prod][['Name', 'Run'] + eq_cat].melt(id_vars=['Name', 'Run'], var_name='Impact category', value_name='Operation').groupby(['Run', 'Impact category']).sum().reset_index().drop(columns='Name')\n",
    "esm_results_annual_res_imp_cat_eq = esm_results_annual_res[mask_annual_res][['Name', 'Run'] + eq_cat].melt(id_vars=['Name', 'Run'], var_name='Impact category', value_name='Resource').groupby(['Run', 'Impact category']).sum().reset_index().drop(columns='Name')"
   ],
   "id": "f5557580dac151db",
   "outputs": [],
   "execution_count": null
  },
  {
   "metadata": {},
   "cell_type": "code",
   "source": [
    "esm_results_imp_cat_hh = pd.merge(esm_results_f_mult_imp_cat_hh, esm_results_annual_prod_imp_cat_hh, on=['Run', 'Impact category'], how='outer')\n",
    "esm_results_imp_cat_hh = pd.merge(esm_results_imp_cat_hh, esm_results_annual_res_imp_cat_hh, on=['Run', 'Impact category'], how='outer')\n",
    "\n",
    "esm_results_imp_cat_eq = pd.merge(esm_results_f_mult_imp_cat_eq, esm_results_annual_prod_imp_cat_eq, on=['Run', 'Impact category'], how='outer')\n",
    "esm_results_imp_cat_eq = pd.merge(esm_results_imp_cat_eq, esm_results_annual_res_imp_cat_eq, on=['Run', 'Impact category'], how='outer')"
   ],
   "id": "e9d6d518b97c1049",
   "outputs": [],
   "execution_count": null
  },
  {
   "metadata": {},
   "cell_type": "code",
   "source": [
    "esm_results_imp_cat_hh['Total'] = esm_results_imp_cat_hh['Construction'] + esm_results_imp_cat_hh['Operation'] + esm_results_imp_cat_hh['Resource']\n",
    "esm_results_imp_cat_eq['Total'] = esm_results_imp_cat_eq['Construction'] + esm_results_imp_cat_eq['Operation'] + esm_results_imp_cat_eq['Resource']"
   ],
   "id": "2a1328af7c31be6a",
   "outputs": [],
   "execution_count": null
  },
  {
   "metadata": {},
   "cell_type": "code",
   "source": [
    "for col in ['Construction', 'Operation', 'Resource', 'Total']:\n",
    "    esm_results_imp_cat_hh[col] = esm_results_imp_cat_hh[col] * 1e6 / N_cap\n",
    "    esm_results_imp_cat_eq[col] = esm_results_imp_cat_eq[col] * 1e6 / N_cap"
   ],
   "id": "7f28dde75cfed7a1",
   "outputs": [],
   "execution_count": null
  },
  {
   "metadata": {},
   "cell_type": "code",
   "source": [
    "esm_results_imp_cat_hh['Run'] = esm_results_imp_cat_hh['Run'].apply(lambda x: obj_code_dict[x])\n",
    "esm_results_imp_cat_eq['Run'] = esm_results_imp_cat_eq['Run'].apply(lambda x: obj_code_dict[x])"
   ],
   "id": "42c1098df5d1d509",
   "outputs": [],
   "execution_count": null
  },
  {
   "metadata": {},
   "cell_type": "code",
   "source": [
    "fig = px.bar(\n",
    "    esm_results_imp_cat_hh,\n",
    "    x='Run',\n",
    "    y='Total',\n",
    "    color='Impact category',\n",
    "    barmode='stack',\n",
    "    labels={\n",
    "        'Impact category': 'Impact category',\n",
    "        'Total': 'Human health damage [DALY/(cap.yr)]',\n",
    "        'Run': 'Objective function',\n",
    "    },\n",
    "    width=650,\n",
    "    height=525,\n",
    ")\n",
    "\n",
    "fig.for_each_trace(lambda t: t.update(marker_color=impact_category_hh_colors.get(t.name, '#000000')))\n",
    "fig.update_layout(legend_traceorder='reversed')\n",
    "\n",
    "fig.update_layout(\n",
    "    margin=dict(l=20, r=20, t=20, b=20),  # left, right, top, bottom\n",
    ")\n",
    "\n",
    "if save_fig:\n",
    "    fig.write_image('./figures/soo_impact_contrib_human_health.pdf')\n",
    "\n",
    "fig.show()"
   ],
   "id": "ff441ca091b37f74",
   "outputs": [],
   "execution_count": null
  },
  {
   "metadata": {},
   "cell_type": "code",
   "source": [
    "fig = px.bar(\n",
    "    esm_results_imp_cat_eq,\n",
    "    x='Run',\n",
    "    y='Total',\n",
    "    color='Impact category',\n",
    "    barmode='stack',\n",
    "    labels={\n",
    "        'Impact category': 'Impact category',\n",
    "        'Total': 'Ecosystem quality damage [PDF.m<sup>2</sup>.yr/(cap.yr)]',\n",
    "        'Run': 'Objective function',\n",
    "    },\n",
    "    width=680,\n",
    "    height=525,\n",
    ")\n",
    "\n",
    "fig.for_each_trace(lambda t: t.update(marker_color=impact_category_eq_colors.get(t.name, '#000000')))\n",
    "fig.update_layout(legend_traceorder='reversed')\n",
    "\n",
    "fig.update_layout(\n",
    "    margin=dict(l=20, r=20, t=20, b=20),  # left, right, top, bottom\n",
    ")\n",
    "\n",
    "if save_fig:\n",
    "    fig.write_image('./figures/soo_impact_contrib_ecosystem_quality.pdf')\n",
    "\n",
    "fig.show()"
   ],
   "id": "16fa28bdaa8a6147",
   "outputs": [],
   "execution_count": null
  },
  {
   "metadata": {},
   "cell_type": "markdown",
   "source": "Table of results",
   "id": "cd0651c31db09b01"
  },
  {
   "metadata": {},
   "cell_type": "code",
   "source": [
    "esm_results_imp_cat_eq['Area of protection'] = 'Ecosystem quality'\n",
    "esm_results_imp_cat_eq['Unit'] = 'PDF.m2.yr/(cap.yr)'\n",
    "esm_results_imp_cat_hh['Area of protection'] = 'Human health'\n",
    "esm_results_imp_cat_hh['Unit'] = 'DALY/(cap.yr)'\n",
    "esm_results_imp_cat = pd.concat([\n",
    "    esm_results_imp_cat_eq[['Area of protection', 'Unit', 'Run', 'Impact category', 'Total']],\n",
    "    esm_results_imp_cat_hh[['Area of protection', 'Unit', 'Run', 'Impact category', 'Total']]\n",
    "])\n",
    "esm_results_imp_cat.Run = esm_results_imp_cat.Run.apply(lambda x: full_name_ind[x] if x in full_name_ind.keys() else x)\n",
    "esm_results_imp_cat.rename(columns={'Total': 'Value', 'Run': 'Objective function'}, inplace=True)"
   ],
   "id": "f3213821b73d56cf",
   "outputs": [],
   "execution_count": null
  },
  {
   "metadata": {},
   "cell_type": "markdown",
   "source": "#### Contribution per elementary flows",
   "id": "6816a969cbd1a7ea"
  },
  {
   "metadata": {},
   "cell_type": "code",
   "source": "contrib_analysis_ef = pd.read_csv(path_results+'2050/contribution_analysis_ef.csv')",
   "id": "7e6320a6e427c82f",
   "outputs": [],
   "execution_count": null
  },
  {
   "metadata": {},
   "cell_type": "code",
   "source": [
    "df_ef_contrib_eq = plot_ef_contributions(\n",
    "    df_contrib_analysis_ef=contrib_analysis_ef,\n",
    "    esm_results_f_mult=esm_results_f_mult[mask_f_mult],\n",
    "    esm_results_annual_prod=esm_results_annual_prod[mask_annual_prod],\n",
    "    esm_results_annual_res=esm_results_annual_res[mask_annual_res],\n",
    "    main_variables_results=main_variables_results,\n",
    "    aop='Total ecosystem quality',\n",
    "    save_fig=save_fig,\n",
    ")"
   ],
   "id": "a25309c039aba67e",
   "outputs": [],
   "execution_count": null
  },
  {
   "metadata": {},
   "cell_type": "code",
   "source": [
    "df_ef_contrib_hh =plot_ef_contributions(\n",
    "    df_contrib_analysis_ef=contrib_analysis_ef,\n",
    "    esm_results_f_mult=esm_results_f_mult[mask_f_mult],\n",
    "    esm_results_annual_prod=esm_results_annual_prod[mask_annual_prod],\n",
    "    esm_results_annual_res=esm_results_annual_res[mask_annual_res],\n",
    "    main_variables_results=main_variables_results,\n",
    "    aop='Total human health',\n",
    "    save_fig=save_fig,\n",
    ")"
   ],
   "id": "5acd8791e3bf9a15",
   "outputs": [],
   "execution_count": null
  },
  {
   "metadata": {},
   "cell_type": "markdown",
   "source": "Table of results",
   "id": "8a5b285634b9fa87"
  },
  {
   "metadata": {},
   "cell_type": "code",
   "source": [
    "df_ef_contrib_eq['Area of protection'] = 'Ecosystem quality'\n",
    "df_ef_contrib_eq['Unit'] = 'PDF.m2.yr/(cap.yr)'\n",
    "df_ef_contrib_hh['Area of protection'] = 'Human health'\n",
    "df_ef_contrib_hh['Unit'] = 'DALY/(cap.yr)'\n",
    "df_ef_contrib = pd.concat([\n",
    "    df_ef_contrib_eq[['Area of protection', 'Unit', 'Run', 'ef_name', 'scaled_impact']],\n",
    "    df_ef_contrib_hh[['Area of protection', 'Unit', 'Run', 'ef_name', 'scaled_impact']]\n",
    "])\n",
    "df_ef_contrib.Run = df_ef_contrib.Run.apply(lambda x: full_name_ind[x] if x in full_name_ind.keys() else x)\n",
    "df_ef_contrib.rename(columns={'scaled_impact': 'Value', 'Run': 'Objective function', 'ef_name': 'Elementary flow'}, inplace=True)\n",
    "df_ef_contrib.sort_values(['Area of protection', 'Objective function', 'Elementary flow'], inplace=True)"
   ],
   "id": "f92b5ede80646674",
   "outputs": [],
   "execution_count": null
  },
  {
   "metadata": {},
   "cell_type": "markdown",
   "source": "### SOO with ESM results",
   "id": "a9adc954e82a4309"
  },
  {
   "metadata": {},
   "cell_type": "code",
   "source": [
    "esm_results_f_mult = pd.read_csv('./results/soo_results_f_mult.csv')\n",
    "esm_results_annual_prod = pd.read_csv('./results/soo_results_annual_prod.csv')\n",
    "esm_results_annual_res = pd.read_csv('./results/soo_results_annual_res.csv')"
   ],
   "id": "c782db43c636aa36",
   "outputs": [],
   "execution_count": null
  },
  {
   "metadata": {},
   "cell_type": "code",
   "source": [
    "df_cap_sec = plot_technologies_contribution_second_iteration(\n",
    "    type='capacity',\n",
    "    df_res=esm_results_f_mult,\n",
    "    save_fig=save_fig,\n",
    ")"
   ],
   "id": "a0b90c38a1af29e5",
   "outputs": [],
   "execution_count": null
  },
  {
   "metadata": {},
   "cell_type": "code",
   "source": [
    "df_prod_sec = plot_technologies_contribution_second_iteration(\n",
    "    type='production',\n",
    "    df_res=esm_results_annual_prod,\n",
    "    save_fig=save_fig,\n",
    ")"
   ],
   "id": "cbbb0baa7b7067c6",
   "outputs": [],
   "execution_count": null
  },
  {
   "metadata": {},
   "cell_type": "code",
   "source": [
    "df_syst_config_sec = pd.merge(df_cap_sec[['Run', 'Background database', 'Name', 'F_Mult']], df_prod_sec[['Run', 'Background database', 'Name', 'Annual_Prod']])\n",
    "df_syst_config_sec = df_syst_config_sec[df_syst_config_sec.F_Mult != 0]\n",
    "df_syst_config_sec.rename(columns={'F_Mult': 'Installed capacity [GW]', 'Annual_Prod': 'Annual production [GWh]', 'Run': 'Objective function', 'Name': 'Technology'}, inplace=True)\n",
    "df_syst_config_sec['Objective function'] = df_syst_config_sec['Objective function'].apply(lambda x: full_name_ind[x] if x in full_name_ind.keys() else x)"
   ],
   "id": "e517876cb541aa3e",
   "outputs": [],
   "execution_count": null
  },
  {
   "metadata": {},
   "cell_type": "code",
   "source": [
    "list_of_dfs = [esm_results_f_mult, esm_results_annual_prod, esm_results_annual_res]\n",
    "\n",
    "for i, df in enumerate(list_of_dfs):\n",
    "    filtered_df = df[df['Run'].isin(run_second_it)].copy()\n",
    "    filtered_df['Background database'] = filtered_df['Run'].apply(harmonization_level)\n",
    "    filtered_df['Run'] = filtered_df['Run'].str.replace('_base', '', regex=False)\n",
    "    filtered_df['Run'] = filtered_df['Run'].str.replace('_esm_harmonized', '', regex=False)\n",
    "    filtered_df['Run'] = filtered_df['Run'].str.replace('_esm_not_harmonized', '', regex=False)\n",
    "    list_of_dfs[i] = filtered_df\n",
    "\n",
    "esm_results_f_mult, esm_results_annual_prod, esm_results_annual_res = list_of_dfs"
   ],
   "id": "c4aa4c9bd9fad65",
   "outputs": [],
   "execution_count": null
  },
  {
   "metadata": {},
   "cell_type": "code",
   "source": [
    "esm_results_total_tthh = aggregate_phases_results(\n",
    "    cat='Total human health',\n",
    "    esm_results_f_mult=esm_results_f_mult[(esm_results_f_mult.Year == 2050)],\n",
    "    esm_results_annual_prod=esm_results_annual_prod[(esm_results_annual_prod.Year == 2050)],\n",
    "    esm_results_annual_res=esm_results_annual_res[(esm_results_annual_res.Year == 2050)],\n",
    "    tech_to_show_list=tech_to_show_list,\n",
    ")\n",
    "\n",
    "plot_technologies_contribution_second_iteration(\n",
    "    type='impact',\n",
    "    cat='Total human health',\n",
    "    df_res=esm_results_total_tthh,\n",
    "    save_fig=save_fig,\n",
    ")"
   ],
   "id": "6dd8916dc048545c",
   "outputs": [],
   "execution_count": null
  },
  {
   "metadata": {},
   "cell_type": "code",
   "source": [
    "esm_results_total_tteq = aggregate_phases_results(\n",
    "    cat='Total ecosystem quality',\n",
    "    esm_results_f_mult=esm_results_f_mult,\n",
    "    esm_results_annual_prod=esm_results_annual_prod,\n",
    "    esm_results_annual_res=esm_results_annual_res,\n",
    "    tech_to_show_list=tech_to_show_list,\n",
    ")\n",
    "\n",
    "plot_technologies_contribution_second_iteration(\n",
    "    type='impact',\n",
    "    cat='Total ecosystem quality',\n",
    "    df_res=esm_results_total_tteq,\n",
    "    save_fig=save_fig,\n",
    ")"
   ],
   "id": "9c1786672dd26dd0",
   "outputs": [],
   "execution_count": null
  },
  {
   "metadata": {},
   "cell_type": "code",
   "source": [
    "esm_results_total_ccst = aggregate_phases_results(\n",
    "    cat='Climate change, short term',\n",
    "    esm_results_f_mult=esm_results_f_mult,\n",
    "    esm_results_annual_prod=esm_results_annual_prod,\n",
    "    esm_results_annual_res=esm_results_annual_res,\n",
    "    tech_to_show_list=tech_to_show_list,\n",
    ")\n",
    "\n",
    "plot_technologies_contribution_second_iteration(\n",
    "    type='impact',\n",
    "    cat='Climate change, short term',\n",
    "    df_res=esm_results_total_ccst,\n",
    "    save_fig=save_fig,\n",
    ")"
   ],
   "id": "d1bf56683d0ab008",
   "outputs": [],
   "execution_count": null
  },
  {
   "metadata": {},
   "cell_type": "code",
   "source": [
    "esm_results_total_tthh['Metric'] = 'Total human health'\n",
    "esm_results_total_tteq['Metric'] = 'Total ecosystem quality'\n",
    "esm_results_total_ccst['Metric'] = 'Climate change, short term'\n",
    "esm_results_total_tthh['Unit'] = 'DALY/(cap.yr)'\n",
    "esm_results_total_tteq['Unit'] = 'PDF.m2.yr/(cap.yr)'\n",
    "esm_results_total_ccst['Unit'] = 't CO2-eq/(cap.yr)'\n",
    "\n",
    "esm_results_total_tthh.rename(columns={'Total human health': 'Value (total)', 'Total human health (direct)': 'Value (direct)'}, inplace=True)\n",
    "esm_results_total_tteq.rename(columns={'Total ecosystem quality': 'Value (total)', 'Total ecosystem quality (direct)': 'Value (direct)'}, inplace=True)\n",
    "esm_results_total_ccst.rename(columns={'Climate change, short term': 'Value (total)', 'Climate change, short term (direct)': 'Value (direct)'}, inplace=True)\n",
    "\n",
    "esm_results_total_sec = pd.concat([\n",
    "    esm_results_total_tthh[['Metric', 'Unit', 'Run', 'Name', 'Value (total)', 'Value (direct)']],\n",
    "    esm_results_total_tteq[['Metric', 'Unit', 'Run', 'Name', 'Value (total)', 'Value (direct)']],\n",
    "    esm_results_total_ccst[['Metric', 'Unit', 'Run', 'Name', 'Value (total)', 'Value (direct)']],\n",
    "])\n",
    "\n",
    "esm_results_total_sec = esm_results_total_sec[esm_results_total_sec['Value (total)'] != 0]\n",
    "esm_results_total_sec.Run = esm_results_total_sec.Run.apply(lambda x: full_name_ind[x] if x in full_name_ind.keys() else x)\n",
    "esm_results_total_sec.rename(columns={'Run': 'Objective function', 'Name': 'Technology or resource'}, inplace=True)\n",
    "\n",
    "esm_results_total_sec = esm_results_total_sec.sort_values(['Metric', 'Objective function', 'Technology or resource'])[['Metric', 'Unit', 'Objective function', 'Technology or resource', 'Value (total)', 'Value (direct)']]"
   ],
   "id": "6e1c68593c697670",
   "outputs": [],
   "execution_count": null
  },
  {
   "metadata": {},
   "cell_type": "markdown",
   "source": "### MOO",
   "id": "917f48f2b300a2b5"
  },
  {
   "metadata": {},
   "cell_type": "code",
   "source": "plt.rcParams['font.family'] = 'arial'",
   "id": "6374153cc2c2ad82",
   "outputs": [],
   "execution_count": null
  },
  {
   "metadata": {},
   "cell_type": "markdown",
   "source": "#### Pareto front",
   "id": "55327b670055e9a2"
  },
  {
   "metadata": {},
   "cell_type": "code",
   "source": [
    "colors_var = 'TotalLCIA_TTHH'\n",
    "add_soo_point = False"
   ],
   "id": "2d9376602e79f0b7",
   "outputs": [],
   "execution_count": null
  },
  {
   "metadata": {},
   "cell_type": "code",
   "source": [
    "x = [i * 1e3 * max_ccs / N_cap for i in normalized_limit_list]\n",
    "y = list(results_pareto.variables[obj2].loc[2050][obj2])\n",
    "colors = list(results_pareto.variables[colors_var].loc[2050][colors_var])\n",
    "\n",
    "# adding data point from colors_var SOO\n",
    "if add_soo_point:\n",
    "    x = x + [main_variables_results[main_variables_results['Objective'] == colors_var][obj1].values[0]]\n",
    "    y = y + [main_variables_results[main_variables_results['Objective'] == colors_var][obj2].values[0]]\n",
    "    colors = colors + [main_variables_results[main_variables_results['Objective'] == colors_var][colors_var].values[0]]\n",
    "\n",
    "# Create the scatter plot\n",
    "scatter = plt.scatter(x, y, c=colors, cmap='jet')\n",
    "\n",
    "# Add a colorbar\n",
    "cbar = plt.colorbar(scatter)\n",
    "cbar.set_label(colors_var)\n",
    "\n",
    "# Add labels and title\n",
    "plt.xlabel(obj1)\n",
    "plt.ylabel(obj2)\n",
    "\n",
    "# Show the plot\n",
    "plt.show()"
   ],
   "id": "4be1eb02355cb880",
   "outputs": [],
   "execution_count": null
  },
  {
   "metadata": {},
   "cell_type": "code",
   "source": [
    "x = [i * 1e3 * max_ccs / N_cap for i in normalized_limit_list]\n",
    "y_1 = list(results_pareto.variables['TotalCost'].loc[2050]['TotalCost'])\n",
    "y_2 = list(results_pareto.variables['TotalLCIA_TTHH'].loc[2050]['TotalLCIA_TTHH'])\n",
    "y_3 = list(results_pareto.variables['TotalLCIA_TTEQ'].loc[2050]['TotalLCIA_TTEQ'])\n",
    "y_4 = list(results_pareto.variables['TotalLCIA_m_CCS'].loc[2050]['TotalLCIA_m_CCS'])\n",
    "\n",
    "# Normalize the y values using the max value\n",
    "y_1 = [i / max(y_1) for i in y_1]\n",
    "y_2 = [i / max(y_2) for i in y_2]\n",
    "y_3 = [i / max(y_3) for i in y_3]\n",
    "y_4 = [i / max(y_4) for i in y_4]\n",
    "\n",
    "plt.figure(figsize=(4.5, 3.5))\n",
    "\n",
    "plt.plot(x, y_1, label='Total cost', c='k')\n",
    "plt.plot(x, y_2, label='Total human health', c='k', ls='dashed')\n",
    "plt.plot(x, y_3, label='Total ecosystem quality', c='k', ls='dotted')\n",
    "# plt.plot(x, y_4, label='Climate change, short term', c='k', ls='dashdot')\n",
    "\n",
    "plt.xlabel(f'Upper limit for {obj_name_dict[obj1].lower()} [t CO$_2$-eq/cap]')\n",
    "plt.ylabel('Normalized indicator')\n",
    "\n",
    "plt.legend()\n",
    "plt.tight_layout()\n",
    "if save_fig:\n",
    "    plt.savefig('./figures/pareto_front_indicators.pdf')\n",
    "plt.show()"
   ],
   "id": "36d2cd67283600ac",
   "outputs": [],
   "execution_count": null
  },
  {
   "metadata": {},
   "cell_type": "code",
   "source": [
    "df_f_mult_pareto = results_pareto.variables['F_Mult'].reset_index()\n",
    "x = [i * 1e3 * max_ccs / N_cap for i in normalized_limit_list]\n",
    "y_1 = list(df_f_mult_pareto[(df_f_mult_pareto['index0'] == 'CCGT') & (df_f_mult_pareto['index1'] == 2050)]['F_Mult'])\n",
    "y_2 = list(df_f_mult_pareto[(df_f_mult_pareto['index0'] == 'CCGT_CC') & (df_f_mult_pareto['index1'] == 2050)]['F_Mult'])\n",
    "y_3 = list(df_f_mult_pareto[(df_f_mult_pareto['index0'] == 'PV') & (df_f_mult_pareto['index1'] == 2050)]['F_Mult'])\n",
    "\n",
    "# from GW to kW / cap\n",
    "y_1 = [i * 1e6 / N_cap for i in y_1]\n",
    "y_2 = [i * 1e6 / N_cap for i in y_2]\n",
    "y_3 = [i * 1e6 / N_cap for i in y_3]\n",
    "\n",
    "plt.figure(figsize=(4.5, 3.5))\n",
    "\n",
    "plt.plot(x, y_1, label=tech_name_dict['CCGT'], c=color_dict[tech_name_dict['CCGT']])\n",
    "plt.plot(x, y_2, label=tech_name_dict['CCGT_CC'], c=color_dict[tech_name_dict['CCGT']], ls='-.')\n",
    "plt.plot(x, y_3, label=tech_name_dict['PV'], c=color_dict[tech_name_dict['PV']])\n",
    "\n",
    "plt.xlabel(f'Upper limit for {obj_name_dict[obj1].lower()} [t CO$_2$-eq/cap]')\n",
    "plt.ylabel('Installed capacity [kW/cap]')\n",
    "\n",
    "plt.legend()\n",
    "plt.tight_layout()\n",
    "if save_fig:\n",
    "    plt.savefig('./figures/pareto_front_capacities.pdf')\n",
    "plt.show()"
   ],
   "id": "e87066b466c0007a",
   "outputs": [],
   "execution_count": null
  },
  {
   "metadata": {},
   "cell_type": "markdown",
   "source": "### Save all dataframes to an Excel file",
   "id": "52a16753107f53f6"
  },
  {
   "metadata": {},
   "cell_type": "code",
   "source": [
    "with pd.ExcelWriter('results/SI_results_figures.xlsx', engine='xlsxwriter') as writer:\n",
    "    workbook = writer.book\n",
    "\n",
    "    # First iteration - energy system configurations\n",
    "    writer.sheets['First it - System config'] = workbook.add_worksheet('First it - System config')\n",
    "    df_syst_config.to_excel(writer, sheet_name='First it - System config', index=False, startrow=0, startcol=0)\n",
    "\n",
    "    # First iteration - contributions of technologies\n",
    "    writer.sheets['First it - Tech contributions'] = workbook.add_worksheet('First it - Tech contributions')\n",
    "    esm_results_total.to_excel(writer, sheet_name='First it - Tech contributions', index=False)\n",
    "\n",
    "    # First iteration - contributions of impact categories\n",
    "    writer.sheets['First it - Impact categories'] = workbook.add_worksheet('First it - Impact categories')\n",
    "    esm_results_imp_cat.to_excel(writer, sheet_name='First it - Impact categories', index=False)\n",
    "\n",
    "    # First iteration - contributions of elementary flows\n",
    "    writer.sheets['First it - Elementary flows'] = workbook.add_worksheet('First it - Elementary flows')\n",
    "    df_ef_contrib.to_excel(writer, sheet_name='First it - Elementary flows', index=False)\n",
    "\n",
    "    # Second iteration - energy system configurations\n",
    "    writer.sheets['Second it - System config'] = workbook.add_worksheet('Second it - System config')\n",
    "    df_syst_config_sec.to_excel(writer, sheet_name='Second it - System config', index=False)\n",
    "\n",
    "    # Second iteration - contributions of technologies\n",
    "    writer.sheets['Second it - Tech contributions'] = workbook.add_worksheet('Second it - Tech contributions')\n",
    "    esm_results_total_sec.to_excel(writer, sheet_name='Second it - Tech contributions', index=False)"
   ],
   "id": "526b6dedddf1dad6",
   "outputs": [],
   "execution_count": null
  }
 ],
 "metadata": {
  "kernelspec": {
   "display_name": "Python 3",
   "language": "python",
   "name": "python3"
  },
  "language_info": {
   "codemirror_mode": {
    "name": "ipython",
    "version": 2
   },
   "file_extension": ".py",
   "mimetype": "text/x-python",
   "name": "python",
   "nbconvert_exporter": "python",
   "pygments_lexer": "ipython2",
   "version": "2.7.6"
  }
 },
 "nbformat": 4,
 "nbformat_minor": 5
}
