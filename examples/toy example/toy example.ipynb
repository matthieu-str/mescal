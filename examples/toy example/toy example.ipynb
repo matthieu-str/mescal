{
 "cells": [
  {
   "metadata": {},
   "cell_type": "markdown",
   "source": "# Toy example to demonstrate the use of **mescal**",
   "id": "2e294941fb92c61d"
  },
  {
   "metadata": {
    "ExecuteTime": {
     "end_time": "2025-05-08T21:20:41.947330Z",
     "start_time": "2025-05-08T21:20:33.699859Z"
    }
   },
   "cell_type": "code",
   "source": [
    "import os\n",
    "import pandas as pd\n",
    "from energyscope.models import Model\n",
    "from energyscope.energyscope import Energyscope\n",
    "from energyscope.result import postprocessing\n",
    "from mescal import *\n",
    "import bw2data as bd"
   ],
   "id": "68f971433ed02521",
   "outputs": [],
   "execution_count": 1
  },
  {
   "metadata": {
    "ExecuteTime": {
     "end_time": "2025-05-08T21:20:41.959746Z",
     "start_time": "2025-05-08T21:20:41.953819Z"
    }
   },
   "cell_type": "code",
   "source": "ei_version = '3.10.1'",
   "id": "76f0686852bb0165",
   "outputs": [],
   "execution_count": 2
  },
  {
   "metadata": {
    "ExecuteTime": {
     "end_time": "2025-05-08T21:20:42.467591Z",
     "start_time": "2025-05-08T21:20:42.459760Z"
    }
   },
   "cell_type": "code",
   "source": [
    "# AMPL licence\n",
    "path_to_ampl_licence = r'C:\\Users\\matth\\ampl' # Path to the AMPL license file\n",
    "os.environ['PATH'] = path_to_ampl_licence+':'+os.environ['PATH']"
   ],
   "id": "c89e51c29eae6766",
   "outputs": [],
   "execution_count": 3
  },
  {
   "metadata": {
    "ExecuteTime": {
     "end_time": "2025-05-08T21:20:42.487528Z",
     "start_time": "2025-05-08T21:20:42.481641Z"
    }
   },
   "cell_type": "code",
   "source": [
    "path_model = './data/esm/' # Path to the energy system model\n",
    "path_model_lca = './data/esm/lca/'\n",
    "path_inputs = './data/lca/' # Path to the LCA data\n",
    "path_results = './results/' # Path to the results"
   ],
   "id": "2cfd0549b4960142",
   "outputs": [],
   "execution_count": 4
  },
  {
   "metadata": {},
   "cell_type": "markdown",
   "source": "## Generating LCA impact scores",
   "id": "14a1cca864b9fde4"
  },
  {
   "metadata": {
    "ExecuteTime": {
     "end_time": "2025-05-08T21:20:42.542117Z",
     "start_time": "2025-05-08T21:20:42.499995Z"
    }
   },
   "cell_type": "code",
   "source": [
    "mapping = pd.read_csv(path_inputs+'mapping.csv')\n",
    "unit_conversion = pd.read_excel(path_inputs+'unit_conversion.xlsx')\n",
    "techno_compositions = pd.read_csv(path_inputs+'technology_compositions.csv')\n",
    "efficiency = pd.read_csv(path_inputs+'efficiency.csv')\n",
    "lifetime = pd.read_csv(path_inputs+'lifetime.csv')\n",
    "mapping_es_flows_to_cpc = pd.read_csv(path_inputs+'mapping_esm_flows_to_CPC.csv')\n",
    "impact_abbrev = pd.read_csv(path_inputs+'impact_abbrev.csv')\n",
    "model = pd.read_csv(path_inputs+'model.csv')"
   ],
   "id": "2523f07d3a37daab",
   "outputs": [],
   "execution_count": 5
  },
  {
   "metadata": {
    "ExecuteTime": {
     "end_time": "2025-05-08T21:20:43.757028Z",
     "start_time": "2025-05-08T21:20:42.569223Z"
    }
   },
   "cell_type": "code",
   "source": [
    "# Set up your Brightway project\n",
    "bd.projects.set_current(f'ecoinvent{ei_version}')"
   ],
   "id": "1c0507dcf7a33bdc",
   "outputs": [],
   "execution_count": 6
  },
  {
   "metadata": {
    "ExecuteTime": {
     "end_time": "2025-05-08T21:20:43.798234Z",
     "start_time": "2025-05-08T21:20:43.790622Z"
    }
   },
   "cell_type": "code",
   "source": "name_main_database = f'ecoinvent_cutoff_{ei_version}_image_SSP2-Base_2050'",
   "id": "539ff35204d0259c",
   "outputs": [],
   "execution_count": 7
  },
  {
   "metadata": {
    "ExecuteTime": {
     "end_time": "2025-05-08T21:20:49.787510Z",
     "start_time": "2025-05-08T21:20:43.853261Z"
    }
   },
   "cell_type": "code",
   "source": "main_db = Database(name_main_database, create_pickle=True)",
   "id": "c9d4c26fd3cdfb73",
   "outputs": [
    {
     "name": "stderr",
     "output_type": "stream",
     "text": [
      "2025-05-08 17:20:49,782 - Database - INFO - Loaded ecoinvent_cutoff_3.10.1_image_SSP2-Base_2050 from pickle!\n"
     ]
    }
   ],
   "execution_count": 8
  },
  {
   "metadata": {
    "ExecuteTime": {
     "end_time": "2025-05-08T21:20:51.761797Z",
     "start_time": "2025-05-08T21:20:49.796521Z"
    }
   },
   "cell_type": "code",
   "source": [
    "# Add CPC categories to the main database\n",
    "main_db.add_CPC_categories()"
   ],
   "id": "8fc9e3c9df1a93f2",
   "outputs": [],
   "execution_count": 9
  },
  {
   "metadata": {
    "ExecuteTime": {
     "end_time": "2025-05-08T21:20:51.809334Z",
     "start_time": "2025-05-08T21:20:51.794277Z"
    }
   },
   "cell_type": "code",
   "source": "ranking_best_ecoinvent_locations = ['GLO', 'RoW']",
   "id": "d68ce795e2ee7351",
   "outputs": [],
   "execution_count": 10
  },
  {
   "metadata": {
    "ExecuteTime": {
     "end_time": "2025-05-08T21:20:51.859575Z",
     "start_time": "2025-05-08T21:20:51.847602Z"
    }
   },
   "cell_type": "code",
   "source": [
    "esm = ESM(\n",
    "    # Mandatory inputs\n",
    "    mapping=mapping,\n",
    "    unit_conversion=unit_conversion,\n",
    "    model=model,\n",
    "    mapping_esm_flows_to_CPC_cat=mapping_es_flows_to_cpc,\n",
    "    main_database=main_db,\n",
    "    esm_db_name='Tatooine_2050',\n",
    "\n",
    "    # Optional inputs\n",
    "    technology_compositions=techno_compositions,\n",
    "    lifetime=lifetime,\n",
    "    efficiency=efficiency,\n",
    "    regionalize_foregrounds=False,\n",
    "    locations_ranking=ranking_best_ecoinvent_locations,\n",
    "    esm_location='GLO',\n",
    "    results_path_file=path_results,\n",
    ")"
   ],
   "id": "baf9b093f75bedbb",
   "outputs": [],
   "execution_count": 11
  },
  {
   "metadata": {
    "ExecuteTime": {
     "end_time": "2025-05-08T21:20:51.932456Z",
     "start_time": "2025-05-08T21:20:51.895307Z"
    }
   },
   "cell_type": "code",
   "source": "esm.check_inputs()",
   "id": "f3191c30439d377d",
   "outputs": [
    {
     "name": "stderr",
     "output_type": "stream",
     "text": [
      "2025-05-08 17:20:51,914 - Mescal - WARNING - List of technologies or resources that are in the model file but not in the mapping file. Their impact scores will be set to the default value: ['RES_SOLAR', 'RES_WIND_ONSHORE']\n",
      "2025-05-08 17:20:51,916 - Mescal - WARNING - List of technologies or resources that are in the mapping file but not in the model file (this will not be a problem in the workflow): ['BATTERY', 'GRID']\n"
     ]
    }
   ],
   "execution_count": 12
  },
  {
   "metadata": {
    "ExecuteTime": {
     "end_time": "2025-05-08T21:20:52.318636Z",
     "start_time": "2025-05-08T21:20:51.983306Z"
    }
   },
   "cell_type": "code",
   "source": [
    "# Adapt mapping file to ESM location\n",
    "esm.change_location_mapping_file()\n",
    "# esm.mapping.to_csv(path_inputs+f'mapping.csv', index=False)"
   ],
   "id": "847bbcb5d37932eb",
   "outputs": [
    {
     "name": "stderr",
     "output_type": "stream",
     "text": [
      "2025-05-08 17:20:52,168 - Mescal - WARNING - No location found in your ranking for electricity, high voltage - electricity production, at natural gas-fired combined cycle power plant, post, pipeline 200km, storage 1000m. Have to keep the initial location: RER\n",
      "2025-05-08 17:20:52,184 - Mescal - WARNING - No location found in your ranking for electricity, high voltage - electricity production, at hard coal-fired IGCC power plant. Have to keep the initial location: RER\n",
      "2025-05-08 17:20:52,300 - Mescal - WARNING - No location found in your ranking for electricity, high voltage - market for electricity, high voltage. Have to keep the initial location: SA\n"
     ]
    }
   ],
   "execution_count": 13
  },
  {
   "metadata": {
    "ExecuteTime": {
     "end_time": "2025-05-08T21:20:52.379332Z",
     "start_time": "2025-05-08T21:20:52.326009Z"
    }
   },
   "cell_type": "code",
   "source": "missing_flows = main_db.test_mapping_file(esm.mapping)",
   "id": "5891d0fdae56b073",
   "outputs": [
    {
     "name": "stderr",
     "output_type": "stream",
     "text": [
      "2025-05-08 17:20:52,362 - Database - INFO - Mapping successfully linked to the database\n"
     ]
    }
   ],
   "execution_count": 14
  },
  {
   "metadata": {
    "ExecuteTime": {
     "end_time": "2025-05-08T21:20:56.259039Z",
     "start_time": "2025-05-08T21:20:52.405651Z"
    }
   },
   "cell_type": "code",
   "source": "esm.create_esm_database()",
   "id": "6a15027a32c00e77",
   "outputs": [
    {
     "name": "stderr",
     "output_type": "stream",
     "text": [
      "2025-05-08 17:20:53,257 - Mescal - INFO - Starting to add construction and resource activities database\n",
      "2025-05-08 17:20:53,327 - Mescal - INFO - Construction and resource activities added to the database in 0.1 seconds\n",
      "2025-05-08 17:20:53,327 - Mescal - INFO - Starting to remove double-counted flows\n",
      "100%|██████████| 7/7 [00:00<00:00, 216.43it/s]\n",
      "2025-05-08 17:20:53,478 - Mescal - INFO - Double-counting removal done in 0.2 seconds\n",
      "2025-05-08 17:20:53,561 - Mescal - INFO - Starting to correct efficiency differences\n",
      "2025-05-08 17:20:53,967 - Mescal - INFO - Efficiency differences corrected in 0.4 seconds\n",
      "2025-05-08 17:20:53,981 - Mescal - INFO - Starting to write database\n",
      "2025-05-08 17:20:54,221 - Database - INFO - Previous Tatooine_2050 will be overwritten!\n",
      "Writing activities to SQLite3 database:\n",
      "0% [######################] 100% | ETA: 00:00:00\n",
      "Total time elapsed: 00:00:00\n"
     ]
    },
    {
     "name": "stdout",
     "output_type": "stream",
     "text": [
      "Title: Writing activities to SQLite3 database:\n",
      "  Started: 05/08/2025 17:20:55\n",
      "  Finished: 05/08/2025 17:20:55\n",
      "  Total time elapsed: 00:00:00\n",
      "  CPU %: 89.60\n",
      "  Memory %: 12.14\n"
     ]
    },
    {
     "name": "stderr",
     "output_type": "stream",
     "text": [
      "2025-05-08 17:20:56,164 - Database - INFO - Tatooine_2050 written to Brightway!\n",
      "2025-05-08 17:20:56,173 - Mescal - INFO - Database written in 2.2 seconds\n"
     ]
    }
   ],
   "execution_count": 15
  },
  {
   "metadata": {
    "ExecuteTime": {
     "end_time": "2025-05-08T21:20:56.296122Z",
     "start_time": "2025-05-08T21:20:56.283969Z"
    }
   },
   "cell_type": "code",
   "source": [
    "# Save the mapping file with new codes for later use\n",
    "esm.mapping.to_csv(path_results+'mapping_with_new_codes.csv', index=False)"
   ],
   "id": "ecb515da1fd71714",
   "outputs": [],
   "execution_count": 16
  },
  {
   "metadata": {
    "ExecuteTime": {
     "end_time": "2025-05-08T21:20:56.331659Z",
     "start_time": "2025-05-08T21:20:56.319215Z"
    }
   },
   "cell_type": "code",
   "source": "methods = ['IMPACT World+ Midpoint 2.1_regionalized for ecoinvent v3.10', 'IMPACT World+ Damage 2.1_regionalized for ecoinvent v3.10']",
   "id": "24820ca058bc9353",
   "outputs": [],
   "execution_count": 17
  },
  {
   "metadata": {
    "ExecuteTime": {
     "end_time": "2025-05-08T21:28:49.873119Z",
     "start_time": "2025-05-08T21:20:56.362350Z"
    }
   },
   "cell_type": "code",
   "source": [
    "R_long = esm.compute_impact_scores(\n",
    "    methods=methods,\n",
    "    impact_abbrev=impact_abbrev,\n",
    ")"
   ],
   "id": "59ac5e4a3ab24aea",
   "outputs": [
    {
     "name": "stdout",
     "output_type": "stream",
     "text": [
      "Getting activity data\n"
     ]
    },
    {
     "name": "stderr",
     "output_type": "stream",
     "text": [
      "100%|██████████| 22/22 [00:00<00:00, 10920.08it/s]\n"
     ]
    },
    {
     "name": "stdout",
     "output_type": "stream",
     "text": [
      "Adding exchange data to activities\n"
     ]
    },
    {
     "name": "stderr",
     "output_type": "stream",
     "text": [
      "100%|██████████| 753/753 [00:00<00:00, 35956.50it/s]\n"
     ]
    },
    {
     "name": "stdout",
     "output_type": "stream",
     "text": [
      "Filling out exchange data\n"
     ]
    },
    {
     "name": "stderr",
     "output_type": "stream",
     "text": [
      "100%|██████████| 22/22 [00:00<00:00, 87.04it/s]\n",
      "2025-05-08 17:20:56,669 - Database - INFO - Loaded Tatooine_2050 from brightway!\n",
      "20it [00:03,  5.38it/s]\n"
     ]
    }
   ],
   "execution_count": 18
  },
  {
   "metadata": {
    "ExecuteTime": {
     "end_time": "2025-05-08T21:28:49.972131Z",
     "start_time": "2025-05-08T21:28:49.951445Z"
    }
   },
   "cell_type": "code",
   "source": "R_long.to_csv(f'{path_results}impact_scores.csv', index=False) # [impact / kW(h) or pkm(/h) or tkm(/h)]",
   "id": "9b2dcd4f655b9893",
   "outputs": [],
   "execution_count": 19
  },
  {
   "metadata": {
    "ExecuteTime": {
     "end_time": "2025-05-08T21:28:50.003758Z",
     "start_time": "2025-05-08T21:28:49.996438Z"
    }
   },
   "cell_type": "code",
   "source": "activities_subject_to_double_counting = pd.read_csv(f'{path_results}activities_subject_to_double_counting.csv')",
   "id": "39d5ae6ddfcf7ca7",
   "outputs": [],
   "execution_count": 20
  },
  {
   "metadata": {
    "ExecuteTime": {
     "end_time": "2025-05-08T21:28:53.114286Z",
     "start_time": "2025-05-08T21:28:50.043421Z"
    }
   },
   "cell_type": "code",
   "source": [
    "R_long_direct_emissions = esm.compute_impact_scores(\n",
    "    methods=methods,\n",
    "    assessment_type='direct emissions',\n",
    "    impact_abbrev=impact_abbrev,\n",
    "    activities_subject_to_double_counting=activities_subject_to_double_counting,\n",
    "    overwrite=True,\n",
    ")"
   ],
   "id": "3baec5be46bf1b86",
   "outputs": [
    {
     "name": "stdout",
     "output_type": "stream",
     "text": [
      "Getting activity data\n"
     ]
    },
    {
     "name": "stderr",
     "output_type": "stream",
     "text": [
      "100%|██████████| 22/22 [00:00<00:00, 10945.99it/s]\n"
     ]
    },
    {
     "name": "stdout",
     "output_type": "stream",
     "text": [
      "Adding exchange data to activities\n"
     ]
    },
    {
     "name": "stderr",
     "output_type": "stream",
     "text": [
      "100%|██████████| 753/753 [00:00<00:00, 34328.35it/s]\n"
     ]
    },
    {
     "name": "stdout",
     "output_type": "stream",
     "text": [
      "Filling out exchange data\n"
     ]
    },
    {
     "name": "stderr",
     "output_type": "stream",
     "text": [
      "100%|██████████| 22/22 [00:00<00:00, 80.61it/s]\n",
      "2025-05-08 17:28:50,364 - Database - INFO - Loaded Tatooine_2050 from brightway!\n",
      "2025-05-08 17:28:50,446 - Database - INFO - Previous Tatooine_2050_direct_emissions will be overwritten!\n",
      "Writing activities to SQLite3 database:\n",
      "0% [#########] 100% | ETA: 00:00:00\n",
      "Total time elapsed: 00:00:00\n",
      "2025-05-08 17:28:52,100 - Database - INFO - Tatooine_2050_direct_emissions written to Brightway!\n"
     ]
    },
    {
     "name": "stdout",
     "output_type": "stream",
     "text": [
      "Title: Writing activities to SQLite3 database:\n",
      "  Started: 05/08/2025 17:28:51\n",
      "  Finished: 05/08/2025 17:28:51\n",
      "  Total time elapsed: 00:00:00\n",
      "  CPU %: 0.00\n",
      "  Memory %: 12.19\n"
     ]
    },
    {
     "name": "stderr",
     "output_type": "stream",
     "text": [
      "7it [00:00, 142.87it/s]\n"
     ]
    }
   ],
   "execution_count": 21
  },
  {
   "metadata": {
    "ExecuteTime": {
     "end_time": "2025-05-08T21:28:53.164613Z",
     "start_time": "2025-05-08T21:28:53.148401Z"
    }
   },
   "cell_type": "code",
   "source": "R_long_direct_emissions.to_csv(f'{path_results}impact_scores_direct_emissions.csv', index=False) # [impact / kW(h) or pkm(/h) or tkm(/h)]",
   "id": "79d3b5e5b643599d",
   "outputs": [],
   "execution_count": 22
  },
  {
   "metadata": {
    "ExecuteTime": {
     "end_time": "2025-05-08T21:28:53.198787Z",
     "start_time": "2025-05-08T21:28:53.192412Z"
    }
   },
   "cell_type": "code",
   "source": [
    "metadata = {\n",
    "    'ecoinvent_version': ei_version,\n",
    "    'year': '2050',\n",
    "    'iam': 'image',\n",
    "    'ssp_rcp': 'SSP2-Base',\n",
    "}"
   ],
   "id": "6f21e98fca61e493",
   "outputs": [],
   "execution_count": 23
  },
  {
   "metadata": {
    "ExecuteTime": {
     "end_time": "2025-05-08T21:28:53.238408Z",
     "start_time": "2025-05-08T21:28:53.229122Z"
    }
   },
   "cell_type": "code",
   "source": "specific_lcia_abbrev = ['m_CCS']",
   "id": "214da2782bba635a",
   "outputs": [],
   "execution_count": 24
  },
  {
   "metadata": {
    "ExecuteTime": {
     "end_time": "2025-05-08T21:28:53.302290Z",
     "start_time": "2025-05-08T21:28:53.272081Z"
    }
   },
   "cell_type": "code",
   "source": [
    "# Create .dat file\n",
    "esm.normalize_lca_metrics(\n",
    "    R=R_long,\n",
    "    mip_gap=1e-6,\n",
    "    lcia_methods=methods,\n",
    "    specific_lcia_abbrev=specific_lcia_abbrev,\n",
    "    impact_abbrev=impact_abbrev,\n",
    "    path=  path_model_lca,\n",
    "    metadata=metadata,\n",
    "    file_name='techs_lca',\n",
    ")"
   ],
   "id": "f0722b317c2d72c3",
   "outputs": [],
   "execution_count": 25
  },
  {
   "metadata": {
    "ExecuteTime": {
     "end_time": "2025-05-08T21:28:53.351240Z",
     "start_time": "2025-05-08T21:28:53.331113Z"
    }
   },
   "cell_type": "code",
   "source": [
    "# Create .dat file for direct emissions only\n",
    "esm.normalize_lca_metrics(\n",
    "    assessment_type='direct emissions',\n",
    "    R=R_long_direct_emissions,\n",
    "    max_per_cat=pd.read_csv(  path_model_lca + 'techs_lca_max.csv'),\n",
    "    mip_gap=1e-6,\n",
    "    lcia_methods=methods,\n",
    "    specific_lcia_abbrev=specific_lcia_abbrev,\n",
    "    impact_abbrev=impact_abbrev,\n",
    "    path=  path_model_lca,\n",
    "    metadata=metadata,\n",
    "    file_name='techs_lca_direct',\n",
    ")"
   ],
   "id": "e0962bc4f6df262a",
   "outputs": [],
   "execution_count": 26
  },
  {
   "metadata": {
    "ExecuteTime": {
     "end_time": "2025-05-08T21:28:53.403013Z",
     "start_time": "2025-05-08T21:28:53.386517Z"
    }
   },
   "cell_type": "code",
   "source": [
    "# Create the .mod file\n",
    "esm.generate_mod_file_ampl(\n",
    "    lcia_methods=methods,\n",
    "    impact_abbrev=impact_abbrev,\n",
    "    specific_lcia_abbrev=specific_lcia_abbrev,\n",
    "    path=  path_model_lca,\n",
    "    metadata=metadata,\n",
    "    file_name='objectives_lca',\n",
    ")"
   ],
   "id": "8178172dac2965e2",
   "outputs": [],
   "execution_count": 27
  },
  {
   "metadata": {
    "ExecuteTime": {
     "end_time": "2025-05-08T21:28:53.456355Z",
     "start_time": "2025-05-08T21:28:53.440573Z"
    }
   },
   "cell_type": "code",
   "source": [
    "# Create the .mod file for direct emissions only\n",
    "esm.generate_mod_file_ampl(\n",
    "    assessment_type='direct emissions',\n",
    "    lcia_methods=methods,\n",
    "    impact_abbrev=impact_abbrev,\n",
    "    specific_lcia_abbrev=specific_lcia_abbrev,\n",
    "    path=  path_model_lca,\n",
    "    metadata=metadata,\n",
    "    file_name='objectives_lca_direct',\n",
    ")"
   ],
   "id": "e3d37bb56d9ef7da",
   "outputs": [],
   "execution_count": 28
  },
  {
   "metadata": {},
   "cell_type": "markdown",
   "source": "## Running the ESM",
   "id": "d60e071ffee08a81"
  },
  {
   "metadata": {
    "ExecuteTime": {
     "end_time": "2025-05-08T21:28:53.502201Z",
     "start_time": "2025-05-08T21:28:53.488979Z"
    }
   },
   "cell_type": "code",
   "source": [
    "with open(path_model + 'objective_function.mod', 'w') as f:\n",
    "        f.write('minimize obj: TotalLCIA_m_CCS;')"
   ],
   "id": "7a02e25e246e8ff4",
   "outputs": [],
   "execution_count": 29
  },
  {
   "metadata": {
    "ExecuteTime": {
     "end_time": "2025-05-08T21:30:00.521506Z",
     "start_time": "2025-05-08T21:30:00.508134Z"
    }
   },
   "cell_type": "code",
   "source": [
    "# Initialize the 2021 QC model with .mod and .dat files\n",
    "model = Model(\n",
    "    mod_files=[\n",
    "        path_model+'main.mod',\n",
    "        path_model_lca+'objectives_lca.mod',\n",
    "        path_model_lca+'objectives_lca_direct.mod',\n",
    "        path_model+'objective_function.mod',\n",
    "    ],\n",
    "    dat_files=[\n",
    "        path_model+'data.dat',\n",
    "        path_model+'techs.dat',\n",
    "        path_model_lca+'techs_lca.dat',\n",
    "        path_model_lca+'techs_lca_direct.dat',\n",
    "    ],\n",
    ")"
   ],
   "id": "c3f3e77d5aecc351",
   "outputs": [],
   "execution_count": 37
  },
  {
   "metadata": {
    "ExecuteTime": {
     "end_time": "2025-05-08T21:30:00.733026Z",
     "start_time": "2025-05-08T21:30:00.728104Z"
    }
   },
   "cell_type": "code",
   "source": [
    "# Define the solver options\n",
    "solver_options = {\n",
    "    'solver': 'gurobi',\n",
    "    'solver_msg': 0,\n",
    "}"
   ],
   "id": "2f879b60605f3464",
   "outputs": [],
   "execution_count": 38
  },
  {
   "metadata": {
    "ExecuteTime": {
     "end_time": "2025-05-08T21:30:00.925215Z",
     "start_time": "2025-05-08T21:30:00.861240Z"
    }
   },
   "cell_type": "code",
   "source": [
    "# Initialize the EnergyScope model\n",
    "es = Energyscope(model=model, solver_options=solver_options)"
   ],
   "id": "445e5cfec646676",
   "outputs": [],
   "execution_count": 39
  },
  {
   "metadata": {
    "ExecuteTime": {
     "end_time": "2025-05-08T21:30:02.072599Z",
     "start_time": "2025-05-08T21:30:01.065340Z"
    }
   },
   "cell_type": "code",
   "source": [
    "# Solve the model and get results\n",
    "results = postprocessing(es.calc())"
   ],
   "id": "6b1f7354fc28bd55",
   "outputs": [
    {
     "name": "stdout",
     "output_type": "stream",
     "text": [
      "Gurobi 12.0.0: "
     ]
    }
   ],
   "execution_count": 40
  },
  {
   "metadata": {
    "ExecuteTime": {
     "end_time": "2025-05-08T21:30:02.099938Z",
     "start_time": "2025-05-08T21:30:02.076622Z"
    }
   },
   "cell_type": "code",
   "source": "results.variables['Annual_Prod']",
   "id": "c0a703420572bd58",
   "outputs": [
    {
     "data": {
      "text/plain": [
       "              Annual_Prod  Run\n",
       "BATTERY          0.000620    0\n",
       "CCGT             0.000000    0\n",
       "CCGT_CC          0.000000    0\n",
       "COAL_IGCC        0.000000    0\n",
       "COAL_IGCC_CC     0.000000    0\n",
       "GRID             0.000746    0\n",
       "NUCLEAR          0.000000    0\n",
       "PV            4000.000000    0\n",
       "WIND_ONSHORE     0.000000    0"
      ],
      "text/html": [
       "<div>\n",
       "<style scoped>\n",
       "    .dataframe tbody tr th:only-of-type {\n",
       "        vertical-align: middle;\n",
       "    }\n",
       "\n",
       "    .dataframe tbody tr th {\n",
       "        vertical-align: top;\n",
       "    }\n",
       "\n",
       "    .dataframe thead th {\n",
       "        text-align: right;\n",
       "    }\n",
       "</style>\n",
       "<table border=\"1\" class=\"dataframe\">\n",
       "  <thead>\n",
       "    <tr style=\"text-align: right;\">\n",
       "      <th></th>\n",
       "      <th>Annual_Prod</th>\n",
       "      <th>Run</th>\n",
       "    </tr>\n",
       "  </thead>\n",
       "  <tbody>\n",
       "    <tr>\n",
       "      <th>BATTERY</th>\n",
       "      <td>0.000620</td>\n",
       "      <td>0</td>\n",
       "    </tr>\n",
       "    <tr>\n",
       "      <th>CCGT</th>\n",
       "      <td>0.000000</td>\n",
       "      <td>0</td>\n",
       "    </tr>\n",
       "    <tr>\n",
       "      <th>CCGT_CC</th>\n",
       "      <td>0.000000</td>\n",
       "      <td>0</td>\n",
       "    </tr>\n",
       "    <tr>\n",
       "      <th>COAL_IGCC</th>\n",
       "      <td>0.000000</td>\n",
       "      <td>0</td>\n",
       "    </tr>\n",
       "    <tr>\n",
       "      <th>COAL_IGCC_CC</th>\n",
       "      <td>0.000000</td>\n",
       "      <td>0</td>\n",
       "    </tr>\n",
       "    <tr>\n",
       "      <th>GRID</th>\n",
       "      <td>0.000746</td>\n",
       "      <td>0</td>\n",
       "    </tr>\n",
       "    <tr>\n",
       "      <th>NUCLEAR</th>\n",
       "      <td>0.000000</td>\n",
       "      <td>0</td>\n",
       "    </tr>\n",
       "    <tr>\n",
       "      <th>PV</th>\n",
       "      <td>4000.000000</td>\n",
       "      <td>0</td>\n",
       "    </tr>\n",
       "    <tr>\n",
       "      <th>WIND_ONSHORE</th>\n",
       "      <td>0.000000</td>\n",
       "      <td>0</td>\n",
       "    </tr>\n",
       "  </tbody>\n",
       "</table>\n",
       "</div>"
      ]
     },
     "execution_count": 41,
     "metadata": {},
     "output_type": "execute_result"
    }
   ],
   "execution_count": 41
  },
  {
   "metadata": {
    "ExecuteTime": {
     "end_time": "2025-05-08T21:30:02.286836Z",
     "start_time": "2025-05-08T21:30:02.272966Z"
    }
   },
   "cell_type": "code",
   "source": "results.variables['F_Mult']",
   "id": "b698e590d7cea6b8",
   "outputs": [
    {
     "data": {
      "text/plain": [
       "                F_Mult  Run\n",
       "BATTERY       0.922760    0\n",
       "CCGT          0.000000    0\n",
       "CCGT_CC       0.000000    0\n",
       "COAL_IGCC     0.000000    0\n",
       "COAL_IGCC_CC  0.000000    0\n",
       "GRID          1.036401    0\n",
       "NUCLEAR       0.000000    0\n",
       "PV            3.075866    0\n",
       "WIND_ONSHORE  0.000000    0"
      ],
      "text/html": [
       "<div>\n",
       "<style scoped>\n",
       "    .dataframe tbody tr th:only-of-type {\n",
       "        vertical-align: middle;\n",
       "    }\n",
       "\n",
       "    .dataframe tbody tr th {\n",
       "        vertical-align: top;\n",
       "    }\n",
       "\n",
       "    .dataframe thead th {\n",
       "        text-align: right;\n",
       "    }\n",
       "</style>\n",
       "<table border=\"1\" class=\"dataframe\">\n",
       "  <thead>\n",
       "    <tr style=\"text-align: right;\">\n",
       "      <th></th>\n",
       "      <th>F_Mult</th>\n",
       "      <th>Run</th>\n",
       "    </tr>\n",
       "  </thead>\n",
       "  <tbody>\n",
       "    <tr>\n",
       "      <th>BATTERY</th>\n",
       "      <td>0.922760</td>\n",
       "      <td>0</td>\n",
       "    </tr>\n",
       "    <tr>\n",
       "      <th>CCGT</th>\n",
       "      <td>0.000000</td>\n",
       "      <td>0</td>\n",
       "    </tr>\n",
       "    <tr>\n",
       "      <th>CCGT_CC</th>\n",
       "      <td>0.000000</td>\n",
       "      <td>0</td>\n",
       "    </tr>\n",
       "    <tr>\n",
       "      <th>COAL_IGCC</th>\n",
       "      <td>0.000000</td>\n",
       "      <td>0</td>\n",
       "    </tr>\n",
       "    <tr>\n",
       "      <th>COAL_IGCC_CC</th>\n",
       "      <td>0.000000</td>\n",
       "      <td>0</td>\n",
       "    </tr>\n",
       "    <tr>\n",
       "      <th>GRID</th>\n",
       "      <td>1.036401</td>\n",
       "      <td>0</td>\n",
       "    </tr>\n",
       "    <tr>\n",
       "      <th>NUCLEAR</th>\n",
       "      <td>0.000000</td>\n",
       "      <td>0</td>\n",
       "    </tr>\n",
       "    <tr>\n",
       "      <th>PV</th>\n",
       "      <td>3.075866</td>\n",
       "      <td>0</td>\n",
       "    </tr>\n",
       "    <tr>\n",
       "      <th>WIND_ONSHORE</th>\n",
       "      <td>0.000000</td>\n",
       "      <td>0</td>\n",
       "    </tr>\n",
       "  </tbody>\n",
       "</table>\n",
       "</div>"
      ]
     },
     "execution_count": 42,
     "metadata": {},
     "output_type": "execute_result"
    }
   ],
   "execution_count": 42
  },
  {
   "metadata": {
    "ExecuteTime": {
     "end_time": "2025-05-08T21:28:55.214389Z",
     "start_time": "2025-05-08T21:28:55.204202Z"
    }
   },
   "cell_type": "code",
   "source": [
    "# lyrio = results.parameters['layers_in_out'].reset_index()\n",
    "# lyrio = lyrio[lyrio.layers_in_out != 0].drop(columns=['Run']).rename({'index0': 'Name', 'index1': 'Flow', 'layers_in_out': 'Amount'}, axis=1)\n",
    "# lyrio.to_csv(path_inputs+'model.csv', index=False)"
   ],
   "id": "d58929ca282f11",
   "outputs": [],
   "execution_count": 36
  },
  {
   "metadata": {},
   "cell_type": "markdown",
   "source": "## Visualize the results",
   "id": "55c9592de69b8ec6"
  },
  {
   "metadata": {
    "ExecuteTime": {
     "end_time": "2025-05-08T21:28:55.370679Z",
     "start_time": "2025-05-08T21:28:55.364273Z"
    }
   },
   "cell_type": "code",
   "source": "",
   "id": "753a4568f0d2b149",
   "outputs": [],
   "execution_count": null
  },
  {
   "metadata": {
    "ExecuteTime": {
     "end_time": "2025-05-08T21:28:55.465274Z",
     "start_time": "2025-05-08T21:28:55.461698Z"
    }
   },
   "cell_type": "code",
   "source": "",
   "id": "e717fa3f886f5d2d",
   "outputs": [],
   "execution_count": null
  },
  {
   "metadata": {
    "ExecuteTime": {
     "end_time": "2025-05-08T21:28:55.518240Z",
     "start_time": "2025-05-08T21:28:55.513145Z"
    }
   },
   "cell_type": "code",
   "source": "",
   "id": "d1b6ec8fe861853c",
   "outputs": [],
   "execution_count": null
  }
 ],
 "metadata": {
  "kernelspec": {
   "display_name": "Python 3",
   "language": "python",
   "name": "python3"
  },
  "language_info": {
   "codemirror_mode": {
    "name": "ipython",
    "version": 2
   },
   "file_extension": ".py",
   "mimetype": "text/x-python",
   "name": "python",
   "nbconvert_exporter": "python",
   "pygments_lexer": "ipython2",
   "version": "2.7.6"
  }
 },
 "nbformat": 4,
 "nbformat_minor": 5
}
