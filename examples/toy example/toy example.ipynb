{
 "cells": [
  {
   "metadata": {},
   "cell_type": "markdown",
   "source": "# Toy example to demonstrate the use of **mescal**",
   "id": "2e294941fb92c61d"
  },
  {
   "metadata": {},
   "cell_type": "code",
   "source": [
    "%load_ext autoreload\n",
    "%autoreload 2"
   ],
   "id": "b33fff8e048d7c52",
   "outputs": [],
   "execution_count": null
  },
  {
   "metadata": {},
   "cell_type": "code",
   "source": [
    "import os\n",
    "from mescal import *\n",
    "import bw2data as bd\n",
    "from utils import *\n",
    "import numpy as np\n",
    "import matplotlib.pyplot as plt\n",
    "import plotly.express as px"
   ],
   "id": "68f971433ed02521",
   "outputs": [],
   "execution_count": null
  },
  {
   "metadata": {},
   "cell_type": "code",
   "source": "ei_version = '3.10.1'",
   "id": "76f0686852bb0165",
   "outputs": [],
   "execution_count": null
  },
  {
   "metadata": {},
   "cell_type": "code",
   "source": [
    "# AMPL licence\n",
    "path_to_ampl_licence = r'C:\\Users\\matth\\ampl' # Path to the AMPL license file\n",
    "os.environ['PATH'] = path_to_ampl_licence+':'+os.environ['PATH']"
   ],
   "id": "c89e51c29eae6766",
   "outputs": [],
   "execution_count": null
  },
  {
   "metadata": {},
   "cell_type": "code",
   "source": [
    "path_model = './data/esm/' # Path to the energy system model\n",
    "path_model_lca = './data/esm/lca/'\n",
    "path_inputs = './data/lca/' # Path to the LCA data\n",
    "path_results = './results/' # Path to the results"
   ],
   "id": "2cfd0549b4960142",
   "outputs": [],
   "execution_count": null
  },
  {
   "metadata": {},
   "cell_type": "markdown",
   "source": "## Generating LCA impact scores",
   "id": "14a1cca864b9fde4"
  },
  {
   "metadata": {},
   "cell_type": "code",
   "source": [
    "mapping = pd.read_csv(path_inputs+'mapping.csv')\n",
    "unit_conversion = pd.read_excel(path_inputs+'unit_conversion.xlsx')\n",
    "techno_compositions = pd.read_csv(path_inputs+'technology_compositions.csv')\n",
    "efficiency = pd.read_csv(path_inputs+'efficiency.csv')\n",
    "lifetime = pd.read_csv(path_inputs+'lifetime.csv')\n",
    "mapping_es_flows_to_cpc = pd.read_csv(path_inputs+'mapping_esm_flows_to_CPC.csv')\n",
    "impact_abbrev = pd.read_csv(path_inputs+'impact_abbrev.csv')\n",
    "model = pd.read_csv(path_inputs+'model.csv')"
   ],
   "id": "2523f07d3a37daab",
   "outputs": [],
   "execution_count": null
  },
  {
   "metadata": {},
   "cell_type": "code",
   "source": [
    "df_si_paper = pd.merge(mapping, unit_conversion, on=['Name', 'Type']).drop(columns=['Unit', 'Database']).rename(columns={'LCA': 'LCA unit', 'ESM': 'ESM unit', 'Name': 'Technology', 'Product': 'LCI dataset product', 'Activity': 'LCI dataset activity', 'Location': 'LCI dataset location', 'Value': 'Conversion factor', 'Type': 'Life cycle phase'})\n",
    "df_si_paper['Technology'] = df_si_paper['Technology'].apply(lambda x: tech_name_dict[x] if x in tech_name_dict.keys() else x)\n",
    "df_si_paper['Technology'] = df_si_paper['Technology'].replace('WIND_ONSHORE_CONNECTION', 'Onshore wind (connection part)')\n",
    "df_si_paper['Technology'] = df_si_paper['Technology'].replace('WIND_ONSHORE_TURBINE', 'Onshore wind (turbine part)')\n",
    "df_si_paper.to_csv('./data/lca/si_paper.csv', index=False)"
   ],
   "id": "e1f8854b9380fbbf",
   "outputs": [],
   "execution_count": null
  },
  {
   "metadata": {},
   "cell_type": "code",
   "source": [
    "# Set up your Brightway project\n",
    "bd.projects.set_current(f'ecoinvent{ei_version}')"
   ],
   "id": "1c0507dcf7a33bdc",
   "outputs": [],
   "execution_count": null
  },
  {
   "metadata": {},
   "cell_type": "code",
   "source": "name_main_database = f'ecoinvent_cutoff_{ei_version}_image_SSP2-Base_2050'",
   "id": "539ff35204d0259c",
   "outputs": [],
   "execution_count": null
  },
  {
   "metadata": {},
   "cell_type": "code",
   "source": "main_db = Database(name_main_database, create_pickle=True)",
   "id": "c9d4c26fd3cdfb73",
   "outputs": [],
   "execution_count": null
  },
  {
   "metadata": {},
   "cell_type": "code",
   "source": [
    "# Add CPC categories to the main database\n",
    "main_db.add_CPC_categories()"
   ],
   "id": "8fc9e3c9df1a93f2",
   "outputs": [],
   "execution_count": null
  },
  {
   "metadata": {},
   "cell_type": "code",
   "source": "ranking_best_ecoinvent_locations = ['GLO', 'RoW']",
   "id": "d68ce795e2ee7351",
   "outputs": [],
   "execution_count": null
  },
  {
   "metadata": {},
   "cell_type": "code",
   "source": [
    "esm = ESM(\n",
    "    # Mandatory inputs\n",
    "    mapping=mapping,\n",
    "    unit_conversion=unit_conversion,\n",
    "    model=model,\n",
    "    mapping_esm_flows_to_CPC_cat=mapping_es_flows_to_cpc,\n",
    "    main_database=main_db,\n",
    "    esm_db_name='Tatooine_2050',\n",
    "\n",
    "    # Optional inputs\n",
    "    technology_compositions=techno_compositions,\n",
    "    lifetime=lifetime,\n",
    "    efficiency=efficiency,\n",
    "    regionalize_foregrounds=False,\n",
    "    locations_ranking=ranking_best_ecoinvent_locations,\n",
    "    esm_location='GLO',\n",
    "    results_path_file=path_results,\n",
    ")"
   ],
   "id": "baf9b093f75bedbb",
   "outputs": [],
   "execution_count": null
  },
  {
   "metadata": {},
   "cell_type": "code",
   "source": "esm.check_inputs()",
   "id": "f3191c30439d377d",
   "outputs": [],
   "execution_count": null
  },
  {
   "metadata": {},
   "cell_type": "code",
   "source": [
    "# Adapt mapping file to ESM location\n",
    "esm.change_location_mapping_file()\n",
    "# esm.mapping.to_csv(path_inputs+f'mapping.csv', index=False)"
   ],
   "id": "847bbcb5d37932eb",
   "outputs": [],
   "execution_count": null
  },
  {
   "metadata": {},
   "cell_type": "code",
   "source": "missing_flows = main_db.test_mapping_file(esm.mapping)",
   "id": "5891d0fdae56b073",
   "outputs": [],
   "execution_count": null
  },
  {
   "metadata": {},
   "cell_type": "code",
   "source": "esm.create_esm_database()",
   "id": "6a15027a32c00e77",
   "outputs": [],
   "execution_count": null
  },
  {
   "metadata": {},
   "cell_type": "code",
   "source": [
    "# Save the mapping file with new codes for later use\n",
    "esm.mapping.to_csv(path_results+'mapping_with_new_codes.csv', index=False)"
   ],
   "id": "ecb515da1fd71714",
   "outputs": [],
   "execution_count": null
  },
  {
   "metadata": {},
   "cell_type": "code",
   "source": "methods = ['IMPACT World+ Midpoint 2.1_regionalized for ecoinvent v3.10', 'IMPACT World+ Damage 2.1_regionalized for ecoinvent v3.10']",
   "id": "24820ca058bc9353",
   "outputs": [],
   "execution_count": null
  },
  {
   "metadata": {},
   "cell_type": "code",
   "source": [
    "R_long = esm.compute_impact_scores(\n",
    "    methods=methods,\n",
    "    impact_abbrev=impact_abbrev,\n",
    ")"
   ],
   "id": "59ac5e4a3ab24aea",
   "outputs": [],
   "execution_count": null
  },
  {
   "metadata": {},
   "cell_type": "code",
   "source": "R_long.to_csv(f'{path_results}impact_scores.csv', index=False) # [impact / kW(h) or pkm(/h) or tkm(/h)]",
   "id": "9b2dcd4f655b9893",
   "outputs": [],
   "execution_count": null
  },
  {
   "metadata": {},
   "cell_type": "code",
   "source": "activities_subject_to_double_counting = pd.read_csv(f'{path_results}activities_subject_to_double_counting.csv')",
   "id": "39d5ae6ddfcf7ca7",
   "outputs": [],
   "execution_count": null
  },
  {
   "metadata": {},
   "cell_type": "code",
   "source": [
    "R_long_direct_emissions = esm.compute_impact_scores(\n",
    "    methods=methods,\n",
    "    assessment_type='direct emissions',\n",
    "    impact_abbrev=impact_abbrev,\n",
    "    activities_subject_to_double_counting=activities_subject_to_double_counting,\n",
    "    overwrite=True,\n",
    ")"
   ],
   "id": "3baec5be46bf1b86",
   "outputs": [],
   "execution_count": null
  },
  {
   "metadata": {},
   "cell_type": "code",
   "source": "R_long_direct_emissions.to_csv(f'{path_results}impact_scores_direct_emissions.csv', index=False) # [impact / kW(h) or pkm(/h) or tkm(/h)]",
   "id": "79d3b5e5b643599d",
   "outputs": [],
   "execution_count": null
  },
  {
   "metadata": {},
   "cell_type": "code",
   "source": [
    "metadata = {\n",
    "    'ecoinvent_version': ei_version,\n",
    "    'year': '2050',\n",
    "    'iam': 'image',\n",
    "    'ssp_rcp': 'SSP2-Base',\n",
    "}"
   ],
   "id": "6f21e98fca61e493",
   "outputs": [],
   "execution_count": null
  },
  {
   "metadata": {},
   "cell_type": "code",
   "source": "specific_lcia_abbrev = ['m_CCS', 'TTHH', 'TTEQ']",
   "id": "214da2782bba635a",
   "outputs": [],
   "execution_count": null
  },
  {
   "metadata": {},
   "cell_type": "code",
   "source": [
    "# Create .dat file\n",
    "esm.normalize_lca_metrics(\n",
    "    R=R_long,\n",
    "    mip_gap=1e-6,\n",
    "    lcia_methods=methods,\n",
    "    specific_lcia_abbrev=specific_lcia_abbrev,\n",
    "    impact_abbrev=impact_abbrev,\n",
    "    path=path_model_lca,\n",
    "    metadata=metadata,\n",
    "    file_name='techs_lca',\n",
    ")"
   ],
   "id": "f0722b317c2d72c3",
   "outputs": [],
   "execution_count": null
  },
  {
   "metadata": {},
   "cell_type": "code",
   "source": [
    "# Create .dat file for direct emissions only\n",
    "esm.normalize_lca_metrics(\n",
    "    assessment_type='direct emissions',\n",
    "    R=R_long_direct_emissions,\n",
    "    max_per_cat=pd.read_csv(path_model_lca + 'techs_lca_max.csv'),\n",
    "    mip_gap=1e-6,\n",
    "    lcia_methods=methods,\n",
    "    specific_lcia_abbrev=specific_lcia_abbrev,\n",
    "    impact_abbrev=impact_abbrev,\n",
    "    path=path_model_lca,\n",
    "    metadata=metadata,\n",
    "    file_name='techs_lca_direct',\n",
    ")"
   ],
   "id": "e0962bc4f6df262a",
   "outputs": [],
   "execution_count": null
  },
  {
   "metadata": {},
   "cell_type": "code",
   "source": [
    "# Create the .mod file\n",
    "esm.generate_mod_file_ampl(\n",
    "    lcia_methods=methods,\n",
    "    impact_abbrev=impact_abbrev,\n",
    "    specific_lcia_abbrev=specific_lcia_abbrev,\n",
    "    path=path_model_lca,\n",
    "    metadata=metadata,\n",
    "    file_name='objectives_lca',\n",
    ")"
   ],
   "id": "8178172dac2965e2",
   "outputs": [],
   "execution_count": null
  },
  {
   "metadata": {},
   "cell_type": "code",
   "source": [
    "# Create the .mod file for direct emissions only\n",
    "esm.generate_mod_file_ampl(\n",
    "    assessment_type='direct emissions',\n",
    "    lcia_methods=methods,\n",
    "    impact_abbrev=impact_abbrev,\n",
    "    specific_lcia_abbrev=specific_lcia_abbrev,\n",
    "    path=path_model_lca,\n",
    "    metadata=metadata,\n",
    "    file_name='objectives_lca_direct',\n",
    ")"
   ],
   "id": "e3d37bb56d9ef7da",
   "outputs": [],
   "execution_count": null
  },
  {
   "metadata": {},
   "cell_type": "markdown",
   "source": "## Running the ESM",
   "id": "d60e071ffee08a81"
  },
  {
   "metadata": {},
   "cell_type": "code",
   "source": "impact_scores = pd.read_csv(path_results+'impact_scores.csv')",
   "id": "c8050a2095afee56",
   "outputs": [],
   "execution_count": null
  },
  {
   "metadata": {},
   "cell_type": "markdown",
   "source": "### Single objective optimization",
   "id": "fe51bd381adeb071"
  },
  {
   "metadata": {},
   "cell_type": "code",
   "source": [
    "list_esm_results_f_mult = []\n",
    "list_esm_results_annual_res = []\n",
    "list_esm_results_annual_prod = []\n",
    "list_main_variables_results = []\n",
    "\n",
    "for obj in ['TotalCost', 'TotalLCIA_m_CCS', 'TotalLCIA_TTHH', 'TotalLCIA_TTEQ']:\n",
    "\n",
    "    results = run_esm(obj)\n",
    "\n",
    "    df_f_mult, df_annual_prod, df_annual_res = get_impact_scores(\n",
    "        df_results=results,\n",
    "        df_impact_scores=impact_scores,\n",
    "        impact_category=[\n",
    "            ('IMPACT World+ Damage 2.1_regionalized for ecoinvent v3.10', 'Human health', 'Total human health'),\n",
    "            ('IMPACT World+ Damage 2.1_regionalized for ecoinvent v3.10', 'Ecosystem quality', 'Total ecosystem quality'),\n",
    "            ('IMPACT World+ Midpoint 2.1_regionalized for ecoinvent v3.10', 'Midpoint', 'Climate change, short term'),\n",
    "        ]\n",
    "    )\n",
    "\n",
    "    df_f_mult['Run'] = obj\n",
    "    df_annual_prod['Run'] = obj\n",
    "    df_annual_res['Run'] = obj\n",
    "\n",
    "    df_f_mult.rename(columns={'index': 'Name'}, inplace=True)\n",
    "    df_annual_prod.rename(columns={'index': 'Name'}, inplace=True)\n",
    "    df_annual_res.rename(columns={'index': 'Name'}, inplace=True)\n",
    "\n",
    "    total_cost = results.variables['TotalCost'].TotalCost.values[0]\n",
    "    total_m_ccs = results.variables['TotalLCIA_m_CCS'].TotalLCIA_m_CCS.values[0]\n",
    "    total_tthh = results.variables['TotalLCIA_TTHH'].TotalLCIA_TTHH.values[0]\n",
    "    total_tteq = results.variables['TotalLCIA_TTEQ'].TotalLCIA_TTEQ.values[0]\n",
    "\n",
    "    list_main_variables_results.append([obj, total_cost, total_m_ccs, total_tthh, total_tteq])\n",
    "\n",
    "    list_esm_results_f_mult.append(df_f_mult)\n",
    "    list_esm_results_annual_prod.append(df_annual_prod)\n",
    "    list_esm_results_annual_res.append(df_annual_res)\n",
    "\n",
    "esm_results_f_mult = pd.concat(list_esm_results_f_mult)\n",
    "esm_results_annual_prod = pd.concat(list_esm_results_annual_prod)\n",
    "esm_results_annual_res = pd.concat(list_esm_results_annual_res)\n",
    "main_variables_results = pd.DataFrame(data=list_main_variables_results, columns=['Objective', 'TotalCost', 'TotalLCIA_m_CCS', 'TotalLCIA_TTHH', 'TotalLCIA_TTEQ'])"
   ],
   "id": "6b1f7354fc28bd55",
   "outputs": [],
   "execution_count": null
  },
  {
   "metadata": {},
   "cell_type": "code",
   "source": [
    "esm_results_f_mult.to_csv('./results/soo_results_f_mult.csv', index=False)\n",
    "esm_results_annual_prod.to_csv('./results/soo_results_annual_prod.csv', index=False)\n",
    "esm_results_annual_res.to_csv('./results/soo_results_annual_res.csv', index=False)"
   ],
   "id": "6ab9eb25fd187158",
   "outputs": [],
   "execution_count": null
  },
  {
   "metadata": {},
   "cell_type": "code",
   "source": [
    "# lyrio = results.parameters['layers_in_out'].reset_index()\n",
    "# lyrio = lyrio[lyrio.layers_in_out != 0].drop(columns=['Run']).rename({'index0': 'Name', 'index1': 'Flow', 'layers_in_out': 'Amount'}, axis=1)\n",
    "# lyrio.to_csv(path_inputs+'model.csv', index=False)"
   ],
   "id": "d58929ca282f11",
   "outputs": [],
   "execution_count": null
  },
  {
   "metadata": {},
   "cell_type": "markdown",
   "source": "### Multi-objective optimization",
   "id": "c136073b7df42542"
  },
  {
   "metadata": {},
   "cell_type": "markdown",
   "source": "#### Pareto front",
   "id": "64ea798e674aa6dc"
  },
  {
   "metadata": {},
   "cell_type": "code",
   "source": [
    "# normalized limit = (physical limit [impact / cap] / max_AoP) * N_cap\n",
    "N_run = 300\n",
    "obj1 = 'TotalLCIA_m_CCS'\n",
    "obj2 = 'TotalCost'\n",
    "\n",
    "normalized_limits_list = []\n",
    "obj1_min = main_variables_results[main_variables_results['Objective'] == obj1][obj1].values[0]\n",
    "obj1_max = main_variables_results[main_variables_results['Objective'] == obj2][obj1].values[0]\n",
    "physical_limit_list = list(np.linspace(obj1_min, obj1_max, N_run))\n",
    "# physical_limit_list = list(np.logspace(np.log10(688.41), np.log10(750), N_run))\n",
    "for limit in physical_limit_list:\n",
    "        normalized_limits_list.append(limit)"
   ],
   "id": "912b17adf34fecbd",
   "outputs": [],
   "execution_count": null
  },
  {
   "metadata": {},
   "cell_type": "code",
   "source": [
    "data = ['limit_lcia', obj1.split('TotalLCIA_')[-1], None, None, None] + normalized_limits_list\n",
    "columns = ['param', 'index0', 'index1', 'index2', 'index3'] + [f'value{i+1}' for i in range(N_run)]"
   ],
   "id": "c296ce1ebbb2084d",
   "outputs": [],
   "execution_count": null
  },
  {
   "metadata": {},
   "cell_type": "code",
   "source": [
    "seq_data = pd.DataFrame(data).T\n",
    "seq_data.columns = columns"
   ],
   "id": "e7a41d16f747be7f",
   "outputs": [],
   "execution_count": null
  },
  {
   "metadata": {},
   "cell_type": "code",
   "source": "es = run_esm(objective_function=obj2, returns='model')",
   "id": "41cfdd40c7bf62ad",
   "outputs": [],
   "execution_count": null
  },
  {
   "metadata": {},
   "cell_type": "code",
   "source": "results_pareto = es.calc_sequence(seq_data)",
   "id": "3fe41b2704e604e3",
   "outputs": [],
   "execution_count": null
  },
  {
   "metadata": {},
   "cell_type": "code",
   "source": "results_pareto = postprocessing(results_pareto)",
   "id": "c13ea640b3854796",
   "outputs": [],
   "execution_count": null
  },
  {
   "metadata": {},
   "cell_type": "markdown",
   "source": "#### Sobol sequence",
   "id": "b0f9ecea562f38ca"
  },
  {
   "metadata": {},
   "cell_type": "code",
   "source": "from energyscope.datasets import gen_sobol_sequence",
   "id": "d58551691a075f66",
   "outputs": [],
   "execution_count": null
  },
  {
   "metadata": {},
   "cell_type": "code",
   "source": [
    "parameters = [\n",
    "    {\n",
    "        'name': cat,\n",
    "        'lower_bound': main_variables_results[f'TotalLCIA_{cat}'].min(),\n",
    "        'upper_bound': main_variables_results[f'TotalLCIA_{cat}'].max()\n",
    "    }\n",
    "    for cat in ['TTHH', 'TTEQ']\n",
    "]"
   ],
   "id": "564a9808e60481da",
   "outputs": [],
   "execution_count": null
  },
  {
   "metadata": {},
   "cell_type": "code",
   "source": "seq, prob = gen_sobol_sequence(parameters=parameters, trajectories=128)",
   "id": "e162ac5a55c303a3",
   "outputs": [],
   "execution_count": null
  },
  {
   "metadata": {},
   "cell_type": "code",
   "source": [
    "seq_df = pd.DataFrame(seq, columns=prob['names']).T\n",
    "seq_df.columns = ['value' + str(x) for x in list(seq_df.columns) if not str(x) == \"nan\"]\n",
    "seq_df = seq_df.reset_index(names=['index0'])\n",
    "seq_df['param'] = ['limit_lcia'] * len(seq_df)\n",
    "\n",
    "seq_df['index1'] = np.nan\n",
    "seq_df['index2'] = np.nan\n",
    "seq_df['index3'] = np.nan"
   ],
   "id": "c8be1cc085b254ab",
   "outputs": [],
   "execution_count": null
  },
  {
   "metadata": {},
   "cell_type": "code",
   "source": "es = run_esm(objective_function='TotalCost', returns='model')",
   "id": "2326c8d26f94abe9",
   "outputs": [],
   "execution_count": null
  },
  {
   "metadata": {},
   "cell_type": "code",
   "source": "results_sobol = es.calc_sequence(seq_df)",
   "id": "394129c310671dfb",
   "outputs": [],
   "execution_count": null
  },
  {
   "metadata": {},
   "cell_type": "code",
   "source": "results_sobol = postprocessing(results_sobol)",
   "id": "26afd2dcd71b9a0c",
   "outputs": [],
   "execution_count": null
  },
  {
   "metadata": {},
   "cell_type": "markdown",
   "source": "## Visualize the results",
   "id": "55c9592de69b8ec6"
  },
  {
   "metadata": {},
   "cell_type": "code",
   "source": "save_fig = True",
   "id": "26913d212ccfa5fd",
   "outputs": [],
   "execution_count": null
  },
  {
   "metadata": {},
   "cell_type": "code",
   "source": "tech_to_show_list = [i for i in impact_scores.Name.unique() if i not in ['GRID']]",
   "id": "2ae7b0bdd2468370",
   "outputs": [],
   "execution_count": null
  },
  {
   "metadata": {},
   "cell_type": "markdown",
   "source": "### SOO",
   "id": "b5c62a9b7c17b3a8"
  },
  {
   "metadata": {},
   "cell_type": "code",
   "source": [
    "main_variables_results_norm = pd.DataFrame()\n",
    "for col in main_variables_results.columns:\n",
    "    if col != 'Objective':\n",
    "        main_variables_results_norm[col] = main_variables_results[col] / main_variables_results[col].max()\n",
    "    else:\n",
    "        main_variables_results_norm['Objective function'] = main_variables_results[col]"
   ],
   "id": "b013761550573909",
   "outputs": [],
   "execution_count": null
  },
  {
   "metadata": {},
   "cell_type": "code",
   "source": [
    "main_variables_results_norm.rename(columns=obj_name_dict, inplace=True)\n",
    "main_variables_results_norm['Objective function'] = main_variables_results_norm['Objective function'].apply(lambda x: obj_name_dict[x])"
   ],
   "id": "766e02674a7d00ba",
   "outputs": [],
   "execution_count": null
  },
  {
   "metadata": {},
   "cell_type": "code",
   "source": "main_variables_results_norm = main_variables_results_norm.melt(id_vars=['Objective function'], var_name='Indicator', value_name='Normalized indicator')",
   "id": "2d8afadc3cc6480e",
   "outputs": [],
   "execution_count": null
  },
  {
   "metadata": {},
   "cell_type": "code",
   "source": [
    "fig = px.bar(\n",
    "    main_variables_results_norm,\n",
    "    x='Objective function',\n",
    "    y='Normalized indicator',\n",
    "    color='Indicator',\n",
    "    barmode='group',\n",
    ")\n",
    "\n",
    "fig.update_layout(template='plotly_white')\n",
    "\n",
    "fig.show()"
   ],
   "id": "2d3a9bf210882299",
   "outputs": [],
   "execution_count": null
  },
  {
   "metadata": {},
   "cell_type": "code",
   "source": [
    "fig = px.bar(\n",
    "    main_variables_results_norm,\n",
    "    color='Objective function',\n",
    "    y='Normalized indicator',\n",
    "    x='Indicator',\n",
    "    barmode='group',\n",
    ")\n",
    "\n",
    "fig.update_layout(template='plotly_white')\n",
    "\n",
    "fig.show()"
   ],
   "id": "4821797151dae2df",
   "outputs": [],
   "execution_count": null
  },
  {
   "metadata": {},
   "cell_type": "code",
   "source": [
    "plot_technologies_contribution(\n",
    "    cat='Total human health',\n",
    "    esm_results_f_mult=esm_results_f_mult,\n",
    "    esm_results_annual_prod=esm_results_annual_prod,\n",
    "    esm_results_annual_res=esm_results_annual_res,\n",
    "    tech_to_show_list=tech_to_show_list,\n",
    "    save_fig=save_fig,\n",
    ")"
   ],
   "id": "c323d817cc559be3",
   "outputs": [],
   "execution_count": null
  },
  {
   "metadata": {},
   "cell_type": "code",
   "source": [
    "plot_technologies_contribution(\n",
    "    cat='Total ecosystem quality',\n",
    "    esm_results_f_mult=esm_results_f_mult,\n",
    "    esm_results_annual_prod=esm_results_annual_prod,\n",
    "    esm_results_annual_res=esm_results_annual_res,\n",
    "    tech_to_show_list=tech_to_show_list,\n",
    "    save_fig=save_fig,\n",
    ")"
   ],
   "id": "de98251b8a0263df",
   "outputs": [],
   "execution_count": null
  },
  {
   "metadata": {},
   "cell_type": "code",
   "source": [
    "plot_technologies_contribution(\n",
    "    cat='Climate change, short term',\n",
    "    esm_results_f_mult=esm_results_f_mult,\n",
    "    esm_results_annual_prod=esm_results_annual_prod,\n",
    "    esm_results_annual_res=esm_results_annual_res,\n",
    "    tech_to_show_list=tech_to_show_list,\n",
    "    save_fig=save_fig,\n",
    ")"
   ],
   "id": "5b828841e5ccac0a",
   "outputs": [],
   "execution_count": null
  },
  {
   "metadata": {},
   "cell_type": "code",
   "source": [
    "plot_technologies_contribution(\n",
    "    cat='Total cost',\n",
    "    esm_results_f_mult=esm_results_f_mult,\n",
    "    esm_results_annual_prod=esm_results_annual_prod,\n",
    "    esm_results_annual_res=esm_results_annual_res,\n",
    "    tech_to_show_list=tech_to_show_list,\n",
    "    save_fig=save_fig,\n",
    ")"
   ],
   "id": "5e1713f4830558d",
   "outputs": [],
   "execution_count": null
  },
  {
   "metadata": {},
   "cell_type": "markdown",
   "source": "### MOO",
   "id": "917f48f2b300a2b5"
  },
  {
   "metadata": {},
   "cell_type": "code",
   "source": "plt.rcParams['font.family'] = 'arial'",
   "id": "6374153cc2c2ad82",
   "outputs": [],
   "execution_count": null
  },
  {
   "metadata": {},
   "cell_type": "markdown",
   "source": "#### Pareto front",
   "id": "55327b670055e9a2"
  },
  {
   "metadata": {},
   "cell_type": "code",
   "source": [
    "colors_var = 'TotalLCIA_TTHH'\n",
    "add_soo_point = False"
   ],
   "id": "2d9376602e79f0b7",
   "outputs": [],
   "execution_count": null
  },
  {
   "metadata": {},
   "cell_type": "code",
   "source": [
    "x = [i * 1e3 * max_ccs / N_cap for i in physical_limit_list]\n",
    "y = list(results_pareto.variables[obj2][obj2])\n",
    "colors = list(results_pareto.variables[colors_var][colors_var])\n",
    "\n",
    "# adding data point from colors_var SOO\n",
    "if add_soo_point:\n",
    "    x = x + [main_variables_results[main_variables_results['Objective'] == colors_var][obj1].values[0]]\n",
    "    y = y + [main_variables_results[main_variables_results['Objective'] == colors_var][obj2].values[0]]\n",
    "    colors = colors + [main_variables_results[main_variables_results['Objective'] == colors_var][colors_var].values[0]]\n",
    "\n",
    "# Create the scatter plot\n",
    "scatter = plt.scatter(x, y, c=colors, cmap='jet')\n",
    "\n",
    "# Add a colorbar\n",
    "cbar = plt.colorbar(scatter)\n",
    "cbar.set_label(colors_var)\n",
    "\n",
    "# Add labels and title\n",
    "plt.xlabel(obj1)\n",
    "plt.ylabel(obj2)\n",
    "\n",
    "# Show the plot\n",
    "plt.show()"
   ],
   "id": "4be1eb02355cb880",
   "outputs": [],
   "execution_count": null
  },
  {
   "metadata": {},
   "cell_type": "code",
   "source": [
    "x = [i * 1e3 * max_ccs / N_cap for i in physical_limit_list]\n",
    "y_1 = list(results_pareto.variables['TotalCost']['TotalCost'])\n",
    "y_2 = list(results_pareto.variables['TotalLCIA_TTHH']['TotalLCIA_TTHH'])\n",
    "y_3 = list(results_pareto.variables['TotalLCIA_TTEQ']['TotalLCIA_TTEQ'])\n",
    "y_4 = list(results_pareto.variables['TotalLCIA_m_CCS']['TotalLCIA_m_CCS'])\n",
    "\n",
    "# Normalize the y values using the max value\n",
    "y_1 = [i / max(y_1) for i in y_1]\n",
    "y_2 = [i / max(y_2) for i in y_2]\n",
    "y_3 = [i / max(y_3) for i in y_3]\n",
    "y_4 = [i / max(y_4) for i in y_4]\n",
    "\n",
    "plt.figure(figsize=(4.5, 3.5))\n",
    "\n",
    "plt.plot(x, y_1, label='Total cost', c='k')\n",
    "plt.plot(x, y_2, label='Total human health', c='k', ls='dashed')\n",
    "plt.plot(x, y_3, label='Total ecosystem quality', c='k', ls='dotted')\n",
    "# plt.plot(x, y_4, label='Climate change, short term', c='k', ls='dashdot')\n",
    "\n",
    "plt.xlabel(f'Upper limit for {obj_name_dict[obj1].lower()} [t CO$_2$-eq/cap]')\n",
    "plt.ylabel('Normalized indicator')\n",
    "\n",
    "plt.legend()\n",
    "plt.tight_layout()\n",
    "# plt.savefig('./figures/pareto_front_indicators.pdf')\n",
    "plt.show()"
   ],
   "id": "36d2cd67283600ac",
   "outputs": [],
   "execution_count": null
  },
  {
   "metadata": {},
   "cell_type": "code",
   "source": [
    "df_f_mult_pareto = results_pareto.variables['F_Mult'].reset_index()\n",
    "x = [i * 1e3 * max_ccs / N_cap for i in physical_limit_list]\n",
    "y_1 = list(df_f_mult_pareto[df_f_mult_pareto['index'] == 'CCGT']['F_Mult'])\n",
    "y_2 = list(df_f_mult_pareto[df_f_mult_pareto['index'] == 'CCGT_CC']['F_Mult'])\n",
    "y_3 = list(df_f_mult_pareto[df_f_mult_pareto['index'] == 'PV']['F_Mult'])\n",
    "\n",
    "# from GW to kW / cap\n",
    "y_1 = [i * 1e6 / N_cap for i in y_1]\n",
    "y_2 = [i * 1e6 / N_cap for i in y_2]\n",
    "y_3 = [i * 1e6 / N_cap for i in y_3]\n",
    "\n",
    "plt.figure(figsize=(4.5, 3.5))\n",
    "\n",
    "plt.plot(x, y_1, label=tech_name_dict['CCGT'], c=color_dict[tech_name_dict['CCGT']])\n",
    "plt.plot(x, y_2, label=tech_name_dict['CCGT_CC'], c=color_dict[tech_name_dict['CCGT']], ls='-.')\n",
    "plt.plot(x, y_3, label=tech_name_dict['PV'], c=color_dict[tech_name_dict['PV']])\n",
    "\n",
    "plt.xlabel(f'Upper limit for {obj_name_dict[obj1].lower()} [t CO$_2$-eq/cap]')\n",
    "plt.ylabel('Installed capacity [kW/cap]')\n",
    "\n",
    "plt.legend()\n",
    "plt.tight_layout()\n",
    "# plt.savefig('./figures/pareto_front_capacities.pdf')\n",
    "plt.show()"
   ],
   "id": "e87066b466c0007a",
   "outputs": [],
   "execution_count": null
  },
  {
   "metadata": {},
   "cell_type": "markdown",
   "source": "#### Sobol sequence",
   "id": "6c59fc5e2f5bc560"
  },
  {
   "metadata": {},
   "cell_type": "code",
   "source": [
    "def plot_heat_map_sobol(\n",
    "        results_sobol,\n",
    "        x_var: str,\n",
    "        y_var: str,\n",
    "        color_var: str,\n",
    "        fill: bool,\n",
    "):\n",
    "\n",
    "    limit_lcia = results_sobol.parameters['limit_lcia']\n",
    "\n",
    "    x=limit_lcia[limit_lcia.index == x_var].limit_lcia.tolist()\n",
    "    y=limit_lcia[limit_lcia.index == y_var].limit_lcia.tolist()\n",
    "    c=results_sobol.variables[color_var][color_var].tolist()\n",
    "\n",
    "    if fill:\n",
    "        plt.tricontourf(x, y, c, 128, cmap=plt.get_cmap('jet'))\n",
    "\n",
    "    else:\n",
    "        plt.scatter(\n",
    "            x=limit_lcia[limit_lcia.index == x_var].limit_lcia.tolist(),\n",
    "            y=limit_lcia[limit_lcia.index == y_var].limit_lcia.tolist(),\n",
    "            c=results_sobol.variables[color_var][color_var].tolist(),\n",
    "            cmap='jet',\n",
    "        )\n",
    "\n",
    "    # Add a colorbar\n",
    "    cbar = plt.colorbar()\n",
    "    cbar.set_label(color_var)\n",
    "\n",
    "    plt.xlabel('Upper limit for ' + x_var)\n",
    "    plt.ylabel('Upper limit for ' + y_var)\n",
    "\n",
    "    plt.show()"
   ],
   "id": "a245a0b06e702d55",
   "outputs": [],
   "execution_count": null
  },
  {
   "metadata": {},
   "cell_type": "code",
   "source": [
    "plot_heat_map_sobol(\n",
    "    results_sobol=results_sobol,\n",
    "    x_var = 'TTHH',\n",
    "    y_var = 'TTEQ',\n",
    "    color_var = 'TotalCost',\n",
    "    fill=True,\n",
    ")"
   ],
   "id": "efb8cfebb29f1329",
   "outputs": [],
   "execution_count": null
  },
  {
   "metadata": {},
   "cell_type": "markdown",
   "source": "### LCA metrics",
   "id": "388efaa1ee52671a"
  },
  {
   "metadata": {},
   "cell_type": "code",
   "source": [
    "plot = Plot(\n",
    "    df_impact_scores=impact_scores,\n",
    "    lifetime=lifetime,\n",
    ")"
   ],
   "id": "3b95320ba36c8093",
   "outputs": [],
   "execution_count": null
  },
  {
   "metadata": {},
   "cell_type": "code",
   "source": [
    "plot.plot_indicators_of_technologies_for_one_impact_category(\n",
    "    technologies_list=tech_to_show_list,\n",
    "    impact_category=('IMPACT World+ Damage 2.1_regionalized for ecoinvent v3.10', 'Human health', 'Total human health'),\n",
    "    contributions_total_score=True,\n",
    ")"
   ],
   "id": "48f1b9aed4bd0c1b",
   "outputs": [],
   "execution_count": null
  },
  {
   "metadata": {},
   "cell_type": "code",
   "source": [
    "plot.plot_indicators_of_technologies_for_one_impact_category(\n",
    "    technologies_list=tech_to_show_list,\n",
    "    impact_category=('IMPACT World+ Damage 2.1_regionalized for ecoinvent v3.10', 'Ecosystem quality', 'Total ecosystem quality'),\n",
    "    contributions_total_score=True,\n",
    ")"
   ],
   "id": "5de96e117f184dca",
   "outputs": [],
   "execution_count": null
  }
 ],
 "metadata": {
  "kernelspec": {
   "display_name": "Python 3",
   "language": "python",
   "name": "python3"
  },
  "language_info": {
   "codemirror_mode": {
    "name": "ipython",
    "version": 2
   },
   "file_extension": ".py",
   "mimetype": "text/x-python",
   "name": "python",
   "nbconvert_exporter": "python",
   "pygments_lexer": "ipython2",
   "version": "2.7.6"
  }
 },
 "nbformat": 4,
 "nbformat_minor": 5
}
