{
 "cells": [
  {
   "metadata": {},
   "cell_type": "markdown",
   "source": "# Tutorial on how to use mescal with the PathwayESM class",
   "id": "eb869abb9ab2112e"
  },
  {
   "metadata": {},
   "cell_type": "code",
   "source": [
    "%load_ext autoreload\n",
    "%autoreload 2"
   ],
   "id": "fb535449ba9cee94",
   "outputs": [],
   "execution_count": null
  },
  {
   "metadata": {},
   "cell_type": "code",
   "source": [
    "# Import the required libraries\n",
    "from mescal import *\n",
    "import pandas as pd\n",
    "import bw2data as bd"
   ],
   "id": "18ac931e27a8c179",
   "outputs": [],
   "execution_count": null
  },
  {
   "metadata": {},
   "cell_type": "markdown",
   "source": "## Set up and input data",
   "id": "edcf968ce73ca4c"
  },
  {
   "metadata": {},
   "cell_type": "code",
   "source": [
    "ecoinvent_version = '3.10.1' # choose the ecoinvent version you wish to use\n",
    "esm_location = 'CH' # choose the version of energyscope for which you want to generate metrics\n",
    "spatialized_database = True # set to True if you want to use your spatialized version of ecoinvent\n",
    "regionalize_foregrounds = ['Operation'] # set to 'all' if you want to regionalize the foreground inventories of all types of LCI datasets\n",
    "premise_iam = 'image' # choose the IAM to which the premise database is linked\n",
    "premise_ssp_rcp = 'SSP2-Base' # choose the SSP/RCP scenario to which the premise database is linked"
   ],
   "id": "e4b96128e9b527c4",
   "outputs": [],
   "execution_count": null
  },
  {
   "metadata": {},
   "cell_type": "code",
   "source": [
    "# Set the name of your main LCI database (e.g., ecoinvent or premise database) here:\n",
    "name_premise_db_2020 = f\"ecoinvent_cutoff_{ecoinvent_version}_{premise_iam}_{premise_ssp_rcp}_2020+truck_carculator regionalized_wo\"\n",
    "name_premise_db_2050 = f\"ecoinvent_cutoff_{ecoinvent_version}_{premise_iam}_{premise_ssp_rcp}_2050+truck_carculator regionalized_wo\"\n",
    "\n",
    "if spatialized_database:\n",
    "    name_spatialized_biosphere_db = 'biosphere3_spatialized_flows'\n",
    "else:\n",
    "    name_spatialized_biosphere_db = None"
   ],
   "id": "e94c205ff410f83",
   "outputs": [],
   "execution_count": null
  },
  {
   "metadata": {},
   "cell_type": "code",
   "source": [
    "# Set the general name of the new database with the ESM results (the different years will be added to that name)\n",
    "esm_db_name = f'EnergyScope_Pathway_{esm_location}'"
   ],
   "id": "eabd6eba050c24b3",
   "outputs": [],
   "execution_count": null
  },
  {
   "metadata": {},
   "cell_type": "code",
   "source": [
    "# Main version of ecoinvent (without .1 if any)\n",
    "ecoinvent_main_version = '.'.join(ecoinvent_version.split('.')[:2])"
   ],
   "id": "d6a4d7962b11e1b9",
   "outputs": [],
   "execution_count": null
  },
  {
   "metadata": {},
   "cell_type": "code",
   "source": [
    "lcia_methods=[\n",
    "    f'IMPACT World+ Midpoint 2.1 for ecoinvent v{ecoinvent_main_version}',\n",
    "    f'IMPACT World+ Damage 2.1 for ecoinvent v{ecoinvent_main_version}',\n",
    "    f'IMPACT World+ Footprint 2.1 for ecoinvent v{ecoinvent_main_version}',\n",
    "]"
   ],
   "id": "797c1d547d27f163",
   "outputs": [],
   "execution_count": null
  },
  {
   "metadata": {},
   "cell_type": "code",
   "source": [
    "# Set up your Brightway project\n",
    "bd.projects.set_current(f'ecoinvent{ecoinvent_version}') # put the name of your brightway project here"
   ],
   "id": "f58d2864b944d18",
   "outputs": [],
   "execution_count": null
  },
  {
   "metadata": {},
   "cell_type": "code",
   "source": [
    "premise_db_2020 = Database(name_premise_db_2020, create_pickle=True)\n",
    "premise_db_2050 = Database(name_premise_db_2050, create_pickle=True)"
   ],
   "id": "19fa576b672f77a8",
   "outputs": [],
   "execution_count": null
  },
  {
   "metadata": {},
   "cell_type": "code",
   "source": [
    "if regionalize_foregrounds is not None and spatialized_database:\n",
    "    spatialized_biosphere_db = Database(name_spatialized_biosphere_db)\n",
    "else:\n",
    "    spatialized_biosphere_db = None"
   ],
   "id": "1b6fd5fed886113",
   "outputs": [],
   "execution_count": null
  },
  {
   "metadata": {},
   "cell_type": "code",
   "source": [
    "# Inputs\n",
    "# Mandatory\n",
    "mapping = pd.read_csv(f'../dev/energyscope_data/{esm_location}/mapping_{ecoinvent_version}.csv')\n",
    "unit_conversion = pd.read_excel(f'../dev/energyscope_data/{esm_location}/unit_conversion_{ecoinvent_version}.xlsx')\n",
    "mapping_esm_flows_to_CPC = pd.read_csv(f'../dev/energyscope_data/{esm_location}/mapping_esm_flows_to_CPC.csv')\n",
    "model = pd.read_csv(f'../dev/energyscope_data/{esm_location}/model.csv')\n",
    "impact_abbrev = pd.read_csv('../dev/lcia/impact_abbrev.csv')\n",
    "\n",
    "# Optional\n",
    "technology_compositions = pd.read_csv(f'../dev/energyscope_data/{esm_location}/technology_compositions.csv')\n",
    "technology_specifics = pd.read_csv(f'../dev/energyscope_data/{esm_location}/technology_specifics.csv')\n",
    "lifetime = pd.read_csv(f'../dev/energyscope_data/{esm_location}/lifetime.csv')\n",
    "efficiency = pd.read_csv(f'../dev/energyscope_data/{esm_location}/efficiency.csv')\n",
    "mapping_product_to_CPC = pd.read_csv('../mescal/data/mapping_new_products_to_CPC.csv')\n",
    "technologies_to_remove_from_layers = pd.read_csv(f'../dev/energyscope_data/{esm_location}/technologies_to_remove_from_layers.csv')\n",
    "new_end_use_types = pd.read_csv(f'../dev/energyscope_data/{esm_location}/new_end_use_types.csv')\n",
    "results_from_esm = pd.read_csv(f'../dev/energyscope_data/{esm_location}/results_ES.csv')"
   ],
   "id": "25ebd95520205d11",
   "outputs": [],
   "execution_count": null
  },
  {
   "metadata": {},
   "cell_type": "code",
   "source": [
    "# The database name in the mapping file should be the one of the first time step\n",
    "mapping.Database = name_premise_db_2020"
   ],
   "id": "9378551e6a1ad172",
   "outputs": [],
   "execution_count": null
  },
  {
   "metadata": {},
   "cell_type": "code",
   "source": [
    "# sufficient match within ecoinvent\n",
    "if esm_location == 'CA-QC':\n",
    "    accepted_locations = ['CA-QC']\n",
    "elif esm_location == 'CH':\n",
    "    accepted_locations = ['CH']\n",
    "else:\n",
    "    accepted_locations = ['GLO', 'RoW']"
   ],
   "id": "e17a895210826885",
   "outputs": [],
   "execution_count": null
  },
  {
   "metadata": {},
   "cell_type": "code",
   "source": [
    "# Define the user-defined ranking\n",
    "if esm_location == 'CA-QC':\n",
    "    my_ranking = [\n",
    "        'CA-QC', # Quebec\n",
    "        'CA', # Canada\n",
    "        'CAN', # Canada in IMAGE\n",
    "        'CAZ', # Canada - Australia - New Zealand in REMIND\n",
    "        'RNA', # North America\n",
    "        'US', # United States\n",
    "        'USA', # United States in REMIND and IMAGE\n",
    "        'GLO', # Global average\n",
    "        'RoW', # Rest of the world\n",
    "    ]\n",
    "elif esm_location == 'CH':\n",
    "    my_ranking = [\n",
    "        'CH',\n",
    "        'NEU',\n",
    "        'EUR',\n",
    "        'WEU',\n",
    "        'RER',\n",
    "        'IAI Area, EU27 & EFTA',\n",
    "        'GLO',\n",
    "        'RoW'\n",
    "    ]\n",
    "else:\n",
    "    my_ranking = [\n",
    "        'GLO',\n",
    "        'RoW',\n",
    "    ]"
   ],
   "id": "abc3d7b5d6cd1c06",
   "outputs": [],
   "execution_count": null
  },
  {
   "metadata": {},
   "cell_type": "code",
   "source": [
    "# If necessary, add missing CPC categories to the database\n",
    "premise_db_2020.add_CPC_categories()\n",
    "premise_db_2050.add_CPC_categories()"
   ],
   "id": "dc607301d9b4c477",
   "outputs": [],
   "execution_count": null
  },
  {
   "metadata": {},
   "cell_type": "markdown",
   "source": "## Initialize the PathwayESM class",
   "id": "57fdd7a304eab546"
  },
  {
   "metadata": {},
   "cell_type": "code",
   "source": [
    "esm = PathwayESM(\n",
    "    # Mandatory inputs\n",
    "    time_steps=[\n",
    "        {'year': 2020, 'model': model, 'lifetime':lifetime, 'main_database': premise_db_2020},\n",
    "        {'year': 2050, 'model': model, 'lifetime':lifetime, 'main_database': premise_db_2050},\n",
    "    ],\n",
    "    mapping=mapping,\n",
    "    unit_conversion=unit_conversion,\n",
    "    mapping_esm_flows_to_CPC_cat=mapping_esm_flows_to_CPC,\n",
    "    esm_db_name=esm_db_name,\n",
    "    biosphere_db_name='ecoinvent-3.10.1-biosphere',\n",
    "    esm_location=esm_location,\n",
    "\n",
    "    # Optional inputs\n",
    "    technology_compositions=technology_compositions,\n",
    "    tech_specifics=technology_specifics,\n",
    "    efficiency=efficiency,\n",
    "    regionalize_foregrounds=regionalize_foregrounds,\n",
    "    accepted_locations=accepted_locations,\n",
    "    locations_ranking=my_ranking,\n",
    "    spatialized_biosphere_db=spatialized_biosphere_db,\n",
    "    results_path_file=f'results/energyscope_pathway_{esm_location}/',\n",
    "    stop_background_search_when_first_flow_found=True,\n",
    "    esm_end_use_demands=['ELECTRICITY_EHV', 'HEAT_HIGH_T'],\n",
    "    remove_double_counting_to=['Operation', 'Construction'],\n",
    ")"
   ],
   "id": "e838a13b6c72fb41",
   "outputs": [],
   "execution_count": null
  },
  {
   "metadata": {},
   "cell_type": "code",
   "source": "esm.check_inputs()",
   "id": "f44d8d311f7af0c2",
   "outputs": [],
   "execution_count": null
  },
  {
   "metadata": {},
   "cell_type": "code",
   "source": "missing_flows = premise_db_2020.test_mapping_file(esm.mapping[esm.mapping.Year == 2020])",
   "id": "cbe54b662273be23",
   "outputs": [],
   "execution_count": null
  },
  {
   "metadata": {},
   "cell_type": "markdown",
   "source": "## Create the ESM databases",
   "id": "b6c72ae3092423c9"
  },
  {
   "metadata": {},
   "cell_type": "code",
   "source": "esm.create_esm_database()",
   "id": "ae4408ec0d0a4809",
   "outputs": [],
   "execution_count": null
  },
  {
   "metadata": {},
   "cell_type": "markdown",
   "source": "## Compute the impact scores",
   "id": "4b5a17bc5d9db75c"
  },
  {
   "metadata": {},
   "cell_type": "code",
   "source": [
    "R_long, contrib_analysis_res, _ = esm.compute_impact_scores(\n",
    "    methods=lcia_methods,\n",
    "    contribution_analysis='both',\n",
    "    contribution_analysis_limit_type='number',\n",
    "    contribution_analysis_limit=3,\n",
    ")\n",
    "R_long.to_csv(f'{esm.results_path_file}/impact_scores.csv', index=False)\n",
    "contrib_analysis_res.to_csv(f'{esm.results_path_file}/contribution_analysis.csv', index=False)"
   ],
   "id": "3abe3e5eb8282638",
   "outputs": [],
   "execution_count": null
  },
  {
   "metadata": {},
   "cell_type": "code",
   "source": "R_long.head()",
   "id": "1de9c1c7588016c8",
   "outputs": [],
   "execution_count": null
  },
  {
   "metadata": {},
   "cell_type": "code",
   "source": "contrib_analysis_res.head()",
   "id": "f28cc71963736ff8",
   "outputs": [],
   "execution_count": null
  },
  {
   "metadata": {},
   "cell_type": "markdown",
   "source": "## Create the .dat and .mod files",
   "id": "7a3d036f6b9d653c"
  },
  {
   "metadata": {},
   "cell_type": "code",
   "source": "specific_lcia_abbrev = ['m_CCS', 'TTHH', 'TTEQ']",
   "id": "51d62472c386e54d",
   "outputs": [],
   "execution_count": null
  },
  {
   "metadata": {},
   "cell_type": "code",
   "source": [
    "# Create .dat file\n",
    "esm.normalize_lca_metrics(\n",
    "    R=R_long,\n",
    "    mip_gap=1e-6,\n",
    "    lcia_methods=lcia_methods,\n",
    "    specific_lcia_abbrev=specific_lcia_abbrev,\n",
    "    impact_abbrev=impact_abbrev,\n",
    "    path=esm.results_path_file,\n",
    ")"
   ],
   "id": "213dd9a949d6b791",
   "outputs": [],
   "execution_count": null
  },
  {
   "metadata": {},
   "cell_type": "code",
   "source": [
    "# Create the .mod file\n",
    "esm.generate_mod_file_ampl(\n",
    "    lcia_methods=lcia_methods,\n",
    "    impact_abbrev=impact_abbrev,\n",
    "    specific_lcia_abbrev=specific_lcia_abbrev,\n",
    "    path=esm.results_path_file,\n",
    ")"
   ],
   "id": "3e61d2503e89ca20",
   "outputs": [],
   "execution_count": null
  },
  {
   "metadata": {},
   "cell_type": "markdown",
   "source": "## Feedback of ESM results in the LCI database",
   "id": "592e27bdb400c58e"
  },
  {
   "metadata": {},
   "cell_type": "code",
   "source": [
    "esm.create_new_database_with_esm_results(  # creates a new database with the ESM results for 2020 and 2050\n",
    "    esm_results=results_from_esm,\n",
    "    new_end_use_types=new_end_use_types,\n",
    "    tech_to_remove_layers=technologies_to_remove_from_layers,\n",
    "    write_database=True,\n",
    "    remove_background_construction_flows=False,\n",
    "    harmonize_efficiency_with_esm=True,\n",
    "    harmonize_capacity_factor_with_esm=True,\n",
    ")"
   ],
   "id": "1c6f2022691226f3",
   "outputs": [],
   "execution_count": null
  },
  {
   "metadata": {},
   "cell_type": "code",
   "source": [
    "new_db = esm.connect_esm_results_to_database(\n",
    "    create_new_db=True,\n",
    "    new_db_name='main_database_with_esm_results_from_2020',\n",
    ")  # connects results of time step 1 (2020) to the database of time step 2 (2050)"
   ],
   "id": "5705a256597d78ad",
   "outputs": [],
   "execution_count": null
  }
 ],
 "metadata": {
  "kernelspec": {
   "display_name": "Python 3",
   "language": "python",
   "name": "python3"
  },
  "language_info": {
   "codemirror_mode": {
    "name": "ipython",
    "version": 2
   },
   "file_extension": ".py",
   "mimetype": "text/x-python",
   "name": "python",
   "nbconvert_exporter": "python",
   "pygments_lexer": "ipython2",
   "version": "2.7.6"
  }
 },
 "nbformat": 4,
 "nbformat_minor": 5
}
