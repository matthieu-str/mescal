{
 "cells": [
  {
   "metadata": {},
   "cell_type": "markdown",
   "source": "# Example of workflow with the EnergyScope model",
   "id": "31fd1fce722851de"
  },
  {
   "metadata": {
    "ExecuteTime": {
     "end_time": "2024-07-15T23:13:50.471634Z",
     "start_time": "2024-07-15T23:13:42.027294Z"
    }
   },
   "cell_type": "code",
   "source": [
    "# Import the required libraries\n",
    "from mescal import *\n",
    "import pandas as pd\n",
    "import bw2data as bd"
   ],
   "id": "f44d0206c77553fb",
   "outputs": [],
   "execution_count": 1
  },
  {
   "metadata": {
    "ExecuteTime": {
     "end_time": "2024-07-15T23:13:50.491521Z",
     "start_time": "2024-07-15T23:13:50.471634Z"
    }
   },
   "cell_type": "code",
   "source": [
    "ecoinvent_version = '3.9.1' # choose the ecoinvent version you wish to use\n",
    "esm_location = 'CA-QC' # choose the version of energyscope for which you want to generate metrics\n",
    "esm_year = 2020 # choose the year of the energyscope snapshot model or transition pathway time-step\n",
    "regionalized_database = True # set to True if you want to use your regionalized version of ecoinvent"
   ],
   "id": "3f3631dae300f9b3",
   "outputs": [],
   "execution_count": 2
  },
  {
   "metadata": {
    "ExecuteTime": {
     "end_time": "2024-07-15T23:13:50.993343Z",
     "start_time": "2024-07-15T23:13:50.491521Z"
    }
   },
   "cell_type": "code",
   "source": [
    "# Set up your Brightway project\n",
    "bd.projects.set_current(f'ecoinvent{ecoinvent_version}')  # put the name of your brightway project here"
   ],
   "id": "a4299dc7c3990f7",
   "outputs": [],
   "execution_count": 3
  },
  {
   "metadata": {
    "ExecuteTime": {
     "end_time": "2024-07-15T23:13:51.056229Z",
     "start_time": "2024-07-15T23:13:50.994858Z"
    }
   },
   "cell_type": "code",
   "source": [
    "mapping = pd.read_csv(f'../dev/energyscope_data/{esm_location}/mapping_{ecoinvent_version}.csv')\n",
    "unit_conversion = pd.read_csv(f'../dev/energyscope_data/{esm_location}/unit_conversion_{ecoinvent_version}.csv')\n",
    "mapping_esm_flows_to_CPC = pd.read_csv(f'../dev/energyscope_data/{esm_location}/mapping_esm_flows_to_CPC.csv')\n",
    "model = pd.read_csv(f'../dev/energyscope_data/{esm_location}/model.csv')\n",
    "technology_compositions = pd.read_csv(f'../dev/energyscope_data/{esm_location}/technology_compositions.csv')\n",
    "technology_specifics = pd.read_csv(f'../dev/energyscope_data/{esm_location}/technology_specifics.csv') \n",
    "lifetime = pd.read_csv(f'../dev/energyscope_data/{esm_location}/lifetime.csv')\n",
    "impact_abbrev = pd.read_csv('../dev/lcia/impact_abbrev.csv')\n",
    "technologies_to_remove_from_layers = pd.read_csv(f'../dev/energyscope_data/{esm_location}/technologies_to_remove_from_layers.csv')\n",
    "new_end_use_types = pd.read_csv(f'../dev/energyscope_data/{esm_location}/new_end_use_types.csv')\n",
    "premise_changes = pd.read_csv('../dev/data/premise_change_report.csv')"
   ],
   "id": "66421245fb089e3f",
   "outputs": [],
   "execution_count": 4
  },
  {
   "metadata": {},
   "cell_type": "markdown",
   "source": "## Add CPC categories to the premise database",
   "id": "d317e3d3cf676791"
  },
  {
   "metadata": {
    "ExecuteTime": {
     "end_time": "2024-07-15T22:30:43.791537Z",
     "start_time": "2024-07-15T22:30:43.784516Z"
    }
   },
   "cell_type": "code",
   "source": [
    "if regionalized_database:\n",
    "    name_premise_db = f\"ecoinvent_cutoff_{ecoinvent_version}_remind_SSP2-Base_{esm_year}+truck_carculator regionalized\"\n",
    "else:\n",
    "    name_premise_db = f\"ecoinvent_cutoff_{ecoinvent_version}_remind_SSP2-Base_{esm_year}\"\n",
    "name_premise_with_CPC_db = name_premise_db + '_with_CPC'"
   ],
   "id": "f0fe6950967a8258",
   "outputs": [],
   "execution_count": 5
  },
  {
   "metadata": {
    "ExecuteTime": {
     "end_time": "2024-07-15T22:30:43.799283Z",
     "start_time": "2024-07-15T22:30:43.791537Z"
    }
   },
   "cell_type": "code",
   "source": [
    "if name_premise_with_CPC_db not in bd.databases:\n",
    "    premise_db = load_extract_db(name_premise_db, create_pickle=True)\n",
    "    create_new_database_with_CPC_categories(db=premise_db, new_db_name=name_premise_with_CPC_db)"
   ],
   "id": "d32a1362e76a4ae4",
   "outputs": [],
   "execution_count": 6
  },
  {
   "metadata": {},
   "cell_type": "markdown",
   "source": "## Relinking the mapping file with a premise database",
   "id": "9f2f14bf04a47bf7"
  },
  {
   "metadata": {
    "ExecuteTime": {
     "end_time": "2024-07-15T22:30:48.598220Z",
     "start_time": "2024-07-15T22:30:43.800298Z"
    }
   },
   "cell_type": "code",
   "source": "premise_db_with_CPC = load_extract_db(name_premise_with_CPC_db, create_pickle=True)",
   "id": "79a7baead15bd268",
   "outputs": [],
   "execution_count": 7
  },
  {
   "metadata": {
    "ExecuteTime": {
     "end_time": "2024-07-15T22:30:48.605105Z",
     "start_time": "2024-07-15T22:30:48.598220Z"
    }
   },
   "cell_type": "code",
   "source": [
    "if not regionalized_database:\n",
    "    pass\n",
    "elif regionalized_database & (esm_location == 'CA-QC'):\n",
    "    mapping['Database'] = len(mapping) * [name_premise_with_CPC_db]\n",
    "else:\n",
    "    mapping['Database'] += ' regionalized'"
   ],
   "id": "33ab9315cfcea53",
   "outputs": [],
   "execution_count": 8
  },
  {
   "metadata": {
    "ExecuteTime": {
     "end_time": "2024-07-15T22:30:48.613887Z",
     "start_time": "2024-07-15T22:30:48.605105Z"
    }
   },
   "cell_type": "code",
   "source": "mapping = change_mapping_year(mapping, 2020, esm_year)",
   "id": "b8179b7bbd1075ae",
   "outputs": [
    {
     "name": "stdout",
     "output_type": "stream",
     "text": [
      "The mapping file is already for the year 2020\n"
     ]
    }
   ],
   "execution_count": 9
  },
  {
   "metadata": {
    "ExecuteTime": {
     "end_time": "2024-07-15T22:30:48.633579Z",
     "start_time": "2024-07-15T22:30:48.613887Z"
    }
   },
   "cell_type": "code",
   "source": "mapping.head()",
   "id": "d986b4dd83e841b9",
   "outputs": [
    {
     "data": {
      "text/plain": [
       "                 Name          Type  \\\n",
       "0              AEC_OG     Operation   \n",
       "1        AEC_OG_PLANT  Construction   \n",
       "2  AEC_OG_PLANT_DECOM  Construction   \n",
       "3        AEC_OG_STACK  Construction   \n",
       "4  AEC_OG_STACK_DECOM  Construction   \n",
       "\n",
       "                                      Product  \\\n",
       "0                   hydrogen, gaseous, 20 bar   \n",
       "1   electrolyzer, 1MWe, AEC, Balance of Plant   \n",
       "2  used fuel cell balance of plant, 1MWe, AEC   \n",
       "3              electrolyzer, 1MWe, AEC, Stack   \n",
       "4             used fuel cell stack, 1MWe, AEC   \n",
       "\n",
       "                                            Activity Location  \\\n",
       "0  hydrogen production, gaseous, 20 bar, from AEC...       CH   \n",
       "1  electrolyzer production, 1MWe, AEC, Balance of...      RER   \n",
       "2  treatment of fuel cell balance of plant, 1MWe,...      RER   \n",
       "3          electrolyzer production, 1MWe, AEC, Stack      RER   \n",
       "4            treatment of fuel cell stack, 1MWe, AEC      RER   \n",
       "\n",
       "                                            Database  \n",
       "0  ecoinvent_cutoff_3.9.1_remind_SSP2-Base_2020+t...  \n",
       "1  ecoinvent_cutoff_3.9.1_remind_SSP2-Base_2020+t...  \n",
       "2  ecoinvent_cutoff_3.9.1_remind_SSP2-Base_2020+t...  \n",
       "3  ecoinvent_cutoff_3.9.1_remind_SSP2-Base_2020+t...  \n",
       "4  ecoinvent_cutoff_3.9.1_remind_SSP2-Base_2020+t...  "
      ],
      "text/html": [
       "<div>\n",
       "<style scoped>\n",
       "    .dataframe tbody tr th:only-of-type {\n",
       "        vertical-align: middle;\n",
       "    }\n",
       "\n",
       "    .dataframe tbody tr th {\n",
       "        vertical-align: top;\n",
       "    }\n",
       "\n",
       "    .dataframe thead th {\n",
       "        text-align: right;\n",
       "    }\n",
       "</style>\n",
       "<table border=\"1\" class=\"dataframe\">\n",
       "  <thead>\n",
       "    <tr style=\"text-align: right;\">\n",
       "      <th></th>\n",
       "      <th>Name</th>\n",
       "      <th>Type</th>\n",
       "      <th>Product</th>\n",
       "      <th>Activity</th>\n",
       "      <th>Location</th>\n",
       "      <th>Database</th>\n",
       "    </tr>\n",
       "  </thead>\n",
       "  <tbody>\n",
       "    <tr>\n",
       "      <th>0</th>\n",
       "      <td>AEC_OG</td>\n",
       "      <td>Operation</td>\n",
       "      <td>hydrogen, gaseous, 20 bar</td>\n",
       "      <td>hydrogen production, gaseous, 20 bar, from AEC...</td>\n",
       "      <td>CH</td>\n",
       "      <td>ecoinvent_cutoff_3.9.1_remind_SSP2-Base_2020+t...</td>\n",
       "    </tr>\n",
       "    <tr>\n",
       "      <th>1</th>\n",
       "      <td>AEC_OG_PLANT</td>\n",
       "      <td>Construction</td>\n",
       "      <td>electrolyzer, 1MWe, AEC, Balance of Plant</td>\n",
       "      <td>electrolyzer production, 1MWe, AEC, Balance of...</td>\n",
       "      <td>RER</td>\n",
       "      <td>ecoinvent_cutoff_3.9.1_remind_SSP2-Base_2020+t...</td>\n",
       "    </tr>\n",
       "    <tr>\n",
       "      <th>2</th>\n",
       "      <td>AEC_OG_PLANT_DECOM</td>\n",
       "      <td>Construction</td>\n",
       "      <td>used fuel cell balance of plant, 1MWe, AEC</td>\n",
       "      <td>treatment of fuel cell balance of plant, 1MWe,...</td>\n",
       "      <td>RER</td>\n",
       "      <td>ecoinvent_cutoff_3.9.1_remind_SSP2-Base_2020+t...</td>\n",
       "    </tr>\n",
       "    <tr>\n",
       "      <th>3</th>\n",
       "      <td>AEC_OG_STACK</td>\n",
       "      <td>Construction</td>\n",
       "      <td>electrolyzer, 1MWe, AEC, Stack</td>\n",
       "      <td>electrolyzer production, 1MWe, AEC, Stack</td>\n",
       "      <td>RER</td>\n",
       "      <td>ecoinvent_cutoff_3.9.1_remind_SSP2-Base_2020+t...</td>\n",
       "    </tr>\n",
       "    <tr>\n",
       "      <th>4</th>\n",
       "      <td>AEC_OG_STACK_DECOM</td>\n",
       "      <td>Construction</td>\n",
       "      <td>used fuel cell stack, 1MWe, AEC</td>\n",
       "      <td>treatment of fuel cell stack, 1MWe, AEC</td>\n",
       "      <td>RER</td>\n",
       "      <td>ecoinvent_cutoff_3.9.1_remind_SSP2-Base_2020+t...</td>\n",
       "    </tr>\n",
       "  </tbody>\n",
       "</table>\n",
       "</div>"
      ]
     },
     "execution_count": 10,
     "metadata": {},
     "output_type": "execute_result"
    }
   ],
   "execution_count": 10
  },
  {
   "metadata": {
    "ExecuteTime": {
     "end_time": "2024-07-15T22:30:55.318061Z",
     "start_time": "2024-07-15T22:30:48.633579Z"
    }
   },
   "cell_type": "code",
   "source": [
    "base_db = load_multiple_databases(list(mapping['Database'].unique()))\n",
    "unlinked = test_mapping_file(mapping, base_db)"
   ],
   "id": "f9e791d97f89365b",
   "outputs": [
    {
     "name": "stdout",
     "output_type": "stream",
     "text": [
      "Mapping successfully linked to the database\n"
     ]
    }
   ],
   "execution_count": 11
  },
  {
   "metadata": {
    "ExecuteTime": {
     "end_time": "2024-07-15T22:31:02.161239Z",
     "start_time": "2024-07-15T22:30:55.318061Z"
    }
   },
   "cell_type": "code",
   "source": "mapping_linked_to_premise = create_complementary_database(mapping, premise_db_with_CPC, name_premise_db+f'_comp_{esm_location}', premise_changes)",
   "id": "fce77b87ca2eaf8a",
   "outputs": [
    {
     "name": "stdout",
     "output_type": "stream",
     "text": [
      "The complementary database did not have to be created\n"
     ]
    }
   ],
   "execution_count": 12
  },
  {
   "metadata": {
    "ExecuteTime": {
     "end_time": "2024-07-15T22:31:02.171679Z",
     "start_time": "2024-07-15T22:31:02.161239Z"
    }
   },
   "cell_type": "code",
   "source": [
    "if name_premise_db+f'_comp_{esm_location}' in bd.databases:\n",
    "    premise_comp_db = load_extract_db(name_premise_db+f'_comp_{esm_location}') # complementary database without CPC categories\n",
    "    create_new_database_with_CPC_categories(db=premise_comp_db, new_db_name=name_premise_db+f'_comp_{esm_location}')\n",
    "    premise_comp_db = load_extract_db(name_premise_db+f'_comp_{esm_location}') # complementary database with CPC categories\n",
    "    main_db = premise_db_with_CPC + premise_comp_db\n",
    "else:\n",
    "    main_db = premise_db_with_CPC"
   ],
   "id": "a4a0bf94e0740fee",
   "outputs": [],
   "execution_count": 13
  },
  {
   "metadata": {},
   "cell_type": "markdown",
   "source": "## Change location according to user ranking",
   "id": "662fdba67693053b"
  },
  {
   "metadata": {
    "ExecuteTime": {
     "end_time": "2024-07-15T22:31:02.182083Z",
     "start_time": "2024-07-15T22:31:02.171679Z"
    }
   },
   "cell_type": "code",
   "source": [
    "# Define the user-defined ranking\n",
    "if esm_location == 'CA-QC':\n",
    "    my_ranking = [\n",
    "        'CA-QC', # Quebec\n",
    "        'CA', # Canada\n",
    "        'CAN', # Canada in IMAGE\n",
    "        'CA-ON', # Other canadian provinces \n",
    "        'CA-AB',\n",
    "        'CA-BC',\n",
    "        'CA-MB',\n",
    "        'CA-NB',\n",
    "        'CA-NF',\n",
    "        'CA-NS',\n",
    "        'CA-NT',\n",
    "        'CA-NU',\n",
    "        'CA-PE',\n",
    "        'CAZ', # Canada - Australia - New Zealand in REMIND\n",
    "        'RNA', # North America\n",
    "        'US', # United States\n",
    "        'USA', # United States in REMIND and IMAGE\n",
    "        'GLO', # Global average \n",
    "        'RoW', # Rest of the world\n",
    "    ]\n",
    "elif esm_location == 'CH':\n",
    "    my_ranking = [\n",
    "        'CH', \n",
    "        'RER', \n",
    "        'IAI Area, EU27 & EFTA',\n",
    "        'NEU',\n",
    "        'EUR',\n",
    "        'GLO',\n",
    "        'RoW'\n",
    "    ]\n",
    "else:\n",
    "    my_ranking = [\n",
    "        'GLO',\n",
    "        'RoW',\n",
    "    ]"
   ],
   "id": "7d1c9fe18d89a83d",
   "outputs": [],
   "execution_count": 14
  },
  {
   "metadata": {
    "ExecuteTime": {
     "end_time": "2024-07-15T22:31:02.190453Z",
     "start_time": "2024-07-15T22:31:02.182083Z"
    }
   },
   "cell_type": "code",
   "source": [
    "# sufficient match within ecoinvent\n",
    "if esm_location == 'CA-QC':\n",
    "    accepted_locations = ['CA-QC', 'CA']  \n",
    "elif esm_location == 'CH':\n",
    "    accepted_locations = ['CH'] \n",
    "else:\n",
    "    accepted_locations = ['GLO', 'RoW'] "
   ],
   "id": "71c8c75d0c37ad46",
   "outputs": [],
   "execution_count": 15
  },
  {
   "metadata": {
    "ExecuteTime": {
     "end_time": "2024-07-15T22:31:16.026601Z",
     "start_time": "2024-07-15T22:31:02.190453Z"
    }
   },
   "cell_type": "code",
   "source": [
    "# Update mapping dataframe\n",
    "mapping_linked_to_premise = change_location_mapping_file(mapping_linked_to_premise, my_ranking, premise_db_with_CPC, esm_location)"
   ],
   "id": "2b790b208965a5c1",
   "outputs": [],
   "execution_count": 16
  },
  {
   "metadata": {
    "ExecuteTime": {
     "end_time": "2024-07-15T22:31:16.039080Z",
     "start_time": "2024-07-15T22:31:16.026601Z"
    }
   },
   "cell_type": "code",
   "source": "mapping_linked_to_premise.head()",
   "id": "31a5ff20692e18e",
   "outputs": [
    {
     "data": {
      "text/plain": [
       "                 Name          Type  \\\n",
       "0              AEC_OG     Operation   \n",
       "1        AEC_OG_PLANT  Construction   \n",
       "2  AEC_OG_PLANT_DECOM  Construction   \n",
       "3        AEC_OG_STACK  Construction   \n",
       "4  AEC_OG_STACK_DECOM  Construction   \n",
       "\n",
       "                                      Product  \\\n",
       "0                   hydrogen, gaseous, 20 bar   \n",
       "1   electrolyzer, 1MWe, AEC, Balance of Plant   \n",
       "2  used fuel cell balance of plant, 1MWe, AEC   \n",
       "3              electrolyzer, 1MWe, AEC, Stack   \n",
       "4             used fuel cell stack, 1MWe, AEC   \n",
       "\n",
       "                                            Activity Location  \\\n",
       "0  hydrogen production, gaseous, 20 bar, from AEC...       CH   \n",
       "1  electrolyzer production, 1MWe, AEC, Balance of...      RER   \n",
       "2  treatment of fuel cell balance of plant, 1MWe,...      RER   \n",
       "3          electrolyzer production, 1MWe, AEC, Stack      RER   \n",
       "4            treatment of fuel cell stack, 1MWe, AEC      RER   \n",
       "\n",
       "                                            Database  \n",
       "0  ecoinvent_cutoff_3.9.1_remind_SSP2-Base_2020+t...  \n",
       "1  ecoinvent_cutoff_3.9.1_remind_SSP2-Base_2020+t...  \n",
       "2  ecoinvent_cutoff_3.9.1_remind_SSP2-Base_2020+t...  \n",
       "3  ecoinvent_cutoff_3.9.1_remind_SSP2-Base_2020+t...  \n",
       "4  ecoinvent_cutoff_3.9.1_remind_SSP2-Base_2020+t...  "
      ],
      "text/html": [
       "<div>\n",
       "<style scoped>\n",
       "    .dataframe tbody tr th:only-of-type {\n",
       "        vertical-align: middle;\n",
       "    }\n",
       "\n",
       "    .dataframe tbody tr th {\n",
       "        vertical-align: top;\n",
       "    }\n",
       "\n",
       "    .dataframe thead th {\n",
       "        text-align: right;\n",
       "    }\n",
       "</style>\n",
       "<table border=\"1\" class=\"dataframe\">\n",
       "  <thead>\n",
       "    <tr style=\"text-align: right;\">\n",
       "      <th></th>\n",
       "      <th>Name</th>\n",
       "      <th>Type</th>\n",
       "      <th>Product</th>\n",
       "      <th>Activity</th>\n",
       "      <th>Location</th>\n",
       "      <th>Database</th>\n",
       "    </tr>\n",
       "  </thead>\n",
       "  <tbody>\n",
       "    <tr>\n",
       "      <th>0</th>\n",
       "      <td>AEC_OG</td>\n",
       "      <td>Operation</td>\n",
       "      <td>hydrogen, gaseous, 20 bar</td>\n",
       "      <td>hydrogen production, gaseous, 20 bar, from AEC...</td>\n",
       "      <td>CH</td>\n",
       "      <td>ecoinvent_cutoff_3.9.1_remind_SSP2-Base_2020+t...</td>\n",
       "    </tr>\n",
       "    <tr>\n",
       "      <th>1</th>\n",
       "      <td>AEC_OG_PLANT</td>\n",
       "      <td>Construction</td>\n",
       "      <td>electrolyzer, 1MWe, AEC, Balance of Plant</td>\n",
       "      <td>electrolyzer production, 1MWe, AEC, Balance of...</td>\n",
       "      <td>RER</td>\n",
       "      <td>ecoinvent_cutoff_3.9.1_remind_SSP2-Base_2020+t...</td>\n",
       "    </tr>\n",
       "    <tr>\n",
       "      <th>2</th>\n",
       "      <td>AEC_OG_PLANT_DECOM</td>\n",
       "      <td>Construction</td>\n",
       "      <td>used fuel cell balance of plant, 1MWe, AEC</td>\n",
       "      <td>treatment of fuel cell balance of plant, 1MWe,...</td>\n",
       "      <td>RER</td>\n",
       "      <td>ecoinvent_cutoff_3.9.1_remind_SSP2-Base_2020+t...</td>\n",
       "    </tr>\n",
       "    <tr>\n",
       "      <th>3</th>\n",
       "      <td>AEC_OG_STACK</td>\n",
       "      <td>Construction</td>\n",
       "      <td>electrolyzer, 1MWe, AEC, Stack</td>\n",
       "      <td>electrolyzer production, 1MWe, AEC, Stack</td>\n",
       "      <td>RER</td>\n",
       "      <td>ecoinvent_cutoff_3.9.1_remind_SSP2-Base_2020+t...</td>\n",
       "    </tr>\n",
       "    <tr>\n",
       "      <th>4</th>\n",
       "      <td>AEC_OG_STACK_DECOM</td>\n",
       "      <td>Construction</td>\n",
       "      <td>used fuel cell stack, 1MWe, AEC</td>\n",
       "      <td>treatment of fuel cell stack, 1MWe, AEC</td>\n",
       "      <td>RER</td>\n",
       "      <td>ecoinvent_cutoff_3.9.1_remind_SSP2-Base_2020+t...</td>\n",
       "    </tr>\n",
       "  </tbody>\n",
       "</table>\n",
       "</div>"
      ]
     },
     "execution_count": 17,
     "metadata": {},
     "output_type": "execute_result"
    }
   ],
   "execution_count": 17
  },
  {
   "metadata": {
    "ExecuteTime": {
     "end_time": "2024-07-15T22:31:16.044793Z",
     "start_time": "2024-07-15T22:31:16.039080Z"
    }
   },
   "cell_type": "code",
   "source": "# mapping_linked_to_premise.to_csv(f'../dev/energyscope_data/{esm_location}/mapping_{ecoinvent_version}_linked.csv', index=False)",
   "id": "bdb10645a490e814",
   "outputs": [],
   "execution_count": 18
  },
  {
   "metadata": {},
   "cell_type": "markdown",
   "source": "## Perform double-counting removal",
   "id": "53ace1fce9612c03"
  },
  {
   "metadata": {
    "ExecuteTime": {
     "end_time": "2024-07-15T22:31:16.054864Z",
     "start_time": "2024-07-15T22:31:16.045800Z"
    }
   },
   "cell_type": "code",
   "source": "mapping_linked_to_premise = mapping_linked_to_premise[mapping_linked_to_premise['Type'] != 'Flow']",
   "id": "f5bbb5afc1016223",
   "outputs": [],
   "execution_count": 19
  },
  {
   "metadata": {
    "ExecuteTime": {
     "end_time": "2024-07-15T22:31:16.060462Z",
     "start_time": "2024-07-15T22:31:16.054864Z"
    }
   },
   "cell_type": "code",
   "source": "new_db_name = f'energyscope_{esm_location}_{esm_year}'",
   "id": "5d9ff191952eb5d8",
   "outputs": [],
   "execution_count": 20
  },
  {
   "metadata": {
    "ExecuteTime": {
     "end_time": "2024-07-15T22:31:16.068318Z",
     "start_time": "2024-07-15T22:31:16.061468Z"
    }
   },
   "cell_type": "code",
   "source": "regionalize_foregrounds = True # Set to True if you want to regionalize foregrounds",
   "id": "1454662e2929ea39",
   "outputs": [],
   "execution_count": 21
  },
  {
   "metadata": {
    "ExecuteTime": {
     "end_time": "2024-07-15T22:53:49.966343Z",
     "start_time": "2024-07-15T22:31:16.068318Z"
    }
   },
   "cell_type": "code",
   "source": [
    "mapping_linked_to_premise_new_code = create_esm_database(\n",
    "    mapping=mapping_linked_to_premise,\n",
    "    model=model,\n",
    "    tech_specifics=technology_specifics,\n",
    "    technology_compositions=technology_compositions,\n",
    "    mapping_esm_flows_to_CPC_cat=mapping_esm_flows_to_CPC,\n",
    "    main_database=main_db,\n",
    "    esm_db_name=new_db_name,\n",
    "    regionalize_foregrounds=regionalize_foregrounds,\n",
    "    accepted_locations=accepted_locations,\n",
    "    target_region=esm_location,\n",
    "    locations_ranking=my_ranking,\n",
    "    results_path_file=f'results/energyscope_{esm_location}/{esm_year}/',\n",
    ")"
   ],
   "id": "20a7850a82ba8450",
   "outputs": [
    {
     "name": "stdout",
     "output_type": "stream",
     "text": [
      "AEC_OG\n",
      "AFC\n",
      "AFC_OG\n",
      "ALKALINE_ELECTROLYSIS\n",
      "AL_MAKING\n",
      "AL_MAKING_HR\n",
      "AN_DIG\n",
      "AN_DIG_SI\n",
      "ATR\n",
      "ATR_CCS\n",
      "BIOGAS_ATR\n",
      "BIOGAS_ATR_CCS\n",
      "BIOGAS_BIOMETHANE\n",
      "BIOGAS_SMR\n",
      "BIOGAS_SMR_CCS\n",
      "BIOMASS_ETHANOL\n",
      "BIOMASS_GAS_EF_H2\n",
      "BIOMASS_GAS_EF_H2_CCS\n",
      "BIOMASS_GAS_FB_H2\n",
      "BIOMASS_GAS_FB_H2_CCS\n",
      "BUS_BIODIESEL_B100_SD\n",
      "BUS_BIODIESEL_B20_SD\n",
      "BUS_CNG_SD\n",
      "BUS_DIESEL_SD\n",
      "BUS_EV_SD\n",
      "BUS_FC_CH4_SD\n",
      "BUS_FC_H2_SD\n",
      "BUS_HY_DIESEL_SD\n",
      "BUS_PROPANE_SD\n",
      "CAR_BIODIESEL_B100_ELD\n",
      "CAR_BIODIESEL_B100_LD\n",
      "CAR_BIODIESEL_B100_MD\n",
      "CAR_BIODIESEL_B100_SD\n",
      "CAR_BIODIESEL_B20_ELD\n",
      "CAR_BIODIESEL_B20_LD\n",
      "CAR_BIODIESEL_B20_MD\n",
      "CAR_BIODIESEL_B20_SD\n",
      "CAR_CNG_ELD\n",
      "CAR_CNG_LD\n",
      "CAR_CNG_MD\n",
      "CAR_CNG_SD\n",
      "CAR_DIESEL_ELD\n",
      "CAR_DIESEL_LD\n",
      "CAR_DIESEL_MD\n",
      "CAR_DIESEL_SD\n",
      "CAR_ETOH_E10_ELD\n",
      "CAR_ETOH_E10_LD\n",
      "CAR_ETOH_E10_MD\n",
      "CAR_ETOH_E10_SD\n",
      "CAR_ETOH_E85_ELD\n",
      "CAR_ETOH_E85_LD\n",
      "CAR_ETOH_E85_MD\n",
      "CAR_ETOH_E85_SD\n",
      "CAR_EV_ELD\n",
      "CAR_EV_LD\n",
      "CAR_EV_MD\n",
      "CAR_EV_SD\n",
      "CAR_FC_CH4_ELD\n",
      "CAR_FC_CH4_LD\n",
      "CAR_FC_CH4_MD\n",
      "CAR_FC_CH4_SD\n",
      "CAR_FC_H2_ELD\n",
      "CAR_FC_H2_LD\n",
      "CAR_FC_H2_MD\n",
      "CAR_FC_H2_SD\n",
      "CAR_GASOLINE_ELD\n",
      "CAR_GASOLINE_LD\n",
      "CAR_GASOLINE_MD\n",
      "CAR_GASOLINE_SD\n",
      "CAR_HY_GASOLINE_ELD\n",
      "CAR_HY_GASOLINE_LD\n",
      "CAR_HY_GASOLINE_MD\n",
      "CAR_HY_GASOLINE_SD\n",
      "CAR_PHEV_GASOLINE_ELD\n",
      "CAR_PHEV_GASOLINE_LD\n",
      "CAR_PHEV_GASOLINE_MD\n",
      "CAR_PHEV_GASOLINE_SD\n",
      "CAR_PROPANE_ELD\n",
      "CAR_PROPANE_LD\n",
      "CAR_PROPANE_MD\n",
      "CAR_PROPANE_SD\n",
      "CCGT\n",
      "CCGT_CC\n",
      "CEMENT_PROD\n",
      "CEMENT_PROD_HP\n",
      "CO2_METHANOL\n",
      "CO2_TO_DIESEL\n",
      "CO2_TO_JETFUELS\n",
      "COACH_BIODIESEL_B100_ELD\n",
      "COACH_BIODIESEL_B100_LD\n",
      "COACH_BIODIESEL_B100_MD\n",
      "COACH_BIODIESEL_B20_ELD\n",
      "COACH_BIODIESEL_B20_LD\n",
      "COACH_BIODIESEL_B20_MD\n",
      "COACH_CNG_ELD\n",
      "COACH_CNG_LD\n",
      "COACH_CNG_MD\n",
      "COACH_DIESEL_ELD\n",
      "COACH_DIESEL_LD\n",
      "COACH_DIESEL_MD\n",
      "COACH_ETOH_E10_ELD\n",
      "COACH_ETOH_E10_LD\n",
      "COACH_ETOH_E10_MD\n",
      "COACH_EV_ELD\n",
      "COACH_EV_LD\n",
      "COACH_EV_MD\n",
      "COACH_FC_CH4_ELD\n",
      "COACH_FC_CH4_LD\n",
      "COACH_FC_CH4_MD\n",
      "COACH_GASOLINE_ELD\n",
      "COACH_GASOLINE_LD\n",
      "COACH_GASOLINE_MD\n",
      "COACH_PROPANE_ELD\n",
      "COACH_PROPANE_LD\n",
      "COACH_PROPANE_MD\n",
      "COAL_GAS_H2\n",
      "COAL_GAS_H2_ADV\n",
      "COAL_GAS_H2_ADV_CCS\n",
      "COAL_GAS_H2_CCS\n",
      "COAL_IGCC\n",
      "COAL_IGCC_CC\n",
      "COAL_US\n",
      "COAL_US_CC\n",
      "CROPS_TO_ETHANOL\n",
      "CROPS_TO_JETFUELS\n",
      "CUMENE_PROCESS\n",
      "DAC_HT\n",
      "DAC_LT\n",
      "DEC_BOILER_GAS\n",
      "DEC_BOILER_OIL\n",
      "DEC_BOILER_WOOD\n",
      "DEC_COGEN_GAS\n",
      "DEC_COGEN_OIL\n",
      "DEC_COGEN_WOOD\n",
      "DEC_DEEP_GEO\n",
      "DEC_DIRECT_ELEC\n",
      "DEC_HP_ELEC\n",
      "DEC_THHP_GAS\n",
      "DEEP_SALINE\n",
      "DHN_BOILER_GAS\n",
      "DHN_BOILER_OIL\n",
      "DHN_BOILER_WOOD\n",
      "DHN_COGEN_GAS\n",
      "DHN_COGEN_WASTE\n",
      "DHN_COGEN_WOOD\n",
      "DHN_DEEP_GEO\n",
      "DHN_HP_ELEC\n",
      "DIESEL_GEN\n",
      "DIRECT_USAGE\n",
      "DOGR\n",
      "EHP_H2_GRID\n",
      "EHP_NG_GRID\n",
      "EOR\n",
      "ETHANE_CRACKING\n",
      "ETHANE_OXIDATION\n",
      "ETHANE_TO_ETHYLENE\n",
      "ETHANOL_TO_JETFUELS\n",
      "ETHYLENE_POLYMERIZATION\n",
      "FOOD_PROD\n",
      "FOOD_PROD_HP\n",
      "FOOD_PROD_HR\n",
      "FT\n",
      "GASIFICATION_H2\n",
      "GASIFICATION_SNG\n",
      "GEOTHERMAL\n",
      "H2_CCGT\n",
      "H2_COMP_100\n",
      "H2_COMP_100_350\n",
      "H2_COMP_200\n",
      "H2_COMP_200_350\n",
      "H2_COMP_HE\n",
      "H2_COMP_LM\n",
      "H2_COMP_MH\n",
      "H2_EXP_EH\n",
      "H2_EXP_EH_COGEN\n",
      "H2_EXP_HM\n",
      "H2_EXP_HM_COGEN\n",
      "H2_EXP_ML\n",
      "H2_EXP_ML_COGEN\n",
      "H2_Haber_Bosch\n",
      "H2_NG_CCGT\n",
      "H2_STO\n",
      "HP_H2_GRID\n",
      "HP_NG_GRID\n",
      "HT_LT_DEC\n",
      "HYDRO_DAM\n",
      "HYDRO_GAS\n",
      "HYDRO_GAS_CHP\n",
      "HYDRO_RIVER\n",
      "HYDRO_STORAGE\n",
      "IND_BOILER_COAL\n",
      "IND_BOILER_GAS\n",
      "IND_BOILER_OIL\n",
      "IND_BOILER_WASTE\n",
      "IND_BOILER_WOOD\n",
      "IND_COGEN_GAS\n",
      "IND_COGEN_WASTE\n",
      "IND_COGEN_WOOD\n",
      "IND_DIRECT_ELEC\n",
      "IND_HP_ELEC\n",
      "LCV_BIODIESEL_B100_MD\n",
      "LCV_BIODIESEL_B100_SD\n",
      "LCV_BIODIESEL_B20_MD\n",
      "LCV_BIODIESEL_B20_SD\n",
      "LCV_CNG_MD\n",
      "LCV_CNG_SD\n",
      "LCV_DIESEL_MD\n",
      "LCV_DIESEL_SD\n",
      "LCV_ETOH_E10_MD\n",
      "LCV_ETOH_E10_SD\n",
      "LCV_ETOH_E85_MD\n",
      "LCV_ETOH_E85_SD\n",
      "LCV_EV_MD\n",
      "LCV_EV_SD\n",
      "LCV_FC_CH4_MD\n",
      "LCV_FC_CH4_SD\n",
      "LCV_FC_H2_MD\n",
      "LCV_FC_H2_SD\n",
      "LCV_GASOLINE_MD\n",
      "LCV_GASOLINE_SD\n",
      "LCV_PHEV_GASOLINE_MD\n",
      "LCV_PHEV_GASOLINE_SD\n",
      "LCV_PROPANE_MD\n",
      "LCV_PROPANE_SD\n",
      "LP_H2_GRID\n",
      "LP_NG_GRID\n",
      "METATHESIS_PROPYLENE\n",
      "METHANATION\n",
      "METHANE_TO_METHANOL\n",
      "METHANOL_CARBONYLATION\n",
      "METHANOL_FT\n",
      "METHANOL_TO_AROMATICS\n",
      "METHANOL_TO_OLEFINS\n",
      "MINES_STORAGE\n",
      "MP_H2_GRID\n",
      "MP_NG_GRID\n",
      "NEW_HYDRO_DAM\n",
      "NEW_HYDRO_RIVER\n",
      "NG_COMP_HE\n",
      "NG_COMP_LM\n",
      "NG_COMP_MH\n",
      "NG_EXP_EH\n",
      "NG_EXP_EH_COGEN\n",
      "NG_EXP_HM\n",
      "NG_EXP_HM_COGEN\n",
      "NG_EXP_ML\n",
      "NG_EXP_ML_COGEN\n",
      "NG_GEN\n",
      "NG_PYROLYSIS_PLASMA\n",
      "NG_PYROLYSIS_THERMAL\n",
      "NG_REFORMING\n",
      "NUCLEAR\n",
      "OCGT_LARGE\n",
      "OCGT_SMALL\n",
      "PAFC\n",
      "PAFC_OG\n",
      "PAPER_MAKING\n",
      "PAPER_MAKING_HP\n",
      "PAPER_MAKING_HR\n",
      "PEMEC_OG\n",
      "PEM_ELECTROLYSIS\n",
      "PET_FORMATION\n",
      "PLANE_FREIGHT_ELD\n",
      "PLANE_LH_ELD\n",
      "PLANE_SH_LD\n",
      "POLYPROPYLENE_PP\n",
      "PV\n",
      "PVC_FORMATION\n",
      "PV_EHV\n",
      "PYROLYSIS\n",
      "SCHOOLBUS_BIODIESEL_B100_SD\n",
      "SCHOOLBUS_BIODIESEL_B20_SD\n",
      "SCHOOLBUS_CNG_SD\n",
      "SCHOOLBUS_DIESEL_SD\n",
      "SCHOOLBUS_ETOH_E10_SD\n",
      "SCHOOLBUS_EV_SD\n",
      "SCHOOLBUS_FC_CH4_SD\n",
      "SCHOOLBUS_GASOLINE_SD\n",
      "SCHOOLBUS_HY_DIESEL_SD\n",
      "SCHOOLBUS_PROPANE_SD\n",
      "SEMI_LH_BIODIESEL_B100_ELD\n",
      "SEMI_LH_BIODIESEL_B100_LD\n",
      "SEMI_LH_BIODIESEL_B20_ELD\n",
      "SEMI_LH_BIODIESEL_B20_LD\n",
      "SEMI_LH_CNG_ELD\n",
      "SEMI_LH_CNG_LD\n",
      "SEMI_LH_DIESEL_ELD\n",
      "SEMI_LH_DIESEL_LD\n",
      "SEMI_LH_EV_ELD\n",
      "SEMI_LH_EV_LD\n",
      "SEMI_LH_FC_CH4_ELD\n",
      "SEMI_LH_FC_CH4_LD\n",
      "SEMI_LH_FC_H2_ELD\n",
      "SEMI_LH_FC_H2_LD\n",
      "SEMI_LH_HY_DIESEL_ELD\n",
      "SEMI_LH_HY_DIESEL_LD\n",
      "SEMI_LH_PROPANE_ELD\n",
      "SEMI_LH_PROPANE_LD\n",
      "SEMI_SH_BIODIESEL_B100_MD\n",
      "SEMI_SH_BIODIESEL_B20_MD\n",
      "SEMI_SH_CNG_MD\n",
      "SEMI_SH_DIESEL_MD\n",
      "SEMI_SH_EV_MD\n",
      "SEMI_SH_FC_CH4_MD\n",
      "SEMI_SH_FC_H2_MD\n",
      "SEMI_SH_HY_DIESEL_MD\n",
      "SEMI_SH_PROPANE_MD\n",
      "SMART_PROCESS\n",
      "SMR\n",
      "SMR_CCS\n",
      "SNG_NG\n",
      "SOEC_ELECTROLYSIS\n",
      "SOEC_OG\n",
      "SOFC\n",
      "SOFC_OG\n",
      "STEEL_MAKING\n",
      "STEEL_MAKING_HP\n",
      "STEEL_MAKING_HR\n",
      "STYRENE_POLYMERIZATION\n",
      "SUV_BIODIESEL_B100_ELD\n",
      "SUV_BIODIESEL_B100_LD\n",
      "SUV_BIODIESEL_B100_MD\n",
      "SUV_BIODIESEL_B100_SD\n",
      "SUV_BIODIESEL_B20_ELD\n",
      "SUV_BIODIESEL_B20_LD\n",
      "SUV_BIODIESEL_B20_MD\n",
      "SUV_BIODIESEL_B20_SD\n",
      "SUV_CNG_ELD\n",
      "SUV_CNG_LD\n",
      "SUV_CNG_MD\n",
      "SUV_CNG_SD\n",
      "SUV_DIESEL_ELD\n",
      "SUV_DIESEL_LD\n",
      "SUV_DIESEL_MD\n",
      "SUV_DIESEL_SD\n",
      "SUV_ETOH_E10_ELD\n",
      "SUV_ETOH_E10_LD\n",
      "SUV_ETOH_E10_MD\n",
      "SUV_ETOH_E10_SD\n",
      "SUV_ETOH_E85_ELD\n",
      "SUV_ETOH_E85_LD\n",
      "SUV_ETOH_E85_MD\n",
      "SUV_ETOH_E85_SD\n",
      "SUV_EV_ELD\n",
      "SUV_EV_LD\n",
      "SUV_EV_MD\n",
      "SUV_EV_SD\n",
      "SUV_FC_CH4_ELD\n",
      "SUV_FC_CH4_LD\n",
      "SUV_FC_CH4_MD\n",
      "SUV_FC_CH4_SD\n",
      "SUV_FC_H2_ELD\n",
      "SUV_FC_H2_LD\n",
      "SUV_FC_H2_MD\n",
      "SUV_FC_H2_SD\n",
      "SUV_GASOLINE_ELD\n",
      "SUV_GASOLINE_LD\n",
      "SUV_GASOLINE_MD\n",
      "SUV_GASOLINE_SD\n",
      "SUV_HY_GASOLINE_ELD\n",
      "SUV_HY_GASOLINE_LD\n",
      "SUV_HY_GASOLINE_MD\n",
      "SUV_HY_GASOLINE_SD\n",
      "SUV_PHEV_GASOLINE_ELD\n",
      "SUV_PHEV_GASOLINE_LD\n",
      "SUV_PHEV_GASOLINE_MD\n",
      "SUV_PHEV_GASOLINE_SD\n",
      "SUV_PROPANE_ELD\n",
      "SUV_PROPANE_LD\n",
      "SUV_PROPANE_MD\n",
      "SUV_PROPANE_SD\n",
      "TIDAL\n",
      "TRAFO_EH\n",
      "TRAFO_HE\n",
      "TRAFO_HM\n",
      "TRAFO_LM\n",
      "TRAFO_MH\n",
      "TRAFO_ML\n",
      "TRAIN_DIESEL_ELD\n",
      "TRAIN_DIESEL_LD\n",
      "TRAIN_FREIGHT_DIESEL_ELD\n",
      "TRAIN_FREIGHT_DIESEL_LD\n",
      "TRAIN_FREIGHT_H2_ELD\n",
      "TRAIN_FREIGHT_H2_HYBRID_ELD\n",
      "TRAIN_FREIGHT_H2_HYBRID_LD\n",
      "TRAIN_FREIGHT_H2_LD\n",
      "TRAIN_H2_ELD\n",
      "TRAIN_H2_LD\n",
      "TRAMWAY_SD\n",
      "TRUCK_LH_BIODIESEL_B100_LD\n",
      "TRUCK_LH_BIODIESEL_B20_LD\n",
      "TRUCK_LH_CNG_LD\n",
      "TRUCK_LH_DIESEL_LD\n",
      "TRUCK_LH_EV_LD\n",
      "TRUCK_LH_FC_CH4_LD\n",
      "TRUCK_LH_HY_DIESEL_LD\n",
      "TRUCK_LH_PROPANE_LD\n",
      "TRUCK_SH_BIODIESEL_B100_MD\n",
      "TRUCK_SH_BIODIESEL_B100_SD\n",
      "TRUCK_SH_BIODIESEL_B20_MD\n",
      "TRUCK_SH_BIODIESEL_B20_SD\n",
      "TRUCK_SH_CNG_MD\n",
      "TRUCK_SH_CNG_SD\n",
      "TRUCK_SH_DIESEL_MD\n",
      "TRUCK_SH_DIESEL_SD\n",
      "TRUCK_SH_EV_MD\n",
      "TRUCK_SH_EV_SD\n",
      "TRUCK_SH_FC_CH4_MD\n",
      "TRUCK_SH_FC_CH4_SD\n",
      "TRUCK_SH_HY_DIESEL_MD\n",
      "TRUCK_SH_HY_DIESEL_SD\n",
      "TRUCK_SH_PROPANE_MD\n",
      "TRUCK_SH_PROPANE_SD\n",
      "UNMINEABLE_COAL_SEAM\n",
      "WIND_OFFSHORE\n",
      "WIND_ONSHORE\n",
      "WOOD_METHANOL\n",
      "Vacuuming database \n"
     ]
    },
    {
     "name": "stderr",
     "output_type": "stream",
     "text": [
      "Writing activities to SQLite3 database:\n",
      "0% [##############################] 100% | ETA: 00:00:00\n",
      "Total time elapsed: 00:00:02\n"
     ]
    },
    {
     "name": "stdout",
     "output_type": "stream",
     "text": [
      "Title: Writing activities to SQLite3 database:\n",
      "  Started: 07/15/2024 18:48:43\n",
      "  Finished: 07/15/2024 18:48:45\n",
      "  Total time elapsed: 00:00:02\n",
      "  CPU %: 44.80\n",
      "  Memory %: 14.82\n"
     ]
    }
   ],
   "execution_count": 22
  },
  {
   "metadata": {},
   "cell_type": "markdown",
   "source": "## Computing the LCA metrics",
   "id": "c8966b7d4073c844"
  },
  {
   "metadata": {
    "ExecuteTime": {
     "end_time": "2024-07-15T22:53:53.085437Z",
     "start_time": "2024-07-15T22:53:49.966343Z"
    }
   },
   "cell_type": "code",
   "source": "esm_db = load_extract_db(new_db_name)",
   "id": "346a097bc95ba505",
   "outputs": [
    {
     "name": "stdout",
     "output_type": "stream",
     "text": [
      "Getting activity data\n"
     ]
    },
    {
     "name": "stderr",
     "output_type": "stream",
     "text": [
      "100%|██████████| 1440/1440 [00:00<00:00, 144908.78it/s]\n"
     ]
    },
    {
     "name": "stdout",
     "output_type": "stream",
     "text": [
      "Adding exchange data to activities\n"
     ]
    },
    {
     "name": "stderr",
     "output_type": "stream",
     "text": [
      "100%|██████████| 36841/36841 [00:00<00:00, 38498.41it/s]\n"
     ]
    },
    {
     "name": "stdout",
     "output_type": "stream",
     "text": [
      "Filling out exchange data\n"
     ]
    },
    {
     "name": "stderr",
     "output_type": "stream",
     "text": [
      "100%|██████████| 1440/1440 [00:01<00:00, 730.81it/s] \n"
     ]
    }
   ],
   "execution_count": 23
  },
  {
   "metadata": {
    "ExecuteTime": {
     "end_time": "2024-07-15T23:08:21.950709Z",
     "start_time": "2024-07-15T22:53:53.085437Z"
    }
   },
   "cell_type": "code",
   "source": [
    "R_long = compute_impact_scores(\n",
    "    esm_db=esm_db,\n",
    "    mapping=mapping_linked_to_premise_new_code,\n",
    "    technology_compositions=technology_compositions,\n",
    "    # methods=['IMPACT World+ Midpoint 2.0.1', 'IMPACT World+ Damage 2.0.1', 'IMPACT World+ Footprint 2.0.1'],\n",
    "    methods=['IMPACT World+ Midpoint 2.0.1_regionalized', 'IMPACT World+ Damage 2.0.1_regionalized'],\n",
    "    # methods=['PB LCIA'],\n",
    "    unit_conversion=unit_conversion,\n",
    "    lifetime=lifetime,\n",
    ")"
   ],
   "id": "c7b7e609caf81b89",
   "outputs": [],
   "execution_count": 24
  },
  {
   "metadata": {
    "ExecuteTime": {
     "end_time": "2024-07-15T23:08:22.238516Z",
     "start_time": "2024-07-15T23:08:21.953234Z"
    }
   },
   "cell_type": "code",
   "source": "R_long.to_csv(f'results/energyscope_{esm_location}/{esm_year}/impact_scores.csv', index=False)",
   "id": "79a737bba653ca3d",
   "outputs": [],
   "execution_count": 25
  },
  {
   "metadata": {},
   "cell_type": "markdown",
   "source": "## Convert the results in AMPL format",
   "id": "6719986c7eebe773"
  },
  {
   "metadata": {
    "ExecuteTime": {
     "end_time": "2024-07-15T23:14:08.048166Z",
     "start_time": "2024-07-15T23:14:07.942072Z"
    }
   },
   "cell_type": "code",
   "source": "# R_long = pd.read_csv(f'results/energyscope_{esm_location}/{esm_year}/impact_scores.csv')",
   "id": "e1f067c62463d915",
   "outputs": [],
   "execution_count": 5
  },
  {
   "metadata": {
    "ExecuteTime": {
     "end_time": "2024-07-15T23:14:08.511740Z",
     "start_time": "2024-07-15T23:14:08.497448Z"
    }
   },
   "cell_type": "code",
   "source": [
    "refactor = 1e-2 # scaling factor to have the highest operation and construction metrics to the same order of magnitude (avoid having too many zeros)\n",
    "# lcia_method = 'IMPACT World+ Damage 2.0.1 - Total only'\n",
    "lcia_method = 'IMPACT World+ Damage 2.0.1_regionalized - Total only'\n",
    "# lcia_method = 'PB LCIA'"
   ],
   "id": "cd7e0801c44af8a2",
   "outputs": [],
   "execution_count": 6
  },
  {
   "metadata": {},
   "cell_type": "markdown",
   "source": "### Create the .dat file",
   "id": "f77dcd1918818117"
  },
  {
   "metadata": {
    "ExecuteTime": {
     "end_time": "2024-07-15T23:14:15.311799Z",
     "start_time": "2024-07-15T23:14:14.512480Z"
    }
   },
   "cell_type": "code",
   "source": [
    "normalize_lca_metrics(\n",
    "    R=R_long,\n",
    "    f_norm=1e6,\n",
    "    mip_gap=1e-6,\n",
    "    refactor=refactor,\n",
    "    lcia_method=lcia_method,\n",
    "    impact_abbrev=impact_abbrev,\n",
    "    path=f'results/energyscope_{esm_location}/{esm_year}/',\n",
    ")"
   ],
   "id": "19bc7a5c19941011",
   "outputs": [],
   "execution_count": 7
  },
  {
   "metadata": {},
   "cell_type": "markdown",
   "source": "### Create the .mod file",
   "id": "68288b0daa85e77c"
  },
  {
   "metadata": {
    "ExecuteTime": {
     "end_time": "2024-07-15T23:14:18.851988Z",
     "start_time": "2024-07-15T23:14:18.820245Z"
    }
   },
   "cell_type": "code",
   "source": [
    "gen_lcia_obj(\n",
    "    lcia_method=lcia_method,\n",
    "    refactor=refactor,\n",
    "    impact_abbrev=impact_abbrev,\n",
    "    path=f'results/energyscope_{esm_location}/{esm_year}/',\n",
    ")"
   ],
   "id": "b9f0e516af190b0f",
   "outputs": [],
   "execution_count": 8
  }
 ],
 "metadata": {
  "kernelspec": {
   "display_name": "Python 3",
   "language": "python",
   "name": "python3"
  },
  "language_info": {
   "codemirror_mode": {
    "name": "ipython",
    "version": 2
   },
   "file_extension": ".py",
   "mimetype": "text/x-python",
   "name": "python",
   "nbconvert_exporter": "python",
   "pygments_lexer": "ipython2",
   "version": "2.7.6"
  }
 },
 "nbformat": 4,
 "nbformat_minor": 5
}
