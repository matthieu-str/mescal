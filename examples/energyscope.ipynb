{
 "cells": [
  {
   "metadata": {},
   "cell_type": "markdown",
   "source": "# Example of workflow with the EnergyScope model",
   "id": "31fd1fce722851de"
  },
  {
   "metadata": {
    "ExecuteTime": {
     "end_time": "2024-07-13T21:09:57.835171Z",
     "start_time": "2024-07-13T21:09:51.116251Z"
    }
   },
   "cell_type": "code",
   "source": [
    "# Import the required libraries\n",
    "from mescal import *\n",
    "import pandas as pd\n",
    "import bw2data as bd"
   ],
   "id": "f44d0206c77553fb",
   "outputs": [],
   "execution_count": 1
  },
  {
   "metadata": {
    "ExecuteTime": {
     "end_time": "2024-07-13T21:09:57.846130Z",
     "start_time": "2024-07-13T21:09:57.838689Z"
    }
   },
   "cell_type": "code",
   "source": [
    "ecoinvent_version = '3.9.1' # choose the ecoinvent version you wish to use\n",
    "esm_location = 'CA-QC' # choose the version of energyscope for which you want to generate metrics\n",
    "esm_year = 2020 # choose the year of the energyscope snapshot model or transition pathway time-step"
   ],
   "id": "3f3631dae300f9b3",
   "outputs": [],
   "execution_count": 2
  },
  {
   "metadata": {
    "ExecuteTime": {
     "end_time": "2024-07-13T21:09:58.163381Z",
     "start_time": "2024-07-13T21:09:57.848142Z"
    }
   },
   "cell_type": "code",
   "source": [
    "# Set up your Brightway project\n",
    "bd.projects.set_current(f'ecoinvent{ecoinvent_version}')  # put the name of your brightway project here"
   ],
   "id": "a4299dc7c3990f7",
   "outputs": [],
   "execution_count": 3
  },
  {
   "metadata": {
    "ExecuteTime": {
     "end_time": "2024-07-13T21:09:58.204894Z",
     "start_time": "2024-07-13T21:09:58.165391Z"
    }
   },
   "cell_type": "code",
   "source": [
    "mapping = pd.read_csv(f'../dev/energyscope_data/{esm_location}/mapping_{ecoinvent_version}.csv')\n",
    "unit_conversion = pd.read_csv(f'../dev/energyscope_data/{esm_location}/unit_conversion_{ecoinvent_version}.csv')\n",
    "mapping_esm_flows_to_CPC = pd.read_csv(f'../dev/energyscope_data/{esm_location}/mapping_esm_flows_to_CPC.csv')\n",
    "model = pd.read_csv(f'../dev/energyscope_data/{esm_location}/model.csv')\n",
    "technology_compositions = pd.read_csv(f'../dev/energyscope_data/{esm_location}/technology_compositions.csv')\n",
    "technology_specifics = pd.read_csv(f'../dev/energyscope_data/{esm_location}/technology_specifics.csv') \n",
    "lifetime = pd.read_csv(f'../dev/energyscope_data/{esm_location}/lifetime.csv')\n",
    "impact_abbrev = pd.read_csv('../dev/lcia/impact_abbrev.csv')\n",
    "technologies_to_remove_from_layers = pd.read_csv(f'../dev/energyscope_data/{esm_location}/technologies_to_remove_from_layers.csv')\n",
    "new_end_use_types = pd.read_csv(f'../dev/energyscope_data/{esm_location}/new_end_use_types.csv')\n",
    "premise_changes = pd.read_csv('../dev/data/premise_change_report.csv')"
   ],
   "id": "66421245fb089e3f",
   "outputs": [],
   "execution_count": 4
  },
  {
   "metadata": {},
   "cell_type": "markdown",
   "source": "## Add CPC categories to the premise database",
   "id": "d317e3d3cf676791"
  },
  {
   "metadata": {
    "ExecuteTime": {
     "end_time": "2024-07-13T21:10:08.958653Z",
     "start_time": "2024-07-13T21:10:08.944078Z"
    }
   },
   "cell_type": "code",
   "source": [
    "name_premise_db = f\"ecoinvent_cutoff_{ecoinvent_version}_image_SSP2-Base_{esm_year} regionalized\"\n",
    "name_premise_with_CPC_db = name_premise_db + '_with_CPC'"
   ],
   "id": "f0fe6950967a8258",
   "outputs": [],
   "execution_count": 5
  },
  {
   "metadata": {
    "ExecuteTime": {
     "end_time": "2024-07-13T21:32:41.225644Z",
     "start_time": "2024-07-13T21:10:12.369992Z"
    }
   },
   "cell_type": "code",
   "source": [
    "if name_premise_with_CPC_db not in bd.databases:\n",
    "    premise_db = load_extract_db(name_premise_db, create_pickle=True)\n",
    "    create_new_database_with_CPC_categories(db=premise_db, new_db_name=name_premise_with_CPC_db)"
   ],
   "id": "d32a1362e76a4ae4",
   "outputs": [
    {
     "name": "stdout",
     "output_type": "stream",
     "text": [
      "Getting activity data\n"
     ]
    },
    {
     "name": "stderr",
     "output_type": "stream",
     "text": [
      "100%|██████████| 43008/43008 [00:00<00:00, 77423.13it/s] \n"
     ]
    },
    {
     "name": "stdout",
     "output_type": "stream",
     "text": [
      "Adding exchange data to activities\n"
     ]
    },
    {
     "name": "stderr",
     "output_type": "stream",
     "text": [
      "100%|██████████| 1618861/1618861 [05:15<00:00, 5136.80it/s] \n"
     ]
    },
    {
     "name": "stdout",
     "output_type": "stream",
     "text": [
      "Filling out exchange data\n"
     ]
    },
    {
     "name": "stderr",
     "output_type": "stream",
     "text": [
      "100%|██████████| 43008/43008 [00:11<00:00, 3675.11it/s]\n"
     ]
    },
    {
     "name": "stdout",
     "output_type": "stream",
     "text": [
      "ecoinvent_cutoff_3.9.1_image_SSP2-Base_2020 regionalized.pickle created!\n"
     ]
    },
    {
     "name": "stderr",
     "output_type": "stream",
     "text": [
      "Writing activities to SQLite3 database:\n",
      "0% [##############################] 100% | ETA: 00:00:00\n",
      "Total time elapsed: 00:02:16\n"
     ]
    },
    {
     "name": "stdout",
     "output_type": "stream",
     "text": [
      "Title: Writing activities to SQLite3 database:\n",
      "  Started: 07/13/2024 17:18:14\n",
      "  Finished: 07/13/2024 17:20:31\n",
      "  Total time elapsed: 00:02:16\n",
      "  CPU %: 35.00\n",
      "  Memory %: 37.45\n"
     ]
    }
   ],
   "execution_count": 6
  },
  {
   "metadata": {},
   "cell_type": "markdown",
   "source": "## Relinking the mapping file with a premise database",
   "id": "9f2f14bf04a47bf7"
  },
  {
   "metadata": {
    "ExecuteTime": {
     "end_time": "2024-07-10T16:12:44.493461Z",
     "start_time": "2024-07-10T16:12:34.547111Z"
    }
   },
   "cell_type": "code",
   "source": "premise_db_with_CPC = load_extract_db(name_premise_with_CPC_db, create_pickle=True)",
   "id": "79a7baead15bd268",
   "outputs": [],
   "execution_count": 7
  },
  {
   "metadata": {
    "ExecuteTime": {
     "end_time": "2024-07-10T16:12:44.575687Z",
     "start_time": "2024-07-10T16:12:44.494977Z"
    }
   },
   "cell_type": "code",
   "source": "mapping = change_mapping_year(mapping, 2020, esm_year)",
   "id": "b8179b7bbd1075ae",
   "outputs": [],
   "execution_count": 8
  },
  {
   "metadata": {
    "ExecuteTime": {
     "end_time": "2024-07-10T16:12:55.255326Z",
     "start_time": "2024-07-10T16:12:44.575687Z"
    }
   },
   "cell_type": "code",
   "source": [
    "base_db = concatenate_databases(list(mapping['Database'].unique()))\n",
    "unlinked = test_mapping_file(mapping, base_db)"
   ],
   "id": "f9e791d97f89365b",
   "outputs": [
    {
     "name": "stdout",
     "output_type": "stream",
     "text": [
      "Mapping successfully linked to the database\n"
     ]
    }
   ],
   "execution_count": 9
  },
  {
   "metadata": {
    "ExecuteTime": {
     "end_time": "2024-07-10T16:13:11.332747Z",
     "start_time": "2024-07-10T16:12:55.261194Z"
    }
   },
   "cell_type": "code",
   "source": "mapping_linked_to_premise = create_complementary_database(mapping, premise_db_with_CPC, name_premise_db+f'_comp_{esm_location}', premise_changes)",
   "id": "fce77b87ca2eaf8a",
   "outputs": [
    {
     "name": "stdout",
     "output_type": "stream",
     "text": [
      "The complementary database did not have to be created\n"
     ]
    }
   ],
   "execution_count": 10
  },
  {
   "metadata": {
    "ExecuteTime": {
     "end_time": "2024-07-10T16:13:11.360491Z",
     "start_time": "2024-07-10T16:13:11.338370Z"
    }
   },
   "cell_type": "code",
   "source": [
    "if name_premise_db+f'_comp_{esm_location}' in bd.databases:\n",
    "    premise_comp_db = load_extract_db(name_premise_db+f'_comp_{esm_location}') # complementary database without CPC categories\n",
    "    create_new_database_with_CPC_categories(db=premise_comp_db, new_db_name=name_premise_db+f'_comp_{esm_location}')\n",
    "    premise_comp_db = load_extract_db(name_premise_db+f'_comp_{esm_location}') # complementary database with CPC categories\n",
    "    main_db = premise_db_with_CPC + premise_comp_db\n",
    "else:\n",
    "    main_db = premise_db_with_CPC"
   ],
   "id": "a4a0bf94e0740fee",
   "outputs": [],
   "execution_count": 11
  },
  {
   "metadata": {},
   "cell_type": "markdown",
   "source": "## Change location according to user ranking",
   "id": "662fdba67693053b"
  },
  {
   "metadata": {
    "ExecuteTime": {
     "end_time": "2024-07-10T16:13:11.384381Z",
     "start_time": "2024-07-10T16:13:11.360491Z"
    }
   },
   "cell_type": "code",
   "source": [
    "# Define the user-defined ranking\n",
    "if esm_location == 'CA-QC':\n",
    "    my_ranking = [\n",
    "        'CA-QC', # Quebec\n",
    "        'CA', # Canada\n",
    "        'CA-ON', # Other canadian provinces \n",
    "        'CA-AB',\n",
    "        'CA-BC',\n",
    "        'CA-MB',\n",
    "        'CA-NB',\n",
    "        'CA-NF',\n",
    "        'CA-NS',\n",
    "        'CA-NT',\n",
    "        'CA-NU',\n",
    "        'CA-PE',\n",
    "        'CAZ', # Canada - Australia - New Zealand\n",
    "        'RNA', # North America\n",
    "        'US', # United States\n",
    "        'USA', # United States\n",
    "        'GLO', # Global average \n",
    "        'RoW', # Rest of the world\n",
    "    ]\n",
    "elif esm_location == 'CH':\n",
    "    my_ranking = [\n",
    "        'CH', \n",
    "        'RER', \n",
    "        'IAI Area, EU27 & EFTA',\n",
    "        'NEU',\n",
    "        'EUR',\n",
    "        'GLO',\n",
    "        'RoW'\n",
    "    ]\n",
    "else:\n",
    "    my_ranking = [\n",
    "        'GLO',\n",
    "        'RoW',\n",
    "    ]"
   ],
   "id": "7d1c9fe18d89a83d",
   "outputs": [],
   "execution_count": 12
  },
  {
   "metadata": {
    "ExecuteTime": {
     "end_time": "2024-07-10T16:13:11.399499Z",
     "start_time": "2024-07-10T16:13:11.389213Z"
    }
   },
   "cell_type": "code",
   "source": [
    "# sufficient match within ecoinvent\n",
    "if esm_location == 'CA-QC':\n",
    "    accepted_locations = ['CA-QC', 'CA']  \n",
    "elif esm_location == 'CH':\n",
    "    accepted_locations = ['CH'] \n",
    "else:\n",
    "    accepted_locations = ['GLO', 'RoW'] "
   ],
   "id": "71c8c75d0c37ad46",
   "outputs": [],
   "execution_count": 13
  },
  {
   "metadata": {
    "ExecuteTime": {
     "end_time": "2024-07-10T16:13:22.736083Z",
     "start_time": "2024-07-10T16:13:11.402974Z"
    }
   },
   "cell_type": "code",
   "source": [
    "# Update mapping dataframe\n",
    "mapping_linked_to_premise = change_location_mapping_file(mapping_linked_to_premise, my_ranking, premise_db_with_CPC, esm_location)"
   ],
   "id": "2b790b208965a5c1",
   "outputs": [],
   "execution_count": 14
  },
  {
   "metadata": {
    "ExecuteTime": {
     "end_time": "2024-07-10T16:13:22.779571Z",
     "start_time": "2024-07-10T16:13:22.738122Z"
    }
   },
   "cell_type": "code",
   "source": "mapping_linked_to_premise.head()",
   "id": "31a5ff20692e18e",
   "outputs": [
    {
     "data": {
      "text/plain": [
       "                                Name          Type  \\\n",
       "0              ALKALINE_ELECTROLYSIS     Operation   \n",
       "1        ALKALINE_ELECTROLYSIS_PLANT  Construction   \n",
       "2  ALKALINE_ELECTROLYSIS_PLANT_DECOM  Construction   \n",
       "3        ALKALINE_ELECTROLYSIS_STACK  Construction   \n",
       "4  ALKALINE_ELECTROLYSIS_STACK_DECOM  Construction   \n",
       "\n",
       "                                      Product  \\\n",
       "0                   hydrogen, gaseous, 20 bar   \n",
       "1   electrolyzer, 1MWe, AEC, Balance of Plant   \n",
       "2  used fuel cell balance of plant, 1MWe, AEC   \n",
       "3              electrolyzer, 1MWe, AEC, Stack   \n",
       "4             used fuel cell stack, 1MWe, AEC   \n",
       "\n",
       "                                            Activity Location  \\\n",
       "0  hydrogen production, gaseous, 20 bar, from AEC...       CH   \n",
       "1  electrolyzer production, 1MWe, AEC, Balance of...      RER   \n",
       "2  treatment of fuel cell balance of plant, 1MWe,...      RER   \n",
       "3          electrolyzer production, 1MWe, AEC, Stack      RER   \n",
       "4            treatment of fuel cell stack, 1MWe, AEC      RER   \n",
       "\n",
       "                                            Database  \n",
       "0  ecoinvent_cutoff_3.10_remind_SSP2-Base_2050_wi...  \n",
       "1  ecoinvent_cutoff_3.10_remind_SSP2-Base_2050_wi...  \n",
       "2  ecoinvent_cutoff_3.10_remind_SSP2-Base_2050_wi...  \n",
       "3  ecoinvent_cutoff_3.10_remind_SSP2-Base_2050_wi...  \n",
       "4  ecoinvent_cutoff_3.10_remind_SSP2-Base_2050_wi...  "
      ],
      "text/html": [
       "<div>\n",
       "<style scoped>\n",
       "    .dataframe tbody tr th:only-of-type {\n",
       "        vertical-align: middle;\n",
       "    }\n",
       "\n",
       "    .dataframe tbody tr th {\n",
       "        vertical-align: top;\n",
       "    }\n",
       "\n",
       "    .dataframe thead th {\n",
       "        text-align: right;\n",
       "    }\n",
       "</style>\n",
       "<table border=\"1\" class=\"dataframe\">\n",
       "  <thead>\n",
       "    <tr style=\"text-align: right;\">\n",
       "      <th></th>\n",
       "      <th>Name</th>\n",
       "      <th>Type</th>\n",
       "      <th>Product</th>\n",
       "      <th>Activity</th>\n",
       "      <th>Location</th>\n",
       "      <th>Database</th>\n",
       "    </tr>\n",
       "  </thead>\n",
       "  <tbody>\n",
       "    <tr>\n",
       "      <th>0</th>\n",
       "      <td>ALKALINE_ELECTROLYSIS</td>\n",
       "      <td>Operation</td>\n",
       "      <td>hydrogen, gaseous, 20 bar</td>\n",
       "      <td>hydrogen production, gaseous, 20 bar, from AEC...</td>\n",
       "      <td>CH</td>\n",
       "      <td>ecoinvent_cutoff_3.10_remind_SSP2-Base_2050_wi...</td>\n",
       "    </tr>\n",
       "    <tr>\n",
       "      <th>1</th>\n",
       "      <td>ALKALINE_ELECTROLYSIS_PLANT</td>\n",
       "      <td>Construction</td>\n",
       "      <td>electrolyzer, 1MWe, AEC, Balance of Plant</td>\n",
       "      <td>electrolyzer production, 1MWe, AEC, Balance of...</td>\n",
       "      <td>RER</td>\n",
       "      <td>ecoinvent_cutoff_3.10_remind_SSP2-Base_2050_wi...</td>\n",
       "    </tr>\n",
       "    <tr>\n",
       "      <th>2</th>\n",
       "      <td>ALKALINE_ELECTROLYSIS_PLANT_DECOM</td>\n",
       "      <td>Construction</td>\n",
       "      <td>used fuel cell balance of plant, 1MWe, AEC</td>\n",
       "      <td>treatment of fuel cell balance of plant, 1MWe,...</td>\n",
       "      <td>RER</td>\n",
       "      <td>ecoinvent_cutoff_3.10_remind_SSP2-Base_2050_wi...</td>\n",
       "    </tr>\n",
       "    <tr>\n",
       "      <th>3</th>\n",
       "      <td>ALKALINE_ELECTROLYSIS_STACK</td>\n",
       "      <td>Construction</td>\n",
       "      <td>electrolyzer, 1MWe, AEC, Stack</td>\n",
       "      <td>electrolyzer production, 1MWe, AEC, Stack</td>\n",
       "      <td>RER</td>\n",
       "      <td>ecoinvent_cutoff_3.10_remind_SSP2-Base_2050_wi...</td>\n",
       "    </tr>\n",
       "    <tr>\n",
       "      <th>4</th>\n",
       "      <td>ALKALINE_ELECTROLYSIS_STACK_DECOM</td>\n",
       "      <td>Construction</td>\n",
       "      <td>used fuel cell stack, 1MWe, AEC</td>\n",
       "      <td>treatment of fuel cell stack, 1MWe, AEC</td>\n",
       "      <td>RER</td>\n",
       "      <td>ecoinvent_cutoff_3.10_remind_SSP2-Base_2050_wi...</td>\n",
       "    </tr>\n",
       "  </tbody>\n",
       "</table>\n",
       "</div>"
      ]
     },
     "execution_count": 15,
     "metadata": {},
     "output_type": "execute_result"
    }
   ],
   "execution_count": 15
  },
  {
   "metadata": {
    "ExecuteTime": {
     "end_time": "2024-07-10T16:13:22.806942Z",
     "start_time": "2024-07-10T16:13:22.779571Z"
    }
   },
   "cell_type": "code",
   "source": "mapping_linked_to_premise.to_csv(f'../dev/energyscope_data/{esm_location}/mapping_{ecoinvent_version}_linked.csv', index=False)",
   "id": "bdb10645a490e814",
   "outputs": [],
   "execution_count": 16
  },
  {
   "metadata": {},
   "cell_type": "markdown",
   "source": "## Perform double-counting removal",
   "id": "53ace1fce9612c03"
  },
  {
   "metadata": {
    "ExecuteTime": {
     "end_time": "2024-07-10T16:13:22.826983Z",
     "start_time": "2024-07-10T16:13:22.806942Z"
    }
   },
   "cell_type": "code",
   "source": "mapping_linked_to_premise = mapping_linked_to_premise[mapping_linked_to_premise['Type'] != 'Flow']",
   "id": "f5bbb5afc1016223",
   "outputs": [],
   "execution_count": 17
  },
  {
   "metadata": {
    "ExecuteTime": {
     "end_time": "2024-07-10T16:13:22.838600Z",
     "start_time": "2024-07-10T16:13:22.826983Z"
    }
   },
   "cell_type": "code",
   "source": "new_db_name = f'energyscope_{esm_location}_{esm_year}'",
   "id": "5d9ff191952eb5d8",
   "outputs": [],
   "execution_count": 18
  },
  {
   "metadata": {
    "ExecuteTime": {
     "end_time": "2024-07-10T16:13:22.855921Z",
     "start_time": "2024-07-10T16:13:22.838600Z"
    }
   },
   "cell_type": "code",
   "source": "regionalize_foregrounds = True # Set to True if you want to regionalize foregrounds",
   "id": "1454662e2929ea39",
   "outputs": [],
   "execution_count": 19
  },
  {
   "metadata": {
    "ExecuteTime": {
     "end_time": "2024-07-10T16:19:43.485100Z",
     "start_time": "2024-07-10T16:13:22.855921Z"
    }
   },
   "cell_type": "code",
   "source": [
    "mapping_linked_to_premise_new_code = create_esm_database(\n",
    "    mapping=mapping_linked_to_premise,\n",
    "    model=model,\n",
    "    tech_specifics=technology_specifics,\n",
    "    technology_compositions=technology_compositions,\n",
    "    mapping_esm_flows_to_CPC_cat=mapping_esm_flows_to_CPC,\n",
    "    main_database=main_db,\n",
    "    esm_db_name=new_db_name,\n",
    "    regionalize_foregrounds=regionalize_foregrounds,\n",
    "    accepted_locations=accepted_locations,\n",
    "    target_region=esm_location,\n",
    "    locations_ranking=my_ranking,\n",
    "    results_path_file=f'results/energyscope_{esm_location}/{esm_year}/',\n",
    ")"
   ],
   "id": "20a7850a82ba8450",
   "outputs": [
    {
     "name": "stdout",
     "output_type": "stream",
     "text": [
      "ALKALINE_ELECTROLYSIS\n",
      "AL_MAKING\n",
      "AL_MAKING_HR\n",
      "AN_DIG\n",
      "AN_DIG_SI\n",
      "BIOMASS_ETHANOL\n",
      "BUS_CNG_STOICH\n",
      "BUS_DIESEL\n",
      "BUS_EV\n",
      "BUS_FC_HYBRID_CH4\n",
      "BUS_FC_HYBRID_H2\n",
      "BUS_HY_DIESEL\n",
      "CAR_BEV_LOWRANGE\n",
      "CAR_BEV_MEDRANGE_LOCAL\n",
      "CAR_BEV_MEDRANGE_LONGD\n",
      "CAR_DIESEL_LOCAL\n",
      "CAR_DIESEL_LONGD\n",
      "CAR_DME_D10_LOCAL\n",
      "CAR_DME_D10_LONGD\n",
      "CAR_ETOH_E10_LOCAL\n",
      "CAR_ETOH_E10_LONGD\n",
      "CAR_ETOH_E85_LOCAL\n",
      "CAR_ETOH_E85_LONGD\n",
      "CAR_FC_CH4_LOCAL\n",
      "CAR_FC_CH4_LONGD\n",
      "CAR_FC_H2_LOCAL\n",
      "CAR_FC_H2_LONGD\n",
      "CAR_GASOLINE_LOCAL\n",
      "CAR_GASOLINE_LONGD\n",
      "CAR_HEV_LOCAL\n",
      "CAR_HEV_LONGD\n",
      "CAR_MEOH_LOCAL\n",
      "CAR_MEOH_LONGD\n",
      "CAR_NG_LOCAL\n",
      "CAR_NG_LONGD\n",
      "CAR_PHEV_LOCAL\n",
      "CAR_PHEV_LONGD\n",
      "CCGT\n",
      "CCGT_CC\n",
      "CEMENT_PROD\n",
      "CEMENT_PROD_HP\n",
      "CO2_METHANOL\n",
      "CO2_TO_DIESEL\n",
      "CO2_TO_JETFUELS\n",
      "COACH_CNG_STOICH\n",
      "COACH_DIESEL\n",
      "COACH_EV\n",
      "COACH_FC_HYBRID_CH4\n",
      "COACH_FC_HYBRID_H2\n",
      "COACH_HY_DIESEL\n",
      "COAL_IGCC\n",
      "COAL_IGCC_CC\n",
      "COAL_US\n",
      "COAL_US_CC\n",
      "COMMUTER_RAIL_DIESEL\n",
      "COMMUTER_RAIL_ELEC\n",
      "CROPS_TO_ETHANOL\n",
      "CROPS_TO_JETFUELS\n",
      "CUMENE_PROCESS\n",
      "DAC_HT\n",
      "DAC_LT\n",
      "DEC_BOILER_GAS\n",
      "DEC_BOILER_OIL\n",
      "DEC_BOILER_WOOD\n",
      "DEC_COGEN_GAS\n",
      "DEC_COGEN_OIL\n",
      "DEC_COGEN_WOOD\n",
      "DEC_DEEP_GEO\n",
      "DEC_DIRECT_ELEC\n",
      "DEC_HP_ELEC\n",
      "DEC_THHP_GAS\n",
      "DHN_BOILER_GAS\n",
      "DHN_BOILER_OIL\n",
      "DHN_BOILER_WOOD\n",
      "DHN_COGEN_GAS\n",
      "DHN_COGEN_WASTE\n",
      "DHN_COGEN_WOOD\n",
      "DHN_DEEP_GEO\n",
      "DHN_HP_ELEC\n",
      "DIRECT_USAGE\n",
      "DOGR\n",
      "EOR\n",
      "ETHANE_CRACKING\n",
      "ETHANE_OXIDATION\n",
      "ETHANE_TO_ETHYLENE\n",
      "ETHANOL_TO_JETFUELS\n",
      "ETHYLENE_POLYMERIZATION\n",
      "FOOD_PROD\n",
      "FOOD_PROD_HP\n",
      "FOOD_PROD_HR\n",
      "FT\n",
      "GASIFICATION_H2\n",
      "GASIFICATION_SNG\n",
      "GEOTHERMAL\n",
      "H2_COMP_HE\n",
      "H2_COMP_LM\n",
      "H2_COMP_MH\n",
      "H2_EXP_EH\n",
      "H2_EXP_EH_COGEN\n",
      "H2_EXP_HM\n",
      "H2_EXP_HM_COGEN\n",
      "H2_EXP_ML\n",
      "H2_EXP_ML_COGEN\n",
      "H2_STO\n",
      "HT_LT_DEC\n",
      "HYDRO_DAM\n",
      "HYDRO_GAS\n",
      "HYDRO_GAS_CHP\n",
      "HYDRO_RIVER\n",
      "IND_BOILER_COAL\n",
      "IND_BOILER_GAS\n",
      "IND_BOILER_OIL\n",
      "IND_BOILER_WASTE\n",
      "IND_BOILER_WOOD\n",
      "IND_COGEN_GAS\n",
      "IND_COGEN_WASTE\n",
      "IND_COGEN_WOOD\n",
      "IND_DIRECT_ELEC\n",
      "IND_HP_ELEC\n",
      "METATHESIS_PROPYLENE\n",
      "METHANATION\n",
      "METHANE_TO_METHANOL\n",
      "METHANOL_CARBONYLATION\n",
      "METHANOL_FT\n",
      "METHANOL_TO_AROMATICS\n",
      "METHANOL_TO_OLEFINS\n",
      "NEW_HYDRO_DAM\n",
      "NEW_HYDRO_RIVER\n",
      "NG_COMP_HE\n",
      "NG_COMP_LM\n",
      "NG_COMP_MH\n",
      "NG_EXP_EH\n",
      "NG_EXP_EH_COGEN\n",
      "NG_EXP_HM\n",
      "NG_EXP_HM_COGEN\n",
      "NG_EXP_ML\n",
      "NG_EXP_ML_COGEN\n",
      "NG_REFORMING\n",
      "NUCLEAR\n",
      "PAPER_MAKING\n",
      "PAPER_MAKING_HP\n",
      "PAPER_MAKING_HR\n",
      "PEM_ELECTROLYSIS\n",
      "PET_FORMATION\n",
      "POLYPROPYLENE_PP\n",
      "PV\n",
      "PVC_FORMATION\n",
      "PV_EHV\n",
      "PYROLYSIS\n",
      "SMART_PROCESS\n",
      "SNG_NG\n",
      "SOEC_ELECTROLYSIS\n",
      "STEEL_MAKING\n",
      "STEEL_MAKING_HP\n",
      "STEEL_MAKING_HR\n",
      "STYRENE_POLYMERIZATION\n",
      "TRAFO_EH\n",
      "TRAFO_HE\n",
      "TRAFO_HM\n",
      "TRAFO_LM\n",
      "TRAFO_MH\n",
      "TRAFO_ML\n",
      "TRAIN_DIESEL\n",
      "TRAIN_ELEC\n",
      "TRAIN_FREIGHT\n",
      "TRAIN_FREIGHT_DIESEL\n",
      "TRAIN_FREIGHT_H2\n",
      "TRAIN_FREIGHT_NG\n",
      "TRAIN_H2\n",
      "TRAIN_NG\n",
      "TRAMWAY\n",
      "TRUCK\n",
      "TRUCK_EV\n",
      "TRUCK_FC\n",
      "TRUCK_SNG\n",
      "WIND\n",
      "WOOD_METHANOL\n",
      "Vacuuming database \n"
     ]
    },
    {
     "name": "stderr",
     "output_type": "stream",
     "text": [
      "Writing activities to SQLite3 database:\n",
      "0% [##############################] 100% | ETA: 00:00:00\n",
      "Total time elapsed: 00:00:00\n"
     ]
    },
    {
     "name": "stdout",
     "output_type": "stream",
     "text": [
      "Title: Writing activities to SQLite3 database:\n",
      "  Started: 07/10/2024 12:18:34\n",
      "  Finished: 07/10/2024 12:18:35\n",
      "  Total time elapsed: 00:00:00\n",
      "  CPU %: 37.20\n",
      "  Memory %: 13.86\n"
     ]
    }
   ],
   "execution_count": 20
  },
  {
   "metadata": {},
   "cell_type": "markdown",
   "source": "## Computing the LCA metrics",
   "id": "c8966b7d4073c844"
  },
  {
   "metadata": {
    "ExecuteTime": {
     "end_time": "2024-07-10T16:19:45.304380Z",
     "start_time": "2024-07-10T16:19:43.485100Z"
    }
   },
   "cell_type": "code",
   "source": "esm_db = load_extract_db(new_db_name)",
   "id": "346a097bc95ba505",
   "outputs": [
    {
     "name": "stdout",
     "output_type": "stream",
     "text": [
      "Getting activity data\n"
     ]
    },
    {
     "name": "stderr",
     "output_type": "stream",
     "text": [
      "100%|██████████| 749/749 [00:00<?, ?it/s]\n"
     ]
    },
    {
     "name": "stdout",
     "output_type": "stream",
     "text": [
      "Adding exchange data to activities\n"
     ]
    },
    {
     "name": "stderr",
     "output_type": "stream",
     "text": [
      "100%|██████████| 11965/11965 [00:00<00:00, 37621.15it/s]\n"
     ]
    },
    {
     "name": "stdout",
     "output_type": "stream",
     "text": [
      "Filling out exchange data\n"
     ]
    },
    {
     "name": "stderr",
     "output_type": "stream",
     "text": [
      "100%|██████████| 749/749 [00:01<00:00, 544.17it/s] \n"
     ]
    }
   ],
   "execution_count": 21
  },
  {
   "metadata": {
    "ExecuteTime": {
     "end_time": "2024-07-10T16:29:20.484510Z",
     "start_time": "2024-07-10T16:19:45.305621Z"
    }
   },
   "cell_type": "code",
   "source": [
    "R_long = compute_impact_scores(\n",
    "    esm_db=esm_db,\n",
    "    mapping=mapping_linked_to_premise_new_code,\n",
    "    technology_compositions=technology_compositions,\n",
    "    # methods=['IMPACT World+ Midpoint 2.0.1', 'IMPACT World+ Damage 2.0.1', 'IMPACT World+ Footprint 2.0.1'],\n",
    "    methods=['PB LCIA'],\n",
    "    unit_conversion=unit_conversion,\n",
    "    lifetime=lifetime,\n",
    ")"
   ],
   "id": "c7b7e609caf81b89",
   "outputs": [],
   "execution_count": 22
  },
  {
   "metadata": {
    "ExecuteTime": {
     "end_time": "2024-07-10T16:29:20.518489Z",
     "start_time": "2024-07-10T16:29:20.488528Z"
    }
   },
   "cell_type": "code",
   "source": "R_long.to_csv(f'results/energyscope_{esm_location}/{esm_year}/impact_scores.csv', index=False)",
   "id": "79a737bba653ca3d",
   "outputs": [],
   "execution_count": 23
  },
  {
   "metadata": {},
   "cell_type": "markdown",
   "source": "## Convert the results in AMPL format",
   "id": "6719986c7eebe773"
  },
  {
   "metadata": {
    "ExecuteTime": {
     "end_time": "2024-07-10T16:29:20.524432Z",
     "start_time": "2024-07-10T16:29:20.518489Z"
    }
   },
   "cell_type": "code",
   "source": [
    "refactor = 1e-2 # scaling factor to have the highest operation and construction metrics to the same order of magnitude (avoid having too many zeros)\n",
    "# lcia_method = 'IMPACT World+ Damage 2.0.1 - Total only'\n",
    "lcia_method = 'PB LCIA'"
   ],
   "id": "cd7e0801c44af8a2",
   "outputs": [],
   "execution_count": 24
  },
  {
   "metadata": {},
   "cell_type": "markdown",
   "source": "### Create the .dat file",
   "id": "f77dcd1918818117"
  },
  {
   "metadata": {
    "ExecuteTime": {
     "end_time": "2024-07-10T18:11:11.516736Z",
     "start_time": "2024-07-10T18:11:11.317166Z"
    }
   },
   "cell_type": "code",
   "source": [
    "normalize_lca_metrics(\n",
    "    R=R_long,\n",
    "    f_norm=1e6,\n",
    "    mip_gap=1e-6,\n",
    "    refactor=refactor,\n",
    "    lcia_method=lcia_method,\n",
    "    impact_abbrev=impact_abbrev,\n",
    "    path=f'results/energyscope_{esm_location}/{esm_year}/',\n",
    ")"
   ],
   "id": "19bc7a5c19941011",
   "outputs": [],
   "execution_count": 29
  },
  {
   "metadata": {},
   "cell_type": "markdown",
   "source": "### Create the .mod file",
   "id": "68288b0daa85e77c"
  },
  {
   "metadata": {
    "ExecuteTime": {
     "end_time": "2024-07-10T18:11:12.244293Z",
     "start_time": "2024-07-10T18:11:12.226486Z"
    }
   },
   "cell_type": "code",
   "source": [
    "gen_lcia_obj(\n",
    "    lcia_method=lcia_method,\n",
    "    refactor=refactor,\n",
    "    impact_abbrev=impact_abbrev,\n",
    "    path=f'results/energyscope_{esm_location}/{esm_year}/',\n",
    ")"
   ],
   "id": "b9f0e516af190b0f",
   "outputs": [],
   "execution_count": 30
  }
 ],
 "metadata": {
  "kernelspec": {
   "display_name": "Python 3",
   "language": "python",
   "name": "python3"
  },
  "language_info": {
   "codemirror_mode": {
    "name": "ipython",
    "version": 2
   },
   "file_extension": ".py",
   "mimetype": "text/x-python",
   "name": "python",
   "nbconvert_exporter": "python",
   "pygments_lexer": "ipython2",
   "version": "2.7.6"
  }
 },
 "nbformat": 4,
 "nbformat_minor": 5
}
