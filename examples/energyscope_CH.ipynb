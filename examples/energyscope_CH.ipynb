{
 "cells": [
  {
   "metadata": {},
   "cell_type": "markdown",
   "source": "# Example of workflow with the EnergyScope model for Switzerland",
   "id": "31fd1fce722851de"
  },
  {
   "metadata": {
    "ExecuteTime": {
     "end_time": "2024-07-03T22:57:29.840799Z",
     "start_time": "2024-07-03T22:57:21.621Z"
    }
   },
   "cell_type": "code",
   "source": [
    "# Import the required libraries\n",
    "from mescal import *\n",
    "import pandas as pd\n",
    "import bw2data as bd"
   ],
   "id": "f44d0206c77553fb",
   "outputs": [],
   "execution_count": 1
  },
  {
   "metadata": {
    "ExecuteTime": {
     "end_time": "2024-07-03T22:57:29.851011Z",
     "start_time": "2024-07-03T22:57:29.840799Z"
    }
   },
   "cell_type": "code",
   "source": "ecoinvent_version = '3.8'",
   "id": "3f3631dae300f9b3",
   "outputs": [],
   "execution_count": 2
  },
  {
   "metadata": {
    "ExecuteTime": {
     "end_time": "2024-07-03T22:57:30.000796Z",
     "start_time": "2024-07-03T22:57:29.851011Z"
    }
   },
   "cell_type": "code",
   "source": [
    "# Set up your Brightway project\n",
    "bd.projects.set_current('ei3.8-mescal')  # put the name of your brightway project here"
   ],
   "id": "a4299dc7c3990f7",
   "outputs": [],
   "execution_count": 3
  },
  {
   "metadata": {
    "ExecuteTime": {
     "end_time": "2024-07-03T22:57:30.040566Z",
     "start_time": "2024-07-03T22:57:30.003217Z"
    }
   },
   "cell_type": "code",
   "source": [
    "mapping = pd.read_csv(f'../dev/energyscope_data/CH/mapping.csv')\n",
    "unit_conversion = pd.read_csv('../dev/energyscope_data/CH/unit_conversion.csv')\n",
    "mapping_esm_flows_to_CPC = pd.read_csv('../dev/energyscope_data/CH/mapping_esm_flows_to_CPC.csv')\n",
    "model = pd.read_csv('../dev/energyscope_data/CH/model.csv')\n",
    "technology_compositions = pd.read_csv('../dev/energyscope_data/CH/technology_compositions.csv')\n",
    "technology_specifics = pd.read_csv('../dev/energyscope_data/CH/technology_specifics.csv') \n",
    "lifetime = pd.read_csv('../dev/energyscope_data/CH/lifetime.csv')\n",
    "mapping_product_to_CPC = pd.read_csv('../dev/data/mapping_product_to_CPC.csv')\n",
    "impact_abbrev = pd.read_csv('../dev/IW+/impact_abbrev.csv')\n",
    "technologies_to_remove_from_layers = pd.read_csv('../dev/energyscope_data/CH/technologies_to_remove_from_layers.csv')\n",
    "new_end_use_types = pd.read_csv('../dev/energyscope_data/CH/new_end_use_types.csv')"
   ],
   "id": "66421245fb089e3f",
   "outputs": [],
   "execution_count": 4
  },
  {
   "metadata": {},
   "cell_type": "markdown",
   "source": "## Add CPC categories to the premise database",
   "id": "d317e3d3cf676791"
  },
  {
   "metadata": {
    "ExecuteTime": {
     "end_time": "2024-07-03T22:57:30.049170Z",
     "start_time": "2024-07-03T22:57:30.040566Z"
    }
   },
   "cell_type": "code",
   "source": [
    "name_premise_db = f\"ecoinvent_cutoff_{ecoinvent_version}_remind_SSP2-Base_2020\"\n",
    "name_premise_with_CPC_db = name_premise_db + '_with_CPC'"
   ],
   "id": "f0fe6950967a8258",
   "outputs": [],
   "execution_count": 5
  },
  {
   "metadata": {
    "ExecuteTime": {
     "end_time": "2024-07-03T22:57:35.395956Z",
     "start_time": "2024-07-03T22:57:30.051054Z"
    }
   },
   "cell_type": "code",
   "source": "premise_db = load_extract_db(name_premise_db)",
   "id": "c7d7d89f89acc59b",
   "outputs": [],
   "execution_count": 6
  },
  {
   "metadata": {
    "ExecuteTime": {
     "end_time": "2024-07-03T23:05:07.255018Z",
     "start_time": "2024-07-03T22:57:35.397002Z"
    }
   },
   "cell_type": "code",
   "source": [
    "create_new_database_with_CPC_categories(db=premise_db, new_db_name=name_premise_with_CPC_db,\n",
    "                                        mapping_product_to_CPC=mapping_product_to_CPC)"
   ],
   "id": "439dd7d1e2cdaffb",
   "outputs": [
    {
     "name": "stdout",
     "output_type": "stream",
     "text": [
      "Vacuuming database \n"
     ]
    },
    {
     "name": "stderr",
     "output_type": "stream",
     "text": [
      "Writing activities to SQLite3 database:\n",
      "0% [##############################] 100% | ETA: 00:00:00\n",
      "Total time elapsed: 00:00:52\n"
     ]
    },
    {
     "name": "stdout",
     "output_type": "stream",
     "text": [
      "Title: Writing activities to SQLite3 database:\n",
      "  Started: 07/03/2024 19:01:06\n",
      "  Finished: 07/03/2024 19:01:58\n",
      "  Total time elapsed: 00:00:52\n",
      "  CPU %: 46.30\n",
      "  Memory %: 10.01\n"
     ]
    }
   ],
   "execution_count": 7
  },
  {
   "metadata": {},
   "cell_type": "markdown",
   "source": "## Relinking the mapping file with a premise database",
   "id": "9f2f14bf04a47bf7"
  },
  {
   "metadata": {
    "ExecuteTime": {
     "end_time": "2024-07-03T23:05:13.245874Z",
     "start_time": "2024-07-03T23:05:07.255018Z"
    }
   },
   "cell_type": "code",
   "source": "premise_db_with_CPC = load_extract_db(name_premise_with_CPC_db)",
   "id": "79a7baead15bd268",
   "outputs": [],
   "execution_count": 8
  },
  {
   "metadata": {
    "ExecuteTime": {
     "end_time": "2024-07-03T23:05:26.967959Z",
     "start_time": "2024-07-03T23:05:13.248475Z"
    }
   },
   "cell_type": "code",
   "source": "mapping_linked_to_premise = create_complementary_database(mapping, premise_db_with_CPC, '')",
   "id": "fce77b87ca2eaf8a",
   "outputs": [
    {
     "name": "stdout",
     "output_type": "stream",
     "text": [
      "The complementary database did not have to be created\n"
     ]
    }
   ],
   "execution_count": 9
  },
  {
   "metadata": {},
   "cell_type": "markdown",
   "source": "## Change location according to user ranking",
   "id": "662fdba67693053b"
  },
  {
   "metadata": {
    "ExecuteTime": {
     "end_time": "2024-07-03T23:05:26.975401Z",
     "start_time": "2024-07-03T23:05:26.967959Z"
    }
   },
   "cell_type": "code",
   "source": [
    "my_ranking = [\n",
    "    'CH', \n",
    "    'RER', \n",
    "    'IAI Area, EU27 & EFTA',\n",
    "    'NEU',\n",
    "    'EUR',\n",
    "    'GLO',\n",
    "    'RoW'\n",
    "]"
   ],
   "id": "7d1c9fe18d89a83d",
   "outputs": [],
   "execution_count": 10
  },
  {
   "metadata": {
    "ExecuteTime": {
     "end_time": "2024-07-03T23:05:34.124967Z",
     "start_time": "2024-07-03T23:05:26.976744Z"
    }
   },
   "cell_type": "code",
   "source": [
    "# Update mapping dataframe\n",
    "mapping_linked_to_premise = change_location_mapping_file(mapping_linked_to_premise, my_ranking, premise_db_with_CPC, 'CH')"
   ],
   "id": "2b790b208965a5c1",
   "outputs": [],
   "execution_count": 11
  },
  {
   "metadata": {
    "ExecuteTime": {
     "end_time": "2024-07-03T23:05:34.150041Z",
     "start_time": "2024-07-03T23:05:34.124967Z"
    }
   },
   "cell_type": "code",
   "source": "mapping_linked_to_premise.head()",
   "id": "31a5ff20692e18e",
   "outputs": [
    {
     "data": {
      "text/plain": [
       "                                Name          Type  \\\n",
       "0              ALKALINE_ELECTROLYSIS     Operation   \n",
       "1        ALKALINE_ELECTROLYSIS_PLANT  Construction   \n",
       "2  ALKALINE_ELECTROLYSIS_PLANT_DECOM  Construction   \n",
       "3        ALKALINE_ELECTROLYSIS_STACK  Construction   \n",
       "4  ALKALINE_ELECTROLYSIS_STACK_DECOM  Construction   \n",
       "\n",
       "                                      Product  \\\n",
       "0                   hydrogen, gaseous, 20 bar   \n",
       "1   electrolyzer, 1MWe, AEC, Balance of Plant   \n",
       "2  used fuel cell balance of plant, 1MWe, AEC   \n",
       "3              electrolyzer, 1MWe, AEC, Stack   \n",
       "4             used fuel cell stack, 1MWe, AEC   \n",
       "\n",
       "                                            Activity Location  \\\n",
       "0  hydrogen production, gaseous, 20 bar, from AEC...       CH   \n",
       "1  electrolyzer production, 1MWe, AEC, Balance of...      RER   \n",
       "2  treatment of fuel cell balance of plant, 1MWe,...      RER   \n",
       "3          electrolyzer production, 1MWe, AEC, Stack      RER   \n",
       "4            treatment of fuel cell stack, 1MWe, AEC      RER   \n",
       "\n",
       "                                            Database  \n",
       "0  ecoinvent_cutoff_3.8_remind_SSP2-Base_2020_wit...  \n",
       "1  ecoinvent_cutoff_3.8_remind_SSP2-Base_2020_wit...  \n",
       "2  ecoinvent_cutoff_3.8_remind_SSP2-Base_2020_wit...  \n",
       "3  ecoinvent_cutoff_3.8_remind_SSP2-Base_2020_wit...  \n",
       "4  ecoinvent_cutoff_3.8_remind_SSP2-Base_2020_wit...  "
      ],
      "text/html": [
       "<div>\n",
       "<style scoped>\n",
       "    .dataframe tbody tr th:only-of-type {\n",
       "        vertical-align: middle;\n",
       "    }\n",
       "\n",
       "    .dataframe tbody tr th {\n",
       "        vertical-align: top;\n",
       "    }\n",
       "\n",
       "    .dataframe thead th {\n",
       "        text-align: right;\n",
       "    }\n",
       "</style>\n",
       "<table border=\"1\" class=\"dataframe\">\n",
       "  <thead>\n",
       "    <tr style=\"text-align: right;\">\n",
       "      <th></th>\n",
       "      <th>Name</th>\n",
       "      <th>Type</th>\n",
       "      <th>Product</th>\n",
       "      <th>Activity</th>\n",
       "      <th>Location</th>\n",
       "      <th>Database</th>\n",
       "    </tr>\n",
       "  </thead>\n",
       "  <tbody>\n",
       "    <tr>\n",
       "      <th>0</th>\n",
       "      <td>ALKALINE_ELECTROLYSIS</td>\n",
       "      <td>Operation</td>\n",
       "      <td>hydrogen, gaseous, 20 bar</td>\n",
       "      <td>hydrogen production, gaseous, 20 bar, from AEC...</td>\n",
       "      <td>CH</td>\n",
       "      <td>ecoinvent_cutoff_3.8_remind_SSP2-Base_2020_wit...</td>\n",
       "    </tr>\n",
       "    <tr>\n",
       "      <th>1</th>\n",
       "      <td>ALKALINE_ELECTROLYSIS_PLANT</td>\n",
       "      <td>Construction</td>\n",
       "      <td>electrolyzer, 1MWe, AEC, Balance of Plant</td>\n",
       "      <td>electrolyzer production, 1MWe, AEC, Balance of...</td>\n",
       "      <td>RER</td>\n",
       "      <td>ecoinvent_cutoff_3.8_remind_SSP2-Base_2020_wit...</td>\n",
       "    </tr>\n",
       "    <tr>\n",
       "      <th>2</th>\n",
       "      <td>ALKALINE_ELECTROLYSIS_PLANT_DECOM</td>\n",
       "      <td>Construction</td>\n",
       "      <td>used fuel cell balance of plant, 1MWe, AEC</td>\n",
       "      <td>treatment of fuel cell balance of plant, 1MWe,...</td>\n",
       "      <td>RER</td>\n",
       "      <td>ecoinvent_cutoff_3.8_remind_SSP2-Base_2020_wit...</td>\n",
       "    </tr>\n",
       "    <tr>\n",
       "      <th>3</th>\n",
       "      <td>ALKALINE_ELECTROLYSIS_STACK</td>\n",
       "      <td>Construction</td>\n",
       "      <td>electrolyzer, 1MWe, AEC, Stack</td>\n",
       "      <td>electrolyzer production, 1MWe, AEC, Stack</td>\n",
       "      <td>RER</td>\n",
       "      <td>ecoinvent_cutoff_3.8_remind_SSP2-Base_2020_wit...</td>\n",
       "    </tr>\n",
       "    <tr>\n",
       "      <th>4</th>\n",
       "      <td>ALKALINE_ELECTROLYSIS_STACK_DECOM</td>\n",
       "      <td>Construction</td>\n",
       "      <td>used fuel cell stack, 1MWe, AEC</td>\n",
       "      <td>treatment of fuel cell stack, 1MWe, AEC</td>\n",
       "      <td>RER</td>\n",
       "      <td>ecoinvent_cutoff_3.8_remind_SSP2-Base_2020_wit...</td>\n",
       "    </tr>\n",
       "  </tbody>\n",
       "</table>\n",
       "</div>"
      ]
     },
     "execution_count": 12,
     "metadata": {},
     "output_type": "execute_result"
    }
   ],
   "execution_count": 12
  },
  {
   "metadata": {
    "ExecuteTime": {
     "end_time": "2024-07-03T23:05:34.164439Z",
     "start_time": "2024-07-03T23:05:34.151837Z"
    }
   },
   "cell_type": "code",
   "source": [
    "# Save the relinked mapping file\n",
    "mapping_linked_to_premise.to_csv(f'../dev/energyscope_data/CH/mapping_linked.csv', index=False)"
   ],
   "id": "c272d5b2f4b774a2",
   "outputs": [],
   "execution_count": 13
  },
  {
   "metadata": {},
   "cell_type": "markdown",
   "source": "## Perform double-counting removal",
   "id": "53ace1fce9612c03"
  },
  {
   "metadata": {
    "ExecuteTime": {
     "end_time": "2024-07-03T23:05:34.176304Z",
     "start_time": "2024-07-03T23:05:34.170704Z"
    }
   },
   "cell_type": "code",
   "source": [
    "# To skip the previous steps\n",
    "# mapping_linked_to_premise = pd.read_csv(f'../dev/energyscope_data/QC/mapping_linked.csv')"
   ],
   "id": "121d32cf3894a0a8",
   "outputs": [],
   "execution_count": 14
  },
  {
   "metadata": {
    "ExecuteTime": {
     "end_time": "2024-07-03T23:05:34.187615Z",
     "start_time": "2024-07-03T23:05:34.176902Z"
    }
   },
   "cell_type": "code",
   "source": "mapping_linked_to_premise = mapping_linked_to_premise[mapping_linked_to_premise['Type'] != 'Flow']",
   "id": "f5bbb5afc1016223",
   "outputs": [],
   "execution_count": 15
  },
  {
   "metadata": {
    "ExecuteTime": {
     "end_time": "2024-07-03T23:05:34.200539Z",
     "start_time": "2024-07-03T23:05:34.188123Z"
    }
   },
   "cell_type": "code",
   "source": "new_db_name = 'energyscope_CH_2020'",
   "id": "5d9ff191952eb5d8",
   "outputs": [],
   "execution_count": 16
  },
  {
   "metadata": {
    "ExecuteTime": {
     "end_time": "2024-07-03T23:05:34.212155Z",
     "start_time": "2024-07-03T23:05:34.202048Z"
    }
   },
   "cell_type": "code",
   "source": "regionalize_foregrounds = False # Set to True if you want to regionalize foregrounds",
   "id": "1454662e2929ea39",
   "outputs": [],
   "execution_count": 17
  },
  {
   "metadata": {
    "ExecuteTime": {
     "end_time": "2024-07-03T23:09:23.679220Z",
     "start_time": "2024-07-03T23:05:34.213375Z"
    }
   },
   "cell_type": "code",
   "source": [
    "mapping_linked_to_premise_new_code = create_esm_database(\n",
    "    mapping=mapping_linked_to_premise,\n",
    "    model=model,\n",
    "    tech_specifics=technology_specifics,\n",
    "    technology_compositions=technology_compositions,\n",
    "    mapping_esm_flows_to_CPC_cat=mapping_esm_flows_to_CPC,\n",
    "    main_database=premise_db_with_CPC,\n",
    "    esm_db_name=new_db_name,\n",
    "    regionalize_foregrounds=regionalize_foregrounds,\n",
    "    accepted_locations=['CH'],\n",
    "    target_region='CH',\n",
    "    locations_ranking=my_ranking,\n",
    "    results_path_file='results/energyscope_CH/',\n",
    ")"
   ],
   "id": "20a7850a82ba8450",
   "outputs": [
    {
     "name": "stdout",
     "output_type": "stream",
     "text": [
      "ALKALINE_ELECTROLYSIS\n",
      "AL_MAKING\n",
      "AL_MAKING_HR\n",
      "AN_DIG\n",
      "AN_DIG_SI\n",
      "BIOMASS_ETHANOL\n",
      "BUS_CNG_STOICH\n",
      "BUS_DIESEL\n",
      "BUS_EV\n",
      "BUS_FC_HYBRID_CH4\n",
      "BUS_FC_HYBRID_H2\n",
      "BUS_HY_DIESEL\n",
      "CAR_BEV_LOWRANGE\n",
      "CAR_BEV_MEDRANGE_LOCAL\n",
      "CAR_BEV_MEDRANGE_LONGD\n",
      "CAR_DIESEL_LOCAL\n",
      "CAR_DIESEL_LONGD\n",
      "CAR_DME_D10_LOCAL\n",
      "CAR_DME_D10_LONGD\n",
      "CAR_ETOH_E10_LOCAL\n",
      "CAR_ETOH_E10_LONGD\n",
      "CAR_ETOH_E85_LOCAL\n",
      "CAR_ETOH_E85_LONGD\n",
      "CAR_FC_CH4_LOCAL\n",
      "CAR_FC_CH4_LONGD\n",
      "CAR_FC_H2_LOCAL\n",
      "CAR_FC_H2_LONGD\n",
      "CAR_GASOLINE_LOCAL\n",
      "CAR_GASOLINE_LONGD\n",
      "CAR_HEV_LOCAL\n",
      "CAR_HEV_LONGD\n",
      "CAR_MEOH_LOCAL\n",
      "CAR_MEOH_LONGD\n",
      "CAR_NG_LOCAL\n",
      "CAR_NG_LONGD\n",
      "CAR_PHEV_LOCAL\n",
      "CAR_PHEV_LONGD\n",
      "CCGT\n",
      "CCGT_CC\n",
      "CEMENT_PROD\n",
      "CEMENT_PROD_HP\n",
      "CO2_METHANOL\n",
      "CO2_TO_DIESEL\n",
      "CO2_TO_JETFUELS\n",
      "COACH_CNG_STOICH\n",
      "COACH_DIESEL\n",
      "COACH_EV\n",
      "COACH_FC_HYBRID_CH4\n",
      "COACH_FC_HYBRID_H2\n",
      "COACH_HY_DIESEL\n",
      "COAL_IGCC\n",
      "COAL_IGCC_CC\n",
      "COAL_US\n",
      "COAL_US_CC\n",
      "COMMUTER_RAIL_DIESEL\n",
      "COMMUTER_RAIL_ELEC\n",
      "CROPS_TO_ETHANOL\n",
      "CROPS_TO_JETFUELS\n",
      "CUMENE_PROCESS\n",
      "DAC_HT\n",
      "DAC_LT\n",
      "DEC_BOILER_GAS\n",
      "DEC_BOILER_OIL\n",
      "DEC_BOILER_WOOD\n",
      "DEC_COGEN_GAS\n",
      "DEC_COGEN_OIL\n",
      "DEC_COGEN_WOOD\n",
      "DEC_DEEP_GEO\n",
      "DEC_DIRECT_ELEC\n",
      "DEC_HP_ELEC\n",
      "DEC_THHP_GAS\n",
      "DHN_BOILER_GAS\n",
      "DHN_BOILER_OIL\n",
      "DHN_BOILER_WOOD\n",
      "DHN_COGEN_GAS\n",
      "DHN_COGEN_WASTE\n",
      "DHN_COGEN_WOOD\n",
      "DHN_DEEP_GEO\n",
      "DHN_HP_ELEC\n",
      "DIRECT_USAGE\n",
      "DOGR\n",
      "EHP_H2_GRID\n",
      "EHP_NG_GRID\n",
      "EOR\n",
      "ETHANE_CRACKING\n",
      "ETHANE_OXIDATION\n",
      "ETHANE_TO_ETHYLENE\n",
      "ETHANOL_TO_JETFUELS\n",
      "ETHYLENE_POLYMERIZATION\n",
      "FOOD_PROD\n",
      "FOOD_PROD_HP\n",
      "FOOD_PROD_HR\n",
      "FT\n",
      "GASIFICATION_H2\n",
      "GASIFICATION_SNG\n",
      "GEOTHERMAL\n",
      "H2_COMP_HE\n",
      "H2_COMP_LM\n",
      "H2_COMP_MH\n",
      "H2_EXP_EH\n",
      "H2_EXP_EH_COGEN\n",
      "H2_EXP_HM\n",
      "H2_EXP_HM_COGEN\n",
      "H2_EXP_ML\n",
      "H2_EXP_ML_COGEN\n",
      "H2_STO\n",
      "HP_H2_GRID\n",
      "HP_NG_GRID\n",
      "HT_LT_DEC\n",
      "HYDRO_DAM\n",
      "HYDRO_GAS\n",
      "HYDRO_GAS_CHP\n",
      "HYDRO_RIVER\n",
      "IND_BOILER_COAL\n",
      "IND_BOILER_GAS\n",
      "IND_BOILER_OIL\n",
      "IND_BOILER_WASTE\n",
      "IND_BOILER_WOOD\n",
      "IND_COGEN_GAS\n",
      "IND_COGEN_WASTE\n",
      "IND_COGEN_WOOD\n",
      "IND_DIRECT_ELEC\n",
      "IND_HP_ELEC\n",
      "LP_H2_GRID\n",
      "LP_NG_GRID\n",
      "METATHESIS_PROPYLENE\n",
      "METHANATION\n",
      "METHANE_TO_METHANOL\n",
      "METHANOL_CARBONYLATION\n",
      "METHANOL_FT\n",
      "METHANOL_TO_AROMATICS\n",
      "METHANOL_TO_OLEFINS\n",
      "MP_H2_GRID\n",
      "MP_NG_GRID\n",
      "NEW_HYDRO_DAM\n",
      "NEW_HYDRO_RIVER\n",
      "NG_COMP_HE\n",
      "NG_COMP_LM\n",
      "NG_COMP_MH\n",
      "NG_EXP_EH\n",
      "NG_EXP_EH_COGEN\n",
      "NG_EXP_HM\n",
      "NG_EXP_HM_COGEN\n",
      "NG_EXP_ML\n",
      "NG_EXP_ML_COGEN\n",
      "NG_REFORMING\n",
      "NUCLEAR\n",
      "PAPER_MAKING\n",
      "PAPER_MAKING_HP\n",
      "PAPER_MAKING_HR\n",
      "PEM_ELECTROLYSIS\n",
      "PET_FORMATION\n",
      "POLYPROPYLENE_PP\n",
      "PV\n",
      "PVC_FORMATION\n",
      "PV_EHV\n",
      "PYROLYSIS\n",
      "SMART_PROCESS\n",
      "SNG_NG\n",
      "SOEC_ELECTROLYSIS\n",
      "STEEL_MAKING\n",
      "STEEL_MAKING_HP\n",
      "STEEL_MAKING_HR\n",
      "STYRENE_POLYMERIZATION\n",
      "TRAFO_EH\n",
      "TRAFO_HE\n",
      "TRAFO_HM\n",
      "TRAFO_LM\n",
      "TRAFO_MH\n",
      "TRAFO_ML\n",
      "TRAIN_DIESEL\n",
      "TRAIN_ELEC\n",
      "TRAIN_FREIGHT\n",
      "TRAIN_FREIGHT_DIESEL\n",
      "TRAIN_FREIGHT_H2\n",
      "TRAIN_FREIGHT_NG\n",
      "TRAIN_H2\n",
      "TRAIN_NG\n",
      "TRAMWAY\n",
      "TRUCK\n",
      "TRUCK_EV\n",
      "TRUCK_FC\n",
      "TRUCK_SNG\n",
      "WIND\n",
      "WOOD_METHANOL\n",
      "Vacuuming database \n"
     ]
    },
    {
     "name": "stderr",
     "output_type": "stream",
     "text": [
      "Writing activities to SQLite3 database:\n",
      "0% [##############################] 100% | ETA: 00:00:00\n",
      "Total time elapsed: 00:00:01\n"
     ]
    },
    {
     "name": "stdout",
     "output_type": "stream",
     "text": [
      "Title: Writing activities to SQLite3 database:\n",
      "  Started: 07/03/2024 19:08:24\n",
      "  Finished: 07/03/2024 19:08:25\n",
      "  Total time elapsed: 00:00:01\n",
      "  CPU %: 55.80\n",
      "  Memory %: 13.69\n"
     ]
    }
   ],
   "execution_count": 18
  },
  {
   "metadata": {},
   "cell_type": "markdown",
   "source": "## Computing the LCA metrics",
   "id": "c8966b7d4073c844"
  },
  {
   "metadata": {
    "ExecuteTime": {
     "end_time": "2024-07-03T23:09:26.249132Z",
     "start_time": "2024-07-03T23:09:23.681648Z"
    }
   },
   "cell_type": "code",
   "source": "esm_db = load_extract_db(new_db_name)",
   "id": "346a097bc95ba505",
   "outputs": [
    {
     "name": "stdout",
     "output_type": "stream",
     "text": [
      "Getting activity data\n"
     ]
    },
    {
     "name": "stderr",
     "output_type": "stream",
     "text": [
      "100%|██████████| 756/756 [00:00<00:00, 150607.67it/s]\n"
     ]
    },
    {
     "name": "stdout",
     "output_type": "stream",
     "text": [
      "Adding exchange data to activities\n"
     ]
    },
    {
     "name": "stderr",
     "output_type": "stream",
     "text": [
      "100%|██████████| 28430/28430 [00:00<00:00, 39603.78it/s]\n"
     ]
    },
    {
     "name": "stdout",
     "output_type": "stream",
     "text": [
      "Filling out exchange data\n"
     ]
    },
    {
     "name": "stderr",
     "output_type": "stream",
     "text": [
      "100%|██████████| 756/756 [00:01<00:00, 441.37it/s]\n"
     ]
    }
   ],
   "execution_count": 19
  },
  {
   "metadata": {
    "ExecuteTime": {
     "end_time": "2024-07-03T23:16:15.208328Z",
     "start_time": "2024-07-03T23:09:26.251921Z"
    }
   },
   "cell_type": "code",
   "source": [
    "R_long = compute_impact_scores(\n",
    "    esm_db=esm_db,\n",
    "    mapping=mapping_linked_to_premise_new_code,\n",
    "    technology_compositions=technology_compositions,\n",
    "    methods=['IMPACT World+ Midpoint 2.0.1', 'IMPACT World+ Damage 2.0.1', 'IMPACT World+ Footprint 2.0.1'],\n",
    "    unit_conversion=unit_conversion,\n",
    "    lifetime=lifetime,\n",
    ")"
   ],
   "id": "c7b7e609caf81b89",
   "outputs": [],
   "execution_count": 20
  },
  {
   "metadata": {
    "ExecuteTime": {
     "end_time": "2024-07-03T23:16:15.310502Z",
     "start_time": "2024-07-03T23:16:15.208328Z"
    }
   },
   "cell_type": "code",
   "source": "R_long.to_csv('results/energyscope_CH/impact_scores.csv', index=False)",
   "id": "79a737bba653ca3d",
   "outputs": [],
   "execution_count": 21
  },
  {
   "metadata": {},
   "cell_type": "markdown",
   "source": "## Convert the results in AMPL format",
   "id": "6719986c7eebe773"
  },
  {
   "metadata": {
    "ExecuteTime": {
     "end_time": "2024-07-03T23:16:15.318804Z",
     "start_time": "2024-07-03T23:16:15.310502Z"
    }
   },
   "cell_type": "code",
   "source": [
    "refactor = 1e-2 # scaling factor to have the highest operation and construction metrics to the same order of magnitude (avoid having too many zeros)\n",
    "lcia_method = 'IMPACT World+ Damage 2.0.1 - Total only'"
   ],
   "id": "cd7e0801c44af8a2",
   "outputs": [],
   "execution_count": 22
  },
  {
   "metadata": {},
   "cell_type": "markdown",
   "source": "### Create the .dat file",
   "id": "f77dcd1918818117"
  },
  {
   "metadata": {
    "ExecuteTime": {
     "end_time": "2024-07-03T23:16:15.378806Z",
     "start_time": "2024-07-03T23:16:15.321322Z"
    }
   },
   "cell_type": "code",
   "source": [
    "normalize_lca_metrics(\n",
    "    R=R_long,\n",
    "    f_norm=1e6,\n",
    "    mip_gap=1e-6,\n",
    "    refactor=refactor,\n",
    "    lcia_method=lcia_method,\n",
    "    impact_abbrev=impact_abbrev,\n",
    "    path='results/energyscope_CH/',\n",
    ")"
   ],
   "id": "19bc7a5c19941011",
   "outputs": [],
   "execution_count": 23
  },
  {
   "metadata": {},
   "cell_type": "markdown",
   "source": "### Create the .mod file",
   "id": "68288b0daa85e77c"
  },
  {
   "metadata": {
    "ExecuteTime": {
     "end_time": "2024-07-03T23:16:15.392993Z",
     "start_time": "2024-07-03T23:16:15.381504Z"
    }
   },
   "cell_type": "code",
   "source": [
    "gen_lcia_obj(\n",
    "    lcia_method=lcia_method,\n",
    "    refactor=refactor,\n",
    "    impact_abbrev=impact_abbrev,\n",
    "    path='results/energyscope_CH/',\n",
    ")"
   ],
   "id": "b9f0e516af190b0f",
   "outputs": [],
   "execution_count": 24
  }
 ],
 "metadata": {
  "kernelspec": {
   "display_name": "Python 3",
   "language": "python",
   "name": "python3"
  },
  "language_info": {
   "codemirror_mode": {
    "name": "ipython",
    "version": 2
   },
   "file_extension": ".py",
   "mimetype": "text/x-python",
   "name": "python",
   "nbconvert_exporter": "python",
   "pygments_lexer": "ipython2",
   "version": "2.7.6"
  }
 },
 "nbformat": 4,
 "nbformat_minor": 5
}
