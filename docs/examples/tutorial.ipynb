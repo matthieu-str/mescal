{
 "cells": [
  {
   "metadata": {},
   "cell_type": "markdown",
   "source": [
    "# Tutorial\n",
    "*mescal* is a [Brightway](https://docs.brightway.dev/en/latest/)-powered Python package that helps you to integrate Life-Cycle Assessment (LCA) in your energy system model"
   ],
   "id": "bac3505a5afe8971"
  },
  {
   "metadata": {},
   "cell_type": "markdown",
   "source": "## Set up",
   "id": "7c15eb9c8df668d6"
  },
  {
   "metadata": {},
   "cell_type": "code",
   "source": [
    "%load_ext autoreload\n",
    "%autoreload 2"
   ],
   "id": "c1a2b2275a9ec01a",
   "outputs": [],
   "execution_count": null
  },
  {
   "metadata": {},
   "cell_type": "code",
   "source": [
    "# Import the required libraries\n",
    "from mescal import *\n",
    "import pandas as pd\n",
    "import bw2data as bd"
   ],
   "id": "ad6977f1e798f1ba",
   "outputs": [],
   "execution_count": null
  },
  {
   "metadata": {},
   "cell_type": "code",
   "source": [
    "ecoinvent_version = '3.10.1' # choose the ecoinvent version you wish to use\n",
    "esm_location = 'CH' # choose the version of energyscope for which you want to generate metrics\n",
    "esm_year = 2020 # choose the year of the energyscope snapshot model or transition pathway time-step\n",
    "spatialized_database = False # set to True if you want to use your spatialized version of ecoinvent\n",
    "regionalize_foregrounds = ['Operation'] # set to 'all' if you want to regionalize the foreground inventories of all types of LCI datasets\n",
    "premise_iam = 'image' # choose the IAM to which the premise database is linked\n",
    "premise_ssp_rcp = 'SSP2-Base' # choose the SSP/RCP scenario to which the premise database is linked"
   ],
   "id": "4cc6dc8c3e2d9486",
   "outputs": [],
   "execution_count": null
  },
  {
   "metadata": {},
   "cell_type": "code",
   "source": [
    "# Set the name of your main LCI database (e.g., ecoinvent or premise database) here:\n",
    "name_premise_db = f\"ecoinvent_cutoff_{ecoinvent_version}_{premise_iam}_{premise_ssp_rcp}_{esm_year}\"\n",
    "name_biosphere_db = 'ecoinvent-3.10.1-biosphere'\n",
    "if spatialized_database:\n",
    "    name_premise_db += ' regionalized'\n",
    "    name_spatialized_biosphere_db = 'biosphere3_spatialized_flows'\n",
    "else:\n",
    "    name_spatialized_biosphere_db = None"
   ],
   "id": "5ae4be2770b3170d",
   "outputs": [],
   "execution_count": null
  },
  {
   "metadata": {},
   "cell_type": "code",
   "source": [
    "# Set the name of the new database with the ESM results\n",
    "esm_db_name = f'EnergyScope_{esm_location}_{esm_year}'"
   ],
   "id": "69fe3b149b828ffd",
   "outputs": [],
   "execution_count": null
  },
  {
   "metadata": {},
   "cell_type": "code",
   "source": [
    "# Main version of ecoinvent (without .1 if any)\n",
    "ecoinvent_main_version = '.'.join(ecoinvent_version.split('.')[:2])"
   ],
   "id": "1c3d17576915f094",
   "outputs": [],
   "execution_count": null
  },
  {
   "metadata": {},
   "cell_type": "code",
   "source": [
    "# Set the list of LCIA methods for which you want indicators (they must be registered in your brightway project)\n",
    "if spatialized_database:\n",
    "    lcia_methods=[\n",
    "        f'IMPACT World+ Midpoint 2.1_regionalized for ecoinvent v{ecoinvent_main_version}', \n",
    "        f'IMPACT World+ Damage 2.1_regionalized for ecoinvent v{ecoinvent_main_version}',\n",
    "    ]\n",
    "else:\n",
    "    lcia_methods=[\n",
    "        f'IMPACT World+ Midpoint 2.1 for ecoinvent v{ecoinvent_main_version}', \n",
    "        f'IMPACT World+ Damage 2.1 for ecoinvent v{ecoinvent_main_version}', \n",
    "        f'IMPACT World+ Footprint 2.1 for ecoinvent v{ecoinvent_main_version}', \n",
    "    ]"
   ],
   "id": "5aae3d0d0ec618dd",
   "outputs": [],
   "execution_count": null
  },
  {
   "metadata": {},
   "cell_type": "markdown",
   "source": "**Note**: you can download IMPACT World+ methods in your brightway project following this [notebook](https://github.com/matthieu-str/mescal/blob/master/dev/download_impact_world_plus.ipynb). Regionalized versions of ecoinvent and IMPACT World+ methods can be downloaded from this [repository](https://github.com/matthieu-str/Regiopremise).",
   "id": "e90719ecb37fefca"
  },
  {
   "metadata": {},
   "cell_type": "code",
   "source": [
    "# Set up your Brightway project\n",
    "bd.projects.set_current(f'ecoinvent{ecoinvent_version}') # put the name of your brightway project here"
   ],
   "id": "54ea776e842fae31",
   "outputs": [],
   "execution_count": null
  },
  {
   "metadata": {},
   "cell_type": "markdown",
   "source": "## Load databases",
   "id": "9e6d381be9e9eb6d"
  },
  {
   "metadata": {},
   "cell_type": "code",
   "source": "premise_db = Database(name_premise_db, create_pickle=True)",
   "id": "f3ef8feb1e562ab3",
   "outputs": [],
   "execution_count": null
  },
  {
   "metadata": {},
   "cell_type": "code",
   "source": [
    "if regionalize_foregrounds & spatialized_database:\n",
    "    spatialized_biosphere_db = Database(name_spatialized_biosphere_db)\n",
    "else:\n",
    "    spatialized_biosphere_db = None"
   ],
   "id": "e771abcbdc25d432",
   "outputs": [],
   "execution_count": null
  },
  {
   "metadata": {},
   "cell_type": "markdown",
   "source": [
    "## Your data\n",
    "For mescal to understand the structure of your energy system model, you need to provide it with a set of dataframes."
   ],
   "id": "8325f04c8e08b23f"
  },
  {
   "metadata": {},
   "cell_type": "markdown",
   "source": "### Mandatory dataframes",
   "id": "313875e4236bc644"
  },
  {
   "metadata": {},
   "cell_type": "code",
   "source": [
    "mapping = pd.read_csv(f'../dev/energyscope_data/{esm_location}/mapping.csv')\n",
    "unit_conversion = pd.read_csv(f'../dev/energyscope_data/{esm_location}/unit_conversion.csv')\n",
    "mapping_esm_flows_to_CPC = pd.read_csv(f'../dev/energyscope_data/{esm_location}/mapping_esm_flows_to_CPC.csv')\n",
    "model = pd.read_csv(f'../dev/energyscope_data/{esm_location}/model.csv')"
   ],
   "id": "6890050f93afe1d1",
   "outputs": [],
   "execution_count": null
  },
  {
   "metadata": {},
   "cell_type": "markdown",
   "source": [
    "A mapping between the energy technologies and resources of the energy system model, and Life-Cycle Inventories datasets (LCI) from an LCI database (e.g., ecoinvent). The mapping should be provided in a dataframe with the following columns:\n",
    "- `Name`: the name of the energy technology or resource in the energy model \n",
    "- `Type`: the type of the energy technology or resource (i.e., 'Construction', 'Operation', 'Resource' or 'Flow')  \n",
    "- `Product`: the name of the product of the energy technology or resource in the LCI database\n",
    "- `Activity`: the name of the activity of the energy technology or resource in the LCI database\n",
    "- `Location`: the name of the location of the energy technology or resource in the LCI database\n",
    "- `Unit`: (optional) the physical unit of the energy technology or resource in the LCI database\n",
    "- `Database`: the name of the database in your brightway project\n",
    "\n",
    "If you wish to change the version of ecoinvent used in your mapping file, you can follow this [notebook](https://github.com/matthieu-str/mescal/blob/master/dev/mapping_ecoinvent_version.ipynb). "
   ],
   "id": "29846070143e8b95"
  },
  {
   "metadata": {},
   "cell_type": "code",
   "source": "mapping.head()",
   "id": "642b5fe1b99a6f7f",
   "outputs": [],
   "execution_count": null
  },
  {
   "metadata": {},
   "cell_type": "markdown",
   "source": [
    "A set of unit conversion factors between the energy system model and the LCI database. The conversion factors should be provided in a dataframe with the following columns:\n",
    "- `Name`: the name of the energy technology or resource in the energy system model \n",
    "- `Type`: the type of the energy technology or resource (i.e., 'Construction', 'Operation', 'Resource', or 'Other'). Other types can be added to fit your needs. The 'Other' category is meant for the unit conversion that are not specific to a technology or resource, but rather a generic type of product, e.g., conversion from kilogram to kilowatt hour for natural gas.\n",
    "- `Value`: the numerical value of the conversion factor that will multiply the impact scores. It actually denotes the conversion from Impact / LCA unit to Impact / ESM unit. \n",
    "- `ESM`: the unit of the energy technology or resource in the ESM\n",
    "- `LCA`: the target unit of the energy technology or resource in the LCA database\n",
    "- `Assumptions & Sources` (optional): additional information on the conversion factor.\n",
    "\n",
    "The `LCA` and `ESM` columns should respect the ecoinvent naming convention. You may use the `ecoinvent_unit_convention` function to convert the unit naming convention you've used to the one of ecoinvent."
   ],
   "id": "c63431e4a57bb29f"
  },
  {
   "metadata": {},
   "cell_type": "code",
   "source": "unit_conversion.head()",
   "id": "40412ea78d6dc8af",
   "outputs": [],
   "execution_count": null
  },
  {
   "metadata": {},
   "cell_type": "markdown",
   "source": [
    "A mapping between the energy system model flows and CPC categories. The mapping should be provided in a dataframe with the following columns:\n",
    "- `Flow`: the name of the flow in the ESM\n",
    "- `Description`: (optional) the description of the product\n",
    "- `CPC`: the list of names of corresponding CPC categories"
   ],
   "id": "b873476e1c532db4"
  },
  {
   "metadata": {},
   "cell_type": "code",
   "source": "mapping_esm_flows_to_CPC.head()",
   "id": "7254119105672bd2",
   "outputs": [],
   "execution_count": null
  },
  {
   "metadata": {},
   "cell_type": "markdown",
   "source": [
    "The input and output flows of energy technologies. For a given technology, the inputs and outputs should be given with the same unit. Also, the main output flow should have 1 as an amount, i.e., all other flows as scaled with respect to the main output. It should be provided in a dataframe with the following columns:\n",
    "- `Name`: the name of the energy technology in the energy system model\n",
    "- `Flow`: the name of the input or output flow\n",
    "- `Amount`: the numerical value of the flow (negative if input, positive if output)  "
   ],
   "id": "639bfa05b6354e4b"
  },
  {
   "metadata": {},
   "cell_type": "code",
   "source": "model.head()",
   "id": "176d23eb6579c212",
   "outputs": [],
   "execution_count": null
  },
  {
   "metadata": {},
   "cell_type": "markdown",
   "source": "### Optional dataframes",
   "id": "48478041736e84c0"
  },
  {
   "metadata": {},
   "cell_type": "code",
   "source": [
    "technology_compositions = pd.read_csv(f'../dev/energyscope_data/{esm_location}/technology_compositions.csv')\n",
    "technology_specifics = pd.read_csv(f'../dev/energyscope_data/{esm_location}/technology_specifics.csv') \n",
    "lifetime = pd.read_csv(f'../dev/energyscope_data/{esm_location}/lifetime.csv')\n",
    "efficiency = pd.read_csv(f'../dev/energyscope_data/{esm_location}/efficiency.csv')\n",
    "mapping_product_to_CPC = pd.read_csv('../mescal/data/mapping_new_products_to_CPC.csv')\n",
    "impact_abbrev = pd.read_csv('../dev/lcia/impact_abbrev.csv')\n",
    "technologies_to_remove_from_layers = pd.read_csv(f'../dev/energyscope_data/{esm_location}/technologies_to_remove_from_layers.csv')\n",
    "new_end_use_types = pd.read_csv(f'../dev/energyscope_data/{esm_location}/new_end_use_types.csv')\n",
    "results_from_esm = pd.read_csv(f'../dev/energyscope_data/{esm_location}/results_ES.csv')"
   ],
   "id": "dd4f202b4dbb9052",
   "outputs": [],
   "execution_count": null
  },
  {
   "metadata": {},
   "cell_type": "markdown",
   "source": [
    "A set of composition of technologies, i.e., if one technology or resource in the energy model should be represented by a combination of LCI datasets. The composition should be provided in a dataframe with the following columns:\n",
    "- `Name`: the name of the main energy technology or resource in the energy model \n",
    "- `Components`: the list of names of subcomponents"
   ],
   "id": "eee94b00d44a2efa"
  },
  {
   "metadata": {},
   "cell_type": "code",
   "source": "technology_compositions.head()",
   "id": "de810a82e99b68e",
   "outputs": [],
   "execution_count": null
  },
  {
   "metadata": {},
   "cell_type": "markdown",
   "source": [
    "A set of technologies with specific requirements. For instance, this stands for energy technologies without a construction phase, mobility technologies (if mismatch fuel in the LCI dataset), bio-processes (if mismatch fuel in the LCI dataset), etc. The requirements should be provided in a dataframe with the following columns:\n",
    "- `Name`: the name of the energy technology in the energy model\n",
    "- `Specifics`: the type of requirement. Can be '**Background search**' (i.e., double-counting removal is run n levels in the background, n being defined in Amount), '**Decommissioning**' (i.e., the technology has a decommissioning LCI dataset outside its infrastructure LCI dataset), '**Mobility**' (i.e., EUD types for which associated technologies are characterized as a mobility mean, to further add a FUEL layer), '**No background search**' (i.e., double-counting removal is not applied beyond the activity direct exchanges), '**No double-counting removal**' (i.e., the double-counting removal step is skipped), '**No construction**' (i.e., the technology has no infrastructure LCI dataset), '**Process**' (i.e., the technology is characterized as an industrial bio-process, to further add a PROCESS_FUEL layer), '**DAC**' (for *premise* DAC technologies, to change the biogenic carbon flow into a fossil one), '**Biofuel**' (i.e., adapt direct emissions to the biofuel input: partially change fossil carbon emissions into biogenic ones), '**Import/Export**' (these activities will keep their original locations and will not be regionalized), '**Carbon flows**' (the direct carbon emissions of these activities will be multiplied by a factor), '**Add CC**' (add a carbon capture process to a technology, and modifies its direct carbon dioxide emissions according to the capture efficiency), '**Add CO2 (flow_type)**' (add a resource/emission flow of CO2 to an activity, flow_type can be 'fossil', 'non-fossil', 'from soil or biomass stock', 'in air', or 'non-fossil, resource correction')."
   ],
   "id": "7bdd1fc2ddf77780"
  },
  {
   "metadata": {},
   "cell_type": "code",
   "source": "technology_specifics.head()",
   "id": "6424ff1019091799",
   "outputs": [],
   "execution_count": null
  },
  {
   "metadata": {},
   "cell_type": "markdown",
   "source": [
    "Energy technologies lifetimes in the ESM and the LCI database. For composition of technologies (if any), the main technology should not have a LCA lifetime (no LCI dataset is associated to it), while the sub-components should not have an ESM lifetime (they do not have a proper technology in the ESM). The lifetimes should be provided in a dataframe with the following columns:\n",
    "- `Name`: the name of the energy technology in the energy system model\n",
    "- `ESM`: the numerical value of the lifetime in the energy system model (if relevant)\n",
    "- `LCA`: the numerical value of the lifetime in the LCI database (if relevant)\n",
    "- `Comment`: (optional) additional information the `Amount` computation (if relevant)"
   ],
   "id": "326561ead79cf4c9"
  },
  {
   "metadata": {},
   "cell_type": "code",
   "source": "lifetime.head()",
   "id": "e268fad4190c4c8a",
   "outputs": [],
   "execution_count": null
  },
  {
   "metadata": {},
   "cell_type": "markdown",
   "source": [
    "If you want to account for the possible efficiency differences between the ESM and the LCI datasets, you can provide a set of (technologies, flow) couples for which efficiency differences will be corrected by the scaling the elementary flows. Taking the example of the diesel car, the couple should be something like ('CAR_DIESEL', 'DIESEL'), the flow being the fuel of the technology responsible for direct emissions. Relevant biosphere flows will be the ratio between the LCA and ESM efficiencies. The (technology, flow) couples should be provided in a dataframe with the following columns:\n",
    "- `Name`: the name of the energy technology in the ESM\n",
    "- `Flow`: the name of the flow in the ESM\n",
    "- `Comment`: (optional) additional information on the set of `Flows`"
   ],
   "id": "be443561d3ffbf43"
  },
  {
   "metadata": {},
   "cell_type": "code",
   "source": "efficiency.head()",
   "id": "ebdf65eaa517f199",
   "outputs": [],
   "execution_count": null
  },
  {
   "metadata": {},
   "cell_type": "markdown",
   "source": [
    "In case you have a LCI database (partially) without CPC categories (which are necessary for the double-counting check), you can provide a mapping between the products and activities in the LCI database and the CPC categories. The mapping should be provided in a dataframe with the following columns:\n",
    "- `Name`: the full or partial name of the product or activity in the LCI database\n",
    "- `CPC`: the number and name of the corresponding CPC category\n",
    "- `Search type`: can be 'equals' if the `Name` entry is an exactly the name to look for, or 'contains' if it is contained in the full name\n",
    "- `Where`: can be 'Product' or 'Activity', whether the `Name` entry is meant for products or activities"
   ],
   "id": "330ee60ba864372a"
  },
  {
   "metadata": {},
   "cell_type": "code",
   "source": "mapping_product_to_CPC.head()",
   "id": "253e3eafb347c0af",
   "outputs": [],
   "execution_count": null
  },
  {
   "metadata": {},
   "cell_type": "markdown",
   "source": [
    "An abbreviation scheme for the impact categories you aim to work with, to ease the readability in the ESM. The one of IMPACT World+ is available in this [csv file](https://github.com/matthieu-str/mescal/blob/master/dev/lcia/impact_abbrev.csv). The abbreviations should be provided in a dataframe with the following columns:\n",
    "- `Impact_category`: the name of the impact category, expressed as a tuple following brightway convention\n",
    "- `Unit`: (optional) the unit of the impact category\n",
    "- `Abbrev`: the abbreviation of the impact category\n",
    "- `AoP`: the area of protection of the impact category. The normalization of indicators will be performed based of AoPs. If you do not have AoPs (e.g., midpoint-level indicators), set as many AoPs as you have impact categories."
   ],
   "id": "b5da46d185c9766f"
  },
  {
   "metadata": {},
   "cell_type": "code",
   "source": "impact_abbrev.head()",
   "id": "a3da253e1403384a",
   "outputs": [],
   "execution_count": null
  },
  {
   "metadata": {},
   "cell_type": "markdown",
   "source": [
    "In case you want to remove some energy technologies from energy layers in the results LCI datasets to be added to the LCI database, you can provide a list of technologies to remove. The list should be provided in a dataframe with the following columns:\n",
    "- `Layers`: name of the layer(s). A layer is basically an energy vector, which is an output for some energy technologies and an input for some others. \n",
    "- `Technologies`: the name of the energy technology to remove from the layer(s)\n",
    "- `Comment`: (optional) a comment on the removal"
   ],
   "id": "eb16bb1f7309ca37"
  },
  {
   "metadata": {},
   "cell_type": "code",
   "source": "technologies_to_remove_from_layers.head()",
   "id": "846d3b9a433837cb",
   "outputs": [],
   "execution_count": null
  },
  {
   "metadata": {},
   "cell_type": "markdown",
   "source": [
    "If you want to reformat your end-use types (e.g., output layer) in order to better fit the LCI database, you can provide a list of new end-use types. The list should be provided in a dataframe with the following columns:\n",
    "- `Name`: name of technologies for which the end-use type should be changed\n",
    "- `Search type`: whether the `Name` entry is an exactly the name to look for ('equals'), is contained in the full name ('contains'), or is the beginning of the full name ('startswith')\n",
    "- `Old`: the current end-use type\n",
    "- `New`: the new end-use type"
   ],
   "id": "c1f82852ad4b7e07"
  },
  {
   "metadata": {},
   "cell_type": "code",
   "source": "new_end_use_types.head()",
   "id": "f6634cc71a6b13d",
   "outputs": [],
   "execution_count": null
  },
  {
   "metadata": {},
   "cell_type": "markdown",
   "source": [
    "If you want to inject the results of your ESM back in the LCI database, you should provide the results in a dataframe with the following columns:\n",
    "- `Name`: the name of the energy technology in the ESM\n",
    "- `Production`: the annual production value of the energy technology in the ESM. All values should be provided with the same unit.\n",
    "- `Capacity`: the installed capacity of the energy technology in the ESM. All values should be provided with the same unit.\n",
    "- `Year`: the year of the ESM snapshot or transition pathway time-step.\n",
    "- `Year_inst`: the year of installation of the energy technology. This is only required for `PathwayESM` if `operation_metrics_for_all_time_steps` is True."
   ],
   "id": "edecc3e872780922"
  },
  {
   "metadata": {},
   "cell_type": "code",
   "source": "results_from_esm.head()",
   "id": "39fc1572bfbdc36d",
   "outputs": [],
   "execution_count": null
  },
  {
   "metadata": {},
   "cell_type": "markdown",
   "source": "### Optional geographical data",
   "id": "9ab87522b2705c27"
  },
  {
   "metadata": {},
   "cell_type": "code",
   "source": [
    "# sufficient match within ecoinvent\n",
    "if esm_location == 'CA-QC':\n",
    "    accepted_locations = ['CA-QC', 'CA']\n",
    "elif esm_location == 'CH':\n",
    "    accepted_locations = ['CH']\n",
    "else:\n",
    "    accepted_locations = ['GLO', 'RoW']"
   ],
   "id": "145d3b7fdc23fcc9",
   "outputs": [],
   "execution_count": null
  },
  {
   "metadata": {},
   "cell_type": "code",
   "source": [
    "# Define the user-defined ranking\n",
    "if esm_location == 'CA-QC':\n",
    "    my_ranking = [\n",
    "        'CA-QC', # Quebec\n",
    "        'CA', # Canada\n",
    "        'CAN', # Canada in IMAGE\n",
    "        'CAZ', # Canada - Australia - New Zealand in REMIND\n",
    "        'RNA', # North America\n",
    "        'US', # United States\n",
    "        'USA', # United States in REMIND and IMAGE\n",
    "        'GLO', # Global average \n",
    "        'RoW', # Rest of the world\n",
    "    ]\n",
    "elif esm_location == 'CH':\n",
    "    my_ranking = [\n",
    "        'CH',\n",
    "        'NEU',\n",
    "        'EUR',\n",
    "        'WEU',\n",
    "        'RER', \n",
    "        'IAI Area, EU27 & EFTA',\n",
    "        'GLO',\n",
    "        'RoW'\n",
    "    ]\n",
    "else:\n",
    "    my_ranking = [\n",
    "        'GLO',\n",
    "        'RoW',\n",
    "    ]"
   ],
   "id": "b27bcbc91b924324",
   "outputs": [],
   "execution_count": null
  },
  {
   "metadata": {},
   "cell_type": "markdown",
   "source": [
    "## Create a new database with additional CPC categories (optional)\n",
    "In case you are working with a LCI database without CPC categories, you can create a new database with the CPC categories. The function `create_new_database_with_CPC_categories` takes as input the database with missing CPC categories, the name of the new database, and a mapping between the products and activities in the LCI database and the CPC categories. It creates a new database with the CPC categories. This step can take a few minutes depending on the size of the database."
   ],
   "id": "93d4cc0ac977b2e1"
  },
  {
   "metadata": {},
   "cell_type": "code",
   "source": [
    "# If necessary, add missing CPC categories to the database\n",
    "premise_db.add_CPC_categories()"
   ],
   "id": "4cd76ab14b74aed2",
   "outputs": [],
   "execution_count": null
  },
  {
   "metadata": {},
   "cell_type": "markdown",
   "source": "## Initialize the ESM database",
   "id": "c851693f8d9c7470"
  },
  {
   "metadata": {},
   "cell_type": "code",
   "source": "mapping.Database = name_premise_db",
   "id": "15dfcd77f62765b9",
   "outputs": [],
   "execution_count": null
  },
  {
   "metadata": {},
   "cell_type": "code",
   "source": [
    "esm = ESM(\n",
    "    # Mandatory inputs\n",
    "    mapping=mapping,\n",
    "    unit_conversion=unit_conversion,\n",
    "    model=model,\n",
    "    mapping_esm_flows_to_CPC_cat=mapping_esm_flows_to_CPC,\n",
    "    main_database=premise_db,\n",
    "    esm_db_name=esm_db_name,\n",
    "    biosphere_db_name=name_biosphere_db,\n",
    "    esm_location=esm_location,\n",
    "\n",
    "    # Optional inputs\n",
    "    technology_compositions=technology_compositions,\n",
    "    tech_specifics=technology_specifics,\n",
    "    lifetime=lifetime,\n",
    "    efficiency=efficiency,\n",
    "    regionalize_foregrounds=regionalize_foregrounds,\n",
    "    accepted_locations=accepted_locations,\n",
    "    locations_ranking=my_ranking,\n",
    "    spatialized_biosphere_db=spatialized_biosphere_db,\n",
    "    results_path_file=f'results/energyscope_{esm_location}/{esm_year}/',\n",
    ")"
   ],
   "id": "1a94b922a1fff43",
   "outputs": [],
   "execution_count": null
  },
  {
   "metadata": {},
   "cell_type": "code",
   "source": "esm.check_inputs()",
   "id": "22b602d98c6ca04",
   "outputs": [],
   "execution_count": null
  },
  {
   "metadata": {},
   "cell_type": "markdown",
   "source": [
    "## Add or replace the location column based on a user-defined ranking (optional)\n",
    "Based on a user-defined ranking, the location column of the mapping dataframe can be updated. The function `change_location_mapping_file` takes as input the mapping dataframe, the user-defined ranking, and the base database. It returns the mapping dataframe with the location column updated."
   ],
   "id": "fdff9a72e4fbf70a"
  },
  {
   "metadata": {},
   "cell_type": "code",
   "source": [
    "# Update mapping dataframe with better locations\n",
    "esm.change_location_mapping_file()"
   ],
   "id": "cb4951f2d751a738",
   "outputs": [],
   "execution_count": null
  },
  {
   "metadata": {},
   "cell_type": "code",
   "source": "esm.mapping.head()",
   "id": "7e32ad69b357fc0e",
   "outputs": [],
   "execution_count": null
  },
  {
   "metadata": {},
   "cell_type": "markdown",
   "source": "## Create ESM database after double-counting removal, efficiency harmonization, and lifetime harmonization",
   "id": "4d25a01896041d53"
  },
  {
   "metadata": {},
   "cell_type": "code",
   "source": "esm.create_esm_database()",
   "id": "dcb433d280e724c4",
   "outputs": [],
   "execution_count": null
  },
  {
   "metadata": {},
   "cell_type": "markdown",
   "source": "## Computing the LCA metrics",
   "id": "6b4cb46fb46fc271"
  },
  {
   "metadata": {},
   "cell_type": "code",
   "source": [
    "R_long_direct_emissions, _, _ = esm.compute_impact_scores(\n",
    "    methods=lcia_methods,\n",
    "    assessment_type='direct emissions',\n",
    "    overwrite=False,\n",
    ")"
   ],
   "id": "e302b5dffde9e360",
   "outputs": [],
   "execution_count": null
  },
  {
   "metadata": {},
   "cell_type": "code",
   "source": "R_long_direct_emissions.to_csv(f'results/energyscope_{esm_location}/{esm_year}/impact_scores_direct_emissions.csv', index=False)",
   "id": "fea7a22995ed8628",
   "outputs": [],
   "execution_count": null
  },
  {
   "metadata": {},
   "cell_type": "code",
   "source": [
    "validation_direct_cf = esm._validation_direct_carbon_footprints(\n",
    "    R_direct=R_long_direct_emissions,\n",
    "    lcia_method_carbon_footprint=('IMPACT World+ Midpoint 2.1 for ecoinvent v3.10', 'Midpoint', 'Climate change, short term'),\n",
    "    carbon_flow_in_esm='CO2_E',\n",
    ")"
   ],
   "id": "d426c9e6ecc43f5f",
   "outputs": [],
   "execution_count": null
  },
  {
   "metadata": {},
   "cell_type": "code",
   "source": [
    "R_long, contrib_analysis_res, _ = esm.compute_impact_scores(\n",
    "    methods=lcia_methods,\n",
    "    contribution_analysis='emissions',\n",
    ")"
   ],
   "id": "eec23a6fa77a5fb8",
   "outputs": [],
   "execution_count": null
  },
  {
   "metadata": {},
   "cell_type": "code",
   "source": [
    "R_long.to_csv(f'results/energyscope_{esm_location}/{esm_year}/impact_scores.csv', index=False)\n",
    "contrib_analysis_res.to_csv(f'results/energyscope_{esm_location}/{esm_year}/contribution_analysis.csv', index=False)"
   ],
   "id": "287129cdf4552801",
   "outputs": [],
   "execution_count": null
  },
  {
   "metadata": {},
   "cell_type": "code",
   "source": "R_long.head()",
   "id": "ca731ef9eda9ba66",
   "outputs": [],
   "execution_count": null
  },
  {
   "metadata": {},
   "cell_type": "code",
   "source": "contrib_analysis_res.head()",
   "id": "66388d14aeabe646",
   "outputs": [],
   "execution_count": null
  },
  {
   "metadata": {},
   "cell_type": "markdown",
   "source": "## Convert the results in an AMPL format",
   "id": "eced4286c9628abb"
  },
  {
   "metadata": {},
   "cell_type": "code",
   "source": [
    "# To skip the previous steps\n",
    "# R_long = pd.read_csv(f'results/energyscope_{esm_location}/{esm_year}/impact_scores.csv')\n",
    "# R_long_direct_emissions = pd.read_csv(f'results/energyscope_{esm_location}/{esm_year}/impact_scores_direct_emissions.csv')"
   ],
   "id": "34a01c8bb7ba33d7",
   "outputs": [],
   "execution_count": null
  },
  {
   "metadata": {},
   "cell_type": "code",
   "source": "R_long.Value *= 1e6 # from FU / kW(h)-pkm-tkm to FU / GW(h)-Mpkm-Mtkm",
   "id": "e0cc31ee7f0e09d9",
   "outputs": [],
   "execution_count": null
  },
  {
   "metadata": {},
   "cell_type": "code",
   "source": "R_long_direct_emissions.Value *= 1e6 # from FU / kW(h)-pkm-tkm to FU / GW(h)-Mpkm-Mtkm",
   "id": "28226e74db6fab3c",
   "outputs": [],
   "execution_count": null
  },
  {
   "metadata": {},
   "cell_type": "code",
   "source": [
    "# Tou can specify which specific LCIA methods or impact categories you wish to use using one of the three following options:\n",
    "specific_lcia_methods = ['IMPACT World+ Footprint 2.1 for ecoinvent v3.10'] # selects the specific methods via their names\n",
    "# specific_lcia_categories = ['Total ecosystem quality', 'Total human health']  # selects the specific impact categories via their names \n",
    "# specific_lcia_abbrev = ['TTHH', 'TTEQ', 'm_CCS'] # selects the specific impact categories via their abbreviations"
   ],
   "id": "6d4128137d2a0b5e",
   "outputs": [],
   "execution_count": null
  },
  {
   "metadata": {},
   "cell_type": "code",
   "source": [
    "# Additional information that can be added at the beginning of the AMPL .mod and .dat files\n",
    "metadata = {\n",
    "    'ecoinvent_version': ecoinvent_version,\n",
    "    'year': esm_year,\n",
    "    'spatialized': spatialized_database,\n",
    "    'regionalized': regionalize_foregrounds,\n",
    "    'iam': premise_iam,\n",
    "    'ssp_rcp': premise_ssp_rcp,\n",
    "    'lcia_methods': lcia_methods,\n",
    "}"
   ],
   "id": "5a63cc009a68125f",
   "outputs": [],
   "execution_count": null
  },
  {
   "metadata": {},
   "cell_type": "markdown",
   "source": "### Normalize LCA indicators and create the .dat file",
   "id": "d3b36a88c73fce21"
  },
  {
   "metadata": {},
   "cell_type": "code",
   "source": [
    "esm.normalize_lca_metrics(\n",
    "    R=R_long,\n",
    "    mip_gap=1e-6,\n",
    "    lcia_methods=specific_lcia_methods,\n",
    "    impact_abbrev=impact_abbrev,\n",
    "    path=f'results/energyscope_{esm_location}/{esm_year}/',\n",
    "    metadata=metadata,\n",
    ")"
   ],
   "id": "dd3b491c4e3d8ebb",
   "outputs": [],
   "execution_count": null
  },
  {
   "metadata": {},
   "cell_type": "code",
   "source": [
    "esm.normalize_lca_metrics(\n",
    "    R=R_long_direct_emissions,\n",
    "    mip_gap=1e-6,\n",
    "    lcia_methods=lcia_methods,\n",
    "    # specific_lcia_abbrev=specific_lcia_abbrev,\n",
    "    assessment_type='direct emissions',\n",
    "    max_per_cat=pd.read_csv(f'results/energyscope_{esm_location}/{esm_year}/res_lcia_max.csv'),\n",
    "    impact_abbrev=impact_abbrev,\n",
    "    path=f'results/energyscope_{esm_location}/{esm_year}/',\n",
    "    metadata=metadata,\n",
    "    file_name='techs_lcia_direct',\n",
    ")"
   ],
   "id": "41a2a5e465273dab",
   "outputs": [],
   "execution_count": null
  },
  {
   "metadata": {},
   "cell_type": "markdown",
   "source": "### Create the .mod file",
   "id": "66b13911bb933dc5"
  },
  {
   "metadata": {},
   "cell_type": "code",
   "source": [
    "esm.generate_mod_file_ampl(\n",
    "    lcia_methods=specific_lcia_methods,\n",
    "    # specific_lcia_abbrev=specific_lcia_abbrev,\n",
    "    impact_abbrev=impact_abbrev,\n",
    "    path=f'results/energyscope_{esm_location}/{esm_year}/',\n",
    "    metadata=metadata,\n",
    ")"
   ],
   "id": "d481ec84345d14d0",
   "outputs": [],
   "execution_count": null
  },
  {
   "metadata": {},
   "cell_type": "code",
   "source": [
    "esm.generate_mod_file_ampl(\n",
    "    lcia_methods=lcia_methods,\n",
    "    # specific_lcia_abbrev=specific_lcia_abbrev,\n",
    "    assessment_type='direct emissions',\n",
    "    impact_abbrev=impact_abbrev,\n",
    "    path=f'results/energyscope_{esm_location}/{esm_year}/',\n",
    "    metadata=metadata,\n",
    "    file_name='objectives_direct',\n",
    ")"
   ],
   "id": "f7e8ab19511f4a5f",
   "outputs": [],
   "execution_count": null
  },
  {
   "metadata": {},
   "cell_type": "markdown",
   "source": "## Integrate the ESM results back in the LCI database",
   "id": "9851a5bde60e6e51"
  },
  {
   "metadata": {},
   "cell_type": "code",
   "source": [
    "esm.create_new_database_with_esm_results(\n",
    "    esm_results=results_from_esm,\n",
    "    new_end_use_types=new_end_use_types,\n",
    "    tech_to_remove_layers=technologies_to_remove_from_layers,\n",
    "    write_database=True,\n",
    "    remove_background_construction_flows=True,\n",
    "    harmonize_with_esm=False,\n",
    ")"
   ],
   "id": "4730e3ad33f56345",
   "outputs": [],
   "execution_count": null
  },
  {
   "metadata": {},
   "cell_type": "code",
   "source": "esm.connect_esm_results_to_database(create_new_db=True)",
   "id": "d3a3766a8cb0cbe6",
   "outputs": [],
   "execution_count": null
  }
 ],
 "metadata": {
  "kernelspec": {
   "display_name": "Python 3",
   "language": "python",
   "name": "python3"
  },
  "language_info": {
   "codemirror_mode": {
    "name": "ipython",
    "version": 2
   },
   "file_extension": ".py",
   "mimetype": "text/x-python",
   "name": "python",
   "nbconvert_exporter": "python",
   "pygments_lexer": "ipython2",
   "version": "2.7.6"
  }
 },
 "nbformat": 4,
 "nbformat_minor": 5
}
