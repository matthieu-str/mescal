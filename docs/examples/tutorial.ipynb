{
 "cells": [
  {
   "metadata": {},
   "cell_type": "markdown",
   "source": [
    "# Tutorial\n",
    "*mescal* is a [Brightway](https://docs.brightway.dev/en/latest/)-powered Python package that helps you to integrate Life-Cycle Assessment (LCA) in your energy system model"
   ],
   "id": "bac3505a5afe8971"
  },
  {
   "metadata": {},
   "cell_type": "markdown",
   "source": "## Set up",
   "id": "7c15eb9c8df668d6"
  },
  {
   "metadata": {
    "ExecuteTime": {
     "end_time": "2025-10-28T09:56:08.128937Z",
     "start_time": "2025-10-28T09:56:08.084427Z"
    }
   },
   "cell_type": "code",
   "source": [
    "%load_ext autoreload\n",
    "%autoreload 2"
   ],
   "id": "c1a2b2275a9ec01a",
   "outputs": [],
   "execution_count": 1
  },
  {
   "metadata": {
    "ExecuteTime": {
     "end_time": "2025-10-28T09:56:15.407172Z",
     "start_time": "2025-10-28T09:56:08.539101Z"
    }
   },
   "cell_type": "code",
   "source": [
    "# Import the required libraries\n",
    "from mescal import *\n",
    "import pandas as pd\n",
    "import bw2data as bd"
   ],
   "id": "ad6977f1e798f1ba",
   "outputs": [],
   "execution_count": 2
  },
  {
   "metadata": {
    "ExecuteTime": {
     "end_time": "2025-10-28T09:56:15.531226Z",
     "start_time": "2025-10-28T09:56:15.420054Z"
    }
   },
   "cell_type": "code",
   "source": [
    "ecoinvent_version = '3.9.1' # choose the ecoinvent version you wish to use\n",
    "esm_location = 'CH' # choose the version of energyscope for which you want to generate metrics\n",
    "esm_year = 2050 # choose the year of the energyscope snapshot model or transition pathway time-step\n",
    "spatialized_database = False # set to True if you want to use your spatialized version of ecoinvent\n",
    "regionalize_foregrounds = ['Operation'] # set to 'all' if you want to regionalize the foreground inventories of all types of LCI datasets\n",
    "premise_iam = 'image' # choose the IAM to which the premise database is linked\n",
    "premise_ssp_rcp = 'SSP2-Base' # choose the SSP/RCP scenario to which the premise database is linked"
   ],
   "id": "4cc6dc8c3e2d9486",
   "outputs": [],
   "execution_count": 3
  },
  {
   "metadata": {
    "ExecuteTime": {
     "end_time": "2025-10-28T09:56:16.579573Z",
     "start_time": "2025-10-28T09:56:16.456142Z"
    }
   },
   "cell_type": "code",
   "source": [
    "# Set the name of your main LCI database (e.g., ecoinvent or premise database) here:\n",
    "name_premise_db = f\"ecoinvent_cutoff_{ecoinvent_version}_{premise_iam}_{premise_ssp_rcp}_{esm_year}\"\n",
    "name_biosphere_db = 'biosphere3'\n",
    "if spatialized_database:\n",
    "    name_premise_db += ' regionalized'\n",
    "    name_spatialized_biosphere_db = 'biosphere3_spatialized_flows'\n",
    "else:\n",
    "    name_spatialized_biosphere_db = None"
   ],
   "id": "5ae4be2770b3170d",
   "outputs": [],
   "execution_count": 4
  },
  {
   "metadata": {
    "ExecuteTime": {
     "end_time": "2025-10-28T09:56:16.692299Z",
     "start_time": "2025-10-28T09:56:16.587029Z"
    }
   },
   "cell_type": "code",
   "source": [
    "# Set the name of the new database with the ESM results\n",
    "esm_db_name = f'EnergyScope_{esm_location}_{esm_year}_Test'"
   ],
   "id": "69fe3b149b828ffd",
   "outputs": [],
   "execution_count": 5
  },
  {
   "metadata": {
    "ExecuteTime": {
     "end_time": "2025-10-28T09:56:16.846008Z",
     "start_time": "2025-10-28T09:56:16.740627Z"
    }
   },
   "cell_type": "code",
   "source": [
    "# Main version of ecoinvent (without .1 if any)\n",
    "ecoinvent_main_version = '.'.join(ecoinvent_version.split('.')[:2])"
   ],
   "id": "1c3d17576915f094",
   "outputs": [],
   "execution_count": 6
  },
  {
   "metadata": {
    "ExecuteTime": {
     "end_time": "2025-10-28T09:56:16.981420Z",
     "start_time": "2025-10-28T09:56:16.849439Z"
    }
   },
   "cell_type": "code",
   "source": [
    "# Set the list of LCIA methods for which you want indicators (they must be registered in your brightway project)\n",
    "if spatialized_database:\n",
    "    lcia_methods=[\n",
    "        f'IMPACT World+ Midpoint 2.1_regionalized for ecoinvent v{ecoinvent_main_version}', \n",
    "        f'IMPACT World+ Damage 2.1_regionalized for ecoinvent v{ecoinvent_main_version}',\n",
    "    ]\n",
    "else:\n",
    "    lcia_methods=[\n",
    "        f'IMPACT World+ Midpoint 2.1 for ecoinvent v{ecoinvent_main_version}', \n",
    "        f'IMPACT World+ Damage 2.1 for ecoinvent v{ecoinvent_main_version}', \n",
    "        f'IMPACT World+ Footprint 2.1 for ecoinvent v{ecoinvent_main_version}', \n",
    "    ]"
   ],
   "id": "5aae3d0d0ec618dd",
   "outputs": [],
   "execution_count": 7
  },
  {
   "metadata": {},
   "cell_type": "markdown",
   "source": "**Note**: you can download IMPACT World+ methods in your brightway project following this [notebook](https://github.com/matthieu-str/mescal/blob/master/dev/download_impact_world_plus.ipynb). Regionalized versions of ecoinvent and IMPACT World+ methods can be downloaded from this [repository](https://github.com/matthieu-str/Regiopremise).",
   "id": "e90719ecb37fefca"
  },
  {
   "metadata": {
    "ExecuteTime": {
     "end_time": "2025-10-28T09:56:17.268801Z",
     "start_time": "2025-10-28T09:56:17.007724Z"
    }
   },
   "cell_type": "code",
   "source": [
    "# Set up your Brightway project\n",
    "bd.projects.set_current(f'ecoinvent{ecoinvent_version}') # put the name of your brightway project here"
   ],
   "id": "54ea776e842fae31",
   "outputs": [],
   "execution_count": 8
  },
  {
   "metadata": {},
   "cell_type": "markdown",
   "source": "## Load databases",
   "id": "9e6d381be9e9eb6d"
  },
  {
   "metadata": {
    "ExecuteTime": {
     "end_time": "2025-10-28T09:56:21.410875Z",
     "start_time": "2025-10-28T09:56:17.297164Z"
    }
   },
   "cell_type": "code",
   "source": "premise_db = Database(name_premise_db, create_pickle=True)",
   "id": "f3ef8feb1e562ab3",
   "outputs": [
    {
     "name": "stderr",
     "output_type": "stream",
     "text": [
      "2025-10-28 10:56:21,405 - Database - INFO - Loaded ecoinvent_cutoff_3.9.1_image_SSP2-Base_2050 from pickle!\n"
     ]
    }
   ],
   "execution_count": 9
  },
  {
   "metadata": {
    "ExecuteTime": {
     "end_time": "2025-10-28T09:56:21.580234Z",
     "start_time": "2025-10-28T09:56:21.458466Z"
    }
   },
   "cell_type": "code",
   "source": [
    "if regionalize_foregrounds is not None and spatialized_database:\n",
    "    spatialized_biosphere_db = Database(name_spatialized_biosphere_db)\n",
    "else:\n",
    "    spatialized_biosphere_db = None"
   ],
   "id": "e771abcbdc25d432",
   "outputs": [],
   "execution_count": 10
  },
  {
   "metadata": {},
   "cell_type": "markdown",
   "source": [
    "## Your data\n",
    "For mescal to understand the structure of your energy system model, you need to provide it with a set of dataframes."
   ],
   "id": "8325f04c8e08b23f"
  },
  {
   "metadata": {},
   "cell_type": "markdown",
   "source": "### Mandatory dataframes",
   "id": "313875e4236bc644"
  },
  {
   "metadata": {
    "ExecuteTime": {
     "end_time": "2025-10-28T09:56:21.715767Z",
     "start_time": "2025-10-28T09:56:21.584364Z"
    }
   },
   "cell_type": "code",
   "source": [
    "mapping = pd.read_csv(f'../dev/energyscope_data/{esm_location}/mapping.csv')\n",
    "unit_conversion = pd.read_csv(f'../dev/energyscope_data/{esm_location}/unit_conversion.csv')\n",
    "mapping_esm_flows_to_CPC = pd.read_csv(f'../dev/energyscope_data/{esm_location}/mapping_esm_flows_to_CPC.csv')\n",
    "model = pd.read_csv(f'../dev/energyscope_data/{esm_location}/model.csv')"
   ],
   "id": "6890050f93afe1d1",
   "outputs": [],
   "execution_count": 11
  },
  {
   "metadata": {},
   "cell_type": "markdown",
   "source": [
    "A mapping between the energy technologies and resources of the energy system model, and Life-Cycle Inventories datasets (LCI) from an LCI database (e.g., ecoinvent). The mapping should be provided in a dataframe with the following columns:\n",
    "- `Name`: the name of the energy technology or resource in the energy model \n",
    "- `Type`: the type of the energy technology or resource (i.e., 'Construction', 'Operation', 'Resource' or 'Flow')  \n",
    "- `Product`: the name of the product of the energy technology or resource in the LCI database\n",
    "- `Activity`: the name of the activity of the energy technology or resource in the LCI database\n",
    "- `Location`: the name of the location of the energy technology or resource in the LCI database\n",
    "- `Unit`: (optional) the physical unit of the energy technology or resource in the LCI database\n",
    "- `Database`: the name of the database in your brightway project\n",
    "\n",
    "If you wish to change the version of ecoinvent used in your mapping file, you can follow this [notebook](https://github.com/matthieu-str/mescal/blob/master/dev/mapping_ecoinvent_version.ipynb). "
   ],
   "id": "29846070143e8b95"
  },
  {
   "metadata": {
    "ExecuteTime": {
     "end_time": "2025-10-28T09:56:21.868362Z",
     "start_time": "2025-10-28T09:56:21.738871Z"
    }
   },
   "cell_type": "code",
   "source": "mapping.head()",
   "id": "642b5fe1b99a6f7f",
   "outputs": [
    {
     "data": {
      "text/plain": [
       "                                Name          Type  \\\n",
       "0              ALKALINE_ELECTROLYSIS     Operation   \n",
       "1        ALKALINE_ELECTROLYSIS_PLANT  Construction   \n",
       "2  ALKALINE_ELECTROLYSIS_PLANT_DECOM  Construction   \n",
       "3        ALKALINE_ELECTROLYSIS_STACK  Construction   \n",
       "4  ALKALINE_ELECTROLYSIS_STACK_DECOM  Construction   \n",
       "\n",
       "                                      Product  \\\n",
       "0                   hydrogen, gaseous, 20 bar   \n",
       "1   electrolyzer, 1MWe, AEC, Balance of Plant   \n",
       "2  used fuel cell balance of plant, 1MWe, AEC   \n",
       "3              electrolyzer, 1MWe, AEC, Stack   \n",
       "4             used fuel cell stack, 1MWe, AEC   \n",
       "\n",
       "                                            Activity Location  \\\n",
       "0  hydrogen production, gaseous, 20 bar, from AEC...       CH   \n",
       "1  electrolyzer production, 1MWe, AEC, Balance of...      RER   \n",
       "2  treatment of fuel cell balance of plant, 1MWe,...      RER   \n",
       "3          electrolyzer production, 1MWe, AEC, Stack      RER   \n",
       "4            treatment of fuel cell stack, 1MWe, AEC      RER   \n",
       "\n",
       "                                            Database  \n",
       "0  ecoinvent_cutoff_3.9.1_image_SSP2-Base_2050+tr...  \n",
       "1  ecoinvent_cutoff_3.9.1_image_SSP2-Base_2050+tr...  \n",
       "2  ecoinvent_cutoff_3.9.1_image_SSP2-Base_2050+tr...  \n",
       "3  ecoinvent_cutoff_3.9.1_image_SSP2-Base_2050+tr...  \n",
       "4  ecoinvent_cutoff_3.9.1_image_SSP2-Base_2050+tr...  "
      ],
      "text/html": [
       "<div>\n",
       "<style scoped>\n",
       "    .dataframe tbody tr th:only-of-type {\n",
       "        vertical-align: middle;\n",
       "    }\n",
       "\n",
       "    .dataframe tbody tr th {\n",
       "        vertical-align: top;\n",
       "    }\n",
       "\n",
       "    .dataframe thead th {\n",
       "        text-align: right;\n",
       "    }\n",
       "</style>\n",
       "<table border=\"1\" class=\"dataframe\">\n",
       "  <thead>\n",
       "    <tr style=\"text-align: right;\">\n",
       "      <th></th>\n",
       "      <th>Name</th>\n",
       "      <th>Type</th>\n",
       "      <th>Product</th>\n",
       "      <th>Activity</th>\n",
       "      <th>Location</th>\n",
       "      <th>Database</th>\n",
       "    </tr>\n",
       "  </thead>\n",
       "  <tbody>\n",
       "    <tr>\n",
       "      <th>0</th>\n",
       "      <td>ALKALINE_ELECTROLYSIS</td>\n",
       "      <td>Operation</td>\n",
       "      <td>hydrogen, gaseous, 20 bar</td>\n",
       "      <td>hydrogen production, gaseous, 20 bar, from AEC...</td>\n",
       "      <td>CH</td>\n",
       "      <td>ecoinvent_cutoff_3.9.1_image_SSP2-Base_2050+tr...</td>\n",
       "    </tr>\n",
       "    <tr>\n",
       "      <th>1</th>\n",
       "      <td>ALKALINE_ELECTROLYSIS_PLANT</td>\n",
       "      <td>Construction</td>\n",
       "      <td>electrolyzer, 1MWe, AEC, Balance of Plant</td>\n",
       "      <td>electrolyzer production, 1MWe, AEC, Balance of...</td>\n",
       "      <td>RER</td>\n",
       "      <td>ecoinvent_cutoff_3.9.1_image_SSP2-Base_2050+tr...</td>\n",
       "    </tr>\n",
       "    <tr>\n",
       "      <th>2</th>\n",
       "      <td>ALKALINE_ELECTROLYSIS_PLANT_DECOM</td>\n",
       "      <td>Construction</td>\n",
       "      <td>used fuel cell balance of plant, 1MWe, AEC</td>\n",
       "      <td>treatment of fuel cell balance of plant, 1MWe,...</td>\n",
       "      <td>RER</td>\n",
       "      <td>ecoinvent_cutoff_3.9.1_image_SSP2-Base_2050+tr...</td>\n",
       "    </tr>\n",
       "    <tr>\n",
       "      <th>3</th>\n",
       "      <td>ALKALINE_ELECTROLYSIS_STACK</td>\n",
       "      <td>Construction</td>\n",
       "      <td>electrolyzer, 1MWe, AEC, Stack</td>\n",
       "      <td>electrolyzer production, 1MWe, AEC, Stack</td>\n",
       "      <td>RER</td>\n",
       "      <td>ecoinvent_cutoff_3.9.1_image_SSP2-Base_2050+tr...</td>\n",
       "    </tr>\n",
       "    <tr>\n",
       "      <th>4</th>\n",
       "      <td>ALKALINE_ELECTROLYSIS_STACK_DECOM</td>\n",
       "      <td>Construction</td>\n",
       "      <td>used fuel cell stack, 1MWe, AEC</td>\n",
       "      <td>treatment of fuel cell stack, 1MWe, AEC</td>\n",
       "      <td>RER</td>\n",
       "      <td>ecoinvent_cutoff_3.9.1_image_SSP2-Base_2050+tr...</td>\n",
       "    </tr>\n",
       "  </tbody>\n",
       "</table>\n",
       "</div>"
      ]
     },
     "execution_count": 12,
     "metadata": {},
     "output_type": "execute_result"
    }
   ],
   "execution_count": 12
  },
  {
   "metadata": {},
   "cell_type": "markdown",
   "source": [
    "A set of unit conversion factors between the energy system model and the LCI database. The conversion factors should be provided in a dataframe with the following columns:\n",
    "- `Name`: the name of the energy technology or resource in the energy system model \n",
    "- `Type`: the type of the energy technology or resource (i.e., 'Construction', 'Operation', 'Resource', or 'Other'). Other types can be added to fit your needs. The 'Other' category is meant for the unit conversion that are not specific to a technology or resource, but rather a generic type of product, e.g., conversion from kilogram to kilowatt hour for natural gas.\n",
    "- `Value`: the numerical value of the conversion factor that will multiply the impact scores. It actually denotes the conversion from Impact / LCA unit to Impact / ESM unit. \n",
    "- `ESM`: the unit of the energy technology or resource in the ESM\n",
    "- `LCA`: the target unit of the energy technology or resource in the LCA database\n",
    "- `Assumptions & Sources` (optional): additional information on the conversion factor.\n",
    "\n",
    "The `LCA` and `ESM` columns should respect the ecoinvent naming convention. You may use the `ecoinvent_unit_convention` function to convert the unit naming convention you've used to the one of ecoinvent."
   ],
   "id": "c63431e4a57bb29f"
  },
  {
   "metadata": {
    "ExecuteTime": {
     "end_time": "2025-10-28T09:56:22.075819Z",
     "start_time": "2025-10-28T09:56:21.927629Z"
    }
   },
   "cell_type": "code",
   "source": "unit_conversion.head()",
   "id": "40412ea78d6dc8af",
   "outputs": [
    {
     "data": {
      "text/plain": [
       "                          Name          Type     Value       LCA  \\\n",
       "0                  ACETIC_ACID      Resource  0.247423  kilogram   \n",
       "1                      ACETONE      Resource  0.121655  kilogram   \n",
       "2        ALKALINE_ELECTROLYSIS  Construction  0.001556      unit   \n",
       "3        ALKALINE_ELECTROLYSIS     Operation  0.030030  kilogram   \n",
       "4  ALKALINE_ELECTROLYSIS_PLANT  Construction  1.000000      unit   \n",
       "\n",
       "             ESM  \n",
       "0  kilowatt hour  \n",
       "1  kilowatt hour  \n",
       "2       kilowatt  \n",
       "3  kilowatt hour  \n",
       "4           unit  "
      ],
      "text/html": [
       "<div>\n",
       "<style scoped>\n",
       "    .dataframe tbody tr th:only-of-type {\n",
       "        vertical-align: middle;\n",
       "    }\n",
       "\n",
       "    .dataframe tbody tr th {\n",
       "        vertical-align: top;\n",
       "    }\n",
       "\n",
       "    .dataframe thead th {\n",
       "        text-align: right;\n",
       "    }\n",
       "</style>\n",
       "<table border=\"1\" class=\"dataframe\">\n",
       "  <thead>\n",
       "    <tr style=\"text-align: right;\">\n",
       "      <th></th>\n",
       "      <th>Name</th>\n",
       "      <th>Type</th>\n",
       "      <th>Value</th>\n",
       "      <th>LCA</th>\n",
       "      <th>ESM</th>\n",
       "    </tr>\n",
       "  </thead>\n",
       "  <tbody>\n",
       "    <tr>\n",
       "      <th>0</th>\n",
       "      <td>ACETIC_ACID</td>\n",
       "      <td>Resource</td>\n",
       "      <td>0.247423</td>\n",
       "      <td>kilogram</td>\n",
       "      <td>kilowatt hour</td>\n",
       "    </tr>\n",
       "    <tr>\n",
       "      <th>1</th>\n",
       "      <td>ACETONE</td>\n",
       "      <td>Resource</td>\n",
       "      <td>0.121655</td>\n",
       "      <td>kilogram</td>\n",
       "      <td>kilowatt hour</td>\n",
       "    </tr>\n",
       "    <tr>\n",
       "      <th>2</th>\n",
       "      <td>ALKALINE_ELECTROLYSIS</td>\n",
       "      <td>Construction</td>\n",
       "      <td>0.001556</td>\n",
       "      <td>unit</td>\n",
       "      <td>kilowatt</td>\n",
       "    </tr>\n",
       "    <tr>\n",
       "      <th>3</th>\n",
       "      <td>ALKALINE_ELECTROLYSIS</td>\n",
       "      <td>Operation</td>\n",
       "      <td>0.030030</td>\n",
       "      <td>kilogram</td>\n",
       "      <td>kilowatt hour</td>\n",
       "    </tr>\n",
       "    <tr>\n",
       "      <th>4</th>\n",
       "      <td>ALKALINE_ELECTROLYSIS_PLANT</td>\n",
       "      <td>Construction</td>\n",
       "      <td>1.000000</td>\n",
       "      <td>unit</td>\n",
       "      <td>unit</td>\n",
       "    </tr>\n",
       "  </tbody>\n",
       "</table>\n",
       "</div>"
      ]
     },
     "execution_count": 13,
     "metadata": {},
     "output_type": "execute_result"
    }
   ],
   "execution_count": 13
  },
  {
   "metadata": {},
   "cell_type": "markdown",
   "source": [
    "A mapping between the energy system model flows and CPC categories. The mapping should be provided in a dataframe with the following columns:\n",
    "- `Flow`: the name of the flow in the ESM\n",
    "- `Description`: (optional) the description of the product\n",
    "- `CPC`: the list of names of corresponding CPC categories"
   ],
   "id": "b873476e1c532db4"
  },
  {
   "metadata": {
    "ExecuteTime": {
     "end_time": "2025-10-28T09:56:22.249122Z",
     "start_time": "2025-10-28T09:56:22.114721Z"
    }
   },
   "cell_type": "code",
   "source": "mapping_esm_flows_to_CPC.head()",
   "id": "7254119105672bd2",
   "outputs": [
    {
     "data": {
      "text/plain": [
       "         Flow                              Description  \\\n",
       "0     BENZENE                                  Benzene   \n",
       "1  BIO_DIESEL                               Bio-diesel   \n",
       "2       CO2_A  Carbon dioxide (concentrated emissions)   \n",
       "3       CO2_C                Carbon dioxide (captured)   \n",
       "4      CO2_CS       Carbon dioxide (captured & stored)   \n",
       "\n",
       "                                                 CPC  \n",
       "0  ['33100: Coke and semi-coke of coal, of lignit...  \n",
       "1                               ['35491: Biodiesel']  \n",
       "2            ['34210b: Carbon dioxide and monoxide']  \n",
       "3            ['34210b: Carbon dioxide and monoxide']  \n",
       "4            ['34210b: Carbon dioxide and monoxide']  "
      ],
      "text/html": [
       "<div>\n",
       "<style scoped>\n",
       "    .dataframe tbody tr th:only-of-type {\n",
       "        vertical-align: middle;\n",
       "    }\n",
       "\n",
       "    .dataframe tbody tr th {\n",
       "        vertical-align: top;\n",
       "    }\n",
       "\n",
       "    .dataframe thead th {\n",
       "        text-align: right;\n",
       "    }\n",
       "</style>\n",
       "<table border=\"1\" class=\"dataframe\">\n",
       "  <thead>\n",
       "    <tr style=\"text-align: right;\">\n",
       "      <th></th>\n",
       "      <th>Flow</th>\n",
       "      <th>Description</th>\n",
       "      <th>CPC</th>\n",
       "    </tr>\n",
       "  </thead>\n",
       "  <tbody>\n",
       "    <tr>\n",
       "      <th>0</th>\n",
       "      <td>BENZENE</td>\n",
       "      <td>Benzene</td>\n",
       "      <td>['33100: Coke and semi-coke of coal, of lignit...</td>\n",
       "    </tr>\n",
       "    <tr>\n",
       "      <th>1</th>\n",
       "      <td>BIO_DIESEL</td>\n",
       "      <td>Bio-diesel</td>\n",
       "      <td>['35491: Biodiesel']</td>\n",
       "    </tr>\n",
       "    <tr>\n",
       "      <th>2</th>\n",
       "      <td>CO2_A</td>\n",
       "      <td>Carbon dioxide (concentrated emissions)</td>\n",
       "      <td>['34210b: Carbon dioxide and monoxide']</td>\n",
       "    </tr>\n",
       "    <tr>\n",
       "      <th>3</th>\n",
       "      <td>CO2_C</td>\n",
       "      <td>Carbon dioxide (captured)</td>\n",
       "      <td>['34210b: Carbon dioxide and monoxide']</td>\n",
       "    </tr>\n",
       "    <tr>\n",
       "      <th>4</th>\n",
       "      <td>CO2_CS</td>\n",
       "      <td>Carbon dioxide (captured &amp; stored)</td>\n",
       "      <td>['34210b: Carbon dioxide and monoxide']</td>\n",
       "    </tr>\n",
       "  </tbody>\n",
       "</table>\n",
       "</div>"
      ]
     },
     "execution_count": 14,
     "metadata": {},
     "output_type": "execute_result"
    }
   ],
   "execution_count": 14
  },
  {
   "metadata": {},
   "cell_type": "markdown",
   "source": [
    "The input and output flows of energy technologies. For a given technology, the inputs and outputs should be given with the same unit. Also, the main output flow should have 1 as an amount, i.e., all other flows as scaled with respect to the main output. It should be provided in a dataframe with the following columns:\n",
    "- `Name`: the name of the energy technology in the energy system model\n",
    "- `Flow`: the name of the input or output flow\n",
    "- `Amount`: the numerical value of the flow (negative if input, positive if output)  "
   ],
   "id": "639bfa05b6354e4b"
  },
  {
   "metadata": {
    "ExecuteTime": {
     "end_time": "2025-10-28T09:56:22.638794Z",
     "start_time": "2025-10-28T09:56:22.478490Z"
    }
   },
   "cell_type": "code",
   "source": "model.head()",
   "id": "176d23eb6579c212",
   "outputs": [
    {
     "data": {
      "text/plain": [
       "                    Name              Flow  Amount\n",
       "0            ACETIC_ACID       ACETIC_ACID    1.00\n",
       "1                ACETONE           ACETONE    1.00\n",
       "2  ALKALINE_ELECTROLYSIS    ELECTRICITY_HV   -1.72\n",
       "3  ALKALINE_ELECTROLYSIS             H2_MP    1.00\n",
       "4  ALKALINE_ELECTROLYSIS  HEAT_LOW_T_DECEN    0.26"
      ],
      "text/html": [
       "<div>\n",
       "<style scoped>\n",
       "    .dataframe tbody tr th:only-of-type {\n",
       "        vertical-align: middle;\n",
       "    }\n",
       "\n",
       "    .dataframe tbody tr th {\n",
       "        vertical-align: top;\n",
       "    }\n",
       "\n",
       "    .dataframe thead th {\n",
       "        text-align: right;\n",
       "    }\n",
       "</style>\n",
       "<table border=\"1\" class=\"dataframe\">\n",
       "  <thead>\n",
       "    <tr style=\"text-align: right;\">\n",
       "      <th></th>\n",
       "      <th>Name</th>\n",
       "      <th>Flow</th>\n",
       "      <th>Amount</th>\n",
       "    </tr>\n",
       "  </thead>\n",
       "  <tbody>\n",
       "    <tr>\n",
       "      <th>0</th>\n",
       "      <td>ACETIC_ACID</td>\n",
       "      <td>ACETIC_ACID</td>\n",
       "      <td>1.00</td>\n",
       "    </tr>\n",
       "    <tr>\n",
       "      <th>1</th>\n",
       "      <td>ACETONE</td>\n",
       "      <td>ACETONE</td>\n",
       "      <td>1.00</td>\n",
       "    </tr>\n",
       "    <tr>\n",
       "      <th>2</th>\n",
       "      <td>ALKALINE_ELECTROLYSIS</td>\n",
       "      <td>ELECTRICITY_HV</td>\n",
       "      <td>-1.72</td>\n",
       "    </tr>\n",
       "    <tr>\n",
       "      <th>3</th>\n",
       "      <td>ALKALINE_ELECTROLYSIS</td>\n",
       "      <td>H2_MP</td>\n",
       "      <td>1.00</td>\n",
       "    </tr>\n",
       "    <tr>\n",
       "      <th>4</th>\n",
       "      <td>ALKALINE_ELECTROLYSIS</td>\n",
       "      <td>HEAT_LOW_T_DECEN</td>\n",
       "      <td>0.26</td>\n",
       "    </tr>\n",
       "  </tbody>\n",
       "</table>\n",
       "</div>"
      ]
     },
     "execution_count": 15,
     "metadata": {},
     "output_type": "execute_result"
    }
   ],
   "execution_count": 15
  },
  {
   "metadata": {},
   "cell_type": "markdown",
   "source": "### Optional dataframes",
   "id": "48478041736e84c0"
  },
  {
   "metadata": {
    "ExecuteTime": {
     "end_time": "2025-10-28T09:56:22.881330Z",
     "start_time": "2025-10-28T09:56:22.712049Z"
    }
   },
   "cell_type": "code",
   "source": [
    "technology_compositions = pd.read_csv(f'../dev/energyscope_data/{esm_location}/technology_compositions.csv')\n",
    "technology_specifics = pd.read_csv(f'../dev/energyscope_data/{esm_location}/technology_specifics.csv') \n",
    "lifetime = pd.read_csv(f'../dev/energyscope_data/{esm_location}/lifetime.csv')\n",
    "efficiency = pd.read_csv(f'../dev/energyscope_data/{esm_location}/efficiency.csv')\n",
    "mapping_product_to_CPC = pd.read_csv('../mescal/data/mapping_new_products_to_CPC.csv')\n",
    "impact_abbrev = pd.read_csv('../dev/lcia/impact_abbrev.csv')\n",
    "technologies_to_remove_from_layers = pd.read_csv(f'../dev/energyscope_data/{esm_location}/technologies_to_remove_from_layers.csv')\n",
    "new_end_use_types = pd.read_csv(f'../dev/energyscope_data/{esm_location}/new_end_use_types.csv')\n",
    "results_from_esm = pd.read_csv(f'../dev/energyscope_data/{esm_location}/results_ES.csv')"
   ],
   "id": "dd4f202b4dbb9052",
   "outputs": [],
   "execution_count": 16
  },
  {
   "metadata": {},
   "cell_type": "markdown",
   "source": [
    "A set of composition of technologies, i.e., if one technology or resource in the energy model should be represented by a combination of LCI datasets. The composition should be provided in a dataframe with the following columns:\n",
    "- `Name`: the name of the main energy technology or resource in the energy model \n",
    "- `Components`: the list of names of subcomponents"
   ],
   "id": "eee94b00d44a2efa"
  },
  {
   "metadata": {
    "ExecuteTime": {
     "end_time": "2025-10-28T09:56:23.148895Z",
     "start_time": "2025-10-28T09:56:23.017925Z"
    }
   },
   "cell_type": "code",
   "source": "technology_compositions.head()",
   "id": "de810a82e99b68e",
   "outputs": [
    {
     "data": {
      "text/plain": [
       "             Name                                         Components\n",
       "0       AN_DIG_SI             ['AN_DIG_SI_PLANT', 'AN_DIG_SI_COGEN']\n",
       "1   DEC_COGEN_GAS  ['DEC_COGEN_GAS_CHP', 'DEC_COGEN_GAS_HEAT', 'D...\n",
       "2   DEC_COGEN_OIL  ['DEC_COGEN_OIL_BOILER', 'DEC_COGEN_OIL_TURBIN...\n",
       "3  DEC_COGEN_WOOD  ['DEC_COGEN_WOOD_BOILER', 'DEC_COGEN_WOOD_TURB...\n",
       "4   DHN_COGEN_GAS  ['DHN_COGEN_GAS_CHP', 'DHN_COGEN_GAS_HEAT', 'D..."
      ],
      "text/html": [
       "<div>\n",
       "<style scoped>\n",
       "    .dataframe tbody tr th:only-of-type {\n",
       "        vertical-align: middle;\n",
       "    }\n",
       "\n",
       "    .dataframe tbody tr th {\n",
       "        vertical-align: top;\n",
       "    }\n",
       "\n",
       "    .dataframe thead th {\n",
       "        text-align: right;\n",
       "    }\n",
       "</style>\n",
       "<table border=\"1\" class=\"dataframe\">\n",
       "  <thead>\n",
       "    <tr style=\"text-align: right;\">\n",
       "      <th></th>\n",
       "      <th>Name</th>\n",
       "      <th>Components</th>\n",
       "    </tr>\n",
       "  </thead>\n",
       "  <tbody>\n",
       "    <tr>\n",
       "      <th>0</th>\n",
       "      <td>AN_DIG_SI</td>\n",
       "      <td>['AN_DIG_SI_PLANT', 'AN_DIG_SI_COGEN']</td>\n",
       "    </tr>\n",
       "    <tr>\n",
       "      <th>1</th>\n",
       "      <td>DEC_COGEN_GAS</td>\n",
       "      <td>['DEC_COGEN_GAS_CHP', 'DEC_COGEN_GAS_HEAT', 'D...</td>\n",
       "    </tr>\n",
       "    <tr>\n",
       "      <th>2</th>\n",
       "      <td>DEC_COGEN_OIL</td>\n",
       "      <td>['DEC_COGEN_OIL_BOILER', 'DEC_COGEN_OIL_TURBIN...</td>\n",
       "    </tr>\n",
       "    <tr>\n",
       "      <th>3</th>\n",
       "      <td>DEC_COGEN_WOOD</td>\n",
       "      <td>['DEC_COGEN_WOOD_BOILER', 'DEC_COGEN_WOOD_TURB...</td>\n",
       "    </tr>\n",
       "    <tr>\n",
       "      <th>4</th>\n",
       "      <td>DHN_COGEN_GAS</td>\n",
       "      <td>['DHN_COGEN_GAS_CHP', 'DHN_COGEN_GAS_HEAT', 'D...</td>\n",
       "    </tr>\n",
       "  </tbody>\n",
       "</table>\n",
       "</div>"
      ]
     },
     "execution_count": 17,
     "metadata": {},
     "output_type": "execute_result"
    }
   ],
   "execution_count": 17
  },
  {
   "metadata": {},
   "cell_type": "markdown",
   "source": [
    "A set of technologies with specific requirements. For instance, this stands for energy technologies without a construction phase, mobility technologies (if mismatch fuel in the LCI dataset), bio-processes (if mismatch fuel in the LCI dataset), etc. The requirements should be provided in a dataframe with the following columns:\n",
    "- `Name`: the name of the energy technology in the energy model\n",
    "- `Specifics`: the type of requirement. Can be '**Background search**' (i.e., double-counting removal is run n levels in the background, n being defined in Amount), '**Decommissioning**' (i.e., the technology has a decommissioning LCI dataset outside its infrastructure LCI dataset), '**Mobility**' (i.e., EUD types for which associated technologies are characterized as a mobility mean, to further add a FUEL layer), '**No background search**' (i.e., double-counting removal is not applied beyond the activity direct exchanges), '**No double-counting removal**' (i.e., the double-counting removal step is skipped), '**No construction**' (i.e., the technology has no infrastructure LCI dataset), '**Process**' (i.e., the technology is characterized as an industrial bio-process, to further add a PROCESS_FUEL layer), '**DAC**' (for *premise* DAC technologies, to change the biogenic carbon flow into a fossil one), '**Biofuel**' (i.e., adapt direct emissions to the biofuel input: partially change fossil carbon emissions into biogenic ones), '**Import/Export**' (these activities will keep their original locations and will not be regionalized), '**Carbon flows**' (the direct carbon emissions of these activities will be multiplied by a factor), '**Add CC**' (add a carbon capture process to a technology, and modifies its direct carbon dioxide emissions according to the capture efficiency), '**Add CO2 (flow_type)**' (add a resource/emission flow of CO2 to an activity, flow_type can be 'fossil', 'non-fossil', 'from soil or biomass stock', 'in air', or 'non-fossil, resource correction').\n",
    "- `Amount`: the numerical value of the requirement (if relevant)"
   ],
   "id": "7bdd1fc2ddf77780"
  },
  {
   "metadata": {
    "ExecuteTime": {
     "end_time": "2025-10-28T09:56:23.392411Z",
     "start_time": "2025-10-28T09:56:23.233647Z"
    }
   },
   "cell_type": "code",
   "source": "technology_specifics.head()",
   "id": "6424ff1019091799",
   "outputs": [
    {
     "data": {
      "text/plain": [
       "                Name          Specifics  Amount  Comment \n",
       "0    CO2_TO_JETFUELS  Background search     0.0       NaN\n",
       "1      CO2-To-Diesel  Background search     2.0       NaN\n",
       "2  CROPS_TO_JETFUELS  Background search     4.0       NaN\n",
       "3                 FT  Background search     3.0       NaN\n",
       "4   GASIFICATION_SNG  Background search     3.0       NaN"
      ],
      "text/html": [
       "<div>\n",
       "<style scoped>\n",
       "    .dataframe tbody tr th:only-of-type {\n",
       "        vertical-align: middle;\n",
       "    }\n",
       "\n",
       "    .dataframe tbody tr th {\n",
       "        vertical-align: top;\n",
       "    }\n",
       "\n",
       "    .dataframe thead th {\n",
       "        text-align: right;\n",
       "    }\n",
       "</style>\n",
       "<table border=\"1\" class=\"dataframe\">\n",
       "  <thead>\n",
       "    <tr style=\"text-align: right;\">\n",
       "      <th></th>\n",
       "      <th>Name</th>\n",
       "      <th>Specifics</th>\n",
       "      <th>Amount</th>\n",
       "      <th>Comment</th>\n",
       "    </tr>\n",
       "  </thead>\n",
       "  <tbody>\n",
       "    <tr>\n",
       "      <th>0</th>\n",
       "      <td>CO2_TO_JETFUELS</td>\n",
       "      <td>Background search</td>\n",
       "      <td>0.0</td>\n",
       "      <td>NaN</td>\n",
       "    </tr>\n",
       "    <tr>\n",
       "      <th>1</th>\n",
       "      <td>CO2-To-Diesel</td>\n",
       "      <td>Background search</td>\n",
       "      <td>2.0</td>\n",
       "      <td>NaN</td>\n",
       "    </tr>\n",
       "    <tr>\n",
       "      <th>2</th>\n",
       "      <td>CROPS_TO_JETFUELS</td>\n",
       "      <td>Background search</td>\n",
       "      <td>4.0</td>\n",
       "      <td>NaN</td>\n",
       "    </tr>\n",
       "    <tr>\n",
       "      <th>3</th>\n",
       "      <td>FT</td>\n",
       "      <td>Background search</td>\n",
       "      <td>3.0</td>\n",
       "      <td>NaN</td>\n",
       "    </tr>\n",
       "    <tr>\n",
       "      <th>4</th>\n",
       "      <td>GASIFICATION_SNG</td>\n",
       "      <td>Background search</td>\n",
       "      <td>3.0</td>\n",
       "      <td>NaN</td>\n",
       "    </tr>\n",
       "  </tbody>\n",
       "</table>\n",
       "</div>"
      ]
     },
     "execution_count": 18,
     "metadata": {},
     "output_type": "execute_result"
    }
   ],
   "execution_count": 18
  },
  {
   "metadata": {},
   "cell_type": "markdown",
   "source": [
    "Energy technologies lifetimes in the ESM and the LCI database. For composition of technologies (if any), the main technology should not have a LCA lifetime (no LCI dataset is associated to it), while the sub-components should not have an ESM lifetime (they do not have a proper technology in the ESM). The lifetimes should be provided in a dataframe with the following columns:\n",
    "- `Name`: the name of the energy technology in the energy system model\n",
    "- `ESM`: the numerical value of the lifetime in the energy system model (if relevant)\n",
    "- `LCA`: the numerical value of the lifetime in the LCI database (if relevant)\n",
    "- `Comment`: (optional) additional information the `Amount` computation (if relevant)"
   ],
   "id": "326561ead79cf4c9"
  },
  {
   "metadata": {
    "ExecuteTime": {
     "end_time": "2025-10-28T09:56:23.664756Z",
     "start_time": "2025-10-28T09:56:23.533062Z"
    }
   },
   "cell_type": "code",
   "source": "lifetime.head()",
   "id": "e268fad4190c4c8a",
   "outputs": [
    {
     "data": {
      "text/plain": [
       "                                Name   ESM   LCA\n",
       "0              ALKALINE_ELECTROLYSIS  10.0   NaN\n",
       "1        ALKALINE_ELECTROLYSIS_PLANT   NaN  20.0\n",
       "2  ALKALINE_ELECTROLYSIS_PLANT_DECOM   NaN  20.0\n",
       "3        ALKALINE_ELECTROLYSIS_STACK   NaN   7.5\n",
       "4  ALKALINE_ELECTROLYSIS_STACK_DECOM   NaN   7.5"
      ],
      "text/html": [
       "<div>\n",
       "<style scoped>\n",
       "    .dataframe tbody tr th:only-of-type {\n",
       "        vertical-align: middle;\n",
       "    }\n",
       "\n",
       "    .dataframe tbody tr th {\n",
       "        vertical-align: top;\n",
       "    }\n",
       "\n",
       "    .dataframe thead th {\n",
       "        text-align: right;\n",
       "    }\n",
       "</style>\n",
       "<table border=\"1\" class=\"dataframe\">\n",
       "  <thead>\n",
       "    <tr style=\"text-align: right;\">\n",
       "      <th></th>\n",
       "      <th>Name</th>\n",
       "      <th>ESM</th>\n",
       "      <th>LCA</th>\n",
       "    </tr>\n",
       "  </thead>\n",
       "  <tbody>\n",
       "    <tr>\n",
       "      <th>0</th>\n",
       "      <td>ALKALINE_ELECTROLYSIS</td>\n",
       "      <td>10.0</td>\n",
       "      <td>NaN</td>\n",
       "    </tr>\n",
       "    <tr>\n",
       "      <th>1</th>\n",
       "      <td>ALKALINE_ELECTROLYSIS_PLANT</td>\n",
       "      <td>NaN</td>\n",
       "      <td>20.0</td>\n",
       "    </tr>\n",
       "    <tr>\n",
       "      <th>2</th>\n",
       "      <td>ALKALINE_ELECTROLYSIS_PLANT_DECOM</td>\n",
       "      <td>NaN</td>\n",
       "      <td>20.0</td>\n",
       "    </tr>\n",
       "    <tr>\n",
       "      <th>3</th>\n",
       "      <td>ALKALINE_ELECTROLYSIS_STACK</td>\n",
       "      <td>NaN</td>\n",
       "      <td>7.5</td>\n",
       "    </tr>\n",
       "    <tr>\n",
       "      <th>4</th>\n",
       "      <td>ALKALINE_ELECTROLYSIS_STACK_DECOM</td>\n",
       "      <td>NaN</td>\n",
       "      <td>7.5</td>\n",
       "    </tr>\n",
       "  </tbody>\n",
       "</table>\n",
       "</div>"
      ]
     },
     "execution_count": 19,
     "metadata": {},
     "output_type": "execute_result"
    }
   ],
   "execution_count": 19
  },
  {
   "metadata": {},
   "cell_type": "markdown",
   "source": [
    "If you want to account for the possible efficiency differences between the ESM and the LCI datasets, you can provide a set of (technologies, flow) couples for which efficiency differences will be corrected by the scaling the elementary flows. Taking the example of the diesel car, the couple should be something like ('CAR_DIESEL', 'DIESEL'), the flow being the fuel of the technology responsible for direct emissions. Relevant biosphere flows will be the ratio between the LCA and ESM efficiencies. The (technology, flow) couples should be provided in a dataframe with the following columns:\n",
    "- `Name`: the name of the energy technology in the ESM\n",
    "- `Flow`: the name of the flow in the ESM\n",
    "- `Comment`: (optional) additional information on the set of `Flows`"
   ],
   "id": "be443561d3ffbf43"
  },
  {
   "metadata": {
    "ExecuteTime": {
     "end_time": "2025-10-28T09:56:23.850381Z",
     "start_time": "2025-10-28T09:56:23.729439Z"
    }
   },
   "cell_type": "code",
   "source": "efficiency.head()",
   "id": "ebdf65eaa517f199",
   "outputs": [
    {
     "data": {
      "text/plain": [
       "                Name             Flow  Comment\n",
       "0             AN_DIG  ['WET_BIOMASS']      NaN\n",
       "1          AN_DIG_SI  ['WET_BIOMASS']      NaN\n",
       "2     BUS_CNG_STOICH        ['NG_HP']      NaN\n",
       "3         BUS_DIESEL       ['DIESEL']      NaN\n",
       "4  BUS_FC_HYBRID_CH4        ['NG_HP']      NaN"
      ],
      "text/html": [
       "<div>\n",
       "<style scoped>\n",
       "    .dataframe tbody tr th:only-of-type {\n",
       "        vertical-align: middle;\n",
       "    }\n",
       "\n",
       "    .dataframe tbody tr th {\n",
       "        vertical-align: top;\n",
       "    }\n",
       "\n",
       "    .dataframe thead th {\n",
       "        text-align: right;\n",
       "    }\n",
       "</style>\n",
       "<table border=\"1\" class=\"dataframe\">\n",
       "  <thead>\n",
       "    <tr style=\"text-align: right;\">\n",
       "      <th></th>\n",
       "      <th>Name</th>\n",
       "      <th>Flow</th>\n",
       "      <th>Comment</th>\n",
       "    </tr>\n",
       "  </thead>\n",
       "  <tbody>\n",
       "    <tr>\n",
       "      <th>0</th>\n",
       "      <td>AN_DIG</td>\n",
       "      <td>['WET_BIOMASS']</td>\n",
       "      <td>NaN</td>\n",
       "    </tr>\n",
       "    <tr>\n",
       "      <th>1</th>\n",
       "      <td>AN_DIG_SI</td>\n",
       "      <td>['WET_BIOMASS']</td>\n",
       "      <td>NaN</td>\n",
       "    </tr>\n",
       "    <tr>\n",
       "      <th>2</th>\n",
       "      <td>BUS_CNG_STOICH</td>\n",
       "      <td>['NG_HP']</td>\n",
       "      <td>NaN</td>\n",
       "    </tr>\n",
       "    <tr>\n",
       "      <th>3</th>\n",
       "      <td>BUS_DIESEL</td>\n",
       "      <td>['DIESEL']</td>\n",
       "      <td>NaN</td>\n",
       "    </tr>\n",
       "    <tr>\n",
       "      <th>4</th>\n",
       "      <td>BUS_FC_HYBRID_CH4</td>\n",
       "      <td>['NG_HP']</td>\n",
       "      <td>NaN</td>\n",
       "    </tr>\n",
       "  </tbody>\n",
       "</table>\n",
       "</div>"
      ]
     },
     "execution_count": 20,
     "metadata": {},
     "output_type": "execute_result"
    }
   ],
   "execution_count": 20
  },
  {
   "metadata": {},
   "cell_type": "markdown",
   "source": [
    "In case you have a LCI database (partially) without CPC categories (which are necessary for the double-counting check), you can provide a mapping between the products and activities in the LCI database and the CPC categories. The mapping should be provided in a dataframe with the following columns:\n",
    "- `Name`: the full or partial name of the product or activity in the LCI database\n",
    "- `CPC`: the number and name of the corresponding CPC category\n",
    "- `Search type`: can be 'equals' if the `Name` entry is an exactly the name to look for, or 'contains' if it is contained in the full name\n",
    "- `Where`: can be 'Product' or 'Activity', whether the `Name` entry is meant for products or activities"
   ],
   "id": "330ee60ba864372a"
  },
  {
   "metadata": {
    "ExecuteTime": {
     "end_time": "2025-10-28T09:56:24.168185Z",
     "start_time": "2025-10-28T09:56:24.027064Z"
    }
   },
   "cell_type": "code",
   "source": "mapping_product_to_CPC.head()",
   "id": "253e3eafb347c0af",
   "outputs": [
    {
     "data": {
      "text/plain": [
       "                                                Name  \\\n",
       "0                                 amine-based silica   \n",
       "1                                          biodiesel   \n",
       "2                                             biogas   \n",
       "3                              biomass, used as fuel   \n",
       "4  biomethane, from biogas upgrading, using amine...   \n",
       "\n",
       "                                                 CPC Search type    Where  \n",
       "0  35310: Organic surface active agents, except soap      equals  Product  \n",
       "1                                   35491: Biodiesel    contains  Product  \n",
       "2  17200: Coal gas, water gas, producer gas and s...      equals  Product  \n",
       "3                  31230: Wood in chips or particles      equals  Product  \n",
       "4  12020: Natural gas, liquefied or in the gaseou...      equals  Product  "
      ],
      "text/html": [
       "<div>\n",
       "<style scoped>\n",
       "    .dataframe tbody tr th:only-of-type {\n",
       "        vertical-align: middle;\n",
       "    }\n",
       "\n",
       "    .dataframe tbody tr th {\n",
       "        vertical-align: top;\n",
       "    }\n",
       "\n",
       "    .dataframe thead th {\n",
       "        text-align: right;\n",
       "    }\n",
       "</style>\n",
       "<table border=\"1\" class=\"dataframe\">\n",
       "  <thead>\n",
       "    <tr style=\"text-align: right;\">\n",
       "      <th></th>\n",
       "      <th>Name</th>\n",
       "      <th>CPC</th>\n",
       "      <th>Search type</th>\n",
       "      <th>Where</th>\n",
       "    </tr>\n",
       "  </thead>\n",
       "  <tbody>\n",
       "    <tr>\n",
       "      <th>0</th>\n",
       "      <td>amine-based silica</td>\n",
       "      <td>35310: Organic surface active agents, except soap</td>\n",
       "      <td>equals</td>\n",
       "      <td>Product</td>\n",
       "    </tr>\n",
       "    <tr>\n",
       "      <th>1</th>\n",
       "      <td>biodiesel</td>\n",
       "      <td>35491: Biodiesel</td>\n",
       "      <td>contains</td>\n",
       "      <td>Product</td>\n",
       "    </tr>\n",
       "    <tr>\n",
       "      <th>2</th>\n",
       "      <td>biogas</td>\n",
       "      <td>17200: Coal gas, water gas, producer gas and s...</td>\n",
       "      <td>equals</td>\n",
       "      <td>Product</td>\n",
       "    </tr>\n",
       "    <tr>\n",
       "      <th>3</th>\n",
       "      <td>biomass, used as fuel</td>\n",
       "      <td>31230: Wood in chips or particles</td>\n",
       "      <td>equals</td>\n",
       "      <td>Product</td>\n",
       "    </tr>\n",
       "    <tr>\n",
       "      <th>4</th>\n",
       "      <td>biomethane, from biogas upgrading, using amine...</td>\n",
       "      <td>12020: Natural gas, liquefied or in the gaseou...</td>\n",
       "      <td>equals</td>\n",
       "      <td>Product</td>\n",
       "    </tr>\n",
       "  </tbody>\n",
       "</table>\n",
       "</div>"
      ]
     },
     "execution_count": 21,
     "metadata": {},
     "output_type": "execute_result"
    }
   ],
   "execution_count": 21
  },
  {
   "metadata": {},
   "cell_type": "markdown",
   "source": [
    "An abbreviation scheme for the impact categories you aim to work with, to ease the readability in the ESM. The one of IMPACT World+ is available in this [csv file](https://github.com/matthieu-str/mescal/blob/master/dev/lcia/impact_abbrev.csv). The abbreviations should be provided in a dataframe with the following columns:\n",
    "- `Impact_category`: the name of the impact category, expressed as a tuple following brightway convention\n",
    "- `Unit`: (optional) the unit of the impact category\n",
    "- `Abbrev`: the abbreviation of the impact category\n",
    "- `AoP`: the area of protection of the impact category. The normalization of indicators will be performed based of AoPs. If you do not have AoPs (e.g., midpoint-level indicators), set as many AoPs as you have impact categories."
   ],
   "id": "b5da46d185c9766f"
  },
  {
   "metadata": {
    "ExecuteTime": {
     "end_time": "2025-10-28T09:56:24.397859Z",
     "start_time": "2025-10-28T09:56:24.232640Z"
    }
   },
   "cell_type": "code",
   "source": "impact_abbrev.head()",
   "id": "a3da253e1403384a",
   "outputs": [
    {
     "data": {
      "text/plain": [
       "                                     Impact_category       Unit  Abbrev AoP\n",
       "0  ('IMPACT World+ Damage 2.0.1', 'Ecosystem qual...  PDF.m2.yr   CCEQL  EQ\n",
       "1  ('IMPACT World+ Damage 2.0.1', 'Ecosystem qual...  PDF.m2.yr   CCEQS  EQ\n",
       "2  ('IMPACT World+ Damage 2.0.1', 'Ecosystem qual...  PDF.m2.yr  CCEQLB  EQ\n",
       "3  ('IMPACT World+ Damage 2.0.1', 'Ecosystem qual...  PDF.m2.yr  CCEQSB  EQ\n",
       "4  ('IMPACT World+ Damage 2.0.1', 'Human health',...       DALY   CCHHL  HH"
      ],
      "text/html": [
       "<div>\n",
       "<style scoped>\n",
       "    .dataframe tbody tr th:only-of-type {\n",
       "        vertical-align: middle;\n",
       "    }\n",
       "\n",
       "    .dataframe tbody tr th {\n",
       "        vertical-align: top;\n",
       "    }\n",
       "\n",
       "    .dataframe thead th {\n",
       "        text-align: right;\n",
       "    }\n",
       "</style>\n",
       "<table border=\"1\" class=\"dataframe\">\n",
       "  <thead>\n",
       "    <tr style=\"text-align: right;\">\n",
       "      <th></th>\n",
       "      <th>Impact_category</th>\n",
       "      <th>Unit</th>\n",
       "      <th>Abbrev</th>\n",
       "      <th>AoP</th>\n",
       "    </tr>\n",
       "  </thead>\n",
       "  <tbody>\n",
       "    <tr>\n",
       "      <th>0</th>\n",
       "      <td>('IMPACT World+ Damage 2.0.1', 'Ecosystem qual...</td>\n",
       "      <td>PDF.m2.yr</td>\n",
       "      <td>CCEQL</td>\n",
       "      <td>EQ</td>\n",
       "    </tr>\n",
       "    <tr>\n",
       "      <th>1</th>\n",
       "      <td>('IMPACT World+ Damage 2.0.1', 'Ecosystem qual...</td>\n",
       "      <td>PDF.m2.yr</td>\n",
       "      <td>CCEQS</td>\n",
       "      <td>EQ</td>\n",
       "    </tr>\n",
       "    <tr>\n",
       "      <th>2</th>\n",
       "      <td>('IMPACT World+ Damage 2.0.1', 'Ecosystem qual...</td>\n",
       "      <td>PDF.m2.yr</td>\n",
       "      <td>CCEQLB</td>\n",
       "      <td>EQ</td>\n",
       "    </tr>\n",
       "    <tr>\n",
       "      <th>3</th>\n",
       "      <td>('IMPACT World+ Damage 2.0.1', 'Ecosystem qual...</td>\n",
       "      <td>PDF.m2.yr</td>\n",
       "      <td>CCEQSB</td>\n",
       "      <td>EQ</td>\n",
       "    </tr>\n",
       "    <tr>\n",
       "      <th>4</th>\n",
       "      <td>('IMPACT World+ Damage 2.0.1', 'Human health',...</td>\n",
       "      <td>DALY</td>\n",
       "      <td>CCHHL</td>\n",
       "      <td>HH</td>\n",
       "    </tr>\n",
       "  </tbody>\n",
       "</table>\n",
       "</div>"
      ]
     },
     "execution_count": 22,
     "metadata": {},
     "output_type": "execute_result"
    }
   ],
   "execution_count": 22
  },
  {
   "metadata": {},
   "cell_type": "markdown",
   "source": [
    "In case you want to remove some energy technologies from energy layers in the results LCI datasets to be added to the LCI database, you can provide a list of technologies to remove. The list should be provided in a dataframe with the following columns:\n",
    "- `Layers`: name of the layer(s). A layer is basically an energy vector, which is an output for some energy technologies and an input for some others. \n",
    "- `Technologies`: the name of the energy technology to remove from the layer(s)\n",
    "- `Comment`: (optional) a comment on the removal"
   ],
   "id": "eb16bb1f7309ca37"
  },
  {
   "metadata": {
    "ExecuteTime": {
     "end_time": "2025-10-28T09:56:24.704618Z",
     "start_time": "2025-10-28T09:56:24.579498Z"
    }
   },
   "cell_type": "code",
   "source": "technologies_to_remove_from_layers.head()",
   "id": "846d3b9a433837cb",
   "outputs": [
    {
     "data": {
      "text/plain": [
       "                                  Layers  \\\n",
       "0  ['ELECTRICITY_EHV', 'ELECTRICITY_HV']   \n",
       "1                     ['ELECTRICITY_LV']   \n",
       "2                    ['NG_HP', 'NG_EHP']   \n",
       "3  ['H2_LP', 'H2_MP', 'H2_HP', 'H2_EHP']   \n",
       "4      ['HEAT_HIGH_T', 'HEAT_LOW_T_DHN']   \n",
       "\n",
       "                                        Technologies  \\\n",
       "0                            ['TRAFO_HE','TRAFO_EH']   \n",
       "1                                       ['STO_ELEC']   \n",
       "2  ['NG_EXP_EH', 'NG_EXP_EH_COGEN', 'NG_COMP_HE',...   \n",
       "3  ['H2_COMP_HE', 'H2_COMP_MH', 'H2_COMP_LM', 'H2...   \n",
       "4                                          ['HT_LT']   \n",
       "\n",
       "                                             Comment  \n",
       "0  The high and extra high voltage electricity ar...  \n",
       "1  The storage technologies should be removed (pr...  \n",
       "2  The high and extra high pressure natural gas a...  \n",
       "3  All pressure levels for hydrogen are merged in...  \n",
       "4  The high and low heat production at the DHN le...  "
      ],
      "text/html": [
       "<div>\n",
       "<style scoped>\n",
       "    .dataframe tbody tr th:only-of-type {\n",
       "        vertical-align: middle;\n",
       "    }\n",
       "\n",
       "    .dataframe tbody tr th {\n",
       "        vertical-align: top;\n",
       "    }\n",
       "\n",
       "    .dataframe thead th {\n",
       "        text-align: right;\n",
       "    }\n",
       "</style>\n",
       "<table border=\"1\" class=\"dataframe\">\n",
       "  <thead>\n",
       "    <tr style=\"text-align: right;\">\n",
       "      <th></th>\n",
       "      <th>Layers</th>\n",
       "      <th>Technologies</th>\n",
       "      <th>Comment</th>\n",
       "    </tr>\n",
       "  </thead>\n",
       "  <tbody>\n",
       "    <tr>\n",
       "      <th>0</th>\n",
       "      <td>['ELECTRICITY_EHV', 'ELECTRICITY_HV']</td>\n",
       "      <td>['TRAFO_HE','TRAFO_EH']</td>\n",
       "      <td>The high and extra high voltage electricity ar...</td>\n",
       "    </tr>\n",
       "    <tr>\n",
       "      <th>1</th>\n",
       "      <td>['ELECTRICITY_LV']</td>\n",
       "      <td>['STO_ELEC']</td>\n",
       "      <td>The storage technologies should be removed (pr...</td>\n",
       "    </tr>\n",
       "    <tr>\n",
       "      <th>2</th>\n",
       "      <td>['NG_HP', 'NG_EHP']</td>\n",
       "      <td>['NG_EXP_EH', 'NG_EXP_EH_COGEN', 'NG_COMP_HE',...</td>\n",
       "      <td>The high and extra high pressure natural gas a...</td>\n",
       "    </tr>\n",
       "    <tr>\n",
       "      <th>3</th>\n",
       "      <td>['H2_LP', 'H2_MP', 'H2_HP', 'H2_EHP']</td>\n",
       "      <td>['H2_COMP_HE', 'H2_COMP_MH', 'H2_COMP_LM', 'H2...</td>\n",
       "      <td>All pressure levels for hydrogen are merged in...</td>\n",
       "    </tr>\n",
       "    <tr>\n",
       "      <th>4</th>\n",
       "      <td>['HEAT_HIGH_T', 'HEAT_LOW_T_DHN']</td>\n",
       "      <td>['HT_LT']</td>\n",
       "      <td>The high and low heat production at the DHN le...</td>\n",
       "    </tr>\n",
       "  </tbody>\n",
       "</table>\n",
       "</div>"
      ]
     },
     "execution_count": 23,
     "metadata": {},
     "output_type": "execute_result"
    }
   ],
   "execution_count": 23
  },
  {
   "metadata": {},
   "cell_type": "markdown",
   "source": [
    "If you want to reformat your end-use types (e.g., output layer) in order to better fit the LCI database, you can provide a list of new end-use types. The list should be provided in a dataframe with the following columns:\n",
    "- `Name`: name of technologies for which the end-use type should be changed\n",
    "- `Search type`: whether the `Name` entry is an exactly the name to look for ('equals'), is contained in the full name ('contains'), or is the beginning of the full name ('startswith')\n",
    "- `Old`: the current end-use type\n",
    "- `New`: the new end-use type"
   ],
   "id": "c1f82852ad4b7e07"
  },
  {
   "metadata": {
    "ExecuteTime": {
     "end_time": "2025-10-28T09:56:24.934769Z",
     "start_time": "2025-10-28T09:56:24.782983Z"
    }
   },
   "cell_type": "code",
   "source": "new_end_use_types.head()",
   "id": "f6634cc71a6b13d",
   "outputs": [
    {
     "data": {
      "text/plain": [
       "        Name Search type          Old                   New\n",
       "0        BUS  startswith   MOB_PUBLIC        MOB_PUBLIC_BUS\n",
       "1  SCHOOLBUS  startswith   MOB_PUBLIC  MOB_PUBLIC_SCHOOLBUS\n",
       "2      COACH  startswith   MOB_PUBLIC      MOB_PUBLIC_COACH\n",
       "3      TRAIN  startswith   MOB_PUBLIC      MOB_PUBLIC_TRAIN\n",
       "4        CAR  startswith  MOB_PRIVATE       MOB_PRIVATE_CAR"
      ],
      "text/html": [
       "<div>\n",
       "<style scoped>\n",
       "    .dataframe tbody tr th:only-of-type {\n",
       "        vertical-align: middle;\n",
       "    }\n",
       "\n",
       "    .dataframe tbody tr th {\n",
       "        vertical-align: top;\n",
       "    }\n",
       "\n",
       "    .dataframe thead th {\n",
       "        text-align: right;\n",
       "    }\n",
       "</style>\n",
       "<table border=\"1\" class=\"dataframe\">\n",
       "  <thead>\n",
       "    <tr style=\"text-align: right;\">\n",
       "      <th></th>\n",
       "      <th>Name</th>\n",
       "      <th>Search type</th>\n",
       "      <th>Old</th>\n",
       "      <th>New</th>\n",
       "    </tr>\n",
       "  </thead>\n",
       "  <tbody>\n",
       "    <tr>\n",
       "      <th>0</th>\n",
       "      <td>BUS</td>\n",
       "      <td>startswith</td>\n",
       "      <td>MOB_PUBLIC</td>\n",
       "      <td>MOB_PUBLIC_BUS</td>\n",
       "    </tr>\n",
       "    <tr>\n",
       "      <th>1</th>\n",
       "      <td>SCHOOLBUS</td>\n",
       "      <td>startswith</td>\n",
       "      <td>MOB_PUBLIC</td>\n",
       "      <td>MOB_PUBLIC_SCHOOLBUS</td>\n",
       "    </tr>\n",
       "    <tr>\n",
       "      <th>2</th>\n",
       "      <td>COACH</td>\n",
       "      <td>startswith</td>\n",
       "      <td>MOB_PUBLIC</td>\n",
       "      <td>MOB_PUBLIC_COACH</td>\n",
       "    </tr>\n",
       "    <tr>\n",
       "      <th>3</th>\n",
       "      <td>TRAIN</td>\n",
       "      <td>startswith</td>\n",
       "      <td>MOB_PUBLIC</td>\n",
       "      <td>MOB_PUBLIC_TRAIN</td>\n",
       "    </tr>\n",
       "    <tr>\n",
       "      <th>4</th>\n",
       "      <td>CAR</td>\n",
       "      <td>startswith</td>\n",
       "      <td>MOB_PRIVATE</td>\n",
       "      <td>MOB_PRIVATE_CAR</td>\n",
       "    </tr>\n",
       "  </tbody>\n",
       "</table>\n",
       "</div>"
      ]
     },
     "execution_count": 24,
     "metadata": {},
     "output_type": "execute_result"
    }
   ],
   "execution_count": 24
  },
  {
   "metadata": {},
   "cell_type": "markdown",
   "source": [
    "If you want to inject the results of your ESM back in the LCI database, you should provide the results in a dataframe with the following columns:\n",
    "- `Name`: the name of the energy technology in the ESM\n",
    "- `Production`: the annual production value of the energy technology in the ESM. All values should be provided with the same unit.\n",
    "- `Capacity`: the installed capacity of the energy technology in the ESM. All values should be provided with the same unit.\n",
    "- `Year`: the year of the ESM snapshot or transition pathway time-step.\n",
    "- `Year_inst`: the year of installation of the energy technology. This is only required for `PathwayESM` if `operation_metrics_for_all_time_steps` is True."
   ],
   "id": "edecc3e872780922"
  },
  {
   "metadata": {
    "ExecuteTime": {
     "end_time": "2025-10-28T09:56:25.293033Z",
     "start_time": "2025-10-28T09:56:25.158279Z"
    }
   },
   "cell_type": "code",
   "source": "results_from_esm.head()",
   "id": "39fc1572bfbdc36d",
   "outputs": [
    {
     "data": {
      "text/plain": [
       "                     Name   Production  Capacity  Year  Year_inst\n",
       "0  CAR_BEV_MEDRANGE_LOCAL  44880.00000  5.123288  2020       2020\n",
       "1  CAR_BEV_MEDRANGE_LONGD  29920.00000  3.415525  2020       2020\n",
       "2                 CCGT_CC   1622.23145  0.217866  2020       2020\n",
       "3                COACH_EV  17952.00000  2.049315  2020       2020\n",
       "4      COMMUTER_RAIL_ELEC  44880.00000  5.123288  2020       2020"
      ],
      "text/html": [
       "<div>\n",
       "<style scoped>\n",
       "    .dataframe tbody tr th:only-of-type {\n",
       "        vertical-align: middle;\n",
       "    }\n",
       "\n",
       "    .dataframe tbody tr th {\n",
       "        vertical-align: top;\n",
       "    }\n",
       "\n",
       "    .dataframe thead th {\n",
       "        text-align: right;\n",
       "    }\n",
       "</style>\n",
       "<table border=\"1\" class=\"dataframe\">\n",
       "  <thead>\n",
       "    <tr style=\"text-align: right;\">\n",
       "      <th></th>\n",
       "      <th>Name</th>\n",
       "      <th>Production</th>\n",
       "      <th>Capacity</th>\n",
       "      <th>Year</th>\n",
       "      <th>Year_inst</th>\n",
       "    </tr>\n",
       "  </thead>\n",
       "  <tbody>\n",
       "    <tr>\n",
       "      <th>0</th>\n",
       "      <td>CAR_BEV_MEDRANGE_LOCAL</td>\n",
       "      <td>44880.00000</td>\n",
       "      <td>5.123288</td>\n",
       "      <td>2020</td>\n",
       "      <td>2020</td>\n",
       "    </tr>\n",
       "    <tr>\n",
       "      <th>1</th>\n",
       "      <td>CAR_BEV_MEDRANGE_LONGD</td>\n",
       "      <td>29920.00000</td>\n",
       "      <td>3.415525</td>\n",
       "      <td>2020</td>\n",
       "      <td>2020</td>\n",
       "    </tr>\n",
       "    <tr>\n",
       "      <th>2</th>\n",
       "      <td>CCGT_CC</td>\n",
       "      <td>1622.23145</td>\n",
       "      <td>0.217866</td>\n",
       "      <td>2020</td>\n",
       "      <td>2020</td>\n",
       "    </tr>\n",
       "    <tr>\n",
       "      <th>3</th>\n",
       "      <td>COACH_EV</td>\n",
       "      <td>17952.00000</td>\n",
       "      <td>2.049315</td>\n",
       "      <td>2020</td>\n",
       "      <td>2020</td>\n",
       "    </tr>\n",
       "    <tr>\n",
       "      <th>4</th>\n",
       "      <td>COMMUTER_RAIL_ELEC</td>\n",
       "      <td>44880.00000</td>\n",
       "      <td>5.123288</td>\n",
       "      <td>2020</td>\n",
       "      <td>2020</td>\n",
       "    </tr>\n",
       "  </tbody>\n",
       "</table>\n",
       "</div>"
      ]
     },
     "execution_count": 25,
     "metadata": {},
     "output_type": "execute_result"
    }
   ],
   "execution_count": 25
  },
  {
   "metadata": {},
   "cell_type": "markdown",
   "source": "### Optional geographical data",
   "id": "9ab87522b2705c27"
  },
  {
   "metadata": {
    "ExecuteTime": {
     "end_time": "2025-10-28T09:56:25.485792Z",
     "start_time": "2025-10-28T09:56:25.369604Z"
    }
   },
   "cell_type": "code",
   "source": [
    "# sufficient match within ecoinvent\n",
    "if esm_location == 'CA-QC':\n",
    "    accepted_locations = ['CA-QC', 'CA']\n",
    "elif esm_location == 'CH':\n",
    "    accepted_locations = ['CH']\n",
    "else:\n",
    "    accepted_locations = ['GLO', 'RoW']"
   ],
   "id": "145d3b7fdc23fcc9",
   "outputs": [],
   "execution_count": 26
  },
  {
   "metadata": {
    "ExecuteTime": {
     "end_time": "2025-10-28T09:56:25.782145Z",
     "start_time": "2025-10-28T09:56:25.629442Z"
    }
   },
   "cell_type": "code",
   "source": [
    "# Define the user-defined ranking\n",
    "if esm_location == 'CA-QC':\n",
    "    my_ranking = [\n",
    "        'CA-QC', # Quebec\n",
    "        'CA', # Canada\n",
    "        'CAN', # Canada in IMAGE\n",
    "        'CAZ', # Canada - Australia - New Zealand in REMIND\n",
    "        'RNA', # North America\n",
    "        'US', # United States\n",
    "        'USA', # United States in REMIND and IMAGE\n",
    "        'GLO', # Global average \n",
    "        'RoW', # Rest of the world\n",
    "    ]\n",
    "elif esm_location == 'CH':\n",
    "    my_ranking = [\n",
    "        'CH',\n",
    "        'NEU',\n",
    "        'EUR',\n",
    "        'WEU',\n",
    "        'RER', \n",
    "        'IAI Area, EU27 & EFTA',\n",
    "        'GLO',\n",
    "        'RoW'\n",
    "    ]\n",
    "else:\n",
    "    my_ranking = [\n",
    "        'GLO',\n",
    "        'RoW',\n",
    "    ]"
   ],
   "id": "b27bcbc91b924324",
   "outputs": [],
   "execution_count": 27
  },
  {
   "metadata": {},
   "cell_type": "markdown",
   "source": [
    "## Create a new database with additional CPC categories (optional)\n",
    "In case you are working with a LCI database without CPC categories, you can create a new database with the CPC categories. The function `create_new_database_with_CPC_categories` takes as input the database with missing CPC categories, the name of the new database, and a mapping between the products and activities in the LCI database and the CPC categories. It creates a new database with the CPC categories. This step can take a few minutes depending on the size of the database."
   ],
   "id": "93d4cc0ac977b2e1"
  },
  {
   "metadata": {
    "ExecuteTime": {
     "end_time": "2025-10-28T09:56:27.563871Z",
     "start_time": "2025-10-28T09:56:25.822881Z"
    }
   },
   "cell_type": "code",
   "source": [
    "# If necessary, add missing CPC categories to the database\n",
    "premise_db.add_CPC_categories()"
   ],
   "id": "4cd76ab14b74aed2",
   "outputs": [],
   "execution_count": 28
  },
  {
   "metadata": {},
   "cell_type": "markdown",
   "source": "## Initialize the ESM database",
   "id": "c851693f8d9c7470"
  },
  {
   "metadata": {
    "ExecuteTime": {
     "end_time": "2025-10-28T09:56:27.694881Z",
     "start_time": "2025-10-28T09:56:27.572066Z"
    }
   },
   "cell_type": "code",
   "source": "mapping.Database = name_premise_db",
   "id": "15dfcd77f62765b9",
   "outputs": [],
   "execution_count": 29
  },
  {
   "metadata": {
    "ExecuteTime": {
     "end_time": "2025-10-28T09:56:27.832778Z",
     "start_time": "2025-10-28T09:56:27.719532Z"
    }
   },
   "cell_type": "code",
   "source": [
    "# Reduced inputs for testing\n",
    "model = model[model.Name.str.startswith('ALKALINE_ELECTROLYSIS')]\n",
    "mapping = mapping[(mapping.Name.str.startswith('ALKALINE_ELECTROLYSIS')) | (mapping.Name.isin(list(model.Flow.unique())))]\n",
    "technology_specifics = None"
   ],
   "id": "4a123e0fbe5ba1d",
   "outputs": [],
   "execution_count": 30
  },
  {
   "metadata": {
    "ExecuteTime": {
     "end_time": "2025-10-28T09:56:27.979229Z",
     "start_time": "2025-10-28T09:56:27.854196Z"
    }
   },
   "cell_type": "code",
   "source": [
    "esm = ESM(\n",
    "    # Mandatory inputs\n",
    "    mapping=mapping,\n",
    "    unit_conversion=unit_conversion,\n",
    "    model=model,\n",
    "    mapping_esm_flows_to_CPC_cat=mapping_esm_flows_to_CPC,\n",
    "    main_database=premise_db,\n",
    "    esm_db_name=esm_db_name,\n",
    "    biosphere_db_name=name_biosphere_db,\n",
    "    esm_location=esm_location,\n",
    "\n",
    "    # Optional inputs\n",
    "    technology_compositions=technology_compositions,\n",
    "    tech_specifics=technology_specifics,\n",
    "    lifetime=lifetime,\n",
    "    efficiency=efficiency,\n",
    "    regionalize_foregrounds=regionalize_foregrounds,\n",
    "    accepted_locations=accepted_locations,\n",
    "    locations_ranking=my_ranking,\n",
    "    spatialized_biosphere_db=spatialized_biosphere_db,\n",
    "    results_path_file=f'results/energyscope_{esm_location}/{esm_year}/',\n",
    ")"
   ],
   "id": "1a94b922a1fff43",
   "outputs": [],
   "execution_count": 31
  },
  {
   "metadata": {
    "ExecuteTime": {
     "end_time": "2025-10-28T09:56:28.154514Z",
     "start_time": "2025-10-28T09:56:28.001092Z"
    }
   },
   "cell_type": "code",
   "source": "esm.main_database.test_mapping_file(esm.mapping)",
   "id": "b0f1a09451388efa",
   "outputs": [
    {
     "name": "stderr",
     "output_type": "stream",
     "text": [
      "2025-10-28 10:56:28,145 - Database - INFO - Mapping successfully linked to the database\n"
     ]
    },
    {
     "data": {
      "text/plain": [
       "[]"
      ]
     },
     "execution_count": 32,
     "metadata": {},
     "output_type": "execute_result"
    }
   ],
   "execution_count": 32
  },
  {
   "metadata": {
    "ExecuteTime": {
     "end_time": "2025-10-28T09:56:28.307717Z",
     "start_time": "2025-10-28T09:56:28.187784Z"
    }
   },
   "cell_type": "code",
   "source": "esm.clean_inputs()",
   "id": "a5fad690e5cfe349",
   "outputs": [],
   "execution_count": 33
  },
  {
   "metadata": {
    "ExecuteTime": {
     "end_time": "2025-10-28T09:56:28.457508Z",
     "start_time": "2025-10-28T09:56:28.330555Z"
    }
   },
   "cell_type": "code",
   "source": "esm.check_inputs()",
   "id": "22b602d98c6ca04",
   "outputs": [
    {
     "name": "stderr",
     "output_type": "stream",
     "text": [
      "2025-10-28 10:56:28,443 - Mescal - WARNING - List of technologies or resources that are in the mapping file but not in the model file (this will not be a problem in the workflow): ['H2_MP']\n",
      "2025-10-28 10:56:28,449 - Mescal - WARNING - List of flows that are in the mapping file but not in the unit conversion file. It might be an issue if unit conversions are required during the efficiency correction step: ['HEAT_LOW_T_DECEN']\n"
     ]
    }
   ],
   "execution_count": 34
  },
  {
   "metadata": {},
   "cell_type": "markdown",
   "source": [
    "## Add or replace the location column based on a user-defined ranking (optional)\n",
    "Based on a user-defined ranking, the location column of the mapping dataframe can be updated. The function `change_location_mapping_file` takes as input the mapping dataframe, the user-defined ranking, and the base database. It returns the mapping dataframe with the location column updated."
   ],
   "id": "fdff9a72e4fbf70a"
  },
  {
   "metadata": {
    "ExecuteTime": {
     "end_time": "2025-10-28T09:56:28.702729Z",
     "start_time": "2025-10-28T09:56:28.480209Z"
    }
   },
   "cell_type": "code",
   "source": [
    "# Update mapping dataframe with better locations\n",
    "esm.change_location_mapping_file()"
   ],
   "id": "cb4951f2d751a738",
   "outputs": [],
   "execution_count": 35
  },
  {
   "metadata": {
    "ExecuteTime": {
     "end_time": "2025-10-28T09:56:28.851527Z",
     "start_time": "2025-10-28T09:56:28.725232Z"
    }
   },
   "cell_type": "code",
   "source": "esm.mapping.head()",
   "id": "7e32ad69b357fc0e",
   "outputs": [
    {
     "data": {
      "text/plain": [
       "                                Name          Type  \\\n",
       "0              ALKALINE_ELECTROLYSIS     Operation   \n",
       "1        ALKALINE_ELECTROLYSIS_PLANT  Construction   \n",
       "2  ALKALINE_ELECTROLYSIS_PLANT_DECOM  Construction   \n",
       "3        ALKALINE_ELECTROLYSIS_STACK  Construction   \n",
       "4  ALKALINE_ELECTROLYSIS_STACK_DECOM  Construction   \n",
       "\n",
       "                                      Product  \\\n",
       "0                   hydrogen, gaseous, 20 bar   \n",
       "1   electrolyzer, 1MWe, AEC, Balance of Plant   \n",
       "2  used fuel cell balance of plant, 1MWe, AEC   \n",
       "3              electrolyzer, 1MWe, AEC, Stack   \n",
       "4             used fuel cell stack, 1MWe, AEC   \n",
       "\n",
       "                                            Activity Location  \\\n",
       "0  hydrogen production, gaseous, 20 bar, from AEC...       CH   \n",
       "1  electrolyzer production, 1MWe, AEC, Balance of...      RER   \n",
       "2  treatment of fuel cell balance of plant, 1MWe,...      RER   \n",
       "3          electrolyzer production, 1MWe, AEC, Stack      RER   \n",
       "4            treatment of fuel cell stack, 1MWe, AEC      RER   \n",
       "\n",
       "                                      Database  \n",
       "0  ecoinvent_cutoff_3.9.1_image_SSP2-Base_2050  \n",
       "1  ecoinvent_cutoff_3.9.1_image_SSP2-Base_2050  \n",
       "2  ecoinvent_cutoff_3.9.1_image_SSP2-Base_2050  \n",
       "3  ecoinvent_cutoff_3.9.1_image_SSP2-Base_2050  \n",
       "4  ecoinvent_cutoff_3.9.1_image_SSP2-Base_2050  "
      ],
      "text/html": [
       "<div>\n",
       "<style scoped>\n",
       "    .dataframe tbody tr th:only-of-type {\n",
       "        vertical-align: middle;\n",
       "    }\n",
       "\n",
       "    .dataframe tbody tr th {\n",
       "        vertical-align: top;\n",
       "    }\n",
       "\n",
       "    .dataframe thead th {\n",
       "        text-align: right;\n",
       "    }\n",
       "</style>\n",
       "<table border=\"1\" class=\"dataframe\">\n",
       "  <thead>\n",
       "    <tr style=\"text-align: right;\">\n",
       "      <th></th>\n",
       "      <th>Name</th>\n",
       "      <th>Type</th>\n",
       "      <th>Product</th>\n",
       "      <th>Activity</th>\n",
       "      <th>Location</th>\n",
       "      <th>Database</th>\n",
       "    </tr>\n",
       "  </thead>\n",
       "  <tbody>\n",
       "    <tr>\n",
       "      <th>0</th>\n",
       "      <td>ALKALINE_ELECTROLYSIS</td>\n",
       "      <td>Operation</td>\n",
       "      <td>hydrogen, gaseous, 20 bar</td>\n",
       "      <td>hydrogen production, gaseous, 20 bar, from AEC...</td>\n",
       "      <td>CH</td>\n",
       "      <td>ecoinvent_cutoff_3.9.1_image_SSP2-Base_2050</td>\n",
       "    </tr>\n",
       "    <tr>\n",
       "      <th>1</th>\n",
       "      <td>ALKALINE_ELECTROLYSIS_PLANT</td>\n",
       "      <td>Construction</td>\n",
       "      <td>electrolyzer, 1MWe, AEC, Balance of Plant</td>\n",
       "      <td>electrolyzer production, 1MWe, AEC, Balance of...</td>\n",
       "      <td>RER</td>\n",
       "      <td>ecoinvent_cutoff_3.9.1_image_SSP2-Base_2050</td>\n",
       "    </tr>\n",
       "    <tr>\n",
       "      <th>2</th>\n",
       "      <td>ALKALINE_ELECTROLYSIS_PLANT_DECOM</td>\n",
       "      <td>Construction</td>\n",
       "      <td>used fuel cell balance of plant, 1MWe, AEC</td>\n",
       "      <td>treatment of fuel cell balance of plant, 1MWe,...</td>\n",
       "      <td>RER</td>\n",
       "      <td>ecoinvent_cutoff_3.9.1_image_SSP2-Base_2050</td>\n",
       "    </tr>\n",
       "    <tr>\n",
       "      <th>3</th>\n",
       "      <td>ALKALINE_ELECTROLYSIS_STACK</td>\n",
       "      <td>Construction</td>\n",
       "      <td>electrolyzer, 1MWe, AEC, Stack</td>\n",
       "      <td>electrolyzer production, 1MWe, AEC, Stack</td>\n",
       "      <td>RER</td>\n",
       "      <td>ecoinvent_cutoff_3.9.1_image_SSP2-Base_2050</td>\n",
       "    </tr>\n",
       "    <tr>\n",
       "      <th>4</th>\n",
       "      <td>ALKALINE_ELECTROLYSIS_STACK_DECOM</td>\n",
       "      <td>Construction</td>\n",
       "      <td>used fuel cell stack, 1MWe, AEC</td>\n",
       "      <td>treatment of fuel cell stack, 1MWe, AEC</td>\n",
       "      <td>RER</td>\n",
       "      <td>ecoinvent_cutoff_3.9.1_image_SSP2-Base_2050</td>\n",
       "    </tr>\n",
       "  </tbody>\n",
       "</table>\n",
       "</div>"
      ]
     },
     "execution_count": 36,
     "metadata": {},
     "output_type": "execute_result"
    }
   ],
   "execution_count": 36
  },
  {
   "metadata": {},
   "cell_type": "markdown",
   "source": "## Create ESM database after double-counting removal, efficiency harmonization, and lifetime harmonization",
   "id": "4d25a01896041d53"
  },
  {
   "metadata": {
    "ExecuteTime": {
     "end_time": "2025-10-28T09:56:30.150356Z",
     "start_time": "2025-10-28T09:56:28.918074Z"
    }
   },
   "cell_type": "code",
   "source": "esm.create_esm_database()",
   "id": "dcb433d280e724c4",
   "outputs": [
    {
     "name": "stderr",
     "output_type": "stream",
     "text": [
      "2025-10-28 10:56:29,328 - Mescal - INFO - Starting to remove double-counted flows\n",
      "100%|██████████| 1/1 [00:00<00:00,  8.26it/s]\n",
      "2025-10-28 10:56:29,599 - Mescal - INFO - Double-counting removal done in 0.3 seconds\n",
      "2025-10-28 10:56:29,731 - Mescal - INFO - Starting to write database\n",
      "2025-10-28 10:56:29,779 - Database - INFO - Previous EnergyScope_CH_2050_Test will be overwritten!\n",
      "Writing activities to SQLite3 database:\n",
      "0% [#######] 100% | ETA: 00:00:00\n",
      "Total time elapsed: 00:00:00\n",
      "2025-10-28 10:56:30,089 - Database - INFO - EnergyScope_CH_2050_Test written to Brightway!\n",
      "2025-10-28 10:56:30,095 - Mescal - INFO - Database written in 0.4 seconds\n"
     ]
    },
    {
     "name": "stdout",
     "output_type": "stream",
     "text": [
      "Title: Writing activities to SQLite3 database:\n",
      "  Started: 10/28/2025 10:56:29\n",
      "  Finished: 10/28/2025 10:56:29\n",
      "  Total time elapsed: 00:00:00\n",
      "  CPU %: 0.00\n",
      "  Memory %: 9.58\n"
     ]
    }
   ],
   "execution_count": 37
  },
  {
   "metadata": {},
   "cell_type": "markdown",
   "source": "## Computing the LCA metrics",
   "id": "6b4cb46fb46fc271"
  },
  {
   "metadata": {
    "ExecuteTime": {
     "end_time": "2025-10-28T09:58:32.271063Z",
     "start_time": "2025-10-28T09:58:31.257954Z"
    }
   },
   "cell_type": "code",
   "source": [
    "R_long_direct_emissions, _, _ = esm.compute_impact_scores(\n",
    "    methods=lcia_methods,\n",
    "    assessment_type='direct emissions',\n",
    "    overwrite=True,\n",
    ")"
   ],
   "id": "e302b5dffde9e360",
   "outputs": [
    {
     "name": "stdout",
     "output_type": "stream",
     "text": [
      "Getting activity data\n"
     ]
    },
    {
     "name": "stderr",
     "output_type": "stream",
     "text": [
      "100%|██████████| 7/7 [00:00<?, ?it/s]\n"
     ]
    },
    {
     "name": "stdout",
     "output_type": "stream",
     "text": [
      "Adding exchange data to activities\n"
     ]
    },
    {
     "name": "stderr",
     "output_type": "stream",
     "text": [
      "100%|██████████| 100/100 [00:00<00:00, 27650.50it/s]\n"
     ]
    },
    {
     "name": "stdout",
     "output_type": "stream",
     "text": [
      "Filling out exchange data\n"
     ]
    },
    {
     "name": "stderr",
     "output_type": "stream",
     "text": [
      "100%|██████████| 7/7 [00:00<00:00, 251.69it/s]\n",
      "2025-10-28 10:58:31,660 - Database - INFO - Loaded EnergyScope_CH_2050_Test from brightway!\n",
      "2025-10-28 10:58:31,689 - Database - INFO - Previous EnergyScope_CH_2050_Test_direct_emissions will be overwritten!\n",
      "Writing activities to SQLite3 database:\n",
      "0% [##] 100% | ETA: 00:00:00\n",
      "Total time elapsed: 00:00:00\n",
      "2025-10-28 10:58:32,013 - Database - INFO - EnergyScope_CH_2050_Test_direct_emissions written to Brightway!\n"
     ]
    },
    {
     "name": "stdout",
     "output_type": "stream",
     "text": [
      "Title: Writing activities to SQLite3 database:\n",
      "  Started: 10/28/2025 10:58:31\n",
      "  Finished: 10/28/2025 10:58:31\n",
      "  Total time elapsed: 00:00:00\n",
      "  CPU %: 0.00\n",
      "  Memory %: 9.60\n"
     ]
    },
    {
     "name": "stderr",
     "output_type": "stream",
     "text": [
      "1it [00:00, 166.94it/s]\n"
     ]
    }
   ],
   "execution_count": 41
  },
  {
   "metadata": {
    "ExecuteTime": {
     "end_time": "2025-10-28T08:27:37.528857Z",
     "start_time": "2025-10-28T08:27:37.206884Z"
    }
   },
   "cell_type": "code",
   "source": "R_long_direct_emissions.to_csv(f'results/energyscope_{esm_location}/{esm_year}/impact_scores_direct_emissions.csv', index=False)",
   "id": "fea7a22995ed8628",
   "outputs": [],
   "execution_count": 39
  },
  {
   "metadata": {
    "ExecuteTime": {
     "end_time": "2025-10-28T09:58:36.165709Z",
     "start_time": "2025-10-28T09:58:36.010100Z"
    }
   },
   "cell_type": "code",
   "source": "R_long_direct_emissions.head()",
   "id": "9fb9a39a727e6325",
   "outputs": [
    {
     "data": {
      "text/plain": [
       "                                     Impact_category  \\\n",
       "0  (IMPACT World+ Damage 2.1 for ecoinvent v3.9, ...   \n",
       "1  (IMPACT World+ Damage 2.1 for ecoinvent v3.9, ...   \n",
       "2  (IMPACT World+ Damage 2.1 for ecoinvent v3.9, ...   \n",
       "3  (IMPACT World+ Damage 2.1 for ecoinvent v3.9, ...   \n",
       "4  (IMPACT World+ Midpoint 2.1 for ecoinvent v3.9...   \n",
       "\n",
       "                           New_code  Value                   Name       Type  \\\n",
       "0  pkwsk87i0bp6pr6scnyasiufd2hq0i0o    0.0  ALKALINE_ELECTROLYSIS  Operation   \n",
       "1  pkwsk87i0bp6pr6scnyasiufd2hq0i0o    0.0  ALKALINE_ELECTROLYSIS  Operation   \n",
       "2  pkwsk87i0bp6pr6scnyasiufd2hq0i0o    0.0  ALKALINE_ELECTROLYSIS  Operation   \n",
       "3  pkwsk87i0bp6pr6scnyasiufd2hq0i0o    0.0  ALKALINE_ELECTROLYSIS  Operation   \n",
       "4  pkwsk87i0bp6pr6scnyasiufd2hq0i0o    0.0  ALKALINE_ELECTROLYSIS  Operation   \n",
       "\n",
       "                       Impact_category (level 0) Impact_category (level 1)  \\\n",
       "0    IMPACT World+ Damage 2.1 for ecoinvent v3.9         Ecosystem quality   \n",
       "1    IMPACT World+ Damage 2.1 for ecoinvent v3.9         Ecosystem quality   \n",
       "2    IMPACT World+ Damage 2.1 for ecoinvent v3.9              Human health   \n",
       "3    IMPACT World+ Damage 2.1 for ecoinvent v3.9              Human health   \n",
       "4  IMPACT World+ Midpoint 2.1 for ecoinvent v3.9                  Midpoint   \n",
       "\n",
       "                       Impact_category (level 2) Impact_category_unit  \\\n",
       "0   Climate change, ecosystem quality, long term            PDF.m2.yr   \n",
       "1  Climate change, ecosystem quality, short term            PDF.m2.yr   \n",
       "2        Climate change, human health, long term                 DALY   \n",
       "3       Climate change, human health, short term                 DALY   \n",
       "4                      Climate change, long term     kg CO2 eq (long)   \n",
       "\n",
       "  Functional unit  \n",
       "0   kilowatt hour  \n",
       "1   kilowatt hour  \n",
       "2   kilowatt hour  \n",
       "3   kilowatt hour  \n",
       "4   kilowatt hour  "
      ],
      "text/html": [
       "<div>\n",
       "<style scoped>\n",
       "    .dataframe tbody tr th:only-of-type {\n",
       "        vertical-align: middle;\n",
       "    }\n",
       "\n",
       "    .dataframe tbody tr th {\n",
       "        vertical-align: top;\n",
       "    }\n",
       "\n",
       "    .dataframe thead th {\n",
       "        text-align: right;\n",
       "    }\n",
       "</style>\n",
       "<table border=\"1\" class=\"dataframe\">\n",
       "  <thead>\n",
       "    <tr style=\"text-align: right;\">\n",
       "      <th></th>\n",
       "      <th>Impact_category</th>\n",
       "      <th>New_code</th>\n",
       "      <th>Value</th>\n",
       "      <th>Name</th>\n",
       "      <th>Type</th>\n",
       "      <th>Impact_category (level 0)</th>\n",
       "      <th>Impact_category (level 1)</th>\n",
       "      <th>Impact_category (level 2)</th>\n",
       "      <th>Impact_category_unit</th>\n",
       "      <th>Functional unit</th>\n",
       "    </tr>\n",
       "  </thead>\n",
       "  <tbody>\n",
       "    <tr>\n",
       "      <th>0</th>\n",
       "      <td>(IMPACT World+ Damage 2.1 for ecoinvent v3.9, ...</td>\n",
       "      <td>pkwsk87i0bp6pr6scnyasiufd2hq0i0o</td>\n",
       "      <td>0.0</td>\n",
       "      <td>ALKALINE_ELECTROLYSIS</td>\n",
       "      <td>Operation</td>\n",
       "      <td>IMPACT World+ Damage 2.1 for ecoinvent v3.9</td>\n",
       "      <td>Ecosystem quality</td>\n",
       "      <td>Climate change, ecosystem quality, long term</td>\n",
       "      <td>PDF.m2.yr</td>\n",
       "      <td>kilowatt hour</td>\n",
       "    </tr>\n",
       "    <tr>\n",
       "      <th>1</th>\n",
       "      <td>(IMPACT World+ Damage 2.1 for ecoinvent v3.9, ...</td>\n",
       "      <td>pkwsk87i0bp6pr6scnyasiufd2hq0i0o</td>\n",
       "      <td>0.0</td>\n",
       "      <td>ALKALINE_ELECTROLYSIS</td>\n",
       "      <td>Operation</td>\n",
       "      <td>IMPACT World+ Damage 2.1 for ecoinvent v3.9</td>\n",
       "      <td>Ecosystem quality</td>\n",
       "      <td>Climate change, ecosystem quality, short term</td>\n",
       "      <td>PDF.m2.yr</td>\n",
       "      <td>kilowatt hour</td>\n",
       "    </tr>\n",
       "    <tr>\n",
       "      <th>2</th>\n",
       "      <td>(IMPACT World+ Damage 2.1 for ecoinvent v3.9, ...</td>\n",
       "      <td>pkwsk87i0bp6pr6scnyasiufd2hq0i0o</td>\n",
       "      <td>0.0</td>\n",
       "      <td>ALKALINE_ELECTROLYSIS</td>\n",
       "      <td>Operation</td>\n",
       "      <td>IMPACT World+ Damage 2.1 for ecoinvent v3.9</td>\n",
       "      <td>Human health</td>\n",
       "      <td>Climate change, human health, long term</td>\n",
       "      <td>DALY</td>\n",
       "      <td>kilowatt hour</td>\n",
       "    </tr>\n",
       "    <tr>\n",
       "      <th>3</th>\n",
       "      <td>(IMPACT World+ Damage 2.1 for ecoinvent v3.9, ...</td>\n",
       "      <td>pkwsk87i0bp6pr6scnyasiufd2hq0i0o</td>\n",
       "      <td>0.0</td>\n",
       "      <td>ALKALINE_ELECTROLYSIS</td>\n",
       "      <td>Operation</td>\n",
       "      <td>IMPACT World+ Damage 2.1 for ecoinvent v3.9</td>\n",
       "      <td>Human health</td>\n",
       "      <td>Climate change, human health, short term</td>\n",
       "      <td>DALY</td>\n",
       "      <td>kilowatt hour</td>\n",
       "    </tr>\n",
       "    <tr>\n",
       "      <th>4</th>\n",
       "      <td>(IMPACT World+ Midpoint 2.1 for ecoinvent v3.9...</td>\n",
       "      <td>pkwsk87i0bp6pr6scnyasiufd2hq0i0o</td>\n",
       "      <td>0.0</td>\n",
       "      <td>ALKALINE_ELECTROLYSIS</td>\n",
       "      <td>Operation</td>\n",
       "      <td>IMPACT World+ Midpoint 2.1 for ecoinvent v3.9</td>\n",
       "      <td>Midpoint</td>\n",
       "      <td>Climate change, long term</td>\n",
       "      <td>kg CO2 eq (long)</td>\n",
       "      <td>kilowatt hour</td>\n",
       "    </tr>\n",
       "  </tbody>\n",
       "</table>\n",
       "</div>"
      ]
     },
     "execution_count": 42,
     "metadata": {},
     "output_type": "execute_result"
    }
   ],
   "execution_count": 42
  },
  {
   "metadata": {
    "ExecuteTime": {
     "end_time": "2025-10-28T10:04:20.700306Z",
     "start_time": "2025-10-28T09:59:36.241592Z"
    }
   },
   "cell_type": "code",
   "source": [
    "R_long, contrib_analysis_res, _ = esm.compute_impact_scores(\n",
    "    methods=lcia_methods,\n",
    "    contribution_analysis='emissions',\n",
    ")"
   ],
   "id": "eec23a6fa77a5fb8",
   "outputs": [
    {
     "name": "stdout",
     "output_type": "stream",
     "text": [
      "Getting activity data\n"
     ]
    },
    {
     "name": "stderr",
     "output_type": "stream",
     "text": [
      "100%|██████████| 7/7 [00:00<00:00, 6882.36it/s]\n"
     ]
    },
    {
     "name": "stdout",
     "output_type": "stream",
     "text": [
      "Adding exchange data to activities\n"
     ]
    },
    {
     "name": "stderr",
     "output_type": "stream",
     "text": [
      "100%|██████████| 100/100 [00:00<00:00, 17598.72it/s]\n"
     ]
    },
    {
     "name": "stdout",
     "output_type": "stream",
     "text": [
      "Filling out exchange data\n"
     ]
    },
    {
     "name": "stderr",
     "output_type": "stream",
     "text": [
      "100%|██████████| 7/7 [00:00<00:00, 432.64it/s]\n",
      "2025-10-28 10:59:36,637 - Database - INFO - Loaded EnergyScope_CH_2050_Test from brightway!\n",
      "6it [00:04,  1.48it/s]\n"
     ]
    }
   ],
   "execution_count": 43
  },
  {
   "metadata": {
    "ExecuteTime": {
     "end_time": "2025-10-28T08:43:11.904143Z",
     "start_time": "2025-10-28T08:43:10.228189Z"
    }
   },
   "cell_type": "code",
   "source": [
    "R_long.to_csv(f'results/energyscope_{esm_location}/{esm_year}/impact_scores.csv', index=False)\n",
    "contrib_analysis_res.to_csv(f'results/energyscope_{esm_location}/{esm_year}/contribution_analysis.csv', index=False)"
   ],
   "id": "287129cdf4552801",
   "outputs": [],
   "execution_count": 41
  },
  {
   "metadata": {
    "ExecuteTime": {
     "end_time": "2025-10-28T10:04:20.925773Z",
     "start_time": "2025-10-28T10:04:20.743665Z"
    }
   },
   "cell_type": "code",
   "source": "R_long.head()",
   "id": "ca731ef9eda9ba66",
   "outputs": [
    {
     "data": {
      "text/plain": [
       "                                     Impact_category  \\\n",
       "0  (IMPACT World+ Damage 2.1 for ecoinvent v3.9, ...   \n",
       "1  (IMPACT World+ Damage 2.1 for ecoinvent v3.9, ...   \n",
       "2  (IMPACT World+ Damage 2.1 for ecoinvent v3.9, ...   \n",
       "3  (IMPACT World+ Damage 2.1 for ecoinvent v3.9, ...   \n",
       "4  (IMPACT World+ Midpoint 2.1 for ecoinvent v3.9...   \n",
       "\n",
       "                           New_code       Value                   Name  \\\n",
       "0  7o46eq8iw2cke5jxtqh0f9b9b6vgn55j  202.379069  ALKALINE_ELECTROLYSIS   \n",
       "1  7o46eq8iw2cke5jxtqh0f9b9b6vgn55j   62.987852  ALKALINE_ELECTROLYSIS   \n",
       "2  7o46eq8iw2cke5jxtqh0f9b9b6vgn55j    0.002727  ALKALINE_ELECTROLYSIS   \n",
       "3  7o46eq8iw2cke5jxtqh0f9b9b6vgn55j    0.000849  ALKALINE_ELECTROLYSIS   \n",
       "4  7o46eq8iw2cke5jxtqh0f9b9b6vgn55j  510.711797  ALKALINE_ELECTROLYSIS   \n",
       "\n",
       "           Type                      Impact_category (level 0)  \\\n",
       "0  Construction    IMPACT World+ Damage 2.1 for ecoinvent v3.9   \n",
       "1  Construction    IMPACT World+ Damage 2.1 for ecoinvent v3.9   \n",
       "2  Construction    IMPACT World+ Damage 2.1 for ecoinvent v3.9   \n",
       "3  Construction    IMPACT World+ Damage 2.1 for ecoinvent v3.9   \n",
       "4  Construction  IMPACT World+ Midpoint 2.1 for ecoinvent v3.9   \n",
       "\n",
       "  Impact_category (level 1)                      Impact_category (level 2)  \\\n",
       "0         Ecosystem quality   Climate change, ecosystem quality, long term   \n",
       "1         Ecosystem quality  Climate change, ecosystem quality, short term   \n",
       "2              Human health        Climate change, human health, long term   \n",
       "3              Human health       Climate change, human health, short term   \n",
       "4                  Midpoint                      Climate change, long term   \n",
       "\n",
       "  Impact_category_unit Functional unit  \n",
       "0            PDF.m2.yr        kilowatt  \n",
       "1            PDF.m2.yr        kilowatt  \n",
       "2                 DALY        kilowatt  \n",
       "3                 DALY        kilowatt  \n",
       "4     kg CO2 eq (long)        kilowatt  "
      ],
      "text/html": [
       "<div>\n",
       "<style scoped>\n",
       "    .dataframe tbody tr th:only-of-type {\n",
       "        vertical-align: middle;\n",
       "    }\n",
       "\n",
       "    .dataframe tbody tr th {\n",
       "        vertical-align: top;\n",
       "    }\n",
       "\n",
       "    .dataframe thead th {\n",
       "        text-align: right;\n",
       "    }\n",
       "</style>\n",
       "<table border=\"1\" class=\"dataframe\">\n",
       "  <thead>\n",
       "    <tr style=\"text-align: right;\">\n",
       "      <th></th>\n",
       "      <th>Impact_category</th>\n",
       "      <th>New_code</th>\n",
       "      <th>Value</th>\n",
       "      <th>Name</th>\n",
       "      <th>Type</th>\n",
       "      <th>Impact_category (level 0)</th>\n",
       "      <th>Impact_category (level 1)</th>\n",
       "      <th>Impact_category (level 2)</th>\n",
       "      <th>Impact_category_unit</th>\n",
       "      <th>Functional unit</th>\n",
       "    </tr>\n",
       "  </thead>\n",
       "  <tbody>\n",
       "    <tr>\n",
       "      <th>0</th>\n",
       "      <td>(IMPACT World+ Damage 2.1 for ecoinvent v3.9, ...</td>\n",
       "      <td>7o46eq8iw2cke5jxtqh0f9b9b6vgn55j</td>\n",
       "      <td>202.379069</td>\n",
       "      <td>ALKALINE_ELECTROLYSIS</td>\n",
       "      <td>Construction</td>\n",
       "      <td>IMPACT World+ Damage 2.1 for ecoinvent v3.9</td>\n",
       "      <td>Ecosystem quality</td>\n",
       "      <td>Climate change, ecosystem quality, long term</td>\n",
       "      <td>PDF.m2.yr</td>\n",
       "      <td>kilowatt</td>\n",
       "    </tr>\n",
       "    <tr>\n",
       "      <th>1</th>\n",
       "      <td>(IMPACT World+ Damage 2.1 for ecoinvent v3.9, ...</td>\n",
       "      <td>7o46eq8iw2cke5jxtqh0f9b9b6vgn55j</td>\n",
       "      <td>62.987852</td>\n",
       "      <td>ALKALINE_ELECTROLYSIS</td>\n",
       "      <td>Construction</td>\n",
       "      <td>IMPACT World+ Damage 2.1 for ecoinvent v3.9</td>\n",
       "      <td>Ecosystem quality</td>\n",
       "      <td>Climate change, ecosystem quality, short term</td>\n",
       "      <td>PDF.m2.yr</td>\n",
       "      <td>kilowatt</td>\n",
       "    </tr>\n",
       "    <tr>\n",
       "      <th>2</th>\n",
       "      <td>(IMPACT World+ Damage 2.1 for ecoinvent v3.9, ...</td>\n",
       "      <td>7o46eq8iw2cke5jxtqh0f9b9b6vgn55j</td>\n",
       "      <td>0.002727</td>\n",
       "      <td>ALKALINE_ELECTROLYSIS</td>\n",
       "      <td>Construction</td>\n",
       "      <td>IMPACT World+ Damage 2.1 for ecoinvent v3.9</td>\n",
       "      <td>Human health</td>\n",
       "      <td>Climate change, human health, long term</td>\n",
       "      <td>DALY</td>\n",
       "      <td>kilowatt</td>\n",
       "    </tr>\n",
       "    <tr>\n",
       "      <th>3</th>\n",
       "      <td>(IMPACT World+ Damage 2.1 for ecoinvent v3.9, ...</td>\n",
       "      <td>7o46eq8iw2cke5jxtqh0f9b9b6vgn55j</td>\n",
       "      <td>0.000849</td>\n",
       "      <td>ALKALINE_ELECTROLYSIS</td>\n",
       "      <td>Construction</td>\n",
       "      <td>IMPACT World+ Damage 2.1 for ecoinvent v3.9</td>\n",
       "      <td>Human health</td>\n",
       "      <td>Climate change, human health, short term</td>\n",
       "      <td>DALY</td>\n",
       "      <td>kilowatt</td>\n",
       "    </tr>\n",
       "    <tr>\n",
       "      <th>4</th>\n",
       "      <td>(IMPACT World+ Midpoint 2.1 for ecoinvent v3.9...</td>\n",
       "      <td>7o46eq8iw2cke5jxtqh0f9b9b6vgn55j</td>\n",
       "      <td>510.711797</td>\n",
       "      <td>ALKALINE_ELECTROLYSIS</td>\n",
       "      <td>Construction</td>\n",
       "      <td>IMPACT World+ Midpoint 2.1 for ecoinvent v3.9</td>\n",
       "      <td>Midpoint</td>\n",
       "      <td>Climate change, long term</td>\n",
       "      <td>kg CO2 eq (long)</td>\n",
       "      <td>kilowatt</td>\n",
       "    </tr>\n",
       "  </tbody>\n",
       "</table>\n",
       "</div>"
      ]
     },
     "execution_count": 44,
     "metadata": {},
     "output_type": "execute_result"
    }
   ],
   "execution_count": 44
  },
  {
   "metadata": {
    "ExecuteTime": {
     "end_time": "2025-10-28T10:04:21.088777Z",
     "start_time": "2025-10-28T10:04:20.964971Z"
    }
   },
   "cell_type": "code",
   "source": "contrib_analysis_res.head()",
   "id": "66388d14aeabe646",
   "outputs": [
    {
     "data": {
      "text/plain": [
       "        score     amount                                  code    database  \\\n",
       "0  714.499604  72.171680  024c9722-1e88-412b-8c4b-10c532be8dca  biosphere3   \n",
       "1  714.499604  72.171680  024c9722-1e88-412b-8c4b-10c532be8dca  biosphere3   \n",
       "2    0.000050   0.001318  03b279a7-4626-4703-a451-d0650599dbd9  biosphere3   \n",
       "3    0.000044   0.001171  03b279a7-4626-4703-a451-d0650599dbd9  biosphere3   \n",
       "4    0.000004   0.001318  03b279a7-4626-4703-a451-d0650599dbd9  biosphere3   \n",
       "\n",
       "                                     impact_category  \\\n",
       "0  (IMPACT World+ Footprint 2.1 for ecoinvent v3....   \n",
       "1  (IMPACT World+ Midpoint 2.1 for ecoinvent v3.9...   \n",
       "2  (IMPACT World+ Damage 2.1 for ecoinvent v3.9, ...   \n",
       "3  (IMPACT World+ Footprint 2.1 for ecoinvent v3....   \n",
       "4  (IMPACT World+ Midpoint 2.1 for ecoinvent v3.9...   \n",
       "\n",
       "               act_database                          act_code  \\\n",
       "0  EnergyScope_CH_2050_Test  7o46eq8iw2cke5jxtqh0f9b9b6vgn55j   \n",
       "1  EnergyScope_CH_2050_Test  7o46eq8iw2cke5jxtqh0f9b9b6vgn55j   \n",
       "2  EnergyScope_CH_2050_Test  7o46eq8iw2cke5jxtqh0f9b9b6vgn55j   \n",
       "3  EnergyScope_CH_2050_Test  7o46eq8iw2cke5jxtqh0f9b9b6vgn55j   \n",
       "4  EnergyScope_CH_2050_Test  7o46eq8iw2cke5jxtqh0f9b9b6vgn55j   \n",
       "\n",
       "                act_name      act_type  \\\n",
       "0  ALKALINE_ELECTROLYSIS  Construction   \n",
       "1  ALKALINE_ELECTROLYSIS  Construction   \n",
       "2  ALKALINE_ELECTROLYSIS  Construction   \n",
       "3  ALKALINE_ELECTROLYSIS  Construction   \n",
       "4  ALKALINE_ELECTROLYSIS  Construction   \n",
       "\n",
       "                        impact_category (level 0)  \\\n",
       "0  IMPACT World+ Footprint 2.1 for ecoinvent v3.9   \n",
       "1   IMPACT World+ Midpoint 2.1 for ecoinvent v3.9   \n",
       "2     IMPACT World+ Damage 2.1 for ecoinvent v3.9   \n",
       "3  IMPACT World+ Footprint 2.1 for ecoinvent v3.9   \n",
       "4   IMPACT World+ Midpoint 2.1 for ecoinvent v3.9   \n",
       "\n",
       "      impact_category (level 1)          impact_category (level 2)  \\\n",
       "0  Energetic resource depletion                               None   \n",
       "1                      Midpoint      Fossil and nuclear energy use   \n",
       "2                  Human health  Human toxicity cancer, short term   \n",
       "3       Human health (residual)                               None   \n",
       "4                      Midpoint              Human toxicity cancer   \n",
       "\n",
       "  impact_category_unit                   Name          Type act_func_unit  \n",
       "0          MJ deprived  ALKALINE_ELECTROLYSIS  Construction      kilowatt  \n",
       "1          MJ deprived  ALKALINE_ELECTROLYSIS  Construction      kilowatt  \n",
       "2                 DALY  ALKALINE_ELECTROLYSIS  Construction      kilowatt  \n",
       "3                 DALY  ALKALINE_ELECTROLYSIS  Construction      kilowatt  \n",
       "4                 CTUh  ALKALINE_ELECTROLYSIS  Construction      kilowatt  "
      ],
      "text/html": [
       "<div>\n",
       "<style scoped>\n",
       "    .dataframe tbody tr th:only-of-type {\n",
       "        vertical-align: middle;\n",
       "    }\n",
       "\n",
       "    .dataframe tbody tr th {\n",
       "        vertical-align: top;\n",
       "    }\n",
       "\n",
       "    .dataframe thead th {\n",
       "        text-align: right;\n",
       "    }\n",
       "</style>\n",
       "<table border=\"1\" class=\"dataframe\">\n",
       "  <thead>\n",
       "    <tr style=\"text-align: right;\">\n",
       "      <th></th>\n",
       "      <th>score</th>\n",
       "      <th>amount</th>\n",
       "      <th>code</th>\n",
       "      <th>database</th>\n",
       "      <th>impact_category</th>\n",
       "      <th>act_database</th>\n",
       "      <th>act_code</th>\n",
       "      <th>act_name</th>\n",
       "      <th>act_type</th>\n",
       "      <th>impact_category (level 0)</th>\n",
       "      <th>impact_category (level 1)</th>\n",
       "      <th>impact_category (level 2)</th>\n",
       "      <th>impact_category_unit</th>\n",
       "      <th>Name</th>\n",
       "      <th>Type</th>\n",
       "      <th>act_func_unit</th>\n",
       "    </tr>\n",
       "  </thead>\n",
       "  <tbody>\n",
       "    <tr>\n",
       "      <th>0</th>\n",
       "      <td>714.499604</td>\n",
       "      <td>72.171680</td>\n",
       "      <td>024c9722-1e88-412b-8c4b-10c532be8dca</td>\n",
       "      <td>biosphere3</td>\n",
       "      <td>(IMPACT World+ Footprint 2.1 for ecoinvent v3....</td>\n",
       "      <td>EnergyScope_CH_2050_Test</td>\n",
       "      <td>7o46eq8iw2cke5jxtqh0f9b9b6vgn55j</td>\n",
       "      <td>ALKALINE_ELECTROLYSIS</td>\n",
       "      <td>Construction</td>\n",
       "      <td>IMPACT World+ Footprint 2.1 for ecoinvent v3.9</td>\n",
       "      <td>Energetic resource depletion</td>\n",
       "      <td>None</td>\n",
       "      <td>MJ deprived</td>\n",
       "      <td>ALKALINE_ELECTROLYSIS</td>\n",
       "      <td>Construction</td>\n",
       "      <td>kilowatt</td>\n",
       "    </tr>\n",
       "    <tr>\n",
       "      <th>1</th>\n",
       "      <td>714.499604</td>\n",
       "      <td>72.171680</td>\n",
       "      <td>024c9722-1e88-412b-8c4b-10c532be8dca</td>\n",
       "      <td>biosphere3</td>\n",
       "      <td>(IMPACT World+ Midpoint 2.1 for ecoinvent v3.9...</td>\n",
       "      <td>EnergyScope_CH_2050_Test</td>\n",
       "      <td>7o46eq8iw2cke5jxtqh0f9b9b6vgn55j</td>\n",
       "      <td>ALKALINE_ELECTROLYSIS</td>\n",
       "      <td>Construction</td>\n",
       "      <td>IMPACT World+ Midpoint 2.1 for ecoinvent v3.9</td>\n",
       "      <td>Midpoint</td>\n",
       "      <td>Fossil and nuclear energy use</td>\n",
       "      <td>MJ deprived</td>\n",
       "      <td>ALKALINE_ELECTROLYSIS</td>\n",
       "      <td>Construction</td>\n",
       "      <td>kilowatt</td>\n",
       "    </tr>\n",
       "    <tr>\n",
       "      <th>2</th>\n",
       "      <td>0.000050</td>\n",
       "      <td>0.001318</td>\n",
       "      <td>03b279a7-4626-4703-a451-d0650599dbd9</td>\n",
       "      <td>biosphere3</td>\n",
       "      <td>(IMPACT World+ Damage 2.1 for ecoinvent v3.9, ...</td>\n",
       "      <td>EnergyScope_CH_2050_Test</td>\n",
       "      <td>7o46eq8iw2cke5jxtqh0f9b9b6vgn55j</td>\n",
       "      <td>ALKALINE_ELECTROLYSIS</td>\n",
       "      <td>Construction</td>\n",
       "      <td>IMPACT World+ Damage 2.1 for ecoinvent v3.9</td>\n",
       "      <td>Human health</td>\n",
       "      <td>Human toxicity cancer, short term</td>\n",
       "      <td>DALY</td>\n",
       "      <td>ALKALINE_ELECTROLYSIS</td>\n",
       "      <td>Construction</td>\n",
       "      <td>kilowatt</td>\n",
       "    </tr>\n",
       "    <tr>\n",
       "      <th>3</th>\n",
       "      <td>0.000044</td>\n",
       "      <td>0.001171</td>\n",
       "      <td>03b279a7-4626-4703-a451-d0650599dbd9</td>\n",
       "      <td>biosphere3</td>\n",
       "      <td>(IMPACT World+ Footprint 2.1 for ecoinvent v3....</td>\n",
       "      <td>EnergyScope_CH_2050_Test</td>\n",
       "      <td>7o46eq8iw2cke5jxtqh0f9b9b6vgn55j</td>\n",
       "      <td>ALKALINE_ELECTROLYSIS</td>\n",
       "      <td>Construction</td>\n",
       "      <td>IMPACT World+ Footprint 2.1 for ecoinvent v3.9</td>\n",
       "      <td>Human health (residual)</td>\n",
       "      <td>None</td>\n",
       "      <td>DALY</td>\n",
       "      <td>ALKALINE_ELECTROLYSIS</td>\n",
       "      <td>Construction</td>\n",
       "      <td>kilowatt</td>\n",
       "    </tr>\n",
       "    <tr>\n",
       "      <th>4</th>\n",
       "      <td>0.000004</td>\n",
       "      <td>0.001318</td>\n",
       "      <td>03b279a7-4626-4703-a451-d0650599dbd9</td>\n",
       "      <td>biosphere3</td>\n",
       "      <td>(IMPACT World+ Midpoint 2.1 for ecoinvent v3.9...</td>\n",
       "      <td>EnergyScope_CH_2050_Test</td>\n",
       "      <td>7o46eq8iw2cke5jxtqh0f9b9b6vgn55j</td>\n",
       "      <td>ALKALINE_ELECTROLYSIS</td>\n",
       "      <td>Construction</td>\n",
       "      <td>IMPACT World+ Midpoint 2.1 for ecoinvent v3.9</td>\n",
       "      <td>Midpoint</td>\n",
       "      <td>Human toxicity cancer</td>\n",
       "      <td>CTUh</td>\n",
       "      <td>ALKALINE_ELECTROLYSIS</td>\n",
       "      <td>Construction</td>\n",
       "      <td>kilowatt</td>\n",
       "    </tr>\n",
       "  </tbody>\n",
       "</table>\n",
       "</div>"
      ]
     },
     "execution_count": 45,
     "metadata": {},
     "output_type": "execute_result"
    }
   ],
   "execution_count": 45
  },
  {
   "metadata": {},
   "cell_type": "markdown",
   "source": "## Convert the results in an AMPL format",
   "id": "eced4286c9628abb"
  },
  {
   "metadata": {
    "ExecuteTime": {
     "end_time": "2025-10-28T08:43:12.541473Z",
     "start_time": "2025-10-28T08:43:12.336994Z"
    }
   },
   "cell_type": "code",
   "source": [
    "# To skip the previous steps\n",
    "# R_long = pd.read_csv(f'results/energyscope_{esm_location}/{esm_year}/impact_scores.csv')\n",
    "# R_long_direct_emissions = pd.read_csv(f'results/energyscope_{esm_location}/{esm_year}/impact_scores_direct_emissions.csv')"
   ],
   "id": "34a01c8bb7ba33d7",
   "outputs": [],
   "execution_count": 44
  },
  {
   "metadata": {
    "ExecuteTime": {
     "end_time": "2025-10-28T08:43:12.809665Z",
     "start_time": "2025-10-28T08:43:12.587565Z"
    }
   },
   "cell_type": "code",
   "source": "R_long.Value *= 1e6 # from FU / kW(h)-pkm-tkm to FU / GW(h)-Mpkm-Mtkm",
   "id": "e0cc31ee7f0e09d9",
   "outputs": [],
   "execution_count": 45
  },
  {
   "metadata": {
    "ExecuteTime": {
     "end_time": "2025-10-28T08:43:13.042782Z",
     "start_time": "2025-10-28T08:43:12.833555Z"
    }
   },
   "cell_type": "code",
   "source": "R_long_direct_emissions.Value *= 1e6 # from FU / kW(h)-pkm-tkm to FU / GW(h)-Mpkm-Mtkm",
   "id": "28226e74db6fab3c",
   "outputs": [],
   "execution_count": 46
  },
  {
   "metadata": {
    "ExecuteTime": {
     "end_time": "2025-10-28T09:04:16.904998Z",
     "start_time": "2025-10-28T09:04:16.727801Z"
    }
   },
   "cell_type": "code",
   "source": [
    "# Tou can specify which specific LCIA methods or impact categories you wish to use using one of the three following options:\n",
    "specific_lcia_methods = [f'IMPACT World+ Footprint 2.1 for ecoinvent v{ecoinvent_main_version}'] # selects the specific methods via their names\n",
    "# specific_lcia_categories = ['Total ecosystem quality', 'Total human health']  # selects the specific impact categories via their names \n",
    "# specific_lcia_abbrev = ['TTHH', 'TTEQ', 'm_CCS'] # selects the specific impact categories via their abbreviations"
   ],
   "id": "6d4128137d2a0b5e",
   "outputs": [],
   "execution_count": 60
  },
  {
   "metadata": {
    "ExecuteTime": {
     "end_time": "2025-10-28T09:01:26.264618Z",
     "start_time": "2025-10-28T09:01:26.074467Z"
    }
   },
   "cell_type": "code",
   "source": [
    "# Additional information that can be added at the beginning of the AMPL .mod and .dat files\n",
    "metadata = {\n",
    "    'ecoinvent_version': ecoinvent_version,\n",
    "    'year': esm_year,\n",
    "    'spatialized': spatialized_database,\n",
    "    'regionalized': regionalize_foregrounds,\n",
    "    'iam': premise_iam,\n",
    "    'ssp_rcp': premise_ssp_rcp,\n",
    "    'lcia_methods': lcia_methods,\n",
    "}"
   ],
   "id": "5a63cc009a68125f",
   "outputs": [],
   "execution_count": 55
  },
  {
   "metadata": {},
   "cell_type": "markdown",
   "source": "### Normalize LCA indicators and create the .dat file",
   "id": "d3b36a88c73fce21"
  },
  {
   "metadata": {
    "ExecuteTime": {
     "end_time": "2025-10-28T09:04:19.324603Z",
     "start_time": "2025-10-28T09:04:18.943919Z"
    }
   },
   "cell_type": "code",
   "source": [
    "esm.normalize_lca_metrics(\n",
    "    R=R_long,\n",
    "    mip_gap=1e-6,\n",
    "    lcia_methods=specific_lcia_methods,\n",
    "    impact_abbrev=impact_abbrev,\n",
    "    path=f'results/energyscope_{esm_location}/{esm_year}/',\n",
    "    metadata=metadata,\n",
    ")"
   ],
   "id": "dd3b491c4e3d8ebb",
   "outputs": [],
   "execution_count": 61
  },
  {
   "metadata": {
    "ExecuteTime": {
     "end_time": "2025-10-28T09:05:27.522180Z",
     "start_time": "2025-10-28T09:05:27.140225Z"
    }
   },
   "cell_type": "code",
   "source": [
    "esm.normalize_lca_metrics(\n",
    "    R=R_long_direct_emissions,\n",
    "    mip_gap=1e-6,\n",
    "    lcia_methods=lcia_methods,\n",
    "    # specific_lcia_abbrev=specific_lcia_abbrev,\n",
    "    assessment_type='direct emissions',\n",
    "    max_per_cat=pd.read_csv(f'results/energyscope_{esm_location}/{esm_year}/techs_lcia_max.csv'),\n",
    "    impact_abbrev=impact_abbrev,\n",
    "    path=f'results/energyscope_{esm_location}/{esm_year}/',\n",
    "    metadata=metadata,\n",
    "    file_name='techs_lcia_direct',\n",
    ")"
   ],
   "id": "41a2a5e465273dab",
   "outputs": [],
   "execution_count": 64
  },
  {
   "metadata": {},
   "cell_type": "markdown",
   "source": "### Create the .mod file",
   "id": "66b13911bb933dc5"
  },
  {
   "metadata": {
    "ExecuteTime": {
     "end_time": "2025-10-28T09:05:30.673651Z",
     "start_time": "2025-10-28T09:05:30.499286Z"
    }
   },
   "cell_type": "code",
   "source": [
    "esm.generate_mod_file_ampl(\n",
    "    lcia_methods=specific_lcia_methods,\n",
    "    # specific_lcia_abbrev=specific_lcia_abbrev,\n",
    "    impact_abbrev=impact_abbrev,\n",
    "    path=f'results/energyscope_{esm_location}/{esm_year}/',\n",
    "    metadata=metadata,\n",
    ")"
   ],
   "id": "d481ec84345d14d0",
   "outputs": [],
   "execution_count": 65
  },
  {
   "metadata": {
    "ExecuteTime": {
     "end_time": "2025-10-28T09:05:31.626267Z",
     "start_time": "2025-10-28T09:05:31.462277Z"
    }
   },
   "cell_type": "code",
   "source": [
    "esm.generate_mod_file_ampl(\n",
    "    lcia_methods=lcia_methods,\n",
    "    # specific_lcia_abbrev=specific_lcia_abbrev,\n",
    "    assessment_type='direct emissions',\n",
    "    impact_abbrev=impact_abbrev,\n",
    "    path=f'results/energyscope_{esm_location}/{esm_year}/',\n",
    "    metadata=metadata,\n",
    "    file_name='objectives_direct',\n",
    ")"
   ],
   "id": "f7e8ab19511f4a5f",
   "outputs": [],
   "execution_count": 66
  },
  {
   "metadata": {},
   "cell_type": "markdown",
   "source": "## Integrate the ESM results back in the LCI database",
   "id": "9851a5bde60e6e51"
  },
  {
   "metadata": {},
   "cell_type": "code",
   "source": [
    "esm.create_new_database_with_esm_results(\n",
    "    esm_results=results_from_esm,\n",
    "    new_end_use_types=new_end_use_types,\n",
    "    tech_to_remove_layers=technologies_to_remove_from_layers,\n",
    "    write_database=True,\n",
    "    remove_background_construction_flows=True,\n",
    "    harmonize_with_esm=False,\n",
    ")"
   ],
   "id": "4730e3ad33f56345",
   "outputs": [],
   "execution_count": null
  },
  {
   "metadata": {},
   "cell_type": "code",
   "source": "esm.connect_esm_results_to_database(create_new_db=True)",
   "id": "d3a3766a8cb0cbe6",
   "outputs": [],
   "execution_count": null
  }
 ],
 "metadata": {
  "kernelspec": {
   "display_name": "Python 3",
   "language": "python",
   "name": "python3"
  },
  "language_info": {
   "codemirror_mode": {
    "name": "ipython",
    "version": 2
   },
   "file_extension": ".py",
   "mimetype": "text/x-python",
   "name": "python",
   "nbconvert_exporter": "python",
   "pygments_lexer": "ipython2",
   "version": "2.7.6"
  }
 },
 "nbformat": 4,
 "nbformat_minor": 5
}
